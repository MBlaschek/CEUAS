{
 "cells": [
  {
   "cell_type": "code",
   "execution_count": 121,
   "metadata": {
    "tags": []
   },
   "outputs": [],
   "source": [
    "import pandas as pd\n",
    "import os\n",
    "import plotly\n",
    "import plotly.express as px\n",
    "import plotly.graph_objects as go\n",
    "#import dash  # (version 1.12.0) pip install dash\n",
    "import dash_core_components as dcc\n",
    "import dash_html_components as html\n",
    "from dash.dependencies import Input, Output\n",
    "\n",
    "import numpy as np \n",
    "from jupyter_dash import JupyterDash\n",
    "import dash_bootstrap_components as dbc\n",
    "\n",
    "#app = dash.Dash(__name__ , external_stylesheets= [dbc.themes.CYBORG])\n",
    "app = JupyterDash(__name__, external_stylesheets= [dbc.themes.CYBORG])"
   ]
  },
  {
   "cell_type": "code",
   "execution_count": 122,
   "metadata": {
    "tags": []
   },
   "outputs": [],
   "source": [
    "def make_total_dataframe():\n",
    "    \"\"\" Making a global stat_conf dataframe \"\"\"\n",
    "    all_stat = []\n",
    "    conf = [f for f in os.listdir('data') if '_meta' in f ]\n",
    "    for c in conf:\n",
    "        df = pd.read_csv('data/' + c, sep = '\\t')\n",
    "\n",
    "        df = df[['primary_id', 'latitude', 'longitude', 'station_name']]\n",
    "        inv = c.split('_meta')[0]\n",
    "        df['dataset'] = inv\n",
    "\n",
    "        all_stat.append(df)\n",
    "\n",
    "    all_df = pd.concat(all_stat)\n",
    "\n",
    "    return all_df\n",
    "\n",
    "\n",
    "all_stat_conf = make_total_dataframe()"
   ]
  },
  {
   "cell_type": "code",
   "execution_count": 123,
   "metadata": {
    "tags": []
   },
   "outputs": [],
   "source": [
    "\"\"\" Setting the APP LAYOUT \n",
    "What goes inside the app layout is your dash components,\n",
    "with the graphs, layouts, checkboxes\n",
    "anything that is listed here: https://dash.plotly.com/dash-core-components \n",
    "\n",
    "\"\"\"\n",
    "\n",
    "app.layout = html.Div([\n",
    "    # title of our web page\n",
    "    html.H1(\"Distributions of Stations\", style={'text-align': 'center'}),\n",
    "    html.Br(),  # Br is a break i.e. a space in between\n",
    "    # label and the key is what actually the user is going to see\n",
    "    # values are integer since they come from the pandas dataframe and they are integer there\n",
    "\n",
    "    dcc.Dropdown(id=\"dataset\",\n",
    "\n",
    "                 options=[\n",
    "                     {\"label\": \"ERA5_1\", \"value\": \"1\"},\n",
    "                     {\"label\": \"ERA5_2\", \"value\": \"2\"},\n",
    "                     {\"label\": \"ERA5_1759\", \"value\": \"1759\"},\n",
    "                     {\"label\": \"ERA5_1761\", \"value\": \"1761\"},\n",
    "                     {\"label\": \"ERA5_3188\", \"value\": \"3188\"},\n",
    "                     {\"label\": \"NCAR\", \"value\": \"rda\"},\n",
    "                     {\"label\": \"IGRA2\", \"value\": \"igra2\"},\n",
    "                 ],\n",
    "\n",
    "                 multi=False,\n",
    "                 value=\"1\", # this is the initial value displayed in the dropwdow\n",
    "                 style={'width': \"40%\"}\n",
    "                 ),\n",
    "\n",
    "    #html.Div(id='output_container', children=[]),\n",
    "    html.Br(),  # Br is a break i.e. a space in between\n",
    "    dcc.Graph(id='mappa', figure={} , style={'width': '100vh', 'height': '60vh'}),\n",
    "    html.Br(),  # Br is a break i.e. a space in between\n",
    "    dcc.Graph(id='bars', figure={}, style={'width': '90vh', 'height': '50vh'})\n",
    "    \n",
    "    #dcc.Graph(id='mappa', figure={}),\n",
    "    #html.Br(),  # Br is a break i.e. a space in between\n",
    "    #dcc.Graph(id='bars', figure={})\n",
    "    \n",
    "\n",
    "])"
   ]
  },
  {
   "cell_type": "code",
   "execution_count": 124,
   "metadata": {
    "tags": []
   },
   "outputs": [],
   "source": [
    "@app.callback(\n",
    "    [Output(component_id='mappa', component_property='figure'),\n",
    "     Output(component_id='bars', component_property='figure')\n",
    "     ],\n",
    "    [Input(component_id='dataset', component_property='value')])\n",
    "\n",
    "def update_plots(dataset):\n",
    "\n",
    "    \"\"\" map plot \"\"\"\n",
    "    font = 15\n",
    "    # select the dataset\n",
    "    df = all_stat_conf.loc [ all_stat_conf['dataset'] == dataset ]\n",
    "\n",
    "\n",
    "        \n",
    "    def do_map(df):\n",
    "        miss, valid = [],[]\n",
    "        ids = df['primary_id']\n",
    "        \n",
    "        for i,ind in zip(ids,range(len(ids)) ):\n",
    "            if '0-20' not in i:\n",
    "                    miss.append(ind)\n",
    "            else:\n",
    "                valid.append(ind)\n",
    "                \n",
    "        miss_df = df.iloc[miss]\n",
    "        df_valid = df.loc[valid]\n",
    "        fig = go.Figure()\n",
    "        \n",
    "        fig.add_trace( go.Scattergeo(lat=df_valid.latitude, \n",
    "                                     lon=df_valid.longitude,\n",
    "                                     text = df_valid.primary_id,\n",
    "                                     name = 'Identified  ' + str(len(df_valid))\n",
    "                             #hover_name=\"primary_id\",\n",
    "                             #hover_data = ['station_name'],\n",
    "                             #width=1000, height=600\n",
    "                             ) )\n",
    "        \n",
    "        fig.add_trace(go.Scattergeo (lat=miss_df.latitude, \n",
    "                                     lon=miss_df.longitude,\n",
    "                                     name = 'Missing  ' + str(len(miss_df))\n",
    "                             #hover_name=\"primary_id\",\n",
    "                             #hover_data = ['station_name'],\n",
    "                             #width=1000, height=600\n",
    "                              ) )\n",
    "\n",
    "        if dataset =='1759':   \n",
    "            mismatch = pd.read_csv('data/lat_mismatch.csv', sep = '\\t')        \n",
    "            \n",
    "            fig.add_trace(go.Scattergeo (lat=mismatch.file_lat, \n",
    "                                     lon=mismatch.file_lon,\n",
    "                                     text = df.primary_id,\n",
    "                                     name = 'Latitude mismatch  ' + str(len(mismatch))\n",
    "                             #hover_name=\"primary_id\",\n",
    "                             #hover_data = ['station_name'],\n",
    "                             #width=1000, height=600\n",
    "                              ) )\n",
    "        \n",
    "        \n",
    "        fig.update_layout(\n",
    "            title_text= '[' + str(len(df)) + ']  Station (1900-2020)' ,\n",
    "            # title_xanchor=\"center\",\n",
    "            title_font=dict(size=font + 6), title_x=0.5,\n",
    "            font=dict( size=font, ),\n",
    "            hoverlabel=dict( font_size=18, )\n",
    "        )\n",
    "\n",
    "        return fig\n",
    "\n",
    "    def do_bars(df):\n",
    "        inventories = ['oscar', 'igra2', 'wban', 'chuan', 'missing']\n",
    "\n",
    "        counts = {}\n",
    "        \n",
    "        primary = df['primary_id']\n",
    "        for l in ['20000-', '20001-', '20300-', '20400-', '20500-']:\n",
    "            counts[l] = len([ s for s in primary if l in s ])\n",
    "\n",
    "\n",
    "        data = [ counts['20000-'] + counts['20001-'],\n",
    "                counts['20300-'],\n",
    "                counts['20400-'],\n",
    "                counts['20500-'] ]\n",
    "\n",
    "        counts['missing'] = len(df) - sum(data)\n",
    "        \n",
    "        data.append(counts['missing'])\n",
    "\n",
    "        bar = px.bar(data, x=inventories, y=data, title=\"Inventories\" )\n",
    "\n",
    "        return bar\n",
    "\n",
    "    mappa = do_map(df)\n",
    "    bars = do_bars(df)\n",
    "\n",
    "    return [mappa, bars] # NB must always return a list even if you have one output only, due to @app\n"
   ]
  },
  {
   "cell_type": "code",
   "execution_count": 125,
   "metadata": {},
   "outputs": [
    {
     "data": {
      "text/html": [
       "\n",
       "        <iframe\n",
       "            width=\"100%\"\n",
       "            height=\"650\"\n",
       "            src=\"http://127.0.0.1:8050/\"\n",
       "            frameborder=\"0\"\n",
       "            allowfullscreen\n",
       "        ></iframe>\n",
       "        "
      ],
      "text/plain": [
       "<IPython.lib.display.IFrame at 0x7f78c49d5070>"
      ]
     },
     "metadata": {},
     "output_type": "display_data"
    }
   ],
   "source": [
    "if __name__ == '__main__':\n",
    "    #app.run_server(mode = 'inline', debug=True)\n",
    "    app.run_server(mode='inline')\n",
    "    # app.run_server(host='0.0.0.0', debug=True)"
   ]
  },
  {
   "cell_type": "code",
   "execution_count": null,
   "metadata": {},
   "outputs": [],
   "source": []
  },
  {
   "cell_type": "code",
   "execution_count": null,
   "metadata": {},
   "outputs": [],
   "source": []
  },
  {
   "cell_type": "code",
   "execution_count": null,
   "metadata": {},
   "outputs": [],
   "source": []
  },
  {
   "cell_type": "code",
   "execution_count": null,
   "metadata": {},
   "outputs": [],
   "source": []
  },
  {
   "cell_type": "code",
   "execution_count": null,
   "metadata": {},
   "outputs": [],
   "source": []
  },
  {
   "cell_type": "code",
   "execution_count": null,
   "metadata": {},
   "outputs": [],
   "source": []
  }
 ],
 "metadata": {
  "kernelspec": {
   "display_name": "DataScience",
   "language": "python",
   "name": "datascience"
  },
  "language_info": {
   "codemirror_mode": {
    "name": "ipython",
    "version": 3
   },
   "file_extension": ".py",
   "mimetype": "text/x-python",
   "name": "python",
   "nbconvert_exporter": "python",
   "pygments_lexer": "ipython3",
   "version": "3.8.5"
  }
 },
 "nbformat": 4,
 "nbformat_minor": 4
}
