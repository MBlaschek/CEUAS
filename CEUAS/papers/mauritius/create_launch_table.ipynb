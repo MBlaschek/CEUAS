{
 "cells": [
  {
   "cell_type": "markdown",
   "id": "4a2322ab-fb0e-4a71-9ca5-4d95b1cdc035",
   "metadata": {},
   "source": [
    "### PAPER UTILS\n",
    "\n",
    "\n",
    "Collection of useful scipts to create what is needed for the paper"
   ]
  },
  {
   "cell_type": "markdown",
   "id": "0899a27b-3615-42fe-8477-bb0dc8870285",
   "metadata": {},
   "source": [
    "## Create launch table"
   ]
  },
  {
   "cell_type": "code",
   "execution_count": 30,
   "id": "cd5b4bbe-315f-474a-9e03-7263babba0ff",
   "metadata": {},
   "outputs": [],
   "source": [
    "import numpy as np\n",
    "import pandas as pd \n",
    "import os,sys\n",
    "\n",
    "\n",
    "digitized = '/scratch/das/federico/databases_service2/MAURITIUS/'\n",
    "\n",
    "sonde_types = list( np.unique( [ f.split('_')[1].split('.csv')[0] for f in os.listdir(digitized+'/temp/') if '.csv' in f  ]) )\n"
   ]
  },
  {
   "cell_type": "code",
   "execution_count": 12,
   "id": "927f31b4-e7c0-4119-917a-51f76a3af9dc",
   "metadata": {},
   "outputs": [],
   "source": [
    "temp = {}\n",
    "hum = {}\n",
    "\n",
    "launches = list(range(1,69) )"
   ]
  },
  {
   "cell_type": "code",
   "execution_count": 17,
   "id": "bc40ce5b-e888-416d-bfd4-15e24643d184",
   "metadata": {},
   "outputs": [],
   "source": [
    "for l in launches:\n",
    "    temp[l] = []\n",
    "    hum[l] = []\n",
    "\n",
    "    if l < 10:\n",
    "        launch_num = '0' + str(l)\n",
    "    else:\n",
    "        launch_num = str(l)\n",
    "        \n",
    "    for s in sonde_types:\n",
    "\n",
    "        if os.path.isfile(digitized + '/hum/' + launch_num + '_' + s + '.csv' ):\n",
    "            hum[l].append(s)\n",
    "        if os.path.isfile(digitized + '/hum/' + launch_num + '_' + s + '.csv' ):\n",
    "            temp[l].append(s)           \n",
    "\n",
    "\n",
    "\n",
    "\n",
    "    "
   ]
  },
  {
   "cell_type": "code",
   "execution_count": 36,
   "id": "9cbea79e-c213-44c3-971e-bf08c75cf028",
   "metadata": {},
   "outputs": [],
   "source": [
    "# create latex table\n",
    "\n",
    "lines = []\n",
    "\n",
    "line_header = 'Launch & '\n",
    "for s in sonde_types:\n",
    "    line_header = line_header + ' ' + s + ' ' \n",
    "    if sonde_types.index(s) !=8:\n",
    "        line_header = line_header + ' & ' \n",
    "\n",
    "line_header = line_header + \"\\\\\" "
   ]
  },
  {
   "cell_type": "code",
   "execution_count": 37,
   "id": "77637749-f67b-4ae7-8152-6e782ce64d49",
   "metadata": {},
   "outputs": [
    {
     "data": {
      "text/plain": [
       "'Launch &  Graw  &  Graw-GPS  &  MKII  &  Meisei  &  Modem  &  SRS  &  Sip  &  Vaisala  &  Vaisala-GPS \\\\'"
      ]
     },
     "execution_count": 37,
     "metadata": {},
     "output_type": "execute_result"
    }
   ],
   "source": [
    "line_header"
   ]
  },
  {
   "cell_type": "code",
   "execution_count": 53,
   "id": "70cc2c9f-1601-4514-8271-f7888bb0c596",
   "metadata": {},
   "outputs": [],
   "source": [
    "lines = []\n",
    "for l in launches:\n",
    "    line = str(l) + ' & '\n",
    "    for s in sonde_types:\n",
    "        if s in hum[l]:\n",
    "            ishum='Y'\n",
    "        else:\n",
    "            ishum = 'N'\n",
    "\n",
    "        if s in temp[l]:\n",
    "            istemp='Y'\n",
    "        else:\n",
    "            istemp = 'N'\n",
    "\n",
    "        line = line + ishum + '/' + istemp   \n",
    "        if sonde_types.index(s) !=8:\n",
    "            line = line + ' & ' \n",
    "    line = line + r'\\\\' \n",
    "    lines.append(line)\n",
    "    "
   ]
  },
  {
   "cell_type": "code",
   "execution_count": 54,
   "id": "072a9eba-397d-48db-9bad-db7dacc52140",
   "metadata": {},
   "outputs": [
    {
     "name": "stdout",
     "output_type": "stream",
     "text": [
      "1 & N/N & N/N & N/N & Y/Y & Y/Y & N/N & N/N & Y/Y & Y/Y\\\\\n",
      "2 & Y/Y & Y/Y & N/N & N/N & N/N & Y/Y & Y/Y & Y/Y & Y/Y\\\\\n",
      "3 & N/N & N/N & N/N & Y/Y & Y/Y & N/N & N/N & Y/Y & Y/Y\\\\\n",
      "4 & Y/Y & Y/Y & N/N & N/N & N/N & Y/Y & Y/Y & Y/Y & Y/Y\\\\\n",
      "5 & N/N & N/N & N/N & Y/Y & Y/Y & N/N & N/N & Y/Y & Y/Y\\\\\n",
      "6 & Y/Y & Y/Y & N/N & N/N & N/N & N/N & Y/Y & Y/Y & Y/Y\\\\\n",
      "7 & N/N & N/N & N/N & Y/Y & Y/Y & Y/Y & N/N & Y/Y & Y/Y\\\\\n",
      "8 & Y/Y & Y/Y & N/N & N/N & N/N & N/N & Y/Y & Y/Y & Y/Y\\\\\n",
      "9 & N/N & N/N & N/N & Y/Y & Y/Y & Y/Y & N/N & Y/Y & Y/Y\\\\\n",
      "10 & Y/Y & Y/Y & N/N & N/N & N/N & Y/Y & Y/Y & Y/Y & Y/Y\\\\\n",
      "11 & N/N & N/N & N/N & Y/Y & Y/Y & N/N & N/N & Y/Y & Y/Y\\\\\n",
      "12 & Y/Y & Y/Y & N/N & N/N & N/N & Y/Y & Y/Y & Y/Y & Y/Y\\\\\n",
      "13 & N/N & N/N & Y/Y & Y/Y & Y/Y & N/N & N/N & Y/Y & Y/Y\\\\\n",
      "14 & Y/Y & Y/Y & N/N & N/N & N/N & Y/Y & Y/Y & Y/Y & Y/Y\\\\\n",
      "15 & N/N & N/N & N/N & Y/Y & Y/Y & Y/Y & N/N & Y/Y & Y/Y\\\\\n",
      "16 & Y/Y & Y/Y & Y/Y & N/N & N/N & N/N & Y/Y & Y/Y & Y/Y\\\\\n",
      "17 & N/N & N/N & N/N & Y/Y & Y/Y & Y/Y & N/N & Y/Y & Y/Y\\\\\n",
      "18 & N/N & N/N & N/N & N/N & N/N & Y/Y & Y/Y & Y/Y & Y/Y\\\\\n",
      "19 & N/N & N/N & N/N & Y/Y & Y/Y & N/N & N/N & Y/Y & Y/Y\\\\\n",
      "20 & Y/Y & Y/Y & N/N & N/N & N/N & Y/Y & Y/Y & Y/Y & Y/Y\\\\\n",
      "21 & N/N & N/N & Y/Y & Y/Y & Y/Y & N/N & N/N & N/N & N/N\\\\\n",
      "22 & Y/Y & Y/Y & N/N & N/N & N/N & N/N & Y/Y & Y/Y & Y/Y\\\\\n",
      "23 & N/N & N/N & N/N & Y/Y & Y/Y & Y/Y & N/N & Y/Y & Y/Y\\\\\n",
      "24 & N/N & N/N & N/N & N/N & N/N & N/N & N/N & N/N & N/N\\\\\n",
      "25 & Y/Y & Y/Y & N/N & N/N & N/N & N/N & Y/Y & Y/Y & Y/Y\\\\\n",
      "26 & N/N & N/N & N/N & Y/Y & Y/Y & Y/Y & N/N & Y/Y & Y/Y\\\\\n",
      "27 & Y/Y & N/N & N/N & N/N & N/N & Y/Y & Y/Y & Y/Y & Y/Y\\\\\n",
      "28 & N/N & N/N & N/N & Y/Y & Y/Y & N/N & N/N & Y/Y & Y/Y\\\\\n",
      "29 & Y/Y & N/N & N/N & N/N & N/N & Y/Y & Y/Y & Y/Y & Y/Y\\\\\n",
      "30 & N/N & N/N & Y/Y & Y/Y & Y/Y & N/N & N/N & Y/Y & Y/Y\\\\\n",
      "31 & Y/Y & Y/Y & N/N & N/N & N/N & N/N & Y/Y & Y/Y & Y/Y\\\\\n",
      "32 & N/N & N/N & N/N & Y/Y & N/N & Y/Y & N/N & Y/Y & Y/Y\\\\\n",
      "33 & Y/Y & Y/Y & N/N & N/N & N/N & N/N & Y/Y & Y/Y & Y/Y\\\\\n",
      "34 & N/N & N/N & N/N & Y/Y & Y/Y & Y/Y & N/N & Y/Y & Y/Y\\\\\n",
      "35 & Y/Y & Y/Y & N/N & N/N & N/N & Y/Y & Y/Y & Y/Y & Y/Y\\\\\n",
      "36 & N/N & N/N & N/N & Y/Y & Y/Y & N/N & N/N & Y/Y & Y/Y\\\\\n",
      "37 & N/N & N/N & N/N & N/N & N/N & N/N & N/N & N/N & N/N\\\\\n",
      "38 & N/N & N/N & Y/Y & Y/Y & N/N & N/N & N/N & Y/Y & Y/Y\\\\\n",
      "39 & Y/Y & Y/Y & Y/Y & N/N & N/N & N/N & Y/Y & Y/Y & Y/Y\\\\\n",
      "40 & N/N & N/N & N/N & Y/Y & Y/Y & Y/Y & N/N & Y/Y & Y/Y\\\\\n",
      "41 & Y/Y & Y/Y & Y/Y & N/N & N/N & N/N & Y/Y & Y/Y & Y/Y\\\\\n",
      "42 & N/N & N/N & Y/Y & Y/Y & Y/Y & Y/Y & N/N & Y/Y & Y/Y\\\\\n",
      "43 & Y/Y & Y/Y & N/N & N/N & N/N & Y/Y & Y/Y & Y/Y & Y/Y\\\\\n",
      "44 & N/N & N/N & N/N & Y/Y & Y/Y & N/N & N/N & Y/Y & Y/Y\\\\\n",
      "45 & N/N & N/N & Y/Y & N/N & N/N & Y/Y & Y/Y & Y/Y & Y/Y\\\\\n",
      "46 & N/N & N/N & N/N & N/N & N/N & N/N & N/N & N/N & N/N\\\\\n",
      "47 & Y/Y & Y/Y & Y/Y & N/N & N/N & N/N & Y/Y & Y/Y & Y/Y\\\\\n",
      "48 & N/N & N/N & N/N & Y/Y & N/N & Y/Y & N/N & Y/Y & Y/Y\\\\\n",
      "49 & N/N & N/N & N/N & N/N & N/N & N/N & N/N & N/N & N/N\\\\\n",
      "50 & Y/Y & Y/Y & Y/Y & N/N & N/N & Y/Y & Y/Y & Y/Y & Y/Y\\\\\n",
      "51 & N/N & N/N & Y/Y & Y/Y & Y/Y & Y/Y & N/N & Y/Y & Y/Y\\\\\n",
      "52 & Y/Y & Y/Y & Y/Y & N/N & N/N & N/N & N/N & Y/Y & Y/Y\\\\\n",
      "53 & N/N & N/N & N/N & Y/Y & Y/Y & Y/Y & N/N & N/N & N/N\\\\\n",
      "54 & Y/Y & Y/Y & Y/Y & N/N & N/N & N/N & Y/Y & Y/Y & Y/Y\\\\\n",
      "55 & N/N & N/N & Y/Y & Y/Y & Y/Y & Y/Y & N/N & Y/Y & Y/Y\\\\\n",
      "56 & Y/Y & Y/Y & Y/Y & N/N & N/N & Y/Y & Y/Y & Y/Y & Y/Y\\\\\n",
      "57 & N/N & N/N & N/N & Y/Y & Y/Y & Y/Y & N/N & Y/Y & Y/Y\\\\\n",
      "58 & Y/Y & Y/Y & Y/Y & N/N & N/N & N/N & Y/Y & Y/Y & Y/Y\\\\\n",
      "59 & N/N & N/N & Y/Y & Y/Y & Y/Y & Y/Y & N/N & Y/Y & Y/Y\\\\\n",
      "60 & Y/Y & Y/Y & Y/Y & N/N & N/N & Y/Y & N/N & Y/Y & Y/Y\\\\\n",
      "61 & N/N & N/N & N/N & N/N & N/N & N/N & N/N & N/N & N/N\\\\\n",
      "62 & Y/Y & Y/Y & Y/Y & N/N & N/N & N/N & Y/Y & Y/Y & Y/Y\\\\\n",
      "63 & N/N & N/N & Y/Y & Y/Y & Y/Y & Y/Y & N/N & Y/Y & Y/Y\\\\\n",
      "64 & Y/Y & Y/Y & N/N & Y/Y & N/N & Y/Y & Y/Y & Y/Y & Y/Y\\\\\n",
      "65 & N/N & N/N & Y/Y & Y/Y & Y/Y & Y/Y & N/N & Y/Y & Y/Y\\\\\n",
      "66 & Y/Y & Y/Y & Y/Y & N/N & N/N & N/N & Y/Y & Y/Y & Y/Y\\\\\n",
      "67 & N/N & N/N & N/N & Y/Y & Y/Y & N/N & N/N & Y/Y & Y/Y\\\\\n",
      "68 & N/N & N/N & N/N & Y/Y & Y/Y & Y/Y & N/N & Y/Y & Y/Y\\\\\n"
     ]
    }
   ],
   "source": [
    "for l in lines:\n",
    "    print(l)"
   ]
  }
 ],
 "metadata": {
  "kernelspec": {
   "display_name": "Anaconda2 (2019.10) - 2.7.16",
   "language": "python",
   "name": "anaconda22019.10-gcc-8.5.0"
  },
  "language_info": {
   "codemirror_mode": {
    "name": "ipython",
    "version": 2
   },
   "file_extension": ".py",
   "mimetype": "text/x-python",
   "name": "python",
   "nbconvert_exporter": "python",
   "pygments_lexer": "ipython2",
   "version": "2.7.16"
  }
 },
 "nbformat": 4,
 "nbformat_minor": 5
}
