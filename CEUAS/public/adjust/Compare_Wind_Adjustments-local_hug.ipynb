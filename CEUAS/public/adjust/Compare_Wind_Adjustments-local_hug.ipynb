{
 "cells": [
  {
   "cell_type": "code",
   "execution_count": 1,
   "metadata": {},
   "outputs": [],
   "source": [
    "import pandas as pd\n",
    "import numpy as np\n",
    "import sys, zipfile, os, time\n",
    "import matplotlib\n",
    "import matplotlib.pyplot as plt\n",
    "import glob\n",
    "import datetime\n",
    "import urllib3\n",
    "import cdsapi\n",
    "import xarray\n",
    "import shutil\n",
    "import warnings\n",
    "import pickle\n",
    "import h5py\n",
    "import netCDF4\n",
    "warnings.filterwarnings('ignore')\n",
    "\n",
    "sys.path.append(os.getcwd()+'/../cds-backend/code/')\n",
    "import cds_eua3 as eua\n"
   ]
  },
  {
   "cell_type": "code",
   "execution_count": 2,
   "metadata": {},
   "outputs": [],
   "source": [
    "def get_adj(station, tarvar):\n",
    "    import datetime\n",
    "    if tarvar == 'directionbias':\n",
    "        cdsvar = 'wind_direction'\n",
    "    elif tarvar == 'uwindbias':\n",
    "        cdsvar = 'u_component_of_wind'\n",
    "    elif tarvar == 'vwindbias':\n",
    "        cdsvar = 'v_component_of_wind'\n",
    "    else:\n",
    "        print('not an available wind variable')\n",
    "        return 0, 0, 0, 0, 0\n",
    "    \"\"\"Compare created adjustment to downloaded adjustment\n",
    "    \"\"\"\n",
    "    date0 = datetime.datetime.strptime('1900-01-01', \"%Y-%m-%d\")\n",
    "\n",
    "    file = glob.glob('./Wind_adjustment/*/*winddir*'+station+'*')[0]\n",
    "    data = eua.CDMDataset(file)#.to_dataframe()\n",
    "    date0 = datetime.datetime.strptime('1900-01-01', \"%Y-%m-%d\")\n",
    "\n",
    "    adjdates = []\n",
    "    basedatum = data.datum[:]\n",
    "    for i in basedatum:\n",
    "        adjdates.append(date0 + datetime.timedelta(days=int(i)))\n",
    "    dates = adjdates\n",
    "    \n",
    "    press = data.press[:]\n",
    "    nightadj = data[tarvar][0,:]\n",
    "    dayadj = data[tarvar][1,:]    \n",
    "    \n",
    "#     c = cdsapi.Client()\n",
    "#     r = c.retrieve('insitu-comprehensive-upper-air-observation-network',\n",
    "#                    {'variable': cdsvar,\n",
    "#                     'optional':['wind_bias_estimate'],\n",
    "#                     'statid': station,\n",
    "#                     'skipaa':'8f874f4f',\n",
    "#                     'pressure_level':[10,20,30,50,70,100,150,200,250,300,400,500,700,850,925,1000]\n",
    "#                    }\n",
    "#                   )\n",
    "#     r.download(target='download.zip')\n",
    "#     assert os.stat('download.zip').st_size == r.content_length, \"Downloaded file is incomplete\"\n",
    "#     z = zipfile.ZipFile('download.zip')\n",
    "#     z.extractall(path='./tocompare/wind/cds_' + station + '/' + cdsvar)\n",
    "#     z.close()\n",
    "#     cdsfile = glob.glob('./tocompare/wind/cds_' + station + '/' + cdsvar + '/*.nc')\n",
    "#     cdsdata=eua.CDMDataset(cdsfile[0]).to_dataframe()\n",
    "    data=eua.vm_request_wrapper( {'variable': cdsvar,\n",
    "                                     'optional':['wind_bias_estimate'],\n",
    "                                      'statid': station,\n",
    "                                      'newdl':'000111000',\n",
    "                                      'pressure_level':[1000,2000,3000,5000,7000,10000,15000,20000,25000,30000,40000,50000,70000,85000,92500,100000]\n",
    "                                     }, overwrite=True, vm_url='http://srvx8.img.univie.ac.at:8000')\n",
    "    cdsdata = data.to_dataframe()\n",
    "    daycdsdata = cdsdata[cdsdata.time.dt.hour > 6][cdsdata.time.dt.hour <= 18]\n",
    "    nightcdsdata = cdsdata[cdsdata.time.dt.hour <= 6].append(cdsdata[cdsdata.time.dt.hour > 18])\n",
    "    \n",
    "    \n",
    "    calc_day_out = {}\n",
    "    calc_night_out = {}\n",
    "    cds_day_out = {}\n",
    "    cds_night_out = {}\n",
    "    for i in [10,20,30,50,70,100,150,200,250,300,400,500,700,850,925,1000]:\n",
    "        calc_day_out[str(i)]=[]\n",
    "        calc_night_out[str(i)]=[]\n",
    "        cds_day_out[str(i)]=[]\n",
    "        cds_night_out[str(i)]=[]\n",
    "        \n",
    "    for j in range(len(press)):\n",
    "        try:\n",
    "            d_adjd = dayadj[j]\n",
    "            calc_day_out[str(int(press[j]))].append(d_adjd)\n",
    "        except:\n",
    "            calc_day_out[str(int(press[j]))].append(np.nan) \n",
    "        try:\n",
    "            n_adjd = nightadj[j]\n",
    "            calc_night_out[str(int(press[j]))].append(n_adjd)\n",
    "        except:\n",
    "            calc_night_out[str(int(press[j]))].append(np.nan)\n",
    "                \n",
    "    return dates, daycdsdata, nightcdsdata, calc_day_out, calc_night_out"
   ]
  },
  {
   "cell_type": "code",
   "execution_count": 3,
   "metadata": {},
   "outputs": [],
   "source": [
    "def plt_adj(dates, cdata, adata, plev, station, time, adj, save):\n",
    "#     dates_list = [datetime.datetime.strptime(date, '%Y%m%d').date() for date in dates[1:]]\n",
    "    fig, ax = plt.subplots()\n",
    "    ax.scatter(cdata.time, cdata.wind_bias_estimate, label='CDS', s=50)\n",
    "    ax.scatter(dates, np.asarray(adata[str(plev)]), label='Calc', s=20)\n",
    "    ax.set(xlabel='time', ylabel='Adjustment: '+adj,\n",
    "           title= str(station)+' Wind '+str(plev)+' hPa '+time)\n",
    "    ax.legend()\n",
    "    ax.grid()\n",
    "    \n",
    "    if save:\n",
    "        fig.savefig(str(station)+'_Wind_'+str(plev)+'_hPa_'+time+'.png')\n",
    "    plt.show()\n",
    "    return"
   ]
  },
  {
   "cell_type": "code",
   "execution_count": 4,
   "metadata": {},
   "outputs": [],
   "source": [
    "# # DOWNLOAD DATA FROM CDS:\n",
    "# home = os.getcwd()\n",
    "# %run getwind.py # downloading just: ['0-20001-0-11035', '0-20001-0-10393', '0-20001-0-70219', '0-20000-0-91413', '0-20000-0-35229', '0-20000-0-68994']\n",
    "# os.chdir(home)"
   ]
  },
  {
   "cell_type": "code",
   "execution_count": 5,
   "metadata": {},
   "outputs": [
    {
     "name": "stdout",
     "output_type": "stream",
     "text": [
      "0  duplicates\n",
      "/raid/home/srvx7/lehre/users/a1400070/CEUAS/CEUAS/public/adjust/Wind_adjustment\n",
      "/raid/home/srvx11/lehre/users/a1400070/CEUAS/CEUAS/public/adjust/Wind_adjustment/0-20000-0-91413_CEUAS_merged_v1.nc\n",
      "File: <HDF5 file \"0-20000-0-91413_CEUAS_merged_v1.nc\" (mode r)>\n",
      "Permissions: RW (mblaschek)\n",
      "Filesize: 445.10 MB\n",
      "Filename: /raid/home/srvx11/lehre/users/a1400070/CEUAS/CEUAS/public/adjust/Wind_adjustment/0-20000-0-91413_CEUAS_merged_v1.nc\n",
      "(G)roups/(V)ariables: \n",
      "\n",
      " - G | advanced_homogenisation______________________ : : 6\n",
      " - G | crs__________________________________________ : : 4\n",
      " - V | dateindex____________________________________ : : (26112,)\n",
      " - G | era5fb_______________________________________ : : 72\n",
      " - G | header_table_________________________________ : : 56\n",
      " - G | observations_table___________________________ : : 50\n",
      " - G | observed_variable____________________________ : : 9\n",
      " - G | recordindices________________________________ : : 18\n",
      " - G | sensor_configuration_________________________ : : 12\n",
      " - G | source_configuration_________________________ : : 2\n",
      " - G | station_configuration________________________ : : 47\n",
      " - G | station_configuration_codes__________________ : : 7\n",
      " - G | station_type_________________________________ : : 4\n",
      " - G | units________________________________________ : : 6\n",
      " - G | z_coordinate_type____________________________ : : 4\n",
      "3710 738.2457275390625\n",
      "2735 609.9603271484375\n",
      "1014 515.8364868164062\n",
      "5248 504.84033203125\n",
      "10556 481.3616943359375\n",
      "4481 426.050048828125\n",
      "1664 417.0047302246094\n",
      "8616 378.9963684082031\n",
      "18362 360.3192138671875\n",
      "338 359.3759765625\n",
      "19089 327.2135314941406\n",
      "5872 323.4563903808594\n",
      "6880 322.41802978515625\n",
      "7412 316.26495361328125\n",
      "13012 311.0465087890625\n",
      "19683 292.336181640625\n",
      "2246 279.2818298339844\n",
      "8122 278.8542785644531\n",
      "16679 262.2343444824219\n",
      "9344 248.2232666015625\n",
      "adjusting direction by-4.48 degrees at 1960.95\n",
      "adjusting direction by 5.40 degrees at 1958.21\n",
      "dates None\n"
     ]
    },
    {
     "name": "stderr",
     "output_type": "stream",
     "text": [
      "Data not sorted !!!\n"
     ]
    },
    {
     "name": "stdout",
     "output_type": "stream",
     "text": [
      "dates not None\n",
      "da False\n"
     ]
    },
    {
     "name": "stderr",
     "output_type": "stream",
     "text": [
      "Not all input dates are found (54883,)\n"
     ]
    },
    {
     "name": "stdout",
     "output_type": "stream",
     "text": [
      "write: 23.56701970100403\n",
      "wrote ./091413/feedbackmergedwinddir091413.nc\n",
      "23.76658844947815 1\n"
     ]
    }
   ],
   "source": [
    "home = os.getcwd()\n",
    "# RUN ADJUSTMENTS\n",
    "os.chdir('/raid/home/srvx7/lehre/users/a1400070/CEUAS/CEUAS/public/adjust/Wind_adjustment/')\n",
    "import adjust_wind_local as aw\n",
    "via_backend=False\n",
    "aw.homogenize_winddir(via_backend, fns=['0-20000-0-91413'])# fns=['0-20001-0-11035', '0-20001-0-10393', '0-20001-0-70219', '0-20000-0-91413', '0-20000-0-35229', '0-20000-0-68994'])\n",
    "# output -> home/Wind_adjustments/0*/feedbackmergedwinddir0*.nc\n",
    "os.chdir('/raid/home/srvx7/lehre/users/a1400070/CEUAS/CEUAS/public/adjust')"
   ]
  },
  {
   "cell_type": "code",
   "execution_count": 9,
   "metadata": {},
   "outputs": [],
   "source": [
    "file = eua.CDMDataset(glob.glob('./Wind_adjustment/0-20000-0-91413_CEUAS_merged_v1.nc')[0])"
   ]
  },
  {
   "cell_type": "code",
   "execution_count": 12,
   "metadata": {},
   "outputs": [
    {
     "data": {
      "text/plain": [
       "array([False, False, False, ..., False, False, False])"
      ]
     },
     "execution_count": 12,
     "metadata": {},
     "output_type": "execute_result"
    }
   ],
   "source": [
    "file.advanced_homogenisation.wind_bias_estimate[:] == file.advanced_homogenisation.wind_bias_estimate_2[:]"
   ]
  },
  {
   "cell_type": "code",
   "execution_count": 15,
   "metadata": {},
   "outputs": [],
   "source": [
    "a1 = file.advanced_homogenisation.wind_bias_estimate[:]"
   ]
  },
  {
   "cell_type": "code",
   "execution_count": 16,
   "metadata": {},
   "outputs": [],
   "source": [
    "a2 = file.advanced_homogenisation.wind_bias_estimate_2[:]"
   ]
  },
  {
   "cell_type": "code",
   "execution_count": 26,
   "metadata": {},
   "outputs": [
    {
     "data": {
      "text/html": [
       "<div>\n",
       "<style scoped>\n",
       "    .dataframe tbody tr th:only-of-type {\n",
       "        vertical-align: middle;\n",
       "    }\n",
       "\n",
       "    .dataframe tbody tr th {\n",
       "        vertical-align: top;\n",
       "    }\n",
       "\n",
       "    .dataframe thead th {\n",
       "        text-align: right;\n",
       "    }\n",
       "</style>\n",
       "<table border=\"1\" class=\"dataframe\">\n",
       "  <thead>\n",
       "    <tr style=\"text-align: right;\">\n",
       "      <th></th>\n",
       "      <th>old</th>\n",
       "      <th>new</th>\n",
       "    </tr>\n",
       "  </thead>\n",
       "  <tbody>\n",
       "    <tr>\n",
       "      <th>0</th>\n",
       "      <td>NaN</td>\n",
       "      <td>NaN</td>\n",
       "    </tr>\n",
       "    <tr>\n",
       "      <th>1</th>\n",
       "      <td>NaN</td>\n",
       "      <td>NaN</td>\n",
       "    </tr>\n",
       "    <tr>\n",
       "      <th>2</th>\n",
       "      <td>NaN</td>\n",
       "      <td>NaN</td>\n",
       "    </tr>\n",
       "    <tr>\n",
       "      <th>3</th>\n",
       "      <td>NaN</td>\n",
       "      <td>NaN</td>\n",
       "    </tr>\n",
       "    <tr>\n",
       "      <th>4</th>\n",
       "      <td>NaN</td>\n",
       "      <td>NaN</td>\n",
       "    </tr>\n",
       "    <tr>\n",
       "      <th>...</th>\n",
       "      <td>...</td>\n",
       "      <td>...</td>\n",
       "    </tr>\n",
       "    <tr>\n",
       "      <th>16217121</th>\n",
       "      <td>NaN</td>\n",
       "      <td>NaN</td>\n",
       "    </tr>\n",
       "    <tr>\n",
       "      <th>16217122</th>\n",
       "      <td>NaN</td>\n",
       "      <td>NaN</td>\n",
       "    </tr>\n",
       "    <tr>\n",
       "      <th>16217123</th>\n",
       "      <td>NaN</td>\n",
       "      <td>NaN</td>\n",
       "    </tr>\n",
       "    <tr>\n",
       "      <th>16217124</th>\n",
       "      <td>NaN</td>\n",
       "      <td>NaN</td>\n",
       "    </tr>\n",
       "    <tr>\n",
       "      <th>16217125</th>\n",
       "      <td>NaN</td>\n",
       "      <td>NaN</td>\n",
       "    </tr>\n",
       "  </tbody>\n",
       "</table>\n",
       "<p>16217126 rows × 2 columns</p>\n",
       "</div>"
      ],
      "text/plain": [
       "          old  new\n",
       "0         NaN  NaN\n",
       "1         NaN  NaN\n",
       "2         NaN  NaN\n",
       "3         NaN  NaN\n",
       "4         NaN  NaN\n",
       "...       ...  ...\n",
       "16217121  NaN  NaN\n",
       "16217122  NaN  NaN\n",
       "16217123  NaN  NaN\n",
       "16217124  NaN  NaN\n",
       "16217125  NaN  NaN\n",
       "\n",
       "[16217126 rows x 2 columns]"
      ]
     },
     "execution_count": 26,
     "metadata": {},
     "output_type": "execute_result"
    }
   ],
   "source": [
    "test = pd.DataFrame({'old':a1,'new':a2} )\n",
    "test"
   ]
  },
  {
   "cell_type": "code",
   "execution_count": 28,
   "metadata": {},
   "outputs": [],
   "source": [
    "test2 = test.dropna()"
   ]
  },
  {
   "cell_type": "code",
   "execution_count": 31,
   "metadata": {},
   "outputs": [
    {
     "data": {
      "text/html": [
       "<div>\n",
       "<style scoped>\n",
       "    .dataframe tbody tr th:only-of-type {\n",
       "        vertical-align: middle;\n",
       "    }\n",
       "\n",
       "    .dataframe tbody tr th {\n",
       "        vertical-align: top;\n",
       "    }\n",
       "\n",
       "    .dataframe thead th {\n",
       "        text-align: right;\n",
       "    }\n",
       "</style>\n",
       "<table border=\"1\" class=\"dataframe\">\n",
       "  <thead>\n",
       "    <tr style=\"text-align: right;\">\n",
       "      <th></th>\n",
       "      <th>old</th>\n",
       "      <th>new</th>\n",
       "    </tr>\n",
       "  </thead>\n",
       "  <tbody>\n",
       "    <tr>\n",
       "      <th>8436383</th>\n",
       "      <td>0.034353</td>\n",
       "      <td>0.034353</td>\n",
       "    </tr>\n",
       "    <tr>\n",
       "      <th>8436384</th>\n",
       "      <td>0.088426</td>\n",
       "      <td>0.088427</td>\n",
       "    </tr>\n",
       "    <tr>\n",
       "      <th>8436385</th>\n",
       "      <td>0.000387</td>\n",
       "      <td>0.000387</td>\n",
       "    </tr>\n",
       "    <tr>\n",
       "      <th>8436386</th>\n",
       "      <td>0.000774</td>\n",
       "      <td>0.000774</td>\n",
       "    </tr>\n",
       "    <tr>\n",
       "      <th>8436387</th>\n",
       "      <td>0.000903</td>\n",
       "      <td>0.000903</td>\n",
       "    </tr>\n",
       "    <tr>\n",
       "      <th>...</th>\n",
       "      <td>...</td>\n",
       "      <td>...</td>\n",
       "    </tr>\n",
       "    <tr>\n",
       "      <th>12794733</th>\n",
       "      <td>0.000000</td>\n",
       "      <td>0.000000</td>\n",
       "    </tr>\n",
       "    <tr>\n",
       "      <th>12794734</th>\n",
       "      <td>0.000000</td>\n",
       "      <td>0.000000</td>\n",
       "    </tr>\n",
       "    <tr>\n",
       "      <th>12794735</th>\n",
       "      <td>0.000000</td>\n",
       "      <td>0.000000</td>\n",
       "    </tr>\n",
       "    <tr>\n",
       "      <th>12794736</th>\n",
       "      <td>0.000000</td>\n",
       "      <td>0.000000</td>\n",
       "    </tr>\n",
       "    <tr>\n",
       "      <th>12794737</th>\n",
       "      <td>0.000000</td>\n",
       "      <td>0.000000</td>\n",
       "    </tr>\n",
       "  </tbody>\n",
       "</table>\n",
       "<p>4009919 rows × 2 columns</p>\n",
       "</div>"
      ],
      "text/plain": [
       "               old       new\n",
       "8436383   0.034353  0.034353\n",
       "8436384   0.088426  0.088427\n",
       "8436385   0.000387  0.000387\n",
       "8436386   0.000774  0.000774\n",
       "8436387   0.000903  0.000903\n",
       "...            ...       ...\n",
       "12794733  0.000000  0.000000\n",
       "12794734  0.000000  0.000000\n",
       "12794735  0.000000  0.000000\n",
       "12794736  0.000000  0.000000\n",
       "12794737  0.000000  0.000000\n",
       "\n",
       "[4009919 rows x 2 columns]"
      ]
     },
     "execution_count": 31,
     "metadata": {},
     "output_type": "execute_result"
    }
   ],
   "source": [
    "test2"
   ]
  },
  {
   "cell_type": "code",
   "execution_count": 32,
   "metadata": {},
   "outputs": [],
   "source": [
    "booldf = test2.old == test2.new"
   ]
  },
  {
   "cell_type": "code",
   "execution_count": 36,
   "metadata": {},
   "outputs": [],
   "source": [
    "difftest = test2[booldf == False]"
   ]
  },
  {
   "cell_type": "code",
   "execution_count": 38,
   "metadata": {},
   "outputs": [],
   "source": [
    "diff = difftest.old - difftest.new"
   ]
  },
  {
   "cell_type": "code",
   "execution_count": 39,
   "metadata": {},
   "outputs": [
    {
     "data": {
      "text/plain": [
       "3.814697265625e-06"
      ]
     },
     "execution_count": 39,
     "metadata": {},
     "output_type": "execute_result"
    }
   ],
   "source": [
    "np.max(diff)"
   ]
  },
  {
   "cell_type": "code",
   "execution_count": 40,
   "metadata": {},
   "outputs": [
    {
     "data": {
      "text/plain": [
       "-7.62939453125e-06"
      ]
     },
     "execution_count": 40,
     "metadata": {},
     "output_type": "execute_result"
    }
   ],
   "source": [
    "np.min(diff)"
   ]
  },
  {
   "cell_type": "code",
   "execution_count": 41,
   "metadata": {},
   "outputs": [],
   "source": [
    "file = eua.CDMDataset(glob.glob('/raid60/scratch/leo/scratch/converted_v6/*35229_CEUAS_merged_v1.nc')[0])"
   ]
  },
  {
   "cell_type": "code",
   "execution_count": 80,
   "metadata": {},
   "outputs": [
    {
     "data": {
      "text/plain": [
       "recordindices:\n",
       "\n",
       "0_________________________________________________ : : (60225,)\n",
       "104_______________________________________________ : : (60225,)\n",
       "105_______________________________________________ : : (60225,)\n",
       "106_______________________________________________ : : (60225,)\n",
       "107_______________________________________________ : : (60225,)\n",
       "117_______________________________________________ : : (60225,)\n",
       "136_______________________________________________ : : (60225,)\n",
       "137_______________________________________________ : : (60225,)\n",
       "138_______________________________________________ : : (60225,)\n",
       "139_______________________________________________ : : (60225,)\n",
       "140_______________________________________________ : : (60225,)\n",
       "34________________________________________________ : : (60225,)\n",
       "36________________________________________________ : : (60225,)\n",
       "38________________________________________________ : : (60225,)\n",
       "39________________________________________________ : : (60225,)\n",
       "85________________________________________________ : : (60225,)\n",
       "index_____________________________________________ : : (60225,)\n",
       "recordtimestamp___________________________________ : : (60224,)"
      ]
     },
     "execution_count": 80,
     "metadata": {},
     "output_type": "execute_result"
    }
   ],
   "source": [
    "file.recordindices"
   ]
  },
  {
   "cell_type": "code",
   "execution_count": 81,
   "metadata": {},
   "outputs": [
    {
     "data": {
      "text/plain": [
       "array([8342788, 8342788, 8342788, ..., 9669869, 9669908, 9669943])"
      ]
     },
     "execution_count": 81,
     "metadata": {},
     "output_type": "execute_result"
    }
   ],
   "source": [
    "file.recordindices['106'][:]"
   ]
  },
  {
   "cell_type": "code",
   "execution_count": 82,
   "metadata": {},
   "outputs": [
    {
     "data": {
      "text/plain": [
       "array([106, 106, 106, ..., 106, 106, 106])"
      ]
     },
     "execution_count": 82,
     "metadata": {},
     "output_type": "execute_result"
    }
   ],
   "source": [
    "file.observations_table.observed_variable[8342788:9669943]"
   ]
  },
  {
   "cell_type": "code",
   "execution_count": 83,
   "metadata": {},
   "outputs": [
    {
     "data": {
      "text/plain": [
       "array([200., 270.,  70., ..., 270., 270., 250.], dtype=float32)"
      ]
     },
     "execution_count": 83,
     "metadata": {},
     "output_type": "execute_result"
    }
   ],
   "source": [
    "wd_v6 = file.observations_table.observation_value[8342788:9669943]\n",
    "wd_v6"
   ]
  },
  {
   "cell_type": "code",
   "execution_count": 55,
   "metadata": {},
   "outputs": [
    {
     "data": {
      "text/plain": [
       "array([252.15, 265.15, 278.15, ..., 300.75, 301.55, 304.55], dtype=float32)"
      ]
     },
     "execution_count": 55,
     "metadata": {},
     "output_type": "execute_result"
    }
   ],
   "source": [
    "temp_v6 = file.observations_table.observation_value[4393851:5688478]\n",
    "temp_v6"
   ]
  },
  {
   "cell_type": "code",
   "execution_count": 53,
   "metadata": {},
   "outputs": [],
   "source": [
    "data=eua.vm_request_wrapper( {'variable': 'temperature', 'statid': '35229',\n",
    "                                     }, overwrite=True, vm_url='http://srvx8.img.univie.ac.at:8000')"
   ]
  },
  {
   "cell_type": "code",
   "execution_count": 84,
   "metadata": {},
   "outputs": [],
   "source": [
    "wd_data =eua.vm_request_wrapper( {'variable': 'wind_direction', 'statid': '35229',\n",
    "                                     }, overwrite=True, vm_url='http://srvx8.img.univie.ac.at:8000')"
   ]
  },
  {
   "cell_type": "code",
   "execution_count": 88,
   "metadata": {},
   "outputs": [
    {
     "data": {
      "text/plain": [
       "array([200., 270.,  70., ..., 270., 270., 250.], dtype=float32)"
      ]
     },
     "execution_count": 88,
     "metadata": {},
     "output_type": "execute_result"
    }
   ],
   "source": [
    "wd_rq = wd_data.wind_from_direction[:]\n",
    "wd_rq"
   ]
  },
  {
   "cell_type": "code",
   "execution_count": 60,
   "metadata": {},
   "outputs": [
    {
     "data": {
      "text/plain": [
       "array([252.15, 265.15, 278.15, ..., 300.75, 301.55, 304.55], dtype=float32)"
      ]
     },
     "execution_count": 60,
     "metadata": {},
     "output_type": "execute_result"
    }
   ],
   "source": [
    "temp_rq = data.ta[:]\n",
    "temp_rq"
   ]
  },
  {
   "cell_type": "code",
   "execution_count": 74,
   "metadata": {},
   "outputs": [
    {
     "data": {
      "text/html": [
       "<div>\n",
       "<style scoped>\n",
       "    .dataframe tbody tr th:only-of-type {\n",
       "        vertical-align: middle;\n",
       "    }\n",
       "\n",
       "    .dataframe tbody tr th {\n",
       "        vertical-align: top;\n",
       "    }\n",
       "\n",
       "    .dataframe thead th {\n",
       "        text-align: right;\n",
       "    }\n",
       "</style>\n",
       "<table border=\"1\" class=\"dataframe\">\n",
       "  <thead>\n",
       "    <tr style=\"text-align: right;\">\n",
       "      <th></th>\n",
       "      <th>idx</th>\n",
       "      <th>rq</th>\n",
       "      <th>v6</th>\n",
       "    </tr>\n",
       "  </thead>\n",
       "  <tbody>\n",
       "    <tr>\n",
       "      <th>0</th>\n",
       "      <td>4393851</td>\n",
       "      <td>252.149994</td>\n",
       "      <td>252.149994</td>\n",
       "    </tr>\n",
       "    <tr>\n",
       "      <th>1</th>\n",
       "      <td>4393852</td>\n",
       "      <td>265.149994</td>\n",
       "      <td>265.149994</td>\n",
       "    </tr>\n",
       "    <tr>\n",
       "      <th>2</th>\n",
       "      <td>4393853</td>\n",
       "      <td>278.149994</td>\n",
       "      <td>278.149994</td>\n",
       "    </tr>\n",
       "    <tr>\n",
       "      <th>3</th>\n",
       "      <td>4393854</td>\n",
       "      <td>252.149994</td>\n",
       "      <td>252.149994</td>\n",
       "    </tr>\n",
       "    <tr>\n",
       "      <th>4</th>\n",
       "      <td>4393855</td>\n",
       "      <td>265.149994</td>\n",
       "      <td>265.149994</td>\n",
       "    </tr>\n",
       "    <tr>\n",
       "      <th>...</th>\n",
       "      <td>...</td>\n",
       "      <td>...</td>\n",
       "      <td>...</td>\n",
       "    </tr>\n",
       "    <tr>\n",
       "      <th>1294622</th>\n",
       "      <td>5688473</td>\n",
       "      <td>297.950012</td>\n",
       "      <td>297.950012</td>\n",
       "    </tr>\n",
       "    <tr>\n",
       "      <th>1294623</th>\n",
       "      <td>5688474</td>\n",
       "      <td>298.750000</td>\n",
       "      <td>298.750000</td>\n",
       "    </tr>\n",
       "    <tr>\n",
       "      <th>1294624</th>\n",
       "      <td>5688475</td>\n",
       "      <td>300.750000</td>\n",
       "      <td>300.750000</td>\n",
       "    </tr>\n",
       "    <tr>\n",
       "      <th>1294625</th>\n",
       "      <td>5688476</td>\n",
       "      <td>301.549988</td>\n",
       "      <td>301.549988</td>\n",
       "    </tr>\n",
       "    <tr>\n",
       "      <th>1294626</th>\n",
       "      <td>5688477</td>\n",
       "      <td>304.549988</td>\n",
       "      <td>304.549988</td>\n",
       "    </tr>\n",
       "  </tbody>\n",
       "</table>\n",
       "<p>1294627 rows × 3 columns</p>\n",
       "</div>"
      ],
      "text/plain": [
       "             idx          rq          v6\n",
       "0        4393851  252.149994  252.149994\n",
       "1        4393852  265.149994  265.149994\n",
       "2        4393853  278.149994  278.149994\n",
       "3        4393854  252.149994  252.149994\n",
       "4        4393855  265.149994  265.149994\n",
       "...          ...         ...         ...\n",
       "1294622  5688473  297.950012  297.950012\n",
       "1294623  5688474  298.750000  298.750000\n",
       "1294624  5688475  300.750000  300.750000\n",
       "1294625  5688476  301.549988  301.549988\n",
       "1294626  5688477  304.549988  304.549988\n",
       "\n",
       "[1294627 rows x 3 columns]"
      ]
     },
     "execution_count": 74,
     "metadata": {},
     "output_type": "execute_result"
    }
   ],
   "source": [
    "df = pd.DataFrame({'idx':range(4393851,5688478),'rq':temp_rq , 'v6':temp_v6})\n",
    "df"
   ]
  },
  {
   "cell_type": "code",
   "execution_count": 90,
   "metadata": {},
   "outputs": [
    {
     "data": {
      "text/html": [
       "<div>\n",
       "<style scoped>\n",
       "    .dataframe tbody tr th:only-of-type {\n",
       "        vertical-align: middle;\n",
       "    }\n",
       "\n",
       "    .dataframe tbody tr th {\n",
       "        vertical-align: top;\n",
       "    }\n",
       "\n",
       "    .dataframe thead th {\n",
       "        text-align: right;\n",
       "    }\n",
       "</style>\n",
       "<table border=\"1\" class=\"dataframe\">\n",
       "  <thead>\n",
       "    <tr style=\"text-align: right;\">\n",
       "      <th></th>\n",
       "      <th>idx</th>\n",
       "      <th>rq</th>\n",
       "      <th>v6</th>\n",
       "    </tr>\n",
       "  </thead>\n",
       "  <tbody>\n",
       "    <tr>\n",
       "      <th>0</th>\n",
       "      <td>8342788</td>\n",
       "      <td>200.0</td>\n",
       "      <td>200.0</td>\n",
       "    </tr>\n",
       "    <tr>\n",
       "      <th>1</th>\n",
       "      <td>8342789</td>\n",
       "      <td>270.0</td>\n",
       "      <td>270.0</td>\n",
       "    </tr>\n",
       "    <tr>\n",
       "      <th>2</th>\n",
       "      <td>8342790</td>\n",
       "      <td>70.0</td>\n",
       "      <td>70.0</td>\n",
       "    </tr>\n",
       "    <tr>\n",
       "      <th>3</th>\n",
       "      <td>8342791</td>\n",
       "      <td>70.0</td>\n",
       "      <td>70.0</td>\n",
       "    </tr>\n",
       "    <tr>\n",
       "      <th>4</th>\n",
       "      <td>8342792</td>\n",
       "      <td>70.0</td>\n",
       "      <td>70.0</td>\n",
       "    </tr>\n",
       "    <tr>\n",
       "      <th>...</th>\n",
       "      <td>...</td>\n",
       "      <td>...</td>\n",
       "      <td>...</td>\n",
       "    </tr>\n",
       "    <tr>\n",
       "      <th>1327150</th>\n",
       "      <td>9669938</td>\n",
       "      <td>225.0</td>\n",
       "      <td>225.0</td>\n",
       "    </tr>\n",
       "    <tr>\n",
       "      <th>1327151</th>\n",
       "      <td>9669939</td>\n",
       "      <td>250.0</td>\n",
       "      <td>250.0</td>\n",
       "    </tr>\n",
       "    <tr>\n",
       "      <th>1327152</th>\n",
       "      <td>9669940</td>\n",
       "      <td>270.0</td>\n",
       "      <td>270.0</td>\n",
       "    </tr>\n",
       "    <tr>\n",
       "      <th>1327153</th>\n",
       "      <td>9669941</td>\n",
       "      <td>270.0</td>\n",
       "      <td>270.0</td>\n",
       "    </tr>\n",
       "    <tr>\n",
       "      <th>1327154</th>\n",
       "      <td>9669942</td>\n",
       "      <td>250.0</td>\n",
       "      <td>250.0</td>\n",
       "    </tr>\n",
       "  </tbody>\n",
       "</table>\n",
       "<p>1327155 rows × 3 columns</p>\n",
       "</div>"
      ],
      "text/plain": [
       "             idx     rq     v6\n",
       "0        8342788  200.0  200.0\n",
       "1        8342789  270.0  270.0\n",
       "2        8342790   70.0   70.0\n",
       "3        8342791   70.0   70.0\n",
       "4        8342792   70.0   70.0\n",
       "...          ...    ...    ...\n",
       "1327150  9669938  225.0  225.0\n",
       "1327151  9669939  250.0  250.0\n",
       "1327152  9669940  270.0  270.0\n",
       "1327153  9669941  270.0  270.0\n",
       "1327154  9669942  250.0  250.0\n",
       "\n",
       "[1327155 rows x 3 columns]"
      ]
     },
     "execution_count": 90,
     "metadata": {},
     "output_type": "execute_result"
    }
   ],
   "source": [
    "wd_df = pd.DataFrame({'idx':range(8342788,9669943),'rq':wd_rq , 'v6':wd_v6})\n",
    "wd_df"
   ]
  },
  {
   "cell_type": "code",
   "execution_count": 98,
   "metadata": {},
   "outputs": [
    {
     "data": {
      "text/html": [
       "<div>\n",
       "<style scoped>\n",
       "    .dataframe tbody tr th:only-of-type {\n",
       "        vertical-align: middle;\n",
       "    }\n",
       "\n",
       "    .dataframe tbody tr th {\n",
       "        vertical-align: top;\n",
       "    }\n",
       "\n",
       "    .dataframe thead th {\n",
       "        text-align: right;\n",
       "    }\n",
       "</style>\n",
       "<table border=\"1\" class=\"dataframe\">\n",
       "  <thead>\n",
       "    <tr style=\"text-align: right;\">\n",
       "      <th></th>\n",
       "      <th>idx</th>\n",
       "      <th>rq</th>\n",
       "      <th>v6</th>\n",
       "    </tr>\n",
       "  </thead>\n",
       "  <tbody>\n",
       "    <tr>\n",
       "      <th>37609</th>\n",
       "      <td>8380397</td>\n",
       "      <td>NaN</td>\n",
       "      <td>240.0</td>\n",
       "    </tr>\n",
       "    <tr>\n",
       "      <th>37610</th>\n",
       "      <td>8380398</td>\n",
       "      <td>NaN</td>\n",
       "      <td>230.0</td>\n",
       "    </tr>\n",
       "    <tr>\n",
       "      <th>37611</th>\n",
       "      <td>8380399</td>\n",
       "      <td>NaN</td>\n",
       "      <td>240.0</td>\n",
       "    </tr>\n",
       "    <tr>\n",
       "      <th>37612</th>\n",
       "      <td>8380400</td>\n",
       "      <td>NaN</td>\n",
       "      <td>260.0</td>\n",
       "    </tr>\n",
       "    <tr>\n",
       "      <th>37613</th>\n",
       "      <td>8380401</td>\n",
       "      <td>NaN</td>\n",
       "      <td>210.0</td>\n",
       "    </tr>\n",
       "    <tr>\n",
       "      <th>...</th>\n",
       "      <td>...</td>\n",
       "      <td>...</td>\n",
       "      <td>...</td>\n",
       "    </tr>\n",
       "    <tr>\n",
       "      <th>855181</th>\n",
       "      <td>9197969</td>\n",
       "      <td>NaN</td>\n",
       "      <td>250.0</td>\n",
       "    </tr>\n",
       "    <tr>\n",
       "      <th>855182</th>\n",
       "      <td>9197970</td>\n",
       "      <td>NaN</td>\n",
       "      <td>245.0</td>\n",
       "    </tr>\n",
       "    <tr>\n",
       "      <th>855183</th>\n",
       "      <td>9197971</td>\n",
       "      <td>NaN</td>\n",
       "      <td>240.0</td>\n",
       "    </tr>\n",
       "    <tr>\n",
       "      <th>855184</th>\n",
       "      <td>9197972</td>\n",
       "      <td>NaN</td>\n",
       "      <td>245.0</td>\n",
       "    </tr>\n",
       "    <tr>\n",
       "      <th>855185</th>\n",
       "      <td>9197973</td>\n",
       "      <td>NaN</td>\n",
       "      <td>240.0</td>\n",
       "    </tr>\n",
       "  </tbody>\n",
       "</table>\n",
       "<p>929 rows × 3 columns</p>\n",
       "</div>"
      ],
      "text/plain": [
       "            idx  rq     v6\n",
       "37609   8380397 NaN  240.0\n",
       "37610   8380398 NaN  230.0\n",
       "37611   8380399 NaN  240.0\n",
       "37612   8380400 NaN  260.0\n",
       "37613   8380401 NaN  210.0\n",
       "...         ...  ..    ...\n",
       "855181  9197969 NaN  250.0\n",
       "855182  9197970 NaN  245.0\n",
       "855183  9197971 NaN  240.0\n",
       "855184  9197972 NaN  245.0\n",
       "855185  9197973 NaN  240.0\n",
       "\n",
       "[929 rows x 3 columns]"
      ]
     },
     "execution_count": 98,
     "metadata": {},
     "output_type": "execute_result"
    }
   ],
   "source": [
    "wd_df[wd_df.rq != wd_df.v6]"
   ]
  },
  {
   "cell_type": "code",
   "execution_count": 101,
   "metadata": {},
   "outputs": [
    {
     "data": {
      "text/plain": [
       "4"
      ]
     },
     "execution_count": 101,
     "metadata": {},
     "output_type": "execute_result"
    }
   ],
   "source": [
    "file.observations_table.data_policy_licence[8380397]"
   ]
  },
  {
   "cell_type": "code",
   "execution_count": 97,
   "metadata": {},
   "outputs": [
    {
     "data": {
      "text/plain": [
       "idx    8380397.0\n",
       "rq           NaN\n",
       "v6         240.0\n",
       "Name: 37609, dtype: float64"
      ]
     },
     "execution_count": 97,
     "metadata": {},
     "output_type": "execute_result"
    }
   ],
   "source": [
    "wd_df.iloc[37609]"
   ]
  },
  {
   "cell_type": "code",
   "execution_count": 95,
   "metadata": {},
   "outputs": [
    {
     "data": {
      "text/plain": [
       "37609    NaN\n",
       "37610    NaN\n",
       "37611    NaN\n",
       "37612    NaN\n",
       "37613    NaN\n",
       "          ..\n",
       "855181   NaN\n",
       "855182   NaN\n",
       "855183   NaN\n",
       "855184   NaN\n",
       "855185   NaN\n",
       "Length: 929, dtype: float32"
      ]
     },
     "execution_count": 95,
     "metadata": {},
     "output_type": "execute_result"
    }
   ],
   "source": [
    "diff = wd_df.rq - wd_df.v6\n",
    "diff[diff != 0]"
   ]
  },
  {
   "cell_type": "code",
   "execution_count": 75,
   "metadata": {},
   "outputs": [
    {
     "data": {
      "text/html": [
       "<div>\n",
       "<style scoped>\n",
       "    .dataframe tbody tr th:only-of-type {\n",
       "        vertical-align: middle;\n",
       "    }\n",
       "\n",
       "    .dataframe tbody tr th {\n",
       "        vertical-align: top;\n",
       "    }\n",
       "\n",
       "    .dataframe thead th {\n",
       "        text-align: right;\n",
       "    }\n",
       "</style>\n",
       "<table border=\"1\" class=\"dataframe\">\n",
       "  <thead>\n",
       "    <tr style=\"text-align: right;\">\n",
       "      <th></th>\n",
       "      <th>idx</th>\n",
       "      <th>rq</th>\n",
       "      <th>v6</th>\n",
       "    </tr>\n",
       "  </thead>\n",
       "  <tbody>\n",
       "    <tr>\n",
       "      <th>72332</th>\n",
       "      <td>4466183</td>\n",
       "      <td>NaN</td>\n",
       "      <td>215.350006</td>\n",
       "    </tr>\n",
       "    <tr>\n",
       "      <th>72333</th>\n",
       "      <td>4466184</td>\n",
       "      <td>NaN</td>\n",
       "      <td>227.350006</td>\n",
       "    </tr>\n",
       "    <tr>\n",
       "      <th>72334</th>\n",
       "      <td>4466185</td>\n",
       "      <td>NaN</td>\n",
       "      <td>234.350006</td>\n",
       "    </tr>\n",
       "    <tr>\n",
       "      <th>72335</th>\n",
       "      <td>4466186</td>\n",
       "      <td>NaN</td>\n",
       "      <td>271.950012</td>\n",
       "    </tr>\n",
       "    <tr>\n",
       "      <th>72336</th>\n",
       "      <td>4466187</td>\n",
       "      <td>NaN</td>\n",
       "      <td>276.950012</td>\n",
       "    </tr>\n",
       "    <tr>\n",
       "      <th>...</th>\n",
       "      <td>...</td>\n",
       "      <td>...</td>\n",
       "      <td>...</td>\n",
       "    </tr>\n",
       "    <tr>\n",
       "      <th>869530</th>\n",
       "      <td>5263381</td>\n",
       "      <td>NaN</td>\n",
       "      <td>211.300003</td>\n",
       "    </tr>\n",
       "    <tr>\n",
       "      <th>869531</th>\n",
       "      <td>5263382</td>\n",
       "      <td>NaN</td>\n",
       "      <td>201.100006</td>\n",
       "    </tr>\n",
       "    <tr>\n",
       "      <th>869532</th>\n",
       "      <td>5263383</td>\n",
       "      <td>NaN</td>\n",
       "      <td>201.500000</td>\n",
       "    </tr>\n",
       "    <tr>\n",
       "      <th>869533</th>\n",
       "      <td>5263384</td>\n",
       "      <td>NaN</td>\n",
       "      <td>203.300003</td>\n",
       "    </tr>\n",
       "    <tr>\n",
       "      <th>869534</th>\n",
       "      <td>5263385</td>\n",
       "      <td>NaN</td>\n",
       "      <td>201.899994</td>\n",
       "    </tr>\n",
       "  </tbody>\n",
       "</table>\n",
       "<p>1153 rows × 3 columns</p>\n",
       "</div>"
      ],
      "text/plain": [
       "            idx  rq          v6\n",
       "72332   4466183 NaN  215.350006\n",
       "72333   4466184 NaN  227.350006\n",
       "72334   4466185 NaN  234.350006\n",
       "72335   4466186 NaN  271.950012\n",
       "72336   4466187 NaN  276.950012\n",
       "...         ...  ..         ...\n",
       "869530  5263381 NaN  211.300003\n",
       "869531  5263382 NaN  201.100006\n",
       "869532  5263383 NaN  201.500000\n",
       "869533  5263384 NaN  203.300003\n",
       "869534  5263385 NaN  201.899994\n",
       "\n",
       "[1153 rows x 3 columns]"
      ]
     },
     "execution_count": 75,
     "metadata": {},
     "output_type": "execute_result"
    }
   ],
   "source": [
    "df[df.rq != df.v6]"
   ]
  },
  {
   "cell_type": "code",
   "execution_count": 79,
   "metadata": {},
   "outputs": [
    {
     "data": {
      "text/plain": [
       "0"
      ]
     },
     "execution_count": 79,
     "metadata": {},
     "output_type": "execute_result"
    }
   ],
   "source": [
    "file.observations_table.data_policy_licence[4466182]"
   ]
  },
  {
   "cell_type": "code",
   "execution_count": 78,
   "metadata": {},
   "outputs": [
    {
     "data": {
      "text/plain": [
       "4"
      ]
     },
     "execution_count": 78,
     "metadata": {},
     "output_type": "execute_result"
    }
   ],
   "source": [
    "file.observations_table.data_policy_licence[4466183]"
   ]
  },
  {
   "cell_type": "code",
   "execution_count": 24,
   "metadata": {},
   "outputs": [
    {
     "data": {
      "text/plain": [
       "float"
      ]
     },
     "execution_count": 24,
     "metadata": {},
     "output_type": "execute_result"
    }
   ],
   "source": [
    "type(float('nan'))"
   ]
  },
  {
   "cell_type": "code",
   "execution_count": 129,
   "metadata": {},
   "outputs": [],
   "source": [
    "wd_data =eua.vm_request_wrapper( {'variable': 'temperature', 'statid': ['0-20001-0-11035'], 'date:': '19950101', 'toolbox': 'True'\n",
    "                                     }, overwrite=True, vm_url='http://srvx8.img.univie.ac.at:8000')"
   ]
  },
  {
   "cell_type": "code",
   "execution_count": 130,
   "metadata": {},
   "outputs": [
    {
     "data": {
      "text/plain": [
       "File: <HDF5 file \"dest_0-20001-0-11035_air_temperature.nc\" (mode r)>\n",
       "Permissions: RW (mblaschek)\n",
       "Filesize: 216.61 MB\n",
       "Filename: ./dest_0-20001-0-11035_air_temperature.nc\n",
       "(G)roups/(V)ariables: \n",
       "\n",
       " - V | lat__________________________________________ : : (6348034,)\n",
       " - V | lon__________________________________________ : : (6348034,)\n",
       " - V | plev_________________________________________ : : (6348034,)\n",
       " - V | report_id____________________________________ : : (6348034, 11)\n",
       " - V | station_id___________________________________ : : (6348034, 25)\n",
       " - V | ta___________________________________________ : : (6348034,)\n",
       " - V | time_________________________________________ : : (6348034,)\n",
       " - V | trajectory_index_____________________________ : : (6348034,)\n",
       " - V | trajectory_label_____________________________ : : (52346, 11)"
      ]
     },
     "execution_count": 130,
     "metadata": {},
     "output_type": "execute_result"
    }
   ],
   "source": [
    "wd_data"
   ]
  },
  {
   "cell_type": "code",
   "execution_count": 146,
   "metadata": {},
   "outputs": [
    {
     "name": "stderr",
     "output_type": "stream",
     "text": [
      "2021-06-16 15:39:46,861 INFO Welcome to the CDS\n",
      "2021-06-16 15:39:46,861 INFO Sending request to https://sis-dev.climate.copernicus.eu/api/v2/resources/insitu-comprehensive-upper-air-observation-network\n",
      "2021-06-16 15:39:47,023 INFO Request is completed\n",
      "2021-06-16 15:39:47,059 INFO Downloading http://136.156.132.176/cache-compute-0002/cache/data1/adaptor.comprehensive_upper_air.retrieve-1623850293.0264819-14708-5-ee92bc83-4f60-42f3-9ede-d4169b388cfe.zip to download.zip (36.7K)\n",
      "2021-06-16 15:39:47,144 INFO Download rate 433.5K/s\n"
     ]
    }
   ],
   "source": [
    "c = cdsapi.Client()\n",
    "r = c.retrieve('insitu-comprehensive-upper-air-observation-network',\n",
    "               {'variable': 'temperature',\n",
    "                'statid': ['0-20001-0-11035'],\n",
    "                'year': '1995',\n",
    "                'month': '01',\n",
    "                'day': '01',\n",
    "                'toolbox': 'True'\n",
    "               }\n",
    "              )\n",
    "r.download(target='download.zip')\n",
    "assert os.stat('download.zip').st_size == r.content_length, \"Downloaded file is incomplete\"\n",
    "z = zipfile.ZipFile('download.zip')\n",
    "z.extractall(path='./')\n",
    "z.close()\n",
    "cdsfile = glob.glob('./*11035*.nc')\n",
    "cdsdata=eua.CDMDataset(cdsfile[0])"
   ]
  },
  {
   "cell_type": "code",
   "execution_count": 147,
   "metadata": {},
   "outputs": [
    {
     "data": {
      "text/plain": [
       "File: <HDF5 file \"dest_0-20001-0-11035_air_temperature.nc\" (mode r)>\n",
       "Permissions: RW (mblaschek)\n",
       "Filesize: 216.61 MB\n",
       "Filename: ./dest_0-20001-0-11035_air_temperature.nc\n",
       "(G)roups/(V)ariables: \n",
       "\n",
       " - V | lat__________________________________________ : : (6348034,)\n",
       " - V | lon__________________________________________ : : (6348034,)\n",
       " - V | plev_________________________________________ : : (6348034,)\n",
       " - V | report_id____________________________________ : : (6348034, 11)\n",
       " - V | station_id___________________________________ : : (6348034, 25)\n",
       " - V | ta___________________________________________ : : (6348034,)\n",
       " - V | time_________________________________________ : : (6348034,)\n",
       " - V | trajectory_index_____________________________ : : (6348034,)\n",
       " - V | trajectory_label_____________________________ : : (52346, 11)"
      ]
     },
     "execution_count": 147,
     "metadata": {},
     "output_type": "execute_result"
    }
   ],
   "source": [
    "cdsdata"
   ]
  },
  {
   "cell_type": "code",
   "execution_count": 125,
   "metadata": {},
   "outputs": [],
   "source": [
    "wd_data =eua.vm_request_wrapper( {'variable': 'wind_direction', 'statid': '68994',\n",
    "                                     }, overwrite=True, vm_url='http://srvx8.img.univie.ac.at:8000')"
   ]
  },
  {
   "cell_type": "code",
   "execution_count": null,
   "metadata": {},
   "outputs": [],
   "source": []
  },
  {
   "cell_type": "code",
   "execution_count": 127,
   "metadata": {},
   "outputs": [
    {
     "data": {
      "text/plain": [
       "array([b'M', b'A', b'R', b'I', b'O', b'N', b' ', b'I', b'S', b'L', b'A',\n",
       "       b'N', b'D'], dtype='|S1')"
      ]
     },
     "execution_count": 127,
     "metadata": {},
     "output_type": "execute_result"
    }
   ],
   "source": [
    "wd_data.station_id[0]"
   ]
  },
  {
   "cell_type": "code",
   "execution_count": 112,
   "metadata": {},
   "outputs": [
    {
     "name": "stdout",
     "output_type": "stream",
     "text": [
      "[8033086 8033086 8033086 ... 9356545 9356591 9356627]\n"
     ]
    },
    {
     "data": {
      "text/plain": [
       "array([290., 210., 250., ..., 270., 275., 270.], dtype=float32)"
      ]
     },
     "execution_count": 112,
     "metadata": {},
     "output_type": "execute_result"
    }
   ],
   "source": [
    "file = eua.CDMDataset(glob.glob('/raid60/scratch/leo/scratch/converted_v6/*68994_CEUAS_merged_v1.nc')[0])\n",
    "print(file.recordindices['106'][:])\n",
    "\n",
    "wd_v6 = file.observations_table.observation_value[8033086:9356627]\n",
    "wd_v6"
   ]
  },
  {
   "cell_type": "code",
   "execution_count": 113,
   "metadata": {},
   "outputs": [
    {
     "data": {
      "text/plain": [
       "array([290., 210., 250., ..., 270., 275., 270.], dtype=float32)"
      ]
     },
     "execution_count": 113,
     "metadata": {},
     "output_type": "execute_result"
    }
   ],
   "source": [
    "wd_rq = wd_data.wind_from_direction[:]\n",
    "wd_rq"
   ]
  },
  {
   "cell_type": "code",
   "execution_count": 115,
   "metadata": {},
   "outputs": [],
   "source": [
    "wd_df = pd.DataFrame({'idx':range(8033086,9356627),'rq':wd_rq , 'v6':wd_v6})"
   ]
  },
  {
   "cell_type": "code",
   "execution_count": 122,
   "metadata": {},
   "outputs": [],
   "source": [
    "uneq = wd_df[wd_df.rq != wd_df.v6]"
   ]
  },
  {
   "cell_type": "code",
   "execution_count": 124,
   "metadata": {},
   "outputs": [
    {
     "data": {
      "text/html": [
       "<div>\n",
       "<style scoped>\n",
       "    .dataframe tbody tr th:only-of-type {\n",
       "        vertical-align: middle;\n",
       "    }\n",
       "\n",
       "    .dataframe tbody tr th {\n",
       "        vertical-align: top;\n",
       "    }\n",
       "\n",
       "    .dataframe thead th {\n",
       "        text-align: right;\n",
       "    }\n",
       "</style>\n",
       "<table border=\"1\" class=\"dataframe\">\n",
       "  <thead>\n",
       "    <tr style=\"text-align: right;\">\n",
       "      <th></th>\n",
       "      <th>idx</th>\n",
       "      <th>rq</th>\n",
       "      <th>v6</th>\n",
       "    </tr>\n",
       "  </thead>\n",
       "  <tbody>\n",
       "    <tr>\n",
       "      <th>22632</th>\n",
       "      <td>8055718</td>\n",
       "      <td>NaN</td>\n",
       "      <td>240.0</td>\n",
       "    </tr>\n",
       "    <tr>\n",
       "      <th>22633</th>\n",
       "      <td>8055719</td>\n",
       "      <td>NaN</td>\n",
       "      <td>240.0</td>\n",
       "    </tr>\n",
       "    <tr>\n",
       "      <th>22634</th>\n",
       "      <td>8055720</td>\n",
       "      <td>NaN</td>\n",
       "      <td>240.0</td>\n",
       "    </tr>\n",
       "    <tr>\n",
       "      <th>28512</th>\n",
       "      <td>8061598</td>\n",
       "      <td>NaN</td>\n",
       "      <td>270.0</td>\n",
       "    </tr>\n",
       "    <tr>\n",
       "      <th>28513</th>\n",
       "      <td>8061599</td>\n",
       "      <td>NaN</td>\n",
       "      <td>270.0</td>\n",
       "    </tr>\n",
       "    <tr>\n",
       "      <th>...</th>\n",
       "      <td>...</td>\n",
       "      <td>...</td>\n",
       "      <td>...</td>\n",
       "    </tr>\n",
       "    <tr>\n",
       "      <th>1262860</th>\n",
       "      <td>9295946</td>\n",
       "      <td>NaN</td>\n",
       "      <td>300.0</td>\n",
       "    </tr>\n",
       "    <tr>\n",
       "      <th>1262861</th>\n",
       "      <td>9295947</td>\n",
       "      <td>NaN</td>\n",
       "      <td>300.0</td>\n",
       "    </tr>\n",
       "    <tr>\n",
       "      <th>1262862</th>\n",
       "      <td>9295948</td>\n",
       "      <td>NaN</td>\n",
       "      <td>300.0</td>\n",
       "    </tr>\n",
       "    <tr>\n",
       "      <th>1266282</th>\n",
       "      <td>9299368</td>\n",
       "      <td>NaN</td>\n",
       "      <td>255.0</td>\n",
       "    </tr>\n",
       "    <tr>\n",
       "      <th>1266283</th>\n",
       "      <td>9299369</td>\n",
       "      <td>NaN</td>\n",
       "      <td>245.0</td>\n",
       "    </tr>\n",
       "  </tbody>\n",
       "</table>\n",
       "<p>3716 rows × 3 columns</p>\n",
       "</div>"
      ],
      "text/plain": [
       "             idx  rq     v6\n",
       "22632    8055718 NaN  240.0\n",
       "22633    8055719 NaN  240.0\n",
       "22634    8055720 NaN  240.0\n",
       "28512    8061598 NaN  270.0\n",
       "28513    8061599 NaN  270.0\n",
       "...          ...  ..    ...\n",
       "1262860  9295946 NaN  300.0\n",
       "1262861  9295947 NaN  300.0\n",
       "1262862  9295948 NaN  300.0\n",
       "1266282  9299368 NaN  255.0\n",
       "1266283  9299369 NaN  245.0\n",
       "\n",
       "[3716 rows x 3 columns]"
      ]
     },
     "execution_count": 124,
     "metadata": {},
     "output_type": "execute_result"
    }
   ],
   "source": [
    "uneq"
   ]
  },
  {
   "cell_type": "code",
   "execution_count": 123,
   "metadata": {},
   "outputs": [
    {
     "data": {
      "text/plain": [
       "22632   NaN\n",
       "Name: rq, dtype: float32"
      ]
     },
     "execution_count": 123,
     "metadata": {},
     "output_type": "execute_result"
    }
   ],
   "source": [
    "uneq.rq.drop_duplicates()"
   ]
  },
  {
   "cell_type": "code",
   "execution_count": null,
   "metadata": {},
   "outputs": [],
   "source": []
  },
  {
   "cell_type": "code",
   "execution_count": null,
   "metadata": {},
   "outputs": [],
   "source": []
  },
  {
   "cell_type": "code",
   "execution_count": null,
   "metadata": {},
   "outputs": [],
   "source": [
    "os.getcwd()\n",
    "os.chdir('/raid/home/srvx7/lehre/users/a1400070/CEUAS/CEUAS/public/adjust')"
   ]
  },
  {
   "cell_type": "code",
   "execution_count": null,
   "metadata": {},
   "outputs": [],
   "source": [
    "station = '68994'\n",
    "adj = 'uwindbias'\n",
    "dates, dcd, ncd, dd, nd = get_adj(station, adj)\n",
    "\n",
    "plt_adj(dates, dcd, dd, 100, station, 'day', adj, save=False)\n",
    "plt_adj(dates, ncd, nd, 100, station, 'night', adj, save=False)\n",
    "plt_adj(dates, dcd, dd, 500, station, 'day', adj, save=False)\n",
    "plt_adj(dates, ncd, nd, 500, station, 'night', adj, save=False)\n",
    "plt_adj(dates, dcd, dd, 850, station, 'day', adj, save=False)\n",
    "plt_adj(dates, ncd, nd, 850, station, 'night', adj, save=False)"
   ]
  },
  {
   "cell_type": "code",
   "execution_count": null,
   "metadata": {},
   "outputs": [],
   "source": [
    "station = '68994'\n",
    "adj = 'vwindbias'\n",
    "dates, dcd, ncd, dd, nd = get_adj(station, adj)\n",
    "\n",
    "plt_adj(dates, dcd, dd, 100, station, 'day', adj, save=False)\n",
    "plt_adj(dates, ncd, nd, 100, station, 'night', adj, save=False)\n",
    "plt_adj(dates, dcd, dd, 500, station, 'day', adj, save=False)\n",
    "plt_adj(dates, ncd, nd, 500, station, 'night', adj, save=False)\n",
    "plt_adj(dates, dcd, dd, 850, station, 'day', adj, save=False)\n",
    "plt_adj(dates, ncd, nd, 850, station, 'night', adj, save=False)"
   ]
  },
  {
   "cell_type": "code",
   "execution_count": null,
   "metadata": {},
   "outputs": [],
   "source": [
    "station = '68994'\n",
    "adj = 'directionbias'\n",
    "dates, dcd, ncd, dd, nd = get_adj(station, adj)\n",
    "\n",
    "plt_adj(dates, dcd, dd, 100, station, 'day', adj, save=False)\n",
    "plt_adj(dates, ncd, nd, 100, station, 'night', adj, save=False)\n",
    "plt_adj(dates, dcd, dd, 500, station, 'day', adj, save=False)\n",
    "plt_adj(dates, ncd, nd, 500, station, 'night', adj, save=False)\n",
    "plt_adj(dates, dcd, dd, 850, station, 'day', adj, save=False)\n",
    "plt_adj(dates, ncd, nd, 850, station, 'night', adj, save=False)"
   ]
  },
  {
   "cell_type": "markdown",
   "metadata": {},
   "source": [
    "---"
   ]
  },
  {
   "cell_type": "code",
   "execution_count": null,
   "metadata": {},
   "outputs": [],
   "source": [
    "station = '35229'\n",
    "adj = 'uwindbias'\n",
    "dates, dcd, ncd, dd, nd = get_adj(station, adj)\n",
    "\n",
    "plt_adj(dates, dcd, dd, 100, station, 'day', adj, save=False)\n",
    "plt_adj(dates, ncd, nd, 100, station, 'night', adj, save=False)\n",
    "plt_adj(dates, dcd, dd, 500, station, 'day', adj, save=False)\n",
    "plt_adj(dates, ncd, nd, 500, station, 'night', adj, save=False)\n",
    "plt_adj(dates, dcd, dd, 850, station, 'day', adj, save=False)\n",
    "plt_adj(dates, ncd, nd, 850, station, 'night', adj, save=False)"
   ]
  },
  {
   "cell_type": "code",
   "execution_count": null,
   "metadata": {},
   "outputs": [],
   "source": [
    "station = '35229'\n",
    "adj = 'vwindbias'\n",
    "dates, dcd, ncd, dd, nd = get_adj(station, adj)\n",
    "\n",
    "plt_adj(dates, dcd, dd, 100, station, 'day', adj, save=False)\n",
    "plt_adj(dates, ncd, nd, 100, station, 'night', adj, save=False)\n",
    "plt_adj(dates, dcd, dd, 500, station, 'day', adj, save=False)\n",
    "plt_adj(dates, ncd, nd, 500, station, 'night', adj, save=False)\n",
    "plt_adj(dates, dcd, dd, 850, station, 'day', adj, save=False)\n",
    "plt_adj(dates, ncd, nd, 850, station, 'night', adj, save=False)"
   ]
  },
  {
   "cell_type": "code",
   "execution_count": null,
   "metadata": {},
   "outputs": [],
   "source": [
    "station = '35229'\n",
    "adj = 'directionbias'\n",
    "dates, dcd, ncd, dd, nd = get_adj(station, adj)\n",
    "\n",
    "plt_adj(dates, dcd, dd, 100, station, 'day', adj, save=False)\n",
    "plt_adj(dates, ncd, nd, 100, station, 'night', adj, save=False)\n",
    "plt_adj(dates, dcd, dd, 500, station, 'day', adj, save=False)\n",
    "plt_adj(dates, ncd, nd, 500, station, 'night', adj, save=False)\n",
    "plt_adj(dates, dcd, dd, 850, station, 'day', adj, save=False)\n",
    "plt_adj(dates, ncd, nd, 850, station, 'night', adj, save=False)"
   ]
  },
  {
   "cell_type": "markdown",
   "metadata": {},
   "source": [
    "---"
   ]
  },
  {
   "cell_type": "code",
   "execution_count": null,
   "metadata": {},
   "outputs": [],
   "source": [
    "station = '70219'\n",
    "adj = 'uwindbias'\n",
    "dates, dcd, ncd, dd, nd = get_adj(station, adj)\n",
    "\n",
    "plt_adj(dates, dcd, dd, 100, station, 'day', adj, save=False)\n",
    "plt_adj(dates, ncd, nd, 100, station, 'night', adj, save=False)\n",
    "plt_adj(dates, dcd, dd, 500, station, 'day', adj, save=False)\n",
    "plt_adj(dates, ncd, nd, 500, station, 'night', adj, save=False)\n",
    "plt_adj(dates, dcd, dd, 850, station, 'day', adj, save=False)\n",
    "plt_adj(dates, ncd, nd, 850, station, 'night', adj, save=False)"
   ]
  },
  {
   "cell_type": "code",
   "execution_count": null,
   "metadata": {},
   "outputs": [],
   "source": [
    "station = '70219'\n",
    "adj = 'vwindbias'\n",
    "dates, dcd, ncd, dd, nd = get_adj(station, adj)\n",
    "\n",
    "plt_adj(dates, dcd, dd, 100, station, 'day', adj, save=False)\n",
    "plt_adj(dates, ncd, nd, 100, station, 'night', adj, save=False)\n",
    "plt_adj(dates, dcd, dd, 500, station, 'day', adj, save=False)\n",
    "plt_adj(dates, ncd, nd, 500, station, 'night', adj, save=False)\n",
    "plt_adj(dates, dcd, dd, 850, station, 'day', adj, save=False)\n",
    "plt_adj(dates, ncd, nd, 850, station, 'night', adj, save=False)"
   ]
  },
  {
   "cell_type": "code",
   "execution_count": null,
   "metadata": {},
   "outputs": [],
   "source": [
    "station = '70219'\n",
    "adj = 'directionbias'\n",
    "dates, dcd, ncd, dd, nd = get_adj(station, adj)\n",
    "\n",
    "plt_adj(dates, dcd, dd, 100, station, 'day', adj, save=False)\n",
    "plt_adj(dates, ncd, nd, 100, station, 'night', adj, save=False)\n",
    "plt_adj(dates, dcd, dd, 500, station, 'day', adj, save=False)\n",
    "plt_adj(dates, ncd, nd, 500, station, 'night', adj, save=False)\n",
    "plt_adj(dates, dcd, dd, 850, station, 'day', adj, save=False)\n",
    "plt_adj(dates, ncd, nd, 850, station, 'night', adj, save=False)"
   ]
  },
  {
   "cell_type": "markdown",
   "metadata": {},
   "source": [
    "---"
   ]
  },
  {
   "cell_type": "code",
   "execution_count": null,
   "metadata": {},
   "outputs": [],
   "source": [
    "station = '10393'\n",
    "adj = 'uwindbias'\n",
    "dates, dcd, ncd, dd, nd = get_adj(station, adj)\n",
    "\n",
    "plt_adj(dates, dcd, dd, 100, station, 'day', adj, save=False)\n",
    "plt_adj(dates, ncd, nd, 100, station, 'night', adj, save=False)\n",
    "plt_adj(dates, dcd, dd, 500, station, 'day', adj, save=False)\n",
    "plt_adj(dates, ncd, nd, 500, station, 'night', adj, save=False)\n",
    "plt_adj(dates, dcd, dd, 850, station, 'day', adj, save=False)\n",
    "plt_adj(dates, ncd, nd, 850, station, 'night', adj, save=False)"
   ]
  },
  {
   "cell_type": "code",
   "execution_count": null,
   "metadata": {},
   "outputs": [],
   "source": [
    "station = '10393'\n",
    "adj = 'vwindbias'\n",
    "dates, dcd, ncd, dd, nd = get_adj(station, adj)\n",
    "\n",
    "plt_adj(dates, dcd, dd, 100, station, 'day', adj, save=False)\n",
    "plt_adj(dates, ncd, nd, 100, station, 'night', adj, save=False)\n",
    "plt_adj(dates, dcd, dd, 500, station, 'day', adj, save=False)\n",
    "plt_adj(dates, ncd, nd, 500, station, 'night', adj, save=False)\n",
    "plt_adj(dates, dcd, dd, 850, station, 'day', adj, save=False)\n",
    "plt_adj(dates, ncd, nd, 850, station, 'night', adj, save=False)"
   ]
  },
  {
   "cell_type": "code",
   "execution_count": null,
   "metadata": {},
   "outputs": [],
   "source": [
    "station = '10393'\n",
    "adj = 'directionbias'\n",
    "dates, dcd, ncd, dd, nd = get_adj(station, adj)\n",
    "\n",
    "plt_adj(dates, dcd, dd, 100, station, 'day', adj, save=False)\n",
    "plt_adj(dates, ncd, nd, 100, station, 'night', adj, save=False)\n",
    "plt_adj(dates, dcd, dd, 500, station, 'day', adj, save=False)\n",
    "plt_adj(dates, ncd, nd, 500, station, 'night', adj, save=False)\n",
    "plt_adj(dates, dcd, dd, 850, station, 'day', adj, save=False)\n",
    "plt_adj(dates, ncd, nd, 850, station, 'night', adj, save=False)"
   ]
  },
  {
   "cell_type": "markdown",
   "metadata": {},
   "source": [
    "---"
   ]
  },
  {
   "cell_type": "code",
   "execution_count": null,
   "metadata": {},
   "outputs": [],
   "source": [
    "station = '11035'\n",
    "adj = 'uwindbias'\n",
    "dates, dcd, ncd, dd, nd = get_adj(station, adj)\n",
    "\n",
    "plt_adj(dates, dcd, dd, 100, station, 'day', adj, save=False)\n",
    "plt_adj(dates, ncd, nd, 100, station, 'night', adj, save=False)\n",
    "plt_adj(dates, dcd, dd, 500, station, 'day', adj, save=False)\n",
    "plt_adj(dates, ncd, nd, 500, station, 'night', adj, save=False)\n",
    "plt_adj(dates, dcd, dd, 850, station, 'day', adj, save=False)\n",
    "plt_adj(dates, ncd, nd, 850, station, 'night', adj, save=False)"
   ]
  },
  {
   "cell_type": "code",
   "execution_count": null,
   "metadata": {},
   "outputs": [],
   "source": [
    "station = '11035'\n",
    "adj = 'vwindbias'\n",
    "dates, dcd, ncd, dd, nd = get_adj(station, adj)\n",
    "\n",
    "plt_adj(dates, dcd, dd, 100, station, 'day', adj, save=False)\n",
    "plt_adj(dates, ncd, nd, 100, station, 'night', adj, save=False)\n",
    "plt_adj(dates, dcd, dd, 500, station, 'day', adj, save=False)\n",
    "plt_adj(dates, ncd, nd, 500, station, 'night', adj, save=False)\n",
    "plt_adj(dates, dcd, dd, 850, station, 'day', adj, save=False)\n",
    "plt_adj(dates, ncd, nd, 850, station, 'night', adj, save=False)"
   ]
  },
  {
   "cell_type": "code",
   "execution_count": null,
   "metadata": {},
   "outputs": [],
   "source": [
    "station = '11035'\n",
    "adj = 'directionbias'\n",
    "dates, dcd, ncd, dd, nd = get_adj(station, adj)\n",
    "\n",
    "plt_adj(dates, dcd, dd, 100, station, 'day', adj, save=False)\n",
    "plt_adj(dates, ncd, nd, 100, station, 'night', adj, save=False)\n",
    "plt_adj(dates, dcd, dd, 500, station, 'day', adj, save=False)\n",
    "plt_adj(dates, ncd, nd, 500, station, 'night', adj, save=False)\n",
    "plt_adj(dates, dcd, dd, 850, station, 'day', adj, save=False)\n",
    "plt_adj(dates, ncd, nd, 850, station, 'night', adj, save=False)"
   ]
  },
  {
   "cell_type": "markdown",
   "metadata": {},
   "source": [
    "---"
   ]
  },
  {
   "cell_type": "code",
   "execution_count": null,
   "metadata": {},
   "outputs": [],
   "source": [
    "station = '91413'\n",
    "adj = 'uwindbias'\n",
    "dates, dcd, ncd, dd, nd = get_adj(station, adj)\n",
    "\n",
    "plt_adj(dates, dcd, dd, 100, station, 'day', adj, save=False)\n",
    "plt_adj(dates, ncd, nd, 100, station, 'night', adj, save=False)\n",
    "plt_adj(dates, dcd, dd, 500, station, 'day', adj, save=False)\n",
    "plt_adj(dates, ncd, nd, 500, station, 'night', adj, save=False)\n",
    "plt_adj(dates, dcd, dd, 850, station, 'day', adj, save=False)\n",
    "plt_adj(dates, ncd, nd, 850, station, 'night', adj, save=False)"
   ]
  },
  {
   "cell_type": "code",
   "execution_count": null,
   "metadata": {},
   "outputs": [],
   "source": [
    "station = '91413'\n",
    "adj = 'vwindbias'\n",
    "dates, dcd, ncd, dd, nd = get_adj(station, adj)\n",
    "\n",
    "plt_adj(dates, dcd, dd, 100, station, 'day', adj, save=False)\n",
    "plt_adj(dates, ncd, nd, 100, station, 'night', adj, save=False)\n",
    "plt_adj(dates, dcd, dd, 500, station, 'day', adj, save=False)\n",
    "plt_adj(dates, ncd, nd, 500, station, 'night', adj, save=False)\n",
    "plt_adj(dates, dcd, dd, 850, station, 'day', adj, save=False)\n",
    "plt_adj(dates, ncd, nd, 850, station, 'night', adj, save=False)"
   ]
  },
  {
   "cell_type": "code",
   "execution_count": null,
   "metadata": {},
   "outputs": [],
   "source": [
    "station = '91413'\n",
    "adj = 'directionbias'\n",
    "dates, dcd, ncd, dd, nd = get_adj(station, adj)\n",
    "\n",
    "plt_adj(dates, dcd, dd, 100, station, 'day', adj, save=False)\n",
    "plt_adj(dates, ncd, nd, 100, station, 'night', adj, save=False)\n",
    "plt_adj(dates, dcd, dd, 500, station, 'day', adj, save=False)\n",
    "plt_adj(dates, ncd, nd, 500, station, 'night', adj, save=False)\n",
    "plt_adj(dates, dcd, dd, 850, station, 'day', adj, save=False)\n",
    "plt_adj(dates, ncd, nd, 850, station, 'night', adj, save=False)"
   ]
  },
  {
   "cell_type": "code",
   "execution_count": null,
   "metadata": {},
   "outputs": [],
   "source": []
  },
  {
   "cell_type": "code",
   "execution_count": null,
   "metadata": {},
   "outputs": [],
   "source": []
  }
 ],
 "metadata": {
  "kernelspec": {
   "display_name": "Python 3",
   "language": "python",
   "name": "python3"
  },
  "language_info": {
   "codemirror_mode": {
    "name": "ipython",
    "version": 3
   },
   "file_extension": ".py",
   "mimetype": "text/x-python",
   "name": "python",
   "nbconvert_exporter": "python",
   "pygments_lexer": "ipython3",
   "version": "3.7.9"
  }
 },
 "nbformat": 4,
 "nbformat_minor": 4
}
