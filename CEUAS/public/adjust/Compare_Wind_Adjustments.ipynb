{
 "cells": [
  {
   "cell_type": "code",
   "execution_count": 1,
   "metadata": {},
   "outputs": [],
   "source": [
    "import pandas as pd\n",
    "import numpy as np\n",
    "import sys, zipfile, os, time\n",
    "import matplotlib.pyplot as plt\n",
    "import glob\n",
    "import datetime\n",
    "import urllib3\n",
    "import cdsapi\n",
    "import xarray\n",
    "import shutil\n",
    "import warnings\n",
    "import pickle\n",
    "import h5py\n",
    "import netCDF4\n",
    "warnings.filterwarnings('ignore')\n",
    "\n",
    "sys.path.append(os.getcwd()+'/../cds-backend/code/')\n",
    "import cds_eua3 as eua"
   ]
  },
  {
   "cell_type": "code",
   "execution_count": 2,
   "metadata": {},
   "outputs": [],
   "source": [
    "def get_adj(station, tarvar):\n",
    "    import datetime\n",
    "    if tarvar == 'directionbias':\n",
    "        cdsvar = 'wind_direction'\n",
    "    elif tarvar == 'uwindbias':\n",
    "        cdsvar = 'u_component_of_wind'\n",
    "    elif tarvar == 'uwindbias':\n",
    "        cdsvar = 'u_component_of_wind'\n",
    "    else:\n",
    "        print('not an available wind variable')\n",
    "        return 0, 0, 0, 0, 0\n",
    "    \"\"\"Compare created adjustment to downloaded adjustment\n",
    "    \"\"\"\n",
    "    date0 = datetime.datetime.strptime('1900-01-01', \"%Y-%m-%d\")\n",
    "\n",
    "    file = glob.glob('./Wind_adjustment/*/*winddir*'+station+'*')[0]\n",
    "    data = eua.CDMDataset(file)#.to_dataframe()\n",
    "    display(data)\n",
    "    date0 = datetime.datetime.strptime('1900-01-01', \"%Y-%m-%d\")\n",
    "\n",
    "    lessdates = []\n",
    "    basedatum = data.datum[:]\n",
    "    for i in range(basedatum[0], basedatum[-1], 1000):\n",
    "        lessdates.append(date0 + datetime.timedelta(days=int(i)))\n",
    "    dates = lessdates\n",
    "    \n",
    "    press = data.press[:]\n",
    "    print(press)\n",
    "    nightadj = data[tarvar][0,:]\n",
    "    dayadj = data[tarvar][1,:]    \n",
    "    \n",
    "    c = cdsapi.Client()\n",
    "    r = c.retrieve('insitu-comprehensive-upper-air-observation-network',\n",
    "                   {'variable': cdsvar,\n",
    "                    'optional':['wind_bias_estimate'],\n",
    "                    'statid': station,\n",
    "                    'pressure_level':[10,20,30,50,70,100,150,200,250,300,400,500,700,850,925,1000]\n",
    "                   }\n",
    "                  )\n",
    "    r.download(target='download.zip')\n",
    "    assert os.stat('download.zip').st_size == r.content_length, \"Downloaded file is incomplete\"\n",
    "    z = zipfile.ZipFile('download.zip')\n",
    "    z.extractall(path='./tocompare/wind/cds_'+station)\n",
    "    z.close()\n",
    "    cdsfile = glob.glob('./tocompare/wind/cds_'+ station +'/*.nc')\n",
    "    cdsdata=eua.CDMDataset(cdsfile[0]).to_dataframe()\n",
    "    daycdsdata = cdsdata[cdsdata.time.dt.hour > 6][cdsdata.time.dt.hour <= 18]\n",
    "    nightcdsdata = cdsdata[cdsdata.time.dt.hour <= 6].append(cdsdata[cdsdata.time.dt.hour > 18])\n",
    "    \n",
    "    \n",
    "    calc_day_out = {}\n",
    "    calc_night_out = {}\n",
    "    cds_day_out = {}\n",
    "    cds_night_out = {}\n",
    "    for i in [10,20,30,50,70,100,150,200,250,300,400,500,700,850,925,1000]:\n",
    "        calc_day_out[str(i)]=[]\n",
    "        calc_night_out[str(i)]=[]\n",
    "        cds_day_out[str(i)]=[]\n",
    "        cds_night_out[str(i)]=[]\n",
    "        \n",
    "    for i in range(len(dates)-1):\n",
    "        for j in range(len(press)):\n",
    "            try:\n",
    "                d_adjd = dayadj[j][i*300]\n",
    "                calc_day_out[str(int(press[j]))].append(d_adjd)\n",
    "            except:\n",
    "                calc_day_out[str(int(press[j]))].append(np.nan) \n",
    "            try:\n",
    "                d_cdsd = daycdsdata[daycdsdata.plev == press[j]*100][daycdsdata.time >= dates[i]][daycdsdata.time < dates[i+1]]\n",
    "                cds_day_out[str(int(press[j]))].append(d_cdsd[var].iloc[0])\n",
    "            except:\n",
    "                cds_day_out[str(int(press[j]))].append(np.nan)\n",
    "            try:\n",
    "                n_cdsd = nightcdsdata[nightcdsdata.plev == press[j]*100][nightcdsdata.time >= dates[i]][nightcdsdata.time < dates[i+1]]\n",
    "                cds_night_out[str(int(press[j]))].append(n_cdsd[var].iloc[0])\n",
    "            except:\n",
    "                cds_night_out[str(int(press[j]))].append(np.nan)\n",
    "            try:\n",
    "                n_adjd = nightadj[j][i*300]\n",
    "                calc_night_out[str(int(press[j]))].append(n_adjd)\n",
    "            except:\n",
    "                calc_night_out[str(int(press[j]))].append(np.nan)\n",
    "                \n",
    "    return dates, cds_day_out, cds_night_out, calc_day_out, calc_night_out"
   ]
  },
  {
   "cell_type": "code",
   "execution_count": 3,
   "metadata": {},
   "outputs": [],
   "source": [
    "# def plt_adj(cdata, adata, plev, station, time, adj, save):\n",
    "#     cdata = cdata[cdata.plev == plev*100]\n",
    "#     adata = adata[adata.plev == plev*100]\n",
    "#     fig, ax = plt.subplots()\n",
    "#     ax.scatter(cdata['time'], cdata.wind_bias_estimate, label='CDS')\n",
    "#     ax.scatter(adata['time'], adata.wind_bias_estimate, label='Calc')\n",
    "\n",
    "#     ax.set(xlabel='time', ylabel='Adjustment: '+adj,\n",
    "#            title= str(station)+' Temperature '+str(plev)+' hPa '+time)\n",
    "#     ax.legend()\n",
    "#     ax.grid()\n",
    "    \n",
    "#     if save:\n",
    "#         fig.savefig(str(station)+'_Temperature_'+str(plev)+'_hPa_'+time+'.png')\n",
    "#     plt.show()\n",
    "#     return"
   ]
  },
  {
   "cell_type": "code",
   "execution_count": 4,
   "metadata": {},
   "outputs": [],
   "source": [
    "def plt_adj(dates, cdata, adata, plev, station, time, adj, save):\n",
    "#     dates_list = [datetime.datetime.strptime(date, '%Y%m%d').date() for date in dates[1:]]\n",
    "    fig, ax = plt.subplots()\n",
    "    ax.scatter(dates[1:], cdata[str(plev)], label='CDS')\n",
    "    ax.scatter(dates[1:], adata[str(plev)], label='Calc')\n",
    "\n",
    "    ax.set(xlabel='breaks', ylabel='Adjustment: '+adj,\n",
    "           title= str(station)+' Temperature '+str(plev)+' hPa '+time)\n",
    "    ax.legend()\n",
    "    ax.grid()\n",
    "    \n",
    "    if save:\n",
    "        fig.savefig(str(station)+'_Temperature_'+str(plev)+'_hPa_'+time+'.png')\n",
    "    plt.show()\n",
    "    return"
   ]
  },
  {
   "cell_type": "code",
   "execution_count": null,
   "metadata": {},
   "outputs": [
    {
     "data": {
      "text/plain": [
       "File: <HDF5 file \"feedbackmergedwinddir070219.nc\" (mode r)>\n",
       "Permissions: RW (a1400070)\n",
       "Filesize: 20.94 MB\n",
       "Filename: ./Wind_adjustment/070219/feedbackmergedwinddir070219.nc\n",
       "(G)roups/(V)ariables: \n",
       "\n",
       " - V | bias_estimate________________________________ : : (2, 16, 28125)\n",
       " - V | datum________________________________________ : : (28125,)\n",
       " - V | directionbias________________________________ : : (2, 16, 28125)\n",
       " - V | era5_fgdep___________________________________ : : (2, 16, 28125)\n",
       " - V | hour_________________________________________ : : (2,)\n",
       " - V | hours________________________________________ : : (2, 28125)\n",
       " - V | lat__________________________________________ : : (1,)\n",
       " - V | lon__________________________________________ : : (1,)\n",
       " - V | press________________________________________ : : (16,)\n",
       " - V | pressure_____________________________________ : : (16,)\n",
       " - V | station______________________________________ : : (1,)\n",
       " - V | time_________________________________________ : : (28125,)\n",
       " - V | uwindbias____________________________________ : : (2, 16, 28125)\n",
       " - V | vwindbias____________________________________ : : (2, 16, 28125)\n",
       " - V | winddirection________________________________ : : (2, 16, 28125)"
      ]
     },
     "metadata": {},
     "output_type": "display_data"
    },
    {
     "name": "stderr",
     "output_type": "stream",
     "text": [
      "2021-05-04 15:26:07,883 INFO Welcome to the CDS\n",
      "2021-05-04 15:26:07,884 INFO Sending request to https://sis-dev.climate.copernicus.eu/api/v2/resources/insitu-comprehensive-upper-air-observation-network\n"
     ]
    },
    {
     "name": "stdout",
     "output_type": "stream",
     "text": [
      "[  10.   20.   30.   50.   70.  100.  150.  200.  250.  300.  400.  500.\n",
      "  700.  850.  925. 1000.]\n"
     ]
    },
    {
     "name": "stderr",
     "output_type": "stream",
     "text": [
      "2021-05-04 15:26:08,177 INFO Request is completed\n",
      "2021-05-04 15:26:08,178 INFO Downloading http://136.156.132.176/cache-compute-0000/cache/data2/adaptor.comprehensive_upper_air.retrieve-1620130746.408693-7818-3-dffbac9b-256c-4e83-85c5-09063c1bd783.zip to download.zip (21.9M)\n",
      "2021-05-04 15:26:09,319 INFO Download rate 19.2M/s  \n",
      "2021-05-04 15:26:09,400 INFO Reading Profile on slice(None, None, None)\n",
      "2021-05-04 15:26:13,411 INFO Note: NumExpr detected 56 cores but \"NUMEXPR_MAX_THREADS\" not set, so enforcing safe limit of 8.\n"
     ]
    }
   ],
   "source": [
    "station = '70219'\n",
    "adj = 'directionbias'\n",
    "dates, dcd, ncd, dd, nd = get_adj(station, adj)\n",
    "\n",
    "plt_adj(dates, dcd, dd, 100, station, 'day', adj, save=False)\n",
    "plt_adj(dates, ncd, nd, 100, station, 'night', adj, save=False)\n",
    "plt_adj(dates, dcd, dd, 500, station, 'day', adj, save=False)\n",
    "plt_adj(dates, ncd, nd, 500, station, 'night', adj, save=False)\n",
    "plt_adj(dates, dcd, dd, 850, station, 'day', adj, save=False)\n",
    "plt_adj(dates, ncd, nd, 850, station, 'night', adj, save=False)"
   ]
  },
  {
   "cell_type": "code",
   "execution_count": null,
   "metadata": {},
   "outputs": [],
   "source": [
    "station = '10393'\n",
    "dates, dcd, ncd, dd, nd = get_adj(station, 'directionbias')\n",
    "\n",
    "plt_adj(dates, cd, ad, 100, station, 'day', adj, save=False)\n",
    "plt_adj(dates, cn, an, 100, station, 'night', adj, save=False)\n",
    "plt_adj(dates, cd, ad, 500, station, 'day', adj, save=False)\n",
    "plt_adj(dates, cn, an, 500, station, 'night', adj, save=False)\n",
    "plt_adj(dates, cd, ad, 850, station, 'day', adj, save=False)\n",
    "plt_adj(dates, cn, an, 850, station, 'night', adj, save=False)"
   ]
  },
  {
   "cell_type": "code",
   "execution_count": null,
   "metadata": {},
   "outputs": [],
   "source": [
    "station = '11035'\n",
    "dates, dcd, ncd, dd, nd = get_adj(station, 'directionbias')\n",
    "\n",
    "plt_adj(dates, cd, ad, 100, station, 'day', adj, save=False)\n",
    "plt_adj(dates, cn, an, 100, station, 'night', adj, save=False)\n",
    "plt_adj(dates, cd, ad, 500, station, 'day', adj, save=False)\n",
    "plt_adj(dates, cn, an, 500, station, 'night', adj, save=False)\n",
    "plt_adj(dates, cd, ad, 850, station, 'day', adj, save=False)\n",
    "plt_adj(dates, cn, an, 850, station, 'night', adj, save=False)"
   ]
  },
  {
   "cell_type": "code",
   "execution_count": null,
   "metadata": {},
   "outputs": [],
   "source": [
    "station = '91413'\n",
    "dates, dcd, ncd, dd, nd = get_adj(station, 'directionbias')\n",
    "\n",
    "plt_adj(dates, cd, ad, 100, station, 'day', adj, save=False)\n",
    "plt_adj(dates, cn, an, 100, station, 'night', adj, save=False)\n",
    "plt_adj(dates, cd, ad, 500, station, 'day', adj, save=False)\n",
    "plt_adj(dates, cn, an, 500, station, 'night', adj, save=False)\n",
    "plt_adj(dates, cd, ad, 850, station, 'day', adj, save=False)\n",
    "plt_adj(dates, cn, an, 850, station, 'night', adj, save=False)"
   ]
  },
  {
   "cell_type": "code",
   "execution_count": null,
   "metadata": {},
   "outputs": [],
   "source": []
  }
 ],
 "metadata": {
  "kernelspec": {
   "display_name": "Python 3",
   "language": "python",
   "name": "python3"
  },
  "language_info": {
   "codemirror_mode": {
    "name": "ipython",
    "version": 3
   },
   "file_extension": ".py",
   "mimetype": "text/x-python",
   "name": "python",
   "nbconvert_exporter": "python",
   "pygments_lexer": "ipython3",
   "version": "3.8.5"
  }
 },
 "nbformat": 4,
 "nbformat_minor": 4
}
