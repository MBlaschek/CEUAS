{
 "cells": [
  {
   "cell_type": "markdown",
   "metadata": {},
   "source": [
    "# Copernicus Climate Change Service (C3S) - Upper Air Data Service \n",
    "\n",
    "    This IPython Notebook is intended for demonstration purposes and example usage of the Homogenization software for Radiosonde humidity data.\n",
    "    For further information please refer to the Deliverable Document or the script `raso_adj_cdm_v0.py` on [Github CEUAS](https://github.com/MBlaschek/CEUAS/tree/master/CEUAS/public/adjust).\n",
    "\n",
    " Table of Contents:\n",
    "* [Downloading of data](#Downloading-of-data)\n",
    "* [Investigating the data](#Investigating-the-data)\n",
    "* [Running the Homogenization software](#Running-the-Homogenization-software)\n",
    "* [Investigating results](#Investigating-results)"
   ]
  },
  {
   "cell_type": "code",
   "execution_count": 1,
   "metadata": {},
   "outputs": [
    {
     "name": "stdout",
     "output_type": "stream",
     "text": [
      "Populating the interactive namespace from numpy and matplotlib\n"
     ]
    }
   ],
   "source": [
    "%pylab inline"
   ]
  },
  {
   "cell_type": "code",
   "execution_count": 2,
   "metadata": {},
   "outputs": [],
   "source": [
    "# Plotting parameters\n",
    "plt.rcParams['figure.figsize'] = [12.0, 6.0]\n",
    "plt.rcParams['lines.linewidth'] = 2\n",
    "plt.rcParams['font.size'] = 15\n",
    "plt.style.use('seaborn-colorblind')"
   ]
  },
  {
   "cell_type": "code",
   "execution_count": 3,
   "metadata": {},
   "outputs": [],
   "source": [
    "#\n",
    "# Make sure you have Python 3\n",
    "#\n",
    "from platform import python_version\n",
    "if python_version()[0] != '3':\n",
    "    print(\"Your Version:\", python_version())\n",
    "    raise RuntimeError(\"This Notebook requires Python 3\")"
   ]
  },
  {
   "cell_type": "markdown",
   "metadata": {},
   "source": [
    "# Downloading of data\n",
    "For demonstration purposes, example data is allready available but we show here how to download these data from the CDS."
   ]
  },
  {
   "cell_type": "markdown",
   "metadata": {},
   "source": [
    "A typical request should contain:\n",
    "1. **statid** - the Station Identifier\n",
    "2. **date** - datetime selection YYYYMMDD\n",
    "3. **pressure_level** - selection of pressure levels\n",
    "4. **variable** - selection of variables \n",
    "5. **fbstats**  - feedback information from reanalysis"
   ]
  },
  {
   "cell_type": "code",
   "execution_count": 4,
   "metadata": {},
   "outputs": [
    {
     "name": "stdout",
     "output_type": "stream",
     "text": [
      "Retreived files: \n",
      "['dest_72357_air_temperature.nc', 'dest_72357_relative_humidity.nc']\n"
     ]
    }
   ],
   "source": [
    "if True:\n",
    "    import requests, zipfile, io\n",
    "    #\n",
    "    # This is for Python 3+\n",
    "    #\n",
    "    # http://early-upper-air.copernicus-climate.eu\n",
    "    r = requests.post('http://srvx8.img.univie.ac.at:8004',\n",
    "                      headers={'content-type': 'application/json'},\n",
    "                      json={\"statid\": \"72357\",\n",
    "                            \"date\": [19900101, 20181231],\n",
    "                            \"pressure_level\": [1000, 2000, 3000, 5000, 7000, 10000, 15000, 20000, 25000, 30000, 40000,\n",
    "                                               50000, 70000, 85000, 92500, 100000],\n",
    "                            \"variable\": [\"temperature\", \"relative_humidity\"],\n",
    "                            \"fbstats\": [\"obs_minus_bg\", \"obs_minus_an\", \"bias_estimate\"]\n",
    "                            },\n",
    "                      stream=True)\n",
    "    if \"Administrator\" in r.text:\n",
    "        print(r.text)\n",
    "        raise RuntimeError(\"Something is not correct with the request\")\n",
    "    #\n",
    "    # Unzip the Data Stream\n",
    "    #\n",
    "    try:\n",
    "        z = zipfile.ZipFile(io.BytesIO(r.content))\n",
    "        print(\"Retreived files: \")\n",
    "        print(z.namelist())\n",
    "        z.extractall(path='./example_data')\n",
    "    except:\n",
    "        print(r.text)\n",
    "        print(\"Error in request\")"
   ]
  },
  {
   "cell_type": "markdown",
   "metadata": {},
   "source": [
    "Another Way can be use a Linux tool called `curl` to download a zipfile:\n",
    "```bash\n",
    "curl -H \"Content-Type: application/json\" -X POST --digest --data '{\"statid\":\"10393\",\"date\":[20000101,20181231],\"pressure_level\":[1000, 2000, 3000, 5000, 7000, 10000, 15000, 20000, 25000, 30000, 40000, 50000, 70000, 85000, 92500, 100000],\"variable\":[\"temperature\",\"relative_humidity\"],\"fbstats\":[\"obs_minus_bg\",\"obs_minus_an\",\"bias_estimate\"]}' -o example_data/download.zip http://srvx8.img.univie.ac.at:8004\n",
    "```\n",
    "and then unzip the contents in the directory\n",
    "```bash\n",
    "unzip -o example_data/download.zip\n",
    "```"
   ]
  },
  {
   "cell_type": "code",
   "execution_count": 5,
   "metadata": {},
   "outputs": [
    {
     "name": "stdout",
     "output_type": "stream",
     "text": [
      "\u001b[01;34m.\u001b[00m\n",
      "├── [1.0K Jan 15 17:01]  README.md\n",
      "├── [ 37K Jan 24 11:26]  raso_adj_cdm_v0.py\n",
      "├── [  43 Jan 24 11:27]  \u001b[01;34m__pycache__\u001b[00m\n",
      "│   └── [ 24K Jan 24 11:27]  raso_adj_cdm_v0.cpython-37.pyc\n",
      "├── [129K Jan 24 11:53]  Example_Homogenization.ipynb\n",
      "└── [  80 Jan 24 11:53]  \u001b[01;34mexample_data\u001b[00m\n",
      "    ├── [5.4M Jan 24 11:53]  dest_72357_relative_humidity.nc\n",
      "    └── [5.5M Jan 24 11:53]  dest_72357_air_temperature.nc\n",
      "\n",
      "2 directories, 6 files\n"
     ]
    }
   ],
   "source": [
    "# Show the new downloaded files in example_data directory\n",
    "!tree -Dhr"
   ]
  },
  {
   "cell_type": "code",
   "execution_count": 9,
   "metadata": {},
   "outputs": [
    {
     "name": "stdout",
     "output_type": "stream",
     "text": [
      "netcdf dest_72357_air_temperature {\n",
      "dimensions:\n",
      "\tobs = 334367 ;\n",
      "\tstring5 = 5 ;\n",
      "\ttrajectory = 21329 ;\n",
      "variables:\n",
      "\tfloat bias_estimate(obs) ;\n",
      "\t\tbias_estimate:cdmname = \"era5fb/biascorr@body\" ;\n",
      "\t\tbias_estimate:units = \"K\" ;\n",
      "\t\tbias_estimate:coordinates = \"lat lon time plev\" ;\n",
      "\t\tbias_estimate:cdsname = \"bias_estimate\" ;\n",
      "\t\tbias_estimate:standard_name = \"air_temperature\" ;\n",
      "\t\tbias_estimate:long_name = \"ERA5 reanalysis bias_estimate\" ;\n",
      "\tfloat lat(obs) ;\n",
      "\t\tlat:_FillValue = NaNf ;\n",
      "\t\tlat:description = \"Latitude of the observed value, -90 to 90 (or other as defined by CRS)\" ;\n",
      "\t\tlat:cdmname = \"observations_table/latitude\" ;\n",
      "\t\tlat:units = \"degree_north\" ;\n",
      "\t\tlat:standard_name = \"latitude\" ;\n",
      "\tfloat lon(obs) ;\n",
      "\t\tlon:_FillValue = NaNf ;\n",
      "\t\tlon:cdmname = \"observations_table/longitude\" ;\n",
      "\t\tlon:description = \"Longitude of the observed value, -180 to 180 (or other as defined by CRS). This may or may not be the same as the report location.\" ;\n",
      "\t\tlon:units = \"degree_east\" ;\n",
      "\t\tlon:standard_name = \"longitude\" ;\n",
      "\tfloat obs_minus_an(obs) ;\n",
      "\t\tobs_minus_an:cdmname = \"era5fb/an_depar@body\" ;\n",
      "\t\tobs_minus_an:units = \"K\" ;\n",
      "\t\tobs_minus_an:coordinates = \"lat lon time plev\" ;\n",
      "\t\tobs_minus_an:cdsname = \"obs_minus_an\" ;\n",
      "\t\tobs_minus_an:standard_name = \"air_temperature\" ;\n",
      "\t\tobs_minus_an:long_name = \"ERA5 reanalysis obs_minus_an\" ;\n",
      "\tfloat obs_minus_bg(obs) ;\n",
      "\t\tobs_minus_bg:cdmname = \"era5fb/fg_depar@body\" ;\n",
      "\t\tobs_minus_bg:units = \"K\" ;\n",
      "\t\tobs_minus_bg:coordinates = \"lat lon time plev\" ;\n",
      "\t\tobs_minus_bg:cdsname = \"obs_minus_bg\" ;\n",
      "\t\tobs_minus_bg:standard_name = \"air_temperature\" ;\n",
      "\t\tobs_minus_bg:long_name = \"ERA5 reanalysis obs_minus_bg\" ;\n",
      "\tfloat plev(obs) ;\n",
      "\t\tplev:_FillValue = NaNf ;\n",
      "\t\tplev:description = \"z coordinate of observation\" ;\n",
      "\t\tplev:cdmname = \"observations_table/z_coordinate\" ;\n",
      "\t\tplev:units = \"Pa\" ;\n",
      "\t\tplev:standard_name = \"air_pressure\" ;\n",
      "\tfloat ta(obs) ;\n",
      "\t\tta:_FillValue = NaNf ;\n",
      "\t\tta:description = \"The observed value\" ;\n",
      "\t\tta:cdmname = \"observations_table/observation_value\" ;\n",
      "\t\tta:units = \"K\" ;\n",
      "\t\tta:coordinates = \"lat lon time plev\" ;\n",
      "\t\tta:standard_name = \"air_temperature\" ;\n",
      "\t\tta:cdsname = \"temperature\" ;\n",
      "\tint64 time(obs) ;\n",
      "\t\ttime:calendar = \"proleptic_gregorian\" ;\n",
      "\t\ttime:description = \"timestamp for observation\" ;\n",
      "\t\ttime:cdmname = \"observations_table/date_time\" ;\n",
      "\t\ttime:units = \"minutes since 1989-03-28 00:00:00\" ;\n",
      "\t\ttime:standard_name = \"time\" ;\n",
      "\tint trajectory_index(obs) ;\n",
      "\t\ttrajectory_index:long_name = \"index of trajectory this obs belongs to\" ;\n",
      "\t\ttrajectory_index:instance_dimension = \"trajectory\" ;\n",
      "\t\ttrajectory_index:coordinates = \"lat lon time plev\" ;\n",
      "\tchar trajectory_label(trajectory, string5) ;\n",
      "\t\ttrajectory_label:cdmname = \"header_table/report_id\" ;\n",
      "\t\ttrajectory_label:coordinates = \"lat lon time plev\" ;\n",
      "\t\ttrajectory_label:units = \"\" ;\n",
      "\t\ttrajectory_label:description = \"Unique ID for report (unique ID given by combination of report_id and observation_id)\" ;\n",
      "\t\ttrajectory_label:cf_role = \"trajectory_id\" ;\n",
      "\t\ttrajectory_label:long_name = \"Label of trajectory\" ;\n",
      "\n",
      "// global attributes:\n",
      "\t\t:primary_id = \"0-20000-0-72357\" ;\n",
      "\t\t:station_name = \"NORMAN/MAX WESTHEIMER A, OK.\" ;\n",
      "\t\t:Conventions = \"CF-1.7\" ;\n",
      "\t\t:source = \"radiosonde\" ;\n",
      "\t\t:featureType = \"trajectory\" ;\n",
      "\t\t:history = \"Created by Copernicus Early Upper Air Service Version 0, 24-Jan-2020 11:52:41\" ;\n",
      "}\n"
     ]
    }
   ],
   "source": [
    "# Example output of retrieved NetCDF file\n",
    "!ncdump -h example_data/dest_72357_air_temperature.nc"
   ]
  },
  {
   "cell_type": "markdown",
   "metadata": {},
   "source": [
    "# Investigating the data\n",
    "This is an example, but by the end of this contract, users will be delivered similar files.\n",
    "\n",
    "The following shows how to open these files and read information. This are very common routines for data analysis.\n"
   ]
  },
  {
   "cell_type": "code",
   "execution_count": 15,
   "metadata": {},
   "outputs": [],
   "source": [
    "import xarray as xr"
   ]
  },
  {
   "cell_type": "code",
   "execution_count": 23,
   "metadata": {},
   "outputs": [],
   "source": [
    "ident = '72357'  # Station Identifier"
   ]
  },
  {
   "cell_type": "code",
   "execution_count": 31,
   "metadata": {},
   "outputs": [],
   "source": [
    "tdata = xr.load_dataset('example_data/dest_{}_air_temperature.nc'.format(ident))"
   ]
  },
  {
   "cell_type": "code",
   "execution_count": 32,
   "metadata": {},
   "outputs": [],
   "source": [
    "rdata = xr.load_dataset('example_data/dest_{}_relative_humidity.nc'.format(ident))"
   ]
  },
  {
   "cell_type": "markdown",
   "metadata": {},
   "source": [
    "## Temperature data in Xarray\n",
    "\n",
    "Notice that there are the following variables:\n",
    "* bias_estimate - Reanalysis Bias estimate\n",
    "* obs_min_an - Analysis Departures\n",
    "* obs_min_bg - First Guess Departures\n",
    "* ta - Observations\n",
    "* trajectory_index - CDM Identifier\n",
    "* trajectory_label - CDM Identifier"
   ]
  },
  {
   "cell_type": "code",
   "execution_count": 33,
   "metadata": {},
   "outputs": [
    {
     "data": {
      "text/plain": [
       "<xarray.Dataset>\n",
       "Dimensions:           (obs: 334367, trajectory: 21329)\n",
       "Coordinates:\n",
       "    lat               (obs) float32 nan nan nan nan nan ... nan nan nan nan nan\n",
       "    lon               (obs) float32 nan nan nan nan nan ... nan nan nan nan nan\n",
       "    plev              (obs) float32 1000.0 2000.0 3000.0 ... 92500.0 100000.0\n",
       "    time              (obs) datetime64[ns] 1989-03-28 1989-03-28 ... 1989-03-28\n",
       "Dimensions without coordinates: obs, trajectory\n",
       "Data variables:\n",
       "    bias_estimate     (obs) float32 -1.340332 -0.295052 ... -0.02625 nan\n",
       "    obs_minus_an      (obs) float32 0.280334 -2.471445 ... 1.084904 nan\n",
       "    obs_minus_bg      (obs) float32 0.427206 -3.270976 -1.466765 ... 1.18198 nan\n",
       "    ta                (obs) float32 219.3 214.3 213.3 ... 273.35 279.75 nan\n",
       "    trajectory_index  (obs) int32 0 0 0 0 0 0 ... 21328 21328 21328 21328 21328\n",
       "    trajectory_label  (trajectory) |S5 b'00551' b'00552' ... b'23679' b'23680'\n",
       "Attributes:\n",
       "    primary_id:    0-20000-0-72357\n",
       "    station_name:  NORMAN/MAX WESTHEIMER A, OK.\n",
       "    Conventions:   CF-1.7\n",
       "    source:        radiosonde\n",
       "    featureType:   trajectory\n",
       "    history:       Created by Copernicus Early Upper Air Service Version 0, 2..."
      ]
     },
     "execution_count": 33,
     "metadata": {},
     "output_type": "execute_result"
    }
   ],
   "source": [
    "tdata"
   ]
  },
  {
   "cell_type": "markdown",
   "metadata": {},
   "source": [
    "## Relative humidity "
   ]
  },
  {
   "cell_type": "code",
   "execution_count": 27,
   "metadata": {},
   "outputs": [
    {
     "data": {
      "text/plain": [
       "<xarray.Dataset>\n",
       "Dimensions:           (obs: 334367, trajectory: 21329)\n",
       "Coordinates:\n",
       "    lat               (obs) float32 nan nan nan nan nan ... nan nan nan nan nan\n",
       "    lon               (obs) float32 nan nan nan nan nan ... nan nan nan nan nan\n",
       "    plev              (obs) float32 1000.0 2000.0 3000.0 ... 92500.0 100000.0\n",
       "    time              (obs) datetime64[ns] 1989-03-28 1989-03-28 ... 1989-03-28\n",
       "Dimensions without coordinates: obs, trajectory\n",
       "Data variables:\n",
       "    bias_estimate     (obs) float32 nan nan nan nan nan ... nan nan nan nan nan\n",
       "    hur               (obs) float32 nan nan nan nan ... 0.838794 0.654979 nan\n",
       "    obs_minus_an      (obs) float32 nan nan nan nan ... -0.054035 -0.091665 nan\n",
       "    obs_minus_bg      (obs) float32 nan nan nan nan ... -0.050184 -0.050518 nan\n",
       "    trajectory_index  (obs) int32 0 0 0 0 0 0 ... 21328 21328 21328 21328 21328\n",
       "    trajectory_label  (trajectory) |S5 b'00551' b'00552' ... b'23679' b'23680'\n",
       "Attributes:\n",
       "    primary_id:    0-20000-0-72357\n",
       "    station_name:  NORMAN/MAX WESTHEIMER A, OK.\n",
       "    Conventions:   CF-1.7\n",
       "    source:        radiosonde\n",
       "    featureType:   trajectory\n",
       "    history:       Created by Copernicus Early Upper Air Service Version 0, 2..."
      ]
     },
     "execution_count": 27,
     "metadata": {},
     "output_type": "execute_result"
    }
   ],
   "source": [
    "rdata"
   ]
  },
  {
   "cell_type": "markdown",
   "metadata": {},
   "source": [
    "## Plotting"
   ]
  },
  {
   "cell_type": "code",
   "execution_count": 28,
   "metadata": {},
   "outputs": [
    {
     "data": {
      "text/plain": [
       "Text(0.5, 1.0, 'Radiosonde Temperature Observations from 72357 at 500 hPa')"
      ]
     },
     "execution_count": 28,
     "metadata": {},
     "output_type": "execute_result"
    },
    {
     "data": {
      "image/png": "[encoded data removed]",
      "text/plain": [
       "<Figure size 864x432 with 1 Axes>"
      ]
     },
     "metadata": {
      "needs_background": "light"
     },
     "output_type": "display_data"
    }
   ],
   "source": [
    "tdata.ta.sel(obs=(tdata.plev==50000)).swap_dims({'obs':'time'}).plot()\n",
    "grid()\n",
    "title(\"Radiosonde Temperature Observations from {} at 500 hPa\".format(ident))"
   ]
  },
  {
   "cell_type": "code",
   "execution_count": 97,
   "metadata": {},
   "outputs": [
    {
     "data": {
      "text/plain": [
       "Text(0.5, 1.0, 'Radiosonde relative humidity Observations from 10393 at 500 hPa')"
      ]
     },
     "execution_count": 97,
     "metadata": {},
     "output_type": "execute_result"
    },
    {
     "data": {
      "image/png": "[encoded data removed]",
      "text/plain": [
       "<Figure size 864x432 with 1 Axes>"
      ]
     },
     "metadata": {
      "needs_background": "light"
     },
     "output_type": "display_data"
    }
   ],
   "source": [
    "rdata.hur.sel(obs=(rdata.plev==50000)).swap_dims({'obs':'time'}).plot()\n",
    "grid()\n",
    "title(\"Radiosonde relative humidity Observations from {} at 500 hPa\".format(ident))"
   ]
  },
  {
   "cell_type": "markdown",
   "metadata": {},
   "source": [
    "# Running the Homogenization Software\n",
    "\n",
    "The following steps are completed automatically within this script:\n",
    "1. Read data and convert to datacubes [time x pressure]\n",
    "2. Relative humidity \n",
    "3. Calculate test statistics\n",
    "4. Detect breakpoints\n",
    "5. Adjust timeseries\n",
    "6. Write results"
   ]
  },
  {
   "cell_type": "markdown",
   "metadata": {},
   "source": [
    "The Python script can also be run from the command line:\n",
    "```bash\n",
    ">>> python raso_adj_cdm_v0.py -h\n",
    "\n",
    "Run standardized radiosonde homogenisation software on CDM compliant file\n",
    "\n",
    "raso_adj_cdm_v0.py -h -f [file] -o [name] \n",
    "\n",
    "Options:\n",
    "    -h              Help\n",
    "    --help      \n",
    "    -f []           Input CDM compliant file\n",
    "    --file []       \n",
    "    -o []           Output name\n",
    "    --output []\n",
    "    \n",
    "Optional Keyword Options:\n",
    "    --thres []      Threshold value for SNHT, default: 50\n",
    "\n",
    "```\n",
    "\n",
    "It is also possible to import the script like a module and execute some functions individually or the `main`."
   ]
  },
  {
   "cell_type": "markdown",
   "metadata": {},
   "source": [
    "## Import script as Module"
   ]
  },
  {
   "cell_type": "code",
   "execution_count": 26,
   "metadata": {},
   "outputs": [],
   "source": [
    "import raso_adj_cdm_v0"
   ]
  },
  {
   "cell_type": "code",
   "execution_count": 32,
   "metadata": {},
   "outputs": [],
   "source": [
    "import importlib as imp"
   ]
  },
  {
   "cell_type": "code",
   "execution_count": 223,
   "metadata": {},
   "outputs": [
    {
     "data": {
      "text/plain": [
       "<module 'raso_adj_cdm_v0' from '/raid8/srvx1/mblaschek/workspace/pybench/development/CEUAS/CEUAS/public/adjust/raso_adj_cdm_v0.py'>"
      ]
     },
     "execution_count": 223,
     "metadata": {},
     "output_type": "execute_result"
    }
   ],
   "source": [
    "imp.reload(raso_adj_cdm_v0)"
   ]
  },
  {
   "cell_type": "markdown",
   "metadata": {},
   "source": [
    "### Usage information"
   ]
  },
  {
   "cell_type": "code",
   "execution_count": null,
   "metadata": {},
   "outputs": [],
   "source": [
    "raso_adj_cdm_v0.usage()"
   ]
  },
  {
   "cell_type": "markdown",
   "metadata": {},
   "source": [
    "### Execute Main\n",
    "\n",
    "the `main` function needs to be called with string arguments, just like the script would do.\n",
    "As described in the `usage` it requires inputdata (`'-f', \"example_data/*.nc\"`) and \n",
    "one Keyword-Option to return the data directly to the Notebook (`'--do-no-write'`).\n",
    "\n",
    "The following steps will be done automatically:\n",
    "\n",
    "    1. Read data\n",
    "    2. Convert to time x pressure cubes\n",
    "    3. Select only standard times (0, 12)\n",
    "    4. Look for required variables\n",
    "      4.1. Need observations and obs_minus_an\n",
    "    5. Calculate test statistics\n",
    "    6. Detect Breakpoints\n",
    "    7. Calculate Adjustments\n",
    "    8. Return/Write data"
   ]
  },
  {
   "cell_type": "code",
   "execution_count": 224,
   "metadata": {},
   "outputs": [
    {
     "name": "stdout",
     "output_type": "stream",
     "text": [
      "[INFO] Multiple input files:  example_data/*.nc  | # 2\n",
      "[INPUT] example_data/dest_10393_air_temperature.nc ta\n",
      "[INPUT] example_data/dest_10393_relative_humidity.nc hur\n",
      "[OUTPUT] example_data/dest_10393_relative_humidity_out.nc\n",
      "[CONVERT] Converting to DataCube ...\n",
      "[CONVERT] Done\n",
      "[CONVERT] Standard time calculated, Duplicates resolved: 251\n",
      "[CONVERT] Converting to day-night Array [hour x time x pressure]\n",
      "[CHECK] Departures found ta obs_minus_an\n",
      "[CHECK] Departures found ta bias_estimate\n",
      "[CHECK] Departures found hur obs_minus_an\n",
      "[CHECK] Departures found hur bias_estimate\n",
      "[SNHT] Test statistics calculted ta_obs_minus_an_snht\n",
      "[DETECT] Test statistics calculated ta_obs_minus_an_snht_breaks\n",
      "[SNHT] Test statistics calculted hur_obs_minus_an_snht\n",
      "[DETECT] Test statistics calculated hur_obs_minus_an_snht_breaks\n",
      "[ADJUST] Breakpoints:  0\n",
      "[ADJUST] Sample size: 10 N-Q: 13\n",
      "[ADJUST] Breakpoints:  0\n",
      "[ADJUST] Sample size: 10 N-Q: 13\n"
     ]
    }
   ],
   "source": [
    "data = raso_adj_cdm_v0.main(ifile=\"example_data/*.nc\", do-not-write=True, adddate=True)"
   ]
  },
  {
   "cell_type": "code",
   "execution_count": 225,
   "metadata": {},
   "outputs": [
    {
     "data": {
      "text/plain": [
       "<xarray.Dataset>\n",
       "Dimensions:                       (plev: 16, time: 27931)\n",
       "Coordinates:\n",
       "  * time                          (time) datetime64[ns] 2000-01-01T05:00:00 ... 2018-12-31T22:45:38\n",
       "  * plev                          (plev) float64 1e+03 2e+03 ... 9.25e+04 1e+05\n",
       "Data variables:\n",
       "    ta_bias_estimate              (time, plev) float32 nan -0.08317 ... 0.0\n",
       "    lat                           (time, plev) float32 nan nan nan ... nan nan\n",
       "    lon                           (time, plev) float32 nan nan nan ... nan nan\n",
       "    ta_obs_minus_an               (time, plev) float32 nan ... -0.036169\n",
       "    ta_obs_minus_bg               (time, plev) float32 nan 0.733175 ... 0.347498\n",
       "    ta                            (time, plev) float32 nan 201.7 ... 279.37\n",
       "    hur_bias_estimate             (time, plev) float32 nan nan nan ... nan nan\n",
       "    hur                           (time, plev) float32 nan nan nan ... 1.0 1.0\n",
       "    hur_obs_minus_an              (time, plev) float32 nan nan ... 0.000384\n",
       "    hur_obs_minus_bg              (time, plev) float32 nan nan ... 8e-06\n",
       "    hur_q                         (time, plev) float32 nan nan nan ... 0.0 0.0\n",
       "    hur_obs_minus_an_snht         (time, plev) float64 0.0 0.0 0.0 ... 0.0 0.0\n",
       "    hur_obs_minus_an_snht_breaks  (time, plev) float64 0.0 0.0 0.0 ... 0.0 0.0"
      ]
     },
     "execution_count": 225,
     "metadata": {},
     "output_type": "execute_result"
    }
   ],
   "source": [
    "# Print out Dataset\n",
    "data"
   ]
  },
  {
   "cell_type": "markdown",
   "metadata": {},
   "source": [
    "# Investigating results"
   ]
  },
  {
   "cell_type": "markdown",
   "metadata": {},
   "source": [
    "## Departures"
   ]
  },
  {
   "cell_type": "code",
   "execution_count": null,
   "metadata": {},
   "outputs": [],
   "source": []
  },
  {
   "cell_type": "markdown",
   "metadata": {},
   "source": [
    "## SNHT"
   ]
  },
  {
   "cell_type": "code",
   "execution_count": null,
   "metadata": {},
   "outputs": [],
   "source": []
  },
  {
   "cell_type": "markdown",
   "metadata": {},
   "source": [
    "## Breakpoints"
   ]
  },
  {
   "cell_type": "code",
   "execution_count": null,
   "metadata": {},
   "outputs": [],
   "source": []
  },
  {
   "cell_type": "markdown",
   "metadata": {},
   "source": [
    "## Adjustments"
   ]
  },
  {
   "cell_type": "code",
   "execution_count": null,
   "metadata": {},
   "outputs": [],
   "source": []
  }
 ],
 "metadata": {
  "kernelspec": {
   "display_name": "bunnies",
   "language": "python",
   "name": "bunnies"
  },
  "language_info": {
   "codemirror_mode": {
    "name": "ipython",
    "version": 3
   },
   "file_extension": ".py",
   "mimetype": "text/x-python",
   "name": "python",
   "nbconvert_exporter": "python",
   "pygments_lexer": "ipython3",
   "version": "3.7.4"
  },
  "toc-showcode": false,
  "toc-showmarkdowntxt": false,
  "toc-showtags": false
 },
 "nbformat": 4,
 "nbformat_minor": 4
}
