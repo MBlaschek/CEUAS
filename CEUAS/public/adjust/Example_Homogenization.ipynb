{
 "cells": [
  {
   "cell_type": "markdown",
   "metadata": {},
   "source": [
    "# Copernicus Climate Change Service (C3S) - Upper Air Data Service \n",
    "\n",
    "    This IPython Notebook is intended for demonstration purposes and example usage of the Homogenization software for Radiosonde humidity data.\n",
    "    For further information please refer to the Deliverable Document or the script `raso_adj_cdm_v0.py` on [Github CEUAS](https://github.com/MBlaschek/CEUAS/tree/master/CEUAS/public/adjust).\n",
    "\n",
    " Table of Contents:\n",
    "* [Downloading of data](#Downloading-of-data)\n",
    "* [Investigating the data](#Investigating-the-data)\n",
    "* [Running the Homogenization software](#Running-the-Homogenization-software)\n",
    "* [Investigating results](#Investigating-results)"
   ]
  },
  {
   "cell_type": "code",
   "execution_count": 1,
   "metadata": {},
   "outputs": [
    {
     "name": "stdout",
     "output_type": "stream",
     "text": [
      "Populating the interactive namespace from numpy and matplotlib\n"
     ]
    }
   ],
   "source": [
    "%pylab inline"
   ]
  },
  {
   "cell_type": "code",
   "execution_count": 2,
   "metadata": {},
   "outputs": [],
   "source": [
    "# Plotting parameters\n",
    "plt.rcParams['figure.figsize'] = [12.0, 6.0]\n",
    "plt.rcParams['lines.linewidth'] = 2\n",
    "plt.rcParams['font.size'] = 15\n",
    "plt.style.use('seaborn-colorblind')"
   ]
  },
  {
   "cell_type": "code",
   "execution_count": 3,
   "metadata": {},
   "outputs": [],
   "source": [
    "#\n",
    "# Make sure you have Python 3\n",
    "#\n",
    "from platform import python_version\n",
    "if python_version()[0] != '3':\n",
    "    print(\"Your Version:\", python_version())\n",
    "    raise RuntimeError(\"This Notebook requires Python 3\")"
   ]
  },
  {
   "cell_type": "markdown",
   "metadata": {},
   "source": [
    "# Downloading of data\n",
    "For demonstration purposes, example data is allready available but we show here how to download these data from the CDS."
   ]
  },
  {
   "cell_type": "markdown",
   "metadata": {},
   "source": [
    "A typical request should contain:\n",
    "1. **statid** - the Station Identifier\n",
    "2. **date** - datetime selection YYYYMMDD\n",
    "3. **pressure_level** - selection of pressure levels\n",
    "4. **variable** - selection of variables \n",
    "5. **fbstats**  - feedback information from reanalysis"
   ]
  },
  {
   "cell_type": "code",
   "execution_count": 8,
   "metadata": {},
   "outputs": [
    {
     "name": "stdout",
     "output_type": "stream",
     "text": [
      "Using the data in ./example_data\n",
      "['dest_72357_air_temperature.nc', 'dest_72357_relative_humidity.nc']\n"
     ]
    }
   ],
   "source": [
    "#\n",
    "# Set to 'True' to enable download, example data is provided\n",
    "#\n",
    "if False:    \n",
    "    import requests, zipfile, io, os, time\n",
    "    t0 = time.time()\n",
    "    #\n",
    "    # This is for Python 3+\n",
    "    #\n",
    "    # http://early-upper-air.copernicus-climate.eu\n",
    "    r = requests.post('http://srvx8.img.univie.ac.at:8004',\n",
    "                      headers={'content-type': 'application/json'},\n",
    "                      json={\"statid\": \"72357\",\n",
    "                            \"date\": [19900101, 20181231],\n",
    "                            \"pressure_level\": [1000, 2000, 3000, 5000, 7000, 10000, 15000, 20000, 25000, 30000, 40000,\n",
    "                                               50000, 70000, 85000, 92500, 100000],\n",
    "                            \"variable\": [\"temperature\", \"relative_humidity\"],\n",
    "                            \"fbstats\": [\"obs_minus_bg\", \"obs_minus_an\", \"bias_estimate\"]\n",
    "                            },\n",
    "                      stream=True)\n",
    "    #\n",
    "    # Check for known Error Message\n",
    "    #\n",
    "    if r.status_code != requests.codes.ok:\n",
    "        print(r.text)\n",
    "        raise RuntimeError(\"Something is not correct with the request\")\n",
    "    #\n",
    "    # Create directory\n",
    "    #\n",
    "    if not os.path.isdir('./example_data'):\n",
    "        os.makedirs('./example_data')\n",
    "    #\n",
    "    # Unzip the Data Stream\n",
    "    #\n",
    "    try:\n",
    "        z = zipfile.ZipFile(io.BytesIO(r.content))\n",
    "        print(\"Retreived files: \")\n",
    "        print(z.namelist())\n",
    "        z.extractall(path='./example_data')\n",
    "    except:\n",
    "        print(r.text)\n",
    "        print(\"Error in request\")    \n",
    "    print(\"Time elapsed: \", time.time()-t0, \"s\")\n",
    "else:\n",
    "    print(\"Using the data in ./example_data\")\n",
    "    print(os.listdir('./example_data'))"
   ]
  },
  {
   "cell_type": "markdown",
   "metadata": {},
   "source": [
    "Another Way can be use a Linux tool called `curl` to download a zipfile:\n",
    "```bash\n",
    "curl -H \"Content-Type: application/json\" -X POST --digest --data '{\"statid\":\"72357\",\"date\":[19900101,20181231],\"pressure_level\":[1000, 2000, 3000, 5000, 7000, 10000, 15000, 20000, 25000, 30000, 40000, 50000, 70000, 85000, 92500, 100000],\"variable\":[\"temperature\",\"relative_humidity\"],\"fbstats\":[\"obs_minus_bg\",\"obs_minus_an\",\"bias_estimate\"]}' -o example_data/download.zip http://early-upper-air.copernicus-climate.eu\n",
    "```\n",
    "and then unzip the contents in the directory\n",
    "```bash\n",
    "unzip -o example_data/download.zip\n",
    "```"
   ]
  },
  {
   "cell_type": "code",
   "execution_count": 6,
   "metadata": {},
   "outputs": [
    {
     "name": "stdout",
     "output_type": "stream",
     "text": [
      "\u001b[01;34m.\u001b[00m\n",
      "├── [1.0K Jan 15 17:01]  README.md\n",
      "├── [ 40K Jan 27  9:49]  raso_adj_cdm_v0.py\n",
      "├── [ 94K Jan 27 15:42]  Example_Homogenization.ipynb\n",
      "└── [  80 Jan 24 11:53]  \u001b[01;34mexample_data\u001b[00m\n",
      "    ├── [5.5M Jan 27 15:41]  dest_72357_relative_humidity.nc\n",
      "    └── [5.6M Jan 27 15:41]  dest_72357_air_temperature.nc\n",
      "\n",
      "1 directory, 5 files\n"
     ]
    }
   ],
   "source": [
    "# Show the new downloaded files in example_data directory\n",
    "!tree -Dhr"
   ]
  },
  {
   "cell_type": "code",
   "execution_count": 7,
   "metadata": {},
   "outputs": [
    {
     "name": "stdout",
     "output_type": "stream",
     "text": [
      "netcdf dest_72357_air_temperature {\n",
      "dimensions:\n",
      "\tobs = 334367 ;\n",
      "\tstring5 = 5 ;\n",
      "\ttrajectory = 21329 ;\n",
      "variables:\n",
      "\tfloat bias_estimate(obs) ;\n",
      "\t\tbias_estimate:cdmname = \"era5fb/biascorr@body\" ;\n",
      "\t\tbias_estimate:units = \"K\" ;\n",
      "\t\tbias_estimate:coordinates = \"lat lon time plev\" ;\n",
      "\t\tbias_estimate:cdsname = \"bias_estimate\" ;\n",
      "\t\tbias_estimate:standard_name = \"air_temperature\" ;\n",
      "\t\tbias_estimate:long_name = \"ERA5 reanalysis bias_estimate\" ;\n",
      "\tfloat lat(obs) ;\n",
      "\t\tlat:cdmname = \"observations_table/latitude\" ;\n",
      "\t\tlat:units = \"degree_north\" ;\n",
      "\t\tlat:standard_name = \"latitude\" ;\n",
      "\tfloat lon(obs) ;\n",
      "\t\tlon:cdmname = \"observations_table/longitude\" ;\n",
      "\t\tlon:units = \"degree_east\" ;\n",
      "\t\tlon:standard_name = \"longitude\" ;\n",
      "\tfloat obs_minus_an(obs) ;\n",
      "\t\tobs_minus_an:cdmname = \"era5fb/an_depar@body\" ;\n",
      "\t\tobs_minus_an:units = \"K\" ;\n",
      "\t\tobs_minus_an:coordinates = \"lat lon time plev\" ;\n",
      "\t\tobs_minus_an:cdsname = \"obs_minus_an\" ;\n",
      "\t\tobs_minus_an:standard_name = \"air_temperature\" ;\n",
      "\t\tobs_minus_an:long_name = \"ERA5 reanalysis obs_minus_an\" ;\n",
      "\tfloat obs_minus_bg(obs) ;\n",
      "\t\tobs_minus_bg:cdmname = \"era5fb/fg_depar@body\" ;\n",
      "\t\tobs_minus_bg:units = \"K\" ;\n",
      "\t\tobs_minus_bg:coordinates = \"lat lon time plev\" ;\n",
      "\t\tobs_minus_bg:cdsname = \"obs_minus_bg\" ;\n",
      "\t\tobs_minus_bg:standard_name = \"air_temperature\" ;\n",
      "\t\tobs_minus_bg:long_name = \"ERA5 reanalysis obs_minus_bg\" ;\n",
      "\tfloat plev(obs) ;\n",
      "\t\tplev:cdmname = \"observations_table/z_coordinate\" ;\n",
      "\t\tplev:units = \"Pa\" ;\n",
      "\t\tplev:standard_name = \"air_pressure\" ;\n",
      "\tfloat ta(obs) ;\n",
      "\t\tta:cdmname = \"observations_table/observation_value\" ;\n",
      "\t\tta:units = \"K\" ;\n",
      "\t\tta:coordinates = \"lat lon time plev\" ;\n",
      "\t\tta:standard_name = \"air_temperature\" ;\n",
      "\t\tta:cdsname = \"temperature\" ;\n",
      "\tint64 time(obs) ;\n",
      "\t\ttime:cdmname = \"observations_table/date_time\" ;\n",
      "\t\ttime:units = \"seconds since 1900-01-01 00:00:00\" ;\n",
      "\t\ttime:standard_name = \"time\" ;\n",
      "\tint trajectory_index(obs) ;\n",
      "\t\ttrajectory_index:long_name = \"index of trajectory this obs belongs to\" ;\n",
      "\t\ttrajectory_index:instance_dimension = \"trajectory\" ;\n",
      "\t\ttrajectory_index:coordinates = \"lat lon time plev\" ;\n",
      "\tchar trajectory_label(trajectory, string5) ;\n",
      "\t\ttrajectory_label:cdmname = \"header_table/report_id\" ;\n",
      "\t\ttrajectory_label:coordinates = \"lat lon time plev\" ;\n",
      "\t\ttrajectory_label:units = \"\" ;\n",
      "\t\ttrajectory_label:cf_role = \"trajectory_id\" ;\n",
      "\t\ttrajectory_label:long_name = \"Label of trajectory\" ;\n",
      "\n",
      "// global attributes:\n",
      "\t\t:primary_id = \"0-20000-0-72357\" ;\n",
      "\t\t:station_name = \"NORMAN/MAX WESTHEIMER A, OK.\" ;\n",
      "\t\t:Conventions = \"CF-1.7\" ;\n",
      "\t\t:source = \"radiosonde\" ;\n",
      "\t\t:featureType = \"trajectory\" ;\n",
      "\t\t:history = \"Created by Copernicus Early Upper Air Service Version 0, 27-Jan-2020 15:41:43\" ;\n",
      "}\n"
     ]
    }
   ],
   "source": [
    "# Example output of retrieved NetCDF file\n",
    "!ncdump -h example_data/dest_72357_air_temperature.nc"
   ]
  },
  {
   "cell_type": "markdown",
   "metadata": {},
   "source": [
    "# Investigating the data\n",
    "\n",
    "At the moment (01.2020), the database is at version 0, however, the data files seen here will be very similar to the ones delivered by the end of the contract.\n",
    "\n",
    "The following shows how to open these files and read information. These are very common routines for data analysis. NetCDF can be read by numerous packages in Python. Xarray proves to be the most useful at the moment.\n"
   ]
  },
  {
   "cell_type": "code",
   "execution_count": 124,
   "metadata": {},
   "outputs": [],
   "source": [
    "import xarray as xr"
   ]
  },
  {
   "cell_type": "code",
   "execution_count": 125,
   "metadata": {},
   "outputs": [],
   "source": [
    "ident = '72357'  # Station Identifier"
   ]
  },
  {
   "cell_type": "code",
   "execution_count": 126,
   "metadata": {},
   "outputs": [],
   "source": [
    "tdata = xr.load_dataset('example_data/dest_{}_air_temperature.nc'.format(ident))"
   ]
  },
  {
   "cell_type": "code",
   "execution_count": 127,
   "metadata": {},
   "outputs": [],
   "source": [
    "rdata = xr.load_dataset('example_data/dest_{}_relative_humidity.nc'.format(ident))"
   ]
  },
  {
   "cell_type": "markdown",
   "metadata": {},
   "source": [
    "## Temperature data in Xarray\n",
    "\n",
    "Notice that there are the following variables:\n",
    "* bias_estimate - Reanalysis Bias estimate\n",
    "* obs_min_an - Analysis Departures\n",
    "* obs_min_bg - First Guess Departures\n",
    "* ta - Temperature observations"
   ]
  },
  {
   "cell_type": "code",
   "execution_count": 128,
   "metadata": {},
   "outputs": [
    {
     "data": {
      "text/plain": [
       "<xarray.Dataset>\n",
       "Dimensions:           (obs: 334367, trajectory: 21329)\n",
       "Coordinates:\n",
       "    lat               (obs) float32 nan nan nan nan nan ... nan nan nan nan nan\n",
       "    lon               (obs) float32 nan nan nan nan nan ... nan nan nan nan nan\n",
       "    plev              (obs) float32 1000.0 2000.0 3000.0 ... 92500.0 100000.0\n",
       "    time              (obs) datetime64[ns] 1990-01-01 ... 2018-12-31T23:04:00\n",
       "Dimensions without coordinates: obs, trajectory\n",
       "Data variables:\n",
       "    bias_estimate     (obs) float32 -1.340332 -0.295052 ... -0.02625 nan\n",
       "    obs_minus_an      (obs) float32 0.280334 -2.471445 ... 1.084904 nan\n",
       "    obs_minus_bg      (obs) float32 0.427206 -3.270976 -1.466765 ... 1.18198 nan\n",
       "    ta                (obs) float32 219.3 214.3 213.3 ... 273.35 279.75 nan\n",
       "    trajectory_index  (obs) int32 0 0 0 0 0 0 ... 21328 21328 21328 21328 21328\n",
       "    trajectory_label  (trajectory) |S5 b'00551' b'00552' ... b'23679' b'23680'\n",
       "Attributes:\n",
       "    primary_id:    0-20000-0-72357\n",
       "    station_name:  NORMAN/MAX WESTHEIMER A, OK.\n",
       "    Conventions:   CF-1.7\n",
       "    source:        radiosonde\n",
       "    featureType:   trajectory\n",
       "    history:       Created by Copernicus Early Upper Air Service Version 0, 2..."
      ]
     },
     "execution_count": 128,
     "metadata": {},
     "output_type": "execute_result"
    }
   ],
   "source": [
    "tdata"
   ]
  },
  {
   "cell_type": "markdown",
   "metadata": {},
   "source": [
    "## Relative humidity "
   ]
  },
  {
   "cell_type": "code",
   "execution_count": 129,
   "metadata": {},
   "outputs": [
    {
     "data": {
      "text/plain": [
       "<xarray.Dataset>\n",
       "Dimensions:           (obs: 334367, trajectory: 21329)\n",
       "Coordinates:\n",
       "    lat               (obs) float32 nan nan nan nan nan ... nan nan nan nan nan\n",
       "    lon               (obs) float32 nan nan nan nan nan ... nan nan nan nan nan\n",
       "    plev              (obs) float32 1000.0 2000.0 3000.0 ... 92500.0 100000.0\n",
       "    time              (obs) datetime64[ns] 1990-01-01 ... 2018-12-31T23:04:00\n",
       "Dimensions without coordinates: obs, trajectory\n",
       "Data variables:\n",
       "    bias_estimate     (obs) float32 nan nan nan nan nan ... nan nan nan nan nan\n",
       "    hur               (obs) float32 nan nan nan nan ... 0.838794 0.654979 nan\n",
       "    obs_minus_an      (obs) float32 nan nan nan nan ... -0.054035 -0.091665 nan\n",
       "    obs_minus_bg      (obs) float32 nan nan nan nan ... -0.050184 -0.050518 nan\n",
       "    trajectory_index  (obs) int32 0 0 0 0 0 0 ... 21328 21328 21328 21328 21328\n",
       "    trajectory_label  (trajectory) |S5 b'00551' b'00552' ... b'23679' b'23680'\n",
       "Attributes:\n",
       "    primary_id:    0-20000-0-72357\n",
       "    station_name:  NORMAN/MAX WESTHEIMER A, OK.\n",
       "    Conventions:   CF-1.7\n",
       "    source:        radiosonde\n",
       "    featureType:   trajectory\n",
       "    history:       Created by Copernicus Early Upper Air Service Version 0, 2..."
      ]
     },
     "execution_count": 129,
     "metadata": {},
     "output_type": "execute_result"
    }
   ],
   "source": [
    "rdata"
   ]
  },
  {
   "cell_type": "code",
   "execution_count": 133,
   "metadata": {},
   "outputs": [
    {
     "data": {
      "text/plain": [
       "<xarray.DataArray 'hur' (obs: 334367)>\n",
       "array([     nan,      nan,      nan, ..., 0.838794, 0.654979,      nan],\n",
       "      dtype=float32)\n",
       "Coordinates:\n",
       "    lat      (obs) float32 nan nan nan nan nan nan ... nan nan nan nan nan nan\n",
       "    lon      (obs) float32 nan nan nan nan nan nan ... nan nan nan nan nan nan\n",
       "    plev     (obs) float32 1000.0 2000.0 3000.0 ... 85000.0 92500.0 100000.0\n",
       "    time     (obs) datetime64[ns] 1990-01-01 1990-01-01 ... 2018-12-31T23:04:00\n",
       "Dimensions without coordinates: obs\n",
       "Attributes:\n",
       "    cdmname:        observations_table/observation_value\n",
       "    units:          1\n",
       "    standard_name:  relative_humidity\n",
       "    cdsname:        relative_humidity"
      ]
     },
     "execution_count": 133,
     "metadata": {},
     "output_type": "execute_result"
    }
   ],
   "source": [
    "# Relative Humidity variable\n",
    "rdata.hur"
   ]
  },
  {
   "cell_type": "markdown",
   "metadata": {},
   "source": [
    "## Plotting"
   ]
  },
  {
   "cell_type": "code",
   "execution_count": 19,
   "metadata": {},
   "outputs": [
    {
     "data": {
      "text/plain": [
       "Text(0.5, 1.0, 'Radiosonde Temperature Observations from 72357 at 500 hPa')"
      ]
     },
     "execution_count": 19,
     "metadata": {},
     "output_type": "execute_result"
    },
    {
     "data": {
      "image/png": "[encoded data removed]",
      "text/plain": [
       "<Figure size 864x432 with 1 Axes>"
      ]
     },
     "metadata": {
      "needs_background": "light"
     },
     "output_type": "display_data"
    }
   ],
   "source": [
    "# Selecting only data for 500 hPa\n",
    "# notice that the dimension is not time yet, but obs\n",
    "tdata.ta.sel(obs=(tdata.plev==50000)).swap_dims({'obs':'time'}).plot()\n",
    "grid()\n",
    "title(\"Radiosonde Temperature Observations from {} at 500 hPa\".format(ident))"
   ]
  },
  {
   "cell_type": "code",
   "execution_count": 18,
   "metadata": {},
   "outputs": [
    {
     "data": {
      "text/plain": [
       "Text(0.5, 1.0, 'Radiosonde relative humidity Observations from 72357 at 500 hPa')"
      ]
     },
     "execution_count": 18,
     "metadata": {},
     "output_type": "execute_result"
    },
    {
     "data": {
      "image/png": "[encoded data removed]",
      "text/plain": [
       "<Figure size 864x432 with 1 Axes>"
      ]
     },
     "metadata": {
      "needs_background": "light"
     },
     "output_type": "display_data"
    }
   ],
   "source": [
    "rdata.hur.sel(obs=(rdata.plev==50000)).swap_dims({'obs':'time'}).plot()\n",
    "grid()\n",
    "title(\"Radiosonde relative humidity Observations from {} at 500 hPa\".format(ident))"
   ]
  },
  {
   "cell_type": "code",
   "execution_count": 143,
   "metadata": {},
   "outputs": [
    {
     "data": {
      "text/plain": [
       "<xarray.Dataset>\n",
       "Dimensions:           (obs: 3190, trajectory: 21329)\n",
       "Coordinates:\n",
       "    lat               (obs) float32 nan nan nan nan nan ... nan nan nan nan nan\n",
       "    lon               (obs) float32 nan nan nan nan nan ... nan nan nan nan nan\n",
       "    plev              (obs) float32 50000.0 50000.0 50000.0 ... 50000.0 50000.0\n",
       "    time              (obs) datetime64[ns] 2010-07-27 ... 2018-12-26T23:18:00\n",
       "Dimensions without coordinates: obs, trajectory\n",
       "Data variables:\n",
       "    bias_estimate     (obs) float32 0.0 0.0 0.0 0.0 0.0 ... nan nan nan nan nan\n",
       "    hur               (obs) float32 0.488463 0.488463 ... 0.465224 0.465224\n",
       "    obs_minus_an      (obs) float32 -0.11969 -0.11969 ... 0.128478 0.128478\n",
       "    obs_minus_bg      (obs) float32 -0.075467 -0.075467 ... 0.142709 0.142709\n",
       "    trajectory_index  (obs) int32 15227 15227 15383 15383 ... 21317 21319 21319\n",
       "    trajectory_label  (trajectory) |S5 b'00551' b'00552' ... b'23679' b'23680'\n",
       "Attributes:\n",
       "    primary_id:    0-20000-0-72357\n",
       "    station_name:  NORMAN/MAX WESTHEIMER A, OK.\n",
       "    Conventions:   CF-1.7\n",
       "    source:        radiosonde\n",
       "    featureType:   trajectory\n",
       "    history:       Created by Copernicus Early Upper Air Service Version 0, 2..."
      ]
     },
     "execution_count": 143,
     "metadata": {},
     "output_type": "execute_result"
    }
   ],
   "source": [
    "rdata.sel(obs=(rdata.plev==50000)).sel(obs=rdata.hur.sel(obs=(rdata.plev==50000)).swap_dims({'obs':'time'}).time.to_index().duplicated(keep=False))"
   ]
  },
  {
   "cell_type": "markdown",
   "metadata": {},
   "source": [
    "# Running the Homogenization Software\n",
    "\n",
    "The following steps are completed automatically within this script:\n",
    "1. Read data (`ifile`)\n",
    "2. Convert to `time x pressure` cubes\n",
    "3. Select only standard times (`0, 12`)\n",
    "4. Look for required variables\n",
    "    - Need observations and obs_minus_an\n",
    "5. Calculate test statistics\n",
    "6. Detect Breakpoints\n",
    "7. Calculate Adjustments\n",
    "8. Return/Write data\n"
   ]
  },
  {
   "cell_type": "markdown",
   "metadata": {},
   "source": [
    "The Python script can also be run from the command line:\n",
    "```bash\n",
    ">>> python raso_adj_cdm_v0.py -h\n",
    "\n",
    "Run standardized radiosonde homogenisation software on CDM compliant file\n",
    "\n",
    "raso_adj_cdm_v0.py -h -f [file] -o [name] \n",
    "\n",
    "Options:\n",
    "    -h              Help\n",
    "    --help      \n",
    "    -f []           Input CDM compliant file\n",
    "    --file []       \n",
    "    -o []           Output name\n",
    "    --output []\n",
    "    \n",
    "Optional Keyword Options:\n",
    "    --thres []      Threshold value for SNHT, default: 50\n",
    "\n",
    "```\n",
    "\n",
    "It is also possible to import the script like a module and execute some functions individually or the `main`."
   ]
  },
  {
   "cell_type": "markdown",
   "metadata": {},
   "source": [
    "## Import script as Module\n",
    "\n",
    "Intended for Notebook use"
   ]
  },
  {
   "cell_type": "code",
   "execution_count": 4,
   "metadata": {},
   "outputs": [],
   "source": [
    "import raso_adj_cdm_v0"
   ]
  },
  {
   "cell_type": "markdown",
   "metadata": {},
   "source": [
    "### Usage information"
   ]
  },
  {
   "cell_type": "code",
   "execution_count": 5,
   "metadata": {},
   "outputs": [
    {
     "name": "stdout",
     "output_type": "stream",
     "text": [
      "\n",
      "Run standardized radiosonde homogenisation software on CDM compliant file\n",
      "\n",
      "/raid8/srvx1/mblaschek/workspace/pybench/development/CEUAS/CEUAS/public/adjust/raso_adj_cdm_v0.py -h -f [file] -o [name] \n",
      "\n",
      "Options:\n",
      "    -h              Help\n",
      "    --help      \n",
      "    -f []           Input CDM compliant file\n",
      "    --file []       \n",
      "    -o []           Output name\n",
      "    --output []\n",
      "    \n",
      "Optional Keyword Options:\n",
      "    --thres []          Threshold value for SNHT, default: 50\n",
      "    --window []         Moving Window for SNHT, default: 1470 (in days, 4 years)\n",
      "    --missing []        Maximum allowed missing values in window, default: 600 (in days)\n",
      "    --min_levels []     Minimum required levels for significant breakpoint, default: 3\n",
      "    --dist []           Minimum distance between breakpoints, default: 730 (in days, 2 years)\n",
      "    --sample_size []    Minimum sample size for statistics, default: 130 (in days)\n",
      "    --borders []        Breakpoint zone, default: 90 (in days)\n",
      "    --ratio []          Use ratio instead of differences, default: 0 (not)\n",
      "\n",
      "    --logfile []        Write messages to a log file\n",
      "\n",
      "Experimental Keyword Options:\n",
      "    --donotwrite          Returns xarray Dataset\n",
      "    --enable_ta_feature   Apply Temperature adjustments\n",
      "    --interpolate_missing Interpolate Adjustments to non-standard times and pressure levels\n",
      "    \n",
      "    \n"
     ]
    }
   ],
   "source": [
    "raso_adj_cdm_v0.usage()"
   ]
  },
  {
   "cell_type": "markdown",
   "metadata": {},
   "source": [
    "### Execute Main\n",
    "\n",
    "the `main` function \n",
    "\n",
    "    call signature:\n",
    "    raso_adj_cdm_v0.main(ifile=None, ofile=None, **kwargs)\n",
    "\n",
    "needs to be called with a `ifile` string, that is a path to one file or multiple files from one radiosonde. Either specify an output filename or a modified inputfile name will be used.\n",
    "\n",
    "As described in the `usage` it requires inputdata and Keyword-Options. To return the data directly to the Notebook give the `donotwrite=True` Argument, as seen below."
   ]
  },
  {
   "cell_type": "code",
   "execution_count": 6,
   "metadata": {},
   "outputs": [],
   "source": [
    "import importlib as imp"
   ]
  },
  {
   "cell_type": "code",
   "execution_count": 26,
   "metadata": {},
   "outputs": [
    {
     "data": {
      "text/plain": [
       "<module 'raso_adj_cdm_v0' from '/raid8/srvx1/mblaschek/workspace/pybench/development/CEUAS/CEUAS/public/adjust/raso_adj_cdm_v0.py'>"
      ]
     },
     "execution_count": 26,
     "metadata": {},
     "output_type": "execute_result"
    }
   ],
   "source": [
    "imp.reload(raso_adj_cdm_v0)"
   ]
  },
  {
   "cell_type": "code",
   "execution_count": 27,
   "metadata": {},
   "outputs": [
    {
     "name": "stdout",
     "output_type": "stream",
     "text": [
      "[2020-01-28T14:02:28.384915] [INFO] Multiple input files:  example_data/*.nc  | # 2\n",
      "[2020-01-28T14:02:28.508083] [INPUT] example_data/dest_72357_air_temperature.nc ta\n",
      "[2020-01-28T14:02:28.585595] [INPUT] example_data/dest_72357_relative_humidity.nc hur\n",
      "[2020-01-28T14:02:28.596788] [CONVERT] Converting to DataCube ...\n",
      "[2020-01-28T14:02:28.598336] [BKP] Observations obs:334367\n",
      "[2020-01-28T14:02:28.598403] [BKP] Trajectories obs:334367,trajectory:21329\n",
      "[2020-01-28T14:02:28.606800] [CONVERT] Selecting only standard pressure levels\n",
      "[2020-01-28T14:02:31.958409] [CONVERT] Done\n",
      "[2020-01-28T14:02:31.959258] [TIME] Dates: 1990-01-01 00:00:00  -  2018-12-31 23:04:00 Duplicates: 0\n",
      "[2020-01-28T14:02:32.262224] [CONVERT] Standard time calculated, Duplicates resolved: 53\n",
      "[2020-01-28T14:02:32.363133] [CONVERT] Converting to day-night Array [hour x time x pressure]\n",
      "[2020-01-28T14:02:32.363246] [CHECK] Departures found ta obs_minus_an\n",
      "[2020-01-28T14:02:32.363286] [CHECK] Departures found ta bias_estimate\n",
      "[2020-01-28T14:02:32.363318] [CHECK] Departures found hur obs_minus_an\n",
      "[2020-01-28T14:02:32.363352] [CHECK] Departures found hur bias_estimate\n",
      "[2020-01-28T14:02:32.780073] [SNHT] Test statistics calculted ta_obs_minus_an_snht\n",
      "[2020-01-28T14:02:33.824067] [DETECT] Test statistics calculated ta_obs_minus_an_snht_breaks\n",
      "[2020-01-28T14:02:33.836319] [SNHT] Test statistics calculted hur_obs_minus_an_snht\n",
      "[2020-01-28T14:02:34.008922] [DETECT] Test statistics calculated hur_obs_minus_an_snht_breaks\n",
      "[2020-01-28T14:02:34.016467] [ADJUST] Breakpoints:  0\n",
      "[2020-01-28T14:02:34.016749] [ADJUST] Sample size: 10 N-Q: 13\n",
      "[2020-01-28T14:02:34.023340] [ADJUST] Breakpoints:  0\n",
      "[2020-01-28T14:02:34.023624] [ADJUST] Sample size: 10 N-Q: 13\n",
      "[2020-01-28T14:02:34.025146] [ALIGN] hour x time -> datetime \n",
      "[2020-01-28T14:02:34.114153] [REVERSE] Selecting variables\n",
      "[2020-01-28T14:02:34.114278] [REVERSE] time to obs\n",
      "[2020-01-28T14:04:09.791612] [INTERP] Interpolation complete\n",
      "[2020-01-28T14:04:09.791733] [TRAJ] Add trajectory information\n",
      "[2020-01-28T14:04:09.798470] [OUT] Returning data\n"
     ]
    }
   ],
   "source": [
    "data = raso_adj_cdm_v0.main(ifile=\"example_data/*.nc\", donotwrite=True, adddate=True, interpolate_missing=True)"
   ]
  },
  {
   "cell_type": "code",
   "execution_count": 28,
   "metadata": {},
   "outputs": [
    {
     "data": {
      "text/plain": [
       "<xarray.Dataset>\n",
       "Dimensions:                       (obs: 334367, trajectory: 21329)\n",
       "Coordinates:\n",
       "    lat                           (obs) float32 nan nan nan nan ... nan nan nan\n",
       "    lon                           (obs) float32 nan nan nan nan ... nan nan nan\n",
       "    plev                          (obs) float64 1e+03 2e+03 ... 9.25e+04 1e+05\n",
       "    time                          (obs) datetime64[ns] 1990-01-01 ... 2018-12-31T23:04:00\n",
       "Dimensions without coordinates: obs, trajectory\n",
       "Data variables:\n",
       "    ta_bias_estimate              (obs) float32 -1.340332 -0.295052 ... nan\n",
       "    ta_obs_minus_an               (obs) float32 0.280334 -2.471445 ... nan\n",
       "    ta_obs_minus_bg               (obs) float32 0.427206 -3.270976 ... nan\n",
       "    ta                            (obs) float32 219.3 214.3 213.3 ... 279.75 nan\n",
       "    hur_bias_estimate             (obs) float32 nan nan nan nan ... nan nan nan\n",
       "    hur                           (obs) float32 nan nan nan ... 0.654979 nan\n",
       "    hur_obs_minus_an              (obs) float32 nan nan nan ... -0.091665 nan\n",
       "    hur_obs_minus_bg              (obs) float32 nan nan nan ... -0.050518 nan\n",
       "    hur_q                         (obs) float32 0.0 0.0 0.0 0.0 ... 0.0 0.0 0.0\n",
       "    hur_obs_minus_an_snht         (obs) float64 0.0 0.0 0.0 0.0 ... 0.0 0.0 0.0\n",
       "    hur_obs_minus_an_snht_breaks  (obs) float64 0.0 0.0 0.0 0.0 ... 0.0 0.0 0.0\n",
       "    ta_trajectory_index           (obs) int32 0 0 0 0 ... 21328 21328 21328\n",
       "    ta_trajectory_label           (trajectory) |S5 b'00551' ... b'23680'\n",
       "    hur_trajectory_index          (obs) int32 0 0 0 0 ... 21328 21328 21328\n",
       "    hur_trajectory_label          (trajectory) |S5 b'00551' ... b'23680'"
      ]
     },
     "execution_count": 28,
     "metadata": {},
     "output_type": "execute_result"
    }
   ],
   "source": [
    "data"
   ]
  },
  {
   "cell_type": "markdown",
   "metadata": {},
   "source": [
    "# Investigating results"
   ]
  },
  {
   "cell_type": "markdown",
   "metadata": {},
   "source": [
    "## Departures"
   ]
  },
  {
   "cell_type": "code",
   "execution_count": null,
   "metadata": {},
   "outputs": [],
   "source": []
  },
  {
   "cell_type": "markdown",
   "metadata": {},
   "source": [
    "## SNHT"
   ]
  },
  {
   "cell_type": "code",
   "execution_count": null,
   "metadata": {},
   "outputs": [],
   "source": []
  },
  {
   "cell_type": "markdown",
   "metadata": {},
   "source": [
    "## Breakpoints"
   ]
  },
  {
   "cell_type": "code",
   "execution_count": null,
   "metadata": {},
   "outputs": [],
   "source": []
  },
  {
   "cell_type": "markdown",
   "metadata": {},
   "source": [
    "## Adjustments"
   ]
  },
  {
   "cell_type": "code",
   "execution_count": null,
   "metadata": {},
   "outputs": [],
   "source": []
  }
 ],
 "metadata": {
  "kernelspec": {
   "display_name": "bunnies",
   "language": "python",
   "name": "bunnies"
  },
  "language_info": {
   "codemirror_mode": {
    "name": "ipython",
    "version": 3
   },
   "file_extension": ".py",
   "mimetype": "text/x-python",
   "name": "python",
   "nbconvert_exporter": "python",
   "pygments_lexer": "ipython3",
   "version": "3.7.4"
  },
  "toc-showcode": false,
  "toc-showmarkdowntxt": false,
  "toc-showtags": false
 },
 "nbformat": 4,
 "nbformat_minor": 4
}
