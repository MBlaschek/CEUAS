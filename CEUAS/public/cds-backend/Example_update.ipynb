{
 "cells": [
  {
   "cell_type": "markdown",
   "metadata": {},
   "source": [
    "# Enhanced User interface"
   ]
  },
  {
   "cell_type": "code",
   "execution_count": 1,
   "metadata": {},
   "outputs": [
    {
     "name": "stdout",
     "output_type": "stream",
     "text": [
      "Populating the interactive namespace from numpy and matplotlib\n"
     ]
    }
   ],
   "source": [
    "%pylab inline"
   ]
  },
  {
   "cell_type": "code",
   "execution_count": 2,
   "metadata": {},
   "outputs": [],
   "source": [
    "# Plotting parameters\n",
    "plt.rcParams['figure.figsize'] = [12.0, 6.0]\n",
    "plt.rcParams['lines.linewidth'] = 2\n",
    "plt.rcParams['font.size'] = 15\n",
    "plt.style.use('seaborn-colorblind')\n",
    "yplevs = np.array([10,30,70,125,175,225,300,400,500,700,925])*100."
   ]
  },
  {
   "cell_type": "code",
   "execution_count": 3,
   "metadata": {},
   "outputs": [],
   "source": [
    "#\n",
    "# Make sure you have Python 3\n",
    "#\n",
    "from platform import python_version\n",
    "if python_version()[0] != '3':\n",
    "    print(\"Your Version:\", python_version())\n",
    "    raise RuntimeError(\"This Notebook requires Python 3\")"
   ]
  },
  {
   "cell_type": "code",
   "execution_count": 4,
   "metadata": {},
   "outputs": [],
   "source": [
    "sys.path.append('code/')\n",
    "import cds_eua3 as eua"
   ]
  },
  {
   "cell_type": "markdown",
   "metadata": {},
   "source": [
    "## CDM Classes\n",
    "\n",
    "* CDMVariable - Low Level Variable that allows access to the data\n",
    "* CDMGroup - Just a wrapper from CDMVariable to accommodate Groups\n",
    "* CDMDataset - Main Class with all CDM Functions"
   ]
  },
  {
   "cell_type": "markdown",
   "metadata": {},
   "source": [
    "### CDM Variable"
   ]
  },
  {
   "cell_type": "code",
   "execution_count": 5,
   "metadata": {},
   "outputs": [
    {
     "name": "stdout",
     "output_type": "stream",
     "text": [
      "CDMVariable.isArray()            -  Loaded to Memory?\n",
      "CDMVariable.keys()               -  list of Attributes\n",
      "CDMVariable.update()             -  Update HDF5 File Reference, Link\n"
     ]
    }
   ],
   "source": [
    "# CDM Variable Routines\n",
    "print(\"\\n\".join(['CDMVariable.{:20} - {}'.format(i+'()', getattr(eua.CDMVariable,i).__doc__.split('\\n')[0]) for i in dir(eua.CDMVariable) if '__' not in i]))"
   ]
  },
  {
   "cell_type": "markdown",
   "metadata": {},
   "source": [
    "### CDM Dataset"
   ]
  },
  {
   "cell_type": "code",
   "execution_count": 6,
   "metadata": {},
   "outputs": [
    {
     "name": "stdout",
     "output_type": "stream",
     "text": [
      "CDMDataset.availability()                 -  Read datetime and check how much data is available\n",
      "CDMDataset.check_cdm_duplicates()         -  Run a duplication check on a group and some variables\n",
      "CDMDataset.close()                        -  Close H5py file\n",
      "CDMDataset.inquire()                      -  Read HDF5 file structures\n",
      "CDMDataset.load_variable_from_file()      -  Allow to load a variable from a group\n",
      "CDMDataset.make_datetime_slice()          -  Create a datetime slice for HDF5 optimal reading\n",
      "CDMDataset.profile_to_dataframe()         -  Convert HDF5 variables to a DataFrame\n",
      "CDMDataset.read_attributes()              -  Return all attributes or a subset for a variable\n",
      "CDMDataset.read_data_to_cube()            -  Read standard pressure levels and return a DataCube\n",
      "CDMDataset.read_observed_variable()       -  Read a variable from a CDM backend file\n",
      "CDMDataset.read_variable()                -  Read a variable from a CDM frontend file\n",
      "CDMDataset.read_write_request()           -  This is the basic request used in the cds_eua2 script\n",
      "CDMDataset.reopen()                       -  Reopen the HDF5 file with different mode\n",
      "CDMDataset.report_quality()               -  Compile a quality report\n",
      "CDMDataset.trajectory_data()              -  Return trajectory data\n",
      "CDMDataset.write_group()                  -  Write a DataCube or a Table (DataArray, DataFrame) with Multiindex as a new group\n",
      "CDMDataset.write_observed_data()          -  Write a DataCube or a Table (DataArray, DataFrame) with Multiindex to CDMBackend file\n",
      "CDMDataset.write_variable()               -  Write a DataCube or a Table (DataArray, DataFrame) with Multiindex to CDM Frontend\n"
     ]
    }
   ],
   "source": [
    "# CDM Dataset Routines\n",
    "print(\"\\n\".join(['CDMDataset.{:30} - {}'.format(i+'()', getattr(eua.CDMDataset,i).__doc__.split('\\n')[0]) for i in dir(eua.CDMDataset) if '__' not in i]))"
   ]
  },
  {
   "cell_type": "markdown",
   "metadata": {},
   "source": [
    "### EUA Function"
   ]
  },
  {
   "cell_type": "code",
   "execution_count": 7,
   "metadata": {},
   "outputs": [
    {
     "name": "stdout",
     "output_type": "stream",
     "text": [
      "eua._count_data()                  -  Helper for align_datetime\n",
      "eua.align_datetime()               -  Standardize datetime to times per date, try to fill gaps\n",
      "eua.andisin()                      -  numba version of numpy.in1d(x, v)\n",
      "eua.andisin_t()                    -  numba version of numpy.in1d, for times\n",
      "eua.calc_trajindexfast()           -  Calculate Trajectory Index \n",
      "eua.cdm_to_cds()                   -  CDM Name to CDS Name\n",
      "eua.cds_to_cdm()                   -  CDS Name to CDM Name\n",
      "eua.convert_datetime()             -  input date (str,int,...) to datetime64 or formatted string\n",
      "eua.do_cfcopy()                    -  Copy H5PY variables and apply subsetting (idx)\n",
      "eua.get_attributes()               -  Get attributes from CF Table for a code\n",
      "eua.is_sorted()                    -  check if an array is sorted\n",
      "eua.last_day_of_month()            -  last day of a month\n",
      "eua.logging_set_level()            -  Set Logging Level, Default: 10 (DEBUG)\n",
      "eua.process_flat()                 -  Process a station file with the requested variables\n",
      "eua.read_standardnames()           -  Read the Climate and Forcast Convention data\n",
      "eua.reverse_index()                -  Find all idates and iplevs in dates and plevs\n",
      "eua.seconds_to_datetime()          -  from seconds to datetime64 \n",
      "eua.table_to_cube()                -  Convert a ragged variable (table) to a data cube\n",
      "eua.to_seconds_since()             -  return seconds since a Reference date applying time unit\n",
      "eua.to_standard_launch_time()      -  Convert to standard (nominal) launch datetime with hour precision\n",
      "eua.tohourday()                    -  convert datetimes to hours, days and day_shift\n",
      "eua.totimes()                      -  Input time to Array\n"
     ]
    }
   ],
   "source": [
    "for i in dir(eua):\n",
    "    if '__' in i:\n",
    "        continue\n",
    "    if i in ['njit', 'datetime', 'timedelta', 'CDMDataset', 'CDMVariable', 'CDMGroup']:\n",
    "        continue\n",
    "    try:\n",
    "        j = getattr(eua, i)\n",
    "        if hasattr(j, '__call__'):\n",
    "            print('eua.{:30} - {}'.format(i+'()', j.__doc__.split('\\n')[0]))\n",
    "    except:\n",
    "        pass"
   ]
  },
  {
   "cell_type": "markdown",
   "metadata": {},
   "source": [
    "# Backend Files\n",
    "\n",
    "1. Reading a CDM Backend file with a given `path`\n",
    "2. Using Groups and Variables\n",
    "3. Loading Variables and Acessing Data\n",
    "4. Reading Attributes"
   ]
  },
  {
   "cell_type": "code",
   "execution_count": 8,
   "metadata": {},
   "outputs": [
    {
     "name": "stdout",
     "output_type": "stream",
     "text": [
      "2020-08-11 09:10:59,656 - upperair.cdm | __init__ - DEBUG - [OPEN] /raid60/scratch/federico/JULY_MERGE/0-20000-0-10962_CEUAS_merged_v0.nc\n"
     ]
    }
   ],
   "source": [
    "if False:\n",
    "    # old file with duplicates and not sorted\n",
    "    data = eua.CDMDataset('/raid60/scratch/federico/JUNE_TEST_MERGING_ALL/0-20000-0-01001_CEUAS_merged_v0.nc')\n",
    "    \n",
    "data = eua.CDMDataset('/raid60/scratch/federico/JULY_MERGE/0-20000-0-10962_CEUAS_merged_v0.nc')"
   ]
  },
  {
   "cell_type": "markdown",
   "metadata": {},
   "source": [
    "## Dataset Attributes"
   ]
  },
  {
   "cell_type": "code",
   "execution_count": 9,
   "metadata": {},
   "outputs": [
    {
     "data": {
      "text/plain": [
       "<HDF5 file \"0-20000-0-10962_CEUAS_merged_v0.nc\" (mode r)>"
      ]
     },
     "execution_count": 9,
     "metadata": {},
     "output_type": "execute_result"
    }
   ],
   "source": [
    "# h5py File Reference, until data.close(), the file is opened\n",
    "data.file"
   ]
  },
  {
   "cell_type": "code",
   "execution_count": 10,
   "metadata": {},
   "outputs": [
    {
     "name": "stdout",
     "output_type": "stream",
     "text": [
      "2020-08-11 09:11:03,546 - upperair.cdm | close - DEBUG - [CLOSED] /raid60/scratch/federico/JULY_MERGE/0-20000-0-10962_CEUAS_merged_v0.nc\n"
     ]
    }
   ],
   "source": [
    "# Close the HDF file\n",
    "data.close()"
   ]
  },
  {
   "cell_type": "code",
   "execution_count": 11,
   "metadata": {},
   "outputs": [
    {
     "name": "stdout",
     "output_type": "stream",
     "text": [
      "2020-08-11 09:11:04,049 - upperair.cdm | reopen - DEBUG - reopen /raid60/scratch/federico/JULY_MERGE/0-20000-0-10962_CEUAS_merged_v0.nc [r]\n"
     ]
    }
   ],
   "source": [
    "# Reopen it, potentially with different mode\n",
    "data.reopen(mode='r')"
   ]
  },
  {
   "cell_type": "code",
   "execution_count": 12,
   "metadata": {},
   "outputs": [
    {
     "name": "stdout",
     "output_type": "stream",
     "text": [
      "2020-08-11 09:11:05,481 - upperair.cdm | reopen - WARNING - reopen [r+] Copy file to /raid8/srvx1/mblaschek/tmp/0-20000-0-10962_CEUAS_merged_v0.nc\n",
      "2020-08-11 09:11:05,482 - upperair.cdm | reopen - DEBUG - reopen /raid8/srvx1/mblaschek/tmp/0-20000-0-10962_CEUAS_merged_v0.nc [r+]\n"
     ]
    }
   ],
   "source": [
    "# Note due to access rights, the file was copied to a tmp directory and opened for writing\n",
    "data.reopen(mode='r+')"
   ]
  },
  {
   "cell_type": "code",
   "execution_count": 13,
   "metadata": {},
   "outputs": [
    {
     "name": "stdout",
     "output_type": "stream",
     "text": [
      "2020-08-11 09:11:05,535 - upperair.cdm | close - DEBUG - [CLOSED] /raid8/srvx1/mblaschek/tmp/0-20000-0-10962_CEUAS_merged_v0.nc\n",
      "2020-08-11 09:11:05,536 - upperair.cdm | __init__ - DEBUG - [OPEN] /raid60/scratch/federico/JULY_MERGE/0-20000-0-10962_CEUAS_merged_v0.nc\n"
     ]
    }
   ],
   "source": [
    "data.close() # Close again and read original again\n",
    "data = eua.CDMDataset('/raid60/scratch/federico/JULY_MERGE/0-20000-0-10962_CEUAS_merged_v0.nc')"
   ]
  },
  {
   "cell_type": "code",
   "execution_count": 14,
   "metadata": {},
   "outputs": [
    {
     "data": {
      "text/plain": [
       "'/raid60/scratch/federico/JULY_MERGE/0-20000-0-10962_CEUAS_merged_v0.nc'"
      ]
     },
     "execution_count": 14,
     "metadata": {},
     "output_type": "execute_result"
    }
   ],
   "source": [
    "data.filename"
   ]
  },
  {
   "cell_type": "code",
   "execution_count": 15,
   "metadata": {},
   "outputs": [
    {
     "data": {
      "text/plain": [
       "True"
      ]
     },
     "execution_count": 15,
     "metadata": {},
     "output_type": "execute_result"
    }
   ],
   "source": [
    "data.hasgroups"
   ]
  },
  {
   "cell_type": "code",
   "execution_count": 16,
   "metadata": {},
   "outputs": [
    {
     "data": {
      "text/plain": [
       "'0-20000-0-10962_CEUAS_merged_v0.nc'"
      ]
     },
     "execution_count": 16,
     "metadata": {},
     "output_type": "execute_result"
    }
   ],
   "source": [
    "data.name"
   ]
  },
  {
   "cell_type": "markdown",
   "metadata": {},
   "source": [
    "## Groups and Variables are shown.\n",
    "- G for Groups, Number indicates Variables in Group\n",
    "- V for Variables, Number indicates Shape of Variable"
   ]
  },
  {
   "cell_type": "code",
   "execution_count": 17,
   "metadata": {},
   "outputs": [
    {
     "data": {
      "text/plain": [
       "Filename: /raid60/scratch/federico/JULY_MERGE/0-20000-0-10962_CEUAS_merged_v0.nc\n",
       "(G)roups/(V)ariables: \n",
       "\n",
       " - G | crs__________________________________________ : : 4\n",
       " - V | dateindex____________________________________ : : (4155,)\n",
       " - G | era5fb_______________________________________ : : 72\n",
       " - G | header_table_________________________________ : : 53\n",
       " - G | observations_table___________________________ : : 49\n",
       " - G | observed_variable____________________________ : : 9\n",
       " - V | recordindex__________________________________ : : (7314,)\n",
       " - V | recordtimestamp______________________________ : : (7314,)\n",
       " - G | source_configuration_________________________ : : 2\n",
       " - G | station_configuration_codes__________________ : : 7\n",
       " - G | station_type_________________________________ : : 4\n",
       " - G | units________________________________________ : : 6\n",
       " - G | z_coordinate_type____________________________ : : 4"
      ]
     },
     "execution_count": 17,
     "metadata": {},
     "output_type": "execute_result"
    }
   ],
   "source": [
    "# h5Py file structure (Groups and variables) shapes and number of variables in groups\n",
    "data"
   ]
  },
  {
   "cell_type": "code",
   "execution_count": 18,
   "metadata": {},
   "outputs": [
    {
     "data": {
      "text/plain": [
       "observations_table:\n",
       "\n",
       "adjustment_id_____________________________________ : : (18702774,)\n",
       "advanced_assimilation_feedback____________________ : : (18702774,)\n",
       "advanced_homogenisation___________________________ : : (18702774,)\n",
       "advanced_qc_______________________________________ : : (18702774,)\n",
       "advanced_uncertainty______________________________ : : (18702774,)\n",
       "bbox_max_latitude_________________________________ : : (18702774,)\n",
       "bbox_max_longitude________________________________ : : (18702774,)\n",
       "bbox_min_latitude_________________________________ : : (18702774,)\n",
       "bbox_min_longitude________________________________ : : (18702774,)\n",
       "code_table________________________________________ : : (18702774,)\n",
       "conversion_flag___________________________________ : : (18702774,)\n",
       "conversion_method_________________________________ : : (18702774,)\n",
       "crs_______________________________________________ : : (18702774,)\n",
       "data_policy_licence_______________________________ : : (18702774,)\n",
       "date_time_________________________________________ : : (18702774,)\n",
       "date_time_meaning_________________________________ : : (18702774,)\n",
       "exposure_of_sensor________________________________ : : (18702774,)\n",
       "index_____________________________________________ : : (18702774,)\n",
       "latitude__________________________________________ : : (18702774,)\n",
       "location_method___________________________________ : : (18702774,)\n",
       "location_precision________________________________ : : (18702774,)\n",
       "longitude_________________________________________ : : (18702774,)\n",
       "numerical_precision_______________________________ : : (18702774,)\n",
       "observation_duration______________________________ : : (18702774,)\n",
       "observation_height_above_station_surface__________ : : (18702774,)\n",
       "observation_id____________________________________ : : (18702774, 11)\n",
       "observation_value_________________________________ : : (18702774,)\n",
       "observed_variable_________________________________ : : (18702774,)\n",
       "original_code_table_______________________________ : : (18702774,)\n",
       "original_precision________________________________ : : (18702774,)\n",
       "original_units____________________________________ : : (18702774,)\n",
       "original_value____________________________________ : : (18702774,)\n",
       "processing_level__________________________________ : : (18702774,)\n",
       "quality_flag______________________________________ : : (18702774,)\n",
       "report_id_________________________________________ : : (18702774, 11)\n",
       "secondary_value___________________________________ : : (18702774,)\n",
       "secondary_variable________________________________ : : (18702774,)\n",
       "sensor_automation_status__________________________ : : (18702774,)\n",
       "sensor_id_________________________________________ : : (18702774,)\n",
       "source_id_________________________________________ : : (18702774, 6)\n",
       "spatial_representativeness________________________ : : (18702774,)\n",
       "string11__________________________________________ : : (11,)\n",
       "string6___________________________________________ : : (6,)\n",
       "traceability______________________________________ : : (18702774,)\n",
       "units_____________________________________________ : : (18702774,)\n",
       "value_significance________________________________ : : (18702774,)\n",
       "z_coordinate______________________________________ : : (18702774,)\n",
       "z_coordinate_method_______________________________ : : (18702774,)\n",
       "z_coordinate_type_________________________________ : : (18702774,)"
      ]
     },
     "execution_count": 18,
     "metadata": {},
     "output_type": "execute_result"
    }
   ],
   "source": [
    "# Groups are attached to the Class and can be accesed like this\n",
    "data.observations_table"
   ]
  },
  {
   "cell_type": "code",
   "execution_count": 19,
   "metadata": {},
   "outputs": [
    {
     "data": {
      "text/plain": [
       "observations_table:\n",
       "\n",
       "adjustment_id_____________________________________ : : (18702774,)\n",
       "advanced_assimilation_feedback____________________ : : (18702774,)\n",
       "advanced_homogenisation___________________________ : : (18702774,)\n",
       "advanced_qc_______________________________________ : : (18702774,)\n",
       "advanced_uncertainty______________________________ : : (18702774,)\n",
       "bbox_max_latitude_________________________________ : : (18702774,)\n",
       "bbox_max_longitude________________________________ : : (18702774,)\n",
       "bbox_min_latitude_________________________________ : : (18702774,)\n",
       "bbox_min_longitude________________________________ : : (18702774,)\n",
       "code_table________________________________________ : : (18702774,)\n",
       "conversion_flag___________________________________ : : (18702774,)\n",
       "conversion_method_________________________________ : : (18702774,)\n",
       "crs_______________________________________________ : : (18702774,)\n",
       "data_policy_licence_______________________________ : : (18702774,)\n",
       "date_time_________________________________________ : : (18702774,)\n",
       "date_time_meaning_________________________________ : : (18702774,)\n",
       "exposure_of_sensor________________________________ : : (18702774,)\n",
       "index_____________________________________________ : : (18702774,)\n",
       "latitude__________________________________________ : : (18702774,)\n",
       "location_method___________________________________ : : (18702774,)\n",
       "location_precision________________________________ : : (18702774,)\n",
       "longitude_________________________________________ : : (18702774,)\n",
       "numerical_precision_______________________________ : : (18702774,)\n",
       "observation_duration______________________________ : : (18702774,)\n",
       "observation_height_above_station_surface__________ : : (18702774,)\n",
       "observation_id____________________________________ : : (18702774, 11)\n",
       "observation_value_________________________________ : : (18702774,)\n",
       "observed_variable_________________________________ : : (18702774,)\n",
       "original_code_table_______________________________ : : (18702774,)\n",
       "original_precision________________________________ : : (18702774,)\n",
       "original_units____________________________________ : : (18702774,)\n",
       "original_value____________________________________ : : (18702774,)\n",
       "processing_level__________________________________ : : (18702774,)\n",
       "quality_flag______________________________________ : : (18702774,)\n",
       "report_id_________________________________________ : : (18702774, 11)\n",
       "secondary_value___________________________________ : : (18702774,)\n",
       "secondary_variable________________________________ : : (18702774,)\n",
       "sensor_automation_status__________________________ : : (18702774,)\n",
       "sensor_id_________________________________________ : : (18702774,)\n",
       "source_id_________________________________________ : : (18702774, 6)\n",
       "spatial_representativeness________________________ : : (18702774,)\n",
       "string11__________________________________________ : : (11,)\n",
       "string6___________________________________________ : : (6,)\n",
       "traceability______________________________________ : : (18702774,)\n",
       "units_____________________________________________ : : (18702774,)\n",
       "value_significance________________________________ : : (18702774,)\n",
       "z_coordinate______________________________________ : : (18702774,)\n",
       "z_coordinate_method_______________________________ : : (18702774,)\n",
       "z_coordinate_type_________________________________ : : (18702774,)"
      ]
     },
     "execution_count": 19,
     "metadata": {},
     "output_type": "execute_result"
    }
   ],
   "source": [
    "# or by getitem\n",
    "data['observations_table']"
   ]
  },
  {
   "cell_type": "code",
   "execution_count": 20,
   "metadata": {},
   "outputs": [
    {
     "data": {
      "text/plain": [
       "date_time : (18702774,)"
      ]
     },
     "execution_count": 20,
     "metadata": {},
     "output_type": "execute_result"
    }
   ],
   "source": [
    "# Variables in Groups can be accessed like this\n",
    "data.observations_table.date_time"
   ]
  },
  {
   "cell_type": "code",
   "execution_count": 21,
   "metadata": {},
   "outputs": [
    {
     "data": {
      "text/plain": [
       "date_time : (18702774,)"
      ]
     },
     "execution_count": 21,
     "metadata": {},
     "output_type": "execute_result"
    }
   ],
   "source": [
    "# or like this\n",
    "data['observations_table']['date_time']"
   ]
  },
  {
   "cell_type": "code",
   "execution_count": 22,
   "metadata": {},
   "outputs": [
    {
     "name": "stdout",
     "output_type": "stream",
     "text": [
      "isArray() ? False\n",
      "keys() ? ['shape']\n"
     ]
    }
   ],
   "source": [
    "# common functions are isArray and keys()\n",
    "print('isArray() ?', data.observations_table.date_time.isArray())\n",
    "print('keys() ?', data.observations_table.date_time.keys())"
   ]
  },
  {
   "cell_type": "code",
   "execution_count": 23,
   "metadata": {},
   "outputs": [
    {
     "data": {
      "text/plain": [
       "(18702774,)"
      ]
     },
     "execution_count": 23,
     "metadata": {},
     "output_type": "execute_result"
    }
   ],
   "source": [
    "# Another Attribute that is there all the time is shape\n",
    "data.observations_table.date_time.shape"
   ]
  },
  {
   "cell_type": "code",
   "execution_count": 24,
   "metadata": {},
   "outputs": [
    {
     "data": {
      "text/plain": [
       "<HDF5 dataset \"date_time\": shape (18702774,), type \"<i8\">"
      ]
     },
     "execution_count": 24,
     "metadata": {},
     "output_type": "execute_result"
    }
   ],
   "source": [
    "# The Link points to the HDF file\n",
    "data.observations_table.date_time.link"
   ]
  },
  {
   "cell_type": "code",
   "execution_count": 25,
   "metadata": {},
   "outputs": [
    {
     "data": {
      "text/plain": [
       "<HDF5 dataset \"date_time\": shape (18702774,), type \"<i8\">"
      ]
     },
     "execution_count": 25,
     "metadata": {},
     "output_type": "execute_result"
    }
   ],
   "source": [
    "# This hidden value points to the data (when loaded) or to the link \n",
    "data.observations_table.date_time._data"
   ]
  },
  {
   "cell_type": "markdown",
   "metadata": {},
   "source": [
    "### Access the HDF Data"
   ]
  },
  {
   "cell_type": "code",
   "execution_count": 25,
   "metadata": {},
   "outputs": [
    {
     "data": {
      "text/plain": [
       "array([2552299200, 2552299200, 2552299200, ..., 3786673592, 3786673592,\n",
       "       3786673592])"
      ]
     },
     "execution_count": 25,
     "metadata": {},
     "output_type": "execute_result"
    }
   ],
   "source": [
    "# Access the HDF Data\n",
    "data.observations_table.date_time[slice(None)]  # or with indices, A slice is always faster due to HDF5 implementation\n",
    "\n",
    "if False:\n",
    "    data.observations_table.date_time[()]  # as slice(None)\n",
    "\n",
    "# Please note accessing data like this does not mean it is loaded into memory and sorted in the class"
   ]
  },
  {
   "cell_type": "code",
   "execution_count": 24,
   "metadata": {},
   "outputs": [
    {
     "data": {
      "text/plain": [
       "observations_table:\n",
       "\n",
       "adjustment_id_____________________________________ : : (18702774,)\n",
       "advanced_assimilation_feedback____________________ : : (18702774,)\n",
       "advanced_homogenisation___________________________ : : (18702774,)\n",
       "advanced_qc_______________________________________ : : (18702774,)\n",
       "advanced_uncertainty______________________________ : : (18702774,)\n",
       "bbox_max_latitude_________________________________ : : (18702774,)\n",
       "bbox_max_longitude________________________________ : : (18702774,)\n",
       "bbox_min_latitude_________________________________ : : (18702774,)\n",
       "bbox_min_longitude________________________________ : : (18702774,)\n",
       "code_table________________________________________ : : (18702774,)\n",
       "conversion_flag___________________________________ : : (18702774,)\n",
       "conversion_method_________________________________ : : (18702774,)\n",
       "crs_______________________________________________ : : (18702774,)\n",
       "data_policy_licence_______________________________ : : (18702774,)\n",
       "date_time_________________________________________ : : (18702774,)\n",
       "date_time_meaning_________________________________ : : (18702774,)\n",
       "exposure_of_sensor________________________________ : : (18702774,)\n",
       "index_____________________________________________ : : (18702774,)\n",
       "latitude__________________________________________ : : (18702774,)\n",
       "location_method___________________________________ : : (18702774,)\n",
       "location_precision________________________________ : : (18702774,)\n",
       "longitude_________________________________________ : : (18702774,)\n",
       "numerical_precision_______________________________ : : (18702774,)\n",
       "observation_duration______________________________ : : (18702774,)\n",
       "observation_height_above_station_surface__________ : : (18702774,)\n",
       "observation_id____________________________________ : : (18702774, 11)\n",
       "observation_value_________________________________ : : (18702774,)\n",
       "observed_variable_________________________________ : : (18702774,)\n",
       "original_code_table_______________________________ : : (18702774,)\n",
       "original_precision________________________________ : : (18702774,)\n",
       "original_units____________________________________ : : (18702774,)\n",
       "original_value____________________________________ : : (18702774,)\n",
       "processing_level__________________________________ : : (18702774,)\n",
       "quality_flag______________________________________ : : (18702774,)\n",
       "report_id_________________________________________ : : (18702774, 11)\n",
       "secondary_value___________________________________ : : (18702774,)\n",
       "secondary_variable________________________________ : : (18702774,)\n",
       "sensor_automation_status__________________________ : : (18702774,)\n",
       "sensor_id_________________________________________ : : (18702774,)\n",
       "source_id_________________________________________ : : (18702774, 6)\n",
       "spatial_representativeness________________________ : : (18702774,)\n",
       "string11__________________________________________ : : (11,)\n",
       "string6___________________________________________ : : (6,)\n",
       "traceability______________________________________ : : (18702774,)\n",
       "units_____________________________________________ : : (18702774,)\n",
       "value_significance________________________________ : : (18702774,)\n",
       "z_coordinate______________________________________ : : (18702774,)\n",
       "z_coordinate_method_______________________________ : : (18702774,)\n",
       "z_coordinate_type_________________________________ : : (18702774,)"
      ]
     },
     "execution_count": 24,
     "metadata": {},
     "output_type": "execute_result"
    }
   ],
   "source": [
    "# datetime is not loaded\n",
    "data.observations_table"
   ]
  },
  {
   "cell_type": "markdown",
   "metadata": {},
   "source": [
    "### This loads the variable and replaces the _origin with the numpy array"
   ]
  },
  {
   "cell_type": "code",
   "execution_count": 25,
   "metadata": {},
   "outputs": [],
   "source": [
    "data.load_variable_from_file('date_time', group='observations_table')"
   ]
  },
  {
   "cell_type": "code",
   "execution_count": 26,
   "metadata": {},
   "outputs": [
    {
     "data": {
      "text/plain": [
       "observations_table:\n",
       "\n",
       "adjustment_id_____________________________________ : : (18702774,)\n",
       "advanced_assimilation_feedback____________________ : : (18702774,)\n",
       "advanced_homogenisation___________________________ : : (18702774,)\n",
       "advanced_qc_______________________________________ : : (18702774,)\n",
       "advanced_uncertainty______________________________ : : (18702774,)\n",
       "bbox_max_latitude_________________________________ : : (18702774,)\n",
       "bbox_max_longitude________________________________ : : (18702774,)\n",
       "bbox_min_latitude_________________________________ : : (18702774,)\n",
       "bbox_min_longitude________________________________ : : (18702774,)\n",
       "code_table________________________________________ : : (18702774,)\n",
       "conversion_flag___________________________________ : : (18702774,)\n",
       "conversion_method_________________________________ : : (18702774,)\n",
       "crs_______________________________________________ : : (18702774,)\n",
       "data_policy_licence_______________________________ : : (18702774,)\n",
       "date_time_________________________________________ :L: (18702774,)\n",
       "date_time_meaning_________________________________ : : (18702774,)\n",
       "exposure_of_sensor________________________________ : : (18702774,)\n",
       "index_____________________________________________ : : (18702774,)\n",
       "latitude__________________________________________ : : (18702774,)\n",
       "location_method___________________________________ : : (18702774,)\n",
       "location_precision________________________________ : : (18702774,)\n",
       "longitude_________________________________________ : : (18702774,)\n",
       "numerical_precision_______________________________ : : (18702774,)\n",
       "observation_duration______________________________ : : (18702774,)\n",
       "observation_height_above_station_surface__________ : : (18702774,)\n",
       "observation_id____________________________________ : : (18702774, 11)\n",
       "observation_value_________________________________ : : (18702774,)\n",
       "observed_variable_________________________________ : : (18702774,)\n",
       "original_code_table_______________________________ : : (18702774,)\n",
       "original_precision________________________________ : : (18702774,)\n",
       "original_units____________________________________ : : (18702774,)\n",
       "original_value____________________________________ : : (18702774,)\n",
       "processing_level__________________________________ : : (18702774,)\n",
       "quality_flag______________________________________ : : (18702774,)\n",
       "report_id_________________________________________ : : (18702774, 11)\n",
       "secondary_value___________________________________ : : (18702774,)\n",
       "secondary_variable________________________________ : : (18702774,)\n",
       "sensor_automation_status__________________________ : : (18702774,)\n",
       "sensor_id_________________________________________ : : (18702774,)\n",
       "source_id_________________________________________ : : (18702774, 6)\n",
       "spatial_representativeness________________________ : : (18702774,)\n",
       "string11__________________________________________ : : (11,)\n",
       "string6___________________________________________ : : (6,)\n",
       "traceability______________________________________ : : (18702774,)\n",
       "units_____________________________________________ : : (18702774,)\n",
       "value_significance________________________________ : : (18702774,)\n",
       "z_coordinate______________________________________ : : (18702774,)\n",
       "z_coordinate_method_______________________________ : : (18702774,)\n",
       "z_coordinate_type_________________________________ : : (18702774,)"
      ]
     },
     "execution_count": 26,
     "metadata": {},
     "output_type": "execute_result"
    }
   ],
   "source": [
    "# Now date_time is loaded\n",
    "data.observations_table"
   ]
  },
  {
   "cell_type": "code",
   "execution_count": 27,
   "metadata": {},
   "outputs": [
    {
     "data": {
      "text/plain": [
       "True"
      ]
     },
     "execution_count": 27,
     "metadata": {},
     "output_type": "execute_result"
    }
   ],
   "source": [
    "# Now isArray is True as the data is loaded\n",
    "data.observations_table.date_time.isArray()"
   ]
  },
  {
   "cell_type": "code",
   "execution_count": 28,
   "metadata": {},
   "outputs": [
    {
     "data": {
      "text/plain": [
       "array([2552299200, 2552299200, 2552299200, ..., 3786673592, 3786673592,\n",
       "       3786673592])"
      ]
     },
     "execution_count": 28,
     "metadata": {},
     "output_type": "execute_result"
    }
   ],
   "source": [
    "# Access still workds the same way, for consistency\n",
    "data.observations_table.date_time[()]"
   ]
  },
  {
   "cell_type": "code",
   "execution_count": 29,
   "metadata": {},
   "outputs": [
    {
     "data": {
      "text/plain": [
       "{'description': 'timestamp for observation',\n",
       " 'external_table': 'nan',\n",
       " 'units': 'seconds since 1900-01-01 00:00:00'}"
      ]
     },
     "execution_count": 29,
     "metadata": {},
     "output_type": "execute_result"
    }
   ],
   "source": [
    "# HDF Attributes can be retrieved from every Variable\n",
    "data.read_attributes('date_time', group='observations_table')"
   ]
  },
  {
   "cell_type": "markdown",
   "metadata": {},
   "source": [
    "## CDM Check duplicates\n",
    "\n",
    "This is the typical function we used before for checking if duplicates in date_time and z_coordinate exist."
   ]
  },
  {
   "cell_type": "code",
   "execution_count": 23,
   "metadata": {},
   "outputs": [
    {
     "name": "stdout",
     "output_type": "stream",
     "text": [
      "2020-08-05 10:31:45,139 - upperair.cdm | profile_to_dataframe - INFO - Reading Profile on slice(None, None, None)\n",
      "2020-08-05 10:31:47,501 - upperair.cdm | profile_to_dataframe - DEBUG - Read variables: dict_keys(['observation_value', 'date_time', 'z_coordinate', 'observed_variable', 'source_id', 'z_coordinate_type'])\n",
      "2020-08-05 10:31:59,971 - upperair.cdm | check_cdm_duplicates - INFO - Evaluating for duplicates ... (pandas)\n"
     ]
    },
    {
     "data": {
      "text/html": [
       "<div>\n",
       "<style scoped>\n",
       "    .dataframe tbody tr th:only-of-type {\n",
       "        vertical-align: middle;\n",
       "    }\n",
       "\n",
       "    .dataframe tbody tr th {\n",
       "        vertical-align: top;\n",
       "    }\n",
       "\n",
       "    .dataframe thead th {\n",
       "        text-align: right;\n",
       "    }\n",
       "</style>\n",
       "<table border=\"1\" class=\"dataframe\">\n",
       "  <thead>\n",
       "    <tr style=\"text-align: right;\">\n",
       "      <th></th>\n",
       "      <th>observation_value</th>\n",
       "      <th>date_time</th>\n",
       "      <th>z_coordinate</th>\n",
       "      <th>observed_variable</th>\n",
       "      <th>source_id</th>\n",
       "      <th>z_coordinate_type</th>\n",
       "    </tr>\n",
       "  </thead>\n",
       "  <tbody>\n",
       "  </tbody>\n",
       "</table>\n",
       "</div>"
      ],
      "text/plain": [
       "Empty DataFrame\n",
       "Columns: [observation_value, date_time, z_coordinate, observed_variable, source_id, z_coordinate_type]\n",
       "Index: []"
      ]
     },
     "execution_count": 23,
     "metadata": {},
     "output_type": "execute_result"
    }
   ],
   "source": [
    "data.check_cdm_duplicates('observations_table', \n",
    "                          ['observation_value', 'date_time', 'z_coordinate', 'observed_variable', 'source_id', 'z_coordinate_type']\n",
    "                         )"
   ]
  },
  {
   "cell_type": "markdown",
   "metadata": {},
   "source": [
    "## Availability of data"
   ]
  },
  {
   "cell_type": "code",
   "execution_count": 32,
   "metadata": {},
   "outputs": [
    {
     "data": {
      "image/png": "[encoded data removed]",
      "text/plain": [
       "<Figure size 864x432 with 1 Axes>"
      ]
     },
     "metadata": {
      "needs_background": "light"
     },
     "output_type": "display_data"
    }
   ],
   "source": [
    "plot(data.availability())\n",
    "grid()\n",
    "title('Availability of {}'.format(data.name));"
   ]
  },
  {
   "cell_type": "markdown",
   "metadata": {},
   "source": [
    "## Convert to DataFrame\n",
    "\n",
    "this function is meant to check some data directly, on specific dates or indices\n",
    "\n",
    "* Select Groups, e.g. observations_table, era5fb\n",
    "* select Variable names, e.g. observation_value, ...\n",
    "* select date as string or as index (using date_is_index=True), can be a range too"
   ]
  },
  {
   "cell_type": "code",
   "execution_count": 41,
   "metadata": {},
   "outputs": [
    {
     "name": "stdout",
     "output_type": "stream",
     "text": [
      "2020-08-10 16:54:01,056 - upperair.cdm | make_datetime_slice - DEBUG - Datetime selection: 7738303 - 7759812\n",
      "2020-08-10 16:54:01,057 - upperair.cdm | profile_to_dataframe - INFO - Reading Profile on slice(7738303, 7759812, None)\n",
      "2020-08-10 16:54:01,065 - upperair.cdm | profile_to_dataframe - DEBUG - Read variables: dict_keys(['observation_value', 'date_time', 'z_coordinate', 'observed_variable', 'report_id'])\n",
      "       observation_value   date_time  z_coordinate  observed_variable  \\\n",
      "0             106.000000  3673746229         490.0                106   \n",
      "1              10.000000  3673746229         490.0                107   \n",
      "2              -9.612617  3673746229         490.0                104   \n",
      "3               2.756374  3673746229         490.0                105   \n",
      "4          356118.687500  3673746229         490.0                117   \n",
      "...                  ...         ...           ...                ...   \n",
      "21504         280.000000  3673749600       89900.0                106   \n",
      "21505         282.149994  3673749600       90300.0                 85   \n",
      "21506           4.000000  3673749600       90300.0                107   \n",
      "21507         260.000000  3673749600       90300.0                106   \n",
      "21508           0.000000  3673749600       90300.0                 34   \n",
      "\n",
      "         report_id  \n",
      "0      10000004029  \n",
      "1      10000004029  \n",
      "2      10000004029  \n",
      "3      10000004029  \n",
      "4      10000004029  \n",
      "...            ...  \n",
      "21504  30000003283  \n",
      "21505  30000003283  \n",
      "21506  30000003283  \n",
      "21507  30000003283  \n",
      "21508  30000003283  \n",
      "\n",
      "[21509 rows x 5 columns]\n"
     ]
    }
   ],
   "source": [
    "print(\n",
    "    data.profile_to_dataframe('observations_table', \n",
    "                              ['observation_value', 'date_time', 'z_coordinate', 'observed_variable', 'report_id'], \n",
    "                              '2016-06-01',\n",
    "                              date_is_index=False)\n",
    "     )"
   ]
  },
  {
   "cell_type": "markdown",
   "metadata": {},
   "source": [
    "## Read Observed Variable\n",
    "\n",
    "In the Backend files the variables are currently (2020-08) written in a ragged form.\n",
    "That's why we need to subset.\n",
    "This function is used in the requests from the CDS as well.\n",
    "The functionality is build from `cds_eua2.process_flat`\n",
    "\n",
    "* CDM Code\n",
    "* Date time selection\n",
    "* Pressure levels or None (all)\n",
    "* convert to Xarray ?\n",
    "\n",
    "The Resulting Variable can be a list of "
   ]
  },
  {
   "cell_type": "code",
   "execution_count": 81,
   "metadata": {},
   "outputs": [
    {
     "name": "stdout",
     "output_type": "stream",
     "text": [
      "2020-08-05 16:39:15,532 - upperair.cdm | make_datetime_slice - DEBUG - Datetime selection: 403943 - 18681137\n",
      "2020-08-05 16:39:16,082 - upperair.cdm | read_observed_variable - INFO - [READ] Observed variable 85\n",
      "2020-08-05 16:39:16,312 - upperair.cdm | read_observed_variable - INFO - [READ] pressure levels [  1000   2000   3000   5000   7000  10000  15000  20000  25000  30000\n",
      "  40000  50000  70000  85000  92500 100000]\n",
      "CPU times: user 1.04 s, sys: 246 ms, total: 1.29 s\n",
      "Wall time: 1.29 s\n"
     ]
    },
    {
     "data": {
      "text/plain": [
       "array([213.3 , 210.7 , 211.5 , ..., 246.32, 263.56, 273.1 ], dtype=float32)"
      ]
     },
     "execution_count": 81,
     "metadata": {},
     "output_type": "execute_result"
    }
   ],
   "source": [
    "%%time \n",
    "data.read_observed_variable(85, \n",
    "                            dates = ['2000-01-01', '2019-12-31'], \n",
    "                            plevs = eua.std_plevs*100, \n",
    "                            times = None\n",
    "                           )\n",
    "# Return just the numpy array"
   ]
  },
  {
   "cell_type": "code",
   "execution_count": 82,
   "metadata": {},
   "outputs": [
    {
     "name": "stdout",
     "output_type": "stream",
     "text": [
      "2020-08-05 16:39:53,841 - upperair.cdm | make_datetime_slice - DEBUG - Datetime selection: 403943 - 18681137\n",
      "2020-08-05 16:39:54,392 - upperair.cdm | read_observed_variable - INFO - [READ] Observed variable 85\n",
      "2020-08-05 16:39:54,622 - upperair.cdm | read_observed_variable - INFO - [READ] pressure levels [  1000   2000   3000   5000   7000  10000  15000  20000  25000  30000\n",
      "  40000  50000  70000  85000  92500 100000]\n",
      "CPU times: user 624 ms, sys: 182 ms, total: 806 ms\n",
      "Wall time: 802 ms\n"
     ]
    },
    {
     "data": {
      "text/plain": [
       "(slice(403943, 18681137, None),\n",
       " array([False, False, False, ..., False, False, False]))"
      ]
     },
     "execution_count": 82,
     "metadata": {},
     "output_type": "execute_result"
    }
   ],
   "source": [
    "%%time \n",
    "data.read_observed_variable(85, \n",
    "                            dates = ['2000-01-01', '2019-12-31'], \n",
    "                            plevs = eua.std_plevs*100, \n",
    "                            times = None,\n",
    "                            return_index = True\n",
    "                           )\n",
    "# Return a time slice and mask. This is used in the CDS requests"
   ]
  },
  {
   "cell_type": "code",
   "execution_count": 83,
   "metadata": {},
   "outputs": [
    {
     "name": "stdout",
     "output_type": "stream",
     "text": [
      "2020-08-05 16:41:07,606 - upperair.cdm | make_datetime_slice - DEBUG - Datetime selection: 403943 - 18681137\n",
      "2020-08-05 16:41:08,142 - upperair.cdm | read_observed_variable - INFO - [READ] Observed variable 85\n",
      "2020-08-05 16:41:08,369 - upperair.cdm | read_observed_variable - INFO - [READ] pressure levels [  1000   2000   3000   5000   7000  10000  15000  20000  25000  30000\n",
      "  40000  50000  70000  85000  92500 100000]\n",
      "CPU times: user 605 ms, sys: 195 ms, total: 800 ms\n",
      "Wall time: 797 ms\n"
     ]
    },
    {
     "data": {
      "text/plain": [
       "(slice(403943, 18681137, None),\n",
       " array([False, False, False, ..., False, False, False]),\n",
       " array([3155886000, 3155886000, 3155886000, ..., 3786415109, 3786415109,\n",
       "        3786415109]),\n",
       " array([ 7000., 10000., 15000., ..., 50000., 70000., 85000.], dtype=float32))"
      ]
     },
     "execution_count": 83,
     "metadata": {},
     "output_type": "execute_result"
    }
   ],
   "source": [
    "%%time \n",
    "data.read_observed_variable(85, \n",
    "                            dates = ['2000-01-01', '2019-12-31'], \n",
    "                            plevs = eua.std_plevs*100, \n",
    "                            times = None,\n",
    "                            return_index = True,\n",
    "                            return_coordinates = True,\n",
    "                           )\n",
    "# Return a time slice, a mask, dates (mask applied) and pressures (mask applied)"
   ]
  },
  {
   "cell_type": "code",
   "execution_count": 100,
   "metadata": {},
   "outputs": [
    {
     "name": "stdout",
     "output_type": "stream",
     "text": [
      "2020-08-05 16:47:22,107 - upperair.cdm | make_datetime_slice - DEBUG - Datetime selection: 403943 - 18681137\n",
      "2020-08-05 16:47:22,642 - upperair.cdm | read_observed_variable - INFO - [READ] Observed variable 85\n",
      "2020-08-05 16:47:22,870 - upperair.cdm | read_observed_variable - INFO - [READ] pressure levels [  1000   2000   3000   5000   7000  10000  15000  20000  25000  30000\n",
      "  40000  50000  70000  85000  92500 100000]\n",
      "2020-08-05 16:47:23,351 - upperair.cdm | read_observed_variable - INFO - [READ] xarray ... (68695,)\n",
      "2020-08-05 16:47:23,361 - upperair.cdm | read_observed_variable - DEBUG - [READ] datetime conversion 68695\n",
      "CPU times: user 1.05 s, sys: 233 ms, total: 1.29 s\n",
      "Wall time: 1.28 s\n"
     ]
    }
   ],
   "source": [
    "%%time \n",
    "temp = data.read_observed_variable(85, \n",
    "                                   dates = ['2000-01-01', '2019-12-31'], \n",
    "                                   plevs = eua.std_plevs*100, \n",
    "                                   times = None,                                 \n",
    "                                   return_coordinates = False,\n",
    "                                   return_index = False,\n",
    "                                   return_xarray = True)\n",
    "# return an DataArray"
   ]
  },
  {
   "cell_type": "code",
   "execution_count": 33,
   "metadata": {},
   "outputs": [
    {
     "name": "stdout",
     "output_type": "stream",
     "text": [
      "2020-08-10 16:51:44,325 - upperair.cdm | make_datetime_slice - DEBUG - Datetime selection: 403943 - 18702774\n",
      "2020-08-10 16:51:44,642 - upperair.cdm | read_observed_variable - INFO - [READ] Observed variable 85\n",
      "2020-08-10 16:51:45,108 - upperair.cdm | read_observed_variable - INFO - [READ] pressure levels [  1000   2000   3000   5000   7000  10000  15000  20000  25000  30000\n",
      "  40000  50000  70000  85000  92500 100000]\n",
      "2020-08-10 16:51:46,389 - upperair.cdm | read_observed_variable - INFO - [READ] xarray ... (496,)\n",
      "2020-08-10 16:51:46,395 - upperair.cdm | read_observed_variable - DEBUG - [READ] datetime conversion 496\n",
      "CPU times: user 1.55 s, sys: 540 ms, total: 2.09 s\n",
      "Wall time: 2.12 s\n"
     ]
    }
   ],
   "source": [
    "%%time \n",
    "temp = data.read_observed_variable(85, \n",
    "                                   dates = ['2000-01-01', '2019-12-31'], \n",
    "                                   plevs = eua.std_plevs*100, \n",
    "                                   times = [0, 12],                                 \n",
    "                                   return_coordinates = False,\n",
    "                                   return_index = False,\n",
    "                                   return_xarray = True)\n",
    "# return an DataArray"
   ]
  },
  {
   "cell_type": "code",
   "execution_count": 40,
   "metadata": {},
   "outputs": [
    {
     "name": "stdout",
     "output_type": "stream",
     "text": [
      "<xarray.DataArray 'hour' (obs: 496)>\n",
      "array([12, 12, 12, 12, 12, 12, 12, 12, 12, 12, 12, 12, 12, 12, 12, 12, 12,\n",
      "       12, 12, 12, 12, 12, 12, 12, 12, 12, 12, 12, 12, 12, 12, 12, 12, 12,\n",
      "        0,  0,  0,  0,  0,  0,  0,  0,  0,  0,  0, 12, 12, 12, 12, 12, 12,\n",
      "       12, 12, 12, 12, 12, 12, 12, 12, 12, 12, 12, 12, 12, 12, 12, 12, 12,\n",
      "       12, 12, 12, 12, 12, 12, 12, 12, 12, 12, 12, 12, 12, 12, 12, 12, 12,\n",
      "       12, 12,  0,  0,  0,  0,  0,  0,  0,  0,  0,  0,  0,  0,  0,  0, 12,\n",
      "       12, 12, 12, 12, 12, 12, 12, 12, 12, 12, 12, 12, 12,  0,  0,  0,  0,\n",
      "        0,  0,  0,  0,  0,  0,  0,  0,  0,  0, 12, 12, 12, 12, 12, 12, 12,\n",
      "       12, 12, 12, 12, 12, 12, 12,  0,  0,  0,  0,  0,  0,  0,  0,  0,  0,\n",
      "        0,  0,  0,  0, 12, 12, 12, 12, 12, 12, 12, 12, 12, 12, 12, 12, 12,\n",
      "       12,  0,  0,  0,  0,  0,  0,  0,  0,  0,  0,  0,  0,  0,  0, 12, 12,\n",
      "       12, 12, 12, 12, 12, 12, 12, 12, 12, 12, 12, 12,  0,  0,  0,  0,  0,\n",
      "        0,  0,  0,  0,  0,  0,  0,  0, 12, 12, 12, 12, 12, 12, 12, 12, 12,\n",
      "       12, 12, 12, 12, 12, 23, 23, 23, 23, 23, 23, 23, 23, 23, 23, 23, 23,\n",
      "       23, 23,  0,  0,  0,  0,  0,  0,  0,  0,  0,  0,  0,  0,  0,  0, 12,\n",
      "       12, 12, 12, 12, 12, 12, 12, 12, 12, 12, 12, 12, 12, 11, 11, 11, 11,\n",
      "       11, 11, 11, 11, 11, 11, 11, 11, 11, 12, 12, 12, 12, 12, 12, 12, 12,\n",
      "       12, 12, 12, 12, 12, 12, 12, 12, 12, 12, 12, 12, 12, 12, 12, 12, 12,\n",
      "       12, 12, 12, 12, 12, 12, 12, 12, 12, 12, 12, 12, 12, 12, 12, 12, 12,\n",
      "       12, 12, 12, 12, 12, 12, 12, 12, 12, 12, 12, 12, 12, 12, 12, 12, 12,\n",
      "       12, 12, 12, 12, 12, 12, 12, 12, 12, 12, 12, 12, 12, 12, 12, 12, 12,\n",
      "       12, 12, 12, 12, 12, 12, 12, 12, 12, 12, 12, 12, 12, 12, 12, 12, 12,\n",
      "       12, 12, 12, 12, 12, 12, 12, 12, 12, 12, 12, 12, 12, 12, 12, 12, 12,\n",
      "       12, 12, 12, 12, 12, 12, 12, 12, 12, 12, 12, 12, 12, 12, 12, 12, 12,\n",
      "       12, 12, 12, 12, 12, 12, 12, 12, 12, 11, 11, 11, 11, 11, 11, 11, 11,\n",
      "       11, 11, 11, 11, 11, 11, 12, 12, 12, 12, 12, 12, 12, 12, 12, 12, 12,\n",
      "       12, 12, 12, 12, 12, 12, 12, 12, 12, 12, 12, 12, 12, 12, 12, 12, 12,\n",
      "       12, 12, 12, 12, 12, 12, 12, 12, 12, 12, 12, 12, 12, 12, 12, 12, 12,\n",
      "       12, 12, 12, 12, 12, 12, 12, 12, 12, 12, 12, 12, 12, 12, 12, 12, 12,\n",
      "       12, 12, 12])\n",
      "Coordinates:\n",
      "  * obs           (obs) MultiIndex\n",
      "  - date_time     (obs) datetime64[ns] 2000-01-03T12:00:00 ... 2018-09-24T12:...\n",
      "  - z_coordinate  (obs) float64 5e+03 7e+03 1e+04 ... 5e+04 7e+04 8.5e+04\n"
     ]
    }
   ],
   "source": [
    "# only 0 or 12\n",
    "print(temp.date_time.dt.hour)"
   ]
  },
  {
   "cell_type": "markdown",
   "metadata": {},
   "source": [
    "### Add CF Attributes"
   ]
  },
  {
   "cell_type": "code",
   "execution_count": 36,
   "metadata": {},
   "outputs": [],
   "source": [
    "temp.attrs.update(*eua.get_attributes(cdmname='temperature').values())"
   ]
  },
  {
   "cell_type": "code",
   "execution_count": 39,
   "metadata": {},
   "outputs": [
    {
     "name": "stdout",
     "output_type": "stream",
     "text": [
      "<xarray.DataArray (obs: 496)>\n",
      "array([209.05, 213.25, 210.65, 211.45, 208.05, 214.05, 222.85, 238.45,\n",
      "       252.25, 268.45, 277.35, 222.45, 205.05, 199.85, 203.85, 204.65,\n",
      "       210.25, 207.45, 214.25, 211.65, 220.45, 233.25, 244.65, 255.05,\n",
      "       266.05, 212.45, 213.85, 211.65, 214.45, 225.05, 240.85, 253.25,\n",
      "       270.65, 278.75, 194.3 , 198.7 , 203.5 , 210.1 , 205.9 , 212.3 ,\n",
      "       221.1 , 237.7 , 248.3 , 265.1 , 273.4 , 216.85, 213.25, 215.65,\n",
      "       213.25, 211.45, 210.45, 216.45, 226.25, 222.45, 224.65, 237.65,\n",
      "       249.85, 267.65, 276.75, 209.65, 212.45, 210.25, 212.45, 213.65,\n",
      "       213.85, 217.45, 213.65, 216.85, 226.45, 237.65, 250.65, 268.25,\n",
      "       274.75, 222.65, 211.05, 212.05, 213.65, 213.65, 211.45, 216.85,\n",
      "       209.65, 212.45, 223.25, 237.25, 250.25, 263.45, 273.55, 211.9 ,\n",
      "       211.7 , 210.9 , 212.1 , 213.5 , 217.1 , 224.9 , 229.5 , 227.1 ,\n",
      "       223.9 , 232.3 , 245.7 , 263.9 , 275.8 , 207.9 , 212.7 , 211.5 ,\n",
      "       211.5 , 213.1 , 215.9 , 221.1 , 225.9 , 226.9 , 228.1 , 236.5 ,\n",
      "       246.5 , 264.7 , 272.9 , 207.9 , 208.9 , 209.5 , 211.1 , 213.5 ,\n",
      "       215.5 , 218.1 , 222.9 , 225.7 , 231.1 , 241.7 , 249.5 , 266.5 ,\n",
      "       273.8 , 211.5 , 208.7 , 209.9 , 212.7 , 212.5 , 214.5 , 219.9 ,\n",
      "       226.5 , 226.5 , 225.1 , 238.5 , 252.1 , 267.7 , 275.6 , 211.7 ,\n",
      "       210.1 , 208.3 , 210.9 , 211.1 , 210.5 , 208.1 , 208.5 , 218.9 ,\n",
      "       228.1 , 244.3 , 255.3 , 273.4 , 283.4 , 211.9 , 210.1 , 209.9 ,\n",
      "...\n",
      "       214.5 , 224.9 , 240.9 , 252.5 , 267.5 , 275.8 , 228.85, 231.25,\n",
      "       223.65, 220.25, 218.85, 218.05, 222.05, 220.05, 220.05, 223.45,\n",
      "       239.65, 249.85, 261.25, 271.45, 225.65, 217.45, 217.05, 217.65,\n",
      "       215.85, 215.85, 217.05, 215.45, 212.85, 222.85, 240.65, 252.85,\n",
      "       271.05, 285.35, 226.25, 217.45, 216.85, 216.05, 216.85, 216.25,\n",
      "       219.25, 213.45, 215.05, 225.65, 241.05, 253.85, 272.45, 285.55,\n",
      "       225.05, 219.65, 218.85, 217.25, 215.05, 216.05, 219.65, 216.25,\n",
      "       216.65, 224.45, 239.45, 252.25, 269.05, 275.75, 218.93, 214.6 ,\n",
      "       215.22, 218.03, 215.29, 225.17, 235.46, 251.53, 262.31, 275.81,\n",
      "       285.39, 235.56, 227.13, 221.95, 218.26, 215.25, 214.25, 222.53,\n",
      "       222.64, 223.06, 233.  , 250.18, 262.54, 277.34, 287.4 , 235.45,\n",
      "       227.05, 221.85, 218.25, 215.05, 214.25, 222.45, 222.45, 223.05,\n",
      "       232.85, 250.05, 262.45, 277.15, 287.35, 227.05, 219.65, 219.05,\n",
      "       218.05, 219.65, 216.45, 217.25, 214.65, 220.65, 229.45, 244.85,\n",
      "       256.25, 273.15, 281.75, 212.25, 211.45, 210.85, 211.45, 209.05,\n",
      "       209.45, 207.85, 210.45, 220.25, 229.85, 246.85, 260.05, 275.35,\n",
      "       285.95, 231.85, 223.85, 220.85, 220.05, 217.05, 215.05, 214.45,\n",
      "       213.65, 224.85, 234.45, 250.65, 262.65, 278.75, 290.75, 212.85,\n",
      "       215.05, 221.45, 226.05, 232.45, 246.65, 256.85, 264.25, 272.85],\n",
      "      dtype=float32)\n",
      "Coordinates:\n",
      "  * obs           (obs) MultiIndex\n",
      "  - date_time     (obs) datetime64[ns] 2000-01-03T12:00:00 ... 2018-09-24T12:...\n",
      "  - z_coordinate  (obs) float64 5e+03 7e+03 1e+04 ... 5e+04 7e+04 8.5e+04\n",
      "Attributes:\n",
      "    cdmname:        observations_table/observation_value\n",
      "    units:          K\n",
      "    shortname:      ta\n",
      "    coordinates:    lat lon time plev\n",
      "    standard_name:  air_temperature\n",
      "    cdsname:        temperature\n",
      "    cdmcode:        85\n",
      "    odbcode:        2\n"
     ]
    }
   ],
   "source": [
    "print(temp)"
   ]
  },
  {
   "cell_type": "markdown",
   "metadata": {},
   "source": [
    "## HUG Webserver Request"
   ]
  },
  {
   "cell_type": "code",
   "execution_count": 42,
   "metadata": {},
   "outputs": [],
   "source": [
    "cftable = eua.read_standardnames()"
   ]
  },
  {
   "cell_type": "code",
   "execution_count": 43,
   "metadata": {},
   "outputs": [
    {
     "name": "stdout",
     "output_type": "stream",
     "text": [
      "2020-08-10 16:54:13,825 - upperair.cdm | make_datetime_slice - DEBUG - Datetime selection: 403943 - 18702774\n",
      "2020-08-10 16:54:14,134 - upperair.cdm | read_observed_variable - INFO - [READ] Observed variable 85\n",
      "2020-08-10 16:54:14,339 - upperair.cdm | read_observed_variable - INFO - [READ] pressure levels [50000, 85000]\n",
      "2020-08-10 16:54:14,346 - upperair.cdm | read_write_request - DEBUG - Datetime selection: 403943 - 18702774 [ 0.52 s] 0-20000-0-10962_CEUAS_merged_v0.nc\n",
      "2020-08-10 16:54:14,352 - upperair.cdm | read_write_request - DEBUG - Data found: 10123 0-20000-0-10962_CEUAS_merged_v0.nc\n",
      "2020-08-10 16:54:14,728 - upperair.cdm | read_write_request - DEBUG - Request-keys: dict_keys(['variable', 'date', 'pressure_levels'])\n",
      "2020-08-10 16:54:14,729 - upperair.cdm | read_write_request - DEBUG - Writing: test.nc\n",
      "2020-08-10 16:54:16,037 - upperair.cdm | do_cfcopy - WARNING - slow copy: observations_table 1.264445 s\n",
      "2020-08-10 16:54:16,045 - upperair.cdm | read_write_request - DEBUG - Group observations_table copied [ 2.22 s]\n",
      "2020-08-10 16:54:16,046 - upperair.cdm | read_write_request - DEBUG - Group era5fb copied [ 2.22 s]\n",
      "2020-08-10 16:54:16,054 - upperair.cdm | read_write_request - DEBUG - Group header_table copied [ 2.23 s]\n",
      "2020-08-10 16:54:16,057 - upperair.cdm | read_write_request - DEBUG - Finished 0-20000-0-10962_CEUAS_merged_v0.nc [ 2.23 s]\n"
     ]
    }
   ],
   "source": [
    "# Typical request that is forwarded from CDS\n",
    "data.read_write_request('test.nc', \n",
    "                        {'variable': ['temperature'], \n",
    "                         'date':['2000-01-01', '2019-12-31'], \n",
    "                         'pressure_levels': [50000, 85000]\n",
    "                        }, \n",
    "                        cftable)"
   ]
  },
  {
   "cell_type": "code",
   "execution_count": 45,
   "metadata": {},
   "outputs": [
    {
     "name": "stdout",
     "output_type": "stream",
     "text": [
      "2020-08-10 16:54:28,240 - upperair.cdm | __init__ - DEBUG - [OPEN] test.nc\n",
      "Filename: test.nc\n",
      "(G)roups/(V)ariables: \n",
      "\n",
      " - V | lat__________________________________________ : : (10123,)\n",
      " - V | lon__________________________________________ : : (10123,)\n",
      " - V | obs__________________________________________ : : (10123,)\n",
      " - V | plev_________________________________________ : : (10123,)\n",
      " - V | string14_____________________________________ : : (14,)\n",
      " - V | ta___________________________________________ : : (10123,)\n",
      " - V | time_________________________________________ : : (10123,)\n",
      " - V | trajectory___________________________________ : : (5067,)\n",
      " - V | trajectory_index_____________________________ : : (10123,)\n",
      " - V | trajectory_label_____________________________ : : (5067, 14)\n",
      "################################################################################\n",
      "2020-08-10 16:54:28,248 - upperair.cdm | make_datetime_slice - DEBUG - Datetime selection: 0 - 10123\n",
      "2020-08-10 16:54:28,251 - upperair.cdm | read_variable - INFO - [READ] plev : [  1000   2000   3000   5000   7000  10000  15000  20000  25000  30000\n",
      "  40000  50000  70000  85000  92500 100000] [Pa]\n",
      "2020-08-10 16:54:28,253 - upperair.cdm | read_data_to_cube - INFO - [CUBE] ta (5067, 16)\n",
      "{'ta': <xarray.DataArray 'ta' (time: 5067, plev: 16)>\n",
      "array([[   nan,    nan,    nan, ..., 277.4 ,    nan,    nan],\n",
      "       [   nan,    nan,    nan, ..., 277.35,    nan,    nan],\n",
      "       [   nan,    nan,    nan, ..., 274.2 ,    nan,    nan],\n",
      "       ...,\n",
      "       [   nan,    nan,    nan, ..., 272.64,    nan,    nan],\n",
      "       [   nan,    nan,    nan, ..., 273.1 ,    nan,    nan],\n",
      "       [   nan,    nan,    nan, ..., 278.37,    nan,    nan]],\n",
      "      dtype=float32)\n",
      "Coordinates:\n",
      "  * time     (time) datetime64[ns] 2000-01-03T11:00:00 ... 2019-12-30T05:46:32\n",
      "  * plev     (plev) int64 10 20 30 50 70 100 150 ... 400 500 700 850 925 1000\n",
      "Attributes:\n",
      "    cdmname:        observations_table/observation_value\n",
      "    cdsname:        temperature\n",
      "    coordinates:    lat lon time plev\n",
      "    description:    The observed value\n",
      "    standard_name:  air_temperature\n",
      "    units:          K}\n",
      "2020-08-10 16:54:28,259 - upperair.cdm | close - DEBUG - [CLOSED] test.nc\n"
     ]
    }
   ],
   "source": [
    "with eua.CDMDataset('test.nc') as new:\n",
    "    print(new)\n",
    "    print('#'*80)\n",
    "    print(new.read_data_to_cube('ta'))"
   ]
  },
  {
   "cell_type": "code",
   "execution_count": 14,
   "metadata": {},
   "outputs": [
    {
     "data": {
      "text/html": [
       "<div><svg style=\"position: absolute; width: 0; height: 0; overflow: hidden\">\n",
       "<defs>\n",
       "<symbol id=\"icon-database\" viewBox=\"0 0 32 32\">\n",
       "<title>Show/Hide data repr</title>\n",
       "<path d=\"M16 0c-8.837 0-16 2.239-16 5v4c0 2.761 7.163 5 16 5s16-2.239 16-5v-4c0-2.761-7.163-5-16-5z\"></path>\n",
       "<path d=\"M16 17c-8.837 0-16-2.239-16-5v6c0 2.761 7.163 5 16 5s16-2.239 16-5v-6c0 2.761-7.163 5-16 5z\"></path>\n",
       "<path d=\"M16 26c-8.837 0-16-2.239-16-5v6c0 2.761 7.163 5 16 5s16-2.239 16-5v-6c0 2.761-7.163 5-16 5z\"></path>\n",
       "</symbol>\n",
       "<symbol id=\"icon-file-text2\" viewBox=\"0 0 32 32\">\n",
       "<title>Show/Hide attributes</title>\n",
       "<path d=\"M28.681 7.159c-0.694-0.947-1.662-2.053-2.724-3.116s-2.169-2.030-3.116-2.724c-1.612-1.182-2.393-1.319-2.841-1.319h-15.5c-1.378 0-2.5 1.121-2.5 2.5v27c0 1.378 1.122 2.5 2.5 2.5h23c1.378 0 2.5-1.122 2.5-2.5v-19.5c0-0.448-0.137-1.23-1.319-2.841zM24.543 5.457c0.959 0.959 1.712 1.825 2.268 2.543h-4.811v-4.811c0.718 0.556 1.584 1.309 2.543 2.268zM28 29.5c0 0.271-0.229 0.5-0.5 0.5h-23c-0.271 0-0.5-0.229-0.5-0.5v-27c0-0.271 0.229-0.5 0.5-0.5 0 0 15.499-0 15.5 0v7c0 0.552 0.448 1 1 1h7v19.5z\"></path>\n",
       "<path d=\"M23 26h-14c-0.552 0-1-0.448-1-1s0.448-1 1-1h14c0.552 0 1 0.448 1 1s-0.448 1-1 1z\"></path>\n",
       "<path d=\"M23 22h-14c-0.552 0-1-0.448-1-1s0.448-1 1-1h14c0.552 0 1 0.448 1 1s-0.448 1-1 1z\"></path>\n",
       "<path d=\"M23 18h-14c-0.552 0-1-0.448-1-1s0.448-1 1-1h14c0.552 0 1 0.448 1 1s-0.448 1-1 1z\"></path>\n",
       "</symbol>\n",
       "</defs>\n",
       "</svg>\n",
       "<style>/* CSS stylesheet for displaying xarray objects in jupyterlab.\n",
       " *\n",
       " */\n",
       "\n",
       ":root {\n",
       "  --xr-font-color0: var(--jp-content-font-color0, rgba(0, 0, 0, 1));\n",
       "  --xr-font-color2: var(--jp-content-font-color2, rgba(0, 0, 0, 0.54));\n",
       "  --xr-font-color3: var(--jp-content-font-color3, rgba(0, 0, 0, 0.38));\n",
       "  --xr-border-color: var(--jp-border-color2, #e0e0e0);\n",
       "  --xr-disabled-color: var(--jp-layout-color3, #bdbdbd);\n",
       "  --xr-background-color: var(--jp-layout-color0, white);\n",
       "  --xr-background-color-row-even: var(--jp-layout-color1, white);\n",
       "  --xr-background-color-row-odd: var(--jp-layout-color2, #eeeeee);\n",
       "}\n",
       "\n",
       ".xr-wrap {\n",
       "  min-width: 300px;\n",
       "  max-width: 700px;\n",
       "}\n",
       "\n",
       ".xr-header {\n",
       "  padding-top: 6px;\n",
       "  padding-bottom: 6px;\n",
       "  margin-bottom: 4px;\n",
       "  border-bottom: solid 1px var(--xr-border-color);\n",
       "}\n",
       "\n",
       ".xr-header > div,\n",
       ".xr-header > ul {\n",
       "  display: inline;\n",
       "  margin-top: 0;\n",
       "  margin-bottom: 0;\n",
       "}\n",
       "\n",
       ".xr-obj-type,\n",
       ".xr-array-name {\n",
       "  margin-left: 2px;\n",
       "  margin-right: 10px;\n",
       "}\n",
       "\n",
       ".xr-obj-type {\n",
       "  color: var(--xr-font-color2);\n",
       "}\n",
       "\n",
       ".xr-sections {\n",
       "  padding-left: 0 !important;\n",
       "  display: grid;\n",
       "  grid-template-columns: 150px auto auto 1fr 20px 20px;\n",
       "}\n",
       "\n",
       ".xr-section-item {\n",
       "  display: contents;\n",
       "}\n",
       "\n",
       ".xr-section-item input {\n",
       "  display: none;\n",
       "}\n",
       "\n",
       ".xr-section-item input + label {\n",
       "  color: var(--xr-disabled-color);\n",
       "}\n",
       "\n",
       ".xr-section-item input:enabled + label {\n",
       "  cursor: pointer;\n",
       "  color: var(--xr-font-color2);\n",
       "}\n",
       "\n",
       ".xr-section-item input:enabled + label:hover {\n",
       "  color: var(--xr-font-color0);\n",
       "}\n",
       "\n",
       ".xr-section-summary {\n",
       "  grid-column: 1;\n",
       "  color: var(--xr-font-color2);\n",
       "  font-weight: 500;\n",
       "}\n",
       "\n",
       ".xr-section-summary > span {\n",
       "  display: inline-block;\n",
       "  padding-left: 0.5em;\n",
       "}\n",
       "\n",
       ".xr-section-summary-in:disabled + label {\n",
       "  color: var(--xr-font-color2);\n",
       "}\n",
       "\n",
       ".xr-section-summary-in + label:before {\n",
       "  display: inline-block;\n",
       "  content: '►';\n",
       "  font-size: 11px;\n",
       "  width: 15px;\n",
       "  text-align: center;\n",
       "}\n",
       "\n",
       ".xr-section-summary-in:disabled + label:before {\n",
       "  color: var(--xr-disabled-color);\n",
       "}\n",
       "\n",
       ".xr-section-summary-in:checked + label:before {\n",
       "  content: '▼';\n",
       "}\n",
       "\n",
       ".xr-section-summary-in:checked + label > span {\n",
       "  display: none;\n",
       "}\n",
       "\n",
       ".xr-section-summary,\n",
       ".xr-section-inline-details {\n",
       "  padding-top: 4px;\n",
       "  padding-bottom: 4px;\n",
       "}\n",
       "\n",
       ".xr-section-inline-details {\n",
       "  grid-column: 2 / -1;\n",
       "}\n",
       "\n",
       ".xr-section-details {\n",
       "  display: none;\n",
       "  grid-column: 1 / -1;\n",
       "  margin-bottom: 5px;\n",
       "}\n",
       "\n",
       ".xr-section-summary-in:checked ~ .xr-section-details {\n",
       "  display: contents;\n",
       "}\n",
       "\n",
       ".xr-array-wrap {\n",
       "  grid-column: 1 / -1;\n",
       "  display: grid;\n",
       "  grid-template-columns: 20px auto;\n",
       "}\n",
       "\n",
       ".xr-array-wrap > label {\n",
       "  grid-column: 1;\n",
       "  vertical-align: top;\n",
       "}\n",
       "\n",
       ".xr-preview {\n",
       "  color: var(--xr-font-color3);\n",
       "}\n",
       "\n",
       ".xr-array-preview,\n",
       ".xr-array-data {\n",
       "  padding: 0 5px !important;\n",
       "  grid-column: 2;\n",
       "}\n",
       "\n",
       ".xr-array-data,\n",
       ".xr-array-in:checked ~ .xr-array-preview {\n",
       "  display: none;\n",
       "}\n",
       "\n",
       ".xr-array-in:checked ~ .xr-array-data,\n",
       ".xr-array-preview {\n",
       "  display: inline-block;\n",
       "}\n",
       "\n",
       ".xr-dim-list {\n",
       "  display: inline-block !important;\n",
       "  list-style: none;\n",
       "  padding: 0 !important;\n",
       "  margin: 0;\n",
       "}\n",
       "\n",
       ".xr-dim-list li {\n",
       "  display: inline-block;\n",
       "  padding: 0;\n",
       "  margin: 0;\n",
       "}\n",
       "\n",
       ".xr-dim-list:before {\n",
       "  content: '(';\n",
       "}\n",
       "\n",
       ".xr-dim-list:after {\n",
       "  content: ')';\n",
       "}\n",
       "\n",
       ".xr-dim-list li:not(:last-child):after {\n",
       "  content: ',';\n",
       "  padding-right: 5px;\n",
       "}\n",
       "\n",
       ".xr-has-index {\n",
       "  font-weight: bold;\n",
       "}\n",
       "\n",
       ".xr-var-list,\n",
       ".xr-var-item {\n",
       "  display: contents;\n",
       "}\n",
       "\n",
       ".xr-var-item > div,\n",
       ".xr-var-item label,\n",
       ".xr-var-item > .xr-var-name span {\n",
       "  background-color: var(--xr-background-color-row-even);\n",
       "  margin-bottom: 0;\n",
       "}\n",
       "\n",
       ".xr-var-item > .xr-var-name:hover span {\n",
       "  padding-right: 5px;\n",
       "}\n",
       "\n",
       ".xr-var-list > li:nth-child(odd) > div,\n",
       ".xr-var-list > li:nth-child(odd) > label,\n",
       ".xr-var-list > li:nth-child(odd) > .xr-var-name span {\n",
       "  background-color: var(--xr-background-color-row-odd);\n",
       "}\n",
       "\n",
       ".xr-var-name {\n",
       "  grid-column: 1;\n",
       "}\n",
       "\n",
       ".xr-var-dims {\n",
       "  grid-column: 2;\n",
       "}\n",
       "\n",
       ".xr-var-dtype {\n",
       "  grid-column: 3;\n",
       "  text-align: right;\n",
       "  color: var(--xr-font-color2);\n",
       "}\n",
       "\n",
       ".xr-var-preview {\n",
       "  grid-column: 4;\n",
       "}\n",
       "\n",
       ".xr-var-name,\n",
       ".xr-var-dims,\n",
       ".xr-var-dtype,\n",
       ".xr-preview,\n",
       ".xr-attrs dt {\n",
       "  white-space: nowrap;\n",
       "  overflow: hidden;\n",
       "  text-overflow: ellipsis;\n",
       "  padding-right: 10px;\n",
       "}\n",
       "\n",
       ".xr-var-name:hover,\n",
       ".xr-var-dims:hover,\n",
       ".xr-var-dtype:hover,\n",
       ".xr-attrs dt:hover {\n",
       "  overflow: visible;\n",
       "  width: auto;\n",
       "  z-index: 1;\n",
       "}\n",
       "\n",
       ".xr-var-attrs,\n",
       ".xr-var-data {\n",
       "  display: none;\n",
       "  background-color: var(--xr-background-color) !important;\n",
       "  padding-bottom: 5px !important;\n",
       "}\n",
       "\n",
       ".xr-var-attrs-in:checked ~ .xr-var-attrs,\n",
       ".xr-var-data-in:checked ~ .xr-var-data {\n",
       "  display: block;\n",
       "}\n",
       "\n",
       ".xr-var-data > table {\n",
       "  float: right;\n",
       "}\n",
       "\n",
       ".xr-var-name span,\n",
       ".xr-var-data,\n",
       ".xr-attrs {\n",
       "  padding-left: 25px !important;\n",
       "}\n",
       "\n",
       ".xr-attrs,\n",
       ".xr-var-attrs,\n",
       ".xr-var-data {\n",
       "  grid-column: 1 / -1;\n",
       "}\n",
       "\n",
       "dl.xr-attrs {\n",
       "  padding: 0;\n",
       "  margin: 0;\n",
       "  display: grid;\n",
       "  grid-template-columns: 125px auto;\n",
       "}\n",
       "\n",
       ".xr-attrs dt, dd {\n",
       "  padding: 0;\n",
       "  margin: 0;\n",
       "  float: left;\n",
       "  padding-right: 10px;\n",
       "  width: auto;\n",
       "}\n",
       "\n",
       ".xr-attrs dt {\n",
       "  font-weight: normal;\n",
       "  grid-column: 1;\n",
       "}\n",
       "\n",
       ".xr-attrs dt:hover span {\n",
       "  display: inline-block;\n",
       "  background: var(--xr-background-color);\n",
       "  padding-right: 10px;\n",
       "}\n",
       "\n",
       ".xr-attrs dd {\n",
       "  grid-column: 2;\n",
       "  white-space: pre-wrap;\n",
       "  word-break: break-all;\n",
       "}\n",
       "\n",
       ".xr-icon-database,\n",
       ".xr-icon-file-text2 {\n",
       "  display: inline-block;\n",
       "  vertical-align: middle;\n",
       "  width: 1em;\n",
       "  height: 1.5em !important;\n",
       "  stroke-width: 0;\n",
       "  stroke: currentColor;\n",
       "  fill: currentColor;\n",
       "}\n",
       "</style><div class='xr-wrap'><div class='xr-header'><div class='xr-obj-type'>xarray.Dataset</div></div><ul class='xr-sections'><li class='xr-section-item'><input id='section-35ce9c02-bd62-45da-bc42-2395701059a3' class='xr-section-summary-in' type='checkbox' disabled ><label for='section-35ce9c02-bd62-45da-bc42-2395701059a3' class='xr-section-summary'  title='Expand/collapse section'>Dimensions:</label><div class='xr-section-inline-details'><ul class='xr-dim-list'><li><span class='xr-has-index'>obs</span>: 10121</li><li><span class='xr-has-index'>string14</span>: 14</li><li><span class='xr-has-index'>trajectory</span>: 5066</li></ul></div><div class='xr-section-details'></div></li><li class='xr-section-item'><input id='section-d7511d1c-e950-4128-8f39-17c0bc9e82f2' class='xr-section-summary-in' type='checkbox'  checked><label for='section-d7511d1c-e950-4128-8f39-17c0bc9e82f2' class='xr-section-summary' >Coordinates: <span>(7)</span></label><div class='xr-section-inline-details'></div><div class='xr-section-details'><ul class='xr-var-list'><li class='xr-var-item'><div class='xr-var-name'><span>lat</span></div><div class='xr-var-dims'>(obs)</div><div class='xr-var-dtype'>float32</div><div class='xr-var-preview xr-preview'>...</div><input id='attrs-5185b73f-966c-4b0e-aaee-2be411c2fc8a' class='xr-var-attrs-in' type='checkbox' ><label for='attrs-5185b73f-966c-4b0e-aaee-2be411c2fc8a' title='Show/Hide attributes'><svg class='icon xr-icon-file-text2'><use xlink:href='#icon-file-text2'></use></svg></label><input id='data-c9fea5d9-cad1-43a4-8960-46a84e95510f' class='xr-var-data-in' type='checkbox'><label for='data-c9fea5d9-cad1-43a4-8960-46a84e95510f' title='Show/Hide data repr'><svg class='icon xr-icon-database'><use xlink:href='#icon-database'></use></svg></label><div class='xr-var-attrs'><dl class='xr-attrs'><dt><span>description :</span></dt><dd>Latitude of the observed value, -90 to 90 (or other as defined by CRS)</dd><dt><span>cdmname :</span></dt><dd>observations_table/latitude</dd><dt><span>units :</span></dt><dd>degree_north</dd><dt><span>standard_name :</span></dt><dd>latitude</dd></dl></div><pre class='xr-var-data'>array([47.8   , 47.8   , 47.8019, ..., 47.8014, 47.8014, 47.8014],\n",
       "      dtype=float32)</pre></li><li class='xr-var-item'><div class='xr-var-name'><span>lon</span></div><div class='xr-var-dims'>(obs)</div><div class='xr-var-dtype'>float32</div><div class='xr-var-preview xr-preview'>...</div><input id='attrs-dd22a6b3-f686-4189-9c43-e7e188ee277c' class='xr-var-attrs-in' type='checkbox' ><label for='attrs-dd22a6b3-f686-4189-9c43-e7e188ee277c' title='Show/Hide attributes'><svg class='icon xr-icon-file-text2'><use xlink:href='#icon-file-text2'></use></svg></label><input id='data-30e7f3f6-5264-4bd7-b3ee-b75935c48416' class='xr-var-data-in' type='checkbox'><label for='data-30e7f3f6-5264-4bd7-b3ee-b75935c48416' title='Show/Hide data repr'><svg class='icon xr-icon-database'><use xlink:href='#icon-database'></use></svg></label><div class='xr-var-attrs'><dl class='xr-attrs'><dt><span>description :</span></dt><dd>Longitude of the observed value, -180 to 180 (or other as defined by CRS). This may or may not be the same as the report location.</dd><dt><span>cdmname :</span></dt><dd>observations_table/longitude</dd><dt><span>units :</span></dt><dd>degree_east</dd><dt><span>standard_name :</span></dt><dd>longitude</dd></dl></div><pre class='xr-var-data'>array([11.02  , 11.02  , 11.0119, ..., 11.0097, 11.0097, 11.0097],\n",
       "      dtype=float32)</pre></li><li class='xr-var-item'><div class='xr-var-name'><span class='xr-has-index'>obs</span></div><div class='xr-var-dims'>(obs)</div><div class='xr-var-dtype'>int32</div><div class='xr-var-preview xr-preview'>0 0 0 0 0 0 0 0 ... 0 0 0 0 0 0 0 0</div><input id='attrs-aafe6494-ea3d-4503-865f-a0db76ddcf7a' class='xr-var-attrs-in' type='checkbox' disabled><label for='attrs-aafe6494-ea3d-4503-865f-a0db76ddcf7a' title='Show/Hide attributes'><svg class='icon xr-icon-file-text2'><use xlink:href='#icon-file-text2'></use></svg></label><input id='data-8df38a27-4036-4fab-9ba6-6c02d3d2194c' class='xr-var-data-in' type='checkbox'><label for='data-8df38a27-4036-4fab-9ba6-6c02d3d2194c' title='Show/Hide data repr'><svg class='icon xr-icon-database'><use xlink:href='#icon-database'></use></svg></label><div class='xr-var-attrs'><dl class='xr-attrs'></dl></div><pre class='xr-var-data'>array([0, 0, 0, ..., 0, 0, 0], dtype=int32)</pre></li><li class='xr-var-item'><div class='xr-var-name'><span>plev</span></div><div class='xr-var-dims'>(obs)</div><div class='xr-var-dtype'>float32</div><div class='xr-var-preview xr-preview'>...</div><input id='attrs-890aa951-7a9b-4644-b0e7-0cbcc256ec05' class='xr-var-attrs-in' type='checkbox' ><label for='attrs-890aa951-7a9b-4644-b0e7-0cbcc256ec05' title='Show/Hide attributes'><svg class='icon xr-icon-file-text2'><use xlink:href='#icon-file-text2'></use></svg></label><input id='data-db8c3ba7-b4fb-4ffe-8093-3ca7a617c819' class='xr-var-data-in' type='checkbox'><label for='data-db8c3ba7-b4fb-4ffe-8093-3ca7a617c819' title='Show/Hide data repr'><svg class='icon xr-icon-database'><use xlink:href='#icon-database'></use></svg></label><div class='xr-var-attrs'><dl class='xr-attrs'><dt><span>description :</span></dt><dd>z coordinate of observation</dd><dt><span>cdmname :</span></dt><dd>observations_table/z_coordinate</dd><dt><span>units :</span></dt><dd>Pa</dd><dt><span>standard_name :</span></dt><dd>air_pressure</dd></dl></div><pre class='xr-var-data'>array([50000., 85000., 50000., ..., 85000., 50000., 85000.], dtype=float32)</pre></li><li class='xr-var-item'><div class='xr-var-name'><span class='xr-has-index'>string14</span></div><div class='xr-var-dims'>(string14)</div><div class='xr-var-dtype'>|S1</div><div class='xr-var-preview xr-preview'>b&#x27;&#x27; b&#x27;&#x27; b&#x27;&#x27; b&#x27;&#x27; ... b&#x27;&#x27; b&#x27;&#x27; b&#x27;&#x27; b&#x27;&#x27;</div><input id='attrs-db0c219d-b9e6-4a80-ad33-ebcc24880c45' class='xr-var-attrs-in' type='checkbox' disabled><label for='attrs-db0c219d-b9e6-4a80-ad33-ebcc24880c45' title='Show/Hide attributes'><svg class='icon xr-icon-file-text2'><use xlink:href='#icon-file-text2'></use></svg></label><input id='data-7f4579a8-6dd2-4748-8cfd-3fda2d6fef8b' class='xr-var-data-in' type='checkbox'><label for='data-7f4579a8-6dd2-4748-8cfd-3fda2d6fef8b' title='Show/Hide data repr'><svg class='icon xr-icon-database'><use xlink:href='#icon-database'></use></svg></label><div class='xr-var-attrs'><dl class='xr-attrs'></dl></div><pre class='xr-var-data'>array([b&#x27;&#x27;, b&#x27;&#x27;, b&#x27;&#x27;, b&#x27;&#x27;, b&#x27;&#x27;, b&#x27;&#x27;, b&#x27;&#x27;, b&#x27;&#x27;, b&#x27;&#x27;, b&#x27;&#x27;, b&#x27;&#x27;, b&#x27;&#x27;, b&#x27;&#x27;, b&#x27;&#x27;],\n",
       "      dtype=&#x27;|S1&#x27;)</pre></li><li class='xr-var-item'><div class='xr-var-name'><span>time</span></div><div class='xr-var-dims'>(obs)</div><div class='xr-var-dtype'>datetime64[ns]</div><div class='xr-var-preview xr-preview'>...</div><input id='attrs-1b6e8935-fa22-4274-8505-41e9a1152fa4' class='xr-var-attrs-in' type='checkbox' ><label for='attrs-1b6e8935-fa22-4274-8505-41e9a1152fa4' title='Show/Hide attributes'><svg class='icon xr-icon-file-text2'><use xlink:href='#icon-file-text2'></use></svg></label><input id='data-81c6e4cb-1b83-48a5-996a-0f91365bab37' class='xr-var-data-in' type='checkbox'><label for='data-81c6e4cb-1b83-48a5-996a-0f91365bab37' title='Show/Hide data repr'><svg class='icon xr-icon-database'><use xlink:href='#icon-database'></use></svg></label><div class='xr-var-attrs'><dl class='xr-attrs'><dt><span>description :</span></dt><dd>timestamp for observation</dd><dt><span>cdmname :</span></dt><dd>observations_table/date_time</dd><dt><span>standard_name :</span></dt><dd>time</dd></dl></div><pre class='xr-var-data'>array([&#x27;2000-01-03T11:00:00.000000000&#x27;, &#x27;2000-01-03T11:00:00.000000000&#x27;,\n",
       "       &#x27;2000-01-03T12:00:00.000000000&#x27;, ..., &#x27;2019-12-25T05:52:36.000000000&#x27;,\n",
       "       &#x27;2019-12-27T05:58:29.000000000&#x27;, &#x27;2019-12-27T05:58:29.000000000&#x27;],\n",
       "      dtype=&#x27;datetime64[ns]&#x27;)</pre></li><li class='xr-var-item'><div class='xr-var-name'><span class='xr-has-index'>trajectory</span></div><div class='xr-var-dims'>(trajectory)</div><div class='xr-var-dtype'>int32</div><div class='xr-var-preview xr-preview'>0 0 0 0 0 0 0 0 ... 0 0 0 0 0 0 0 0</div><input id='attrs-ee4e4d66-0634-44f0-9a05-caaf75c358bc' class='xr-var-attrs-in' type='checkbox' disabled><label for='attrs-ee4e4d66-0634-44f0-9a05-caaf75c358bc' title='Show/Hide attributes'><svg class='icon xr-icon-file-text2'><use xlink:href='#icon-file-text2'></use></svg></label><input id='data-f9dd720e-8279-4445-b058-c22b92b7167e' class='xr-var-data-in' type='checkbox'><label for='data-f9dd720e-8279-4445-b058-c22b92b7167e' title='Show/Hide data repr'><svg class='icon xr-icon-database'><use xlink:href='#icon-database'></use></svg></label><div class='xr-var-attrs'><dl class='xr-attrs'></dl></div><pre class='xr-var-data'>array([0, 0, 0, ..., 0, 0, 0], dtype=int32)</pre></li></ul></div></li><li class='xr-section-item'><input id='section-95dc2eb7-ea42-44e3-9741-5b3ae0a1aa53' class='xr-section-summary-in' type='checkbox'  checked><label for='section-95dc2eb7-ea42-44e3-9741-5b3ae0a1aa53' class='xr-section-summary' >Data variables: <span>(3)</span></label><div class='xr-section-inline-details'></div><div class='xr-section-details'><ul class='xr-var-list'><li class='xr-var-item'><div class='xr-var-name'><span>ta</span></div><div class='xr-var-dims'>(obs)</div><div class='xr-var-dtype'>float32</div><div class='xr-var-preview xr-preview'>...</div><input id='attrs-7e379ce0-0515-473a-af05-b24625c90e43' class='xr-var-attrs-in' type='checkbox' ><label for='attrs-7e379ce0-0515-473a-af05-b24625c90e43' title='Show/Hide attributes'><svg class='icon xr-icon-file-text2'><use xlink:href='#icon-file-text2'></use></svg></label><input id='data-1f0df483-2807-464b-ac15-3d5d1c5ad44f' class='xr-var-data-in' type='checkbox'><label for='data-1f0df483-2807-464b-ac15-3d5d1c5ad44f' title='Show/Hide data repr'><svg class='icon xr-icon-database'><use xlink:href='#icon-database'></use></svg></label><div class='xr-var-attrs'><dl class='xr-attrs'><dt><span>description :</span></dt><dd>The observed value</dd><dt><span>cdmname :</span></dt><dd>observations_table/observation_value</dd><dt><span>units :</span></dt><dd>K</dd><dt><span>standard_name :</span></dt><dd>air_temperature</dd><dt><span>cdsname :</span></dt><dd>temperature</dd></dl></div><pre class='xr-var-data'>array([252.3 , 277.4 , 252.25, ..., 272.64, 246.32, 273.1 ], dtype=float32)</pre></li><li class='xr-var-item'><div class='xr-var-name'><span>trajectory_index</span></div><div class='xr-var-dims'>(obs)</div><div class='xr-var-dtype'>int32</div><div class='xr-var-preview xr-preview'>...</div><input id='attrs-fc8aae55-8796-4b80-aa0a-13aed5662705' class='xr-var-attrs-in' type='checkbox' ><label for='attrs-fc8aae55-8796-4b80-aa0a-13aed5662705' title='Show/Hide attributes'><svg class='icon xr-icon-file-text2'><use xlink:href='#icon-file-text2'></use></svg></label><input id='data-5d9bbbae-bedc-45f9-8903-8b2a6e8bc50b' class='xr-var-data-in' type='checkbox'><label for='data-5d9bbbae-bedc-45f9-8903-8b2a6e8bc50b' title='Show/Hide data repr'><svg class='icon xr-icon-database'><use xlink:href='#icon-database'></use></svg></label><div class='xr-var-attrs'><dl class='xr-attrs'><dt><span>long_name :</span></dt><dd>index of trajectory this obs belongs to</dd><dt><span>instance_dimension :</span></dt><dd>trajectory</dd></dl></div><pre class='xr-var-data'>array([   0,    0,    1, ..., 5064, 5065, 5065], dtype=int32)</pre></li><li class='xr-var-item'><div class='xr-var-name'><span>trajectory_label</span></div><div class='xr-var-dims'>(trajectory, string14)</div><div class='xr-var-dtype'>|S1</div><div class='xr-var-preview xr-preview'>...</div><input id='attrs-613e8ebb-2fb3-4bb4-a061-3c909e8a4bc6' class='xr-var-attrs-in' type='checkbox' ><label for='attrs-613e8ebb-2fb3-4bb4-a061-3c909e8a4bc6' title='Show/Hide attributes'><svg class='icon xr-icon-file-text2'><use xlink:href='#icon-file-text2'></use></svg></label><input id='data-0bf60921-e6ac-474a-9ee7-d310e58d2938' class='xr-var-data-in' type='checkbox'><label for='data-0bf60921-e6ac-474a-9ee7-d310e58d2938' title='Show/Hide data repr'><svg class='icon xr-icon-database'><use xlink:href='#icon-database'></use></svg></label><div class='xr-var-attrs'><dl class='xr-attrs'><dt><span>description :</span></dt><dd>Unique ID for report (unique ID given by combination of report_id and observation_id)</dd><dt><span>cdmname :</span></dt><dd>header_table/report_id</dd><dt><span>units :</span></dt><dd></dd><dt><span>cf_role :</span></dt><dd>trajectory_id</dd><dt><span>long_name :</span></dt><dd>Label of trajectory</dd></dl></div><pre class='xr-var-data'>array([[b&#x27;1&#x27;, b&#x27;0&#x27;, b&#x27;0&#x27;, ..., b&#x27;&#x27;, b&#x27;&#x27;, b&#x27;&#x27;],\n",
       "       [b&#x27;3&#x27;, b&#x27;0&#x27;, b&#x27;0&#x27;, ..., b&#x27;&#x27;, b&#x27;&#x27;, b&#x27;&#x27;],\n",
       "       [b&#x27;1&#x27;, b&#x27;0&#x27;, b&#x27;0&#x27;, ..., b&#x27;&#x27;, b&#x27;&#x27;, b&#x27;&#x27;],\n",
       "       ...,\n",
       "       [b&#x27;1&#x27;, b&#x27;0&#x27;, b&#x27;0&#x27;, ..., b&#x27;&#x27;, b&#x27;&#x27;, b&#x27;&#x27;],\n",
       "       [b&#x27;1&#x27;, b&#x27;0&#x27;, b&#x27;0&#x27;, ..., b&#x27;&#x27;, b&#x27;&#x27;, b&#x27;&#x27;],\n",
       "       [b&#x27;1&#x27;, b&#x27;0&#x27;, b&#x27;0&#x27;, ..., b&#x27;&#x27;, b&#x27;&#x27;, b&#x27;&#x27;]], dtype=&#x27;|S1&#x27;)</pre></li></ul></div></li><li class='xr-section-item'><input id='section-5c9b7d1a-7b2d-439b-89d8-f0575dc3b1a9' class='xr-section-summary-in' type='checkbox'  checked><label for='section-5c9b7d1a-7b2d-439b-89d8-f0575dc3b1a9' class='xr-section-summary' >Attributes: <span>(5)</span></label><div class='xr-section-inline-details'></div><div class='xr-section-details'><dl class='xr-attrs'><dt><span>Conventions :</span></dt><dd>CF-1.7</dd><dt><span>source :</span></dt><dd>radiosonde</dd><dt><span>featureType :</span></dt><dd>trajectory</dd><dt><span>history :</span></dt><dd>Created by Copernicus Early Upper Air Service Version 0, 04-Aug-2020 16:48:45</dd><dt><span>license :</span></dt><dd>https://apps.ecmwf.int/datasets/licences/copernicus/</dd></dl></div></li></ul></div></div>"
      ],
      "text/plain": [
       "<xarray.Dataset>\n",
       "Dimensions:           (obs: 10121, string14: 14, trajectory: 5066)\n",
       "Coordinates:\n",
       "    lat               (obs) float32 ...\n",
       "    lon               (obs) float32 ...\n",
       "  * obs               (obs) int32 0 0 0 0 0 0 0 0 0 0 0 ... 0 0 0 0 0 0 0 0 0 0\n",
       "    plev              (obs) float32 ...\n",
       "  * string14          (string14) |S1 b'' b'' b'' b'' b'' ... b'' b'' b'' b'' b''\n",
       "    time              (obs) datetime64[ns] ...\n",
       "  * trajectory        (trajectory) int32 0 0 0 0 0 0 0 0 0 ... 0 0 0 0 0 0 0 0 0\n",
       "Data variables:\n",
       "    ta                (obs) float32 ...\n",
       "    trajectory_index  (obs) int32 ...\n",
       "    trajectory_label  (trajectory, string14) |S1 ...\n",
       "Attributes:\n",
       "    Conventions:  CF-1.7\n",
       "    source:       radiosonde\n",
       "    featureType:  trajectory\n",
       "    history:      Created by Copernicus Early Upper Air Service Version 0, 04...\n",
       "    license:      https://apps.ecmwf.int/datasets/licences/copernicus/"
      ]
     },
     "execution_count": 14,
     "metadata": {},
     "output_type": "execute_result"
    }
   ],
   "source": [
    "# Read with Xarray\n",
    "import xarray as xr\n",
    "xr.open_dataset('test.nc')"
   ]
  },
  {
   "cell_type": "markdown",
   "metadata": {},
   "source": [
    "## Write data to observed variable\n",
    "\n",
    "* Create a new group `adjust`\n",
    "* Add Variable `adjusted_value` to this group\n",
    "* The new variable is aligned with `observed_variable==85`, temperature"
   ]
  },
  {
   "cell_type": "code",
   "execution_count": 46,
   "metadata": {},
   "outputs": [
    {
     "name": "stdout",
     "output_type": "stream",
     "text": [
      "2020-08-10 16:55:56,091 - upperair.cdm | make_datetime_slice - DEBUG - Datetime selection: 0 - 18702774\n",
      "2020-08-10 16:55:56,395 - upperair.cdm | read_observed_variable - INFO - [READ] Observed variable 85\n",
      "2020-08-10 16:55:57,103 - upperair.cdm | read_observed_variable - INFO - [READ] xarray ... (2166471,)\n",
      "2020-08-10 16:55:57,205 - upperair.cdm | read_observed_variable - DEBUG - [READ] datetime conversion 2166471\n"
     ]
    }
   ],
   "source": [
    "xyz = data.read_observed_variable(85, return_xarray=True)"
   ]
  },
  {
   "cell_type": "code",
   "execution_count": 48,
   "metadata": {},
   "outputs": [
    {
     "name": "stdout",
     "output_type": "stream",
     "text": [
      "<xarray.DataArray (obs: 2166471)>\n",
      "array([215.3 , 212.7 , 209.1 , ..., 277.5 , 277.34, 277.2 ], dtype=float32)\n",
      "Coordinates:\n",
      "  * obs           (obs) MultiIndex\n",
      "  - date_time     (obs) datetime64[ns] 1980-11-17T12:00:00 ... 2019-12-30T05:...\n",
      "  - z_coordinate  (obs) float64 840.0 1e+03 1.29e+03 ... 9.17e+04 9.181e+04\n"
     ]
    }
   ],
   "source": [
    "print(xyz)"
   ]
  },
  {
   "cell_type": "code",
   "execution_count": 49,
   "metadata": {},
   "outputs": [
    {
     "name": "stdout",
     "output_type": "stream",
     "text": [
      "Help on method write_observed_data in module cds_eua3:\n",
      "\n",
      "write_observed_data(name: str, varnum: int, cube: xarray.core.dataarray.DataArray = None, ragged=None, group: str = None, variable: str = 'observation_value', dimgroup: str = 'observations_table', interpolation: bool = False, time: str = 'time', pressure: str = 'plev', force_replace: bool = False, attributes: dict = None, **kwargs) method of cds_eua3.CDMDataset instance\n",
      "    Write a DataCube or a Table (DataArray, DataFrame) with Multiindex to CDMBackend file\n",
      "    \n",
      "    Args:\n",
      "        name: name of variable to write to\n",
      "        cube: Cube input data\n",
      "        ragged: Table input data\n",
      "        varnum: observed variable CDM Code\n",
      "        group: new Group\n",
      "        variable: Variable Name\n",
      "        dimgroup: Variable group\n",
      "        interpolation: Use interpolation for other dates and pressure levels ?\n",
      "        time: time dimension input name\n",
      "        pressure: pressure dimension input name\n",
      "        force_replace: overwrite string array due to shape missmatch?\n",
      "    \n",
      "    Optional Keywords:\n",
      "        date_time_name:\n",
      "        z_coordinate_name:\n",
      "        observed_variable_name:\n",
      "        dimgroup:\n",
      "    \n",
      "    Returns:\n",
      "    \n",
      "    Examples:\n",
      "        Write an adjusted temperature to a CDM Backend file within a new group mytests that is align\n",
      "        with 85 temperature. data is a ragged table\n",
      "        >>> data = self.read_observed_variable(85)\n",
      "        >>> write_observed_data('temperature_adjust', ragged=data, varnum=85, variable='observation_value',\n",
      "        >>>               group='mytests')\n",
      "\n"
     ]
    }
   ],
   "source": [
    "help(data.write_observed_data)"
   ]
  },
  {
   "cell_type": "code",
   "execution_count": 51,
   "metadata": {},
   "outputs": [
    {
     "name": "stdout",
     "output_type": "stream",
     "text": [
      "2020-08-10 17:00:00,667 - upperair.cdm | reopen - WARNING - reopen [r+] Copy file to /raid8/srvx1/mblaschek/tmp/0-20000-0-10962_CEUAS_merged_v0.nc\n",
      "2020-08-10 17:00:00,669 - upperair.cdm | reopen - DEBUG - reopen /raid8/srvx1/mblaschek/tmp/0-20000-0-10962_CEUAS_merged_v0.nc [r+]\n",
      "2020-08-10 17:00:00,714 - upperair.cdm | make_datetime_slice - DEBUG - Datetime selection: 0 - 18702774\n",
      "2020-08-10 17:00:00,735 - upperair.cdm | read_observed_variable - INFO - [READ] Observed variable 85\n",
      "2020-08-10 17:00:05,244 - upperair.cdm | write_observed_data - INFO - All dates found\n",
      "2020-08-10 17:00:05,289 - upperair.cdm | write_observed_data - INFO - Creating Dataset adjusted_value (observations_table/observation_value, (18702774,))\n",
      "2020-08-10 17:00:05,960 - upperair.cdm | write_observed_data - INFO - Finsihed writing adjusted_value to 0-20000-0-10962_CEUAS_merged_v0.nc\n"
     ]
    }
   ],
   "source": [
    "\n",
    "# We can write a DataCube or a Ragged Array to the file\n",
    "\n",
    "data.write_observed_data('adjusted_value',\n",
    "                         ragged=xyz,  # input data\n",
    "                         varnum=85,  # observed_variable to be aligned with\n",
    "                         group='adjust',   # name of the new group\n",
    "                         time='date_time',  # named datetime coordinate\n",
    "                         pressure='z_coordinate'  # named pressure coordinate\n",
    "                        )"
   ]
  },
  {
   "cell_type": "code",
   "execution_count": 52,
   "metadata": {},
   "outputs": [
    {
     "data": {
      "text/plain": [
       "Filename: /raid8/srvx1/mblaschek/tmp/0-20000-0-10962_CEUAS_merged_v0.nc\n",
       "(G)roups/(V)ariables: \n",
       "\n",
       " - G | crs__________________________________________ : : 6\n",
       " - V | dateindex____________________________________ : : (4155,)\n",
       " - G | era5fb_______________________________________ : : 74\n",
       " - G | header_table_________________________________ : : 55\n",
       " - G | observations_table___________________________ : : 51\n",
       " - G | observed_variable____________________________ : : 11\n",
       " - V | recordindex__________________________________ :L: (7314,)\n",
       " - V | recordtimestamp______________________________ :L: (7314,)\n",
       " - G | source_configuration_________________________ : : 4\n",
       " - G | station_configuration_codes__________________ : : 9\n",
       " - G | station_type_________________________________ : : 6\n",
       " - G | units________________________________________ : : 8\n",
       " - G | z_coordinate_type____________________________ : : 6\n",
       " - G | adjust_______________________________________ : : 2"
      ]
     },
     "execution_count": 52,
     "metadata": {},
     "output_type": "execute_result"
    }
   ],
   "source": [
    "data"
   ]
  },
  {
   "cell_type": "code",
   "execution_count": 53,
   "metadata": {},
   "outputs": [
    {
     "data": {
      "text/plain": [
       "adjust:\n",
       "\n",
       "adjusted_value____________________________________ :L: (18702774,)\n",
       "index_____________________________________________ : : (18702774,)"
      ]
     },
     "execution_count": 53,
     "metadata": {},
     "output_type": "execute_result"
    }
   ],
   "source": [
    "# The index, which is the dimension is copied from observations_table, as every group needs an index variable\n",
    "# of course the data is loaded when written.\n",
    "data.adjust"
   ]
  },
  {
   "cell_type": "markdown",
   "metadata": {},
   "source": [
    "## Read data to cube"
   ]
  },
  {
   "cell_type": "code",
   "execution_count": 54,
   "metadata": {},
   "outputs": [
    {
     "name": "stdout",
     "output_type": "stream",
     "text": [
      "2020-08-10 17:01:47,285 - upperair.cdm | read_data_to_cube - INFO - Reading ... 85  temperature\n",
      "2020-08-10 17:01:47,286 - upperair.cdm | make_datetime_slice - DEBUG - Datetime selection: 0 - 18702774\n",
      "2020-08-10 17:01:47,317 - upperair.cdm | read_observed_variable - INFO - [READ] Observed variable 85\n",
      "2020-08-10 17:01:47,369 - upperair.cdm | read_observed_variable - INFO - [READ] pressure levels [  1000   2000   3000   5000   7000  10000  15000  20000  25000  30000\n",
      "  40000  50000  70000  85000  92500 100000]\n",
      "2020-08-10 17:01:47,385 - upperair.cdm | read_data_to_cube - INFO - [CUBE] Variable Group 85 slice(0, 18702774, None) (92433,)\n",
      "2020-08-10 17:01:47,396 - upperair.cdm | read_data_to_cube - INFO - [CUBE] temperature (7081, 16)\n",
      "CPU times: user 149 ms, sys: 23 ms, total: 172 ms\n",
      "Wall time: 279 ms\n"
     ]
    }
   ],
   "source": [
    "%time tcube = data.read_data_to_cube('temperature') # returns a dictionary if multiple variables are requested"
   ]
  },
  {
   "cell_type": "code",
   "execution_count": 56,
   "metadata": {},
   "outputs": [
    {
     "name": "stdout",
     "output_type": "stream",
     "text": [
      "<xarray.DataArray 'temperature' (time: 7081, plev: 16)>\n",
      "array([[212.7 , 210.7 , 207.5 , ...,    nan,    nan,    nan],\n",
      "       [209.5 , 209.9 , 209.9 , ..., 282.  ,    nan,    nan],\n",
      "       [214.7 , 211.9 , 209.9 , ..., 285.4 ,    nan,    nan],\n",
      "       ...,\n",
      "       [221.62, 219.88, 214.9 , ..., 272.64,    nan,    nan],\n",
      "       [226.81, 222.36, 221.43, ..., 273.1 ,    nan,    nan],\n",
      "       [223.23, 215.17, 217.14, ..., 278.37,    nan,    nan]],\n",
      "      dtype=float32)\n",
      "Coordinates:\n",
      "  * time     (time) datetime64[ns] 1980-11-17T12:00:00 ... 2019-12-30T05:46:32\n",
      "  * plev     (plev) int64 1000 2000 3000 5000 7000 ... 70000 85000 92500 100000\n",
      "Attributes:\n",
      "    cdmname:        observations_table/observation_value\n",
      "    units:          K\n",
      "    shortname:      ta\n",
      "    coordinates:    lat lon time plev\n",
      "    standard_name:  air_temperature\n",
      "    cdsname:        temperature\n",
      "    cdmcode:        85\n",
      "    odbcode:        2\n"
     ]
    }
   ],
   "source": [
    "print(tcube['temperature'])"
   ]
  },
  {
   "cell_type": "code",
   "execution_count": 57,
   "metadata": {},
   "outputs": [
    {
     "data": {
      "text/html": [
       "<div><svg style=\"position: absolute; width: 0; height: 0; overflow: hidden\">\n",
       "<defs>\n",
       "<symbol id=\"icon-database\" viewBox=\"0 0 32 32\">\n",
       "<path d=\"M16 0c-8.837 0-16 2.239-16 5v4c0 2.761 7.163 5 16 5s16-2.239 16-5v-4c0-2.761-7.163-5-16-5z\"></path>\n",
       "<path d=\"M16 17c-8.837 0-16-2.239-16-5v6c0 2.761 7.163 5 16 5s16-2.239 16-5v-6c0 2.761-7.163 5-16 5z\"></path>\n",
       "<path d=\"M16 26c-8.837 0-16-2.239-16-5v6c0 2.761 7.163 5 16 5s16-2.239 16-5v-6c0 2.761-7.163 5-16 5z\"></path>\n",
       "</symbol>\n",
       "<symbol id=\"icon-file-text2\" viewBox=\"0 0 32 32\">\n",
       "<path d=\"M28.681 7.159c-0.694-0.947-1.662-2.053-2.724-3.116s-2.169-2.030-3.116-2.724c-1.612-1.182-2.393-1.319-2.841-1.319h-15.5c-1.378 0-2.5 1.121-2.5 2.5v27c0 1.378 1.122 2.5 2.5 2.5h23c1.378 0 2.5-1.122 2.5-2.5v-19.5c0-0.448-0.137-1.23-1.319-2.841zM24.543 5.457c0.959 0.959 1.712 1.825 2.268 2.543h-4.811v-4.811c0.718 0.556 1.584 1.309 2.543 2.268zM28 29.5c0 0.271-0.229 0.5-0.5 0.5h-23c-0.271 0-0.5-0.229-0.5-0.5v-27c0-0.271 0.229-0.5 0.5-0.5 0 0 15.499-0 15.5 0v7c0 0.552 0.448 1 1 1h7v19.5z\"></path>\n",
       "<path d=\"M23 26h-14c-0.552 0-1-0.448-1-1s0.448-1 1-1h14c0.552 0 1 0.448 1 1s-0.448 1-1 1z\"></path>\n",
       "<path d=\"M23 22h-14c-0.552 0-1-0.448-1-1s0.448-1 1-1h14c0.552 0 1 0.448 1 1s-0.448 1-1 1z\"></path>\n",
       "<path d=\"M23 18h-14c-0.552 0-1-0.448-1-1s0.448-1 1-1h14c0.552 0 1 0.448 1 1s-0.448 1-1 1z\"></path>\n",
       "</symbol>\n",
       "</defs>\n",
       "</svg>\n",
       "<style>/* CSS stylesheet for displaying xarray objects in jupyterlab.\n",
       " *\n",
       " */\n",
       "\n",
       ":root {\n",
       "  --xr-font-color0: var(--jp-content-font-color0, rgba(0, 0, 0, 1));\n",
       "  --xr-font-color2: var(--jp-content-font-color2, rgba(0, 0, 0, 0.54));\n",
       "  --xr-font-color3: var(--jp-content-font-color3, rgba(0, 0, 0, 0.38));\n",
       "  --xr-border-color: var(--jp-border-color2, #e0e0e0);\n",
       "  --xr-disabled-color: var(--jp-layout-color3, #bdbdbd);\n",
       "  --xr-background-color: var(--jp-layout-color0, white);\n",
       "  --xr-background-color-row-even: var(--jp-layout-color1, white);\n",
       "  --xr-background-color-row-odd: var(--jp-layout-color2, #eeeeee);\n",
       "}\n",
       "\n",
       "html[theme=dark],\n",
       "body.vscode-dark {\n",
       "  --xr-font-color0: rgba(255, 255, 255, 1);\n",
       "  --xr-font-color2: rgba(255, 255, 255, 0.54);\n",
       "  --xr-font-color3: rgba(255, 255, 255, 0.38);\n",
       "  --xr-border-color: #1F1F1F;\n",
       "  --xr-disabled-color: #515151;\n",
       "  --xr-background-color: #111111;\n",
       "  --xr-background-color-row-even: #111111;\n",
       "  --xr-background-color-row-odd: #313131;\n",
       "}\n",
       "\n",
       ".xr-wrap {\n",
       "  display: block;\n",
       "  min-width: 300px;\n",
       "  max-width: 700px;\n",
       "}\n",
       "\n",
       ".xr-text-repr-fallback {\n",
       "  /* fallback to plain text repr when CSS is not injected (untrusted notebook) */\n",
       "  display: none;\n",
       "}\n",
       "\n",
       ".xr-header {\n",
       "  padding-top: 6px;\n",
       "  padding-bottom: 6px;\n",
       "  margin-bottom: 4px;\n",
       "  border-bottom: solid 1px var(--xr-border-color);\n",
       "}\n",
       "\n",
       ".xr-header > div,\n",
       ".xr-header > ul {\n",
       "  display: inline;\n",
       "  margin-top: 0;\n",
       "  margin-bottom: 0;\n",
       "}\n",
       "\n",
       ".xr-obj-type,\n",
       ".xr-array-name {\n",
       "  margin-left: 2px;\n",
       "  margin-right: 10px;\n",
       "}\n",
       "\n",
       ".xr-obj-type {\n",
       "  color: var(--xr-font-color2);\n",
       "}\n",
       "\n",
       ".xr-sections {\n",
       "  padding-left: 0 !important;\n",
       "  display: grid;\n",
       "  grid-template-columns: 150px auto auto 1fr 20px 20px;\n",
       "}\n",
       "\n",
       ".xr-section-item {\n",
       "  display: contents;\n",
       "}\n",
       "\n",
       ".xr-section-item input {\n",
       "  display: none;\n",
       "}\n",
       "\n",
       ".xr-section-item input + label {\n",
       "  color: var(--xr-disabled-color);\n",
       "}\n",
       "\n",
       ".xr-section-item input:enabled + label {\n",
       "  cursor: pointer;\n",
       "  color: var(--xr-font-color2);\n",
       "}\n",
       "\n",
       ".xr-section-item input:enabled + label:hover {\n",
       "  color: var(--xr-font-color0);\n",
       "}\n",
       "\n",
       ".xr-section-summary {\n",
       "  grid-column: 1;\n",
       "  color: var(--xr-font-color2);\n",
       "  font-weight: 500;\n",
       "}\n",
       "\n",
       ".xr-section-summary > span {\n",
       "  display: inline-block;\n",
       "  padding-left: 0.5em;\n",
       "}\n",
       "\n",
       ".xr-section-summary-in:disabled + label {\n",
       "  color: var(--xr-font-color2);\n",
       "}\n",
       "\n",
       ".xr-section-summary-in + label:before {\n",
       "  display: inline-block;\n",
       "  content: '►';\n",
       "  font-size: 11px;\n",
       "  width: 15px;\n",
       "  text-align: center;\n",
       "}\n",
       "\n",
       ".xr-section-summary-in:disabled + label:before {\n",
       "  color: var(--xr-disabled-color);\n",
       "}\n",
       "\n",
       ".xr-section-summary-in:checked + label:before {\n",
       "  content: '▼';\n",
       "}\n",
       "\n",
       ".xr-section-summary-in:checked + label > span {\n",
       "  display: none;\n",
       "}\n",
       "\n",
       ".xr-section-summary,\n",
       ".xr-section-inline-details {\n",
       "  padding-top: 4px;\n",
       "  padding-bottom: 4px;\n",
       "}\n",
       "\n",
       ".xr-section-inline-details {\n",
       "  grid-column: 2 / -1;\n",
       "}\n",
       "\n",
       ".xr-section-details {\n",
       "  display: none;\n",
       "  grid-column: 1 / -1;\n",
       "  margin-bottom: 5px;\n",
       "}\n",
       "\n",
       ".xr-section-summary-in:checked ~ .xr-section-details {\n",
       "  display: contents;\n",
       "}\n",
       "\n",
       ".xr-array-wrap {\n",
       "  grid-column: 1 / -1;\n",
       "  display: grid;\n",
       "  grid-template-columns: 20px auto;\n",
       "}\n",
       "\n",
       ".xr-array-wrap > label {\n",
       "  grid-column: 1;\n",
       "  vertical-align: top;\n",
       "}\n",
       "\n",
       ".xr-preview {\n",
       "  color: var(--xr-font-color3);\n",
       "}\n",
       "\n",
       ".xr-array-preview,\n",
       ".xr-array-data {\n",
       "  padding: 0 5px !important;\n",
       "  grid-column: 2;\n",
       "}\n",
       "\n",
       ".xr-array-data,\n",
       ".xr-array-in:checked ~ .xr-array-preview {\n",
       "  display: none;\n",
       "}\n",
       "\n",
       ".xr-array-in:checked ~ .xr-array-data,\n",
       ".xr-array-preview {\n",
       "  display: inline-block;\n",
       "}\n",
       "\n",
       ".xr-dim-list {\n",
       "  display: inline-block !important;\n",
       "  list-style: none;\n",
       "  padding: 0 !important;\n",
       "  margin: 0;\n",
       "}\n",
       "\n",
       ".xr-dim-list li {\n",
       "  display: inline-block;\n",
       "  padding: 0;\n",
       "  margin: 0;\n",
       "}\n",
       "\n",
       ".xr-dim-list:before {\n",
       "  content: '(';\n",
       "}\n",
       "\n",
       ".xr-dim-list:after {\n",
       "  content: ')';\n",
       "}\n",
       "\n",
       ".xr-dim-list li:not(:last-child):after {\n",
       "  content: ',';\n",
       "  padding-right: 5px;\n",
       "}\n",
       "\n",
       ".xr-has-index {\n",
       "  font-weight: bold;\n",
       "}\n",
       "\n",
       ".xr-var-list,\n",
       ".xr-var-item {\n",
       "  display: contents;\n",
       "}\n",
       "\n",
       ".xr-var-item > div,\n",
       ".xr-var-item label,\n",
       ".xr-var-item > .xr-var-name span {\n",
       "  background-color: var(--xr-background-color-row-even);\n",
       "  margin-bottom: 0;\n",
       "}\n",
       "\n",
       ".xr-var-item > .xr-var-name:hover span {\n",
       "  padding-right: 5px;\n",
       "}\n",
       "\n",
       ".xr-var-list > li:nth-child(odd) > div,\n",
       ".xr-var-list > li:nth-child(odd) > label,\n",
       ".xr-var-list > li:nth-child(odd) > .xr-var-name span {\n",
       "  background-color: var(--xr-background-color-row-odd);\n",
       "}\n",
       "\n",
       ".xr-var-name {\n",
       "  grid-column: 1;\n",
       "}\n",
       "\n",
       ".xr-var-dims {\n",
       "  grid-column: 2;\n",
       "}\n",
       "\n",
       ".xr-var-dtype {\n",
       "  grid-column: 3;\n",
       "  text-align: right;\n",
       "  color: var(--xr-font-color2);\n",
       "}\n",
       "\n",
       ".xr-var-preview {\n",
       "  grid-column: 4;\n",
       "}\n",
       "\n",
       ".xr-var-name,\n",
       ".xr-var-dims,\n",
       ".xr-var-dtype,\n",
       ".xr-preview,\n",
       ".xr-attrs dt {\n",
       "  white-space: nowrap;\n",
       "  overflow: hidden;\n",
       "  text-overflow: ellipsis;\n",
       "  padding-right: 10px;\n",
       "}\n",
       "\n",
       ".xr-var-name:hover,\n",
       ".xr-var-dims:hover,\n",
       ".xr-var-dtype:hover,\n",
       ".xr-attrs dt:hover {\n",
       "  overflow: visible;\n",
       "  width: auto;\n",
       "  z-index: 1;\n",
       "}\n",
       "\n",
       ".xr-var-attrs,\n",
       ".xr-var-data {\n",
       "  display: none;\n",
       "  background-color: var(--xr-background-color) !important;\n",
       "  padding-bottom: 5px !important;\n",
       "}\n",
       "\n",
       ".xr-var-attrs-in:checked ~ .xr-var-attrs,\n",
       ".xr-var-data-in:checked ~ .xr-var-data {\n",
       "  display: block;\n",
       "}\n",
       "\n",
       ".xr-var-data > table {\n",
       "  float: right;\n",
       "}\n",
       "\n",
       ".xr-var-name span,\n",
       ".xr-var-data,\n",
       ".xr-attrs {\n",
       "  padding-left: 25px !important;\n",
       "}\n",
       "\n",
       ".xr-attrs,\n",
       ".xr-var-attrs,\n",
       ".xr-var-data {\n",
       "  grid-column: 1 / -1;\n",
       "}\n",
       "\n",
       "dl.xr-attrs {\n",
       "  padding: 0;\n",
       "  margin: 0;\n",
       "  display: grid;\n",
       "  grid-template-columns: 125px auto;\n",
       "}\n",
       "\n",
       ".xr-attrs dt, dd {\n",
       "  padding: 0;\n",
       "  margin: 0;\n",
       "  float: left;\n",
       "  padding-right: 10px;\n",
       "  width: auto;\n",
       "}\n",
       "\n",
       ".xr-attrs dt {\n",
       "  font-weight: normal;\n",
       "  grid-column: 1;\n",
       "}\n",
       "\n",
       ".xr-attrs dt:hover span {\n",
       "  display: inline-block;\n",
       "  background: var(--xr-background-color);\n",
       "  padding-right: 10px;\n",
       "}\n",
       "\n",
       ".xr-attrs dd {\n",
       "  grid-column: 2;\n",
       "  white-space: pre-wrap;\n",
       "  word-break: break-all;\n",
       "}\n",
       "\n",
       ".xr-icon-database,\n",
       ".xr-icon-file-text2 {\n",
       "  display: inline-block;\n",
       "  vertical-align: middle;\n",
       "  width: 1em;\n",
       "  height: 1.5em !important;\n",
       "  stroke-width: 0;\n",
       "  stroke: currentColor;\n",
       "  fill: currentColor;\n",
       "}\n",
       "</style><pre class='xr-text-repr-fallback'>&lt;xarray.DataArray &#x27;time&#x27; (time: 7081)&gt;\n",
       "array([&#x27;1980-11-17T12:00:00.000000000&#x27;, &#x27;1980-11-21T06:00:00.000000000&#x27;,\n",
       "       &#x27;1980-11-24T06:00:00.000000000&#x27;, ..., &#x27;2019-12-25T05:52:36.000000000&#x27;,\n",
       "       &#x27;2019-12-27T05:58:29.000000000&#x27;, &#x27;2019-12-30T05:46:32.000000000&#x27;],\n",
       "      dtype=&#x27;datetime64[ns]&#x27;)\n",
       "Coordinates:\n",
       "  * time     (time) datetime64[ns] 1980-11-17T12:00:00 ... 2019-12-30T05:46:32</pre><div class='xr-wrap' hidden><div class='xr-header'><div class='xr-obj-type'>xarray.DataArray</div><div class='xr-array-name'>'time'</div><ul class='xr-dim-list'><li><span class='xr-has-index'>time</span>: 7081</li></ul></div><ul class='xr-sections'><li class='xr-section-item'><div class='xr-array-wrap'><input id='section-9ab10f5a-6c42-4285-80bd-63c89884420e' class='xr-array-in' type='checkbox' checked><label for='section-9ab10f5a-6c42-4285-80bd-63c89884420e' title='Show/hide data repr'><svg class='icon xr-icon-database'><use xlink:href='#icon-database'></use></svg></label><div class='xr-array-preview xr-preview'><span>1980-11-17T12:00:00 1980-11-21T06:00:00 ... 2019-12-30T05:46:32</span></div><div class='xr-array-data'><pre>array([&#x27;1980-11-17T12:00:00.000000000&#x27;, &#x27;1980-11-21T06:00:00.000000000&#x27;,\n",
       "       &#x27;1980-11-24T06:00:00.000000000&#x27;, ..., &#x27;2019-12-25T05:52:36.000000000&#x27;,\n",
       "       &#x27;2019-12-27T05:58:29.000000000&#x27;, &#x27;2019-12-30T05:46:32.000000000&#x27;],\n",
       "      dtype=&#x27;datetime64[ns]&#x27;)</pre></div></div></li><li class='xr-section-item'><input id='section-1f2e58f9-bcd5-4a52-870b-6f35f4fe2c21' class='xr-section-summary-in' type='checkbox'  checked><label for='section-1f2e58f9-bcd5-4a52-870b-6f35f4fe2c21' class='xr-section-summary' >Coordinates: <span>(1)</span></label><div class='xr-section-inline-details'></div><div class='xr-section-details'><ul class='xr-var-list'><li class='xr-var-item'><div class='xr-var-name'><span class='xr-has-index'>time</span></div><div class='xr-var-dims'>(time)</div><div class='xr-var-dtype'>datetime64[ns]</div><div class='xr-var-preview xr-preview'>1980-11-17T12:00:00 ... 2019-12-...</div><input id='attrs-4dd6d09d-8bcf-4eb4-be2f-8d50acf048a3' class='xr-var-attrs-in' type='checkbox' disabled><label for='attrs-4dd6d09d-8bcf-4eb4-be2f-8d50acf048a3' title='Show/Hide attributes'><svg class='icon xr-icon-file-text2'><use xlink:href='#icon-file-text2'></use></svg></label><input id='data-22b89aa8-af15-476f-ac22-1d49f27325d4' class='xr-var-data-in' type='checkbox'><label for='data-22b89aa8-af15-476f-ac22-1d49f27325d4' title='Show/Hide data repr'><svg class='icon xr-icon-database'><use xlink:href='#icon-database'></use></svg></label><div class='xr-var-attrs'><dl class='xr-attrs'></dl></div><div class='xr-var-data'><pre>array([&#x27;1980-11-17T12:00:00.000000000&#x27;, &#x27;1980-11-21T06:00:00.000000000&#x27;,\n",
       "       &#x27;1980-11-24T06:00:00.000000000&#x27;, ..., &#x27;2019-12-25T05:52:36.000000000&#x27;,\n",
       "       &#x27;2019-12-27T05:58:29.000000000&#x27;, &#x27;2019-12-30T05:46:32.000000000&#x27;],\n",
       "      dtype=&#x27;datetime64[ns]&#x27;)</pre></div></li></ul></div></li><li class='xr-section-item'><input id='section-d16fe132-3864-4f40-8162-6108e08c53af' class='xr-section-summary-in' type='checkbox' disabled ><label for='section-d16fe132-3864-4f40-8162-6108e08c53af' class='xr-section-summary'  title='Expand/collapse section'>Attributes: <span>(0)</span></label><div class='xr-section-inline-details'></div><div class='xr-section-details'><dl class='xr-attrs'></dl></div></li></ul></div></div>"
      ],
      "text/plain": [
       "<xarray.DataArray 'time' (time: 7081)>\n",
       "array(['1980-11-17T12:00:00.000000000', '1980-11-21T06:00:00.000000000',\n",
       "       '1980-11-24T06:00:00.000000000', ..., '2019-12-25T05:52:36.000000000',\n",
       "       '2019-12-27T05:58:29.000000000', '2019-12-30T05:46:32.000000000'],\n",
       "      dtype='datetime64[ns]')\n",
       "Coordinates:\n",
       "  * time     (time) datetime64[ns] 1980-11-17T12:00:00 ... 2019-12-30T05:46:32"
      ]
     },
     "execution_count": 57,
     "metadata": {},
     "output_type": "execute_result"
    }
   ],
   "source": [
    "tcube['temperature'].time"
   ]
  },
  {
   "cell_type": "code",
   "execution_count": 58,
   "metadata": {},
   "outputs": [
    {
     "data": {
      "text/plain": [
       "observations_table:\n",
       "\n",
       "adjustment_id_____________________________________ : : (18702774,)\n",
       "advanced_assimilation_feedback____________________ : : (18702774,)\n",
       "advanced_homogenisation___________________________ : : (18702774,)\n",
       "advanced_qc_______________________________________ : : (18702774,)\n",
       "advanced_uncertainty______________________________ : : (18702774,)\n",
       "bbox_max_latitude_________________________________ : : (18702774,)\n",
       "bbox_max_longitude________________________________ : : (18702774,)\n",
       "bbox_min_latitude_________________________________ : : (18702774,)\n",
       "bbox_min_longitude________________________________ : : (18702774,)\n",
       "code_table________________________________________ : : (18702774,)\n",
       "conversion_flag___________________________________ : : (18702774,)\n",
       "conversion_method_________________________________ : : (18702774,)\n",
       "crs_______________________________________________ : : (18702774,)\n",
       "data_policy_licence_______________________________ : : (18702774,)\n",
       "date_time_________________________________________ :L: (18702774,)\n",
       "date_time_meaning_________________________________ : : (18702774,)\n",
       "exposure_of_sensor________________________________ : : (18702774,)\n",
       "index_____________________________________________ : : (18702774,)\n",
       "latitude__________________________________________ : : (18702774,)\n",
       "location_method___________________________________ : : (18702774,)\n",
       "location_precision________________________________ : : (18702774,)\n",
       "longitude_________________________________________ : : (18702774,)\n",
       "numerical_precision_______________________________ : : (18702774,)\n",
       "observation_duration______________________________ : : (18702774,)\n",
       "observation_height_above_station_surface__________ : : (18702774,)\n",
       "observation_id____________________________________ : : (18702774, 11)\n",
       "observation_value_________________________________ :L: (18702774,)\n",
       "observed_variable_________________________________ :L: (18702774,)\n",
       "original_code_table_______________________________ : : (18702774,)\n",
       "original_precision________________________________ : : (18702774,)\n",
       "original_units____________________________________ : : (18702774,)\n",
       "original_value____________________________________ : : (18702774,)\n",
       "processing_level__________________________________ : : (18702774,)\n",
       "quality_flag______________________________________ : : (18702774,)\n",
       "report_id_________________________________________ : : (18702774, 11)\n",
       "secondary_value___________________________________ : : (18702774,)\n",
       "secondary_variable________________________________ : : (18702774,)\n",
       "sensor_automation_status__________________________ : : (18702774,)\n",
       "sensor_id_________________________________________ : : (18702774,)\n",
       "source_id_________________________________________ : : (18702774, 6)\n",
       "spatial_representativeness________________________ : : (18702774,)\n",
       "string11__________________________________________ : : (11,)\n",
       "string6___________________________________________ : : (6,)\n",
       "traceability______________________________________ : : (18702774,)\n",
       "units_____________________________________________ : : (18702774,)\n",
       "value_significance________________________________ : : (18702774,)\n",
       "z_coordinate______________________________________ :L: (18702774,)\n",
       "z_coordinate_method_______________________________ : : (18702774,)\n",
       "z_coordinate_type_________________________________ : : (18702774,)"
      ]
     },
     "execution_count": 58,
     "metadata": {},
     "output_type": "execute_result"
    }
   ],
   "source": [
    "# Notice that the coordinate variables are loaded now\n",
    "# as well as the observed_variable and observation_value\n",
    "data.observations_table"
   ]
  },
  {
   "cell_type": "markdown",
   "metadata": {},
   "source": [
    "# VM Requests\n",
    "\n",
    "This is a private Service only for UNIVIE.\n",
    "Allows testing of the HUG Server and working directly witht the files, without CDS buffering."
   ]
  },
  {
   "cell_type": "code",
   "execution_count": 62,
   "metadata": {},
   "outputs": [
    {
     "name": "stdout",
     "output_type": "stream",
     "text": [
      "2020-08-10 17:06:40,289 - upperair.cdm | __init__ - DEBUG - Extracting ./dest_0-20000-0-01001_air_temperature.nc\n",
      "2020-08-10 17:06:40,291 - upperair.cdm | __init__ - DEBUG - [OPEN] ./dest_0-20000-0-01001_air_temperature.nc\n",
      "CPU times: user 590 ms, sys: 758 ms, total: 1.35 s\n",
      "Wall time: 41.5 s\n"
     ]
    }
   ],
   "source": [
    "# subsequent \"same\" requests are loaded from file, \n",
    "# unless overwrite=True then every request is send.\n",
    "\n",
    "%time data =  eua.CDMDataset(vm_request={'variable': 'temperature', 'statid': '01001'}, overwrite=True)"
   ]
  },
  {
   "cell_type": "code",
   "execution_count": 60,
   "metadata": {},
   "outputs": [
    {
     "data": {
      "text/plain": [
       "Filename: ./dest_0-20000-0-01001_air_temperature.nc\n",
       "(G)roups/(V)ariables: \n",
       "\n",
       " - V | lat__________________________________________ : : (15683555,)\n",
       " - V | lon__________________________________________ : : (15683555,)\n",
       " - V | obs__________________________________________ : : (15683555,)\n",
       " - V | plev_________________________________________ : : (15683555,)\n",
       " - V | ta___________________________________________ : : (15683555,)\n",
       " - V | time_________________________________________ : : (15683555,)\n",
       " - V | trajectory___________________________________ : : (70458,)\n",
       " - V | trajectory_index_____________________________ : : (15683555,)\n",
       " - V | trajectory_label_____________________________ : : (70458, 10)"
      ]
     },
     "execution_count": 60,
     "metadata": {},
     "output_type": "execute_result"
    }
   ],
   "source": [
    "data"
   ]
  },
  {
   "cell_type": "code",
   "execution_count": 64,
   "metadata": {},
   "outputs": [
    {
     "name": "stdout",
     "output_type": "stream",
     "text": [
      "total 691M\n",
      "-rw-r--r--. 1 mblaschek users  161 Jan 31  2020 requirements.txt\n",
      "-rw-r--r--. 1 mblaschek users 9.2K Jun  8 12:46 README.md\n",
      "drwxr-xr-x. 3 mblaschek users   31 Jun 30 12:08 example_data\n",
      "-rw-r--r--. 1 mblaschek users 173M Aug  5 15:05 3173650491.zip\n",
      "-rw-r--r--. 1 mblaschek users 533K Aug  6 08:40 Example.ipynb\n",
      "-rw-r--r--. 1 mblaschek users 173M Aug 10 16:21 1646595928.zip\n",
      "-rw-r--r--. 1 mblaschek users  71K Aug 10 16:25 Check_CDS_frontend.ipynb\n",
      "drwxr-xr-x. 6 mblaschek users 4.0K Aug 10 16:43 code\n",
      "-rw-r--r--. 1 mblaschek users 179K Aug 10 16:54 test.nc\n",
      "-rw-r--r--. 1 mblaschek users 173M Aug 10 17:06 1938034336.zip\n",
      "-rw-r--r--. 1 mblaschek users 173M Aug 10 17:06 dest_0-20000-0-01001_air_temperature.nc\n",
      "-rw-r--r--. 1 mblaschek users 236K Aug 10 17:07 Example_update.ipynb\n"
     ]
    }
   ],
   "source": [
    "!ls -trlh"
   ]
  },
  {
   "cell_type": "markdown",
   "metadata": {},
   "source": [
    "# Frontend files\n",
    "\n",
    "* Open a downloaded file\n",
    "* Make a request and open that file (the first one)\n",
    "    - all files are downloaded and extracted, but not loaded (Missing Class for that)\n",
    "    \n",
    "Mostly the same routines apply to both files BACKEND and FRONTEND."
   ]
  },
  {
   "cell_type": "markdown",
   "metadata": {},
   "source": [
    "## Make a CDS Request and open the data\n",
    "Either specify a file directly or issue a request via the `cdsapi` and downlaod the file and use that."
   ]
  },
  {
   "cell_type": "code",
   "execution_count": 65,
   "metadata": {},
   "outputs": [
    {
     "name": "stdout",
     "output_type": "stream",
     "text": [
      "2020-08-10 17:07:49,000 - upperair.cdm | __init__ - INFO - Requested file exists: 3173650491.zip\n",
      "2020-08-10 17:07:49,513 - upperair.cdm | __init__ - DEBUG - Extracting ./dest_0-20000-0-01001_air_temperature.nc\n",
      "2020-08-10 17:07:49,515 - upperair.cdm | __init__ - DEBUG - [OPEN] ./dest_0-20000-0-01001_air_temperature.nc\n"
     ]
    }
   ],
   "source": [
    "fata = eua.CDMDataset(cds_request={'variable':'air_temperature', 'statid': '01001'})"
   ]
  },
  {
   "cell_type": "code",
   "execution_count": 66,
   "metadata": {},
   "outputs": [
    {
     "data": {
      "text/plain": [
       "Filename: ./dest_0-20000-0-01001_air_temperature.nc\n",
       "(G)roups/(V)ariables: \n",
       "\n",
       " - V | lat__________________________________________ : : (15683555,)\n",
       " - V | lon__________________________________________ : : (15683555,)\n",
       " - V | obs__________________________________________ : : (15683555,)\n",
       " - V | plev_________________________________________ : : (15683555,)\n",
       " - V | ta___________________________________________ : : (15683555,)\n",
       " - V | time_________________________________________ : : (15683555,)\n",
       " - V | trajectory___________________________________ : : (70458,)\n",
       " - V | trajectory_index_____________________________ : : (15683555,)\n",
       " - V | trajectory_label_____________________________ : : (70458, 10)"
      ]
     },
     "execution_count": 66,
     "metadata": {},
     "output_type": "execute_result"
    }
   ],
   "source": [
    "fata"
   ]
  },
  {
   "cell_type": "code",
   "execution_count": 19,
   "metadata": {},
   "outputs": [
    {
     "data": {
      "text/plain": [
       "<HDF5 file \"dest_0-20000-0-01001_air_temperature.nc\" (mode r)>"
      ]
     },
     "execution_count": 19,
     "metadata": {},
     "output_type": "execute_result"
    }
   ],
   "source": [
    "fata.file"
   ]
  },
  {
   "cell_type": "code",
   "execution_count": 20,
   "metadata": {},
   "outputs": [
    {
     "data": {
      "text/plain": [
       "'./dest_0-20000-0-01001_air_temperature.nc'"
      ]
     },
     "execution_count": 20,
     "metadata": {},
     "output_type": "execute_result"
    }
   ],
   "source": [
    "fata.filename"
   ]
  },
  {
   "cell_type": "code",
   "execution_count": 21,
   "metadata": {},
   "outputs": [
    {
     "data": {
      "text/plain": [
       "'dest_0-20000-0-01001_air_temperature.nc'"
      ]
     },
     "execution_count": 21,
     "metadata": {},
     "output_type": "execute_result"
    }
   ],
   "source": [
    "fata.name"
   ]
  },
  {
   "cell_type": "code",
   "execution_count": 22,
   "metadata": {},
   "outputs": [
    {
     "data": {
      "text/plain": [
       "False"
      ]
     },
     "execution_count": 22,
     "metadata": {},
     "output_type": "execute_result"
    }
   ],
   "source": [
    "# This is often used to detect CDM Backend and CDM Frontend files\n",
    "fata.hasgroups"
   ]
  },
  {
   "cell_type": "markdown",
   "metadata": {},
   "source": [
    "## Availability of Data "
   ]
  },
  {
   "cell_type": "code",
   "execution_count": 67,
   "metadata": {},
   "outputs": [
    {
     "data": {
      "image/png": "[encoded data removed]",
      "text/plain": [
       "<Figure size 864x432 with 1 Axes>"
      ]
     },
     "metadata": {
      "needs_background": "light"
     },
     "output_type": "display_data"
    }
   ],
   "source": [
    "plot(fata.availability())\n",
    "grid()\n",
    "title('Availability of {}'.format(fata.name));"
   ]
  },
  {
   "cell_type": "markdown",
   "metadata": {},
   "source": [
    "## Convert to Cube"
   ]
  },
  {
   "cell_type": "code",
   "execution_count": 68,
   "metadata": {},
   "outputs": [
    {
     "name": "stdout",
     "output_type": "stream",
     "text": [
      "2020-08-10 17:10:36,157 - upperair.cdm | make_datetime_slice - DEBUG - Datetime selection: 861654 - 13632098\n",
      "2020-08-10 17:10:36,640 - upperair.cdm | read_variable - INFO - [READ] plev : [  1000   2000   3000   5000   7000  10000  15000  20000  25000  30000\n",
      "  40000  50000  70000  85000  92500 100000] [Pa]\n",
      "2020-08-10 17:10:37,036 - upperair.cdm | read_data_to_cube - INFO - [CUBE] ta (37431, 16)\n"
     ]
    }
   ],
   "source": [
    "fta = fata.read_data_to_cube('ta', dates=['2000-01-01','2019-01-01'])"
   ]
  },
  {
   "cell_type": "code",
   "execution_count": 96,
   "metadata": {},
   "outputs": [
    {
     "name": "stderr",
     "output_type": "stream",
     "text": [
      "<ipython-input-96-dbe5c274b9a0>:3: MatplotlibDeprecationWarning: shading='flat' when X and Y have the same dimensions as C is deprecated since 3.3.  Either specify the corners of the quadrilaterals with X and Y, or pass shading='auto', 'nearest' or 'gouraud', or set rcParams['pcolor.shading'].  This will become an error two minor releases later.\n",
      "  pcolormesh(fta['ta'].time,fta['ta'].plev,fta['ta'].T)\n",
      "/opt/anaconda3/lib/python3.8/site-packages/pandas/plotting/_matplotlib/converter.py:256: MatplotlibDeprecationWarning: \n",
      "The epoch2num function was deprecated in Matplotlib 3.3 and will be removed two minor releases later.\n",
      "  base = dates.epoch2num(dt.asi8 / 1.0e9)\n"
     ]
    },
    {
     "data": {
      "image/png": "[encoded data removed]",
      "text/plain": [
       "<Figure size 864x432 with 2 Axes>"
      ]
     },
     "metadata": {
      "needs_background": "light"
     },
     "output_type": "display_data"
    }
   ],
   "source": [
    "# plotting of Xarray is broken with matplotlib 3.3\n",
    "# (fta['ta']).plot(y='plev')\n",
    "pcolormesh(fta['ta'].time,fta['ta'].plev,fta['ta'].T)\n",
    "ylim(1000,10)\n",
    "grid()\n",
    "colorbar()\n",
    "title('{description} {standard_name}'.format(**fata.read_attributes('ta')));"
   ]
  },
  {
   "cell_type": "code",
   "execution_count": null,
   "metadata": {},
   "outputs": [],
   "source": []
  }
 ],
 "metadata": {
  "kernelspec": {
   "display_name": "Python 3",
   "language": "python",
   "name": "python3"
  },
  "language_info": {
   "codemirror_mode": {
    "name": "ipython",
    "version": 3
   },
   "file_extension": ".py",
   "mimetype": "text/x-python",
   "name": "python",
   "nbconvert_exporter": "python",
   "pygments_lexer": "ipython3",
   "version": "3.8.5"
  }
 },
 "nbformat": 4,
 "nbformat_minor": 4
}
