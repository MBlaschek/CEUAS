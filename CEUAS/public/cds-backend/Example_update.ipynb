{
 "cells": [
  {
   "cell_type": "markdown",
   "metadata": {},
   "source": [
    "# Enhanced User interface"
   ]
  },
  {
   "cell_type": "code",
   "execution_count": 1,
   "metadata": {},
   "outputs": [
    {
     "name": "stdout",
     "output_type": "stream",
     "text": [
      "Populating the interactive namespace from numpy and matplotlib\n"
     ]
    }
   ],
   "source": [
    "%pylab inline"
   ]
  },
  {
   "cell_type": "code",
   "execution_count": 2,
   "metadata": {},
   "outputs": [],
   "source": [
    "# Plotting parameters\n",
    "plt.rcParams['figure.figsize'] = [12.0, 6.0]\n",
    "plt.rcParams['lines.linewidth'] = 2\n",
    "plt.rcParams['font.size'] = 15\n",
    "plt.style.use('seaborn-colorblind')\n",
    "yplevs = np.array([10,30,70,125,175,225,300,400,500,700,925])*100."
   ]
  },
  {
   "cell_type": "code",
   "execution_count": 3,
   "metadata": {},
   "outputs": [],
   "source": [
    "#\n",
    "# Make sure you have Python 3\n",
    "#\n",
    "from platform import python_version\n",
    "if python_version()[0] != '3':\n",
    "    print(\"Your Version:\", python_version())\n",
    "    raise RuntimeError(\"This Notebook requires Python 3\")"
   ]
  },
  {
   "cell_type": "code",
   "execution_count": 4,
   "metadata": {},
   "outputs": [],
   "source": [
    "sys.path.append('code/')\n",
    "import cds_eua3 as eua"
   ]
  },
  {
   "cell_type": "markdown",
   "metadata": {},
   "source": [
    "## CDM Classes\n",
    "\n",
    "* CDMVariable - Low Level Variable that allows access to the data\n",
    "* CDMGroup - Just a wrapper from CDMVariable to accommodate Groups\n",
    "* CDMDataset - Main Class with all CDM Functions"
   ]
  },
  {
   "cell_type": "markdown",
   "metadata": {},
   "source": [
    "### CDM Variable"
   ]
  },
  {
   "cell_type": "code",
   "execution_count": 5,
   "metadata": {},
   "outputs": [
    {
     "name": "stdout",
     "output_type": "stream",
     "text": [
      "CDMVariable.isArray()            -  Loaded to Memory?\n",
      "CDMVariable.keys()               -  list of Attributes\n",
      "CDMVariable.update()             -  Update HDF5 File Reference, Link\n"
     ]
    }
   ],
   "source": [
    "# CDM Variable Routines\n",
    "print(\"\\n\".join(['CDMVariable.{:20} - {}'.format(i+'()', getattr(eua.CDMVariable,i).__doc__.split('\\n')[0]) for i in dir(eua.CDMVariable) if '__' not in i]))"
   ]
  },
  {
   "cell_type": "markdown",
   "metadata": {},
   "source": [
    "### CDM Dataset"
   ]
  },
  {
   "cell_type": "code",
   "execution_count": 6,
   "metadata": {},
   "outputs": [
    {
     "name": "stdout",
     "output_type": "stream",
     "text": [
      "CDMDataset.availability()                 -  Read datetime and check how much data is available\n",
      "CDMDataset.check_cdm_duplicates()         -  Run a duplication check on a group and some variables\n",
      "CDMDataset.close()                        -  Close H5py file\n",
      "CDMDataset.inquire()                      -  Read HDF5 file structures\n",
      "CDMDataset.load_variable_from_file()      -  Allow to load a variable from a group\n",
      "CDMDataset.make_datetime_slice()          -  Create a datetime slice for HDF5 optimal reading\n",
      "CDMDataset.profile_to_dataframe()         -  Convert HDF5 variables to a DataFrame\n",
      "CDMDataset.read_attributes()              -  Return all attributes or a subset for a variable\n",
      "CDMDataset.read_data_to_cube()            -  Read standard pressure levels and return a DataCube\n",
      "CDMDataset.read_observed_variable()       -  Read a variable from a CDM backend file\n",
      "CDMDataset.read_variable()                -  Read a variable from a CDM frontend file\n",
      "CDMDataset.read_write_request()           -  This is the basic request used in the cds_eua2 script\n",
      "CDMDataset.reopen()                       -  Reopen the HDF5 file with different mode\n",
      "CDMDataset.report_quality()               -  Compile a quality report\n",
      "CDMDataset.trajectory_data()              -  Return trajectory data\n",
      "CDMDataset.write_observed_data()          -  Write a DataCube or a Table (DataArray, DataFrame) with Multiindex to CDMBackend file\n",
      "CDMDataset.write_variable()               -  Write a DataCube or a Table (DataArray, DataFrame) with Multiindex to CDM Frontend\n"
     ]
    }
   ],
   "source": [
    "# CDM Dataset Routines\n",
    "print(\"\\n\".join(['CDMDataset.{:30} - {}'.format(i+'()', getattr(eua.CDMDataset,i).__doc__.split('\\n')[0]) for i in dir(eua.CDMDataset) if '__' not in i]))"
   ]
  },
  {
   "cell_type": "markdown",
   "metadata": {},
   "source": [
    "### EUA Function"
   ]
  },
  {
   "cell_type": "code",
   "execution_count": 7,
   "metadata": {},
   "outputs": [
    {
     "name": "stdout",
     "output_type": "stream",
     "text": [
      "eua._count_data()                  -  Helper for align_datetime\n",
      "eua.align_datetime()               -  Standardize datetime to times per date, try to fill gaps\n",
      "eua.andisin()                      -  numba version of numpy.in1d(x, v)\n",
      "eua.andisin_t()                    -  numba version of numpy.in1d, for times\n",
      "eua.calc_trajindexfast()           -  Calculate Trajectory Index \n",
      "eua.cdm_to_cds()                   -  CDM Name to CDS Name\n",
      "eua.cds_to_cdm()                   -  CDS Name to CDM Name\n",
      "eua.convert_datetime()             -  input date (str,int,...) to datetime64 or formatted string\n",
      "eua.datetime_to_seconds()          -  from datetime64 to seconds since 1900-01-01 00:00:00\n",
      "eua.do_cfcopy()                    -  Copy H5PY variables and apply subsetting (idx)\n",
      "eua.get_attributes()               -  Get attributes from CF Table for a code\n",
      "eua.is_sorted()                    -  check if an array is sorted\n",
      "eua.last_day_of_month()            -  last day of a month\n",
      "eua.level_interpolation()          -  Interpolate CDM variable per dimension (time, plev)\n",
      "eua.logging_set_level()            -  Set Logging Level, Default: 10 (DEBUG)\n",
      "eua.process_flat()                 -  Process a station file with the requested variables\n",
      "eua.read_standardnames()           -  Read the Climate and Forcast Convention data\n",
      "eua.reverse_index()                -  Find all idates and iplevs in dates and plevs\n",
      "eua.seconds_to_datetime()          -  from seconds to datetime64 \n",
      "eua.stack_cube_by_time()           -  Stack time as a new dimension\n",
      "eua.table_to_cube()                -  Convert a ragged variable (table) to a data cube\n",
      "eua.to_seconds_since()             -  return seconds since a Reference date applying time unit\n",
      "eua.to_standard_launch_time()      -  Convert to standard (nominal) launch datetime with hour precision\n",
      "eua.tohourday()                    -  convert datetimes to hours, days and day_shift\n",
      "eua.totimes()                      -  Input time to Array\n"
     ]
    }
   ],
   "source": [
    "for i in dir(eua):\n",
    "    if '__' in i:\n",
    "        continue\n",
    "    if i in ['njit', 'datetime', 'timedelta', 'CDMDataset', 'CDMVariable', 'CDMGroup']:\n",
    "        continue\n",
    "    try:\n",
    "        j = getattr(eua, i)\n",
    "        if hasattr(j, '__call__'):\n",
    "            print('eua.{:30} - {}'.format(i+'()', j.__doc__.split('\\n')[0]))\n",
    "    except:\n",
    "        pass"
   ]
  },
  {
   "cell_type": "markdown",
   "metadata": {},
   "source": [
    "# Backend Files\n",
    "\n",
    "1. Reading a CDM Backend file with a given `path`\n",
    "2. Using Groups and Variables\n",
    "3. Loading Variables and Acessing Data\n",
    "4. Reading Attributes"
   ]
  },
  {
   "cell_type": "code",
   "execution_count": 5,
   "metadata": {},
   "outputs": [
    {
     "name": "stdout",
     "output_type": "stream",
     "text": [
      "2020-08-14 17:19:38,979 - upperair.cdm | __init__ - DEBUG - [OPEN] /raid60/scratch/federico/JULY_MERGE/0-20000-0-10962_CEUAS_merged_v0.nc\n"
     ]
    }
   ],
   "source": [
    "if False:\n",
    "    # old file with duplicates and not sorted\n",
    "    data = eua.CDMDataset('/raid60/scratch/federico/JUNE_TEST_MERGING_ALL/0-20000-0-01001_CEUAS_merged_v0.nc')\n",
    "    \n",
    "data = eua.CDMDataset('/raid60/scratch/federico/JULY_MERGE/0-20000-0-10962_CEUAS_merged_v0.nc')"
   ]
  },
  {
   "cell_type": "markdown",
   "metadata": {},
   "source": [
    "## Dataset Attributes"
   ]
  },
  {
   "cell_type": "code",
   "execution_count": 9,
   "metadata": {},
   "outputs": [
    {
     "data": {
      "text/plain": [
       "<HDF5 file \"0-20000-0-10962_CEUAS_merged_v0.nc\" (mode r)>"
      ]
     },
     "execution_count": 9,
     "metadata": {},
     "output_type": "execute_result"
    }
   ],
   "source": [
    "# h5py File Reference, until data.close(), the file is opened\n",
    "data.file"
   ]
  },
  {
   "cell_type": "code",
   "execution_count": 10,
   "metadata": {},
   "outputs": [
    {
     "name": "stdout",
     "output_type": "stream",
     "text": [
      "2020-08-14 16:41:22,470 - upperair.cdm | close - DEBUG - [CLOSED] /raid60/scratch/federico/JULY_MERGE/0-20000-0-10962_CEUAS_merged_v0.nc\n"
     ]
    }
   ],
   "source": [
    "# Close the HDF file\n",
    "data.close()"
   ]
  },
  {
   "cell_type": "code",
   "execution_count": 11,
   "metadata": {},
   "outputs": [
    {
     "name": "stdout",
     "output_type": "stream",
     "text": [
      "2020-08-14 16:41:23,009 - upperair.cdm | reopen - DEBUG - reopen /raid60/scratch/federico/JULY_MERGE/0-20000-0-10962_CEUAS_merged_v0.nc [r]\n"
     ]
    }
   ],
   "source": [
    "# Reopen it, potentially with different mode\n",
    "data.reopen(mode='r')"
   ]
  },
  {
   "cell_type": "code",
   "execution_count": 12,
   "metadata": {},
   "outputs": [
    {
     "name": "stdout",
     "output_type": "stream",
     "text": [
      "2020-08-14 16:41:24,035 - upperair.cdm | reopen - WARNING - reopen [r+] Copy file to /raid8/srvx1/mblaschek/tmp/0-20000-0-10962_CEUAS_merged_v0.nc\n",
      "2020-08-14 16:41:24,036 - upperair.cdm | reopen - DEBUG - reopen /raid8/srvx1/mblaschek/tmp/0-20000-0-10962_CEUAS_merged_v0.nc [r+]\n"
     ]
    }
   ],
   "source": [
    "# Note due to access rights, the file was copied to a tmp directory and opened for writing\n",
    "data.reopen(mode='r+')"
   ]
  },
  {
   "cell_type": "code",
   "execution_count": 13,
   "metadata": {},
   "outputs": [
    {
     "name": "stdout",
     "output_type": "stream",
     "text": [
      "2020-08-14 16:41:24,091 - upperair.cdm | close - DEBUG - [CLOSED] /raid8/srvx1/mblaschek/tmp/0-20000-0-10962_CEUAS_merged_v0.nc\n",
      "2020-08-14 16:41:24,091 - upperair.cdm | __init__ - DEBUG - [OPEN] /raid60/scratch/federico/JULY_MERGE/0-20000-0-10962_CEUAS_merged_v0.nc\n"
     ]
    }
   ],
   "source": [
    "data.close() # Close again and read original again\n",
    "data = eua.CDMDataset('/raid60/scratch/federico/JULY_MERGE/0-20000-0-10962_CEUAS_merged_v0.nc')"
   ]
  },
  {
   "cell_type": "code",
   "execution_count": 14,
   "metadata": {},
   "outputs": [
    {
     "data": {
      "text/plain": [
       "'/raid60/scratch/federico/JULY_MERGE/0-20000-0-10962_CEUAS_merged_v0.nc'"
      ]
     },
     "execution_count": 14,
     "metadata": {},
     "output_type": "execute_result"
    }
   ],
   "source": [
    "data.filename"
   ]
  },
  {
   "cell_type": "code",
   "execution_count": 15,
   "metadata": {},
   "outputs": [
    {
     "data": {
      "text/plain": [
       "True"
      ]
     },
     "execution_count": 15,
     "metadata": {},
     "output_type": "execute_result"
    }
   ],
   "source": [
    "data.hasgroups"
   ]
  },
  {
   "cell_type": "code",
   "execution_count": 16,
   "metadata": {},
   "outputs": [
    {
     "data": {
      "text/plain": [
       "'0-20000-0-10962_CEUAS_merged_v0.nc'"
      ]
     },
     "execution_count": 16,
     "metadata": {},
     "output_type": "execute_result"
    }
   ],
   "source": [
    "data.name"
   ]
  },
  {
   "cell_type": "markdown",
   "metadata": {},
   "source": [
    "## Groups and Variables are shown.\n",
    "- G for Groups, Number indicates Variables in Group\n",
    "- V for Variables, Number indicates Shape of Variable"
   ]
  },
  {
   "cell_type": "code",
   "execution_count": 17,
   "metadata": {},
   "outputs": [
    {
     "data": {
      "text/plain": [
       "Filename: /raid60/scratch/federico/JULY_MERGE/0-20000-0-10962_CEUAS_merged_v0.nc\n",
       "(G)roups/(V)ariables: \n",
       "\n",
       " - G | crs__________________________________________ : : 4\n",
       " - V | dateindex____________________________________ : : (4155,)\n",
       " - G | era5fb_______________________________________ : : 72\n",
       " - G | header_table_________________________________ : : 53\n",
       " - G | observations_table___________________________ : : 49\n",
       " - G | observed_variable____________________________ : : 9\n",
       " - V | recordindex__________________________________ : : (7314,)\n",
       " - V | recordtimestamp______________________________ : : (7314,)\n",
       " - G | source_configuration_________________________ : : 2\n",
       " - G | station_configuration_codes__________________ : : 7\n",
       " - G | station_type_________________________________ : : 4\n",
       " - G | units________________________________________ : : 6\n",
       " - G | z_coordinate_type____________________________ : : 4"
      ]
     },
     "execution_count": 17,
     "metadata": {},
     "output_type": "execute_result"
    }
   ],
   "source": [
    "# h5Py file structure (Groups and variables) shapes and number of variables in groups\n",
    "data"
   ]
  },
  {
   "cell_type": "code",
   "execution_count": 18,
   "metadata": {},
   "outputs": [
    {
     "data": {
      "text/plain": [
       "observations_table:\n",
       "\n",
       "adjustment_id_____________________________________ : : (18702774,)\n",
       "advanced_assimilation_feedback____________________ : : (18702774,)\n",
       "advanced_homogenisation___________________________ : : (18702774,)\n",
       "advanced_qc_______________________________________ : : (18702774,)\n",
       "advanced_uncertainty______________________________ : : (18702774,)\n",
       "bbox_max_latitude_________________________________ : : (18702774,)\n",
       "bbox_max_longitude________________________________ : : (18702774,)\n",
       "bbox_min_latitude_________________________________ : : (18702774,)\n",
       "bbox_min_longitude________________________________ : : (18702774,)\n",
       "code_table________________________________________ : : (18702774,)\n",
       "conversion_flag___________________________________ : : (18702774,)\n",
       "conversion_method_________________________________ : : (18702774,)\n",
       "crs_______________________________________________ : : (18702774,)\n",
       "data_policy_licence_______________________________ : : (18702774,)\n",
       "date_time_________________________________________ : : (18702774,)\n",
       "date_time_meaning_________________________________ : : (18702774,)\n",
       "exposure_of_sensor________________________________ : : (18702774,)\n",
       "index_____________________________________________ : : (18702774,)\n",
       "latitude__________________________________________ : : (18702774,)\n",
       "location_method___________________________________ : : (18702774,)\n",
       "location_precision________________________________ : : (18702774,)\n",
       "longitude_________________________________________ : : (18702774,)\n",
       "numerical_precision_______________________________ : : (18702774,)\n",
       "observation_duration______________________________ : : (18702774,)\n",
       "observation_height_above_station_surface__________ : : (18702774,)\n",
       "observation_id____________________________________ : : (18702774, 11)\n",
       "observation_value_________________________________ : : (18702774,)\n",
       "observed_variable_________________________________ : : (18702774,)\n",
       "original_code_table_______________________________ : : (18702774,)\n",
       "original_precision________________________________ : : (18702774,)\n",
       "original_units____________________________________ : : (18702774,)\n",
       "original_value____________________________________ : : (18702774,)\n",
       "processing_level__________________________________ : : (18702774,)\n",
       "quality_flag______________________________________ : : (18702774,)\n",
       "report_id_________________________________________ : : (18702774, 11)\n",
       "secondary_value___________________________________ : : (18702774,)\n",
       "secondary_variable________________________________ : : (18702774,)\n",
       "sensor_automation_status__________________________ : : (18702774,)\n",
       "sensor_id_________________________________________ : : (18702774,)\n",
       "source_id_________________________________________ : : (18702774, 6)\n",
       "spatial_representativeness________________________ : : (18702774,)\n",
       "string11__________________________________________ : : (11,)\n",
       "string6___________________________________________ : : (6,)\n",
       "traceability______________________________________ : : (18702774,)\n",
       "units_____________________________________________ : : (18702774,)\n",
       "value_significance________________________________ : : (18702774,)\n",
       "z_coordinate______________________________________ : : (18702774,)\n",
       "z_coordinate_method_______________________________ : : (18702774,)\n",
       "z_coordinate_type_________________________________ : : (18702774,)"
      ]
     },
     "execution_count": 18,
     "metadata": {},
     "output_type": "execute_result"
    }
   ],
   "source": [
    "# Groups are attached to the Class and can be accesed like this\n",
    "data.observations_table"
   ]
  },
  {
   "cell_type": "code",
   "execution_count": 19,
   "metadata": {},
   "outputs": [
    {
     "data": {
      "text/plain": [
       "observations_table:\n",
       "\n",
       "adjustment_id_____________________________________ : : (18702774,)\n",
       "advanced_assimilation_feedback____________________ : : (18702774,)\n",
       "advanced_homogenisation___________________________ : : (18702774,)\n",
       "advanced_qc_______________________________________ : : (18702774,)\n",
       "advanced_uncertainty______________________________ : : (18702774,)\n",
       "bbox_max_latitude_________________________________ : : (18702774,)\n",
       "bbox_max_longitude________________________________ : : (18702774,)\n",
       "bbox_min_latitude_________________________________ : : (18702774,)\n",
       "bbox_min_longitude________________________________ : : (18702774,)\n",
       "code_table________________________________________ : : (18702774,)\n",
       "conversion_flag___________________________________ : : (18702774,)\n",
       "conversion_method_________________________________ : : (18702774,)\n",
       "crs_______________________________________________ : : (18702774,)\n",
       "data_policy_licence_______________________________ : : (18702774,)\n",
       "date_time_________________________________________ : : (18702774,)\n",
       "date_time_meaning_________________________________ : : (18702774,)\n",
       "exposure_of_sensor________________________________ : : (18702774,)\n",
       "index_____________________________________________ : : (18702774,)\n",
       "latitude__________________________________________ : : (18702774,)\n",
       "location_method___________________________________ : : (18702774,)\n",
       "location_precision________________________________ : : (18702774,)\n",
       "longitude_________________________________________ : : (18702774,)\n",
       "numerical_precision_______________________________ : : (18702774,)\n",
       "observation_duration______________________________ : : (18702774,)\n",
       "observation_height_above_station_surface__________ : : (18702774,)\n",
       "observation_id____________________________________ : : (18702774, 11)\n",
       "observation_value_________________________________ : : (18702774,)\n",
       "observed_variable_________________________________ : : (18702774,)\n",
       "original_code_table_______________________________ : : (18702774,)\n",
       "original_precision________________________________ : : (18702774,)\n",
       "original_units____________________________________ : : (18702774,)\n",
       "original_value____________________________________ : : (18702774,)\n",
       "processing_level__________________________________ : : (18702774,)\n",
       "quality_flag______________________________________ : : (18702774,)\n",
       "report_id_________________________________________ : : (18702774, 11)\n",
       "secondary_value___________________________________ : : (18702774,)\n",
       "secondary_variable________________________________ : : (18702774,)\n",
       "sensor_automation_status__________________________ : : (18702774,)\n",
       "sensor_id_________________________________________ : : (18702774,)\n",
       "source_id_________________________________________ : : (18702774, 6)\n",
       "spatial_representativeness________________________ : : (18702774,)\n",
       "string11__________________________________________ : : (11,)\n",
       "string6___________________________________________ : : (6,)\n",
       "traceability______________________________________ : : (18702774,)\n",
       "units_____________________________________________ : : (18702774,)\n",
       "value_significance________________________________ : : (18702774,)\n",
       "z_coordinate______________________________________ : : (18702774,)\n",
       "z_coordinate_method_______________________________ : : (18702774,)\n",
       "z_coordinate_type_________________________________ : : (18702774,)"
      ]
     },
     "execution_count": 19,
     "metadata": {},
     "output_type": "execute_result"
    }
   ],
   "source": [
    "# or by getitem\n",
    "data['observations_table']"
   ]
  },
  {
   "cell_type": "code",
   "execution_count": 20,
   "metadata": {},
   "outputs": [
    {
     "data": {
      "text/plain": [
       "date_time : (18702774,)"
      ]
     },
     "execution_count": 20,
     "metadata": {},
     "output_type": "execute_result"
    }
   ],
   "source": [
    "# Variables in Groups can be accessed like this\n",
    "data.observations_table.date_time"
   ]
  },
  {
   "cell_type": "code",
   "execution_count": 21,
   "metadata": {},
   "outputs": [
    {
     "data": {
      "text/plain": [
       "date_time : (18702774,)"
      ]
     },
     "execution_count": 21,
     "metadata": {},
     "output_type": "execute_result"
    }
   ],
   "source": [
    "# or like this\n",
    "data['observations_table']['date_time']"
   ]
  },
  {
   "cell_type": "code",
   "execution_count": 22,
   "metadata": {},
   "outputs": [
    {
     "name": "stdout",
     "output_type": "stream",
     "text": [
      "isArray() ? False\n",
      "keys() ? ['shape']\n"
     ]
    }
   ],
   "source": [
    "# common functions are isArray and keys()\n",
    "print('isArray() ?', data.observations_table.date_time.isArray())\n",
    "print('keys() ?', data.observations_table.date_time.keys())"
   ]
  },
  {
   "cell_type": "code",
   "execution_count": 23,
   "metadata": {},
   "outputs": [
    {
     "data": {
      "text/plain": [
       "(18702774,)"
      ]
     },
     "execution_count": 23,
     "metadata": {},
     "output_type": "execute_result"
    }
   ],
   "source": [
    "# Another Attribute that is there all the time is shape\n",
    "data.observations_table.date_time.shape"
   ]
  },
  {
   "cell_type": "code",
   "execution_count": 24,
   "metadata": {},
   "outputs": [
    {
     "data": {
      "text/plain": [
       "<HDF5 dataset \"date_time\": shape (18702774,), type \"<i8\">"
      ]
     },
     "execution_count": 24,
     "metadata": {},
     "output_type": "execute_result"
    }
   ],
   "source": [
    "# The Link points to the HDF file\n",
    "data.observations_table.date_time.link"
   ]
  },
  {
   "cell_type": "code",
   "execution_count": 25,
   "metadata": {},
   "outputs": [
    {
     "data": {
      "text/plain": [
       "<HDF5 dataset \"date_time\": shape (18702774,), type \"<i8\">"
      ]
     },
     "execution_count": 25,
     "metadata": {},
     "output_type": "execute_result"
    }
   ],
   "source": [
    "# This hidden value points to the data (when loaded) or to the link \n",
    "data.observations_table.date_time._data"
   ]
  },
  {
   "cell_type": "markdown",
   "metadata": {},
   "source": [
    "### Access the HDF Data"
   ]
  },
  {
   "cell_type": "code",
   "execution_count": 26,
   "metadata": {},
   "outputs": [],
   "source": [
    "# Access the HDF Data\n",
    "data.observations_table.date_time[slice(None)]  # or with indices, A slice is always faster due to HDF5 implementation\n",
    "\n",
    "if False:\n",
    "    data.observations_table.date_time[()]  # as slice(None)\n",
    "\n",
    "# Please note accessing data like this does not mean it is loaded into memory and sorted in the class"
   ]
  },
  {
   "cell_type": "code",
   "execution_count": 27,
   "metadata": {},
   "outputs": [
    {
     "data": {
      "text/plain": [
       "observations_table:\n",
       "\n",
       "adjustment_id_____________________________________ : : (18702774,)\n",
       "advanced_assimilation_feedback____________________ : : (18702774,)\n",
       "advanced_homogenisation___________________________ : : (18702774,)\n",
       "advanced_qc_______________________________________ : : (18702774,)\n",
       "advanced_uncertainty______________________________ : : (18702774,)\n",
       "bbox_max_latitude_________________________________ : : (18702774,)\n",
       "bbox_max_longitude________________________________ : : (18702774,)\n",
       "bbox_min_latitude_________________________________ : : (18702774,)\n",
       "bbox_min_longitude________________________________ : : (18702774,)\n",
       "code_table________________________________________ : : (18702774,)\n",
       "conversion_flag___________________________________ : : (18702774,)\n",
       "conversion_method_________________________________ : : (18702774,)\n",
       "crs_______________________________________________ : : (18702774,)\n",
       "data_policy_licence_______________________________ : : (18702774,)\n",
       "date_time_________________________________________ : : (18702774,)\n",
       "date_time_meaning_________________________________ : : (18702774,)\n",
       "exposure_of_sensor________________________________ : : (18702774,)\n",
       "index_____________________________________________ : : (18702774,)\n",
       "latitude__________________________________________ : : (18702774,)\n",
       "location_method___________________________________ : : (18702774,)\n",
       "location_precision________________________________ : : (18702774,)\n",
       "longitude_________________________________________ : : (18702774,)\n",
       "numerical_precision_______________________________ : : (18702774,)\n",
       "observation_duration______________________________ : : (18702774,)\n",
       "observation_height_above_station_surface__________ : : (18702774,)\n",
       "observation_id____________________________________ : : (18702774, 11)\n",
       "observation_value_________________________________ : : (18702774,)\n",
       "observed_variable_________________________________ : : (18702774,)\n",
       "original_code_table_______________________________ : : (18702774,)\n",
       "original_precision________________________________ : : (18702774,)\n",
       "original_units____________________________________ : : (18702774,)\n",
       "original_value____________________________________ : : (18702774,)\n",
       "processing_level__________________________________ : : (18702774,)\n",
       "quality_flag______________________________________ : : (18702774,)\n",
       "report_id_________________________________________ : : (18702774, 11)\n",
       "secondary_value___________________________________ : : (18702774,)\n",
       "secondary_variable________________________________ : : (18702774,)\n",
       "sensor_automation_status__________________________ : : (18702774,)\n",
       "sensor_id_________________________________________ : : (18702774,)\n",
       "source_id_________________________________________ : : (18702774, 6)\n",
       "spatial_representativeness________________________ : : (18702774,)\n",
       "string11__________________________________________ : : (11,)\n",
       "string6___________________________________________ : : (6,)\n",
       "traceability______________________________________ : : (18702774,)\n",
       "units_____________________________________________ : : (18702774,)\n",
       "value_significance________________________________ : : (18702774,)\n",
       "z_coordinate______________________________________ : : (18702774,)\n",
       "z_coordinate_method_______________________________ : : (18702774,)\n",
       "z_coordinate_type_________________________________ : : (18702774,)"
      ]
     },
     "execution_count": 27,
     "metadata": {},
     "output_type": "execute_result"
    }
   ],
   "source": [
    "# datetime is not loaded\n",
    "data.observations_table"
   ]
  },
  {
   "cell_type": "markdown",
   "metadata": {},
   "source": [
    "### This loads the variable and replaces the _origin with the numpy array"
   ]
  },
  {
   "cell_type": "code",
   "execution_count": 28,
   "metadata": {},
   "outputs": [],
   "source": [
    "data.load_variable_from_file('date_time', group='observations_table')"
   ]
  },
  {
   "cell_type": "code",
   "execution_count": 29,
   "metadata": {},
   "outputs": [
    {
     "data": {
      "text/plain": [
       "observations_table:\n",
       "\n",
       "adjustment_id_____________________________________ : : (18702774,)\n",
       "advanced_assimilation_feedback____________________ : : (18702774,)\n",
       "advanced_homogenisation___________________________ : : (18702774,)\n",
       "advanced_qc_______________________________________ : : (18702774,)\n",
       "advanced_uncertainty______________________________ : : (18702774,)\n",
       "bbox_max_latitude_________________________________ : : (18702774,)\n",
       "bbox_max_longitude________________________________ : : (18702774,)\n",
       "bbox_min_latitude_________________________________ : : (18702774,)\n",
       "bbox_min_longitude________________________________ : : (18702774,)\n",
       "code_table________________________________________ : : (18702774,)\n",
       "conversion_flag___________________________________ : : (18702774,)\n",
       "conversion_method_________________________________ : : (18702774,)\n",
       "crs_______________________________________________ : : (18702774,)\n",
       "data_policy_licence_______________________________ : : (18702774,)\n",
       "date_time_________________________________________ :L: (18702774,)\n",
       "date_time_meaning_________________________________ : : (18702774,)\n",
       "exposure_of_sensor________________________________ : : (18702774,)\n",
       "index_____________________________________________ : : (18702774,)\n",
       "latitude__________________________________________ : : (18702774,)\n",
       "location_method___________________________________ : : (18702774,)\n",
       "location_precision________________________________ : : (18702774,)\n",
       "longitude_________________________________________ : : (18702774,)\n",
       "numerical_precision_______________________________ : : (18702774,)\n",
       "observation_duration______________________________ : : (18702774,)\n",
       "observation_height_above_station_surface__________ : : (18702774,)\n",
       "observation_id____________________________________ : : (18702774, 11)\n",
       "observation_value_________________________________ : : (18702774,)\n",
       "observed_variable_________________________________ : : (18702774,)\n",
       "original_code_table_______________________________ : : (18702774,)\n",
       "original_precision________________________________ : : (18702774,)\n",
       "original_units____________________________________ : : (18702774,)\n",
       "original_value____________________________________ : : (18702774,)\n",
       "processing_level__________________________________ : : (18702774,)\n",
       "quality_flag______________________________________ : : (18702774,)\n",
       "report_id_________________________________________ : : (18702774, 11)\n",
       "secondary_value___________________________________ : : (18702774,)\n",
       "secondary_variable________________________________ : : (18702774,)\n",
       "sensor_automation_status__________________________ : : (18702774,)\n",
       "sensor_id_________________________________________ : : (18702774,)\n",
       "source_id_________________________________________ : : (18702774, 6)\n",
       "spatial_representativeness________________________ : : (18702774,)\n",
       "string11__________________________________________ : : (11,)\n",
       "string6___________________________________________ : : (6,)\n",
       "traceability______________________________________ : : (18702774,)\n",
       "units_____________________________________________ : : (18702774,)\n",
       "value_significance________________________________ : : (18702774,)\n",
       "z_coordinate______________________________________ : : (18702774,)\n",
       "z_coordinate_method_______________________________ : : (18702774,)\n",
       "z_coordinate_type_________________________________ : : (18702774,)"
      ]
     },
     "execution_count": 29,
     "metadata": {},
     "output_type": "execute_result"
    }
   ],
   "source": [
    "# Now date_time is loaded\n",
    "data.observations_table"
   ]
  },
  {
   "cell_type": "code",
   "execution_count": 30,
   "metadata": {},
   "outputs": [
    {
     "data": {
      "text/plain": [
       "True"
      ]
     },
     "execution_count": 30,
     "metadata": {},
     "output_type": "execute_result"
    }
   ],
   "source": [
    "# Now isArray is True as the data is loaded\n",
    "data.observations_table.date_time.isArray()"
   ]
  },
  {
   "cell_type": "code",
   "execution_count": 31,
   "metadata": {},
   "outputs": [
    {
     "data": {
      "text/plain": [
       "array([2552299200, 2552299200, 2552299200, ..., 3786673592, 3786673592,\n",
       "       3786673592])"
      ]
     },
     "execution_count": 31,
     "metadata": {},
     "output_type": "execute_result"
    }
   ],
   "source": [
    "# Access still workds the same way, for consistency\n",
    "data.observations_table.date_time[()]"
   ]
  },
  {
   "cell_type": "code",
   "execution_count": 32,
   "metadata": {},
   "outputs": [
    {
     "data": {
      "text/plain": [
       "{'description': 'timestamp for observation',\n",
       " 'external_table': 'nan',\n",
       " 'units': 'seconds since 1900-01-01 00:00:00'}"
      ]
     },
     "execution_count": 32,
     "metadata": {},
     "output_type": "execute_result"
    }
   ],
   "source": [
    "# HDF Attributes can be retrieved from every Variable\n",
    "data.read_attributes('date_time', group='observations_table')"
   ]
  },
  {
   "cell_type": "markdown",
   "metadata": {},
   "source": [
    "## CDM Check duplicates\n",
    "\n",
    "This is the typical function we used before for checking if duplicates in date_time and z_coordinate exist."
   ]
  },
  {
   "cell_type": "code",
   "execution_count": 33,
   "metadata": {},
   "outputs": [
    {
     "name": "stdout",
     "output_type": "stream",
     "text": [
      "2020-08-14 16:42:11,656 - upperair.cdm | profile_to_dataframe - INFO - Reading Profile on slice(None, None, None)\n",
      "2020-08-14 16:42:13,545 - upperair.cdm | profile_to_dataframe - DEBUG - Read variables: dict_keys(['observation_value', 'date_time', 'z_coordinate', 'observed_variable', 'source_id', 'z_coordinate_type'])\n",
      "2020-08-14 16:42:25,013 - upperair.cdm | check_cdm_duplicates - INFO - Evaluating for duplicates ... (pandas)\n",
      "Empty DataFrame\n",
      "Columns: [observation_value, date_time, z_coordinate, observed_variable, source_id, z_coordinate_type]\n",
      "Index: []\n"
     ]
    }
   ],
   "source": [
    "print(data.check_cdm_duplicates('observations_table', \n",
    "                          ['observation_value', 'date_time', 'z_coordinate', 'observed_variable', 'source_id', 'z_coordinate_type']\n",
    "                         ))"
   ]
  },
  {
   "cell_type": "markdown",
   "metadata": {},
   "source": [
    "## Availability of data"
   ]
  },
  {
   "cell_type": "code",
   "execution_count": 34,
   "metadata": {},
   "outputs": [
    {
     "data": {
      "image/png": "[encoded data removed]",
      "text/plain": [
       "<Figure size 864x432 with 1 Axes>"
      ]
     },
     "metadata": {
      "needs_background": "light"
     },
     "output_type": "display_data"
    }
   ],
   "source": [
    "plot(data.availability())\n",
    "grid()\n",
    "title('Availability of {}'.format(data.name));"
   ]
  },
  {
   "cell_type": "markdown",
   "metadata": {},
   "source": [
    "## Convert to DataFrame\n",
    "\n",
    "this function is meant to check some data directly, on specific dates or indices\n",
    "\n",
    "* Select Groups, e.g. observations_table, era5fb\n",
    "* select Variable names, e.g. observation_value, ...\n",
    "* select date as string or as index (using date_is_index=True), can be a range too"
   ]
  },
  {
   "cell_type": "code",
   "execution_count": 35,
   "metadata": {},
   "outputs": [
    {
     "name": "stdout",
     "output_type": "stream",
     "text": [
      "2020-08-14 16:42:56,629 - upperair.cdm | make_datetime_slice - DEBUG - Datetime selection: 7738303 - 7759812\n",
      "2020-08-14 16:42:56,630 - upperair.cdm | profile_to_dataframe - INFO - Reading Profile on slice(7738303, 7759812, None)\n",
      "2020-08-14 16:42:56,638 - upperair.cdm | profile_to_dataframe - DEBUG - Read variables: dict_keys(['observation_value', 'date_time', 'z_coordinate', 'observed_variable', 'report_id'])\n",
      "       observation_value   date_time  z_coordinate  observed_variable  \\\n",
      "0             106.000000  3673746229         490.0                106   \n",
      "1              10.000000  3673746229         490.0                107   \n",
      "2              -9.612617  3673746229         490.0                104   \n",
      "3               2.756374  3673746229         490.0                105   \n",
      "4          356118.687500  3673746229         490.0                117   \n",
      "...                  ...         ...           ...                ...   \n",
      "21504         280.000000  3673749600       89900.0                106   \n",
      "21505         282.149994  3673749600       90300.0                 85   \n",
      "21506           4.000000  3673749600       90300.0                107   \n",
      "21507         260.000000  3673749600       90300.0                106   \n",
      "21508           0.000000  3673749600       90300.0                 34   \n",
      "\n",
      "         report_id  \n",
      "0      10000004029  \n",
      "1      10000004029  \n",
      "2      10000004029  \n",
      "3      10000004029  \n",
      "4      10000004029  \n",
      "...            ...  \n",
      "21504  30000003283  \n",
      "21505  30000003283  \n",
      "21506  30000003283  \n",
      "21507  30000003283  \n",
      "21508  30000003283  \n",
      "\n",
      "[21509 rows x 5 columns]\n"
     ]
    }
   ],
   "source": [
    "print(\n",
    "    data.profile_to_dataframe('observations_table', \n",
    "                              ['observation_value', 'date_time', 'z_coordinate', 'observed_variable', 'report_id'], \n",
    "                              '2016-06-01',\n",
    "                              date_is_index=False)\n",
    "     )"
   ]
  },
  {
   "cell_type": "markdown",
   "metadata": {},
   "source": [
    "## Read Observed Variable\n",
    "\n",
    "In the Backend files the variables are currently (2020-08) written in a ragged form.\n",
    "That's why we need to subset.\n",
    "This function is used in the requests from the CDS as well.\n",
    "The functionality is build from `cds_eua2.process_flat`\n",
    "\n",
    "* CDM Code\n",
    "* Date time selection\n",
    "* Pressure levels or None (all)\n",
    "* convert to Xarray ?\n",
    "\n",
    "The Resulting Variable can be a list of "
   ]
  },
  {
   "cell_type": "code",
   "execution_count": 36,
   "metadata": {},
   "outputs": [
    {
     "name": "stdout",
     "output_type": "stream",
     "text": [
      "2020-08-14 16:43:11,392 - upperair.cdm | make_datetime_slice - DEBUG - Datetime selection: 403943 - 18702774\n",
      "2020-08-14 16:43:11,694 - upperair.cdm | read_observed_variable - INFO - [READ] Observed variable 85\n",
      "2020-08-14 16:43:12,337 - upperair.cdm | read_observed_variable - INFO - [READ] pressure levels [  1000   2000   3000   5000   7000  10000  15000  20000  25000  30000\n",
      "  40000  50000  70000  85000  92500 100000]\n",
      "CPU times: user 1.13 s, sys: 343 ms, total: 1.48 s\n",
      "Wall time: 1.44 s\n"
     ]
    },
    {
     "data": {
      "text/plain": [
       "array([213.3 , 210.7 , 211.5 , ..., 257.75, 269.04, 278.37], dtype=float32)"
      ]
     },
     "execution_count": 36,
     "metadata": {},
     "output_type": "execute_result"
    }
   ],
   "source": [
    "%%time \n",
    "data.read_observed_variable(85, \n",
    "                            dates = ['2000-01-01', '2019-12-31'], \n",
    "                            plevs = eua.std_plevs*100, \n",
    "                            times = None\n",
    "                           )\n",
    "# Return just the numpy array"
   ]
  },
  {
   "cell_type": "code",
   "execution_count": 37,
   "metadata": {},
   "outputs": [
    {
     "name": "stdout",
     "output_type": "stream",
     "text": [
      "2020-08-14 16:43:16,910 - upperair.cdm | make_datetime_slice - DEBUG - Datetime selection: 403943 - 18702774\n",
      "2020-08-14 16:43:17,198 - upperair.cdm | read_observed_variable - INFO - [READ] Observed variable 85\n",
      "2020-08-14 16:43:17,430 - upperair.cdm | read_observed_variable - INFO - [READ] pressure levels [  1000   2000   3000   5000   7000  10000  15000  20000  25000  30000\n",
      "  40000  50000  70000  85000  92500 100000]\n",
      "CPU times: user 429 ms, sys: 142 ms, total: 571 ms\n",
      "Wall time: 530 ms\n"
     ]
    },
    {
     "data": {
      "text/plain": [
       "(slice(403943, 18702774, None),\n",
       " array([False, False, False, ..., False, False, False]))"
      ]
     },
     "execution_count": 37,
     "metadata": {},
     "output_type": "execute_result"
    }
   ],
   "source": [
    "%%time \n",
    "data.read_observed_variable(85, \n",
    "                            dates = ['2000-01-01', '2019-12-31'], \n",
    "                            plevs = eua.std_plevs*100, \n",
    "                            times = None,\n",
    "                            return_index = True\n",
    "                           )\n",
    "# Return a time slice and mask. This is used in the CDS requests"
   ]
  },
  {
   "cell_type": "code",
   "execution_count": 38,
   "metadata": {},
   "outputs": [
    {
     "name": "stdout",
     "output_type": "stream",
     "text": [
      "2020-08-14 16:43:20,954 - upperair.cdm | make_datetime_slice - DEBUG - Datetime selection: 403943 - 18702774\n",
      "2020-08-14 16:43:21,249 - upperair.cdm | read_observed_variable - INFO - [READ] Observed variable 85\n",
      "2020-08-14 16:43:21,480 - upperair.cdm | read_observed_variable - INFO - [READ] pressure levels [  1000   2000   3000   5000   7000  10000  15000  20000  25000  30000\n",
      "  40000  50000  70000  85000  92500 100000]\n",
      "CPU times: user 416 ms, sys: 170 ms, total: 586 ms\n",
      "Wall time: 547 ms\n"
     ]
    },
    {
     "data": {
      "text/plain": [
       "(slice(403943, 18702774, None),\n",
       " array([False, False, False, ..., False, False, False]),\n",
       " array([3155886000, 3155886000, 3155886000, ..., 3786673592, 3786673592,\n",
       "        3786673592]),\n",
       " array([ 7000., 10000., 15000., ..., 50000., 70000., 85000.], dtype=float32))"
      ]
     },
     "execution_count": 38,
     "metadata": {},
     "output_type": "execute_result"
    }
   ],
   "source": [
    "%%time \n",
    "data.read_observed_variable(85, \n",
    "                            dates = ['2000-01-01', '2019-12-31'], \n",
    "                            plevs = eua.std_plevs*100, \n",
    "                            times = None,\n",
    "                            return_index = True,\n",
    "                            return_coordinates = True,\n",
    "                           )\n",
    "# Return a time slice, a mask, dates (mask applied) and pressures (mask applied)"
   ]
  },
  {
   "cell_type": "code",
   "execution_count": 39,
   "metadata": {},
   "outputs": [
    {
     "name": "stdout",
     "output_type": "stream",
     "text": [
      "2020-08-14 16:43:23,991 - upperair.cdm | make_datetime_slice - DEBUG - Datetime selection: 403943 - 18702774\n",
      "2020-08-14 16:43:24,288 - upperair.cdm | read_observed_variable - INFO - [READ] Observed variable 85\n",
      "2020-08-14 16:43:24,520 - upperair.cdm | read_observed_variable - INFO - [READ] pressure levels [  1000   2000   3000   5000   7000  10000  15000  20000  25000  30000\n",
      "  40000  50000  70000  85000  92500 100000]\n",
      "2020-08-14 16:43:25,004 - upperair.cdm | read_observed_variable - INFO - [READ] xarray ... (68709,)\n",
      "2020-08-14 16:43:25,016 - upperair.cdm | read_observed_variable - DEBUG - [READ] datetime conversion 68709\n",
      "CPU times: user 875 ms, sys: 214 ms, total: 1.09 s\n",
      "Wall time: 1.05 s\n"
     ]
    }
   ],
   "source": [
    "%%time \n",
    "temp = data.read_observed_variable(85, \n",
    "                                   dates = ['2000-01-01', '2019-12-31'], \n",
    "                                   plevs = eua.std_plevs*100, \n",
    "                                   times = None,                                 \n",
    "                                   return_coordinates = False,\n",
    "                                   return_index = False,\n",
    "                                   return_xarray = True)\n",
    "# return an DataArray"
   ]
  },
  {
   "cell_type": "code",
   "execution_count": 40,
   "metadata": {},
   "outputs": [
    {
     "name": "stdout",
     "output_type": "stream",
     "text": [
      "2020-08-14 16:43:32,643 - upperair.cdm | make_datetime_slice - DEBUG - Datetime selection: 403943 - 18702774\n",
      "2020-08-14 16:43:32,932 - upperair.cdm | read_observed_variable - INFO - [READ] Observed variable 85\n",
      "2020-08-14 16:43:33,162 - upperair.cdm | read_observed_variable - INFO - [READ] pressure levels [  1000   2000   3000   5000   7000  10000  15000  20000  25000  30000\n",
      "  40000  50000  70000  85000  92500 100000]\n",
      "2020-08-14 16:43:34,443 - upperair.cdm | read_observed_variable - INFO - [READ] xarray ... (496,)\n",
      "2020-08-14 16:43:34,449 - upperair.cdm | read_observed_variable - DEBUG - [READ] datetime conversion 496\n",
      "CPU times: user 1.28 s, sys: 611 ms, total: 1.89 s\n",
      "Wall time: 1.85 s\n"
     ]
    }
   ],
   "source": [
    "%%time \n",
    "temp = data.read_observed_variable(85, \n",
    "                                   dates = ['2000-01-01', '2019-12-31'], \n",
    "                                   plevs = eua.std_plevs*100, \n",
    "                                   times = [0, 12],                                 \n",
    "                                   return_coordinates = False,\n",
    "                                   return_index = False,\n",
    "                                   return_xarray = True)\n",
    "# return an DataArray"
   ]
  },
  {
   "cell_type": "code",
   "execution_count": 41,
   "metadata": {},
   "outputs": [
    {
     "name": "stdout",
     "output_type": "stream",
     "text": [
      "<xarray.DataArray 'hour' (obs: 496)>\n",
      "array([12, 12, 12, 12, 12, 12, 12, 12, 12, 12, 12, 12, 12, 12, 12, 12, 12,\n",
      "       12, 12, 12, 12, 12, 12, 12, 12, 12, 12, 12, 12, 12, 12, 12, 12, 12,\n",
      "        0,  0,  0,  0,  0,  0,  0,  0,  0,  0,  0, 12, 12, 12, 12, 12, 12,\n",
      "       12, 12, 12, 12, 12, 12, 12, 12, 12, 12, 12, 12, 12, 12, 12, 12, 12,\n",
      "       12, 12, 12, 12, 12, 12, 12, 12, 12, 12, 12, 12, 12, 12, 12, 12, 12,\n",
      "       12, 12,  0,  0,  0,  0,  0,  0,  0,  0,  0,  0,  0,  0,  0,  0, 12,\n",
      "       12, 12, 12, 12, 12, 12, 12, 12, 12, 12, 12, 12, 12,  0,  0,  0,  0,\n",
      "        0,  0,  0,  0,  0,  0,  0,  0,  0,  0, 12, 12, 12, 12, 12, 12, 12,\n",
      "       12, 12, 12, 12, 12, 12, 12,  0,  0,  0,  0,  0,  0,  0,  0,  0,  0,\n",
      "        0,  0,  0,  0, 12, 12, 12, 12, 12, 12, 12, 12, 12, 12, 12, 12, 12,\n",
      "       12,  0,  0,  0,  0,  0,  0,  0,  0,  0,  0,  0,  0,  0,  0, 12, 12,\n",
      "       12, 12, 12, 12, 12, 12, 12, 12, 12, 12, 12, 12,  0,  0,  0,  0,  0,\n",
      "        0,  0,  0,  0,  0,  0,  0,  0, 12, 12, 12, 12, 12, 12, 12, 12, 12,\n",
      "       12, 12, 12, 12, 12, 23, 23, 23, 23, 23, 23, 23, 23, 23, 23, 23, 23,\n",
      "       23, 23,  0,  0,  0,  0,  0,  0,  0,  0,  0,  0,  0,  0,  0,  0, 12,\n",
      "       12, 12, 12, 12, 12, 12, 12, 12, 12, 12, 12, 12, 12, 11, 11, 11, 11,\n",
      "       11, 11, 11, 11, 11, 11, 11, 11, 11, 12, 12, 12, 12, 12, 12, 12, 12,\n",
      "       12, 12, 12, 12, 12, 12, 12, 12, 12, 12, 12, 12, 12, 12, 12, 12, 12,\n",
      "       12, 12, 12, 12, 12, 12, 12, 12, 12, 12, 12, 12, 12, 12, 12, 12, 12,\n",
      "       12, 12, 12, 12, 12, 12, 12, 12, 12, 12, 12, 12, 12, 12, 12, 12, 12,\n",
      "       12, 12, 12, 12, 12, 12, 12, 12, 12, 12, 12, 12, 12, 12, 12, 12, 12,\n",
      "       12, 12, 12, 12, 12, 12, 12, 12, 12, 12, 12, 12, 12, 12, 12, 12, 12,\n",
      "       12, 12, 12, 12, 12, 12, 12, 12, 12, 12, 12, 12, 12, 12, 12, 12, 12,\n",
      "       12, 12, 12, 12, 12, 12, 12, 12, 12, 12, 12, 12, 12, 12, 12, 12, 12,\n",
      "       12, 12, 12, 12, 12, 12, 12, 12, 12, 11, 11, 11, 11, 11, 11, 11, 11,\n",
      "       11, 11, 11, 11, 11, 11, 12, 12, 12, 12, 12, 12, 12, 12, 12, 12, 12,\n",
      "       12, 12, 12, 12, 12, 12, 12, 12, 12, 12, 12, 12, 12, 12, 12, 12, 12,\n",
      "       12, 12, 12, 12, 12, 12, 12, 12, 12, 12, 12, 12, 12, 12, 12, 12, 12,\n",
      "       12, 12, 12, 12, 12, 12, 12, 12, 12, 12, 12, 12, 12, 12, 12, 12, 12,\n",
      "       12, 12, 12])\n",
      "Coordinates:\n",
      "  * obs           (obs) MultiIndex\n",
      "  - date_time     (obs) datetime64[ns] 2000-01-03T12:00:00 ... 2018-09-24T12:...\n",
      "  - z_coordinate  (obs) float64 5e+03 7e+03 1e+04 ... 5e+04 7e+04 8.5e+04\n"
     ]
    }
   ],
   "source": [
    "# only 0 or 12\n",
    "print(temp.date_time.dt.hour)"
   ]
  },
  {
   "cell_type": "markdown",
   "metadata": {},
   "source": [
    "### Add CF Attributes"
   ]
  },
  {
   "cell_type": "code",
   "execution_count": 42,
   "metadata": {},
   "outputs": [],
   "source": [
    "temp.attrs.update(*eua.get_attributes(cdmname='temperature').values())"
   ]
  },
  {
   "cell_type": "code",
   "execution_count": 43,
   "metadata": {},
   "outputs": [
    {
     "name": "stdout",
     "output_type": "stream",
     "text": [
      "<xarray.DataArray (obs: 496)>\n",
      "array([209.05, 213.25, 210.65, 211.45, 208.05, 214.05, 222.85, 238.45,\n",
      "       252.25, 268.45, 277.35, 222.45, 205.05, 199.85, 203.85, 204.65,\n",
      "       210.25, 207.45, 214.25, 211.65, 220.45, 233.25, 244.65, 255.05,\n",
      "       266.05, 212.45, 213.85, 211.65, 214.45, 225.05, 240.85, 253.25,\n",
      "       270.65, 278.75, 194.3 , 198.7 , 203.5 , 210.1 , 205.9 , 212.3 ,\n",
      "       221.1 , 237.7 , 248.3 , 265.1 , 273.4 , 216.85, 213.25, 215.65,\n",
      "       213.25, 211.45, 210.45, 216.45, 226.25, 222.45, 224.65, 237.65,\n",
      "       249.85, 267.65, 276.75, 209.65, 212.45, 210.25, 212.45, 213.65,\n",
      "       213.85, 217.45, 213.65, 216.85, 226.45, 237.65, 250.65, 268.25,\n",
      "       274.75, 222.65, 211.05, 212.05, 213.65, 213.65, 211.45, 216.85,\n",
      "       209.65, 212.45, 223.25, 237.25, 250.25, 263.45, 273.55, 211.9 ,\n",
      "       211.7 , 210.9 , 212.1 , 213.5 , 217.1 , 224.9 , 229.5 , 227.1 ,\n",
      "       223.9 , 232.3 , 245.7 , 263.9 , 275.8 , 207.9 , 212.7 , 211.5 ,\n",
      "       211.5 , 213.1 , 215.9 , 221.1 , 225.9 , 226.9 , 228.1 , 236.5 ,\n",
      "       246.5 , 264.7 , 272.9 , 207.9 , 208.9 , 209.5 , 211.1 , 213.5 ,\n",
      "       215.5 , 218.1 , 222.9 , 225.7 , 231.1 , 241.7 , 249.5 , 266.5 ,\n",
      "       273.8 , 211.5 , 208.7 , 209.9 , 212.7 , 212.5 , 214.5 , 219.9 ,\n",
      "       226.5 , 226.5 , 225.1 , 238.5 , 252.1 , 267.7 , 275.6 , 211.7 ,\n",
      "       210.1 , 208.3 , 210.9 , 211.1 , 210.5 , 208.1 , 208.5 , 218.9 ,\n",
      "       228.1 , 244.3 , 255.3 , 273.4 , 283.4 , 211.9 , 210.1 , 209.9 ,\n",
      "...\n",
      "       214.5 , 224.9 , 240.9 , 252.5 , 267.5 , 275.8 , 228.85, 231.25,\n",
      "       223.65, 220.25, 218.85, 218.05, 222.05, 220.05, 220.05, 223.45,\n",
      "       239.65, 249.85, 261.25, 271.45, 225.65, 217.45, 217.05, 217.65,\n",
      "       215.85, 215.85, 217.05, 215.45, 212.85, 222.85, 240.65, 252.85,\n",
      "       271.05, 285.35, 226.25, 217.45, 216.85, 216.05, 216.85, 216.25,\n",
      "       219.25, 213.45, 215.05, 225.65, 241.05, 253.85, 272.45, 285.55,\n",
      "       225.05, 219.65, 218.85, 217.25, 215.05, 216.05, 219.65, 216.25,\n",
      "       216.65, 224.45, 239.45, 252.25, 269.05, 275.75, 218.93, 214.6 ,\n",
      "       215.22, 218.03, 215.29, 225.17, 235.46, 251.53, 262.31, 275.81,\n",
      "       285.39, 235.56, 227.13, 221.95, 218.26, 215.25, 214.25, 222.53,\n",
      "       222.64, 223.06, 233.  , 250.18, 262.54, 277.34, 287.4 , 235.45,\n",
      "       227.05, 221.85, 218.25, 215.05, 214.25, 222.45, 222.45, 223.05,\n",
      "       232.85, 250.05, 262.45, 277.15, 287.35, 227.05, 219.65, 219.05,\n",
      "       218.05, 219.65, 216.45, 217.25, 214.65, 220.65, 229.45, 244.85,\n",
      "       256.25, 273.15, 281.75, 212.25, 211.45, 210.85, 211.45, 209.05,\n",
      "       209.45, 207.85, 210.45, 220.25, 229.85, 246.85, 260.05, 275.35,\n",
      "       285.95, 231.85, 223.85, 220.85, 220.05, 217.05, 215.05, 214.45,\n",
      "       213.65, 224.85, 234.45, 250.65, 262.65, 278.75, 290.75, 212.85,\n",
      "       215.05, 221.45, 226.05, 232.45, 246.65, 256.85, 264.25, 272.85],\n",
      "      dtype=float32)\n",
      "Coordinates:\n",
      "  * obs           (obs) MultiIndex\n",
      "  - date_time     (obs) datetime64[ns] 2000-01-03T12:00:00 ... 2018-09-24T12:...\n",
      "  - z_coordinate  (obs) float64 5e+03 7e+03 1e+04 ... 5e+04 7e+04 8.5e+04\n",
      "Attributes:\n",
      "    cdmname:        observations_table/observation_value\n",
      "    units:          K\n",
      "    shortname:      ta\n",
      "    coordinates:    lat lon time plev\n",
      "    standard_name:  air_temperature\n",
      "    cdsname:        temperature\n",
      "    cdmcode:        85\n",
      "    odbcode:        2\n"
     ]
    }
   ],
   "source": [
    "print(temp)"
   ]
  },
  {
   "cell_type": "markdown",
   "metadata": {},
   "source": [
    "## HUG Webserver Request"
   ]
  },
  {
   "cell_type": "code",
   "execution_count": 44,
   "metadata": {},
   "outputs": [],
   "source": [
    "cftable = eua.read_standardnames()"
   ]
  },
  {
   "cell_type": "code",
   "execution_count": 45,
   "metadata": {},
   "outputs": [
    {
     "name": "stdout",
     "output_type": "stream",
     "text": [
      "2020-08-14 16:44:03,416 - upperair.cdm | make_datetime_slice - DEBUG - Datetime selection: 403943 - 18702774\n",
      "2020-08-14 16:44:03,700 - upperair.cdm | read_observed_variable - INFO - [READ] Observed variable 85\n",
      "2020-08-14 16:44:03,900 - upperair.cdm | read_observed_variable - INFO - [READ] pressure levels [50000, 85000]\n",
      "2020-08-14 16:44:03,907 - upperair.cdm | read_write_request - DEBUG - Datetime selection: 403943 - 18702774 [ 0.49 s] 0-20000-0-10962_CEUAS_merged_v0.nc\n",
      "2020-08-14 16:44:03,912 - upperair.cdm | read_write_request - DEBUG - Data found: 10123 0-20000-0-10962_CEUAS_merged_v0.nc\n",
      "2020-08-14 16:44:03,916 - upperair.cdm | read_write_request - DEBUG - Request-keys: dict_keys(['variable', 'date', 'pressure_levels'])\n",
      "2020-08-14 16:44:03,916 - upperair.cdm | read_write_request - DEBUG - Writing: test.nc\n",
      "2020-08-14 16:44:05,149 - upperair.cdm | do_cfcopy - WARNING - slow copy: observations_table 1.229170 s\n",
      "2020-08-14 16:44:05,156 - upperair.cdm | read_write_request - DEBUG - Group observations_table copied [ 1.74 s]\n",
      "2020-08-14 16:44:05,157 - upperair.cdm | read_write_request - DEBUG - Group era5fb copied [ 1.74 s]\n",
      "2020-08-14 16:44:05,164 - upperair.cdm | read_write_request - DEBUG - Group header_table copied [ 1.75 s]\n",
      "2020-08-14 16:44:05,168 - upperair.cdm | read_write_request - DEBUG - Finished 0-20000-0-10962_CEUAS_merged_v0.nc [ 1.75 s]\n"
     ]
    }
   ],
   "source": [
    "# Typical request that is forwarded from CDS\n",
    "data.read_write_request('test.nc', \n",
    "                        {'variable': ['temperature'], \n",
    "                         'date':['2000-01-01', '2019-12-31'], \n",
    "                         'pressure_levels': [50000, 85000]\n",
    "                        }, \n",
    "                        cftable)"
   ]
  },
  {
   "cell_type": "code",
   "execution_count": 46,
   "metadata": {},
   "outputs": [
    {
     "name": "stdout",
     "output_type": "stream",
     "text": [
      "2020-08-14 16:44:07,053 - upperair.cdm | __init__ - DEBUG - [OPEN] test.nc\n",
      "Filename: test.nc\n",
      "(G)roups/(V)ariables: \n",
      "\n",
      " - V | lat__________________________________________ : : (10123,)\n",
      " - V | lon__________________________________________ : : (10123,)\n",
      " - V | obs__________________________________________ : : (10123,)\n",
      " - V | plev_________________________________________ : : (10123,)\n",
      " - V | string14_____________________________________ : : (14,)\n",
      " - V | ta___________________________________________ : : (10123,)\n",
      " - V | time_________________________________________ : : (10123,)\n",
      " - V | trajectory___________________________________ : : (5067,)\n",
      " - V | trajectory_index_____________________________ : : (10123,)\n",
      " - V | trajectory_label_____________________________ : : (5067, 14)\n",
      "################################################################################\n",
      "2020-08-14 16:44:07,061 - upperair.cdm | make_datetime_slice - DEBUG - Datetime selection: 0 - 10123\n",
      "2020-08-14 16:44:07,064 - upperair.cdm | read_variable - INFO - [READ] plev : [  1000   2000   3000   5000   7000  10000  15000  20000  25000  30000\n",
      "  40000  50000  70000  85000  92500 100000] [Pa]\n",
      "2020-08-14 16:44:07,066 - upperair.cdm | read_data_to_cube - INFO - [CUBE] ta (5067, 16)\n",
      "{'ta': <xarray.DataArray 'ta' (time: 5067, plev: 16)>\n",
      "array([[   nan,    nan,    nan, ..., 277.4 ,    nan,    nan],\n",
      "       [   nan,    nan,    nan, ..., 277.35,    nan,    nan],\n",
      "       [   nan,    nan,    nan, ..., 274.2 ,    nan,    nan],\n",
      "       ...,\n",
      "       [   nan,    nan,    nan, ..., 272.64,    nan,    nan],\n",
      "       [   nan,    nan,    nan, ..., 273.1 ,    nan,    nan],\n",
      "       [   nan,    nan,    nan, ..., 278.37,    nan,    nan]],\n",
      "      dtype=float32)\n",
      "Coordinates:\n",
      "  * time     (time) datetime64[ns] 2000-01-03T11:00:00 ... 2019-12-30T05:46:32\n",
      "  * plev     (plev) int64 1000 2000 3000 5000 7000 ... 70000 85000 92500 100000\n",
      "Attributes:\n",
      "    cdmname:        observations_table/observation_value\n",
      "    cdsname:        temperature\n",
      "    coordinates:    lat lon time plev\n",
      "    description:    The observed value\n",
      "    standard_name:  air_temperature\n",
      "    units:          K}\n",
      "2020-08-14 16:44:07,073 - upperair.cdm | close - DEBUG - [CLOSED] test.nc\n"
     ]
    }
   ],
   "source": [
    "with eua.CDMDataset('test.nc') as new:\n",
    "    print(new)\n",
    "    print('#'*80)\n",
    "    print(new.read_data_to_cube('ta'))"
   ]
  },
  {
   "cell_type": "code",
   "execution_count": 48,
   "metadata": {},
   "outputs": [
    {
     "name": "stdout",
     "output_type": "stream",
     "text": [
      "<xarray.Dataset>\n",
      "Dimensions:           (obs: 10123, string14: 14, trajectory: 5067)\n",
      "Coordinates:\n",
      "    lat               (obs) float32 ...\n",
      "    lon               (obs) float32 ...\n",
      "  * obs               (obs) int32 0 0 0 0 0 0 0 0 0 0 0 ... 0 0 0 0 0 0 0 0 0 0\n",
      "    plev              (obs) float32 ...\n",
      "  * string14          (string14) |S1 b'' b'' b'' b'' b'' ... b'' b'' b'' b'' b''\n",
      "    time              (obs) datetime64[ns] ...\n",
      "  * trajectory        (trajectory) int32 0 0 0 0 0 0 0 0 0 ... 0 0 0 0 0 0 0 0 0\n",
      "Data variables:\n",
      "    ta                (obs) float32 ...\n",
      "    trajectory_index  (obs) int32 ...\n",
      "    trajectory_label  (trajectory, string14) |S1 ...\n",
      "Attributes:\n",
      "    Conventions:  CF-1.7\n",
      "    source:       radiosonde\n",
      "    featureType:  trajectory\n",
      "    history:      Created by Copernicus Early Upper Air Service Version 0, 14...\n",
      "    license:      https://apps.ecmwf.int/datasets/licences/copernicus/\n"
     ]
    }
   ],
   "source": [
    "# Read with Xarray\n",
    "import xarray as xr\n",
    "print(xr.open_dataset('test.nc'))"
   ]
  },
  {
   "cell_type": "markdown",
   "metadata": {},
   "source": [
    "## Write data to observed variable\n",
    "\n",
    "* Create a new group `adjust`\n",
    "* Add Variable `adjusted_value` to this group\n",
    "* The new variable is aligned with `observed_variable==85`, temperature"
   ]
  },
  {
   "cell_type": "code",
   "execution_count": 49,
   "metadata": {},
   "outputs": [
    {
     "name": "stdout",
     "output_type": "stream",
     "text": [
      "2020-08-14 16:44:37,025 - upperair.cdm | make_datetime_slice - DEBUG - Datetime selection: 0 - 18702774\n",
      "2020-08-14 16:44:37,315 - upperair.cdm | read_observed_variable - INFO - [READ] Observed variable 85\n",
      "2020-08-14 16:44:38,014 - upperair.cdm | read_observed_variable - INFO - [READ] xarray ... (2166471,)\n",
      "2020-08-14 16:44:38,115 - upperair.cdm | read_observed_variable - DEBUG - [READ] datetime conversion 2166471\n"
     ]
    }
   ],
   "source": [
    "xyz = data.read_observed_variable(85, return_xarray=True)"
   ]
  },
  {
   "cell_type": "code",
   "execution_count": 50,
   "metadata": {},
   "outputs": [
    {
     "name": "stdout",
     "output_type": "stream",
     "text": [
      "<xarray.DataArray (obs: 2166471)>\n",
      "array([215.3 , 212.7 , 209.1 , ..., 277.5 , 277.34, 277.2 ], dtype=float32)\n",
      "Coordinates:\n",
      "  * obs           (obs) MultiIndex\n",
      "  - date_time     (obs) datetime64[ns] 1980-11-17T12:00:00 ... 2019-12-30T05:...\n",
      "  - z_coordinate  (obs) float64 840.0 1e+03 1.29e+03 ... 9.17e+04 9.181e+04\n"
     ]
    }
   ],
   "source": [
    "print(xyz)"
   ]
  },
  {
   "cell_type": "code",
   "execution_count": 51,
   "metadata": {},
   "outputs": [
    {
     "name": "stdout",
     "output_type": "stream",
     "text": [
      "Help on method write_observed_data in module cds_eua3:\n",
      "\n",
      "write_observed_data(name: str, varnum: int, cube: xarray.core.dataarray.DataArray = None, ragged=None, group: str = None, variable: str = 'observation_value', dimgroup: str = 'observations_table', data_time: str = 'time', data_plevs: str = 'plev', force_replace: bool = False, attributes: dict = None, interpolate: bool = False, interpolate_datetime: bool = False, extrapolate_time: bool = True, extrapolate_plevs: bool = False, **kwargs) method of cds_eua3.CDMDataset instance\n",
      "    Write a DataCube or a Table (DataArray, DataFrame) with Multiindex to CDMBackend file\n",
      "    \n",
      "    Args:\n",
      "        name: name of variable to write to\n",
      "        cube: Cube input data\n",
      "        ragged: Table input data\n",
      "        varnum: observed variable CDM Code\n",
      "        group: new Group\n",
      "        variable: Variable Name\n",
      "        dimgroup: Variable group\n",
      "        data_time: time dimension input name\n",
      "        data_plevs: pressure dimension input name\n",
      "        force_replace: overwrite string array due to shape missmatch?\n",
      "        attributes: add Attributes to HDF variable\n",
      "    \n",
      "    Examples:\n",
      "        Write an adjusted temperature to a CDM Backend file within a new group mytests that is align\n",
      "        with 85 temperature. data is a ragged table\n",
      "        >>> data = self.read_observed_variable(85)\n",
      "        >>> write_observed_data('temperature_adjust', ragged=data, varnum=85, variable='observation_value',\n",
      "        >>>               group='mytests')\n",
      "\n"
     ]
    }
   ],
   "source": [
    "help(data.write_observed_data)"
   ]
  },
  {
   "cell_type": "code",
   "execution_count": 53,
   "metadata": {},
   "outputs": [
    {
     "name": "stdout",
     "output_type": "stream",
     "text": [
      "2020-08-14 16:45:53,054 - upperair.cdm | reopen - WARNING - reopen [r+] Copy file to /raid8/srvx1/mblaschek/tmp/0-20000-0-10962_CEUAS_merged_v0.nc\n",
      "2020-08-14 16:45:53,055 - upperair.cdm | reopen - DEBUG - reopen /raid8/srvx1/mblaschek/tmp/0-20000-0-10962_CEUAS_merged_v0.nc [r+]\n",
      "2020-08-14 16:45:53,101 - upperair.cdm | make_datetime_slice - DEBUG - Datetime selection: 0 - 18702774\n",
      "2020-08-14 16:45:53,117 - upperair.cdm | read_observed_variable - INFO - [READ] Observed variable 85\n",
      "2020-08-14 16:45:57,270 - upperair.cdm | write_observed_data - INFO - All dates found\n",
      "2020-08-14 16:45:57,314 - upperair.cdm | write_observed_data - INFO - Creating Dataset adjusted_value (observations_table/observation_value, (18702774,))\n",
      "2020-08-14 16:45:57,984 - upperair.cdm | write_observed_data - INFO - Finsihed writing adjusted_value to 0-20000-0-10962_CEUAS_merged_v0.nc\n"
     ]
    }
   ],
   "source": [
    "# We can write a DataCube or a Ragged Array to the file\n",
    "data.write_observed_data('adjusted_value',\n",
    "                         ragged=xyz,  # input data\n",
    "                         varnum=85,  # observed_variable to be aligned with\n",
    "                         group='adjust',   # name of the new group\n",
    "                         data_time='date_time',  # named datetime coordinate\n",
    "                         data_plevs='z_coordinate'  # named pressure coordinate\n",
    "                        )"
   ]
  },
  {
   "cell_type": "code",
   "execution_count": 54,
   "metadata": {},
   "outputs": [
    {
     "data": {
      "text/plain": [
       "Filename: /raid8/srvx1/mblaschek/tmp/0-20000-0-10962_CEUAS_merged_v0.nc\n",
       "(G)roups/(V)ariables: \n",
       "\n",
       " - G | crs__________________________________________ : : 6\n",
       " - V | dateindex____________________________________ : : (4155,)\n",
       " - G | era5fb_______________________________________ : : 74\n",
       " - G | header_table_________________________________ : : 55\n",
       " - G | observations_table___________________________ : : 51\n",
       " - G | observed_variable____________________________ : : 11\n",
       " - V | recordindex__________________________________ :L: (7314,)\n",
       " - V | recordtimestamp______________________________ :L: (7314,)\n",
       " - G | source_configuration_________________________ : : 4\n",
       " - G | station_configuration_codes__________________ : : 9\n",
       " - G | station_type_________________________________ : : 6\n",
       " - G | units________________________________________ : : 8\n",
       " - G | z_coordinate_type____________________________ : : 6\n",
       " - G | adjust_______________________________________ : : 2"
      ]
     },
     "execution_count": 54,
     "metadata": {},
     "output_type": "execute_result"
    }
   ],
   "source": [
    "data"
   ]
  },
  {
   "cell_type": "code",
   "execution_count": 55,
   "metadata": {},
   "outputs": [
    {
     "data": {
      "text/plain": [
       "adjust:\n",
       "\n",
       "adjusted_value____________________________________ :L: (18702774,)\n",
       "index_____________________________________________ : : (18702774,)"
      ]
     },
     "execution_count": 55,
     "metadata": {},
     "output_type": "execute_result"
    }
   ],
   "source": [
    "# The index, which is the dimension is copied from observations_table, as every group needs an index variable\n",
    "# of course the data is loaded when written.\n",
    "data.adjust"
   ]
  },
  {
   "cell_type": "code",
   "execution_count": 59,
   "metadata": {},
   "outputs": [
    {
     "data": {
      "text/plain": [
       "array([  nan,   nan,   nan,   nan, 215.3,   nan,   nan,   nan,   nan,\n",
       "         nan, 212.7,   nan,   nan,   nan,   nan,   nan,   nan,   nan,\n",
       "         nan,   nan,   nan,   nan,   nan, 209.1,   nan,   nan,   nan,\n",
       "         nan,   nan,   nan], dtype=float32)"
      ]
     },
     "execution_count": 59,
     "metadata": {},
     "output_type": "execute_result"
    }
   ],
   "source": [
    "# only data when 85 == temperature\n",
    "data.adjust.adjusted_value[:30]"
   ]
  },
  {
   "cell_type": "code",
   "execution_count": 58,
   "metadata": {},
   "outputs": [
    {
     "data": {
      "text/plain": [
       "array([106, 107, 104, 105,  85, 106, 107, 104, 105, 117,  85, 106, 107,\n",
       "       104, 105, 106, 107, 104, 105, 106, 107, 104, 105,  85, 106, 107,\n",
       "       104, 105, 106, 107])"
      ]
     },
     "execution_count": 58,
     "metadata": {},
     "output_type": "execute_result"
    }
   ],
   "source": [
    "data.observations_table.observed_variable[:30]"
   ]
  },
  {
   "cell_type": "markdown",
   "metadata": {},
   "source": [
    "## Read data to cube"
   ]
  },
  {
   "cell_type": "code",
   "execution_count": 60,
   "metadata": {},
   "outputs": [
    {
     "name": "stdout",
     "output_type": "stream",
     "text": [
      "2020-08-14 16:47:27,785 - upperair.cdm | read_data_to_cube - INFO - Reading ... 85  temperature\n",
      "2020-08-14 16:47:27,786 - upperair.cdm | make_datetime_slice - DEBUG - Datetime selection: 0 - 18702774\n",
      "2020-08-14 16:47:27,814 - upperair.cdm | read_observed_variable - INFO - [READ] Observed variable 85\n",
      "2020-08-14 16:47:27,864 - upperair.cdm | read_observed_variable - INFO - [READ] pressure levels [  1000   2000   3000   5000   7000  10000  15000  20000  25000  30000\n",
      "  40000  50000  70000  85000  92500 100000]\n",
      "2020-08-14 16:47:27,879 - upperair.cdm | read_data_to_cube - INFO - [CUBE] Variable Group 85 slice(0, 18702774, None) (92433,)\n",
      "2020-08-14 16:47:27,890 - upperair.cdm | read_data_to_cube - INFO - [CUBE] temperature (7081, 16)\n",
      "CPU times: user 309 ms, sys: 62 ms, total: 371 ms\n",
      "Wall time: 539 ms\n"
     ]
    }
   ],
   "source": [
    "%time tcube = data.read_data_to_cube('temperature') # returns a dictionary if multiple variables are requested"
   ]
  },
  {
   "cell_type": "code",
   "execution_count": 61,
   "metadata": {},
   "outputs": [
    {
     "name": "stdout",
     "output_type": "stream",
     "text": [
      "<xarray.DataArray 'temperature' (time: 7081, plev: 16)>\n",
      "array([[212.7 , 210.7 , 207.5 , ...,    nan,    nan,    nan],\n",
      "       [209.5 , 209.9 , 209.9 , ..., 282.  ,    nan,    nan],\n",
      "       [214.7 , 211.9 , 209.9 , ..., 285.4 ,    nan,    nan],\n",
      "       ...,\n",
      "       [221.62, 219.88, 214.9 , ..., 272.64,    nan,    nan],\n",
      "       [226.81, 222.36, 221.43, ..., 273.1 ,    nan,    nan],\n",
      "       [223.23, 215.17, 217.14, ..., 278.37,    nan,    nan]],\n",
      "      dtype=float32)\n",
      "Coordinates:\n",
      "  * time     (time) datetime64[ns] 1980-11-17T12:00:00 ... 2019-12-30T05:46:32\n",
      "  * plev     (plev) int64 1000 2000 3000 5000 7000 ... 70000 85000 92500 100000\n",
      "Attributes:\n",
      "    cdmname:        observations_table/observation_value\n",
      "    units:          K\n",
      "    shortname:      ta\n",
      "    coordinates:    lat lon time plev\n",
      "    standard_name:  air_temperature\n",
      "    cdsname:        temperature\n",
      "    cdmcode:        85\n",
      "    odbcode:        2\n"
     ]
    }
   ],
   "source": [
    "print(tcube['temperature'])"
   ]
  },
  {
   "cell_type": "code",
   "execution_count": 62,
   "metadata": {},
   "outputs": [
    {
     "name": "stdout",
     "output_type": "stream",
     "text": [
      "<xarray.DataArray 'time' (time: 7081)>\n",
      "array(['1980-11-17T12:00:00.000000000', '1980-11-21T06:00:00.000000000',\n",
      "       '1980-11-24T06:00:00.000000000', ..., '2019-12-25T05:52:36.000000000',\n",
      "       '2019-12-27T05:58:29.000000000', '2019-12-30T05:46:32.000000000'],\n",
      "      dtype='datetime64[ns]')\n",
      "Coordinates:\n",
      "  * time     (time) datetime64[ns] 1980-11-17T12:00:00 ... 2019-12-30T05:46:32\n"
     ]
    }
   ],
   "source": [
    "print(tcube['temperature'].time)"
   ]
  },
  {
   "cell_type": "code",
   "execution_count": 63,
   "metadata": {},
   "outputs": [
    {
     "data": {
      "text/plain": [
       "observations_table:\n",
       "\n",
       "adjustment_id_____________________________________ : : (18702774,)\n",
       "advanced_assimilation_feedback____________________ : : (18702774,)\n",
       "advanced_homogenisation___________________________ : : (18702774,)\n",
       "advanced_qc_______________________________________ : : (18702774,)\n",
       "advanced_uncertainty______________________________ : : (18702774,)\n",
       "bbox_max_latitude_________________________________ : : (18702774,)\n",
       "bbox_max_longitude________________________________ : : (18702774,)\n",
       "bbox_min_latitude_________________________________ : : (18702774,)\n",
       "bbox_min_longitude________________________________ : : (18702774,)\n",
       "code_table________________________________________ : : (18702774,)\n",
       "conversion_flag___________________________________ : : (18702774,)\n",
       "conversion_method_________________________________ : : (18702774,)\n",
       "crs_______________________________________________ : : (18702774,)\n",
       "data_policy_licence_______________________________ : : (18702774,)\n",
       "date_time_________________________________________ :L: (18702774,)\n",
       "date_time_meaning_________________________________ : : (18702774,)\n",
       "exposure_of_sensor________________________________ : : (18702774,)\n",
       "index_____________________________________________ : : (18702774,)\n",
       "latitude__________________________________________ : : (18702774,)\n",
       "location_method___________________________________ : : (18702774,)\n",
       "location_precision________________________________ : : (18702774,)\n",
       "longitude_________________________________________ : : (18702774,)\n",
       "numerical_precision_______________________________ : : (18702774,)\n",
       "observation_duration______________________________ : : (18702774,)\n",
       "observation_height_above_station_surface__________ : : (18702774,)\n",
       "observation_id____________________________________ : : (18702774, 11)\n",
       "observation_value_________________________________ :L: (18702774,)\n",
       "observed_variable_________________________________ :L: (18702774,)\n",
       "original_code_table_______________________________ : : (18702774,)\n",
       "original_precision________________________________ : : (18702774,)\n",
       "original_units____________________________________ : : (18702774,)\n",
       "original_value____________________________________ : : (18702774,)\n",
       "processing_level__________________________________ : : (18702774,)\n",
       "quality_flag______________________________________ : : (18702774,)\n",
       "report_id_________________________________________ : : (18702774, 11)\n",
       "secondary_value___________________________________ : : (18702774,)\n",
       "secondary_variable________________________________ : : (18702774,)\n",
       "sensor_automation_status__________________________ : : (18702774,)\n",
       "sensor_id_________________________________________ : : (18702774,)\n",
       "source_id_________________________________________ : : (18702774, 6)\n",
       "spatial_representativeness________________________ : : (18702774,)\n",
       "string11__________________________________________ : : (11,)\n",
       "string6___________________________________________ : : (6,)\n",
       "traceability______________________________________ : : (18702774,)\n",
       "units_____________________________________________ : : (18702774,)\n",
       "value_significance________________________________ : : (18702774,)\n",
       "z_coordinate______________________________________ :L: (18702774,)\n",
       "z_coordinate_method_______________________________ : : (18702774,)\n",
       "z_coordinate_type_________________________________ : : (18702774,)"
      ]
     },
     "execution_count": 63,
     "metadata": {},
     "output_type": "execute_result"
    }
   ],
   "source": [
    "# Notice that the coordinate variables are loaded now\n",
    "# as well as the observed_variable and observation_value\n",
    "data.observations_table"
   ]
  },
  {
   "cell_type": "markdown",
   "metadata": {},
   "source": [
    "## Write data cube"
   ]
  },
  {
   "cell_type": "code",
   "execution_count": 64,
   "metadata": {},
   "outputs": [
    {
     "name": "stdout",
     "output_type": "stream",
     "text": [
      "2020-08-14 16:49:02,685 - upperair.cdm | write_observed_data - DEBUG - File mode: [r+] 0-20000-0-10962_CEUAS_merged_v0.nc\n",
      "2020-08-14 16:49:02,687 - upperair.cdm | make_datetime_slice - DEBUG - Datetime selection: 0 - 18702774\n",
      "2020-08-14 16:49:02,703 - upperair.cdm | read_observed_variable - INFO - [READ] Observed variable 85\n",
      "2020-08-14 16:49:02,842 - upperair.cdm | write_observed_data - INFO - All dates found\n",
      "2020-08-14 16:49:02,877 - upperair.cdm | write_observed_data - INFO - Creating Dataset bias_cube (observations_table/observation_value, (18702774,))\n",
      "2020-08-14 16:49:03,355 - upperair.cdm | write_observed_data - INFO - Finsihed writing bias_cube to 0-20000-0-10962_CEUAS_merged_v0.nc\n"
     ]
    }
   ],
   "source": [
    "data.write_observed_data('bias_cube',85, cube=tcube['temperature'],group='adjust')"
   ]
  },
  {
   "cell_type": "code",
   "execution_count": 65,
   "metadata": {},
   "outputs": [
    {
     "data": {
      "text/plain": [
       "adjust:\n",
       "\n",
       "adjusted_value____________________________________ :L: (18702774,)\n",
       "index_____________________________________________ : : (18702774,)\n",
       "bias_cube_________________________________________ :L: (18702774,)"
      ]
     },
     "execution_count": 65,
     "metadata": {},
     "output_type": "execute_result"
    }
   ],
   "source": [
    "data.adjust"
   ]
  },
  {
   "cell_type": "code",
   "execution_count": 66,
   "metadata": {},
   "outputs": [
    {
     "name": "stdout",
     "output_type": "stream",
     "text": [
      "2020-08-14 16:49:41,259 - upperair.cdm | write_observed_data - DEBUG - File mode: [r+] 0-20000-0-10962_CEUAS_merged_v0.nc\n",
      "2020-08-14 16:49:41,261 - upperair.cdm | make_datetime_slice - DEBUG - Datetime selection: 0 - 18702774\n",
      "2020-08-14 16:49:41,287 - upperair.cdm | read_observed_variable - INFO - [READ] Observed variable 85\n",
      "2020-08-14 16:49:41,430 - upperair.cdm | write_observed_data - INFO - All dates found\n",
      "2020-08-14 16:49:41,467 - upperair.cdm | write_observed_data - INFO - Interpolation: 2166471 < 92433\n",
      "2020-08-14 16:50:03,167 - upperair.cdm | write_observed_data - INFO - Post-Interpolation: 2166471 < 2059653\n",
      "2020-08-14 16:50:03,170 - upperair.cdm | write_observed_data - INFO - Creating Dataset bias_cube_int (observations_table/observation_value, (18702774,))\n",
      "2020-08-14 16:50:03,866 - upperair.cdm | write_observed_data - INFO - Finsihed writing bias_cube_int to 0-20000-0-10962_CEUAS_merged_v0.nc\n"
     ]
    }
   ],
   "source": [
    "data.write_observed_data('bias_cube_int',85, cube=tcube['temperature'],group='adjust', interpolate=True)"
   ]
  },
  {
   "cell_type": "code",
   "execution_count": 7,
   "metadata": {},
   "outputs": [],
   "source": [
    "import pandas as pd\n",
    "pd.set_option('display.max_columns', None, 'display.max_rows', None, 'display.expand_frame_repr', False)"
   ]
  },
  {
   "cell_type": "code",
   "execution_count": 86,
   "metadata": {},
   "outputs": [
    {
     "name": "stdout",
     "output_type": "stream",
     "text": [
      "2020-08-14 16:58:29,788 - upperair.cdm | make_datetime_slice - DEBUG - Datetime selection: 3489315 - 3511260\n",
      "2020-08-14 16:58:29,789 - upperair.cdm | profile_to_dataframe - INFO - Reading Profile on slice(3489315, 3511260, None)\n",
      "2020-08-14 16:58:29,789 - upperair.cdm | profile_to_dataframe - DEBUG - Read variables: dict_keys(['adjusted_value', 'bias_cube', 'bias_cube_int', 'observed_variable', 'z_coordinate', 'date_time'])\n",
      "     adjusted_value   bias_cube  bias_cube_int  observed_variable  z_coordinate   date_time\n",
      "0        226.449997         NaN            NaN                 85         570.0  3629163600\n",
      "4        225.649994         NaN            NaN                 85         590.0  3629163600\n",
      "8        223.649994         NaN            NaN                 85         680.0  3629163600\n",
      "14       215.149994         NaN            NaN                 85         820.0  3629163600\n",
      "20       217.449997         NaN            NaN                 85         920.0  3629163600\n",
      "42       209.050003         NaN            NaN                 85        1730.0  3629163600\n",
      "56       212.149994         NaN            NaN                 85        2530.0  3629163600\n",
      "64       208.649994         NaN            NaN                 85        2860.0  3629163600\n",
      "82       213.449997         NaN            NaN                 85        4580.0  3629163600\n",
      "86       211.149994         NaN            NaN                 85        4920.0  3629163600\n",
      "90       211.649994         NaN            NaN                 85        5150.0  3629163600\n",
      "98       214.750000         NaN            NaN                 85        5890.0  3629163600\n",
      "106      210.449997         NaN            NaN                 85        6370.0  3629163600\n",
      "126      213.050003  213.050003     213.050003                 85       10000.0  3629163600\n",
      "135      209.649994         NaN     211.119705                 85       11500.0  3629163600\n",
      "147      211.449997         NaN     208.206970                 85       14200.0  3629163600\n",
      "152      207.449997  207.449997     207.449997                 85       15000.0  3629163600\n",
      "162      201.149994         NaN     207.145447                 85       17000.0  3629163600\n",
      "171      206.750000  206.750000     206.750000                 85       20000.0  3629163600\n",
      "178      217.449997  217.449997     217.449997                 85       25000.0  3629163600\n",
      "182      220.050003         NaN     219.815750                 85       26200.0  3629163600\n",
      "184      222.449997         NaN     222.806870                 85       27800.0  3629163600\n",
      "189      226.649994  226.649994     226.649994                 85       30000.0  3629163600\n",
      "193      233.050003         NaN     233.324524                 85       33800.0  3629163600\n",
      "197      238.149994         NaN     238.083588                 85       36800.0  3629163600\n",
      "201      242.449997         NaN     242.328690                 85       39700.0  3629163600\n",
      "204      242.750000  242.750000     242.750000                 85       40000.0  3629163600\n",
      "208      243.449997         NaN     244.000427                 85       41000.0  3629163600\n",
      "210      247.149994         NaN     247.345810                 85       43800.0  3629163600\n",
      "212      248.149994         NaN     248.375778                 85       44700.0  3629163600\n",
      "214      249.449997         NaN     249.496201                 85       45700.0  3629163600\n",
      "216      250.649994         NaN     250.916626                 85       47000.0  3629163600\n",
      "218      251.050003         NaN     251.558990                 85       47600.0  3629163600\n",
      "223      254.050003  254.050003     254.050003                 85       50000.0  3629163600\n",
      "231      266.149994         NaN     264.141998                 85       61200.0  3629163600\n",
      "235      265.149994         NaN     265.351044                 85       62700.0  3629163600\n",
      "239      270.350006         NaN     269.695496                 85       68400.0  3629163600\n",
      "244      270.850006  270.850006     270.850006                 85       70000.0  3629163600\n",
      "248      271.049988         NaN     270.979279                 85       70200.0  3629163600\n",
      "250      276.250000         NaN     276.446686                 85       79200.0  3629163600\n",
      "259      279.649994  279.649994     279.649994                 85       85000.0  3629163600\n",
      "267      281.450012         NaN            NaN                 85       89300.0  3629163600\n",
      "271      280.250000         NaN            NaN                 85       90400.0  3629163600\n",
      "273      274.950012         NaN            NaN                 85       91600.0  3629163600\n"
     ]
    }
   ],
   "source": [
    "# Interpolation between values, using extrapolate_plevs=True, would extrapolate the profiles as well\n",
    "# for pressure a log-p is used.\n",
    "# see differences to interpolate=False (default)\n",
    "sounding = data.profile_to_dataframe(['adjust', 'observations_table'], ['observed_variable','z_coordinate','adjusted_value', 'bias_cube','bias_cube_int', 'date_time'], '2015-01-02')\n",
    "print(sounding[(sounding['observed_variable']==85) & (sounding['date_time']==3629163600)])"
   ]
  },
  {
   "cell_type": "markdown",
   "metadata": {},
   "source": [
    "# VM Requests\n",
    "\n",
    "This is a private Service only for UNIVIE.\n",
    "Allows testing of the HUG Server and working directly witht the files, without CDS buffering."
   ]
  },
  {
   "cell_type": "code",
   "execution_count": 62,
   "metadata": {},
   "outputs": [
    {
     "name": "stdout",
     "output_type": "stream",
     "text": [
      "2020-08-10 17:06:40,289 - upperair.cdm | __init__ - DEBUG - Extracting ./dest_0-20000-0-01001_air_temperature.nc\n",
      "2020-08-10 17:06:40,291 - upperair.cdm | __init__ - DEBUG - [OPEN] ./dest_0-20000-0-01001_air_temperature.nc\n",
      "CPU times: user 590 ms, sys: 758 ms, total: 1.35 s\n",
      "Wall time: 41.5 s\n"
     ]
    }
   ],
   "source": [
    "# subsequent \"same\" requests are loaded from file, \n",
    "# unless overwrite=True then every request is send.\n",
    "\n",
    "%time data =  eua.CDMDataset(vm_request={'variable': 'temperature', 'statid': '01001'}, overwrite=True)"
   ]
  },
  {
   "cell_type": "code",
   "execution_count": 60,
   "metadata": {},
   "outputs": [
    {
     "data": {
      "text/plain": [
       "Filename: ./dest_0-20000-0-01001_air_temperature.nc\n",
       "(G)roups/(V)ariables: \n",
       "\n",
       " - V | lat__________________________________________ : : (15683555,)\n",
       " - V | lon__________________________________________ : : (15683555,)\n",
       " - V | obs__________________________________________ : : (15683555,)\n",
       " - V | plev_________________________________________ : : (15683555,)\n",
       " - V | ta___________________________________________ : : (15683555,)\n",
       " - V | time_________________________________________ : : (15683555,)\n",
       " - V | trajectory___________________________________ : : (70458,)\n",
       " - V | trajectory_index_____________________________ : : (15683555,)\n",
       " - V | trajectory_label_____________________________ : : (70458, 10)"
      ]
     },
     "execution_count": 60,
     "metadata": {},
     "output_type": "execute_result"
    }
   ],
   "source": [
    "data"
   ]
  },
  {
   "cell_type": "code",
   "execution_count": 64,
   "metadata": {},
   "outputs": [
    {
     "name": "stdout",
     "output_type": "stream",
     "text": [
      "total 691M\n",
      "-rw-r--r--. 1 mblaschek users  161 Jan 31  2020 requirements.txt\n",
      "-rw-r--r--. 1 mblaschek users 9.2K Jun  8 12:46 README.md\n",
      "drwxr-xr-x. 3 mblaschek users   31 Jun 30 12:08 example_data\n",
      "-rw-r--r--. 1 mblaschek users 173M Aug  5 15:05 3173650491.zip\n",
      "-rw-r--r--. 1 mblaschek users 533K Aug  6 08:40 Example.ipynb\n",
      "-rw-r--r--. 1 mblaschek users 173M Aug 10 16:21 1646595928.zip\n",
      "-rw-r--r--. 1 mblaschek users  71K Aug 10 16:25 Check_CDS_frontend.ipynb\n",
      "drwxr-xr-x. 6 mblaschek users 4.0K Aug 10 16:43 code\n",
      "-rw-r--r--. 1 mblaschek users 179K Aug 10 16:54 test.nc\n",
      "-rw-r--r--. 1 mblaschek users 173M Aug 10 17:06 1938034336.zip\n",
      "-rw-r--r--. 1 mblaschek users 173M Aug 10 17:06 dest_0-20000-0-01001_air_temperature.nc\n",
      "-rw-r--r--. 1 mblaschek users 236K Aug 10 17:07 Example_update.ipynb\n"
     ]
    }
   ],
   "source": [
    "!ls -trlh"
   ]
  },
  {
   "cell_type": "markdown",
   "metadata": {},
   "source": [
    "# Frontend files\n",
    "\n",
    "* Open a downloaded file\n",
    "* Make a request and open that file (the first one)\n",
    "    - all files are downloaded and extracted, but not loaded (Missing Class for that)\n",
    "    \n",
    "Mostly the same routines apply to both files BACKEND and FRONTEND."
   ]
  },
  {
   "cell_type": "markdown",
   "metadata": {},
   "source": [
    "## Make a CDS Request and open the data\n",
    "Either specify a file directly or issue a request via the `cdsapi` and downlaod the file and use that."
   ]
  },
  {
   "cell_type": "code",
   "execution_count": 87,
   "metadata": {},
   "outputs": [
    {
     "name": "stdout",
     "output_type": "stream",
     "text": [
      "2020-08-14 17:00:37,826 - upperair.cdm | __init__ - INFO - Requested file exists: 3173650491.zip\n",
      "2020-08-14 17:00:38,280 - upperair.cdm | __init__ - DEBUG - Extracting ./dest_0-20000-0-01001_air_temperature.nc\n",
      "2020-08-14 17:00:38,281 - upperair.cdm | __init__ - DEBUG - [OPEN] ./dest_0-20000-0-01001_air_temperature.nc\n"
     ]
    }
   ],
   "source": [
    "# currently the CDS files are full of duplicates\n",
    "fata = eua.CDMDataset(cds_request={'variable':'air_temperature', 'statid': '01001'})"
   ]
  },
  {
   "cell_type": "code",
   "execution_count": 6,
   "metadata": {},
   "outputs": [],
   "source": [
    "if True:\n",
    "    # produce this file from out local merged file\n",
    "    data.read_write_request(filename_out='dest_0-20000-0-01001_air_temperature.nc', request={'variable':['temperature']}, cf_dict=eua.read_standardnames())"
   ]
  },
  {
   "cell_type": "code",
   "execution_count": 5,
   "metadata": {},
   "outputs": [
    {
     "name": "stdout",
     "output_type": "stream",
     "text": [
      "2020-08-14 21:21:20,795 - upperair.cdm | __init__ - DEBUG - [OPEN] dest_0-20000-0-01001_air_temperature.nc\n"
     ]
    }
   ],
   "source": [
    "fata = eua.CDMDataset('dest_0-20000-0-01001_air_temperature.nc')"
   ]
  },
  {
   "cell_type": "code",
   "execution_count": 6,
   "metadata": {},
   "outputs": [
    {
     "data": {
      "text/plain": [
       "Filename: dest_0-20000-0-01001_air_temperature.nc\n",
       "(G)roups/(V)ariables: \n",
       "\n",
       " - V | lat__________________________________________ : : (2166471,)\n",
       " - V | lon__________________________________________ : : (2166471,)\n",
       " - V | obs__________________________________________ : : (2166471,)\n",
       " - V | plev_________________________________________ : : (2166471,)\n",
       " - V | string14_____________________________________ : : (14,)\n",
       " - V | ta___________________________________________ : : (2166471,)\n",
       " - V | ta_std_plevs_________________________________ : : (2166471,)\n",
       " - V | time_________________________________________ : : (2166471,)\n",
       " - V | trajectory___________________________________ : : (7309,)\n",
       " - V | trajectory_index_____________________________ : : (2166471,)\n",
       " - V | trajectory_label_____________________________ : : (7309, 14)"
      ]
     },
     "execution_count": 6,
     "metadata": {},
     "output_type": "execute_result"
    }
   ],
   "source": [
    "fata"
   ]
  },
  {
   "cell_type": "code",
   "execution_count": 7,
   "metadata": {},
   "outputs": [
    {
     "data": {
      "text/plain": [
       "<HDF5 file \"dest_0-20000-0-01001_air_temperature.nc\" (mode r)>"
      ]
     },
     "execution_count": 7,
     "metadata": {},
     "output_type": "execute_result"
    }
   ],
   "source": [
    "fata.file"
   ]
  },
  {
   "cell_type": "code",
   "execution_count": 8,
   "metadata": {},
   "outputs": [
    {
     "data": {
      "text/plain": [
       "'dest_0-20000-0-01001_air_temperature.nc'"
      ]
     },
     "execution_count": 8,
     "metadata": {},
     "output_type": "execute_result"
    }
   ],
   "source": [
    "fata.filename"
   ]
  },
  {
   "cell_type": "code",
   "execution_count": 9,
   "metadata": {},
   "outputs": [
    {
     "data": {
      "text/plain": [
       "'dest_0-20000-0-01001_air_temperature.nc'"
      ]
     },
     "execution_count": 9,
     "metadata": {},
     "output_type": "execute_result"
    }
   ],
   "source": [
    "fata.name"
   ]
  },
  {
   "cell_type": "code",
   "execution_count": 10,
   "metadata": {},
   "outputs": [
    {
     "data": {
      "text/plain": [
       "False"
      ]
     },
     "execution_count": 10,
     "metadata": {},
     "output_type": "execute_result"
    }
   ],
   "source": [
    "# This is often used to detect CDM Backend and CDM Frontend files\n",
    "fata.hasgroups"
   ]
  },
  {
   "cell_type": "markdown",
   "metadata": {},
   "source": [
    "## Availability of Data "
   ]
  },
  {
   "cell_type": "code",
   "execution_count": 11,
   "metadata": {},
   "outputs": [
    {
     "data": {
      "image/png": "[encoded data removed]",
      "text/plain": [
       "<Figure size 864x432 with 1 Axes>"
      ]
     },
     "metadata": {
      "needs_background": "light"
     },
     "output_type": "display_data"
    }
   ],
   "source": [
    "plot(fata.availability())\n",
    "grid()\n",
    "title('Availability of {}'.format(fata.name));"
   ]
  },
  {
   "cell_type": "markdown",
   "metadata": {},
   "source": [
    "## Convert to Cube"
   ]
  },
  {
   "cell_type": "code",
   "execution_count": 8,
   "metadata": {},
   "outputs": [
    {
     "name": "stdout",
     "output_type": "stream",
     "text": [
      "2020-08-14 17:19:54,479 - upperair.cdm | make_datetime_slice - DEBUG - Datetime selection: 61980 - 1770842\n",
      "2020-08-14 17:19:54,527 - upperair.cdm | read_variable - INFO - [READ] plev : [  1000   2000   3000   5000   7000  10000  15000  20000  25000  30000\n",
      "  40000  50000  70000  85000  92500 100000] [Pa]\n",
      "2020-08-14 17:19:54,577 - upperair.cdm | read_data_to_cube - INFO - [CUBE] ta (4916, 16)\n"
     ]
    }
   ],
   "source": [
    "fta = fata.read_data_to_cube('ta', dates=['2000-01-01','2019-01-01'])"
   ]
  },
  {
   "cell_type": "code",
   "execution_count": 9,
   "metadata": {},
   "outputs": [
    {
     "name": "stderr",
     "output_type": "stream",
     "text": [
      "<ipython-input-9-371c9d50556c>:3: MatplotlibDeprecationWarning: shading='flat' when X and Y have the same dimensions as C is deprecated since 3.3.  Either specify the corners of the quadrilaterals with X and Y, or pass shading='auto', 'nearest' or 'gouraud', or set rcParams['pcolor.shading'].  This will become an error two minor releases later.\n",
      "  pcolormesh(fta['ta'].time,fta['ta'].plev,fta['ta'].T)\n"
     ]
    },
    {
     "data": {
      "image/png": "[encoded data removed]",
      "text/plain": [
       "<Figure size 864x432 with 2 Axes>"
      ]
     },
     "metadata": {
      "needs_background": "light"
     },
     "output_type": "display_data"
    }
   ],
   "source": [
    "# plotting of Xarray is broken with matplotlib 3.3\n",
    "# (fta['ta']).plot(y='plev')\n",
    "pcolormesh(fta['ta'].time,fta['ta'].plev,fta['ta'].T)\n",
    "ylim(100000,1000)\n",
    "grid()\n",
    "colorbar()\n",
    "title('{description} {standard_name}'.format(**fata.read_attributes('ta')));"
   ]
  },
  {
   "cell_type": "markdown",
   "metadata": {},
   "source": [
    "## Write to a frontend file"
   ]
  },
  {
   "cell_type": "code",
   "execution_count": 11,
   "metadata": {},
   "outputs": [
    {
     "name": "stdout",
     "output_type": "stream",
     "text": [
      "2020-08-14 17:20:00,252 - upperair.cdm | reopen - DEBUG - reopen dest_0-20000-0-01001_air_temperature.nc [r+]\n",
      "2020-08-14 17:20:00,263 - upperair.cdm | make_datetime_slice - DEBUG - Datetime selection: 61980 - 1770842\n",
      "2020-08-14 17:20:00,443 - upperair.cdm | write_variable - INFO - All dates found\n",
      "2020-08-14 17:20:00,444 - upperair.cdm | write_variable - INFO - Creating Dataset ta_std_plevs ((66467,))\n",
      "2020-08-14 17:20:00,513 - upperair.cdm | write_variable - INFO - Finsihed writing ta_std_plevs to dest_0-20000-0-01001_air_temperature.nc\n"
     ]
    }
   ],
   "source": [
    "fata.write_variable('ta_std_plevs',cube=fta['ta'])"
   ]
  },
  {
   "cell_type": "code",
   "execution_count": 12,
   "metadata": {},
   "outputs": [
    {
     "data": {
      "text/plain": [
       "Filename: dest_0-20000-0-01001_air_temperature.nc\n",
       "(G)roups/(V)ariables: \n",
       "\n",
       " - V | lat__________________________________________ : : (2166471,)\n",
       " - V | lon__________________________________________ : : (2166471,)\n",
       " - V | obs__________________________________________ : : (2166471,)\n",
       " - V | plev_________________________________________ :L: (2166471,)\n",
       " - V | string14_____________________________________ : : (14,)\n",
       " - V | ta___________________________________________ : : (2166471,)\n",
       " - V | time_________________________________________ :L: (2166471,)\n",
       " - V | trajectory___________________________________ : : (7309,)\n",
       " - V | trajectory_index_____________________________ : : (2166471,)\n",
       " - V | trajectory_label_____________________________ : : (7309, 14)\n",
       " - V | ta_std_plevs_________________________________ :L: (2166471,)"
      ]
     },
     "execution_count": 12,
     "metadata": {},
     "output_type": "execute_result"
    }
   ],
   "source": [
    "fata"
   ]
  },
  {
   "cell_type": "code",
   "execution_count": 9,
   "metadata": {},
   "outputs": [
    {
     "name": "stdout",
     "output_type": "stream",
     "text": [
      "2020-08-14 21:25:57,682 - upperair.cdm | make_datetime_slice - DEBUG - Datetime selection: 449232 - 451696\n",
      "2020-08-14 21:25:57,683 - upperair.cdm | profile_to_dataframe - INFO - Reading Profile on slice(449232, 451696, None)\n",
      "2020-08-14 21:25:57,684 - upperair.cdm | profile_to_dataframe - DEBUG - Read variables: dict_keys(['ta', 'ta_std_plevs', 'plev', 'time'])\n",
      "            ta  ta_std_plevs     plev        time\n",
      "0   226.449997           NaN    570.0  3629163600\n",
      "1   225.649994           NaN    590.0  3629163600\n",
      "2   223.649994           NaN    680.0  3629163600\n",
      "3   215.149994           NaN    820.0  3629163600\n",
      "4   217.449997           NaN    920.0  3629163600\n",
      "5   209.050003           NaN   1730.0  3629163600\n",
      "6   212.149994           NaN   2530.0  3629163600\n",
      "7   208.649994           NaN   2860.0  3629163600\n",
      "8   213.449997           NaN   4580.0  3629163600\n",
      "9   211.149994           NaN   4920.0  3629163600\n",
      "10  211.649994           NaN   5150.0  3629163600\n",
      "11  214.750000           NaN   5890.0  3629163600\n",
      "12  210.449997           NaN   6370.0  3629163600\n",
      "13  213.050003    213.050003  10000.0  3629163600\n",
      "14  209.649994           NaN  11500.0  3629163600\n",
      "15  211.449997           NaN  14200.0  3629163600\n",
      "16  207.449997    207.449997  15000.0  3629163600\n",
      "17  201.149994           NaN  17000.0  3629163600\n",
      "18  206.750000    206.750000  20000.0  3629163600\n",
      "19  217.449997    217.449997  25000.0  3629163600\n",
      "20  220.050003           NaN  26200.0  3629163600\n",
      "21  222.449997           NaN  27800.0  3629163600\n",
      "22  226.649994    226.649994  30000.0  3629163600\n",
      "23  233.050003           NaN  33800.0  3629163600\n",
      "24  238.149994           NaN  36800.0  3629163600\n",
      "25  242.449997           NaN  39700.0  3629163600\n",
      "26  242.750000    242.750000  40000.0  3629163600\n",
      "27  243.449997           NaN  41000.0  3629163600\n",
      "28  247.149994           NaN  43800.0  3629163600\n",
      "29  248.149994           NaN  44700.0  3629163600\n",
      "30  249.449997           NaN  45700.0  3629163600\n",
      "31  250.649994           NaN  47000.0  3629163600\n",
      "32  251.050003           NaN  47600.0  3629163600\n",
      "33  254.050003    254.050003  50000.0  3629163600\n",
      "34  266.149994           NaN  61200.0  3629163600\n",
      "35  265.149994           NaN  62700.0  3629163600\n",
      "36  270.350006           NaN  68400.0  3629163600\n",
      "37  270.850006    270.850006  70000.0  3629163600\n",
      "38  271.049988           NaN  70200.0  3629163600\n",
      "39  276.250000           NaN  79200.0  3629163600\n",
      "40  279.649994    279.649994  85000.0  3629163600\n",
      "41  281.450012           NaN  89300.0  3629163600\n",
      "42  280.250000           NaN  90400.0  3629163600\n",
      "43  274.950012           NaN  91600.0  3629163600\n"
     ]
    }
   ],
   "source": [
    "sounding = fata.profile_to_dataframe('/',['ta','ta_std_plevs','plev','time'],'2015-01-02')\n",
    "print(sounding[sounding['time']==3629163600])"
   ]
  },
  {
   "cell_type": "code",
   "execution_count": null,
   "metadata": {},
   "outputs": [],
   "source": []
  }
 ],
 "metadata": {
  "kernelspec": {
   "display_name": "Python 3",
   "language": "python",
   "name": "python3"
  },
  "language_info": {
   "codemirror_mode": {
    "name": "ipython",
    "version": 3
   },
   "file_extension": ".py",
   "mimetype": "text/x-python",
   "name": "python",
   "nbconvert_exporter": "python",
   "pygments_lexer": "ipython3",
   "version": "3.8.5"
  }
 },
 "nbformat": 4,
 "nbformat_minor": 4
}
