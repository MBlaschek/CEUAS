{
 "cells": [
  {
   "cell_type": "code",
   "execution_count": 32,
   "metadata": {},
   "outputs": [],
   "source": [
    "import pandas\n",
    "import numpy as np\n",
    "import sys\n",
    "import zipfile, os, time\n",
    "import urllib3\n",
    "from numba import njit, prange,typeof\n",
    "from datetime import datetime, timedelta\n",
    "import glob\n",
    "import h5py\n",
    "import plotly.express as px\n",
    "sys.path.append(os.getcwd()+'/../cds-backend/code/')\n",
    "sys.path.append(os.getcwd()+'/../harvest/code/')\n",
    "\n",
    "import cds_eua3 as eua\n",
    "eua.logging_set_level(30)\n",
    "import xarray as xr\n",
    "\n",
    "import cdsapi, zipfile, os, time\n",
    "\n",
    "miss_val=np.nan\n"
   ]
  },
  {
   "cell_type": "code",
   "execution_count": 43,
   "metadata": {},
   "outputs": [],
   "source": [
    "@njit(cache=True)\n",
    "def fastlinregress(x,y):\n",
    "#    print typeof(x),typeof(y)\n",
    "    m=x.shape[0]\n",
    "    \n",
    "    xmean=0.\n",
    "    ymean=0.\n",
    "    xcov=0.\n",
    "    xsq=0.\n",
    "    n=0\n",
    "    for k in range(m):\n",
    "        if x[k]==x[k] and y[k]==y[k]:\n",
    "            xmean+=x[k]\n",
    "            ymean+=y[k]\n",
    "            n+=1\n",
    "    if n>2:   \n",
    "        xmean/=n\n",
    "        ymean/=n\n",
    "        for k in range(m):\n",
    "            if x[k]==x[k] and y[k]==y[k]:\n",
    "                xcov+=x[k]*y[k]\n",
    "                xsq+=x[k]*x[k]\n",
    "        slope=(xcov-n*xmean*ymean)/(xsq-n*xmean*xmean)\n",
    "    else:\n",
    "        slope=miss_val\n",
    "\n",
    "    return slope\n",
    "\n",
    "@njit(cache=True,parallel=False)\n",
    "def janomaly( series,startyear,interval,anomaly,climatology):\n",
    "    n=series.shape[0]\n",
    "    start=interval[0]-startyear\n",
    "    stop=interval[1]-startyear+1\n",
    "    good=0\n",
    "#   print range(start,stop)\n",
    "    for j in range(12):\n",
    "        l=0\n",
    "        climatology[j]=0.\n",
    "        for k in range(start,stop):\n",
    "            s=series[k*12+j]\n",
    "            if s==s:\n",
    "                climatology[j]=climatology[j]+s\n",
    "                l=l+1\n",
    "        if l > (stop-start+1)/2:\n",
    "            climatology[j]/=l\n",
    "            for k in range(n//12):\n",
    "                anomaly[k*12+j]=series[k*12+j]-climatology[j]\n",
    "                if anomaly[k*12+j]==anomaly[k*12+j]: \n",
    "                    good+=1\n",
    "        else:\n",
    "            climatology[j]=miss_val\n",
    "            for k in range(n//12):\n",
    "                anomaly[k*12+j]=miss_val\n",
    "\n",
    "\n",
    "    return good\n",
    "\n",
    "@njit\n",
    "def find_gstatindex(glons,glats,lons,lats,gstatindex):\n",
    "\n",
    "    for l in range(lats.shape[0]):\n",
    "        ilon=int(np.floor(lons[l]/(360./glons.shape[0])))\n",
    "        ilat=int(np.floor((lats[l]+90.)/(180./glats.shape[0])))\n",
    "        gstatindex[ilat,ilon,0]+=1\n",
    "        gstatindex[ilat,ilon,gstatindex[ilat,ilon,0]]=l\n",
    "\n",
    "    return\n",
    "\n",
    "@njit(parallel=True)\n",
    "def anomalies_and_slopes(series,startyear,interval,tolerance,iens,itime,anomalies,climatologies,good,slopes):\n",
    "    sshape=series.shape\n",
    "    for si in prange(sshape[0]):\n",
    "        panomalies_and_slopes(si,series,startyear,interval,tolerance,iens,itime,anomalies,climatologies,good,slopes) \n",
    "    return\n",
    "@njit\n",
    "def panomalies_and_slopes(si,series,startyear,interval,tolerance,iens,itime,anomalies,climatologies,good,slopes):\n",
    "\n",
    "    sshape=series.shape\n",
    "    climatology=np.zeros(12)\n",
    "    anomaly=np.empty(sshape[3])\n",
    "    orig=np.empty(sshape[3])\n",
    "    stop=interval[1]\n",
    "    start=interval[0]\n",
    "#    for si in prange(sshape[0]):\n",
    "    for ipar in range(sshape[1]):\n",
    "        for ip in range(sshape[2]):\n",
    "            for j in range(sshape[3]):\n",
    "                orig[j]=series[si,ipar,ip,j]\n",
    "            good[si,ipar,ip]=janomaly(orig,startyear,interval,anomaly,climatology)\n",
    "\n",
    "            slopes[si,iens,ipar,ip]  = miss_val\n",
    "#            print(good[si,ipar,ip],(stop-start+1-tolerance)*12)\n",
    "            if good[si,ipar,ip]>(stop-start+1-tolerance)*12:\n",
    "                for j in range(sshape[3]):\n",
    "                    anomalies[si,ipar,ip,j]=anomaly[j]\n",
    "                for j in range(12):\n",
    "                    climatologies[si,ipar,ip,j]=climatology[j]\n",
    "                tgood=0\n",
    "                for j in range(itime.shape[0]):\n",
    "                    orig[j]=anomaly[itime[j]]     \n",
    "                    if orig[j]==orig[j]:\n",
    "                        tgood+=1\n",
    "                if tgood>(stop-start+1-tolerance)*12:\n",
    "                    val  = fastlinregress(itime,orig)\n",
    "                #if si==1171 and ipar==0 and ip==0:\n",
    "                    #print val*120\n",
    "                    slopes[si,iens,ipar,ip]  = val*120.\n",
    "            else:\n",
    "                for j in range(sshape[3]):\n",
    "                    anomalies[si,ipar,ip,j]=miss_val\n",
    "                for j in range(12):\n",
    "                    climatologies[si,ipar,ip,j]=miss_val\n",
    "\n",
    "\n",
    "\n",
    "\n",
    "    return\n"
   ]
  },
  {
   "cell_type": "code",
   "execution_count": 21,
   "metadata": {},
   "outputs": [],
   "source": [
    "@njit(parallel=True)\n",
    "def grid_anomalies(anomaly,good,tolerance,gstatindex,ganomalies,gslopes,start,stop,itime):\n",
    "    nj=gstatindex.shape[0]\n",
    "    for j in prange(nj):\n",
    "        pgrid_anomalies(anomaly,good,tolerance,gstatindex,ganomalies,gslopes,start,stop,itime,j)\n",
    "\n",
    "@njit(cache=True)\n",
    "def pgrid_anomalies(anomaly,good,tolerance,gstatindex,ganomalies,gslopes,start,stop,itime,j):\n",
    "    nj=gstatindex.shape[0]\n",
    "    ni=gstatindex.shape[1]\n",
    "    orig=np.empty(itime.shape[0])\n",
    "    gst=np.empty(anomaly.shape[3],dtype=np.int32)\n",
    "\n",
    "#    for j in range(nj):\n",
    "    for i in range(ni):\n",
    "        nh=gstatindex[j,i,0]\n",
    "        for ipar in range(2):\n",
    "            for ip in range(anomaly.shape[2]):\n",
    "                if ip<gslopes.shape[3]:\n",
    "                    gslopes[j,i,ipar,ip]  = miss_val\n",
    "                    if nh>0:\n",
    "                        for m in range(anomaly.shape[3]):\n",
    "                            gst[m]=0\n",
    "                            ganomalies[j,i,ipar,ip,m]=0.\n",
    "                        for h in range(nh):\n",
    "                            si=gstatindex[j,i,h+1]\n",
    "                            g=0\n",
    "                            for m in range(itime.shape[0]):\n",
    "                                if itime[m]<anomaly.shape[3]:\n",
    "                                    if anomaly[si,ipar,ip,itime[m]]==anomaly[si,ipar,ip,itime[m]]:\n",
    "                                        g+=1\n",
    "                            if g>=(stop-start+1-tolerance)*12:\n",
    "                                for m in range(anomaly.shape[3]):\n",
    "                                    a=anomaly[si,ipar,ip,m]\n",
    "                                    if a==a:\n",
    "                                        ganomalies[j,i,ipar,ip,m]+=a\n",
    "                                        gst[m]+=1\n",
    "    \n",
    "                        for m in range(anomaly.shape[3]):\n",
    "                            if gst[m]>0:\n",
    "                                ganomalies[j,i,ipar,ip,m]/=gst[m]\n",
    "                            else:\n",
    "                                ganomalies[j,i,ipar,ip,m]=miss_val\n",
    "    \n",
    "                        tgood=0\n",
    "                        for k in range(itime.shape[0]):\n",
    "                            if itime[k] < ganomalies.shape[4]:\n",
    "                                orig[k]=ganomalies[j,i,ipar,ip,itime[k]]     \n",
    "                                if orig[k]==orig[k]:\n",
    "                                    tgood+=1\n",
    "                        if tgood>(stop-start+1-tolerance)*12 and anomaly.shape[3]>12:\n",
    "                            val  = fastlinregress(itime,orig)\n",
    "                            gslopes[j,i,ipar,ip]  = val*120.\n",
    "    \n",
    "                    else:\n",
    "                        for m in range(anomaly.shape[3]):\n",
    "                            ganomalies[j,i,ipar,ip,m]=miss_val\n",
    "\n",
    "    return\n"
   ]
  },
  {
   "cell_type": "code",
   "execution_count": 22,
   "metadata": {},
   "outputs": [
    {
     "data": {
      "text/plain": [
       "'/raid60/scratch/leo/scratch/0-20000-0-11035_CEUAS_merged_v0.nc'"
      ]
     },
     "execution_count": 22,
     "metadata": {},
     "output_type": "execute_result"
    }
   ],
   "source": [
    "files = glob.glob('/raid60/scratch/leo/scratch/0-20000-0-11035*.nc')\n",
    "files[0]"
   ]
  },
  {
   "cell_type": "code",
   "execution_count": 23,
   "metadata": {},
   "outputs": [
    {
     "name": "stdout",
     "output_type": "stream",
     "text": [
      "[         0    2678400    5097600 ... 3781555200 3784147200 3786825600]\n"
     ]
    }
   ],
   "source": [
    "\n",
    "monthts=[]\n",
    "refdate=datetime(1900,1,1)\n",
    "for iy in range(1900,2020):\n",
    "    for im in range(1,13):\n",
    "        monthts.append((datetime(iy,im,1)-refdate).total_seconds())\n",
    "        \n",
    "monthts.append((datetime(2020,1,1)-refdate).total_seconds())\n",
    "monthts=np.array(monthts,dtype=np.int64)\n",
    "print(monthts)\n",
    "allmav=[]\n",
    "allgood=[]\n",
    "l=0\n",
    "for fn in files:\n",
    "    with eua.CDMDataset(fn) as data:\n",
    "        var='85'\n",
    "        ri=data.recordindices[var][:]\n",
    "        ts=data.recordindices['recordtimestamp'][:]\n",
    "        currentdata=data.observations_table.observation_value[ri[0]:ri[-1]+1]\n",
    "        allp=data.observations_table.z_coordinate[ri[0]:ri[-1]+1]\n",
    "        allt=data.observations_table.date_time[ri[0]:ri[-1]+1]\n",
    "        ps=[50000,70000]\n",
    "        \n",
    "        mav=[[]]\n",
    "        mgood=[[]]\n",
    "        k=0\n",
    "        for p in ps:\n",
    "            pidx=np.where(allp==p)[0]\n",
    "            for im in range(len(monthts)-1):\n",
    "                tidx=np.where(np.logical_and(allt[pidx]>=monthts[im],allt[pidx]<monthts[im+1]))[0]\n",
    "                mgood[k].append(np.sum(~np.isnan(currentdata[pidx[tidx]])))\n",
    "                if mgood[k][-1]>10:\n",
    "                    mav[k].append(np.nanmean(currentdata[pidx[tidx]]))\n",
    "                else:\n",
    "                    mav[k].append(np.nan)\n",
    "        allmav.append(np.array(mav))\n",
    "        allgood.append(np.array(mgood))\n",
    "allmav=np.array(allmav).reshape(1,1,2,monthts.shape[0]-1)"
   ]
  },
  {
   "cell_type": "code",
   "execution_count": 24,
   "metadata": {},
   "outputs": [],
   "source": [
    "allmav=np.array(allmav).reshape(1,1,2,monthts.shape[0]-1)\n",
    "#anomalies=jcurrentdata  # (1414, 2, 16, 1440) stations x [0 12] x plev x months\n",
    "#anomalies_and_slopes(jcurrentdata,startyear,interval,int(tolerance),int(iens),itime,anomalies,\n",
    "#                                             climatologies,good,s)\n",
    "#ganomalies=numpy.zeros([nj,ni,2,jpindex.shape[0],tmshape[4]],numpy.float32)\n",
    "#grid_anomalies(anomalies,good,int(tolerance),gstatindex,ganomalies,gslopes,start,stop,itime)\n"
   ]
  },
  {
   "cell_type": "code",
   "execution_count": 57,
   "metadata": {},
   "outputs": [
    {
     "name": "stdout",
     "output_type": "stream",
     "text": [
      "(1, 1, 2, 1440)\n",
      "array(float64, 4d, C) array(int64, 1d, C) array(int64, 1d, C) array(float64, 4d, C) array(float64, 4d, C) array(int32, 3d, C) array(float64, 4d, C)\n",
      "(1,)\n",
      "(18, 36, 2, 2, 1440)\n"
     ]
    },
    {
     "data": {
      "text/plain": [
       "[<matplotlib.lines.Line2D at 0x2adb28fc4810>]"
      ]
     },
     "execution_count": 57,
     "metadata": {},
     "output_type": "execute_result"
    },
    {
     "data": {
      "image/png": "[encoded data removed]",
      "text/plain": [
       "<Figure size 432x288 with 1 Axes>"
      ]
     },
     "metadata": {
      "needs_background": "light"
     },
     "output_type": "display_data"
    }
   ],
   "source": [
    "print(allmav.shape)\n",
    "interval=np.array([1980,2010,2])\n",
    "startyear=refdate.year\n",
    "stop=interval[1]\n",
    "start=interval[0]\n",
    "stime=(start-startyear)*12\n",
    "itime=stime+np.arange((stop-start+1)*12)\n",
    "anomalies=np.empty_like(allmav)\n",
    "anomalies.fill(np.nan)\n",
    "climatologies=np.empty_like(allmav,shape=(*allmav.shape[0:3],12))\n",
    "climatologies.fill(np.nan)\n",
    "good=np.zeros(shape=(allmav.shape[0],allmav.shape[1],allmav.shape[2]),dtype=np.int32)\n",
    "s=np.zeros_like(allmav,shape=(allmav.shape[0],1,3,allmav.shape[2]))#.fill(np.nan)\n",
    "print(typeof(allmav),typeof(interval),typeof(itime),typeof(anomalies),\n",
    "      typeof(climatologies),typeof(good),typeof(s))\n",
    "\n",
    "anomalies_and_slopes(allmav,1900,interval,2,0,itime,anomalies,climatologies,good,s)\n",
    "nj=18\n",
    "ni=36\n",
    "lons=np.array((16.)).reshape((1))\n",
    "lats=np.array((48.)).reshape((1))\n",
    "print(lats.shape)\n",
    "glons=5.+10.*np.arange(ni)\n",
    "glats=-85.+10.*np.arange(nj)\n",
    "gstatindex=np.zeros([nj,ni,50],dtype=np.int) # 20 is max stations per 10x10 degree box\n",
    "find_gstatindex(glons,glats,lons,lats,gstatindex)\n",
    "ganomalies=np.zeros([nj,ni,2,allmav.shape[2],allmav.shape[3]],np.float32)\n",
    "ganomalies.fill(np.nan)\n",
    "gslopes=np.zeros([nj,ni,2,allmav.shape[2]],np.float32)\n",
    "gslopes.fill(np.nan)\n",
    "grid_anomalies(anomalies,good,int(3),gstatindex,ganomalies,gslopes,start,stop,itime)\n",
    "\n",
    "print(ganomalies.shape)\n",
    "idx=np.where(~np.isnan(ganomalies[:,:,0,0,1400]))\n",
    "import matplotlib.pylab as plt\n",
    "plt.plot(ganomalies[idx[0][0],idx[1][0],0,0,:])\n",
    "plt.plot(anomalies[0,0,0,:])\n"
   ]
  },
  {
   "cell_type": "code",
   "execution_count": null,
   "metadata": {},
   "outputs": [],
   "source": [
    "climatologies=np.empty_like(allmav,shape=(*allmav.shape[0:3],12)).fill(np.nan)"
   ]
  },
  {
   "cell_type": "code",
   "execution_count": null,
   "metadata": {},
   "outputs": [],
   "source": [
    "climatologies.shape"
   ]
  },
  {
   "cell_type": "code",
   "execution_count": null,
   "metadata": {},
   "outputs": [],
   "source": [
    "refdate.year"
   ]
  },
  {
   "cell_type": "code",
   "execution_count": null,
   "metadata": {},
   "outputs": [],
   "source": [
    "import cffi"
   ]
  },
  {
   "cell_type": "code",
   "execution_count": null,
   "metadata": {},
   "outputs": [],
   "source": [
    "dir(cffi)"
   ]
  },
  {
   "cell_type": "code",
   "execution_count": null,
   "metadata": {},
   "outputs": [],
   "source": [
    "cffi.__version__"
   ]
  },
  {
   "cell_type": "code",
   "execution_count": null,
   "metadata": {},
   "outputs": [],
   "source": []
  }
 ],
 "metadata": {
  "kernelspec": {
   "display_name": "Python 3",
   "language": "python",
   "name": "python3"
  },
  "language_info": {
   "codemirror_mode": {
    "name": "ipython",
    "version": 3
   },
   "file_extension": ".py",
   "mimetype": "text/x-python",
   "name": "python",
   "nbconvert_exporter": "python",
   "pygments_lexer": "ipython3",
   "version": "3.7.9"
  }
 },
 "nbformat": 4,
 "nbformat_minor": 4
}
