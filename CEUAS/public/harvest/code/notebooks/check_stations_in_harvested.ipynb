{
 "cells": [
  {
   "cell_type": "markdown",
   "id": "b3cad8fb-d902-4d57-9a29-e945a530de14",
   "metadata": {},
   "source": [
    "# Inventory Summary\n",
    "\n",
    "This notebook gives an overview of the station inventory, created by running the latest version of the analyze_inventory.py and make_station_configuration.py scripts.\n",
    "\n",
    "The correct identification of stations, i.e. the mapping of the stations contained in the database directories to an existing entry in the OSCAR, IGRA2, WBAN, CHUAN inventories\n",
    "is the first step for the harvesting and merging procedure."
   ]
  },
  {
   "cell_type": "markdown",
   "id": "0507ecaa-e651-4d95-8704-7f7b0ce9d9e7",
   "metadata": {},
   "source": [
    "## Counting all the original files \n",
    "Here we filter and count all the files in the database directory, that will be used for the harvesting and merging procedure."
   ]
  },
  {
   "cell_type": "code",
   "execution_count": 58,
   "id": "2baed794-ac5e-42c4-a8ed-05d6df958378",
   "metadata": {},
   "outputs": [],
   "source": [
    "import os,sys\n",
    "import pandas as pd \n",
    "import glob\n",
    "import numpy as np\n",
    "import h5py as h5"
   ]
  },
  {
   "cell_type": "code",
   "execution_count": 35,
   "id": "2023ef0f-4bb8-4c53-a885-b135206c5a10",
   "metadata": {
    "jupyter": {
     "source_hidden": true
    },
    "tags": []
   },
   "outputs": [],
   "source": [
    "# location of datasets\n",
    "datasets = {'era5_1': '/mnt/users/scratch/leo/scratch/era5/odbs/1' ,\n",
    "            'era5_2': '/mnt/users/scratch/leo/scratch/era5/odbs/2',\n",
    "            'era5_3188': '/mnt/users/scratch/leo/scratch/era5/odbs/3188',\n",
    "            'era5_1759': '/mnt/users/scratch/leo/scratch/era5/odbs/1759',\n",
    "            'era5_1761': '/mnt/users/scratch/leo/scratch/era5/odbs/1761',\n",
    "            'bufr': '/mnt/users/scratch/leo/scratch/era5/odbs/ai_bfr/',\n",
    "            'ncar': '/scratch/das/federico/databases_service2/UADB_25012022/',\n",
    "            'igra2': '/scratch/das/federico/databases_service2/IGRA2_20211231/', # dummy, use the igra2 station list file \n",
    "                               }\n",
    "# inventory path (TO DO fix path )\n",
    "\n",
    "inv_path = \"/users/staff/federico/GitHub/CEUAS_master_SEPTEMBER2021/CEUAS/CEUAS/meta/inventory_comparison/code/inventories/\"\n",
    "\n",
    "\n",
    "databases = ['era5_2', 'era5_1759', 'era5_1761', 'era5_3188', 'bufr', 'igra2', 'era5_1']\n",
    "\n",
    "databases = ['era5_2', 'era5_1759', 'era5_1761', 'era5_3188', 'bufr', 'era5_1', 'ncar' , 'igra2']\n",
    "\n",
    "counts = { \"database\":[], \n",
    "           \"all_files\":[], \n",
    "           \"processed\":[],\n",
    "           \"stat_conf\":[],\n",
    "           \"harvested\":[],\n",
    "           \"identified\":[],\n",
    "           \"inconsistent_coord\":[], \n",
    "           \"unidentified\":[],\n",
    "           \"unidentified_Id\":[],\n",
    "           \"failed\":[]}\n",
    "\n",
    "\n",
    "\n",
    "for db in databases:\n",
    "\n",
    "    counts['database'].append(db)\n",
    "    \n",
    "    if not os.path.isdir( 'inventories/' + db ):\n",
    "        os.makedirs( 'inventories/' + db )\n",
    "\n",
    "    if db == 'era5_1':\n",
    "        #flist=glob.glob(datasets[db] + \"/era5.conv._*\")\n",
    "        flist = [ str(i) for i in range(4711) ]\n",
    "    elif db == 'era5_2':\n",
    "        flist = glob.glob(\"/mnt/users/scratch/leo/scratch/era5/odbs/2/era5.conv._*\")\n",
    "        flist = [f for f in flist if '.gz' not in f and '.nc' not in f ]\n",
    "    elif db == 'era5_1759':\n",
    "        flist=glob.glob(\"/mnt/users/scratch/leo/scratch/era5/odbs/1759/era5.1759.conv.*\")\n",
    "    elif db == 'era5_1761':\n",
    "        flist = glob.glob(\"/mnt/users/scratch/leo/scratch/era5/odbs/1761/era5.1761.conv.*\")\n",
    "    elif db == 'era5_3188':\n",
    "        flist = glob.glob(\"/mnt/users/scratch/leo/scratch/era5/odbs/3188/era5.3188.conv.*\")\n",
    "    elif db == 'ncar':\n",
    "        flist = glob.glob( datasets[db] + '/uadb*')\n",
    "    elif 'bufr' in db:\n",
    "        flist = glob.glob(datasets[db] + '/' + 'era5.*.bfr')\n",
    "    elif db == 'igra2':\n",
    "        flist = glob.glob(datasets[db] + '/' + '.txt')\n",
    "        \n",
    "\n",
    "    comb = glob.glob(datasets[db] + '/'+'*.conv.19*') # removing wrong combined files per year\n",
    "    flist = [f for f in flist if f not in comb]\n",
    "    flist = [f for f in flist if '.gz' not in f and '.nc' not in f and '00000' not in f and '99999' not in f and 'undef' not in f]\n",
    "    counts['all_files'].append(len(flist))\n",
    "\n",
    "    tags = ['processed']\n",
    "    \n",
    "    #inconsistent_coord\n",
    "\n",
    "    # checking station_configuration stations \n",
    "    stat_conf = '/users/staff/federico/GitHub/CEUAS_master_SEPTEMBER2021/CEUAS/'\n",
    "    stat_conf = stat_conf + 'CEUAS/public/harvest/data/station_configurations/' \n",
    "    stat_conf = stat_conf + db + '_station_configuration_extended.csv'\n",
    "    \n",
    "    df = pd.read_csv(stat_conf, sep = '\\t')\n",
    "    counts['stat_conf'].append(len(df))\n",
    "\n",
    "    # checking successfully harvested stations \n",
    "    harv_dir = '/scratch/das/federico/COP2_HARVEST_FEB2022/' + db \n",
    "    files = [f for f in os.listdir(harv_dir) if '.nc' in f and '-1_' not in f ]\n",
    "    counts['harvested'].append(len(df))\n",
    "\n",
    "    \n",
    "        \n",
    "        \n",
    "    for t in tags:\n",
    "        if db == 'igra2':\n",
    "            file =  [inv_path + '/logs/' + f for f in os.listdir(inv_path + '/logs/') if db+'_'+t in f ]\n",
    "        elif db == 'era5_1':\n",
    "            file =  [inv_path + '/logs/' + f for f in os.listdir(inv_path + '/logs/') if '1_'+t in f and '1761' not in f ]\n",
    "\n",
    "        else:\n",
    "            db = db.replace('era5_','').replace('bufr','ai_bfr')\n",
    "            file = [inv_path + '/logs/' + f for f in os.listdir(inv_path + '/logs/') if db+'_'+t in f and 'igra2' not in f ]\n",
    "        #print(db, file)\n",
    "            \n",
    "        file = file[0]\n",
    "        \n",
    "        lines = open(file, 'r').readlines()\n",
    "        counts['processed'].append(len(lines))\n",
    "        counts['identified'].append(len([l for l in lines if 'identified' in l and 'unidentified' not in l ]))\n",
    "        \n",
    "        counts['unidentified'].append(len([l for l in lines if 'unidentified' in l and \"Id\" not in l ]))\n",
    "        counts['unidentified_Id'].append(len([l for l in lines if 'unidentified' in l and \"Id\" in l ]))\n",
    "        \n",
    "        counts['inconsistent_coord'].append(len([l for l in lines if 'inconsistent_coord' in l ]))\n",
    "        counts['failed'].append(len([l for l in lines if 'failed' in l ]))\n",
    "\n",
    "        \n",
    "        \n",
    "    "
   ]
  },
  {
   "cell_type": "code",
   "execution_count": 36,
   "id": "49e6bb1c-75c4-4916-9f9e-6d32e2552bb9",
   "metadata": {},
   "outputs": [
    {
     "data": {
      "text/plain": [
       "{'database': ['era5_2',\n",
       "  'era5_1759',\n",
       "  'era5_1761',\n",
       "  'era5_3188',\n",
       "  'bufr',\n",
       "  'era5_1',\n",
       "  'ncar',\n",
       "  'igra2'],\n",
       " 'all_files': [7944, 4741, 2412, 1353, 3037, 4711, 4599, 0],\n",
       " 'processed': [7944, 4741, 2412, 1353, 3037, 4710, 4599, 2689],\n",
       " 'stat_conf': [7080, 4338, 2240, 1344, 2669, 4029, 4289, 2689],\n",
       " 'harvested': [7080, 4338, 2240, 1344, 2669, 4029, 4289, 2689],\n",
       " 'identified': [7054, 4338, 2240, 1344, 2669, 4029, 4289, 2689],\n",
       " 'inconsistent_coord': [200, 63, 85, 0, 91, 398, 133, 0],\n",
       " 'unidentified': [591, 294, 60, 2, 243, 251, 133, 0],\n",
       " 'unidentified_Id': [60, 43, 26, 0, 34, 31, 44, 0],\n",
       " 'failed': [39, 3, 1, 7, 0, 1, 0, 0]}"
      ]
     },
     "execution_count": 36,
     "metadata": {},
     "output_type": "execute_result"
    }
   ],
   "source": [
    "counts\n"
   ]
  },
  {
   "cell_type": "code",
   "execution_count": 37,
   "id": "03e122e7-9b19-433e-a004-4e911bd8f35c",
   "metadata": {},
   "outputs": [],
   "source": [
    "#df = pd.DataFrame(counts, columns = [\"Dataset\" , \"All\" , \"Tot Files\" , \"Identified\" , \"Coord Problem\" , \"Unidentified\",  \"Failed\"])\n"
   ]
  },
  {
   "cell_type": "code",
   "execution_count": 38,
   "id": "f2e3b605-add7-4c25-ac06-d0c572fe3207",
   "metadata": {},
   "outputs": [],
   "source": [
    "df = pd.DataFrame(counts)"
   ]
  },
  {
   "cell_type": "code",
   "execution_count": 39,
   "id": "00103441-02d8-4c53-aab1-d0733649ea0f",
   "metadata": {},
   "outputs": [
    {
     "data": {
      "text/html": [
       "<div>\n",
       "<style scoped>\n",
       "    .dataframe tbody tr th:only-of-type {\n",
       "        vertical-align: middle;\n",
       "    }\n",
       "\n",
       "    .dataframe tbody tr th {\n",
       "        vertical-align: top;\n",
       "    }\n",
       "\n",
       "    .dataframe thead th {\n",
       "        text-align: right;\n",
       "    }\n",
       "</style>\n",
       "<table border=\"1\" class=\"dataframe\">\n",
       "  <thead>\n",
       "    <tr style=\"text-align: right;\">\n",
       "      <th></th>\n",
       "      <th>database</th>\n",
       "      <th>all_files</th>\n",
       "      <th>processed</th>\n",
       "      <th>stat_conf</th>\n",
       "      <th>harvested</th>\n",
       "      <th>identified</th>\n",
       "      <th>inconsistent_coord</th>\n",
       "      <th>unidentified</th>\n",
       "      <th>unidentified_Id</th>\n",
       "      <th>failed</th>\n",
       "    </tr>\n",
       "  </thead>\n",
       "  <tbody>\n",
       "    <tr>\n",
       "      <th>0</th>\n",
       "      <td>era5_2</td>\n",
       "      <td>7944</td>\n",
       "      <td>7944</td>\n",
       "      <td>7080</td>\n",
       "      <td>7080</td>\n",
       "      <td>7054</td>\n",
       "      <td>200</td>\n",
       "      <td>591</td>\n",
       "      <td>60</td>\n",
       "      <td>39</td>\n",
       "    </tr>\n",
       "    <tr>\n",
       "      <th>1</th>\n",
       "      <td>era5_1759</td>\n",
       "      <td>4741</td>\n",
       "      <td>4741</td>\n",
       "      <td>4338</td>\n",
       "      <td>4338</td>\n",
       "      <td>4338</td>\n",
       "      <td>63</td>\n",
       "      <td>294</td>\n",
       "      <td>43</td>\n",
       "      <td>3</td>\n",
       "    </tr>\n",
       "    <tr>\n",
       "      <th>2</th>\n",
       "      <td>era5_1761</td>\n",
       "      <td>2412</td>\n",
       "      <td>2412</td>\n",
       "      <td>2240</td>\n",
       "      <td>2240</td>\n",
       "      <td>2240</td>\n",
       "      <td>85</td>\n",
       "      <td>60</td>\n",
       "      <td>26</td>\n",
       "      <td>1</td>\n",
       "    </tr>\n",
       "    <tr>\n",
       "      <th>3</th>\n",
       "      <td>era5_3188</td>\n",
       "      <td>1353</td>\n",
       "      <td>1353</td>\n",
       "      <td>1344</td>\n",
       "      <td>1344</td>\n",
       "      <td>1344</td>\n",
       "      <td>0</td>\n",
       "      <td>2</td>\n",
       "      <td>0</td>\n",
       "      <td>7</td>\n",
       "    </tr>\n",
       "    <tr>\n",
       "      <th>4</th>\n",
       "      <td>bufr</td>\n",
       "      <td>3037</td>\n",
       "      <td>3037</td>\n",
       "      <td>2669</td>\n",
       "      <td>2669</td>\n",
       "      <td>2669</td>\n",
       "      <td>91</td>\n",
       "      <td>243</td>\n",
       "      <td>34</td>\n",
       "      <td>0</td>\n",
       "    </tr>\n",
       "    <tr>\n",
       "      <th>5</th>\n",
       "      <td>era5_1</td>\n",
       "      <td>4711</td>\n",
       "      <td>4710</td>\n",
       "      <td>4029</td>\n",
       "      <td>4029</td>\n",
       "      <td>4029</td>\n",
       "      <td>398</td>\n",
       "      <td>251</td>\n",
       "      <td>31</td>\n",
       "      <td>1</td>\n",
       "    </tr>\n",
       "    <tr>\n",
       "      <th>6</th>\n",
       "      <td>ncar</td>\n",
       "      <td>4599</td>\n",
       "      <td>4599</td>\n",
       "      <td>4289</td>\n",
       "      <td>4289</td>\n",
       "      <td>4289</td>\n",
       "      <td>133</td>\n",
       "      <td>133</td>\n",
       "      <td>44</td>\n",
       "      <td>0</td>\n",
       "    </tr>\n",
       "    <tr>\n",
       "      <th>7</th>\n",
       "      <td>igra2</td>\n",
       "      <td>0</td>\n",
       "      <td>2689</td>\n",
       "      <td>2689</td>\n",
       "      <td>2689</td>\n",
       "      <td>2689</td>\n",
       "      <td>0</td>\n",
       "      <td>0</td>\n",
       "      <td>0</td>\n",
       "      <td>0</td>\n",
       "    </tr>\n",
       "  </tbody>\n",
       "</table>\n",
       "</div>"
      ],
      "text/plain": [
       "    database  all_files  processed  stat_conf  harvested  identified  \\\n",
       "0     era5_2       7944       7944       7080       7080        7054   \n",
       "1  era5_1759       4741       4741       4338       4338        4338   \n",
       "2  era5_1761       2412       2412       2240       2240        2240   \n",
       "3  era5_3188       1353       1353       1344       1344        1344   \n",
       "4       bufr       3037       3037       2669       2669        2669   \n",
       "5     era5_1       4711       4710       4029       4029        4029   \n",
       "6       ncar       4599       4599       4289       4289        4289   \n",
       "7      igra2          0       2689       2689       2689        2689   \n",
       "\n",
       "   inconsistent_coord  unidentified  unidentified_Id  failed  \n",
       "0                 200           591               60      39  \n",
       "1                  63           294               43       3  \n",
       "2                  85            60               26       1  \n",
       "3                   0             2                0       7  \n",
       "4                  91           243               34       0  \n",
       "5                 398           251               31       1  \n",
       "6                 133           133               44       0  \n",
       "7                   0             0                0       0  "
      ]
     },
     "execution_count": 39,
     "metadata": {},
     "output_type": "execute_result"
    }
   ],
   "source": [
    "df"
   ]
  },
  {
   "cell_type": "markdown",
   "id": "9afee88f-2a00-45c6-a584-2a094c66c734",
   "metadata": {},
   "source": [
    "## Check CUON station configuration "
   ]
  },
  {
   "cell_type": "code",
   "execution_count": 44,
   "id": "c6faf5c4-e598-4b19-90c2-ce3b2102ef01",
   "metadata": {},
   "outputs": [
    {
     "name": "stdout",
     "output_type": "stream",
     "text": [
      "Total merged stations:  5187\n"
     ]
    }
   ],
   "source": [
    "merged = '/scratch/das/federico/MERGED_25FEB2022'\n",
    "files = [f for f in os.listdir(merged) if '.nc' in f and 'Sensor' not in f ]\n",
    "stat = list ( np.unique( [ s.split('_')[0] for s in files  ] ) ) \n",
    "\n",
    "print('Total merged stations: ' , len(stat) )"
   ]
  },
  {
   "cell_type": "code",
   "execution_count": 45,
   "id": "a0235ee4-e8ff-4944-b1c8-db9e6f5e6e4a",
   "metadata": {},
   "outputs": [
    {
     "name": "stdout",
     "output_type": "stream",
     "text": [
      "Total CUON stat_conf stations:  5218\n"
     ]
    }
   ],
   "source": [
    "cuon_stat_conf = '/users/staff/federico/GitHub/CEUAS_master_SEPTEMBER2021/CEUAS/CEUAS/public/merge/CUON_station_configuration.csv'\n",
    "df = pd.read_csv(cuon_stat_conf, sep = '\\t')\n",
    "primary = list ( np.unique( df.primary_id ) ) \n",
    "\n",
    "print('Total CUON stat_conf stations: ' , len(primary) )"
   ]
  },
  {
   "cell_type": "code",
   "execution_count": 48,
   "id": "ba75e6c0-b680-460e-967e-1e9fd68c71fa",
   "metadata": {},
   "outputs": [],
   "source": [
    "missing_merged = []\n",
    "for s in primary:\n",
    "    if s not in stat:\n",
    "        missing_merged.append(s)\n",
    "    "
   ]
  },
  {
   "cell_type": "code",
   "execution_count": 49,
   "id": "77d33cf9-f498-49ba-a52e-935524090653",
   "metadata": {},
   "outputs": [
    {
     "data": {
      "text/plain": [
       "['0-20000-0-04030',\n",
       " '0-20000-0-07156',\n",
       " '0-20000-0-10169',\n",
       " '0-20000-0-12812',\n",
       " '0-20000-0-12822',\n",
       " '0-20000-0-23022',\n",
       " '0-20000-0-34009',\n",
       " '0-20000-0-41509',\n",
       " '0-20000-0-47104',\n",
       " '0-20000-0-61701',\n",
       " '0-20000-0-63985',\n",
       " '0-20000-0-72202',\n",
       " '0-20000-0-72225',\n",
       " '0-20000-0-80425',\n",
       " '0-20000-0-81408',\n",
       " '0-20000-0-82578',\n",
       " '0-20000-0-91490',\n",
       " '0-20000-0-94110',\n",
       " '0-20000-0-94293',\n",
       " '0-20001-0-22522',\n",
       " '0-20300-0-04856',\n",
       " '0-20300-0-13928',\n",
       " '0-20300-0-23030',\n",
       " '0-20300-0-99014',\n",
       " '0-20300-0-99018',\n",
       " '0-20500-0-12812',\n",
       " '0-20500-0-33015',\n",
       " '0-20500-0-3869',\n",
       " '0-20500-0-53856',\n",
       " '0-20500-0-93119',\n",
       " '41247']"
      ]
     },
     "execution_count": 49,
     "metadata": {},
     "output_type": "execute_result"
    }
   ],
   "source": [
    "missing_merged"
   ]
  },
  {
   "cell_type": "code",
   "execution_count": 89,
   "id": "0f5d2ccf-53eb-470d-875d-0fa4d908dfaf",
   "metadata": {},
   "outputs": [],
   "source": [
    "def check_coord(limit, file):\n",
    "    \n",
    "    ot = h5.File(file, 'r')['observations_table']\n",
    "    lat = ot['latitude'][:]\n",
    "    lon = ot['longitude'][:]\n",
    "    \n",
    "    cons = True\n",
    "    \n",
    "    if ( abs( min(lat) -max(lat) ) > limit ):\n",
    "        cons = False\n",
    "        \n",
    "    if ( abs( min(lon) -max(lon) ) > limit ):\n",
    "        cons = False    \n",
    "        \n",
    "    if cons:\n",
    "        print('Cons LAT ' + file ,  min(lat) , ' ' , max(lat) )\n",
    "        print('Cons LON ' + file ,  min(lon) , ' ' , max(lon) )\n",
    "\n",
    "    \n",
    "    else:\n",
    "        print('INCONSISTENT LAT ' + file ,  min(lat) , ' ' , max(lat) )\n",
    "        print('INCONSISTENT LON ' + file ,  min(lon) , ' ' , max(lon) )\n",
    "\n",
    "\n",
    "        \n",
    "        \n",
    "        "
   ]
  },
  {
   "cell_type": "code",
   "execution_count": 83,
   "id": "23d37ab0-76e9-4764-9579-c67a32ea97bd",
   "metadata": {},
   "outputs": [],
   "source": [
    "f1 = '/scratch/das/federico/MERGED_25FEB2022/0-20500-0-10702_CEUAS_merged_v1.nc'\n",
    "f2 = '/scratch/das/federico/MERGED_25FEB2022/0-20000-0-34139_CEUAS_merged_v1.nc'\n",
    "f3 = '/scratch/das/federico/MERGED_25FEB2022/0-20300-0-99008_CEUAS_merged_v1.nc'\n",
    "f4 = '/scratch/das/federico/MERGED_25FEB2022/0-20300-0-99021_CEUAS_merged_v1.nc'\n",
    "\n",
    "f5 = '/scratch/das/federico/MERGED_25FEB2022/0-20000-0-58362_CEUAS_merged_v1.nc'"
   ]
  },
  {
   "cell_type": "code",
   "execution_count": null,
   "id": "081c23f4-e68d-4e18-8397-efe637a73912",
   "metadata": {},
   "outputs": [],
   "source": []
  },
  {
   "cell_type": "code",
   "execution_count": 90,
   "id": "f34752dd-8d23-4524-bdb0-edebf4afab79",
   "metadata": {},
   "outputs": [
    {
     "name": "stdout",
     "output_type": "stream",
     "text": [
      "Cons LAT /scratch/das/federico/MERGED_25FEB2022/0-20000-0-58362_CEUAS_merged_v1.nc 31.17   31.42\n",
      "Cons LON /scratch/das/federico/MERGED_25FEB2022/0-20000-0-58362_CEUAS_merged_v1.nc 121.42999   121.5\n"
     ]
    },
    {
     "data": {
      "text/plain": [
       "['0-20000-0-58362_bufr_harvested_era5.58367.bfr.nc',\n",
       " '0-20000-0-58362_era5_1759_harvested_era5.1759.conv._1:58362.gz.nc',\n",
       " '0-20000-0-58362_era5_1759_harvested_era5.1759.conv._1:58367.gz.nc',\n",
       " '0-20000-0-58362_era5_1759_harvested_era5.1759.conv._2:43203.gz.nc',\n",
       " '0-20000-0-58362_era5_1759_harvested_era5.1759.conv._2:43204.gz.nc',\n",
       " '0-20000-0-58362_era5_1761_harvested_era5.1761.conv._2:43203.gz.nc',\n",
       " '0-20000-0-58362_era5_1761_harvested_era5.1761.conv._2:43204.gz.nc',\n",
       " '0-20000-0-58362_era5_1761_harvested_era5.1761.conv._9:2063.gz.nc',\n",
       " '0-20000-0-58362_era5_1_harvested_era5.conv.??????.58362.txt.gz.nc',\n",
       " '0-20000-0-58362_era5_2_harvested_era5.conv._1:58367.gz.nc',\n",
       " '0-20000-0-58362_era5_2_harvested_era5.conv._58362.gz.nc',\n",
       " '0-20000-0-58362_era5_2_harvested_era5.conv._58367.gz.nc',\n",
       " '0-20000-0-58362_era5_2_harvested_era5.conv._9:2063.gz.nc',\n",
       " '0-20000-0-58362_era5_2_harvested_era5.conv._9:4055.gz.nc',\n",
       " '0-20000-0-58362_igra2_harvested_CHM00058362-data.txt.nc',\n",
       " '0-20000-0-58362_ncar_harvested_uadb_trhc_58367.txt.nc',\n",
       " '0-20000-0-58362_ncar_harvested_uadb_windc_58367.txt.nc']"
      ]
     },
     "execution_count": 90,
     "metadata": {},
     "output_type": "execute_result"
    }
   ],
   "source": [
    "check_coord(1,f5)\n",
    "source = h5.File(f5, 'r')['source_configuration']['source_file'][:]\n",
    "source = list( np.unique ( [ b''.join(s).decode('utf-8') for s in source ] ) ) \n",
    "source"
   ]
  },
  {
   "cell_type": "code",
   "execution_count": null,
   "id": "3e7a6848-1323-41d2-b16e-72d1a3e0fc28",
   "metadata": {},
   "outputs": [],
   "source": []
  },
  {
   "cell_type": "code",
   "execution_count": 92,
   "id": "584f733c-37e6-4d76-a3fd-5afc76b0662e",
   "metadata": {},
   "outputs": [
    {
     "name": "stdout",
     "output_type": "stream",
     "text": [
      "Cons LAT /mnt/users/scratch/leo/scratch/converted_v7/0-20000-0-58362_CEUAS_merged_v1.nc 31.17   31.42\n",
      "Cons LON /mnt/users/scratch/leo/scratch/converted_v7/0-20000-0-58362_CEUAS_merged_v1.nc 121.42999   121.5\n"
     ]
    },
    {
     "data": {
      "text/plain": [
       "['0-20000-0-58362_bufr_harvested_era5.58367.bfr.nc',\n",
       " '0-20000-0-58362_era5_1759_harvested_era5.1759.conv._1:58362.gz.nc',\n",
       " '0-20000-0-58362_era5_1759_harvested_era5.1759.conv._1:58367.gz.nc',\n",
       " '0-20000-0-58362_era5_1759_harvested_era5.1759.conv._2:43203.gz.nc',\n",
       " '0-20000-0-58362_era5_1759_harvested_era5.1759.conv._2:43204.gz.nc',\n",
       " '0-20000-0-58362_era5_1761_harvested_era5.1761.conv._2:43203.gz.nc',\n",
       " '0-20000-0-58362_era5_1761_harvested_era5.1761.conv._2:43204.gz.nc',\n",
       " '0-20000-0-58362_era5_1761_harvested_era5.1761.conv._9:2063.gz.nc',\n",
       " '0-20000-0-58362_era5_1_harvested_era5.conv.??????.58362.txt.gz.nc',\n",
       " '0-20000-0-58362_era5_2_harvested_era5.conv._1:58367.gz.nc',\n",
       " '0-20000-0-58362_era5_2_harvested_era5.conv._58362.gz.nc',\n",
       " '0-20000-0-58362_era5_2_harvested_era5.conv._58367.gz.nc',\n",
       " '0-20000-0-58362_era5_2_harvested_era5.conv._9:2063.gz.nc',\n",
       " '0-20000-0-58362_era5_2_harvested_era5.conv._9:4055.gz.nc',\n",
       " '0-20000-0-58362_igra2_harvested_CHM00058362-data.txt.nc',\n",
       " '0-20000-0-58362_ncar_harvested_uadb_trhc_58362.txt.nc',\n",
       " '0-20000-0-58362_ncar_harvested_uadb_trhc_58367.txt.nc',\n",
       " '0-20000-0-58362_ncar_harvested_uadb_windc_58362.txt.nc',\n",
       " '0-20000-0-58362_ncar_harvested_uadb_windc_58367.txt.nc']"
      ]
     },
     "execution_count": 92,
     "metadata": {},
     "output_type": "execute_result"
    }
   ],
   "source": [
    "f6 = \"/mnt/users/scratch/leo/scratch/converted_v7/0-20000-0-58362_CEUAS_merged_v1.nc\"\n",
    "check_coord(1,f6)\n",
    "source = h5.File(f6, 'r')['source_configuration']['source_file'][:]\n",
    "source = list( np.unique ( [ b''.join(s).decode('utf-8') for s in source ] ) ) \n",
    "source"
   ]
  },
  {
   "cell_type": "code",
   "execution_count": 86,
   "id": "9e5d0e4b-1a01-4f2f-9bb0-71203f2b7d0c",
   "metadata": {},
   "outputs": [],
   "source": [
    "source = list( np.unique(source) )\n"
   ]
  },
  {
   "cell_type": "code",
   "execution_count": 62,
   "id": "b8b63d04-7680-4b89-8bb9-0e98c2e42dec",
   "metadata": {},
   "outputs": [
    {
     "name": "stdout",
     "output_type": "stream",
     "text": [
      "INCONSISTENT LAT /scratch/das/federico/MERGED_25FEB2022/0-20000-0-34139_CEUAS_merged_v1.nc 43.77   51.1833\n",
      "INCONSISTENT LON /scratch/das/federico/MERGED_25FEB2022/0-20000-0-34139_CEUAS_merged_v1.nc 11.25   40.7\n"
     ]
    }
   ],
   "source": [
    "check_coord(1,f2)"
   ]
  },
  {
   "cell_type": "code",
   "execution_count": 61,
   "id": "769de6e6-1477-4637-87f2-1f489b34b2c8",
   "metadata": {},
   "outputs": [
    {
     "name": "stdout",
     "output_type": "stream",
     "text": [
      "INCONSISTENT LAT /scratch/das/federico/MERGED_25FEB2022/0-20300-0-99008_CEUAS_merged_v1.nc 38.0   52.8\n",
      "INCONSISTENT LON /scratch/das/federico/MERGED_25FEB2022/0-20300-0-99008_CEUAS_merged_v1.nc -71.0   -35.5\n"
     ]
    }
   ],
   "source": [
    "check_coord(1,f3)"
   ]
  },
  {
   "cell_type": "code",
   "execution_count": 60,
   "id": "3a015ab7-1006-4bf6-b677-9e43d4d9d38e",
   "metadata": {},
   "outputs": [
    {
     "name": "stdout",
     "output_type": "stream",
     "text": [
      "INCONSISTENT LAT /scratch/das/federico/MERGED_25FEB2022/0-20300-0-99021_CEUAS_merged_v1.nc 27.67   50.0\n",
      "INCONSISTENT LON /scratch/das/federico/MERGED_25FEB2022/0-20300-0-99021_CEUAS_merged_v1.nc -145.0   -145.0\n"
     ]
    }
   ],
   "source": [
    "check_coord(1,f4)"
   ]
  }
 ],
 "metadata": {
  "kernelspec": {
   "display_name": "Work",
   "language": "python",
   "name": "work"
  },
  "language_info": {
   "codemirror_mode": {
    "name": "ipython",
    "version": 3
   },
   "file_extension": ".py",
   "mimetype": "text/x-python",
   "name": "python",
   "nbconvert_exporter": "python",
   "pygments_lexer": "ipython3",
   "version": "3.8.5"
  }
 },
 "nbformat": 4,
 "nbformat_minor": 5
}
