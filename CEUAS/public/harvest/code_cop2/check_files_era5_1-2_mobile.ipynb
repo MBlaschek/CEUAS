{
 "cells": [
  {
   "cell_type": "code",
   "execution_count": null,
   "id": "4b4e2573-9dc9-4e72-91d0-d9a5e52d41ac",
   "metadata": {},
   "outputs": [],
   "source": [
    "\"\"\" Check consistency of ERA5_2 files after new land stations added in November 2022 \"\"\"\n",
    "\n",
    "\n",
    "\n"
   ]
  },
  {
   "cell_type": "code",
   "execution_count": null,
   "id": "008e1003-463f-4604-9a66-42c539e777e1",
   "metadata": {},
   "outputs": [],
   "source": []
  },
  {
   "cell_type": "markdown",
   "id": "3ecfc476-5ecf-4833-aec7-f0d3424209f5",
   "metadata": {},
   "source": [
    "The old harvester script does not work with e.g.\n",
    "/mnt/users/scratch/leo/scratch/era5/odbs/2/era5.conv._1:71925.gz\n",
    "\n",
    "It has problems with the number of columns, probably need to check the header file we use to create pandas columns\n",
    "\n",
    "Let's see\n"
   ]
  },
  {
   "cell_type": "code",
   "execution_count": 2,
   "id": "0953818e-5a96-4997-81cc-29f2ce1c2b60",
   "metadata": {},
   "outputs": [],
   "source": [
    "import pandas as pd \n",
    "\n",
    "# alldict=pd.read_csv(f,delimiter='\\t', usecols=columns, quoting=3,comment='#', skipinitialspace=True, dtype=tdict) "
   ]
  },
  {
   "cell_type": "code",
   "execution_count": 10,
   "id": "4c524879-3324-433d-ad9f-65fef0e89edd",
   "metadata": {},
   "outputs": [
    {
     "name": "stdout",
     "output_type": "stream",
     "text": [
      "Index(['type', 'expver', 'class', 'stream', 'andate', 'antime', 'reportype',\n",
      "       'numtsl@desc', 'timeslot@timeslot_index', 'seqno@hdr', 'source@hdr',\n",
      "       'bufrtype@hdr', 'subtype@hdr', 'groupid@hdr', 'obstype@hdr',\n",
      "       'codetype@hdr', 'sensor@hdr', 'statid@hdr', 'date@hdr', 'time@hdr',\n",
      "       'report_status@hdr', 'report_event1@hdr', 'report_rdbflag@hdr',\n",
      "       'lat@hdr', 'lon@hdr', 'lsm@modsurf', 'orography@modsurf',\n",
      "       'windspeed10m@modsurf', 'tsfc@modsurf', 'albedo@modsurf',\n",
      "       'seaice@modsurf', 'snow_depth@modsurf', 'sonde_type@conv',\n",
      "       'station_type@conv', 'collection_identifier@conv',\n",
      "       'timeseries_index@conv', 'unique_identifier@conv', 'entryno@body',\n",
      "       'obsvalue@body', 'varno@body', 'vertco_type@body',\n",
      "       'vertco_reference_1@body', 'vertco_reference_2@body',\n",
      "       'ppcode@conv_body', 'datum_anflag@body', 'datum_status@body',\n",
      "       'datum_event1@body', 'datum_rdbflag@body', 'biascorr@body',\n",
      "       'biascorr_fg@body', 'varbc_ix@body', 'qc_pge@body', 'an_depar@body',\n",
      "       'an_sens_obs@body', 'fg_depar@body', 'an_depar@surfbody_feedback',\n",
      "       'fg_depar@surfbody_feedback', 'snow_depth@surfbody_feedback',\n",
      "       'snow_density@surfbody_feedback', 'datum_status@surfbody_feedback',\n",
      "       'datum_sfc_event@surfbody_feedback', 'lsm@surfbody_feedback',\n",
      "       'stalt@hdr', 'obs_error@errstat', 'final_obs_error@errstat',\n",
      "       'fg_error@errstat', 'eda_spread@errstat'],\n",
      "      dtype='object')\n",
      "67\n"
     ]
    }
   ],
   "source": [
    "file_problem = '/mnt/users/scratch/leo/scratch/era5/odbs/2/era5.conv._1:71925.gz'\n",
    "df = pd.read_csv(file_problem, delimiter='\\t' , quoting=3,comment='#', skipinitialspace=True)\n",
    "print(df.columns)\n",
    "print(len(df.columns))\n",
    "\n"
   ]
  },
  {
   "cell_type": "code",
   "execution_count": 11,
   "id": "16656f60-4328-498a-ba06-0bf07786359f",
   "metadata": {},
   "outputs": [
    {
     "name": "stdout",
     "output_type": "stream",
     "text": [
      "Index(['type', 'expver', 'class', 'stream', 'andate', 'antime', 'reportype',\n",
      "       'numtsl@desc', 'timeslot@timeslot_index', 'seqno@hdr', 'source@hdr',\n",
      "       'bufrtype@hdr', 'subtype@hdr', 'groupid@hdr', 'obstype@hdr',\n",
      "       'codetype@hdr', 'sensor@hdr', 'statid@hdr', 'date@hdr', 'time@hdr',\n",
      "       'report_status@hdr', 'report_event1@hdr', 'report_rdbflag@hdr',\n",
      "       'lat@hdr', 'lon@hdr', 'lsm@modsurf', 'orography@modsurf',\n",
      "       'windspeed10m@modsurf', 'tsfc@modsurf', 'albedo@modsurf',\n",
      "       'seaice@modsurf', 'snow_depth@modsurf', 'sonde_type@conv',\n",
      "       'station_type@conv', 'collection_identifier@conv',\n",
      "       'timeseries_index@conv', 'unique_identifier@conv', 'entryno@body',\n",
      "       'obsvalue@body', 'varno@body', 'vertco_type@body',\n",
      "       'vertco_reference_1@body', 'vertco_reference_2@body',\n",
      "       'ppcode@conv_body', 'datum_anflag@body', 'datum_status@body',\n",
      "       'datum_event1@body', 'datum_rdbflag@body', 'biascorr@body',\n",
      "       'biascorr_fg@body', 'varbc_ix@body', 'qc_pge@body', 'an_depar@body',\n",
      "       'an_sens_obs@body', 'fg_depar@body', 'an_depar@surfbody_feedback',\n",
      "       'fg_depar@surfbody_feedback', 'snow_depth@surfbody_feedback',\n",
      "       'snow_density@surfbody_feedback', 'datum_status@surfbody_feedback',\n",
      "       'datum_sfc_event@surfbody_feedback', 'lsm@surfbody_feedback',\n",
      "       'stalt@hdr', 'obs_error@errstat', 'final_obs_error@errstat',\n",
      "       'fg_error@errstat', 'eda_spread@errstat'],\n",
      "      dtype='object')\n",
      "67\n"
     ]
    }
   ],
   "source": [
    "file_working = '/mnt/users/scratch/leo/scratch/era5/odbs/2/era5.conv._10829.gz'\n",
    "df = pd.read_csv(file_working, delimiter='\\t' , quoting=3,comment='#', skipinitialspace=True)\n",
    "print(df.columns)\n",
    "print(len(df.columns))"
   ]
  }
 ],
 "metadata": {
  "kernelspec": {
   "display_name": "Work",
   "language": "python",
   "name": "work"
  },
  "language_info": {
   "codemirror_mode": {
    "name": "ipython",
    "version": 3
   },
   "file_extension": ".py",
   "mimetype": "text/x-python",
   "name": "python",
   "nbconvert_exporter": "python",
   "pygments_lexer": "ipython3",
   "version": "3.8.5"
  }
 },
 "nbformat": 4,
 "nbformat_minor": 5
}
