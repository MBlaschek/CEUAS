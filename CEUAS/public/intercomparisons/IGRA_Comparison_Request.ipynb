{
 "cells": [
  {
   "cell_type": "markdown",
   "metadata": {},
   "source": [
    "# Comparison between \"Comprehensive upper-air observation network from 1905 to present\" and \"Insitu IGRA radiosoundings baseline network\"\n",
    "\n",
    "**Contains modified Copernicus Climate Change Service Information 2020**\n",
    "under [License](https://apps.ecmwf.int/datasets/licences/copernicus/)\n",
    "\n",
    "*Copernicus Climate Change Service (C3S) - Upper Air Data Service (2020)*\n",
    "\n",
    "The purpose of this IPython Notebook is to find differences in both mentioned data sets and to compare them. \n",
    "\n",
    "    Author: U. Voggenberger\n",
    "    Date: 10.2020\n",
    "    Contact: ulrich.voggenberger [at] univie.ac.at\n",
    "    License: C3S, 2020\n"
   ]
  },
  {
   "cell_type": "code",
   "execution_count": 1,
   "metadata": {},
   "outputs": [],
   "source": [
    "import pandas\n",
    "import numpy as np\n",
    "import sys, zipfile, os, time\n",
    "import matplotlib.pyplot as plt\n",
    "import glob\n",
    "import datetime\n",
    "import urllib3\n",
    "import cdsapi"
   ]
  },
  {
   "cell_type": "code",
   "execution_count": 2,
   "metadata": {},
   "outputs": [],
   "source": [
    "import matplotlib.pylab as pylab\n",
    "params = {'legend.fontsize': 'x-large',\n",
    "          'figure.figsize': (16, 10),\n",
    "         'axes.labelsize': 20,\n",
    "         'axes.titlesize': 24,\n",
    "         'xtick.labelsize':'medium',\n",
    "         'ytick.labelsize':'medium'}\n",
    "pylab.rcParams.update(params)"
   ]
  },
  {
   "cell_type": "markdown",
   "metadata": {},
   "source": [
    "# Comparing requesting time for IGRA (and its harmonized version) and Comprehensive upper-air observation network (COMP)\n",
    "\n",
    "### All stations, one whole month : 1989-01-01\n",
    "\n",
    "We messure the time, which passes while sending the request, calculating the data and downloading it from the CDS."
   ]
  },
  {
   "cell_type": "markdown",
   "metadata": {},
   "source": [
    "## IGRA"
   ]
  },
  {
   "cell_type": "code",
   "execution_count": 21,
   "metadata": {},
   "outputs": [
    {
     "name": "stderr",
     "output_type": "stream",
     "text": [
      "/opt/anaconda3/lib/python3.8/site-packages/urllib3/connectionpool.py:981: InsecureRequestWarning: Unverified HTTPS request is being made to host 'sis-dev.climate.copernicus.eu'. Adding certificate verification is strongly advised. See: https://urllib3.readthedocs.io/en/latest/advanced-usage.html#ssl-warnings\n",
      "  warnings.warn(\n",
      "2020-10-20 14:32:15,877 INFO Welcome to the CDS\n",
      "2020-10-20 14:32:15,877 INFO Sending request to https://sis-dev.climate.copernicus.eu/api/v2/resources/insitu-observations-igra-baseline-network\n",
      "/opt/anaconda3/lib/python3.8/site-packages/urllib3/connectionpool.py:981: InsecureRequestWarning: Unverified HTTPS request is being made to host 'sis-dev.climate.copernicus.eu'. Adding certificate verification is strongly advised. See: https://urllib3.readthedocs.io/en/latest/advanced-usage.html#ssl-warnings\n",
      "  warnings.warn(\n",
      "2020-10-20 14:32:15,924 INFO Request is queued\n",
      "/opt/anaconda3/lib/python3.8/site-packages/urllib3/connectionpool.py:981: InsecureRequestWarning: Unverified HTTPS request is being made to host 'sis-dev.climate.copernicus.eu'. Adding certificate verification is strongly advised. See: https://urllib3.readthedocs.io/en/latest/advanced-usage.html#ssl-warnings\n",
      "  warnings.warn(\n",
      "2020-10-20 14:32:16,958 INFO Request is running\n",
      "/opt/anaconda3/lib/python3.8/site-packages/urllib3/connectionpool.py:981: InsecureRequestWarning: Unverified HTTPS request is being made to host 'sis-dev.climate.copernicus.eu'. Adding certificate verification is strongly advised. See: https://urllib3.readthedocs.io/en/latest/advanced-usage.html#ssl-warnings\n",
      "  warnings.warn(\n",
      "/opt/anaconda3/lib/python3.8/site-packages/urllib3/connectionpool.py:981: InsecureRequestWarning: Unverified HTTPS request is being made to host 'sis-dev.climate.copernicus.eu'. Adding certificate verification is strongly advised. See: https://urllib3.readthedocs.io/en/latest/advanced-usage.html#ssl-warnings\n",
      "  warnings.warn(\n",
      "/opt/anaconda3/lib/python3.8/site-packages/urllib3/connectionpool.py:981: InsecureRequestWarning: Unverified HTTPS request is being made to host 'sis-dev.climate.copernicus.eu'. Adding certificate verification is strongly advised. See: https://urllib3.readthedocs.io/en/latest/advanced-usage.html#ssl-warnings\n",
      "  warnings.warn(\n",
      "2020-10-20 14:32:24,189 INFO Request is completed\n",
      "2020-10-20 14:32:24,189 INFO Downloading http://136.156.132.176/cache-compute-0000/cache/data2/adaptor.insitu_reference.retrieve_test-1603197141.1084538-16035-20-f427ecd0-d8dd-4ce7-b6b1-0fac6172c6df.zip to download.csv-lev.zip (4.4M)\n",
      "2020-10-20 14:32:24,773 INFO Download rate 7.6M/s   \n",
      "/opt/anaconda3/lib/python3.8/site-packages/urllib3/connectionpool.py:981: InsecureRequestWarning: Unverified HTTPS request is being made to host 'sis-dev.climate.copernicus.eu'. Adding certificate verification is strongly advised. See: https://urllib3.readthedocs.io/en/latest/advanced-usage.html#ssl-warnings\n",
      "  warnings.warn(\n",
      "2020-10-20 14:32:24,853 INFO Downloading http://136.156.132.176/cache-compute-0000/cache/data2/adaptor.insitu_reference.retrieve_test-1603197141.1084538-16035-20-f427ecd0-d8dd-4ce7-b6b1-0fac6172c6df.zip to download.zip (4.4M)\n",
      "2020-10-20 14:32:24,998 INFO Download rate 30.7M/s  \n"
     ]
    },
    {
     "name": "stdout",
     "output_type": "stream",
     "text": [
      "Time elapsed:  9.253928661346436 s\n"
     ]
    }
   ],
   "source": [
    "t0 = time.time()\n",
    "\n",
    "c = cdsapi.Client()\n",
    "r = c.retrieve(\n",
    "    'insitu-observations-igra-baseline-network',\n",
    "    {\n",
    "        'source': 'IGRA_H',\n",
    "        'area': [\n",
    "            90, -180, -90,\n",
    "            180,\n",
    "        ],\n",
    "        'format': 'csv-lev.zip',\n",
    "        'variable': 'air_temperature',\n",
    "        'day': [\n",
    "            '01', '02', '03',\n",
    "            '04', '05', '06',\n",
    "            '07', '08', '09',\n",
    "            '10', '11', '12',\n",
    "            '13', '14', '15',\n",
    "            '16', '17', '18',\n",
    "            '19', '20', '21',\n",
    "            '22', '23', '24',\n",
    "            '25', '26', '27',\n",
    "            '28', '29', '30',\n",
    "            '31',\n",
    "        ],\n",
    "        'month': '01',\n",
    "        'year': '1989',\n",
    "    },\n",
    "    'download.csv-lev.zip')\n",
    "if True:\n",
    "    # Start Download\n",
    "    r.download(target='download.zip')\n",
    "    # Check file size\n",
    "    assert os.stat('download.zip').st_size == r.content_length, \"Downloaded file is incomplete\"\n",
    "    \n",
    "print(\"Time elapsed: \", time.time()-t0, \"s\")"
   ]
  },
  {
   "cell_type": "code",
   "execution_count": 4,
   "metadata": {},
   "outputs": [
    {
     "name": "stdout",
     "output_type": "stream",
     "text": [
      "Unzipping retrieved files\n",
      "['IGRA_H_20150101_20150131_global_cdm-lev.csv']\n"
     ]
    }
   ],
   "source": [
    "z = zipfile.ZipFile('download.zip')\n",
    "print(\"Unzipping retrieved files\")\n",
    "print(z.namelist())\n",
    "z.extractall(path='./REQUESTTEST/IGRA')\n",
    "z.close()\n",
    "os.remove('download.zip')"
   ]
  },
  {
   "cell_type": "markdown",
   "metadata": {},
   "source": [
    "---"
   ]
  },
  {
   "cell_type": "markdown",
   "metadata": {},
   "source": [
    "## COMP"
   ]
  },
  {
   "cell_type": "code",
   "execution_count": 6,
   "metadata": {},
   "outputs": [
    {
     "name": "stderr",
     "output_type": "stream",
     "text": [
      "/opt/anaconda3/lib/python3.8/site-packages/urllib3/connectionpool.py:981: InsecureRequestWarning: Unverified HTTPS request is being made to host 'sis-dev.climate.copernicus.eu'. Adding certificate verification is strongly advised. See: https://urllib3.readthedocs.io/en/latest/advanced-usage.html#ssl-warnings\n",
      "  warnings.warn(\n",
      "2020-10-20 14:01:54,054 INFO Welcome to the CDS\n",
      "2020-10-20 14:01:54,054 INFO Sending request to https://sis-dev.climate.copernicus.eu/api/v2/resources/insitu-comprehensive-upper-air-observation-network\n",
      "/opt/anaconda3/lib/python3.8/site-packages/urllib3/connectionpool.py:981: InsecureRequestWarning: Unverified HTTPS request is being made to host 'sis-dev.climate.copernicus.eu'. Adding certificate verification is strongly advised. See: https://urllib3.readthedocs.io/en/latest/advanced-usage.html#ssl-warnings\n",
      "  warnings.warn(\n",
      "2020-10-20 14:01:54,298 INFO Request is queued\n",
      "/opt/anaconda3/lib/python3.8/site-packages/urllib3/connectionpool.py:981: InsecureRequestWarning: Unverified HTTPS request is being made to host 'sis-dev.climate.copernicus.eu'. Adding certificate verification is strongly advised. See: https://urllib3.readthedocs.io/en/latest/advanced-usage.html#ssl-warnings\n",
      "  warnings.warn(\n",
      "2020-10-20 14:01:55,331 INFO Request is running\n",
      "/opt/anaconda3/lib/python3.8/site-packages/urllib3/connectionpool.py:981: InsecureRequestWarning: Unverified HTTPS request is being made to host 'sis-dev.climate.copernicus.eu'. Adding certificate verification is strongly advised. See: https://urllib3.readthedocs.io/en/latest/advanced-usage.html#ssl-warnings\n",
      "  warnings.warn(\n",
      "/opt/anaconda3/lib/python3.8/site-packages/urllib3/connectionpool.py:981: InsecureRequestWarning: Unverified HTTPS request is being made to host 'sis-dev.climate.copernicus.eu'. Adding certificate verification is strongly advised. See: https://urllib3.readthedocs.io/en/latest/advanced-usage.html#ssl-warnings\n",
      "  warnings.warn(\n",
      "/opt/anaconda3/lib/python3.8/site-packages/urllib3/connectionpool.py:981: InsecureRequestWarning: Unverified HTTPS request is being made to host 'sis-dev.climate.copernicus.eu'. Adding certificate verification is strongly advised. See: https://urllib3.readthedocs.io/en/latest/advanced-usage.html#ssl-warnings\n",
      "  warnings.warn(\n",
      "/opt/anaconda3/lib/python3.8/site-packages/urllib3/connectionpool.py:981: InsecureRequestWarning: Unverified HTTPS request is being made to host 'sis-dev.climate.copernicus.eu'. Adding certificate verification is strongly advised. See: https://urllib3.readthedocs.io/en/latest/advanced-usage.html#ssl-warnings\n",
      "  warnings.warn(\n",
      "/opt/anaconda3/lib/python3.8/site-packages/urllib3/connectionpool.py:981: InsecureRequestWarning: Unverified HTTPS request is being made to host 'sis-dev.climate.copernicus.eu'. Adding certificate verification is strongly advised. See: https://urllib3.readthedocs.io/en/latest/advanced-usage.html#ssl-warnings\n",
      "  warnings.warn(\n",
      "/opt/anaconda3/lib/python3.8/site-packages/urllib3/connectionpool.py:981: InsecureRequestWarning: Unverified HTTPS request is being made to host 'sis-dev.climate.copernicus.eu'. Adding certificate verification is strongly advised. See: https://urllib3.readthedocs.io/en/latest/advanced-usage.html#ssl-warnings\n",
      "  warnings.warn(\n",
      "/opt/anaconda3/lib/python3.8/site-packages/urllib3/connectionpool.py:981: InsecureRequestWarning: Unverified HTTPS request is being made to host 'sis-dev.climate.copernicus.eu'. Adding certificate verification is strongly advised. See: https://urllib3.readthedocs.io/en/latest/advanced-usage.html#ssl-warnings\n",
      "  warnings.warn(\n",
      "/opt/anaconda3/lib/python3.8/site-packages/urllib3/connectionpool.py:981: InsecureRequestWarning: Unverified HTTPS request is being made to host 'sis-dev.climate.copernicus.eu'. Adding certificate verification is strongly advised. See: https://urllib3.readthedocs.io/en/latest/advanced-usage.html#ssl-warnings\n",
      "  warnings.warn(\n",
      "/opt/anaconda3/lib/python3.8/site-packages/urllib3/connectionpool.py:981: InsecureRequestWarning: Unverified HTTPS request is being made to host 'sis-dev.climate.copernicus.eu'. Adding certificate verification is strongly advised. See: https://urllib3.readthedocs.io/en/latest/advanced-usage.html#ssl-warnings\n",
      "  warnings.warn(\n",
      "/opt/anaconda3/lib/python3.8/site-packages/urllib3/connectionpool.py:981: InsecureRequestWarning: Unverified HTTPS request is being made to host 'sis-dev.climate.copernicus.eu'. Adding certificate verification is strongly advised. See: https://urllib3.readthedocs.io/en/latest/advanced-usage.html#ssl-warnings\n",
      "  warnings.warn(\n",
      "/opt/anaconda3/lib/python3.8/site-packages/urllib3/connectionpool.py:981: InsecureRequestWarning: Unverified HTTPS request is being made to host 'sis-dev.climate.copernicus.eu'. Adding certificate verification is strongly advised. See: https://urllib3.readthedocs.io/en/latest/advanced-usage.html#ssl-warnings\n",
      "  warnings.warn(\n",
      "2020-10-20 14:06:12,556 INFO Request is completed\n",
      "/opt/anaconda3/lib/python3.8/site-packages/urllib3/connectionpool.py:981: InsecureRequestWarning: Unverified HTTPS request is being made to host 'sis-dev.climate.copernicus.eu'. Adding certificate verification is strongly advised. See: https://urllib3.readthedocs.io/en/latest/advanced-usage.html#ssl-warnings\n",
      "  warnings.warn(\n",
      "2020-10-20 14:06:12,596 INFO Downloading http://136.156.132.176/cache-compute-0000/cache/data2/adaptor.comprehensive_upper_air.retrieve-1603195517.5789483-30763-18-b8e7be79-b79e-4ac2-be55-f7ccbf81cb36.zip to download.zip (88.7M)\n",
      "2020-10-20 14:06:14,552 INFO Download rate 45.4M/s  \n"
     ]
    },
    {
     "name": "stdout",
     "output_type": "stream",
     "text": [
      "Time elapsed:  260.66215658187866 s\n"
     ]
    }
   ],
   "source": [
    "t0 = time.time()\n",
    "\n",
    "c = cdsapi.Client()\n",
    "r = c.retrieve(\n",
    "    'insitu-comprehensive-upper-air-observation-network',\n",
    "    {\n",
    "        'variable': ['air_temperature',],\n",
    "        'date': ['20150101-20150131'],\n",
    "        'format': 'csv',\n",
    "    })\n",
    "if True:\n",
    "    # Start Download\n",
    "    r.download(target='download.zip')\n",
    "    # Check file size\n",
    "    assert os.stat('download.zip').st_size == r.content_length, \"Downloaded file is incomplete\"\n",
    "    \n",
    "print(\"Time elapsed: \", time.time()-t0, \"s\")"
   ]
  },
  {
   "cell_type": "code",
   "execution_count": 7,
   "metadata": {},
   "outputs": [
    {
     "name": "stdout",
     "output_type": "stream",
     "text": [
      "Unzipping retrieved files\n",
      "['temperature.csv']\n"
     ]
    }
   ],
   "source": [
    "z = zipfile.ZipFile('download.zip')\n",
    "print(\"Unzipping retrieved files\")\n",
    "print(z.namelist())\n",
    "z.extractall(path='./REQUESTTEST/COMP')\n",
    "z.close()\n",
    "os.remove('download.zip')"
   ]
  },
  {
   "cell_type": "markdown",
   "metadata": {},
   "source": [
    "---"
   ]
  },
  {
   "cell_type": "markdown",
   "metadata": {},
   "source": [
    "## COMP as .nc"
   ]
  },
  {
   "cell_type": "code",
   "execution_count": 9,
   "metadata": {},
   "outputs": [
    {
     "name": "stderr",
     "output_type": "stream",
     "text": [
      "/opt/anaconda3/lib/python3.8/site-packages/urllib3/connectionpool.py:981: InsecureRequestWarning: Unverified HTTPS request is being made to host 'sis-dev.climate.copernicus.eu'. Adding certificate verification is strongly advised. See: https://urllib3.readthedocs.io/en/latest/advanced-usage.html#ssl-warnings\n",
      "  warnings.warn(\n",
      "2020-10-20 14:07:07,041 INFO Welcome to the CDS\n",
      "2020-10-20 14:07:07,042 INFO Sending request to https://sis-dev.climate.copernicus.eu/api/v2/resources/insitu-comprehensive-upper-air-observation-network\n",
      "/opt/anaconda3/lib/python3.8/site-packages/urllib3/connectionpool.py:981: InsecureRequestWarning: Unverified HTTPS request is being made to host 'sis-dev.climate.copernicus.eu'. Adding certificate verification is strongly advised. See: https://urllib3.readthedocs.io/en/latest/advanced-usage.html#ssl-warnings\n",
      "  warnings.warn(\n",
      "2020-10-20 14:07:07,109 INFO Request is queued\n",
      "/opt/anaconda3/lib/python3.8/site-packages/urllib3/connectionpool.py:981: InsecureRequestWarning: Unverified HTTPS request is being made to host 'sis-dev.climate.copernicus.eu'. Adding certificate verification is strongly advised. See: https://urllib3.readthedocs.io/en/latest/advanced-usage.html#ssl-warnings\n",
      "  warnings.warn(\n",
      "2020-10-20 14:07:08,141 INFO Request is running\n",
      "/opt/anaconda3/lib/python3.8/site-packages/urllib3/connectionpool.py:981: InsecureRequestWarning: Unverified HTTPS request is being made to host 'sis-dev.climate.copernicus.eu'. Adding certificate verification is strongly advised. See: https://urllib3.readthedocs.io/en/latest/advanced-usage.html#ssl-warnings\n",
      "  warnings.warn(\n",
      "/opt/anaconda3/lib/python3.8/site-packages/urllib3/connectionpool.py:981: InsecureRequestWarning: Unverified HTTPS request is being made to host 'sis-dev.climate.copernicus.eu'. Adding certificate verification is strongly advised. See: https://urllib3.readthedocs.io/en/latest/advanced-usage.html#ssl-warnings\n",
      "  warnings.warn(\n",
      "/opt/anaconda3/lib/python3.8/site-packages/urllib3/connectionpool.py:981: InsecureRequestWarning: Unverified HTTPS request is being made to host 'sis-dev.climate.copernicus.eu'. Adding certificate verification is strongly advised. See: https://urllib3.readthedocs.io/en/latest/advanced-usage.html#ssl-warnings\n",
      "  warnings.warn(\n",
      "/opt/anaconda3/lib/python3.8/site-packages/urllib3/connectionpool.py:981: InsecureRequestWarning: Unverified HTTPS request is being made to host 'sis-dev.climate.copernicus.eu'. Adding certificate verification is strongly advised. See: https://urllib3.readthedocs.io/en/latest/advanced-usage.html#ssl-warnings\n",
      "  warnings.warn(\n",
      "/opt/anaconda3/lib/python3.8/site-packages/urllib3/connectionpool.py:981: InsecureRequestWarning: Unverified HTTPS request is being made to host 'sis-dev.climate.copernicus.eu'. Adding certificate verification is strongly advised. See: https://urllib3.readthedocs.io/en/latest/advanced-usage.html#ssl-warnings\n",
      "  warnings.warn(\n",
      "/opt/anaconda3/lib/python3.8/site-packages/urllib3/connectionpool.py:981: InsecureRequestWarning: Unverified HTTPS request is being made to host 'sis-dev.climate.copernicus.eu'. Adding certificate verification is strongly advised. See: https://urllib3.readthedocs.io/en/latest/advanced-usage.html#ssl-warnings\n",
      "  warnings.warn(\n",
      "/opt/anaconda3/lib/python3.8/site-packages/urllib3/connectionpool.py:981: InsecureRequestWarning: Unverified HTTPS request is being made to host 'sis-dev.climate.copernicus.eu'. Adding certificate verification is strongly advised. See: https://urllib3.readthedocs.io/en/latest/advanced-usage.html#ssl-warnings\n",
      "  warnings.warn(\n",
      "2020-10-20 14:07:56,660 INFO Request is completed\n",
      "/opt/anaconda3/lib/python3.8/site-packages/urllib3/connectionpool.py:981: InsecureRequestWarning: Unverified HTTPS request is being made to host 'sis-dev.climate.copernicus.eu'. Adding certificate verification is strongly advised. See: https://urllib3.readthedocs.io/en/latest/advanced-usage.html#ssl-warnings\n",
      "  warnings.warn(\n",
      "2020-10-20 14:07:56,700 INFO Downloading http://136.156.132.176/cache-compute-0002/cache/data2/adaptor.comprehensive_upper_air.retrieve-1603195666.9085066-26007-21-8606fa00-bb2e-48e9-9645-8025bb42b691.zip to download.zip (145.5M)\n",
      "2020-10-20 14:08:04,245 INFO Download rate 19.3M/s \n"
     ]
    },
    {
     "name": "stdout",
     "output_type": "stream",
     "text": [
      "Time elapsed:  57.233633279800415 s\n"
     ]
    }
   ],
   "source": [
    "t0 = time.time()\n",
    "\n",
    "c = cdsapi.Client()\n",
    "r = c.retrieve(\n",
    "    'insitu-comprehensive-upper-air-observation-network',\n",
    "    {\n",
    "        'variable': ['air_temperature',],\n",
    "        'date': ['20150101-20150131'],\n",
    "        'format': 'nc',\n",
    "    })\n",
    "if True:\n",
    "    # Start Download\n",
    "    r.download(target='download.zip')\n",
    "    # Check file size\n",
    "    assert os.stat('download.zip').st_size == r.content_length, \"Downloaded file is incomplete\"\n",
    "    \n",
    "print(\"Time elapsed: \", time.time()-t0, \"s\")"
   ]
  },
  {
   "cell_type": "markdown",
   "metadata": {},
   "source": [
    "---"
   ]
  },
  {
   "cell_type": "markdown",
   "metadata": {},
   "source": [
    "# Whats inside the data:"
   ]
  },
  {
   "cell_type": "markdown",
   "metadata": {},
   "source": [
    "## IGRA"
   ]
  },
  {
   "cell_type": "code",
   "execution_count": 66,
   "metadata": {},
   "outputs": [
    {
     "data": {
      "text/html": [
       "<div>\n",
       "<style scoped>\n",
       "    .dataframe tbody tr th:only-of-type {\n",
       "        vertical-align: middle;\n",
       "    }\n",
       "\n",
       "    .dataframe tbody tr th {\n",
       "        vertical-align: top;\n",
       "    }\n",
       "\n",
       "    .dataframe thead th {\n",
       "        text-align: right;\n",
       "    }\n",
       "</style>\n",
       "<table border=\"1\" class=\"dataframe\">\n",
       "  <thead>\n",
       "    <tr style=\"text-align: right;\">\n",
       "      <th></th>\n",
       "      <th>station_name</th>\n",
       "      <th>report_timestamp</th>\n",
       "      <th>actual_time</th>\n",
       "      <th>report_id</th>\n",
       "      <th>location_longitude</th>\n",
       "      <th>location_latitude</th>\n",
       "      <th>height_of_station_above_sea_level</th>\n",
       "      <th>air_pressure</th>\n",
       "      <th>air_temperature</th>\n",
       "    </tr>\n",
       "  </thead>\n",
       "  <tbody>\n",
       "    <tr>\n",
       "      <th>0</th>\n",
       "      <td>ZZV000ASFR4</td>\n",
       "      <td>2015-01-01 00:00:00+00</td>\n",
       "      <td>2014-12-31 22:48:00+00</td>\n",
       "      <td>19067</td>\n",
       "      <td>-998.8890</td>\n",
       "      <td>-98.8888</td>\n",
       "      <td>-998.8</td>\n",
       "      <td>30000</td>\n",
       "      <td>NaN</td>\n",
       "    </tr>\n",
       "    <tr>\n",
       "      <th>1</th>\n",
       "      <td>ZZV000ASFR4</td>\n",
       "      <td>2015-01-01 00:00:00+00</td>\n",
       "      <td>2014-12-31 22:48:00+00</td>\n",
       "      <td>19067</td>\n",
       "      <td>-998.8890</td>\n",
       "      <td>-98.8888</td>\n",
       "      <td>-998.8</td>\n",
       "      <td>94700</td>\n",
       "      <td>NaN</td>\n",
       "    </tr>\n",
       "    <tr>\n",
       "      <th>2</th>\n",
       "      <td>ZZV000ASFR4</td>\n",
       "      <td>2015-01-01 00:00:00+00</td>\n",
       "      <td>2014-12-31 22:48:00+00</td>\n",
       "      <td>19067</td>\n",
       "      <td>-998.8890</td>\n",
       "      <td>-98.8888</td>\n",
       "      <td>-998.8</td>\n",
       "      <td>59100</td>\n",
       "      <td>NaN</td>\n",
       "    </tr>\n",
       "    <tr>\n",
       "      <th>3</th>\n",
       "      <td>ZZV000ASFR4</td>\n",
       "      <td>2015-01-01 00:00:00+00</td>\n",
       "      <td>2014-12-31 22:48:00+00</td>\n",
       "      <td>19067</td>\n",
       "      <td>-998.8890</td>\n",
       "      <td>-98.8888</td>\n",
       "      <td>-998.8</td>\n",
       "      <td>1110</td>\n",
       "      <td>NaN</td>\n",
       "    </tr>\n",
       "    <tr>\n",
       "      <th>4</th>\n",
       "      <td>ZZV000ASFR4</td>\n",
       "      <td>2015-01-01 00:00:00+00</td>\n",
       "      <td>2014-12-31 22:48:00+00</td>\n",
       "      <td>19067</td>\n",
       "      <td>-998.8890</td>\n",
       "      <td>-98.8888</td>\n",
       "      <td>-998.8</td>\n",
       "      <td>20000</td>\n",
       "      <td>NaN</td>\n",
       "    </tr>\n",
       "    <tr>\n",
       "      <th>...</th>\n",
       "      <td>...</td>\n",
       "      <td>...</td>\n",
       "      <td>...</td>\n",
       "      <td>...</td>\n",
       "      <td>...</td>\n",
       "      <td>...</td>\n",
       "      <td>...</td>\n",
       "      <td>...</td>\n",
       "      <td>...</td>\n",
       "    </tr>\n",
       "    <tr>\n",
       "      <th>1441826</th>\n",
       "      <td>AYM00089571</td>\n",
       "      <td>2015-01-17 00:00:00+00</td>\n",
       "      <td>2015-01-16 23:16:00+00</td>\n",
       "      <td>5705945</td>\n",
       "      <td>77.9672</td>\n",
       "      <td>-68.5744</td>\n",
       "      <td>18.0</td>\n",
       "      <td>27000</td>\n",
       "      <td>224.82</td>\n",
       "    </tr>\n",
       "    <tr>\n",
       "      <th>1441827</th>\n",
       "      <td>AYM00089571</td>\n",
       "      <td>2015-01-17 00:00:00+00</td>\n",
       "      <td>2015-01-16 23:16:00+00</td>\n",
       "      <td>5705945</td>\n",
       "      <td>77.9672</td>\n",
       "      <td>-68.5744</td>\n",
       "      <td>18.0</td>\n",
       "      <td>37400</td>\n",
       "      <td>228.39</td>\n",
       "    </tr>\n",
       "    <tr>\n",
       "      <th>1441828</th>\n",
       "      <td>AYM00089571</td>\n",
       "      <td>2015-01-17 00:00:00+00</td>\n",
       "      <td>2015-01-16 23:16:00+00</td>\n",
       "      <td>5705945</td>\n",
       "      <td>77.9672</td>\n",
       "      <td>-68.5744</td>\n",
       "      <td>18.0</td>\n",
       "      <td>10000</td>\n",
       "      <td>225.71</td>\n",
       "    </tr>\n",
       "    <tr>\n",
       "      <th>1441829</th>\n",
       "      <td>AYM00089571</td>\n",
       "      <td>2015-01-17 00:00:00+00</td>\n",
       "      <td>2015-01-16 23:16:00+00</td>\n",
       "      <td>5705945</td>\n",
       "      <td>77.9672</td>\n",
       "      <td>-68.5744</td>\n",
       "      <td>18.0</td>\n",
       "      <td>5300</td>\n",
       "      <td>233.76</td>\n",
       "    </tr>\n",
       "    <tr>\n",
       "      <th>1441830</th>\n",
       "      <td>AYM00089571</td>\n",
       "      <td>2015-01-17 00:00:00+00</td>\n",
       "      <td>2015-01-16 23:16:00+00</td>\n",
       "      <td>5705945</td>\n",
       "      <td>77.9672</td>\n",
       "      <td>-68.5744</td>\n",
       "      <td>18.0</td>\n",
       "      <td>100000</td>\n",
       "      <td>269.95</td>\n",
       "    </tr>\n",
       "  </tbody>\n",
       "</table>\n",
       "<p>1441831 rows × 9 columns</p>\n",
       "</div>"
      ],
      "text/plain": [
       "        station_name        report_timestamp             actual_time  \\\n",
       "0        ZZV000ASFR4  2015-01-01 00:00:00+00  2014-12-31 22:48:00+00   \n",
       "1        ZZV000ASFR4  2015-01-01 00:00:00+00  2014-12-31 22:48:00+00   \n",
       "2        ZZV000ASFR4  2015-01-01 00:00:00+00  2014-12-31 22:48:00+00   \n",
       "3        ZZV000ASFR4  2015-01-01 00:00:00+00  2014-12-31 22:48:00+00   \n",
       "4        ZZV000ASFR4  2015-01-01 00:00:00+00  2014-12-31 22:48:00+00   \n",
       "...              ...                     ...                     ...   \n",
       "1441826  AYM00089571  2015-01-17 00:00:00+00  2015-01-16 23:16:00+00   \n",
       "1441827  AYM00089571  2015-01-17 00:00:00+00  2015-01-16 23:16:00+00   \n",
       "1441828  AYM00089571  2015-01-17 00:00:00+00  2015-01-16 23:16:00+00   \n",
       "1441829  AYM00089571  2015-01-17 00:00:00+00  2015-01-16 23:16:00+00   \n",
       "1441830  AYM00089571  2015-01-17 00:00:00+00  2015-01-16 23:16:00+00   \n",
       "\n",
       "         report_id  location_longitude  location_latitude  \\\n",
       "0            19067           -998.8890           -98.8888   \n",
       "1            19067           -998.8890           -98.8888   \n",
       "2            19067           -998.8890           -98.8888   \n",
       "3            19067           -998.8890           -98.8888   \n",
       "4            19067           -998.8890           -98.8888   \n",
       "...            ...                 ...                ...   \n",
       "1441826    5705945             77.9672           -68.5744   \n",
       "1441827    5705945             77.9672           -68.5744   \n",
       "1441828    5705945             77.9672           -68.5744   \n",
       "1441829    5705945             77.9672           -68.5744   \n",
       "1441830    5705945             77.9672           -68.5744   \n",
       "\n",
       "         height_of_station_above_sea_level  air_pressure  air_temperature  \n",
       "0                                   -998.8         30000              NaN  \n",
       "1                                   -998.8         94700              NaN  \n",
       "2                                   -998.8         59100              NaN  \n",
       "3                                   -998.8          1110              NaN  \n",
       "4                                   -998.8         20000              NaN  \n",
       "...                                    ...           ...              ...  \n",
       "1441826                               18.0         27000           224.82  \n",
       "1441827                               18.0         37400           228.39  \n",
       "1441828                               18.0         10000           225.71  \n",
       "1441829                               18.0          5300           233.76  \n",
       "1441830                               18.0        100000           269.95  \n",
       "\n",
       "[1441831 rows x 9 columns]"
      ]
     },
     "execution_count": 66,
     "metadata": {},
     "output_type": "execute_result"
    }
   ],
   "source": [
    "files = glob.glob('REQUESTTEST/IGRA/*.csv')\n",
    "igra = pandas.read_csv(files[0], header=11)\n",
    "igra"
   ]
  },
  {
   "cell_type": "markdown",
   "metadata": {},
   "source": [
    "### Stations:"
   ]
  },
  {
   "cell_type": "code",
   "execution_count": 67,
   "metadata": {},
   "outputs": [
    {
     "name": "stdout",
     "output_type": "stream",
     "text": [
      "Stations requested: 582\n"
     ]
    }
   ],
   "source": [
    "print('Stations requested: ' + str(len(igra.station_name.drop_duplicates())))"
   ]
  },
  {
   "cell_type": "markdown",
   "metadata": {},
   "source": [
    "### Points in time:"
   ]
  },
  {
   "cell_type": "code",
   "execution_count": 68,
   "metadata": {},
   "outputs": [
    {
     "name": "stdout",
     "output_type": "stream",
     "text": [
      "Ascents per month: 62\n",
      "datetimes requested: 62\n",
      "cleaned datetimes requested: 62\n"
     ]
    }
   ],
   "source": [
    "print('Ascents per month: ' + str(31 * 2))\n",
    "print('datetimes requested: ' + str(len(igra.report_timestamp.drop_duplicates())))\n",
    "\n",
    "igra_cleaned = igra\n",
    "igra_cleaned.report_timestamp = pandas.to_datetime(igra_cleaned.report_timestamp, utc=True)\n",
    "igra_cleaned = igra_cleaned[igra_cleaned.report_timestamp.dt.hour == 12].append(igra_cleaned[igra_cleaned.report_timestamp.dt.hour == 0])\n",
    "igra_cleaned = igra_cleaned[igra_cleaned.report_timestamp.dt.minute == 0]\n",
    "igra_cleaned = igra_cleaned[igra_cleaned.report_timestamp.dt.second == 0]\n",
    "\n",
    "print('cleaned datetimes requested: ' + str(len(igra_cleaned.report_timestamp.drop_duplicates())))"
   ]
  },
  {
   "cell_type": "code",
   "execution_count": 69,
   "metadata": {},
   "outputs": [
    {
     "name": "stdout",
     "output_type": "stream",
     "text": [
      "<class 'pandas.core.frame.DataFrame'>\n",
      "RangeIndex: 1441831 entries, 0 to 1441830\n",
      "Data columns (total 9 columns):\n",
      " #   Column                             Non-Null Count    Dtype              \n",
      "---  ------                             --------------    -----              \n",
      " 0   station_name                       1441831 non-null  object             \n",
      " 1   report_timestamp                   1441831 non-null  datetime64[ns, UTC]\n",
      " 2   actual_time                        1441831 non-null  object             \n",
      " 3   report_id                          1441831 non-null  int64              \n",
      " 4   location_longitude                 1441831 non-null  float64            \n",
      " 5   location_latitude                  1441831 non-null  float64            \n",
      " 6   height_of_station_above_sea_level  1441831 non-null  float64            \n",
      " 7   air_pressure                       1441831 non-null  int64              \n",
      " 8   air_temperature                    1391871 non-null  float64            \n",
      "dtypes: datetime64[ns, UTC](1), float64(4), int64(2), object(2)\n",
      "memory usage: 99.0+ MB\n"
     ]
    }
   ],
   "source": [
    "igra.info()"
   ]
  },
  {
   "cell_type": "code",
   "execution_count": 70,
   "metadata": {},
   "outputs": [
    {
     "name": "stdout",
     "output_type": "stream",
     "text": [
      "<class 'pandas.core.frame.DataFrame'>\n",
      "Int64Index: 1441831 entries, 3012 to 1441830\n",
      "Data columns (total 9 columns):\n",
      " #   Column                             Non-Null Count    Dtype              \n",
      "---  ------                             --------------    -----              \n",
      " 0   station_name                       1441831 non-null  object             \n",
      " 1   report_timestamp                   1441831 non-null  datetime64[ns, UTC]\n",
      " 2   actual_time                        1441831 non-null  object             \n",
      " 3   report_id                          1441831 non-null  int64              \n",
      " 4   location_longitude                 1441831 non-null  float64            \n",
      " 5   location_latitude                  1441831 non-null  float64            \n",
      " 6   height_of_station_above_sea_level  1441831 non-null  float64            \n",
      " 7   air_pressure                       1441831 non-null  int64              \n",
      " 8   air_temperature                    1391871 non-null  float64            \n",
      "dtypes: datetime64[ns, UTC](1), float64(4), int64(2), object(2)\n",
      "memory usage: 110.0+ MB\n"
     ]
    }
   ],
   "source": [
    "igra_cleaned.info()"
   ]
  },
  {
   "cell_type": "code",
   "execution_count": 71,
   "metadata": {},
   "outputs": [
    {
     "data": {
      "text/plain": [
       "49960"
      ]
     },
     "execution_count": 71,
     "metadata": {},
     "output_type": "execute_result"
    }
   ],
   "source": [
    "igra.air_temperature.isnull().sum()"
   ]
  },
  {
   "cell_type": "markdown",
   "metadata": {},
   "source": [
    "### Missing data:"
   ]
  },
  {
   "cell_type": "code",
   "execution_count": 72,
   "metadata": {},
   "outputs": [
    {
     "name": "stdout",
     "output_type": "stream",
     "text": [
      "Missing data: 3.465038551674919%\n"
     ]
    }
   ],
   "source": [
    "print('Missing data: '+ str(100./len(igra)*igra.air_temperature.isnull().sum()) + '%')"
   ]
  },
  {
   "cell_type": "markdown",
   "metadata": {},
   "source": [
    "## COMP"
   ]
  },
  {
   "cell_type": "code",
   "execution_count": 73,
   "metadata": {},
   "outputs": [
    {
     "data": {
      "text/html": [
       "<div>\n",
       "<style scoped>\n",
       "    .dataframe tbody tr th:only-of-type {\n",
       "        vertical-align: middle;\n",
       "    }\n",
       "\n",
       "    .dataframe tbody tr th {\n",
       "        vertical-align: top;\n",
       "    }\n",
       "\n",
       "    .dataframe thead th {\n",
       "        text-align: right;\n",
       "    }\n",
       "</style>\n",
       "<table border=\"1\" class=\"dataframe\">\n",
       "  <thead>\n",
       "    <tr style=\"text-align: right;\">\n",
       "      <th></th>\n",
       "      <th>obs_id</th>\n",
       "      <th>lat</th>\n",
       "      <th>lon</th>\n",
       "      <th>plev</th>\n",
       "      <th>ta</th>\n",
       "      <th>time</th>\n",
       "      <th>trajectory_label</th>\n",
       "      <th>statid</th>\n",
       "      <th>statindex</th>\n",
       "    </tr>\n",
       "  </thead>\n",
       "  <tbody>\n",
       "    <tr>\n",
       "      <th>0</th>\n",
       "      <td>0</td>\n",
       "      <td>56.55</td>\n",
       "      <td>3.21</td>\n",
       "      <td>7320.0</td>\n",
       "      <td>212.90</td>\n",
       "      <td>2015-01-01 00:00:00</td>\n",
       "      <td>10000013441</td>\n",
       "      <td>0-20000-0-01400</td>\n",
       "      <td>0</td>\n",
       "    </tr>\n",
       "    <tr>\n",
       "      <th>1</th>\n",
       "      <td>1</td>\n",
       "      <td>56.55</td>\n",
       "      <td>3.21</td>\n",
       "      <td>8210.0</td>\n",
       "      <td>212.10</td>\n",
       "      <td>2015-01-01 00:00:00</td>\n",
       "      <td>10000013441</td>\n",
       "      <td>0-20000-0-01400</td>\n",
       "      <td>0</td>\n",
       "    </tr>\n",
       "    <tr>\n",
       "      <th>2</th>\n",
       "      <td>2</td>\n",
       "      <td>56.55</td>\n",
       "      <td>3.21</td>\n",
       "      <td>8980.0</td>\n",
       "      <td>215.10</td>\n",
       "      <td>2015-01-01 00:00:00</td>\n",
       "      <td>10000013441</td>\n",
       "      <td>0-20000-0-01400</td>\n",
       "      <td>0</td>\n",
       "    </tr>\n",
       "    <tr>\n",
       "      <th>3</th>\n",
       "      <td>3</td>\n",
       "      <td>56.55</td>\n",
       "      <td>3.21</td>\n",
       "      <td>10000.0</td>\n",
       "      <td>211.90</td>\n",
       "      <td>2015-01-01 00:00:00</td>\n",
       "      <td>10000013441</td>\n",
       "      <td>0-20000-0-01400</td>\n",
       "      <td>0</td>\n",
       "    </tr>\n",
       "    <tr>\n",
       "      <th>4</th>\n",
       "      <td>4</td>\n",
       "      <td>56.55</td>\n",
       "      <td>3.21</td>\n",
       "      <td>12500.0</td>\n",
       "      <td>216.10</td>\n",
       "      <td>2015-01-01 00:00:00</td>\n",
       "      <td>10000013441</td>\n",
       "      <td>0-20000-0-01400</td>\n",
       "      <td>0</td>\n",
       "    </tr>\n",
       "    <tr>\n",
       "      <th>...</th>\n",
       "      <td>...</td>\n",
       "      <td>...</td>\n",
       "      <td>...</td>\n",
       "      <td>...</td>\n",
       "      <td>...</td>\n",
       "      <td>...</td>\n",
       "      <td>...</td>\n",
       "      <td>...</td>\n",
       "      <td>...</td>\n",
       "    </tr>\n",
       "    <tr>\n",
       "      <th>11074133</th>\n",
       "      <td>11074133</td>\n",
       "      <td>7.12</td>\n",
       "      <td>125.65</td>\n",
       "      <td>70000.0</td>\n",
       "      <td>284.45</td>\n",
       "      <td>2015-01-31 12:12:00</td>\n",
       "      <td>40098134773</td>\n",
       "      <td>0-20000-0-98753</td>\n",
       "      <td>809</td>\n",
       "    </tr>\n",
       "    <tr>\n",
       "      <th>11074134</th>\n",
       "      <td>11074134</td>\n",
       "      <td>7.12</td>\n",
       "      <td>125.65</td>\n",
       "      <td>85000.0</td>\n",
       "      <td>289.95</td>\n",
       "      <td>2015-01-31 12:12:00</td>\n",
       "      <td>40098134773</td>\n",
       "      <td>0-20000-0-98753</td>\n",
       "      <td>809</td>\n",
       "    </tr>\n",
       "    <tr>\n",
       "      <th>11074135</th>\n",
       "      <td>11074135</td>\n",
       "      <td>7.12</td>\n",
       "      <td>125.65</td>\n",
       "      <td>92500.0</td>\n",
       "      <td>294.25</td>\n",
       "      <td>2015-01-31 12:12:00</td>\n",
       "      <td>40098134773</td>\n",
       "      <td>0-20000-0-98753</td>\n",
       "      <td>809</td>\n",
       "    </tr>\n",
       "    <tr>\n",
       "      <th>11074136</th>\n",
       "      <td>11074136</td>\n",
       "      <td>7.12</td>\n",
       "      <td>125.65</td>\n",
       "      <td>100000.0</td>\n",
       "      <td>298.65</td>\n",
       "      <td>2015-01-31 12:12:00</td>\n",
       "      <td>40098134773</td>\n",
       "      <td>0-20000-0-98753</td>\n",
       "      <td>809</td>\n",
       "    </tr>\n",
       "    <tr>\n",
       "      <th>11074137</th>\n",
       "      <td>11074137</td>\n",
       "      <td>7.12</td>\n",
       "      <td>125.65</td>\n",
       "      <td>101100.0</td>\n",
       "      <td>299.25</td>\n",
       "      <td>2015-01-31 12:12:00</td>\n",
       "      <td>40098134773</td>\n",
       "      <td>0-20000-0-98753</td>\n",
       "      <td>809</td>\n",
       "    </tr>\n",
       "  </tbody>\n",
       "</table>\n",
       "<p>11074138 rows × 9 columns</p>\n",
       "</div>"
      ],
      "text/plain": [
       "            obs_id    lat     lon      plev      ta                 time  \\\n",
       "0                0  56.55    3.21    7320.0  212.90  2015-01-01 00:00:00   \n",
       "1                1  56.55    3.21    8210.0  212.10  2015-01-01 00:00:00   \n",
       "2                2  56.55    3.21    8980.0  215.10  2015-01-01 00:00:00   \n",
       "3                3  56.55    3.21   10000.0  211.90  2015-01-01 00:00:00   \n",
       "4                4  56.55    3.21   12500.0  216.10  2015-01-01 00:00:00   \n",
       "...            ...    ...     ...       ...     ...                  ...   \n",
       "11074133  11074133   7.12  125.65   70000.0  284.45  2015-01-31 12:12:00   \n",
       "11074134  11074134   7.12  125.65   85000.0  289.95  2015-01-31 12:12:00   \n",
       "11074135  11074135   7.12  125.65   92500.0  294.25  2015-01-31 12:12:00   \n",
       "11074136  11074136   7.12  125.65  100000.0  298.65  2015-01-31 12:12:00   \n",
       "11074137  11074137   7.12  125.65  101100.0  299.25  2015-01-31 12:12:00   \n",
       "\n",
       "          trajectory_label           statid  statindex  \n",
       "0              10000013441  0-20000-0-01400          0  \n",
       "1              10000013441  0-20000-0-01400          0  \n",
       "2              10000013441  0-20000-0-01400          0  \n",
       "3              10000013441  0-20000-0-01400          0  \n",
       "4              10000013441  0-20000-0-01400          0  \n",
       "...                    ...              ...        ...  \n",
       "11074133       40098134773  0-20000-0-98753        809  \n",
       "11074134       40098134773  0-20000-0-98753        809  \n",
       "11074135       40098134773  0-20000-0-98753        809  \n",
       "11074136       40098134773  0-20000-0-98753        809  \n",
       "11074137       40098134773  0-20000-0-98753        809  \n",
       "\n",
       "[11074138 rows x 9 columns]"
      ]
     },
     "execution_count": 73,
     "metadata": {},
     "output_type": "execute_result"
    }
   ],
   "source": [
    "files = glob.glob('REQUESTTEST/COMP/*.csv')\n",
    "comp = pandas.read_csv(files[0])\n",
    "comp"
   ]
  },
  {
   "cell_type": "markdown",
   "metadata": {},
   "source": [
    "### Stations:"
   ]
  },
  {
   "cell_type": "code",
   "execution_count": 74,
   "metadata": {},
   "outputs": [
    {
     "name": "stdout",
     "output_type": "stream",
     "text": [
      "Stations requested: 810\n"
     ]
    }
   ],
   "source": [
    "print('Stations requested: ' + str(len(comp.statid.drop_duplicates())))"
   ]
  },
  {
   "cell_type": "markdown",
   "metadata": {},
   "source": [
    "### Points in Time:"
   ]
  },
  {
   "cell_type": "code",
   "execution_count": 75,
   "metadata": {},
   "outputs": [
    {
     "name": "stdout",
     "output_type": "stream",
     "text": [
      "Ascents per month: 62\n",
      "datetimes requested: 9697\n",
      "cleaned datetimes requested: 62\n"
     ]
    }
   ],
   "source": [
    "print('Ascents per month: ' + str(31 * 2))\n",
    "print('datetimes requested: ' + str(len(comp.time.drop_duplicates())))\n",
    "\n",
    "comp_cleaned = comp\n",
    "comp_cleaned.time = pandas.to_datetime(comp_cleaned.time, utc=True)\n",
    "comp_cleaned = comp_cleaned[comp_cleaned.time.dt.hour == 12].append(comp_cleaned[comp_cleaned.time.dt.hour == 0])\n",
    "comp_cleaned = comp_cleaned[comp_cleaned.time.dt.minute == 0]\n",
    "comp_cleaned = comp_cleaned[comp_cleaned.time.dt.second == 0]\n",
    "print('cleaned datetimes requested: ' + str(len(comp_cleaned.time.drop_duplicates())))"
   ]
  },
  {
   "cell_type": "code",
   "execution_count": 76,
   "metadata": {},
   "outputs": [
    {
     "name": "stdout",
     "output_type": "stream",
     "text": [
      "<class 'pandas.core.frame.DataFrame'>\n",
      "RangeIndex: 11074138 entries, 0 to 11074137\n",
      "Data columns (total 9 columns):\n",
      " #   Column            Dtype              \n",
      "---  ------            -----              \n",
      " 0   obs_id            int64              \n",
      " 1   lat               float64            \n",
      " 2   lon               float64            \n",
      " 3   plev              float64            \n",
      " 4   ta                float64            \n",
      " 5   time              datetime64[ns, UTC]\n",
      " 6   trajectory_label  int64              \n",
      " 7   statid            object             \n",
      " 8   statindex         int64              \n",
      "dtypes: datetime64[ns, UTC](1), float64(4), int64(3), object(1)\n",
      "memory usage: 760.4+ MB\n"
     ]
    }
   ],
   "source": [
    "comp.info()"
   ]
  },
  {
   "cell_type": "code",
   "execution_count": 77,
   "metadata": {},
   "outputs": [
    {
     "name": "stdout",
     "output_type": "stream",
     "text": [
      "<class 'pandas.core.frame.DataFrame'>\n",
      "Int64Index: 1751488 entries, 84 to 11074038\n",
      "Data columns (total 9 columns):\n",
      " #   Column            Dtype              \n",
      "---  ------            -----              \n",
      " 0   obs_id            int64              \n",
      " 1   lat               float64            \n",
      " 2   lon               float64            \n",
      " 3   plev              float64            \n",
      " 4   ta                float64            \n",
      " 5   time              datetime64[ns, UTC]\n",
      " 6   trajectory_label  int64              \n",
      " 7   statid            object             \n",
      " 8   statindex         int64              \n",
      "dtypes: datetime64[ns, UTC](1), float64(4), int64(3), object(1)\n",
      "memory usage: 133.6+ MB\n"
     ]
    }
   ],
   "source": [
    "comp_cleaned.info()"
   ]
  },
  {
   "cell_type": "code",
   "execution_count": 78,
   "metadata": {},
   "outputs": [
    {
     "data": {
      "text/plain": [
       "0"
      ]
     },
     "execution_count": 78,
     "metadata": {},
     "output_type": "execute_result"
    }
   ],
   "source": [
    "comp.ta.isnull().sum()"
   ]
  },
  {
   "cell_type": "markdown",
   "metadata": {},
   "source": [
    "### Missing data:"
   ]
  },
  {
   "cell_type": "code",
   "execution_count": 79,
   "metadata": {},
   "outputs": [
    {
     "name": "stdout",
     "output_type": "stream",
     "text": [
      "Missing data: 0.0%\n"
     ]
    }
   ],
   "source": [
    "print('Missing data: '+ str(100./len(comp)*comp.ta.isnull().sum()) + '%')"
   ]
  },
  {
   "cell_type": "code",
   "execution_count": null,
   "metadata": {},
   "outputs": [],
   "source": []
  },
  {
   "cell_type": "code",
   "execution_count": null,
   "metadata": {},
   "outputs": [],
   "source": []
  }
 ],
 "metadata": {
  "kernelspec": {
   "display_name": "Python 3",
   "language": "python",
   "name": "python3"
  },
  "language_info": {
   "codemirror_mode": {
    "name": "ipython",
    "version": 3
   },
   "file_extension": ".py",
   "mimetype": "text/x-python",
   "name": "python",
   "nbconvert_exporter": "python",
   "pygments_lexer": "ipython3",
   "version": "3.8.5"
  }
 },
 "nbformat": 4,
 "nbformat_minor": 4
}
