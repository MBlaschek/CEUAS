{
 "cells": [
  {
   "cell_type": "markdown",
   "metadata": {},
   "source": [
    "# Comparison between \"Comprehensive upper-air observation network from 1905 to present\" and \"Insitu IGRA radiosoundings baseline network\"\n",
    "\n",
    "**Contains modified Copernicus Climate Change Service Information 2020**\n",
    "under [License](https://apps.ecmwf.int/datasets/licences/copernicus/)\n",
    "\n",
    "*Copernicus Climate Change Service (C3S) - Upper Air Data Service (2020)*\n",
    "\n",
    "The purpose of this IPython Notebook is to find differences in both mentioned data sets and to compare them. \n",
    "\n",
    "    Author: U. Voggenberger\n",
    "    Date: 02.2021\n",
    "    Contact: ulrich.voggenberger [at] univie.ac.at\n",
    "    License: C3S, 2021\n"
   ]
  },
  {
   "cell_type": "code",
   "execution_count": 1,
   "metadata": {},
   "outputs": [],
   "source": [
    "import pandas\n",
    "import numpy as np\n",
    "import sys, zipfile, os, time\n",
    "import matplotlib.pyplot as plt\n",
    "import glob\n",
    "import datetime\n",
    "import urllib3\n",
    "import cdsapi\n",
    "import xarray\n",
    "import shutil\n",
    "import warnings\n",
    "warnings.filterwarnings('ignore')"
   ]
  },
  {
   "cell_type": "code",
   "execution_count": 2,
   "metadata": {},
   "outputs": [],
   "source": [
    "import matplotlib.pylab as pylab\n",
    "params = {'legend.fontsize': 'x-large',\n",
    "          'figure.figsize': (16, 10),\n",
    "         'axes.labelsize': 20,\n",
    "         'axes.titlesize': 24,\n",
    "         'xtick.labelsize':'medium',\n",
    "         'ytick.labelsize':'medium'}\n",
    "pylab.rcParams.update(params)"
   ]
  },
  {
   "cell_type": "code",
   "execution_count": 3,
   "metadata": {},
   "outputs": [],
   "source": [
    "def request(rqdict, source):\n",
    "    t0 = time.time()\n",
    "\n",
    "    c = cdsapi.Client()\n",
    "    r = c.retrieve(\n",
    "        source,rqdict)\n",
    "    if True:\n",
    "        r.download(target='download.zip')\n",
    "        assert os.stat('download.zip').st_size == r.content_length, \"Downloaded file is incomplete\"\n",
    "    z = zipfile.ZipFile('download.zip')\n",
    "    z.extractall(path='./test/')\n",
    "    z.close()\n",
    "    print('Request took: ' + str(time.time() - t0) + ' seconds')\n",
    "    \n",
    "    files = glob.glob('./test/*.nc')\n",
    "    \n",
    "    if files[0].split('/')[-1].startswith('IGRA'):\n",
    "        ds = xarray.open_dataset(files[0])            \n",
    "        data = ds.to_dataframe()\n",
    "        for i in files[1:]:\n",
    "            ds = xarray.open_dataset(i)            \n",
    "            data = data.append(ds.to_dataframe())\n",
    "\n",
    "    else:\n",
    "        ds = xarray.open_dataset(files[0]) \n",
    "        to_be_removed = ['obs', 'string14', 'trajectory', 'trajectory_index', 'trajectory_label']\n",
    "        ds = ds.drop_vars(to_be_removed)\n",
    "        data = ds.to_dataframe()\n",
    "        for i in files[1:]:\n",
    "            ds = xarray.open_dataset(i)  \n",
    "            ds = ds.drop_vars(to_be_removed)\n",
    "            data = data.append(ds.to_dataframe())\n",
    "            \n",
    "    os.remove('download.zip')\n",
    "    try:\n",
    "       shutil.rmtree('./test/')\n",
    "    except:\n",
    "       print('Error while deleting directory')\n",
    "    \n",
    "    return data"
   ]
  },
  {
   "cell_type": "markdown",
   "metadata": {},
   "source": [
    "---"
   ]
  },
  {
   "cell_type": "markdown",
   "metadata": {},
   "source": [
    "# Comparing available stations for IGRA (and its harmonized version) and Comprehensive upper-air observation network (CUON)"
   ]
  },
  {
   "cell_type": "markdown",
   "metadata": {},
   "source": [
    "---"
   ]
  },
  {
   "cell_type": "code",
   "execution_count": 4,
   "metadata": {},
   "outputs": [],
   "source": [
    "cuon = 'insitu-comprehensive-upper-air-observation-network'\n",
    "igra = 'insitu-observations-igra-baseline-network'"
   ]
  },
  {
   "cell_type": "markdown",
   "metadata": {},
   "source": [
    "## Requesting the global data and checking for the number of different stations\n"
   ]
  },
  {
   "cell_type": "code",
   "execution_count": 6,
   "metadata": {},
   "outputs": [
    {
     "name": "stderr",
     "output_type": "stream",
     "text": [
      "2021-02-03 11:50:00,110 INFO Welcome to the CDS\n",
      "2021-02-03 11:50:00,111 INFO Sending request to https://sis-dev.climate.copernicus.eu/api/v2/resources/insitu-comprehensive-upper-air-observation-network\n",
      "2021-02-03 11:50:00,172 INFO Request is queued\n"
     ]
    },
    {
     "name": "stdout",
     "output_type": "stream",
     "text": [
      "date range: 1980-01-01/1980-01-02\n"
     ]
    },
    {
     "name": "stderr",
     "output_type": "stream",
     "text": [
      "2021-02-03 11:50:01,211 INFO Request is running\n",
      "2021-02-03 11:51:53,999 INFO Request is completed\n",
      "2021-02-03 11:51:54,000 INFO Downloading http://136.156.132.176/cache-compute-0002/cache/data1/adaptor.comprehensive_upper_air.retrieve-1612349486.5454996-17181-44-3eafb52f-35c7-44a4-a05d-20a8bed753b4.zip to download.zip (20.8M)\n",
      "2021-02-03 11:51:55,198 INFO Download rate 17.4M/s  \n"
     ]
    },
    {
     "name": "stdout",
     "output_type": "stream",
     "text": [
      "Request took: 115.91240072250366 seconds\n"
     ]
    },
    {
     "name": "stderr",
     "output_type": "stream",
     "text": [
      "2021-02-03 11:52:03,612 INFO Welcome to the CDS\n",
      "2021-02-03 11:52:03,614 INFO Sending request to https://sis-dev.climate.copernicus.eu/api/v2/resources/insitu-observations-igra-baseline-network\n",
      "2021-02-03 11:52:03,659 INFO Request is queued\n"
     ]
    },
    {
     "name": "stdout",
     "output_type": "stream",
     "text": [
      "requestable stations from CUON: 962\n"
     ]
    },
    {
     "name": "stderr",
     "output_type": "stream",
     "text": [
      "2021-02-03 11:52:04,697 INFO Request is running\n",
      "2021-02-03 11:52:06,237 INFO Request is completed\n",
      "2021-02-03 11:52:06,238 INFO Downloading http://136.156.132.176/cache-compute-0002/cache/data2/adaptor.insitu_reference.retrieve_test-1612349524.6589081-19997-19-87366e76-839e-4521-ad01-be03aab1a21e.zip to download.zip (190.5K)\n",
      "2021-02-03 11:52:06,361 INFO Download rate 1.5M/s\n",
      "2021-02-03 11:52:06,474 INFO Welcome to the CDS\n",
      "2021-02-03 11:52:06,475 INFO Sending request to https://sis-dev.climate.copernicus.eu/api/v2/resources/insitu-observations-igra-baseline-network\n",
      "2021-02-03 11:52:06,518 INFO Request is queued\n"
     ]
    },
    {
     "name": "stdout",
     "output_type": "stream",
     "text": [
      "Request took: 2.798502206802368 seconds\n",
      "requestable stations from IGRA: 645\n"
     ]
    },
    {
     "name": "stderr",
     "output_type": "stream",
     "text": [
      "2021-02-03 11:52:07,556 INFO Request is completed\n",
      "2021-02-03 11:52:07,557 INFO Downloading http://136.156.132.176/cache-compute-0000/cache/data1/adaptor.insitu_reference.retrieve_test-1612349527.1815135-29830-20-1ac3c50e-8e64-4e0c-969c-a4c7c57dc4f3.zip to download.zip (148K)\n",
      "2021-02-03 11:52:07,681 INFO Download rate 1.2M/s\n",
      "2021-02-03 11:52:07,794 INFO Welcome to the CDS\n",
      "2021-02-03 11:52:07,795 INFO Sending request to https://sis-dev.climate.copernicus.eu/api/v2/resources/insitu-comprehensive-upper-air-observation-network\n",
      "2021-02-03 11:52:07,856 INFO Request is queued\n"
     ]
    },
    {
     "name": "stdout",
     "output_type": "stream",
     "text": [
      "Request took: 1.2549254894256592 seconds\n",
      "requestable stations from IGRA: 337\n",
      "\n",
      "\n",
      "date range: 1990-01-01/1990-01-02\n"
     ]
    },
    {
     "name": "stderr",
     "output_type": "stream",
     "text": [
      "2021-02-03 11:52:08,894 INFO Request is running\n",
      "2021-02-03 11:52:57,457 INFO Request is completed\n",
      "2021-02-03 11:52:57,458 INFO Downloading http://136.156.132.176/cache-compute-0002/cache/data2/adaptor.comprehensive_upper_air.retrieve-1612349568.6540346-19997-20-068dcf22-1fbe-400b-903e-769d99a817ad.zip to download.zip (20.6M)\n",
      "2021-02-03 11:52:58,358 INFO Download rate 22.9M/s  \n"
     ]
    },
    {
     "name": "stdout",
     "output_type": "stream",
     "text": [
      "Request took: 51.67327380180359 seconds\n"
     ]
    },
    {
     "name": "stderr",
     "output_type": "stream",
     "text": [
      "2021-02-03 11:53:06,866 INFO Welcome to the CDS\n",
      "2021-02-03 11:53:06,867 INFO Sending request to https://sis-dev.climate.copernicus.eu/api/v2/resources/insitu-observations-igra-baseline-network\n",
      "2021-02-03 11:53:06,910 INFO Request is queued\n"
     ]
    },
    {
     "name": "stdout",
     "output_type": "stream",
     "text": [
      "requestable stations from CUON: 976\n"
     ]
    },
    {
     "name": "stderr",
     "output_type": "stream",
     "text": [
      "2021-02-03 11:53:07,949 INFO Request is completed\n",
      "2021-02-03 11:53:07,950 INFO Downloading http://136.156.132.176/cache-compute-0000/cache/data1/adaptor.insitu_reference.retrieve_test-1612349587.7951465-29992-20-4bef501f-6fa3-4046-ab8d-9b50c1a23f90.zip to download.zip (184.5K)\n",
      "2021-02-03 11:53:08,073 INFO Download rate 1.5M/s\n",
      "2021-02-03 11:53:08,185 INFO Welcome to the CDS\n",
      "2021-02-03 11:53:08,186 INFO Sending request to https://sis-dev.climate.copernicus.eu/api/v2/resources/insitu-observations-igra-baseline-network\n",
      "2021-02-03 11:53:08,227 INFO Request is queued\n"
     ]
    },
    {
     "name": "stdout",
     "output_type": "stream",
     "text": [
      "Request took: 1.2563354969024658 seconds\n",
      "requestable stations from IGRA: 521\n"
     ]
    },
    {
     "name": "stderr",
     "output_type": "stream",
     "text": [
      "2021-02-03 11:53:09,265 INFO Request is completed\n",
      "2021-02-03 11:53:09,266 INFO Downloading http://136.156.132.204/cache-compute-0001/cache/data2/adaptor.insitu_reference.retrieve_test-1612349588.8393915-15458-19-195cb860-805a-4e1b-a191-0270fa98f576.zip to download.zip (138.7K)\n",
      "2021-02-03 11:53:09,420 INFO Download rate 908.8K/s\n",
      "2021-02-03 11:53:09,530 INFO Welcome to the CDS\n",
      "2021-02-03 11:53:09,531 INFO Sending request to https://sis-dev.climate.copernicus.eu/api/v2/resources/insitu-comprehensive-upper-air-observation-network\n",
      "2021-02-03 11:53:09,611 INFO Request is queued\n"
     ]
    },
    {
     "name": "stdout",
     "output_type": "stream",
     "text": [
      "Request took: 1.2812998294830322 seconds\n",
      "requestable stations from IGRA: 263\n",
      "\n",
      "\n",
      "date range: 2000-01-01/2000-01-02\n"
     ]
    },
    {
     "name": "stderr",
     "output_type": "stream",
     "text": [
      "2021-02-03 11:53:10,649 INFO Request is running\n",
      "2021-02-03 11:53:30,634 INFO Request is completed\n",
      "2021-02-03 11:53:30,635 INFO Downloading http://136.156.132.204/cache-compute-0001/cache/data1/adaptor.comprehensive_upper_air.retrieve-1612349609.3748627-15458-20-11aebc3b-da89-486f-a143-a94a22504a3f.zip to download.zip (16.7M)\n",
      "2021-02-03 11:53:31,129 INFO Download rate 34M/s    \n"
     ]
    },
    {
     "name": "stdout",
     "output_type": "stream",
     "text": [
      "Request took: 22.211410522460938 seconds\n"
     ]
    },
    {
     "name": "stderr",
     "output_type": "stream",
     "text": [
      "2021-02-03 11:53:37,773 INFO Welcome to the CDS\n",
      "2021-02-03 11:53:37,775 INFO Sending request to https://sis-dev.climate.copernicus.eu/api/v2/resources/insitu-observations-igra-baseline-network\n",
      "2021-02-03 11:53:37,816 INFO Request is queued\n"
     ]
    },
    {
     "name": "stdout",
     "output_type": "stream",
     "text": [
      "requestable stations from CUON: 750\n"
     ]
    },
    {
     "name": "stderr",
     "output_type": "stream",
     "text": [
      "2021-02-03 11:53:38,855 INFO Request is completed\n",
      "2021-02-03 11:53:38,856 INFO Downloading http://136.156.132.204/cache-compute-0001/cache/data2/adaptor.insitu_reference.retrieve_test-1612349618.5818295-15468-20-49b8f886-e41a-465a-8c43-55fd96b72268.zip to download.zip (322.1K)\n",
      "2021-02-03 11:53:39,010 INFO Download rate 2.1M/s \n",
      "2021-02-03 11:53:39,139 INFO Welcome to the CDS\n",
      "2021-02-03 11:53:39,140 INFO Sending request to https://sis-dev.climate.copernicus.eu/api/v2/resources/insitu-observations-igra-baseline-network\n",
      "2021-02-03 11:53:39,181 INFO Request is queued\n"
     ]
    },
    {
     "name": "stdout",
     "output_type": "stream",
     "text": [
      "Request took: 1.2923684120178223 seconds\n",
      "requestable stations from IGRA: 549\n"
     ]
    },
    {
     "name": "stderr",
     "output_type": "stream",
     "text": [
      "2021-02-03 11:53:40,221 INFO Request is running\n",
      "2021-02-03 11:53:41,760 INFO Request is completed\n",
      "2021-02-03 11:53:41,761 INFO Downloading http://136.156.132.204/cache-compute-0001/cache/data1/adaptor.insitu_reference.retrieve_test-1612349620.262516-15796-37-5f92b537-31b8-4e22-8fb1-80521e173417.zip to download.zip (274.8K)\n",
      "2021-02-03 11:53:41,914 INFO Download rate 1.8M/s \n",
      "2021-02-03 11:53:42,038 INFO Welcome to the CDS\n",
      "2021-02-03 11:53:42,039 INFO Sending request to https://sis-dev.climate.copernicus.eu/api/v2/resources/insitu-comprehensive-upper-air-observation-network\n"
     ]
    },
    {
     "name": "stdout",
     "output_type": "stream",
     "text": [
      "Request took: 2.826951265335083 seconds\n",
      "requestable stations from IGRA: 391\n",
      "\n",
      "\n",
      "date range: 2010-01-01/2010-01-02\n"
     ]
    },
    {
     "name": "stderr",
     "output_type": "stream",
     "text": [
      "2021-02-03 11:53:42,150 INFO Request is completed\n",
      "2021-02-03 11:53:42,151 INFO Downloading http://136.156.132.176/cache-compute-0000/cache/data1/adaptor.comprehensive_upper_air.retrieve-1612349035.7671082-21759-19-c02c345e-de52-4d1a-8584-156bb7a9d57e.zip to download.zip (18.1M)\n",
      "2021-02-03 11:53:43,005 INFO Download rate 21.2M/s  \n"
     ]
    },
    {
     "name": "stdout",
     "output_type": "stream",
     "text": [
      "Request took: 1.4071786403656006 seconds\n"
     ]
    },
    {
     "name": "stderr",
     "output_type": "stream",
     "text": [
      "2021-02-03 11:53:49,923 INFO Welcome to the CDS\n",
      "2021-02-03 11:53:49,924 INFO Sending request to https://sis-dev.climate.copernicus.eu/api/v2/resources/insitu-observations-igra-baseline-network\n",
      "2021-02-03 11:53:49,974 INFO Request is completed\n",
      "2021-02-03 11:53:49,975 INFO Downloading http://136.156.132.176/cache-compute-0002/cache/data1/adaptor.insitu_reference.retrieve_test-1612344114.8875098-28002-15-1a712893-643c-4a69-b19a-b7176ad87587.zip to download.zip (430.5K)\n",
      "  0%|          | 0.00/430k [00:00<?, ?B/s]"
     ]
    },
    {
     "name": "stdout",
     "output_type": "stream",
     "text": [
      "requestable stations from CUON: 782\n"
     ]
    },
    {
     "name": "stderr",
     "output_type": "stream",
     "text": [
      "2021-02-03 11:53:50,208 INFO Download rate 1.8M/s \n",
      "2021-02-03 11:53:50,347 INFO Welcome to the CDS\n",
      "2021-02-03 11:53:50,348 INFO Sending request to https://sis-dev.climate.copernicus.eu/api/v2/resources/insitu-observations-igra-baseline-network\n",
      "2021-02-03 11:53:50,395 INFO Request is completed\n",
      "2021-02-03 11:53:50,396 INFO Downloading http://136.156.132.176/cache-compute-0002/cache/data2/adaptor.insitu_reference.retrieve_test-1612344274.9767025-27778-16-d56c5ace-367d-454b-a9f5-6763dead8d1d.zip to download.zip (338.4K)\n"
     ]
    },
    {
     "name": "stdout",
     "output_type": "stream",
     "text": [
      "Request took: 0.3418715000152588 seconds\n",
      "requestable stations from IGRA: 632\n"
     ]
    },
    {
     "name": "stderr",
     "output_type": "stream",
     "text": [
      "2021-02-03 11:53:50,524 INFO Download rate 2.6M/s\n",
      "2021-02-03 11:53:50,649 INFO Welcome to the CDS\n",
      "2021-02-03 11:53:50,650 INFO Sending request to https://sis-dev.climate.copernicus.eu/api/v2/resources/insitu-comprehensive-upper-air-observation-network\n",
      "2021-02-03 11:53:50,713 INFO Request is queued\n"
     ]
    },
    {
     "name": "stdout",
     "output_type": "stream",
     "text": [
      "Request took: 0.2289748191833496 seconds\n",
      "requestable stations from IGRA: 462\n",
      "\n",
      "\n",
      "date range: 2020-01-01/2020-01-02\n"
     ]
    },
    {
     "name": "stderr",
     "output_type": "stream",
     "text": [
      "2021-02-03 11:53:51,752 INFO Request is running\n",
      "2021-02-03 11:54:23,175 INFO Request is completed\n",
      "2021-02-03 11:54:23,176 INFO Downloading http://136.156.132.204/cache-compute-0001/cache/data1/adaptor.comprehensive_upper_air.retrieve-1612349651.6636934-15796-38-465f6ecc-a0c7-4777-8965-921b949c1c4f.zip to download.zip (52.8M)\n",
      "2021-02-03 11:54:24,040 INFO Download rate 61.2M/s  \n"
     ]
    },
    {
     "name": "stdout",
     "output_type": "stream",
     "text": [
      "Request took: 33.935354709625244 seconds\n"
     ]
    },
    {
     "name": "stderr",
     "output_type": "stream",
     "text": [
      "2021-02-03 11:54:41,831 INFO Welcome to the CDS\n",
      "2021-02-03 11:54:41,833 INFO Sending request to https://sis-dev.climate.copernicus.eu/api/v2/resources/insitu-observations-igra-baseline-network\n",
      "2021-02-03 11:54:41,877 INFO Request is queued\n"
     ]
    },
    {
     "name": "stdout",
     "output_type": "stream",
     "text": [
      "requestable stations from CUON: 923\n"
     ]
    },
    {
     "name": "stderr",
     "output_type": "stream",
     "text": [
      "2021-02-03 11:54:42,915 INFO Request is running\n",
      "2021-02-03 11:54:44,454 INFO Request is completed\n",
      "2021-02-03 11:54:44,455 INFO Downloading http://136.156.132.176/cache-compute-0002/cache/data2/adaptor.insitu_reference.retrieve_test-1612349683.0694807-22546-20-cb5f93a8-5908-462f-a7d1-539c75c5f65d.zip to download.zip (533.8K)\n",
      "2021-02-03 11:54:44,637 INFO Download rate 2.9M/s \n",
      "2021-02-03 11:54:44,783 INFO Welcome to the CDS\n",
      "2021-02-03 11:54:44,784 INFO Sending request to https://sis-dev.climate.copernicus.eu/api/v2/resources/insitu-observations-igra-baseline-network\n",
      "2021-02-03 11:54:44,826 INFO Request is queued\n"
     ]
    },
    {
     "name": "stdout",
     "output_type": "stream",
     "text": [
      "Request took: 2.864351749420166 seconds\n",
      "requestable stations from IGRA: 632\n"
     ]
    },
    {
     "name": "stderr",
     "output_type": "stream",
     "text": [
      "2021-02-03 11:54:45,864 INFO Request is running\n",
      "2021-02-03 11:54:47,405 INFO Request is completed\n",
      "2021-02-03 11:54:47,406 INFO Downloading http://136.156.132.176/cache-compute-0000/cache/data1/adaptor.insitu_reference.retrieve_test-1612349685.8007288-32219-19-522867a0-3a4d-4bbc-84ee-461b6ec7228a.zip to download.zip (397.4K)\n",
      "2021-02-03 11:54:47,583 INFO Download rate 2.2M/s \n"
     ]
    },
    {
     "name": "stdout",
     "output_type": "stream",
     "text": [
      "Request took: 2.8553895950317383 seconds\n",
      "requestable stations from IGRA: 454\n",
      "\n",
      "\n"
     ]
    }
   ],
   "source": [
    "dates = ['1980-01-01/1980-01-02','1990-01-01/1990-01-02','2000-01-01/2000-01-02','2010-01-01/2010-01-02','2020-01-01/2020-01-02']   \n",
    "for i in dates:\n",
    "    print('date range: ' + i)\n",
    "    da_c = request({\n",
    "        'variable': 'temperature',\n",
    "        'period': i,\n",
    "    }, cuon)\n",
    "    print('requestable stations from CUON: ' + str(len(da_c.drop_duplicates(['lat', 'lon']))))\n",
    "\n",
    "    da_i = request({\n",
    "        'source': 'IGRA',\n",
    "        'variable': ['air_temperature'],\n",
    "        'period': i,\n",
    "    }, igra)\n",
    "    print('requestable stations from IGRA: ' + str(len(da_i.drop_duplicates(['latitude', 'longitude']))))\n",
    "    da_ih = request({\n",
    "        'source': 'IGRA_H',\n",
    "        'variable': ['air_temperature'],\n",
    "        'period': i,\n",
    "    }, igra)\n",
    "    print('requestable stations from IGRA: ' + str(len(da_ih.drop_duplicates(['latitude', 'longitude']))))\n",
    "    print('\\n')"
   ]
  },
  {
   "cell_type": "code",
   "execution_count": null,
   "metadata": {},
   "outputs": [],
   "source": []
  }
 ],
 "metadata": {
  "kernelspec": {
   "display_name": "Miniconda3 (4.8.2)",
   "language": "python",
   "name": "python3"
  },
  "language_info": {
   "codemirror_mode": {
    "name": "ipython",
    "version": 3
   },
   "file_extension": ".py",
   "mimetype": "text/x-python",
   "name": "python",
   "nbconvert_exporter": "python",
   "pygments_lexer": "ipython3",
   "version": "3.8.1"
  }
 },
 "nbformat": 4,
 "nbformat_minor": 4
}
