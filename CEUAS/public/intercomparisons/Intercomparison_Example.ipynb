{
 "cells": [
  {
   "cell_type": "markdown",
   "metadata": {},
   "source": [
    "# Intercomparison Campaigns\n",
    "\n",
    "**Contains modified Copernicus Climate Change Service Information 2020**\n",
    "under [License](https://apps.ecmwf.int/datasets/licences/copernicus/)\n",
    "\n",
    "*Copernicus Climate Change Service (C3S) - Upper Air Data Service (2020)*\n",
    "\n",
    "The purpose of this IPython Notebook is to demonstrate the access and usability of data from intercomparison campaigns. Example usage of the Climate Data Store (CDS) Frontend for Radiosonde data.\n",
    "\n",
    "    Author: M. Blaschek\n",
    "    Date: 09.2020\n",
    "    Contact: michael.blaschek [at] univie.ac.at\n",
    "    License: C3S, 2020\n"
   ]
  },
  {
   "cell_type": "code",
   "execution_count": 1,
   "metadata": {},
   "outputs": [
    {
     "name": "stdout",
     "output_type": "stream",
     "text": [
      "Populating the interactive namespace from numpy and matplotlib\n"
     ]
    }
   ],
   "source": [
    "%pylab inline"
   ]
  },
  {
   "cell_type": "code",
   "execution_count": 2,
   "metadata": {},
   "outputs": [],
   "source": [
    "import cdsapi, zipfile, os, time\n",
    "import urllib3\n",
    "urllib3.disable_warnings(urllib3.exceptions.InsecureRequestWarning) # just cosmetics\n",
    "\n",
    "# Please note: Server URL will be omitted, once published\n",
    "c = cdsapi.Client(url='https://sis-dev.climate.copernicus.eu/api/v2')"
   ]
  },
  {
   "cell_type": "markdown",
   "metadata": {},
   "source": [
    "## Request soundings from an intercomparison campaign\n",
    "\n",
    "1. Need to request with IDs\n",
    "2. Import data\n",
    "3. Plot"
   ]
  },
  {
   "cell_type": "code",
   "execution_count": 17,
   "metadata": {},
   "outputs": [
    {
     "name": "stderr",
     "output_type": "stream",
     "text": [
      "2020-09-09 15:44:15,422 INFO Welcome to the CDS\n",
      "2020-09-09 15:44:15,423 INFO Sending request to https://sis-dev.climate.copernicus.eu/api/v2/resources/insitu-comprehensive-upper-air-observation-network\n",
      "2020-09-09 15:44:15,677 INFO Request is queued\n",
      "2020-09-09 15:44:16,712 INFO Request is running\n",
      "2020-09-09 15:44:18,248 INFO Request is completed\n",
      "2020-09-09 15:44:18,249 INFO Downloading http://136.156.132.176/cache-compute-0002/cache/data2/adaptor.comprehensive_upper_air.retrieve-1599659056.6692913-15631-15-ed4ed9db-93a8-44d5-b559-943d6e605dfa.zip to download.zip (44.8K)\n",
      "2020-09-09 15:44:18,357 INFO Download rate 413.6K/s\n"
     ]
    },
    {
     "name": "stdout",
     "output_type": "stream",
     "text": [
      "Unzipping retrieved files: to ./exampla_data/1\n",
      "['temperature.csv']\n",
      "Time elapsed:  3.124145030975342 s\n"
     ]
    }
   ],
   "source": [
    "t0 = time.time()\n",
    "# Start Request\n",
    "r = c.retrieve('insitu-comprehensive-upper-air-observation-network',\n",
    "               {\n",
    "                   'variable': [\"air_temperature\"],\n",
    "                   'statid': ['0-20100-0-00201','0-20100-0-00202', '0-20100-0-00203', '0-20100-0-00204'],\n",
    "                   'format': 'csv'                   \n",
    "               })\n",
    "\n",
    "if True:\n",
    "    # Start Download\n",
    "    r.download(target='download.zip')\n",
    "    # Check file size\n",
    "    assert os.stat('download.zip').st_size == r.content_length, \"Downloaded file is incomplete\"\n",
    "    # Unzip the Data Stream\n",
    "    z = zipfile.ZipFile('download.zip')\n",
    "    print(\"Unzipping retrieved files: to ./exampla_data/1\")\n",
    "    print(z.namelist())\n",
    "    z.extractall(path='./example_data/1')\n",
    "    z.close()\n",
    "    os.remove('download.zip')\n",
    "    print(\"Time elapsed: \", time.time()-t0, \"s\")"
   ]
  },
  {
   "cell_type": "code",
   "execution_count": 30,
   "metadata": {},
   "outputs": [],
   "source": [
    "import pandas as pd\n",
    "pd.set_option('display.width',None)\n",
    "data = pd.read_csv('example_data/1/temperature.csv', index_col=0)"
   ]
  },
  {
   "cell_type": "code",
   "execution_count": 31,
   "metadata": {},
   "outputs": [
    {
     "name": "stdout",
     "output_type": "stream",
     "text": [
      "              lat       lon     plev      ta                 time  \\\n",
      "obs_id                                                              \n",
      "0       46.811578  6.942472   5000.0  223.75  1950-05-10 15:29:00   \n",
      "1       46.811578  6.942472   5300.0  223.55  1950-05-10 15:28:00   \n",
      "2       46.811578  6.942472   5600.0  223.55  1950-05-10 15:27:00   \n",
      "3       46.811578  6.942472   5900.0  223.55  1950-05-10 15:26:00   \n",
      "4       46.811578  6.942472   6200.0  221.75  1950-05-10 15:25:00   \n",
      "...           ...       ...      ...     ...                  ...   \n",
      "3793    46.811578  6.942472  81700.0  282.75  1950-05-24 21:06:00   \n",
      "3794    46.811578  6.942472  85000.0  285.85  1950-05-24 21:05:00   \n",
      "3795    46.811578  6.942472  88400.0  288.45  1950-05-24 21:04:00   \n",
      "3796    46.811578  6.942472  91700.0  289.75  1950-05-24 21:03:00   \n",
      "3797    46.811578  6.942472  95300.0  289.75  1950-05-24 21:02:00   \n",
      "\n",
      "           trajectory_label           statid  statindex  \n",
      "obs_id                                                   \n",
      "0       0-20100-0-00201-001  0-20100-0-00201          0  \n",
      "1       0-20100-0-00201-001  0-20100-0-00201          0  \n",
      "2       0-20100-0-00201-001  0-20100-0-00201          0  \n",
      "3       0-20100-0-00201-001  0-20100-0-00201          0  \n",
      "4       0-20100-0-00201-001  0-20100-0-00201          0  \n",
      "...                     ...              ...        ...  \n",
      "3793    0-20100-0-00204-055  0-20100-0-00204          3  \n",
      "3794    0-20100-0-00204-055  0-20100-0-00204          3  \n",
      "3795    0-20100-0-00204-055  0-20100-0-00204          3  \n",
      "3796    0-20100-0-00204-055  0-20100-0-00204          3  \n",
      "3797    0-20100-0-00204-055  0-20100-0-00204          3  \n",
      "\n",
      "[3798 rows x 8 columns]\n"
     ]
    }
   ],
   "source": [
    "print(data)"
   ]
  },
  {
   "cell_type": "code",
   "execution_count": null,
   "metadata": {},
   "outputs": [],
   "source": []
  }
 ],
 "metadata": {
  "kernelspec": {
   "display_name": "Python 3",
   "language": "python",
   "name": "python3"
  },
  "language_info": {
   "codemirror_mode": {
    "name": "ipython",
    "version": 3
   },
   "file_extension": ".py",
   "mimetype": "text/x-python",
   "name": "python",
   "nbconvert_exporter": "python",
   "pygments_lexer": "ipython3",
   "version": "3.8.5"
  }
 },
 "nbformat": 4,
 "nbformat_minor": 4
}
