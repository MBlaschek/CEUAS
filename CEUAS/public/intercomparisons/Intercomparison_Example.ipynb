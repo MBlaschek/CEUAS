{
 "cells": [
  {
   "cell_type": "markdown",
   "metadata": {},
   "source": [
    "# Intercomparison Campaigns - Requesting Data\n",
    "\n",
    "**Contains modified Copernicus Climate Change Service Information 2020**\n",
    "under [License](https://apps.ecmwf.int/datasets/licences/copernicus/)\n",
    "\n",
    "*Copernicus Climate Change Service (C3S) - Upper Air Data Service (2020)*\n",
    "\n",
    "The purpose of this IPython Notebook is to demonstrate the access and usability of data from intercomparison campaigns. Example usage of the Climate Data Store (CDS) Frontend for Radiosonde data.\n",
    "\n",
    "    Author: M. Blaschek\n",
    "    Date: 09.2020\n",
    "    Contact: michael.blaschek [at] univie.ac.at\n",
    "    License: C3S, 2020\n"
   ]
  },
  {
   "cell_type": "code",
   "execution_count": 1,
   "metadata": {},
   "outputs": [],
   "source": [
    "# %pylab inline"
   ]
  },
  {
   "cell_type": "code",
   "execution_count": 2,
   "metadata": {},
   "outputs": [],
   "source": [
    "import pandas\n",
    "import numpy as np\n",
    "import matplotlib\n",
    "import matplotlib.pyplot as plt\n",
    "from scipy.interpolate import interp1d\n",
    "import cdsapi, zipfile, os, time\n",
    "import urllib3\n",
    "urllib3.disable_warnings(urllib3.exceptions.InsecureRequestWarning) # just cosmetics\n",
    "\n",
    "# Please note: Server URL will be omitted, once published\n",
    "c = cdsapi.Client(url='https://sis-dev.climate.copernicus.eu/api/v2')"
   ]
  },
  {
   "cell_type": "markdown",
   "metadata": {},
   "source": [
    "## Request soundings from an intercomparison campaign\n",
    "\n",
    "We choose the following intercomparison campaign:\n",
    "\n",
    "    WMO International radiosonde comparison, Tsukuba, Japan, 15.Feb to 12. Mar. 1993\n",
    "\n",
    "    INSTRUMENTS and OBSERVING METHODS REPORT No. 59\n",
    "\n",
    "The request for the intercomparison data looks exactly the same as for all the other data requests. In order to retrieve the data station IDs need to be given:\n",
    "* `0-20100-0-01802`, Type: `VHN` ( Vaisala RS80-15N or RS80-15NA radiosonde )\n",
    "* `0-20100-0-01803`, Type: `VHl` ( Vaisala RS80-15LH H-Humicap LoRAN radiosonde )\n",
    "* `0-20100-0-01804`, Type: `J8H` ( Japan Meisei RSII-80 or RS2-80 high-resolution radiosonde )\n",
    "* `0-20100-0-01805`, Type: `J93` ( Japan Meisei RSII-91 radiosonde, SiO type 93 uncoated thermistor )\n",
    "\n",
    "We request a csv file and read the data with `pandas`."
   ]
  },
  {
   "cell_type": "code",
   "execution_count": 9,
   "metadata": {},
   "outputs": [
    {
     "name": "stderr",
     "output_type": "stream",
     "text": [
      "2021-06-21 13:41:24,294 INFO Welcome to the CDS\n",
      "2021-06-21 13:41:24,295 INFO Sending request to https://sis-dev.climate.copernicus.eu/api/v2/resources/insitu-comprehensive-upper-air-observation-network\n",
      "2021-06-21 13:41:24,526 INFO Request is queued\n",
      "2021-06-21 13:41:25,563 INFO Request is completed\n",
      "2021-06-21 13:41:25,601 INFO Downloading http://136.156.132.176/cache-compute-0002/cache/data2/adaptor.comprehensive_upper_air.retrieve-1624275685.1674156-9859-4-2d35bf4e-76ae-409c-aae8-d4cf76b0bf89.zip to download.zip (559.5K)\n",
      "2021-06-21 13:41:25,918 INFO Download rate 1.7M/s \n"
     ]
    },
    {
     "name": "stdout",
     "output_type": "stream",
     "text": [
      "Unzipping retrieved files: to ./exampla_data/1\n",
      "['dest_0-20100-0-01802_air_temperature.nc', 'dest_0-20100-0-01803_air_temperature.nc', 'dest_0-20100-0-01804_air_temperature.nc', 'dest_0-20100-0-01805_air_temperature.nc', 'dest_0-20100-0-01807_air_temperature.nc']\n",
      "Time elapsed:  1.82778000831604 s\n"
     ]
    }
   ],
   "source": [
    "t0 = time.time()\n",
    "# Start Request\n",
    "r = c.retrieve('insitu-comprehensive-upper-air-observation-network',\n",
    "               {\n",
    "                   'variable': [\"air_temperature\"],\n",
    "                   'statid': ['0-20100-0-01802','0-20100-0-01803', '0-20100-0-01804', '0-20100-0-01805', '0-20100-0-01807'],\n",
    "                   'period': '19000101/20201231',\n",
    "                   'optional': ['sonde_type'],\n",
    "                   #'format': 'csv'                   \n",
    "               })\n",
    "\n",
    "if True:\n",
    "    # Start Download\n",
    "    r.download(target='download.zip')\n",
    "    # Check file size\n",
    "    assert os.stat('download.zip').st_size == r.content_length, \"Downloaded file is incomplete\"\n",
    "    # Unzip the Data Stream\n",
    "    z = zipfile.ZipFile('download.zip')\n",
    "    print(\"Unzipping retrieved files: to ./exampla_data/1\")\n",
    "    print(z.namelist())\n",
    "    z.extractall(path='./example_data/1')\n",
    "    z.close()\n",
    "    os.remove('download.zip')\n",
    "    print(\"Time elapsed: \", time.time()-t0, \"s\")"
   ]
  },
  {
   "cell_type": "markdown",
   "metadata": {},
   "source": [
    "---\n",
    "## Read data"
   ]
  },
  {
   "cell_type": "code",
   "execution_count": 4,
   "metadata": {},
   "outputs": [],
   "source": [
    "import pandas as pd\n",
    "pd.set_option('display.width',200, 'display.max_rows',50)\n",
    "data = pd.read_csv('example_data/1/temperature.csv', index_col=0)\n",
    "sondestypes = dict(zip(['0-20100-0-01802','0-20100-0-01803', '0-20100-0-01804', '0-20100-0-01805'],['VHN', 'VHl', 'J8H', 'J93']))"
   ]
  },
  {
   "cell_type": "code",
   "execution_count": 10,
   "metadata": {},
   "outputs": [
    {
     "data": {
      "text/html": [
       "<div>\n",
       "<style scoped>\n",
       "    .dataframe tbody tr th:only-of-type {\n",
       "        vertical-align: middle;\n",
       "    }\n",
       "\n",
       "    .dataframe tbody tr th {\n",
       "        vertical-align: top;\n",
       "    }\n",
       "\n",
       "    .dataframe thead th {\n",
       "        text-align: right;\n",
       "    }\n",
       "</style>\n",
       "<table border=\"1\" class=\"dataframe\">\n",
       "  <thead>\n",
       "    <tr style=\"text-align: right;\">\n",
       "      <th></th>\n",
       "      <th>lat</th>\n",
       "      <th>lon</th>\n",
       "      <th>plev</th>\n",
       "      <th>report_id</th>\n",
       "      <th>sonde_type</th>\n",
       "      <th>ta</th>\n",
       "      <th>time</th>\n",
       "      <th>trajectory_label</th>\n",
       "      <th>ta_units</th>\n",
       "      <th>plev_units</th>\n",
       "      <th>statindex</th>\n",
       "    </tr>\n",
       "    <tr>\n",
       "      <th>obs_id</th>\n",
       "      <th></th>\n",
       "      <th></th>\n",
       "      <th></th>\n",
       "      <th></th>\n",
       "      <th></th>\n",
       "      <th></th>\n",
       "      <th></th>\n",
       "      <th></th>\n",
       "      <th></th>\n",
       "      <th></th>\n",
       "      <th></th>\n",
       "    </tr>\n",
       "  </thead>\n",
       "  <tbody>\n",
       "    <tr>\n",
       "      <th>0</th>\n",
       "      <td>36.05</td>\n",
       "      <td>140.13</td>\n",
       "      <td>2900.0</td>\n",
       "      <td>0-20100-0-01802-001</td>\n",
       "      <td>VHN</td>\n",
       "      <td>216.75</td>\n",
       "      <td>1993-02-18 01:09:40</td>\n",
       "      <td>nnnnnnnnnnnnnnnnnnn</td>\n",
       "      <td>K</td>\n",
       "      <td>Pa</td>\n",
       "      <td>0</td>\n",
       "    </tr>\n",
       "    <tr>\n",
       "      <th>1</th>\n",
       "      <td>36.05</td>\n",
       "      <td>140.13</td>\n",
       "      <td>3010.0</td>\n",
       "      <td>0-20100-0-01802-001</td>\n",
       "      <td>VHN</td>\n",
       "      <td>215.65</td>\n",
       "      <td>1993-02-18 01:08:40</td>\n",
       "      <td>nnnnnnnnnnnnnnnnnnn</td>\n",
       "      <td>K</td>\n",
       "      <td>Pa</td>\n",
       "      <td>0</td>\n",
       "    </tr>\n",
       "    <tr>\n",
       "      <th>2</th>\n",
       "      <td>36.05</td>\n",
       "      <td>140.13</td>\n",
       "      <td>3170.0</td>\n",
       "      <td>0-20100-0-01802-001</td>\n",
       "      <td>VHN</td>\n",
       "      <td>216.75</td>\n",
       "      <td>1993-02-18 01:07:40</td>\n",
       "      <td>nnnnnnnnnnnnnnnnnnn</td>\n",
       "      <td>K</td>\n",
       "      <td>Pa</td>\n",
       "      <td>0</td>\n",
       "    </tr>\n",
       "    <tr>\n",
       "      <th>3</th>\n",
       "      <td>36.05</td>\n",
       "      <td>140.13</td>\n",
       "      <td>3300.0</td>\n",
       "      <td>0-20100-0-01802-001</td>\n",
       "      <td>VHN</td>\n",
       "      <td>216.45</td>\n",
       "      <td>1993-02-18 01:06:40</td>\n",
       "      <td>nnnnnnnnnnnnnnnnnnn</td>\n",
       "      <td>K</td>\n",
       "      <td>Pa</td>\n",
       "      <td>0</td>\n",
       "    </tr>\n",
       "    <tr>\n",
       "      <th>4</th>\n",
       "      <td>36.05</td>\n",
       "      <td>140.13</td>\n",
       "      <td>3440.0</td>\n",
       "      <td>0-20100-0-01802-001</td>\n",
       "      <td>VHN</td>\n",
       "      <td>216.45</td>\n",
       "      <td>1993-02-18 01:05:40</td>\n",
       "      <td>nnnnnnnnnnnnnnnnnnn</td>\n",
       "      <td>K</td>\n",
       "      <td>Pa</td>\n",
       "      <td>0</td>\n",
       "    </tr>\n",
       "    <tr>\n",
       "      <th>...</th>\n",
       "      <td>...</td>\n",
       "      <td>...</td>\n",
       "      <td>...</td>\n",
       "      <td>...</td>\n",
       "      <td>...</td>\n",
       "      <td>...</td>\n",
       "      <td>...</td>\n",
       "      <td>...</td>\n",
       "      <td>...</td>\n",
       "      <td>...</td>\n",
       "      <td>...</td>\n",
       "    </tr>\n",
       "    <tr>\n",
       "      <th>26539</th>\n",
       "      <td>36.05</td>\n",
       "      <td>140.13</td>\n",
       "      <td>89890.0</td>\n",
       "      <td>0-20100-0-01807-060</td>\n",
       "      <td>Z_M,Z_m,ZM_</td>\n",
       "      <td>273.75</td>\n",
       "      <td>1993-03-11 11:34:21</td>\n",
       "      <td>nnnnnnnnnnnnnnnnnnn</td>\n",
       "      <td>K</td>\n",
       "      <td>Pa</td>\n",
       "      <td>4</td>\n",
       "    </tr>\n",
       "    <tr>\n",
       "      <th>26540</th>\n",
       "      <td>36.05</td>\n",
       "      <td>140.13</td>\n",
       "      <td>92880.0</td>\n",
       "      <td>0-20100-0-01807-060</td>\n",
       "      <td>Z_M,Z_m,ZM_</td>\n",
       "      <td>275.55</td>\n",
       "      <td>1993-03-11 11:33:21</td>\n",
       "      <td>nnnnnnnnnnnnnnnnnnn</td>\n",
       "      <td>K</td>\n",
       "      <td>Pa</td>\n",
       "      <td>4</td>\n",
       "    </tr>\n",
       "    <tr>\n",
       "      <th>26541</th>\n",
       "      <td>36.05</td>\n",
       "      <td>140.13</td>\n",
       "      <td>95970.0</td>\n",
       "      <td>0-20100-0-01807-060</td>\n",
       "      <td>Z_M,Z_m,ZM_</td>\n",
       "      <td>277.15</td>\n",
       "      <td>1993-03-11 11:32:21</td>\n",
       "      <td>nnnnnnnnnnnnnnnnnnn</td>\n",
       "      <td>K</td>\n",
       "      <td>Pa</td>\n",
       "      <td>4</td>\n",
       "    </tr>\n",
       "    <tr>\n",
       "      <th>26542</th>\n",
       "      <td>36.05</td>\n",
       "      <td>140.13</td>\n",
       "      <td>98910.0</td>\n",
       "      <td>0-20100-0-01807-060</td>\n",
       "      <td>Z_M,Z_m,ZM_</td>\n",
       "      <td>279.05</td>\n",
       "      <td>1993-03-11 11:31:21</td>\n",
       "      <td>nnnnnnnnnnnnnnnnnnn</td>\n",
       "      <td>K</td>\n",
       "      <td>Pa</td>\n",
       "      <td>4</td>\n",
       "    </tr>\n",
       "    <tr>\n",
       "      <th>26543</th>\n",
       "      <td>36.05</td>\n",
       "      <td>140.13</td>\n",
       "      <td>101560.0</td>\n",
       "      <td>0-20100-0-01807-060</td>\n",
       "      <td>Z_M,Z_m,ZM_</td>\n",
       "      <td>279.95</td>\n",
       "      <td>1993-03-11 11:30:21</td>\n",
       "      <td>nnnnnnnnnnnnnnnnnnn</td>\n",
       "      <td>K</td>\n",
       "      <td>Pa</td>\n",
       "      <td>4</td>\n",
       "    </tr>\n",
       "  </tbody>\n",
       "</table>\n",
       "<p>26544 rows × 11 columns</p>\n",
       "</div>"
      ],
      "text/plain": [
       "          lat     lon      plev            report_id   sonde_type      ta                 time     trajectory_label ta_units plev_units  statindex\n",
       "obs_id                                                                                                                                            \n",
       "0       36.05  140.13    2900.0  0-20100-0-01802-001          VHN  216.75  1993-02-18 01:09:40  nnnnnnnnnnnnnnnnnnn        K         Pa          0\n",
       "1       36.05  140.13    3010.0  0-20100-0-01802-001          VHN  215.65  1993-02-18 01:08:40  nnnnnnnnnnnnnnnnnnn        K         Pa          0\n",
       "2       36.05  140.13    3170.0  0-20100-0-01802-001          VHN  216.75  1993-02-18 01:07:40  nnnnnnnnnnnnnnnnnnn        K         Pa          0\n",
       "3       36.05  140.13    3300.0  0-20100-0-01802-001          VHN  216.45  1993-02-18 01:06:40  nnnnnnnnnnnnnnnnnnn        K         Pa          0\n",
       "4       36.05  140.13    3440.0  0-20100-0-01802-001          VHN  216.45  1993-02-18 01:05:40  nnnnnnnnnnnnnnnnnnn        K         Pa          0\n",
       "...       ...     ...       ...                  ...          ...     ...                  ...                  ...      ...        ...        ...\n",
       "26539   36.05  140.13   89890.0  0-20100-0-01807-060  Z_M,Z_m,ZM_  273.75  1993-03-11 11:34:21  nnnnnnnnnnnnnnnnnnn        K         Pa          4\n",
       "26540   36.05  140.13   92880.0  0-20100-0-01807-060  Z_M,Z_m,ZM_  275.55  1993-03-11 11:33:21  nnnnnnnnnnnnnnnnnnn        K         Pa          4\n",
       "26541   36.05  140.13   95970.0  0-20100-0-01807-060  Z_M,Z_m,ZM_  277.15  1993-03-11 11:32:21  nnnnnnnnnnnnnnnnnnn        K         Pa          4\n",
       "26542   36.05  140.13   98910.0  0-20100-0-01807-060  Z_M,Z_m,ZM_  279.05  1993-03-11 11:31:21  nnnnnnnnnnnnnnnnnnn        K         Pa          4\n",
       "26543   36.05  140.13  101560.0  0-20100-0-01807-060  Z_M,Z_m,ZM_  279.95  1993-03-11 11:30:21  nnnnnnnnnnnnnnnnnnn        K         Pa          4\n",
       "\n",
       "[26544 rows x 11 columns]"
      ]
     },
     "metadata": {},
     "output_type": "display_data"
    }
   ],
   "source": [
    "display(data)"
   ]
  },
  {
   "cell_type": "markdown",
   "metadata": {},
   "source": [
    "### Observation Periods (IOP) for the intercomparison campaign"
   ]
  },
  {
   "cell_type": "code",
   "execution_count": 13,
   "metadata": {},
   "outputs": [
    {
     "name": "stdout",
     "output_type": "stream",
     "text": [
      "4\n",
      "001    553\n",
      "002    322\n",
      "003    334\n",
      "004    291\n",
      "005    340\n",
      "006    412\n",
      "007    395\n",
      "008    533\n",
      "009    460\n",
      "010    458\n",
      "011    384\n",
      "012    520\n",
      "013    497\n",
      "014    424\n",
      "015    550\n",
      "016    411\n",
      "017    398\n",
      "018    547\n",
      "019    370\n",
      "020    468\n",
      "021    442\n",
      "022    361\n",
      "023    480\n",
      "024    503\n",
      "025    392\n",
      "026    388\n",
      "027    565\n",
      "028    489\n",
      "029    394\n",
      "030    579\n",
      "031    260\n",
      "032    482\n",
      "033    570\n",
      "034    405\n",
      "035    461\n",
      "036    521\n",
      "037    396\n",
      "038    403\n",
      "039    454\n",
      "040    385\n",
      "041    468\n",
      "042    547\n",
      "043    375\n",
      "044    413\n",
      "045    563\n",
      "046    338\n",
      "047    536\n",
      "048    459\n",
      "049    413\n",
      "050    483\n",
      "051    545\n",
      "052    409\n",
      "053    413\n",
      "054    555\n",
      "055    290\n",
      "056    294\n",
      "057    407\n",
      "058    576\n",
      "059    315\n",
      "060    544\n",
      "Name: ta, dtype: int64\n"
     ]
    }
   ],
   "source": [
    "# Every Row is an IOP\n",
    "with pd.option_context('display.max_rows',None):\n",
    "    print(data.groupby(data['report_id'].str.split('-', expand=True)[4]).count()['ta'])"
   ]
  },
  {
   "cell_type": "markdown",
   "metadata": {},
   "source": [
    "---\n",
    "## IOP 002 - 17.Feb 1993"
   ]
  },
  {
   "cell_type": "code",
   "execution_count": 25,
   "metadata": {},
   "outputs": [
    {
     "name": "stdout",
     "output_type": "stream",
     "text": [
      "statid: 0-20100-0-01802\n",
      "trajectory_label: 0-20100-0-01802-002 # 81\n",
      "statid: 0-20100-0-01803\n",
      "trajectory_label: 0-20100-0-01803-002 # 81\n",
      "statid: 0-20100-0-01804\n",
      "trajectory_label: 0-20100-0-01804-002 # 79\n",
      "statid: 0-20100-0-01805\n",
      "trajectory_label: 0-20100-0-01805-002 # 81\n",
      "statid: 0-20100-0-01807\n",
      "trajectory_label: 0-20100-0-01807-002 # 0\n"
     ]
    }
   ],
   "source": [
    "ascent = '-002'\n",
    "#\n",
    "# extract following data from each sensor of ascent #002:\n",
    "# temperature, pressure and datetime\n",
    "#\n",
    "temperature = []\n",
    "pressure = []\n",
    "datetime = []\n",
    "for i in ['0-20100-0-01802','0-20100-0-01803', '0-20100-0-01804', '0-20100-0-01805', '0-20100-0-01807']:\n",
    "    print('statid: ' + str(i))\n",
    "    buffer = data[data.report_id == i + ascent]\n",
    "    print('trajectory_label: ' + i + ascent, '#', buffer.shape[0])\n",
    "    temperature.append(np.array(buffer.ta))\n",
    "    pressure.append(np.array(buffer.plev))\n",
    "    datetime.append(np.array(buffer.time))\n",
    "#    \n",
    "# get the time into the right shape for later plotting:\n",
    "# minutes after the ascent start\n",
    "#\n",
    "for j in range(len(datetime)):\n",
    "    for i in range(len(datetime[j])):\n",
    "        if(i == 0):\n",
    "            datezero = pd.to_datetime(datetime[j][0])\n",
    "        datetime[j][i] = (datezero - pd.to_datetime(datetime[j][i]))/np.timedelta64(1,'m')  # convert to minutes"
   ]
  },
  {
   "cell_type": "markdown",
   "metadata": {},
   "source": [
    "---\n",
    "### Plotting of the profiles"
   ]
  },
  {
   "cell_type": "code",
   "execution_count": 26,
   "metadata": {},
   "outputs": [],
   "source": [
    "# plot settings:\n",
    "#\n",
    "import matplotlib.pylab as pylab\n",
    "params = {'legend.fontsize': 'x-large',\n",
    "          'figure.figsize': (16, 8),\n",
    "         'axes.labelsize': 'x-large',\n",
    "         'axes.titlesize':'x-large',\n",
    "         'xtick.labelsize':'medium',\n",
    "         'ytick.labelsize':'medium'}\n",
    "pylab.rcParams.update(params)"
   ]
  },
  {
   "cell_type": "code",
   "execution_count": 27,
   "metadata": {},
   "outputs": [
    {
     "data": {
      "image/png": "[encoded data removed]",
      "text/plain": [
       "<Figure size 1152x576 with 3 Axes>"
      ]
     },
     "metadata": {
      "needs_background": "light"
     },
     "output_type": "display_data"
    }
   ],
   "source": [
    "import matplotlib\n",
    "import matplotlib.pyplot as plt\n",
    "yplevs = np.flip(np.array([10,70,125,200,300,400,500,700,925])*100.)\n",
    "fig, (ax1, ax2, ax3) = plt.subplots(1, 3)\n",
    "#\n",
    "# Plotting temperature over time:\n",
    "#\n",
    "ax1.plot(temperature[0], np.flip(datetime[0]), c='red')\n",
    "ax1.plot(temperature[1], np.flip(datetime[1]), c='blue')\n",
    "ax1.plot(temperature[2], np.flip(datetime[2]), c='green')\n",
    "ax1.plot(temperature[3], np.flip(datetime[3]), c='orange')\n",
    "ax1.set(xlabel='temperature [K]', ylabel ='time [minutes since start]', title='temperature')\n",
    "ax1.legend(sondestypes.values(), loc='best')\n",
    "# ax1.invert_yaxis()\n",
    "ax1.grid()\n",
    "#\n",
    "# Plotting pressure over time:\n",
    "#\n",
    "ax2.semilogx(pressure[0], datetime[0], c='red')\n",
    "ax2.semilogx(pressure[1], datetime[1], c='blue')\n",
    "ax2.semilogx(pressure[2], datetime[2], c='green')\n",
    "ax2.semilogx(pressure[3], datetime[3], c='orange')\n",
    "ax2.set(xlabel='pressure [hPa]', ylabel ='time [minutes since start]', title='pressure')\n",
    "ax2.legend(sondestypes.values(), loc='best')\n",
    "ax2.set_xticks(ticks=yplevs)\n",
    "ax2.set_xticklabels(map(\"{:.0f}\".format,yplevs[::-1]/100),rotation='vertical')\n",
    "ax2.grid()\n",
    "#\n",
    "# Plotting pressure over temperature:\n",
    "#\n",
    "ax3.semilogy(temperature[0], (pressure[0]), c='red')\n",
    "ax3.semilogy(temperature[1], (pressure[1]), c='blue')\n",
    "ax3.semilogy(temperature[2], (pressure[2]), c='green')\n",
    "ax3.semilogy(temperature[3], (pressure[3]), c='orange')\n",
    "ax3.set(xlabel ='temperature [K]', ylabel='pressure [Pa]', title='temperature/pressure')\n",
    "ax3.legend(sondestypes.values(), loc='best')\n",
    "ax3.invert_yaxis()\n",
    "ax3.grid()\n",
    "#     -\n",
    "fig.suptitle('IOP'+ascent+' comparison', fontsize=16)\n",
    "plt.show()\n",
    "plt.close(fig)"
   ]
  },
  {
   "cell_type": "markdown",
   "metadata": {},
   "source": [
    "### Conclusion:\n",
    "We can see an offset from one sonde's pressure data. The logged pressure is fairly compliant to the other sondes regarding temperature, so it is unlikely that the a barometer is wrong. The J8H sonde seems to have a complications with its time module."
   ]
  },
  {
   "cell_type": "markdown",
   "metadata": {},
   "source": [
    "---\n",
    "## Plot the pressure differences to the first sonde"
   ]
  },
  {
   "cell_type": "code",
   "execution_count": 28,
   "metadata": {},
   "outputs": [],
   "source": [
    "params = {'legend.fontsize': 'x-large',\n",
    "          'figure.figsize': (8, 8),\n",
    "         'axes.labelsize': 'x-large',\n",
    "         'axes.titlesize':'x-large',\n",
    "         'xtick.labelsize':'medium',\n",
    "         'ytick.labelsize':'medium'}\n",
    "pylab.rcParams.update(params)"
   ]
  },
  {
   "cell_type": "code",
   "execution_count": 29,
   "metadata": {},
   "outputs": [
    {
     "data": {
      "image/png": "[encoded data removed]",
      "text/plain": [
       "<Figure size 576x576 with 1 Axes>"
      ]
     },
     "metadata": {
      "needs_background": "light"
     },
     "output_type": "display_data"
    },
    {
     "data": {
      "text/plain": [
       "<Figure size 576x576 with 0 Axes>"
      ]
     },
     "metadata": {},
     "output_type": "display_data"
    }
   ],
   "source": [
    "fig, (ax1) = plt.subplots(1)\n",
    "#\n",
    "# Plotting pressur differences over time:\n",
    "# pressure[0] is the longest data, so it will be shortened to the length of the comparison counterpart\n",
    "#\n",
    "ax1.plot(pressure[0][:len(pressure[1])] - pressure[1], datetime[1][:len(pressure[1])], c='blue')\n",
    "ax1.plot(pressure[0][:len(pressure[2])] - pressure[2], datetime[2][:len(pressure[2])], c='green')\n",
    "ax1.plot(pressure[0][:len(pressure[3])] - pressure[3], datetime[3][:len(pressure[3])], c='orange')\n",
    "ax1.plot(pressure[0] - pressure[3], datetime[0], c='orange')\n",
    "ax1.set(xlabel='pressure [Pa]', ylabel ='time [minutes since start]', title='pressure differences')\n",
    "['VHN', 'VHl', 'J8H', 'J93']\n",
    "ax1.legend(['VHN - VHl', 'VHN - J8H', 'VHN - J93'], loc='best')\n",
    "ax1.xaxis.set_major_locator(plt.MaxNLocator(6))\n",
    "ax1.grid()\n",
    "#\n",
    "fig.suptitle('IOP'+ascent+' comparison', fontsize=16)\n",
    "plt.figure(figsize=(8, 8))\n",
    "plt.show()\n",
    "plt.close(fig)"
   ]
  },
  {
   "cell_type": "markdown",
   "metadata": {},
   "source": [
    "## Interpolating pressure data for sonde comparison:"
   ]
  },
  {
   "cell_type": "markdown",
   "metadata": {},
   "source": [
    "### Interpolate the sonde pressure from one reference sonde to all the other sonds:\n",
    "\n",
    "There is no height information, so the interpolation hast do be done over the time data.\n",
    "\n",
    "This is a viable solution since all sensors were mounted on the same weather balloon and were at the exact same height all the time."
   ]
  },
  {
   "cell_type": "code",
   "execution_count": 30,
   "metadata": {},
   "outputs": [],
   "source": [
    "import os\n",
    "from scipy.interpolate import interp1d\n",
    "import sys"
   ]
  },
  {
   "cell_type": "code",
   "execution_count": 31,
   "metadata": {},
   "outputs": [
    {
     "name": "stdout",
     "output_type": "stream",
     "text": [
      "Time at 75000.0 Pa: 71.10149344512143\n",
      "measured pressure at this time - sonde 1: 74999.99999999996 Pa\n",
      "delta pressure sonde 1 - 1: 4.3655745685100555e-11 Pa\n",
      "measured pressure at this time - sonde 2: 74993.0995776619 Pa\n",
      "delta pressure sonde 1 - 2: 6.9004223381052725 Pa\n",
      "measured pressure at this time - sonde 3: 80717.34745272146 Pa\n",
      "delta pressure sonde 1 - 3: -5717.347452721457 Pa\n",
      "measured pressure at this time - sonde 4: 74987.04288654937 Pa\n",
      "delta pressure sonde 1 - 4: 12.957113450625911 Pa\n",
      "---\n",
      "Time at 50000.0 Pa: 60.285290385734285\n",
      "measured pressure at this time - sonde 1: 50000.00000000001 Pa\n",
      "delta pressure sonde 1 - 1: -7.275957614183426e-12 Pa\n",
      "measured pressure at this time - sonde 2: 49972.7558558601 Pa\n",
      "delta pressure sonde 1 - 2: 27.244144139898708 Pa\n",
      "measured pressure at this time - sonde 3: 54793.461312091626 Pa\n",
      "delta pressure sonde 1 - 3: -4793.461312091626 Pa\n",
      "measured pressure at this time - sonde 4: 49931.029023466115 Pa\n",
      "delta pressure sonde 1 - 4: 68.97097653388482 Pa\n",
      "---\n",
      "Time at 25000.0 Pa: 46.83839576065498\n",
      "measured pressure at this time - sonde 1: 25000.0 Pa\n",
      "delta pressure sonde 1 - 1: 0.0 Pa\n",
      "measured pressure at this time - sonde 2: 24978.300549651252 Pa\n",
      "delta pressure sonde 1 - 2: 21.699450348747632 Pa\n",
      "measured pressure at this time - sonde 3: 27878.881070621672 Pa\n",
      "delta pressure sonde 1 - 3: -2878.881070621672 Pa\n",
      "measured pressure at this time - sonde 4: 24984.9109857461 Pa\n",
      "delta pressure sonde 1 - 4: 15.089014253899222 Pa\n",
      "---\n"
     ]
    }
   ],
   "source": [
    "# Easy interpolation with SciPy:\n",
    "# forward interpolation pressure on time:\n",
    "#\n",
    "f = interp1d( np.log(np.array(pressure[0])), np.array(datetime[0]))\n",
    "\n",
    "#\n",
    "# for any number of pressure levels:\n",
    "#\n",
    "pressure_list = [75000., 50000., 25000.] # Pa\n",
    "pres_delta = []\n",
    "for j in range(len(pressure_list)):\n",
    "    print('Time at '+str(pressure_list[j])+' Pa: ' + str(f(np.log(pressure_list[j]))))\n",
    "    pres_delta.append([])\n",
    "    for i in range(len(pressure)):\n",
    "        #\n",
    "        # backward interpolation time on pressure:\n",
    "        #\n",
    "        try:\n",
    "            g = interp1d( np.array(datetime[i]), np.log(np.array(pressure[i])))\n",
    "            print('measured pressure at this time - sonde '+str(i+1)+': ' + str(np.exp(float((g(f(np.log(pressure_list[j]))))))) + ' Pa')\n",
    "            pres_delta[j].append(pressure_list[j] - np.exp(float((g(f(np.log(pressure_list[j])))))))\n",
    "            print('delta pressure sonde 1 - '+str(i+1)+': ' + str(pressure_list[j] - np.exp(float((g(f(np.log(pressure_list[j])))))))+ ' Pa')\n",
    "        except:\n",
    "            pass\n",
    "    print('---')"
   ]
  },
  {
   "cell_type": "code",
   "execution_count": 32,
   "metadata": {},
   "outputs": [],
   "source": [
    "params = {'legend.fontsize': 'x-large',\n",
    "          'figure.figsize': (18, 6),\n",
    "         'axes.labelsize': 'x-large',\n",
    "         'axes.titlesize':'x-large',\n",
    "         'xtick.labelsize':'medium',\n",
    "         'ytick.labelsize':'medium'}\n",
    "pylab.rcParams.update(params)"
   ]
  },
  {
   "cell_type": "code",
   "execution_count": 33,
   "metadata": {},
   "outputs": [
    {
     "data": {
      "text/plain": [
       "[Text(0.5, 0, 'sensor'),\n",
       " Text(0, 0.5, 'pressure difference [Pa]'),\n",
       " Text(0.5, 1.0, '25000 Pa')]"
      ]
     },
     "execution_count": 33,
     "metadata": {},
     "output_type": "execute_result"
    },
    {
     "data": {
      "image/png": "[encoded data removed]",
      "text/plain": [
       "<Figure size 1296x432 with 3 Axes>"
      ]
     },
     "metadata": {
      "needs_background": "light"
     },
     "output_type": "display_data"
    }
   ],
   "source": [
    "#\n",
    "# create barplot for all the differences on different levels\n",
    "#\n",
    "np.arange(len(pres_delta))\n",
    "#\n",
    "fig, (ax1, ax2, ax3) = plt.subplots(1, 3)\n",
    "ax1.bar(np.arange(len(pres_delta[0])),(pres_delta[0]))\n",
    "ax1.set(xlabel ='sensor', ylabel='pressure difference [Pa]', title='75000 Pa')\n",
    "ax2.bar(np.arange(len(pres_delta[1])),(pres_delta[1]))\n",
    "ax2.set(xlabel ='sensor', ylabel='pressure difference [Pa]', title='50000 Pa')\n",
    "ax3.bar(np.arange(len(pres_delta[2])),(pres_delta[2]))\n",
    "ax3.set(xlabel ='sensor', ylabel='pressure difference [Pa]', title='25000 Pa')\n"
   ]
  },
  {
   "cell_type": "code",
   "execution_count": null,
   "metadata": {},
   "outputs": [],
   "source": []
  }
 ],
 "metadata": {
  "kernelspec": {
   "display_name": "Python 3",
   "language": "python",
   "name": "python3"
  },
  "language_info": {
   "codemirror_mode": {
    "name": "ipython",
    "version": 3
   },
   "file_extension": ".py",
   "mimetype": "text/x-python",
   "name": "python",
   "nbconvert_exporter": "python",
   "pygments_lexer": "ipython3",
   "version": "3.7.9"
  }
 },
 "nbformat": 4,
 "nbformat_minor": 4
}
