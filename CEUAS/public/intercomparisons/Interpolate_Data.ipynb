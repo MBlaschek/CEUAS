{
 "cells": [
  {
   "cell_type": "markdown",
   "metadata": {},
   "source": [
    "# Intercomparison Campaigns - Interpolate Data\n",
    "\n",
    "**Contains modified Copernicus Climate Change Service Information 2020**\n",
    "under [License](https://apps.ecmwf.int/datasets/licences/copernicus/)\n",
    "\n",
    "*Copernicus Climate Change Service (C3S) - Upper Air Data Service (2020)*\n",
    "\n",
    "The purpose of this IPython Notebook is to demonstrate the usability of data from intercomparison campaigns.\n",
    "\n",
    "    Author: U. Voggenberger\n",
    "    Date: 09.2020\n",
    "    Contact: ulrich.voggenberger [at] univie.ac.at\n",
    "    License: C3S, 2020"
   ]
  },
  {
   "cell_type": "code",
   "execution_count": 1,
   "metadata": {},
   "outputs": [],
   "source": [
    "import pandas\n",
    "import numpy as np\n",
    "import datetime\n",
    "import glob\n",
    "import matplotlib\n",
    "import matplotlib.pyplot as plt\n",
    "from scipy.interpolate import interp1d\n",
    "import cdsapi, zipfile, os, time\n",
    "\n",
    "# Please note: Server URL will be omitted, once published\n",
    "c = cdsapi.Client(url='https://sis-dev.climate.copernicus.eu/api/v2')\n",
    "from scipy.interpolate import interp1d\n",
    "import warnings\n",
    "warnings.filterwarnings(\"ignore\")"
   ]
  },
  {
   "cell_type": "code",
   "execution_count": 2,
   "metadata": {},
   "outputs": [],
   "source": [
    "plt.rcParams['figure.figsize'] = (10,10)\n",
    "import matplotlib.pylab as pylab\n",
    "params = {'legend.fontsize': 'x-large',\n",
    "          'figure.figsize': (10, 10),\n",
    "         'axes.labelsize': 'x-large',\n",
    "         'axes.titlesize':'x-large',\n",
    "         'xtick.labelsize':'medium',\n",
    "         'ytick.labelsize':'medium'}\n",
    "pylab.rcParams.update(params)"
   ]
  },
  {
   "cell_type": "code",
   "execution_count": 3,
   "metadata": {},
   "outputs": [],
   "source": [
    "def convert(s):\n",
    "    # initialization of string to \"\"\n",
    "    new = \"\"\n",
    "    # traverse in the string \n",
    "    for x in s:\n",
    "        new += x.decode() \n",
    "    # return string \n",
    "    return new"
   ]
  },
  {
   "cell_type": "markdown",
   "metadata": {},
   "source": [
    "## Accessing data :\n",
    "\n",
    "We will interpolate pressure data to compare different sondes, which were all mounted onto the same balloon. <br>\n",
    "It's not necessary to select the data with the help of 'ListProfiles.xls' - a file for mapping the data of the different sondes to one ascent. <br>\n",
    "Opening all available data and searching for the matching report_id would be possible too, we want to show you that it's not necessary to load all the data before computing. <br> <br>\n",
    "\n",
    "\n",
    "__Consider that there is no height information matching the pressure values on early radiosondes.__ <br> <br>\n",
    "\n",
    "\n",
    "We will select a reference sonde, based on the longest series of measurements.<br>\n",
    "The pressure data of our reference sonde will be interpolated onto the time - minutes since the ascent start.<br>\n",
    "With the resulting interpolation funktion we can get the exact moment, when the sonde were on a standard pressure level.<br>\n",
    "In the second step we will get the pressure value of all the other sondes to that given time. For this process it's necessary to interpolate backwards: time onto pressure.<br>\n"
   ]
  },
  {
   "cell_type": "markdown",
   "metadata": {},
   "source": [
    "### First we request a file from the intercomparison campagne to have a look at it:"
   ]
  },
  {
   "cell_type": "code",
   "execution_count": 4,
   "metadata": {},
   "outputs": [
    {
     "name": "stderr",
     "output_type": "stream",
     "text": [
      "2021-06-22 14:56:08,550 INFO Welcome to the CDS\n",
      "2021-06-22 14:56:08,552 INFO Sending request to https://sis-dev.climate.copernicus.eu/api/v2/resources/insitu-comprehensive-upper-air-observation-network\n",
      "2021-06-22 14:56:08,787 INFO Request is completed\n",
      "2021-06-22 14:56:08,788 INFO Downloading http://136.156.132.176/cache-compute-0002/cache/data2/adaptor.comprehensive_upper_air.retrieve-1624366408.9184244-4038-15-ea868150-9578-4028-9f00-f64be97b8fd0.zip to download.zip (705K)\n",
      "2021-06-22 14:56:09,157 INFO Download rate 1.9M/s \n"
     ]
    }
   ],
   "source": [
    "import sys\n",
    "sys.path.append(os.getcwd()+'/../cds-backend/code/')\n",
    "import cds_eua3 as eua\n",
    "\n",
    "r = c.retrieve('insitu-comprehensive-upper-air-observation-network',\n",
    "                       {\n",
    "                           'variable': [\"air_temperature\"],\n",
    "                           'overwrite': True,\n",
    "                           'statid': '0-20100-0-00403',\n",
    "                           'period': '19001001/20201231',\n",
    "                           'optional': ['sonde_type'],\n",
    "                           'cdm': ['sensor_configuration/comments', 'sensor_configuration/sensor_id'],\n",
    "                       })\n",
    "if True:\n",
    "        # Start Download\n",
    "        r.download(target='download.zip')\n",
    "        # Check file size\n",
    "        assert os.stat('download.zip').st_size == r.content_length, \"Downloaded file is incomplete\"\n",
    "        # Unzip the Data Stream\n",
    "        z = zipfile.ZipFile('download.zip')\n",
    "        z.extractall(path='./example_data/6/')\n",
    "        z.close()\n",
    "        os.remove('download.zip')\n",
    "\n",
    "file = glob.glob('./example_data/6/*')[0]\n"
   ]
  },
  {
   "cell_type": "markdown",
   "metadata": {},
   "source": [
    "### We open it and look at the data structure:"
   ]
  },
  {
   "cell_type": "code",
   "execution_count": 5,
   "metadata": {},
   "outputs": [
    {
     "data": {
      "text/plain": [
       "File: <HDF5 file \"dest_0-20100-0-00403_air_temperature.nc\" (mode r)>\n",
       "Permissions: RW (mblaschek)\n",
       "Filesize: 0.69 MB\n",
       "Filename: ./example_data/6/dest_0-20100-0-00403_air_temperature.nc\n",
       "(G)roups/(V)ariables: \n",
       "\n",
       " - V | lat__________________________________________ : : (1030,)\n",
       " - V | lon__________________________________________ : : (1030,)\n",
       " - V | plev_________________________________________ : : (1030,)\n",
       " - V | report_id____________________________________ : : (1030, 19)\n",
       " - G | sensor_configuration_________________________ : : 2\n",
       " - V | sonde_type___________________________________ : : (1030, 11)\n",
       " - V | ta___________________________________________ : : (1030,)\n",
       " - V | time_________________________________________ : : (1030,)\n",
       " - V | trajectory_index_____________________________ : : (1030,)\n",
       " - V | trajectory_label_____________________________ : : (17, 19)"
      ]
     },
     "metadata": {},
     "output_type": "display_data"
    },
    {
     "name": "stderr",
     "output_type": "stream",
     "text": [
      "2021-06-22 14:56:18,243 INFO Reading Profile on slice(None, None, None)\n"
     ]
    }
   ],
   "source": [
    "try:\n",
    "    with eua.CDMDataset(file) as data:\n",
    "        display(data)\n",
    "        df = data.to_dataframe(variables=['lat', 'lon', 'plev', 'report_id', 'sonde_type', 'ta', 'time', 'trajectory_index'])\n",
    "except:\n",
    "    pass"
   ]
  },
  {
   "cell_type": "code",
   "execution_count": 6,
   "metadata": {},
   "outputs": [
    {
     "data": {
      "text/html": [
       "<div>\n",
       "<style scoped>\n",
       "    .dataframe tbody tr th:only-of-type {\n",
       "        vertical-align: middle;\n",
       "    }\n",
       "\n",
       "    .dataframe tbody tr th {\n",
       "        vertical-align: top;\n",
       "    }\n",
       "\n",
       "    .dataframe thead th {\n",
       "        text-align: right;\n",
       "    }\n",
       "</style>\n",
       "<table border=\"1\" class=\"dataframe\">\n",
       "  <thead>\n",
       "    <tr style=\"text-align: right;\">\n",
       "      <th></th>\n",
       "      <th>lat</th>\n",
       "      <th>lon</th>\n",
       "      <th>plev</th>\n",
       "      <th>report_id</th>\n",
       "      <th>sonde_type</th>\n",
       "      <th>ta</th>\n",
       "      <th>time</th>\n",
       "      <th>trajectory_index</th>\n",
       "    </tr>\n",
       "  </thead>\n",
       "  <tbody>\n",
       "    <tr>\n",
       "      <th>0</th>\n",
       "      <td>46.812</td>\n",
       "      <td>6.942</td>\n",
       "      <td>2700.0</td>\n",
       "      <td>0-20100-0-00403-000</td>\n",
       "      <td>IF1,IF2,IFA</td>\n",
       "      <td>222.05</td>\n",
       "      <td>1779875160</td>\n",
       "      <td>0</td>\n",
       "    </tr>\n",
       "    <tr>\n",
       "      <th>1</th>\n",
       "      <td>46.812</td>\n",
       "      <td>6.942</td>\n",
       "      <td>2800.0</td>\n",
       "      <td>0-20100-0-00403-000</td>\n",
       "      <td>IF1,IF2,IFA</td>\n",
       "      <td>221.95</td>\n",
       "      <td>1779875100</td>\n",
       "      <td>0</td>\n",
       "    </tr>\n",
       "    <tr>\n",
       "      <th>2</th>\n",
       "      <td>46.812</td>\n",
       "      <td>6.942</td>\n",
       "      <td>3000.0</td>\n",
       "      <td>0-20100-0-00403-000</td>\n",
       "      <td>IF1,IF2,IFA</td>\n",
       "      <td>221.65</td>\n",
       "      <td>1779875040</td>\n",
       "      <td>0</td>\n",
       "    </tr>\n",
       "    <tr>\n",
       "      <th>3</th>\n",
       "      <td>46.812</td>\n",
       "      <td>6.942</td>\n",
       "      <td>3200.0</td>\n",
       "      <td>0-20100-0-00403-000</td>\n",
       "      <td>IF1,IF2,IFA</td>\n",
       "      <td>221.55</td>\n",
       "      <td>1779874980</td>\n",
       "      <td>0</td>\n",
       "    </tr>\n",
       "    <tr>\n",
       "      <th>4</th>\n",
       "      <td>46.812</td>\n",
       "      <td>6.942</td>\n",
       "      <td>3400.0</td>\n",
       "      <td>0-20100-0-00403-000</td>\n",
       "      <td>IF1,IF2,IFA</td>\n",
       "      <td>221.65</td>\n",
       "      <td>1779874920</td>\n",
       "      <td>0</td>\n",
       "    </tr>\n",
       "    <tr>\n",
       "      <th>...</th>\n",
       "      <td>...</td>\n",
       "      <td>...</td>\n",
       "      <td>...</td>\n",
       "      <td>...</td>\n",
       "      <td>...</td>\n",
       "      <td>...</td>\n",
       "      <td>...</td>\n",
       "      <td>...</td>\n",
       "    </tr>\n",
       "    <tr>\n",
       "      <th>1025</th>\n",
       "      <td>46.812</td>\n",
       "      <td>6.942</td>\n",
       "      <td>86500.0</td>\n",
       "      <td>0-20100-0-00403-055</td>\n",
       "      <td>IF1,IF2,IFA</td>\n",
       "      <td>278.65</td>\n",
       "      <td>1781478420</td>\n",
       "      <td>16</td>\n",
       "    </tr>\n",
       "    <tr>\n",
       "      <th>1026</th>\n",
       "      <td>46.812</td>\n",
       "      <td>6.942</td>\n",
       "      <td>89000.0</td>\n",
       "      <td>0-20100-0-00403-055</td>\n",
       "      <td>IF1,IF2,IFA</td>\n",
       "      <td>279.75</td>\n",
       "      <td>1781478360</td>\n",
       "      <td>16</td>\n",
       "    </tr>\n",
       "    <tr>\n",
       "      <th>1027</th>\n",
       "      <td>46.812</td>\n",
       "      <td>6.942</td>\n",
       "      <td>91500.0</td>\n",
       "      <td>0-20100-0-00403-055</td>\n",
       "      <td>IF1,IF2,IFA</td>\n",
       "      <td>280.75</td>\n",
       "      <td>1781478300</td>\n",
       "      <td>16</td>\n",
       "    </tr>\n",
       "    <tr>\n",
       "      <th>1028</th>\n",
       "      <td>46.812</td>\n",
       "      <td>6.942</td>\n",
       "      <td>94000.0</td>\n",
       "      <td>0-20100-0-00403-055</td>\n",
       "      <td>IF1,IF2,IFA</td>\n",
       "      <td>282.65</td>\n",
       "      <td>1781478240</td>\n",
       "      <td>16</td>\n",
       "    </tr>\n",
       "    <tr>\n",
       "      <th>1029</th>\n",
       "      <td>46.812</td>\n",
       "      <td>6.942</td>\n",
       "      <td>96380.0</td>\n",
       "      <td>0-20100-0-00403-055</td>\n",
       "      <td>IF1,IF2,IFA</td>\n",
       "      <td>284.75</td>\n",
       "      <td>1781476320</td>\n",
       "      <td>16</td>\n",
       "    </tr>\n",
       "  </tbody>\n",
       "</table>\n",
       "<p>1030 rows × 8 columns</p>\n",
       "</div>"
      ],
      "text/plain": [
       "         lat    lon     plev            report_id   sonde_type      ta  \\\n",
       "0     46.812  6.942   2700.0  0-20100-0-00403-000  IF1,IF2,IFA  222.05   \n",
       "1     46.812  6.942   2800.0  0-20100-0-00403-000  IF1,IF2,IFA  221.95   \n",
       "2     46.812  6.942   3000.0  0-20100-0-00403-000  IF1,IF2,IFA  221.65   \n",
       "3     46.812  6.942   3200.0  0-20100-0-00403-000  IF1,IF2,IFA  221.55   \n",
       "4     46.812  6.942   3400.0  0-20100-0-00403-000  IF1,IF2,IFA  221.65   \n",
       "...      ...    ...      ...                  ...          ...     ...   \n",
       "1025  46.812  6.942  86500.0  0-20100-0-00403-055  IF1,IF2,IFA  278.65   \n",
       "1026  46.812  6.942  89000.0  0-20100-0-00403-055  IF1,IF2,IFA  279.75   \n",
       "1027  46.812  6.942  91500.0  0-20100-0-00403-055  IF1,IF2,IFA  280.75   \n",
       "1028  46.812  6.942  94000.0  0-20100-0-00403-055  IF1,IF2,IFA  282.65   \n",
       "1029  46.812  6.942  96380.0  0-20100-0-00403-055  IF1,IF2,IFA  284.75   \n",
       "\n",
       "            time  trajectory_index  \n",
       "0     1779875160                 0  \n",
       "1     1779875100                 0  \n",
       "2     1779875040                 0  \n",
       "3     1779874980                 0  \n",
       "4     1779874920                 0  \n",
       "...          ...               ...  \n",
       "1025  1781478420                16  \n",
       "1026  1781478360                16  \n",
       "1027  1781478300                16  \n",
       "1028  1781478240                16  \n",
       "1029  1781476320                16  \n",
       "\n",
       "[1030 rows x 8 columns]"
      ]
     },
     "execution_count": 6,
     "metadata": {},
     "output_type": "execute_result"
    }
   ],
   "source": [
    "df"
   ]
  },
  {
   "cell_type": "markdown",
   "metadata": {},
   "source": [
    "### To look up the sonde type we can have a look in 'sensor_configuration/sensor_id' and 'sensor_configuration/comments':"
   ]
  },
  {
   "cell_type": "code",
   "execution_count": 30,
   "metadata": {},
   "outputs": [
    {
     "name": "stderr",
     "output_type": "stream",
     "text": [
      "2021-06-22 15:24:06,342 INFO Reading Profile on slice(None, None, None)\n"
     ]
    },
    {
     "data": {
      "text/html": [
       "<div>\n",
       "<style scoped>\n",
       "    .dataframe tbody tr th:only-of-type {\n",
       "        vertical-align: middle;\n",
       "    }\n",
       "\n",
       "    .dataframe tbody tr th {\n",
       "        vertical-align: top;\n",
       "    }\n",
       "\n",
       "    .dataframe thead th {\n",
       "        text-align: right;\n",
       "    }\n",
       "</style>\n",
       "<table border=\"1\" class=\"dataframe\">\n",
       "  <thead>\n",
       "    <tr style=\"text-align: right;\">\n",
       "      <th></th>\n",
       "      <th>sensor_id</th>\n",
       "      <th>comments</th>\n",
       "    </tr>\n",
       "  </thead>\n",
       "  <tbody>\n",
       "    <tr>\n",
       "      <th>0</th>\n",
       "      <td>???</td>\n",
       "      <td>??? Unknown instrument category because data is not available for checking^</td>\n",
       "    </tr>\n",
       "    <tr>\n",
       "      <th>1</th>\n",
       "      <td>AA3</td>\n",
       "      <td>AA3 Australia Astor 72 MHz thermistor in S-shaped duct radiosonde {&lt;= 1953}^ (I=K including 72 and 403 MHz, T=087)</td>\n",
       "    </tr>\n",
       "    <tr>\n",
       "      <th>2</th>\n",
       "      <td>AA4</td>\n",
       "      <td>AA4 Australia Astor 72 MHz external thermistor radiosonde {1962}^ (I=K including 72 and 403 MHz, T=087) &lt;F=V72AB,P=A,T=TR,U=L&gt;</td>\n",
       "    </tr>\n",
       "    <tr>\n",
       "      <th>3</th>\n",
       "      <td>AA5</td>\n",
       "      <td>AA5 Australia Astor 403 MHz thermistor in duct radiosonde {&lt;= 1953}^ (I=K including 72 and 403 MHz, T=090) &lt;F=V403FB,P=A,T=TRd,U=L&gt;</td>\n",
       "    </tr>\n",
       "    <tr>\n",
       "      <th>4</th>\n",
       "      <td>AA6</td>\n",
       "      <td>AA6 Australia Astor Type 403 (402 MHz) external thermistor radiosonde {1962}^ (T=088) &lt;F=V402FB,P=A,T=TR,U=L&gt;</td>\n",
       "    </tr>\n",
       "    <tr>\n",
       "      <th>...</th>\n",
       "      <td>...</td>\n",
       "      <td>...</td>\n",
       "    </tr>\n",
       "    <tr>\n",
       "      <th>3290</th>\n",
       "      <td>APA3</td>\n",
       "      <td>APA3 exact type insufficiently documented</td>\n",
       "    </tr>\n",
       "    <tr>\n",
       "      <th>3291</th>\n",
       "      <td>A??</td>\n",
       "      <td>A?? exact type insufficiently documented</td>\n",
       "    </tr>\n",
       "    <tr>\n",
       "      <th>3292</th>\n",
       "      <td>A???</td>\n",
       "      <td>A??? exact type insufficiently documented</td>\n",
       "    </tr>\n",
       "    <tr>\n",
       "      <th>3293</th>\n",
       "      <td>C[</td>\n",
       "      <td>C[ exact type insufficiently documented</td>\n",
       "    </tr>\n",
       "    <tr>\n",
       "      <th>3294</th>\n",
       "      <td>PZ5</td>\n",
       "      <td>Beukers 1524-511 (WMO IRI Phase 1)</td>\n",
       "    </tr>\n",
       "  </tbody>\n",
       "</table>\n",
       "<p>3295 rows × 2 columns</p>\n",
       "</div>"
      ],
      "text/plain": [
       "     sensor_id  \\\n",
       "0     ???        \n",
       "1     AA3        \n",
       "2     AA4        \n",
       "3     AA5        \n",
       "4     AA6        \n",
       "...   ...        \n",
       "3290  APA3       \n",
       "3291  A??        \n",
       "3292  A???       \n",
       "3293  C[         \n",
       "3294  PZ5        \n",
       "\n",
       "                                                                                                                                   comments  \n",
       "0       ??? Unknown instrument category because data is not available for checking^                                                          \n",
       "1       AA3 Australia Astor 72 MHz thermistor in S-shaped duct radiosonde {<= 1953}^ (I=K including 72 and 403 MHz, T=087)                   \n",
       "2       AA4 Australia Astor 72 MHz external thermistor radiosonde {1962}^ (I=K including 72 and 403 MHz, T=087) <F=V72AB,P=A,T=TR,U=L>       \n",
       "3       AA5 Australia Astor 403 MHz thermistor in duct radiosonde {<= 1953}^ (I=K including 72 and 403 MHz, T=090) <F=V403FB,P=A,T=TRd,U=L>  \n",
       "4       AA6 Australia Astor Type 403 (402 MHz) external thermistor radiosonde {1962}^ (T=088) <F=V402FB,P=A,T=TR,U=L>                        \n",
       "...                                                                                                               ...                        \n",
       "3290    APA3 exact type insufficiently documented                                                                                            \n",
       "3291    A?? exact type insufficiently documented                                                                                             \n",
       "3292    A??? exact type insufficiently documented                                                                                            \n",
       "3293    C[ exact type insufficiently documented                                                                                              \n",
       "3294    Beukers 1524-511 (WMO IRI Phase 1)                                                                                                   \n",
       "\n",
       "[3295 rows x 2 columns]"
      ]
     },
     "execution_count": 30,
     "metadata": {},
     "output_type": "execute_result"
    }
   ],
   "source": [
    "with eua.CDMDataset(file) as data:\n",
    "    sid = data.to_dataframe(groups='sensor_configuration', variables=['sensor_id', 'comments'])\n",
    "sid"
   ]
  },
  {
   "cell_type": "code",
   "execution_count": 20,
   "metadata": {},
   "outputs": [
    {
     "data": {
      "text/plain": [
       "['IF1', 'IF2', 'IFA']"
      ]
     },
     "execution_count": 20,
     "metadata": {},
     "output_type": "execute_result"
    }
   ],
   "source": [
    "sensors = df.iloc[0].sonde_type.split(',')\n",
    "sensors"
   ]
  },
  {
   "cell_type": "code",
   "execution_count": 29,
   "metadata": {},
   "outputs": [
    {
     "data": {
      "text/html": [
       "<div>\n",
       "<style scoped>\n",
       "    .dataframe tbody tr th:only-of-type {\n",
       "        vertical-align: middle;\n",
       "    }\n",
       "\n",
       "    .dataframe tbody tr th {\n",
       "        vertical-align: top;\n",
       "    }\n",
       "\n",
       "    .dataframe thead th {\n",
       "        text-align: right;\n",
       "    }\n",
       "</style>\n",
       "<table border=\"1\" class=\"dataframe\">\n",
       "  <thead>\n",
       "    <tr style=\"text-align: right;\">\n",
       "      <th></th>\n",
       "      <th>sensor_id</th>\n",
       "      <th>comments</th>\n",
       "    </tr>\n",
       "  </thead>\n",
       "  <tbody>\n",
       "    <tr>\n",
       "      <th>458</th>\n",
       "      <td>IF1</td>\n",
       "      <td>IF1 India fan drive 75 MHz radiosonde {1940s}^ &lt;F=V75HR(paper fan),P=A,T=BC,U=W&gt;</td>\n",
       "    </tr>\n",
       "  </tbody>\n",
       "</table>\n",
       "</div>"
      ],
      "text/plain": [
       "    sensor_id  \\\n",
       "458  IF1        \n",
       "\n",
       "                                                                               comments  \n",
       "458    IF1 India fan drive 75 MHz radiosonde {1940s}^ <F=V75HR(paper fan),P=A,T=BC,U=W>  "
      ]
     },
     "metadata": {},
     "output_type": "display_data"
    },
    {
     "data": {
      "text/html": [
       "<div>\n",
       "<style scoped>\n",
       "    .dataframe tbody tr th:only-of-type {\n",
       "        vertical-align: middle;\n",
       "    }\n",
       "\n",
       "    .dataframe tbody tr th {\n",
       "        vertical-align: top;\n",
       "    }\n",
       "\n",
       "    .dataframe thead th {\n",
       "        text-align: right;\n",
       "    }\n",
       "</style>\n",
       "<table border=\"1\" class=\"dataframe\">\n",
       "  <thead>\n",
       "    <tr style=\"text-align: right;\">\n",
       "      <th></th>\n",
       "      <th>sensor_id</th>\n",
       "      <th>comments</th>\n",
       "    </tr>\n",
       "  </thead>\n",
       "  <tbody>\n",
       "    <tr>\n",
       "      <th>459</th>\n",
       "      <td>IF2</td>\n",
       "      <td>IF2 India fan drive 2-transmitter 75 and 397 MHz radiosonde {1957}^ (I=N2) &lt;F=V75+397HR(paper fan),P=A,T=BC,U=W&gt;</td>\n",
       "    </tr>\n",
       "  </tbody>\n",
       "</table>\n",
       "</div>"
      ],
      "text/plain": [
       "    sensor_id  \\\n",
       "459  IF2        \n",
       "\n",
       "                                                                                                               comments  \n",
       "459    IF2 India fan drive 2-transmitter 75 and 397 MHz radiosonde {1957}^ (I=N2) <F=V75+397HR(paper fan),P=A,T=BC,U=W>  "
      ]
     },
     "metadata": {},
     "output_type": "display_data"
    },
    {
     "data": {
      "text/html": [
       "<div>\n",
       "<style scoped>\n",
       "    .dataframe tbody tr th:only-of-type {\n",
       "        vertical-align: middle;\n",
       "    }\n",
       "\n",
       "    .dataframe tbody tr th {\n",
       "        vertical-align: top;\n",
       "    }\n",
       "\n",
       "    .dataframe thead th {\n",
       "        text-align: right;\n",
       "    }\n",
       "</style>\n",
       "<table border=\"1\" class=\"dataframe\">\n",
       "  <thead>\n",
       "    <tr style=\"text-align: right;\">\n",
       "      <th></th>\n",
       "      <th>sensor_id</th>\n",
       "      <th>comments</th>\n",
       "    </tr>\n",
       "  </thead>\n",
       "  <tbody>\n",
       "    <tr>\n",
       "      <th>460</th>\n",
       "      <td>IFA</td>\n",
       "      <td>IFA India fan drive single 397 MHz transmitter radiosonde {late 1950s}^ &lt;F=V397HR(paper fan),P=A,T=BC,U=W&gt;</td>\n",
       "    </tr>\n",
       "  </tbody>\n",
       "</table>\n",
       "</div>"
      ],
      "text/plain": [
       "    sensor_id  \\\n",
       "460  IFA        \n",
       "\n",
       "                                                                                                         comments  \n",
       "460    IFA India fan drive single 397 MHz transmitter radiosonde {late 1950s}^ <F=V397HR(paper fan),P=A,T=BC,U=W>  "
      ]
     },
     "metadata": {},
     "output_type": "display_data"
    }
   ],
   "source": [
    "pandas.set_option('display.max_colwidth', -1)\n",
    "for i in sensors:\n",
    "    display(sid[sid.sensor_id == i])"
   ]
  },
  {
   "cell_type": "markdown",
   "metadata": {},
   "source": [
    "### In this sondetype file these ascents are saved:"
   ]
  },
  {
   "cell_type": "code",
   "execution_count": 9,
   "metadata": {},
   "outputs": [
    {
     "name": "stdout",
     "output_type": "stream",
     "text": [
      "0-20100-0-00403-000\n",
      "0-20100-0-00403-001\n",
      "0-20100-0-00403-017\n",
      "0-20100-0-00403-019\n",
      "0-20100-0-00403-023\n",
      "0-20100-0-00403-025\n",
      "0-20100-0-00403-028\n",
      "0-20100-0-00403-031\n",
      "0-20100-0-00403-036\n",
      "0-20100-0-00403-044\n",
      "0-20100-0-00403-045\n",
      "0-20100-0-00403-046\n",
      "0-20100-0-00403-049\n",
      "0-20100-0-00403-050\n",
      "0-20100-0-00403-051\n",
      "0-20100-0-00403-052\n",
      "0-20100-0-00403-054\n",
      "0-20100-0-00403-055\n"
     ]
    }
   ],
   "source": [
    "for i in df.report_id.drop_duplicates():\n",
    "    picname = i \n",
    "    print(i)"
   ]
  },
  {
   "cell_type": "markdown",
   "metadata": {},
   "source": [
    "### To do the inpterpolation, we request all sensortypes of this campagne, so we can select one ascent id (001) and search all sonde files for this ascent:"
   ]
  },
  {
   "cell_type": "code",
   "execution_count": 58,
   "metadata": {},
   "outputs": [
    {
     "name": "stderr",
     "output_type": "stream",
     "text": [
      "2021-06-22 13:38:31,531 INFO Welcome to the CDS\n",
      "2021-06-22 13:38:31,533 INFO Sending request to https://sis-dev.climate.copernicus.eu/api/v2/resources/insitu-comprehensive-upper-air-observation-network\n",
      "2021-06-22 13:38:31,799 INFO Downloading http://136.156.132.176/cache-compute-0000/cache/data2/adaptor.comprehensive_upper_air.retrieve-1624351724.0004816-14001-6-7e9ca070-f217-4afa-b08c-0b95c928b438.zip to download.zip (676.4K)\n",
      "2021-06-22 13:38:32,215 INFO Download rate 1.6M/s \n",
      "2021-06-22 13:38:32,848 INFO Reading Profile on slice(None, None, None)\n",
      "2021-06-22 13:38:32,871 INFO Reading Profile on slice(None, None, None)\n",
      "2021-06-22 13:38:32,918 INFO Reading Profile on slice(None, None, None)\n",
      "2021-06-22 13:38:32,969 INFO Reading Profile on slice(None, None, None)\n",
      "2021-06-22 13:38:33,030 INFO Reading Profile on slice(None, None, None)\n",
      "2021-06-22 13:38:33,092 INFO Reading Profile on slice(None, None, None)\n",
      "2021-06-22 13:38:33,148 INFO Reading Profile on slice(None, None, None)\n",
      "2021-06-22 13:38:33,208 INFO Reading Profile on slice(None, None, None)\n",
      "2021-06-22 13:38:33,258 INFO Reading Profile on slice(None, None, None)\n",
      "2021-06-22 13:38:33,324 INFO Reading Profile on slice(None, None, None)\n",
      "2021-06-22 13:38:33,383 INFO Reading Profile on slice(None, None, None)\n",
      "2021-06-22 13:38:33,442 INFO Reading Profile on slice(None, None, None)\n",
      "2021-06-22 13:38:33,498 INFO Reading Profile on slice(None, None, None)\n",
      "2021-06-22 13:38:33,543 INFO Reading Profile on slice(None, None, None)\n"
     ]
    }
   ],
   "source": [
    "import sys\n",
    "sys.path.append(os.getcwd()+'/../cds-backend/code/')\n",
    "import cds_eua3 as eua\n",
    "\n",
    "r = c.retrieve('insitu-comprehensive-upper-air-observation-network',\n",
    "                       {\n",
    "                           'variable': [\"air_temperature\"],\n",
    "                           'overwrite': True,\n",
    "                           'statid': '0-20100-0-004*',\n",
    "                           'period': '19001001/20201231',\n",
    "                           'optional': ['sonde_type'],\n",
    "                       })\n",
    "if True:\n",
    "        # Start Download\n",
    "        r.download(target='download.zip')\n",
    "        # Check file size\n",
    "        assert os.stat('download.zip').st_size == r.content_length, \"Downloaded file is incomplete\"\n",
    "        # Unzip the Data Stream\n",
    "        z = zipfile.ZipFile('download.zip')\n",
    "        z.extractall(path='./example_data/6/')\n",
    "        z.close()\n",
    "        os.remove('download.zip')\n",
    "\n",
    "files = glob.glob('./example_data/6/*')\n",
    "df = eua.CDMDataset(files[0]).to_dataframe()\n",
    "for i in files[1:]:\n",
    "    add = eua.CDMDataset(i).to_dataframe()\n",
    "    df = df.append(add, sort=True)"
   ]
  },
  {
   "cell_type": "code",
   "execution_count": 59,
   "metadata": {},
   "outputs": [
    {
     "data": {
      "text/plain": [
       "array([-429113640000000000, -429113700000000000, -429113760000000000, ...,\n",
       "       -427851480000000000, -427851540000000000, -427855800000000000])"
      ]
     },
     "execution_count": 59,
     "metadata": {},
     "output_type": "execute_result"
    }
   ],
   "source": [
    "np.array(df.time).astype(int)"
   ]
  },
  {
   "cell_type": "markdown",
   "metadata": {},
   "source": [
    "### To select a single ascent - we can sort by the last three digits of the report_id:"
   ]
  },
  {
   "cell_type": "code",
   "execution_count": 60,
   "metadata": {},
   "outputs": [
    {
     "data": {
      "text/html": [
       "<div>\n",
       "<style scoped>\n",
       "    .dataframe tbody tr th:only-of-type {\n",
       "        vertical-align: middle;\n",
       "    }\n",
       "\n",
       "    .dataframe tbody tr th {\n",
       "        vertical-align: top;\n",
       "    }\n",
       "\n",
       "    .dataframe thead th {\n",
       "        text-align: right;\n",
       "    }\n",
       "</style>\n",
       "<table border=\"1\" class=\"dataframe\">\n",
       "  <thead>\n",
       "    <tr style=\"text-align: right;\">\n",
       "      <th></th>\n",
       "      <th>lat</th>\n",
       "      <th>lon</th>\n",
       "      <th>plev</th>\n",
       "      <th>report_id</th>\n",
       "      <th>sonde_type</th>\n",
       "      <th>ta</th>\n",
       "      <th>time</th>\n",
       "      <th>trajectory_label</th>\n",
       "    </tr>\n",
       "  </thead>\n",
       "  <tbody>\n",
       "    <tr>\n",
       "      <th>53</th>\n",
       "      <td>46.812</td>\n",
       "      <td>6.942</td>\n",
       "      <td>4000.0</td>\n",
       "      <td>0-20100-0-00403-001</td>\n",
       "      <td>IF1,IF2,IFA</td>\n",
       "      <td>220.35</td>\n",
       "      <td>1956-05-27 15:00:00</td>\n",
       "      <td>nnnnnnnnnnnnnnnnnnn</td>\n",
       "    </tr>\n",
       "    <tr>\n",
       "      <th>54</th>\n",
       "      <td>46.812</td>\n",
       "      <td>6.942</td>\n",
       "      <td>4400.0</td>\n",
       "      <td>0-20100-0-00403-001</td>\n",
       "      <td>IF1,IF2,IFA</td>\n",
       "      <td>220.05</td>\n",
       "      <td>1956-05-27 14:59:00</td>\n",
       "      <td>nnnnnnnnnnnnnnnnnnn</td>\n",
       "    </tr>\n",
       "    <tr>\n",
       "      <th>55</th>\n",
       "      <td>46.812</td>\n",
       "      <td>6.942</td>\n",
       "      <td>4700.0</td>\n",
       "      <td>0-20100-0-00403-001</td>\n",
       "      <td>IF1,IF2,IFA</td>\n",
       "      <td>220.05</td>\n",
       "      <td>1956-05-27 14:58:00</td>\n",
       "      <td>nnnnnnnnnnnnnnnnnnn</td>\n",
       "    </tr>\n",
       "    <tr>\n",
       "      <th>56</th>\n",
       "      <td>46.812</td>\n",
       "      <td>6.942</td>\n",
       "      <td>5000.0</td>\n",
       "      <td>0-20100-0-00403-001</td>\n",
       "      <td>IF1,IF2,IFA</td>\n",
       "      <td>219.65</td>\n",
       "      <td>1956-05-27 14:57:00</td>\n",
       "      <td>nnnnnnnnnnnnnnnnnnn</td>\n",
       "    </tr>\n",
       "    <tr>\n",
       "      <th>57</th>\n",
       "      <td>46.812</td>\n",
       "      <td>6.942</td>\n",
       "      <td>5200.0</td>\n",
       "      <td>0-20100-0-00403-001</td>\n",
       "      <td>IF1,IF2,IFA</td>\n",
       "      <td>219.65</td>\n",
       "      <td>1956-05-27 14:56:00</td>\n",
       "      <td>nnnnnnnnnnnnnnnnnnn</td>\n",
       "    </tr>\n",
       "    <tr>\n",
       "      <th>...</th>\n",
       "      <td>...</td>\n",
       "      <td>...</td>\n",
       "      <td>...</td>\n",
       "      <td>...</td>\n",
       "      <td>...</td>\n",
       "      <td>...</td>\n",
       "      <td>...</td>\n",
       "      <td>...</td>\n",
       "    </tr>\n",
       "    <tr>\n",
       "      <th>58</th>\n",
       "      <td>46.812</td>\n",
       "      <td>6.942</td>\n",
       "      <td>81800.0</td>\n",
       "      <td>0-20100-0-00407-001</td>\n",
       "      <td>FM_,FM5</td>\n",
       "      <td>286.95</td>\n",
       "      <td>1956-05-27 14:15:00</td>\n",
       "      <td>nnnnnnnnnnnnnnnnnnn</td>\n",
       "    </tr>\n",
       "    <tr>\n",
       "      <th>59</th>\n",
       "      <td>46.812</td>\n",
       "      <td>6.942</td>\n",
       "      <td>85200.0</td>\n",
       "      <td>0-20100-0-00407-001</td>\n",
       "      <td>FM_,FM5</td>\n",
       "      <td>289.25</td>\n",
       "      <td>1956-05-27 14:14:00</td>\n",
       "      <td>nnnnnnnnnnnnnnnnnnn</td>\n",
       "    </tr>\n",
       "    <tr>\n",
       "      <th>60</th>\n",
       "      <td>46.812</td>\n",
       "      <td>6.942</td>\n",
       "      <td>89500.0</td>\n",
       "      <td>0-20100-0-00407-001</td>\n",
       "      <td>FM_,FM5</td>\n",
       "      <td>290.65</td>\n",
       "      <td>1956-05-27 14:13:00</td>\n",
       "      <td>nnnnnnnnnnnnnnnnnnn</td>\n",
       "    </tr>\n",
       "    <tr>\n",
       "      <th>61</th>\n",
       "      <td>46.812</td>\n",
       "      <td>6.942</td>\n",
       "      <td>93500.0</td>\n",
       "      <td>0-20100-0-00407-001</td>\n",
       "      <td>FM_,FM5</td>\n",
       "      <td>291.05</td>\n",
       "      <td>1956-05-27 14:12:00</td>\n",
       "      <td>nnnnnnnnnnnnnnnnnnn</td>\n",
       "    </tr>\n",
       "    <tr>\n",
       "      <th>62</th>\n",
       "      <td>46.812</td>\n",
       "      <td>6.942</td>\n",
       "      <td>96220.0</td>\n",
       "      <td>0-20100-0-00407-001</td>\n",
       "      <td>FM_,FM5</td>\n",
       "      <td>293.75</td>\n",
       "      <td>1956-05-27 14:06:00</td>\n",
       "      <td>nnnnnnnnnnnnnnnnnnn</td>\n",
       "    </tr>\n",
       "  </tbody>\n",
       "</table>\n",
       "<p>225 rows × 8 columns</p>\n",
       "</div>"
      ],
      "text/plain": [
       "       lat    lon     plev            report_id   sonde_type      ta  \\\n",
       "53  46.812  6.942   4000.0  0-20100-0-00403-001  IF1,IF2,IFA  220.35   \n",
       "54  46.812  6.942   4400.0  0-20100-0-00403-001  IF1,IF2,IFA  220.05   \n",
       "55  46.812  6.942   4700.0  0-20100-0-00403-001  IF1,IF2,IFA  220.05   \n",
       "56  46.812  6.942   5000.0  0-20100-0-00403-001  IF1,IF2,IFA  219.65   \n",
       "57  46.812  6.942   5200.0  0-20100-0-00403-001  IF1,IF2,IFA  219.65   \n",
       "..     ...    ...      ...                  ...          ...     ...   \n",
       "58  46.812  6.942  81800.0  0-20100-0-00407-001     FM_,FM5   286.95   \n",
       "59  46.812  6.942  85200.0  0-20100-0-00407-001     FM_,FM5   289.25   \n",
       "60  46.812  6.942  89500.0  0-20100-0-00407-001     FM_,FM5   290.65   \n",
       "61  46.812  6.942  93500.0  0-20100-0-00407-001     FM_,FM5   291.05   \n",
       "62  46.812  6.942  96220.0  0-20100-0-00407-001     FM_,FM5   293.75   \n",
       "\n",
       "                  time     trajectory_label  \n",
       "53 1956-05-27 15:00:00  nnnnnnnnnnnnnnnnnnn  \n",
       "54 1956-05-27 14:59:00  nnnnnnnnnnnnnnnnnnn  \n",
       "55 1956-05-27 14:58:00  nnnnnnnnnnnnnnnnnnn  \n",
       "56 1956-05-27 14:57:00  nnnnnnnnnnnnnnnnnnn  \n",
       "57 1956-05-27 14:56:00  nnnnnnnnnnnnnnnnnnn  \n",
       "..                 ...                  ...  \n",
       "58 1956-05-27 14:15:00  nnnnnnnnnnnnnnnnnnn  \n",
       "59 1956-05-27 14:14:00  nnnnnnnnnnnnnnnnnnn  \n",
       "60 1956-05-27 14:13:00  nnnnnnnnnnnnnnnnnnn  \n",
       "61 1956-05-27 14:12:00  nnnnnnnnnnnnnnnnnnn  \n",
       "62 1956-05-27 14:06:00  nnnnnnnnnnnnnnnnnnn  \n",
       "\n",
       "[225 rows x 8 columns]"
      ]
     },
     "execution_count": 60,
     "metadata": {},
     "output_type": "execute_result"
    }
   ],
   "source": [
    "interp_data = df[df.report_id.str.contains('-001')]\n",
    "interp_data"
   ]
  },
  {
   "cell_type": "code",
   "execution_count": 61,
   "metadata": {},
   "outputs": [
    {
     "data": {
      "text/plain": [
       "53    IF1,IF2,IFA\n",
       "0             BHP\n",
       "0             S03\n",
       "0        FM_,FM5 \n",
       "Name: sonde_type, dtype: object"
      ]
     },
     "execution_count": 61,
     "metadata": {},
     "output_type": "execute_result"
    }
   ],
   "source": [
    "interp_data.sonde_type.drop_duplicates()"
   ]
  },
  {
   "cell_type": "markdown",
   "metadata": {},
   "source": [
    "### Finding out which sonde recorded the longes timeseries:"
   ]
  },
  {
   "cell_type": "code",
   "execution_count": 62,
   "metadata": {},
   "outputs": [
    {
     "data": {
      "text/plain": [
       "'FM_,FM5 '"
      ]
     },
     "execution_count": 62,
     "metadata": {},
     "output_type": "execute_result"
    }
   ],
   "source": [
    "maxlen = ''\n",
    "mlen = 0\n",
    "for j in interp_data.sonde_type.drop_duplicates():\n",
    "    slen = len(interp_data[interp_data.sonde_type == j])\n",
    "    if slen > mlen:\n",
    "        maxlen = j\n",
    "j"
   ]
  },
  {
   "cell_type": "markdown",
   "metadata": {},
   "source": [
    "### This will be our reference for interpolation"
   ]
  },
  {
   "cell_type": "code",
   "execution_count": 98,
   "metadata": {},
   "outputs": [],
   "source": [
    "ref_df = interp_data[interp_data.sonde_type == maxlen]\n",
    "f = interp1d( np.array(ref_df.plev), np.array(ref_df.time).astype(float))"
   ]
  },
  {
   "cell_type": "markdown",
   "metadata": {},
   "source": [
    "### And now we interpolate the data of all the other sensors on this ascent:"
   ]
  },
  {
   "cell_type": "code",
   "execution_count": 99,
   "metadata": {},
   "outputs": [],
   "source": [
    "pres_delta = {}\n",
    "for j in interp_data.sonde_type.drop_duplicates():\n",
    "    pres_delta[j] = []\n",
    "    pressure_list = [3000., 5000., 7000., 10000., 15000., 20000., 25000., 30000., 40000., 50000., 60000., 70000., 85000., 90000.]\n",
    "    actual_data = interp_data[interp_data.sonde_type == j]\n",
    "    g = interp1d( np.array(actual_data.time).astype(float), np.array(actual_data.plev))\n",
    "    for i in range(len(pressure_list)):\n",
    "        # backward interpolation time on pressure:\n",
    "        try:\n",
    "            pres_delta[j].append(pressure_list[i] - (float((g(f((pressure_list[i])))))))\n",
    "        except:\n",
    "            pres_delta[j].append(np.nan)"
   ]
  },
  {
   "cell_type": "markdown",
   "metadata": {},
   "source": [
    "### Now we can plot the calculated pressure differences for each standard pressure level:"
   ]
  },
  {
   "cell_type": "code",
   "execution_count": 103,
   "metadata": {},
   "outputs": [
    {
     "data": {
      "image/png": "[encoded data removed]",
      "text/plain": [
       "<Figure size 720x720 with 1 Axes>"
      ]
     },
     "metadata": {
      "needs_background": "light"
     },
     "output_type": "display_data"
    }
   ],
   "source": [
    "fig, (ax1) = plt.subplots(1)\n",
    "yplevs = np.array([10,30,50,100,200,300,400,500,700,900])*100.\n",
    "#             yplevs = np.flip(yplevs)\n",
    "#     -\n",
    "for r in pres_delta.keys():\n",
    "    ax1.semilogy(pres_delta[r], pressure_list)\n",
    "ax1.set(xlabel ='pressure difference [Pa]', ylabel='pressure [Pa]', title=picname, )\n",
    "ax1.set_yticks(ticks=yplevs)\n",
    "ax1.set_yticklabels(map(\"{:.0f}\".format,np.flip(yplevs)),rotation='horizontal')\n",
    "ax1.set_ylim(100000,1000)\n",
    "ax1.legend(pres_delta.keys(), loc='best')\n",
    "ax1.invert_yaxis()\n",
    "ax1.grid()\n",
    "plt.show()"
   ]
  }
 ],
 "metadata": {
  "kernelspec": {
   "display_name": "Python 3",
   "language": "python",
   "name": "python3"
  },
  "language_info": {
   "codemirror_mode": {
    "name": "ipython",
    "version": 3
   },
   "file_extension": ".py",
   "mimetype": "text/x-python",
   "name": "python",
   "nbconvert_exporter": "python",
   "pygments_lexer": "ipython3",
   "version": "3.7.9"
  }
 },
 "nbformat": 4,
 "nbformat_minor": 4
}
