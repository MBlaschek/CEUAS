{
 "cells": [
  {
   "cell_type": "code",
   "execution_count": 16,
   "id": "ea7ba831-4a2e-40b5-9441-c705e0fbfd18",
   "metadata": {
    "tags": []
   },
   "outputs": [],
   "source": [
    "import sys\n",
    "sys.path.append('modules')\n",
    "\n",
    "# importing the modules for data reading and analysis\n",
    "from sensor_functions import * \n",
    "from plot_functions_sensor import * \n",
    "\n",
    "import logging\n",
    "logging.basicConfig(format='%(levelname)s:%(message)s', level=logging.DEBUG)\n",
    "\n",
    "\n",
    "warnings.simplefilter(action='ignore', category=FutureWarning)\n",
    "\n"
   ]
  },
  {
   "cell_type": "code",
   "execution_count": null,
   "id": "d6c335cc-a309-43db-abcb-65c272d0f471",
   "metadata": {
    "tags": []
   },
   "outputs": [],
   "source": []
  },
  {
   "cell_type": "code",
   "execution_count": 9,
   "id": "fbaa45b4-2511-4a13-aab9-45a4a29dd0b6",
   "metadata": {
    "jupyter": {
     "source_hidden": true
    },
    "tags": []
   },
   "outputs": [],
   "source": [
    "### Testing\n",
    "# igra2_metadata.head(20)\n"
   ]
  },
  {
   "cell_type": "code",
   "execution_count": 10,
   "id": "af692ced-3633-4fd8-b4f6-50bac99b29bc",
   "metadata": {
    "tags": []
   },
   "outputs": [],
   "source": [
    "import plotly\n",
    "import plotly.express as px\n",
    "import plotly.graph_objects as go\n",
    "#import dash  # (version 1.12.0) pip install dash\n",
    "import dash_core_components as dcc\n",
    "import dash_html_components as html\n",
    "from dash.dependencies import Input, Output\n",
    "\n",
    "import numpy as np \n",
    "from jupyter_dash import JupyterDash\n",
    "import dash_bootstrap_components as dbc\n",
    "\n",
    "\n",
    "#app = dash.Dash(__name__ , external_stylesheets= [dbc.themes.CYBORG])\n",
    "#app = JupyterDash(__name__, external_stylesheets= [dbc.themes.CYBORG])\n",
    "app = JupyterDash(__name__, )\n",
    "\n",
    "\n",
    "\"\"\" Setting the APP LAYOUT \"\"\"\n",
    "\n",
    "title = html.H1(\n",
    "    className=\"title\",\n",
    "    children='Sensor Id Metadata Dashboard',\n",
    ")\n",
    "\n",
    "\n",
    "\n",
    "default_station = \"0-20000-0-82930\" # \"0-20000-0-82930\" is fast, \"0-20000-0-06610\"\n",
    "\n",
    "app.layout = html.Div([\n",
    "    # title of our web page\n",
    "    html.H1(\"Sensor Id Metadata Dashboard\", \n",
    "            style={'text-align': 'center'}),\n",
    "    \n",
    "    html.Br(),  # Br is a break i.e. a space in between\n",
    "        \n",
    "    \n",
    "    html.Div([\n",
    "            \n",
    "        html.Div( children=[\n",
    "            html.Label('Station Primary Id'),\n",
    "            dcc.Input(id=\"input_station\", \n",
    "                      type=\"text\", \n",
    "                      placeholder= default_station, \n",
    "                      style={'marginLeft':'20px'},\n",
    "                      value = default_station,\n",
    "                      debounce=True, # to wait for click on Enter to start data retrieval\n",
    "                     ),\n",
    "            dcc.Loading( id=\"loading-1\",\n",
    "                          type=\"circle\",\n",
    "                          children=html.Div(id=\"loading-output-1\")\n",
    "            ),\n",
    "        ]),\n",
    "\n",
    "        html.Div( children=[\n",
    "                    dcc.Graph(id='series', figure={},   # how to make two dcc close by: use inline-block and inside same html.Div as children\n",
    "                                  style={'display': 'inline-block' , \n",
    "                                         'width': \"71%\",\n",
    "                                         'marginRight':'-10px',\n",
    "                                         'marginLeft':'-10px'}),\n",
    "                    \n",
    "                    dcc.Graph(id='wmo_table', figure={}, \n",
    "                                  style={'display': 'inline-block',\n",
    "                                         'width': \"28%\",\n",
    "                                         'marginLeft':'-10px'}),             \n",
    "                    ],\n",
    "                style={'width': '100%',\n",
    "                       'display': 'inline-block',\n",
    "                         },\n",
    "                className=\"dash-container\", ) ,\n",
    "        \n",
    "        \n",
    "        html.Div([                  \n",
    "                    dcc.Graph(id='sensor_table', figure={}, \n",
    "                                  style={'display': 'inline-block',\n",
    "                                         'width': \"100%\",\n",
    "                                         'marginLeft':'-10px'}),             \n",
    "                    ],\n",
    "                style={'width': '100%',\n",
    "                       'display': 'inline-block',\n",
    "                         },\n",
    "                className=\"dash-container\", ) ,\n",
    "\n",
    "        ])\n",
    "    ])\n",
    "\n",
    "\n",
    "\n",
    "\n",
    " \n",
    "station =     default_station\n"
   ]
  },
  {
   "cell_type": "code",
   "execution_count": 11,
   "id": "6674b5d0-2082-4f84-9747-fd724df99be5",
   "metadata": {},
   "outputs": [],
   "source": [
    "### Testing\n",
    "#station = default_station\n",
    "#data_clean_all , all_sensor_station = get_data(station)\n",
    "#data_clean_all\n",
    "#all_sensor_station"
   ]
  },
  {
   "cell_type": "code",
   "execution_count": 12,
   "id": "9a4a933d-3288-402f-8a5a-53af78cd4e43",
   "metadata": {},
   "outputs": [],
   "source": [
    "@app.callback(\n",
    "    [ Output(component_id='series', component_property='figure'),\n",
    "      Output(component_id='wmo_table', component_property='figure'),        \n",
    "      Output(component_id='sensor_table', component_property='figure'),\n",
    "    ],\n",
    "    \n",
    "    [ Input(component_id='input_station' , component_property='value')\n",
    "    ]\n",
    "    \n",
    ")\n",
    "\n",
    "    \n",
    "def update_plots(station):\n",
    "    \"\"\" Function to call back \"\"\" \n",
    "\n",
    "    # Extracting all the data\n",
    "    #all_data , all_sensor = get_data(station)\n",
    "\n",
    "    data_clean_all, all_sensor_station, data_all_wmo = get_data(station, force_create=False)\n",
    "\n",
    "    # Loading the chart class \"\"\"\n",
    "    plot = Plot(station.split('_')[-1], save=False)\n",
    "    \n",
    "    # Creating the plots\n",
    "    sensor_table = plot.sensor_table( all_sensor_station)\n",
    "    series = plot.time_series( data_clean_all, label='')\n",
    "    wmo_table = plot.wmo_bar_plot(data_all_wmo)\n",
    "    \n",
    "    return [series, wmo_table, sensor_table]\n",
    "\n"
   ]
  },
  {
   "cell_type": "code",
   "execution_count": 13,
   "id": "336791b0-d6b6-4f59-8da8-14bf784e8bc7",
   "metadata": {
    "tags": []
   },
   "outputs": [
    {
     "name": "stderr",
     "output_type": "stream",
     "text": [
      "DEBUG:Starting new HTTP connection (1): 127.0.1.1:8057\n",
      "DEBUG:http://127.0.1.1:8057 \"GET /_alive_bae3e9b9-951a-408e-a211-646a321213e6 HTTP/1.1\" 200 5\n"
     ]
    },
    {
     "data": {
      "text/html": [
       "\n",
       "        <iframe\n",
       "            width=\"100%\"\n",
       "            height=\"650\"\n",
       "            src=\"http://127.0.1.1:8057/\"\n",
       "            frameborder=\"0\"\n",
       "            allowfullscreen\n",
       "            \n",
       "        ></iframe>\n",
       "        "
      ],
      "text/plain": [
       "<IPython.lib.display.IFrame at 0x7fa27c148160>"
      ]
     },
     "metadata": {},
     "output_type": "display_data"
    }
   ],
   "source": [
    "MODE = 'in'\n",
    "\n",
    "if __name__ == '__main__':\n",
    "    \n",
    "    if MODE != 'out':\n",
    "        #app.run_server(mode = 'inline', debug=True)\n",
    "        import socket\n",
    "        host = socket.gethostbyname(socket.gethostname())\n",
    "        app.run_server(mode='inline', debug=True, host = host)\n",
    "        # if port already in use, add the parameter port=xxx\n",
    "        # app.run_server(mode='inline', port= 8059, debug=True, host = host)\n",
    "        # app.run_server(host='0.0.0.0', debug=True)\n",
    "    else:\n",
    "        #app.run_server(mode = 'inline', debug=True)\n",
    "        import socket\n",
    "        host = socket.gethostbyname(socket.gethostname())\n",
    "        app.run_server(debug=True, host = host)\n"
   ]
  }
 ],
 "metadata": {
  "kernelspec": {
   "display_name": "DashPlotly",
   "language": "python",
   "name": "dashplotly"
  },
  "language_info": {
   "codemirror_mode": {
    "name": "ipython",
    "version": 3
   },
   "file_extension": ".py",
   "mimetype": "text/x-python",
   "name": "python",
   "nbconvert_exporter": "python",
   "pygments_lexer": "ipython3",
   "version": "3.8.13"
  }
 },
 "nbformat": 4,
 "nbformat_minor": 5
}
