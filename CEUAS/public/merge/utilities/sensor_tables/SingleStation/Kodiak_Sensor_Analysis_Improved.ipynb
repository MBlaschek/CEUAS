{
 "cells": [
  {
   "cell_type": "markdown",
   "id": "f01ed21a-c58e-41e4-8d1e-13b0bb219b15",
   "metadata": {},
   "source": [
    "# Sensor Metadata Analysis for the CUON Dataset\n",
    "\n",
    "This notebook provides a complete analysis of the sensor identification methods for a specific station.\n",
    "In particular, three different metadata sources are considered:\n",
    "\n",
    "- WMO codes: the WMO codes are extracted from table at page A-398 of https://library.wmo.int/doc_num.php?explnum_id=10235 \n",
    "\n",
    "- Schroeder's codes as can be found in XXX\n",
    "\n",
    "- IGRA2 metadata that can be downloaded from https://www.ncei.noaa.gov/pub/data/igra/history/\n",
    "\n",
    "\n",
    "WMO codes are available in the "
   ]
  },
  {
   "cell_type": "code",
   "execution_count": 103,
   "id": "858f50de-6882-4166-b875-4fab87e5cd19",
   "metadata": {},
   "outputs": [],
   "source": [
    "import os,sys\n",
    "import warnings\n",
    "warnings.simplefilter(action='ignore', category=FutureWarning)\n",
    "\n",
    "import pandas as pd\n",
    "import numpy as np\n",
    "\n",
    "from multiprocessing import Pool\n",
    "from functools import partial\n",
    "\n",
    "import h5py as h5\n",
    "\n",
    "import plotly.graph_objects as go\n",
    "import plotly.express as px\n",
    "\n",
    "from multiprocessing import Pool\n",
    "from functools import partial\n",
    "\n",
    "import urllib.request\n",
    "pd.options.mode.chained_assignment = None \n",
    "\n",
    "\n",
    "pd.set_option('display.max_columns', None)\n",
    "pd.set_option('display.max_rows', None)\n",
    "pd.set_option('display.width', None)\n",
    "pd.set_option('display.max_colwidth', -1)\n",
    "\n",
    "\n",
    "# Directory with the merged files \n",
    "merged = '/scratch/das/federico/MERGED_25FEB2022'\n",
    "\n",
    "merged = '/users/staff/federico/GitHub/CEUAS_master_SEPTEMBER2021/CEUAS/CEUAS/public/postprocess/add_sensor/PROVA_newsensors_APRIL2022BugFix/'\n",
    "#files_n = ['Lindenberg' , 'Payerne', 'Alaska']\n",
    "#files = ['0-20001-0-10393_CEUAS_merged_v1.nc' , '0-20000-0-06610_CEUAS_merged_v1.nc' , '0-20000-0-70219_CEUAS_merged_v1.nc']\n",
    "\n",
    "\n",
    "station = '0-20000-0-70350'\n",
    "station_name = 'Kodiak (Alaska)'\n",
    "\n"
   ]
  },
  {
   "cell_type": "markdown",
   "id": "40046570-a98e-4bf5-9529-6300c9b38053",
   "metadata": {},
   "source": [
    "## Reading the sensor_configuration table\n",
    "This table contains is created by union of the Schoreder's and WMO's metadata. This table is confomr to the Common Data Model standards, and included in the CUON dataset files."
   ]
  },
  {
   "cell_type": "code",
   "execution_count": 104,
   "id": "64f3c612-79d7-4085-a58a-e3091561ff73",
   "metadata": {
    "tags": []
   },
   "outputs": [],
   "source": [
    "# sensor configuration\n",
    "sensor_conf = pd.read_csv(os.getcwd()+'/data/sensor_configuration_all.csv', sep='\\t',  index_col=0)\n",
    "\n",
    "# add a converted column (to strings)\n",
    "sensor_id_s = []\n",
    "for s in sensor_conf.sensor_id.values:\n",
    "    try:\n",
    "        s = eval(s).decode('utf-8').replace(' ','')\n",
    "    except:\n",
    "        pass\n",
    "    s = str(s)\n",
    "    sensor_id_s.append(s)\n",
    "\n",
    "sensor_conf['sensor_id'] = sensor_id_s"
   ]
  },
  {
   "cell_type": "markdown",
   "id": "c7a1cdbd-ace6-4e34-aa3f-eb01539ef6e4",
   "metadata": {},
   "source": [
    "## IGRA2 Metadata\n",
    "Reading the file from https://www.ncei.noaa.gov/pub/data/igra/history/igra2-metadata.txt\n",
    "\n",
    "See https://www.ncei.noaa.gov/pub/data/igra/history/igra2-metadata-readme.txt for explanations.\n",
    "\n",
    "The IGRA metadata consist of three principal types of radiosonde station\n",
    "history information.\n",
    "\n",
    "1. The primary source is Gaffen (1996):  Records from this source are \n",
    "   identified by an update date of 99/1996.\n",
    "\n",
    "2. Updates to records for GUAN and RATPAC stations (Free et al. 2005) for \n",
    "   the period since Gaffen (1996):  Most of these records are identified \n",
    "   by a source attribution of Hammer (personal communication) and are \n",
    "   based on information received since 2004 through communication between \n",
    "   the NCDC GCOS Lead Center and GCOS focal points at Hydrological and \n",
    "   Meteorological Service Centers (HMSCs) in WMO member countries. \n",
    "   Additional sources of updated information include Joyce (personal \n",
    "   communication) and NOAA/NWS.\n",
    "\n",
    "3. Events supplied by Steve Schroeder of Texas A&M University: \n",
    "   Identified by a source attribution of Schroeder (2007), these events \n",
    "   cover stations in the Russian Federation, India, Japan, China \n",
    "   (including Hong Kong and Taiwan), and Antarctic stations operated by \n",
    "   those countries.\n",
    "\n"
   ]
  },
  {
   "cell_type": "code",
   "execution_count": 105,
   "id": "b1576262-1680-4c39-8842-70569c34c2d1",
   "metadata": {
    "jupyter": {
     "source_hidden": true
    },
    "tags": []
   },
   "outputs": [],
   "source": [
    "if not os.path.isdir('data/igra2-metadata.txt'):\n",
    "    url = 'https://www.ncei.noaa.gov/pub/data/igra/history/igra2-metadata.txt'\n",
    "    urllib.request.urlretrieve(url, 'data/igra2-metadata.txt')\n",
    "\n",
    "    \n",
    "names = ['IGRAID', 'WMOID', \"NAME\", \"NAMFLAG\" , \"LATITUDE\", \"LATFLAG\" , \"LONGITUDE\", \"LONFLAG\", \"ELEVATION\", \"ELVFLAG\", \"YEAR\",\n",
    "           \"MONTH\", \"DAY\", \"HOUR\",\"DATEIND\",\"EVENT\",\"ALTIND\",\"BEFINFO\",\"BEFFLAG\",\"LINK\",\"AFTINFO\",\"AFTFLAG\",\"REFERENCE\",\"COMMENT\",\"UPDCOM\",\"UPDATE\"] \n",
    "\n",
    "colspecs = [(0,11),(12,17),(18,48),(49,50),(50,60),(61,62),(63,72),(73,74),(75,81),(82,83),(84,88),\n",
    "           (89,91),(92,94),(95,97),(98,99),(100,119),(120,122),(123,162),(163,164),(165,167),(168,207),(208,209),(210,234),(235,314),(315,346),(347,354)]\n",
    "\n",
    "\n",
    "\n",
    "df = pd.read_fwf('data/igra2-metadata.txt', \n",
    "                colspecs=colspecs, names=names,\n",
    "                )\n",
    "\n",
    "def get_igra_metadata(station):\n",
    "    \"\"\" Convert the Igra2 Metadata from plain txt into a dataframe,\n",
    "    for the select station WMO id \"\"\"\n",
    "    \n",
    "    \"\"\"\n",
    "    IGRAID         1- 11   Character\n",
    "    WMOID         13- 17   Integer\n",
    "    NAME          19- 48   Character\n",
    "    NAMFLAG       50- 50   Character\n",
    "    LATITUDE      52- 60   Real\n",
    "    LATFLAG       62- 62   Character\n",
    "    LONGITUDE     64- 72   Real\n",
    "    LONFLAG       74- 74   Character\n",
    "    ELEVATION     76- 81   Real\n",
    "    ELVFLAG       83- 83   Character\n",
    "    YEAR          85- 88   Integer\n",
    "    MONTH         90- 91   Integer\n",
    "    DAY           93- 94   Integer\n",
    "    HOUR          96- 97   Integer\n",
    "    DATEIND       99- 99   Integer\n",
    "    EVENT        101-119   Character\n",
    "    ALTIND       121-122   Character\n",
    "    BEFINFO      124-163   Character\n",
    "    BEFFLAG      164-164   Character\n",
    "    LINK         166-167   Character\n",
    "    AFTINFO      169-208   Character\n",
    "    AFTFLAG      209-209   Character\n",
    "    REFERENCE    211-235   Character\n",
    "    COMMENT      236-315   Character\n",
    "    UPDCOM       316-346   Character\n",
    "    UPDDATE      348-354   Character\n",
    "    \"\"\"\n",
    "\n",
    "    # Using read_fwf with fixed column widths \n",
    "    names = ['IGRAID', 'WMOID', \"NAME\", \"NAMFLAG\" , \"LATITUDE\", \"LATFLAG\" , \"LONGITUDE\", \"LONFLAG\", \"ELEVATION\", \"ELVFLAG\", \"YEAR\",\n",
    "           \"MONTH\", \"DAY\", \"HOUR\",\"DATEIND\",\"EVENT\",\"ALTIND\",\"BEFINFO\",\"BEFFLAG\",\"LINK\",\"AFTINFO\",\"AFTFLAG\",\"REFERENCE\",\"COMMENT\",\"UPDCOM\",\"UPDATE\"] \n",
    "\n",
    "    colspecs = [(0,11),(12,17),(18,48),(49,50),(50,60),(61,62),(63,72),(73,74),(75,81),(82,83),(84,88),\n",
    "           (89,91),(92,94),(95,97),(98,99),(100,119),(120,122),(123,162),(163,164),(165,167),(168,207),(208,209),(210,234),(235,314),(315,346),(347,354)]\n",
    "\n",
    "    df = pd.read_fwf('data/igra2-metadata.txt', \n",
    "                colspecs=colspecs, names=names  )\n",
    "\n",
    "    df = df.astype(str)\n",
    "    wmos = [i if len(i) == 5 else '0'+i for i in df.WMOID]\n",
    " \n",
    "    df['WMOID'] = wmos\n",
    "    wmoid = station.split('-')[-1]\n",
    "    #print(wmoid)\n",
    "    stat = df.loc[df.WMOID == wmoid]\n",
    "    #print(stat)\n",
    "    \n",
    "    # Extracting and converting dates \n",
    "    month = [i if len(i) == 2 else '0'+i for i in stat.MONTH]\n",
    "    month = [m if int(m) <=12 else '01' for m in month]\n",
    "    stat[\"MONTH\"] = month\n",
    "    stat[\"DATE\"] = stat[\"YEAR\"].astype(str) + stat[\"MONTH\"].astype(str)\n",
    "    stat[\"DATE\"] = pd.to_datetime(stat['DATE'] , format='%Y%m' )\n",
    "\n",
    "    \n",
    "    update = stat[[ \"EVENT\",\"ALTIND\",\"BEFINFO\",\"BEFFLAG\",\"LINK\",\"AFTINFO\",\"AFTFLAG\" ]].agg(' , '.join, axis=1)\n",
    "    \n",
    "    u = [ ','.join(  [ v for v in c.split(',') if 'nan' not in v ]) for c in update  ]\n",
    "    stat['UPDATE'] = u\n",
    "    stat = stat[ [\"DATE\", \"WMOID\", \"UPDATE\", \"REFERENCE\", \"COMMENT\"] ]\n",
    "    return stat\n",
    "\n",
    "    \n",
    "stat_igra2 = get_igra_metadata(station)\n",
    "#stat_igra2"
   ]
  },
  {
   "cell_type": "code",
   "execution_count": 106,
   "id": "fae29909-1907-473e-99e0-c288cfd9b6da",
   "metadata": {
    "tags": []
   },
   "outputs": [],
   "source": [
    "\n",
    "def get_sensor_id_comments(sensor_id, sensor_conf):\n",
    "    \"\"\" Extracts the metadata realtive to a given sensor id from the sensor_configuration table \"\"\"\n",
    "\n",
    "    s = sensor_id\n",
    "\n",
    "    # list placeholders\n",
    "    sensors, description  = [], []\n",
    "\n",
    "    d = sensor_conf[sensor_conf['sensor_id'] == s ]\n",
    "    if d.empty:\n",
    "        s = s.replace('.0', '').replace('.', '')\n",
    "        if len(s) == 2 and int(s) != 80:\n",
    "            s = '1' + s\n",
    "        elif len(s) ==2 and int(s) == 80:\n",
    "            s = '80'\n",
    "        d = sensor_conf[sensor_conf['sensor_id'] == s ]\n",
    "\n",
    "    try:\n",
    "        com = d.comments.values[0]\n",
    "    except:\n",
    "        com = 'NA'        \n",
    "\n",
    "    try:\n",
    "        com = eval(com).decode('utf-8')\n",
    "    except:\n",
    "        pass\n",
    "\n",
    "    return com\n",
    "\n",
    "\n"
   ]
  },
  {
   "cell_type": "code",
   "execution_count": 107,
   "id": "f75e06ae-06bd-419f-95a2-dff1e5c43165",
   "metadata": {},
   "outputs": [],
   "source": [
    "#get_sensor_id_comments('VDT', sensor_conf)"
   ]
  },
  {
   "cell_type": "markdown",
   "id": "4c73fe8b-49c1-457d-99bb-439d7a0f3f2d",
   "metadata": {},
   "source": [
    "## Analyze A Specific Station\n",
    "\n",
    "Here we analyze a specific station.\n",
    "Reads data from the \"/data\" directory if data was already extracted in the past. \n",
    "\n",
    "Otherwise, the user must have access to the directory of the \"merged\"  files as indicated above."
   ]
  },
  {
   "cell_type": "code",
   "execution_count": 141,
   "id": "ed7ea5a9-b2ba-4bfc-83f9-e95966f5b4c9",
   "metadata": {},
   "outputs": [],
   "source": [
    "def analyze_station(sensor_conf, station):\n",
    "    \n",
    "        \n",
    "    def get_indices(data):\n",
    "        data = data.reset_index()\n",
    "        # find the indices where the sensor was replaced \n",
    "        indices = []\n",
    "        last = ''\n",
    "        for index, row in data.iterrows():\n",
    "            sid = row.sensor_id\n",
    "            #if sid =='nan':\n",
    "            #    continue\n",
    "            #print(index)\n",
    "            if index ==0:\n",
    "                indices.append(index)\n",
    "                last = sid\n",
    "            else:\n",
    "                if sid == last:\n",
    "                    continue\n",
    "                else:\n",
    "                    #print(sid , ' ' , last )\n",
    "                    last = sid\n",
    "                    #print(sid , ' ' , last )\n",
    "                    indices.append(index)\n",
    "        return indices\n",
    "    \n",
    "    # extracting station primary id \n",
    "    \n",
    "    if not ( os.path.isfile('data/' + station + '_sch.csv') and os.path.isfile('data/' + station + '_wmo.csv')):\n",
    "        \n",
    "        print(\"Retrieving data from merged file\")\n",
    "\n",
    "        #file = [f for f in os.listdir(merged) if station in f and 'Sensor' not in f ][0]\n",
    "        file = [f for f in os.listdir(merged) if station in f][0]\n",
    "\n",
    "        station = file.split('/')[-1].split('_')[0]\n",
    "        file = merged + '/' + file \n",
    "\n",
    "        f = h5.File(file, 'r')\n",
    "        ts = f['recordtimestamp'][:]\n",
    "        tsd = pd.to_datetime( ts, unit='s',  origin=pd.Timestamp('1900-01-01') )\n",
    "\n",
    "        #index_minus = np.where(tsd <=  pd.Timestamp('1994-01-01')  )[0][-1]\n",
    "        index_minus = 0   # change to start from a certain date onwards \n",
    "        \n",
    "        #index_plus = np.where(tsd >  pd.Timestamp('1997-01-01')  )[0][0]\n",
    "        index_plus = np.where(tsd <  pd.Timestamp('2013-01-01')  )[0][-1]\n",
    "\n",
    "\n",
    "        # Extracting Schroeder \n",
    "        ind_obs_sch = list(f['recordindex'][:]) [index_minus:index_plus]\n",
    "        i = np.take( f['observations_table']['sensor_id'][:].view('|S4') , ind_obs_sch) \n",
    "        ids_s = [s.decode('utf-8').replace('.0','').replace('.','') for s in i ]\n",
    "        dic = {'date_time': tsd[index_minus:index_plus] , 'sensor_id': ids_s }\n",
    "\n",
    "        data_sch = pd.DataFrame(dic)\n",
    "        data_sch['value'] = 1\n",
    "\n",
    "        # Extracting WMO\n",
    "        ind_obs_wmo     = list(f['recordindex'][:]) [index_plus:]\n",
    "        ind_obs_wmo_all = list(f['recordindex'][:]) # taking all WMOs\n",
    "        \n",
    "        \n",
    "        wmoids = np.take(  f['observations_table']['sensor_id'][:].view('|S4') , ind_obs_wmo)\n",
    "        wmoids = [s.decode('utf-8') for s in wmoids ]\n",
    "\n",
    "        for s in np.unique(wmoids):\n",
    "            print(s, '  ', type(s))\n",
    "        \n",
    "        dic_wmo = {'date_time':tsd[index_plus:] , 'sensor_id':wmoids }\n",
    "        data_wmo = pd.DataFrame (dic_wmo)\n",
    "        data_wmo['value'] = 2\n",
    "\n",
    "        data_wmo.to_csv('data/' + station + '_wmo.csv' , sep = '\\t') \n",
    "        data_sch.to_csv('data/' + station + '_sch.csv' , sep = '\\t') \n",
    "            \n",
    "        f.close()\n",
    "            \n",
    "    else:\n",
    "        print(\"Loading existing data\")\n",
    "        data_wmo = pd.read_csv( 'data/' + station + '_wmo.csv' , sep = '\\t')\n",
    "        data_wmo['date_time'] = pd.to_datetime(data_wmo['date_time'] )\n",
    "\n",
    "        data_sch = pd.read_csv('data/' + station + '_sch.csv' , sep = '\\t') \n",
    "        data_sch['date_time'] = pd.to_datetime(data_sch['date_time'] )\n",
    "\n",
    "        \n",
    "    data_wmo['source'] = 'WMO'\n",
    "    data_sch['source'] = 'SCH'\n",
    "\n",
    "    # cleaning WMO data from nans \n",
    "    data_wmo_clean = data_wmo.loc[ (data_wmo.sensor_id != 'nan') & (data_wmo.sensor_id != '-922')].dropna( subset=['sensor_id'])\n",
    "    data_wmo_clean.reset_index()\n",
    "    \n",
    "    #print(data_wmo_clean[data_wmo_clean.date_time >=  pd.Timestamp('1994-11-02') ][:20])\n",
    "    \n",
    "    indices_wmo_clean = get_indices(data_wmo_clean)\n",
    "    #print(indices_wmo_clean)\n",
    "    \n",
    "    data_wmo_clean = data_wmo_clean.iloc[indices_wmo_clean]\n",
    "    \n",
    "    # getting only variation int he sensor_id indices \n",
    "    indices_sch = get_indices(data_sch)\n",
    "    indices_wmo = get_indices(data_wmo)\n",
    "\n",
    "    data_df = pd.concat( [data_sch.iloc[ list(indices_sch)], data_wmo. iloc[ list(indices_wmo)] ] )\n",
    "    data_df_clean = pd.concat(  [data_sch.iloc[ list(indices_sch)], data_wmo_clean ]  ) # removed nans\n",
    "\n",
    "    #unique_ids = np.unique(data['sensor_id'])\n",
    "    comments = [ str(get_sensor_id_comments(str(i).replace(' ','').replace('.0',''), sensor_conf)) for i in data_df.sensor_id]\n",
    "\n",
    "    data_df['comment'] = comments\n",
    "    sid_clean = [str(i).replace('.0','')  for i in data_df.sensor_id]\n",
    "    data_df['sensor_id'] = sid_clean    \n",
    "\n",
    "\n",
    "    # Adding comments \n",
    "    for d in [data_df, data_df_clean]:\n",
    "        comments = [ str(get_sensor_id_comments(str(i).replace(' ','').replace('.0',''), sensor_conf)) for i in d.sensor_id]\n",
    "        d['comment'] = comments\n",
    "        sid_clean = [str(i).replace('.0','')  for i in d.sensor_id]\n",
    "        d['sensor_id'] = sid_clean    \n",
    "\n",
    "        \n",
    "    return data_sch, data_wmo, data_df, data_wmo_clean, data_df_clean \n"
   ]
  },
  {
   "cell_type": "code",
   "execution_count": 143,
   "id": "3e5ecbdf-10e3-424c-b068-151d13c65161",
   "metadata": {},
   "outputs": [
    {
     "name": "stdout",
     "output_type": "stream",
     "text": [
      "Loading existing data\n"
     ]
    }
   ],
   "source": [
    "# Extract all sensor data\n",
    "data_sch, data_wmo, data_df, data_wmo_clean, data_df_clean = analyze_station(sensor_conf, station)\n",
    "\n",
    "# Extract only unique entries\n",
    "# Extract a small table with unqiue sensors and description \n",
    "sensors,ind = np.unique( data_df.sensor_id, return_index= True)\n",
    "#ind\n",
    "df_sensor = data_df.iloc[list(ind)] [['sensor_id', 'source', 'comment']]\n",
    "#df_sensor\n"
   ]
  },
  {
   "cell_type": "code",
   "execution_count": 144,
   "id": "a3d0fce0-9655-44cf-9b19-c6169bfb1c01",
   "metadata": {
    "tags": []
   },
   "outputs": [
    {
     "data": {
      "text/html": [
       "<div>\n",
       "<style scoped>\n",
       "    .dataframe tbody tr th:only-of-type {\n",
       "        vertical-align: middle;\n",
       "    }\n",
       "\n",
       "    .dataframe tbody tr th {\n",
       "        vertical-align: top;\n",
       "    }\n",
       "\n",
       "    .dataframe thead th {\n",
       "        text-align: right;\n",
       "    }\n",
       "</style>\n",
       "<table border=\"1\" class=\"dataframe\">\n",
       "  <thead>\n",
       "    <tr style=\"text-align: right;\">\n",
       "      <th></th>\n",
       "      <th>Unnamed: 0</th>\n",
       "      <th>date_time</th>\n",
       "      <th>sensor_id</th>\n",
       "      <th>value</th>\n",
       "      <th>source</th>\n",
       "      <th>comment</th>\n",
       "    </tr>\n",
       "  </thead>\n",
       "  <tbody>\n",
       "    <tr>\n",
       "      <th>0</th>\n",
       "      <td>0</td>\n",
       "      <td>1941-12-02 23:00:00</td>\n",
       "      <td>ZH1</td>\n",
       "      <td>1</td>\n",
       "      <td>SCH</td>\n",
       "      <td>ZH1 VIZ model 1292-410 NWS 1680 MHz baseline {1973}^ (W1=19 calls this VIZ 1292, T=427) NWS stock #J005 &lt;F=V1680AB,P=A,T=TR(ML-405),U=C,W=Ra(WBRT or GMD-1)&gt;</td>\n",
       "    </tr>\n",
       "    <tr>\n",
       "      <th>32885</th>\n",
       "      <td>32885</td>\n",
       "      <td>1980-12-08 00:00:00</td>\n",
       "      <td>ZJA</td>\n",
       "      <td>1</td>\n",
       "      <td>SCH</td>\n",
       "      <td>ZJA VIZ model 1392-510 NWS 1680 MHz Accu-Lok, new hygristor {1980}^ (T=001) NWS stock no. J031 &lt;F=T1680AB,P=A,T=TR(ML-405),U=C,W=Ra(WBRT or GMD-1)&gt;</td>\n",
       "    </tr>\n",
       "    <tr>\n",
       "      <th>36837</th>\n",
       "      <td>36837</td>\n",
       "      <td>1986-05-14 00:00:00</td>\n",
       "      <td>ZKA</td>\n",
       "      <td>1</td>\n",
       "      <td>SCH</td>\n",
       "      <td>ZKA VIZ model 1492-510 NWS 1680 MHz ART \"A\" Accu-Lok time sequenced {1986} 31313=01002^ (T=003,W3=10) 0.25 sec time sequenced &lt;F=T1680AL,P=Ab,</td>\n",
       "    </tr>\n",
       "    <tr>\n",
       "      <th>38556</th>\n",
       "      <td>38556</td>\n",
       "      <td>1988-10-01 00:00:00</td>\n",
       "      <td>ZKB</td>\n",
       "      <td>1</td>\n",
       "      <td>SCH</td>\n",
       "      <td>ZKB VIZ model 1492-520 NWS 1680 MHz ART \"B\" Accu-Lok {1988} 31313=01102^ (T=004,W3=11,W2=28) NWS stock no. J060, 0.25 sec time sequenced &lt;F=T1680AL,</td>\n",
       "    </tr>\n",
       "    <tr>\n",
       "      <th>43626</th>\n",
       "      <td>43626</td>\n",
       "      <td>1995-10-19 20:00:00</td>\n",
       "      <td>VU1</td>\n",
       "      <td>1</td>\n",
       "      <td>SCH</td>\n",
       "      <td>VU1 Vaisala RS80-56H or RS80-56 1680 MHz RDF H-Humicap NWS radiosonde, pressure cell {1995} 31313=43702^ (W3=37, T=038) &lt;F=T1680AL,P=Ac,T=CB,U=A&gt;</td>\n",
       "    </tr>\n",
       "    <tr>\n",
       "      <th>43627</th>\n",
       "      <td>43627</td>\n",
       "      <td>1995-10-20 00:00:00</td>\n",
       "      <td>ZKB</td>\n",
       "      <td>1</td>\n",
       "      <td>SCH</td>\n",
       "      <td>ZKB VIZ model 1492-520 NWS 1680 MHz ART \"B\" Accu-Lok {1988} 31313=01102^ (T=004,W3=11,W2=28) NWS stock no. J060, 0.25 sec time sequenced &lt;F=T1680AL,</td>\n",
       "    </tr>\n",
       "    <tr>\n",
       "      <th>43651</th>\n",
       "      <td>43651</td>\n",
       "      <td>1995-11-01 00:00:00</td>\n",
       "      <td>VU1</td>\n",
       "      <td>1</td>\n",
       "      <td>SCH</td>\n",
       "      <td>VU1 Vaisala RS80-56H or RS80-56 1680 MHz RDF H-Humicap NWS radiosonde, pressure cell {1995} 31313=43702^ (W3=37, T=038) &lt;F=T1680AL,P=Ac,T=CB,U=A&gt;</td>\n",
       "    </tr>\n",
       "    <tr>\n",
       "      <th>45516</th>\n",
       "      <td>45516</td>\n",
       "      <td>1998-06-01 00:00:00</td>\n",
       "      <td>VU3</td>\n",
       "      <td>1</td>\n",
       "      <td>SCH</td>\n",
       "      <td>VU3 Vaisala RS80-57H or RS80-57 1680 MHz RDF H-Humicap NWS radiosonde, pressure cell {1998} 31313=45202^ (W3=52, T=039) (RDF, 1680+-3 MHz AM)</td>\n",
       "    </tr>\n",
       "    <tr>\n",
       "      <th>0</th>\n",
       "      <td>0</td>\n",
       "      <td>2012-12-31 12:00:00</td>\n",
       "      <td>VU3</td>\n",
       "      <td>2</td>\n",
       "      <td>WMO</td>\n",
       "      <td>VU3 Vaisala RS80-57H or RS80-57 1680 MHz RDF H-Humicap NWS radiosonde, pressure cell {1998} 31313=45202^ (W3=52, T=039) (RDF, 1680+-3 MHz AM)</td>\n",
       "    </tr>\n",
       "    <tr>\n",
       "      <th>1</th>\n",
       "      <td>1</td>\n",
       "      <td>2013-01-01 00:00:00</td>\n",
       "      <td>51</td>\n",
       "      <td>2</td>\n",
       "      <td>WMO</td>\n",
       "      <td>VIZ-B2 (United States)</td>\n",
       "    </tr>\n",
       "    <tr>\n",
       "      <th>657</th>\n",
       "      <td>657</td>\n",
       "      <td>2013-11-18 19:00:00</td>\n",
       "      <td>111</td>\n",
       "      <td>2</td>\n",
       "      <td>WMO</td>\n",
       "      <td>Sippican LMS6 w/Chip Thermistor, external boom mounted capacitance relative   humidity sensor, and derived pressure from GPS   height</td>\n",
       "    </tr>\n",
       "    <tr>\n",
       "      <th>658</th>\n",
       "      <td>658</td>\n",
       "      <td>2013-11-19 00:00:00</td>\n",
       "      <td>51</td>\n",
       "      <td>2</td>\n",
       "      <td>WMO</td>\n",
       "      <td>VIZ-B2 (United States)</td>\n",
       "    </tr>\n",
       "    <tr>\n",
       "      <th>714</th>\n",
       "      <td>714</td>\n",
       "      <td>2013-12-16 21:00:00</td>\n",
       "      <td>111</td>\n",
       "      <td>2</td>\n",
       "      <td>WMO</td>\n",
       "      <td>Sippican LMS6 w/Chip Thermistor, external boom mounted capacitance relative   humidity sensor, and derived pressure from GPS   height</td>\n",
       "    </tr>\n",
       "    <tr>\n",
       "      <th>715</th>\n",
       "      <td>715</td>\n",
       "      <td>2013-12-17 00:00:00</td>\n",
       "      <td>51</td>\n",
       "      <td>2</td>\n",
       "      <td>WMO</td>\n",
       "      <td>VIZ-B2 (United States)</td>\n",
       "    </tr>\n",
       "    <tr>\n",
       "      <th>717</th>\n",
       "      <td>717</td>\n",
       "      <td>2013-12-18 00:00:00</td>\n",
       "      <td>111</td>\n",
       "      <td>2</td>\n",
       "      <td>WMO</td>\n",
       "      <td>Sippican LMS6 w/Chip Thermistor, external boom mounted capacitance relative   humidity sensor, and derived pressure from GPS   height</td>\n",
       "    </tr>\n",
       "    <tr>\n",
       "      <th>3491</th>\n",
       "      <td>3491</td>\n",
       "      <td>2017-10-17 23:01:04</td>\n",
       "      <td>124</td>\n",
       "      <td>2</td>\n",
       "      <td>WMO</td>\n",
       "      <td>Vaisala RS41/AUTOSONDE (Finland)</td>\n",
       "    </tr>\n",
       "  </tbody>\n",
       "</table>\n",
       "</div>"
      ],
      "text/plain": [
       "       Unnamed: 0           date_time sensor_id  value source  \\\n",
       "0      0          1941-12-02 23:00:00  ZH1       1      SCH     \n",
       "32885  32885      1980-12-08 00:00:00  ZJA       1      SCH     \n",
       "36837  36837      1986-05-14 00:00:00  ZKA       1      SCH     \n",
       "38556  38556      1988-10-01 00:00:00  ZKB       1      SCH     \n",
       "43626  43626      1995-10-19 20:00:00  VU1       1      SCH     \n",
       "43627  43627      1995-10-20 00:00:00  ZKB       1      SCH     \n",
       "43651  43651      1995-11-01 00:00:00  VU1       1      SCH     \n",
       "45516  45516      1998-06-01 00:00:00  VU3       1      SCH     \n",
       "0      0          2012-12-31 12:00:00  VU3       2      WMO     \n",
       "1      1          2013-01-01 00:00:00  51        2      WMO     \n",
       "657    657        2013-11-18 19:00:00  111       2      WMO     \n",
       "658    658        2013-11-19 00:00:00  51        2      WMO     \n",
       "714    714        2013-12-16 21:00:00  111       2      WMO     \n",
       "715    715        2013-12-17 00:00:00  51        2      WMO     \n",
       "717    717        2013-12-18 00:00:00  111       2      WMO     \n",
       "3491   3491       2017-10-17 23:01:04  124       2      WMO     \n",
       "\n",
       "                                                                                                                                                              comment  \n",
       "0        ZH1 VIZ model 1292-410 NWS 1680 MHz baseline {1973}^ (W1=19 calls this VIZ 1292, T=427) NWS stock #J005 <F=V1680AB,P=A,T=TR(ML-405),U=C,W=Ra(WBRT or GMD-1)>  \n",
       "32885    ZJA VIZ model 1392-510 NWS 1680 MHz Accu-Lok, new hygristor {1980}^ (T=001) NWS stock no. J031 <F=T1680AB,P=A,T=TR(ML-405),U=C,W=Ra(WBRT or GMD-1)>           \n",
       "36837    ZKA VIZ model 1492-510 NWS 1680 MHz ART \"A\" Accu-Lok time sequenced {1986} 31313=01002^ (T=003,W3=10) 0.25 sec time sequenced <F=T1680AL,P=Ab,                \n",
       "38556    ZKB VIZ model 1492-520 NWS 1680 MHz ART \"B\" Accu-Lok {1988} 31313=01102^ (T=004,W3=11,W2=28) NWS stock no. J060, 0.25 sec time sequenced <F=T1680AL,          \n",
       "43626    VU1 Vaisala RS80-56H or RS80-56 1680 MHz RDF H-Humicap NWS radiosonde, pressure cell {1995} 31313=43702^ (W3=37, T=038) <F=T1680AL,P=Ac,T=CB,U=A>             \n",
       "43627    ZKB VIZ model 1492-520 NWS 1680 MHz ART \"B\" Accu-Lok {1988} 31313=01102^ (T=004,W3=11,W2=28) NWS stock no. J060, 0.25 sec time sequenced <F=T1680AL,          \n",
       "43651    VU1 Vaisala RS80-56H or RS80-56 1680 MHz RDF H-Humicap NWS radiosonde, pressure cell {1995} 31313=43702^ (W3=37, T=038) <F=T1680AL,P=Ac,T=CB,U=A>             \n",
       "45516    VU3 Vaisala RS80-57H or RS80-57 1680 MHz RDF H-Humicap NWS radiosonde, pressure cell {1998} 31313=45202^ (W3=52, T=039) (RDF, 1680+-3 MHz AM)                 \n",
       "0        VU3 Vaisala RS80-57H or RS80-57 1680 MHz RDF H-Humicap NWS radiosonde, pressure cell {1998} 31313=45202^ (W3=52, T=039) (RDF, 1680+-3 MHz AM)                 \n",
       "1      VIZ-B2 (United States)                                                                                                                                          \n",
       "657    Sippican LMS6 w/Chip Thermistor, external boom mounted capacitance relative   humidity sensor, and derived pressure from GPS   height                           \n",
       "658    VIZ-B2 (United States)                                                                                                                                          \n",
       "714    Sippican LMS6 w/Chip Thermistor, external boom mounted capacitance relative   humidity sensor, and derived pressure from GPS   height                           \n",
       "715    VIZ-B2 (United States)                                                                                                                                          \n",
       "717    Sippican LMS6 w/Chip Thermistor, external boom mounted capacitance relative   humidity sensor, and derived pressure from GPS   height                           \n",
       "3491   Vaisala RS41/AUTOSONDE (Finland)                                                                                                                                "
      ]
     },
     "execution_count": 144,
     "metadata": {},
     "output_type": "execute_result"
    }
   ],
   "source": [
    "data_df_clean"
   ]
  },
  {
   "cell_type": "code",
   "execution_count": null,
   "id": "906087fe-fb86-4253-9e6a-24efe52b2672",
   "metadata": {},
   "outputs": [],
   "source": [
    "np.unique(data_wmo_clean.sensor_id)"
   ]
  },
  {
   "cell_type": "markdown",
   "id": "27ba382d-0e72-4e87-bcc0-3bf7ccc3f010",
   "metadata": {},
   "source": [
    "## Data Summary \n",
    "\n",
    "### Schroeder's and WMO's summary table"
   ]
  },
  {
   "cell_type": "code",
   "execution_count": 26,
   "id": "33815957-dd62-4dcf-ade4-c9c97eab9c97",
   "metadata": {
    "tags": []
   },
   "outputs": [],
   "source": [
    "#data_df[:50]"
   ]
  },
  {
   "cell_type": "markdown",
   "id": "978f1b29-a5a4-495a-8f23-25fe7f46e4a6",
   "metadata": {},
   "source": [
    "### IGRA2 summary table"
   ]
  },
  {
   "cell_type": "code",
   "execution_count": 27,
   "id": "f983dec9-6348-4e1f-ba7e-8cf7fe75ceba",
   "metadata": {},
   "outputs": [
    {
     "data": {
      "text/html": [
       "<div>\n",
       "<style scoped>\n",
       "    .dataframe tbody tr th:only-of-type {\n",
       "        vertical-align: middle;\n",
       "    }\n",
       "\n",
       "    .dataframe tbody tr th {\n",
       "        vertical-align: top;\n",
       "    }\n",
       "\n",
       "    .dataframe thead th {\n",
       "        text-align: right;\n",
       "    }\n",
       "</style>\n",
       "<table border=\"1\" class=\"dataframe\">\n",
       "  <thead>\n",
       "    <tr style=\"text-align: right;\">\n",
       "      <th></th>\n",
       "      <th>DATE</th>\n",
       "      <th>WMOID</th>\n",
       "      <th>UPDATE</th>\n",
       "      <th>REFERENCE</th>\n",
       "      <th>COMMENT</th>\n",
       "    </tr>\n",
       "  </thead>\n",
       "  <tbody>\n",
       "    <tr>\n",
       "      <th>15745</th>\n",
       "      <td>1961-10-01</td>\n",
       "      <td>70350</td>\n",
       "      <td>CHANGE RH SENSOR , LITHIUM CHLORIDE HYGRISTOR , to , CARBON HYGRISTOR</td>\n",
       "      <td>Schwartz &amp; Govett (1992)</td>\n",
       "      <td>CALL LETTERS AND WBAN NUMBER: ADQ 25501</td>\n",
       "    </tr>\n",
       "    <tr>\n",
       "      <th>15746</th>\n",
       "      <td>1962-01-01</td>\n",
       "      <td>70350</td>\n",
       "      <td>CHANGE GROUND EQUIP , AN/GMD-1A , to , AN/GMD-1B</td>\n",
       "      <td>Schwartz &amp; Govett (1992)</td>\n",
       "      <td>CALL LETTERS AND WBAN NUMBER: ADQ 25501</td>\n",
       "    </tr>\n",
       "    <tr>\n",
       "      <th>15747</th>\n",
       "      <td>1980-12-01</td>\n",
       "      <td>70350</td>\n",
       "      <td>CHANGE RH SENSOR , CARBON HYGRISTOR , to , NEW CARBON HYGRISTOR</td>\n",
       "      <td>Schwartz &amp; Govett (1992)</td>\n",
       "      <td>CALL LETTERS AND WBAN NUMBER: ADQ 25501</td>\n",
       "    </tr>\n",
       "    <tr>\n",
       "      <th>15748</th>\n",
       "      <td>1986-05-01</td>\n",
       "      <td>70350</td>\n",
       "      <td>CHANGE COMPUTER , MINI-COMPUTER , to , MINI-ART 2 SYSTEM</td>\n",
       "      <td>Schwartz &amp; Govett (1992)</td>\n",
       "      <td>CALL LETTERS AND WBAN NUMBER: ADQ 25501</td>\n",
       "    </tr>\n",
       "    <tr>\n",
       "      <th>15749</th>\n",
       "      <td>1988-10-01</td>\n",
       "      <td>70350</td>\n",
       "      <td>CHANGE SONDE MODEL , VIZ ACCU-LOK UNSPECIFIED , to , VIZ B 1492-520 NWS 1680 MHZ</td>\n",
       "      <td>Schwartz &amp; Govett (1992)</td>\n",
       "      <td>CALL LETTERS AND WBAN NUMBER: ADQ 25501</td>\n",
       "    </tr>\n",
       "    <tr>\n",
       "      <th>15750</th>\n",
       "      <td>1989-11-01</td>\n",
       "      <td>70350</td>\n",
       "      <td>CHANGE COMPUTER , MINI-ART 2 SYSTEM , ? , to , MICRO-ART SYSTEM VERSION UNSPECIFIED</td>\n",
       "      <td>NOAA NWS</td>\n",
       "      <td>nan</td>\n",
       "    </tr>\n",
       "    <tr>\n",
       "      <th>15751</th>\n",
       "      <td>1992-12-01</td>\n",
       "      <td>70350</td>\n",
       "      <td>USING SONDE MODEL , I1 , VIZ UNSPECIFIED</td>\n",
       "      <td>Oakley (1993)</td>\n",
       "      <td>nan</td>\n",
       "    </tr>\n",
       "    <tr>\n",
       "      <th>15752</th>\n",
       "      <td>1993-10-01</td>\n",
       "      <td>70350</td>\n",
       "      <td>CHANGE DATA CUTOFF , MISC. ALGORITHM , to , CORRECTED ALGORITHM</td>\n",
       "      <td>NOAA NWS</td>\n",
       "      <td>VIZ RH ALGORITHM CHANGED to REDUCE LOW BIAS AT HIGH RH.</td>\n",
       "    </tr>\n",
       "    <tr>\n",
       "      <th>15753</th>\n",
       "      <td>1993-10-01</td>\n",
       "      <td>70350</td>\n",
       "      <td>CHANGE GRAVITY VAL. , 9.8 METERS PER SECOND SQUARED , to , 9.80665 METERS PER SECOND SQUARED</td>\n",
       "      <td>NOAA NWS</td>\n",
       "      <td>nan</td>\n",
       "    </tr>\n",
       "    <tr>\n",
       "      <th>15754</th>\n",
       "      <td>1993-10-01</td>\n",
       "      <td>70350</td>\n",
       "      <td>CHANGE RH ALGORITHM , DEW POINT DEPRESSION = 30 C IF RH &lt; 20% , to , NO CUTOFFS</td>\n",
       "      <td>NOAA NWS</td>\n",
       "      <td>nan</td>\n",
       "    </tr>\n",
       "    <tr>\n",
       "      <th>15755</th>\n",
       "      <td>1993-10-01</td>\n",
       "      <td>70350</td>\n",
       "      <td>CHANGE RH ALGORITHM , RH MISSING FOR T&lt;-40 , to , NO CUTOFFS</td>\n",
       "      <td>NOAA NWS</td>\n",
       "      <td>nan</td>\n",
       "    </tr>\n",
       "    <tr>\n",
       "      <th>15756</th>\n",
       "      <td>1995-11-01</td>\n",
       "      <td>70350</td>\n",
       "      <td>CHANGE SONDE MODEL , VIZ B 1492-520 NWS 1680 MHZ , to , VAISALA RS80-56H NWS SOLAR/IR CORR</td>\n",
       "      <td>NOAA NWS</td>\n",
       "      <td>nan</td>\n",
       "    </tr>\n",
       "  </tbody>\n",
       "</table>\n",
       "</div>"
      ],
      "text/plain": [
       "            DATE  WMOID  \\\n",
       "15745 1961-10-01  70350   \n",
       "15746 1962-01-01  70350   \n",
       "15747 1980-12-01  70350   \n",
       "15748 1986-05-01  70350   \n",
       "15749 1988-10-01  70350   \n",
       "15750 1989-11-01  70350   \n",
       "15751 1992-12-01  70350   \n",
       "15752 1993-10-01  70350   \n",
       "15753 1993-10-01  70350   \n",
       "15754 1993-10-01  70350   \n",
       "15755 1993-10-01  70350   \n",
       "15756 1995-11-01  70350   \n",
       "\n",
       "                                                                                              UPDATE  \\\n",
       "15745  CHANGE RH SENSOR , LITHIUM CHLORIDE HYGRISTOR , to , CARBON HYGRISTOR                           \n",
       "15746  CHANGE GROUND EQUIP , AN/GMD-1A , to , AN/GMD-1B                                                \n",
       "15747  CHANGE RH SENSOR , CARBON HYGRISTOR , to , NEW CARBON HYGRISTOR                                 \n",
       "15748  CHANGE COMPUTER , MINI-COMPUTER , to , MINI-ART 2 SYSTEM                                        \n",
       "15749  CHANGE SONDE MODEL , VIZ ACCU-LOK UNSPECIFIED , to , VIZ B 1492-520 NWS 1680 MHZ                \n",
       "15750  CHANGE COMPUTER , MINI-ART 2 SYSTEM , ? , to , MICRO-ART SYSTEM VERSION UNSPECIFIED             \n",
       "15751  USING SONDE MODEL , I1 , VIZ UNSPECIFIED                                                        \n",
       "15752  CHANGE DATA CUTOFF , MISC. ALGORITHM , to , CORRECTED ALGORITHM                                 \n",
       "15753  CHANGE GRAVITY VAL. , 9.8 METERS PER SECOND SQUARED , to , 9.80665 METERS PER SECOND SQUARED    \n",
       "15754  CHANGE RH ALGORITHM , DEW POINT DEPRESSION = 30 C IF RH < 20% , to , NO CUTOFFS                 \n",
       "15755  CHANGE RH ALGORITHM , RH MISSING FOR T<-40 , to , NO CUTOFFS                                    \n",
       "15756  CHANGE SONDE MODEL , VIZ B 1492-520 NWS 1680 MHZ , to , VAISALA RS80-56H NWS SOLAR/IR CORR      \n",
       "\n",
       "                      REFERENCE  \\\n",
       "15745  Schwartz & Govett (1992)   \n",
       "15746  Schwartz & Govett (1992)   \n",
       "15747  Schwartz & Govett (1992)   \n",
       "15748  Schwartz & Govett (1992)   \n",
       "15749  Schwartz & Govett (1992)   \n",
       "15750  NOAA NWS                   \n",
       "15751  Oakley (1993)              \n",
       "15752  NOAA NWS                   \n",
       "15753  NOAA NWS                   \n",
       "15754  NOAA NWS                   \n",
       "15755  NOAA NWS                   \n",
       "15756  NOAA NWS                   \n",
       "\n",
       "                                                       COMMENT  \n",
       "15745  CALL LETTERS AND WBAN NUMBER: ADQ 25501                  \n",
       "15746  CALL LETTERS AND WBAN NUMBER: ADQ 25501                  \n",
       "15747  CALL LETTERS AND WBAN NUMBER: ADQ 25501                  \n",
       "15748  CALL LETTERS AND WBAN NUMBER: ADQ 25501                  \n",
       "15749  CALL LETTERS AND WBAN NUMBER: ADQ 25501                  \n",
       "15750  nan                                                      \n",
       "15751  nan                                                      \n",
       "15752  VIZ RH ALGORITHM CHANGED to REDUCE LOW BIAS AT HIGH RH.  \n",
       "15753  nan                                                      \n",
       "15754  nan                                                      \n",
       "15755  nan                                                      \n",
       "15756  nan                                                      "
      ]
     },
     "execution_count": 27,
     "metadata": {},
     "output_type": "execute_result"
    }
   ],
   "source": [
    "stat_igra2"
   ]
  },
  {
   "cell_type": "code",
   "execution_count": 28,
   "id": "5bd4ab0f-d952-4cad-8968-57029ac3cf92",
   "metadata": {},
   "outputs": [],
   "source": [
    "# convert stat_igra2 to data_df format and concatenate \n",
    "\n",
    "stat_igra2\n",
    "stat_igra2 = stat_igra2[[\"DATE\",\"UPDATE\"] ]\n",
    "\n",
    "\n",
    "stat_igra2.DATE\n",
    "stat_igra2['value'] = 3\n",
    "stat_igra2['date_time'] = stat_igra2['DATE']\n",
    "stat_igra2['comment'] = stat_igra2['UPDATE']\n",
    "\n",
    "stat_igra2['sensor_id'] = 'IGRA2 METADATA'\n",
    "stat_igra2['source'] = 'IGRA2'\n",
    "\n",
    "\n",
    "data_df = pd.concat([data_df, stat_igra2])"
   ]
  },
  {
   "cell_type": "code",
   "execution_count": 29,
   "id": "b7832c8a-b490-4e5c-ba44-e993aa39938f",
   "metadata": {
    "tags": []
   },
   "outputs": [],
   "source": [
    "#data_df"
   ]
  },
  {
   "cell_type": "markdown",
   "id": "3d74d949-db3d-4000-b837-d388ed292449",
   "metadata": {},
   "source": [
    "## Time series of the sensor changes for the station \n",
    "\n",
    "Making a time series with the changes in the sensor id types, or relevant IGRA2 metadata. \n",
    "\n",
    "Each dot corresponds to a specific sonde type as indicated by the colors in the legend, both for the WMO and the Schroeder's data.\n",
    "The complete list with the description of the instruments is provided below.\n",
    "\n",
    "Green dots and green vertical lines represent IGRA2 metadata relative to the station, which might include also sensor information, but non exclusively.\n",
    "\n"
   ]
  },
  {
   "cell_type": "code",
   "execution_count": null,
   "id": "40739fde-e710-401a-b510-cc7647de960c",
   "metadata": {
    "tags": []
   },
   "outputs": [],
   "source": []
  },
  {
   "cell_type": "code",
   "execution_count": 31,
   "id": "d794a200-4a8d-4039-bfbb-9a4a31e8e285",
   "metadata": {},
   "outputs": [
    {
     "data": {
      "application/vnd.plotly.v1+json": {
       "config": {
        "plotlyServerURL": "https://plot.ly"
       },
       "data": [
        {
         "customdata": [
          [
           "  ZKB VIZ model 1492-520 NWS 1680 MHz ART \"B\" Accu-Lok {1988} 31313=01102^ (T=004,W3=11,W2=28) NWS stock no. J060, 0.25 sec time sequenced <F=T1680AL,"
          ],
          [
           "  ZKB VIZ model 1492-520 NWS 1680 MHz ART \"B\" Accu-Lok {1988} 31313=01102^ (T=004,W3=11,W2=28) NWS stock no. J060, 0.25 sec time sequenced <F=T1680AL,"
          ]
         ],
         "hovertemplate": "<b>%{hovertext}</b><br><br>sensor_id=ZKB <br>date_time=%{x}<br>values=%{y}<br>comment=%{customdata[0]}<extra></extra>",
         "hovertext": [
          "ZKB ",
          "ZKB "
         ],
         "legendgroup": "ZKB ",
         "marker": {
          "color": "#636efa",
          "line": {
           "color": "DarkSlateGrey",
           "width": 2
          },
          "size": 14,
          "symbol": "circle"
         },
         "mode": "markers",
         "name": "ZKB ",
         "orientation": "v",
         "showlegend": true,
         "type": "scatter",
         "x": [
          "1994-01-01T00:00:00",
          "1995-10-20T00:00:00"
         ],
         "xaxis": "x",
         "y": [
          0,
          0
         ],
         "yaxis": "y"
        },
        {
         "customdata": [
          [
           "  VU1 Vaisala RS80-56H or RS80-56 1680 MHz RDF H-Humicap NWS radiosonde, pressure cell {1995} 31313=43702^ (W3=37, T=038) <F=T1680AL,P=Ac,T=CB,U=A>"
          ],
          [
           "  VU1 Vaisala RS80-56H or RS80-56 1680 MHz RDF H-Humicap NWS radiosonde, pressure cell {1995} 31313=43702^ (W3=37, T=038) <F=T1680AL,P=Ac,T=CB,U=A>"
          ]
         ],
         "hovertemplate": "<b>%{hovertext}</b><br><br>sensor_id=VU1 <br>date_time=%{x}<br>values=%{y}<br>comment=%{customdata[0]}<extra></extra>",
         "hovertext": [
          "VU1 ",
          "VU1 "
         ],
         "legendgroup": "VU1 ",
         "marker": {
          "color": "#EF553B",
          "line": {
           "color": "DarkSlateGrey",
           "width": 2
          },
          "size": 14,
          "symbol": "circle"
         },
         "mode": "markers",
         "name": "VU1 ",
         "orientation": "v",
         "showlegend": true,
         "type": "scatter",
         "x": [
          "1995-10-19T20:00:00",
          "1995-11-01T00:00:00"
         ],
         "xaxis": "x",
         "y": [
          1,
          1
         ],
         "yaxis": "y"
        },
        {
         "customdata": [
          [
           "  VU3 Vaisala RS80-57H or RS80-57 1680 MHz RDF H-Humicap NWS radiosonde, pressure cell {1998} 31313=45202^ (W3=52, T=039) (RDF, 1680+-3 MHz AM)"
          ]
         ],
         "hovertemplate": "<b>%{hovertext}</b><br><br>sensor_id=VU3 <br>date_time=%{x}<br>values=%{y}<br>comment=%{customdata[0]}<extra></extra>",
         "hovertext": [
          "VU3 "
         ],
         "legendgroup": "VU3 ",
         "marker": {
          "color": "#00cc96",
          "line": {
           "color": "DarkSlateGrey",
           "width": 2
          },
          "size": 14,
          "symbol": "circle"
         },
         "mode": "markers",
         "name": "VU3 ",
         "orientation": "v",
         "showlegend": true,
         "type": "scatter",
         "x": [
          "1998-06-01T00:00:00"
         ],
         "xaxis": "x",
         "y": [
          2
         ],
         "yaxis": "y"
        },
        {
         "customdata": [
          [
           "VIZ-B2 (United States)                "
          ],
          [
           "VIZ-B2 (United States)                "
          ],
          [
           "VIZ-B2 (United States)                "
          ],
          [
           "VIZ-B2 (United States)                "
          ],
          [
           "VIZ-B2 (United States)                "
          ],
          [
           "VIZ-B2 (United States)                "
          ],
          [
           "VIZ-B2 (United States)                "
          ],
          [
           "VIZ-B2 (United States)                "
          ],
          [
           "VIZ-B2 (United States)                "
          ],
          [
           "VIZ-B2 (United States)                "
          ],
          [
           "VIZ-B2 (United States)                "
          ],
          [
           "VIZ-B2 (United States)                "
          ],
          [
           "VIZ-B2 (United States)                "
          ],
          [
           "VIZ-B2 (United States)                "
          ],
          [
           "VIZ-B2 (United States)                "
          ],
          [
           "VIZ-B2 (United States)                "
          ],
          [
           "VIZ-B2 (United States)                "
          ],
          [
           "VIZ-B2 (United States)                "
          ],
          [
           "VIZ-B2 (United States)                "
          ],
          [
           "VIZ-B2 (United States)                "
          ],
          [
           "VIZ-B2 (United States)                "
          ]
         ],
         "hovertemplate": "<b>%{hovertext}</b><br><br>sensor_id=51<br>date_time=%{x}<br>values=%{y}<br>comment=%{customdata[0]}<extra></extra>",
         "hovertext": [
          "51",
          "51",
          "51",
          "51",
          "51",
          "51",
          "51",
          "51",
          "51",
          "51",
          "51",
          "51",
          "51",
          "51",
          "51",
          "51",
          "51",
          "51",
          "51",
          "51",
          "51"
         ],
         "legendgroup": "51",
         "marker": {
          "color": "#ab63fa",
          "line": {
           "color": "DarkSlateGrey",
           "width": 2
          },
          "size": 14,
          "symbol": "circle"
         },
         "mode": "markers",
         "name": "51",
         "orientation": "v",
         "showlegend": true,
         "type": "scatter",
         "x": [
          "2012-12-31T12:00:00",
          "2013-04-18T00:00:00",
          "2013-11-19T00:00:00",
          "2013-11-23T00:00:00",
          "2013-12-17T00:00:00",
          "2009-11-06T07:00:00",
          "2009-11-16T19:00:00",
          "2009-11-17T08:00:00",
          "2009-11-17T19:00:00",
          "2009-11-29T18:00:00",
          "2009-12-01T00:00:00",
          "2010-01-12T12:00:00",
          "2010-04-21T12:00:00",
          "2010-09-13T00:00:00",
          "2011-05-01T12:00:00",
          "2011-07-10T12:00:00",
          "2011-07-13T00:00:00",
          "2013-04-18T00:00:00",
          "2013-11-19T00:00:00",
          "2013-11-23T00:00:00",
          "2013-12-17T00:00:00"
         ],
         "xaxis": "x",
         "y": [
          3,
          3,
          3,
          3,
          3,
          3,
          3,
          3,
          3,
          3,
          3,
          3,
          3,
          3,
          3,
          3,
          3,
          3,
          3,
          3,
          3
         ],
         "yaxis": "y"
        },
        {
         "customdata": [
          [
           "NA"
          ],
          [
           "NA"
          ],
          [
           "NA"
          ],
          [
           "NA"
          ],
          [
           "NA"
          ],
          [
           "NA"
          ],
          [
           "NA"
          ],
          [
           "NA"
          ],
          [
           "NA"
          ],
          [
           "NA"
          ],
          [
           "NA"
          ],
          [
           "NA"
          ],
          [
           "NA"
          ],
          [
           "NA"
          ],
          [
           "NA"
          ],
          [
           "NA"
          ],
          [
           "NA"
          ],
          [
           "NA"
          ],
          [
           "NA"
          ],
          [
           "NA"
          ],
          [
           "NA"
          ],
          [
           "NA"
          ],
          [
           "NA"
          ],
          [
           "NA"
          ],
          [
           "NA"
          ],
          [
           "NA"
          ],
          [
           "NA"
          ],
          [
           "NA"
          ],
          [
           "NA"
          ],
          [
           "NA"
          ],
          [
           "NA"
          ],
          [
           "NA"
          ],
          [
           "NA"
          ],
          [
           "NA"
          ],
          [
           "NA"
          ],
          [
           "NA"
          ],
          [
           "NA"
          ],
          [
           "NA"
          ],
          [
           "NA"
          ],
          [
           "NA"
          ],
          [
           "NA"
          ],
          [
           "NA"
          ],
          [
           "NA"
          ],
          [
           "NA"
          ],
          [
           "NA"
          ],
          [
           "NA"
          ],
          [
           "NA"
          ],
          [
           "NA"
          ],
          [
           "NA"
          ],
          [
           "NA"
          ],
          [
           "NA"
          ],
          [
           "NA"
          ],
          [
           "NA"
          ],
          [
           "NA"
          ],
          [
           "NA"
          ],
          [
           "NA"
          ],
          [
           "NA"
          ],
          [
           "NA"
          ],
          [
           "NA"
          ],
          [
           "NA"
          ],
          [
           "NA"
          ],
          [
           "NA"
          ],
          [
           "NA"
          ],
          [
           "NA"
          ],
          [
           "NA"
          ],
          [
           "NA"
          ],
          [
           "NA"
          ],
          [
           "NA"
          ],
          [
           "NA"
          ],
          [
           "NA"
          ],
          [
           "NA"
          ],
          [
           "NA"
          ],
          [
           "NA"
          ],
          [
           "NA"
          ],
          [
           "NA"
          ],
          [
           "NA"
          ],
          [
           "NA"
          ],
          [
           "NA"
          ],
          [
           "NA"
          ],
          [
           "NA"
          ],
          [
           "NA"
          ],
          [
           "NA"
          ],
          [
           "NA"
          ],
          [
           "NA"
          ],
          [
           "NA"
          ],
          [
           "NA"
          ],
          [
           "NA"
          ],
          [
           "NA"
          ],
          [
           "NA"
          ],
          [
           "NA"
          ],
          [
           "NA"
          ],
          [
           "NA"
          ],
          [
           "NA"
          ],
          [
           "NA"
          ],
          [
           "NA"
          ],
          [
           "NA"
          ],
          [
           "NA"
          ],
          [
           "NA"
          ],
          [
           "NA"
          ],
          [
           "NA"
          ],
          [
           "NA"
          ],
          [
           "NA"
          ],
          [
           "NA"
          ],
          [
           "NA"
          ],
          [
           "NA"
          ],
          [
           "NA"
          ],
          [
           "NA"
          ],
          [
           "NA"
          ],
          [
           "NA"
          ],
          [
           "NA"
          ],
          [
           "NA"
          ],
          [
           "NA"
          ],
          [
           "NA"
          ],
          [
           "NA"
          ],
          [
           "NA"
          ],
          [
           "NA"
          ],
          [
           "NA"
          ],
          [
           "NA"
          ],
          [
           "NA"
          ],
          [
           "NA"
          ],
          [
           "NA"
          ],
          [
           "NA"
          ],
          [
           "NA"
          ],
          [
           "NA"
          ],
          [
           "NA"
          ],
          [
           "NA"
          ],
          [
           "NA"
          ],
          [
           "NA"
          ],
          [
           "NA"
          ],
          [
           "NA"
          ],
          [
           "NA"
          ],
          [
           "NA"
          ],
          [
           "NA"
          ],
          [
           "NA"
          ],
          [
           "NA"
          ],
          [
           "NA"
          ],
          [
           "NA"
          ],
          [
           "NA"
          ],
          [
           "NA"
          ],
          [
           "NA"
          ],
          [
           "NA"
          ],
          [
           "NA"
          ],
          [
           "NA"
          ],
          [
           "NA"
          ],
          [
           "NA"
          ],
          [
           "NA"
          ],
          [
           "NA"
          ],
          [
           "NA"
          ],
          [
           "NA"
          ],
          [
           "NA"
          ],
          [
           "NA"
          ],
          [
           "NA"
          ],
          [
           "NA"
          ],
          [
           "NA"
          ],
          [
           "NA"
          ],
          [
           "NA"
          ],
          [
           "NA"
          ],
          [
           "NA"
          ],
          [
           "NA"
          ],
          [
           "NA"
          ],
          [
           "NA"
          ],
          [
           "NA"
          ],
          [
           "NA"
          ],
          [
           "NA"
          ],
          [
           "NA"
          ],
          [
           "NA"
          ],
          [
           "NA"
          ],
          [
           "NA"
          ],
          [
           "NA"
          ],
          [
           "NA"
          ],
          [
           "NA"
          ],
          [
           "NA"
          ],
          [
           "NA"
          ],
          [
           "NA"
          ],
          [
           "NA"
          ],
          [
           "NA"
          ],
          [
           "NA"
          ],
          [
           "NA"
          ],
          [
           "NA"
          ],
          [
           "NA"
          ],
          [
           "NA"
          ],
          [
           "NA"
          ],
          [
           "NA"
          ],
          [
           "NA"
          ],
          [
           "NA"
          ],
          [
           "NA"
          ],
          [
           "NA"
          ],
          [
           "NA"
          ],
          [
           "NA"
          ],
          [
           "NA"
          ],
          [
           "NA"
          ],
          [
           "NA"
          ],
          [
           "NA"
          ],
          [
           "NA"
          ],
          [
           "NA"
          ],
          [
           "NA"
          ],
          [
           "NA"
          ],
          [
           "NA"
          ],
          [
           "NA"
          ],
          [
           "NA"
          ],
          [
           "NA"
          ],
          [
           "NA"
          ],
          [
           "NA"
          ],
          [
           "NA"
          ],
          [
           "NA"
          ],
          [
           "NA"
          ],
          [
           "NA"
          ],
          [
           "NA"
          ],
          [
           "NA"
          ],
          [
           "NA"
          ],
          [
           "NA"
          ],
          [
           "NA"
          ],
          [
           "NA"
          ],
          [
           "NA"
          ],
          [
           "NA"
          ],
          [
           "NA"
          ],
          [
           "NA"
          ],
          [
           "NA"
          ],
          [
           "NA"
          ],
          [
           "NA"
          ],
          [
           "NA"
          ],
          [
           "NA"
          ],
          [
           "NA"
          ],
          [
           "NA"
          ],
          [
           "NA"
          ],
          [
           "NA"
          ],
          [
           "NA"
          ],
          [
           "NA"
          ],
          [
           "NA"
          ],
          [
           "NA"
          ],
          [
           "NA"
          ],
          [
           "NA"
          ],
          [
           "NA"
          ],
          [
           "NA"
          ],
          [
           "NA"
          ],
          [
           "NA"
          ],
          [
           "NA"
          ],
          [
           "NA"
          ],
          [
           "NA"
          ],
          [
           "NA"
          ],
          [
           "NA"
          ],
          [
           "NA"
          ],
          [
           "NA"
          ],
          [
           "NA"
          ],
          [
           "NA"
          ],
          [
           "NA"
          ],
          [
           "NA"
          ],
          [
           "NA"
          ],
          [
           "NA"
          ],
          [
           "NA"
          ],
          [
           "NA"
          ],
          [
           "NA"
          ],
          [
           "NA"
          ],
          [
           "NA"
          ],
          [
           "NA"
          ],
          [
           "NA"
          ],
          [
           "NA"
          ],
          [
           "NA"
          ],
          [
           "NA"
          ],
          [
           "NA"
          ],
          [
           "NA"
          ],
          [
           "NA"
          ],
          [
           "NA"
          ],
          [
           "NA"
          ],
          [
           "NA"
          ],
          [
           "NA"
          ],
          [
           "NA"
          ],
          [
           "NA"
          ],
          [
           "NA"
          ],
          [
           "NA"
          ],
          [
           "NA"
          ],
          [
           "NA"
          ],
          [
           "NA"
          ],
          [
           "NA"
          ],
          [
           "NA"
          ],
          [
           "NA"
          ],
          [
           "NA"
          ],
          [
           "NA"
          ],
          [
           "NA"
          ],
          [
           "NA"
          ],
          [
           "NA"
          ],
          [
           "NA"
          ],
          [
           "NA"
          ],
          [
           "NA"
          ],
          [
           "NA"
          ],
          [
           "NA"
          ],
          [
           "NA"
          ],
          [
           "NA"
          ],
          [
           "NA"
          ],
          [
           "NA"
          ],
          [
           "NA"
          ],
          [
           "NA"
          ],
          [
           "NA"
          ],
          [
           "NA"
          ],
          [
           "NA"
          ],
          [
           "NA"
          ],
          [
           "NA"
          ],
          [
           "NA"
          ],
          [
           "NA"
          ],
          [
           "NA"
          ],
          [
           "NA"
          ],
          [
           "NA"
          ],
          [
           "NA"
          ],
          [
           "NA"
          ],
          [
           "NA"
          ],
          [
           "NA"
          ],
          [
           "NA"
          ],
          [
           "NA"
          ],
          [
           "NA"
          ],
          [
           "NA"
          ],
          [
           "NA"
          ],
          [
           "NA"
          ],
          [
           "NA"
          ],
          [
           "NA"
          ],
          [
           "NA"
          ],
          [
           "NA"
          ],
          [
           "NA"
          ],
          [
           "NA"
          ],
          [
           "NA"
          ],
          [
           "NA"
          ],
          [
           "NA"
          ],
          [
           "NA"
          ],
          [
           "NA"
          ],
          [
           "NA"
          ],
          [
           "NA"
          ],
          [
           "NA"
          ],
          [
           "NA"
          ],
          [
           "NA"
          ],
          [
           "NA"
          ],
          [
           "NA"
          ],
          [
           "NA"
          ],
          [
           "NA"
          ],
          [
           "NA"
          ],
          [
           "NA"
          ],
          [
           "NA"
          ],
          [
           "NA"
          ],
          [
           "NA"
          ],
          [
           "NA"
          ],
          [
           "NA"
          ],
          [
           "NA"
          ],
          [
           "NA"
          ],
          [
           "NA"
          ],
          [
           "NA"
          ],
          [
           "NA"
          ],
          [
           "NA"
          ],
          [
           "NA"
          ],
          [
           "NA"
          ],
          [
           "NA"
          ],
          [
           "NA"
          ],
          [
           "NA"
          ],
          [
           "NA"
          ],
          [
           "NA"
          ],
          [
           "NA"
          ],
          [
           "NA"
          ],
          [
           "NA"
          ],
          [
           "NA"
          ],
          [
           "NA"
          ],
          [
           "NA"
          ],
          [
           "NA"
          ],
          [
           "NA"
          ],
          [
           "NA"
          ],
          [
           "NA"
          ],
          [
           "NA"
          ],
          [
           "NA"
          ],
          [
           "NA"
          ],
          [
           "NA"
          ],
          [
           "NA"
          ],
          [
           "NA"
          ],
          [
           "NA"
          ],
          [
           "NA"
          ],
          [
           "NA"
          ],
          [
           "NA"
          ],
          [
           "NA"
          ],
          [
           "NA"
          ],
          [
           "NA"
          ],
          [
           "NA"
          ],
          [
           "NA"
          ],
          [
           "NA"
          ],
          [
           "NA"
          ],
          [
           "NA"
          ],
          [
           "NA"
          ],
          [
           "NA"
          ],
          [
           "NA"
          ],
          [
           "NA"
          ],
          [
           "NA"
          ],
          [
           "NA"
          ],
          [
           "NA"
          ],
          [
           "NA"
          ],
          [
           "NA"
          ],
          [
           "NA"
          ],
          [
           "NA"
          ],
          [
           "NA"
          ],
          [
           "NA"
          ],
          [
           "NA"
          ],
          [
           "NA"
          ],
          [
           "NA"
          ],
          [
           "NA"
          ],
          [
           "NA"
          ],
          [
           "NA"
          ],
          [
           "NA"
          ],
          [
           "NA"
          ],
          [
           "NA"
          ],
          [
           "NA"
          ],
          [
           "NA"
          ],
          [
           "NA"
          ],
          [
           "NA"
          ],
          [
           "NA"
          ],
          [
           "NA"
          ],
          [
           "NA"
          ],
          [
           "NA"
          ],
          [
           "NA"
          ],
          [
           "NA"
          ],
          [
           "NA"
          ],
          [
           "NA"
          ],
          [
           "NA"
          ],
          [
           "NA"
          ],
          [
           "NA"
          ],
          [
           "NA"
          ],
          [
           "NA"
          ],
          [
           "NA"
          ],
          [
           "NA"
          ],
          [
           "NA"
          ],
          [
           "NA"
          ],
          [
           "NA"
          ],
          [
           "NA"
          ],
          [
           "NA"
          ],
          [
           "NA"
          ],
          [
           "NA"
          ],
          [
           "NA"
          ],
          [
           "NA"
          ],
          [
           "NA"
          ],
          [
           "NA"
          ],
          [
           "NA"
          ],
          [
           "NA"
          ],
          [
           "NA"
          ],
          [
           "NA"
          ],
          [
           "NA"
          ],
          [
           "NA"
          ],
          [
           "NA"
          ],
          [
           "NA"
          ],
          [
           "NA"
          ],
          [
           "NA"
          ],
          [
           "NA"
          ],
          [
           "NA"
          ],
          [
           "NA"
          ],
          [
           "NA"
          ],
          [
           "NA"
          ],
          [
           "NA"
          ],
          [
           "NA"
          ],
          [
           "NA"
          ],
          [
           "NA"
          ],
          [
           "NA"
          ],
          [
           "NA"
          ],
          [
           "NA"
          ],
          [
           "NA"
          ],
          [
           "NA"
          ],
          [
           "NA"
          ],
          [
           "NA"
          ],
          [
           "NA"
          ],
          [
           "NA"
          ]
         ],
         "hovertemplate": "<b>%{hovertext}</b><br><br>sensor_id=nan<br>date_time=%{x}<br>values=%{y}<br>comment=%{customdata[0]}<extra></extra>",
         "hovertext": [
          "nan",
          "nan",
          "nan",
          "nan",
          "nan",
          "nan",
          "nan",
          "nan",
          "nan",
          "nan",
          "nan",
          "nan",
          "nan",
          "nan",
          "nan",
          "nan",
          "nan",
          "nan",
          "nan",
          "nan",
          "nan",
          "nan",
          "nan",
          "nan",
          "nan",
          "nan",
          "nan",
          "nan",
          "nan",
          "nan",
          "nan",
          "nan",
          "nan",
          "nan",
          "nan",
          "nan",
          "nan",
          "nan",
          "nan",
          "nan",
          "nan",
          "nan",
          "nan",
          "nan",
          "nan",
          "nan",
          "nan",
          "nan",
          "nan",
          "nan",
          "nan",
          "nan",
          "nan",
          "nan",
          "nan",
          "nan",
          "nan",
          "nan",
          "nan",
          "nan",
          "nan",
          "nan",
          "nan",
          "nan",
          "nan",
          "nan",
          "nan",
          "nan",
          "nan",
          "nan",
          "nan",
          "nan",
          "nan",
          "nan",
          "nan",
          "nan",
          "nan",
          "nan",
          "nan",
          "nan",
          "nan",
          "nan",
          "nan",
          "nan",
          "nan",
          "nan",
          "nan",
          "nan",
          "nan",
          "nan",
          "nan",
          "nan",
          "nan",
          "nan",
          "nan",
          "nan",
          "nan",
          "nan",
          "nan",
          "nan",
          "nan",
          "nan",
          "nan",
          "nan",
          "nan",
          "nan",
          "nan",
          "nan",
          "nan",
          "nan",
          "nan",
          "nan",
          "nan",
          "nan",
          "nan",
          "nan",
          "nan",
          "nan",
          "nan",
          "nan",
          "nan",
          "nan",
          "nan",
          "nan",
          "nan",
          "nan",
          "nan",
          "nan",
          "nan",
          "nan",
          "nan",
          "nan",
          "nan",
          "nan",
          "nan",
          "nan",
          "nan",
          "nan",
          "nan",
          "nan",
          "nan",
          "nan",
          "nan",
          "nan",
          "nan",
          "nan",
          "nan",
          "nan",
          "nan",
          "nan",
          "nan",
          "nan",
          "nan",
          "nan",
          "nan",
          "nan",
          "nan",
          "nan",
          "nan",
          "nan",
          "nan",
          "nan",
          "nan",
          "nan",
          "nan",
          "nan",
          "nan",
          "nan",
          "nan",
          "nan",
          "nan",
          "nan",
          "nan",
          "nan",
          "nan",
          "nan",
          "nan",
          "nan",
          "nan",
          "nan",
          "nan",
          "nan",
          "nan",
          "nan",
          "nan",
          "nan",
          "nan",
          "nan",
          "nan",
          "nan",
          "nan",
          "nan",
          "nan",
          "nan",
          "nan",
          "nan",
          "nan",
          "nan",
          "nan",
          "nan",
          "nan",
          "nan",
          "nan",
          "nan",
          "nan",
          "nan",
          "nan",
          "nan",
          "nan",
          "nan",
          "nan",
          "nan",
          "nan",
          "nan",
          "nan",
          "nan",
          "nan",
          "nan",
          "nan",
          "nan",
          "nan",
          "nan",
          "nan",
          "nan",
          "nan",
          "nan",
          "nan",
          "nan",
          "nan",
          "nan",
          "nan",
          "nan",
          "nan",
          "nan",
          "nan",
          "nan",
          "nan",
          "nan",
          "nan",
          "nan",
          "nan",
          "nan",
          "nan",
          "nan",
          "nan",
          "nan",
          "nan",
          "nan",
          "nan",
          "nan",
          "nan",
          "nan",
          "nan",
          "nan",
          "nan",
          "nan",
          "nan",
          "nan",
          "nan",
          "nan",
          "nan",
          "nan",
          "nan",
          "nan",
          "nan",
          "nan",
          "nan",
          "nan",
          "nan",
          "nan",
          "nan",
          "nan",
          "nan",
          "nan",
          "nan",
          "nan",
          "nan",
          "nan",
          "nan",
          "nan",
          "nan",
          "nan",
          "nan",
          "nan",
          "nan",
          "nan",
          "nan",
          "nan",
          "nan",
          "nan",
          "nan",
          "nan",
          "nan",
          "nan",
          "nan",
          "nan",
          "nan",
          "nan",
          "nan",
          "nan",
          "nan",
          "nan",
          "nan",
          "nan",
          "nan",
          "nan",
          "nan",
          "nan",
          "nan",
          "nan",
          "nan",
          "nan",
          "nan",
          "nan",
          "nan",
          "nan",
          "nan",
          "nan",
          "nan",
          "nan",
          "nan",
          "nan",
          "nan",
          "nan",
          "nan",
          "nan",
          "nan",
          "nan",
          "nan",
          "nan",
          "nan",
          "nan",
          "nan",
          "nan",
          "nan",
          "nan",
          "nan",
          "nan",
          "nan",
          "nan",
          "nan",
          "nan",
          "nan",
          "nan",
          "nan",
          "nan",
          "nan",
          "nan",
          "nan",
          "nan",
          "nan",
          "nan",
          "nan",
          "nan",
          "nan",
          "nan",
          "nan",
          "nan",
          "nan",
          "nan",
          "nan",
          "nan",
          "nan",
          "nan",
          "nan",
          "nan",
          "nan",
          "nan",
          "nan",
          "nan",
          "nan",
          "nan",
          "nan",
          "nan",
          "nan",
          "nan",
          "nan",
          "nan",
          "nan",
          "nan",
          "nan",
          "nan",
          "nan",
          "nan",
          "nan",
          "nan",
          "nan",
          "nan",
          "nan",
          "nan",
          "nan",
          "nan",
          "nan",
          "nan",
          "nan",
          "nan",
          "nan",
          "nan",
          "nan",
          "nan",
          "nan",
          "nan",
          "nan",
          "nan",
          "nan",
          "nan",
          "nan",
          "nan",
          "nan",
          "nan",
          "nan",
          "nan",
          "nan",
          "nan",
          "nan",
          "nan",
          "nan",
          "nan",
          "nan",
          "nan",
          "nan",
          "nan",
          "nan",
          "nan",
          "nan",
          "nan",
          "nan",
          "nan",
          "nan",
          "nan",
          "nan",
          "nan",
          "nan",
          "nan",
          "nan",
          "nan",
          "nan",
          "nan",
          "nan",
          "nan",
          "nan",
          "nan",
          "nan",
          "nan",
          "nan",
          "nan",
          "nan",
          "nan",
          "nan",
          "nan",
          "nan",
          "nan",
          "nan",
          "nan",
          "nan",
          "nan",
          "nan",
          "nan",
          "nan",
          "nan"
         ],
         "legendgroup": "nan",
         "marker": {
          "color": "#FFA15A",
          "line": {
           "color": "DarkSlateGrey",
           "width": 2
          },
          "size": 14,
          "symbol": "circle"
         },
         "mode": "markers",
         "name": "nan",
         "orientation": "v",
         "showlegend": true,
         "type": "scatter",
         "x": [
          "2013-04-17T12:00:00",
          "2013-11-22T18:00:00",
          "2014-05-01T00:00:00",
          "2014-07-23T23:00:00",
          "2015-01-07T12:00:00",
          "2016-08-21T12:00:00",
          "2016-10-07T12:00:00",
          "2016-11-16T12:00:00",
          "2016-12-10T12:00:00",
          "2017-03-02T00:00:00",
          "2017-03-02T12:00:00",
          "2017-08-28T12:00:00",
          "2017-09-12T12:00:00",
          "2017-09-29T18:00:00",
          "2017-10-03T00:00:00",
          "2017-10-03T12:00:00",
          "2017-10-05T15:00:00",
          "2017-10-06T00:00:00",
          "2017-10-12T12:00:00",
          "2017-10-13T00:00:00",
          "2017-10-13T12:00:00",
          "2017-10-13T17:00:00",
          "2017-10-14T00:00:00",
          "2017-10-14T12:00:00",
          "2017-10-15T00:00:00",
          "2017-10-15T12:00:00",
          "2017-10-16T00:00:00",
          "2017-10-16T12:00:00",
          "2017-10-17T00:00:00",
          "2017-10-17T12:00:00",
          "2017-10-17T18:00:00",
          "2017-10-20T15:00:00",
          "2017-11-01T21:00:00",
          "2018-09-27T12:00:00",
          "2019-05-14T19:00:00",
          "2022-01-01T00:00:00",
          "2022-01-01T12:00:00",
          "2022-01-02T00:00:00",
          "2022-01-02T12:00:00",
          "2022-01-03T00:00:00",
          "2022-01-03T12:00:00",
          "2022-01-04T00:00:00",
          "2022-01-04T12:00:00",
          "2022-01-05T00:00:00",
          "2022-01-05T12:00:00",
          "2022-01-06T00:00:00",
          "2022-01-06T12:00:00",
          "2022-01-07T00:00:00",
          "2022-01-07T12:00:00",
          "2022-01-08T00:00:00",
          "2022-01-08T12:00:00",
          "2022-01-09T00:00:00",
          "2022-01-09T12:00:00",
          "1994-01-01T12:00:00",
          "1994-01-10T12:00:00",
          "1994-02-02T12:00:00",
          "1994-02-18T12:00:00",
          "1994-04-07T12:00:00",
          "1994-05-06T12:00:00",
          "1994-05-08T00:00:00",
          "1994-05-10T12:00:00",
          "1994-05-11T12:00:00",
          "1994-05-15T00:00:00",
          "1994-05-17T12:00:00",
          "1994-05-20T12:00:00",
          "1994-06-14T00:00:00",
          "1994-07-03T00:00:00",
          "1994-07-03T12:00:00",
          "1994-08-29T12:00:00",
          "1994-08-30T00:00:00",
          "1994-09-01T00:00:00",
          "1994-09-02T00:00:00",
          "1994-09-08T00:00:00",
          "1994-09-29T12:00:00",
          "1994-10-21T12:00:00",
          "1994-12-27T00:00:00",
          "1995-01-07T00:00:00",
          "1995-01-12T12:00:00",
          "1995-01-22T12:00:00",
          "1995-01-24T00:00:00",
          "1995-01-24T12:00:00",
          "1995-01-29T00:00:00",
          "1995-02-04T00:00:00",
          "1995-02-07T12:00:00",
          "1995-02-11T12:00:00",
          "1995-02-12T00:00:00",
          "1995-02-13T00:00:00",
          "1995-02-15T00:00:00",
          "1995-02-15T12:00:00",
          "1995-02-17T12:00:00",
          "1995-02-24T12:00:00",
          "1995-02-25T12:00:00",
          "1995-02-26T00:00:00",
          "1995-02-27T00:00:00",
          "1995-03-01T00:00:00",
          "1995-03-11T00:00:00",
          "1995-03-13T12:00:00",
          "1995-03-21T12:00:00",
          "1995-03-22T12:00:00",
          "1995-03-23T12:00:00",
          "1995-04-02T00:00:00",
          "1995-04-06T23:00:00",
          "1995-04-12T12:00:00",
          "1995-04-13T12:00:00",
          "1995-04-14T00:00:00",
          "1995-04-17T00:00:00",
          "1995-04-20T01:00:00",
          "1995-05-01T12:00:00",
          "1995-05-17T12:00:00",
          "1995-05-28T00:00:00",
          "1995-06-17T00:00:00",
          "1995-08-10T12:00:00",
          "1995-08-13T12:00:00",
          "1995-08-24T12:00:00",
          "1995-08-27T12:00:00",
          "1995-09-05T00:00:00",
          "1995-09-09T00:00:00",
          "1995-09-09T12:00:00",
          "1995-09-10T00:00:00",
          "1995-09-10T12:00:00",
          "1995-09-11T00:00:00",
          "1995-09-11T12:00:00",
          "1995-09-15T01:00:00",
          "1995-09-30T12:00:00",
          "1995-10-19T13:00:00",
          "1995-10-19T20:00:00",
          "1995-10-25T12:00:00",
          "1995-10-26T00:00:00",
          "1995-10-27T00:00:00",
          "1995-11-05T01:00:00",
          "1995-11-06T00:00:00",
          "1995-11-07T12:00:00",
          "1995-11-10T12:00:00",
          "1995-12-13T12:00:00",
          "1995-12-14T00:00:00",
          "1995-12-14T12:00:00",
          "1995-12-15T00:00:00",
          "1995-12-15T12:00:00",
          "1995-12-16T12:00:00",
          "1995-12-30T12:00:00",
          "1995-12-31T12:00:00",
          "1996-01-04T12:00:00",
          "1996-01-08T12:00:00",
          "1996-01-09T00:00:00",
          "1996-01-11T12:00:00",
          "1996-01-16T00:00:00",
          "1996-01-17T12:00:00",
          "1996-01-19T00:00:00",
          "1996-01-21T12:00:00",
          "1996-01-22T12:00:00",
          "1996-01-23T00:00:00",
          "1996-01-23T12:00:00",
          "1996-01-24T12:00:00",
          "1996-01-25T00:00:00",
          "1996-01-25T12:00:00",
          "1996-01-26T00:00:00",
          "1996-01-29T12:00:00",
          "1996-02-01T00:00:00",
          "1996-02-12T00:00:00",
          "1996-02-12T13:00:00",
          "1996-02-15T00:00:00",
          "1996-02-21T12:00:00",
          "1996-02-22T00:00:00",
          "1996-02-22T13:00:00",
          "1996-02-23T00:00:00",
          "1996-03-02T00:00:00",
          "1996-03-07T12:00:00",
          "1996-03-18T23:00:00",
          "1996-03-21T23:00:00",
          "1996-03-24T12:00:00",
          "1996-04-01T12:00:00",
          "1996-04-02T12:00:00",
          "1996-04-14T00:00:00",
          "1996-05-03T21:00:00",
          "1996-05-17T00:00:00",
          "1996-05-20T23:00:00",
          "1996-06-02T00:00:00",
          "1996-06-17T00:00:00",
          "1996-06-17T12:00:00",
          "1996-06-18T00:00:00",
          "1996-06-18T12:00:00",
          "1996-07-11T12:00:00",
          "1996-07-15T00:00:00",
          "1996-07-20T12:00:00",
          "1996-07-28T12:00:00",
          "1996-08-02T12:00:00",
          "1996-08-07T12:00:00",
          "1996-08-14T12:00:00",
          "1996-08-15T12:00:00",
          "1996-08-18T00:00:00",
          "1996-08-22T12:00:00",
          "1996-08-25T00:00:00",
          "1996-08-25T12:00:00",
          "1996-08-26T00:00:00",
          "1996-08-27T00:00:00",
          "1996-08-27T12:00:00",
          "1996-08-30T12:00:00",
          "1996-08-31T12:00:00",
          "1996-09-01T00:00:00",
          "1996-09-02T00:00:00",
          "1996-09-04T00:00:00",
          "1996-09-09T00:00:00",
          "1996-09-10T23:00:00",
          "1996-09-12T23:00:00",
          "1996-09-14T00:00:00",
          "1996-09-14T23:00:00",
          "1996-09-26T12:00:00",
          "1996-10-01T00:00:00",
          "1996-10-16T12:00:00",
          "1996-10-18T12:00:00",
          "1996-10-19T12:00:00",
          "1996-11-08T12:00:00",
          "1996-11-11T00:00:00",
          "1996-11-20T00:00:00",
          "1997-01-04T00:00:00",
          "1997-01-06T00:00:00",
          "1997-01-23T12:00:00",
          "1997-01-25T00:00:00",
          "1997-02-17T12:00:00",
          "1997-02-28T12:00:00",
          "1997-03-01T00:00:00",
          "1997-03-05T00:00:00",
          "1997-03-05T12:00:00",
          "1997-03-06T00:00:00",
          "1997-03-06T12:00:00",
          "1997-03-07T00:00:00",
          "1997-04-21T00:00:00",
          "1997-04-23T00:00:00",
          "1997-05-06T12:00:00",
          "1997-05-27T12:00:00",
          "1997-05-29T00:00:00",
          "1997-06-02T12:00:00",
          "1997-06-10T00:00:00",
          "1997-06-13T00:00:00",
          "1997-06-21T12:00:00",
          "1997-07-01T12:00:00",
          "1997-07-14T00:00:00",
          "1997-07-16T12:00:00",
          "1997-08-04T00:00:00",
          "1997-08-05T00:00:00",
          "1997-08-09T12:00:00",
          "1997-08-21T12:00:00",
          "1997-09-08T00:00:00",
          "1997-09-08T12:00:00",
          "1997-10-02T12:00:00",
          "1997-10-06T00:00:00",
          "1997-10-29T00:00:00",
          "1997-11-06T12:00:00",
          "1997-11-09T00:00:00",
          "1997-11-20T00:00:00",
          "1997-11-28T12:00:00",
          "1997-12-10T00:00:00",
          "1997-12-14T00:00:00",
          "1997-12-20T12:00:00",
          "1998-01-06T12:00:00",
          "1998-01-07T12:00:00",
          "1998-01-19T00:00:00",
          "1998-01-23T12:00:00",
          "1998-03-16T00:00:00",
          "1998-03-26T12:00:00",
          "1998-04-23T12:00:00",
          "1998-05-02T12:00:00",
          "1998-05-12T00:00:00",
          "1998-05-20T12:00:00",
          "1998-05-27T12:00:00",
          "1998-05-28T12:00:00",
          "1998-06-01T12:00:00",
          "1998-06-03T12:00:00",
          "1998-06-18T12:00:00",
          "1998-06-20T12:00:00",
          "1998-06-27T00:00:00",
          "1998-06-30T00:00:00",
          "1998-07-02T00:00:00",
          "1998-07-04T12:00:00",
          "1998-07-18T12:00:00",
          "1998-07-30T00:00:00",
          "1998-08-01T00:00:00",
          "1998-08-12T00:00:00",
          "1998-08-30T00:00:00",
          "1998-09-12T00:00:00",
          "1998-09-16T12:00:00",
          "1998-09-20T12:00:00",
          "1998-09-21T00:00:00",
          "1998-10-05T00:00:00",
          "1998-10-18T12:00:00",
          "1998-10-22T00:00:00",
          "1998-10-22T12:00:00",
          "1998-11-10T12:00:00",
          "1998-11-20T00:00:00",
          "1998-11-26T12:00:00",
          "1998-12-17T12:00:00",
          "1998-12-23T00:00:00",
          "1999-01-09T12:00:00",
          "1999-01-25T12:00:00",
          "1999-01-28T00:00:00",
          "1999-02-03T12:00:00",
          "1999-02-18T00:00:00",
          "1999-03-07T00:00:00",
          "1999-03-13T00:00:00",
          "1999-03-14T12:00:00",
          "1999-03-27T12:00:00",
          "1999-03-28T12:00:00",
          "1999-03-29T00:00:00",
          "1999-04-04T12:00:00",
          "1999-06-01T00:00:00",
          "1999-06-16T00:00:00",
          "1999-06-19T12:00:00",
          "1999-06-21T00:00:00",
          "1999-06-23T00:00:00",
          "1999-06-24T00:00:00",
          "1999-07-02T12:00:00",
          "1999-07-25T12:00:00",
          "1999-07-28T00:00:00",
          "1999-08-06T00:00:00",
          "1999-08-07T00:00:00",
          "1999-08-12T12:00:00",
          "1999-08-31T00:00:00",
          "1999-10-04T00:00:00",
          "1999-10-25T12:00:00",
          "2000-02-09T12:00:00",
          "2000-02-12T12:00:00",
          "2000-03-15T06:00:00",
          "2000-03-17T00:00:00",
          "2000-03-28T12:00:00",
          "2000-05-02T12:00:00",
          "2000-05-04T00:00:00",
          "2000-07-29T00:00:00",
          "2000-08-05T00:00:00",
          "2000-08-05T05:00:00",
          "2000-08-08T00:00:00",
          "2000-08-10T12:00:00",
          "2000-11-07T12:00:00",
          "2001-01-09T00:00:00",
          "2001-01-19T00:00:00",
          "2001-02-21T12:00:00",
          "2001-03-07T00:00:00",
          "2001-04-19T04:00:00",
          "2001-04-30T00:00:00",
          "2001-05-16T00:00:00",
          "2001-05-25T12:00:00",
          "2001-06-12T00:00:00",
          "2001-06-29T00:00:00",
          "2001-07-11T00:00:00",
          "2001-07-14T00:00:00",
          "2001-07-15T00:00:00",
          "2001-08-05T12:00:00",
          "2001-08-07T00:00:00",
          "2001-10-20T00:00:00",
          "2001-11-05T00:00:00",
          "2002-02-28T00:00:00",
          "2002-03-15T00:00:00",
          "2002-03-20T04:00:00",
          "2002-05-03T00:00:00",
          "2002-07-25T00:00:00",
          "2002-08-01T12:00:00",
          "2002-09-04T00:00:00",
          "2002-09-24T00:00:00",
          "2002-10-10T00:00:00",
          "2003-03-27T00:00:00",
          "2003-04-28T00:00:00",
          "2003-05-01T12:00:00",
          "2003-05-13T15:00:00",
          "2003-05-30T00:00:00",
          "2003-07-31T00:00:00",
          "2003-08-30T12:00:00",
          "2003-10-02T00:00:00",
          "2003-10-29T12:00:00",
          "2003-11-06T21:00:00",
          "2004-01-03T12:00:00",
          "2004-03-03T00:00:00",
          "2004-03-20T00:00:00",
          "2004-03-27T00:00:00",
          "2004-04-06T12:00:00",
          "2004-05-21T00:00:00",
          "2004-06-08T12:00:00",
          "2004-06-30T00:00:00",
          "2004-07-11T12:00:00",
          "2004-07-22T00:00:00",
          "2004-10-04T12:00:00",
          "2004-10-10T00:00:00",
          "2004-10-23T00:00:00",
          "2005-01-07T12:00:00",
          "2005-02-28T12:00:00",
          "2005-05-30T12:00:00",
          "2005-06-21T00:00:00",
          "2005-09-20T12:00:00",
          "2005-10-29T12:00:00",
          "2006-03-16T00:00:00",
          "2006-08-01T00:00:00",
          "2006-08-04T00:00:00",
          "2007-10-20T12:00:00",
          "2008-02-20T00:00:00",
          "2008-05-15T12:00:00",
          "2008-05-17T00:00:00",
          "2008-05-31T00:00:00",
          "2008-09-20T12:00:00",
          "2008-09-27T12:00:00",
          "2009-01-20T12:00:00",
          "2009-02-14T12:00:00",
          "2009-05-13T00:00:00",
          "2009-07-01T12:00:00",
          "2010-01-12T00:00:00",
          "2010-04-21T00:00:00",
          "2010-09-12T12:00:00",
          "2011-05-01T00:00:00",
          "2011-07-10T00:00:00",
          "2011-07-12T12:00:00",
          "2013-04-17T12:00:00",
          "2013-11-22T18:00:00",
          "2014-05-01T00:00:00",
          "2014-07-23T23:00:00",
          "2015-01-07T12:00:00",
          "2016-08-21T12:00:00",
          "2016-10-07T12:00:00",
          "2016-11-16T12:00:00",
          "2016-12-10T12:00:00",
          "2017-03-02T00:00:00",
          "2017-03-02T12:00:00",
          "2017-08-28T12:00:00",
          "2017-09-12T12:00:00",
          "2017-09-29T18:00:00",
          "2017-10-03T00:00:00",
          "2017-10-03T12:00:00",
          "2017-10-05T15:00:00",
          "2017-10-06T00:00:00",
          "2017-10-12T12:00:00",
          "2017-10-13T00:00:00",
          "2017-10-13T12:00:00",
          "2017-10-13T17:00:00",
          "2017-10-14T00:00:00",
          "2017-10-14T12:00:00",
          "2017-10-15T00:00:00",
          "2017-10-15T12:00:00",
          "2017-10-16T00:00:00",
          "2017-10-16T12:00:00",
          "2017-10-17T00:00:00",
          "2017-10-17T12:00:00",
          "2017-10-17T18:00:00",
          "2017-10-20T15:00:00",
          "2017-11-01T21:00:00",
          "2018-09-27T12:00:00",
          "2019-05-14T19:00:00",
          "2022-01-01T00:00:00",
          "2022-01-01T12:00:00",
          "2022-01-02T00:00:00",
          "2022-01-02T12:00:00",
          "2022-01-03T00:00:00",
          "2022-01-03T12:00:00",
          "2022-01-04T00:00:00",
          "2022-01-04T12:00:00",
          "2022-01-05T00:00:00",
          "2022-01-05T12:00:00",
          "2022-01-06T00:00:00",
          "2022-01-06T12:00:00",
          "2022-01-07T00:00:00",
          "2022-01-07T12:00:00",
          "2022-01-08T00:00:00",
          "2022-01-08T12:00:00",
          "2022-01-09T00:00:00",
          "2022-01-09T12:00:00"
         ],
         "xaxis": "x",
         "y": [
          4,
          4,
          4,
          4,
          4,
          4,
          4,
          4,
          4,
          4,
          4,
          4,
          4,
          4,
          4,
          4,
          4,
          4,
          4,
          4,
          4,
          4,
          4,
          4,
          4,
          4,
          4,
          4,
          4,
          4,
          4,
          4,
          4,
          4,
          4,
          4,
          4,
          4,
          4,
          4,
          4,
          4,
          4,
          4,
          4,
          4,
          4,
          4,
          4,
          4,
          4,
          4,
          4,
          4,
          4,
          4,
          4,
          4,
          4,
          4,
          4,
          4,
          4,
          4,
          4,
          4,
          4,
          4,
          4,
          4,
          4,
          4,
          4,
          4,
          4,
          4,
          4,
          4,
          4,
          4,
          4,
          4,
          4,
          4,
          4,
          4,
          4,
          4,
          4,
          4,
          4,
          4,
          4,
          4,
          4,
          4,
          4,
          4,
          4,
          4,
          4,
          4,
          4,
          4,
          4,
          4,
          4,
          4,
          4,
          4,
          4,
          4,
          4,
          4,
          4,
          4,
          4,
          4,
          4,
          4,
          4,
          4,
          4,
          4,
          4,
          4,
          4,
          4,
          4,
          4,
          4,
          4,
          4,
          4,
          4,
          4,
          4,
          4,
          4,
          4,
          4,
          4,
          4,
          4,
          4,
          4,
          4,
          4,
          4,
          4,
          4,
          4,
          4,
          4,
          4,
          4,
          4,
          4,
          4,
          4,
          4,
          4,
          4,
          4,
          4,
          4,
          4,
          4,
          4,
          4,
          4,
          4,
          4,
          4,
          4,
          4,
          4,
          4,
          4,
          4,
          4,
          4,
          4,
          4,
          4,
          4,
          4,
          4,
          4,
          4,
          4,
          4,
          4,
          4,
          4,
          4,
          4,
          4,
          4,
          4,
          4,
          4,
          4,
          4,
          4,
          4,
          4,
          4,
          4,
          4,
          4,
          4,
          4,
          4,
          4,
          4,
          4,
          4,
          4,
          4,
          4,
          4,
          4,
          4,
          4,
          4,
          4,
          4,
          4,
          4,
          4,
          4,
          4,
          4,
          4,
          4,
          4,
          4,
          4,
          4,
          4,
          4,
          4,
          4,
          4,
          4,
          4,
          4,
          4,
          4,
          4,
          4,
          4,
          4,
          4,
          4,
          4,
          4,
          4,
          4,
          4,
          4,
          4,
          4,
          4,
          4,
          4,
          4,
          4,
          4,
          4,
          4,
          4,
          4,
          4,
          4,
          4,
          4,
          4,
          4,
          4,
          4,
          4,
          4,
          4,
          4,
          4,
          4,
          4,
          4,
          4,
          4,
          4,
          4,
          4,
          4,
          4,
          4,
          4,
          4,
          4,
          4,
          4,
          4,
          4,
          4,
          4,
          4,
          4,
          4,
          4,
          4,
          4,
          4,
          4,
          4,
          4,
          4,
          4,
          4,
          4,
          4,
          4,
          4,
          4,
          4,
          4,
          4,
          4,
          4,
          4,
          4,
          4,
          4,
          4,
          4,
          4,
          4,
          4,
          4,
          4,
          4,
          4,
          4,
          4,
          4,
          4,
          4,
          4,
          4,
          4,
          4,
          4,
          4,
          4,
          4,
          4,
          4,
          4,
          4,
          4,
          4,
          4,
          4,
          4,
          4,
          4,
          4,
          4,
          4,
          4,
          4,
          4,
          4,
          4,
          4,
          4,
          4,
          4,
          4,
          4,
          4,
          4,
          4,
          4,
          4,
          4,
          4,
          4,
          4,
          4,
          4,
          4,
          4,
          4,
          4,
          4,
          4,
          4,
          4,
          4,
          4,
          4,
          4,
          4,
          4,
          4,
          4,
          4,
          4,
          4,
          4,
          4,
          4,
          4,
          4,
          4,
          4,
          4,
          4,
          4,
          4,
          4,
          4,
          4,
          4,
          4,
          4,
          4,
          4,
          4,
          4,
          4,
          4,
          4,
          4,
          4,
          4,
          4,
          4,
          4,
          4,
          4,
          4,
          4,
          4,
          4,
          4,
          4,
          4,
          4,
          4,
          4,
          4,
          4,
          4,
          4,
          4,
          4,
          4
         ],
         "yaxis": "y"
        },
        {
         "customdata": [
          [
           "VIZ type B time-commutated (United States)             "
          ],
          [
           "VIZ type B time-commutated (United States)             "
          ],
          [
           "VIZ type B time-commutated (United States)             "
          ],
          [
           "VIZ type B time-commutated (United States)             "
          ],
          [
           "VIZ type B time-commutated (United States)             "
          ],
          [
           "VIZ type B time-commutated (United States)             "
          ],
          [
           "VIZ type B time-commutated (United States)             "
          ],
          [
           "VIZ type B time-commutated (United States)             "
          ],
          [
           "VIZ type B time-commutated (United States)             "
          ],
          [
           "VIZ type B time-commutated (United States)             "
          ],
          [
           "VIZ type B time-commutated (United States)             "
          ],
          [
           "VIZ type B time-commutated (United States)             "
          ],
          [
           "VIZ type B time-commutated (United States)             "
          ],
          [
           "VIZ type B time-commutated (United States)             "
          ],
          [
           "VIZ type B time-commutated (United States)             "
          ],
          [
           "VIZ type B time-commutated (United States)             "
          ],
          [
           "VIZ type B time-commutated (United States)             "
          ],
          [
           "VIZ type B time-commutated (United States)             "
          ],
          [
           "VIZ type B time-commutated (United States)             "
          ],
          [
           "VIZ type B time-commutated (United States)             "
          ],
          [
           "VIZ type B time-commutated (United States)             "
          ],
          [
           "VIZ type B time-commutated (United States)             "
          ],
          [
           "VIZ type B time-commutated (United States)             "
          ],
          [
           "VIZ type B time-commutated (United States)             "
          ],
          [
           "VIZ type B time-commutated (United States)             "
          ],
          [
           "VIZ type B time-commutated (United States)             "
          ],
          [
           "VIZ type B time-commutated (United States)             "
          ],
          [
           "VIZ type B time-commutated (United States)             "
          ],
          [
           "VIZ type B time-commutated (United States)             "
          ],
          [
           "VIZ type B time-commutated (United States)             "
          ],
          [
           "VIZ type B time-commutated (United States)             "
          ],
          [
           "VIZ type B time-commutated (United States)             "
          ],
          [
           "VIZ type B time-commutated (United States)             "
          ],
          [
           "VIZ type B time-commutated (United States)             "
          ],
          [
           "VIZ type B time-commutated (United States)             "
          ],
          [
           "VIZ type B time-commutated (United States)             "
          ],
          [
           "VIZ type B time-commutated (United States)             "
          ],
          [
           "VIZ type B time-commutated (United States)             "
          ],
          [
           "VIZ type B time-commutated (United States)             "
          ],
          [
           "VIZ type B time-commutated (United States)             "
          ],
          [
           "VIZ type B time-commutated (United States)             "
          ],
          [
           "VIZ type B time-commutated (United States)             "
          ],
          [
           "VIZ type B time-commutated (United States)             "
          ],
          [
           "VIZ type B time-commutated (United States)             "
          ],
          [
           "VIZ type B time-commutated (United States)             "
          ],
          [
           "VIZ type B time-commutated (United States)             "
          ],
          [
           "VIZ type B time-commutated (United States)             "
          ],
          [
           "VIZ type B time-commutated (United States)             "
          ],
          [
           "VIZ type B time-commutated (United States)             "
          ],
          [
           "VIZ type B time-commutated (United States)             "
          ],
          [
           "VIZ type B time-commutated (United States)             "
          ],
          [
           "VIZ type B time-commutated (United States)             "
          ],
          [
           "VIZ type B time-commutated (United States)             "
          ],
          [
           "VIZ type B time-commutated (United States)             "
          ],
          [
           "VIZ type B time-commutated (United States)             "
          ],
          [
           "VIZ type B time-commutated (United States)             "
          ],
          [
           "VIZ type B time-commutated (United States)             "
          ],
          [
           "VIZ type B time-commutated (United States)             "
          ],
          [
           "VIZ type B time-commutated (United States)             "
          ],
          [
           "VIZ type B time-commutated (United States)             "
          ],
          [
           "VIZ type B time-commutated (United States)             "
          ],
          [
           "VIZ type B time-commutated (United States)             "
          ],
          [
           "VIZ type B time-commutated (United States)             "
          ],
          [
           "VIZ type B time-commutated (United States)             "
          ],
          [
           "VIZ type B time-commutated (United States)             "
          ],
          [
           "VIZ type B time-commutated (United States)             "
          ],
          [
           "VIZ type B time-commutated (United States)             "
          ],
          [
           "VIZ type B time-commutated (United States)             "
          ],
          [
           "VIZ type B time-commutated (United States)             "
          ],
          [
           "VIZ type B time-commutated (United States)             "
          ],
          [
           "VIZ type B time-commutated (United States)             "
          ],
          [
           "VIZ type B time-commutated (United States)             "
          ],
          [
           "VIZ type B time-commutated (United States)             "
          ],
          [
           "VIZ type B time-commutated (United States)             "
          ],
          [
           "VIZ type B time-commutated (United States)             "
          ],
          [
           "VIZ type B time-commutated (United States)             "
          ],
          [
           "VIZ type B time-commutated (United States)             "
          ],
          [
           "VIZ type B time-commutated (United States)             "
          ],
          [
           "VIZ type B time-commutated (United States)             "
          ],
          [
           "VIZ type B time-commutated (United States)             "
          ],
          [
           "VIZ type B time-commutated (United States)             "
          ],
          [
           "VIZ type B time-commutated (United States)             "
          ],
          [
           "VIZ type B time-commutated (United States)             "
          ],
          [
           "VIZ type B time-commutated (United States)             "
          ],
          [
           "VIZ type B time-commutated (United States)             "
          ],
          [
           "VIZ type B time-commutated (United States)             "
          ],
          [
           "VIZ type B time-commutated (United States)             "
          ],
          [
           "VIZ type B time-commutated (United States)             "
          ],
          [
           "VIZ type B time-commutated (United States)             "
          ],
          [
           "VIZ type B time-commutated (United States)             "
          ],
          [
           "VIZ type B time-commutated (United States)             "
          ],
          [
           "VIZ type B time-commutated (United States)             "
          ],
          [
           "VIZ type B time-commutated (United States)             "
          ],
          [
           "VIZ type B time-commutated (United States)             "
          ],
          [
           "VIZ type B time-commutated (United States)             "
          ],
          [
           "VIZ type B time-commutated (United States)             "
          ]
         ],
         "hovertemplate": "<b>%{hovertext}</b><br><br>sensor_id=11<br>date_time=%{x}<br>values=%{y}<br>comment=%{customdata[0]}<extra></extra>",
         "hovertext": [
          "11",
          "11",
          "11",
          "11",
          "11",
          "11",
          "11",
          "11",
          "11",
          "11",
          "11",
          "11",
          "11",
          "11",
          "11",
          "11",
          "11",
          "11",
          "11",
          "11",
          "11",
          "11",
          "11",
          "11",
          "11",
          "11",
          "11",
          "11",
          "11",
          "11",
          "11",
          "11",
          "11",
          "11",
          "11",
          "11",
          "11",
          "11",
          "11",
          "11",
          "11",
          "11",
          "11",
          "11",
          "11",
          "11",
          "11",
          "11",
          "11",
          "11",
          "11",
          "11",
          "11",
          "11",
          "11",
          "11",
          "11",
          "11",
          "11",
          "11",
          "11",
          "11",
          "11",
          "11",
          "11",
          "11",
          "11",
          "11",
          "11",
          "11",
          "11",
          "11",
          "11",
          "11",
          "11",
          "11",
          "11",
          "11",
          "11",
          "11",
          "11",
          "11",
          "11",
          "11",
          "11",
          "11",
          "11",
          "11",
          "11",
          "11",
          "11",
          "11",
          "11",
          "11",
          "11",
          "11"
         ],
         "legendgroup": "11",
         "marker": {
          "color": "#19d3f3",
          "line": {
           "color": "DarkSlateGrey",
           "width": 2
          },
          "size": 14,
          "symbol": "circle"
         },
         "mode": "markers",
         "name": "11",
         "orientation": "v",
         "showlegend": true,
         "type": "scatter",
         "x": [
          "2013-11-18T19:00:00",
          "2013-12-16T21:00:00",
          "2013-12-18T00:00:00",
          "2014-05-01T12:00:00",
          "2014-07-24T12:00:00",
          "2015-01-08T00:00:00",
          "2016-08-22T00:00:00",
          "2016-10-08T00:00:00",
          "2016-11-17T00:00:00",
          "2016-12-11T00:00:00",
          "2017-03-02T22:52:00",
          "2017-08-29T00:00:00",
          "2017-09-13T00:00:00",
          "2017-09-30T00:00:00",
          "2017-10-04T00:00:00",
          "2017-10-06T12:00:00",
          "1994-01-01T00:00:00",
          "1994-01-02T00:00:00",
          "1994-01-11T00:00:00",
          "1994-02-03T00:00:00",
          "1994-02-19T00:00:00",
          "1994-04-08T00:00:00",
          "1994-05-07T00:00:00",
          "1994-05-08T12:00:00",
          "1994-05-11T00:00:00",
          "1994-05-12T00:00:00",
          "1994-05-15T12:00:00",
          "1994-05-18T00:00:00",
          "1994-05-21T00:00:00",
          "1994-06-14T12:00:00",
          "1994-07-04T00:00:00",
          "1994-08-30T12:00:00",
          "1994-09-01T12:00:00",
          "1994-09-02T12:00:00",
          "1994-09-08T12:00:00",
          "1994-09-30T00:00:00",
          "1994-10-22T00:00:00",
          "1994-11-03T12:00:00",
          "1994-12-27T12:00:00",
          "1995-01-07T12:00:00",
          "1995-01-13T00:00:00",
          "1995-01-23T00:00:00",
          "1995-01-25T00:00:00",
          "1995-01-29T12:00:00",
          "1995-02-04T12:00:00",
          "1995-02-08T00:00:00",
          "1995-02-12T12:00:00",
          "1995-02-13T12:00:00",
          "1995-02-16T00:00:00",
          "1995-02-18T00:00:00",
          "1995-02-25T00:00:00",
          "1995-02-26T12:00:00",
          "1995-02-27T12:00:00",
          "1995-03-01T12:00:00",
          "1995-03-11T12:00:00",
          "1995-03-14T00:00:00",
          "1995-03-22T00:00:00",
          "1995-03-23T00:00:00",
          "1995-03-24T00:00:00",
          "1995-04-02T12:00:00",
          "1995-04-07T12:00:00",
          "1995-04-13T00:00:00",
          "1995-04-14T12:00:00",
          "1995-04-18T00:00:00",
          "1995-04-20T12:00:00",
          "1995-05-02T00:00:00",
          "1995-05-18T00:00:00",
          "1995-05-28T12:00:00",
          "1995-06-17T12:00:00",
          "1995-08-11T00:00:00",
          "1995-08-14T00:00:00",
          "1995-08-25T12:00:00",
          "1995-08-28T00:00:00",
          "1995-09-05T12:00:00",
          "1995-09-12T00:00:00",
          "1995-09-15T12:00:00",
          "1995-10-01T00:00:00",
          "1995-10-20T00:00:00",
          "1995-10-26T12:00:00",
          "1995-10-27T12:00:00",
          "2013-11-18T19:00:00",
          "2013-12-16T21:00:00",
          "2013-12-18T00:00:00",
          "2014-05-01T12:00:00",
          "2014-07-24T12:00:00",
          "2015-01-08T00:00:00",
          "2016-08-22T00:00:00",
          "2016-10-08T00:00:00",
          "2016-11-17T00:00:00",
          "2016-12-11T00:00:00",
          "2017-03-02T22:52:00",
          "2017-08-29T00:00:00",
          "2017-09-13T00:00:00",
          "2017-09-30T00:00:00",
          "2017-10-04T00:00:00",
          "2017-10-06T12:00:00"
         ],
         "xaxis": "x",
         "y": [
          5,
          5,
          5,
          5,
          5,
          5,
          5,
          5,
          5,
          5,
          5,
          5,
          5,
          5,
          5,
          5,
          5,
          5,
          5,
          5,
          5,
          5,
          5,
          5,
          5,
          5,
          5,
          5,
          5,
          5,
          5,
          5,
          5,
          5,
          5,
          5,
          5,
          5,
          5,
          5,
          5,
          5,
          5,
          5,
          5,
          5,
          5,
          5,
          5,
          5,
          5,
          5,
          5,
          5,
          5,
          5,
          5,
          5,
          5,
          5,
          5,
          5,
          5,
          5,
          5,
          5,
          5,
          5,
          5,
          5,
          5,
          5,
          5,
          5,
          5,
          5,
          5,
          5,
          5,
          5,
          5,
          5,
          5,
          5,
          5,
          5,
          5,
          5,
          5,
          5,
          5,
          5,
          5,
          5,
          5,
          5
         ],
         "yaxis": "y"
        },
        {
         "customdata": [
          [
           "Vaisala RS41/AUTOSONDE (Finland)                            "
          ],
          [
           "Vaisala RS41/AUTOSONDE (Finland)                            "
          ],
          [
           "Vaisala RS41/AUTOSONDE (Finland)                            "
          ],
          [
           "Vaisala RS41/AUTOSONDE (Finland)                            "
          ],
          [
           "Vaisala RS41/AUTOSONDE (Finland)                            "
          ],
          [
           "Vaisala RS41/AUTOSONDE (Finland)                            "
          ],
          [
           "Vaisala RS41/AUTOSONDE (Finland)                            "
          ],
          [
           "Vaisala RS41/AUTOSONDE (Finland)                            "
          ],
          [
           "Vaisala RS41/AUTOSONDE (Finland)                            "
          ],
          [
           "Vaisala RS41/AUTOSONDE (Finland)                            "
          ],
          [
           "Vaisala RS41/AUTOSONDE (Finland)                            "
          ],
          [
           "Vaisala RS41/AUTOSONDE (Finland)                            "
          ],
          [
           "Vaisala RS41/AUTOSONDE (Finland)                            "
          ],
          [
           "Vaisala RS41/AUTOSONDE (Finland)                            "
          ],
          [
           "Vaisala RS41/AUTOSONDE (Finland)                            "
          ],
          [
           "Vaisala RS41/AUTOSONDE (Finland)                            "
          ]
         ],
         "hovertemplate": "<b>%{hovertext}</b><br><br>sensor_id=124.<br>date_time=%{x}<br>values=%{y}<br>comment=%{customdata[0]}<extra></extra>",
         "hovertext": [
          "124.",
          "124.",
          "124.",
          "124.",
          "124.",
          "124.",
          "124.",
          "124.",
          "124.",
          "124.",
          "124.",
          "124.",
          "124.",
          "124.",
          "124.",
          "124."
         ],
         "legendgroup": "124.",
         "marker": {
          "color": "#FF6692",
          "line": {
           "color": "DarkSlateGrey",
           "width": 2
          },
          "size": 14,
          "symbol": "circle"
         },
         "mode": "markers",
         "name": "124.",
         "orientation": "v",
         "showlegend": true,
         "type": "scatter",
         "visible": true,
         "x": [
          "2017-10-17T23:01:04",
          "2017-10-20T23:01:04",
          "2017-11-01T23:01:04",
          "2018-03-08T23:01:04",
          "2018-05-28T18:19:06",
          "2018-09-27T23:01:04",
          "2019-07-28T23:01:04",
          "2019-09-06T11:01:04",
          "2020-09-01T23:01:07",
          "2020-09-05T23:01:05",
          "2020-09-07T23:01:06",
          "2020-09-08T23:01:05",
          "2020-09-09T23:01:05",
          "2020-09-22T11:01:07",
          "2021-08-27T23:01:05",
          "2021-10-28T11:01:05"
         ],
         "xaxis": "x",
         "y": [
          6,
          6,
          6,
          6,
          6,
          6,
          6,
          6,
          6,
          6,
          6,
          6,
          6,
          6,
          6,
          6
         ],
         "yaxis": "y"
        },
        {
         "customdata": [
          [
           "Mesural FMO 1945A (France)               "
          ],
          [
           "Mesural FMO 1945A (France)               "
          ],
          [
           "Mesural FMO 1945A (France)               "
          ],
          [
           "Mesural FMO 1945A (France)               "
          ],
          [
           "Mesural FMO 1945A (France)               "
          ],
          [
           "Mesural FMO 1945A (France)               "
          ],
          [
           "Mesural FMO 1945A (France)               "
          ],
          [
           "Mesural FMO 1945A (France)               "
          ],
          [
           "Mesural FMO 1945A (France)               "
          ],
          [
           "Mesural FMO 1945A (France)               "
          ],
          [
           "Mesural FMO 1945A (France)               "
          ],
          [
           "Mesural FMO 1945A (France)               "
          ],
          [
           "Mesural FMO 1945A (France)               "
          ],
          [
           "Mesural FMO 1945A (France)               "
          ],
          [
           "Mesural FMO 1945A (France)               "
          ],
          [
           "Mesural FMO 1945A (France)               "
          ],
          [
           "Mesural FMO 1945A (France)               "
          ],
          [
           "Mesural FMO 1945A (France)               "
          ],
          [
           "Mesural FMO 1945A (France)               "
          ],
          [
           "Mesural FMO 1945A (France)               "
          ],
          [
           "Mesural FMO 1945A (France)               "
          ],
          [
           "Mesural FMO 1945A (France)               "
          ],
          [
           "Mesural FMO 1945A (France)               "
          ],
          [
           "Mesural FMO 1945A (France)               "
          ],
          [
           "Mesural FMO 1945A (France)               "
          ],
          [
           "Mesural FMO 1945A (France)               "
          ]
         ],
         "hovertemplate": "<b>%{hovertext}</b><br><br>sensor_id=24<br>date_time=%{x}<br>values=%{y}<br>comment=%{customdata[0]}<extra></extra>",
         "hovertext": [
          "24",
          "24",
          "24",
          "24",
          "24",
          "24",
          "24",
          "24",
          "24",
          "24",
          "24",
          "24",
          "24",
          "24",
          "24",
          "24",
          "24",
          "24",
          "24",
          "24",
          "24",
          "24",
          "24",
          "24",
          "24",
          "24"
         ],
         "legendgroup": "24",
         "marker": {
          "color": "#B6E880",
          "line": {
           "color": "DarkSlateGrey",
           "width": 2
          },
          "size": 14,
          "symbol": "circle"
         },
         "mode": "markers",
         "name": "24",
         "orientation": "v",
         "showlegend": true,
         "type": "scatter",
         "visible": true,
         "x": [
          "2018-03-08T12:00:00",
          "2018-05-28T00:00:00",
          "2019-04-16T18:00:00",
          "2019-05-15T00:00:00",
          "2019-09-06T00:00:00",
          "2020-09-01T12:00:00",
          "2020-09-05T12:00:00",
          "2020-09-07T12:00:00",
          "2020-09-08T12:00:00",
          "2020-09-09T12:00:00",
          "2020-09-22T00:00:00",
          "2021-08-27T11:01:00",
          "2021-10-28T00:00:00",
          "2018-03-08T12:00:00",
          "2018-05-28T00:00:00",
          "2019-04-16T18:00:00",
          "2019-05-15T00:00:00",
          "2019-09-06T00:00:00",
          "2020-09-01T12:00:00",
          "2020-09-05T12:00:00",
          "2020-09-07T12:00:00",
          "2020-09-08T12:00:00",
          "2020-09-09T12:00:00",
          "2020-09-22T00:00:00",
          "2021-08-27T11:01:00",
          "2021-10-28T00:00:00"
         ],
         "xaxis": "x",
         "y": [
          7,
          7,
          7,
          7,
          7,
          7,
          7,
          7,
          7,
          7,
          7,
          7,
          7,
          7,
          7,
          7,
          7,
          7,
          7,
          7,
          7,
          7,
          7,
          7,
          7,
          7
         ],
         "yaxis": "y"
        },
        {
         "customdata": [
          [
           "VIZ type A pressure-commutated (United States)             "
          ]
         ],
         "hovertemplate": "<b>%{hovertext}</b><br><br>sensor_id=10<br>date_time=%{x}<br>values=%{y}<br>comment=%{customdata[0]}<extra></extra>",
         "hovertext": [
          "10"
         ],
         "legendgroup": "10",
         "marker": {
          "color": "#FF97FF",
          "line": {
           "color": "DarkSlateGrey",
           "width": 2
          },
          "size": 14,
          "symbol": "circle"
         },
         "mode": "markers",
         "name": "10",
         "orientation": "v",
         "showlegend": true,
         "type": "scatter",
         "x": [
          "1994-11-03T00:00:00"
         ],
         "xaxis": "x",
         "y": [
          8
         ],
         "yaxis": "y"
        },
        {
         "customdata": [
          [
           "Vaisala RS80 (Finland)                "
          ],
          [
           "Vaisala RS80 (Finland)                "
          ],
          [
           "Vaisala RS80 (Finland)                "
          ],
          [
           "Vaisala RS80 (Finland)                "
          ],
          [
           "Vaisala RS80 (Finland)                "
          ],
          [
           "Vaisala RS80 (Finland)                "
          ],
          [
           "Vaisala RS80 (Finland)                "
          ],
          [
           "Vaisala RS80 (Finland)                "
          ],
          [
           "Vaisala RS80 (Finland)                "
          ],
          [
           "Vaisala RS80 (Finland)                "
          ],
          [
           "Vaisala RS80 (Finland)                "
          ],
          [
           "Vaisala RS80 (Finland)                "
          ],
          [
           "Vaisala RS80 (Finland)                "
          ],
          [
           "Vaisala RS80 (Finland)                "
          ],
          [
           "Vaisala RS80 (Finland)                "
          ],
          [
           "Vaisala RS80 (Finland)                "
          ],
          [
           "Vaisala RS80 (Finland)                "
          ],
          [
           "Vaisala RS80 (Finland)                "
          ],
          [
           "Vaisala RS80 (Finland)                "
          ],
          [
           "Vaisala RS80 (Finland)                "
          ],
          [
           "Vaisala RS80 (Finland)                "
          ],
          [
           "Vaisala RS80 (Finland)                "
          ],
          [
           "Vaisala RS80 (Finland)                "
          ],
          [
           "Vaisala RS80 (Finland)                "
          ],
          [
           "Vaisala RS80 (Finland)                "
          ],
          [
           "Vaisala RS80 (Finland)                "
          ],
          [
           "Vaisala RS80 (Finland)                "
          ],
          [
           "Vaisala RS80 (Finland)                "
          ],
          [
           "Vaisala RS80 (Finland)                "
          ],
          [
           "Vaisala RS80 (Finland)                "
          ],
          [
           "Vaisala RS80 (Finland)                "
          ],
          [
           "Vaisala RS80 (Finland)                "
          ],
          [
           "Vaisala RS80 (Finland)                "
          ],
          [
           "Vaisala RS80 (Finland)                "
          ],
          [
           "Vaisala RS80 (Finland)                "
          ],
          [
           "Vaisala RS80 (Finland)                "
          ],
          [
           "Vaisala RS80 (Finland)                "
          ],
          [
           "Vaisala RS80 (Finland)                "
          ],
          [
           "Vaisala RS80 (Finland)                "
          ],
          [
           "Vaisala RS80 (Finland)                "
          ],
          [
           "Vaisala RS80 (Finland)                "
          ],
          [
           "Vaisala RS80 (Finland)                "
          ],
          [
           "Vaisala RS80 (Finland)                "
          ],
          [
           "Vaisala RS80 (Finland)                "
          ],
          [
           "Vaisala RS80 (Finland)                "
          ],
          [
           "Vaisala RS80 (Finland)                "
          ],
          [
           "Vaisala RS80 (Finland)                "
          ],
          [
           "Vaisala RS80 (Finland)                "
          ],
          [
           "Vaisala RS80 (Finland)                "
          ],
          [
           "Vaisala RS80 (Finland)                "
          ],
          [
           "Vaisala RS80 (Finland)                "
          ],
          [
           "Vaisala RS80 (Finland)                "
          ],
          [
           "Vaisala RS80 (Finland)                "
          ],
          [
           "Vaisala RS80 (Finland)                "
          ],
          [
           "Vaisala RS80 (Finland)                "
          ],
          [
           "Vaisala RS80 (Finland)                "
          ],
          [
           "Vaisala RS80 (Finland)                "
          ],
          [
           "Vaisala RS80 (Finland)                "
          ],
          [
           "Vaisala RS80 (Finland)                "
          ],
          [
           "Vaisala RS80 (Finland)                "
          ],
          [
           "Vaisala RS80 (Finland)                "
          ],
          [
           "Vaisala RS80 (Finland)                "
          ],
          [
           "Vaisala RS80 (Finland)                "
          ],
          [
           "Vaisala RS80 (Finland)                "
          ],
          [
           "Vaisala RS80 (Finland)                "
          ],
          [
           "Vaisala RS80 (Finland)                "
          ],
          [
           "Vaisala RS80 (Finland)                "
          ],
          [
           "Vaisala RS80 (Finland)                "
          ],
          [
           "Vaisala RS80 (Finland)                "
          ],
          [
           "Vaisala RS80 (Finland)                "
          ],
          [
           "Vaisala RS80 (Finland)                "
          ],
          [
           "Vaisala RS80 (Finland)                "
          ],
          [
           "Vaisala RS80 (Finland)                "
          ],
          [
           "Vaisala RS80 (Finland)                "
          ],
          [
           "Vaisala RS80 (Finland)                "
          ],
          [
           "Vaisala RS80 (Finland)                "
          ],
          [
           "Vaisala RS80 (Finland)                "
          ],
          [
           "Vaisala RS80 (Finland)                "
          ],
          [
           "Vaisala RS80 (Finland)                "
          ],
          [
           "Vaisala RS80 (Finland)                "
          ],
          [
           "Vaisala RS80 (Finland)                "
          ],
          [
           "Vaisala RS80 (Finland)                "
          ],
          [
           "Vaisala RS80 (Finland)                "
          ],
          [
           "Vaisala RS80 (Finland)                "
          ]
         ],
         "hovertemplate": "<b>%{hovertext}</b><br><br>sensor_id=37<br>date_time=%{x}<br>values=%{y}<br>comment=%{customdata[0]}<extra></extra>",
         "hovertext": [
          "37",
          "37",
          "37",
          "37",
          "37",
          "37",
          "37",
          "37",
          "37",
          "37",
          "37",
          "37",
          "37",
          "37",
          "37",
          "37",
          "37",
          "37",
          "37",
          "37",
          "37",
          "37",
          "37",
          "37",
          "37",
          "37",
          "37",
          "37",
          "37",
          "37",
          "37",
          "37",
          "37",
          "37",
          "37",
          "37",
          "37",
          "37",
          "37",
          "37",
          "37",
          "37",
          "37",
          "37",
          "37",
          "37",
          "37",
          "37",
          "37",
          "37",
          "37",
          "37",
          "37",
          "37",
          "37",
          "37",
          "37",
          "37",
          "37",
          "37",
          "37",
          "37",
          "37",
          "37",
          "37",
          "37",
          "37",
          "37",
          "37",
          "37",
          "37",
          "37",
          "37",
          "37",
          "37",
          "37",
          "37",
          "37",
          "37",
          "37",
          "37",
          "37",
          "37",
          "37"
         ],
         "legendgroup": "37",
         "marker": {
          "color": "#FECB52",
          "line": {
           "color": "DarkSlateGrey",
           "width": 2
          },
          "size": 14,
          "symbol": "circle"
         },
         "mode": "markers",
         "name": "37",
         "orientation": "v",
         "showlegend": true,
         "type": "scatter",
         "x": [
          "1995-11-01T00:00:00",
          "1995-11-05T12:00:00",
          "1995-11-06T12:00:00",
          "1995-11-08T00:00:00",
          "1995-11-11T00:00:00",
          "1995-12-16T00:00:00",
          "1995-12-17T00:00:00",
          "1995-12-31T00:00:00",
          "1996-01-01T00:00:00",
          "1996-01-05T00:00:00",
          "1996-01-09T12:00:00",
          "1996-01-12T00:00:00",
          "1996-01-16T12:00:00",
          "1996-01-18T00:00:00",
          "1996-01-19T12:00:00",
          "1996-01-22T00:00:00",
          "1996-01-24T00:00:00",
          "1996-01-26T12:00:00",
          "1996-01-30T00:00:00",
          "1996-02-01T12:00:00",
          "1996-02-13T00:00:00",
          "1996-02-15T12:00:00",
          "1996-02-23T12:00:00",
          "1996-03-02T12:00:00",
          "1996-03-08T00:00:00",
          "1996-03-19T12:00:00",
          "1996-03-22T12:00:00",
          "1996-03-25T00:00:00",
          "1996-04-02T00:00:00",
          "1996-04-03T00:00:00",
          "1996-04-14T12:00:00",
          "1996-05-04T00:00:00",
          "1996-05-17T12:00:00",
          "1996-05-21T12:00:00",
          "1996-06-02T12:00:00",
          "1996-06-19T00:00:00",
          "1996-07-12T00:00:00",
          "1996-07-15T12:00:00",
          "1996-07-21T00:00:00",
          "1996-07-29T00:00:00",
          "1996-08-03T00:00:00",
          "1996-08-08T00:00:00",
          "1996-08-15T00:00:00",
          "1996-08-16T00:00:00",
          "1996-08-18T12:00:00",
          "1996-08-23T00:00:00",
          "1996-08-26T12:00:00",
          "1996-08-28T00:00:00",
          "1996-08-31T00:00:00",
          "1996-09-01T12:00:00",
          "1996-09-02T12:00:00",
          "1996-09-04T12:00:00",
          "1996-09-09T12:00:00",
          "1996-09-11T12:00:00",
          "1996-09-13T12:00:00",
          "1996-09-14T12:00:00",
          "1996-09-15T12:00:00",
          "1996-09-27T00:00:00",
          "1996-09-29T12:00:00",
          "1996-09-30T12:00:00",
          "1996-10-01T12:00:00",
          "1996-10-17T12:00:00",
          "1996-10-19T00:00:00",
          "1996-10-20T00:00:00",
          "1996-11-10T00:00:00",
          "1996-11-12T00:00:00",
          "1996-11-16T12:00:00",
          "1996-12-03T00:00:00",
          "1996-12-04T12:00:00",
          "1996-12-06T00:00:00",
          "1996-12-15T00:00:00",
          "1996-12-16T00:00:00",
          "1997-01-17T00:00:00",
          "1997-01-18T00:00:00",
          "1997-02-11T00:00:00",
          "1997-02-12T00:00:00",
          "1997-02-13T00:00:00",
          "1997-02-14T12:00:00",
          "1997-02-16T00:00:00",
          "1997-02-17T00:00:00",
          "1997-04-05T00:00:00",
          "1997-04-08T00:00:00",
          "1997-04-29T12:00:00",
          "1997-05-22T00:00:00"
         ],
         "xaxis": "x",
         "y": [
          9,
          9,
          9,
          9,
          9,
          9,
          9,
          9,
          9,
          9,
          9,
          9,
          9,
          9,
          9,
          9,
          9,
          9,
          9,
          9,
          9,
          9,
          9,
          9,
          9,
          9,
          9,
          9,
          9,
          9,
          9,
          9,
          9,
          9,
          9,
          9,
          9,
          9,
          9,
          9,
          9,
          9,
          9,
          9,
          9,
          9,
          9,
          9,
          9,
          9,
          9,
          9,
          9,
          9,
          9,
          9,
          9,
          9,
          9,
          9,
          9,
          9,
          9,
          9,
          9,
          9,
          9,
          9,
          9,
          9,
          9,
          9,
          9,
          9,
          9,
          9,
          9,
          9,
          9,
          9,
          9,
          9,
          9,
          9
         ],
         "yaxis": "y"
        },
        {
         "customdata": [
          [
           "Vaisala RS80-57H                 "
          ],
          [
           "Vaisala RS80-57H                 "
          ],
          [
           "Vaisala RS80-57H                 "
          ],
          [
           "Vaisala RS80-57H                 "
          ],
          [
           "Vaisala RS80-57H                 "
          ],
          [
           "Vaisala RS80-57H                 "
          ],
          [
           "Vaisala RS80-57H                 "
          ],
          [
           "Vaisala RS80-57H                 "
          ],
          [
           "Vaisala RS80-57H                 "
          ],
          [
           "Vaisala RS80-57H                 "
          ],
          [
           "Vaisala RS80-57H                 "
          ],
          [
           "Vaisala RS80-57H                 "
          ],
          [
           "Vaisala RS80-57H                 "
          ],
          [
           "Vaisala RS80-57H                 "
          ],
          [
           "Vaisala RS80-57H                 "
          ],
          [
           "Vaisala RS80-57H                 "
          ],
          [
           "Vaisala RS80-57H                 "
          ],
          [
           "Vaisala RS80-57H                 "
          ],
          [
           "Vaisala RS80-57H                 "
          ],
          [
           "Vaisala RS80-57H                 "
          ],
          [
           "Vaisala RS80-57H                 "
          ],
          [
           "Vaisala RS80-57H                 "
          ],
          [
           "Vaisala RS80-57H                 "
          ],
          [
           "Vaisala RS80-57H                 "
          ],
          [
           "Vaisala RS80-57H                 "
          ],
          [
           "Vaisala RS80-57H                 "
          ],
          [
           "Vaisala RS80-57H                 "
          ],
          [
           "Vaisala RS80-57H                 "
          ],
          [
           "Vaisala RS80-57H                 "
          ],
          [
           "Vaisala RS80-57H                 "
          ],
          [
           "Vaisala RS80-57H                 "
          ],
          [
           "Vaisala RS80-57H                 "
          ],
          [
           "Vaisala RS80-57H                 "
          ],
          [
           "Vaisala RS80-57H                 "
          ],
          [
           "Vaisala RS80-57H                 "
          ],
          [
           "Vaisala RS80-57H                 "
          ],
          [
           "Vaisala RS80-57H                 "
          ],
          [
           "Vaisala RS80-57H                 "
          ],
          [
           "Vaisala RS80-57H                 "
          ],
          [
           "Vaisala RS80-57H                 "
          ],
          [
           "Vaisala RS80-57H                 "
          ],
          [
           "Vaisala RS80-57H                 "
          ],
          [
           "Vaisala RS80-57H                 "
          ],
          [
           "Vaisala RS80-57H                 "
          ],
          [
           "Vaisala RS80-57H                 "
          ],
          [
           "Vaisala RS80-57H                 "
          ],
          [
           "Vaisala RS80-57H                 "
          ],
          [
           "Vaisala RS80-57H                 "
          ],
          [
           "Vaisala RS80-57H                 "
          ],
          [
           "Vaisala RS80-57H                 "
          ],
          [
           "Vaisala RS80-57H                 "
          ],
          [
           "Vaisala RS80-57H                 "
          ],
          [
           "Vaisala RS80-57H                 "
          ],
          [
           "Vaisala RS80-57H                 "
          ],
          [
           "Vaisala RS80-57H                 "
          ],
          [
           "Vaisala RS80-57H                 "
          ],
          [
           "Vaisala RS80-57H                 "
          ],
          [
           "Vaisala RS80-57H                 "
          ],
          [
           "Vaisala RS80-57H                 "
          ],
          [
           "Vaisala RS80-57H                 "
          ],
          [
           "Vaisala RS80-57H                 "
          ],
          [
           "Vaisala RS80-57H                 "
          ],
          [
           "Vaisala RS80-57H                 "
          ],
          [
           "Vaisala RS80-57H                 "
          ],
          [
           "Vaisala RS80-57H                 "
          ],
          [
           "Vaisala RS80-57H                 "
          ],
          [
           "Vaisala RS80-57H                 "
          ],
          [
           "Vaisala RS80-57H                 "
          ],
          [
           "Vaisala RS80-57H                 "
          ],
          [
           "Vaisala RS80-57H                 "
          ],
          [
           "Vaisala RS80-57H                 "
          ],
          [
           "Vaisala RS80-57H                 "
          ],
          [
           "Vaisala RS80-57H                 "
          ],
          [
           "Vaisala RS80-57H                 "
          ],
          [
           "Vaisala RS80-57H                 "
          ],
          [
           "Vaisala RS80-57H                 "
          ],
          [
           "Vaisala RS80-57H                 "
          ],
          [
           "Vaisala RS80-57H                 "
          ],
          [
           "Vaisala RS80-57H                 "
          ],
          [
           "Vaisala RS80-57H                 "
          ],
          [
           "Vaisala RS80-57H                 "
          ],
          [
           "Vaisala RS80-57H                 "
          ],
          [
           "Vaisala RS80-57H                 "
          ],
          [
           "Vaisala RS80-57H                 "
          ],
          [
           "Vaisala RS80-57H                 "
          ],
          [
           "Vaisala RS80-57H                 "
          ],
          [
           "Vaisala RS80-57H                 "
          ],
          [
           "Vaisala RS80-57H                 "
          ],
          [
           "Vaisala RS80-57H                 "
          ],
          [
           "Vaisala RS80-57H                 "
          ],
          [
           "Vaisala RS80-57H                 "
          ],
          [
           "Vaisala RS80-57H                 "
          ],
          [
           "Vaisala RS80-57H                 "
          ],
          [
           "Vaisala RS80-57H                 "
          ],
          [
           "Vaisala RS80-57H                 "
          ],
          [
           "Vaisala RS80-57H                 "
          ],
          [
           "Vaisala RS80-57H                 "
          ],
          [
           "Vaisala RS80-57H                 "
          ],
          [
           "Vaisala RS80-57H                 "
          ],
          [
           "Vaisala RS80-57H                 "
          ],
          [
           "Vaisala RS80-57H                 "
          ],
          [
           "Vaisala RS80-57H                 "
          ],
          [
           "Vaisala RS80-57H                 "
          ],
          [
           "Vaisala RS80-57H                 "
          ],
          [
           "Vaisala RS80-57H                 "
          ],
          [
           "Vaisala RS80-57H                 "
          ],
          [
           "Vaisala RS80-57H                 "
          ],
          [
           "Vaisala RS80-57H                 "
          ],
          [
           "Vaisala RS80-57H                 "
          ],
          [
           "Vaisala RS80-57H                 "
          ],
          [
           "Vaisala RS80-57H                 "
          ],
          [
           "Vaisala RS80-57H                 "
          ],
          [
           "Vaisala RS80-57H                 "
          ],
          [
           "Vaisala RS80-57H                 "
          ],
          [
           "Vaisala RS80-57H                 "
          ],
          [
           "Vaisala RS80-57H                 "
          ],
          [
           "Vaisala RS80-57H                 "
          ],
          [
           "Vaisala RS80-57H                 "
          ],
          [
           "Vaisala RS80-57H                 "
          ],
          [
           "Vaisala RS80-57H                 "
          ],
          [
           "Vaisala RS80-57H                 "
          ],
          [
           "Vaisala RS80-57H                 "
          ],
          [
           "Vaisala RS80-57H                 "
          ],
          [
           "Vaisala RS80-57H                 "
          ],
          [
           "Vaisala RS80-57H                 "
          ],
          [
           "Vaisala RS80-57H                 "
          ],
          [
           "Vaisala RS80-57H                 "
          ],
          [
           "Vaisala RS80-57H                 "
          ],
          [
           "Vaisala RS80-57H                 "
          ],
          [
           "Vaisala RS80-57H                 "
          ],
          [
           "Vaisala RS80-57H                 "
          ],
          [
           "Vaisala RS80-57H                 "
          ],
          [
           "Vaisala RS80-57H                 "
          ],
          [
           "Vaisala RS80-57H                 "
          ],
          [
           "Vaisala RS80-57H                 "
          ],
          [
           "Vaisala RS80-57H                 "
          ],
          [
           "Vaisala RS80-57H                 "
          ],
          [
           "Vaisala RS80-57H                 "
          ],
          [
           "Vaisala RS80-57H                 "
          ],
          [
           "Vaisala RS80-57H                 "
          ],
          [
           "Vaisala RS80-57H                 "
          ],
          [
           "Vaisala RS80-57H                 "
          ],
          [
           "Vaisala RS80-57H                 "
          ],
          [
           "Vaisala RS80-57H                 "
          ],
          [
           "Vaisala RS80-57H                 "
          ],
          [
           "Vaisala RS80-57H                 "
          ],
          [
           "Vaisala RS80-57H                 "
          ],
          [
           "Vaisala RS80-57H                 "
          ],
          [
           "Vaisala RS80-57H                 "
          ],
          [
           "Vaisala RS80-57H                 "
          ],
          [
           "Vaisala RS80-57H                 "
          ],
          [
           "Vaisala RS80-57H                 "
          ],
          [
           "Vaisala RS80-57H                 "
          ],
          [
           "Vaisala RS80-57H                 "
          ],
          [
           "Vaisala RS80-57H                 "
          ],
          [
           "Vaisala RS80-57H                 "
          ],
          [
           "Vaisala RS80-57H                 "
          ],
          [
           "Vaisala RS80-57H                 "
          ],
          [
           "Vaisala RS80-57H                 "
          ],
          [
           "Vaisala RS80-57H                 "
          ],
          [
           "Vaisala RS80-57H                 "
          ],
          [
           "Vaisala RS80-57H                 "
          ],
          [
           "Vaisala RS80-57H                 "
          ],
          [
           "Vaisala RS80-57H                 "
          ],
          [
           "Vaisala RS80-57H                 "
          ],
          [
           "Vaisala RS80-57H                 "
          ],
          [
           "Vaisala RS80-57H                 "
          ],
          [
           "Vaisala RS80-57H                 "
          ],
          [
           "Vaisala RS80-57H                 "
          ],
          [
           "Vaisala RS80-57H                 "
          ],
          [
           "Vaisala RS80-57H                 "
          ],
          [
           "Vaisala RS80-57H                 "
          ],
          [
           "Vaisala RS80-57H                 "
          ],
          [
           "Vaisala RS80-57H                 "
          ],
          [
           "Vaisala RS80-57H                 "
          ],
          [
           "Vaisala RS80-57H                 "
          ],
          [
           "Vaisala RS80-57H                 "
          ],
          [
           "Vaisala RS80-57H                 "
          ],
          [
           "Vaisala RS80-57H                 "
          ],
          [
           "Vaisala RS80-57H                 "
          ],
          [
           "Vaisala RS80-57H                 "
          ],
          [
           "Vaisala RS80-57H                 "
          ],
          [
           "Vaisala RS80-57H                 "
          ],
          [
           "Vaisala RS80-57H                 "
          ],
          [
           "Vaisala RS80-57H                 "
          ],
          [
           "Vaisala RS80-57H                 "
          ],
          [
           "Vaisala RS80-57H                 "
          ],
          [
           "Vaisala RS80-57H                 "
          ],
          [
           "Vaisala RS80-57H                 "
          ],
          [
           "Vaisala RS80-57H                 "
          ],
          [
           "Vaisala RS80-57H                 "
          ],
          [
           "Vaisala RS80-57H                 "
          ],
          [
           "Vaisala RS80-57H                 "
          ],
          [
           "Vaisala RS80-57H                 "
          ],
          [
           "Vaisala RS80-57H                 "
          ],
          [
           "Vaisala RS80-57H                 "
          ],
          [
           "Vaisala RS80-57H                 "
          ],
          [
           "Vaisala RS80-57H                 "
          ],
          [
           "Vaisala RS80-57H                 "
          ],
          [
           "Vaisala RS80-57H                 "
          ],
          [
           "Vaisala RS80-57H                 "
          ],
          [
           "Vaisala RS80-57H                 "
          ],
          [
           "Vaisala RS80-57H                 "
          ],
          [
           "Vaisala RS80-57H                 "
          ],
          [
           "Vaisala RS80-57H                 "
          ],
          [
           "Vaisala RS80-57H                 "
          ],
          [
           "Vaisala RS80-57H                 "
          ],
          [
           "Vaisala RS80-57H                 "
          ],
          [
           "Vaisala RS80-57H                 "
          ],
          [
           "Vaisala RS80-57H                 "
          ],
          [
           "Vaisala RS80-57H                 "
          ]
         ],
         "hovertemplate": "<b>%{hovertext}</b><br><br>sensor_id=52<br>date_time=%{x}<br>values=%{y}<br>comment=%{customdata[0]}<extra></extra>",
         "hovertext": [
          "52",
          "52",
          "52",
          "52",
          "52",
          "52",
          "52",
          "52",
          "52",
          "52",
          "52",
          "52",
          "52",
          "52",
          "52",
          "52",
          "52",
          "52",
          "52",
          "52",
          "52",
          "52",
          "52",
          "52",
          "52",
          "52",
          "52",
          "52",
          "52",
          "52",
          "52",
          "52",
          "52",
          "52",
          "52",
          "52",
          "52",
          "52",
          "52",
          "52",
          "52",
          "52",
          "52",
          "52",
          "52",
          "52",
          "52",
          "52",
          "52",
          "52",
          "52",
          "52",
          "52",
          "52",
          "52",
          "52",
          "52",
          "52",
          "52",
          "52",
          "52",
          "52",
          "52",
          "52",
          "52",
          "52",
          "52",
          "52",
          "52",
          "52",
          "52",
          "52",
          "52",
          "52",
          "52",
          "52",
          "52",
          "52",
          "52",
          "52",
          "52",
          "52",
          "52",
          "52",
          "52",
          "52",
          "52",
          "52",
          "52",
          "52",
          "52",
          "52",
          "52",
          "52",
          "52",
          "52",
          "52",
          "52",
          "52",
          "52",
          "52",
          "52",
          "52",
          "52",
          "52",
          "52",
          "52",
          "52",
          "52",
          "52",
          "52",
          "52",
          "52",
          "52",
          "52",
          "52",
          "52",
          "52",
          "52",
          "52",
          "52",
          "52",
          "52",
          "52",
          "52",
          "52",
          "52",
          "52",
          "52",
          "52",
          "52",
          "52",
          "52",
          "52",
          "52",
          "52",
          "52",
          "52",
          "52",
          "52",
          "52",
          "52",
          "52",
          "52",
          "52",
          "52",
          "52",
          "52",
          "52",
          "52",
          "52",
          "52",
          "52",
          "52",
          "52",
          "52",
          "52",
          "52",
          "52",
          "52",
          "52",
          "52",
          "52",
          "52",
          "52",
          "52",
          "52",
          "52",
          "52",
          "52",
          "52",
          "52",
          "52",
          "52",
          "52",
          "52",
          "52",
          "52",
          "52",
          "52",
          "52",
          "52",
          "52",
          "52",
          "52",
          "52",
          "52",
          "52",
          "52",
          "52",
          "52",
          "52",
          "52",
          "52",
          "52",
          "52",
          "52",
          "52",
          "52",
          "52",
          "52",
          "52",
          "52",
          "52",
          "52",
          "52",
          "52",
          "52",
          "52",
          "52",
          "52"
         ],
         "legendgroup": "52",
         "marker": {
          "color": "#636efa",
          "line": {
           "color": "DarkSlateGrey",
           "width": 2
          },
          "size": 14,
          "symbol": "circle"
         },
         "mode": "markers",
         "name": "52",
         "orientation": "v",
         "showlegend": true,
         "type": "scatter",
         "x": [
          "1996-09-29T00:00:00",
          "1996-09-30T00:00:00",
          "1996-10-17T00:00:00",
          "1996-10-18T00:00:00",
          "1996-11-01T12:00:00",
          "1996-11-09T00:00:00",
          "1996-11-10T12:00:00",
          "1996-11-11T12:00:00",
          "1996-11-12T12:00:00",
          "1996-11-17T00:00:00",
          "1996-11-20T12:00:00",
          "1996-12-04T00:00:00",
          "1996-12-05T00:00:00",
          "1996-12-06T12:00:00",
          "1996-12-15T12:00:00",
          "1996-12-16T12:00:00",
          "1996-12-22T00:00:00",
          "1997-01-04T12:00:00",
          "1997-01-06T12:00:00",
          "1997-01-17T12:00:00",
          "1997-01-18T12:00:00",
          "1997-01-24T00:00:00",
          "1997-01-25T12:00:00",
          "1997-02-11T12:00:00",
          "1997-02-12T12:00:00",
          "1997-02-13T12:00:00",
          "1997-02-15T00:00:00",
          "1997-02-16T12:00:00",
          "1997-02-18T00:00:00",
          "1997-03-01T12:00:00",
          "1997-03-07T12:00:00",
          "1997-04-05T12:00:00",
          "1997-04-08T12:00:00",
          "1997-04-09T12:00:00",
          "1997-04-21T12:00:00",
          "1997-04-23T12:00:00",
          "1997-04-30T00:00:00",
          "1997-05-07T00:00:00",
          "1997-05-22T12:00:00",
          "1997-05-28T00:00:00",
          "1997-05-29T12:00:00",
          "1997-06-03T00:00:00",
          "1997-06-10T12:00:00",
          "1997-06-13T11:00:00",
          "1997-06-22T00:00:00",
          "1997-07-02T00:00:00",
          "1997-07-14T12:00:00",
          "1997-07-17T00:00:00",
          "1997-08-05T12:00:00",
          "1997-08-10T00:00:00",
          "1997-08-22T00:00:00",
          "1997-09-09T00:00:00",
          "1997-10-03T00:00:00",
          "1997-10-06T12:00:00",
          "1997-10-29T12:00:00",
          "1997-11-07T00:00:00",
          "1997-11-09T12:00:00",
          "1997-11-20T12:00:00",
          "1997-11-29T00:00:00",
          "1997-12-10T12:00:00",
          "1997-12-14T12:00:00",
          "1997-12-21T00:00:00",
          "1998-01-07T00:00:00",
          "1998-01-08T00:00:00",
          "1998-01-19T12:00:00",
          "1998-01-24T00:00:00",
          "1998-03-16T12:00:00",
          "1998-03-27T00:00:00",
          "1998-04-24T00:00:00",
          "1998-05-03T00:00:00",
          "1998-05-12T12:00:00",
          "1998-05-21T00:00:00",
          "1998-05-28T00:00:00",
          "1998-05-29T00:00:00",
          "1998-06-02T00:00:00",
          "1998-06-04T00:00:00",
          "1998-06-19T00:00:00",
          "1998-06-21T00:00:00",
          "1998-06-27T12:00:00",
          "1998-06-30T12:00:00",
          "1998-07-02T12:00:00",
          "1998-07-05T00:00:00",
          "1998-07-19T00:00:00",
          "1998-07-30T12:00:00",
          "1998-08-01T12:00:00",
          "1998-08-12T12:00:00",
          "1998-08-30T12:00:00",
          "1998-09-12T12:00:00",
          "1998-09-17T00:00:00",
          "1998-09-21T12:00:00",
          "1998-10-05T12:00:00",
          "1998-10-19T00:00:00",
          "1998-10-23T00:00:00",
          "1998-11-11T00:00:00",
          "1998-11-20T12:00:00",
          "1998-11-27T00:00:00",
          "1998-12-18T00:00:00",
          "1998-12-23T12:00:00",
          "1999-01-10T00:00:00",
          "1999-01-26T00:00:00",
          "1999-01-28T12:00:00",
          "1999-02-04T00:00:00",
          "1999-02-18T12:00:00",
          "1999-03-07T12:00:00",
          "1999-03-14T00:00:00",
          "1999-03-15T00:00:00",
          "1999-03-28T00:00:00",
          "1999-03-29T12:00:00",
          "1999-04-05T00:00:00",
          "1999-06-01T12:00:00",
          "1999-06-16T12:00:00",
          "1999-06-20T00:00:00",
          "1999-06-21T12:00:00",
          "1999-06-23T12:00:00",
          "1999-06-24T12:00:00",
          "1999-07-03T00:00:00",
          "1999-07-26T00:00:00",
          "1999-07-28T12:00:00",
          "1999-08-06T12:00:00",
          "1999-08-07T12:00:00",
          "1999-08-13T00:00:00",
          "1999-08-31T12:00:00",
          "1999-10-04T12:00:00",
          "1999-10-26T00:00:00",
          "2000-02-10T00:00:00",
          "2000-02-13T00:00:00",
          "2000-03-15T12:00:00",
          "2000-03-17T12:00:00",
          "2000-03-29T00:00:00",
          "2000-05-03T00:00:00",
          "2000-05-04T12:00:00",
          "2000-07-29T12:00:00",
          "2000-08-05T03:00:00",
          "2000-08-05T12:00:00",
          "2000-08-08T12:00:00",
          "2000-08-11T00:00:00",
          "2000-11-08T00:00:00",
          "2001-01-09T12:00:00",
          "2001-01-19T12:00:00",
          "2001-02-22T00:00:00",
          "2001-03-07T12:00:00",
          "2001-04-19T12:00:00",
          "2001-04-30T12:00:00",
          "2001-05-16T12:00:00",
          "2001-05-26T00:00:00",
          "2001-06-12T12:00:00",
          "2001-06-29T12:00:00",
          "2001-07-11T12:00:00",
          "2001-07-14T12:00:00",
          "2001-07-15T12:00:00",
          "2001-08-06T00:00:00",
          "2001-08-07T12:00:00",
          "2001-10-20T12:00:00",
          "2001-11-05T12:00:00",
          "2002-02-28T12:00:00",
          "2002-03-15T12:00:00",
          "2002-03-20T12:00:00",
          "2002-05-03T12:00:00",
          "2002-07-25T12:00:00",
          "2002-08-02T00:00:00",
          "2002-09-06T00:00:00",
          "2002-09-24T12:00:00",
          "2002-10-10T12:00:00",
          "2003-03-27T12:00:00",
          "2003-04-28T12:00:00",
          "2003-05-02T00:00:00",
          "2003-05-14T00:00:00",
          "2003-05-30T12:00:00",
          "2003-07-31T12:00:00",
          "2003-08-31T12:00:00",
          "2003-10-02T12:00:00",
          "2003-10-30T00:00:00",
          "2003-11-07T00:00:00",
          "2004-01-04T00:00:00",
          "2004-03-03T12:00:00",
          "2004-03-20T12:00:00",
          "2004-03-27T12:00:00",
          "2004-04-07T00:00:00",
          "2004-05-21T12:00:00",
          "2004-06-09T00:00:00",
          "2004-06-30T12:00:00",
          "2004-07-12T00:00:00",
          "2004-07-22T12:00:00",
          "2004-10-05T00:00:00",
          "2004-10-10T12:00:00",
          "2004-10-23T12:00:00",
          "2005-01-08T00:00:00",
          "2005-03-01T00:00:00",
          "2005-05-31T00:00:00",
          "2005-06-21T12:00:00",
          "2005-09-21T00:00:00",
          "2005-10-30T00:00:00",
          "2006-03-16T12:00:00",
          "2006-08-01T12:00:00",
          "2006-08-04T12:00:00",
          "2007-10-21T00:00:00",
          "2008-02-20T12:00:00",
          "2008-05-16T00:00:00",
          "2008-05-17T12:00:00",
          "2008-05-31T12:00:00",
          "2008-09-21T00:00:00",
          "2008-09-28T00:00:00",
          "2009-01-21T00:00:00",
          "2009-02-15T00:00:00",
          "2009-05-13T12:00:00",
          "2009-07-02T00:00:00",
          "2009-11-06T12:00:00",
          "2009-11-17T00:00:00",
          "2009-11-17T12:00:00",
          "2009-11-18T00:00:00",
          "2009-11-30T00:00:00"
         ],
         "xaxis": "x",
         "y": [
          10,
          10,
          10,
          10,
          10,
          10,
          10,
          10,
          10,
          10,
          10,
          10,
          10,
          10,
          10,
          10,
          10,
          10,
          10,
          10,
          10,
          10,
          10,
          10,
          10,
          10,
          10,
          10,
          10,
          10,
          10,
          10,
          10,
          10,
          10,
          10,
          10,
          10,
          10,
          10,
          10,
          10,
          10,
          10,
          10,
          10,
          10,
          10,
          10,
          10,
          10,
          10,
          10,
          10,
          10,
          10,
          10,
          10,
          10,
          10,
          10,
          10,
          10,
          10,
          10,
          10,
          10,
          10,
          10,
          10,
          10,
          10,
          10,
          10,
          10,
          10,
          10,
          10,
          10,
          10,
          10,
          10,
          10,
          10,
          10,
          10,
          10,
          10,
          10,
          10,
          10,
          10,
          10,
          10,
          10,
          10,
          10,
          10,
          10,
          10,
          10,
          10,
          10,
          10,
          10,
          10,
          10,
          10,
          10,
          10,
          10,
          10,
          10,
          10,
          10,
          10,
          10,
          10,
          10,
          10,
          10,
          10,
          10,
          10,
          10,
          10,
          10,
          10,
          10,
          10,
          10,
          10,
          10,
          10,
          10,
          10,
          10,
          10,
          10,
          10,
          10,
          10,
          10,
          10,
          10,
          10,
          10,
          10,
          10,
          10,
          10,
          10,
          10,
          10,
          10,
          10,
          10,
          10,
          10,
          10,
          10,
          10,
          10,
          10,
          10,
          10,
          10,
          10,
          10,
          10,
          10,
          10,
          10,
          10,
          10,
          10,
          10,
          10,
          10,
          10,
          10,
          10,
          10,
          10,
          10,
          10,
          10,
          10,
          10,
          10,
          10,
          10,
          10,
          10,
          10,
          10,
          10,
          10,
          10,
          10,
          10,
          10,
          10,
          10,
          10,
          10,
          10,
          10,
          10,
          10,
          10
         ],
         "yaxis": "y"
        },
        {
         "customdata": [
          [
           "AVK-RF95 (Russian Federation)                "
          ]
         ],
         "hovertemplate": "<b>%{hovertext}</b><br><br>sensor_id=53<br>date_time=%{x}<br>values=%{y}<br>comment=%{customdata[0]}<extra></extra>",
         "hovertext": [
          "53"
         ],
         "legendgroup": "53",
         "marker": {
          "color": "#EF553B",
          "line": {
           "color": "DarkSlateGrey",
           "width": 2
          },
          "size": 14,
          "symbol": "circle"
         },
         "mode": "markers",
         "name": "53",
         "orientation": "v",
         "showlegend": true,
         "type": "scatter",
         "x": [
          "1996-12-21T12:00:00"
         ],
         "xaxis": "x",
         "y": [
          11
         ],
         "yaxis": "y"
        },
        {
         "customdata": [
          [
           "AVK-MRZ (Russian Federation)                "
          ]
         ],
         "hovertemplate": "<b>%{hovertext}</b><br><br>sensor_id=27<br>date_time=%{x}<br>values=%{y}<br>comment=%{customdata[0]}<extra></extra>",
         "hovertext": [
          "27"
         ],
         "legendgroup": "27",
         "marker": {
          "color": "#00cc96",
          "line": {
           "color": "DarkSlateGrey",
           "width": 2
          },
          "size": 14,
          "symbol": "circle"
         },
         "mode": "markers",
         "name": "27",
         "orientation": "v",
         "showlegend": true,
         "type": "scatter",
         "x": [
          "1997-04-09T00:00:00"
         ],
         "xaxis": "x",
         "y": [
          12
         ],
         "yaxis": "y"
        },
        {
         "customdata": [
          [
           "Vaisala RS41/AUTOSONDE (Finland)                            "
          ],
          [
           "Vaisala RS41/AUTOSONDE (Finland)                            "
          ],
          [
           "Vaisala RS41/AUTOSONDE (Finland)                            "
          ],
          [
           "Vaisala RS41/AUTOSONDE (Finland)                            "
          ],
          [
           "Vaisala RS41/AUTOSONDE (Finland)                            "
          ],
          [
           "Vaisala RS41/AUTOSONDE (Finland)                            "
          ],
          [
           "Vaisala RS41/AUTOSONDE (Finland)                            "
          ],
          [
           "Vaisala RS41/AUTOSONDE (Finland)                            "
          ],
          [
           "Vaisala RS41/AUTOSONDE (Finland)                            "
          ],
          [
           "Vaisala RS41/AUTOSONDE (Finland)                            "
          ],
          [
           "Vaisala RS41/AUTOSONDE (Finland)                            "
          ],
          [
           "Vaisala RS41/AUTOSONDE (Finland)                            "
          ],
          [
           "Vaisala RS41/AUTOSONDE (Finland)                            "
          ],
          [
           "Vaisala RS41/AUTOSONDE (Finland)                            "
          ],
          [
           "Vaisala RS41/AUTOSONDE (Finland)                            "
          ],
          [
           "Vaisala RS41/AUTOSONDE (Finland)                            "
          ]
         ],
         "hovertemplate": "<b>%{hovertext}</b><br><br>sensor_id=124<br>date_time=%{x}<br>values=%{y}<br>comment=%{customdata[0]}<extra></extra>",
         "hovertext": [
          "124",
          "124",
          "124",
          "124",
          "124",
          "124",
          "124",
          "124",
          "124",
          "124",
          "124",
          "124",
          "124",
          "124",
          "124",
          "124"
         ],
         "legendgroup": "124",
         "marker": {
          "color": "#ab63fa",
          "line": {
           "color": "DarkSlateGrey",
           "width": 2
          },
          "size": 14,
          "symbol": "circle"
         },
         "mode": "markers",
         "name": "124",
         "orientation": "v",
         "showlegend": true,
         "type": "scatter",
         "x": [
          "2017-10-17T23:01:04",
          "2017-10-20T23:01:04",
          "2017-11-01T23:01:04",
          "2018-03-08T23:01:04",
          "2018-05-28T18:19:06",
          "2018-09-27T23:01:04",
          "2019-07-28T23:01:04",
          "2019-09-06T11:01:04",
          "2020-09-01T23:01:07",
          "2020-09-05T23:01:05",
          "2020-09-07T23:01:06",
          "2020-09-08T23:01:05",
          "2020-09-09T23:01:05",
          "2020-09-22T11:01:07",
          "2021-08-27T23:01:05",
          "2021-10-28T11:01:05"
         ],
         "xaxis": "x",
         "y": [
          13,
          13,
          13,
          13,
          13,
          13,
          13,
          13,
          13,
          13,
          13,
          13,
          13,
          13,
          13,
          13
         ],
         "yaxis": "y"
        },
        {
         "customdata": [
          [
           "CHANGE RH SENSOR , LITHIUM CHLORIDE HYGRISTOR , to , CARBON HYGRISTOR "
          ],
          [
           "CHANGE GROUND EQUIP , AN/GMD-1A , to , AN/GMD-1B "
          ],
          [
           "CHANGE RH SENSOR , CARBON HYGRISTOR , to , NEW CARBON HYGRISTOR "
          ],
          [
           "CHANGE COMPUTER , MINI-COMPUTER , to , MINI-ART 2 SYSTEM "
          ],
          [
           "CHANGE SONDE MODEL , VIZ ACCU-LOK UNSPECIFIED , to , VIZ B 1492-520 NWS 1680 MHZ "
          ],
          [
           "CHANGE COMPUTER , MINI-ART 2 SYSTEM , ? , to , MICRO-ART SYSTEM VERSION UNSPECIFIED "
          ],
          [
           "USING SONDE MODEL , I1 , VIZ UNSPECIFIED "
          ],
          [
           "CHANGE DATA CUTOFF , MISC. ALGORITHM , to , CORRECTED ALGORITHM "
          ],
          [
           "CHANGE GRAVITY VAL. , 9.8 METERS PER SECOND SQUARED , to , 9.80665 METERS PER SECOND SQUARED "
          ],
          [
           "CHANGE RH ALGORITHM , DEW POINT DEPRESSION = 30 C IF RH < 20% , to , NO CUTOFFS "
          ],
          [
           "CHANGE RH ALGORITHM , RH MISSING FOR T<-40 , to , NO CUTOFFS "
          ],
          [
           "CHANGE SONDE MODEL , VIZ B 1492-520 NWS 1680 MHZ , to , VAISALA RS80-56H NWS SOLAR/IR CORR "
          ]
         ],
         "hovertemplate": "<b>%{hovertext}</b><br><br>sensor_id=IGRA2 METADATA<br>date_time=%{x}<br>values=%{y}<br>comment=%{customdata[0]}<extra></extra>",
         "hovertext": [
          "IGRA2 METADATA",
          "IGRA2 METADATA",
          "IGRA2 METADATA",
          "IGRA2 METADATA",
          "IGRA2 METADATA",
          "IGRA2 METADATA",
          "IGRA2 METADATA",
          "IGRA2 METADATA",
          "IGRA2 METADATA",
          "IGRA2 METADATA",
          "IGRA2 METADATA",
          "IGRA2 METADATA"
         ],
         "legendgroup": "IGRA2 METADATA",
         "marker": {
          "color": "#FFA15A",
          "line": {
           "color": "DarkSlateGrey",
           "width": 2
          },
          "size": 14,
          "symbol": "circle"
         },
         "mode": "markers",
         "name": "IGRA2 METADATA",
         "orientation": "v",
         "showlegend": true,
         "type": "scatter",
         "x": [
          "1961-10-01T00:00:00",
          "1962-01-01T00:00:00",
          "1980-12-01T00:00:00",
          "1986-05-01T00:00:00",
          "1988-10-01T00:00:00",
          "1989-11-01T00:00:00",
          "1992-12-01T00:00:00",
          "1993-10-01T00:00:00",
          "1993-10-01T00:00:00",
          "1993-10-01T00:00:00",
          "1993-10-01T00:00:00",
          "1995-11-01T00:00:00"
         ],
         "xaxis": "x",
         "y": [
          14,
          14,
          14,
          14,
          14,
          14,
          14,
          14,
          14,
          14,
          14,
          14
         ],
         "yaxis": "y"
        }
       ],
       "layout": {
        "font": {
         "color": "black",
         "size": 16
        },
        "height": 400,
        "hovermode": "x unified",
        "legend": {
         "title": {
          "text": "Sensor ID"
         },
         "tracegroupgap": 0
        },
        "margin": {
         "t": 60
        },
        "shapes": [
         {
          "line": {
           "color": "green",
           "dash": "dash",
           "width": 3
          },
          "type": "line",
          "x0": "1961-10-01T00:00:00",
          "x1": "1961-10-01T00:00:00",
          "xref": "x",
          "y0": 0,
          "y1": 1,
          "yref": "y domain"
         },
         {
          "line": {
           "color": "green",
           "dash": "dash",
           "width": 3
          },
          "type": "line",
          "x0": "1962-01-01T00:00:00",
          "x1": "1962-01-01T00:00:00",
          "xref": "x",
          "y0": 0,
          "y1": 1,
          "yref": "y domain"
         },
         {
          "line": {
           "color": "green",
           "dash": "dash",
           "width": 3
          },
          "type": "line",
          "x0": "1980-12-01T00:00:00",
          "x1": "1980-12-01T00:00:00",
          "xref": "x",
          "y0": 0,
          "y1": 1,
          "yref": "y domain"
         },
         {
          "line": {
           "color": "green",
           "dash": "dash",
           "width": 3
          },
          "type": "line",
          "x0": "1986-05-01T00:00:00",
          "x1": "1986-05-01T00:00:00",
          "xref": "x",
          "y0": 0,
          "y1": 1,
          "yref": "y domain"
         },
         {
          "line": {
           "color": "green",
           "dash": "dash",
           "width": 3
          },
          "type": "line",
          "x0": "1988-10-01T00:00:00",
          "x1": "1988-10-01T00:00:00",
          "xref": "x",
          "y0": 0,
          "y1": 1,
          "yref": "y domain"
         },
         {
          "line": {
           "color": "green",
           "dash": "dash",
           "width": 3
          },
          "type": "line",
          "x0": "1989-11-01T00:00:00",
          "x1": "1989-11-01T00:00:00",
          "xref": "x",
          "y0": 0,
          "y1": 1,
          "yref": "y domain"
         },
         {
          "line": {
           "color": "green",
           "dash": "dash",
           "width": 3
          },
          "type": "line",
          "x0": "1992-12-01T00:00:00",
          "x1": "1992-12-01T00:00:00",
          "xref": "x",
          "y0": 0,
          "y1": 1,
          "yref": "y domain"
         },
         {
          "line": {
           "color": "green",
           "dash": "dash",
           "width": 3
          },
          "type": "line",
          "x0": "1993-10-01T00:00:00",
          "x1": "1993-10-01T00:00:00",
          "xref": "x",
          "y0": 0,
          "y1": 1,
          "yref": "y domain"
         },
         {
          "line": {
           "color": "green",
           "dash": "dash",
           "width": 3
          },
          "type": "line",
          "x0": "1993-10-01T00:00:00",
          "x1": "1993-10-01T00:00:00",
          "xref": "x",
          "y0": 0,
          "y1": 1,
          "yref": "y domain"
         },
         {
          "line": {
           "color": "green",
           "dash": "dash",
           "width": 3
          },
          "type": "line",
          "x0": "1993-10-01T00:00:00",
          "x1": "1993-10-01T00:00:00",
          "xref": "x",
          "y0": 0,
          "y1": 1,
          "yref": "y domain"
         },
         {
          "line": {
           "color": "green",
           "dash": "dash",
           "width": 3
          },
          "type": "line",
          "x0": "1993-10-01T00:00:00",
          "x1": "1993-10-01T00:00:00",
          "xref": "x",
          "y0": 0,
          "y1": 1,
          "yref": "y domain"
         },
         {
          "line": {
           "color": "green",
           "dash": "dash",
           "width": 3
          },
          "type": "line",
          "x0": "1995-11-01T00:00:00",
          "x1": "1995-11-01T00:00:00",
          "xref": "x",
          "y0": 0,
          "y1": 1,
          "yref": "y domain"
         }
        ],
        "template": {
         "data": {
          "bar": [
           {
            "error_x": {
             "color": "#2a3f5f"
            },
            "error_y": {
             "color": "#2a3f5f"
            },
            "marker": {
             "line": {
              "color": "#E5ECF6",
              "width": 0.5
             },
             "pattern": {
              "fillmode": "overlay",
              "size": 10,
              "solidity": 0.2
             }
            },
            "type": "bar"
           }
          ],
          "barpolar": [
           {
            "marker": {
             "line": {
              "color": "#E5ECF6",
              "width": 0.5
             },
             "pattern": {
              "fillmode": "overlay",
              "size": 10,
              "solidity": 0.2
             }
            },
            "type": "barpolar"
           }
          ],
          "carpet": [
           {
            "aaxis": {
             "endlinecolor": "#2a3f5f",
             "gridcolor": "white",
             "linecolor": "white",
             "minorgridcolor": "white",
             "startlinecolor": "#2a3f5f"
            },
            "baxis": {
             "endlinecolor": "#2a3f5f",
             "gridcolor": "white",
             "linecolor": "white",
             "minorgridcolor": "white",
             "startlinecolor": "#2a3f5f"
            },
            "type": "carpet"
           }
          ],
          "choropleth": [
           {
            "colorbar": {
             "outlinewidth": 0,
             "ticks": ""
            },
            "type": "choropleth"
           }
          ],
          "contour": [
           {
            "colorbar": {
             "outlinewidth": 0,
             "ticks": ""
            },
            "colorscale": [
             [
              0,
              "#0d0887"
             ],
             [
              0.1111111111111111,
              "#46039f"
             ],
             [
              0.2222222222222222,
              "#7201a8"
             ],
             [
              0.3333333333333333,
              "#9c179e"
             ],
             [
              0.4444444444444444,
              "#bd3786"
             ],
             [
              0.5555555555555556,
              "#d8576b"
             ],
             [
              0.6666666666666666,
              "#ed7953"
             ],
             [
              0.7777777777777778,
              "#fb9f3a"
             ],
             [
              0.8888888888888888,
              "#fdca26"
             ],
             [
              1,
              "#f0f921"
             ]
            ],
            "type": "contour"
           }
          ],
          "contourcarpet": [
           {
            "colorbar": {
             "outlinewidth": 0,
             "ticks": ""
            },
            "type": "contourcarpet"
           }
          ],
          "heatmap": [
           {
            "colorbar": {
             "outlinewidth": 0,
             "ticks": ""
            },
            "colorscale": [
             [
              0,
              "#0d0887"
             ],
             [
              0.1111111111111111,
              "#46039f"
             ],
             [
              0.2222222222222222,
              "#7201a8"
             ],
             [
              0.3333333333333333,
              "#9c179e"
             ],
             [
              0.4444444444444444,
              "#bd3786"
             ],
             [
              0.5555555555555556,
              "#d8576b"
             ],
             [
              0.6666666666666666,
              "#ed7953"
             ],
             [
              0.7777777777777778,
              "#fb9f3a"
             ],
             [
              0.8888888888888888,
              "#fdca26"
             ],
             [
              1,
              "#f0f921"
             ]
            ],
            "type": "heatmap"
           }
          ],
          "heatmapgl": [
           {
            "colorbar": {
             "outlinewidth": 0,
             "ticks": ""
            },
            "colorscale": [
             [
              0,
              "#0d0887"
             ],
             [
              0.1111111111111111,
              "#46039f"
             ],
             [
              0.2222222222222222,
              "#7201a8"
             ],
             [
              0.3333333333333333,
              "#9c179e"
             ],
             [
              0.4444444444444444,
              "#bd3786"
             ],
             [
              0.5555555555555556,
              "#d8576b"
             ],
             [
              0.6666666666666666,
              "#ed7953"
             ],
             [
              0.7777777777777778,
              "#fb9f3a"
             ],
             [
              0.8888888888888888,
              "#fdca26"
             ],
             [
              1,
              "#f0f921"
             ]
            ],
            "type": "heatmapgl"
           }
          ],
          "histogram": [
           {
            "marker": {
             "pattern": {
              "fillmode": "overlay",
              "size": 10,
              "solidity": 0.2
             }
            },
            "type": "histogram"
           }
          ],
          "histogram2d": [
           {
            "colorbar": {
             "outlinewidth": 0,
             "ticks": ""
            },
            "colorscale": [
             [
              0,
              "#0d0887"
             ],
             [
              0.1111111111111111,
              "#46039f"
             ],
             [
              0.2222222222222222,
              "#7201a8"
             ],
             [
              0.3333333333333333,
              "#9c179e"
             ],
             [
              0.4444444444444444,
              "#bd3786"
             ],
             [
              0.5555555555555556,
              "#d8576b"
             ],
             [
              0.6666666666666666,
              "#ed7953"
             ],
             [
              0.7777777777777778,
              "#fb9f3a"
             ],
             [
              0.8888888888888888,
              "#fdca26"
             ],
             [
              1,
              "#f0f921"
             ]
            ],
            "type": "histogram2d"
           }
          ],
          "histogram2dcontour": [
           {
            "colorbar": {
             "outlinewidth": 0,
             "ticks": ""
            },
            "colorscale": [
             [
              0,
              "#0d0887"
             ],
             [
              0.1111111111111111,
              "#46039f"
             ],
             [
              0.2222222222222222,
              "#7201a8"
             ],
             [
              0.3333333333333333,
              "#9c179e"
             ],
             [
              0.4444444444444444,
              "#bd3786"
             ],
             [
              0.5555555555555556,
              "#d8576b"
             ],
             [
              0.6666666666666666,
              "#ed7953"
             ],
             [
              0.7777777777777778,
              "#fb9f3a"
             ],
             [
              0.8888888888888888,
              "#fdca26"
             ],
             [
              1,
              "#f0f921"
             ]
            ],
            "type": "histogram2dcontour"
           }
          ],
          "mesh3d": [
           {
            "colorbar": {
             "outlinewidth": 0,
             "ticks": ""
            },
            "type": "mesh3d"
           }
          ],
          "parcoords": [
           {
            "line": {
             "colorbar": {
              "outlinewidth": 0,
              "ticks": ""
             }
            },
            "type": "parcoords"
           }
          ],
          "pie": [
           {
            "automargin": true,
            "type": "pie"
           }
          ],
          "scatter": [
           {
            "marker": {
             "colorbar": {
              "outlinewidth": 0,
              "ticks": ""
             }
            },
            "type": "scatter"
           }
          ],
          "scatter3d": [
           {
            "line": {
             "colorbar": {
              "outlinewidth": 0,
              "ticks": ""
             }
            },
            "marker": {
             "colorbar": {
              "outlinewidth": 0,
              "ticks": ""
             }
            },
            "type": "scatter3d"
           }
          ],
          "scattercarpet": [
           {
            "marker": {
             "colorbar": {
              "outlinewidth": 0,
              "ticks": ""
             }
            },
            "type": "scattercarpet"
           }
          ],
          "scattergeo": [
           {
            "marker": {
             "colorbar": {
              "outlinewidth": 0,
              "ticks": ""
             }
            },
            "type": "scattergeo"
           }
          ],
          "scattergl": [
           {
            "marker": {
             "colorbar": {
              "outlinewidth": 0,
              "ticks": ""
             }
            },
            "type": "scattergl"
           }
          ],
          "scattermapbox": [
           {
            "marker": {
             "colorbar": {
              "outlinewidth": 0,
              "ticks": ""
             }
            },
            "type": "scattermapbox"
           }
          ],
          "scatterpolar": [
           {
            "marker": {
             "colorbar": {
              "outlinewidth": 0,
              "ticks": ""
             }
            },
            "type": "scatterpolar"
           }
          ],
          "scatterpolargl": [
           {
            "marker": {
             "colorbar": {
              "outlinewidth": 0,
              "ticks": ""
             }
            },
            "type": "scatterpolargl"
           }
          ],
          "scatterternary": [
           {
            "marker": {
             "colorbar": {
              "outlinewidth": 0,
              "ticks": ""
             }
            },
            "type": "scatterternary"
           }
          ],
          "surface": [
           {
            "colorbar": {
             "outlinewidth": 0,
             "ticks": ""
            },
            "colorscale": [
             [
              0,
              "#0d0887"
             ],
             [
              0.1111111111111111,
              "#46039f"
             ],
             [
              0.2222222222222222,
              "#7201a8"
             ],
             [
              0.3333333333333333,
              "#9c179e"
             ],
             [
              0.4444444444444444,
              "#bd3786"
             ],
             [
              0.5555555555555556,
              "#d8576b"
             ],
             [
              0.6666666666666666,
              "#ed7953"
             ],
             [
              0.7777777777777778,
              "#fb9f3a"
             ],
             [
              0.8888888888888888,
              "#fdca26"
             ],
             [
              1,
              "#f0f921"
             ]
            ],
            "type": "surface"
           }
          ],
          "table": [
           {
            "cells": {
             "fill": {
              "color": "#EBF0F8"
             },
             "line": {
              "color": "white"
             }
            },
            "header": {
             "fill": {
              "color": "#C8D4E3"
             },
             "line": {
              "color": "white"
             }
            },
            "type": "table"
           }
          ]
         },
         "layout": {
          "annotationdefaults": {
           "arrowcolor": "#2a3f5f",
           "arrowhead": 0,
           "arrowwidth": 1
          },
          "autotypenumbers": "strict",
          "coloraxis": {
           "colorbar": {
            "outlinewidth": 0,
            "ticks": ""
           }
          },
          "colorscale": {
           "diverging": [
            [
             0,
             "#8e0152"
            ],
            [
             0.1,
             "#c51b7d"
            ],
            [
             0.2,
             "#de77ae"
            ],
            [
             0.3,
             "#f1b6da"
            ],
            [
             0.4,
             "#fde0ef"
            ],
            [
             0.5,
             "#f7f7f7"
            ],
            [
             0.6,
             "#e6f5d0"
            ],
            [
             0.7,
             "#b8e186"
            ],
            [
             0.8,
             "#7fbc41"
            ],
            [
             0.9,
             "#4d9221"
            ],
            [
             1,
             "#276419"
            ]
           ],
           "sequential": [
            [
             0,
             "#0d0887"
            ],
            [
             0.1111111111111111,
             "#46039f"
            ],
            [
             0.2222222222222222,
             "#7201a8"
            ],
            [
             0.3333333333333333,
             "#9c179e"
            ],
            [
             0.4444444444444444,
             "#bd3786"
            ],
            [
             0.5555555555555556,
             "#d8576b"
            ],
            [
             0.6666666666666666,
             "#ed7953"
            ],
            [
             0.7777777777777778,
             "#fb9f3a"
            ],
            [
             0.8888888888888888,
             "#fdca26"
            ],
            [
             1,
             "#f0f921"
            ]
           ],
           "sequentialminus": [
            [
             0,
             "#0d0887"
            ],
            [
             0.1111111111111111,
             "#46039f"
            ],
            [
             0.2222222222222222,
             "#7201a8"
            ],
            [
             0.3333333333333333,
             "#9c179e"
            ],
            [
             0.4444444444444444,
             "#bd3786"
            ],
            [
             0.5555555555555556,
             "#d8576b"
            ],
            [
             0.6666666666666666,
             "#ed7953"
            ],
            [
             0.7777777777777778,
             "#fb9f3a"
            ],
            [
             0.8888888888888888,
             "#fdca26"
            ],
            [
             1,
             "#f0f921"
            ]
           ]
          },
          "colorway": [
           "#636efa",
           "#EF553B",
           "#00cc96",
           "#ab63fa",
           "#FFA15A",
           "#19d3f3",
           "#FF6692",
           "#B6E880",
           "#FF97FF",
           "#FECB52"
          ],
          "font": {
           "color": "#2a3f5f"
          },
          "geo": {
           "bgcolor": "white",
           "lakecolor": "white",
           "landcolor": "#E5ECF6",
           "showlakes": true,
           "showland": true,
           "subunitcolor": "white"
          },
          "hoverlabel": {
           "align": "left"
          },
          "hovermode": "closest",
          "mapbox": {
           "style": "light"
          },
          "paper_bgcolor": "white",
          "plot_bgcolor": "#E5ECF6",
          "polar": {
           "angularaxis": {
            "gridcolor": "white",
            "linecolor": "white",
            "ticks": ""
           },
           "bgcolor": "#E5ECF6",
           "radialaxis": {
            "gridcolor": "white",
            "linecolor": "white",
            "ticks": ""
           }
          },
          "scene": {
           "xaxis": {
            "backgroundcolor": "#E5ECF6",
            "gridcolor": "white",
            "gridwidth": 2,
            "linecolor": "white",
            "showbackground": true,
            "ticks": "",
            "zerolinecolor": "white"
           },
           "yaxis": {
            "backgroundcolor": "#E5ECF6",
            "gridcolor": "white",
            "gridwidth": 2,
            "linecolor": "white",
            "showbackground": true,
            "ticks": "",
            "zerolinecolor": "white"
           },
           "zaxis": {
            "backgroundcolor": "#E5ECF6",
            "gridcolor": "white",
            "gridwidth": 2,
            "linecolor": "white",
            "showbackground": true,
            "ticks": "",
            "zerolinecolor": "white"
           }
          },
          "shapedefaults": {
           "line": {
            "color": "#2a3f5f"
           }
          },
          "ternary": {
           "aaxis": {
            "gridcolor": "white",
            "linecolor": "white",
            "ticks": ""
           },
           "baxis": {
            "gridcolor": "white",
            "linecolor": "white",
            "ticks": ""
           },
           "bgcolor": "#E5ECF6",
           "caxis": {
            "gridcolor": "white",
            "linecolor": "white",
            "ticks": ""
           }
          },
          "title": {
           "x": 0.05
          },
          "xaxis": {
           "automargin": true,
           "gridcolor": "white",
           "linecolor": "white",
           "ticks": "",
           "title": {
            "standoff": 15
           },
           "zerolinecolor": "white",
           "zerolinewidth": 2
          },
          "yaxis": {
           "automargin": true,
           "gridcolor": "white",
           "linecolor": "white",
           "ticks": "",
           "title": {
            "standoff": 15
           },
           "zerolinecolor": "white",
           "zerolinewidth": 2
          }
         }
        },
        "title": {
         "text": "Sensors Time Series - Kodiak (Alaska) "
        },
        "width": 1800,
        "xaxis": {
         "anchor": "y",
         "autorange": true,
         "domain": [
          0,
          1
         ],
         "range": [
          "1957-12-16 20:26:04.1809",
          "2025-10-24 15:33:55.8191"
         ],
         "title": {
          "text": "Date of Sensor Replacement"
         },
         "type": "date"
        },
        "yaxis": {
         "anchor": "x",
         "autorange": true,
         "domain": [
          0,
          1
         ],
         "range": [
          -1.4064665127020786,
          15.406466512702078
         ],
         "tickfont": {
          "size": 16
         },
         "title": {
          "text": "Sensor Metadata"
         },
         "type": "linear"
        }
       }
      },
      "image/png": "[encoded data removed]",
      "text/html": [
       "<div>                            <div id=\"88f10b21-e716-447b-b079-400eb1931f48\" class=\"plotly-graph-div\" style=\"height:400px; width:1800px;\"></div>            <script type=\"text/javascript\">                require([\"plotly\"], function(Plotly) {                    window.PLOTLYENV=window.PLOTLYENV || {};                                    if (document.getElementById(\"88f10b21-e716-447b-b079-400eb1931f48\")) {                    Plotly.newPlot(                        \"88f10b21-e716-447b-b079-400eb1931f48\",                        [{\"customdata\":[[\"  ZKB VIZ model 1492-520 NWS 1680 MHz ART \\\"B\\\" Accu-Lok {1988} 31313=01102^ (T=004,W3=11,W2=28) NWS stock no. J060, 0.25 sec time sequenced <F=T1680AL,\"],[\"  ZKB VIZ model 1492-520 NWS 1680 MHz ART \\\"B\\\" Accu-Lok {1988} 31313=01102^ (T=004,W3=11,W2=28) NWS stock no. J060, 0.25 sec time sequenced <F=T1680AL,\"]],\"hovertemplate\":\"<b>%{hovertext}</b><br><br>sensor_id=ZKB <br>date_time=%{x}<br>values=%{y}<br>comment=%{customdata[0]}<extra></extra>\",\"hovertext\":[\"ZKB \",\"ZKB \"],\"legendgroup\":\"ZKB \",\"marker\":{\"color\":\"#636efa\",\"line\":{\"color\":\"DarkSlateGrey\",\"width\":2},\"size\":14,\"symbol\":\"circle\"},\"mode\":\"markers\",\"name\":\"ZKB \",\"orientation\":\"v\",\"showlegend\":true,\"type\":\"scatter\",\"x\":[\"1994-01-01T00:00:00\",\"1995-10-20T00:00:00\"],\"xaxis\":\"x\",\"y\":[0,0],\"yaxis\":\"y\"},{\"customdata\":[[\"  VU1 Vaisala RS80-56H or RS80-56 1680 MHz RDF H-Humicap NWS radiosonde, pressure cell {1995} 31313=43702^ (W3=37, T=038) <F=T1680AL,P=Ac,T=CB,U=A>\"],[\"  VU1 Vaisala RS80-56H or RS80-56 1680 MHz RDF H-Humicap NWS radiosonde, pressure cell {1995} 31313=43702^ (W3=37, T=038) <F=T1680AL,P=Ac,T=CB,U=A>\"]],\"hovertemplate\":\"<b>%{hovertext}</b><br><br>sensor_id=VU1 <br>date_time=%{x}<br>values=%{y}<br>comment=%{customdata[0]}<extra></extra>\",\"hovertext\":[\"VU1 \",\"VU1 \"],\"legendgroup\":\"VU1 \",\"marker\":{\"color\":\"#EF553B\",\"line\":{\"color\":\"DarkSlateGrey\",\"width\":2},\"size\":14,\"symbol\":\"circle\"},\"mode\":\"markers\",\"name\":\"VU1 \",\"orientation\":\"v\",\"showlegend\":true,\"type\":\"scatter\",\"x\":[\"1995-10-19T20:00:00\",\"1995-11-01T00:00:00\"],\"xaxis\":\"x\",\"y\":[1,1],\"yaxis\":\"y\"},{\"customdata\":[[\"  VU3 Vaisala RS80-57H or RS80-57 1680 MHz RDF H-Humicap NWS radiosonde, pressure cell {1998} 31313=45202^ (W3=52, T=039) (RDF, 1680+-3 MHz AM)\"]],\"hovertemplate\":\"<b>%{hovertext}</b><br><br>sensor_id=VU3 <br>date_time=%{x}<br>values=%{y}<br>comment=%{customdata[0]}<extra></extra>\",\"hovertext\":[\"VU3 \"],\"legendgroup\":\"VU3 \",\"marker\":{\"color\":\"#00cc96\",\"line\":{\"color\":\"DarkSlateGrey\",\"width\":2},\"size\":14,\"symbol\":\"circle\"},\"mode\":\"markers\",\"name\":\"VU3 \",\"orientation\":\"v\",\"showlegend\":true,\"type\":\"scatter\",\"x\":[\"1998-06-01T00:00:00\"],\"xaxis\":\"x\",\"y\":[2],\"yaxis\":\"y\"},{\"customdata\":[[\"VIZ-B2 (United States)                \"],[\"VIZ-B2 (United States)                \"],[\"VIZ-B2 (United States)                \"],[\"VIZ-B2 (United States)                \"],[\"VIZ-B2 (United States)                \"],[\"VIZ-B2 (United States)                \"],[\"VIZ-B2 (United States)                \"],[\"VIZ-B2 (United States)                \"],[\"VIZ-B2 (United States)                \"],[\"VIZ-B2 (United States)                \"],[\"VIZ-B2 (United States)                \"],[\"VIZ-B2 (United States)                \"],[\"VIZ-B2 (United States)                \"],[\"VIZ-B2 (United States)                \"],[\"VIZ-B2 (United States)                \"],[\"VIZ-B2 (United States)                \"],[\"VIZ-B2 (United States)                \"],[\"VIZ-B2 (United States)                \"],[\"VIZ-B2 (United States)                \"],[\"VIZ-B2 (United States)                \"],[\"VIZ-B2 (United States)                \"]],\"hovertemplate\":\"<b>%{hovertext}</b><br><br>sensor_id=51<br>date_time=%{x}<br>values=%{y}<br>comment=%{customdata[0]}<extra></extra>\",\"hovertext\":[\"51\",\"51\",\"51\",\"51\",\"51\",\"51\",\"51\",\"51\",\"51\",\"51\",\"51\",\"51\",\"51\",\"51\",\"51\",\"51\",\"51\",\"51\",\"51\",\"51\",\"51\"],\"legendgroup\":\"51\",\"marker\":{\"color\":\"#ab63fa\",\"line\":{\"color\":\"DarkSlateGrey\",\"width\":2},\"size\":14,\"symbol\":\"circle\"},\"mode\":\"markers\",\"name\":\"51\",\"orientation\":\"v\",\"showlegend\":true,\"type\":\"scatter\",\"x\":[\"2012-12-31T12:00:00\",\"2013-04-18T00:00:00\",\"2013-11-19T00:00:00\",\"2013-11-23T00:00:00\",\"2013-12-17T00:00:00\",\"2009-11-06T07:00:00\",\"2009-11-16T19:00:00\",\"2009-11-17T08:00:00\",\"2009-11-17T19:00:00\",\"2009-11-29T18:00:00\",\"2009-12-01T00:00:00\",\"2010-01-12T12:00:00\",\"2010-04-21T12:00:00\",\"2010-09-13T00:00:00\",\"2011-05-01T12:00:00\",\"2011-07-10T12:00:00\",\"2011-07-13T00:00:00\",\"2013-04-18T00:00:00\",\"2013-11-19T00:00:00\",\"2013-11-23T00:00:00\",\"2013-12-17T00:00:00\"],\"xaxis\":\"x\",\"y\":[3,3,3,3,3,3,3,3,3,3,3,3,3,3,3,3,3,3,3,3,3],\"yaxis\":\"y\"},{\"customdata\":[[\"NA\"],[\"NA\"],[\"NA\"],[\"NA\"],[\"NA\"],[\"NA\"],[\"NA\"],[\"NA\"],[\"NA\"],[\"NA\"],[\"NA\"],[\"NA\"],[\"NA\"],[\"NA\"],[\"NA\"],[\"NA\"],[\"NA\"],[\"NA\"],[\"NA\"],[\"NA\"],[\"NA\"],[\"NA\"],[\"NA\"],[\"NA\"],[\"NA\"],[\"NA\"],[\"NA\"],[\"NA\"],[\"NA\"],[\"NA\"],[\"NA\"],[\"NA\"],[\"NA\"],[\"NA\"],[\"NA\"],[\"NA\"],[\"NA\"],[\"NA\"],[\"NA\"],[\"NA\"],[\"NA\"],[\"NA\"],[\"NA\"],[\"NA\"],[\"NA\"],[\"NA\"],[\"NA\"],[\"NA\"],[\"NA\"],[\"NA\"],[\"NA\"],[\"NA\"],[\"NA\"],[\"NA\"],[\"NA\"],[\"NA\"],[\"NA\"],[\"NA\"],[\"NA\"],[\"NA\"],[\"NA\"],[\"NA\"],[\"NA\"],[\"NA\"],[\"NA\"],[\"NA\"],[\"NA\"],[\"NA\"],[\"NA\"],[\"NA\"],[\"NA\"],[\"NA\"],[\"NA\"],[\"NA\"],[\"NA\"],[\"NA\"],[\"NA\"],[\"NA\"],[\"NA\"],[\"NA\"],[\"NA\"],[\"NA\"],[\"NA\"],[\"NA\"],[\"NA\"],[\"NA\"],[\"NA\"],[\"NA\"],[\"NA\"],[\"NA\"],[\"NA\"],[\"NA\"],[\"NA\"],[\"NA\"],[\"NA\"],[\"NA\"],[\"NA\"],[\"NA\"],[\"NA\"],[\"NA\"],[\"NA\"],[\"NA\"],[\"NA\"],[\"NA\"],[\"NA\"],[\"NA\"],[\"NA\"],[\"NA\"],[\"NA\"],[\"NA\"],[\"NA\"],[\"NA\"],[\"NA\"],[\"NA\"],[\"NA\"],[\"NA\"],[\"NA\"],[\"NA\"],[\"NA\"],[\"NA\"],[\"NA\"],[\"NA\"],[\"NA\"],[\"NA\"],[\"NA\"],[\"NA\"],[\"NA\"],[\"NA\"],[\"NA\"],[\"NA\"],[\"NA\"],[\"NA\"],[\"NA\"],[\"NA\"],[\"NA\"],[\"NA\"],[\"NA\"],[\"NA\"],[\"NA\"],[\"NA\"],[\"NA\"],[\"NA\"],[\"NA\"],[\"NA\"],[\"NA\"],[\"NA\"],[\"NA\"],[\"NA\"],[\"NA\"],[\"NA\"],[\"NA\"],[\"NA\"],[\"NA\"],[\"NA\"],[\"NA\"],[\"NA\"],[\"NA\"],[\"NA\"],[\"NA\"],[\"NA\"],[\"NA\"],[\"NA\"],[\"NA\"],[\"NA\"],[\"NA\"],[\"NA\"],[\"NA\"],[\"NA\"],[\"NA\"],[\"NA\"],[\"NA\"],[\"NA\"],[\"NA\"],[\"NA\"],[\"NA\"],[\"NA\"],[\"NA\"],[\"NA\"],[\"NA\"],[\"NA\"],[\"NA\"],[\"NA\"],[\"NA\"],[\"NA\"],[\"NA\"],[\"NA\"],[\"NA\"],[\"NA\"],[\"NA\"],[\"NA\"],[\"NA\"],[\"NA\"],[\"NA\"],[\"NA\"],[\"NA\"],[\"NA\"],[\"NA\"],[\"NA\"],[\"NA\"],[\"NA\"],[\"NA\"],[\"NA\"],[\"NA\"],[\"NA\"],[\"NA\"],[\"NA\"],[\"NA\"],[\"NA\"],[\"NA\"],[\"NA\"],[\"NA\"],[\"NA\"],[\"NA\"],[\"NA\"],[\"NA\"],[\"NA\"],[\"NA\"],[\"NA\"],[\"NA\"],[\"NA\"],[\"NA\"],[\"NA\"],[\"NA\"],[\"NA\"],[\"NA\"],[\"NA\"],[\"NA\"],[\"NA\"],[\"NA\"],[\"NA\"],[\"NA\"],[\"NA\"],[\"NA\"],[\"NA\"],[\"NA\"],[\"NA\"],[\"NA\"],[\"NA\"],[\"NA\"],[\"NA\"],[\"NA\"],[\"NA\"],[\"NA\"],[\"NA\"],[\"NA\"],[\"NA\"],[\"NA\"],[\"NA\"],[\"NA\"],[\"NA\"],[\"NA\"],[\"NA\"],[\"NA\"],[\"NA\"],[\"NA\"],[\"NA\"],[\"NA\"],[\"NA\"],[\"NA\"],[\"NA\"],[\"NA\"],[\"NA\"],[\"NA\"],[\"NA\"],[\"NA\"],[\"NA\"],[\"NA\"],[\"NA\"],[\"NA\"],[\"NA\"],[\"NA\"],[\"NA\"],[\"NA\"],[\"NA\"],[\"NA\"],[\"NA\"],[\"NA\"],[\"NA\"],[\"NA\"],[\"NA\"],[\"NA\"],[\"NA\"],[\"NA\"],[\"NA\"],[\"NA\"],[\"NA\"],[\"NA\"],[\"NA\"],[\"NA\"],[\"NA\"],[\"NA\"],[\"NA\"],[\"NA\"],[\"NA\"],[\"NA\"],[\"NA\"],[\"NA\"],[\"NA\"],[\"NA\"],[\"NA\"],[\"NA\"],[\"NA\"],[\"NA\"],[\"NA\"],[\"NA\"],[\"NA\"],[\"NA\"],[\"NA\"],[\"NA\"],[\"NA\"],[\"NA\"],[\"NA\"],[\"NA\"],[\"NA\"],[\"NA\"],[\"NA\"],[\"NA\"],[\"NA\"],[\"NA\"],[\"NA\"],[\"NA\"],[\"NA\"],[\"NA\"],[\"NA\"],[\"NA\"],[\"NA\"],[\"NA\"],[\"NA\"],[\"NA\"],[\"NA\"],[\"NA\"],[\"NA\"],[\"NA\"],[\"NA\"],[\"NA\"],[\"NA\"],[\"NA\"],[\"NA\"],[\"NA\"],[\"NA\"],[\"NA\"],[\"NA\"],[\"NA\"],[\"NA\"],[\"NA\"],[\"NA\"],[\"NA\"],[\"NA\"],[\"NA\"],[\"NA\"],[\"NA\"],[\"NA\"],[\"NA\"],[\"NA\"],[\"NA\"],[\"NA\"],[\"NA\"],[\"NA\"],[\"NA\"],[\"NA\"],[\"NA\"],[\"NA\"],[\"NA\"],[\"NA\"],[\"NA\"],[\"NA\"],[\"NA\"],[\"NA\"],[\"NA\"],[\"NA\"],[\"NA\"],[\"NA\"],[\"NA\"],[\"NA\"],[\"NA\"],[\"NA\"],[\"NA\"],[\"NA\"],[\"NA\"],[\"NA\"],[\"NA\"],[\"NA\"],[\"NA\"],[\"NA\"],[\"NA\"],[\"NA\"],[\"NA\"],[\"NA\"],[\"NA\"],[\"NA\"],[\"NA\"],[\"NA\"],[\"NA\"],[\"NA\"],[\"NA\"],[\"NA\"],[\"NA\"],[\"NA\"],[\"NA\"],[\"NA\"],[\"NA\"],[\"NA\"],[\"NA\"],[\"NA\"],[\"NA\"],[\"NA\"],[\"NA\"],[\"NA\"],[\"NA\"],[\"NA\"],[\"NA\"],[\"NA\"],[\"NA\"],[\"NA\"],[\"NA\"],[\"NA\"],[\"NA\"],[\"NA\"],[\"NA\"],[\"NA\"],[\"NA\"],[\"NA\"],[\"NA\"],[\"NA\"],[\"NA\"],[\"NA\"],[\"NA\"],[\"NA\"],[\"NA\"],[\"NA\"],[\"NA\"],[\"NA\"],[\"NA\"],[\"NA\"],[\"NA\"],[\"NA\"],[\"NA\"],[\"NA\"],[\"NA\"],[\"NA\"],[\"NA\"],[\"NA\"],[\"NA\"],[\"NA\"],[\"NA\"],[\"NA\"],[\"NA\"],[\"NA\"],[\"NA\"],[\"NA\"],[\"NA\"],[\"NA\"],[\"NA\"],[\"NA\"],[\"NA\"],[\"NA\"],[\"NA\"],[\"NA\"],[\"NA\"],[\"NA\"]],\"hovertemplate\":\"<b>%{hovertext}</b><br><br>sensor_id=nan<br>date_time=%{x}<br>values=%{y}<br>comment=%{customdata[0]}<extra></extra>\",\"hovertext\":[\"nan\",\"nan\",\"nan\",\"nan\",\"nan\",\"nan\",\"nan\",\"nan\",\"nan\",\"nan\",\"nan\",\"nan\",\"nan\",\"nan\",\"nan\",\"nan\",\"nan\",\"nan\",\"nan\",\"nan\",\"nan\",\"nan\",\"nan\",\"nan\",\"nan\",\"nan\",\"nan\",\"nan\",\"nan\",\"nan\",\"nan\",\"nan\",\"nan\",\"nan\",\"nan\",\"nan\",\"nan\",\"nan\",\"nan\",\"nan\",\"nan\",\"nan\",\"nan\",\"nan\",\"nan\",\"nan\",\"nan\",\"nan\",\"nan\",\"nan\",\"nan\",\"nan\",\"nan\",\"nan\",\"nan\",\"nan\",\"nan\",\"nan\",\"nan\",\"nan\",\"nan\",\"nan\",\"nan\",\"nan\",\"nan\",\"nan\",\"nan\",\"nan\",\"nan\",\"nan\",\"nan\",\"nan\",\"nan\",\"nan\",\"nan\",\"nan\",\"nan\",\"nan\",\"nan\",\"nan\",\"nan\",\"nan\",\"nan\",\"nan\",\"nan\",\"nan\",\"nan\",\"nan\",\"nan\",\"nan\",\"nan\",\"nan\",\"nan\",\"nan\",\"nan\",\"nan\",\"nan\",\"nan\",\"nan\",\"nan\",\"nan\",\"nan\",\"nan\",\"nan\",\"nan\",\"nan\",\"nan\",\"nan\",\"nan\",\"nan\",\"nan\",\"nan\",\"nan\",\"nan\",\"nan\",\"nan\",\"nan\",\"nan\",\"nan\",\"nan\",\"nan\",\"nan\",\"nan\",\"nan\",\"nan\",\"nan\",\"nan\",\"nan\",\"nan\",\"nan\",\"nan\",\"nan\",\"nan\",\"nan\",\"nan\",\"nan\",\"nan\",\"nan\",\"nan\",\"nan\",\"nan\",\"nan\",\"nan\",\"nan\",\"nan\",\"nan\",\"nan\",\"nan\",\"nan\",\"nan\",\"nan\",\"nan\",\"nan\",\"nan\",\"nan\",\"nan\",\"nan\",\"nan\",\"nan\",\"nan\",\"nan\",\"nan\",\"nan\",\"nan\",\"nan\",\"nan\",\"nan\",\"nan\",\"nan\",\"nan\",\"nan\",\"nan\",\"nan\",\"nan\",\"nan\",\"nan\",\"nan\",\"nan\",\"nan\",\"nan\",\"nan\",\"nan\",\"nan\",\"nan\",\"nan\",\"nan\",\"nan\",\"nan\",\"nan\",\"nan\",\"nan\",\"nan\",\"nan\",\"nan\",\"nan\",\"nan\",\"nan\",\"nan\",\"nan\",\"nan\",\"nan\",\"nan\",\"nan\",\"nan\",\"nan\",\"nan\",\"nan\",\"nan\",\"nan\",\"nan\",\"nan\",\"nan\",\"nan\",\"nan\",\"nan\",\"nan\",\"nan\",\"nan\",\"nan\",\"nan\",\"nan\",\"nan\",\"nan\",\"nan\",\"nan\",\"nan\",\"nan\",\"nan\",\"nan\",\"nan\",\"nan\",\"nan\",\"nan\",\"nan\",\"nan\",\"nan\",\"nan\",\"nan\",\"nan\",\"nan\",\"nan\",\"nan\",\"nan\",\"nan\",\"nan\",\"nan\",\"nan\",\"nan\",\"nan\",\"nan\",\"nan\",\"nan\",\"nan\",\"nan\",\"nan\",\"nan\",\"nan\",\"nan\",\"nan\",\"nan\",\"nan\",\"nan\",\"nan\",\"nan\",\"nan\",\"nan\",\"nan\",\"nan\",\"nan\",\"nan\",\"nan\",\"nan\",\"nan\",\"nan\",\"nan\",\"nan\",\"nan\",\"nan\",\"nan\",\"nan\",\"nan\",\"nan\",\"nan\",\"nan\",\"nan\",\"nan\",\"nan\",\"nan\",\"nan\",\"nan\",\"nan\",\"nan\",\"nan\",\"nan\",\"nan\",\"nan\",\"nan\",\"nan\",\"nan\",\"nan\",\"nan\",\"nan\",\"nan\",\"nan\",\"nan\",\"nan\",\"nan\",\"nan\",\"nan\",\"nan\",\"nan\",\"nan\",\"nan\",\"nan\",\"nan\",\"nan\",\"nan\",\"nan\",\"nan\",\"nan\",\"nan\",\"nan\",\"nan\",\"nan\",\"nan\",\"nan\",\"nan\",\"nan\",\"nan\",\"nan\",\"nan\",\"nan\",\"nan\",\"nan\",\"nan\",\"nan\",\"nan\",\"nan\",\"nan\",\"nan\",\"nan\",\"nan\",\"nan\",\"nan\",\"nan\",\"nan\",\"nan\",\"nan\",\"nan\",\"nan\",\"nan\",\"nan\",\"nan\",\"nan\",\"nan\",\"nan\",\"nan\",\"nan\",\"nan\",\"nan\",\"nan\",\"nan\",\"nan\",\"nan\",\"nan\",\"nan\",\"nan\",\"nan\",\"nan\",\"nan\",\"nan\",\"nan\",\"nan\",\"nan\",\"nan\",\"nan\",\"nan\",\"nan\",\"nan\",\"nan\",\"nan\",\"nan\",\"nan\",\"nan\",\"nan\",\"nan\",\"nan\",\"nan\",\"nan\",\"nan\",\"nan\",\"nan\",\"nan\",\"nan\",\"nan\",\"nan\",\"nan\",\"nan\",\"nan\",\"nan\",\"nan\",\"nan\",\"nan\",\"nan\",\"nan\",\"nan\",\"nan\",\"nan\",\"nan\",\"nan\",\"nan\",\"nan\",\"nan\",\"nan\",\"nan\",\"nan\",\"nan\",\"nan\",\"nan\",\"nan\",\"nan\",\"nan\",\"nan\",\"nan\",\"nan\",\"nan\",\"nan\",\"nan\",\"nan\",\"nan\",\"nan\",\"nan\",\"nan\",\"nan\",\"nan\",\"nan\",\"nan\",\"nan\",\"nan\",\"nan\",\"nan\",\"nan\",\"nan\",\"nan\",\"nan\",\"nan\",\"nan\",\"nan\",\"nan\",\"nan\",\"nan\",\"nan\",\"nan\",\"nan\",\"nan\",\"nan\",\"nan\",\"nan\",\"nan\",\"nan\"],\"legendgroup\":\"nan\",\"marker\":{\"color\":\"#FFA15A\",\"line\":{\"color\":\"DarkSlateGrey\",\"width\":2},\"size\":14,\"symbol\":\"circle\"},\"mode\":\"markers\",\"name\":\"nan\",\"orientation\":\"v\",\"showlegend\":true,\"type\":\"scatter\",\"x\":[\"2013-04-17T12:00:00\",\"2013-11-22T18:00:00\",\"2014-05-01T00:00:00\",\"2014-07-23T23:00:00\",\"2015-01-07T12:00:00\",\"2016-08-21T12:00:00\",\"2016-10-07T12:00:00\",\"2016-11-16T12:00:00\",\"2016-12-10T12:00:00\",\"2017-03-02T00:00:00\",\"2017-03-02T12:00:00\",\"2017-08-28T12:00:00\",\"2017-09-12T12:00:00\",\"2017-09-29T18:00:00\",\"2017-10-03T00:00:00\",\"2017-10-03T12:00:00\",\"2017-10-05T15:00:00\",\"2017-10-06T00:00:00\",\"2017-10-12T12:00:00\",\"2017-10-13T00:00:00\",\"2017-10-13T12:00:00\",\"2017-10-13T17:00:00\",\"2017-10-14T00:00:00\",\"2017-10-14T12:00:00\",\"2017-10-15T00:00:00\",\"2017-10-15T12:00:00\",\"2017-10-16T00:00:00\",\"2017-10-16T12:00:00\",\"2017-10-17T00:00:00\",\"2017-10-17T12:00:00\",\"2017-10-17T18:00:00\",\"2017-10-20T15:00:00\",\"2017-11-01T21:00:00\",\"2018-09-27T12:00:00\",\"2019-05-14T19:00:00\",\"2022-01-01T00:00:00\",\"2022-01-01T12:00:00\",\"2022-01-02T00:00:00\",\"2022-01-02T12:00:00\",\"2022-01-03T00:00:00\",\"2022-01-03T12:00:00\",\"2022-01-04T00:00:00\",\"2022-01-04T12:00:00\",\"2022-01-05T00:00:00\",\"2022-01-05T12:00:00\",\"2022-01-06T00:00:00\",\"2022-01-06T12:00:00\",\"2022-01-07T00:00:00\",\"2022-01-07T12:00:00\",\"2022-01-08T00:00:00\",\"2022-01-08T12:00:00\",\"2022-01-09T00:00:00\",\"2022-01-09T12:00:00\",\"1994-01-01T12:00:00\",\"1994-01-10T12:00:00\",\"1994-02-02T12:00:00\",\"1994-02-18T12:00:00\",\"1994-04-07T12:00:00\",\"1994-05-06T12:00:00\",\"1994-05-08T00:00:00\",\"1994-05-10T12:00:00\",\"1994-05-11T12:00:00\",\"1994-05-15T00:00:00\",\"1994-05-17T12:00:00\",\"1994-05-20T12:00:00\",\"1994-06-14T00:00:00\",\"1994-07-03T00:00:00\",\"1994-07-03T12:00:00\",\"1994-08-29T12:00:00\",\"1994-08-30T00:00:00\",\"1994-09-01T00:00:00\",\"1994-09-02T00:00:00\",\"1994-09-08T00:00:00\",\"1994-09-29T12:00:00\",\"1994-10-21T12:00:00\",\"1994-12-27T00:00:00\",\"1995-01-07T00:00:00\",\"1995-01-12T12:00:00\",\"1995-01-22T12:00:00\",\"1995-01-24T00:00:00\",\"1995-01-24T12:00:00\",\"1995-01-29T00:00:00\",\"1995-02-04T00:00:00\",\"1995-02-07T12:00:00\",\"1995-02-11T12:00:00\",\"1995-02-12T00:00:00\",\"1995-02-13T00:00:00\",\"1995-02-15T00:00:00\",\"1995-02-15T12:00:00\",\"1995-02-17T12:00:00\",\"1995-02-24T12:00:00\",\"1995-02-25T12:00:00\",\"1995-02-26T00:00:00\",\"1995-02-27T00:00:00\",\"1995-03-01T00:00:00\",\"1995-03-11T00:00:00\",\"1995-03-13T12:00:00\",\"1995-03-21T12:00:00\",\"1995-03-22T12:00:00\",\"1995-03-23T12:00:00\",\"1995-04-02T00:00:00\",\"1995-04-06T23:00:00\",\"1995-04-12T12:00:00\",\"1995-04-13T12:00:00\",\"1995-04-14T00:00:00\",\"1995-04-17T00:00:00\",\"1995-04-20T01:00:00\",\"1995-05-01T12:00:00\",\"1995-05-17T12:00:00\",\"1995-05-28T00:00:00\",\"1995-06-17T00:00:00\",\"1995-08-10T12:00:00\",\"1995-08-13T12:00:00\",\"1995-08-24T12:00:00\",\"1995-08-27T12:00:00\",\"1995-09-05T00:00:00\",\"1995-09-09T00:00:00\",\"1995-09-09T12:00:00\",\"1995-09-10T00:00:00\",\"1995-09-10T12:00:00\",\"1995-09-11T00:00:00\",\"1995-09-11T12:00:00\",\"1995-09-15T01:00:00\",\"1995-09-30T12:00:00\",\"1995-10-19T13:00:00\",\"1995-10-19T20:00:00\",\"1995-10-25T12:00:00\",\"1995-10-26T00:00:00\",\"1995-10-27T00:00:00\",\"1995-11-05T01:00:00\",\"1995-11-06T00:00:00\",\"1995-11-07T12:00:00\",\"1995-11-10T12:00:00\",\"1995-12-13T12:00:00\",\"1995-12-14T00:00:00\",\"1995-12-14T12:00:00\",\"1995-12-15T00:00:00\",\"1995-12-15T12:00:00\",\"1995-12-16T12:00:00\",\"1995-12-30T12:00:00\",\"1995-12-31T12:00:00\",\"1996-01-04T12:00:00\",\"1996-01-08T12:00:00\",\"1996-01-09T00:00:00\",\"1996-01-11T12:00:00\",\"1996-01-16T00:00:00\",\"1996-01-17T12:00:00\",\"1996-01-19T00:00:00\",\"1996-01-21T12:00:00\",\"1996-01-22T12:00:00\",\"1996-01-23T00:00:00\",\"1996-01-23T12:00:00\",\"1996-01-24T12:00:00\",\"1996-01-25T00:00:00\",\"1996-01-25T12:00:00\",\"1996-01-26T00:00:00\",\"1996-01-29T12:00:00\",\"1996-02-01T00:00:00\",\"1996-02-12T00:00:00\",\"1996-02-12T13:00:00\",\"1996-02-15T00:00:00\",\"1996-02-21T12:00:00\",\"1996-02-22T00:00:00\",\"1996-02-22T13:00:00\",\"1996-02-23T00:00:00\",\"1996-03-02T00:00:00\",\"1996-03-07T12:00:00\",\"1996-03-18T23:00:00\",\"1996-03-21T23:00:00\",\"1996-03-24T12:00:00\",\"1996-04-01T12:00:00\",\"1996-04-02T12:00:00\",\"1996-04-14T00:00:00\",\"1996-05-03T21:00:00\",\"1996-05-17T00:00:00\",\"1996-05-20T23:00:00\",\"1996-06-02T00:00:00\",\"1996-06-17T00:00:00\",\"1996-06-17T12:00:00\",\"1996-06-18T00:00:00\",\"1996-06-18T12:00:00\",\"1996-07-11T12:00:00\",\"1996-07-15T00:00:00\",\"1996-07-20T12:00:00\",\"1996-07-28T12:00:00\",\"1996-08-02T12:00:00\",\"1996-08-07T12:00:00\",\"1996-08-14T12:00:00\",\"1996-08-15T12:00:00\",\"1996-08-18T00:00:00\",\"1996-08-22T12:00:00\",\"1996-08-25T00:00:00\",\"1996-08-25T12:00:00\",\"1996-08-26T00:00:00\",\"1996-08-27T00:00:00\",\"1996-08-27T12:00:00\",\"1996-08-30T12:00:00\",\"1996-08-31T12:00:00\",\"1996-09-01T00:00:00\",\"1996-09-02T00:00:00\",\"1996-09-04T00:00:00\",\"1996-09-09T00:00:00\",\"1996-09-10T23:00:00\",\"1996-09-12T23:00:00\",\"1996-09-14T00:00:00\",\"1996-09-14T23:00:00\",\"1996-09-26T12:00:00\",\"1996-10-01T00:00:00\",\"1996-10-16T12:00:00\",\"1996-10-18T12:00:00\",\"1996-10-19T12:00:00\",\"1996-11-08T12:00:00\",\"1996-11-11T00:00:00\",\"1996-11-20T00:00:00\",\"1997-01-04T00:00:00\",\"1997-01-06T00:00:00\",\"1997-01-23T12:00:00\",\"1997-01-25T00:00:00\",\"1997-02-17T12:00:00\",\"1997-02-28T12:00:00\",\"1997-03-01T00:00:00\",\"1997-03-05T00:00:00\",\"1997-03-05T12:00:00\",\"1997-03-06T00:00:00\",\"1997-03-06T12:00:00\",\"1997-03-07T00:00:00\",\"1997-04-21T00:00:00\",\"1997-04-23T00:00:00\",\"1997-05-06T12:00:00\",\"1997-05-27T12:00:00\",\"1997-05-29T00:00:00\",\"1997-06-02T12:00:00\",\"1997-06-10T00:00:00\",\"1997-06-13T00:00:00\",\"1997-06-21T12:00:00\",\"1997-07-01T12:00:00\",\"1997-07-14T00:00:00\",\"1997-07-16T12:00:00\",\"1997-08-04T00:00:00\",\"1997-08-05T00:00:00\",\"1997-08-09T12:00:00\",\"1997-08-21T12:00:00\",\"1997-09-08T00:00:00\",\"1997-09-08T12:00:00\",\"1997-10-02T12:00:00\",\"1997-10-06T00:00:00\",\"1997-10-29T00:00:00\",\"1997-11-06T12:00:00\",\"1997-11-09T00:00:00\",\"1997-11-20T00:00:00\",\"1997-11-28T12:00:00\",\"1997-12-10T00:00:00\",\"1997-12-14T00:00:00\",\"1997-12-20T12:00:00\",\"1998-01-06T12:00:00\",\"1998-01-07T12:00:00\",\"1998-01-19T00:00:00\",\"1998-01-23T12:00:00\",\"1998-03-16T00:00:00\",\"1998-03-26T12:00:00\",\"1998-04-23T12:00:00\",\"1998-05-02T12:00:00\",\"1998-05-12T00:00:00\",\"1998-05-20T12:00:00\",\"1998-05-27T12:00:00\",\"1998-05-28T12:00:00\",\"1998-06-01T12:00:00\",\"1998-06-03T12:00:00\",\"1998-06-18T12:00:00\",\"1998-06-20T12:00:00\",\"1998-06-27T00:00:00\",\"1998-06-30T00:00:00\",\"1998-07-02T00:00:00\",\"1998-07-04T12:00:00\",\"1998-07-18T12:00:00\",\"1998-07-30T00:00:00\",\"1998-08-01T00:00:00\",\"1998-08-12T00:00:00\",\"1998-08-30T00:00:00\",\"1998-09-12T00:00:00\",\"1998-09-16T12:00:00\",\"1998-09-20T12:00:00\",\"1998-09-21T00:00:00\",\"1998-10-05T00:00:00\",\"1998-10-18T12:00:00\",\"1998-10-22T00:00:00\",\"1998-10-22T12:00:00\",\"1998-11-10T12:00:00\",\"1998-11-20T00:00:00\",\"1998-11-26T12:00:00\",\"1998-12-17T12:00:00\",\"1998-12-23T00:00:00\",\"1999-01-09T12:00:00\",\"1999-01-25T12:00:00\",\"1999-01-28T00:00:00\",\"1999-02-03T12:00:00\",\"1999-02-18T00:00:00\",\"1999-03-07T00:00:00\",\"1999-03-13T00:00:00\",\"1999-03-14T12:00:00\",\"1999-03-27T12:00:00\",\"1999-03-28T12:00:00\",\"1999-03-29T00:00:00\",\"1999-04-04T12:00:00\",\"1999-06-01T00:00:00\",\"1999-06-16T00:00:00\",\"1999-06-19T12:00:00\",\"1999-06-21T00:00:00\",\"1999-06-23T00:00:00\",\"1999-06-24T00:00:00\",\"1999-07-02T12:00:00\",\"1999-07-25T12:00:00\",\"1999-07-28T00:00:00\",\"1999-08-06T00:00:00\",\"1999-08-07T00:00:00\",\"1999-08-12T12:00:00\",\"1999-08-31T00:00:00\",\"1999-10-04T00:00:00\",\"1999-10-25T12:00:00\",\"2000-02-09T12:00:00\",\"2000-02-12T12:00:00\",\"2000-03-15T06:00:00\",\"2000-03-17T00:00:00\",\"2000-03-28T12:00:00\",\"2000-05-02T12:00:00\",\"2000-05-04T00:00:00\",\"2000-07-29T00:00:00\",\"2000-08-05T00:00:00\",\"2000-08-05T05:00:00\",\"2000-08-08T00:00:00\",\"2000-08-10T12:00:00\",\"2000-11-07T12:00:00\",\"2001-01-09T00:00:00\",\"2001-01-19T00:00:00\",\"2001-02-21T12:00:00\",\"2001-03-07T00:00:00\",\"2001-04-19T04:00:00\",\"2001-04-30T00:00:00\",\"2001-05-16T00:00:00\",\"2001-05-25T12:00:00\",\"2001-06-12T00:00:00\",\"2001-06-29T00:00:00\",\"2001-07-11T00:00:00\",\"2001-07-14T00:00:00\",\"2001-07-15T00:00:00\",\"2001-08-05T12:00:00\",\"2001-08-07T00:00:00\",\"2001-10-20T00:00:00\",\"2001-11-05T00:00:00\",\"2002-02-28T00:00:00\",\"2002-03-15T00:00:00\",\"2002-03-20T04:00:00\",\"2002-05-03T00:00:00\",\"2002-07-25T00:00:00\",\"2002-08-01T12:00:00\",\"2002-09-04T00:00:00\",\"2002-09-24T00:00:00\",\"2002-10-10T00:00:00\",\"2003-03-27T00:00:00\",\"2003-04-28T00:00:00\",\"2003-05-01T12:00:00\",\"2003-05-13T15:00:00\",\"2003-05-30T00:00:00\",\"2003-07-31T00:00:00\",\"2003-08-30T12:00:00\",\"2003-10-02T00:00:00\",\"2003-10-29T12:00:00\",\"2003-11-06T21:00:00\",\"2004-01-03T12:00:00\",\"2004-03-03T00:00:00\",\"2004-03-20T00:00:00\",\"2004-03-27T00:00:00\",\"2004-04-06T12:00:00\",\"2004-05-21T00:00:00\",\"2004-06-08T12:00:00\",\"2004-06-30T00:00:00\",\"2004-07-11T12:00:00\",\"2004-07-22T00:00:00\",\"2004-10-04T12:00:00\",\"2004-10-10T00:00:00\",\"2004-10-23T00:00:00\",\"2005-01-07T12:00:00\",\"2005-02-28T12:00:00\",\"2005-05-30T12:00:00\",\"2005-06-21T00:00:00\",\"2005-09-20T12:00:00\",\"2005-10-29T12:00:00\",\"2006-03-16T00:00:00\",\"2006-08-01T00:00:00\",\"2006-08-04T00:00:00\",\"2007-10-20T12:00:00\",\"2008-02-20T00:00:00\",\"2008-05-15T12:00:00\",\"2008-05-17T00:00:00\",\"2008-05-31T00:00:00\",\"2008-09-20T12:00:00\",\"2008-09-27T12:00:00\",\"2009-01-20T12:00:00\",\"2009-02-14T12:00:00\",\"2009-05-13T00:00:00\",\"2009-07-01T12:00:00\",\"2010-01-12T00:00:00\",\"2010-04-21T00:00:00\",\"2010-09-12T12:00:00\",\"2011-05-01T00:00:00\",\"2011-07-10T00:00:00\",\"2011-07-12T12:00:00\",\"2013-04-17T12:00:00\",\"2013-11-22T18:00:00\",\"2014-05-01T00:00:00\",\"2014-07-23T23:00:00\",\"2015-01-07T12:00:00\",\"2016-08-21T12:00:00\",\"2016-10-07T12:00:00\",\"2016-11-16T12:00:00\",\"2016-12-10T12:00:00\",\"2017-03-02T00:00:00\",\"2017-03-02T12:00:00\",\"2017-08-28T12:00:00\",\"2017-09-12T12:00:00\",\"2017-09-29T18:00:00\",\"2017-10-03T00:00:00\",\"2017-10-03T12:00:00\",\"2017-10-05T15:00:00\",\"2017-10-06T00:00:00\",\"2017-10-12T12:00:00\",\"2017-10-13T00:00:00\",\"2017-10-13T12:00:00\",\"2017-10-13T17:00:00\",\"2017-10-14T00:00:00\",\"2017-10-14T12:00:00\",\"2017-10-15T00:00:00\",\"2017-10-15T12:00:00\",\"2017-10-16T00:00:00\",\"2017-10-16T12:00:00\",\"2017-10-17T00:00:00\",\"2017-10-17T12:00:00\",\"2017-10-17T18:00:00\",\"2017-10-20T15:00:00\",\"2017-11-01T21:00:00\",\"2018-09-27T12:00:00\",\"2019-05-14T19:00:00\",\"2022-01-01T00:00:00\",\"2022-01-01T12:00:00\",\"2022-01-02T00:00:00\",\"2022-01-02T12:00:00\",\"2022-01-03T00:00:00\",\"2022-01-03T12:00:00\",\"2022-01-04T00:00:00\",\"2022-01-04T12:00:00\",\"2022-01-05T00:00:00\",\"2022-01-05T12:00:00\",\"2022-01-06T00:00:00\",\"2022-01-06T12:00:00\",\"2022-01-07T00:00:00\",\"2022-01-07T12:00:00\",\"2022-01-08T00:00:00\",\"2022-01-08T12:00:00\",\"2022-01-09T00:00:00\",\"2022-01-09T12:00:00\"],\"xaxis\":\"x\",\"y\":[4,4,4,4,4,4,4,4,4,4,4,4,4,4,4,4,4,4,4,4,4,4,4,4,4,4,4,4,4,4,4,4,4,4,4,4,4,4,4,4,4,4,4,4,4,4,4,4,4,4,4,4,4,4,4,4,4,4,4,4,4,4,4,4,4,4,4,4,4,4,4,4,4,4,4,4,4,4,4,4,4,4,4,4,4,4,4,4,4,4,4,4,4,4,4,4,4,4,4,4,4,4,4,4,4,4,4,4,4,4,4,4,4,4,4,4,4,4,4,4,4,4,4,4,4,4,4,4,4,4,4,4,4,4,4,4,4,4,4,4,4,4,4,4,4,4,4,4,4,4,4,4,4,4,4,4,4,4,4,4,4,4,4,4,4,4,4,4,4,4,4,4,4,4,4,4,4,4,4,4,4,4,4,4,4,4,4,4,4,4,4,4,4,4,4,4,4,4,4,4,4,4,4,4,4,4,4,4,4,4,4,4,4,4,4,4,4,4,4,4,4,4,4,4,4,4,4,4,4,4,4,4,4,4,4,4,4,4,4,4,4,4,4,4,4,4,4,4,4,4,4,4,4,4,4,4,4,4,4,4,4,4,4,4,4,4,4,4,4,4,4,4,4,4,4,4,4,4,4,4,4,4,4,4,4,4,4,4,4,4,4,4,4,4,4,4,4,4,4,4,4,4,4,4,4,4,4,4,4,4,4,4,4,4,4,4,4,4,4,4,4,4,4,4,4,4,4,4,4,4,4,4,4,4,4,4,4,4,4,4,4,4,4,4,4,4,4,4,4,4,4,4,4,4,4,4,4,4,4,4,4,4,4,4,4,4,4,4,4,4,4,4,4,4,4,4,4,4,4,4,4,4,4,4,4,4,4,4,4,4,4,4,4,4,4,4,4,4,4,4,4,4,4,4,4,4,4,4,4,4,4,4,4,4,4,4,4,4,4,4,4,4,4,4,4,4,4,4,4,4,4,4,4,4,4,4,4,4,4,4,4,4,4,4,4,4,4,4,4,4,4,4,4,4,4,4,4,4,4,4],\"yaxis\":\"y\"},{\"customdata\":[[\"VIZ type B time-commutated (United States)             \"],[\"VIZ type B time-commutated (United States)             \"],[\"VIZ type B time-commutated (United States)             \"],[\"VIZ type B time-commutated (United States)             \"],[\"VIZ type B time-commutated (United States)             \"],[\"VIZ type B time-commutated (United States)             \"],[\"VIZ type B time-commutated (United States)             \"],[\"VIZ type B time-commutated (United States)             \"],[\"VIZ type B time-commutated (United States)             \"],[\"VIZ type B time-commutated (United States)             \"],[\"VIZ type B time-commutated (United States)             \"],[\"VIZ type B time-commutated (United States)             \"],[\"VIZ type B time-commutated (United States)             \"],[\"VIZ type B time-commutated (United States)             \"],[\"VIZ type B time-commutated (United States)             \"],[\"VIZ type B time-commutated (United States)             \"],[\"VIZ type B time-commutated (United States)             \"],[\"VIZ type B time-commutated (United States)             \"],[\"VIZ type B time-commutated (United States)             \"],[\"VIZ type B time-commutated (United States)             \"],[\"VIZ type B time-commutated (United States)             \"],[\"VIZ type B time-commutated (United States)             \"],[\"VIZ type B time-commutated (United States)             \"],[\"VIZ type B time-commutated (United States)             \"],[\"VIZ type B time-commutated (United States)             \"],[\"VIZ type B time-commutated (United States)             \"],[\"VIZ type B time-commutated (United States)             \"],[\"VIZ type B time-commutated (United States)             \"],[\"VIZ type B time-commutated (United States)             \"],[\"VIZ type B time-commutated (United States)             \"],[\"VIZ type B time-commutated (United States)             \"],[\"VIZ type B time-commutated (United States)             \"],[\"VIZ type B time-commutated (United States)             \"],[\"VIZ type B time-commutated (United States)             \"],[\"VIZ type B time-commutated (United States)             \"],[\"VIZ type B time-commutated (United States)             \"],[\"VIZ type B time-commutated (United States)             \"],[\"VIZ type B time-commutated (United States)             \"],[\"VIZ type B time-commutated (United States)             \"],[\"VIZ type B time-commutated (United States)             \"],[\"VIZ type B time-commutated (United States)             \"],[\"VIZ type B time-commutated (United States)             \"],[\"VIZ type B time-commutated (United States)             \"],[\"VIZ type B time-commutated (United States)             \"],[\"VIZ type B time-commutated (United States)             \"],[\"VIZ type B time-commutated (United States)             \"],[\"VIZ type B time-commutated (United States)             \"],[\"VIZ type B time-commutated (United States)             \"],[\"VIZ type B time-commutated (United States)             \"],[\"VIZ type B time-commutated (United States)             \"],[\"VIZ type B time-commutated (United States)             \"],[\"VIZ type B time-commutated (United States)             \"],[\"VIZ type B time-commutated (United States)             \"],[\"VIZ type B time-commutated (United States)             \"],[\"VIZ type B time-commutated (United States)             \"],[\"VIZ type B time-commutated (United States)             \"],[\"VIZ type B time-commutated (United States)             \"],[\"VIZ type B time-commutated (United States)             \"],[\"VIZ type B time-commutated (United States)             \"],[\"VIZ type B time-commutated (United States)             \"],[\"VIZ type B time-commutated (United States)             \"],[\"VIZ type B time-commutated (United States)             \"],[\"VIZ type B time-commutated (United States)             \"],[\"VIZ type B time-commutated (United States)             \"],[\"VIZ type B time-commutated (United States)             \"],[\"VIZ type B time-commutated (United States)             \"],[\"VIZ type B time-commutated (United States)             \"],[\"VIZ type B time-commutated (United States)             \"],[\"VIZ type B time-commutated (United States)             \"],[\"VIZ type B time-commutated (United States)             \"],[\"VIZ type B time-commutated (United States)             \"],[\"VIZ type B time-commutated (United States)             \"],[\"VIZ type B time-commutated (United States)             \"],[\"VIZ type B time-commutated (United States)             \"],[\"VIZ type B time-commutated (United States)             \"],[\"VIZ type B time-commutated (United States)             \"],[\"VIZ type B time-commutated (United States)             \"],[\"VIZ type B time-commutated (United States)             \"],[\"VIZ type B time-commutated (United States)             \"],[\"VIZ type B time-commutated (United States)             \"],[\"VIZ type B time-commutated (United States)             \"],[\"VIZ type B time-commutated (United States)             \"],[\"VIZ type B time-commutated (United States)             \"],[\"VIZ type B time-commutated (United States)             \"],[\"VIZ type B time-commutated (United States)             \"],[\"VIZ type B time-commutated (United States)             \"],[\"VIZ type B time-commutated (United States)             \"],[\"VIZ type B time-commutated (United States)             \"],[\"VIZ type B time-commutated (United States)             \"],[\"VIZ type B time-commutated (United States)             \"],[\"VIZ type B time-commutated (United States)             \"],[\"VIZ type B time-commutated (United States)             \"],[\"VIZ type B time-commutated (United States)             \"],[\"VIZ type B time-commutated (United States)             \"],[\"VIZ type B time-commutated (United States)             \"],[\"VIZ type B time-commutated (United States)             \"]],\"hovertemplate\":\"<b>%{hovertext}</b><br><br>sensor_id=11<br>date_time=%{x}<br>values=%{y}<br>comment=%{customdata[0]}<extra></extra>\",\"hovertext\":[\"11\",\"11\",\"11\",\"11\",\"11\",\"11\",\"11\",\"11\",\"11\",\"11\",\"11\",\"11\",\"11\",\"11\",\"11\",\"11\",\"11\",\"11\",\"11\",\"11\",\"11\",\"11\",\"11\",\"11\",\"11\",\"11\",\"11\",\"11\",\"11\",\"11\",\"11\",\"11\",\"11\",\"11\",\"11\",\"11\",\"11\",\"11\",\"11\",\"11\",\"11\",\"11\",\"11\",\"11\",\"11\",\"11\",\"11\",\"11\",\"11\",\"11\",\"11\",\"11\",\"11\",\"11\",\"11\",\"11\",\"11\",\"11\",\"11\",\"11\",\"11\",\"11\",\"11\",\"11\",\"11\",\"11\",\"11\",\"11\",\"11\",\"11\",\"11\",\"11\",\"11\",\"11\",\"11\",\"11\",\"11\",\"11\",\"11\",\"11\",\"11\",\"11\",\"11\",\"11\",\"11\",\"11\",\"11\",\"11\",\"11\",\"11\",\"11\",\"11\",\"11\",\"11\",\"11\",\"11\"],\"legendgroup\":\"11\",\"marker\":{\"color\":\"#19d3f3\",\"line\":{\"color\":\"DarkSlateGrey\",\"width\":2},\"size\":14,\"symbol\":\"circle\"},\"mode\":\"markers\",\"name\":\"11\",\"orientation\":\"v\",\"showlegend\":true,\"type\":\"scatter\",\"x\":[\"2013-11-18T19:00:00\",\"2013-12-16T21:00:00\",\"2013-12-18T00:00:00\",\"2014-05-01T12:00:00\",\"2014-07-24T12:00:00\",\"2015-01-08T00:00:00\",\"2016-08-22T00:00:00\",\"2016-10-08T00:00:00\",\"2016-11-17T00:00:00\",\"2016-12-11T00:00:00\",\"2017-03-02T22:52:00\",\"2017-08-29T00:00:00\",\"2017-09-13T00:00:00\",\"2017-09-30T00:00:00\",\"2017-10-04T00:00:00\",\"2017-10-06T12:00:00\",\"1994-01-01T00:00:00\",\"1994-01-02T00:00:00\",\"1994-01-11T00:00:00\",\"1994-02-03T00:00:00\",\"1994-02-19T00:00:00\",\"1994-04-08T00:00:00\",\"1994-05-07T00:00:00\",\"1994-05-08T12:00:00\",\"1994-05-11T00:00:00\",\"1994-05-12T00:00:00\",\"1994-05-15T12:00:00\",\"1994-05-18T00:00:00\",\"1994-05-21T00:00:00\",\"1994-06-14T12:00:00\",\"1994-07-04T00:00:00\",\"1994-08-30T12:00:00\",\"1994-09-01T12:00:00\",\"1994-09-02T12:00:00\",\"1994-09-08T12:00:00\",\"1994-09-30T00:00:00\",\"1994-10-22T00:00:00\",\"1994-11-03T12:00:00\",\"1994-12-27T12:00:00\",\"1995-01-07T12:00:00\",\"1995-01-13T00:00:00\",\"1995-01-23T00:00:00\",\"1995-01-25T00:00:00\",\"1995-01-29T12:00:00\",\"1995-02-04T12:00:00\",\"1995-02-08T00:00:00\",\"1995-02-12T12:00:00\",\"1995-02-13T12:00:00\",\"1995-02-16T00:00:00\",\"1995-02-18T00:00:00\",\"1995-02-25T00:00:00\",\"1995-02-26T12:00:00\",\"1995-02-27T12:00:00\",\"1995-03-01T12:00:00\",\"1995-03-11T12:00:00\",\"1995-03-14T00:00:00\",\"1995-03-22T00:00:00\",\"1995-03-23T00:00:00\",\"1995-03-24T00:00:00\",\"1995-04-02T12:00:00\",\"1995-04-07T12:00:00\",\"1995-04-13T00:00:00\",\"1995-04-14T12:00:00\",\"1995-04-18T00:00:00\",\"1995-04-20T12:00:00\",\"1995-05-02T00:00:00\",\"1995-05-18T00:00:00\",\"1995-05-28T12:00:00\",\"1995-06-17T12:00:00\",\"1995-08-11T00:00:00\",\"1995-08-14T00:00:00\",\"1995-08-25T12:00:00\",\"1995-08-28T00:00:00\",\"1995-09-05T12:00:00\",\"1995-09-12T00:00:00\",\"1995-09-15T12:00:00\",\"1995-10-01T00:00:00\",\"1995-10-20T00:00:00\",\"1995-10-26T12:00:00\",\"1995-10-27T12:00:00\",\"2013-11-18T19:00:00\",\"2013-12-16T21:00:00\",\"2013-12-18T00:00:00\",\"2014-05-01T12:00:00\",\"2014-07-24T12:00:00\",\"2015-01-08T00:00:00\",\"2016-08-22T00:00:00\",\"2016-10-08T00:00:00\",\"2016-11-17T00:00:00\",\"2016-12-11T00:00:00\",\"2017-03-02T22:52:00\",\"2017-08-29T00:00:00\",\"2017-09-13T00:00:00\",\"2017-09-30T00:00:00\",\"2017-10-04T00:00:00\",\"2017-10-06T12:00:00\"],\"xaxis\":\"x\",\"y\":[5,5,5,5,5,5,5,5,5,5,5,5,5,5,5,5,5,5,5,5,5,5,5,5,5,5,5,5,5,5,5,5,5,5,5,5,5,5,5,5,5,5,5,5,5,5,5,5,5,5,5,5,5,5,5,5,5,5,5,5,5,5,5,5,5,5,5,5,5,5,5,5,5,5,5,5,5,5,5,5,5,5,5,5,5,5,5,5,5,5,5,5,5,5,5,5],\"yaxis\":\"y\"},{\"customdata\":[[\"Vaisala RS41/AUTOSONDE (Finland)                            \"],[\"Vaisala RS41/AUTOSONDE (Finland)                            \"],[\"Vaisala RS41/AUTOSONDE (Finland)                            \"],[\"Vaisala RS41/AUTOSONDE (Finland)                            \"],[\"Vaisala RS41/AUTOSONDE (Finland)                            \"],[\"Vaisala RS41/AUTOSONDE (Finland)                            \"],[\"Vaisala RS41/AUTOSONDE (Finland)                            \"],[\"Vaisala RS41/AUTOSONDE (Finland)                            \"],[\"Vaisala RS41/AUTOSONDE (Finland)                            \"],[\"Vaisala RS41/AUTOSONDE (Finland)                            \"],[\"Vaisala RS41/AUTOSONDE (Finland)                            \"],[\"Vaisala RS41/AUTOSONDE (Finland)                            \"],[\"Vaisala RS41/AUTOSONDE (Finland)                            \"],[\"Vaisala RS41/AUTOSONDE (Finland)                            \"],[\"Vaisala RS41/AUTOSONDE (Finland)                            \"],[\"Vaisala RS41/AUTOSONDE (Finland)                            \"]],\"hovertemplate\":\"<b>%{hovertext}</b><br><br>sensor_id=124.<br>date_time=%{x}<br>values=%{y}<br>comment=%{customdata[0]}<extra></extra>\",\"hovertext\":[\"124.\",\"124.\",\"124.\",\"124.\",\"124.\",\"124.\",\"124.\",\"124.\",\"124.\",\"124.\",\"124.\",\"124.\",\"124.\",\"124.\",\"124.\",\"124.\"],\"legendgroup\":\"124.\",\"marker\":{\"color\":\"#FF6692\",\"line\":{\"color\":\"DarkSlateGrey\",\"width\":2},\"size\":14,\"symbol\":\"circle\"},\"mode\":\"markers\",\"name\":\"124.\",\"orientation\":\"v\",\"showlegend\":true,\"type\":\"scatter\",\"x\":[\"2017-10-17T23:01:04\",\"2017-10-20T23:01:04\",\"2017-11-01T23:01:04\",\"2018-03-08T23:01:04\",\"2018-05-28T18:19:06\",\"2018-09-27T23:01:04\",\"2019-07-28T23:01:04\",\"2019-09-06T11:01:04\",\"2020-09-01T23:01:07\",\"2020-09-05T23:01:05\",\"2020-09-07T23:01:06\",\"2020-09-08T23:01:05\",\"2020-09-09T23:01:05\",\"2020-09-22T11:01:07\",\"2021-08-27T23:01:05\",\"2021-10-28T11:01:05\"],\"xaxis\":\"x\",\"y\":[6,6,6,6,6,6,6,6,6,6,6,6,6,6,6,6],\"yaxis\":\"y\"},{\"customdata\":[[\"Mesural FMO 1945A (France)               \"],[\"Mesural FMO 1945A (France)               \"],[\"Mesural FMO 1945A (France)               \"],[\"Mesural FMO 1945A (France)               \"],[\"Mesural FMO 1945A (France)               \"],[\"Mesural FMO 1945A (France)               \"],[\"Mesural FMO 1945A (France)               \"],[\"Mesural FMO 1945A (France)               \"],[\"Mesural FMO 1945A (France)               \"],[\"Mesural FMO 1945A (France)               \"],[\"Mesural FMO 1945A (France)               \"],[\"Mesural FMO 1945A (France)               \"],[\"Mesural FMO 1945A (France)               \"],[\"Mesural FMO 1945A (France)               \"],[\"Mesural FMO 1945A (France)               \"],[\"Mesural FMO 1945A (France)               \"],[\"Mesural FMO 1945A (France)               \"],[\"Mesural FMO 1945A (France)               \"],[\"Mesural FMO 1945A (France)               \"],[\"Mesural FMO 1945A (France)               \"],[\"Mesural FMO 1945A (France)               \"],[\"Mesural FMO 1945A (France)               \"],[\"Mesural FMO 1945A (France)               \"],[\"Mesural FMO 1945A (France)               \"],[\"Mesural FMO 1945A (France)               \"],[\"Mesural FMO 1945A (France)               \"]],\"hovertemplate\":\"<b>%{hovertext}</b><br><br>sensor_id=24<br>date_time=%{x}<br>values=%{y}<br>comment=%{customdata[0]}<extra></extra>\",\"hovertext\":[\"24\",\"24\",\"24\",\"24\",\"24\",\"24\",\"24\",\"24\",\"24\",\"24\",\"24\",\"24\",\"24\",\"24\",\"24\",\"24\",\"24\",\"24\",\"24\",\"24\",\"24\",\"24\",\"24\",\"24\",\"24\",\"24\"],\"legendgroup\":\"24\",\"marker\":{\"color\":\"#B6E880\",\"line\":{\"color\":\"DarkSlateGrey\",\"width\":2},\"size\":14,\"symbol\":\"circle\"},\"mode\":\"markers\",\"name\":\"24\",\"orientation\":\"v\",\"showlegend\":true,\"type\":\"scatter\",\"x\":[\"2018-03-08T12:00:00\",\"2018-05-28T00:00:00\",\"2019-04-16T18:00:00\",\"2019-05-15T00:00:00\",\"2019-09-06T00:00:00\",\"2020-09-01T12:00:00\",\"2020-09-05T12:00:00\",\"2020-09-07T12:00:00\",\"2020-09-08T12:00:00\",\"2020-09-09T12:00:00\",\"2020-09-22T00:00:00\",\"2021-08-27T11:01:00\",\"2021-10-28T00:00:00\",\"2018-03-08T12:00:00\",\"2018-05-28T00:00:00\",\"2019-04-16T18:00:00\",\"2019-05-15T00:00:00\",\"2019-09-06T00:00:00\",\"2020-09-01T12:00:00\",\"2020-09-05T12:00:00\",\"2020-09-07T12:00:00\",\"2020-09-08T12:00:00\",\"2020-09-09T12:00:00\",\"2020-09-22T00:00:00\",\"2021-08-27T11:01:00\",\"2021-10-28T00:00:00\"],\"xaxis\":\"x\",\"y\":[7,7,7,7,7,7,7,7,7,7,7,7,7,7,7,7,7,7,7,7,7,7,7,7,7,7],\"yaxis\":\"y\"},{\"customdata\":[[\"VIZ type A pressure-commutated (United States)             \"]],\"hovertemplate\":\"<b>%{hovertext}</b><br><br>sensor_id=10<br>date_time=%{x}<br>values=%{y}<br>comment=%{customdata[0]}<extra></extra>\",\"hovertext\":[\"10\"],\"legendgroup\":\"10\",\"marker\":{\"color\":\"#FF97FF\",\"line\":{\"color\":\"DarkSlateGrey\",\"width\":2},\"size\":14,\"symbol\":\"circle\"},\"mode\":\"markers\",\"name\":\"10\",\"orientation\":\"v\",\"showlegend\":true,\"type\":\"scatter\",\"x\":[\"1994-11-03T00:00:00\"],\"xaxis\":\"x\",\"y\":[8],\"yaxis\":\"y\"},{\"customdata\":[[\"Vaisala RS80 (Finland)                \"],[\"Vaisala RS80 (Finland)                \"],[\"Vaisala RS80 (Finland)                \"],[\"Vaisala RS80 (Finland)                \"],[\"Vaisala RS80 (Finland)                \"],[\"Vaisala RS80 (Finland)                \"],[\"Vaisala RS80 (Finland)                \"],[\"Vaisala RS80 (Finland)                \"],[\"Vaisala RS80 (Finland)                \"],[\"Vaisala RS80 (Finland)                \"],[\"Vaisala RS80 (Finland)                \"],[\"Vaisala RS80 (Finland)                \"],[\"Vaisala RS80 (Finland)                \"],[\"Vaisala RS80 (Finland)                \"],[\"Vaisala RS80 (Finland)                \"],[\"Vaisala RS80 (Finland)                \"],[\"Vaisala RS80 (Finland)                \"],[\"Vaisala RS80 (Finland)                \"],[\"Vaisala RS80 (Finland)                \"],[\"Vaisala RS80 (Finland)                \"],[\"Vaisala RS80 (Finland)                \"],[\"Vaisala RS80 (Finland)                \"],[\"Vaisala RS80 (Finland)                \"],[\"Vaisala RS80 (Finland)                \"],[\"Vaisala RS80 (Finland)                \"],[\"Vaisala RS80 (Finland)                \"],[\"Vaisala RS80 (Finland)                \"],[\"Vaisala RS80 (Finland)                \"],[\"Vaisala RS80 (Finland)                \"],[\"Vaisala RS80 (Finland)                \"],[\"Vaisala RS80 (Finland)                \"],[\"Vaisala RS80 (Finland)                \"],[\"Vaisala RS80 (Finland)                \"],[\"Vaisala RS80 (Finland)                \"],[\"Vaisala RS80 (Finland)                \"],[\"Vaisala RS80 (Finland)                \"],[\"Vaisala RS80 (Finland)                \"],[\"Vaisala RS80 (Finland)                \"],[\"Vaisala RS80 (Finland)                \"],[\"Vaisala RS80 (Finland)                \"],[\"Vaisala RS80 (Finland)                \"],[\"Vaisala RS80 (Finland)                \"],[\"Vaisala RS80 (Finland)                \"],[\"Vaisala RS80 (Finland)                \"],[\"Vaisala RS80 (Finland)                \"],[\"Vaisala RS80 (Finland)                \"],[\"Vaisala RS80 (Finland)                \"],[\"Vaisala RS80 (Finland)                \"],[\"Vaisala RS80 (Finland)                \"],[\"Vaisala RS80 (Finland)                \"],[\"Vaisala RS80 (Finland)                \"],[\"Vaisala RS80 (Finland)                \"],[\"Vaisala RS80 (Finland)                \"],[\"Vaisala RS80 (Finland)                \"],[\"Vaisala RS80 (Finland)                \"],[\"Vaisala RS80 (Finland)                \"],[\"Vaisala RS80 (Finland)                \"],[\"Vaisala RS80 (Finland)                \"],[\"Vaisala RS80 (Finland)                \"],[\"Vaisala RS80 (Finland)                \"],[\"Vaisala RS80 (Finland)                \"],[\"Vaisala RS80 (Finland)                \"],[\"Vaisala RS80 (Finland)                \"],[\"Vaisala RS80 (Finland)                \"],[\"Vaisala RS80 (Finland)                \"],[\"Vaisala RS80 (Finland)                \"],[\"Vaisala RS80 (Finland)                \"],[\"Vaisala RS80 (Finland)                \"],[\"Vaisala RS80 (Finland)                \"],[\"Vaisala RS80 (Finland)                \"],[\"Vaisala RS80 (Finland)                \"],[\"Vaisala RS80 (Finland)                \"],[\"Vaisala RS80 (Finland)                \"],[\"Vaisala RS80 (Finland)                \"],[\"Vaisala RS80 (Finland)                \"],[\"Vaisala RS80 (Finland)                \"],[\"Vaisala RS80 (Finland)                \"],[\"Vaisala RS80 (Finland)                \"],[\"Vaisala RS80 (Finland)                \"],[\"Vaisala RS80 (Finland)                \"],[\"Vaisala RS80 (Finland)                \"],[\"Vaisala RS80 (Finland)                \"],[\"Vaisala RS80 (Finland)                \"],[\"Vaisala RS80 (Finland)                \"]],\"hovertemplate\":\"<b>%{hovertext}</b><br><br>sensor_id=37<br>date_time=%{x}<br>values=%{y}<br>comment=%{customdata[0]}<extra></extra>\",\"hovertext\":[\"37\",\"37\",\"37\",\"37\",\"37\",\"37\",\"37\",\"37\",\"37\",\"37\",\"37\",\"37\",\"37\",\"37\",\"37\",\"37\",\"37\",\"37\",\"37\",\"37\",\"37\",\"37\",\"37\",\"37\",\"37\",\"37\",\"37\",\"37\",\"37\",\"37\",\"37\",\"37\",\"37\",\"37\",\"37\",\"37\",\"37\",\"37\",\"37\",\"37\",\"37\",\"37\",\"37\",\"37\",\"37\",\"37\",\"37\",\"37\",\"37\",\"37\",\"37\",\"37\",\"37\",\"37\",\"37\",\"37\",\"37\",\"37\",\"37\",\"37\",\"37\",\"37\",\"37\",\"37\",\"37\",\"37\",\"37\",\"37\",\"37\",\"37\",\"37\",\"37\",\"37\",\"37\",\"37\",\"37\",\"37\",\"37\",\"37\",\"37\",\"37\",\"37\",\"37\",\"37\"],\"legendgroup\":\"37\",\"marker\":{\"color\":\"#FECB52\",\"line\":{\"color\":\"DarkSlateGrey\",\"width\":2},\"size\":14,\"symbol\":\"circle\"},\"mode\":\"markers\",\"name\":\"37\",\"orientation\":\"v\",\"showlegend\":true,\"type\":\"scatter\",\"x\":[\"1995-11-01T00:00:00\",\"1995-11-05T12:00:00\",\"1995-11-06T12:00:00\",\"1995-11-08T00:00:00\",\"1995-11-11T00:00:00\",\"1995-12-16T00:00:00\",\"1995-12-17T00:00:00\",\"1995-12-31T00:00:00\",\"1996-01-01T00:00:00\",\"1996-01-05T00:00:00\",\"1996-01-09T12:00:00\",\"1996-01-12T00:00:00\",\"1996-01-16T12:00:00\",\"1996-01-18T00:00:00\",\"1996-01-19T12:00:00\",\"1996-01-22T00:00:00\",\"1996-01-24T00:00:00\",\"1996-01-26T12:00:00\",\"1996-01-30T00:00:00\",\"1996-02-01T12:00:00\",\"1996-02-13T00:00:00\",\"1996-02-15T12:00:00\",\"1996-02-23T12:00:00\",\"1996-03-02T12:00:00\",\"1996-03-08T00:00:00\",\"1996-03-19T12:00:00\",\"1996-03-22T12:00:00\",\"1996-03-25T00:00:00\",\"1996-04-02T00:00:00\",\"1996-04-03T00:00:00\",\"1996-04-14T12:00:00\",\"1996-05-04T00:00:00\",\"1996-05-17T12:00:00\",\"1996-05-21T12:00:00\",\"1996-06-02T12:00:00\",\"1996-06-19T00:00:00\",\"1996-07-12T00:00:00\",\"1996-07-15T12:00:00\",\"1996-07-21T00:00:00\",\"1996-07-29T00:00:00\",\"1996-08-03T00:00:00\",\"1996-08-08T00:00:00\",\"1996-08-15T00:00:00\",\"1996-08-16T00:00:00\",\"1996-08-18T12:00:00\",\"1996-08-23T00:00:00\",\"1996-08-26T12:00:00\",\"1996-08-28T00:00:00\",\"1996-08-31T00:00:00\",\"1996-09-01T12:00:00\",\"1996-09-02T12:00:00\",\"1996-09-04T12:00:00\",\"1996-09-09T12:00:00\",\"1996-09-11T12:00:00\",\"1996-09-13T12:00:00\",\"1996-09-14T12:00:00\",\"1996-09-15T12:00:00\",\"1996-09-27T00:00:00\",\"1996-09-29T12:00:00\",\"1996-09-30T12:00:00\",\"1996-10-01T12:00:00\",\"1996-10-17T12:00:00\",\"1996-10-19T00:00:00\",\"1996-10-20T00:00:00\",\"1996-11-10T00:00:00\",\"1996-11-12T00:00:00\",\"1996-11-16T12:00:00\",\"1996-12-03T00:00:00\",\"1996-12-04T12:00:00\",\"1996-12-06T00:00:00\",\"1996-12-15T00:00:00\",\"1996-12-16T00:00:00\",\"1997-01-17T00:00:00\",\"1997-01-18T00:00:00\",\"1997-02-11T00:00:00\",\"1997-02-12T00:00:00\",\"1997-02-13T00:00:00\",\"1997-02-14T12:00:00\",\"1997-02-16T00:00:00\",\"1997-02-17T00:00:00\",\"1997-04-05T00:00:00\",\"1997-04-08T00:00:00\",\"1997-04-29T12:00:00\",\"1997-05-22T00:00:00\"],\"xaxis\":\"x\",\"y\":[9,9,9,9,9,9,9,9,9,9,9,9,9,9,9,9,9,9,9,9,9,9,9,9,9,9,9,9,9,9,9,9,9,9,9,9,9,9,9,9,9,9,9,9,9,9,9,9,9,9,9,9,9,9,9,9,9,9,9,9,9,9,9,9,9,9,9,9,9,9,9,9,9,9,9,9,9,9,9,9,9,9,9,9],\"yaxis\":\"y\"},{\"customdata\":[[\"Vaisala RS80-57H                 \"],[\"Vaisala RS80-57H                 \"],[\"Vaisala RS80-57H                 \"],[\"Vaisala RS80-57H                 \"],[\"Vaisala RS80-57H                 \"],[\"Vaisala RS80-57H                 \"],[\"Vaisala RS80-57H                 \"],[\"Vaisala RS80-57H                 \"],[\"Vaisala RS80-57H                 \"],[\"Vaisala RS80-57H                 \"],[\"Vaisala RS80-57H                 \"],[\"Vaisala RS80-57H                 \"],[\"Vaisala RS80-57H                 \"],[\"Vaisala RS80-57H                 \"],[\"Vaisala RS80-57H                 \"],[\"Vaisala RS80-57H                 \"],[\"Vaisala RS80-57H                 \"],[\"Vaisala RS80-57H                 \"],[\"Vaisala RS80-57H                 \"],[\"Vaisala RS80-57H                 \"],[\"Vaisala RS80-57H                 \"],[\"Vaisala RS80-57H                 \"],[\"Vaisala RS80-57H                 \"],[\"Vaisala RS80-57H                 \"],[\"Vaisala RS80-57H                 \"],[\"Vaisala RS80-57H                 \"],[\"Vaisala RS80-57H                 \"],[\"Vaisala RS80-57H                 \"],[\"Vaisala RS80-57H                 \"],[\"Vaisala RS80-57H                 \"],[\"Vaisala RS80-57H                 \"],[\"Vaisala RS80-57H                 \"],[\"Vaisala RS80-57H                 \"],[\"Vaisala RS80-57H                 \"],[\"Vaisala RS80-57H                 \"],[\"Vaisala RS80-57H                 \"],[\"Vaisala RS80-57H                 \"],[\"Vaisala RS80-57H                 \"],[\"Vaisala RS80-57H                 \"],[\"Vaisala RS80-57H                 \"],[\"Vaisala RS80-57H                 \"],[\"Vaisala RS80-57H                 \"],[\"Vaisala RS80-57H                 \"],[\"Vaisala RS80-57H                 \"],[\"Vaisala RS80-57H                 \"],[\"Vaisala RS80-57H                 \"],[\"Vaisala RS80-57H                 \"],[\"Vaisala RS80-57H                 \"],[\"Vaisala RS80-57H                 \"],[\"Vaisala RS80-57H                 \"],[\"Vaisala RS80-57H                 \"],[\"Vaisala RS80-57H                 \"],[\"Vaisala RS80-57H                 \"],[\"Vaisala RS80-57H                 \"],[\"Vaisala RS80-57H                 \"],[\"Vaisala RS80-57H                 \"],[\"Vaisala RS80-57H                 \"],[\"Vaisala RS80-57H                 \"],[\"Vaisala RS80-57H                 \"],[\"Vaisala RS80-57H                 \"],[\"Vaisala RS80-57H                 \"],[\"Vaisala RS80-57H                 \"],[\"Vaisala RS80-57H                 \"],[\"Vaisala RS80-57H                 \"],[\"Vaisala RS80-57H                 \"],[\"Vaisala RS80-57H                 \"],[\"Vaisala RS80-57H                 \"],[\"Vaisala RS80-57H                 \"],[\"Vaisala RS80-57H                 \"],[\"Vaisala RS80-57H                 \"],[\"Vaisala RS80-57H                 \"],[\"Vaisala RS80-57H                 \"],[\"Vaisala RS80-57H                 \"],[\"Vaisala RS80-57H                 \"],[\"Vaisala RS80-57H                 \"],[\"Vaisala RS80-57H                 \"],[\"Vaisala RS80-57H                 \"],[\"Vaisala RS80-57H                 \"],[\"Vaisala RS80-57H                 \"],[\"Vaisala RS80-57H                 \"],[\"Vaisala RS80-57H                 \"],[\"Vaisala RS80-57H                 \"],[\"Vaisala RS80-57H                 \"],[\"Vaisala RS80-57H                 \"],[\"Vaisala RS80-57H                 \"],[\"Vaisala RS80-57H                 \"],[\"Vaisala RS80-57H                 \"],[\"Vaisala RS80-57H                 \"],[\"Vaisala RS80-57H                 \"],[\"Vaisala RS80-57H                 \"],[\"Vaisala RS80-57H                 \"],[\"Vaisala RS80-57H                 \"],[\"Vaisala RS80-57H                 \"],[\"Vaisala RS80-57H                 \"],[\"Vaisala RS80-57H                 \"],[\"Vaisala RS80-57H                 \"],[\"Vaisala RS80-57H                 \"],[\"Vaisala RS80-57H                 \"],[\"Vaisala RS80-57H                 \"],[\"Vaisala RS80-57H                 \"],[\"Vaisala RS80-57H                 \"],[\"Vaisala RS80-57H                 \"],[\"Vaisala RS80-57H                 \"],[\"Vaisala RS80-57H                 \"],[\"Vaisala RS80-57H                 \"],[\"Vaisala RS80-57H                 \"],[\"Vaisala RS80-57H                 \"],[\"Vaisala RS80-57H                 \"],[\"Vaisala RS80-57H                 \"],[\"Vaisala RS80-57H                 \"],[\"Vaisala RS80-57H                 \"],[\"Vaisala RS80-57H                 \"],[\"Vaisala RS80-57H                 \"],[\"Vaisala RS80-57H                 \"],[\"Vaisala RS80-57H                 \"],[\"Vaisala RS80-57H                 \"],[\"Vaisala RS80-57H                 \"],[\"Vaisala RS80-57H                 \"],[\"Vaisala RS80-57H                 \"],[\"Vaisala RS80-57H                 \"],[\"Vaisala RS80-57H                 \"],[\"Vaisala RS80-57H                 \"],[\"Vaisala RS80-57H                 \"],[\"Vaisala RS80-57H                 \"],[\"Vaisala RS80-57H                 \"],[\"Vaisala RS80-57H                 \"],[\"Vaisala RS80-57H                 \"],[\"Vaisala RS80-57H                 \"],[\"Vaisala RS80-57H                 \"],[\"Vaisala RS80-57H                 \"],[\"Vaisala RS80-57H                 \"],[\"Vaisala RS80-57H                 \"],[\"Vaisala RS80-57H                 \"],[\"Vaisala RS80-57H                 \"],[\"Vaisala RS80-57H                 \"],[\"Vaisala RS80-57H                 \"],[\"Vaisala RS80-57H                 \"],[\"Vaisala RS80-57H                 \"],[\"Vaisala RS80-57H                 \"],[\"Vaisala RS80-57H                 \"],[\"Vaisala RS80-57H                 \"],[\"Vaisala RS80-57H                 \"],[\"Vaisala RS80-57H                 \"],[\"Vaisala RS80-57H                 \"],[\"Vaisala RS80-57H                 \"],[\"Vaisala RS80-57H                 \"],[\"Vaisala RS80-57H                 \"],[\"Vaisala RS80-57H                 \"],[\"Vaisala RS80-57H                 \"],[\"Vaisala RS80-57H                 \"],[\"Vaisala RS80-57H                 \"],[\"Vaisala RS80-57H                 \"],[\"Vaisala RS80-57H                 \"],[\"Vaisala RS80-57H                 \"],[\"Vaisala RS80-57H                 \"],[\"Vaisala RS80-57H                 \"],[\"Vaisala RS80-57H                 \"],[\"Vaisala RS80-57H                 \"],[\"Vaisala RS80-57H                 \"],[\"Vaisala RS80-57H                 \"],[\"Vaisala RS80-57H                 \"],[\"Vaisala RS80-57H                 \"],[\"Vaisala RS80-57H                 \"],[\"Vaisala RS80-57H                 \"],[\"Vaisala RS80-57H                 \"],[\"Vaisala RS80-57H                 \"],[\"Vaisala RS80-57H                 \"],[\"Vaisala RS80-57H                 \"],[\"Vaisala RS80-57H                 \"],[\"Vaisala RS80-57H                 \"],[\"Vaisala RS80-57H                 \"],[\"Vaisala RS80-57H                 \"],[\"Vaisala RS80-57H                 \"],[\"Vaisala RS80-57H                 \"],[\"Vaisala RS80-57H                 \"],[\"Vaisala RS80-57H                 \"],[\"Vaisala RS80-57H                 \"],[\"Vaisala RS80-57H                 \"],[\"Vaisala RS80-57H                 \"],[\"Vaisala RS80-57H                 \"],[\"Vaisala RS80-57H                 \"],[\"Vaisala RS80-57H                 \"],[\"Vaisala RS80-57H                 \"],[\"Vaisala RS80-57H                 \"],[\"Vaisala RS80-57H                 \"],[\"Vaisala RS80-57H                 \"],[\"Vaisala RS80-57H                 \"],[\"Vaisala RS80-57H                 \"],[\"Vaisala RS80-57H                 \"],[\"Vaisala RS80-57H                 \"],[\"Vaisala RS80-57H                 \"],[\"Vaisala RS80-57H                 \"],[\"Vaisala RS80-57H                 \"],[\"Vaisala RS80-57H                 \"],[\"Vaisala RS80-57H                 \"],[\"Vaisala RS80-57H                 \"],[\"Vaisala RS80-57H                 \"],[\"Vaisala RS80-57H                 \"],[\"Vaisala RS80-57H                 \"],[\"Vaisala RS80-57H                 \"],[\"Vaisala RS80-57H                 \"],[\"Vaisala RS80-57H                 \"],[\"Vaisala RS80-57H                 \"],[\"Vaisala RS80-57H                 \"],[\"Vaisala RS80-57H                 \"],[\"Vaisala RS80-57H                 \"],[\"Vaisala RS80-57H                 \"],[\"Vaisala RS80-57H                 \"],[\"Vaisala RS80-57H                 \"],[\"Vaisala RS80-57H                 \"],[\"Vaisala RS80-57H                 \"]],\"hovertemplate\":\"<b>%{hovertext}</b><br><br>sensor_id=52<br>date_time=%{x}<br>values=%{y}<br>comment=%{customdata[0]}<extra></extra>\",\"hovertext\":[\"52\",\"52\",\"52\",\"52\",\"52\",\"52\",\"52\",\"52\",\"52\",\"52\",\"52\",\"52\",\"52\",\"52\",\"52\",\"52\",\"52\",\"52\",\"52\",\"52\",\"52\",\"52\",\"52\",\"52\",\"52\",\"52\",\"52\",\"52\",\"52\",\"52\",\"52\",\"52\",\"52\",\"52\",\"52\",\"52\",\"52\",\"52\",\"52\",\"52\",\"52\",\"52\",\"52\",\"52\",\"52\",\"52\",\"52\",\"52\",\"52\",\"52\",\"52\",\"52\",\"52\",\"52\",\"52\",\"52\",\"52\",\"52\",\"52\",\"52\",\"52\",\"52\",\"52\",\"52\",\"52\",\"52\",\"52\",\"52\",\"52\",\"52\",\"52\",\"52\",\"52\",\"52\",\"52\",\"52\",\"52\",\"52\",\"52\",\"52\",\"52\",\"52\",\"52\",\"52\",\"52\",\"52\",\"52\",\"52\",\"52\",\"52\",\"52\",\"52\",\"52\",\"52\",\"52\",\"52\",\"52\",\"52\",\"52\",\"52\",\"52\",\"52\",\"52\",\"52\",\"52\",\"52\",\"52\",\"52\",\"52\",\"52\",\"52\",\"52\",\"52\",\"52\",\"52\",\"52\",\"52\",\"52\",\"52\",\"52\",\"52\",\"52\",\"52\",\"52\",\"52\",\"52\",\"52\",\"52\",\"52\",\"52\",\"52\",\"52\",\"52\",\"52\",\"52\",\"52\",\"52\",\"52\",\"52\",\"52\",\"52\",\"52\",\"52\",\"52\",\"52\",\"52\",\"52\",\"52\",\"52\",\"52\",\"52\",\"52\",\"52\",\"52\",\"52\",\"52\",\"52\",\"52\",\"52\",\"52\",\"52\",\"52\",\"52\",\"52\",\"52\",\"52\",\"52\",\"52\",\"52\",\"52\",\"52\",\"52\",\"52\",\"52\",\"52\",\"52\",\"52\",\"52\",\"52\",\"52\",\"52\",\"52\",\"52\",\"52\",\"52\",\"52\",\"52\",\"52\",\"52\",\"52\",\"52\",\"52\",\"52\",\"52\",\"52\",\"52\",\"52\",\"52\",\"52\",\"52\",\"52\",\"52\",\"52\",\"52\",\"52\",\"52\",\"52\",\"52\",\"52\",\"52\",\"52\"],\"legendgroup\":\"52\",\"marker\":{\"color\":\"#636efa\",\"line\":{\"color\":\"DarkSlateGrey\",\"width\":2},\"size\":14,\"symbol\":\"circle\"},\"mode\":\"markers\",\"name\":\"52\",\"orientation\":\"v\",\"showlegend\":true,\"type\":\"scatter\",\"x\":[\"1996-09-29T00:00:00\",\"1996-09-30T00:00:00\",\"1996-10-17T00:00:00\",\"1996-10-18T00:00:00\",\"1996-11-01T12:00:00\",\"1996-11-09T00:00:00\",\"1996-11-10T12:00:00\",\"1996-11-11T12:00:00\",\"1996-11-12T12:00:00\",\"1996-11-17T00:00:00\",\"1996-11-20T12:00:00\",\"1996-12-04T00:00:00\",\"1996-12-05T00:00:00\",\"1996-12-06T12:00:00\",\"1996-12-15T12:00:00\",\"1996-12-16T12:00:00\",\"1996-12-22T00:00:00\",\"1997-01-04T12:00:00\",\"1997-01-06T12:00:00\",\"1997-01-17T12:00:00\",\"1997-01-18T12:00:00\",\"1997-01-24T00:00:00\",\"1997-01-25T12:00:00\",\"1997-02-11T12:00:00\",\"1997-02-12T12:00:00\",\"1997-02-13T12:00:00\",\"1997-02-15T00:00:00\",\"1997-02-16T12:00:00\",\"1997-02-18T00:00:00\",\"1997-03-01T12:00:00\",\"1997-03-07T12:00:00\",\"1997-04-05T12:00:00\",\"1997-04-08T12:00:00\",\"1997-04-09T12:00:00\",\"1997-04-21T12:00:00\",\"1997-04-23T12:00:00\",\"1997-04-30T00:00:00\",\"1997-05-07T00:00:00\",\"1997-05-22T12:00:00\",\"1997-05-28T00:00:00\",\"1997-05-29T12:00:00\",\"1997-06-03T00:00:00\",\"1997-06-10T12:00:00\",\"1997-06-13T11:00:00\",\"1997-06-22T00:00:00\",\"1997-07-02T00:00:00\",\"1997-07-14T12:00:00\",\"1997-07-17T00:00:00\",\"1997-08-05T12:00:00\",\"1997-08-10T00:00:00\",\"1997-08-22T00:00:00\",\"1997-09-09T00:00:00\",\"1997-10-03T00:00:00\",\"1997-10-06T12:00:00\",\"1997-10-29T12:00:00\",\"1997-11-07T00:00:00\",\"1997-11-09T12:00:00\",\"1997-11-20T12:00:00\",\"1997-11-29T00:00:00\",\"1997-12-10T12:00:00\",\"1997-12-14T12:00:00\",\"1997-12-21T00:00:00\",\"1998-01-07T00:00:00\",\"1998-01-08T00:00:00\",\"1998-01-19T12:00:00\",\"1998-01-24T00:00:00\",\"1998-03-16T12:00:00\",\"1998-03-27T00:00:00\",\"1998-04-24T00:00:00\",\"1998-05-03T00:00:00\",\"1998-05-12T12:00:00\",\"1998-05-21T00:00:00\",\"1998-05-28T00:00:00\",\"1998-05-29T00:00:00\",\"1998-06-02T00:00:00\",\"1998-06-04T00:00:00\",\"1998-06-19T00:00:00\",\"1998-06-21T00:00:00\",\"1998-06-27T12:00:00\",\"1998-06-30T12:00:00\",\"1998-07-02T12:00:00\",\"1998-07-05T00:00:00\",\"1998-07-19T00:00:00\",\"1998-07-30T12:00:00\",\"1998-08-01T12:00:00\",\"1998-08-12T12:00:00\",\"1998-08-30T12:00:00\",\"1998-09-12T12:00:00\",\"1998-09-17T00:00:00\",\"1998-09-21T12:00:00\",\"1998-10-05T12:00:00\",\"1998-10-19T00:00:00\",\"1998-10-23T00:00:00\",\"1998-11-11T00:00:00\",\"1998-11-20T12:00:00\",\"1998-11-27T00:00:00\",\"1998-12-18T00:00:00\",\"1998-12-23T12:00:00\",\"1999-01-10T00:00:00\",\"1999-01-26T00:00:00\",\"1999-01-28T12:00:00\",\"1999-02-04T00:00:00\",\"1999-02-18T12:00:00\",\"1999-03-07T12:00:00\",\"1999-03-14T00:00:00\",\"1999-03-15T00:00:00\",\"1999-03-28T00:00:00\",\"1999-03-29T12:00:00\",\"1999-04-05T00:00:00\",\"1999-06-01T12:00:00\",\"1999-06-16T12:00:00\",\"1999-06-20T00:00:00\",\"1999-06-21T12:00:00\",\"1999-06-23T12:00:00\",\"1999-06-24T12:00:00\",\"1999-07-03T00:00:00\",\"1999-07-26T00:00:00\",\"1999-07-28T12:00:00\",\"1999-08-06T12:00:00\",\"1999-08-07T12:00:00\",\"1999-08-13T00:00:00\",\"1999-08-31T12:00:00\",\"1999-10-04T12:00:00\",\"1999-10-26T00:00:00\",\"2000-02-10T00:00:00\",\"2000-02-13T00:00:00\",\"2000-03-15T12:00:00\",\"2000-03-17T12:00:00\",\"2000-03-29T00:00:00\",\"2000-05-03T00:00:00\",\"2000-05-04T12:00:00\",\"2000-07-29T12:00:00\",\"2000-08-05T03:00:00\",\"2000-08-05T12:00:00\",\"2000-08-08T12:00:00\",\"2000-08-11T00:00:00\",\"2000-11-08T00:00:00\",\"2001-01-09T12:00:00\",\"2001-01-19T12:00:00\",\"2001-02-22T00:00:00\",\"2001-03-07T12:00:00\",\"2001-04-19T12:00:00\",\"2001-04-30T12:00:00\",\"2001-05-16T12:00:00\",\"2001-05-26T00:00:00\",\"2001-06-12T12:00:00\",\"2001-06-29T12:00:00\",\"2001-07-11T12:00:00\",\"2001-07-14T12:00:00\",\"2001-07-15T12:00:00\",\"2001-08-06T00:00:00\",\"2001-08-07T12:00:00\",\"2001-10-20T12:00:00\",\"2001-11-05T12:00:00\",\"2002-02-28T12:00:00\",\"2002-03-15T12:00:00\",\"2002-03-20T12:00:00\",\"2002-05-03T12:00:00\",\"2002-07-25T12:00:00\",\"2002-08-02T00:00:00\",\"2002-09-06T00:00:00\",\"2002-09-24T12:00:00\",\"2002-10-10T12:00:00\",\"2003-03-27T12:00:00\",\"2003-04-28T12:00:00\",\"2003-05-02T00:00:00\",\"2003-05-14T00:00:00\",\"2003-05-30T12:00:00\",\"2003-07-31T12:00:00\",\"2003-08-31T12:00:00\",\"2003-10-02T12:00:00\",\"2003-10-30T00:00:00\",\"2003-11-07T00:00:00\",\"2004-01-04T00:00:00\",\"2004-03-03T12:00:00\",\"2004-03-20T12:00:00\",\"2004-03-27T12:00:00\",\"2004-04-07T00:00:00\",\"2004-05-21T12:00:00\",\"2004-06-09T00:00:00\",\"2004-06-30T12:00:00\",\"2004-07-12T00:00:00\",\"2004-07-22T12:00:00\",\"2004-10-05T00:00:00\",\"2004-10-10T12:00:00\",\"2004-10-23T12:00:00\",\"2005-01-08T00:00:00\",\"2005-03-01T00:00:00\",\"2005-05-31T00:00:00\",\"2005-06-21T12:00:00\",\"2005-09-21T00:00:00\",\"2005-10-30T00:00:00\",\"2006-03-16T12:00:00\",\"2006-08-01T12:00:00\",\"2006-08-04T12:00:00\",\"2007-10-21T00:00:00\",\"2008-02-20T12:00:00\",\"2008-05-16T00:00:00\",\"2008-05-17T12:00:00\",\"2008-05-31T12:00:00\",\"2008-09-21T00:00:00\",\"2008-09-28T00:00:00\",\"2009-01-21T00:00:00\",\"2009-02-15T00:00:00\",\"2009-05-13T12:00:00\",\"2009-07-02T00:00:00\",\"2009-11-06T12:00:00\",\"2009-11-17T00:00:00\",\"2009-11-17T12:00:00\",\"2009-11-18T00:00:00\",\"2009-11-30T00:00:00\"],\"xaxis\":\"x\",\"y\":[10,10,10,10,10,10,10,10,10,10,10,10,10,10,10,10,10,10,10,10,10,10,10,10,10,10,10,10,10,10,10,10,10,10,10,10,10,10,10,10,10,10,10,10,10,10,10,10,10,10,10,10,10,10,10,10,10,10,10,10,10,10,10,10,10,10,10,10,10,10,10,10,10,10,10,10,10,10,10,10,10,10,10,10,10,10,10,10,10,10,10,10,10,10,10,10,10,10,10,10,10,10,10,10,10,10,10,10,10,10,10,10,10,10,10,10,10,10,10,10,10,10,10,10,10,10,10,10,10,10,10,10,10,10,10,10,10,10,10,10,10,10,10,10,10,10,10,10,10,10,10,10,10,10,10,10,10,10,10,10,10,10,10,10,10,10,10,10,10,10,10,10,10,10,10,10,10,10,10,10,10,10,10,10,10,10,10,10,10,10,10,10,10,10,10,10,10,10,10,10,10,10,10,10,10,10,10,10,10,10,10],\"yaxis\":\"y\"},{\"customdata\":[[\"AVK-RF95 (Russian Federation)                \"]],\"hovertemplate\":\"<b>%{hovertext}</b><br><br>sensor_id=53<br>date_time=%{x}<br>values=%{y}<br>comment=%{customdata[0]}<extra></extra>\",\"hovertext\":[\"53\"],\"legendgroup\":\"53\",\"marker\":{\"color\":\"#EF553B\",\"line\":{\"color\":\"DarkSlateGrey\",\"width\":2},\"size\":14,\"symbol\":\"circle\"},\"mode\":\"markers\",\"name\":\"53\",\"orientation\":\"v\",\"showlegend\":true,\"type\":\"scatter\",\"x\":[\"1996-12-21T12:00:00\"],\"xaxis\":\"x\",\"y\":[11],\"yaxis\":\"y\"},{\"customdata\":[[\"AVK-MRZ (Russian Federation)                \"]],\"hovertemplate\":\"<b>%{hovertext}</b><br><br>sensor_id=27<br>date_time=%{x}<br>values=%{y}<br>comment=%{customdata[0]}<extra></extra>\",\"hovertext\":[\"27\"],\"legendgroup\":\"27\",\"marker\":{\"color\":\"#00cc96\",\"line\":{\"color\":\"DarkSlateGrey\",\"width\":2},\"size\":14,\"symbol\":\"circle\"},\"mode\":\"markers\",\"name\":\"27\",\"orientation\":\"v\",\"showlegend\":true,\"type\":\"scatter\",\"x\":[\"1997-04-09T00:00:00\"],\"xaxis\":\"x\",\"y\":[12],\"yaxis\":\"y\"},{\"customdata\":[[\"Vaisala RS41/AUTOSONDE (Finland)                            \"],[\"Vaisala RS41/AUTOSONDE (Finland)                            \"],[\"Vaisala RS41/AUTOSONDE (Finland)                            \"],[\"Vaisala RS41/AUTOSONDE (Finland)                            \"],[\"Vaisala RS41/AUTOSONDE (Finland)                            \"],[\"Vaisala RS41/AUTOSONDE (Finland)                            \"],[\"Vaisala RS41/AUTOSONDE (Finland)                            \"],[\"Vaisala RS41/AUTOSONDE (Finland)                            \"],[\"Vaisala RS41/AUTOSONDE (Finland)                            \"],[\"Vaisala RS41/AUTOSONDE (Finland)                            \"],[\"Vaisala RS41/AUTOSONDE (Finland)                            \"],[\"Vaisala RS41/AUTOSONDE (Finland)                            \"],[\"Vaisala RS41/AUTOSONDE (Finland)                            \"],[\"Vaisala RS41/AUTOSONDE (Finland)                            \"],[\"Vaisala RS41/AUTOSONDE (Finland)                            \"],[\"Vaisala RS41/AUTOSONDE (Finland)                            \"]],\"hovertemplate\":\"<b>%{hovertext}</b><br><br>sensor_id=124<br>date_time=%{x}<br>values=%{y}<br>comment=%{customdata[0]}<extra></extra>\",\"hovertext\":[\"124\",\"124\",\"124\",\"124\",\"124\",\"124\",\"124\",\"124\",\"124\",\"124\",\"124\",\"124\",\"124\",\"124\",\"124\",\"124\"],\"legendgroup\":\"124\",\"marker\":{\"color\":\"#ab63fa\",\"line\":{\"color\":\"DarkSlateGrey\",\"width\":2},\"size\":14,\"symbol\":\"circle\"},\"mode\":\"markers\",\"name\":\"124\",\"orientation\":\"v\",\"showlegend\":true,\"type\":\"scatter\",\"x\":[\"2017-10-17T23:01:04\",\"2017-10-20T23:01:04\",\"2017-11-01T23:01:04\",\"2018-03-08T23:01:04\",\"2018-05-28T18:19:06\",\"2018-09-27T23:01:04\",\"2019-07-28T23:01:04\",\"2019-09-06T11:01:04\",\"2020-09-01T23:01:07\",\"2020-09-05T23:01:05\",\"2020-09-07T23:01:06\",\"2020-09-08T23:01:05\",\"2020-09-09T23:01:05\",\"2020-09-22T11:01:07\",\"2021-08-27T23:01:05\",\"2021-10-28T11:01:05\"],\"xaxis\":\"x\",\"y\":[13,13,13,13,13,13,13,13,13,13,13,13,13,13,13,13],\"yaxis\":\"y\"},{\"customdata\":[[\"CHANGE RH SENSOR , LITHIUM CHLORIDE HYGRISTOR , to , CARBON HYGRISTOR \"],[\"CHANGE GROUND EQUIP , AN/GMD-1A , to , AN/GMD-1B \"],[\"CHANGE RH SENSOR , CARBON HYGRISTOR , to , NEW CARBON HYGRISTOR \"],[\"CHANGE COMPUTER , MINI-COMPUTER , to , MINI-ART 2 SYSTEM \"],[\"CHANGE SONDE MODEL , VIZ ACCU-LOK UNSPECIFIED , to , VIZ B 1492-520 NWS 1680 MHZ \"],[\"CHANGE COMPUTER , MINI-ART 2 SYSTEM , ? , to , MICRO-ART SYSTEM VERSION UNSPECIFIED \"],[\"USING SONDE MODEL , I1 , VIZ UNSPECIFIED \"],[\"CHANGE DATA CUTOFF , MISC. ALGORITHM , to , CORRECTED ALGORITHM \"],[\"CHANGE GRAVITY VAL. , 9.8 METERS PER SECOND SQUARED , to , 9.80665 METERS PER SECOND SQUARED \"],[\"CHANGE RH ALGORITHM , DEW POINT DEPRESSION = 30 C IF RH < 20% , to , NO CUTOFFS \"],[\"CHANGE RH ALGORITHM , RH MISSING FOR T<-40 , to , NO CUTOFFS \"],[\"CHANGE SONDE MODEL , VIZ B 1492-520 NWS 1680 MHZ , to , VAISALA RS80-56H NWS SOLAR/IR CORR \"]],\"hovertemplate\":\"<b>%{hovertext}</b><br><br>sensor_id=IGRA2 METADATA<br>date_time=%{x}<br>values=%{y}<br>comment=%{customdata[0]}<extra></extra>\",\"hovertext\":[\"IGRA2 METADATA\",\"IGRA2 METADATA\",\"IGRA2 METADATA\",\"IGRA2 METADATA\",\"IGRA2 METADATA\",\"IGRA2 METADATA\",\"IGRA2 METADATA\",\"IGRA2 METADATA\",\"IGRA2 METADATA\",\"IGRA2 METADATA\",\"IGRA2 METADATA\",\"IGRA2 METADATA\"],\"legendgroup\":\"IGRA2 METADATA\",\"marker\":{\"color\":\"#FFA15A\",\"line\":{\"color\":\"DarkSlateGrey\",\"width\":2},\"size\":14,\"symbol\":\"circle\"},\"mode\":\"markers\",\"name\":\"IGRA2 METADATA\",\"orientation\":\"v\",\"showlegend\":true,\"type\":\"scatter\",\"x\":[\"1961-10-01T00:00:00\",\"1962-01-01T00:00:00\",\"1980-12-01T00:00:00\",\"1986-05-01T00:00:00\",\"1988-10-01T00:00:00\",\"1989-11-01T00:00:00\",\"1992-12-01T00:00:00\",\"1993-10-01T00:00:00\",\"1993-10-01T00:00:00\",\"1993-10-01T00:00:00\",\"1993-10-01T00:00:00\",\"1995-11-01T00:00:00\"],\"xaxis\":\"x\",\"y\":[14,14,14,14,14,14,14,14,14,14,14,14],\"yaxis\":\"y\"}],                        {\"font\":{\"color\":\"black\",\"size\":16},\"height\":400,\"hovermode\":\"x unified\",\"legend\":{\"title\":{\"text\":\"Sensor ID\"},\"tracegroupgap\":0},\"margin\":{\"t\":60},\"shapes\":[{\"line\":{\"color\":\"green\",\"dash\":\"dash\",\"width\":3},\"type\":\"line\",\"x0\":\"1961-10-01T00:00:00\",\"x1\":\"1961-10-01T00:00:00\",\"xref\":\"x\",\"y0\":0,\"y1\":1,\"yref\":\"y domain\"},{\"line\":{\"color\":\"green\",\"dash\":\"dash\",\"width\":3},\"type\":\"line\",\"x0\":\"1962-01-01T00:00:00\",\"x1\":\"1962-01-01T00:00:00\",\"xref\":\"x\",\"y0\":0,\"y1\":1,\"yref\":\"y domain\"},{\"line\":{\"color\":\"green\",\"dash\":\"dash\",\"width\":3},\"type\":\"line\",\"x0\":\"1980-12-01T00:00:00\",\"x1\":\"1980-12-01T00:00:00\",\"xref\":\"x\",\"y0\":0,\"y1\":1,\"yref\":\"y domain\"},{\"line\":{\"color\":\"green\",\"dash\":\"dash\",\"width\":3},\"type\":\"line\",\"x0\":\"1986-05-01T00:00:00\",\"x1\":\"1986-05-01T00:00:00\",\"xref\":\"x\",\"y0\":0,\"y1\":1,\"yref\":\"y domain\"},{\"line\":{\"color\":\"green\",\"dash\":\"dash\",\"width\":3},\"type\":\"line\",\"x0\":\"1988-10-01T00:00:00\",\"x1\":\"1988-10-01T00:00:00\",\"xref\":\"x\",\"y0\":0,\"y1\":1,\"yref\":\"y domain\"},{\"line\":{\"color\":\"green\",\"dash\":\"dash\",\"width\":3},\"type\":\"line\",\"x0\":\"1989-11-01T00:00:00\",\"x1\":\"1989-11-01T00:00:00\",\"xref\":\"x\",\"y0\":0,\"y1\":1,\"yref\":\"y domain\"},{\"line\":{\"color\":\"green\",\"dash\":\"dash\",\"width\":3},\"type\":\"line\",\"x0\":\"1992-12-01T00:00:00\",\"x1\":\"1992-12-01T00:00:00\",\"xref\":\"x\",\"y0\":0,\"y1\":1,\"yref\":\"y domain\"},{\"line\":{\"color\":\"green\",\"dash\":\"dash\",\"width\":3},\"type\":\"line\",\"x0\":\"1993-10-01T00:00:00\",\"x1\":\"1993-10-01T00:00:00\",\"xref\":\"x\",\"y0\":0,\"y1\":1,\"yref\":\"y domain\"},{\"line\":{\"color\":\"green\",\"dash\":\"dash\",\"width\":3},\"type\":\"line\",\"x0\":\"1993-10-01T00:00:00\",\"x1\":\"1993-10-01T00:00:00\",\"xref\":\"x\",\"y0\":0,\"y1\":1,\"yref\":\"y domain\"},{\"line\":{\"color\":\"green\",\"dash\":\"dash\",\"width\":3},\"type\":\"line\",\"x0\":\"1993-10-01T00:00:00\",\"x1\":\"1993-10-01T00:00:00\",\"xref\":\"x\",\"y0\":0,\"y1\":1,\"yref\":\"y domain\"},{\"line\":{\"color\":\"green\",\"dash\":\"dash\",\"width\":3},\"type\":\"line\",\"x0\":\"1993-10-01T00:00:00\",\"x1\":\"1993-10-01T00:00:00\",\"xref\":\"x\",\"y0\":0,\"y1\":1,\"yref\":\"y domain\"},{\"line\":{\"color\":\"green\",\"dash\":\"dash\",\"width\":3},\"type\":\"line\",\"x0\":\"1995-11-01T00:00:00\",\"x1\":\"1995-11-01T00:00:00\",\"xref\":\"x\",\"y0\":0,\"y1\":1,\"yref\":\"y domain\"}],\"template\":{\"data\":{\"bar\":[{\"error_x\":{\"color\":\"#2a3f5f\"},\"error_y\":{\"color\":\"#2a3f5f\"},\"marker\":{\"line\":{\"color\":\"#E5ECF6\",\"width\":0.5},\"pattern\":{\"fillmode\":\"overlay\",\"size\":10,\"solidity\":0.2}},\"type\":\"bar\"}],\"barpolar\":[{\"marker\":{\"line\":{\"color\":\"#E5ECF6\",\"width\":0.5},\"pattern\":{\"fillmode\":\"overlay\",\"size\":10,\"solidity\":0.2}},\"type\":\"barpolar\"}],\"carpet\":[{\"aaxis\":{\"endlinecolor\":\"#2a3f5f\",\"gridcolor\":\"white\",\"linecolor\":\"white\",\"minorgridcolor\":\"white\",\"startlinecolor\":\"#2a3f5f\"},\"baxis\":{\"endlinecolor\":\"#2a3f5f\",\"gridcolor\":\"white\",\"linecolor\":\"white\",\"minorgridcolor\":\"white\",\"startlinecolor\":\"#2a3f5f\"},\"type\":\"carpet\"}],\"choropleth\":[{\"colorbar\":{\"outlinewidth\":0,\"ticks\":\"\"},\"type\":\"choropleth\"}],\"contour\":[{\"colorbar\":{\"outlinewidth\":0,\"ticks\":\"\"},\"colorscale\":[[0.0,\"#0d0887\"],[0.1111111111111111,\"#46039f\"],[0.2222222222222222,\"#7201a8\"],[0.3333333333333333,\"#9c179e\"],[0.4444444444444444,\"#bd3786\"],[0.5555555555555556,\"#d8576b\"],[0.6666666666666666,\"#ed7953\"],[0.7777777777777778,\"#fb9f3a\"],[0.8888888888888888,\"#fdca26\"],[1.0,\"#f0f921\"]],\"type\":\"contour\"}],\"contourcarpet\":[{\"colorbar\":{\"outlinewidth\":0,\"ticks\":\"\"},\"type\":\"contourcarpet\"}],\"heatmap\":[{\"colorbar\":{\"outlinewidth\":0,\"ticks\":\"\"},\"colorscale\":[[0.0,\"#0d0887\"],[0.1111111111111111,\"#46039f\"],[0.2222222222222222,\"#7201a8\"],[0.3333333333333333,\"#9c179e\"],[0.4444444444444444,\"#bd3786\"],[0.5555555555555556,\"#d8576b\"],[0.6666666666666666,\"#ed7953\"],[0.7777777777777778,\"#fb9f3a\"],[0.8888888888888888,\"#fdca26\"],[1.0,\"#f0f921\"]],\"type\":\"heatmap\"}],\"heatmapgl\":[{\"colorbar\":{\"outlinewidth\":0,\"ticks\":\"\"},\"colorscale\":[[0.0,\"#0d0887\"],[0.1111111111111111,\"#46039f\"],[0.2222222222222222,\"#7201a8\"],[0.3333333333333333,\"#9c179e\"],[0.4444444444444444,\"#bd3786\"],[0.5555555555555556,\"#d8576b\"],[0.6666666666666666,\"#ed7953\"],[0.7777777777777778,\"#fb9f3a\"],[0.8888888888888888,\"#fdca26\"],[1.0,\"#f0f921\"]],\"type\":\"heatmapgl\"}],\"histogram\":[{\"marker\":{\"pattern\":{\"fillmode\":\"overlay\",\"size\":10,\"solidity\":0.2}},\"type\":\"histogram\"}],\"histogram2d\":[{\"colorbar\":{\"outlinewidth\":0,\"ticks\":\"\"},\"colorscale\":[[0.0,\"#0d0887\"],[0.1111111111111111,\"#46039f\"],[0.2222222222222222,\"#7201a8\"],[0.3333333333333333,\"#9c179e\"],[0.4444444444444444,\"#bd3786\"],[0.5555555555555556,\"#d8576b\"],[0.6666666666666666,\"#ed7953\"],[0.7777777777777778,\"#fb9f3a\"],[0.8888888888888888,\"#fdca26\"],[1.0,\"#f0f921\"]],\"type\":\"histogram2d\"}],\"histogram2dcontour\":[{\"colorbar\":{\"outlinewidth\":0,\"ticks\":\"\"},\"colorscale\":[[0.0,\"#0d0887\"],[0.1111111111111111,\"#46039f\"],[0.2222222222222222,\"#7201a8\"],[0.3333333333333333,\"#9c179e\"],[0.4444444444444444,\"#bd3786\"],[0.5555555555555556,\"#d8576b\"],[0.6666666666666666,\"#ed7953\"],[0.7777777777777778,\"#fb9f3a\"],[0.8888888888888888,\"#fdca26\"],[1.0,\"#f0f921\"]],\"type\":\"histogram2dcontour\"}],\"mesh3d\":[{\"colorbar\":{\"outlinewidth\":0,\"ticks\":\"\"},\"type\":\"mesh3d\"}],\"parcoords\":[{\"line\":{\"colorbar\":{\"outlinewidth\":0,\"ticks\":\"\"}},\"type\":\"parcoords\"}],\"pie\":[{\"automargin\":true,\"type\":\"pie\"}],\"scatter\":[{\"marker\":{\"colorbar\":{\"outlinewidth\":0,\"ticks\":\"\"}},\"type\":\"scatter\"}],\"scatter3d\":[{\"line\":{\"colorbar\":{\"outlinewidth\":0,\"ticks\":\"\"}},\"marker\":{\"colorbar\":{\"outlinewidth\":0,\"ticks\":\"\"}},\"type\":\"scatter3d\"}],\"scattercarpet\":[{\"marker\":{\"colorbar\":{\"outlinewidth\":0,\"ticks\":\"\"}},\"type\":\"scattercarpet\"}],\"scattergeo\":[{\"marker\":{\"colorbar\":{\"outlinewidth\":0,\"ticks\":\"\"}},\"type\":\"scattergeo\"}],\"scattergl\":[{\"marker\":{\"colorbar\":{\"outlinewidth\":0,\"ticks\":\"\"}},\"type\":\"scattergl\"}],\"scattermapbox\":[{\"marker\":{\"colorbar\":{\"outlinewidth\":0,\"ticks\":\"\"}},\"type\":\"scattermapbox\"}],\"scatterpolar\":[{\"marker\":{\"colorbar\":{\"outlinewidth\":0,\"ticks\":\"\"}},\"type\":\"scatterpolar\"}],\"scatterpolargl\":[{\"marker\":{\"colorbar\":{\"outlinewidth\":0,\"ticks\":\"\"}},\"type\":\"scatterpolargl\"}],\"scatterternary\":[{\"marker\":{\"colorbar\":{\"outlinewidth\":0,\"ticks\":\"\"}},\"type\":\"scatterternary\"}],\"surface\":[{\"colorbar\":{\"outlinewidth\":0,\"ticks\":\"\"},\"colorscale\":[[0.0,\"#0d0887\"],[0.1111111111111111,\"#46039f\"],[0.2222222222222222,\"#7201a8\"],[0.3333333333333333,\"#9c179e\"],[0.4444444444444444,\"#bd3786\"],[0.5555555555555556,\"#d8576b\"],[0.6666666666666666,\"#ed7953\"],[0.7777777777777778,\"#fb9f3a\"],[0.8888888888888888,\"#fdca26\"],[1.0,\"#f0f921\"]],\"type\":\"surface\"}],\"table\":[{\"cells\":{\"fill\":{\"color\":\"#EBF0F8\"},\"line\":{\"color\":\"white\"}},\"header\":{\"fill\":{\"color\":\"#C8D4E3\"},\"line\":{\"color\":\"white\"}},\"type\":\"table\"}]},\"layout\":{\"annotationdefaults\":{\"arrowcolor\":\"#2a3f5f\",\"arrowhead\":0,\"arrowwidth\":1},\"autotypenumbers\":\"strict\",\"coloraxis\":{\"colorbar\":{\"outlinewidth\":0,\"ticks\":\"\"}},\"colorscale\":{\"diverging\":[[0,\"#8e0152\"],[0.1,\"#c51b7d\"],[0.2,\"#de77ae\"],[0.3,\"#f1b6da\"],[0.4,\"#fde0ef\"],[0.5,\"#f7f7f7\"],[0.6,\"#e6f5d0\"],[0.7,\"#b8e186\"],[0.8,\"#7fbc41\"],[0.9,\"#4d9221\"],[1,\"#276419\"]],\"sequential\":[[0.0,\"#0d0887\"],[0.1111111111111111,\"#46039f\"],[0.2222222222222222,\"#7201a8\"],[0.3333333333333333,\"#9c179e\"],[0.4444444444444444,\"#bd3786\"],[0.5555555555555556,\"#d8576b\"],[0.6666666666666666,\"#ed7953\"],[0.7777777777777778,\"#fb9f3a\"],[0.8888888888888888,\"#fdca26\"],[1.0,\"#f0f921\"]],\"sequentialminus\":[[0.0,\"#0d0887\"],[0.1111111111111111,\"#46039f\"],[0.2222222222222222,\"#7201a8\"],[0.3333333333333333,\"#9c179e\"],[0.4444444444444444,\"#bd3786\"],[0.5555555555555556,\"#d8576b\"],[0.6666666666666666,\"#ed7953\"],[0.7777777777777778,\"#fb9f3a\"],[0.8888888888888888,\"#fdca26\"],[1.0,\"#f0f921\"]]},\"colorway\":[\"#636efa\",\"#EF553B\",\"#00cc96\",\"#ab63fa\",\"#FFA15A\",\"#19d3f3\",\"#FF6692\",\"#B6E880\",\"#FF97FF\",\"#FECB52\"],\"font\":{\"color\":\"#2a3f5f\"},\"geo\":{\"bgcolor\":\"white\",\"lakecolor\":\"white\",\"landcolor\":\"#E5ECF6\",\"showlakes\":true,\"showland\":true,\"subunitcolor\":\"white\"},\"hoverlabel\":{\"align\":\"left\"},\"hovermode\":\"closest\",\"mapbox\":{\"style\":\"light\"},\"paper_bgcolor\":\"white\",\"plot_bgcolor\":\"#E5ECF6\",\"polar\":{\"angularaxis\":{\"gridcolor\":\"white\",\"linecolor\":\"white\",\"ticks\":\"\"},\"bgcolor\":\"#E5ECF6\",\"radialaxis\":{\"gridcolor\":\"white\",\"linecolor\":\"white\",\"ticks\":\"\"}},\"scene\":{\"xaxis\":{\"backgroundcolor\":\"#E5ECF6\",\"gridcolor\":\"white\",\"gridwidth\":2,\"linecolor\":\"white\",\"showbackground\":true,\"ticks\":\"\",\"zerolinecolor\":\"white\"},\"yaxis\":{\"backgroundcolor\":\"#E5ECF6\",\"gridcolor\":\"white\",\"gridwidth\":2,\"linecolor\":\"white\",\"showbackground\":true,\"ticks\":\"\",\"zerolinecolor\":\"white\"},\"zaxis\":{\"backgroundcolor\":\"#E5ECF6\",\"gridcolor\":\"white\",\"gridwidth\":2,\"linecolor\":\"white\",\"showbackground\":true,\"ticks\":\"\",\"zerolinecolor\":\"white\"}},\"shapedefaults\":{\"line\":{\"color\":\"#2a3f5f\"}},\"ternary\":{\"aaxis\":{\"gridcolor\":\"white\",\"linecolor\":\"white\",\"ticks\":\"\"},\"baxis\":{\"gridcolor\":\"white\",\"linecolor\":\"white\",\"ticks\":\"\"},\"bgcolor\":\"#E5ECF6\",\"caxis\":{\"gridcolor\":\"white\",\"linecolor\":\"white\",\"ticks\":\"\"}},\"title\":{\"x\":0.05},\"xaxis\":{\"automargin\":true,\"gridcolor\":\"white\",\"linecolor\":\"white\",\"ticks\":\"\",\"title\":{\"standoff\":15},\"zerolinecolor\":\"white\",\"zerolinewidth\":2},\"yaxis\":{\"automargin\":true,\"gridcolor\":\"white\",\"linecolor\":\"white\",\"ticks\":\"\",\"title\":{\"standoff\":15},\"zerolinecolor\":\"white\",\"zerolinewidth\":2}}},\"title\":{\"text\":\"Sensors Time Series - Kodiak (Alaska) \"},\"width\":1800,\"xaxis\":{\"anchor\":\"y\",\"domain\":[0.0,1.0],\"title\":{\"text\":\"Date of Sensor Replacement\"}},\"yaxis\":{\"anchor\":\"x\",\"domain\":[0.0,1.0],\"tickfont\":{\"size\":16},\"title\":{\"text\":\"Sensor Metadata\"}}},                        {\"responsive\": true}                    ).then(function(){\n",
       "                            \n",
       "var gd = document.getElementById('88f10b21-e716-447b-b079-400eb1931f48');\n",
       "var x = new MutationObserver(function (mutations, observer) {{\n",
       "        var display = window.getComputedStyle(gd).display;\n",
       "        if (!display || display === 'none') {{\n",
       "            console.log([gd, 'removed!']);\n",
       "            Plotly.purge(gd);\n",
       "            observer.disconnect();\n",
       "        }}\n",
       "}});\n",
       "\n",
       "// Listen for the removal of the full notebook cells\n",
       "var notebookContainer = gd.closest('#notebook-container');\n",
       "if (notebookContainer) {{\n",
       "    x.observe(notebookContainer, {childList: true});\n",
       "}}\n",
       "\n",
       "// Listen for the clearing of the current output cell\n",
       "var outputEl = gd.closest('.output');\n",
       "if (outputEl) {{\n",
       "    x.observe(outputEl, {childList: true});\n",
       "}}\n",
       "\n",
       "                        })                };                });            </script>        </div>"
      ]
     },
     "metadata": {},
     "output_type": "display_data"
    }
   ],
   "source": [
    "def make_time_series(data_df, station_name, label = ''):\n",
    "    #filter date\n",
    "    #data_df = data_df.loc[data_df.date_time <= pd.Timestamp('1995-01-01')]\n",
    "\n",
    "    # converts categorical char values for sensor ids to integer values (on y-axis in the plots)\n",
    "    data_df['values'] = pd.factorize( data_df.sensor_id)[0]\n",
    "\n",
    "\n",
    "    fig = px.scatter(data_df, x=\"date_time\", y=\"values\", color=\"sensor_id\",\n",
    "                    hover_name=\"sensor_id\", hover_data=[\"comment\"]\n",
    "                    )\n",
    "\n",
    "    fig.update_layout(title='Sensors Time Series - ' + station_name + ' ' + label)\n",
    "    #fig.update_yaxes( ticktext= ['Schroeder', 'WMO', 'IGRA2'],\n",
    "    #                  tickvals= [1,2,3])\n",
    "\n",
    "    fig.update_layout(width= 1800, height = 400)\n",
    "\n",
    "    fig.update_layout(\n",
    "        xaxis_title=\"Date of Sensor Replacement\",\n",
    "        yaxis_title=\"Sensor Metadata\",\n",
    "        legend_title=\"Sensor ID\",\n",
    "        font=dict(\n",
    "            size=16,\n",
    "            color=\"black\"\n",
    "        )\n",
    "    )\n",
    "\n",
    "    fig.update_traces(marker=dict(size=14,\n",
    "                                  line=dict(width=2,\n",
    "                                            color='DarkSlateGrey')),\n",
    "                      selector=dict(mode='markers'))\n",
    "\n",
    "\n",
    "\n",
    "\n",
    "    for d in stat_igra2.date_time:\n",
    "        fig.add_vline(x=d, line_width=3, line_dash=\"dash\", line_color=\"green\")\n",
    "\n",
    "\n",
    "\n",
    "    fig.update_layout(hovermode=\"x unified\")\n",
    "\n",
    "    fig.update_layout(\n",
    "    yaxis = dict(\n",
    "    tickfont = dict(size=16)))\n",
    "\n",
    "    return fig\n",
    "fig = make_time_series(data_df, station_name) \n",
    "fig.show()"
   ]
  },
  {
   "cell_type": "code",
   "execution_count": 16,
   "id": "d3204fe9-3d9a-4dba-9970-838d41647fdf",
   "metadata": {},
   "outputs": [
    {
     "data": {
      "application/vnd.plotly.v1+json": {
       "config": {
        "plotlyServerURL": "https://plot.ly"
       },
       "data": [
        {
         "customdata": [
          [
           "  ZKB VIZ model 1492-520 NWS 1680 MHz ART \"B\" Accu-Lok {1988} 31313=01102^ (T=004,W3=11,W2=28) NWS stock no. J060, 0.25 sec time sequenced <F=T1680AL,"
          ],
          [
           "  ZKB VIZ model 1492-520 NWS 1680 MHz ART \"B\" Accu-Lok {1988} 31313=01102^ (T=004,W3=11,W2=28) NWS stock no. J060, 0.25 sec time sequenced <F=T1680AL,"
          ]
         ],
         "hovertemplate": "<b>%{hovertext}</b><br><br>sensor_id=ZKB <br>date_time=%{x}<br>values=%{y}<br>comment=%{customdata[0]}<extra></extra>",
         "hovertext": [
          "ZKB ",
          "ZKB "
         ],
         "legendgroup": "ZKB ",
         "marker": {
          "color": "#636efa",
          "line": {
           "color": "DarkSlateGrey",
           "width": 2
          },
          "size": 14,
          "symbol": "circle"
         },
         "mode": "markers",
         "name": "ZKB ",
         "orientation": "v",
         "showlegend": true,
         "type": "scatter",
         "x": [
          "1994-01-01T00:00:00",
          "1995-10-20T00:00:00"
         ],
         "xaxis": "x",
         "y": [
          0,
          0
         ],
         "yaxis": "y"
        },
        {
         "customdata": [
          [
           "  VU1 Vaisala RS80-56H or RS80-56 1680 MHz RDF H-Humicap NWS radiosonde, pressure cell {1995} 31313=43702^ (W3=37, T=038) <F=T1680AL,P=Ac,T=CB,U=A>"
          ],
          [
           "  VU1 Vaisala RS80-56H or RS80-56 1680 MHz RDF H-Humicap NWS radiosonde, pressure cell {1995} 31313=43702^ (W3=37, T=038) <F=T1680AL,P=Ac,T=CB,U=A>"
          ]
         ],
         "hovertemplate": "<b>%{hovertext}</b><br><br>sensor_id=VU1 <br>date_time=%{x}<br>values=%{y}<br>comment=%{customdata[0]}<extra></extra>",
         "hovertext": [
          "VU1 ",
          "VU1 "
         ],
         "legendgroup": "VU1 ",
         "marker": {
          "color": "#EF553B",
          "line": {
           "color": "DarkSlateGrey",
           "width": 2
          },
          "size": 14,
          "symbol": "circle"
         },
         "mode": "markers",
         "name": "VU1 ",
         "orientation": "v",
         "showlegend": true,
         "type": "scatter",
         "x": [
          "1995-10-19T20:00:00",
          "1995-11-01T00:00:00"
         ],
         "xaxis": "x",
         "y": [
          1,
          1
         ],
         "yaxis": "y"
        },
        {
         "customdata": [
          [
           "  VU3 Vaisala RS80-57H or RS80-57 1680 MHz RDF H-Humicap NWS radiosonde, pressure cell {1998} 31313=45202^ (W3=52, T=039) (RDF, 1680+-3 MHz AM)"
          ]
         ],
         "hovertemplate": "<b>%{hovertext}</b><br><br>sensor_id=VU3 <br>date_time=%{x}<br>values=%{y}<br>comment=%{customdata[0]}<extra></extra>",
         "hovertext": [
          "VU3 "
         ],
         "legendgroup": "VU3 ",
         "marker": {
          "color": "#00cc96",
          "line": {
           "color": "DarkSlateGrey",
           "width": 2
          },
          "size": 14,
          "symbol": "circle"
         },
         "mode": "markers",
         "name": "VU3 ",
         "orientation": "v",
         "showlegend": true,
         "type": "scatter",
         "x": [
          "1998-06-01T00:00:00"
         ],
         "xaxis": "x",
         "y": [
          2
         ],
         "yaxis": "y"
        },
        {
         "customdata": [
          [
           "VIZ-B2 (United States)                "
          ],
          [
           "VIZ-B2 (United States)                "
          ],
          [
           "VIZ-B2 (United States)                "
          ],
          [
           "VIZ-B2 (United States)                "
          ],
          [
           "VIZ-B2 (United States)                "
          ],
          [
           "VIZ-B2 (United States)                "
          ],
          [
           "VIZ-B2 (United States)                "
          ],
          [
           "VIZ-B2 (United States)                "
          ],
          [
           "VIZ-B2 (United States)                "
          ],
          [
           "VIZ-B2 (United States)                "
          ],
          [
           "VIZ-B2 (United States)                "
          ],
          [
           "VIZ-B2 (United States)                "
          ],
          [
           "VIZ-B2 (United States)                "
          ]
         ],
         "hovertemplate": "<b>%{hovertext}</b><br><br>sensor_id=51<br>date_time=%{x}<br>values=%{y}<br>comment=%{customdata[0]}<extra></extra>",
         "hovertext": [
          "51",
          "51",
          "51",
          "51",
          "51",
          "51",
          "51",
          "51",
          "51",
          "51",
          "51",
          "51",
          "51"
         ],
         "legendgroup": "51",
         "marker": {
          "color": "#ab63fa",
          "line": {
           "color": "DarkSlateGrey",
           "width": 2
          },
          "size": 14,
          "symbol": "circle"
         },
         "mode": "markers",
         "name": "51",
         "orientation": "v",
         "showlegend": true,
         "type": "scatter",
         "x": [
          "2012-12-31T12:00:00",
          "2013-04-18T00:00:00",
          "2013-11-19T00:00:00",
          "2013-11-23T00:00:00",
          "2013-12-17T00:00:00",
          "2009-11-06T07:00:00",
          "2009-11-16T19:00:00",
          "2009-11-17T08:00:00",
          "2009-11-17T19:00:00",
          "2009-11-29T18:00:00",
          "2009-12-01T00:00:00",
          "2013-11-19T00:00:00",
          "2013-12-17T00:00:00"
         ],
         "xaxis": "x",
         "y": [
          3,
          3,
          3,
          3,
          3,
          3,
          3,
          3,
          3,
          3,
          3,
          3,
          3
         ],
         "yaxis": "y"
        },
        {
         "customdata": [
          [
           "NA"
          ],
          [
           "NA"
          ],
          [
           "NA"
          ],
          [
           "NA"
          ],
          [
           "NA"
          ],
          [
           "NA"
          ],
          [
           "NA"
          ],
          [
           "NA"
          ],
          [
           "NA"
          ],
          [
           "NA"
          ],
          [
           "NA"
          ],
          [
           "NA"
          ],
          [
           "NA"
          ],
          [
           "NA"
          ],
          [
           "NA"
          ],
          [
           "NA"
          ],
          [
           "NA"
          ],
          [
           "NA"
          ],
          [
           "NA"
          ],
          [
           "NA"
          ],
          [
           "NA"
          ]
         ],
         "hovertemplate": "<b>%{hovertext}</b><br><br>sensor_id=nan<br>date_time=%{x}<br>values=%{y}<br>comment=%{customdata[0]}<extra></extra>",
         "hovertext": [
          "nan",
          "nan",
          "nan",
          "nan",
          "nan",
          "nan",
          "nan",
          "nan",
          "nan",
          "nan",
          "nan",
          "nan",
          "nan",
          "nan",
          "nan",
          "nan",
          "nan",
          "nan",
          "nan",
          "nan",
          "nan"
         ],
         "legendgroup": "nan",
         "marker": {
          "color": "#FFA15A",
          "line": {
           "color": "DarkSlateGrey",
           "width": 2
          },
          "size": 14,
          "symbol": "circle"
         },
         "mode": "markers",
         "name": "nan",
         "orientation": "v",
         "showlegend": true,
         "type": "scatter",
         "x": [
          "2013-04-17T12:00:00",
          "2013-11-22T18:00:00",
          "2014-05-01T00:00:00",
          "2014-07-23T23:00:00",
          "2015-01-07T12:00:00",
          "2016-08-21T12:00:00",
          "2016-10-07T12:00:00",
          "2016-11-16T12:00:00",
          "2016-12-10T12:00:00",
          "2017-03-02T00:00:00",
          "2017-08-28T12:00:00",
          "2017-09-12T12:00:00",
          "2017-09-29T18:00:00",
          "2017-10-03T00:00:00",
          "2017-10-05T15:00:00",
          "2017-10-12T12:00:00",
          "2017-10-20T15:00:00",
          "2017-11-01T21:00:00",
          "2018-09-27T12:00:00",
          "2019-05-14T19:00:00",
          "2022-01-01T00:00:00"
         ],
         "xaxis": "x",
         "y": [
          4,
          4,
          4,
          4,
          4,
          4,
          4,
          4,
          4,
          4,
          4,
          4,
          4,
          4,
          4,
          4,
          4,
          4,
          4,
          4,
          4
         ],
         "yaxis": "y"
        },
        {
         "customdata": [
          [
           "VIZ type B time-commutated (United States)             "
          ],
          [
           "VIZ type B time-commutated (United States)             "
          ],
          [
           "VIZ type B time-commutated (United States)             "
          ],
          [
           "VIZ type B time-commutated (United States)             "
          ],
          [
           "VIZ type B time-commutated (United States)             "
          ],
          [
           "VIZ type B time-commutated (United States)             "
          ],
          [
           "VIZ type B time-commutated (United States)             "
          ],
          [
           "VIZ type B time-commutated (United States)             "
          ],
          [
           "VIZ type B time-commutated (United States)             "
          ],
          [
           "VIZ type B time-commutated (United States)             "
          ],
          [
           "VIZ type B time-commutated (United States)             "
          ],
          [
           "VIZ type B time-commutated (United States)             "
          ],
          [
           "VIZ type B time-commutated (United States)             "
          ],
          [
           "VIZ type B time-commutated (United States)             "
          ],
          [
           "VIZ type B time-commutated (United States)             "
          ],
          [
           "VIZ type B time-commutated (United States)             "
          ],
          [
           "VIZ type B time-commutated (United States)             "
          ],
          [
           "VIZ type B time-commutated (United States)             "
          ],
          [
           "VIZ type B time-commutated (United States)             "
          ],
          [
           "VIZ type B time-commutated (United States)             "
          ],
          [
           "VIZ type B time-commutated (United States)             "
          ]
         ],
         "hovertemplate": "<b>%{hovertext}</b><br><br>sensor_id=11<br>date_time=%{x}<br>values=%{y}<br>comment=%{customdata[0]}<extra></extra>",
         "hovertext": [
          "11",
          "11",
          "11",
          "11",
          "11",
          "11",
          "11",
          "11",
          "11",
          "11",
          "11",
          "11",
          "11",
          "11",
          "11",
          "11",
          "11",
          "11",
          "11",
          "11",
          "11"
         ],
         "legendgroup": "11",
         "marker": {
          "color": "#19d3f3",
          "line": {
           "color": "DarkSlateGrey",
           "width": 2
          },
          "size": 14,
          "symbol": "circle"
         },
         "mode": "markers",
         "name": "11",
         "orientation": "v",
         "showlegend": true,
         "type": "scatter",
         "x": [
          "2013-11-18T19:00:00",
          "2013-12-16T21:00:00",
          "2013-12-18T00:00:00",
          "2014-05-01T12:00:00",
          "2014-07-24T12:00:00",
          "2015-01-08T00:00:00",
          "2016-08-22T00:00:00",
          "2016-10-08T00:00:00",
          "2016-11-17T00:00:00",
          "2016-12-11T00:00:00",
          "2017-03-02T22:52:00",
          "2017-08-29T00:00:00",
          "2017-09-13T00:00:00",
          "2017-09-30T00:00:00",
          "2017-10-04T00:00:00",
          "2017-10-06T12:00:00",
          "1994-01-01T00:00:00",
          "1994-11-03T12:00:00",
          "2013-11-18T19:00:00",
          "2013-12-16T21:00:00",
          "2013-12-18T00:00:00"
         ],
         "xaxis": "x",
         "y": [
          5,
          5,
          5,
          5,
          5,
          5,
          5,
          5,
          5,
          5,
          5,
          5,
          5,
          5,
          5,
          5,
          5,
          5,
          5,
          5,
          5
         ],
         "yaxis": "y"
        },
        {
         "customdata": [
          [
           "Vaisala RS41/AUTOSONDE (Finland)                            "
          ],
          [
           "Vaisala RS41/AUTOSONDE (Finland)                            "
          ],
          [
           "Vaisala RS41/AUTOSONDE (Finland)                            "
          ],
          [
           "Vaisala RS41/AUTOSONDE (Finland)                            "
          ],
          [
           "Vaisala RS41/AUTOSONDE (Finland)                            "
          ],
          [
           "Vaisala RS41/AUTOSONDE (Finland)                            "
          ],
          [
           "Vaisala RS41/AUTOSONDE (Finland)                            "
          ],
          [
           "Vaisala RS41/AUTOSONDE (Finland)                            "
          ],
          [
           "Vaisala RS41/AUTOSONDE (Finland)                            "
          ],
          [
           "Vaisala RS41/AUTOSONDE (Finland)                            "
          ],
          [
           "Vaisala RS41/AUTOSONDE (Finland)                            "
          ],
          [
           "Vaisala RS41/AUTOSONDE (Finland)                            "
          ],
          [
           "Vaisala RS41/AUTOSONDE (Finland)                            "
          ],
          [
           "Vaisala RS41/AUTOSONDE (Finland)                            "
          ],
          [
           "Vaisala RS41/AUTOSONDE (Finland)                            "
          ],
          [
           "Vaisala RS41/AUTOSONDE (Finland)                            "
          ]
         ],
         "hovertemplate": "<b>%{hovertext}</b><br><br>sensor_id=124.<br>date_time=%{x}<br>values=%{y}<br>comment=%{customdata[0]}<extra></extra>",
         "hovertext": [
          "124.",
          "124.",
          "124.",
          "124.",
          "124.",
          "124.",
          "124.",
          "124.",
          "124.",
          "124.",
          "124.",
          "124.",
          "124.",
          "124.",
          "124.",
          "124."
         ],
         "legendgroup": "124.",
         "marker": {
          "color": "#FF6692",
          "line": {
           "color": "DarkSlateGrey",
           "width": 2
          },
          "size": 14,
          "symbol": "circle"
         },
         "mode": "markers",
         "name": "124.",
         "orientation": "v",
         "showlegend": true,
         "type": "scatter",
         "x": [
          "2017-10-17T23:01:04",
          "2017-10-20T23:01:04",
          "2017-11-01T23:01:04",
          "2018-03-08T23:01:04",
          "2018-05-28T18:19:06",
          "2018-09-27T23:01:04",
          "2019-07-28T23:01:04",
          "2019-09-06T11:01:04",
          "2020-09-01T23:01:07",
          "2020-09-05T23:01:05",
          "2020-09-07T23:01:06",
          "2020-09-08T23:01:05",
          "2020-09-09T23:01:05",
          "2020-09-22T11:01:07",
          "2021-08-27T23:01:05",
          "2021-10-28T11:01:05"
         ],
         "xaxis": "x",
         "y": [
          6,
          6,
          6,
          6,
          6,
          6,
          6,
          6,
          6,
          6,
          6,
          6,
          6,
          6,
          6,
          6
         ],
         "yaxis": "y"
        },
        {
         "customdata": [
          [
           "Mesural FMO 1945A (France)               "
          ],
          [
           "Mesural FMO 1945A (France)               "
          ],
          [
           "Mesural FMO 1945A (France)               "
          ],
          [
           "Mesural FMO 1945A (France)               "
          ],
          [
           "Mesural FMO 1945A (France)               "
          ],
          [
           "Mesural FMO 1945A (France)               "
          ],
          [
           "Mesural FMO 1945A (France)               "
          ],
          [
           "Mesural FMO 1945A (France)               "
          ],
          [
           "Mesural FMO 1945A (France)               "
          ],
          [
           "Mesural FMO 1945A (France)               "
          ],
          [
           "Mesural FMO 1945A (France)               "
          ],
          [
           "Mesural FMO 1945A (France)               "
          ],
          [
           "Mesural FMO 1945A (France)               "
          ],
          [
           "Mesural FMO 1945A (France)               "
          ],
          [
           "Mesural FMO 1945A (France)               "
          ],
          [
           "Mesural FMO 1945A (France)               "
          ],
          [
           "Mesural FMO 1945A (France)               "
          ],
          [
           "Mesural FMO 1945A (France)               "
          ],
          [
           "Mesural FMO 1945A (France)               "
          ],
          [
           "Mesural FMO 1945A (France)               "
          ],
          [
           "Mesural FMO 1945A (France)               "
          ],
          [
           "Mesural FMO 1945A (France)               "
          ],
          [
           "Mesural FMO 1945A (France)               "
          ],
          [
           "Mesural FMO 1945A (France)               "
          ],
          [
           "Mesural FMO 1945A (France)               "
          ]
         ],
         "hovertemplate": "<b>%{hovertext}</b><br><br>sensor_id=24<br>date_time=%{x}<br>values=%{y}<br>comment=%{customdata[0]}<extra></extra>",
         "hovertext": [
          "24",
          "24",
          "24",
          "24",
          "24",
          "24",
          "24",
          "24",
          "24",
          "24",
          "24",
          "24",
          "24",
          "24",
          "24",
          "24",
          "24",
          "24",
          "24",
          "24",
          "24",
          "24",
          "24",
          "24",
          "24"
         ],
         "legendgroup": "24",
         "marker": {
          "color": "#B6E880",
          "line": {
           "color": "DarkSlateGrey",
           "width": 2
          },
          "size": 14,
          "symbol": "circle"
         },
         "mode": "markers",
         "name": "24",
         "orientation": "v",
         "showlegend": true,
         "type": "scatter",
         "x": [
          "2018-03-08T12:00:00",
          "2018-05-28T00:00:00",
          "2019-04-16T18:00:00",
          "2019-05-15T00:00:00",
          "2019-09-06T00:00:00",
          "2020-09-01T12:00:00",
          "2020-09-05T12:00:00",
          "2020-09-07T12:00:00",
          "2020-09-08T12:00:00",
          "2020-09-09T12:00:00",
          "2020-09-22T00:00:00",
          "2021-08-27T11:01:00",
          "2021-10-28T00:00:00",
          "2018-03-08T12:00:00",
          "2018-05-28T00:00:00",
          "2019-04-16T18:00:00",
          "2019-09-06T00:00:00",
          "2020-09-01T12:00:00",
          "2020-09-05T12:00:00",
          "2020-09-07T12:00:00",
          "2020-09-08T12:00:00",
          "2020-09-09T12:00:00",
          "2020-09-22T00:00:00",
          "2021-08-27T11:01:00",
          "2021-10-28T00:00:00"
         ],
         "xaxis": "x",
         "y": [
          7,
          7,
          7,
          7,
          7,
          7,
          7,
          7,
          7,
          7,
          7,
          7,
          7,
          7,
          7,
          7,
          7,
          7,
          7,
          7,
          7,
          7,
          7,
          7,
          7
         ],
         "yaxis": "y"
        },
        {
         "customdata": [
          [
           "VIZ type A pressure-commutated (United States)             "
          ]
         ],
         "hovertemplate": "<b>%{hovertext}</b><br><br>sensor_id=10<br>date_time=%{x}<br>values=%{y}<br>comment=%{customdata[0]}<extra></extra>",
         "hovertext": [
          "10"
         ],
         "legendgroup": "10",
         "marker": {
          "color": "#FF97FF",
          "line": {
           "color": "DarkSlateGrey",
           "width": 2
          },
          "size": 14,
          "symbol": "circle"
         },
         "mode": "markers",
         "name": "10",
         "orientation": "v",
         "showlegend": true,
         "type": "scatter",
         "x": [
          "1994-11-03T00:00:00"
         ],
         "xaxis": "x",
         "y": [
          8
         ],
         "yaxis": "y"
        },
        {
         "customdata": [
          [
           "Vaisala RS80 (Finland)                "
          ],
          [
           "Vaisala RS80 (Finland)                "
          ],
          [
           "Vaisala RS80 (Finland)                "
          ],
          [
           "Vaisala RS80 (Finland)                "
          ],
          [
           "Vaisala RS80 (Finland)                "
          ],
          [
           "Vaisala RS80 (Finland)                "
          ],
          [
           "Vaisala RS80 (Finland)                "
          ],
          [
           "Vaisala RS80 (Finland)                "
          ],
          [
           "Vaisala RS80 (Finland)                "
          ],
          [
           "Vaisala RS80 (Finland)                "
          ],
          [
           "Vaisala RS80 (Finland)                "
          ],
          [
           "Vaisala RS80 (Finland)                "
          ],
          [
           "Vaisala RS80 (Finland)                "
          ],
          [
           "Vaisala RS80 (Finland)                "
          ],
          [
           "Vaisala RS80 (Finland)                "
          ],
          [
           "Vaisala RS80 (Finland)                "
          ],
          [
           "Vaisala RS80 (Finland)                "
          ],
          [
           "Vaisala RS80 (Finland)                "
          ],
          [
           "Vaisala RS80 (Finland)                "
          ],
          [
           "Vaisala RS80 (Finland)                "
          ],
          [
           "Vaisala RS80 (Finland)                "
          ],
          [
           "Vaisala RS80 (Finland)                "
          ],
          [
           "Vaisala RS80 (Finland)                "
          ],
          [
           "Vaisala RS80 (Finland)                "
          ],
          [
           "Vaisala RS80 (Finland)                "
          ]
         ],
         "hovertemplate": "<b>%{hovertext}</b><br><br>sensor_id=37<br>date_time=%{x}<br>values=%{y}<br>comment=%{customdata[0]}<extra></extra>",
         "hovertext": [
          "37",
          "37",
          "37",
          "37",
          "37",
          "37",
          "37",
          "37",
          "37",
          "37",
          "37",
          "37",
          "37",
          "37",
          "37",
          "37",
          "37",
          "37",
          "37",
          "37",
          "37",
          "37",
          "37",
          "37",
          "37"
         ],
         "legendgroup": "37",
         "marker": {
          "color": "#FECB52",
          "line": {
           "color": "DarkSlateGrey",
           "width": 2
          },
          "size": 14,
          "symbol": "circle"
         },
         "mode": "markers",
         "name": "37",
         "orientation": "v",
         "showlegend": true,
         "type": "scatter",
         "x": [
          "1995-11-01T00:00:00",
          "1996-09-29T12:00:00",
          "1996-09-30T12:00:00",
          "1996-10-17T12:00:00",
          "1996-10-19T00:00:00",
          "1996-11-10T00:00:00",
          "1996-11-12T00:00:00",
          "1996-11-16T12:00:00",
          "1996-12-03T00:00:00",
          "1996-12-04T12:00:00",
          "1996-12-06T00:00:00",
          "1996-12-15T00:00:00",
          "1996-12-16T00:00:00",
          "1997-01-17T00:00:00",
          "1997-01-18T00:00:00",
          "1997-02-11T00:00:00",
          "1997-02-12T00:00:00",
          "1997-02-13T00:00:00",
          "1997-02-14T12:00:00",
          "1997-02-16T00:00:00",
          "1997-02-17T00:00:00",
          "1997-04-05T00:00:00",
          "1997-04-08T00:00:00",
          "1997-04-29T12:00:00",
          "1997-05-22T00:00:00"
         ],
         "xaxis": "x",
         "y": [
          9,
          9,
          9,
          9,
          9,
          9,
          9,
          9,
          9,
          9,
          9,
          9,
          9,
          9,
          9,
          9,
          9,
          9,
          9,
          9,
          9,
          9,
          9,
          9,
          9
         ],
         "yaxis": "y"
        },
        {
         "customdata": [
          [
           "Vaisala RS80-57H                 "
          ],
          [
           "Vaisala RS80-57H                 "
          ],
          [
           "Vaisala RS80-57H                 "
          ],
          [
           "Vaisala RS80-57H                 "
          ],
          [
           "Vaisala RS80-57H                 "
          ],
          [
           "Vaisala RS80-57H                 "
          ],
          [
           "Vaisala RS80-57H                 "
          ],
          [
           "Vaisala RS80-57H                 "
          ],
          [
           "Vaisala RS80-57H                 "
          ],
          [
           "Vaisala RS80-57H                 "
          ],
          [
           "Vaisala RS80-57H                 "
          ],
          [
           "Vaisala RS80-57H                 "
          ],
          [
           "Vaisala RS80-57H                 "
          ],
          [
           "Vaisala RS80-57H                 "
          ],
          [
           "Vaisala RS80-57H                 "
          ],
          [
           "Vaisala RS80-57H                 "
          ],
          [
           "Vaisala RS80-57H                 "
          ],
          [
           "Vaisala RS80-57H                 "
          ],
          [
           "Vaisala RS80-57H                 "
          ],
          [
           "Vaisala RS80-57H                 "
          ],
          [
           "Vaisala RS80-57H                 "
          ],
          [
           "Vaisala RS80-57H                 "
          ],
          [
           "Vaisala RS80-57H                 "
          ],
          [
           "Vaisala RS80-57H                 "
          ],
          [
           "Vaisala RS80-57H                 "
          ],
          [
           "Vaisala RS80-57H                 "
          ],
          [
           "Vaisala RS80-57H                 "
          ],
          [
           "Vaisala RS80-57H                 "
          ],
          [
           "Vaisala RS80-57H                 "
          ],
          [
           "Vaisala RS80-57H                 "
          ],
          [
           "Vaisala RS80-57H                 "
          ],
          [
           "Vaisala RS80-57H                 "
          ]
         ],
         "hovertemplate": "<b>%{hovertext}</b><br><br>sensor_id=52<br>date_time=%{x}<br>values=%{y}<br>comment=%{customdata[0]}<extra></extra>",
         "hovertext": [
          "52",
          "52",
          "52",
          "52",
          "52",
          "52",
          "52",
          "52",
          "52",
          "52",
          "52",
          "52",
          "52",
          "52",
          "52",
          "52",
          "52",
          "52",
          "52",
          "52",
          "52",
          "52",
          "52",
          "52",
          "52",
          "52",
          "52",
          "52",
          "52",
          "52",
          "52",
          "52"
         ],
         "legendgroup": "52",
         "marker": {
          "color": "#636efa",
          "line": {
           "color": "DarkSlateGrey",
           "width": 2
          },
          "size": 14,
          "symbol": "circle"
         },
         "mode": "markers",
         "name": "52",
         "orientation": "v",
         "showlegend": true,
         "type": "scatter",
         "x": [
          "1996-09-29T00:00:00",
          "1996-09-30T00:00:00",
          "1996-10-17T00:00:00",
          "1996-10-18T00:00:00",
          "1996-11-01T12:00:00",
          "1996-11-10T12:00:00",
          "1996-11-12T12:00:00",
          "1996-11-17T00:00:00",
          "1996-12-04T00:00:00",
          "1996-12-05T00:00:00",
          "1996-12-06T12:00:00",
          "1996-12-15T12:00:00",
          "1996-12-16T12:00:00",
          "1996-12-22T00:00:00",
          "1997-01-17T12:00:00",
          "1997-01-18T12:00:00",
          "1997-02-11T12:00:00",
          "1997-02-12T12:00:00",
          "1997-02-13T12:00:00",
          "1997-02-15T00:00:00",
          "1997-02-16T12:00:00",
          "1997-02-18T00:00:00",
          "1997-04-05T12:00:00",
          "1997-04-08T12:00:00",
          "1997-04-09T12:00:00",
          "1997-04-30T00:00:00",
          "1997-05-22T12:00:00",
          "2009-11-06T12:00:00",
          "2009-11-17T00:00:00",
          "2009-11-17T12:00:00",
          "2009-11-18T00:00:00",
          "2009-11-30T00:00:00"
         ],
         "xaxis": "x",
         "y": [
          10,
          10,
          10,
          10,
          10,
          10,
          10,
          10,
          10,
          10,
          10,
          10,
          10,
          10,
          10,
          10,
          10,
          10,
          10,
          10,
          10,
          10,
          10,
          10,
          10,
          10,
          10,
          10,
          10,
          10,
          10,
          10
         ],
         "yaxis": "y"
        },
        {
         "customdata": [
          [
           "AVK-RF95 (Russian Federation)                "
          ]
         ],
         "hovertemplate": "<b>%{hovertext}</b><br><br>sensor_id=53<br>date_time=%{x}<br>values=%{y}<br>comment=%{customdata[0]}<extra></extra>",
         "hovertext": [
          "53"
         ],
         "legendgroup": "53",
         "marker": {
          "color": "#EF553B",
          "line": {
           "color": "DarkSlateGrey",
           "width": 2
          },
          "size": 14,
          "symbol": "circle"
         },
         "mode": "markers",
         "name": "53",
         "orientation": "v",
         "showlegend": true,
         "type": "scatter",
         "x": [
          "1996-12-21T12:00:00"
         ],
         "xaxis": "x",
         "y": [
          11
         ],
         "yaxis": "y"
        },
        {
         "customdata": [
          [
           "AVK-MRZ (Russian Federation)                "
          ]
         ],
         "hovertemplate": "<b>%{hovertext}</b><br><br>sensor_id=27<br>date_time=%{x}<br>values=%{y}<br>comment=%{customdata[0]}<extra></extra>",
         "hovertext": [
          "27"
         ],
         "legendgroup": "27",
         "marker": {
          "color": "#00cc96",
          "line": {
           "color": "DarkSlateGrey",
           "width": 2
          },
          "size": 14,
          "symbol": "circle"
         },
         "mode": "markers",
         "name": "27",
         "orientation": "v",
         "showlegend": true,
         "type": "scatter",
         "x": [
          "1997-04-09T00:00:00"
         ],
         "xaxis": "x",
         "y": [
          12
         ],
         "yaxis": "y"
        },
        {
         "customdata": [
          [
           "Vaisala RS41/AUTOSONDE (Finland)                            "
          ],
          [
           "Vaisala RS41/AUTOSONDE (Finland)                            "
          ],
          [
           "Vaisala RS41/AUTOSONDE (Finland)                            "
          ],
          [
           "Vaisala RS41/AUTOSONDE (Finland)                            "
          ],
          [
           "Vaisala RS41/AUTOSONDE (Finland)                            "
          ],
          [
           "Vaisala RS41/AUTOSONDE (Finland)                            "
          ],
          [
           "Vaisala RS41/AUTOSONDE (Finland)                            "
          ],
          [
           "Vaisala RS41/AUTOSONDE (Finland)                            "
          ],
          [
           "Vaisala RS41/AUTOSONDE (Finland)                            "
          ],
          [
           "Vaisala RS41/AUTOSONDE (Finland)                            "
          ],
          [
           "Vaisala RS41/AUTOSONDE (Finland)                            "
          ],
          [
           "Vaisala RS41/AUTOSONDE (Finland)                            "
          ],
          [
           "Vaisala RS41/AUTOSONDE (Finland)                            "
          ]
         ],
         "hovertemplate": "<b>%{hovertext}</b><br><br>sensor_id=124<br>date_time=%{x}<br>values=%{y}<br>comment=%{customdata[0]}<extra></extra>",
         "hovertext": [
          "124",
          "124",
          "124",
          "124",
          "124",
          "124",
          "124",
          "124",
          "124",
          "124",
          "124",
          "124",
          "124"
         ],
         "legendgroup": "124",
         "marker": {
          "color": "#ab63fa",
          "line": {
           "color": "DarkSlateGrey",
           "width": 2
          },
          "size": 14,
          "symbol": "circle"
         },
         "mode": "markers",
         "name": "124",
         "orientation": "v",
         "showlegend": true,
         "type": "scatter",
         "x": [
          "2017-10-17T23:01:04",
          "2018-03-08T23:01:04",
          "2018-05-28T18:19:06",
          "2019-07-28T23:01:04",
          "2019-09-06T11:01:04",
          "2020-09-01T23:01:07",
          "2020-09-05T23:01:05",
          "2020-09-07T23:01:06",
          "2020-09-08T23:01:05",
          "2020-09-09T23:01:05",
          "2020-09-22T11:01:07",
          "2021-08-27T23:01:05",
          "2021-10-28T11:01:05"
         ],
         "xaxis": "x",
         "y": [
          13,
          13,
          13,
          13,
          13,
          13,
          13,
          13,
          13,
          13,
          13,
          13,
          13
         ],
         "yaxis": "y"
        }
       ],
       "layout": {
        "font": {
         "color": "black",
         "size": 16
        },
        "height": 400,
        "hovermode": "x unified",
        "legend": {
         "title": {
          "text": "Sensor ID"
         },
         "tracegroupgap": 0
        },
        "margin": {
         "t": 60
        },
        "shapes": [
         {
          "line": {
           "color": "green",
           "dash": "dash",
           "width": 3
          },
          "type": "line",
          "x0": "1961-10-01T00:00:00",
          "x1": "1961-10-01T00:00:00",
          "xref": "x",
          "y0": 0,
          "y1": 1,
          "yref": "y domain"
         },
         {
          "line": {
           "color": "green",
           "dash": "dash",
           "width": 3
          },
          "type": "line",
          "x0": "1962-01-01T00:00:00",
          "x1": "1962-01-01T00:00:00",
          "xref": "x",
          "y0": 0,
          "y1": 1,
          "yref": "y domain"
         },
         {
          "line": {
           "color": "green",
           "dash": "dash",
           "width": 3
          },
          "type": "line",
          "x0": "1980-12-01T00:00:00",
          "x1": "1980-12-01T00:00:00",
          "xref": "x",
          "y0": 0,
          "y1": 1,
          "yref": "y domain"
         },
         {
          "line": {
           "color": "green",
           "dash": "dash",
           "width": 3
          },
          "type": "line",
          "x0": "1986-05-01T00:00:00",
          "x1": "1986-05-01T00:00:00",
          "xref": "x",
          "y0": 0,
          "y1": 1,
          "yref": "y domain"
         },
         {
          "line": {
           "color": "green",
           "dash": "dash",
           "width": 3
          },
          "type": "line",
          "x0": "1988-10-01T00:00:00",
          "x1": "1988-10-01T00:00:00",
          "xref": "x",
          "y0": 0,
          "y1": 1,
          "yref": "y domain"
         },
         {
          "line": {
           "color": "green",
           "dash": "dash",
           "width": 3
          },
          "type": "line",
          "x0": "1989-11-01T00:00:00",
          "x1": "1989-11-01T00:00:00",
          "xref": "x",
          "y0": 0,
          "y1": 1,
          "yref": "y domain"
         },
         {
          "line": {
           "color": "green",
           "dash": "dash",
           "width": 3
          },
          "type": "line",
          "x0": "1992-12-01T00:00:00",
          "x1": "1992-12-01T00:00:00",
          "xref": "x",
          "y0": 0,
          "y1": 1,
          "yref": "y domain"
         },
         {
          "line": {
           "color": "green",
           "dash": "dash",
           "width": 3
          },
          "type": "line",
          "x0": "1993-10-01T00:00:00",
          "x1": "1993-10-01T00:00:00",
          "xref": "x",
          "y0": 0,
          "y1": 1,
          "yref": "y domain"
         },
         {
          "line": {
           "color": "green",
           "dash": "dash",
           "width": 3
          },
          "type": "line",
          "x0": "1993-10-01T00:00:00",
          "x1": "1993-10-01T00:00:00",
          "xref": "x",
          "y0": 0,
          "y1": 1,
          "yref": "y domain"
         },
         {
          "line": {
           "color": "green",
           "dash": "dash",
           "width": 3
          },
          "type": "line",
          "x0": "1993-10-01T00:00:00",
          "x1": "1993-10-01T00:00:00",
          "xref": "x",
          "y0": 0,
          "y1": 1,
          "yref": "y domain"
         },
         {
          "line": {
           "color": "green",
           "dash": "dash",
           "width": 3
          },
          "type": "line",
          "x0": "1993-10-01T00:00:00",
          "x1": "1993-10-01T00:00:00",
          "xref": "x",
          "y0": 0,
          "y1": 1,
          "yref": "y domain"
         },
         {
          "line": {
           "color": "green",
           "dash": "dash",
           "width": 3
          },
          "type": "line",
          "x0": "1995-11-01T00:00:00",
          "x1": "1995-11-01T00:00:00",
          "xref": "x",
          "y0": 0,
          "y1": 1,
          "yref": "y domain"
         }
        ],
        "template": {
         "data": {
          "bar": [
           {
            "error_x": {
             "color": "#2a3f5f"
            },
            "error_y": {
             "color": "#2a3f5f"
            },
            "marker": {
             "line": {
              "color": "#E5ECF6",
              "width": 0.5
             },
             "pattern": {
              "fillmode": "overlay",
              "size": 10,
              "solidity": 0.2
             }
            },
            "type": "bar"
           }
          ],
          "barpolar": [
           {
            "marker": {
             "line": {
              "color": "#E5ECF6",
              "width": 0.5
             },
             "pattern": {
              "fillmode": "overlay",
              "size": 10,
              "solidity": 0.2
             }
            },
            "type": "barpolar"
           }
          ],
          "carpet": [
           {
            "aaxis": {
             "endlinecolor": "#2a3f5f",
             "gridcolor": "white",
             "linecolor": "white",
             "minorgridcolor": "white",
             "startlinecolor": "#2a3f5f"
            },
            "baxis": {
             "endlinecolor": "#2a3f5f",
             "gridcolor": "white",
             "linecolor": "white",
             "minorgridcolor": "white",
             "startlinecolor": "#2a3f5f"
            },
            "type": "carpet"
           }
          ],
          "choropleth": [
           {
            "colorbar": {
             "outlinewidth": 0,
             "ticks": ""
            },
            "type": "choropleth"
           }
          ],
          "contour": [
           {
            "colorbar": {
             "outlinewidth": 0,
             "ticks": ""
            },
            "colorscale": [
             [
              0,
              "#0d0887"
             ],
             [
              0.1111111111111111,
              "#46039f"
             ],
             [
              0.2222222222222222,
              "#7201a8"
             ],
             [
              0.3333333333333333,
              "#9c179e"
             ],
             [
              0.4444444444444444,
              "#bd3786"
             ],
             [
              0.5555555555555556,
              "#d8576b"
             ],
             [
              0.6666666666666666,
              "#ed7953"
             ],
             [
              0.7777777777777778,
              "#fb9f3a"
             ],
             [
              0.8888888888888888,
              "#fdca26"
             ],
             [
              1,
              "#f0f921"
             ]
            ],
            "type": "contour"
           }
          ],
          "contourcarpet": [
           {
            "colorbar": {
             "outlinewidth": 0,
             "ticks": ""
            },
            "type": "contourcarpet"
           }
          ],
          "heatmap": [
           {
            "colorbar": {
             "outlinewidth": 0,
             "ticks": ""
            },
            "colorscale": [
             [
              0,
              "#0d0887"
             ],
             [
              0.1111111111111111,
              "#46039f"
             ],
             [
              0.2222222222222222,
              "#7201a8"
             ],
             [
              0.3333333333333333,
              "#9c179e"
             ],
             [
              0.4444444444444444,
              "#bd3786"
             ],
             [
              0.5555555555555556,
              "#d8576b"
             ],
             [
              0.6666666666666666,
              "#ed7953"
             ],
             [
              0.7777777777777778,
              "#fb9f3a"
             ],
             [
              0.8888888888888888,
              "#fdca26"
             ],
             [
              1,
              "#f0f921"
             ]
            ],
            "type": "heatmap"
           }
          ],
          "heatmapgl": [
           {
            "colorbar": {
             "outlinewidth": 0,
             "ticks": ""
            },
            "colorscale": [
             [
              0,
              "#0d0887"
             ],
             [
              0.1111111111111111,
              "#46039f"
             ],
             [
              0.2222222222222222,
              "#7201a8"
             ],
             [
              0.3333333333333333,
              "#9c179e"
             ],
             [
              0.4444444444444444,
              "#bd3786"
             ],
             [
              0.5555555555555556,
              "#d8576b"
             ],
             [
              0.6666666666666666,
              "#ed7953"
             ],
             [
              0.7777777777777778,
              "#fb9f3a"
             ],
             [
              0.8888888888888888,
              "#fdca26"
             ],
             [
              1,
              "#f0f921"
             ]
            ],
            "type": "heatmapgl"
           }
          ],
          "histogram": [
           {
            "marker": {
             "pattern": {
              "fillmode": "overlay",
              "size": 10,
              "solidity": 0.2
             }
            },
            "type": "histogram"
           }
          ],
          "histogram2d": [
           {
            "colorbar": {
             "outlinewidth": 0,
             "ticks": ""
            },
            "colorscale": [
             [
              0,
              "#0d0887"
             ],
             [
              0.1111111111111111,
              "#46039f"
             ],
             [
              0.2222222222222222,
              "#7201a8"
             ],
             [
              0.3333333333333333,
              "#9c179e"
             ],
             [
              0.4444444444444444,
              "#bd3786"
             ],
             [
              0.5555555555555556,
              "#d8576b"
             ],
             [
              0.6666666666666666,
              "#ed7953"
             ],
             [
              0.7777777777777778,
              "#fb9f3a"
             ],
             [
              0.8888888888888888,
              "#fdca26"
             ],
             [
              1,
              "#f0f921"
             ]
            ],
            "type": "histogram2d"
           }
          ],
          "histogram2dcontour": [
           {
            "colorbar": {
             "outlinewidth": 0,
             "ticks": ""
            },
            "colorscale": [
             [
              0,
              "#0d0887"
             ],
             [
              0.1111111111111111,
              "#46039f"
             ],
             [
              0.2222222222222222,
              "#7201a8"
             ],
             [
              0.3333333333333333,
              "#9c179e"
             ],
             [
              0.4444444444444444,
              "#bd3786"
             ],
             [
              0.5555555555555556,
              "#d8576b"
             ],
             [
              0.6666666666666666,
              "#ed7953"
             ],
             [
              0.7777777777777778,
              "#fb9f3a"
             ],
             [
              0.8888888888888888,
              "#fdca26"
             ],
             [
              1,
              "#f0f921"
             ]
            ],
            "type": "histogram2dcontour"
           }
          ],
          "mesh3d": [
           {
            "colorbar": {
             "outlinewidth": 0,
             "ticks": ""
            },
            "type": "mesh3d"
           }
          ],
          "parcoords": [
           {
            "line": {
             "colorbar": {
              "outlinewidth": 0,
              "ticks": ""
             }
            },
            "type": "parcoords"
           }
          ],
          "pie": [
           {
            "automargin": true,
            "type": "pie"
           }
          ],
          "scatter": [
           {
            "marker": {
             "colorbar": {
              "outlinewidth": 0,
              "ticks": ""
             }
            },
            "type": "scatter"
           }
          ],
          "scatter3d": [
           {
            "line": {
             "colorbar": {
              "outlinewidth": 0,
              "ticks": ""
             }
            },
            "marker": {
             "colorbar": {
              "outlinewidth": 0,
              "ticks": ""
             }
            },
            "type": "scatter3d"
           }
          ],
          "scattercarpet": [
           {
            "marker": {
             "colorbar": {
              "outlinewidth": 0,
              "ticks": ""
             }
            },
            "type": "scattercarpet"
           }
          ],
          "scattergeo": [
           {
            "marker": {
             "colorbar": {
              "outlinewidth": 0,
              "ticks": ""
             }
            },
            "type": "scattergeo"
           }
          ],
          "scattergl": [
           {
            "marker": {
             "colorbar": {
              "outlinewidth": 0,
              "ticks": ""
             }
            },
            "type": "scattergl"
           }
          ],
          "scattermapbox": [
           {
            "marker": {
             "colorbar": {
              "outlinewidth": 0,
              "ticks": ""
             }
            },
            "type": "scattermapbox"
           }
          ],
          "scatterpolar": [
           {
            "marker": {
             "colorbar": {
              "outlinewidth": 0,
              "ticks": ""
             }
            },
            "type": "scatterpolar"
           }
          ],
          "scatterpolargl": [
           {
            "marker": {
             "colorbar": {
              "outlinewidth": 0,
              "ticks": ""
             }
            },
            "type": "scatterpolargl"
           }
          ],
          "scatterternary": [
           {
            "marker": {
             "colorbar": {
              "outlinewidth": 0,
              "ticks": ""
             }
            },
            "type": "scatterternary"
           }
          ],
          "surface": [
           {
            "colorbar": {
             "outlinewidth": 0,
             "ticks": ""
            },
            "colorscale": [
             [
              0,
              "#0d0887"
             ],
             [
              0.1111111111111111,
              "#46039f"
             ],
             [
              0.2222222222222222,
              "#7201a8"
             ],
             [
              0.3333333333333333,
              "#9c179e"
             ],
             [
              0.4444444444444444,
              "#bd3786"
             ],
             [
              0.5555555555555556,
              "#d8576b"
             ],
             [
              0.6666666666666666,
              "#ed7953"
             ],
             [
              0.7777777777777778,
              "#fb9f3a"
             ],
             [
              0.8888888888888888,
              "#fdca26"
             ],
             [
              1,
              "#f0f921"
             ]
            ],
            "type": "surface"
           }
          ],
          "table": [
           {
            "cells": {
             "fill": {
              "color": "#EBF0F8"
             },
             "line": {
              "color": "white"
             }
            },
            "header": {
             "fill": {
              "color": "#C8D4E3"
             },
             "line": {
              "color": "white"
             }
            },
            "type": "table"
           }
          ]
         },
         "layout": {
          "annotationdefaults": {
           "arrowcolor": "#2a3f5f",
           "arrowhead": 0,
           "arrowwidth": 1
          },
          "autotypenumbers": "strict",
          "coloraxis": {
           "colorbar": {
            "outlinewidth": 0,
            "ticks": ""
           }
          },
          "colorscale": {
           "diverging": [
            [
             0,
             "#8e0152"
            ],
            [
             0.1,
             "#c51b7d"
            ],
            [
             0.2,
             "#de77ae"
            ],
            [
             0.3,
             "#f1b6da"
            ],
            [
             0.4,
             "#fde0ef"
            ],
            [
             0.5,
             "#f7f7f7"
            ],
            [
             0.6,
             "#e6f5d0"
            ],
            [
             0.7,
             "#b8e186"
            ],
            [
             0.8,
             "#7fbc41"
            ],
            [
             0.9,
             "#4d9221"
            ],
            [
             1,
             "#276419"
            ]
           ],
           "sequential": [
            [
             0,
             "#0d0887"
            ],
            [
             0.1111111111111111,
             "#46039f"
            ],
            [
             0.2222222222222222,
             "#7201a8"
            ],
            [
             0.3333333333333333,
             "#9c179e"
            ],
            [
             0.4444444444444444,
             "#bd3786"
            ],
            [
             0.5555555555555556,
             "#d8576b"
            ],
            [
             0.6666666666666666,
             "#ed7953"
            ],
            [
             0.7777777777777778,
             "#fb9f3a"
            ],
            [
             0.8888888888888888,
             "#fdca26"
            ],
            [
             1,
             "#f0f921"
            ]
           ],
           "sequentialminus": [
            [
             0,
             "#0d0887"
            ],
            [
             0.1111111111111111,
             "#46039f"
            ],
            [
             0.2222222222222222,
             "#7201a8"
            ],
            [
             0.3333333333333333,
             "#9c179e"
            ],
            [
             0.4444444444444444,
             "#bd3786"
            ],
            [
             0.5555555555555556,
             "#d8576b"
            ],
            [
             0.6666666666666666,
             "#ed7953"
            ],
            [
             0.7777777777777778,
             "#fb9f3a"
            ],
            [
             0.8888888888888888,
             "#fdca26"
            ],
            [
             1,
             "#f0f921"
            ]
           ]
          },
          "colorway": [
           "#636efa",
           "#EF553B",
           "#00cc96",
           "#ab63fa",
           "#FFA15A",
           "#19d3f3",
           "#FF6692",
           "#B6E880",
           "#FF97FF",
           "#FECB52"
          ],
          "font": {
           "color": "#2a3f5f"
          },
          "geo": {
           "bgcolor": "white",
           "lakecolor": "white",
           "landcolor": "#E5ECF6",
           "showlakes": true,
           "showland": true,
           "subunitcolor": "white"
          },
          "hoverlabel": {
           "align": "left"
          },
          "hovermode": "closest",
          "mapbox": {
           "style": "light"
          },
          "paper_bgcolor": "white",
          "plot_bgcolor": "#E5ECF6",
          "polar": {
           "angularaxis": {
            "gridcolor": "white",
            "linecolor": "white",
            "ticks": ""
           },
           "bgcolor": "#E5ECF6",
           "radialaxis": {
            "gridcolor": "white",
            "linecolor": "white",
            "ticks": ""
           }
          },
          "scene": {
           "xaxis": {
            "backgroundcolor": "#E5ECF6",
            "gridcolor": "white",
            "gridwidth": 2,
            "linecolor": "white",
            "showbackground": true,
            "ticks": "",
            "zerolinecolor": "white"
           },
           "yaxis": {
            "backgroundcolor": "#E5ECF6",
            "gridcolor": "white",
            "gridwidth": 2,
            "linecolor": "white",
            "showbackground": true,
            "ticks": "",
            "zerolinecolor": "white"
           },
           "zaxis": {
            "backgroundcolor": "#E5ECF6",
            "gridcolor": "white",
            "gridwidth": 2,
            "linecolor": "white",
            "showbackground": true,
            "ticks": "",
            "zerolinecolor": "white"
           }
          },
          "shapedefaults": {
           "line": {
            "color": "#2a3f5f"
           }
          },
          "ternary": {
           "aaxis": {
            "gridcolor": "white",
            "linecolor": "white",
            "ticks": ""
           },
           "baxis": {
            "gridcolor": "white",
            "linecolor": "white",
            "ticks": ""
           },
           "bgcolor": "#E5ECF6",
           "caxis": {
            "gridcolor": "white",
            "linecolor": "white",
            "ticks": ""
           }
          },
          "title": {
           "x": 0.05
          },
          "xaxis": {
           "automargin": true,
           "gridcolor": "white",
           "linecolor": "white",
           "ticks": "",
           "title": {
            "standoff": 15
           },
           "zerolinecolor": "white",
           "zerolinewidth": 2
          },
          "yaxis": {
           "automargin": true,
           "gridcolor": "white",
           "linecolor": "white",
           "ticks": "",
           "title": {
            "standoff": 15
           },
           "zerolinecolor": "white",
           "zerolinewidth": 2
          }
         }
        },
        "title": {
         "text": "Sensors Time Series - Kodiak (Alaska)  [Cleaned,Only WMO Variations]"
        },
        "width": 1800,
        "xaxis": {
         "anchor": "y",
         "autorange": true,
         "domain": [
          0,
          1
         ],
         "range": [
          "1961-09-08 22:54:53.7091",
          "2025-07-18 18:55:49.4858"
         ],
         "title": {
          "text": "Date of Sensor Replacement"
         },
         "type": "date"
        },
        "yaxis": {
         "anchor": "x",
         "autorange": true,
         "domain": [
          0,
          1
         ],
         "range": [
          -1.3060046189376444,
          14.306004618937644
         ],
         "tickfont": {
          "size": 16
         },
         "title": {
          "text": "Sensor Metadata"
         },
         "type": "linear"
        }
       }
      },
      "image/png": "[encoded data removed]",
      "text/html": [
       "<div>                            <div id=\"f74a01d1-5ce8-4182-b68c-e87e2fbce20e\" class=\"plotly-graph-div\" style=\"height:400px; width:1800px;\"></div>            <script type=\"text/javascript\">                require([\"plotly\"], function(Plotly) {                    window.PLOTLYENV=window.PLOTLYENV || {};                                    if (document.getElementById(\"f74a01d1-5ce8-4182-b68c-e87e2fbce20e\")) {                    Plotly.newPlot(                        \"f74a01d1-5ce8-4182-b68c-e87e2fbce20e\",                        [{\"customdata\":[[\"  ZKB VIZ model 1492-520 NWS 1680 MHz ART \\\"B\\\" Accu-Lok {1988} 31313=01102^ (T=004,W3=11,W2=28) NWS stock no. J060, 0.25 sec time sequenced <F=T1680AL,\"],[\"  ZKB VIZ model 1492-520 NWS 1680 MHz ART \\\"B\\\" Accu-Lok {1988} 31313=01102^ (T=004,W3=11,W2=28) NWS stock no. J060, 0.25 sec time sequenced <F=T1680AL,\"]],\"hovertemplate\":\"<b>%{hovertext}</b><br><br>sensor_id=ZKB <br>date_time=%{x}<br>values=%{y}<br>comment=%{customdata[0]}<extra></extra>\",\"hovertext\":[\"ZKB \",\"ZKB \"],\"legendgroup\":\"ZKB \",\"marker\":{\"color\":\"#636efa\",\"line\":{\"color\":\"DarkSlateGrey\",\"width\":2},\"size\":14,\"symbol\":\"circle\"},\"mode\":\"markers\",\"name\":\"ZKB \",\"orientation\":\"v\",\"showlegend\":true,\"type\":\"scatter\",\"x\":[\"1994-01-01T00:00:00\",\"1995-10-20T00:00:00\"],\"xaxis\":\"x\",\"y\":[0,0],\"yaxis\":\"y\"},{\"customdata\":[[\"  VU1 Vaisala RS80-56H or RS80-56 1680 MHz RDF H-Humicap NWS radiosonde, pressure cell {1995} 31313=43702^ (W3=37, T=038) <F=T1680AL,P=Ac,T=CB,U=A>\"],[\"  VU1 Vaisala RS80-56H or RS80-56 1680 MHz RDF H-Humicap NWS radiosonde, pressure cell {1995} 31313=43702^ (W3=37, T=038) <F=T1680AL,P=Ac,T=CB,U=A>\"]],\"hovertemplate\":\"<b>%{hovertext}</b><br><br>sensor_id=VU1 <br>date_time=%{x}<br>values=%{y}<br>comment=%{customdata[0]}<extra></extra>\",\"hovertext\":[\"VU1 \",\"VU1 \"],\"legendgroup\":\"VU1 \",\"marker\":{\"color\":\"#EF553B\",\"line\":{\"color\":\"DarkSlateGrey\",\"width\":2},\"size\":14,\"symbol\":\"circle\"},\"mode\":\"markers\",\"name\":\"VU1 \",\"orientation\":\"v\",\"showlegend\":true,\"type\":\"scatter\",\"x\":[\"1995-10-19T20:00:00\",\"1995-11-01T00:00:00\"],\"xaxis\":\"x\",\"y\":[1,1],\"yaxis\":\"y\"},{\"customdata\":[[\"  VU3 Vaisala RS80-57H or RS80-57 1680 MHz RDF H-Humicap NWS radiosonde, pressure cell {1998} 31313=45202^ (W3=52, T=039) (RDF, 1680+-3 MHz AM)\"]],\"hovertemplate\":\"<b>%{hovertext}</b><br><br>sensor_id=VU3 <br>date_time=%{x}<br>values=%{y}<br>comment=%{customdata[0]}<extra></extra>\",\"hovertext\":[\"VU3 \"],\"legendgroup\":\"VU3 \",\"marker\":{\"color\":\"#00cc96\",\"line\":{\"color\":\"DarkSlateGrey\",\"width\":2},\"size\":14,\"symbol\":\"circle\"},\"mode\":\"markers\",\"name\":\"VU3 \",\"orientation\":\"v\",\"showlegend\":true,\"type\":\"scatter\",\"x\":[\"1998-06-01T00:00:00\"],\"xaxis\":\"x\",\"y\":[2],\"yaxis\":\"y\"},{\"customdata\":[[\"VIZ-B2 (United States)                \"],[\"VIZ-B2 (United States)                \"],[\"VIZ-B2 (United States)                \"],[\"VIZ-B2 (United States)                \"],[\"VIZ-B2 (United States)                \"],[\"VIZ-B2 (United States)                \"],[\"VIZ-B2 (United States)                \"],[\"VIZ-B2 (United States)                \"],[\"VIZ-B2 (United States)                \"],[\"VIZ-B2 (United States)                \"],[\"VIZ-B2 (United States)                \"],[\"VIZ-B2 (United States)                \"],[\"VIZ-B2 (United States)                \"]],\"hovertemplate\":\"<b>%{hovertext}</b><br><br>sensor_id=51<br>date_time=%{x}<br>values=%{y}<br>comment=%{customdata[0]}<extra></extra>\",\"hovertext\":[\"51\",\"51\",\"51\",\"51\",\"51\",\"51\",\"51\",\"51\",\"51\",\"51\",\"51\",\"51\",\"51\"],\"legendgroup\":\"51\",\"marker\":{\"color\":\"#ab63fa\",\"line\":{\"color\":\"DarkSlateGrey\",\"width\":2},\"size\":14,\"symbol\":\"circle\"},\"mode\":\"markers\",\"name\":\"51\",\"orientation\":\"v\",\"showlegend\":true,\"type\":\"scatter\",\"x\":[\"2012-12-31T12:00:00\",\"2013-04-18T00:00:00\",\"2013-11-19T00:00:00\",\"2013-11-23T00:00:00\",\"2013-12-17T00:00:00\",\"2009-11-06T07:00:00\",\"2009-11-16T19:00:00\",\"2009-11-17T08:00:00\",\"2009-11-17T19:00:00\",\"2009-11-29T18:00:00\",\"2009-12-01T00:00:00\",\"2013-11-19T00:00:00\",\"2013-12-17T00:00:00\"],\"xaxis\":\"x\",\"y\":[3,3,3,3,3,3,3,3,3,3,3,3,3],\"yaxis\":\"y\"},{\"customdata\":[[\"NA\"],[\"NA\"],[\"NA\"],[\"NA\"],[\"NA\"],[\"NA\"],[\"NA\"],[\"NA\"],[\"NA\"],[\"NA\"],[\"NA\"],[\"NA\"],[\"NA\"],[\"NA\"],[\"NA\"],[\"NA\"],[\"NA\"],[\"NA\"],[\"NA\"],[\"NA\"],[\"NA\"]],\"hovertemplate\":\"<b>%{hovertext}</b><br><br>sensor_id=nan<br>date_time=%{x}<br>values=%{y}<br>comment=%{customdata[0]}<extra></extra>\",\"hovertext\":[\"nan\",\"nan\",\"nan\",\"nan\",\"nan\",\"nan\",\"nan\",\"nan\",\"nan\",\"nan\",\"nan\",\"nan\",\"nan\",\"nan\",\"nan\",\"nan\",\"nan\",\"nan\",\"nan\",\"nan\",\"nan\"],\"legendgroup\":\"nan\",\"marker\":{\"color\":\"#FFA15A\",\"line\":{\"color\":\"DarkSlateGrey\",\"width\":2},\"size\":14,\"symbol\":\"circle\"},\"mode\":\"markers\",\"name\":\"nan\",\"orientation\":\"v\",\"showlegend\":true,\"type\":\"scatter\",\"x\":[\"2013-04-17T12:00:00\",\"2013-11-22T18:00:00\",\"2014-05-01T00:00:00\",\"2014-07-23T23:00:00\",\"2015-01-07T12:00:00\",\"2016-08-21T12:00:00\",\"2016-10-07T12:00:00\",\"2016-11-16T12:00:00\",\"2016-12-10T12:00:00\",\"2017-03-02T00:00:00\",\"2017-08-28T12:00:00\",\"2017-09-12T12:00:00\",\"2017-09-29T18:00:00\",\"2017-10-03T00:00:00\",\"2017-10-05T15:00:00\",\"2017-10-12T12:00:00\",\"2017-10-20T15:00:00\",\"2017-11-01T21:00:00\",\"2018-09-27T12:00:00\",\"2019-05-14T19:00:00\",\"2022-01-01T00:00:00\"],\"xaxis\":\"x\",\"y\":[4,4,4,4,4,4,4,4,4,4,4,4,4,4,4,4,4,4,4,4,4],\"yaxis\":\"y\"},{\"customdata\":[[\"VIZ type B time-commutated (United States)             \"],[\"VIZ type B time-commutated (United States)             \"],[\"VIZ type B time-commutated (United States)             \"],[\"VIZ type B time-commutated (United States)             \"],[\"VIZ type B time-commutated (United States)             \"],[\"VIZ type B time-commutated (United States)             \"],[\"VIZ type B time-commutated (United States)             \"],[\"VIZ type B time-commutated (United States)             \"],[\"VIZ type B time-commutated (United States)             \"],[\"VIZ type B time-commutated (United States)             \"],[\"VIZ type B time-commutated (United States)             \"],[\"VIZ type B time-commutated (United States)             \"],[\"VIZ type B time-commutated (United States)             \"],[\"VIZ type B time-commutated (United States)             \"],[\"VIZ type B time-commutated (United States)             \"],[\"VIZ type B time-commutated (United States)             \"],[\"VIZ type B time-commutated (United States)             \"],[\"VIZ type B time-commutated (United States)             \"],[\"VIZ type B time-commutated (United States)             \"],[\"VIZ type B time-commutated (United States)             \"],[\"VIZ type B time-commutated (United States)             \"]],\"hovertemplate\":\"<b>%{hovertext}</b><br><br>sensor_id=11<br>date_time=%{x}<br>values=%{y}<br>comment=%{customdata[0]}<extra></extra>\",\"hovertext\":[\"11\",\"11\",\"11\",\"11\",\"11\",\"11\",\"11\",\"11\",\"11\",\"11\",\"11\",\"11\",\"11\",\"11\",\"11\",\"11\",\"11\",\"11\",\"11\",\"11\",\"11\"],\"legendgroup\":\"11\",\"marker\":{\"color\":\"#19d3f3\",\"line\":{\"color\":\"DarkSlateGrey\",\"width\":2},\"size\":14,\"symbol\":\"circle\"},\"mode\":\"markers\",\"name\":\"11\",\"orientation\":\"v\",\"showlegend\":true,\"type\":\"scatter\",\"x\":[\"2013-11-18T19:00:00\",\"2013-12-16T21:00:00\",\"2013-12-18T00:00:00\",\"2014-05-01T12:00:00\",\"2014-07-24T12:00:00\",\"2015-01-08T00:00:00\",\"2016-08-22T00:00:00\",\"2016-10-08T00:00:00\",\"2016-11-17T00:00:00\",\"2016-12-11T00:00:00\",\"2017-03-02T22:52:00\",\"2017-08-29T00:00:00\",\"2017-09-13T00:00:00\",\"2017-09-30T00:00:00\",\"2017-10-04T00:00:00\",\"2017-10-06T12:00:00\",\"1994-01-01T00:00:00\",\"1994-11-03T12:00:00\",\"2013-11-18T19:00:00\",\"2013-12-16T21:00:00\",\"2013-12-18T00:00:00\"],\"xaxis\":\"x\",\"y\":[5,5,5,5,5,5,5,5,5,5,5,5,5,5,5,5,5,5,5,5,5],\"yaxis\":\"y\"},{\"customdata\":[[\"Vaisala RS41/AUTOSONDE (Finland)                            \"],[\"Vaisala RS41/AUTOSONDE (Finland)                            \"],[\"Vaisala RS41/AUTOSONDE (Finland)                            \"],[\"Vaisala RS41/AUTOSONDE (Finland)                            \"],[\"Vaisala RS41/AUTOSONDE (Finland)                            \"],[\"Vaisala RS41/AUTOSONDE (Finland)                            \"],[\"Vaisala RS41/AUTOSONDE (Finland)                            \"],[\"Vaisala RS41/AUTOSONDE (Finland)                            \"],[\"Vaisala RS41/AUTOSONDE (Finland)                            \"],[\"Vaisala RS41/AUTOSONDE (Finland)                            \"],[\"Vaisala RS41/AUTOSONDE (Finland)                            \"],[\"Vaisala RS41/AUTOSONDE (Finland)                            \"],[\"Vaisala RS41/AUTOSONDE (Finland)                            \"],[\"Vaisala RS41/AUTOSONDE (Finland)                            \"],[\"Vaisala RS41/AUTOSONDE (Finland)                            \"],[\"Vaisala RS41/AUTOSONDE (Finland)                            \"]],\"hovertemplate\":\"<b>%{hovertext}</b><br><br>sensor_id=124.<br>date_time=%{x}<br>values=%{y}<br>comment=%{customdata[0]}<extra></extra>\",\"hovertext\":[\"124.\",\"124.\",\"124.\",\"124.\",\"124.\",\"124.\",\"124.\",\"124.\",\"124.\",\"124.\",\"124.\",\"124.\",\"124.\",\"124.\",\"124.\",\"124.\"],\"legendgroup\":\"124.\",\"marker\":{\"color\":\"#FF6692\",\"line\":{\"color\":\"DarkSlateGrey\",\"width\":2},\"size\":14,\"symbol\":\"circle\"},\"mode\":\"markers\",\"name\":\"124.\",\"orientation\":\"v\",\"showlegend\":true,\"type\":\"scatter\",\"x\":[\"2017-10-17T23:01:04\",\"2017-10-20T23:01:04\",\"2017-11-01T23:01:04\",\"2018-03-08T23:01:04\",\"2018-05-28T18:19:06\",\"2018-09-27T23:01:04\",\"2019-07-28T23:01:04\",\"2019-09-06T11:01:04\",\"2020-09-01T23:01:07\",\"2020-09-05T23:01:05\",\"2020-09-07T23:01:06\",\"2020-09-08T23:01:05\",\"2020-09-09T23:01:05\",\"2020-09-22T11:01:07\",\"2021-08-27T23:01:05\",\"2021-10-28T11:01:05\"],\"xaxis\":\"x\",\"y\":[6,6,6,6,6,6,6,6,6,6,6,6,6,6,6,6],\"yaxis\":\"y\"},{\"customdata\":[[\"Mesural FMO 1945A (France)               \"],[\"Mesural FMO 1945A (France)               \"],[\"Mesural FMO 1945A (France)               \"],[\"Mesural FMO 1945A (France)               \"],[\"Mesural FMO 1945A (France)               \"],[\"Mesural FMO 1945A (France)               \"],[\"Mesural FMO 1945A (France)               \"],[\"Mesural FMO 1945A (France)               \"],[\"Mesural FMO 1945A (France)               \"],[\"Mesural FMO 1945A (France)               \"],[\"Mesural FMO 1945A (France)               \"],[\"Mesural FMO 1945A (France)               \"],[\"Mesural FMO 1945A (France)               \"],[\"Mesural FMO 1945A (France)               \"],[\"Mesural FMO 1945A (France)               \"],[\"Mesural FMO 1945A (France)               \"],[\"Mesural FMO 1945A (France)               \"],[\"Mesural FMO 1945A (France)               \"],[\"Mesural FMO 1945A (France)               \"],[\"Mesural FMO 1945A (France)               \"],[\"Mesural FMO 1945A (France)               \"],[\"Mesural FMO 1945A (France)               \"],[\"Mesural FMO 1945A (France)               \"],[\"Mesural FMO 1945A (France)               \"],[\"Mesural FMO 1945A (France)               \"]],\"hovertemplate\":\"<b>%{hovertext}</b><br><br>sensor_id=24<br>date_time=%{x}<br>values=%{y}<br>comment=%{customdata[0]}<extra></extra>\",\"hovertext\":[\"24\",\"24\",\"24\",\"24\",\"24\",\"24\",\"24\",\"24\",\"24\",\"24\",\"24\",\"24\",\"24\",\"24\",\"24\",\"24\",\"24\",\"24\",\"24\",\"24\",\"24\",\"24\",\"24\",\"24\",\"24\"],\"legendgroup\":\"24\",\"marker\":{\"color\":\"#B6E880\",\"line\":{\"color\":\"DarkSlateGrey\",\"width\":2},\"size\":14,\"symbol\":\"circle\"},\"mode\":\"markers\",\"name\":\"24\",\"orientation\":\"v\",\"showlegend\":true,\"type\":\"scatter\",\"x\":[\"2018-03-08T12:00:00\",\"2018-05-28T00:00:00\",\"2019-04-16T18:00:00\",\"2019-05-15T00:00:00\",\"2019-09-06T00:00:00\",\"2020-09-01T12:00:00\",\"2020-09-05T12:00:00\",\"2020-09-07T12:00:00\",\"2020-09-08T12:00:00\",\"2020-09-09T12:00:00\",\"2020-09-22T00:00:00\",\"2021-08-27T11:01:00\",\"2021-10-28T00:00:00\",\"2018-03-08T12:00:00\",\"2018-05-28T00:00:00\",\"2019-04-16T18:00:00\",\"2019-09-06T00:00:00\",\"2020-09-01T12:00:00\",\"2020-09-05T12:00:00\",\"2020-09-07T12:00:00\",\"2020-09-08T12:00:00\",\"2020-09-09T12:00:00\",\"2020-09-22T00:00:00\",\"2021-08-27T11:01:00\",\"2021-10-28T00:00:00\"],\"xaxis\":\"x\",\"y\":[7,7,7,7,7,7,7,7,7,7,7,7,7,7,7,7,7,7,7,7,7,7,7,7,7],\"yaxis\":\"y\"},{\"customdata\":[[\"VIZ type A pressure-commutated (United States)             \"]],\"hovertemplate\":\"<b>%{hovertext}</b><br><br>sensor_id=10<br>date_time=%{x}<br>values=%{y}<br>comment=%{customdata[0]}<extra></extra>\",\"hovertext\":[\"10\"],\"legendgroup\":\"10\",\"marker\":{\"color\":\"#FF97FF\",\"line\":{\"color\":\"DarkSlateGrey\",\"width\":2},\"size\":14,\"symbol\":\"circle\"},\"mode\":\"markers\",\"name\":\"10\",\"orientation\":\"v\",\"showlegend\":true,\"type\":\"scatter\",\"x\":[\"1994-11-03T00:00:00\"],\"xaxis\":\"x\",\"y\":[8],\"yaxis\":\"y\"},{\"customdata\":[[\"Vaisala RS80 (Finland)                \"],[\"Vaisala RS80 (Finland)                \"],[\"Vaisala RS80 (Finland)                \"],[\"Vaisala RS80 (Finland)                \"],[\"Vaisala RS80 (Finland)                \"],[\"Vaisala RS80 (Finland)                \"],[\"Vaisala RS80 (Finland)                \"],[\"Vaisala RS80 (Finland)                \"],[\"Vaisala RS80 (Finland)                \"],[\"Vaisala RS80 (Finland)                \"],[\"Vaisala RS80 (Finland)                \"],[\"Vaisala RS80 (Finland)                \"],[\"Vaisala RS80 (Finland)                \"],[\"Vaisala RS80 (Finland)                \"],[\"Vaisala RS80 (Finland)                \"],[\"Vaisala RS80 (Finland)                \"],[\"Vaisala RS80 (Finland)                \"],[\"Vaisala RS80 (Finland)                \"],[\"Vaisala RS80 (Finland)                \"],[\"Vaisala RS80 (Finland)                \"],[\"Vaisala RS80 (Finland)                \"],[\"Vaisala RS80 (Finland)                \"],[\"Vaisala RS80 (Finland)                \"],[\"Vaisala RS80 (Finland)                \"],[\"Vaisala RS80 (Finland)                \"]],\"hovertemplate\":\"<b>%{hovertext}</b><br><br>sensor_id=37<br>date_time=%{x}<br>values=%{y}<br>comment=%{customdata[0]}<extra></extra>\",\"hovertext\":[\"37\",\"37\",\"37\",\"37\",\"37\",\"37\",\"37\",\"37\",\"37\",\"37\",\"37\",\"37\",\"37\",\"37\",\"37\",\"37\",\"37\",\"37\",\"37\",\"37\",\"37\",\"37\",\"37\",\"37\",\"37\"],\"legendgroup\":\"37\",\"marker\":{\"color\":\"#FECB52\",\"line\":{\"color\":\"DarkSlateGrey\",\"width\":2},\"size\":14,\"symbol\":\"circle\"},\"mode\":\"markers\",\"name\":\"37\",\"orientation\":\"v\",\"showlegend\":true,\"type\":\"scatter\",\"x\":[\"1995-11-01T00:00:00\",\"1996-09-29T12:00:00\",\"1996-09-30T12:00:00\",\"1996-10-17T12:00:00\",\"1996-10-19T00:00:00\",\"1996-11-10T00:00:00\",\"1996-11-12T00:00:00\",\"1996-11-16T12:00:00\",\"1996-12-03T00:00:00\",\"1996-12-04T12:00:00\",\"1996-12-06T00:00:00\",\"1996-12-15T00:00:00\",\"1996-12-16T00:00:00\",\"1997-01-17T00:00:00\",\"1997-01-18T00:00:00\",\"1997-02-11T00:00:00\",\"1997-02-12T00:00:00\",\"1997-02-13T00:00:00\",\"1997-02-14T12:00:00\",\"1997-02-16T00:00:00\",\"1997-02-17T00:00:00\",\"1997-04-05T00:00:00\",\"1997-04-08T00:00:00\",\"1997-04-29T12:00:00\",\"1997-05-22T00:00:00\"],\"xaxis\":\"x\",\"y\":[9,9,9,9,9,9,9,9,9,9,9,9,9,9,9,9,9,9,9,9,9,9,9,9,9],\"yaxis\":\"y\"},{\"customdata\":[[\"Vaisala RS80-57H                 \"],[\"Vaisala RS80-57H                 \"],[\"Vaisala RS80-57H                 \"],[\"Vaisala RS80-57H                 \"],[\"Vaisala RS80-57H                 \"],[\"Vaisala RS80-57H                 \"],[\"Vaisala RS80-57H                 \"],[\"Vaisala RS80-57H                 \"],[\"Vaisala RS80-57H                 \"],[\"Vaisala RS80-57H                 \"],[\"Vaisala RS80-57H                 \"],[\"Vaisala RS80-57H                 \"],[\"Vaisala RS80-57H                 \"],[\"Vaisala RS80-57H                 \"],[\"Vaisala RS80-57H                 \"],[\"Vaisala RS80-57H                 \"],[\"Vaisala RS80-57H                 \"],[\"Vaisala RS80-57H                 \"],[\"Vaisala RS80-57H                 \"],[\"Vaisala RS80-57H                 \"],[\"Vaisala RS80-57H                 \"],[\"Vaisala RS80-57H                 \"],[\"Vaisala RS80-57H                 \"],[\"Vaisala RS80-57H                 \"],[\"Vaisala RS80-57H                 \"],[\"Vaisala RS80-57H                 \"],[\"Vaisala RS80-57H                 \"],[\"Vaisala RS80-57H                 \"],[\"Vaisala RS80-57H                 \"],[\"Vaisala RS80-57H                 \"],[\"Vaisala RS80-57H                 \"],[\"Vaisala RS80-57H                 \"]],\"hovertemplate\":\"<b>%{hovertext}</b><br><br>sensor_id=52<br>date_time=%{x}<br>values=%{y}<br>comment=%{customdata[0]}<extra></extra>\",\"hovertext\":[\"52\",\"52\",\"52\",\"52\",\"52\",\"52\",\"52\",\"52\",\"52\",\"52\",\"52\",\"52\",\"52\",\"52\",\"52\",\"52\",\"52\",\"52\",\"52\",\"52\",\"52\",\"52\",\"52\",\"52\",\"52\",\"52\",\"52\",\"52\",\"52\",\"52\",\"52\",\"52\"],\"legendgroup\":\"52\",\"marker\":{\"color\":\"#636efa\",\"line\":{\"color\":\"DarkSlateGrey\",\"width\":2},\"size\":14,\"symbol\":\"circle\"},\"mode\":\"markers\",\"name\":\"52\",\"orientation\":\"v\",\"showlegend\":true,\"type\":\"scatter\",\"x\":[\"1996-09-29T00:00:00\",\"1996-09-30T00:00:00\",\"1996-10-17T00:00:00\",\"1996-10-18T00:00:00\",\"1996-11-01T12:00:00\",\"1996-11-10T12:00:00\",\"1996-11-12T12:00:00\",\"1996-11-17T00:00:00\",\"1996-12-04T00:00:00\",\"1996-12-05T00:00:00\",\"1996-12-06T12:00:00\",\"1996-12-15T12:00:00\",\"1996-12-16T12:00:00\",\"1996-12-22T00:00:00\",\"1997-01-17T12:00:00\",\"1997-01-18T12:00:00\",\"1997-02-11T12:00:00\",\"1997-02-12T12:00:00\",\"1997-02-13T12:00:00\",\"1997-02-15T00:00:00\",\"1997-02-16T12:00:00\",\"1997-02-18T00:00:00\",\"1997-04-05T12:00:00\",\"1997-04-08T12:00:00\",\"1997-04-09T12:00:00\",\"1997-04-30T00:00:00\",\"1997-05-22T12:00:00\",\"2009-11-06T12:00:00\",\"2009-11-17T00:00:00\",\"2009-11-17T12:00:00\",\"2009-11-18T00:00:00\",\"2009-11-30T00:00:00\"],\"xaxis\":\"x\",\"y\":[10,10,10,10,10,10,10,10,10,10,10,10,10,10,10,10,10,10,10,10,10,10,10,10,10,10,10,10,10,10,10,10],\"yaxis\":\"y\"},{\"customdata\":[[\"AVK-RF95 (Russian Federation)                \"]],\"hovertemplate\":\"<b>%{hovertext}</b><br><br>sensor_id=53<br>date_time=%{x}<br>values=%{y}<br>comment=%{customdata[0]}<extra></extra>\",\"hovertext\":[\"53\"],\"legendgroup\":\"53\",\"marker\":{\"color\":\"#EF553B\",\"line\":{\"color\":\"DarkSlateGrey\",\"width\":2},\"size\":14,\"symbol\":\"circle\"},\"mode\":\"markers\",\"name\":\"53\",\"orientation\":\"v\",\"showlegend\":true,\"type\":\"scatter\",\"x\":[\"1996-12-21T12:00:00\"],\"xaxis\":\"x\",\"y\":[11],\"yaxis\":\"y\"},{\"customdata\":[[\"AVK-MRZ (Russian Federation)                \"]],\"hovertemplate\":\"<b>%{hovertext}</b><br><br>sensor_id=27<br>date_time=%{x}<br>values=%{y}<br>comment=%{customdata[0]}<extra></extra>\",\"hovertext\":[\"27\"],\"legendgroup\":\"27\",\"marker\":{\"color\":\"#00cc96\",\"line\":{\"color\":\"DarkSlateGrey\",\"width\":2},\"size\":14,\"symbol\":\"circle\"},\"mode\":\"markers\",\"name\":\"27\",\"orientation\":\"v\",\"showlegend\":true,\"type\":\"scatter\",\"x\":[\"1997-04-09T00:00:00\"],\"xaxis\":\"x\",\"y\":[12],\"yaxis\":\"y\"},{\"customdata\":[[\"Vaisala RS41/AUTOSONDE (Finland)                            \"],[\"Vaisala RS41/AUTOSONDE (Finland)                            \"],[\"Vaisala RS41/AUTOSONDE (Finland)                            \"],[\"Vaisala RS41/AUTOSONDE (Finland)                            \"],[\"Vaisala RS41/AUTOSONDE (Finland)                            \"],[\"Vaisala RS41/AUTOSONDE (Finland)                            \"],[\"Vaisala RS41/AUTOSONDE (Finland)                            \"],[\"Vaisala RS41/AUTOSONDE (Finland)                            \"],[\"Vaisala RS41/AUTOSONDE (Finland)                            \"],[\"Vaisala RS41/AUTOSONDE (Finland)                            \"],[\"Vaisala RS41/AUTOSONDE (Finland)                            \"],[\"Vaisala RS41/AUTOSONDE (Finland)                            \"],[\"Vaisala RS41/AUTOSONDE (Finland)                            \"]],\"hovertemplate\":\"<b>%{hovertext}</b><br><br>sensor_id=124<br>date_time=%{x}<br>values=%{y}<br>comment=%{customdata[0]}<extra></extra>\",\"hovertext\":[\"124\",\"124\",\"124\",\"124\",\"124\",\"124\",\"124\",\"124\",\"124\",\"124\",\"124\",\"124\",\"124\"],\"legendgroup\":\"124\",\"marker\":{\"color\":\"#ab63fa\",\"line\":{\"color\":\"DarkSlateGrey\",\"width\":2},\"size\":14,\"symbol\":\"circle\"},\"mode\":\"markers\",\"name\":\"124\",\"orientation\":\"v\",\"showlegend\":true,\"type\":\"scatter\",\"x\":[\"2017-10-17T23:01:04\",\"2018-03-08T23:01:04\",\"2018-05-28T18:19:06\",\"2019-07-28T23:01:04\",\"2019-09-06T11:01:04\",\"2020-09-01T23:01:07\",\"2020-09-05T23:01:05\",\"2020-09-07T23:01:06\",\"2020-09-08T23:01:05\",\"2020-09-09T23:01:05\",\"2020-09-22T11:01:07\",\"2021-08-27T23:01:05\",\"2021-10-28T11:01:05\"],\"xaxis\":\"x\",\"y\":[13,13,13,13,13,13,13,13,13,13,13,13,13],\"yaxis\":\"y\"}],                        {\"font\":{\"color\":\"black\",\"size\":16},\"height\":400,\"hovermode\":\"x unified\",\"legend\":{\"title\":{\"text\":\"Sensor ID\"},\"tracegroupgap\":0},\"margin\":{\"t\":60},\"shapes\":[{\"line\":{\"color\":\"green\",\"dash\":\"dash\",\"width\":3},\"type\":\"line\",\"x0\":\"1961-10-01T00:00:00\",\"x1\":\"1961-10-01T00:00:00\",\"xref\":\"x\",\"y0\":0,\"y1\":1,\"yref\":\"y domain\"},{\"line\":{\"color\":\"green\",\"dash\":\"dash\",\"width\":3},\"type\":\"line\",\"x0\":\"1962-01-01T00:00:00\",\"x1\":\"1962-01-01T00:00:00\",\"xref\":\"x\",\"y0\":0,\"y1\":1,\"yref\":\"y domain\"},{\"line\":{\"color\":\"green\",\"dash\":\"dash\",\"width\":3},\"type\":\"line\",\"x0\":\"1980-12-01T00:00:00\",\"x1\":\"1980-12-01T00:00:00\",\"xref\":\"x\",\"y0\":0,\"y1\":1,\"yref\":\"y domain\"},{\"line\":{\"color\":\"green\",\"dash\":\"dash\",\"width\":3},\"type\":\"line\",\"x0\":\"1986-05-01T00:00:00\",\"x1\":\"1986-05-01T00:00:00\",\"xref\":\"x\",\"y0\":0,\"y1\":1,\"yref\":\"y domain\"},{\"line\":{\"color\":\"green\",\"dash\":\"dash\",\"width\":3},\"type\":\"line\",\"x0\":\"1988-10-01T00:00:00\",\"x1\":\"1988-10-01T00:00:00\",\"xref\":\"x\",\"y0\":0,\"y1\":1,\"yref\":\"y domain\"},{\"line\":{\"color\":\"green\",\"dash\":\"dash\",\"width\":3},\"type\":\"line\",\"x0\":\"1989-11-01T00:00:00\",\"x1\":\"1989-11-01T00:00:00\",\"xref\":\"x\",\"y0\":0,\"y1\":1,\"yref\":\"y domain\"},{\"line\":{\"color\":\"green\",\"dash\":\"dash\",\"width\":3},\"type\":\"line\",\"x0\":\"1992-12-01T00:00:00\",\"x1\":\"1992-12-01T00:00:00\",\"xref\":\"x\",\"y0\":0,\"y1\":1,\"yref\":\"y domain\"},{\"line\":{\"color\":\"green\",\"dash\":\"dash\",\"width\":3},\"type\":\"line\",\"x0\":\"1993-10-01T00:00:00\",\"x1\":\"1993-10-01T00:00:00\",\"xref\":\"x\",\"y0\":0,\"y1\":1,\"yref\":\"y domain\"},{\"line\":{\"color\":\"green\",\"dash\":\"dash\",\"width\":3},\"type\":\"line\",\"x0\":\"1993-10-01T00:00:00\",\"x1\":\"1993-10-01T00:00:00\",\"xref\":\"x\",\"y0\":0,\"y1\":1,\"yref\":\"y domain\"},{\"line\":{\"color\":\"green\",\"dash\":\"dash\",\"width\":3},\"type\":\"line\",\"x0\":\"1993-10-01T00:00:00\",\"x1\":\"1993-10-01T00:00:00\",\"xref\":\"x\",\"y0\":0,\"y1\":1,\"yref\":\"y domain\"},{\"line\":{\"color\":\"green\",\"dash\":\"dash\",\"width\":3},\"type\":\"line\",\"x0\":\"1993-10-01T00:00:00\",\"x1\":\"1993-10-01T00:00:00\",\"xref\":\"x\",\"y0\":0,\"y1\":1,\"yref\":\"y domain\"},{\"line\":{\"color\":\"green\",\"dash\":\"dash\",\"width\":3},\"type\":\"line\",\"x0\":\"1995-11-01T00:00:00\",\"x1\":\"1995-11-01T00:00:00\",\"xref\":\"x\",\"y0\":0,\"y1\":1,\"yref\":\"y domain\"}],\"template\":{\"data\":{\"bar\":[{\"error_x\":{\"color\":\"#2a3f5f\"},\"error_y\":{\"color\":\"#2a3f5f\"},\"marker\":{\"line\":{\"color\":\"#E5ECF6\",\"width\":0.5},\"pattern\":{\"fillmode\":\"overlay\",\"size\":10,\"solidity\":0.2}},\"type\":\"bar\"}],\"barpolar\":[{\"marker\":{\"line\":{\"color\":\"#E5ECF6\",\"width\":0.5},\"pattern\":{\"fillmode\":\"overlay\",\"size\":10,\"solidity\":0.2}},\"type\":\"barpolar\"}],\"carpet\":[{\"aaxis\":{\"endlinecolor\":\"#2a3f5f\",\"gridcolor\":\"white\",\"linecolor\":\"white\",\"minorgridcolor\":\"white\",\"startlinecolor\":\"#2a3f5f\"},\"baxis\":{\"endlinecolor\":\"#2a3f5f\",\"gridcolor\":\"white\",\"linecolor\":\"white\",\"minorgridcolor\":\"white\",\"startlinecolor\":\"#2a3f5f\"},\"type\":\"carpet\"}],\"choropleth\":[{\"colorbar\":{\"outlinewidth\":0,\"ticks\":\"\"},\"type\":\"choropleth\"}],\"contour\":[{\"colorbar\":{\"outlinewidth\":0,\"ticks\":\"\"},\"colorscale\":[[0.0,\"#0d0887\"],[0.1111111111111111,\"#46039f\"],[0.2222222222222222,\"#7201a8\"],[0.3333333333333333,\"#9c179e\"],[0.4444444444444444,\"#bd3786\"],[0.5555555555555556,\"#d8576b\"],[0.6666666666666666,\"#ed7953\"],[0.7777777777777778,\"#fb9f3a\"],[0.8888888888888888,\"#fdca26\"],[1.0,\"#f0f921\"]],\"type\":\"contour\"}],\"contourcarpet\":[{\"colorbar\":{\"outlinewidth\":0,\"ticks\":\"\"},\"type\":\"contourcarpet\"}],\"heatmap\":[{\"colorbar\":{\"outlinewidth\":0,\"ticks\":\"\"},\"colorscale\":[[0.0,\"#0d0887\"],[0.1111111111111111,\"#46039f\"],[0.2222222222222222,\"#7201a8\"],[0.3333333333333333,\"#9c179e\"],[0.4444444444444444,\"#bd3786\"],[0.5555555555555556,\"#d8576b\"],[0.6666666666666666,\"#ed7953\"],[0.7777777777777778,\"#fb9f3a\"],[0.8888888888888888,\"#fdca26\"],[1.0,\"#f0f921\"]],\"type\":\"heatmap\"}],\"heatmapgl\":[{\"colorbar\":{\"outlinewidth\":0,\"ticks\":\"\"},\"colorscale\":[[0.0,\"#0d0887\"],[0.1111111111111111,\"#46039f\"],[0.2222222222222222,\"#7201a8\"],[0.3333333333333333,\"#9c179e\"],[0.4444444444444444,\"#bd3786\"],[0.5555555555555556,\"#d8576b\"],[0.6666666666666666,\"#ed7953\"],[0.7777777777777778,\"#fb9f3a\"],[0.8888888888888888,\"#fdca26\"],[1.0,\"#f0f921\"]],\"type\":\"heatmapgl\"}],\"histogram\":[{\"marker\":{\"pattern\":{\"fillmode\":\"overlay\",\"size\":10,\"solidity\":0.2}},\"type\":\"histogram\"}],\"histogram2d\":[{\"colorbar\":{\"outlinewidth\":0,\"ticks\":\"\"},\"colorscale\":[[0.0,\"#0d0887\"],[0.1111111111111111,\"#46039f\"],[0.2222222222222222,\"#7201a8\"],[0.3333333333333333,\"#9c179e\"],[0.4444444444444444,\"#bd3786\"],[0.5555555555555556,\"#d8576b\"],[0.6666666666666666,\"#ed7953\"],[0.7777777777777778,\"#fb9f3a\"],[0.8888888888888888,\"#fdca26\"],[1.0,\"#f0f921\"]],\"type\":\"histogram2d\"}],\"histogram2dcontour\":[{\"colorbar\":{\"outlinewidth\":0,\"ticks\":\"\"},\"colorscale\":[[0.0,\"#0d0887\"],[0.1111111111111111,\"#46039f\"],[0.2222222222222222,\"#7201a8\"],[0.3333333333333333,\"#9c179e\"],[0.4444444444444444,\"#bd3786\"],[0.5555555555555556,\"#d8576b\"],[0.6666666666666666,\"#ed7953\"],[0.7777777777777778,\"#fb9f3a\"],[0.8888888888888888,\"#fdca26\"],[1.0,\"#f0f921\"]],\"type\":\"histogram2dcontour\"}],\"mesh3d\":[{\"colorbar\":{\"outlinewidth\":0,\"ticks\":\"\"},\"type\":\"mesh3d\"}],\"parcoords\":[{\"line\":{\"colorbar\":{\"outlinewidth\":0,\"ticks\":\"\"}},\"type\":\"parcoords\"}],\"pie\":[{\"automargin\":true,\"type\":\"pie\"}],\"scatter\":[{\"marker\":{\"colorbar\":{\"outlinewidth\":0,\"ticks\":\"\"}},\"type\":\"scatter\"}],\"scatter3d\":[{\"line\":{\"colorbar\":{\"outlinewidth\":0,\"ticks\":\"\"}},\"marker\":{\"colorbar\":{\"outlinewidth\":0,\"ticks\":\"\"}},\"type\":\"scatter3d\"}],\"scattercarpet\":[{\"marker\":{\"colorbar\":{\"outlinewidth\":0,\"ticks\":\"\"}},\"type\":\"scattercarpet\"}],\"scattergeo\":[{\"marker\":{\"colorbar\":{\"outlinewidth\":0,\"ticks\":\"\"}},\"type\":\"scattergeo\"}],\"scattergl\":[{\"marker\":{\"colorbar\":{\"outlinewidth\":0,\"ticks\":\"\"}},\"type\":\"scattergl\"}],\"scattermapbox\":[{\"marker\":{\"colorbar\":{\"outlinewidth\":0,\"ticks\":\"\"}},\"type\":\"scattermapbox\"}],\"scatterpolar\":[{\"marker\":{\"colorbar\":{\"outlinewidth\":0,\"ticks\":\"\"}},\"type\":\"scatterpolar\"}],\"scatterpolargl\":[{\"marker\":{\"colorbar\":{\"outlinewidth\":0,\"ticks\":\"\"}},\"type\":\"scatterpolargl\"}],\"scatterternary\":[{\"marker\":{\"colorbar\":{\"outlinewidth\":0,\"ticks\":\"\"}},\"type\":\"scatterternary\"}],\"surface\":[{\"colorbar\":{\"outlinewidth\":0,\"ticks\":\"\"},\"colorscale\":[[0.0,\"#0d0887\"],[0.1111111111111111,\"#46039f\"],[0.2222222222222222,\"#7201a8\"],[0.3333333333333333,\"#9c179e\"],[0.4444444444444444,\"#bd3786\"],[0.5555555555555556,\"#d8576b\"],[0.6666666666666666,\"#ed7953\"],[0.7777777777777778,\"#fb9f3a\"],[0.8888888888888888,\"#fdca26\"],[1.0,\"#f0f921\"]],\"type\":\"surface\"}],\"table\":[{\"cells\":{\"fill\":{\"color\":\"#EBF0F8\"},\"line\":{\"color\":\"white\"}},\"header\":{\"fill\":{\"color\":\"#C8D4E3\"},\"line\":{\"color\":\"white\"}},\"type\":\"table\"}]},\"layout\":{\"annotationdefaults\":{\"arrowcolor\":\"#2a3f5f\",\"arrowhead\":0,\"arrowwidth\":1},\"autotypenumbers\":\"strict\",\"coloraxis\":{\"colorbar\":{\"outlinewidth\":0,\"ticks\":\"\"}},\"colorscale\":{\"diverging\":[[0,\"#8e0152\"],[0.1,\"#c51b7d\"],[0.2,\"#de77ae\"],[0.3,\"#f1b6da\"],[0.4,\"#fde0ef\"],[0.5,\"#f7f7f7\"],[0.6,\"#e6f5d0\"],[0.7,\"#b8e186\"],[0.8,\"#7fbc41\"],[0.9,\"#4d9221\"],[1,\"#276419\"]],\"sequential\":[[0.0,\"#0d0887\"],[0.1111111111111111,\"#46039f\"],[0.2222222222222222,\"#7201a8\"],[0.3333333333333333,\"#9c179e\"],[0.4444444444444444,\"#bd3786\"],[0.5555555555555556,\"#d8576b\"],[0.6666666666666666,\"#ed7953\"],[0.7777777777777778,\"#fb9f3a\"],[0.8888888888888888,\"#fdca26\"],[1.0,\"#f0f921\"]],\"sequentialminus\":[[0.0,\"#0d0887\"],[0.1111111111111111,\"#46039f\"],[0.2222222222222222,\"#7201a8\"],[0.3333333333333333,\"#9c179e\"],[0.4444444444444444,\"#bd3786\"],[0.5555555555555556,\"#d8576b\"],[0.6666666666666666,\"#ed7953\"],[0.7777777777777778,\"#fb9f3a\"],[0.8888888888888888,\"#fdca26\"],[1.0,\"#f0f921\"]]},\"colorway\":[\"#636efa\",\"#EF553B\",\"#00cc96\",\"#ab63fa\",\"#FFA15A\",\"#19d3f3\",\"#FF6692\",\"#B6E880\",\"#FF97FF\",\"#FECB52\"],\"font\":{\"color\":\"#2a3f5f\"},\"geo\":{\"bgcolor\":\"white\",\"lakecolor\":\"white\",\"landcolor\":\"#E5ECF6\",\"showlakes\":true,\"showland\":true,\"subunitcolor\":\"white\"},\"hoverlabel\":{\"align\":\"left\"},\"hovermode\":\"closest\",\"mapbox\":{\"style\":\"light\"},\"paper_bgcolor\":\"white\",\"plot_bgcolor\":\"#E5ECF6\",\"polar\":{\"angularaxis\":{\"gridcolor\":\"white\",\"linecolor\":\"white\",\"ticks\":\"\"},\"bgcolor\":\"#E5ECF6\",\"radialaxis\":{\"gridcolor\":\"white\",\"linecolor\":\"white\",\"ticks\":\"\"}},\"scene\":{\"xaxis\":{\"backgroundcolor\":\"#E5ECF6\",\"gridcolor\":\"white\",\"gridwidth\":2,\"linecolor\":\"white\",\"showbackground\":true,\"ticks\":\"\",\"zerolinecolor\":\"white\"},\"yaxis\":{\"backgroundcolor\":\"#E5ECF6\",\"gridcolor\":\"white\",\"gridwidth\":2,\"linecolor\":\"white\",\"showbackground\":true,\"ticks\":\"\",\"zerolinecolor\":\"white\"},\"zaxis\":{\"backgroundcolor\":\"#E5ECF6\",\"gridcolor\":\"white\",\"gridwidth\":2,\"linecolor\":\"white\",\"showbackground\":true,\"ticks\":\"\",\"zerolinecolor\":\"white\"}},\"shapedefaults\":{\"line\":{\"color\":\"#2a3f5f\"}},\"ternary\":{\"aaxis\":{\"gridcolor\":\"white\",\"linecolor\":\"white\",\"ticks\":\"\"},\"baxis\":{\"gridcolor\":\"white\",\"linecolor\":\"white\",\"ticks\":\"\"},\"bgcolor\":\"#E5ECF6\",\"caxis\":{\"gridcolor\":\"white\",\"linecolor\":\"white\",\"ticks\":\"\"}},\"title\":{\"x\":0.05},\"xaxis\":{\"automargin\":true,\"gridcolor\":\"white\",\"linecolor\":\"white\",\"ticks\":\"\",\"title\":{\"standoff\":15},\"zerolinecolor\":\"white\",\"zerolinewidth\":2},\"yaxis\":{\"automargin\":true,\"gridcolor\":\"white\",\"linecolor\":\"white\",\"ticks\":\"\",\"title\":{\"standoff\":15},\"zerolinecolor\":\"white\",\"zerolinewidth\":2}}},\"title\":{\"text\":\"Sensors Time Series - Kodiak (Alaska)  [Cleaned,Only WMO Variations]\"},\"width\":1800,\"xaxis\":{\"anchor\":\"y\",\"domain\":[0.0,1.0],\"title\":{\"text\":\"Date of Sensor Replacement\"}},\"yaxis\":{\"anchor\":\"x\",\"domain\":[0.0,1.0],\"tickfont\":{\"size\":16},\"title\":{\"text\":\"Sensor Metadata\"}}},                        {\"responsive\": true}                    ).then(function(){\n",
       "                            \n",
       "var gd = document.getElementById('f74a01d1-5ce8-4182-b68c-e87e2fbce20e');\n",
       "var x = new MutationObserver(function (mutations, observer) {{\n",
       "        var display = window.getComputedStyle(gd).display;\n",
       "        if (!display || display === 'none') {{\n",
       "            console.log([gd, 'removed!']);\n",
       "            Plotly.purge(gd);\n",
       "            observer.disconnect();\n",
       "        }}\n",
       "}});\n",
       "\n",
       "// Listen for the removal of the full notebook cells\n",
       "var notebookContainer = gd.closest('#notebook-container');\n",
       "if (notebookContainer) {{\n",
       "    x.observe(notebookContainer, {childList: true});\n",
       "}}\n",
       "\n",
       "// Listen for the clearing of the current output cell\n",
       "var outputEl = gd.closest('.output');\n",
       "if (outputEl) {{\n",
       "    x.observe(outputEl, {childList: true});\n",
       "}}\n",
       "\n",
       "                        })                };                });            </script>        </div>"
      ]
     },
     "metadata": {},
     "output_type": "display_data"
    }
   ],
   "source": [
    "fig = make_time_series(data_df_clean, station_name, label=' [Cleaned,Only WMO Variations]') \n",
    "fig.show()"
   ]
  },
  {
   "cell_type": "markdown",
   "id": "9cc066e0-479d-4fff-bd70-642e24e8f957",
   "metadata": {},
   "source": [
    "## Summary table of the sensor"
   ]
  },
  {
   "cell_type": "code",
   "execution_count": 81,
   "id": "3a64de8c-bdc5-4b23-b3cc-3f26a09e8b5c",
   "metadata": {
    "tags": []
   },
   "outputs": [
    {
     "data": {
      "application/vnd.plotly.v1+json": {
       "config": {
        "plotlyServerURL": "https://plot.ly"
       },
       "data": [
        {
         "cells": {
          "align": "left",
          "fill": {
           "color": "aliceblue"
          },
          "font": {
           "size": 16
          },
          "height": 30,
          "values": [
           [
            "10",
            "11",
            "27",
            "37",
            "51",
            "52",
            "53",
            "VU1 ",
            "VU3 ",
            "ZKB ",
            "nan"
           ],
           [
            "WMO",
            "WMO",
            "WMO",
            "WMO",
            "SCH",
            "WMO",
            "WMO",
            "SCH",
            "SCH",
            "SCH",
            "WMO"
           ],
           [
            "VIZ type A pressure-commutated (United States)             ",
            "VIZ type B time-commutated (United States)             ",
            "AVK-MRZ (Russian Federation)                ",
            "Vaisala RS80 (Finland)                ",
            "VIZ-B2 (United States)                ",
            "Vaisala RS80-57H                 ",
            "AVK-RF95 (Russian Federation)                ",
            "  VU1 Vaisala RS80-56H or RS80-56 1680 MHz RDF H-Humicap NWS radiosonde, pressure cell {1995} 31313=43702^ (W3=37, T=038) <F=T1680AL,P=Ac,T=CB,U=A>",
            "  VU3 Vaisala RS80-57H or RS80-57 1680 MHz RDF H-Humicap NWS radiosonde, pressure cell {1998} 31313=45202^ (W3=52, T=039) (RDF, 1680+-3 MHz AM)",
            "  ZKB VIZ model 1492-520 NWS 1680 MHz ART \"B\" Accu-Lok {1988} 31313=01102^ (T=004,W3=11,W2=28) NWS stock no. J060, 0.25 sec time sequenced <F=T1680AL,",
            "NA"
           ]
          ]
         },
         "columnwidth": [
          50,
          50,
          300
         ],
         "header": {
          "align": "left",
          "fill": {
           "color": "gold"
          },
          "font": {
           "size": 20
          },
          "values": [
           "Sensor",
           "Source",
           "Comment"
          ]
         },
         "type": "table"
        }
       ],
       "layout": {
        "height": 550,
        "template": {
         "data": {
          "bar": [
           {
            "error_x": {
             "color": "#2a3f5f"
            },
            "error_y": {
             "color": "#2a3f5f"
            },
            "marker": {
             "line": {
              "color": "#E5ECF6",
              "width": 0.5
             },
             "pattern": {
              "fillmode": "overlay",
              "size": 10,
              "solidity": 0.2
             }
            },
            "type": "bar"
           }
          ],
          "barpolar": [
           {
            "marker": {
             "line": {
              "color": "#E5ECF6",
              "width": 0.5
             },
             "pattern": {
              "fillmode": "overlay",
              "size": 10,
              "solidity": 0.2
             }
            },
            "type": "barpolar"
           }
          ],
          "carpet": [
           {
            "aaxis": {
             "endlinecolor": "#2a3f5f",
             "gridcolor": "white",
             "linecolor": "white",
             "minorgridcolor": "white",
             "startlinecolor": "#2a3f5f"
            },
            "baxis": {
             "endlinecolor": "#2a3f5f",
             "gridcolor": "white",
             "linecolor": "white",
             "minorgridcolor": "white",
             "startlinecolor": "#2a3f5f"
            },
            "type": "carpet"
           }
          ],
          "choropleth": [
           {
            "colorbar": {
             "outlinewidth": 0,
             "ticks": ""
            },
            "type": "choropleth"
           }
          ],
          "contour": [
           {
            "colorbar": {
             "outlinewidth": 0,
             "ticks": ""
            },
            "colorscale": [
             [
              0,
              "#0d0887"
             ],
             [
              0.1111111111111111,
              "#46039f"
             ],
             [
              0.2222222222222222,
              "#7201a8"
             ],
             [
              0.3333333333333333,
              "#9c179e"
             ],
             [
              0.4444444444444444,
              "#bd3786"
             ],
             [
              0.5555555555555556,
              "#d8576b"
             ],
             [
              0.6666666666666666,
              "#ed7953"
             ],
             [
              0.7777777777777778,
              "#fb9f3a"
             ],
             [
              0.8888888888888888,
              "#fdca26"
             ],
             [
              1,
              "#f0f921"
             ]
            ],
            "type": "contour"
           }
          ],
          "contourcarpet": [
           {
            "colorbar": {
             "outlinewidth": 0,
             "ticks": ""
            },
            "type": "contourcarpet"
           }
          ],
          "heatmap": [
           {
            "colorbar": {
             "outlinewidth": 0,
             "ticks": ""
            },
            "colorscale": [
             [
              0,
              "#0d0887"
             ],
             [
              0.1111111111111111,
              "#46039f"
             ],
             [
              0.2222222222222222,
              "#7201a8"
             ],
             [
              0.3333333333333333,
              "#9c179e"
             ],
             [
              0.4444444444444444,
              "#bd3786"
             ],
             [
              0.5555555555555556,
              "#d8576b"
             ],
             [
              0.6666666666666666,
              "#ed7953"
             ],
             [
              0.7777777777777778,
              "#fb9f3a"
             ],
             [
              0.8888888888888888,
              "#fdca26"
             ],
             [
              1,
              "#f0f921"
             ]
            ],
            "type": "heatmap"
           }
          ],
          "heatmapgl": [
           {
            "colorbar": {
             "outlinewidth": 0,
             "ticks": ""
            },
            "colorscale": [
             [
              0,
              "#0d0887"
             ],
             [
              0.1111111111111111,
              "#46039f"
             ],
             [
              0.2222222222222222,
              "#7201a8"
             ],
             [
              0.3333333333333333,
              "#9c179e"
             ],
             [
              0.4444444444444444,
              "#bd3786"
             ],
             [
              0.5555555555555556,
              "#d8576b"
             ],
             [
              0.6666666666666666,
              "#ed7953"
             ],
             [
              0.7777777777777778,
              "#fb9f3a"
             ],
             [
              0.8888888888888888,
              "#fdca26"
             ],
             [
              1,
              "#f0f921"
             ]
            ],
            "type": "heatmapgl"
           }
          ],
          "histogram": [
           {
            "marker": {
             "pattern": {
              "fillmode": "overlay",
              "size": 10,
              "solidity": 0.2
             }
            },
            "type": "histogram"
           }
          ],
          "histogram2d": [
           {
            "colorbar": {
             "outlinewidth": 0,
             "ticks": ""
            },
            "colorscale": [
             [
              0,
              "#0d0887"
             ],
             [
              0.1111111111111111,
              "#46039f"
             ],
             [
              0.2222222222222222,
              "#7201a8"
             ],
             [
              0.3333333333333333,
              "#9c179e"
             ],
             [
              0.4444444444444444,
              "#bd3786"
             ],
             [
              0.5555555555555556,
              "#d8576b"
             ],
             [
              0.6666666666666666,
              "#ed7953"
             ],
             [
              0.7777777777777778,
              "#fb9f3a"
             ],
             [
              0.8888888888888888,
              "#fdca26"
             ],
             [
              1,
              "#f0f921"
             ]
            ],
            "type": "histogram2d"
           }
          ],
          "histogram2dcontour": [
           {
            "colorbar": {
             "outlinewidth": 0,
             "ticks": ""
            },
            "colorscale": [
             [
              0,
              "#0d0887"
             ],
             [
              0.1111111111111111,
              "#46039f"
             ],
             [
              0.2222222222222222,
              "#7201a8"
             ],
             [
              0.3333333333333333,
              "#9c179e"
             ],
             [
              0.4444444444444444,
              "#bd3786"
             ],
             [
              0.5555555555555556,
              "#d8576b"
             ],
             [
              0.6666666666666666,
              "#ed7953"
             ],
             [
              0.7777777777777778,
              "#fb9f3a"
             ],
             [
              0.8888888888888888,
              "#fdca26"
             ],
             [
              1,
              "#f0f921"
             ]
            ],
            "type": "histogram2dcontour"
           }
          ],
          "mesh3d": [
           {
            "colorbar": {
             "outlinewidth": 0,
             "ticks": ""
            },
            "type": "mesh3d"
           }
          ],
          "parcoords": [
           {
            "line": {
             "colorbar": {
              "outlinewidth": 0,
              "ticks": ""
             }
            },
            "type": "parcoords"
           }
          ],
          "pie": [
           {
            "automargin": true,
            "type": "pie"
           }
          ],
          "scatter": [
           {
            "marker": {
             "colorbar": {
              "outlinewidth": 0,
              "ticks": ""
             }
            },
            "type": "scatter"
           }
          ],
          "scatter3d": [
           {
            "line": {
             "colorbar": {
              "outlinewidth": 0,
              "ticks": ""
             }
            },
            "marker": {
             "colorbar": {
              "outlinewidth": 0,
              "ticks": ""
             }
            },
            "type": "scatter3d"
           }
          ],
          "scattercarpet": [
           {
            "marker": {
             "colorbar": {
              "outlinewidth": 0,
              "ticks": ""
             }
            },
            "type": "scattercarpet"
           }
          ],
          "scattergeo": [
           {
            "marker": {
             "colorbar": {
              "outlinewidth": 0,
              "ticks": ""
             }
            },
            "type": "scattergeo"
           }
          ],
          "scattergl": [
           {
            "marker": {
             "colorbar": {
              "outlinewidth": 0,
              "ticks": ""
             }
            },
            "type": "scattergl"
           }
          ],
          "scattermapbox": [
           {
            "marker": {
             "colorbar": {
              "outlinewidth": 0,
              "ticks": ""
             }
            },
            "type": "scattermapbox"
           }
          ],
          "scatterpolar": [
           {
            "marker": {
             "colorbar": {
              "outlinewidth": 0,
              "ticks": ""
             }
            },
            "type": "scatterpolar"
           }
          ],
          "scatterpolargl": [
           {
            "marker": {
             "colorbar": {
              "outlinewidth": 0,
              "ticks": ""
             }
            },
            "type": "scatterpolargl"
           }
          ],
          "scatterternary": [
           {
            "marker": {
             "colorbar": {
              "outlinewidth": 0,
              "ticks": ""
             }
            },
            "type": "scatterternary"
           }
          ],
          "surface": [
           {
            "colorbar": {
             "outlinewidth": 0,
             "ticks": ""
            },
            "colorscale": [
             [
              0,
              "#0d0887"
             ],
             [
              0.1111111111111111,
              "#46039f"
             ],
             [
              0.2222222222222222,
              "#7201a8"
             ],
             [
              0.3333333333333333,
              "#9c179e"
             ],
             [
              0.4444444444444444,
              "#bd3786"
             ],
             [
              0.5555555555555556,
              "#d8576b"
             ],
             [
              0.6666666666666666,
              "#ed7953"
             ],
             [
              0.7777777777777778,
              "#fb9f3a"
             ],
             [
              0.8888888888888888,
              "#fdca26"
             ],
             [
              1,
              "#f0f921"
             ]
            ],
            "type": "surface"
           }
          ],
          "table": [
           {
            "cells": {
             "fill": {
              "color": "#EBF0F8"
             },
             "line": {
              "color": "white"
             }
            },
            "header": {
             "fill": {
              "color": "#C8D4E3"
             },
             "line": {
              "color": "white"
             }
            },
            "type": "table"
           }
          ]
         },
         "layout": {
          "annotationdefaults": {
           "arrowcolor": "#2a3f5f",
           "arrowhead": 0,
           "arrowwidth": 1
          },
          "autotypenumbers": "strict",
          "coloraxis": {
           "colorbar": {
            "outlinewidth": 0,
            "ticks": ""
           }
          },
          "colorscale": {
           "diverging": [
            [
             0,
             "#8e0152"
            ],
            [
             0.1,
             "#c51b7d"
            ],
            [
             0.2,
             "#de77ae"
            ],
            [
             0.3,
             "#f1b6da"
            ],
            [
             0.4,
             "#fde0ef"
            ],
            [
             0.5,
             "#f7f7f7"
            ],
            [
             0.6,
             "#e6f5d0"
            ],
            [
             0.7,
             "#b8e186"
            ],
            [
             0.8,
             "#7fbc41"
            ],
            [
             0.9,
             "#4d9221"
            ],
            [
             1,
             "#276419"
            ]
           ],
           "sequential": [
            [
             0,
             "#0d0887"
            ],
            [
             0.1111111111111111,
             "#46039f"
            ],
            [
             0.2222222222222222,
             "#7201a8"
            ],
            [
             0.3333333333333333,
             "#9c179e"
            ],
            [
             0.4444444444444444,
             "#bd3786"
            ],
            [
             0.5555555555555556,
             "#d8576b"
            ],
            [
             0.6666666666666666,
             "#ed7953"
            ],
            [
             0.7777777777777778,
             "#fb9f3a"
            ],
            [
             0.8888888888888888,
             "#fdca26"
            ],
            [
             1,
             "#f0f921"
            ]
           ],
           "sequentialminus": [
            [
             0,
             "#0d0887"
            ],
            [
             0.1111111111111111,
             "#46039f"
            ],
            [
             0.2222222222222222,
             "#7201a8"
            ],
            [
             0.3333333333333333,
             "#9c179e"
            ],
            [
             0.4444444444444444,
             "#bd3786"
            ],
            [
             0.5555555555555556,
             "#d8576b"
            ],
            [
             0.6666666666666666,
             "#ed7953"
            ],
            [
             0.7777777777777778,
             "#fb9f3a"
            ],
            [
             0.8888888888888888,
             "#fdca26"
            ],
            [
             1,
             "#f0f921"
            ]
           ]
          },
          "colorway": [
           "#636efa",
           "#EF553B",
           "#00cc96",
           "#ab63fa",
           "#FFA15A",
           "#19d3f3",
           "#FF6692",
           "#B6E880",
           "#FF97FF",
           "#FECB52"
          ],
          "font": {
           "color": "#2a3f5f"
          },
          "geo": {
           "bgcolor": "white",
           "lakecolor": "white",
           "landcolor": "#E5ECF6",
           "showlakes": true,
           "showland": true,
           "subunitcolor": "white"
          },
          "hoverlabel": {
           "align": "left"
          },
          "hovermode": "closest",
          "mapbox": {
           "style": "light"
          },
          "paper_bgcolor": "white",
          "plot_bgcolor": "#E5ECF6",
          "polar": {
           "angularaxis": {
            "gridcolor": "white",
            "linecolor": "white",
            "ticks": ""
           },
           "bgcolor": "#E5ECF6",
           "radialaxis": {
            "gridcolor": "white",
            "linecolor": "white",
            "ticks": ""
           }
          },
          "scene": {
           "xaxis": {
            "backgroundcolor": "#E5ECF6",
            "gridcolor": "white",
            "gridwidth": 2,
            "linecolor": "white",
            "showbackground": true,
            "ticks": "",
            "zerolinecolor": "white"
           },
           "yaxis": {
            "backgroundcolor": "#E5ECF6",
            "gridcolor": "white",
            "gridwidth": 2,
            "linecolor": "white",
            "showbackground": true,
            "ticks": "",
            "zerolinecolor": "white"
           },
           "zaxis": {
            "backgroundcolor": "#E5ECF6",
            "gridcolor": "white",
            "gridwidth": 2,
            "linecolor": "white",
            "showbackground": true,
            "ticks": "",
            "zerolinecolor": "white"
           }
          },
          "shapedefaults": {
           "line": {
            "color": "#2a3f5f"
           }
          },
          "ternary": {
           "aaxis": {
            "gridcolor": "white",
            "linecolor": "white",
            "ticks": ""
           },
           "baxis": {
            "gridcolor": "white",
            "linecolor": "white",
            "ticks": ""
           },
           "bgcolor": "#E5ECF6",
           "caxis": {
            "gridcolor": "white",
            "linecolor": "white",
            "ticks": ""
           }
          },
          "title": {
           "x": 0.05
          },
          "xaxis": {
           "automargin": true,
           "gridcolor": "white",
           "linecolor": "white",
           "ticks": "",
           "title": {
            "standoff": 15
           },
           "zerolinecolor": "white",
           "zerolinewidth": 2
          },
          "yaxis": {
           "automargin": true,
           "gridcolor": "white",
           "linecolor": "white",
           "ticks": "",
           "title": {
            "standoff": 15
           },
           "zerolinecolor": "white",
           "zerolinewidth": 2
          }
         }
        },
        "width": 1900
       }
      },
      "image/png": "[encoded data removed]",
      "text/html": [
       "<div>                            <div id=\"0abf21c7-c6b3-45db-9d4b-1c37ea801627\" class=\"plotly-graph-div\" style=\"height:550px; width:1900px;\"></div>            <script type=\"text/javascript\">                require([\"plotly\"], function(Plotly) {                    window.PLOTLYENV=window.PLOTLYENV || {};                                    if (document.getElementById(\"0abf21c7-c6b3-45db-9d4b-1c37ea801627\")) {                    Plotly.newPlot(                        \"0abf21c7-c6b3-45db-9d4b-1c37ea801627\",                        [{\"cells\":{\"align\":\"left\",\"fill\":{\"color\":\"aliceblue\"},\"font\":{\"size\":16},\"height\":30,\"values\":[[\"10\",\"11\",\"27\",\"37\",\"51\",\"52\",\"53\",\"VU1 \",\"VU3 \",\"ZKB \",\"nan\"],[\"WMO\",\"WMO\",\"WMO\",\"WMO\",\"SCH\",\"WMO\",\"WMO\",\"SCH\",\"SCH\",\"SCH\",\"WMO\"],[\"VIZ type A pressure-commutated (United States)             \",\"VIZ type B time-commutated (United States)             \",\"AVK-MRZ (Russian Federation)                \",\"Vaisala RS80 (Finland)                \",\"VIZ-B2 (United States)                \",\"Vaisala RS80-57H                 \",\"AVK-RF95 (Russian Federation)                \",\"  VU1 Vaisala RS80-56H or RS80-56 1680 MHz RDF H-Humicap NWS radiosonde, pressure cell {1995} 31313=43702^ (W3=37, T=038) <F=T1680AL,P=Ac,T=CB,U=A>\",\"  VU3 Vaisala RS80-57H or RS80-57 1680 MHz RDF H-Humicap NWS radiosonde, pressure cell {1998} 31313=45202^ (W3=52, T=039) (RDF, 1680+-3 MHz AM)\",\"  ZKB VIZ model 1492-520 NWS 1680 MHz ART \\\"B\\\" Accu-Lok {1988} 31313=01102^ (T=004,W3=11,W2=28) NWS stock no. J060, 0.25 sec time sequenced <F=T1680AL,\",\"NA\"]]},\"columnwidth\":[50,50,300],\"header\":{\"align\":\"left\",\"fill\":{\"color\":\"gold\"},\"font\":{\"size\":20},\"values\":[\"Sensor\",\"Source\",\"Comment\"]},\"type\":\"table\"}],                        {\"height\":550,\"template\":{\"data\":{\"bar\":[{\"error_x\":{\"color\":\"#2a3f5f\"},\"error_y\":{\"color\":\"#2a3f5f\"},\"marker\":{\"line\":{\"color\":\"#E5ECF6\",\"width\":0.5},\"pattern\":{\"fillmode\":\"overlay\",\"size\":10,\"solidity\":0.2}},\"type\":\"bar\"}],\"barpolar\":[{\"marker\":{\"line\":{\"color\":\"#E5ECF6\",\"width\":0.5},\"pattern\":{\"fillmode\":\"overlay\",\"size\":10,\"solidity\":0.2}},\"type\":\"barpolar\"}],\"carpet\":[{\"aaxis\":{\"endlinecolor\":\"#2a3f5f\",\"gridcolor\":\"white\",\"linecolor\":\"white\",\"minorgridcolor\":\"white\",\"startlinecolor\":\"#2a3f5f\"},\"baxis\":{\"endlinecolor\":\"#2a3f5f\",\"gridcolor\":\"white\",\"linecolor\":\"white\",\"minorgridcolor\":\"white\",\"startlinecolor\":\"#2a3f5f\"},\"type\":\"carpet\"}],\"choropleth\":[{\"colorbar\":{\"outlinewidth\":0,\"ticks\":\"\"},\"type\":\"choropleth\"}],\"contour\":[{\"colorbar\":{\"outlinewidth\":0,\"ticks\":\"\"},\"colorscale\":[[0.0,\"#0d0887\"],[0.1111111111111111,\"#46039f\"],[0.2222222222222222,\"#7201a8\"],[0.3333333333333333,\"#9c179e\"],[0.4444444444444444,\"#bd3786\"],[0.5555555555555556,\"#d8576b\"],[0.6666666666666666,\"#ed7953\"],[0.7777777777777778,\"#fb9f3a\"],[0.8888888888888888,\"#fdca26\"],[1.0,\"#f0f921\"]],\"type\":\"contour\"}],\"contourcarpet\":[{\"colorbar\":{\"outlinewidth\":0,\"ticks\":\"\"},\"type\":\"contourcarpet\"}],\"heatmap\":[{\"colorbar\":{\"outlinewidth\":0,\"ticks\":\"\"},\"colorscale\":[[0.0,\"#0d0887\"],[0.1111111111111111,\"#46039f\"],[0.2222222222222222,\"#7201a8\"],[0.3333333333333333,\"#9c179e\"],[0.4444444444444444,\"#bd3786\"],[0.5555555555555556,\"#d8576b\"],[0.6666666666666666,\"#ed7953\"],[0.7777777777777778,\"#fb9f3a\"],[0.8888888888888888,\"#fdca26\"],[1.0,\"#f0f921\"]],\"type\":\"heatmap\"}],\"heatmapgl\":[{\"colorbar\":{\"outlinewidth\":0,\"ticks\":\"\"},\"colorscale\":[[0.0,\"#0d0887\"],[0.1111111111111111,\"#46039f\"],[0.2222222222222222,\"#7201a8\"],[0.3333333333333333,\"#9c179e\"],[0.4444444444444444,\"#bd3786\"],[0.5555555555555556,\"#d8576b\"],[0.6666666666666666,\"#ed7953\"],[0.7777777777777778,\"#fb9f3a\"],[0.8888888888888888,\"#fdca26\"],[1.0,\"#f0f921\"]],\"type\":\"heatmapgl\"}],\"histogram\":[{\"marker\":{\"pattern\":{\"fillmode\":\"overlay\",\"size\":10,\"solidity\":0.2}},\"type\":\"histogram\"}],\"histogram2d\":[{\"colorbar\":{\"outlinewidth\":0,\"ticks\":\"\"},\"colorscale\":[[0.0,\"#0d0887\"],[0.1111111111111111,\"#46039f\"],[0.2222222222222222,\"#7201a8\"],[0.3333333333333333,\"#9c179e\"],[0.4444444444444444,\"#bd3786\"],[0.5555555555555556,\"#d8576b\"],[0.6666666666666666,\"#ed7953\"],[0.7777777777777778,\"#fb9f3a\"],[0.8888888888888888,\"#fdca26\"],[1.0,\"#f0f921\"]],\"type\":\"histogram2d\"}],\"histogram2dcontour\":[{\"colorbar\":{\"outlinewidth\":0,\"ticks\":\"\"},\"colorscale\":[[0.0,\"#0d0887\"],[0.1111111111111111,\"#46039f\"],[0.2222222222222222,\"#7201a8\"],[0.3333333333333333,\"#9c179e\"],[0.4444444444444444,\"#bd3786\"],[0.5555555555555556,\"#d8576b\"],[0.6666666666666666,\"#ed7953\"],[0.7777777777777778,\"#fb9f3a\"],[0.8888888888888888,\"#fdca26\"],[1.0,\"#f0f921\"]],\"type\":\"histogram2dcontour\"}],\"mesh3d\":[{\"colorbar\":{\"outlinewidth\":0,\"ticks\":\"\"},\"type\":\"mesh3d\"}],\"parcoords\":[{\"line\":{\"colorbar\":{\"outlinewidth\":0,\"ticks\":\"\"}},\"type\":\"parcoords\"}],\"pie\":[{\"automargin\":true,\"type\":\"pie\"}],\"scatter\":[{\"marker\":{\"colorbar\":{\"outlinewidth\":0,\"ticks\":\"\"}},\"type\":\"scatter\"}],\"scatter3d\":[{\"line\":{\"colorbar\":{\"outlinewidth\":0,\"ticks\":\"\"}},\"marker\":{\"colorbar\":{\"outlinewidth\":0,\"ticks\":\"\"}},\"type\":\"scatter3d\"}],\"scattercarpet\":[{\"marker\":{\"colorbar\":{\"outlinewidth\":0,\"ticks\":\"\"}},\"type\":\"scattercarpet\"}],\"scattergeo\":[{\"marker\":{\"colorbar\":{\"outlinewidth\":0,\"ticks\":\"\"}},\"type\":\"scattergeo\"}],\"scattergl\":[{\"marker\":{\"colorbar\":{\"outlinewidth\":0,\"ticks\":\"\"}},\"type\":\"scattergl\"}],\"scattermapbox\":[{\"marker\":{\"colorbar\":{\"outlinewidth\":0,\"ticks\":\"\"}},\"type\":\"scattermapbox\"}],\"scatterpolar\":[{\"marker\":{\"colorbar\":{\"outlinewidth\":0,\"ticks\":\"\"}},\"type\":\"scatterpolar\"}],\"scatterpolargl\":[{\"marker\":{\"colorbar\":{\"outlinewidth\":0,\"ticks\":\"\"}},\"type\":\"scatterpolargl\"}],\"scatterternary\":[{\"marker\":{\"colorbar\":{\"outlinewidth\":0,\"ticks\":\"\"}},\"type\":\"scatterternary\"}],\"surface\":[{\"colorbar\":{\"outlinewidth\":0,\"ticks\":\"\"},\"colorscale\":[[0.0,\"#0d0887\"],[0.1111111111111111,\"#46039f\"],[0.2222222222222222,\"#7201a8\"],[0.3333333333333333,\"#9c179e\"],[0.4444444444444444,\"#bd3786\"],[0.5555555555555556,\"#d8576b\"],[0.6666666666666666,\"#ed7953\"],[0.7777777777777778,\"#fb9f3a\"],[0.8888888888888888,\"#fdca26\"],[1.0,\"#f0f921\"]],\"type\":\"surface\"}],\"table\":[{\"cells\":{\"fill\":{\"color\":\"#EBF0F8\"},\"line\":{\"color\":\"white\"}},\"header\":{\"fill\":{\"color\":\"#C8D4E3\"},\"line\":{\"color\":\"white\"}},\"type\":\"table\"}]},\"layout\":{\"annotationdefaults\":{\"arrowcolor\":\"#2a3f5f\",\"arrowhead\":0,\"arrowwidth\":1},\"autotypenumbers\":\"strict\",\"coloraxis\":{\"colorbar\":{\"outlinewidth\":0,\"ticks\":\"\"}},\"colorscale\":{\"diverging\":[[0,\"#8e0152\"],[0.1,\"#c51b7d\"],[0.2,\"#de77ae\"],[0.3,\"#f1b6da\"],[0.4,\"#fde0ef\"],[0.5,\"#f7f7f7\"],[0.6,\"#e6f5d0\"],[0.7,\"#b8e186\"],[0.8,\"#7fbc41\"],[0.9,\"#4d9221\"],[1,\"#276419\"]],\"sequential\":[[0.0,\"#0d0887\"],[0.1111111111111111,\"#46039f\"],[0.2222222222222222,\"#7201a8\"],[0.3333333333333333,\"#9c179e\"],[0.4444444444444444,\"#bd3786\"],[0.5555555555555556,\"#d8576b\"],[0.6666666666666666,\"#ed7953\"],[0.7777777777777778,\"#fb9f3a\"],[0.8888888888888888,\"#fdca26\"],[1.0,\"#f0f921\"]],\"sequentialminus\":[[0.0,\"#0d0887\"],[0.1111111111111111,\"#46039f\"],[0.2222222222222222,\"#7201a8\"],[0.3333333333333333,\"#9c179e\"],[0.4444444444444444,\"#bd3786\"],[0.5555555555555556,\"#d8576b\"],[0.6666666666666666,\"#ed7953\"],[0.7777777777777778,\"#fb9f3a\"],[0.8888888888888888,\"#fdca26\"],[1.0,\"#f0f921\"]]},\"colorway\":[\"#636efa\",\"#EF553B\",\"#00cc96\",\"#ab63fa\",\"#FFA15A\",\"#19d3f3\",\"#FF6692\",\"#B6E880\",\"#FF97FF\",\"#FECB52\"],\"font\":{\"color\":\"#2a3f5f\"},\"geo\":{\"bgcolor\":\"white\",\"lakecolor\":\"white\",\"landcolor\":\"#E5ECF6\",\"showlakes\":true,\"showland\":true,\"subunitcolor\":\"white\"},\"hoverlabel\":{\"align\":\"left\"},\"hovermode\":\"closest\",\"mapbox\":{\"style\":\"light\"},\"paper_bgcolor\":\"white\",\"plot_bgcolor\":\"#E5ECF6\",\"polar\":{\"angularaxis\":{\"gridcolor\":\"white\",\"linecolor\":\"white\",\"ticks\":\"\"},\"bgcolor\":\"#E5ECF6\",\"radialaxis\":{\"gridcolor\":\"white\",\"linecolor\":\"white\",\"ticks\":\"\"}},\"scene\":{\"xaxis\":{\"backgroundcolor\":\"#E5ECF6\",\"gridcolor\":\"white\",\"gridwidth\":2,\"linecolor\":\"white\",\"showbackground\":true,\"ticks\":\"\",\"zerolinecolor\":\"white\"},\"yaxis\":{\"backgroundcolor\":\"#E5ECF6\",\"gridcolor\":\"white\",\"gridwidth\":2,\"linecolor\":\"white\",\"showbackground\":true,\"ticks\":\"\",\"zerolinecolor\":\"white\"},\"zaxis\":{\"backgroundcolor\":\"#E5ECF6\",\"gridcolor\":\"white\",\"gridwidth\":2,\"linecolor\":\"white\",\"showbackground\":true,\"ticks\":\"\",\"zerolinecolor\":\"white\"}},\"shapedefaults\":{\"line\":{\"color\":\"#2a3f5f\"}},\"ternary\":{\"aaxis\":{\"gridcolor\":\"white\",\"linecolor\":\"white\",\"ticks\":\"\"},\"baxis\":{\"gridcolor\":\"white\",\"linecolor\":\"white\",\"ticks\":\"\"},\"bgcolor\":\"#E5ECF6\",\"caxis\":{\"gridcolor\":\"white\",\"linecolor\":\"white\",\"ticks\":\"\"}},\"title\":{\"x\":0.05},\"xaxis\":{\"automargin\":true,\"gridcolor\":\"white\",\"linecolor\":\"white\",\"ticks\":\"\",\"title\":{\"standoff\":15},\"zerolinecolor\":\"white\",\"zerolinewidth\":2},\"yaxis\":{\"automargin\":true,\"gridcolor\":\"white\",\"linecolor\":\"white\",\"ticks\":\"\",\"title\":{\"standoff\":15},\"zerolinecolor\":\"white\",\"zerolinewidth\":2}}},\"width\":1900},                        {\"responsive\": true}                    ).then(function(){\n",
       "                            \n",
       "var gd = document.getElementById('0abf21c7-c6b3-45db-9d4b-1c37ea801627');\n",
       "var x = new MutationObserver(function (mutations, observer) {{\n",
       "        var display = window.getComputedStyle(gd).display;\n",
       "        if (!display || display === 'none') {{\n",
       "            console.log([gd, 'removed!']);\n",
       "            Plotly.purge(gd);\n",
       "            observer.disconnect();\n",
       "        }}\n",
       "}});\n",
       "\n",
       "// Listen for the removal of the full notebook cells\n",
       "var notebookContainer = gd.closest('#notebook-container');\n",
       "if (notebookContainer) {{\n",
       "    x.observe(notebookContainer, {childList: true});\n",
       "}}\n",
       "\n",
       "// Listen for the clearing of the current output cell\n",
       "var outputEl = gd.closest('.output');\n",
       "if (outputEl) {{\n",
       "    x.observe(outputEl, {childList: true});\n",
       "}}\n",
       "\n",
       "                        })                };                });            </script>        </div>"
      ]
     },
     "metadata": {},
     "output_type": "display_data"
    }
   ],
   "source": [
    "fig = go.Figure(data=[go.Table(\n",
    "    header=dict(values=list(['Sensor','Source', 'Comment']),\n",
    "                fill_color='gold',\n",
    "                align='left',\n",
    "                font_size=20),\n",
    "    columnwidth = [50,50,300],\n",
    "    cells=dict(values=[df_sensor.sensor_id, df_sensor.source, df_sensor.comment],\n",
    "               fill_color='aliceblue',\n",
    "               align='left',\n",
    "               font_size=16,\n",
    "               height=30\n",
    "              )),\n",
    "])\n",
    "\n",
    "fig.update_layout(width=1900, height=50*len(df_sensor))\n",
    "\n",
    "fig.show()"
   ]
  },
  {
   "cell_type": "markdown",
   "id": "47db9f5b-526f-4799-af71-ec8980ad7cf7",
   "metadata": {},
   "source": [
    "## Counts and time series of the WMO sensors"
   ]
  },
  {
   "cell_type": "code",
   "execution_count": 17,
   "id": "25fc1280-4a77-48fb-a762-228092e2b889",
   "metadata": {},
   "outputs": [
    {
     "data": {
      "application/vnd.plotly.v1+json": {
       "config": {
        "plotlyServerURL": "https://plot.ly"
       },
       "data": [
        {
         "alignmentgroup": "True",
         "hovertemplate": "sensor_id=%{x}<br>value=%{y}<extra></extra>",
         "legendgroup": "",
         "marker": {
          "color": "#636efa",
          "pattern": {
           "shape": ""
          }
         },
         "name": "",
         "offsetgroup": "",
         "orientation": "v",
         "showlegend": false,
         "textposition": "auto",
         "type": "bar",
         "x": [
          "10",
          "11",
          "27",
          "37",
          "51",
          "52",
          "53"
         ],
         "xaxis": "x",
         "y": [
          1,
          64,
          1,
          84,
          12,
          211,
          1
         ],
         "yaxis": "y"
        }
       ],
       "layout": {
        "autosize": true,
        "barmode": "relative",
        "legend": {
         "tracegroupgap": 0
        },
        "template": {
         "data": {
          "bar": [
           {
            "error_x": {
             "color": "#2a3f5f"
            },
            "error_y": {
             "color": "#2a3f5f"
            },
            "marker": {
             "line": {
              "color": "#E5ECF6",
              "width": 0.5
             },
             "pattern": {
              "fillmode": "overlay",
              "size": 10,
              "solidity": 0.2
             }
            },
            "type": "bar"
           }
          ],
          "barpolar": [
           {
            "marker": {
             "line": {
              "color": "#E5ECF6",
              "width": 0.5
             },
             "pattern": {
              "fillmode": "overlay",
              "size": 10,
              "solidity": 0.2
             }
            },
            "type": "barpolar"
           }
          ],
          "carpet": [
           {
            "aaxis": {
             "endlinecolor": "#2a3f5f",
             "gridcolor": "white",
             "linecolor": "white",
             "minorgridcolor": "white",
             "startlinecolor": "#2a3f5f"
            },
            "baxis": {
             "endlinecolor": "#2a3f5f",
             "gridcolor": "white",
             "linecolor": "white",
             "minorgridcolor": "white",
             "startlinecolor": "#2a3f5f"
            },
            "type": "carpet"
           }
          ],
          "choropleth": [
           {
            "colorbar": {
             "outlinewidth": 0,
             "ticks": ""
            },
            "type": "choropleth"
           }
          ],
          "contour": [
           {
            "colorbar": {
             "outlinewidth": 0,
             "ticks": ""
            },
            "colorscale": [
             [
              0,
              "#0d0887"
             ],
             [
              0.1111111111111111,
              "#46039f"
             ],
             [
              0.2222222222222222,
              "#7201a8"
             ],
             [
              0.3333333333333333,
              "#9c179e"
             ],
             [
              0.4444444444444444,
              "#bd3786"
             ],
             [
              0.5555555555555556,
              "#d8576b"
             ],
             [
              0.6666666666666666,
              "#ed7953"
             ],
             [
              0.7777777777777778,
              "#fb9f3a"
             ],
             [
              0.8888888888888888,
              "#fdca26"
             ],
             [
              1,
              "#f0f921"
             ]
            ],
            "type": "contour"
           }
          ],
          "contourcarpet": [
           {
            "colorbar": {
             "outlinewidth": 0,
             "ticks": ""
            },
            "type": "contourcarpet"
           }
          ],
          "heatmap": [
           {
            "colorbar": {
             "outlinewidth": 0,
             "ticks": ""
            },
            "colorscale": [
             [
              0,
              "#0d0887"
             ],
             [
              0.1111111111111111,
              "#46039f"
             ],
             [
              0.2222222222222222,
              "#7201a8"
             ],
             [
              0.3333333333333333,
              "#9c179e"
             ],
             [
              0.4444444444444444,
              "#bd3786"
             ],
             [
              0.5555555555555556,
              "#d8576b"
             ],
             [
              0.6666666666666666,
              "#ed7953"
             ],
             [
              0.7777777777777778,
              "#fb9f3a"
             ],
             [
              0.8888888888888888,
              "#fdca26"
             ],
             [
              1,
              "#f0f921"
             ]
            ],
            "type": "heatmap"
           }
          ],
          "heatmapgl": [
           {
            "colorbar": {
             "outlinewidth": 0,
             "ticks": ""
            },
            "colorscale": [
             [
              0,
              "#0d0887"
             ],
             [
              0.1111111111111111,
              "#46039f"
             ],
             [
              0.2222222222222222,
              "#7201a8"
             ],
             [
              0.3333333333333333,
              "#9c179e"
             ],
             [
              0.4444444444444444,
              "#bd3786"
             ],
             [
              0.5555555555555556,
              "#d8576b"
             ],
             [
              0.6666666666666666,
              "#ed7953"
             ],
             [
              0.7777777777777778,
              "#fb9f3a"
             ],
             [
              0.8888888888888888,
              "#fdca26"
             ],
             [
              1,
              "#f0f921"
             ]
            ],
            "type": "heatmapgl"
           }
          ],
          "histogram": [
           {
            "marker": {
             "pattern": {
              "fillmode": "overlay",
              "size": 10,
              "solidity": 0.2
             }
            },
            "type": "histogram"
           }
          ],
          "histogram2d": [
           {
            "colorbar": {
             "outlinewidth": 0,
             "ticks": ""
            },
            "colorscale": [
             [
              0,
              "#0d0887"
             ],
             [
              0.1111111111111111,
              "#46039f"
             ],
             [
              0.2222222222222222,
              "#7201a8"
             ],
             [
              0.3333333333333333,
              "#9c179e"
             ],
             [
              0.4444444444444444,
              "#bd3786"
             ],
             [
              0.5555555555555556,
              "#d8576b"
             ],
             [
              0.6666666666666666,
              "#ed7953"
             ],
             [
              0.7777777777777778,
              "#fb9f3a"
             ],
             [
              0.8888888888888888,
              "#fdca26"
             ],
             [
              1,
              "#f0f921"
             ]
            ],
            "type": "histogram2d"
           }
          ],
          "histogram2dcontour": [
           {
            "colorbar": {
             "outlinewidth": 0,
             "ticks": ""
            },
            "colorscale": [
             [
              0,
              "#0d0887"
             ],
             [
              0.1111111111111111,
              "#46039f"
             ],
             [
              0.2222222222222222,
              "#7201a8"
             ],
             [
              0.3333333333333333,
              "#9c179e"
             ],
             [
              0.4444444444444444,
              "#bd3786"
             ],
             [
              0.5555555555555556,
              "#d8576b"
             ],
             [
              0.6666666666666666,
              "#ed7953"
             ],
             [
              0.7777777777777778,
              "#fb9f3a"
             ],
             [
              0.8888888888888888,
              "#fdca26"
             ],
             [
              1,
              "#f0f921"
             ]
            ],
            "type": "histogram2dcontour"
           }
          ],
          "mesh3d": [
           {
            "colorbar": {
             "outlinewidth": 0,
             "ticks": ""
            },
            "type": "mesh3d"
           }
          ],
          "parcoords": [
           {
            "line": {
             "colorbar": {
              "outlinewidth": 0,
              "ticks": ""
             }
            },
            "type": "parcoords"
           }
          ],
          "pie": [
           {
            "automargin": true,
            "type": "pie"
           }
          ],
          "scatter": [
           {
            "marker": {
             "colorbar": {
              "outlinewidth": 0,
              "ticks": ""
             }
            },
            "type": "scatter"
           }
          ],
          "scatter3d": [
           {
            "line": {
             "colorbar": {
              "outlinewidth": 0,
              "ticks": ""
             }
            },
            "marker": {
             "colorbar": {
              "outlinewidth": 0,
              "ticks": ""
             }
            },
            "type": "scatter3d"
           }
          ],
          "scattercarpet": [
           {
            "marker": {
             "colorbar": {
              "outlinewidth": 0,
              "ticks": ""
             }
            },
            "type": "scattercarpet"
           }
          ],
          "scattergeo": [
           {
            "marker": {
             "colorbar": {
              "outlinewidth": 0,
              "ticks": ""
             }
            },
            "type": "scattergeo"
           }
          ],
          "scattergl": [
           {
            "marker": {
             "colorbar": {
              "outlinewidth": 0,
              "ticks": ""
             }
            },
            "type": "scattergl"
           }
          ],
          "scattermapbox": [
           {
            "marker": {
             "colorbar": {
              "outlinewidth": 0,
              "ticks": ""
             }
            },
            "type": "scattermapbox"
           }
          ],
          "scatterpolar": [
           {
            "marker": {
             "colorbar": {
              "outlinewidth": 0,
              "ticks": ""
             }
            },
            "type": "scatterpolar"
           }
          ],
          "scatterpolargl": [
           {
            "marker": {
             "colorbar": {
              "outlinewidth": 0,
              "ticks": ""
             }
            },
            "type": "scatterpolargl"
           }
          ],
          "scatterternary": [
           {
            "marker": {
             "colorbar": {
              "outlinewidth": 0,
              "ticks": ""
             }
            },
            "type": "scatterternary"
           }
          ],
          "surface": [
           {
            "colorbar": {
             "outlinewidth": 0,
             "ticks": ""
            },
            "colorscale": [
             [
              0,
              "#0d0887"
             ],
             [
              0.1111111111111111,
              "#46039f"
             ],
             [
              0.2222222222222222,
              "#7201a8"
             ],
             [
              0.3333333333333333,
              "#9c179e"
             ],
             [
              0.4444444444444444,
              "#bd3786"
             ],
             [
              0.5555555555555556,
              "#d8576b"
             ],
             [
              0.6666666666666666,
              "#ed7953"
             ],
             [
              0.7777777777777778,
              "#fb9f3a"
             ],
             [
              0.8888888888888888,
              "#fdca26"
             ],
             [
              1,
              "#f0f921"
             ]
            ],
            "type": "surface"
           }
          ],
          "table": [
           {
            "cells": {
             "fill": {
              "color": "#EBF0F8"
             },
             "line": {
              "color": "white"
             }
            },
            "header": {
             "fill": {
              "color": "#C8D4E3"
             },
             "line": {
              "color": "white"
             }
            },
            "type": "table"
           }
          ]
         },
         "layout": {
          "annotationdefaults": {
           "arrowcolor": "#2a3f5f",
           "arrowhead": 0,
           "arrowwidth": 1
          },
          "autotypenumbers": "strict",
          "coloraxis": {
           "colorbar": {
            "outlinewidth": 0,
            "ticks": ""
           }
          },
          "colorscale": {
           "diverging": [
            [
             0,
             "#8e0152"
            ],
            [
             0.1,
             "#c51b7d"
            ],
            [
             0.2,
             "#de77ae"
            ],
            [
             0.3,
             "#f1b6da"
            ],
            [
             0.4,
             "#fde0ef"
            ],
            [
             0.5,
             "#f7f7f7"
            ],
            [
             0.6,
             "#e6f5d0"
            ],
            [
             0.7,
             "#b8e186"
            ],
            [
             0.8,
             "#7fbc41"
            ],
            [
             0.9,
             "#4d9221"
            ],
            [
             1,
             "#276419"
            ]
           ],
           "sequential": [
            [
             0,
             "#0d0887"
            ],
            [
             0.1111111111111111,
             "#46039f"
            ],
            [
             0.2222222222222222,
             "#7201a8"
            ],
            [
             0.3333333333333333,
             "#9c179e"
            ],
            [
             0.4444444444444444,
             "#bd3786"
            ],
            [
             0.5555555555555556,
             "#d8576b"
            ],
            [
             0.6666666666666666,
             "#ed7953"
            ],
            [
             0.7777777777777778,
             "#fb9f3a"
            ],
            [
             0.8888888888888888,
             "#fdca26"
            ],
            [
             1,
             "#f0f921"
            ]
           ],
           "sequentialminus": [
            [
             0,
             "#0d0887"
            ],
            [
             0.1111111111111111,
             "#46039f"
            ],
            [
             0.2222222222222222,
             "#7201a8"
            ],
            [
             0.3333333333333333,
             "#9c179e"
            ],
            [
             0.4444444444444444,
             "#bd3786"
            ],
            [
             0.5555555555555556,
             "#d8576b"
            ],
            [
             0.6666666666666666,
             "#ed7953"
            ],
            [
             0.7777777777777778,
             "#fb9f3a"
            ],
            [
             0.8888888888888888,
             "#fdca26"
            ],
            [
             1,
             "#f0f921"
            ]
           ]
          },
          "colorway": [
           "#636efa",
           "#EF553B",
           "#00cc96",
           "#ab63fa",
           "#FFA15A",
           "#19d3f3",
           "#FF6692",
           "#B6E880",
           "#FF97FF",
           "#FECB52"
          ],
          "font": {
           "color": "#2a3f5f"
          },
          "geo": {
           "bgcolor": "white",
           "lakecolor": "white",
           "landcolor": "#E5ECF6",
           "showlakes": true,
           "showland": true,
           "subunitcolor": "white"
          },
          "hoverlabel": {
           "align": "left"
          },
          "hovermode": "closest",
          "mapbox": {
           "style": "light"
          },
          "paper_bgcolor": "white",
          "plot_bgcolor": "#E5ECF6",
          "polar": {
           "angularaxis": {
            "gridcolor": "white",
            "linecolor": "white",
            "ticks": ""
           },
           "bgcolor": "#E5ECF6",
           "radialaxis": {
            "gridcolor": "white",
            "linecolor": "white",
            "ticks": ""
           }
          },
          "scene": {
           "xaxis": {
            "backgroundcolor": "#E5ECF6",
            "gridcolor": "white",
            "gridwidth": 2,
            "linecolor": "white",
            "showbackground": true,
            "ticks": "",
            "zerolinecolor": "white"
           },
           "yaxis": {
            "backgroundcolor": "#E5ECF6",
            "gridcolor": "white",
            "gridwidth": 2,
            "linecolor": "white",
            "showbackground": true,
            "ticks": "",
            "zerolinecolor": "white"
           },
           "zaxis": {
            "backgroundcolor": "#E5ECF6",
            "gridcolor": "white",
            "gridwidth": 2,
            "linecolor": "white",
            "showbackground": true,
            "ticks": "",
            "zerolinecolor": "white"
           }
          },
          "shapedefaults": {
           "line": {
            "color": "#2a3f5f"
           }
          },
          "ternary": {
           "aaxis": {
            "gridcolor": "white",
            "linecolor": "white",
            "ticks": ""
           },
           "baxis": {
            "gridcolor": "white",
            "linecolor": "white",
            "ticks": ""
           },
           "bgcolor": "#E5ECF6",
           "caxis": {
            "gridcolor": "white",
            "linecolor": "white",
            "ticks": ""
           }
          },
          "title": {
           "x": 0.05
          },
          "xaxis": {
           "automargin": true,
           "gridcolor": "white",
           "linecolor": "white",
           "ticks": "",
           "title": {
            "standoff": 15
           },
           "zerolinecolor": "white",
           "zerolinewidth": 2
          },
          "yaxis": {
           "automargin": true,
           "gridcolor": "white",
           "linecolor": "white",
           "ticks": "",
           "title": {
            "standoff": 15
           },
           "zerolinecolor": "white",
           "zerolinewidth": 2
          }
         }
        },
        "title": {
         "text": "WMO codes counts"
        },
        "xaxis": {
         "anchor": "y",
         "autorange": true,
         "domain": [
          0,
          1
         ],
         "range": [
          -0.5,
          6.5
         ],
         "title": {
          "text": "sensor_id"
         },
         "type": "category"
        },
        "yaxis": {
         "anchor": "x",
         "autorange": true,
         "domain": [
          0,
          1
         ],
         "range": [
          0,
          222.10526315789474
         ],
         "title": {
          "text": "value"
         },
         "type": "linear"
        }
       }
      },
      "image/png": "[encoded data removed]",
      "text/html": [
       "<div>                            <div id=\"71e07519-91b1-4bc3-b74a-3bcfd0e32c47\" class=\"plotly-graph-div\" style=\"height:525px; width:100%;\"></div>            <script type=\"text/javascript\">                require([\"plotly\"], function(Plotly) {                    window.PLOTLYENV=window.PLOTLYENV || {};                                    if (document.getElementById(\"71e07519-91b1-4bc3-b74a-3bcfd0e32c47\")) {                    Plotly.newPlot(                        \"71e07519-91b1-4bc3-b74a-3bcfd0e32c47\",                        [{\"alignmentgroup\":\"True\",\"hovertemplate\":\"sensor_id=%{x}<br>value=%{y}<extra></extra>\",\"legendgroup\":\"\",\"marker\":{\"color\":\"#636efa\",\"pattern\":{\"shape\":\"\"}},\"name\":\"\",\"offsetgroup\":\"\",\"orientation\":\"v\",\"showlegend\":false,\"textposition\":\"auto\",\"type\":\"bar\",\"x\":[\"10\",\"11\",\"27\",\"37\",\"51\",\"52\",\"53\"],\"xaxis\":\"x\",\"y\":[1,64,1,84,12,211,1],\"yaxis\":\"y\"}],                        {\"barmode\":\"relative\",\"legend\":{\"tracegroupgap\":0},\"template\":{\"data\":{\"bar\":[{\"error_x\":{\"color\":\"#2a3f5f\"},\"error_y\":{\"color\":\"#2a3f5f\"},\"marker\":{\"line\":{\"color\":\"#E5ECF6\",\"width\":0.5},\"pattern\":{\"fillmode\":\"overlay\",\"size\":10,\"solidity\":0.2}},\"type\":\"bar\"}],\"barpolar\":[{\"marker\":{\"line\":{\"color\":\"#E5ECF6\",\"width\":0.5},\"pattern\":{\"fillmode\":\"overlay\",\"size\":10,\"solidity\":0.2}},\"type\":\"barpolar\"}],\"carpet\":[{\"aaxis\":{\"endlinecolor\":\"#2a3f5f\",\"gridcolor\":\"white\",\"linecolor\":\"white\",\"minorgridcolor\":\"white\",\"startlinecolor\":\"#2a3f5f\"},\"baxis\":{\"endlinecolor\":\"#2a3f5f\",\"gridcolor\":\"white\",\"linecolor\":\"white\",\"minorgridcolor\":\"white\",\"startlinecolor\":\"#2a3f5f\"},\"type\":\"carpet\"}],\"choropleth\":[{\"colorbar\":{\"outlinewidth\":0,\"ticks\":\"\"},\"type\":\"choropleth\"}],\"contour\":[{\"colorbar\":{\"outlinewidth\":0,\"ticks\":\"\"},\"colorscale\":[[0.0,\"#0d0887\"],[0.1111111111111111,\"#46039f\"],[0.2222222222222222,\"#7201a8\"],[0.3333333333333333,\"#9c179e\"],[0.4444444444444444,\"#bd3786\"],[0.5555555555555556,\"#d8576b\"],[0.6666666666666666,\"#ed7953\"],[0.7777777777777778,\"#fb9f3a\"],[0.8888888888888888,\"#fdca26\"],[1.0,\"#f0f921\"]],\"type\":\"contour\"}],\"contourcarpet\":[{\"colorbar\":{\"outlinewidth\":0,\"ticks\":\"\"},\"type\":\"contourcarpet\"}],\"heatmap\":[{\"colorbar\":{\"outlinewidth\":0,\"ticks\":\"\"},\"colorscale\":[[0.0,\"#0d0887\"],[0.1111111111111111,\"#46039f\"],[0.2222222222222222,\"#7201a8\"],[0.3333333333333333,\"#9c179e\"],[0.4444444444444444,\"#bd3786\"],[0.5555555555555556,\"#d8576b\"],[0.6666666666666666,\"#ed7953\"],[0.7777777777777778,\"#fb9f3a\"],[0.8888888888888888,\"#fdca26\"],[1.0,\"#f0f921\"]],\"type\":\"heatmap\"}],\"heatmapgl\":[{\"colorbar\":{\"outlinewidth\":0,\"ticks\":\"\"},\"colorscale\":[[0.0,\"#0d0887\"],[0.1111111111111111,\"#46039f\"],[0.2222222222222222,\"#7201a8\"],[0.3333333333333333,\"#9c179e\"],[0.4444444444444444,\"#bd3786\"],[0.5555555555555556,\"#d8576b\"],[0.6666666666666666,\"#ed7953\"],[0.7777777777777778,\"#fb9f3a\"],[0.8888888888888888,\"#fdca26\"],[1.0,\"#f0f921\"]],\"type\":\"heatmapgl\"}],\"histogram\":[{\"marker\":{\"pattern\":{\"fillmode\":\"overlay\",\"size\":10,\"solidity\":0.2}},\"type\":\"histogram\"}],\"histogram2d\":[{\"colorbar\":{\"outlinewidth\":0,\"ticks\":\"\"},\"colorscale\":[[0.0,\"#0d0887\"],[0.1111111111111111,\"#46039f\"],[0.2222222222222222,\"#7201a8\"],[0.3333333333333333,\"#9c179e\"],[0.4444444444444444,\"#bd3786\"],[0.5555555555555556,\"#d8576b\"],[0.6666666666666666,\"#ed7953\"],[0.7777777777777778,\"#fb9f3a\"],[0.8888888888888888,\"#fdca26\"],[1.0,\"#f0f921\"]],\"type\":\"histogram2d\"}],\"histogram2dcontour\":[{\"colorbar\":{\"outlinewidth\":0,\"ticks\":\"\"},\"colorscale\":[[0.0,\"#0d0887\"],[0.1111111111111111,\"#46039f\"],[0.2222222222222222,\"#7201a8\"],[0.3333333333333333,\"#9c179e\"],[0.4444444444444444,\"#bd3786\"],[0.5555555555555556,\"#d8576b\"],[0.6666666666666666,\"#ed7953\"],[0.7777777777777778,\"#fb9f3a\"],[0.8888888888888888,\"#fdca26\"],[1.0,\"#f0f921\"]],\"type\":\"histogram2dcontour\"}],\"mesh3d\":[{\"colorbar\":{\"outlinewidth\":0,\"ticks\":\"\"},\"type\":\"mesh3d\"}],\"parcoords\":[{\"line\":{\"colorbar\":{\"outlinewidth\":0,\"ticks\":\"\"}},\"type\":\"parcoords\"}],\"pie\":[{\"automargin\":true,\"type\":\"pie\"}],\"scatter\":[{\"marker\":{\"colorbar\":{\"outlinewidth\":0,\"ticks\":\"\"}},\"type\":\"scatter\"}],\"scatter3d\":[{\"line\":{\"colorbar\":{\"outlinewidth\":0,\"ticks\":\"\"}},\"marker\":{\"colorbar\":{\"outlinewidth\":0,\"ticks\":\"\"}},\"type\":\"scatter3d\"}],\"scattercarpet\":[{\"marker\":{\"colorbar\":{\"outlinewidth\":0,\"ticks\":\"\"}},\"type\":\"scattercarpet\"}],\"scattergeo\":[{\"marker\":{\"colorbar\":{\"outlinewidth\":0,\"ticks\":\"\"}},\"type\":\"scattergeo\"}],\"scattergl\":[{\"marker\":{\"colorbar\":{\"outlinewidth\":0,\"ticks\":\"\"}},\"type\":\"scattergl\"}],\"scattermapbox\":[{\"marker\":{\"colorbar\":{\"outlinewidth\":0,\"ticks\":\"\"}},\"type\":\"scattermapbox\"}],\"scatterpolar\":[{\"marker\":{\"colorbar\":{\"outlinewidth\":0,\"ticks\":\"\"}},\"type\":\"scatterpolar\"}],\"scatterpolargl\":[{\"marker\":{\"colorbar\":{\"outlinewidth\":0,\"ticks\":\"\"}},\"type\":\"scatterpolargl\"}],\"scatterternary\":[{\"marker\":{\"colorbar\":{\"outlinewidth\":0,\"ticks\":\"\"}},\"type\":\"scatterternary\"}],\"surface\":[{\"colorbar\":{\"outlinewidth\":0,\"ticks\":\"\"},\"colorscale\":[[0.0,\"#0d0887\"],[0.1111111111111111,\"#46039f\"],[0.2222222222222222,\"#7201a8\"],[0.3333333333333333,\"#9c179e\"],[0.4444444444444444,\"#bd3786\"],[0.5555555555555556,\"#d8576b\"],[0.6666666666666666,\"#ed7953\"],[0.7777777777777778,\"#fb9f3a\"],[0.8888888888888888,\"#fdca26\"],[1.0,\"#f0f921\"]],\"type\":\"surface\"}],\"table\":[{\"cells\":{\"fill\":{\"color\":\"#EBF0F8\"},\"line\":{\"color\":\"white\"}},\"header\":{\"fill\":{\"color\":\"#C8D4E3\"},\"line\":{\"color\":\"white\"}},\"type\":\"table\"}]},\"layout\":{\"annotationdefaults\":{\"arrowcolor\":\"#2a3f5f\",\"arrowhead\":0,\"arrowwidth\":1},\"autotypenumbers\":\"strict\",\"coloraxis\":{\"colorbar\":{\"outlinewidth\":0,\"ticks\":\"\"}},\"colorscale\":{\"diverging\":[[0,\"#8e0152\"],[0.1,\"#c51b7d\"],[0.2,\"#de77ae\"],[0.3,\"#f1b6da\"],[0.4,\"#fde0ef\"],[0.5,\"#f7f7f7\"],[0.6,\"#e6f5d0\"],[0.7,\"#b8e186\"],[0.8,\"#7fbc41\"],[0.9,\"#4d9221\"],[1,\"#276419\"]],\"sequential\":[[0.0,\"#0d0887\"],[0.1111111111111111,\"#46039f\"],[0.2222222222222222,\"#7201a8\"],[0.3333333333333333,\"#9c179e\"],[0.4444444444444444,\"#bd3786\"],[0.5555555555555556,\"#d8576b\"],[0.6666666666666666,\"#ed7953\"],[0.7777777777777778,\"#fb9f3a\"],[0.8888888888888888,\"#fdca26\"],[1.0,\"#f0f921\"]],\"sequentialminus\":[[0.0,\"#0d0887\"],[0.1111111111111111,\"#46039f\"],[0.2222222222222222,\"#7201a8\"],[0.3333333333333333,\"#9c179e\"],[0.4444444444444444,\"#bd3786\"],[0.5555555555555556,\"#d8576b\"],[0.6666666666666666,\"#ed7953\"],[0.7777777777777778,\"#fb9f3a\"],[0.8888888888888888,\"#fdca26\"],[1.0,\"#f0f921\"]]},\"colorway\":[\"#636efa\",\"#EF553B\",\"#00cc96\",\"#ab63fa\",\"#FFA15A\",\"#19d3f3\",\"#FF6692\",\"#B6E880\",\"#FF97FF\",\"#FECB52\"],\"font\":{\"color\":\"#2a3f5f\"},\"geo\":{\"bgcolor\":\"white\",\"lakecolor\":\"white\",\"landcolor\":\"#E5ECF6\",\"showlakes\":true,\"showland\":true,\"subunitcolor\":\"white\"},\"hoverlabel\":{\"align\":\"left\"},\"hovermode\":\"closest\",\"mapbox\":{\"style\":\"light\"},\"paper_bgcolor\":\"white\",\"plot_bgcolor\":\"#E5ECF6\",\"polar\":{\"angularaxis\":{\"gridcolor\":\"white\",\"linecolor\":\"white\",\"ticks\":\"\"},\"bgcolor\":\"#E5ECF6\",\"radialaxis\":{\"gridcolor\":\"white\",\"linecolor\":\"white\",\"ticks\":\"\"}},\"scene\":{\"xaxis\":{\"backgroundcolor\":\"#E5ECF6\",\"gridcolor\":\"white\",\"gridwidth\":2,\"linecolor\":\"white\",\"showbackground\":true,\"ticks\":\"\",\"zerolinecolor\":\"white\"},\"yaxis\":{\"backgroundcolor\":\"#E5ECF6\",\"gridcolor\":\"white\",\"gridwidth\":2,\"linecolor\":\"white\",\"showbackground\":true,\"ticks\":\"\",\"zerolinecolor\":\"white\"},\"zaxis\":{\"backgroundcolor\":\"#E5ECF6\",\"gridcolor\":\"white\",\"gridwidth\":2,\"linecolor\":\"white\",\"showbackground\":true,\"ticks\":\"\",\"zerolinecolor\":\"white\"}},\"shapedefaults\":{\"line\":{\"color\":\"#2a3f5f\"}},\"ternary\":{\"aaxis\":{\"gridcolor\":\"white\",\"linecolor\":\"white\",\"ticks\":\"\"},\"baxis\":{\"gridcolor\":\"white\",\"linecolor\":\"white\",\"ticks\":\"\"},\"bgcolor\":\"#E5ECF6\",\"caxis\":{\"gridcolor\":\"white\",\"linecolor\":\"white\",\"ticks\":\"\"}},\"title\":{\"x\":0.05},\"xaxis\":{\"automargin\":true,\"gridcolor\":\"white\",\"linecolor\":\"white\",\"ticks\":\"\",\"title\":{\"standoff\":15},\"zerolinecolor\":\"white\",\"zerolinewidth\":2},\"yaxis\":{\"automargin\":true,\"gridcolor\":\"white\",\"linecolor\":\"white\",\"ticks\":\"\",\"title\":{\"standoff\":15},\"zerolinecolor\":\"white\",\"zerolinewidth\":2}}},\"title\":{\"text\":\"WMO codes counts\"},\"xaxis\":{\"anchor\":\"y\",\"domain\":[0.0,1.0],\"title\":{\"text\":\"sensor_id\"}},\"yaxis\":{\"anchor\":\"x\",\"domain\":[0.0,1.0],\"title\":{\"text\":\"value\"}}},                        {\"responsive\": true}                    ).then(function(){\n",
       "                            \n",
       "var gd = document.getElementById('71e07519-91b1-4bc3-b74a-3bcfd0e32c47');\n",
       "var x = new MutationObserver(function (mutations, observer) {{\n",
       "        var display = window.getComputedStyle(gd).display;\n",
       "        if (!display || display === 'none') {{\n",
       "            console.log([gd, 'removed!']);\n",
       "            Plotly.purge(gd);\n",
       "            observer.disconnect();\n",
       "        }}\n",
       "}});\n",
       "\n",
       "// Listen for the removal of the full notebook cells\n",
       "var notebookContainer = gd.closest('#notebook-container');\n",
       "if (notebookContainer) {{\n",
       "    x.observe(notebookContainer, {childList: true});\n",
       "}}\n",
       "\n",
       "// Listen for the clearing of the current output cell\n",
       "var outputEl = gd.closest('.output');\n",
       "if (outputEl) {{\n",
       "    x.observe(outputEl, {childList: true});\n",
       "}}\n",
       "\n",
       "                        })                };                });            </script>        </div>"
      ]
     },
     "metadata": {},
     "output_type": "display_data"
    }
   ],
   "source": [
    "nans_ind = np.where( (data_df.sensor_id != 'nan') & (data_df.value == 2) )[0]\n",
    "data_df_clean = data_df.iloc[nans_ind]\n",
    "\n",
    "\n",
    "df = data_df_clean.groupby([\"sensor_id\"]).count()\n",
    "fig = px.bar(df, x=df.index, y='value', title = 'WMO codes counts')\n",
    "fig.show()"
   ]
  },
  {
   "cell_type": "code",
   "execution_count": null,
   "id": "ec32979f-97b2-4327-a6e2-0c4321ba4680",
   "metadata": {},
   "outputs": [],
   "source": []
  },
  {
   "cell_type": "code",
   "execution_count": null,
   "id": "62e29ab0-992a-4eef-9bdc-3825828b58e8",
   "metadata": {
    "tags": []
   },
   "outputs": [],
   "source": []
  },
  {
   "cell_type": "code",
   "execution_count": null,
   "id": "44ab7427-9b97-43ff-b428-a9bbac170335",
   "metadata": {},
   "outputs": [],
   "source": []
  },
  {
   "cell_type": "code",
   "execution_count": null,
   "id": "b650b247-f331-473f-80da-1aa37e255972",
   "metadata": {},
   "outputs": [],
   "source": []
  }
 ],
 "metadata": {
  "kernelspec": {
   "display_name": "Work",
   "language": "python",
   "name": "work"
  },
  "language_info": {
   "codemirror_mode": {
    "name": "ipython",
    "version": 3
   },
   "file_extension": ".py",
   "mimetype": "text/x-python",
   "name": "python",
   "nbconvert_exporter": "python",
   "pygments_lexer": "ipython3",
   "version": "3.8.5"
  }
 },
 "nbformat": 4,
 "nbformat_minor": 5
}
