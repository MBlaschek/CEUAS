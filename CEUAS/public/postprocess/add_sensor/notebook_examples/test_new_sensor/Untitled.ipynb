{
 "cells": [
  {
   "cell_type": "markdown",
   "id": "bd97ff27-373f-417c-a418-cfbe18e25f17",
   "metadata": {},
   "source": [
    "# Check sensor id from era5fb data \n",
    "\n",
    "\n"
   ]
  },
  {
   "cell_type": "code",
   "execution_count": 2,
   "id": "fba1a0ba-94a2-4f7a-9f2d-0466fd5e750a",
   "metadata": {},
   "outputs": [],
   "source": [
    "import h5py as h5\n",
    "import pandas as pd\n",
    "import numpy as np\n",
    "\n",
    "\n"
   ]
  },
  {
   "cell_type": "code",
   "execution_count": 6,
   "id": "9ded77be-ca05-4410-8e04-e55443019556",
   "metadata": {},
   "outputs": [
    {
     "name": "stdout",
     "output_type": "stream",
     "text": [
      "[71. 79. 80.]\n"
     ]
    }
   ],
   "source": [
    "f = '/scratch/das/federico/HARVEST_YEARLY_10NOV2023_Vienna_Lin_Bethel/era5_1/0-20001-0-11035/0-20001-0-11035_2014_era5_1_harvested_era5.conv.??????.11035.txt.gz.nc'\n",
    "\n",
    "print( np.unique ( h5.File(f, 'r')['era5fb']['sonde_type@conv'][:] ) ) "
   ]
  },
  {
   "cell_type": "code",
   "execution_count": 7,
   "id": "003fe51f-c778-42e5-941e-a821cc5f94f5",
   "metadata": {},
   "outputs": [
    {
     "name": "stdout",
     "output_type": "stream",
     "text": [
      "[ 71.  80. 177.]\n"
     ]
    }
   ],
   "source": [
    "print( np.unique ( h5.File(f.replace('2014', '2015'), 'r')['era5fb']['sonde_type@conv'][:] ) ) "
   ]
  },
  {
   "cell_type": "code",
   "execution_count": 8,
   "id": "58ce340b-9a54-40ba-8032-b33c9bdaa649",
   "metadata": {},
   "outputs": [
    {
     "name": "stdout",
     "output_type": "stream",
     "text": [
      "[141. 163.]\n"
     ]
    }
   ],
   "source": [
    "print( np.unique ( h5.File(f.replace('2014', '2022'), 'r')['era5fb']['sonde_type@conv'][:] ) ) "
   ]
  },
  {
   "cell_type": "code",
   "execution_count": null,
   "id": "6e219bf2-ddf0-4d2c-940a-94f85bbc816c",
   "metadata": {},
   "outputs": [],
   "source": []
  },
  {
   "cell_type": "code",
   "execution_count": 7,
   "id": "5ed593ab-41db-433d-8527-195478e38dfe",
   "metadata": {},
   "outputs": [
    {
     "name": "stdout",
     "output_type": "stream",
     "text": [
      "(array([-2.1474836e+09,  8.0000000e+01], dtype=float32), array([229488, 687877]))\n"
     ]
    }
   ],
   "source": [
    "f = '/scratch/das/federico/MERGED_YEARLY_16NOV_checkBUFR_sensor/0-20001-0-10393/0-20001-0-10393_2013_CEUAS_merged_v3.nc'\n",
    "print( np.unique ( h5.File(f, 'r')['era5fb']['sonde_type@conv'][:] , return_counts = True )  )\n"
   ]
  },
  {
   "cell_type": "code",
   "execution_count": 3,
   "id": "4040d9b6-26a4-4a6b-826b-d62f664f03fe",
   "metadata": {},
   "outputs": [],
   "source": [
    "f = '/scratch/das/federico/MERGED_YEARLY_16NOV_checkBUFR/0-20001-0-11035/0-20001-0-11035_2018_CEUAS_merged_v3.nc' \n",
    "\n",
    "keys =  h5.File(f, 'r')['era5fb'].keys()"
   ]
  },
  {
   "cell_type": "code",
   "execution_count": 5,
   "id": "dc691a53-a9b9-439b-972e-0909837c7d57",
   "metadata": {},
   "outputs": [
    {
     "name": "stdout",
     "output_type": "stream",
     "text": [
      "albedo@modsurf    [-2.1474836e+09 -2.1474836e+09 -2.1474836e+09]\n",
      "an_depar@body    [-2.1474836e+09 -2.1474836e+09 -2.1474836e+09]\n",
      "an_depar@surfbody_feedback    [-2.1474836e+09 -2.1474836e+09 -2.1474836e+09]\n",
      "an_sens_obs@body    [-2.1474836e+09 -2.1474836e+09 -2.1474836e+09]\n",
      "andate    [-2147483648 -2147483648 -2147483648]\n",
      "antime    [-2147483648 -2147483648 -2147483648]\n",
      "biascorr@body    [-2.1474836e+09 -2.1474836e+09 -2.1474836e+09]\n",
      "biascorr_fg@body    [-2.1474836e+09 -2.1474836e+09 -2.1474836e+09]\n",
      "bufrtype@hdr    [-2147483648 -2147483648 -2147483648]\n",
      "class    [-2147483648 -2147483648 -2147483648]\n",
      "codetype@hdr    [-2147483648 -2147483648 -2147483648]\n",
      "collection_identifier@conv    [-2147483648 -2147483648 -2147483648]\n",
      "date@hdr    [-2147483648 -2147483648 -2147483648]\n",
      "datum_sfc_event@surfbody_feedback    [-2147483648 -2147483648 -2147483648]\n",
      "datum_status@body    [-2147483648 -2147483648 -2147483648]\n",
      "datum_status@surfbody_feedback    [-2147483648 -2147483648 -2147483648]\n",
      "eda_spread@errstat    [-2.1474836e+09 -2.1474836e+09 -2.1474836e+09]\n",
      "entryno@body    [-2147483648 -2147483648 -2147483648]\n",
      "expver    [[b'-' b'2' b'1' b'4' b'7' b'4' b'8' b'3' b'6' b'4' b'8' b'' b'' b'' b''\n",
      "  b'' b'' b'' b'' b'' b'']\n",
      " [b'-' b'2' b'1' b'4' b'7' b'4' b'8' b'3' b'6' b'4' b'8' b'' b'' b'' b''\n",
      "  b'' b'' b'' b'' b'' b'']\n",
      " [b'-' b'2' b'1' b'4' b'7' b'4' b'8' b'3' b'6' b'4' b'8' b'' b'' b'' b''\n",
      "  b'' b'' b'' b'' b'' b'']]\n",
      "fg_depar@body    [-2.1474836e+09 -2.1474836e+09 -2.1474836e+09]\n",
      "fg_depar@surfbody_feedback    [-2.1474836e+09 -2.1474836e+09 -2.1474836e+09]\n",
      "fg_error@errstat    [-2.1474836e+09 -2.1474836e+09 -2.1474836e+09]\n",
      "final_obs_error@errstat    [-2.1474836e+09 -2.1474836e+09 -2.1474836e+09]\n",
      "groupid@hdr    [-2147483648 -2147483648 -2147483648]\n",
      "index    [b'' b'' b'']\n",
      "lat@hdr    [-2.1474836e+09 -2.1474836e+09 -2.1474836e+09]\n",
      "lon@hdr    [-2.1474836e+09 -2.1474836e+09 -2.1474836e+09]\n",
      "lsm@modsurf    [-2.1474836e+09 -2.1474836e+09 -2.1474836e+09]\n",
      "lsm@surfbody_feedback    [-2.1474836e+09 -2.1474836e+09 -2.1474836e+09]\n",
      "numtsl@desc    [-2147483648 -2147483648 -2147483648]\n",
      "obs_error@errstat    [-2.1474836e+09 -2.1474836e+09 -2.1474836e+09]\n",
      "obstype@hdr    [-2147483648 -2147483648 -2147483648]\n",
      "obsvalue@body    [-2.1474836e+09 -2.1474836e+09 -2.1474836e+09]\n",
      "orography@modsurf    [-2.1474836e+09 -2.1474836e+09 -2.1474836e+09]\n",
      "ppcode@conv_body    [-2.1474836e+09 -2.1474836e+09 -2.1474836e+09]\n",
      "qc_pge@body    [-2.1474836e+09 -2.1474836e+09 -2.1474836e+09]\n",
      "report_status@hdr    [-2147483648 -2147483648 -2147483648]\n",
      "reportype    [-2147483648 -2147483648 -2147483648]\n",
      "seaice@modsurf    [-2.1474836e+09 -2.1474836e+09 -2.1474836e+09]\n",
      "sensor@hdr    [-2.1474836e+09 -2.1474836e+09 -2.1474836e+09]\n",
      "seqno@hdr    [-2147483648 -2147483648 -2147483648]\n",
      "snow_density@surfbody_feedback    [-2.1474836e+09 -2.1474836e+09 -2.1474836e+09]\n",
      "snow_depth@modsurf    [-2.1474836e+09 -2.1474836e+09 -2.1474836e+09]\n",
      "snow_depth@surfbody_feedback    [-2.1474836e+09 -2.1474836e+09 -2.1474836e+09]\n",
      "sonde_type@conv    [-2.1474836e+09 -2.1474836e+09 -2.1474836e+09]\n",
      "source@hdr    [[b'-' b'2' b'1' b'4' b'7' b'4' b'8' b'3' b'6' b'4' b'8' b'' b'' b'' b''\n",
      "  b'' b'' b'' b'' b'' b'']\n",
      " [b'-' b'2' b'1' b'4' b'7' b'4' b'8' b'3' b'6' b'4' b'8' b'' b'' b'' b''\n",
      "  b'' b'' b'' b'' b'' b'']\n",
      " [b'-' b'2' b'1' b'4' b'7' b'4' b'8' b'3' b'6' b'4' b'8' b'' b'' b'' b''\n",
      "  b'' b'' b'' b'' b'' b'']]\n",
      "source_id    [[b'-' b'2' b'1' b'4' b'7' b'4' b'8' b'3' b'6' b'4' b'8' b'' b'' b'' b''\n",
      "  b'' b'' b'' b'' b'' b'']\n",
      " [b'-' b'2' b'1' b'4' b'7' b'4' b'8' b'3' b'6' b'4' b'8' b'' b'' b'' b''\n",
      "  b'' b'' b'' b'' b'' b'']\n",
      " [b'-' b'2' b'1' b'4' b'7' b'4' b'8' b'3' b'6' b'4' b'8' b'' b'' b'' b''\n",
      "  b'' b'' b'' b'' b'' b'']]\n",
      "stalt@hdr    [-2.1474836e+09 -2.1474836e+09 -2.1474836e+09]\n",
      "statid@hdr    [[b'-' b'2' b'1' b'4' b'7' b'4' b'8' b'3' b'6' b'4' b'8' b'' b'' b'' b''\n",
      "  b'' b'' b'' b'' b'' b'']\n",
      " [b'-' b'2' b'1' b'4' b'7' b'4' b'8' b'3' b'6' b'4' b'8' b'' b'' b'' b''\n",
      "  b'' b'' b'' b'' b'' b'']\n",
      " [b'-' b'2' b'1' b'4' b'7' b'4' b'8' b'3' b'6' b'4' b'8' b'' b'' b'' b''\n",
      "  b'' b'' b'' b'' b'' b'']]\n",
      "station_type@conv    [-2.1474836e+09 -2.1474836e+09 -2.1474836e+09]\n",
      "stream    [-2147483648 -2147483648 -2147483648]\n",
      "string21    [b'' b'' b'']\n",
      "subtype@hdr    [-2147483648 -2147483648 -2147483648]\n",
      "time@hdr    [-2147483648 -2147483648 -2147483648]\n",
      "timeseries_index@conv    [-2147483648 -2147483648 -2147483648]\n",
      "timeslot@timeslot_index    [-2147483648 -2147483648 -2147483648]\n",
      "tsfc@modsurf    [-2.1474836e+09 -2.1474836e+09 -2.1474836e+09]\n",
      "type    [-2147483648 -2147483648 -2147483648]\n",
      "unique_identifier@conv    [-2147483648 -2147483648 -2147483648]\n",
      "varbc_ix@body    [-2147483648 -2147483648 -2147483648]\n",
      "varno@body    [-2147483648 -2147483648 -2147483648]\n",
      "vertco_reference_1@body    [-2.1474836e+09 -2.1474836e+09 -2.1474836e+09]\n",
      "vertco_reference_2@body    [-2.1474836e+09 -2.1474836e+09 -2.1474836e+09]\n",
      "vertco_type@body    [-2147483648 -2147483648 -2147483648]\n",
      "windspeed10m@modsurf    [-2.1474836e+09 -2.1474836e+09 -2.1474836e+09]\n"
     ]
    },
    {
     "ename": "ValueError",
     "evalue": "Per-column arrays must each be 1-dimensional",
     "output_type": "error",
     "traceback": [
      "\u001b[0;31m---------------------------------------------------------------------------\u001b[0m",
      "\u001b[0;31mValueError\u001b[0m                                Traceback (most recent call last)",
      "Cell \u001b[0;32mIn[5], line 7\u001b[0m\n\u001b[1;32m      4\u001b[0m     df[k] \u001b[38;5;241m=\u001b[39m  h5\u001b[38;5;241m.\u001b[39mFile(f, \u001b[38;5;124m'\u001b[39m\u001b[38;5;124mr\u001b[39m\u001b[38;5;124m'\u001b[39m)[\u001b[38;5;124m'\u001b[39m\u001b[38;5;124mera5fb\u001b[39m\u001b[38;5;124m'\u001b[39m][k][:\u001b[38;5;241m10000\u001b[39m]\n\u001b[1;32m      5\u001b[0m     \u001b[38;5;28mprint\u001b[39m( k , \u001b[38;5;124m'\u001b[39m\u001b[38;5;124m  \u001b[39m\u001b[38;5;124m'\u001b[39m ,  h5\u001b[38;5;241m.\u001b[39mFile(f, \u001b[38;5;124m'\u001b[39m\u001b[38;5;124mr\u001b[39m\u001b[38;5;124m'\u001b[39m)[\u001b[38;5;124m'\u001b[39m\u001b[38;5;124mera5fb\u001b[39m\u001b[38;5;124m'\u001b[39m][k][:\u001b[38;5;241m3\u001b[39m])\n\u001b[0;32m----> 7\u001b[0m df \u001b[38;5;241m=\u001b[39m \u001b[43mpd\u001b[49m\u001b[38;5;241;43m.\u001b[39;49m\u001b[43mDataFrame\u001b[49m\u001b[38;5;241;43m.\u001b[39;49m\u001b[43mfrom_dict\u001b[49m\u001b[43m(\u001b[49m\u001b[43mdf\u001b[49m\u001b[43m)\u001b[49m\n",
      "File \u001b[0;32m~/.conda/envs/Work/lib/python3.8/site-packages/pandas/core/frame.py:1763\u001b[0m, in \u001b[0;36mDataFrame.from_dict\u001b[0;34m(cls, data, orient, dtype, columns)\u001b[0m\n\u001b[1;32m   1757\u001b[0m     \u001b[38;5;28;01mraise\u001b[39;00m \u001b[38;5;167;01mValueError\u001b[39;00m(\n\u001b[1;32m   1758\u001b[0m         \u001b[38;5;124mf\u001b[39m\u001b[38;5;124m\"\u001b[39m\u001b[38;5;124mExpected \u001b[39m\u001b[38;5;124m'\u001b[39m\u001b[38;5;124mindex\u001b[39m\u001b[38;5;124m'\u001b[39m\u001b[38;5;124m, \u001b[39m\u001b[38;5;124m'\u001b[39m\u001b[38;5;124mcolumns\u001b[39m\u001b[38;5;124m'\u001b[39m\u001b[38;5;124m or \u001b[39m\u001b[38;5;124m'\u001b[39m\u001b[38;5;124mtight\u001b[39m\u001b[38;5;124m'\u001b[39m\u001b[38;5;124m for orient parameter. \u001b[39m\u001b[38;5;124m\"\u001b[39m\n\u001b[1;32m   1759\u001b[0m         \u001b[38;5;124mf\u001b[39m\u001b[38;5;124m\"\u001b[39m\u001b[38;5;124mGot \u001b[39m\u001b[38;5;124m'\u001b[39m\u001b[38;5;132;01m{\u001b[39;00morient\u001b[38;5;132;01m}\u001b[39;00m\u001b[38;5;124m'\u001b[39m\u001b[38;5;124m instead\u001b[39m\u001b[38;5;124m\"\u001b[39m\n\u001b[1;32m   1760\u001b[0m     )\n\u001b[1;32m   1762\u001b[0m \u001b[38;5;28;01mif\u001b[39;00m orient \u001b[38;5;241m!=\u001b[39m \u001b[38;5;124m\"\u001b[39m\u001b[38;5;124mtight\u001b[39m\u001b[38;5;124m\"\u001b[39m:\n\u001b[0;32m-> 1763\u001b[0m     \u001b[38;5;28;01mreturn\u001b[39;00m \u001b[38;5;28;43mcls\u001b[39;49m\u001b[43m(\u001b[49m\u001b[43mdata\u001b[49m\u001b[43m,\u001b[49m\u001b[43m \u001b[49m\u001b[43mindex\u001b[49m\u001b[38;5;241;43m=\u001b[39;49m\u001b[43mindex\u001b[49m\u001b[43m,\u001b[49m\u001b[43m \u001b[49m\u001b[43mcolumns\u001b[49m\u001b[38;5;241;43m=\u001b[39;49m\u001b[43mcolumns\u001b[49m\u001b[43m,\u001b[49m\u001b[43m \u001b[49m\u001b[43mdtype\u001b[49m\u001b[38;5;241;43m=\u001b[39;49m\u001b[43mdtype\u001b[49m\u001b[43m)\u001b[49m\n\u001b[1;32m   1764\u001b[0m \u001b[38;5;28;01melse\u001b[39;00m:\n\u001b[1;32m   1765\u001b[0m     realdata \u001b[38;5;241m=\u001b[39m data[\u001b[38;5;124m\"\u001b[39m\u001b[38;5;124mdata\u001b[39m\u001b[38;5;124m\"\u001b[39m]\n",
      "File \u001b[0;32m~/.conda/envs/Work/lib/python3.8/site-packages/pandas/core/frame.py:663\u001b[0m, in \u001b[0;36mDataFrame.__init__\u001b[0;34m(self, data, index, columns, dtype, copy)\u001b[0m\n\u001b[1;32m    657\u001b[0m     mgr \u001b[38;5;241m=\u001b[39m \u001b[38;5;28mself\u001b[39m\u001b[38;5;241m.\u001b[39m_init_mgr(\n\u001b[1;32m    658\u001b[0m         data, axes\u001b[38;5;241m=\u001b[39m{\u001b[38;5;124m\"\u001b[39m\u001b[38;5;124mindex\u001b[39m\u001b[38;5;124m\"\u001b[39m: index, \u001b[38;5;124m\"\u001b[39m\u001b[38;5;124mcolumns\u001b[39m\u001b[38;5;124m\"\u001b[39m: columns}, dtype\u001b[38;5;241m=\u001b[39mdtype, copy\u001b[38;5;241m=\u001b[39mcopy\n\u001b[1;32m    659\u001b[0m     )\n\u001b[1;32m    661\u001b[0m \u001b[38;5;28;01melif\u001b[39;00m \u001b[38;5;28misinstance\u001b[39m(data, \u001b[38;5;28mdict\u001b[39m):\n\u001b[1;32m    662\u001b[0m     \u001b[38;5;66;03m# GH#38939 de facto copy defaults to False only in non-dict cases\u001b[39;00m\n\u001b[0;32m--> 663\u001b[0m     mgr \u001b[38;5;241m=\u001b[39m \u001b[43mdict_to_mgr\u001b[49m\u001b[43m(\u001b[49m\u001b[43mdata\u001b[49m\u001b[43m,\u001b[49m\u001b[43m \u001b[49m\u001b[43mindex\u001b[49m\u001b[43m,\u001b[49m\u001b[43m \u001b[49m\u001b[43mcolumns\u001b[49m\u001b[43m,\u001b[49m\u001b[43m \u001b[49m\u001b[43mdtype\u001b[49m\u001b[38;5;241;43m=\u001b[39;49m\u001b[43mdtype\u001b[49m\u001b[43m,\u001b[49m\u001b[43m \u001b[49m\u001b[43mcopy\u001b[49m\u001b[38;5;241;43m=\u001b[39;49m\u001b[43mcopy\u001b[49m\u001b[43m,\u001b[49m\u001b[43m \u001b[49m\u001b[43mtyp\u001b[49m\u001b[38;5;241;43m=\u001b[39;49m\u001b[43mmanager\u001b[49m\u001b[43m)\u001b[49m\n\u001b[1;32m    664\u001b[0m \u001b[38;5;28;01melif\u001b[39;00m \u001b[38;5;28misinstance\u001b[39m(data, ma\u001b[38;5;241m.\u001b[39mMaskedArray):\n\u001b[1;32m    665\u001b[0m     \u001b[38;5;28;01mimport\u001b[39;00m \u001b[38;5;21;01mnumpy\u001b[39;00m\u001b[38;5;21;01m.\u001b[39;00m\u001b[38;5;21;01mma\u001b[39;00m\u001b[38;5;21;01m.\u001b[39;00m\u001b[38;5;21;01mmrecords\u001b[39;00m \u001b[38;5;28;01mas\u001b[39;00m \u001b[38;5;21;01mmrecords\u001b[39;00m\n",
      "File \u001b[0;32m~/.conda/envs/Work/lib/python3.8/site-packages/pandas/core/internals/construction.py:493\u001b[0m, in \u001b[0;36mdict_to_mgr\u001b[0;34m(data, index, columns, dtype, typ, copy)\u001b[0m\n\u001b[1;32m    489\u001b[0m     \u001b[38;5;28;01melse\u001b[39;00m:\n\u001b[1;32m    490\u001b[0m         \u001b[38;5;66;03m# dtype check to exclude e.g. range objects, scalars\u001b[39;00m\n\u001b[1;32m    491\u001b[0m         arrays \u001b[38;5;241m=\u001b[39m [x\u001b[38;5;241m.\u001b[39mcopy() \u001b[38;5;28;01mif\u001b[39;00m \u001b[38;5;28mhasattr\u001b[39m(x, \u001b[38;5;124m\"\u001b[39m\u001b[38;5;124mdtype\u001b[39m\u001b[38;5;124m\"\u001b[39m) \u001b[38;5;28;01melse\u001b[39;00m x \u001b[38;5;28;01mfor\u001b[39;00m x \u001b[38;5;129;01min\u001b[39;00m arrays]\n\u001b[0;32m--> 493\u001b[0m \u001b[38;5;28;01mreturn\u001b[39;00m \u001b[43marrays_to_mgr\u001b[49m\u001b[43m(\u001b[49m\u001b[43marrays\u001b[49m\u001b[43m,\u001b[49m\u001b[43m \u001b[49m\u001b[43mcolumns\u001b[49m\u001b[43m,\u001b[49m\u001b[43m \u001b[49m\u001b[43mindex\u001b[49m\u001b[43m,\u001b[49m\u001b[43m \u001b[49m\u001b[43mdtype\u001b[49m\u001b[38;5;241;43m=\u001b[39;49m\u001b[43mdtype\u001b[49m\u001b[43m,\u001b[49m\u001b[43m \u001b[49m\u001b[43mtyp\u001b[49m\u001b[38;5;241;43m=\u001b[39;49m\u001b[43mtyp\u001b[49m\u001b[43m,\u001b[49m\u001b[43m \u001b[49m\u001b[43mconsolidate\u001b[49m\u001b[38;5;241;43m=\u001b[39;49m\u001b[43mcopy\u001b[49m\u001b[43m)\u001b[49m\n",
      "File \u001b[0;32m~/.conda/envs/Work/lib/python3.8/site-packages/pandas/core/internals/construction.py:118\u001b[0m, in \u001b[0;36marrays_to_mgr\u001b[0;34m(arrays, columns, index, dtype, verify_integrity, typ, consolidate)\u001b[0m\n\u001b[1;32m    115\u001b[0m \u001b[38;5;28;01mif\u001b[39;00m verify_integrity:\n\u001b[1;32m    116\u001b[0m     \u001b[38;5;66;03m# figure out the index, if necessary\u001b[39;00m\n\u001b[1;32m    117\u001b[0m     \u001b[38;5;28;01mif\u001b[39;00m index \u001b[38;5;129;01mis\u001b[39;00m \u001b[38;5;28;01mNone\u001b[39;00m:\n\u001b[0;32m--> 118\u001b[0m         index \u001b[38;5;241m=\u001b[39m \u001b[43m_extract_index\u001b[49m\u001b[43m(\u001b[49m\u001b[43marrays\u001b[49m\u001b[43m)\u001b[49m\n\u001b[1;32m    119\u001b[0m     \u001b[38;5;28;01melse\u001b[39;00m:\n\u001b[1;32m    120\u001b[0m         index \u001b[38;5;241m=\u001b[39m ensure_index(index)\n",
      "File \u001b[0;32m~/.conda/envs/Work/lib/python3.8/site-packages/pandas/core/internals/construction.py:653\u001b[0m, in \u001b[0;36m_extract_index\u001b[0;34m(data)\u001b[0m\n\u001b[1;32m    651\u001b[0m         raw_lengths\u001b[38;5;241m.\u001b[39mappend(\u001b[38;5;28mlen\u001b[39m(val))\n\u001b[1;32m    652\u001b[0m     \u001b[38;5;28;01melif\u001b[39;00m \u001b[38;5;28misinstance\u001b[39m(val, np\u001b[38;5;241m.\u001b[39mndarray) \u001b[38;5;129;01mand\u001b[39;00m val\u001b[38;5;241m.\u001b[39mndim \u001b[38;5;241m>\u001b[39m \u001b[38;5;241m1\u001b[39m:\n\u001b[0;32m--> 653\u001b[0m             \u001b[38;5;28;01mraise\u001b[39;00m \u001b[38;5;167;01mValueError\u001b[39;00m(\u001b[38;5;124m\"\u001b[39m\u001b[38;5;124mPer-column arrays must each be 1-dimensional\u001b[39m\u001b[38;5;124m\"\u001b[39m)\n\u001b[1;32m    655\u001b[0m \u001b[38;5;28;01mif\u001b[39;00m \u001b[38;5;129;01mnot\u001b[39;00m indexes \u001b[38;5;129;01mand\u001b[39;00m \u001b[38;5;129;01mnot\u001b[39;00m raw_lengths:\n\u001b[1;32m    656\u001b[0m     \u001b[38;5;28;01mraise\u001b[39;00m \u001b[38;5;167;01mValueError\u001b[39;00m(\u001b[38;5;124m\"\u001b[39m\u001b[38;5;124mIf using all scalar values, you must pass an index\u001b[39m\u001b[38;5;124m\"\u001b[39m)\n",
      "\u001b[0;31mValueError\u001b[0m: Per-column arrays must each be 1-dimensional"
     ]
    }
   ],
   "source": [
    "df = {}\n",
    "\n",
    "for k in keys:\n",
    "    df[k] =  h5.File(f, 'r')['era5fb'][k][:10000]\n",
    "    print( k , '  ' ,  h5.File(f, 'r')['era5fb'][k][:3])\n",
    "    \n",
    "df = pd.DataFrame.from_dict(df)\n",
    "\n",
    "\n"
   ]
  }
 ],
 "metadata": {
  "kernelspec": {
   "display_name": "Work",
   "language": "python",
   "name": "work"
  },
  "language_info": {
   "codemirror_mode": {
    "name": "ipython",
    "version": 3
   },
   "file_extension": ".py",
   "mimetype": "text/x-python",
   "name": "python",
   "nbconvert_exporter": "python",
   "pygments_lexer": "ipython3",
   "version": "3.8.15"
  }
 },
 "nbformat": 4,
 "nbformat_minor": 5
}
