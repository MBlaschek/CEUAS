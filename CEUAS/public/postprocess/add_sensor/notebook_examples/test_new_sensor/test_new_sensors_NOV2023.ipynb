{
 "cells": [
  {
   "cell_type": "code",
   "execution_count": 7,
   "id": "bafc19fc-d97c-42f7-8c0c-574eaad0e37d",
   "metadata": {},
   "outputs": [],
   "source": [
    "import os,sys\n",
    "import h5py as h5\n",
    "import pandas as pd\n",
    "import numpy as np\n",
    "\n",
    "\n",
    "### COPY the original merged file \n",
    "test_dir = '/scratch/das/federico/sensor_NOV2023_TEST'\n",
    "\n",
    "source = ['/scratch/das/federico/MERGED_YEARLY_13NOV2023_ViennaCOMPLETE/0-20001-0-11035/0-20001-0-11035_2014_CEUAS_merged_v3.nc',\n",
    "          '/scratch/das/federico/MERGED_YEARLY_13NOV2023_ViennaCOMPLETE/0-20001-0-11035/0-20001-0-11035_2015_CEUAS_merged_v3.nc' ]\n",
    "\n"
   ]
  },
  {
   "cell_type": "code",
   "execution_count": 8,
   "id": "46ef96ef-3bbd-4915-ac3b-8cbc1465d1c5",
   "metadata": {},
   "outputs": [],
   "source": [
    "test_files = [ test_dir+'/'+f for f in os.listdir(test_dir) if '.nc' in f ]"
   ]
  },
  {
   "cell_type": "code",
   "execution_count": 9,
   "id": "bc123dfd-cb2d-431c-b30f-294ec1c52c7a",
   "metadata": {},
   "outputs": [
    {
     "data": {
      "text/plain": [
       "['/scratch/das/federico/sensor_NOV2023_TEST/0-20001-0-11035_2014_CEUAS_merged_v3.nc',\n",
       " '/scratch/das/federico/sensor_NOV2023_TEST/0-20001-0-11035_2015_CEUAS_merged_v3.nc']"
      ]
     },
     "execution_count": 9,
     "metadata": {},
     "output_type": "execute_result"
    }
   ],
   "source": [
    "test_files"
   ]
  },
  {
   "cell_type": "code",
   "execution_count": 10,
   "id": "4ae2e5e9-ca54-4f76-86a1-3de7629a863f",
   "metadata": {},
   "outputs": [
    {
     "name": "stdout",
     "output_type": "stream",
     "text": [
      "/scratch/das/federico/sensor_NOV2023_TEST/0-20001-0-11035_2014_CEUAS_merged_v3.nc    438899   439873\n",
      "/scratch/das/federico/sensor_NOV2023_TEST/0-20001-0-11035_2015_CEUAS_merged_v3.nc    4195372   4197942\n"
     ]
    }
   ],
   "source": [
    "for s in test_files:\n",
    "    a = len(h5.File(s , 'r' )['observations_table']['date_time'][:]  )\n",
    "    b = len(h5.File(s , 'r' )['era5fb']['sonde_type@conv'][:]  )\n",
    "    \n",
    "    print(s , '  ', a , ' ' , b )\n",
    "    "
   ]
  },
  {
   "cell_type": "code",
   "execution_count": 22,
   "id": "a183404a-435d-47e6-9d38-98cd842bc8c4",
   "metadata": {},
   "outputs": [
    {
     "data": {
      "text/plain": [
       "<KeysViewHDF5 ['crs', 'era5fb', 'header_table', 'observations_table', 'recordindex', 'recordtimestamp', 'source_configuration', 'station_configuration_codes', 'station_type', 'units', 'z_coordinate_type']>"
      ]
     },
     "execution_count": 22,
     "metadata": {},
     "output_type": "execute_result"
    }
   ],
   "source": [
    "f.keys()"
   ]
  },
  {
   "cell_type": "code",
   "execution_count": null,
   "id": "f1211e6e-a678-4394-b346-1eff21244bc6",
   "metadata": {},
   "outputs": [],
   "source": []
  },
  {
   "cell_type": "code",
   "execution_count": 40,
   "id": "4f4c104a-3a75-47f1-89e4-4d4ccb1d129a",
   "metadata": {},
   "outputs": [],
   "source": [
    "sid = [ b''.join(c) for c in f['observations_table']['sensor_id'][:] ]"
   ]
  },
  {
   "cell_type": "code",
   "execution_count": 41,
   "id": "6b68fe73-9497-4990-a088-8d1b5968b266",
   "metadata": {},
   "outputs": [
    {
     "data": {
      "text/plain": [
       "[b'nan', b'nan', b'nan']"
      ]
     },
     "execution_count": 41,
     "metadata": {},
     "output_type": "execute_result"
    }
   ],
   "source": [
    "sid[:3]"
   ]
  },
  {
   "cell_type": "code",
   "execution_count": 42,
   "id": "1977cbdf-fbf0-4ed1-b0dc-07ab02350b63",
   "metadata": {},
   "outputs": [
    {
     "data": {
      "text/plain": [
       "438716"
      ]
     },
     "execution_count": 42,
     "metadata": {},
     "output_type": "execute_result"
    }
   ],
   "source": [
    "len(sid)"
   ]
  },
  {
   "cell_type": "code",
   "execution_count": 61,
   "id": "e0c97c5e-9490-4fb6-bd84-fbfd39ac1610",
   "metadata": {},
   "outputs": [],
   "source": [
    "new = np.full(len(sid), np.bytes_('CIA') )\n",
    "dd = new.view('S1').reshape(new.shape[0], 3 )"
   ]
  },
  {
   "cell_type": "code",
   "execution_count": 62,
   "id": "596aca0f-f528-4738-9e6d-c4591f66a5fe",
   "metadata": {},
   "outputs": [
    {
     "data": {
      "text/plain": [
       "array([[b'C', b'I', b'A'],\n",
       "       [b'C', b'I', b'A'],\n",
       "       [b'C', b'I', b'A'],\n",
       "       ...,\n",
       "       [b'C', b'I', b'A'],\n",
       "       [b'C', b'I', b'A'],\n",
       "       [b'C', b'I', b'A']], dtype='|S1')"
      ]
     },
     "execution_count": 62,
     "metadata": {},
     "output_type": "execute_result"
    }
   ],
   "source": [
    "dd"
   ]
  },
  {
   "cell_type": "code",
   "execution_count": 63,
   "id": "eacaadd2-70cc-4c82-9e17-e30a056379c3",
   "metadata": {},
   "outputs": [
    {
     "ename": "KeyError",
     "evalue": "\"Couldn't delete link (no write intent on file)\"",
     "output_type": "error",
     "traceback": [
      "\u001b[0;31m---------------------------------------------------------------------------\u001b[0m",
      "\u001b[0;31mKeyError\u001b[0m                                  Traceback (most recent call last)",
      "Cell \u001b[0;32mIn[63], line 1\u001b[0m\n\u001b[0;32m----> 1\u001b[0m \u001b[38;5;28;01mdel\u001b[39;00m f[\u001b[38;5;124m'\u001b[39m\u001b[38;5;124mobservations_table\u001b[39m\u001b[38;5;124m'\u001b[39m][\u001b[38;5;124m'\u001b[39m\u001b[38;5;124msensor_id\u001b[39m\u001b[38;5;124m'\u001b[39m] \n\u001b[1;32m      2\u001b[0m f[\u001b[38;5;124m'\u001b[39m\u001b[38;5;124mobservations_table\u001b[39m\u001b[38;5;124m'\u001b[39m][\u001b[38;5;124m'\u001b[39m\u001b[38;5;124msensor_id\u001b[39m\u001b[38;5;124m'\u001b[39m] \u001b[38;5;241m=\u001b[39m dd\n",
      "File \u001b[0;32mh5py/_objects.pyx:54\u001b[0m, in \u001b[0;36mh5py._objects.with_phil.wrapper\u001b[0;34m()\u001b[0m\n",
      "File \u001b[0;32mh5py/_objects.pyx:55\u001b[0m, in \u001b[0;36mh5py._objects.with_phil.wrapper\u001b[0;34m()\u001b[0m\n",
      "File \u001b[0;32m~/.conda/envs/Work/lib/python3.8/site-packages/h5py/_hl/group.py:399\u001b[0m, in \u001b[0;36mGroup.__delitem__\u001b[0;34m(self, name)\u001b[0m\n\u001b[1;32m    396\u001b[0m \u001b[38;5;129m@with_phil\u001b[39m\n\u001b[1;32m    397\u001b[0m \u001b[38;5;28;01mdef\u001b[39;00m \u001b[38;5;21m__delitem__\u001b[39m(\u001b[38;5;28mself\u001b[39m, name):\n\u001b[1;32m    398\u001b[0m     \u001b[38;5;124;03m\"\"\" Delete (unlink) an item from this group. \"\"\"\u001b[39;00m\n\u001b[0;32m--> 399\u001b[0m     \u001b[38;5;28;43mself\u001b[39;49m\u001b[38;5;241;43m.\u001b[39;49m\u001b[43mid\u001b[49m\u001b[38;5;241;43m.\u001b[39;49m\u001b[43munlink\u001b[49m\u001b[43m(\u001b[49m\u001b[38;5;28;43mself\u001b[39;49m\u001b[38;5;241;43m.\u001b[39;49m\u001b[43m_e\u001b[49m\u001b[43m(\u001b[49m\u001b[43mname\u001b[49m\u001b[43m)\u001b[49m\u001b[43m)\u001b[49m\n",
      "File \u001b[0;32mh5py/_objects.pyx:54\u001b[0m, in \u001b[0;36mh5py._objects.with_phil.wrapper\u001b[0;34m()\u001b[0m\n",
      "File \u001b[0;32mh5py/_objects.pyx:55\u001b[0m, in \u001b[0;36mh5py._objects.with_phil.wrapper\u001b[0;34m()\u001b[0m\n",
      "File \u001b[0;32mh5py/h5g.pyx:304\u001b[0m, in \u001b[0;36mh5py.h5g.GroupID.unlink\u001b[0;34m()\u001b[0m\n",
      "\u001b[0;31mKeyError\u001b[0m: \"Couldn't delete link (no write intent on file)\""
     ]
    }
   ],
   "source": [
    "del f['observations_table']['sensor_id'] \n",
    "f['observations_table']['sensor_id'] = dd"
   ]
  },
  {
   "cell_type": "code",
   "execution_count": 34,
   "id": "79b42849-002d-421e-a8e0-9b7a53d765d4",
   "metadata": {},
   "outputs": [
    {
     "data": {
      "text/plain": [
       "\"\\nindex = np.zeros (  self.data['h5py_file']['observations_table']['date_time'] .shape[0], dtype= int)           \\nself.data['h5py_file']['observations_table'].create_dataset('index', data=index)\\n            \\nsensor_list_combined.view('S1').reshape(sensor_list_combined.shape[0], slen ),    \\n            \\n\""
      ]
     },
     "execution_count": 34,
     "metadata": {},
     "output_type": "execute_result"
    }
   ],
   "source": [
    "\"\"\"\n",
    "index = np.zeros (  self.data['h5py_file']['observations_table']['date_time'] .shape[0], dtype= int)           \n",
    "self.data['h5py_file']['observations_table'].create_dataset('index', data=index)\n",
    "            \n",
    "sensor_list_combined.view('S1').reshape(sensor_list_combined.shape[0], slen ),    \n",
    "            \n",
    "\"\"\""
   ]
  },
  {
   "cell_type": "code",
   "execution_count": 56,
   "id": "44bf15dd-e60d-467f-9fea-cd2c229c843e",
   "metadata": {},
   "outputs": [],
   "source": [
    "f.close()\n",
    "\n"
   ]
  },
  {
   "cell_type": "code",
   "execution_count": 59,
   "id": "2d228e8e-0a65-4b89-bd3c-c1d8d0326d89",
   "metadata": {},
   "outputs": [
    {
     "data": {
      "text/plain": [
       "array([b'CIA', b'CIA', b'CIA', ..., b'CIA', b'CIA', b'CIA'], dtype='|S3')"
      ]
     },
     "execution_count": 59,
     "metadata": {},
     "output_type": "execute_result"
    }
   ],
   "source": [
    "f = h5.File(test_files[0] , 'r' )\n",
    "f['observations_table']['sensor_id'][:] "
   ]
  }
 ],
 "metadata": {
  "kernelspec": {
   "display_name": "Work",
   "language": "python",
   "name": "work"
  },
  "language_info": {
   "codemirror_mode": {
    "name": "ipython",
    "version": 3
   },
   "file_extension": ".py",
   "mimetype": "text/x-python",
   "name": "python",
   "nbconvert_exporter": "python",
   "pygments_lexer": "ipython3",
   "version": "3.8.15"
  }
 },
 "nbformat": 4,
 "nbformat_minor": 5
}
