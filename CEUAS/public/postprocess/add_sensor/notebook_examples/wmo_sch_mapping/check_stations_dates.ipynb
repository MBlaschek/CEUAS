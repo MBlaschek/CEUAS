{
 "cells": [
  {
   "cell_type": "markdown",
   "id": "8ecafbb7-e683-4871-8f69-ddbef2ab361c",
   "metadata": {},
   "source": [
    "# Simple Sensor Checker\n",
    "\n",
    "Given a station id and a date,\n",
    "extracts the sensor\n",
    "\n",
    "\n"
   ]
  },
  {
   "cell_type": "raw",
   "id": "1d26d5a3-a1d3-465b-bb52-8ebe06a4b90f",
   "metadata": {},
   "source": [
    "From Paul's email\n",
    "\n",
    "01 June 1980\n",
    "\n",
    "VCL => 0-20000-0-03918\n",
    "VC_ => 0-20000-0-06458, 0-20000-0-41112, 0-20000-0-71908, 0-20000-0-83779\n",
    "VN8 => 0-20000-0-47741"
   ]
  },
  {
   "cell_type": "code",
   "execution_count": 3,
   "id": "5adad201-e2ef-4b79-bce5-f76082ea14e1",
   "metadata": {},
   "outputs": [],
   "source": [
    "import os,sys\n",
    "import warnings\n",
    "warnings.simplefilter(action='ignore', category=FutureWarning)\n",
    "import pandas as pd\n",
    "import h5py as h5\n",
    "import numpy as np\n",
    "from tqdm import tqdm"
   ]
  },
  {
   "cell_type": "code",
   "execution_count": 17,
   "id": "382af458-d4d9-4c7b-a7c3-e3f12b1218c6",
   "metadata": {},
   "outputs": [],
   "source": []
  },
  {
   "cell_type": "code",
   "execution_count": 15,
   "id": "50bd873b-bad9-4d00-ad63-62f291c128c0",
   "metadata": {},
   "outputs": [],
   "source": [
    "# input data\n",
    "station = '0-20000-0-03918'\n",
    "station = '0-20000-0-82930'\n",
    "\n",
    "\n",
    "merged_dir = '/mnt/users/scratch/leo/scratch/converted_v11/long/'\n",
    "file = [merged_dir+'/'+f for f in os.listdir(merged_dir) if station in f and '.nc' in f and '.x' not in f and '.txt' not in f ][0]\n",
    "file\n",
    "f = h5.File(file, 'r')\n"
   ]
  },
  {
   "cell_type": "code",
   "execution_count": 6,
   "id": "7131a490-4d40-4ff9-9898-42dcfe5902e5",
   "metadata": {},
   "outputs": [
    {
     "data": {
      "text/plain": [
       "<KeysViewHDF5 ['albedo@modsurf', 'an_depar@body', 'an_depar@surfbody_feedback', 'an_sens_obs@body', 'andate', 'antime', 'biascorr@body', 'biascorr_fg@body', 'bufrtype@hdr', 'class', 'codetype@hdr', 'collection_identifier@conv', 'date@hdr', 'datum_anflag@body', 'datum_event1@body', 'datum_rdbflag@body', 'datum_sfc_event@surfbody_feedback', 'datum_status@body', 'datum_status@surfbody_feedback', 'eda_spread@errstat', 'entryno@body', 'expver', 'fg_depar@body', 'fg_depar@surfbody_feedback', 'fg_error@errstat', 'final_obs_error@errstat', 'groupid@hdr', 'index', 'lat@hdr', 'lon@hdr', 'lsm@modsurf', 'lsm@surfbody_feedback', 'numtsl@desc', 'obs_error@errstat', 'obstype@hdr', 'obsvalue@body', 'orography@modsurf', 'ppcode@conv_body', 'qc_pge@body', 'report_event1@hdr', 'report_rdbflag@hdr', 'report_status@hdr', 'reportype', 'seaice@modsurf', 'sensor@hdr', 'seqno@hdr', 'snow_density@surfbody_feedback', 'snow_depth@modsurf', 'snow_depth@surfbody_feedback', 'sonde_type@conv', 'source@hdr', 'source_id', 'stalt@hdr', 'statid@hdr', 'station_type@conv', 'stream', 'string10', 'string6', 'string8', 'subtype@hdr', 'time@hdr', 'timeseries_index@conv', 'timeslot@timeslot_index', 'tsfc@modsurf', 'type', 'unique_identifier@conv', 'varbc_ix@body', 'varno@body', 'vertco_reference_1@body', 'vertco_reference_2@body', 'vertco_type@body', 'windspeed10m@modsurf']>"
      ]
     },
     "execution_count": 6,
     "metadata": {},
     "output_type": "execute_result"
    }
   ],
   "source": [
    "f['era5fb'].keys()"
   ]
  },
  {
   "cell_type": "code",
   "execution_count": null,
   "id": "e5996552-572e-41c5-8400-2d4759f2cdd2",
   "metadata": {},
   "outputs": [],
   "source": []
  },
  {
   "cell_type": "code",
   "execution_count": 19,
   "id": "8c8295c3-2bec-46f5-8d05-a97c653d4882",
   "metadata": {},
   "outputs": [],
   "source": [
    "def extract_sensor(file, date):\n",
    "    \"\"\" Read the file with h5py,\n",
    "    concerts date in text format YYYYMMDD to pandas timestamp,\n",
    "    extract sensor_id for the specified date \"\"\"\n",
    "    \n",
    "\n",
    "    # converting date to timestamp\n",
    "    dt = pd.Timestamp(date)\n",
    "    \n",
    "    # opening file with h5py\n",
    "    f = h5.File(file, 'r')\n",
    "    \n",
    "    # timestamps from observations_table (contains the sensor_id )\n",
    "    un = np.unique(f['observations_table']['date_time'])\n",
    "    date_times = pd.to_datetime(un, unit='s',  origin=pd.Timestamp('1900-01-01') ).date \n",
    "\n",
    "    ind = np.where (date_times == dt )\n",
    "    \n",
    "    wmo = np.unique( [s for s in f['era5fb']['sonde_type@conv'][:][ind[0]] ] )\n",
    "    sel = np.unique( [b''.join(s).decode('utf-8') for s in f['observations_table']['sensor_id'][:][ind[0]] ] )\n",
    "    return wmo, sel \n",
    "\n",
    "\n",
    "\n",
    "    "
   ]
  },
  {
   "cell_type": "code",
   "execution_count": 13,
   "id": "f59fc931-20a2-48b1-8717-41ca8b4c67cb",
   "metadata": {},
   "outputs": [],
   "source": [
    "# input data\n",
    "merged_dir = '/mnt/users/scratch/leo/scratch/converted_v11/long/'\n",
    "date = '19800601' \n",
    "\n",
    "\n",
    "\n",
    "#station = '0-20000-0-03918'\n",
    "#file = [merged_dir+'/'+f for f in os.listdir(merged_dir) if station in f and '.nc' in f and '.x' not in f and '.txt' not in f ][0]\n",
    "#file\n",
    "#a = extract_sensor(file, date)\n",
    "\n"
   ]
  },
  {
   "cell_type": "code",
   "execution_count": 20,
   "id": "ec080869-6519-4073-b0d9-b395997d21c3",
   "metadata": {},
   "outputs": [
    {
     "name": "stderr",
     "output_type": "stream",
     "text": [
      " 17%|█▋        | 1/6 [00:51<04:18, 51.60s/it]"
     ]
    },
    {
     "name": "stdout",
     "output_type": "stream",
     "text": [
      "/mnt/users/scratch/leo/scratch/converted_v11/long//0-20000-0-03918_CEUAS_merged_v1.nc   sensor list:  [nan nan nan nan]    ['VCL ']\n"
     ]
    },
    {
     "name": "stderr",
     "output_type": "stream",
     "text": [
      " 33%|███▎      | 2/6 [01:00<01:45, 26.43s/it]"
     ]
    },
    {
     "name": "stdout",
     "output_type": "stream",
     "text": [
      "/mnt/users/scratch/leo/scratch/converted_v11/long//0-20000-0-06458_CEUAS_merged_v1.nc   sensor list:  [nan nan nan nan]    ['VC_ ']\n"
     ]
    },
    {
     "name": "stderr",
     "output_type": "stream",
     "text": [
      " 50%|█████     | 3/6 [01:02<00:45, 15.22s/it]"
     ]
    },
    {
     "name": "stdout",
     "output_type": "stream",
     "text": [
      "/mnt/users/scratch/leo/scratch/converted_v11/long//0-20000-0-41112_CEUAS_merged_v1.nc   sensor list:  [99.]    ['VC_ ']\n"
     ]
    },
    {
     "name": "stderr",
     "output_type": "stream",
     "text": [
      " 67%|██████▋   | 4/6 [01:05<00:20, 10.43s/it]"
     ]
    },
    {
     "name": "stdout",
     "output_type": "stream",
     "text": [
      "/mnt/users/scratch/leo/scratch/converted_v11/long//0-20000-0-71908_CEUAS_merged_v1.nc   sensor list:  [nan nan]    ['VC_ ']\n"
     ]
    },
    {
     "name": "stderr",
     "output_type": "stream",
     "text": [
      " 83%|████████▎ | 5/6 [01:09<00:08,  8.27s/it]"
     ]
    },
    {
     "name": "stdout",
     "output_type": "stream",
     "text": [
      "/mnt/users/scratch/leo/scratch/converted_v11/long//0-20000-0-83779_CEUAS_merged_v1.nc   sensor list:  [nan nan]    ['VC_ ']\n"
     ]
    },
    {
     "name": "stderr",
     "output_type": "stream",
     "text": [
      "100%|██████████| 6/6 [02:06<00:00, 21.09s/it]"
     ]
    },
    {
     "name": "stdout",
     "output_type": "stream",
     "text": [
      "/mnt/users/scratch/leo/scratch/converted_v11/long//0-20000-0-47741_CEUAS_merged_v1.nc   sensor list:  [99.]    ['VN8 ']\n"
     ]
    },
    {
     "name": "stderr",
     "output_type": "stream",
     "text": [
      "\n"
     ]
    }
   ],
   "source": [
    "for station in tqdm([ '0-20000-0-03918','0-20000-0-06458', '0-20000-0-41112', '0-20000-0-71908', '0-20000-0-83779', '0-20000-0-47741' ]):\n",
    "    file = [merged_dir+'/'+f for f in os.listdir(merged_dir) if station in f and '.nc' in f and '.x' not in f and '.txt' not in f ][0]\n",
    "    date = '19800601'\n",
    "    \n",
    "    wmo,sel = extract_sensor(file, date)\n",
    "    \n",
    "    print(file , '  sensor list: ' , wmo , '  ', sel  )\n",
    "    "
   ]
  },
  {
   "cell_type": "code",
   "execution_count": null,
   "id": "5960ea11-e90e-4d45-a39b-a50c80bfa98d",
   "metadata": {},
   "outputs": [],
   "source": [
    "# Check From Schroeder original data\n",
    "\n",
    "\n",
    "03918:  54.50:  -6.32:  20:VCL:200206302300:*+:Castor Bay, N Ireland, UK\n",
    "03918:  54.50:  -6.32:  20:VFL:200302102300:*+:Castor Bay, N Ireland, UK\n",
    "\n",
    "06458:  50.75:   4.77: 101:VC_:200411221400:*+:EBBE Beauvechain - Meteorological Wing, Base Charles Roman, Beauvechain, Belgium\n",
    "06458:  50.75:   4.77: 101:DGM:200700000000:?-:EBBE Beauvechain - Meteorological Wing, Base Charles Roman, Beauvechain, Belgium\n",
    "\n",
    "41112:  18.23:  42.65:2094:VC_:199909081200:*+:Abha, Saudi Arabia\n",
    "41112:  18.23:  42.65:2094:Zng:200202091200:*+:Abha, Saudi Arabia\n",
    "41112:  18.23:  42.65:2094:VC_:200202200000:*+:Abha, Saudi Arabia\n",
    "\n",
    "71908:  53.9002:-122.7912: 601:VC_:199808140000:*+:Prince George - Environment Canada, 2400 Ospika Boulevard South, V2N 3N5 Prince George, Brit\\\n",
    "\n",
    "83779: -23.52: -46.63: 722:VC_:200105040000:*+:Sao Paulo - Marte Civilian/Military AP, Brazil\n",
    "\n",
    "47741:  35.457: 133.066:  23:VN8:201003010000:*+:Matsue, Japan\n",
    "\n",
    "\n",
    "\n",
    "\n"
   ]
  }
 ],
 "metadata": {
  "kernelspec": {
   "display_name": "Work",
   "language": "python",
   "name": "work"
  },
  "language_info": {
   "codemirror_mode": {
    "name": "ipython",
    "version": 3
   },
   "file_extension": ".py",
   "mimetype": "text/x-python",
   "name": "python",
   "nbconvert_exporter": "python",
   "pygments_lexer": "ipython3",
   "version": "3.8.15"
  }
 },
 "nbformat": 4,
 "nbformat_minor": 5
}
