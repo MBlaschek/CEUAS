{
 "cells": [
  {
   "cell_type": "markdown",
   "metadata": {},
   "source": [
    "# Radiosonde Module rasotools\n",
    "\n",
    "    Author: M. Blaschek\n",
    "    Last Update: Dec 2019\n",
    "    Status: Development\n",
    "\n",
    "    Version: 19.12"
   ]
  },
  {
   "cell_type": "code",
   "execution_count": 1,
   "metadata": {},
   "outputs": [],
   "source": [
    "%matplotlib inline"
   ]
  },
  {
   "cell_type": "code",
   "execution_count": 2,
   "metadata": {},
   "outputs": [],
   "source": [
    "import sys\n",
    "sys.path.append('..') # if run from the doc directory"
   ]
  },
  {
   "cell_type": "markdown",
   "metadata": {},
   "source": [
    "## Importing"
   ]
  },
  {
   "cell_type": "code",
   "execution_count": 3,
   "metadata": {},
   "outputs": [],
   "source": [
    "import numpy as np\n",
    "import pandas as pd\n",
    "import xarray as xr\n",
    "import rasotools as rt"
   ]
  },
  {
   "cell_type": "code",
   "execution_count": 4,
   "metadata": {},
   "outputs": [
    {
     "name": "stdout",
     "output_type": "stream",
     "text": [
      "../rasotools/__init__.py\n"
     ]
    }
   ],
   "source": [
    "print(rt.__file__)"
   ]
  },
  {
   "cell_type": "markdown",
   "metadata": {},
   "source": [
    "## Configuration\n",
    "\n",
    "There are two directories the module uses a lot\n",
    "* rasodir\n",
    "* outdir\n",
    "\n",
    "Other important variables are:\n",
    "* std_plevels\n",
    "* rttov_profile_limits"
   ]
  },
  {
   "cell_type": "code",
   "execution_count": 5,
   "metadata": {},
   "outputs": [
    {
     "data": {
      "text/plain": [
       "homedir    : <str (/raid8/srvx1/mblaschek)>\n",
       "wkdir      : <str (/raid8/srvx1/mblaschek/workspace/pybench/development/rasotools/doc)>\n",
       "igradir    : <str ()>\n",
       "marsdir    : <str ()>\n",
       "outdir     : <str (/raid8/srvx1/mblaschek/workspace/pybench/development/rasotools/doc/results)>\n",
       "rasodir    : <str (/raid8/srvx1/mblaschek/workspace/pybench/development/rasotools/doc/archive)>\n",
       "std_plevels : <list (16)>\n",
       "era_plevels : <list (32)>\n",
       "rttov_profile_limits : <NoneType (None)>\n",
       "libinfo    : <str (RT(0.4) NP(1.17.2) PD(0.25.1) XR(0.13.0))>"
      ]
     },
     "execution_count": 5,
     "metadata": {},
     "output_type": "execute_result"
    }
   ],
   "source": [
    "# Show config informations\n",
    "rt.config"
   ]
  },
  {
   "cell_type": "code",
   "execution_count": 6,
   "metadata": {},
   "outputs": [
    {
     "name": "stdout",
     "output_type": "stream",
     "text": [
      "Configuration written:  test.json\n"
     ]
    }
   ],
   "source": [
    "# Write Config to JSON file\n",
    "rt.dump_config('test.json')"
   ]
  },
  {
   "cell_type": "code",
   "execution_count": 7,
   "metadata": {},
   "outputs": [
    {
     "name": "stdout",
     "output_type": "stream",
     "text": [
      "[CONFIG]  homedir : '/raid8/srvx1/mblaschek'\n",
      "[CONFIG]  wkdir : '/raid8/srvx1/mblaschek/workspace/pybench/development/rasotools/doc'\n",
      "[CONFIG]  igradir : ''\n",
      "[CONFIG]  marsdir : ''\n",
      "[CONFIG]  outdir : '/raid8/srvx1/mblaschek/workspace/pybench/development/rasotools/doc/results'\n",
      "[CONFIG]  rasodir : '/raid8/srvx1/mblaschek/workspace/pybench/development/rasotools/doc/archive'\n",
      "[CONFIG]  std_plevels : [1000.0, 2000.0, 3000.0, 5000.0, 7000.0, 10000.0, 15000.0, 20000.0, 25000.0, 30000.0, 40000.0, 50000.0, 70000.0, 85000.0, 92500.0, 100000.0]\n",
      "[CONFIG]  era_plevels : [1000.0, 2000.0, 3000.0, 5000.0, 7000.0, 10000.0, 12500.0, 15000.0, 17500.0, 20000.0, 22500.0, 25000.0, 30000.0, 35000.0, 40000.0, 45000.0, 50000.0, 55000.0, 60000.0, 65000.0, 70000.0, 75000.0, 77500.0, 80000.0, 82500.0, 85000.0, 87500.0, 90000.0, 92500.0, 95000.0, 97500.0, 100000.0]\n",
      "[CONFIG]  rttov_profile_limits : None\n",
      "[CONFIG]  libinfo : 'RT(0.4) NP(1.17.2) PD(0.25.1) XR(0.13.0)'\n",
      "[CONFIG]  test.json\n"
     ]
    }
   ],
   "source": [
    "# Load Config from JSON file\n",
    "rt.load_config('test.json')"
   ]
  },
  {
   "cell_type": "code",
   "execution_count": 8,
   "metadata": {},
   "outputs": [
    {
     "name": "stdout",
     "output_type": "stream",
     "text": [
      "{\n",
      "\"homedir\": \"/raid8/srvx1/mblaschek\",\n",
      "\"wkdir\": \"/raid8/srvx1/mblaschek/workspace/pybench/development/rasotools/doc\",\n",
      "\"igradir\": \"\",\n",
      "\"marsdir\": \"\",\n",
      "\"outdir\": \"/raid8/srvx1/mblaschek/workspace/pybench/development/rasotools/doc/results\",\n",
      "\"rasodir\": \"/raid8/srvx1/mblaschek/workspace/pybench/development/rasotools/doc/archive\",\n",
      "\"std_plevels\": [\n",
      "1000.0,\n",
      "2000.0,\n",
      "3000.0,\n",
      "5000.0,\n",
      "7000.0,\n",
      "10000.0,\n",
      "15000.0,\n",
      "20000.0,\n",
      "25000.0,\n",
      "30000.0,\n",
      "40000.0,\n",
      "50000.0,\n",
      "70000.0,\n",
      "85000.0,\n",
      "92500.0,\n",
      "100000.0\n",
      "],\n",
      "\"era_plevels\": [\n",
      "1000.0,\n",
      "2000.0,\n",
      "3000.0,\n",
      "5000.0,\n",
      "7000.0,\n",
      "10000.0,\n",
      "12500.0,\n",
      "15000.0,\n",
      "17500.0,\n",
      "20000.0,\n",
      "22500.0,\n",
      "25000.0,\n",
      "30000.0,\n",
      "35000.0,\n",
      "40000.0,\n",
      "45000.0,\n",
      "50000.0,\n",
      "55000.0,\n",
      "60000.0,\n",
      "65000.0,\n",
      "70000.0,\n",
      "75000.0,\n",
      "77500.0,\n",
      "80000.0,\n",
      "82500.0,\n",
      "85000.0,\n",
      "87500.0,\n",
      "90000.0,\n",
      "92500.0,\n",
      "95000.0,\n",
      "97500.0,\n",
      "100000.0\n",
      "],\n",
      "\"rttov_profile_limits\": null,\n",
      "\"libinfo\": \"RT(0.4) NP(1.17.2) PD(0.25.1) XR(0.13.0)\"\n",
      "}\n"
     ]
    }
   ],
   "source": [
    "# That's how it looks:\n",
    "# Can be easily edited and adjusted to your local system\n",
    "with open('test.json') as f:\n",
    "    print(\"\".join(f.read()))"
   ]
  },
  {
   "cell_type": "markdown",
   "metadata": {},
   "source": [
    "# Reading Example Radiosonde Data\n",
    "\n",
    "Source: IGRAv2 from NOAA"
   ]
  },
  {
   "cell_type": "code",
   "execution_count": 9,
   "metadata": {},
   "outputs": [
    {
     "name": "stdout",
     "output_type": "stream",
     "text": [
      "Warning different idents:  AUM00011035 > 011035\n"
     ]
    }
   ],
   "source": [
    "# Example IGRAv2 Sounding File for Vienna\n",
    "isonde = rt.open_radiosonde('example')"
   ]
  },
  {
   "cell_type": "markdown",
   "metadata": {},
   "source": [
    "## Radiosonde Class"
   ]
  },
  {
   "cell_type": "code",
   "execution_count": 10,
   "metadata": {},
   "outputs": [
    {
     "data": {
      "text/plain": [
       "Radiosonde (AUM00011035)\n",
       "Data: \n",
       "IGRAv2     : <Dataset (9 vars [date(738), pres(32)])>\n",
       "Global Attributes: \n",
       "ident      : <str (011035)>\n",
       "source     : <str (NOAA NCDC)>\n",
       "dataset    : <str (IGRAv2)>\n",
       "levels     : <str (ERA-I 32 lower)>\n",
       "processed  : <str (UNIVIE, IMG)>\n",
       "libs       : <str (RT(0.2) NP(1.15.4) PD(0.23.4) XR(0.11.0))>"
      ]
     },
     "execution_count": 10,
     "metadata": {},
     "output_type": "execute_result"
    }
   ],
   "source": [
    "isonde"
   ]
  },
  {
   "cell_type": "markdown",
   "metadata": {},
   "source": [
    "## IGRA Radiosonde data\n",
    "\n",
    "Notice that IGRA sounding data has 32 level.  \n",
    "These levels are interpolated to the lower 32 ERA-Interim pressure levels"
   ]
  },
  {
   "cell_type": "code",
   "execution_count": 11,
   "metadata": {},
   "outputs": [
    {
     "data": {
      "text/plain": [
       "<xarray.Dataset>\n",
       "Dimensions:  (date: 738, pres: 32)\n",
       "Coordinates:\n",
       "  * date     (date) datetime64[ns] 2016-01-01 ... 2016-12-31T12:00:00\n",
       "  * pres     (pres) float64 1e+03 2e+03 3e+03 5e+03 ... 9.5e+04 9.75e+04 1e+05\n",
       "Data variables:\n",
       "    gph      (date, pres) float64 ...\n",
       "    temp     (date, pres) float64 ...\n",
       "    rhumi    (date, pres) float64 ...\n",
       "    dpd      (date, pres) float64 ...\n",
       "    windd    (date, pres) float64 ...\n",
       "    winds    (date, pres) float64 ...\n",
       "    numlev   (date) int64 ...\n",
       "    lat      (date) float64 ...\n",
       "    lon      (date) float64 ...\n",
       "Attributes:\n",
       "    ident:      011035\n",
       "    source:     NOAA NCDC\n",
       "    dataset:    IGRAv2\n",
       "    levels:     ERA-I 32 lower\n",
       "    processed:  UNIVIE, IMG\n",
       "    libs:       RT(0.2) NP(1.15.4) PD(0.23.4) XR(0.11.0)"
      ]
     },
     "execution_count": 11,
     "metadata": {},
     "output_type": "execute_result"
    }
   ],
   "source": [
    "# Data is stored in Netcdf and read with XARRAY\n",
    "isonde.data.IGRAv2"
   ]
  },
  {
   "cell_type": "markdown",
   "metadata": {},
   "source": [
    "Writing xarray data to NetCDF "
   ]
  },
  {
   "cell_type": "code",
   "execution_count": 12,
   "metadata": {},
   "outputs": [
    {
     "name": "stdout",
     "output_type": "stream",
     "text": [
      "to dir: /tmp/tutorial\n",
      "makedir:  /tmp/tutorial\n",
      "Writing /tmp/tutorial/IGRAv2.nc\n"
     ]
    }
   ],
   "source": [
    "isonde.to_netcdf('IGRAv2', directory='/tmp/tutorial', verbose=1)"
   ]
  },
  {
   "cell_type": "code",
   "execution_count": 15,
   "metadata": {},
   "outputs": [
    {
     "name": "stdout",
     "output_type": "stream",
     "text": [
      "-rw-r--r--. 1 mblaschek users 501K  6. Dez 13:35 /tmp/tutorial/IGRAv2.nc\n"
     ]
    }
   ],
   "source": [
    "!ls -lh /tmp/tutorial/IGRAv2.nc"
   ]
  },
  {
   "cell_type": "markdown",
   "metadata": {},
   "source": [
    "Reading again the NetCDF data to the Radiosonde"
   ]
  },
  {
   "cell_type": "code",
   "execution_count": 16,
   "metadata": {},
   "outputs": [
    {
     "name": "stdout",
     "output_type": "stream",
     "text": [
      "./AUM00011035/\n",
      "Reading ... /tmp/tutorial/IGRAv2.nc\n",
      "Warning different idents:  AUM00011035 > 011035\n"
     ]
    }
   ],
   "source": [
    "isonde.add('IGRA', filename='/tmp/tutorial/IGRAv2.nc', verbose=1)"
   ]
  },
  {
   "cell_type": "code",
   "execution_count": 17,
   "metadata": {},
   "outputs": [
    {
     "data": {
      "text/plain": [
       "IGRAv2     : <Dataset (9 vars [date(738), pres(32)])>\n",
       "IGRA       : <Dataset (9 vars [date(738), pres(32)])>"
      ]
     },
     "execution_count": 17,
     "metadata": {},
     "output_type": "execute_result"
    }
   ],
   "source": [
    "isonde.data"
   ]
  },
  {
   "cell_type": "code",
   "execution_count": 18,
   "metadata": {},
   "outputs": [],
   "source": [
    "del isonde.data['IGRA']   #removing it"
   ]
  },
  {
   "cell_type": "markdown",
   "metadata": {},
   "source": [
    "### Read Raw ASCII IGRA or UADB Tables into rasotools\n",
    "\n",
    "Simply reading the ASCII file and splitting data and header informations works with the module [igra](https://github.com/MBlaschek/igra)"
   ]
  },
  {
   "cell_type": "code",
   "execution_count": 25,
   "metadata": {},
   "outputs": [
    {
     "name": "stdout",
     "output_type": "stream",
     "text": [
      "[AUM00011035] [2019-12-06T14:05:21.243760] AUM00011035 [1000.0, 2000.0, 3000.0, 5000.0, 7000.0, 10000.0, 15000.0, 20000.0, 25000.0, 30000.0, 40000.0, 50000.0, 70000.0, 85000.0, 92500.0, 100000.0]\n",
      "[AUM00011035] [2019-12-06T14:05:21.244050] Reading ascii data into dataframes\n",
      "[AUM00011035] [2019-12-06T14:05:21.368238] IGRAv2 Lines read: 34480 Header count: 321\n",
      "[AUM00011035] [2019-12-06T14:05:21.477490] Missing pressure values 0\n",
      "[AUM00011035] [2019-12-06T14:05:21.477594] Interpolating to standard pressure levels\n",
      "[AUM00011035] [2019-12-06T14:05:22.252566] (34160, 7)  >>  (34544, 8)\n",
      "[AUM00011035] [2019-12-06T14:05:22.253665] Converting to xarray\n",
      "[AUM00011035] [2019-12-06T14:05:22.257742] Adding Metadata\n",
      "[AUM00011035] [2019-12-06T14:05:22.258472] Converting temperature and humidity\n",
      "[AUM00011035] [2019-12-06T14:05:22.263023] Collecting Station information\n"
     ]
    }
   ],
   "source": [
    "import igra\n",
    "data,station = igra.read.igra('AUM00011035', filename='AUM00011035-data.txt.gz', verbose=1)                                       "
   ]
  },
  {
   "cell_type": "code",
   "execution_count": 26,
   "metadata": {},
   "outputs": [
    {
     "data": {
      "text/plain": [
       "<xarray.Dataset>\n",
       "Dimensions:   (date: 321, pres: 16)\n",
       "Coordinates:\n",
       "  * date      (date) datetime64[ns] 2015-01-23T12:00:00 ... 2015-06-30T12:00:00\n",
       "  * pres      (pres) float64 1e+03 2e+03 3e+03 5e+03 ... 8.5e+04 9.25e+04 1e+05\n",
       "Data variables:\n",
       "    gph       (date, pres) float64 3.059e+04 2.622e+04 2.369e+04 ... 853.0 nan\n",
       "    temp      (date, pres) float64 218.1 213.3 215.5 217.5 ... 285.2 291.8 nan\n",
       "    rhumi     (date, pres) float64 nan nan nan nan nan ... nan nan nan nan nan\n",
       "    dpd       (date, pres) float64 25.0 23.0 24.0 24.0 25.0 ... 2.7 9.0 10.0 nan\n",
       "    windd     (date, pres) float64 235.0 240.0 215.0 300.0 ... 315.0 280.0 nan\n",
       "    winds     (date, pres) float64 15.0 8.0 7.0 6.0 5.0 ... 11.0 5.0 4.0 nan\n",
       "    flag_int  (date, pres) float64 0.0 0.0 0.0 0.0 0.0 ... 0.0 0.0 0.0 0.0 1.0\n",
       "Attributes:\n",
       "    ident:         AUM00011035\n",
       "    source:        NOAA NCDC\n",
       "    dataset:       IGRAv2\n",
       "    processed:     UNIVIE, IMG\n",
       "    interpolated:  to pres levs (#16)"
      ]
     },
     "execution_count": 26,
     "metadata": {},
     "output_type": "execute_result"
    }
   ],
   "source": [
    "data"
   ]
  },
  {
   "cell_type": "code",
   "execution_count": 27,
   "metadata": {},
   "outputs": [
    {
     "data": {
      "text/plain": [
       "<xarray.Dataset>\n",
       "Dimensions:  (date: 321)\n",
       "Coordinates:\n",
       "  * date     (date) datetime64[ns] 2015-01-23T12:00:00 ... 2015-06-30T12:00:00\n",
       "Data variables:\n",
       "    numlev   (date) int64 123 104 104 81 88 99 108 ... 41 74 109 107 87 80 121\n",
       "    lat      (date) float64 48.23 48.23 48.23 48.23 ... 48.23 48.23 48.23 48.23\n",
       "    lon      (date) float64 16.35 16.35 16.35 16.35 ... 16.35 16.35 16.35 16.35\n",
       "Attributes:\n",
       "    ident:      AUM00011035\n",
       "    source:     NOAA NCDC\n",
       "    dataset:    IGRAv2\n",
       "    processed:  UNIVIE, IMG"
      ]
     },
     "execution_count": 27,
     "metadata": {},
     "output_type": "execute_result"
    }
   ],
   "source": [
    "station"
   ]
  },
  {
   "cell_type": "code",
   "execution_count": 30,
   "metadata": {},
   "outputs": [
    {
     "name": "stdout",
     "output_type": "stream",
     "text": [
      "IGRAv2 Lines read: 34480 Header count: 321\n"
     ]
    }
   ],
   "source": [
    "df,infos = igra.read.ascii_to_dataframe(filename='AUM00011035-data.txt.gz', verbose=1)                                       "
   ]
  },
  {
   "cell_type": "code",
   "execution_count": 31,
   "metadata": {},
   "outputs": [
    {
     "data": {
      "text/html": [
       "<div>\n",
       "<style scoped>\n",
       "    .dataframe tbody tr th:only-of-type {\n",
       "        vertical-align: middle;\n",
       "    }\n",
       "\n",
       "    .dataframe tbody tr th {\n",
       "        vertical-align: top;\n",
       "    }\n",
       "\n",
       "    .dataframe thead th {\n",
       "        text-align: right;\n",
       "    }\n",
       "</style>\n",
       "<table border=\"1\" class=\"dataframe\">\n",
       "  <thead>\n",
       "    <tr style=\"text-align: right;\">\n",
       "      <th></th>\n",
       "      <th>pres</th>\n",
       "      <th>gph</th>\n",
       "      <th>temp</th>\n",
       "      <th>rhumi</th>\n",
       "      <th>dpd</th>\n",
       "      <th>windd</th>\n",
       "      <th>winds</th>\n",
       "    </tr>\n",
       "    <tr>\n",
       "      <th>date</th>\n",
       "      <th></th>\n",
       "      <th></th>\n",
       "      <th></th>\n",
       "      <th></th>\n",
       "      <th></th>\n",
       "      <th></th>\n",
       "      <th></th>\n",
       "    </tr>\n",
       "  </thead>\n",
       "  <tbody>\n",
       "    <tr>\n",
       "      <td>2015-01-23 12:00:00</td>\n",
       "      <td>99200</td>\n",
       "      <td>NaN</td>\n",
       "      <td>3.8</td>\n",
       "      <td>NaN</td>\n",
       "      <td>2.2</td>\n",
       "      <td>300.0</td>\n",
       "      <td>5.0</td>\n",
       "    </tr>\n",
       "    <tr>\n",
       "      <td>2015-01-23 12:00:00</td>\n",
       "      <td>97700</td>\n",
       "      <td>NaN</td>\n",
       "      <td>NaN</td>\n",
       "      <td>NaN</td>\n",
       "      <td>NaN</td>\n",
       "      <td>300.0</td>\n",
       "      <td>11.0</td>\n",
       "    </tr>\n",
       "    <tr>\n",
       "      <td>2015-01-23 12:00:00</td>\n",
       "      <td>95800</td>\n",
       "      <td>NaN</td>\n",
       "      <td>NaN</td>\n",
       "      <td>NaN</td>\n",
       "      <td>NaN</td>\n",
       "      <td>315.0</td>\n",
       "      <td>13.0</td>\n",
       "    </tr>\n",
       "    <tr>\n",
       "      <td>2015-01-23 12:00:00</td>\n",
       "      <td>94700</td>\n",
       "      <td>NaN</td>\n",
       "      <td>0.8</td>\n",
       "      <td>NaN</td>\n",
       "      <td>0.2</td>\n",
       "      <td>NaN</td>\n",
       "      <td>NaN</td>\n",
       "    </tr>\n",
       "    <tr>\n",
       "      <td>2015-01-23 12:00:00</td>\n",
       "      <td>92500</td>\n",
       "      <td>763.0</td>\n",
       "      <td>0.6</td>\n",
       "      <td>NaN</td>\n",
       "      <td>0.2</td>\n",
       "      <td>340.0</td>\n",
       "      <td>12.0</td>\n",
       "    </tr>\n",
       "    <tr>\n",
       "      <td>...</td>\n",
       "      <td>...</td>\n",
       "      <td>...</td>\n",
       "      <td>...</td>\n",
       "      <td>...</td>\n",
       "      <td>...</td>\n",
       "      <td>...</td>\n",
       "      <td>...</td>\n",
       "    </tr>\n",
       "    <tr>\n",
       "      <td>2015-06-30 12:00:00</td>\n",
       "      <td>1140</td>\n",
       "      <td>NaN</td>\n",
       "      <td>NaN</td>\n",
       "      <td>NaN</td>\n",
       "      <td>NaN</td>\n",
       "      <td>75.0</td>\n",
       "      <td>16.0</td>\n",
       "    </tr>\n",
       "    <tr>\n",
       "      <td>2015-06-30 12:00:00</td>\n",
       "      <td>1080</td>\n",
       "      <td>NaN</td>\n",
       "      <td>-35.1</td>\n",
       "      <td>NaN</td>\n",
       "      <td>38.0</td>\n",
       "      <td>NaN</td>\n",
       "      <td>NaN</td>\n",
       "    </tr>\n",
       "    <tr>\n",
       "      <td>2015-06-30 12:00:00</td>\n",
       "      <td>1010</td>\n",
       "      <td>NaN</td>\n",
       "      <td>NaN</td>\n",
       "      <td>NaN</td>\n",
       "      <td>NaN</td>\n",
       "      <td>80.0</td>\n",
       "      <td>19.0</td>\n",
       "    </tr>\n",
       "    <tr>\n",
       "      <td>2015-06-30 12:00:00</td>\n",
       "      <td>1000</td>\n",
       "      <td>31760.0</td>\n",
       "      <td>-35.9</td>\n",
       "      <td>NaN</td>\n",
       "      <td>38.0</td>\n",
       "      <td>80.0</td>\n",
       "      <td>19.0</td>\n",
       "    </tr>\n",
       "    <tr>\n",
       "      <td>2015-06-30 12:00:00</td>\n",
       "      <td>930</td>\n",
       "      <td>NaN</td>\n",
       "      <td>-35.5</td>\n",
       "      <td>NaN</td>\n",
       "      <td>38.0</td>\n",
       "      <td>90.0</td>\n",
       "      <td>18.0</td>\n",
       "    </tr>\n",
       "  </tbody>\n",
       "</table>\n",
       "<p>34160 rows × 7 columns</p>\n",
       "</div>"
      ],
      "text/plain": [
       "                      pres      gph  temp  rhumi   dpd  windd  winds\n",
       "date                                                                \n",
       "2015-01-23 12:00:00  99200      NaN   3.8    NaN   2.2  300.0    5.0\n",
       "2015-01-23 12:00:00  97700      NaN   NaN    NaN   NaN  300.0   11.0\n",
       "2015-01-23 12:00:00  95800      NaN   NaN    NaN   NaN  315.0   13.0\n",
       "2015-01-23 12:00:00  94700      NaN   0.8    NaN   0.2    NaN    NaN\n",
       "2015-01-23 12:00:00  92500    763.0   0.6    NaN   0.2  340.0   12.0\n",
       "...                    ...      ...   ...    ...   ...    ...    ...\n",
       "2015-06-30 12:00:00   1140      NaN   NaN    NaN   NaN   75.0   16.0\n",
       "2015-06-30 12:00:00   1080      NaN -35.1    NaN  38.0    NaN    NaN\n",
       "2015-06-30 12:00:00   1010      NaN   NaN    NaN   NaN   80.0   19.0\n",
       "2015-06-30 12:00:00   1000  31760.0 -35.9    NaN  38.0   80.0   19.0\n",
       "2015-06-30 12:00:00    930      NaN -35.5    NaN  38.0   90.0   18.0\n",
       "\n",
       "[34160 rows x 7 columns]"
      ]
     },
     "execution_count": 31,
     "metadata": {},
     "output_type": "execute_result"
    }
   ],
   "source": [
    "df"
   ]
  },
  {
   "cell_type": "code",
   "execution_count": 32,
   "metadata": {},
   "outputs": [
    {
     "data": {
      "text/html": [
       "<div>\n",
       "<style scoped>\n",
       "    .dataframe tbody tr th:only-of-type {\n",
       "        vertical-align: middle;\n",
       "    }\n",
       "\n",
       "    .dataframe tbody tr th {\n",
       "        vertical-align: top;\n",
       "    }\n",
       "\n",
       "    .dataframe thead th {\n",
       "        text-align: right;\n",
       "    }\n",
       "</style>\n",
       "<table border=\"1\" class=\"dataframe\">\n",
       "  <thead>\n",
       "    <tr style=\"text-align: right;\">\n",
       "      <th></th>\n",
       "      <th>numlev</th>\n",
       "      <th>lat</th>\n",
       "      <th>lon</th>\n",
       "    </tr>\n",
       "    <tr>\n",
       "      <th>date</th>\n",
       "      <th></th>\n",
       "      <th></th>\n",
       "      <th></th>\n",
       "    </tr>\n",
       "  </thead>\n",
       "  <tbody>\n",
       "    <tr>\n",
       "      <td>2015-01-23 12:00:00</td>\n",
       "      <td>123</td>\n",
       "      <td>48.2333</td>\n",
       "      <td>16.35</td>\n",
       "    </tr>\n",
       "    <tr>\n",
       "      <td>2015-01-24 00:00:00</td>\n",
       "      <td>104</td>\n",
       "      <td>48.2333</td>\n",
       "      <td>16.35</td>\n",
       "    </tr>\n",
       "    <tr>\n",
       "      <td>2015-01-24 12:00:00</td>\n",
       "      <td>104</td>\n",
       "      <td>48.2333</td>\n",
       "      <td>16.35</td>\n",
       "    </tr>\n",
       "    <tr>\n",
       "      <td>2015-01-25 00:00:00</td>\n",
       "      <td>81</td>\n",
       "      <td>48.2333</td>\n",
       "      <td>16.35</td>\n",
       "    </tr>\n",
       "    <tr>\n",
       "      <td>2015-01-25 12:00:00</td>\n",
       "      <td>88</td>\n",
       "      <td>48.2333</td>\n",
       "      <td>16.35</td>\n",
       "    </tr>\n",
       "    <tr>\n",
       "      <td>...</td>\n",
       "      <td>...</td>\n",
       "      <td>...</td>\n",
       "      <td>...</td>\n",
       "    </tr>\n",
       "    <tr>\n",
       "      <td>2015-06-28 12:00:00</td>\n",
       "      <td>109</td>\n",
       "      <td>48.2333</td>\n",
       "      <td>16.35</td>\n",
       "    </tr>\n",
       "    <tr>\n",
       "      <td>2015-06-29 00:00:00</td>\n",
       "      <td>107</td>\n",
       "      <td>48.2333</td>\n",
       "      <td>16.35</td>\n",
       "    </tr>\n",
       "    <tr>\n",
       "      <td>2015-06-29 12:00:00</td>\n",
       "      <td>87</td>\n",
       "      <td>48.2333</td>\n",
       "      <td>16.35</td>\n",
       "    </tr>\n",
       "    <tr>\n",
       "      <td>2015-06-30 00:00:00</td>\n",
       "      <td>80</td>\n",
       "      <td>48.2333</td>\n",
       "      <td>16.35</td>\n",
       "    </tr>\n",
       "    <tr>\n",
       "      <td>2015-06-30 12:00:00</td>\n",
       "      <td>121</td>\n",
       "      <td>48.2333</td>\n",
       "      <td>16.35</td>\n",
       "    </tr>\n",
       "  </tbody>\n",
       "</table>\n",
       "<p>321 rows × 3 columns</p>\n",
       "</div>"
      ],
      "text/plain": [
       "                     numlev      lat    lon\n",
       "date                                       \n",
       "2015-01-23 12:00:00     123  48.2333  16.35\n",
       "2015-01-24 00:00:00     104  48.2333  16.35\n",
       "2015-01-24 12:00:00     104  48.2333  16.35\n",
       "2015-01-25 00:00:00      81  48.2333  16.35\n",
       "2015-01-25 12:00:00      88  48.2333  16.35\n",
       "...                     ...      ...    ...\n",
       "2015-06-28 12:00:00     109  48.2333  16.35\n",
       "2015-06-29 00:00:00     107  48.2333  16.35\n",
       "2015-06-29 12:00:00      87  48.2333  16.35\n",
       "2015-06-30 00:00:00      80  48.2333  16.35\n",
       "2015-06-30 12:00:00     121  48.2333  16.35\n",
       "\n",
       "[321 rows x 3 columns]"
      ]
     },
     "execution_count": 32,
     "metadata": {},
     "output_type": "execute_result"
    }
   ],
   "source": [
    "infos"
   ]
  },
  {
   "cell_type": "code",
   "execution_count": 25,
   "metadata": {},
   "outputs": [
    {
     "data": {
      "image/png": "[encoded data removed]",
      "text/plain": [
       "<Figure size 432x288 with 1 Axes>"
      ]
     },
     "metadata": {
      "needs_background": "light"
     },
     "output_type": "display_data"
    }
   ],
   "source": [
    "m = rt.plot.map.points(xdata.lon.values[0], xdata.lat.values[0], markersize=100)\n",
    "m.set_global()"
   ]
  }
 ],
 "metadata": {
  "kernelspec": {
   "display_name": "Python 3",
   "language": "python",
   "name": "python3"
  },
  "language_info": {
   "codemirror_mode": {
    "name": "ipython",
    "version": 3
   },
   "file_extension": ".py",
   "mimetype": "text/x-python",
   "name": "python",
   "nbconvert_exporter": "python",
   "pygments_lexer": "ipython3",
   "version": "3.7.4"
  }
 },
 "nbformat": 4,
 "nbformat_minor": 4
}
