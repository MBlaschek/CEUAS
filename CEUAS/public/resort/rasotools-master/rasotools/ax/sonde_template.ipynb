{
 "cells": [
  {
   "cell_type": "code",
   "execution_count": null,
   "metadata": {},
   "outputs": [],
   "source": [
    "%pylab\n",
    "%matplotlib inline"
   ]
  },
  {
   "cell_type": "code",
   "execution_count": null,
   "metadata": {},
   "outputs": [],
   "source": [
    "%run pdev notebook"
   ]
  },
  {
   "cell_type": "markdown",
   "metadata": {},
   "source": [
    "# Radiosonde SONDE"
   ]
  },
  {
   "cell_type": "code",
   "execution_count": null,
   "metadata": {},
   "outputs": [],
   "source": [
    "ident = \"SONDE\"\n",
    "plt.rcParams['figure.figsize'] = [12.0, 6.0]\n",
    "plt.rcParams['lines.linewidth'] = 2\n",
    "plt.rcParams['font.size'] = 15\n",
    "yplevs = np.array([10,100,200,300,400,500,700,925])*100\n",
    "save = True"
   ]
  },
  {
   "cell_type": "code",
   "execution_count": null,
   "metadata": {},
   "outputs": [],
   "source": [
    "!mkdir -p figures"
   ]
  },
  {
   "cell_type": "code",
   "execution_count": null,
   "metadata": {},
   "outputs": [],
   "source": [
    "rt.load_config()\n",
    "rt.config"
   ]
  },
  {
   "cell_type": "code",
   "execution_count": null,
   "metadata": {},
   "outputs": [],
   "source": [
    "isonde = rt.cls.Radiosonde(ident)"
   ]
  },
  {
   "cell_type": "code",
   "execution_count": null,
   "metadata": {},
   "outputs": [],
   "source": [
    "#\n",
    "# All the data available\n",
    "#\n",
    "isonde.list_store()"
   ]
  },
  {
   "cell_type": "markdown",
   "metadata": {},
   "source": [
    "## Load Data"
   ]
  },
  {
   "cell_type": "code",
   "execution_count": null,
   "metadata": {},
   "outputs": [],
   "source": [
    "# close=False -> stay on disk, \n",
    "#      =True  -> load to memory\n",
    "close = False"
   ]
  },
  {
   "cell_type": "markdown",
   "metadata": {},
   "source": [
    "### ERA5"
   ]
  },
  {
   "cell_type": "code",
   "execution_count": null,
   "metadata": {},
   "outputs": [],
   "source": [
    "if False:\n",
    "    isonde.add('ERA5', filename='ERA5_*.nc', cfunits=True, close=close, verbose=1)\n",
    "if False:\n",
    "    isonde.add('ERA5_meta', filename='*_ERA5_station.nc', cfunits=True, close=close, verbose=1)"
   ]
  },
  {
   "cell_type": "markdown",
   "metadata": {},
   "source": [
    "### ERA Interim"
   ]
  },
  {
   "cell_type": "code",
   "execution_count": null,
   "metadata": {},
   "outputs": [],
   "source": [
    "if False:\n",
    "    isonde.add('ERAI', filename='ERAI_*.nc', cfunits=True, close=close, verbose=1)"
   ]
  },
  {
   "cell_type": "markdown",
   "metadata": {},
   "source": [
    "### IGRA v2"
   ]
  },
  {
   "cell_type": "code",
   "execution_count": null,
   "metadata": {},
   "outputs": [],
   "source": [
    "if False:\n",
    "    isonde.add('IGRAv2', cfunits=True, close=close, verbose=1)"
   ]
  },
  {
   "cell_type": "markdown",
   "metadata": {},
   "source": [
    "### Upper Air Database (UADB)"
   ]
  },
  {
   "cell_type": "code",
   "execution_count": null,
   "metadata": {},
   "outputs": [],
   "source": [
    "if False:\n",
    "    isonde.add('UADB', cfunits=True, close=close, verbose=1)"
   ]
  },
  {
   "cell_type": "markdown",
   "metadata": {},
   "source": [
    "### JRA-55"
   ]
  },
  {
   "cell_type": "code",
   "execution_count": null,
   "metadata": {},
   "outputs": [],
   "source": [
    "if False:\n",
    "    isonde.add('JRA55', close=close, verbose=1)"
   ]
  },
  {
   "cell_type": "markdown",
   "metadata": {},
   "source": [
    "### CERA-20C"
   ]
  },
  {
   "cell_type": "code",
   "execution_count": null,
   "metadata": {},
   "outputs": [],
   "source": [
    "if False:\n",
    "    isonde.add('CERA20C', close=close, verbose=1)"
   ]
  },
  {
   "cell_type": "markdown",
   "metadata": {},
   "source": [
    "### Standardized Combined Data"
   ]
  },
  {
   "cell_type": "code",
   "execution_count": null,
   "metadata": {},
   "outputs": [],
   "source": [
    "idata = None\n",
    "#\n",
    "# ERA5\n",
    "#\n",
    "if isonde.in_store('dataE5JC'):\n",
    "    isonde.add('dataE5JC', verbose=1)\n",
    "    idata = isonde.data.dataE5JC\n",
    "#\n",
    "# ERA Interim\n",
    "#\n",
    "if isonde.in_store('dataEIJC') and idata is None:\n",
    "    isonde.add('dataEIJC', verbose=1)\n",
    "    idata = isonde.data.dataEIJC\n",
    "#\n",
    "# IGRA \n",
    "#\n",
    "if isonde.in_store('dataIE5JC') and idata is None:\n",
    "    isonde.add('dataIE5JC', verbose=1)\n",
    "    idata = isonde.data.dataIE5JC"
   ]
  },
  {
   "cell_type": "markdown",
   "metadata": {},
   "source": [
    "### Experiment Data"
   ]
  },
  {
   "cell_type": "code",
   "execution_count": null,
   "metadata": {},
   "outputs": [],
   "source": [
    "isonde.list_store(pattern='exp')"
   ]
  },
  {
   "cell_type": "code",
   "execution_count": null,
   "metadata": {},
   "outputs": [],
   "source": [
    "ivar = 'dpd'\n",
    "version = 'v1'\n",
    "isrc = 'mars5'\n",
    "ires = 'era5'\n",
    "expdata = None\n",
    "#\n",
    "# ERA5\n",
    "#\n",
    "if isonde.in_store('exp{}{}_{}_{}.nc'.format(ivar,version,isrc,ires)):\n",
    "    isonde.add('exp{}{}_{}_{}'.format(ivar,version,isrc,ires), verbose=1)\n",
    "    expdata = isonde.data['exp{}{}_{}_{}'.format(ivar,version,isrc,ires)]\n",
    "#\n",
    "# ERA Interim\n",
    "#\n",
    "if expdata is None:\n",
    "    isrc = 'marsi'\n",
    "    ires = 'erai'\n",
    "    if isonde.in_store('exp{}{}_{}_{}.nc'.format(ivar,version,isrc,ires)):\n",
    "        isonde.add('exp{}{}_{}_{}'.format(ivar,version,isrc,ires), verbose=1)\n",
    "        expdata = isonde.data['exp{}{}_{}_{}'.format(ivar,version,isrc,ires)]\n",
    "#\n",
    "# JRA55\n",
    "#\n",
    "if expdata is None:\n",
    "    isrc = 'mars5'\n",
    "    ires = 'jra55'\n",
    "    if isonde.in_store('exp{}{}_{}_{}.nc'.format(ivar,version,isrc,ires)):\n",
    "        isonde.add('exp{}{}_{}_{}'.format(ivar,version,isrc,ires), verbose=1)\n",
    "        expdata = isonde.data['exp{}{}_{}_{}'.format(ivar,version,isrc,ires)]"
   ]
  },
  {
   "cell_type": "code",
   "execution_count": null,
   "metadata": {},
   "outputs": [],
   "source": [
    "if idata is None:\n",
    "    print(\"No data ?\")\n",
    "    exit()"
   ]
  },
  {
   "cell_type": "code",
   "execution_count": null,
   "metadata": {},
   "outputs": [],
   "source": [
    "#\n",
    "# Some definitions\n",
    "#\n",
    "times = [0, 12]\n",
    "start = '1979'\n",
    "ende = '2019'\n",
    "period = slice(start, ende)\n",
    "period_str = \"%s-%s\" % (start, ende)\n",
    "#\n",
    "# Subset to only that period\n",
    "#\n",
    "idata = idata.sel(time=period, hour=times)"
   ]
  },
  {
   "cell_type": "markdown",
   "metadata": {},
   "source": [
    "## Station Map"
   ]
  },
  {
   "cell_type": "code",
   "execution_count": null,
   "metadata": {},
   "outputs": [],
   "source": [
    "rt.plot.map.station_class(isonde, states=True,  rivers=True, land=True, lakes=True)\n",
    "if save:\n",
    "    savefig('figures/%s_station.png' % ident)"
   ]
  },
  {
   "cell_type": "markdown",
   "metadata": {},
   "source": [
    "# Data Availability"
   ]
  },
  {
   "cell_type": "code",
   "execution_count": null,
   "metadata": {},
   "outputs": [],
   "source": [
    "dpdvars = []\n",
    "tvars = []\n",
    "for jvar in list(idata.data_vars):\n",
    "    if 'dpd_' in jvar:\n",
    "        if not any([i in jvar for i in ['err','_fg_','snht']]):\n",
    "            dpdvars.append(jvar)\n",
    "    if 't_' in jvar:\n",
    "        if not any([i in jvar for i in ['err','_fg_','snht']]):\n",
    "            tvars.append(jvar)\n",
    "print(dpdvars)\n",
    "print(tvars)"
   ]
  },
  {
   "cell_type": "markdown",
   "metadata": {},
   "source": [
    "## Dewpoint depression"
   ]
  },
  {
   "cell_type": "code",
   "execution_count": null,
   "metadata": {},
   "outputs": [],
   "source": [
    "counts = idata.reset_coords()[dpdvars].count('time').sum('hour').to_dataframe()\n",
    "counts.index /= 100.\n",
    "counts.plot()\n",
    "xticks(yplevs/100)\n",
    "grid()\n",
    "title(\"%s Counts %s\" % (ident, period_str))\n",
    "ylabel(\"Total counts [1]\")\n",
    "if save:\n",
    "    savefig('figures/%s_dpd_counts.png' % ident)"
   ]
  },
  {
   "cell_type": "markdown",
   "metadata": {},
   "source": [
    "## Temperature"
   ]
  },
  {
   "cell_type": "code",
   "execution_count": null,
   "metadata": {},
   "outputs": [],
   "source": [
    "counts = idata.reset_coords()[tvars].count('time').sum('hour').to_dataframe()\n",
    "counts.index /= 100.\n",
    "counts.plot()\n",
    "xticks(yplevs/100)\n",
    "grid()\n",
    "title(\"%s Counts %s\" % (ident, period_str))\n",
    "ylabel(\"Total counts [1]\")\n",
    "if save:\n",
    "    savefig('figures/%s_t_counts.png' % ident)"
   ]
  },
  {
   "cell_type": "markdown",
   "metadata": {},
   "source": [
    "## Annual"
   ]
  },
  {
   "cell_type": "code",
   "execution_count": null,
   "metadata": {},
   "outputs": [],
   "source": [
    "counts = idata.reset_coords()[dpdvars].count('plev').resample(time='A').sum().to_dataframe()\n",
    "n = len(idata.hour.values)\n",
    "f, ax = subplots(n,1, sharex=True)\n",
    "ax[0].set_title(\"%s Annual counts %s\" % (ident, period_str))\n",
    "for i,ihour in enumerate(idata.hour.values):\n",
    "    counts.xs(ihour, level=0).plot(grid=True, ax=ax[i], legend=True if i==0 else False)\n",
    "    ax[i].set_ylabel(\"%02d Z\" % (ihour))\n",
    "ax[i].set_xlabel('Years')\n",
    "tight_layout()\n",
    "if save:\n",
    "    savefig('figures/%s_dpd_ancounts.png' % (ident))"
   ]
  },
  {
   "cell_type": "code",
   "execution_count": null,
   "metadata": {},
   "outputs": [],
   "source": [
    "counts = idata.reset_coords()[tvars].count('plev').resample(time='A').sum().to_dataframe()\n",
    "n = len(idata.hour.values)\n",
    "f, ax = subplots(n,1, sharex=True)\n",
    "ax[0].set_title(\"%s Annual counts %s\" % (ident, period_str))\n",
    "for i,ihour in enumerate(idata.hour.values):\n",
    "    counts.xs(ihour, level=0).plot(grid=True, ax=ax[i], legend=True if i==0 else False)\n",
    "    ax[i].set_ylabel(\"%02d Z\" % (ihour))\n",
    "ax[i].set_xlabel('Years')\n",
    "tight_layout()\n",
    "if save:\n",
    "    savefig('figures/%s_t_ancounts.png' % (ident))"
   ]
  },
  {
   "cell_type": "markdown",
   "metadata": {},
   "source": [
    "# Dewpoint depression"
   ]
  },
  {
   "cell_type": "code",
   "execution_count": null,
   "metadata": {},
   "outputs": [],
   "source": [
    "obs = 'dpd_{}'.format(isrc)\n",
    "hdim = 'hour'\n",
    "for ihour in idata[hdim].values:\n",
    "    rt.plot.time.var(idata[obs].sel(**{hdim:ihour}), dim='time', lev='plev', \n",
    "                     title='%s %s Radiosonde at %02d Z' % (ident, obs, ihour))"
   ]
  },
  {
   "cell_type": "markdown",
   "metadata": {},
   "source": [
    "# Temperature"
   ]
  },
  {
   "cell_type": "code",
   "execution_count": null,
   "metadata": {},
   "outputs": [],
   "source": [
    "obs = 't_{}'.format(isrc)\n",
    "hdim = 'hour'\n",
    "for ihour in idata[hdim].values:\n",
    "    rt.plot.time.var(idata[obs].sel(**{hdim:ihour}), dim='time', lev='plev', \n",
    "                     title='%s %s Radiosonde at %02d Z' % (ident, obs, ihour))"
   ]
  },
  {
   "cell_type": "markdown",
   "metadata": {},
   "source": [
    "# Comparison with Reanalysis"
   ]
  },
  {
   "cell_type": "code",
   "execution_count": null,
   "metadata": {},
   "outputs": [],
   "source": [
    "dim = 'time'\n",
    "hdim = 'hour'\n",
    "lev = 'plev'\n",
    "ivar = 'dpd'\n",
    "obs = '{}_{}'.format(ivar, isrc)\n",
    "plotvars = []\n",
    "#\n",
    "# Select Variables\n",
    "#\n",
    "for jvar in list(idata.data_vars):\n",
    "    if '_' in jvar:\n",
    "        iname = jvar.split('_')[1]\n",
    "        if jvar == \"%s_%s\" %(ivar, iname):\n",
    "            plotvars += [jvar]\n",
    "\n",
    "print(plotvars)\n",
    "#\n",
    "# Select Level\n",
    "#\n",
    "ipres=10000\n",
    "#\n",
    "# Plot\n",
    "#\n",
    "ylims = (np.round(idata[obs].min()), np.round(idata[obs].max()))\n",
    "for i,j in idata[plotvars].groupby(hdim):\n",
    "    m = j.sel(**{lev:ipres}).resample(**{dim:'M'}).mean(dim)\n",
    "    f, ax = plt.subplots(figsize=(16,4))\n",
    "    for jvar in plotvars:\n",
    "        rt.plot.time.var(m[jvar], ax=ax, dim=dim, label=jvar.replace(ivar+'_',''))\n",
    "    ax.set_ylabel(\"%s [%s]\" % (ivar, idata[jvar].attrs['units']))\n",
    "    ax.set_xlabel('Time [M]')\n",
    "    ax.set_title('%s %s Comparison %s %02dZ at %d hPa' %(ident, ivar, period_str, i, ipres/100))\n",
    "    ax.legend(ncol=len(plotvars))\n",
    "    ax.set_ylim(ylims)\n",
    "    tight_layout()\n",
    "    if save:\n",
    "        savefig('figures/%s_%s_comparison_%04d_%02dZ.png' % (ident, ivar, ipres/100, i))"
   ]
  },
  {
   "cell_type": "markdown",
   "metadata": {},
   "source": [
    "## Departures"
   ]
  },
  {
   "cell_type": "code",
   "execution_count": null,
   "metadata": {},
   "outputs": [],
   "source": [
    "dim = 'time'\n",
    "hdim = 'hour'\n",
    "lev = 'plev'\n",
    "ivar = 'dpd'\n",
    "obs = '{}_{}'.format(ivar, isrc)\n",
    "plotvars = []\n",
    "#\n",
    "# Select Variables\n",
    "#\n",
    "for jvar in list(idata.data_vars):\n",
    "    if '_' in jvar:\n",
    "        iname = jvar.split('_')[1]\n",
    "        if jvar == \"%s_%s\" %(ivar, iname):\n",
    "            plotvars += [jvar]\n",
    "\n",
    "print(plotvars)\n",
    "#\n",
    "# Select Level\n",
    "#\n",
    "ipres=30000\n",
    "#\n",
    "# Plot\n",
    "#\n",
    "ylims = (-10,10)  # Manual\n",
    "for i,j in idata[plotvars].groupby(hdim):\n",
    "    m = j.sel(**{lev:ipres}).resample(**{dim:'M'}).mean(dim)\n",
    "    f, ax = plt.subplots(figsize=(16,4))\n",
    "    for jvar in plotvars:\n",
    "        if jvar == obs:\n",
    "            continue\n",
    "        rt.plot.time.var(m[obs] - m[jvar], ax=ax, dim=dim, label=jvar.replace(ivar+'_',''))\n",
    "    ax.set_ylabel(\"%s [%s]\" % (ivar, idata[jvar].attrs['units']))\n",
    "    ax.set_xlabel('Time [M]')\n",
    "    ax.set_title('%s Departures %s (OBS-BG) %s %02dZ at %d hPa' %(ident, ivar, period_str, i, ipres/100))\n",
    "    ax.legend(ncol=len(plotvars))\n",
    "    ax.set_ylim(ylims)\n",
    "    tight_layout()\n",
    "    if save:\n",
    "        savefig('figures/%s_%s_dep_%04d_%02dZ.png' % (ident, ivar, ipres/100, i))"
   ]
  },
  {
   "cell_type": "markdown",
   "metadata": {},
   "source": [
    "# Adjustment Process"
   ]
  },
  {
   "cell_type": "code",
   "execution_count": null,
   "metadata": {},
   "outputs": [],
   "source": [
    "if expdata is None:\n",
    "    #\n",
    "    # Make Experiments \n",
    "    #\n",
    "    expdata = idata.copy()\n",
    "else:\n",
    "    expdata = expdata.sel(**{dim: period})"
   ]
  },
  {
   "cell_type": "markdown",
   "metadata": {},
   "source": [
    "## SNHT"
   ]
  },
  {
   "cell_type": "code",
   "execution_count": null,
   "metadata": {},
   "outputs": [],
   "source": [
    "dim = 'time'\n",
    "hdim = 'hour'\n",
    "ivar = 'dpd'\n",
    "obs = '{}_{}'.format(ivar, isrc)\n",
    "res = '{}_{}'.format(ivar, ires)\n",
    "#\n",
    "# Execute SNHT ?\n",
    "#\n",
    "if not '{}_snht'.format(obs) in expdata.data_vars:\n",
    "    #\n",
    "    # Calculate SNHT values with Parameters (window and missing)\n",
    "    #\n",
    "    expdata = rt.bp.snht(expdata, var=obs, dep=res, dim=dim, \n",
    "                         window=1460, \n",
    "                         missing=600, \n",
    "                         verbose=1)\n",
    "    #\n",
    "    # Apply Threshold (threshold) and detect Peaks\n",
    "    # allowed distances between peaks (dist)\n",
    "    # minimum requires significant levels (min_levels)\n",
    "    #\n",
    "    expdata = expdata.groupby(hdim).apply(rt.bp.apply_threshold,\n",
    "                                          threshold=50,\n",
    "                                          dist=730,\n",
    "                                          min_levels=3,\n",
    "                                          var=obs + '_snht',\n",
    "                                          dim=dim)"
   ]
  },
  {
   "cell_type": "code",
   "execution_count": null,
   "metadata": {},
   "outputs": [],
   "source": [
    "#\n",
    "# Plot SNHT\n",
    "#\n",
    "for i,j in expdata.groupby(hdim):\n",
    "    ax = rt.plot.time.threshold(j[obs + '_snht'], dim=dim, lev=lev, logy=False, \n",
    "                                title=\" %s SNHT %s at %02dZ\" % (ident, period_str, i), \n",
    "                                figsize=(12,4), \n",
    "                                yticklabels=yplevs)\n",
    "    rt.plot.time.breakpoints(j[obs + '_snht_breaks'], ax=ax, startend=True)\n",
    "    tight_layout()\n",
    "    if save:\n",
    "        savefig('figures/%s_%s_snht_%s_%02dZ.png' % (ident, obs, ires, i))"
   ]
  },
  {
   "cell_type": "markdown",
   "metadata": {},
   "source": [
    "## Breakpoints"
   ]
  },
  {
   "cell_type": "code",
   "execution_count": null,
   "metadata": {},
   "outputs": [],
   "source": [
    "#\n",
    "# Give Breakpoint Information \n",
    "#\n",
    "for i,j in expdata.groupby(hdim):\n",
    "    _=rt.bp.get_breakpoints(j[obs + '_snht_breaks'], dim=dim, verbose=1)"
   ]
  },
  {
   "cell_type": "markdown",
   "metadata": {
    "toc-hr-collapsed": false
   },
   "source": [
    "## Adjustments"
   ]
  },
  {
   "cell_type": "code",
   "execution_count": null,
   "metadata": {},
   "outputs": [],
   "source": [
    "dim = 'time'\n",
    "hdim = 'hour'\n",
    "ivar = 'dpd'\n",
    "obs = '{}_{}'.format(ivar, isrc)\n",
    "res = '{}_{}'.format(ivar, ires)\n",
    "\n",
    "# plotvars = [i for i in expdata.data_vars if '_dep' in i]\n",
    "adjvars = \"{obs},{obs}_m,{obs}_q,{obs}_qa\".format(obs=obs)\n",
    "adjvars = adjvars.split(',')\n",
    "print(adjvars)"
   ]
  },
  {
   "cell_type": "code",
   "execution_count": null,
   "metadata": {},
   "outputs": [],
   "source": [
    "missing = False\n",
    "for jvar in adjvars:\n",
    "    if jvar not in expdata.data_vars:\n",
    "        missing = True\n"
   ]
  },
  {
   "cell_type": "markdown",
   "metadata": {},
   "source": [
    "### Run standard adjustment process"
   ]
  },
  {
   "cell_type": "code",
   "execution_count": null,
   "metadata": {},
   "outputs": [],
   "source": [
    "if missing:\n",
    "    from detect import run_standard\n",
    "    expdata = run_standard(idata, obs, res, meanadj=True, qadj=True, qqadj=True, verbose=1)"
   ]
  },
  {
   "cell_type": "markdown",
   "metadata": {},
   "source": [
    "## Breakpoint Stats"
   ]
  },
  {
   "cell_type": "code",
   "execution_count": null,
   "metadata": {},
   "outputs": [],
   "source": [
    "ipres=85000\n",
    "#\n",
    "# MEAN ADJ\n",
    "#\n",
    "bins = np.round(np.nanpercentile(np.ravel(expdata[obs].sel(**{lev:ipres}).values), [1,99]))\n",
    "bins = np.arange(bins[0]-2,bins[1]+2,1)\n",
    "for i,j in expdata.groupby(hdim):\n",
    "    rt.plot.breakpoints_histograms(j.sel(**{lev:ipres}), \n",
    "                                   obs, '{}_m'.format(obs), '{}_snht_breaks'.format(obs),\n",
    "                                   figsize=(18,8), \n",
    "                                   other_var=res,\n",
    "                                   bins=bins);\n",
    "    if save:\n",
    "        savefig('figures/%s_bhist_m_%s_%02dZ_%04dhPa.png' % (ident, ivar, i, ipres/100))"
   ]
  },
  {
   "cell_type": "code",
   "execution_count": null,
   "metadata": {},
   "outputs": [],
   "source": [
    "ipres=85000\n",
    "#\n",
    "# QUANTIL ADJ\n",
    "#\n",
    "bins = np.round(np.nanpercentile(np.ravel(expdata[obs].sel(**{lev:ipres}).values), [1,99]))\n",
    "bins = np.arange(bins[0]-2,bins[1]+2,1)\n",
    "for i,j in expdata.groupby(hdim):\n",
    "    rt.plot.breakpoints_histograms(j.sel(**{lev:ipres}), \n",
    "                                   obs, '{}_q'.format(obs), '{}_snht_breaks'.format(obs),\n",
    "                                   figsize=(18,8), \n",
    "                                   other_var=res,\n",
    "                                   bins=bins);\n",
    "    if save:\n",
    "        savefig('figures/%s_bhist_q_%s_%02dZ_%04dhPa.png' % (ident, ivar, i, ipres/100))"
   ]
  },
  {
   "cell_type": "code",
   "execution_count": null,
   "metadata": {},
   "outputs": [],
   "source": [
    "ipres=85000\n",
    "#\n",
    "# QUANTIL ADJ\n",
    "#\n",
    "bins = np.round(np.nanpercentile(np.ravel(expdata[obs].sel(**{lev:ipres}).values), [1,99]))\n",
    "bins = np.arange(bins[0]-2,bins[1]+2,1)\n",
    "for i,j in expdata.groupby(hdim):\n",
    "    rt.plot.breakpoints_histograms(j.sel(**{lev:ipres}), \n",
    "                                   obs, '{}_qa'.format(obs), '{}_snht_breaks'.format(obs),\n",
    "                                   figsize=(18,8), \n",
    "                                   other_var=res,\n",
    "                                   bins=bins);\n",
    "    if save:\n",
    "        savefig('figures/%s_bhist_qa_%s_%02dZ_%04dhPa.png' % (ident, ivar, i, ipres/100))"
   ]
  },
  {
   "cell_type": "markdown",
   "metadata": {},
   "source": [
    "## Adjustment methods"
   ]
  },
  {
   "cell_type": "code",
   "execution_count": null,
   "metadata": {},
   "outputs": [],
   "source": [
    "bvar = '{}_snht_breaks'.format(obs)\n",
    "#\n",
    "# Select Level\n",
    "#\n",
    "ipres=30000\n",
    "#\n",
    "# Plot\n",
    "#\n",
    "ylims = np.round(np.nanpercentile(np.ravel(expdata[obs].sel(**{lev:ipres}).rolling(**{dim:30, 'center':True, 'min_periods':10}).mean().values), [1,99]))\n",
    "ylims += [-2,2]\n",
    "for i,j in expdata[adjvars].groupby(hdim):\n",
    "    m = j.sel(**{lev:ipres}).rolling(**{dim:30, 'center':True, 'min_periods':10}).mean()\n",
    "    f, ax = plt.subplots(figsize=(16,4))\n",
    "    for jvar in adjvars:\n",
    "        rt.plot.time.var(m[jvar], ax=ax, dim=dim, label=jvar[-1:].upper() if jvar != obs else ivar,  ls='-' if jvar == obs else '--')\n",
    "    if bvar in expdata.data_vars:\n",
    "        rt.plot.time.breakpoints(expdata[bvar].sel(**{hdim:i}), ax=ax, color='k', lw=2, ls='--')    \n",
    "    ax.set_ylabel(\"%s [%s]\" % (ivar, expdata[jvar].attrs['units']))\n",
    "    ax.set_xlabel('Time [M]')\n",
    "    ax.set_title('%s Adjustments %s %s %02dZ at %d hPa' %(ident, ivar, period_str, i, ipres/100))\n",
    "    ax.legend(ncol=len(plotvars))\n",
    "    ax.set_ylim(ylims)\n",
    "    tight_layout()\n",
    "    if save:\n",
    "        savefig('figures/%s_%s_adj_%04d_%02dZ.png' % (ident, ivar, ipres/100, i))    \n",
    "    "
   ]
  },
  {
   "cell_type": "markdown",
   "metadata": {},
   "source": [
    "# Analysis"
   ]
  },
  {
   "cell_type": "code",
   "execution_count": null,
   "metadata": {},
   "outputs": [],
   "source": [
    "#\n",
    "# Monthly Means\n",
    "#\n",
    "variables = list(unique(dpdvars + tvars + adjvars))\n",
    "for jvar in variables[:]:\n",
    "    if jvar not in expdata.data_vars:\n",
    "        variables.remove(jvar)\n",
    "print(variables)\n",
    "mdata = expdata[variables].resample(**{dim:'M'}).mean(keep_attrs=True)"
   ]
  },
  {
   "cell_type": "markdown",
   "metadata": {},
   "source": [
    "## Trends"
   ]
  },
  {
   "cell_type": "code",
   "execution_count": null,
   "metadata": {},
   "outputs": [],
   "source": [
    "trends = rt.met.time.trend(mdata, period=period, dim=dim, only_slopes=True)\n",
    "with xr.set_options(keep_attrs=True):\n",
    "    trends = trends*3650.  # Trends per Decade\n",
    "for jvar in trends.data_vars:\n",
    "    trends[jvar].attrs['units'] = trends[jvar].attrs['units'].replace('day','decade')"
   ]
  },
  {
   "cell_type": "code",
   "execution_count": null,
   "metadata": {},
   "outputs": [],
   "source": [
    "xlims = (np.round(trends.min().to_array().min()), np.round(trends.max().to_array().max()))\n",
    "n = mdata[hdim].size\n",
    "f,ax = rt.plot.init_fig_horizontal(n=n, ratios=tuple([2]*n), sharey=True)\n",
    "for i, ihour in enumerate(trends[hdim].values):\n",
    "    for jvar in variables:\n",
    "        rt.plot.profile.var(trends[jvar].sel(**{hdim:ihour}), ax=ax[i], label=jvar[-1:].upper() if jvar != obs else ivar)\n",
    "    ax[i].set_title('%02d' % ihour)\n",
    "    ax[i].set_xlim(xlims)\n",
    "    ax[i].set_xlabel(\"%s [%s]\" % (mdata[obs].attrs['standard_name'], trends[jvar].attrs['units']))\n",
    "    \n",
    "f.suptitle('%s %s Trends %s' % (ident, ivar.upper(), period_str))\n",
    "if save:\n",
    "    savefig('figures/%s_trends_%s.png' % (ident, ivar))"
   ]
  },
  {
   "cell_type": "markdown",
   "metadata": {},
   "source": [
    "## Statistics"
   ]
  },
  {
   "cell_type": "code",
   "execution_count": null,
   "metadata": {},
   "outputs": [],
   "source": [
    "from detect import skills_table"
   ]
  },
  {
   "cell_type": "code",
   "execution_count": null,
   "metadata": {},
   "outputs": [],
   "source": [
    "for jvar in mdata.data_vars:\n",
    "    if jvar == obs or jvar == res:\n",
    "        continue\n",
    "    _ , ytable = skills_table(mdata[obs], mdata[res], mdata[jvar])\n",
    "    print(\"#\"*50)\n",
    "    print(ident, obs, res, jvar)\n",
    "    print(ytable)\n",
    "    print(\"#\"*50)"
   ]
  }
 ],
 "metadata": {
  "kernelspec": {
   "display_name": "bunnies",
   "language": "python",
   "name": "bunnies"
  },
  "language_info": {
   "codemirror_mode": {
    "name": "ipython",
    "version": 3
   },
   "file_extension": ".py",
   "mimetype": "text/x-python",
   "name": "python",
   "nbconvert_exporter": "python",
   "pygments_lexer": "ipython3",
   "version": "3.7.4"
  }
 },
 "nbformat": 4,
 "nbformat_minor": 4
}
