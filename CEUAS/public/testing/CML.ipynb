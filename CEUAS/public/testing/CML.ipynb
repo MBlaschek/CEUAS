{
 "cells": [
  {
   "cell_type": "code",
   "execution_count": 1,
   "metadata": {},
   "outputs": [
    {
     "name": "stdout",
     "output_type": "stream",
     "text": [
      "Not Implemented, consider upgrading a version > 4.4.0 \n"
     ]
    },
    {
     "name": "stderr",
     "output_type": "stream",
     "text": [
      "/opt/anaconda3/lib/python3.8/site-packages/ecmwflibs/__init__.py:131: UserWarning: ecmwflibs universal: found eccodes at /opt/anaconda3/lib/libeccodes.so\n",
      "  warnings.warn(f\"ecmwflibs universal: found {name} at {path}\")\n",
      "/opt/anaconda3/lib/python3.8/site-packages/ecmwflibs/__init__.py:131: UserWarning: ecmwflibs universal: found MagPlus at /opt/anaconda3/lib/libMagPlus.so\n",
      "  warnings.warn(f\"ecmwflibs universal: found {name} at {path}\")\n"
     ]
    }
   ],
   "source": [
    "import climetlab as cml"
   ]
  },
  {
   "cell_type": "code",
   "execution_count": 2,
   "metadata": {},
   "outputs": [],
   "source": [
    "import numpy\n",
    "import numpy as np\n",
    "import pandas as pd\n",
    "import sys, glob\n",
    "import urllib3\n",
    "import h5py\n",
    "import cdsapi, zipfile, os, time\n",
    "import warnings\n",
    "import shutil\n",
    "import xarray\n",
    "from datetime import date\n",
    "warnings.filterwarnings('ignore')\n",
    "# import pycountry\n",
    "sys.path.append(os.getcwd()+'/../cds-backend/code/')\n",
    "import cds_eua3 as eua\n",
    "import numba\n",
    "import copy\n",
    "import glob\n",
    "from numba import njit\n",
    "import pandas\n",
    "import glob"
   ]
  },
  {
   "cell_type": "code",
   "execution_count": 52,
   "metadata": {},
   "outputs": [],
   "source": [
    "ds =  cml.load_dataset(\"sample-grib-data\")"
   ]
  },
  {
   "cell_type": "code",
   "execution_count": 55,
   "metadata": {},
   "outputs": [
    {
     "name": "stdout",
     "output_type": "stream",
     "text": [
      "Magics-ERROR:\n",
      "Magics-ERROR: Errors reported:Factory (climetlab) not found - No plot produced\n"
     ]
    },
    {
     "data": {
      "image/png": "\n",
      "text/plain": [
       "<IPython.core.display.Image object>"
      ]
     },
     "metadata": {
      "image/png": {
       "width": 680
      }
     },
     "output_type": "display_data"
    }
   ],
   "source": [
    "cml.plot_map(ds[0])"
   ]
  },
  {
   "cell_type": "code",
   "execution_count": 39,
   "metadata": {},
   "outputs": [],
   "source": [
    "data = cml.load_source(\"cds\",\n",
    "                       \"insitu-comprehensive-upper-air-observation-network\",\n",
    "                       variable = \"temperature\",\n",
    "                       statid = \"11035\",\n",
    "#                        area = [60, 0, 40, 20],\n",
    "                       year = \"2020\",\n",
    "                       month = \"01\",\n",
    "                       day = \"01\",\n",
    "                       pressure = '500',\n",
    "#                        format = 'csv'\n",
    "                      )\n"
   ]
  },
  {
   "cell_type": "code",
   "execution_count": 40,
   "metadata": {},
   "outputs": [
    {
     "data": {
      "text/html": [
       "<style>table.climetlab td {\n",
       "    vertical-align: top;\n",
       "    text-align: left !important;\n",
       "}\n",
       "</style>\n",
       "<h4>cds</h4>\n",
       "<table class=\"climetlab\">\n",
       "<tr><td><b>Home page</b></td><td>-</td></tr>\n",
       "<tr><td><b>Documentation</b></td><td>-</td></tr>\n",
       "<tr><td><b>Citation</b></td><td><pre>-</pre></td></tr>\n",
       "<tr><td><b>Licence</b></td><td>-</td></tr>\n",
       "</table>\n",
       "        "
      ],
      "text/plain": [
       "<climetlab.sources.cds.CDSRetriever at 0x7fb3469e9d90>"
      ]
     },
     "execution_count": 40,
     "metadata": {},
     "output_type": "execute_result"
    }
   ],
   "source": [
    "data"
   ]
  },
  {
   "cell_type": "code",
   "execution_count": 41,
   "metadata": {},
   "outputs": [
    {
     "name": "stdout",
     "output_type": "stream",
     "text": [
      "Magics-ERROR:\n"
     ]
    },
    {
     "data": {
      "image/png": "\n",
      "text/plain": [
       "<IPython.core.display.Image object>"
      ]
     },
     "metadata": {
      "image/png": {
       "width": 680
      }
     },
     "output_type": "display_data"
    }
   ],
   "source": [
    "cml.plot_map(data.dataset)"
   ]
  },
  {
   "cell_type": "code",
   "execution_count": 50,
   "metadata": {},
   "outputs": [],
   "source": [
    "data.dataset"
   ]
  },
  {
   "cell_type": "code",
   "execution_count": 51,
   "metadata": {},
   "outputs": [
    {
     "name": "stdout",
     "output_type": "stream",
     "text": [
      "Magics-ERROR: Errors reported:Factory (climetlab) not found - No plot produced\n"
     ]
    },
    {
     "data": {
      "image/png": "\n",
      "text/plain": [
       "<IPython.core.display.Image object>"
      ]
     },
     "metadata": {
      "image/png": {
       "width": 680
      }
     },
     "output_type": "display_data"
    },
    {
     "name": "stdout",
     "output_type": "stream",
     "text": [
      "Magics-ERROR:\n",
      "Magics-ERROR: Errors reported:Factory (climetlab) not found - No plot produced\n"
     ]
    },
    {
     "data": {
      "image/png": "\n",
      "text/plain": [
       "<IPython.core.display.Image object>"
      ]
     },
     "metadata": {
      "image/png": {
       "width": 680
      }
     },
     "output_type": "display_data"
    }
   ],
   "source": [
    "dataset = cml.load_dataset(\"example-dataset\")\n",
    "data = dataset[0]\n",
    "cml.plot_map(data)\n",
    "cml.plot_map(data, foreground=\"example-foreground\")\n"
   ]
  },
  {
   "cell_type": "code",
   "execution_count": 6,
   "metadata": {},
   "outputs": [
    {
     "ename": "ValueError",
     "evalue": "Cannot find a helper for class climetlab.datasets.ExampleDataset",
     "output_type": "error",
     "traceback": [
      "\u001b[0;31m---------------------------------------------------------------------------\u001b[0m",
      "\u001b[0;31mValueError\u001b[0m                                Traceback (most recent call last)",
      "\u001b[0;32m<ipython-input-6-00ebc1cb24fd>\u001b[0m in \u001b[0;36m<module>\u001b[0;34m\u001b[0m\n\u001b[0;32m----> 1\u001b[0;31m \u001b[0mcml\u001b[0m\u001b[0;34m.\u001b[0m\u001b[0mplot_map\u001b[0m\u001b[0;34m(\u001b[0m\u001b[0mdataset\u001b[0m\u001b[0;34m)\u001b[0m\u001b[0;34m\u001b[0m\u001b[0;34m\u001b[0m\u001b[0m\n\u001b[0m",
      "\u001b[0;32m/opt/anaconda3/lib/python3.8/site-packages/climetlab/plotting/__init__.py\u001b[0m in \u001b[0;36mplot_map\u001b[0;34m(data, **kwargs)\u001b[0m\n\u001b[1;32m    111\u001b[0m \u001b[0;34m\u001b[0m\u001b[0m\n\u001b[1;32m    112\u001b[0m     \u001b[0mp\u001b[0m \u001b[0;34m=\u001b[0m \u001b[0mnew_plot\u001b[0m\u001b[0;34m(\u001b[0m\u001b[0;34m**\u001b[0m\u001b[0mkwargs\u001b[0m\u001b[0;34m)\u001b[0m\u001b[0;34m\u001b[0m\u001b[0;34m\u001b[0m\u001b[0m\n\u001b[0;32m--> 113\u001b[0;31m     \u001b[0mp\u001b[0m\u001b[0;34m.\u001b[0m\u001b[0mplot_map\u001b[0m\u001b[0;34m(\u001b[0m\u001b[0mdata\u001b[0m\u001b[0;34m)\u001b[0m\u001b[0;34m\u001b[0m\u001b[0;34m\u001b[0m\u001b[0m\n\u001b[0m\u001b[1;32m    114\u001b[0m     \u001b[0mp\u001b[0m\u001b[0;34m.\u001b[0m\u001b[0mshow\u001b[0m\u001b[0;34m(\u001b[0m\u001b[0;34m)\u001b[0m\u001b[0;34m\u001b[0m\u001b[0;34m\u001b[0m\u001b[0m\n\u001b[1;32m    115\u001b[0m \u001b[0;34m\u001b[0m\u001b[0m\n",
      "\u001b[0;32m/opt/anaconda3/lib/python3.8/site-packages/climetlab/plotting/__init__.py\u001b[0m in \u001b[0;36mplot_map\u001b[0;34m(self, data, **kwargs)\u001b[0m\n\u001b[1;32m     71\u001b[0m         \u001b[0;32mfor\u001b[0m \u001b[0md\u001b[0m \u001b[0;32min\u001b[0m \u001b[0mdata\u001b[0m\u001b[0;34m:\u001b[0m\u001b[0;34m\u001b[0m\u001b[0;34m\u001b[0m\u001b[0m\n\u001b[1;32m     72\u001b[0m             \u001b[0;32mif\u001b[0m \u001b[0;32mnot\u001b[0m \u001b[0mhasattr\u001b[0m\u001b[0;34m(\u001b[0m\u001b[0md\u001b[0m\u001b[0;34m,\u001b[0m \u001b[0;34m\"plot_map\"\u001b[0m\u001b[0;34m)\u001b[0m\u001b[0;34m:\u001b[0m\u001b[0;34m\u001b[0m\u001b[0;34m\u001b[0m\u001b[0m\n\u001b[0;32m---> 73\u001b[0;31m                 \u001b[0md\u001b[0m \u001b[0;34m=\u001b[0m \u001b[0mhelper\u001b[0m\u001b[0;34m(\u001b[0m\u001b[0md\u001b[0m\u001b[0;34m)\u001b[0m\u001b[0;34m\u001b[0m\u001b[0;34m\u001b[0m\u001b[0m\n\u001b[0m\u001b[1;32m     74\u001b[0m \u001b[0;34m\u001b[0m\u001b[0m\n\u001b[1;32m     75\u001b[0m             \u001b[0md\u001b[0m\u001b[0;34m.\u001b[0m\u001b[0mplot_map\u001b[0m\u001b[0;34m(\u001b[0m\u001b[0mself\u001b[0m\u001b[0;34m.\u001b[0m\u001b[0mdriver\u001b[0m\u001b[0;34m)\u001b[0m\u001b[0;34m\u001b[0m\u001b[0;34m\u001b[0m\u001b[0m\n",
      "\u001b[0;32m/opt/anaconda3/lib/python3.8/site-packages/climetlab/helpers/__init__.py\u001b[0m in \u001b[0;36mhelper\u001b[0;34m(data, *args, **kwargs)\u001b[0m\n\u001b[1;32m     54\u001b[0m     \u001b[0mfullname\u001b[0m \u001b[0;34m=\u001b[0m \u001b[0;34m\".\"\u001b[0m\u001b[0;34m.\u001b[0m\u001b[0mjoin\u001b[0m\u001b[0;34m(\u001b[0m\u001b[0;34m[\u001b[0m\u001b[0mdata\u001b[0m\u001b[0;34m.\u001b[0m\u001b[0m__class__\u001b[0m\u001b[0;34m.\u001b[0m\u001b[0m__module__\u001b[0m\u001b[0;34m,\u001b[0m \u001b[0mdata\u001b[0m\u001b[0;34m.\u001b[0m\u001b[0m__class__\u001b[0m\u001b[0;34m.\u001b[0m\u001b[0m__qualname__\u001b[0m\u001b[0;34m]\u001b[0m\u001b[0;34m)\u001b[0m\u001b[0;34m\u001b[0m\u001b[0;34m\u001b[0m\u001b[0m\n\u001b[1;32m     55\u001b[0m \u001b[0;34m\u001b[0m\u001b[0m\n\u001b[0;32m---> 56\u001b[0;31m     \u001b[0;32mraise\u001b[0m \u001b[0mValueError\u001b[0m\u001b[0;34m(\u001b[0m\u001b[0;34mf\"Cannot find a helper for class {fullname}\"\u001b[0m\u001b[0;34m)\u001b[0m\u001b[0;34m\u001b[0m\u001b[0;34m\u001b[0m\u001b[0m\n\u001b[0m",
      "\u001b[0;31mValueError\u001b[0m: Cannot find a helper for class climetlab.datasets.ExampleDataset"
     ]
    }
   ],
   "source": [
    "cml.plot_map(dataset)"
   ]
  },
  {
   "cell_type": "code",
   "execution_count": null,
   "metadata": {},
   "outputs": [],
   "source": [
    "dataset[0]"
   ]
  },
  {
   "cell_type": "code",
   "execution_count": 7,
   "metadata": {},
   "outputs": [
    {
     "ename": "AttributeError",
     "evalue": "'GribField' object has no attribute 'read_csv_options'",
     "output_type": "error",
     "traceback": [
      "\u001b[0;31m---------------------------------------------------------------------------\u001b[0m",
      "\u001b[0;31mAttributeError\u001b[0m                            Traceback (most recent call last)",
      "\u001b[0;32m<ipython-input-7-f5ac7b83328f>\u001b[0m in \u001b[0;36m<module>\u001b[0;34m\u001b[0m\n\u001b[0;32m----> 1\u001b[0;31m \u001b[0mdata\u001b[0m\u001b[0;34m.\u001b[0m\u001b[0mread_csv_options\u001b[0m\u001b[0;34m(\u001b[0m\u001b[0;34m)\u001b[0m\u001b[0;34m\u001b[0m\u001b[0;34m\u001b[0m\u001b[0m\n\u001b[0m",
      "\u001b[0;31mAttributeError\u001b[0m: 'GribField' object has no attribute 'read_csv_options'"
     ]
    }
   ],
   "source": [
    "data.read_csv_options()"
   ]
  },
  {
   "cell_type": "code",
   "execution_count": null,
   "metadata": {},
   "outputs": [],
   "source": []
  },
  {
   "cell_type": "code",
   "execution_count": null,
   "metadata": {},
   "outputs": [],
   "source": []
  },
  {
   "cell_type": "code",
   "execution_count": null,
   "metadata": {},
   "outputs": [],
   "source": []
  },
  {
   "cell_type": "code",
   "execution_count": 9,
   "metadata": {},
   "outputs": [],
   "source": [
    "def request(rqdict):\n",
    "    t0 = time.time()\n",
    "\n",
    "    c = cdsapi.Client()\n",
    "    r = c.retrieve(\n",
    "        'insitu-comprehensive-upper-air-observation-network',rqdict)\n",
    "    if True:\n",
    "        r.download(target='download.zip')\n",
    "        assert os.stat('download.zip').st_size == r.content_length, \"Downloaded file is incomplete\"\n",
    "    z = zipfile.ZipFile('download.zip')\n",
    "    z.extractall(path='./test/')\n",
    "    z.close()\n",
    "    \n",
    "    files = glob.glob('./test/*.nc')\n",
    "    data = eua.CDMDataset(files[0])\n",
    "#     with eua.CDMDataset(files[0])  as f:\n",
    "#         data = f#.to_dataframe()\n",
    "#     data.to_dataframe()\n",
    "\n",
    "    \n",
    "    os.remove('download.zip')\n",
    "#     for i in files:\n",
    "#         os.remove(i)\n",
    "#     shutil.rmtree('./test4/')\n",
    "    \n",
    "    return data"
   ]
  },
  {
   "cell_type": "code",
   "execution_count": 11,
   "metadata": {},
   "outputs": [
    {
     "name": "stderr",
     "output_type": "stream",
     "text": [
      "2021-05-26 16:01:58,427 INFO Welcome to the CDS\n",
      "2021-05-26 16:01:58,428 INFO Sending request to https://sis-dev.climate.copernicus.eu/api/v2/resources/insitu-comprehensive-upper-air-observation-network\n",
      "2021-05-26 16:01:58,507 INFO Request is queued\n",
      "2021-05-26 16:01:59,542 INFO Request is running\n",
      "2021-05-26 16:02:01,078 INFO Request is completed\n",
      "2021-05-26 16:02:01,079 INFO Downloading http://136.156.132.176/cache-compute-0000/cache/data1/adaptor.comprehensive_upper_air.retrieve-1622037720.006299-17253-13-77718787-cd82-446a-b7db-5168f43f24e1.zip to download.zip (1.4M)\n",
      "2021-05-26 16:02:01,421 INFO Download rate 4.1M/s  \n",
      "2021-05-26 16:02:01,569 INFO Reading Profile on slice(None, None, None)\n"
     ]
    },
    {
     "data": {
      "text/html": [
       "<div>\n",
       "<style scoped>\n",
       "    .dataframe tbody tr th:only-of-type {\n",
       "        vertical-align: middle;\n",
       "    }\n",
       "\n",
       "    .dataframe tbody tr th {\n",
       "        vertical-align: top;\n",
       "    }\n",
       "\n",
       "    .dataframe thead th {\n",
       "        text-align: right;\n",
       "    }\n",
       "</style>\n",
       "<table border=\"1\" class=\"dataframe\">\n",
       "  <thead>\n",
       "    <tr style=\"text-align: right;\">\n",
       "      <th></th>\n",
       "      <th>lat</th>\n",
       "      <th>lon</th>\n",
       "      <th>plev</th>\n",
       "      <th>report_id</th>\n",
       "      <th>station_id</th>\n",
       "      <th>ta</th>\n",
       "      <th>time</th>\n",
       "      <th>trajectory_label</th>\n",
       "    </tr>\n",
       "  </thead>\n",
       "  <tbody>\n",
       "    <tr>\n",
       "      <th>0</th>\n",
       "      <td>48.25</td>\n",
       "      <td>16.370001</td>\n",
       "      <td>640.0</td>\n",
       "      <td>10000045408</td>\n",
       "      <td>WIEN/HOHE WARTE (11035-0)</td>\n",
       "      <td>224.500000</td>\n",
       "      <td>2010-01-01 00:00:00</td>\n",
       "      <td>nnnnnnnnnnnnnn</td>\n",
       "    </tr>\n",
       "    <tr>\n",
       "      <th>1</th>\n",
       "      <td>48.25</td>\n",
       "      <td>16.370001</td>\n",
       "      <td>700.0</td>\n",
       "      <td>10000045408</td>\n",
       "      <td>WIEN/HOHE WARTE (11035-0)</td>\n",
       "      <td>223.300003</td>\n",
       "      <td>2010-01-01 00:00:00</td>\n",
       "      <td>nnnnnnnnnnnnnn</td>\n",
       "    </tr>\n",
       "    <tr>\n",
       "      <th>2</th>\n",
       "      <td>48.25</td>\n",
       "      <td>16.370001</td>\n",
       "      <td>790.0</td>\n",
       "      <td>10000045408</td>\n",
       "      <td>WIEN/HOHE WARTE (11035-0)</td>\n",
       "      <td>224.500000</td>\n",
       "      <td>2010-01-01 00:00:00</td>\n",
       "      <td>nnnnnnnnnnnnnn</td>\n",
       "    </tr>\n",
       "    <tr>\n",
       "      <th>3</th>\n",
       "      <td>48.25</td>\n",
       "      <td>16.370001</td>\n",
       "      <td>880.0</td>\n",
       "      <td>10000045408</td>\n",
       "      <td>WIEN/HOHE WARTE (11035-0)</td>\n",
       "      <td>220.500000</td>\n",
       "      <td>2010-01-01 00:00:00</td>\n",
       "      <td>nnnnnnnnnnnnnn</td>\n",
       "    </tr>\n",
       "    <tr>\n",
       "      <th>4</th>\n",
       "      <td>48.25</td>\n",
       "      <td>16.370001</td>\n",
       "      <td>1000.0</td>\n",
       "      <td>10000045408</td>\n",
       "      <td>WIEN/HOHE WARTE (11035-0)</td>\n",
       "      <td>224.300003</td>\n",
       "      <td>2010-01-01 00:00:00</td>\n",
       "      <td>nnnnnnnnnnnnnn</td>\n",
       "    </tr>\n",
       "    <tr>\n",
       "      <th>...</th>\n",
       "      <td>...</td>\n",
       "      <td>...</td>\n",
       "      <td>...</td>\n",
       "      <td>...</td>\n",
       "      <td>...</td>\n",
       "      <td>...</td>\n",
       "      <td>...</td>\n",
       "      <td>...</td>\n",
       "    </tr>\n",
       "    <tr>\n",
       "      <th>224</th>\n",
       "      <td>48.25</td>\n",
       "      <td>16.370001</td>\n",
       "      <td>82700.0</td>\n",
       "      <td>10000045414</td>\n",
       "      <td>WIEN/HOHE WARTE (11035-0)</td>\n",
       "      <td>263.100006</td>\n",
       "      <td>2010-01-02 12:00:00</td>\n",
       "      <td>nnnnnnnnnnnnnn</td>\n",
       "    </tr>\n",
       "    <tr>\n",
       "      <th>225</th>\n",
       "      <td>48.25</td>\n",
       "      <td>16.370001</td>\n",
       "      <td>85000.0</td>\n",
       "      <td>10000045414</td>\n",
       "      <td>WIEN/HOHE WARTE (11035-0)</td>\n",
       "      <td>264.899994</td>\n",
       "      <td>2010-01-02 12:00:00</td>\n",
       "      <td>nnnnnnnnnnnnnn</td>\n",
       "    </tr>\n",
       "    <tr>\n",
       "      <th>226</th>\n",
       "      <td>48.25</td>\n",
       "      <td>16.370001</td>\n",
       "      <td>86500.0</td>\n",
       "      <td>10000045414</td>\n",
       "      <td>WIEN/HOHE WARTE (11035-0)</td>\n",
       "      <td>266.100006</td>\n",
       "      <td>2010-01-02 12:00:00</td>\n",
       "      <td>nnnnnnnnnnnnnn</td>\n",
       "    </tr>\n",
       "    <tr>\n",
       "      <th>227</th>\n",
       "      <td>48.25</td>\n",
       "      <td>16.370001</td>\n",
       "      <td>92500.0</td>\n",
       "      <td>10000045414</td>\n",
       "      <td>WIEN/HOHE WARTE (11035-0)</td>\n",
       "      <td>270.700012</td>\n",
       "      <td>2010-01-02 12:00:00</td>\n",
       "      <td>nnnnnnnnnnnnnn</td>\n",
       "    </tr>\n",
       "    <tr>\n",
       "      <th>228</th>\n",
       "      <td>48.25</td>\n",
       "      <td>16.370001</td>\n",
       "      <td>98100.0</td>\n",
       "      <td>10000045414</td>\n",
       "      <td>WIEN/HOHE WARTE (11035-0)</td>\n",
       "      <td>274.600006</td>\n",
       "      <td>2010-01-02 12:00:00</td>\n",
       "      <td>nnnnnnnnnnnnnn</td>\n",
       "    </tr>\n",
       "  </tbody>\n",
       "</table>\n",
       "<p>229 rows × 8 columns</p>\n",
       "</div>"
      ],
      "text/plain": [
       "       lat        lon     plev    report_id                 station_id  \\\n",
       "0    48.25  16.370001    640.0  10000045408  WIEN/HOHE WARTE (11035-0)   \n",
       "1    48.25  16.370001    700.0  10000045408  WIEN/HOHE WARTE (11035-0)   \n",
       "2    48.25  16.370001    790.0  10000045408  WIEN/HOHE WARTE (11035-0)   \n",
       "3    48.25  16.370001    880.0  10000045408  WIEN/HOHE WARTE (11035-0)   \n",
       "4    48.25  16.370001   1000.0  10000045408  WIEN/HOHE WARTE (11035-0)   \n",
       "..     ...        ...      ...          ...                        ...   \n",
       "224  48.25  16.370001  82700.0  10000045414  WIEN/HOHE WARTE (11035-0)   \n",
       "225  48.25  16.370001  85000.0  10000045414  WIEN/HOHE WARTE (11035-0)   \n",
       "226  48.25  16.370001  86500.0  10000045414  WIEN/HOHE WARTE (11035-0)   \n",
       "227  48.25  16.370001  92500.0  10000045414  WIEN/HOHE WARTE (11035-0)   \n",
       "228  48.25  16.370001  98100.0  10000045414  WIEN/HOHE WARTE (11035-0)   \n",
       "\n",
       "             ta                time trajectory_label  \n",
       "0    224.500000 2010-01-01 00:00:00   nnnnnnnnnnnnnn  \n",
       "1    223.300003 2010-01-01 00:00:00   nnnnnnnnnnnnnn  \n",
       "2    224.500000 2010-01-01 00:00:00   nnnnnnnnnnnnnn  \n",
       "3    220.500000 2010-01-01 00:00:00   nnnnnnnnnnnnnn  \n",
       "4    224.300003 2010-01-01 00:00:00   nnnnnnnnnnnnnn  \n",
       "..          ...                 ...              ...  \n",
       "224  263.100006 2010-01-02 12:00:00   nnnnnnnnnnnnnn  \n",
       "225  264.899994 2010-01-02 12:00:00   nnnnnnnnnnnnnn  \n",
       "226  266.100006 2010-01-02 12:00:00   nnnnnnnnnnnnnn  \n",
       "227  270.700012 2010-01-02 12:00:00   nnnnnnnnnnnnnn  \n",
       "228  274.600006 2010-01-02 12:00:00   nnnnnnnnnnnnnn  \n",
       "\n",
       "[229 rows x 8 columns]"
      ]
     },
     "execution_count": 11,
     "metadata": {},
     "output_type": "execute_result"
    }
   ],
   "source": [
    "data = request({\n",
    "    'variable': 'temperature',\n",
    "    'area': [60, 0, 40, 20],\n",
    "    'date': '20100101',\n",
    "        })\n",
    "data.to_dataframe()"
   ]
  },
  {
   "cell_type": "code",
   "execution_count": 19,
   "metadata": {},
   "outputs": [],
   "source": [
    "files = glob.glob('/home/srvx11/lehre/users/a1400070/CEUAS/CEUAS/public/testing/test/*')"
   ]
  },
  {
   "cell_type": "code",
   "execution_count": 21,
   "metadata": {},
   "outputs": [],
   "source": [
    "test = cml.load_source('file', files[0])"
   ]
  },
  {
   "cell_type": "code",
   "execution_count": 25,
   "metadata": {},
   "outputs": [],
   "source": [
    "ds = test.dataset"
   ]
  },
  {
   "cell_type": "code",
   "execution_count": 28,
   "metadata": {},
   "outputs": [
    {
     "name": "stdout",
     "output_type": "stream",
     "text": [
      "Magics-warning: The parameter output_file was not found.\n"
     ]
    },
    {
     "data": {
      "image/png": "\n",
      "text/plain": [
       "<IPython.core.display.Image object>"
      ]
     },
     "metadata": {
      "image/png": {
       "width": 680
      }
     },
     "output_type": "display_data"
    }
   ],
   "source": [
    "cml.plot_map(ds)"
   ]
  },
  {
   "cell_type": "code",
   "execution_count": null,
   "metadata": {},
   "outputs": [],
   "source": []
  }
 ],
 "metadata": {
  "kernelspec": {
   "display_name": "SSH a1400070@srvx8.img.univie.ac.at SRVX8",
   "language": "",
   "name": "rik_ssh_a1400070_srvx8_img_univie_ac_at_srvx8"
  },
  "language_info": {
   "codemirror_mode": {
    "name": "ipython",
    "version": 3
   },
   "file_extension": ".py",
   "mimetype": "text/x-python",
   "name": "python",
   "nbconvert_exporter": "python",
   "pygments_lexer": "ipython3",
   "version": "3.8.5"
  }
 },
 "nbformat": 4,
 "nbformat_minor": 4
}
