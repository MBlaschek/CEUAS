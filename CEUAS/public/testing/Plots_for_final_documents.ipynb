{
 "cells": [
  {
   "cell_type": "markdown",
   "metadata": {},
   "source": [
    "# Enhanced User interface"
   ]
  },
  {
   "cell_type": "code",
   "execution_count": 1,
   "metadata": {},
   "outputs": [
    {
     "name": "stdout",
     "output_type": "stream",
     "text": [
      "3.7.9 (default, Aug 31 2020, 12:42:55) \n",
      "[GCC 7.3.0]\n",
      "Populating the interactive namespace from numpy and matplotlib\n"
     ]
    }
   ],
   "source": [
    "import sys, os\n",
    "print(sys.version)\n",
    "import h5py\n",
    "%pylab inline"
   ]
  },
  {
   "cell_type": "code",
   "execution_count": 2,
   "metadata": {},
   "outputs": [],
   "source": [
    "# Plotting parameters\n",
    "plt.rcParams['figure.figsize'] = [12.0, 6.0]\n",
    "plt.rcParams['lines.linewidth'] = 2\n",
    "plt.rcParams['font.size'] = 15\n",
    "plt.style.use('seaborn-colorblind')\n",
    "yplevs = np.array([10,30,70,125,175,225,300,400,500,700,925])*100."
   ]
  },
  {
   "cell_type": "code",
   "execution_count": 3,
   "metadata": {},
   "outputs": [],
   "source": [
    "#\n",
    "# Make sure you have Python 3\n",
    "#\n",
    "from platform import python_version\n",
    "if python_version()[0] != '3':\n",
    "    print(\"Your Version:\", python_version())\n",
    "    raise RuntimeError(\"This Notebook requires Python 3\")"
   ]
  },
  {
   "cell_type": "code",
   "execution_count": 4,
   "metadata": {},
   "outputs": [],
   "source": [
    "sys.path.append(os.getcwd()+'/../cds-backend/code/')\n",
    "import cds_eua3 as eua"
   ]
  },
  {
   "cell_type": "markdown",
   "metadata": {},
   "source": [
    "## CDM Classes\n",
    "\n",
    "* CDMVariable      - Low Level Variable that allows access to the data\n",
    "* CDMGroup         - Just a wrapper from CDMVariable to accommodate Groups\n",
    "* CDMDataset       - Main Class with all CDM Functions\n",
    "* CDMDatasetList   - Dictionary with CDMDatasets "
   ]
  },
  {
   "cell_type": "markdown",
   "metadata": {},
   "source": [
    "### CDM Variable"
   ]
  },
  {
   "cell_type": "code",
   "execution_count": 5,
   "metadata": {},
   "outputs": [],
   "source": [
    "# CDM Variable Routines\n",
    "#print(\"\\n\".join(['CDMVariable.{:20} - {}'.format(i+'()', getattr(eua.CDMVariable,i).__doc__.split('\\n')[0]) for i in dir(eua.CDMVariable) if '__' not in i]))"
   ]
  },
  {
   "cell_type": "markdown",
   "metadata": {},
   "source": [
    "### CDM Dataset"
   ]
  },
  {
   "cell_type": "code",
   "execution_count": 6,
   "metadata": {},
   "outputs": [],
   "source": [
    "# CDM Dataset Routines\n",
    "#print(\"\\n\".join(['CDMDataset.{:30} - {}'.format(i+'()', getattr(eua.CDMDataset,i).__doc__.split('\\n')[0]) for i in dir(eua.CDMDataset) if '__' not in i]))"
   ]
  },
  {
   "cell_type": "markdown",
   "metadata": {},
   "source": [
    "### EUA Function"
   ]
  },
  {
   "cell_type": "code",
   "execution_count": 7,
   "metadata": {},
   "outputs": [
    {
     "name": "stdout",
     "output_type": "stream",
     "text": [
      "eua._count_data()                  -  Helper for align_datetime\n",
      "eua.align_datetime()               -  Align dates and times according to times (0,12) and within a time span (e.g. 3 hours).\n",
      "eua.andisin()                      -  numba version of numpy.in1d(x, v)\n",
      "eua.andisin_t()                    -  numba version of numpy.in1d, for times\n",
      "eua.calc_trajindexfast()           -  Calculate Trajectory Index \n",
      "eua.calc_trajindexfastl()          -  Calculate Trajectory Index \n",
      "eua.cdm_to_cds()                   -  CDM Name to CDS Name\n",
      "eua.cds_request_wrapper()          -  Run a CDS Request and return a CDMDataset or a CDMDatasetList if more variables are requested\n",
      "eua.cds_to_cdm()                   -  CDS Name to CDM Name\n",
      "eua.convert_datetime()             -  input date (str,int,...) to datetime64 or formatted string\n",
      "eua.copy_h5py_variable()           - Copy variable or group from one file to the other\n",
      "eua.datetime_to_seconds()          -  from datetime64 to seconds since 1900-01-01 00:00:00\n",
      "eua.do_cfcopy()                    -  Copy H5PY variables and apply subsetting (idx)\n",
      "eua.get_attributes()               -  Get attributes from CF Table for a code\n",
      "eua.is_sorted()                    -  check if an array is sorted\n",
      "eua.last_day_of_month()            -  last day of a month\n",
      "eua.level_interpolation()          -  Interpolate CDM variable per dimension (time, plev)\n",
      "eua.process_flat()                 -  Process a station file with the requested variables\n",
      "eua.read_standardnames()           -  Read the Climate and Forcast Convention data\n",
      "eua.reverse_index()                -  Find all idates and iplevs in dates and plevs\n",
      "eua.seconds_to_datetime()          -  from seconds to datetime64 \n",
      "eua.stack_cube_by_hour()           -  Stack hour as a new dimension\n",
      "eua.table_to_cube()                -  Convert a ragged variable (table) to a data cube\n",
      "eua.to_seconds_since()             -  return seconds since a Reference date applying time unit\n",
      "eua.to_standard_launch_time()      -  Convert datetime64 to standard launch times\n",
      "eua.tohourday()                    -  convert datetimes to hours, days and day_shift\n",
      "eua.totimes()                      -  Input time to Array\n",
      "eua.unstack_cube_by_hour()         -  Unstack hour to time dimension\n",
      "eua.vm_request_wrapper()           -  Run a VM Request and return a CDMDataset or a CDMDatasetList if more variables are requested\n"
     ]
    }
   ],
   "source": [
    "for i in dir(eua):\n",
    "    if '__' in i:\n",
    "        continue\n",
    "    if i in ['njit', 'datetime', 'timedelta', 'CDMDataset', 'CDMVariable', 'CDMGroup', 'CDMDatasetList']:\n",
    "        continue\n",
    "    try:\n",
    "        j = getattr(eua, i)\n",
    "        if hasattr(j, '__call__'):\n",
    "            print('eua.{:30} - {}'.format(i+'()', j.__doc__.split('\\n')[0]))\n",
    "    except:\n",
    "        pass"
   ]
  },
  {
   "cell_type": "markdown",
   "metadata": {},
   "source": [
    "# VM Requests\n",
    "\n",
    "This is a private Service only for UNIVIE.\n",
    "Allows testing of the HUG Server and working directly witht the files, without CDS buffering."
   ]
  },
  {
   "cell_type": "code",
   "execution_count": 8,
   "metadata": {},
   "outputs": [
    {
     "name": "stdout",
     "output_type": "stream",
     "text": [
      "CPU times: user 76 ms, sys: 50 ms, total: 126 ms\n",
      "Wall time: 2.75 s\n"
     ]
    }
   ],
   "source": [
    "# subsequent \"same\" requests are loaded from file, \n",
    "# unless overwrite=True then every request is send.\n",
    "\n",
    "%time data =  eua.vm_request_wrapper({'variable': 'temperature', 'statid': '11035','period':'19500101/20010101',\\\n",
    "                                      'pressure_level':'10000',\\\n",
    "                                      'optional':['bias_estimate','RISE_bias_estimate', 'RICH_bias_estimate', 'RASE_bias_estimate', 'RAOBCORE_bias_estimate']},\\\n",
    "                                     vm_url='http://early-upper-air.copernicus-climate.eu',overwrite=True)"
   ]
  },
  {
   "cell_type": "code",
   "execution_count": 9,
   "metadata": {},
   "outputs": [
    {
     "name": "stderr",
     "output_type": "stream",
     "text": [
      "VM Request failed {'variable': 'dew_point_depression', 'statid': '11035', 'period': '19500101/20010101', 'pressure_level': '10000', 'optional': ['obs_minus_bg']}\n"
     ]
    },
    {
     "ename": "RuntimeError",
     "evalue": "\n\n\n<!DOCTYPE HTML>\n<html>\n\n<head>\n    <meta charset=\"utf-8\">\n\n    <title>JupyterHub</title>\n    <meta http-equiv=\"X-UA-Compatible\" content=\"chrome=1\">\n    <meta name=\"viewport\" content=\"width=device-width, initial-scale=1.0\">\n\n    \n    <link rel=\"stylesheet\" href=\"/hub/static/css/style.min.css?v=5b22939e558d46158091228ed1e2bd6aada42e9812e50ed92121ef91c818cfa7db04cfdd630bba2d6603c9da16138426a71ad4a7d993dfd518874a478ac766b3\" type=\"text/css\"/>\n    \n    \n    <link rel=\"icon\" href=\"/hub/static/favicon.ico?v=248171df28b28a2a0deacc8a2988caf53889f7af51cab1c7406b569de5fff405408742bc2448f7c2e0ae98356996dba5adbf4237d17db3777edc3c730e4165d7\" type=\"image/x-icon\">\n    \n    \n    <script src=\"/hub/static/components/requirejs/require.js?v=bd1aa102bdb0b27fbf712b32cfcd29b016c272acf3d864ee8469376eaddd032cadcf827ff17c05a8c8e20061418fe58cf79947049f5c0dff3b4f73fcc8cad8ec\" type=\"text/javascript\" charset=\"utf-8\"></script>\n    <script src=\"/hub/static/components/jquery/dist/jquery.min.js?v=6cb4f4426f559c06190df97229c05a436820d21498350ac9f118a5625758435171418a022ed523bae46e668f9f8ea871feab6aff58ad2740b67a30f196d65516\" type=\"text/javascript\" charset=\"utf-8\"></script>\n    <script src=\"/hub/static/components/bootstrap/dist/js/bootstrap.min.js?v=a014e9acc78d10a0a7a9fbaa29deac6ef17398542d9574b77b40bf446155d210fa43384757e3837da41b025998ebfab4b9b6f094033f9c226392b800df068bce\" type=\"text/javascript\" charset=\"utf-8\"></script>\n    \n    <script>\n      require.config({\n          \n          urlArgs: \"v=20210216214859\",\n          \n          baseUrl: '/hub/static/js',\n          paths: {\n            components: '../components',\n            jquery: '../components/jquery/dist/jquery.min',\n            bootstrap: '../components/bootstrap/dist/js/bootstrap.min',\n            moment: \"../components/moment/moment\",\n          },\n          shim: {\n            bootstrap: {\n              deps: [\"jquery\"],\n              exports: \"bootstrap\"\n            },\n          }\n      });\n    </script>\n\n    <script type=\"text/javascript\">\n      window.jhdata = {\n        base_url: \"/hub/\",\n        prefix: \"/\",\n        \n        \n        admin_access: false,\n        \n        \n        options_form: false,\n        \n      }\n    </script>\n\n    \n    \n\n</head>\n\n<body>\n\n<noscript>\n  <div id='noscript'>\n    JupyterHub requires JavaScript.<br>\n    Please enable it to proceed.\n  </div>\n</noscript>\n\n\n  <nav class=\"navbar navbar-default\">\n    <div class=\"container-fluid\">\n      <div class=\"navbar-header\">\n        \n        <span id=\"jupyterhub-logo\" class=\"pull-left\">\n            <a href=\"/hub/\"><img src='/hub/logo' alt='JupyterHub' class='jpy-logo' title='Home'/></a>\n        </span>\n        \n        \n      </div>\n\n      <div class=\"collapse navbar-collapse\" id=\"thenavbar\">\n        \n        <ul class=\"nav navbar-nav navbar-right\">\n          \n            <li>\n              \n\n            </li>\n          \n        </ul>\n      </div>\n\n      \n      \n    </div>\n  </nav>\n\n\n\n\n\n\n\n\n\n\n<div class=\"error\">\n  \n  <h1>\n    405 : Method Not Allowed\n  </h1>\n  \n  \n  \n  \n  \n  \n</div>\n\n\n\n\n\n\n\n\n\n<div class=\"modal fade\" id=\"error-dialog\" tabindex=\"-1\" role=\"dialog\" aria-labelledby=\"error-label\" aria-hidden=\"true\">\n  <div class=\"modal-dialog\">\n    <div class=\"modal-content\">\n      <div class=\"modal-header\">\n        <button type=\"button\" class=\"close\" data-dismiss=\"modal\"><span aria-hidden=\"true\">&times;</span><span class=\"sr-only\">Close</span></button>\n        <h4 class=\"modal-title\" id=\"error-label\">Error</h4>\n      </div>\n      <div class=\"modal-body\">\n        \n  <div class=\"ajax-error\">\n    The error\n  </div>\n\n      </div>\n      <div class=\"modal-footer\">\n        <button type=\"button\" class=\"btn btn-default\" data-dismiss=\"modal\">Cancel</button>\n        <button type=\"button\" class=\"btn btn-primary\" data-dismiss=\"modal\" data-dismiss=\"modal\">OK</button>\n      </div>\n    </div>\n  </div>\n</div>\n\n\n\n  \n\n\n  <script type=\"text/javascript\">\n    function _remove_redirects_from_url() {\n      if (window.location.search.length <= 1) {\n        return;\n      }\n      var search_parameters = window.location.search.slice(1).split('&');\n      for (var i = 0; i < search_parameters.length; i++) {\n        if (search_parameters[i].split('=')[0] === 'redirects') {\n          // remote redirects from search parameters\n          search_parameters.splice(i, 1);\n          var new_search = '';\n          if (search_parameters.length) {\n            new_search = '?' + search_parameters.join('&');\n          }\n          var new_url = window.location.origin +\n                        window.location.pathname +\n                        new_search +\n                        window.location.hash;\n          window.history.replaceState({}, \"\", new_url);\n          return;\n        }\n      }\n    }\n\n    _remove_redirects_from_url();\n  </script>\n\n\n</body>\n\n</html>",
     "output_type": "error",
     "traceback": [
      "\u001b[0;31m---------------------------------------------------------------------------\u001b[0m",
      "\u001b[0;31mRuntimeError\u001b[0m                              Traceback (most recent call last)",
      "\u001b[0;32m<timed exec>\u001b[0m in \u001b[0;36m<module>\u001b[0;34m\u001b[0m\n",
      "\u001b[0;32m/raid/home/srvx7/lehre/users/a1400070/CEUAS/CEUAS/public/testing/../cds-backend/code/cds_eua3.py\u001b[0m in \u001b[0;36mvm_request_wrapper\u001b[0;34m(request, request_filename, vm_url, overwrite)\u001b[0m\n\u001b[1;32m   1775\u001b[0m     \u001b[0;32mexcept\u001b[0m \u001b[0mException\u001b[0m \u001b[0;32mas\u001b[0m \u001b[0me\u001b[0m\u001b[0;34m:\u001b[0m\u001b[0;34m\u001b[0m\u001b[0;34m\u001b[0m\u001b[0m\n\u001b[1;32m   1776\u001b[0m         \u001b[0mlogger\u001b[0m\u001b[0;34m.\u001b[0m\u001b[0merror\u001b[0m\u001b[0;34m(\u001b[0m\u001b[0;34m'VM Request failed %s'\u001b[0m\u001b[0;34m,\u001b[0m \u001b[0mstr\u001b[0m\u001b[0;34m(\u001b[0m\u001b[0mrequest\u001b[0m\u001b[0;34m)\u001b[0m\u001b[0;34m)\u001b[0m\u001b[0;34m\u001b[0m\u001b[0;34m\u001b[0m\u001b[0m\n\u001b[0;32m-> 1777\u001b[0;31m         \u001b[0;32mraise\u001b[0m \u001b[0me\u001b[0m\u001b[0;34m\u001b[0m\u001b[0;34m\u001b[0m\u001b[0m\n\u001b[0m\u001b[1;32m   1778\u001b[0m \u001b[0;34m\u001b[0m\u001b[0m\n\u001b[1;32m   1779\u001b[0m \u001b[0;34m\u001b[0m\u001b[0m\n",
      "\u001b[0;32m/raid/home/srvx7/lehre/users/a1400070/CEUAS/CEUAS/public/testing/../cds-backend/code/cds_eua3.py\u001b[0m in \u001b[0;36mvm_request_wrapper\u001b[0;34m(request, request_filename, vm_url, overwrite)\u001b[0m\n\u001b[1;32m   1750\u001b[0m \u001b[0;34m\u001b[0m\u001b[0m\n\u001b[1;32m   1751\u001b[0m             \u001b[0;32mif\u001b[0m \u001b[0mr\u001b[0m\u001b[0;34m.\u001b[0m\u001b[0mstatus_code\u001b[0m \u001b[0;34m!=\u001b[0m \u001b[0mrequests\u001b[0m\u001b[0;34m.\u001b[0m\u001b[0mcodes\u001b[0m\u001b[0;34m.\u001b[0m\u001b[0mok\u001b[0m\u001b[0;34m:\u001b[0m\u001b[0;34m\u001b[0m\u001b[0;34m\u001b[0m\u001b[0m\n\u001b[0;32m-> 1752\u001b[0;31m                 \u001b[0;32mraise\u001b[0m \u001b[0mRuntimeError\u001b[0m\u001b[0;34m(\u001b[0m\u001b[0mr\u001b[0m\u001b[0;34m.\u001b[0m\u001b[0mtext\u001b[0m\u001b[0;34m)\u001b[0m\u001b[0;34m\u001b[0m\u001b[0;34m\u001b[0m\u001b[0m\n\u001b[0m\u001b[1;32m   1753\u001b[0m \u001b[0;34m\u001b[0m\u001b[0m\n\u001b[1;32m   1754\u001b[0m             \u001b[0;32mwith\u001b[0m \u001b[0mopen\u001b[0m\u001b[0;34m(\u001b[0m\u001b[0mrequest_filename\u001b[0m\u001b[0;34m,\u001b[0m \u001b[0;34m'wb'\u001b[0m\u001b[0;34m)\u001b[0m \u001b[0;32mas\u001b[0m \u001b[0mf\u001b[0m\u001b[0;34m:\u001b[0m\u001b[0;34m\u001b[0m\u001b[0;34m\u001b[0m\u001b[0m\n",
      "\u001b[0;31mRuntimeError\u001b[0m: \n\n\n<!DOCTYPE HTML>\n<html>\n\n<head>\n    <meta charset=\"utf-8\">\n\n    <title>JupyterHub</title>\n    <meta http-equiv=\"X-UA-Compatible\" content=\"chrome=1\">\n    <meta name=\"viewport\" content=\"width=device-width, initial-scale=1.0\">\n\n    \n    <link rel=\"stylesheet\" href=\"/hub/static/css/style.min.css?v=5b22939e558d46158091228ed1e2bd6aada42e9812e50ed92121ef91c818cfa7db04cfdd630bba2d6603c9da16138426a71ad4a7d993dfd518874a478ac766b3\" type=\"text/css\"/>\n    \n    \n    <link rel=\"icon\" href=\"/hub/static/favicon.ico?v=248171df28b28a2a0deacc8a2988caf53889f7af51cab1c7406b569de5fff405408742bc2448f7c2e0ae98356996dba5adbf4237d17db3777edc3c730e4165d7\" type=\"image/x-icon\">\n    \n    \n    <script src=\"/hub/static/components/requirejs/require.js?v=bd1aa102bdb0b27fbf712b32cfcd29b016c272acf3d864ee8469376eaddd032cadcf827ff17c05a8c8e20061418fe58cf79947049f5c0dff3b4f73fcc8cad8ec\" type=\"text/javascript\" charset=\"utf-8\"></script>\n    <script src=\"/hub/static/components/jquery/dist/jquery.min.js?v=6cb4f4426f559c06190df97229c05a436820d21498350ac9f118a5625758435171418a022ed523bae46e668f9f8ea871feab6aff58ad2740b67a30f196d65516\" type=\"text/javascript\" charset=\"utf-8\"></script>\n    <script src=\"/hub/static/components/bootstrap/dist/js/bootstrap.min.js?v=a014e9acc78d10a0a7a9fbaa29deac6ef17398542d9574b77b40bf446155d210fa43384757e3837da41b025998ebfab4b9b6f094033f9c226392b800df068bce\" type=\"text/javascript\" charset=\"utf-8\"></script>\n    \n    <script>\n      require.config({\n          \n          urlArgs: \"v=20210216214859\",\n          \n          baseUrl: '/hub/static/js',\n          paths: {\n            components: '../components',\n            jquery: '../components/jquery/dist/jquery.min',\n            bootstrap: '../components/bootstrap/dist/js/bootstrap.min',\n            moment: \"../components/moment/moment\",\n          },\n          shim: {\n            bootstrap: {\n              deps: [\"jquery\"],\n              exports: \"bootstrap\"\n            },\n          }\n      });\n    </script>\n\n    <script type=\"text/javascript\">\n      window.jhdata = {\n        base_url: \"/hub/\",\n        prefix: \"/\",\n        \n        \n        admin_access: false,\n        \n        \n        options_form: false,\n        \n      }\n    </script>\n\n    \n    \n\n</head>\n\n<body>\n\n<noscript>\n  <div id='noscript'>\n    JupyterHub requires JavaScript.<br>\n    Please enable it to proceed.\n  </div>\n</noscript>\n\n\n  <nav class=\"navbar navbar-default\">\n    <div class=\"container-fluid\">\n      <div class=\"navbar-header\">\n        \n        <span id=\"jupyterhub-logo\" class=\"pull-left\">\n            <a href=\"/hub/\"><img src='/hub/logo' alt='JupyterHub' class='jpy-logo' title='Home'/></a>\n        </span>\n        \n        \n      </div>\n\n      <div class=\"collapse navbar-collapse\" id=\"thenavbar\">\n        \n        <ul class=\"nav navbar-nav navbar-right\">\n          \n            <li>\n              \n\n            </li>\n          \n        </ul>\n      </div>\n\n      \n      \n    </div>\n  </nav>\n\n\n\n\n\n\n\n\n\n\n<div class=\"error\">\n  \n  <h1>\n    405 : Method Not Allowed\n  </h1>\n  \n  \n  \n  \n  \n  \n</div>\n\n\n\n\n\n\n\n\n\n<div class=\"modal fade\" id=\"error-dialog\" tabindex=\"-1\" role=\"dialog\" aria-labelledby=\"error-label\" aria-hidden=\"true\">\n  <div class=\"modal-dialog\">\n    <div class=\"modal-content\">\n      <div class=\"modal-header\">\n        <button type=\"button\" class=\"close\" data-dismiss=\"modal\"><span aria-hidden=\"true\">&times;</span><span class=\"sr-only\">Close</span></button>\n        <h4 class=\"modal-title\" id=\"error-label\">Error</h4>\n      </div>\n      <div class=\"modal-body\">\n        \n  <div class=\"ajax-error\">\n    The error\n  </div>\n\n      </div>\n      <div class=\"modal-footer\">\n        <button type=\"button\" class=\"btn btn-default\" data-dismiss=\"modal\">Cancel</button>\n        <button type=\"button\" class=\"btn btn-primary\" data-dismiss=\"modal\" data-dismiss=\"modal\">OK</button>\n      </div>\n    </div>\n  </div>\n</div>\n\n\n\n  \n\n\n  <script type=\"text/javascript\">\n    function _remove_redirects_from_url() {\n      if (window.location.search.length <= 1) {\n        return;\n      }\n      var search_parameters = window.location.search.slice(1).split('&');\n      for (var i = 0; i < search_parameters.length; i++) {\n        if (search_parameters[i].split('=')[0] === 'redirects') {\n          // remote redirects from search parameters\n          search_parameters.splice(i, 1);\n          var new_search = '';\n          if (search_parameters.length) {\n            new_search = '?' + search_parameters.join('&');\n          }\n          var new_url = window.location.origin +\n                        window.location.pathname +\n                        new_search +\n                        window.location.hash;\n          window.history.replaceState({}, \"\", new_url);\n          return;\n        }\n      }\n    }\n\n    _remove_redirects_from_url();\n  </script>\n\n\n</body>\n\n</html>"
     ]
    }
   ],
   "source": [
    "# subsequent \"same\" requests are loaded from file, \n",
    "# unless overwrite=True then every request is send.\n",
    "\n",
    "%time data =  eua.vm_request_wrapper({'variable': 'dew_point_depression', 'statid': '11035','period':'19500101/20010101',\\\n",
    "                                      'pressure_level':'10000',\\\n",
    "                                      'optional':['obs_minus_bg']},\\\n",
    "                                     vm_url='http://localhost:8000/',overwrite=True)"
   ]
  },
  {
   "cell_type": "code",
   "execution_count": 10,
   "metadata": {},
   "outputs": [],
   "source": [
    "# display(data)\n",
    "# plot(data.time[:]/86400/365.25,data.dew_point_depression[:])\n"
   ]
  },
  {
   "cell_type": "code",
   "execution_count": 11,
   "metadata": {},
   "outputs": [],
   "source": [
    "# data.close()"
   ]
  },
  {
   "cell_type": "code",
   "execution_count": 12,
   "metadata": {},
   "outputs": [],
   "source": [
    "# with h5py.File('./dest_0-20001-0-11035_air_temperature.nc') as f:\n",
    "#     print(f.keys())\n",
    "#     mask=f['time'][:]%86400>21600\n",
    "#     mask=mask*(f['time'][:]%86400<64800)\n",
    "# #    plot(f['time'][mask]/365.25/86400+1900,f['RAOBCORE_bias_estimate'][mask],label='RAOBCORE_1.8')\n",
    "# #    plot(f['time'][mask]/365.25/86400+1900,f['RICH_bias_estimate'][mask],label='RICH_1.8')\n",
    "# #    plot(f['time'][mask]/365.25/86400+1900,f['RASE_bias_estimate'][mask],label='RASE_1.8')\n",
    "# #    plot(f['time'][mask]/365.25/86400+1900,f['RISE_bias_estimate'][mask],label='RISE_1.8')\n",
    "#     plot(f['time'][mask]/365.25/86400+1900,f['bias_estimate'][mask],label='ERA5')\n",
    "#     ylabel('K')\n",
    "#     title('Temperature bias estimates at station 11035, 12GMT')\n",
    "#     legend()"
   ]
  },
  {
   "cell_type": "code",
   "execution_count": 13,
   "metadata": {},
   "outputs": [],
   "source": [
    "# # subsequent \"same\" requests are loaded from file, \n",
    "# # unless overwrite=True then every request is send.\n",
    "\n",
    "# %time data =  eua.vm_request_wrapper({'variable': ['wind_direction','u_component_of_wind','v_component_of_wind'], 'statid': '35229','period':'19500101/20010101',\\\n",
    "#                                       'pressure_level': 30000,\\\n",
    "#                                     'optional':['obs_minus_bg','wind_bias_estimate']},\\\n",
    "#                                      vm_url='http://localhost:8002',overwrite=True)\n",
    "# import os\n",
    "# os.getcwd()\n"
   ]
  },
  {
   "cell_type": "code",
   "execution_count": 14,
   "metadata": {},
   "outputs": [],
   "source": [
    "def rmeanw(t,runmean):\n",
    "    tmean=t.copy()\n",
    "    index=numpy.zeros(tmean.shape[0],dtype='int')\n",
    "    \n",
    "    tret=rmean(t,tmean,index,runmean)\n",
    "    tret[:runmean]=numpy.nan\n",
    "    tret[-runmean:]=numpy.nan\n",
    "    return tret\n",
    "\n",
    "#@njit(cache=True)\n",
    "def rmean(t,tmean,index,runmean):\n",
    "\n",
    "    tret=numpy.zeros(t.shape[0])\n",
    "    ni=t.shape[0]\n",
    "    good=runmean-runmean\n",
    "    if runmean<2:\n",
    "        for i in range(ni):\n",
    "            tret[i]=t[i]\n",
    "    else:\n",
    "\n",
    "        for j in range(ni):\n",
    "            tret[j]=numpy.nan\n",
    "            if t[j]==t[j]:\n",
    "                index[good]=j\n",
    "                good+=1\n",
    "\n",
    "        if good>runmean+2:\n",
    "            i=runmean//2\n",
    "            tmean[:]=numpy.nan\n",
    "            if runmean%2==1:\n",
    "                tmean[i]=0.\n",
    "                for k in range(-runmean//2+1,runmean//2+1):\n",
    "                    tmean[i]+=t[index[i+k]]\n",
    "                tmean[i]/=runmean\n",
    "\n",
    "                for i in range(runmean//2+1,good-runmean//2):\n",
    "                    tmean[i]=(tmean[i-1]*runmean+t[index[i+runmean//2]])/(runmean+1)\n",
    "\n",
    "            else:\n",
    "\n",
    "                i=runmean//2\n",
    "                tmean[i]=0.\n",
    "                for k in range(-runmean//2,runmean//2):\n",
    "                    tmean[i]+=t[index[i+k]]\n",
    "                tmean[i]/=runmean\n",
    "\n",
    "                for i in range(runmean//2+1,good-runmean//2-1):\n",
    "                    tmean[i]=(tmean[i-1]*runmean+t[index[i+runmean//2-1]])/(runmean+1)\n",
    "\n",
    "            for i in range(good):\n",
    "                tret[index[i]]=tmean[i]\n",
    "        else:\n",
    "            for i in range(good):\n",
    "                tret[index[i]]=t[index[i]]\n",
    "\n",
    "    return tret"
   ]
  },
  {
   "cell_type": "code",
   "execution_count": 15,
   "metadata": {
    "scrolled": true
   },
   "outputs": [],
   "source": [
    "# with h5py.File(\"dest_0-20000-0-35229_northward_wind.nc\",\"r\") as f:\n",
    "#     print(f.keys())\n",
    "#     o=f['obs_minus_bg'][:]\n",
    "#     idx=np.where(abs(o)<50)\n",
    "#     figure(figsize=(10,4))\n",
    "#     plot(f['time'][:][idx]/86400/365.25+1900,rmeanw(o[idx],30),label='before adjustment, std={:4.2f}'.format(std(o[idx])))\n",
    "#     obc=o-f['wind_bias_estimate'][:]\n",
    "#     plot(f['time'][:][idx]/86400/365.25+1900,rmeanw(obc[idx],30),label='after adjustment, std={:4.2f}'.format(std(obc[idx])))\n",
    "#     title('Northward wind departures, station 35229, 200hPa')\n",
    "#     ylabel('m/s')\n",
    "#     ylim([-10,20])\n",
    "#     legend()"
   ]
  },
  {
   "cell_type": "code",
   "execution_count": 16,
   "metadata": {},
   "outputs": [],
   "source": [
    "# print(arccos(-0.5)*180./pi)\n",
    "# with h5py.File(\"dest_0-20000-0-35229_eastward_wind.nc\",\"r\") as h:\n",
    "#     with h5py.File(\"dest_0-20000-0-35229_northward_wind.nc\",\"r\") as g:\n",
    "#         with h5py.File(\"dest_0-20000-0-35229_wind_from_direction.nc\",\"r\") as f:\n",
    "#             bgu=h['ua'][:]-h['obs_minus_bg'][:]\n",
    "#             bgv=g['va'][:]-g['obs_minus_bg'][:]\n",
    "#             u=h['ua'][:]\n",
    "#             v=g['va'][:]\n",
    "#             fangle=(arctan2(v,u)-arctan2(bgv,bgu))*180/pi #arccos((u*bgu+v*bgv)/sqrt(u*u+v*v)/sqrt(bgu*bgu+bgv*bgv))*180./pi\n",
    "#             fangle[fangle>180]-=360\n",
    "#             fangle[fangle<-180]+=360\n",
    "#             print(fangle[isfinite(fangle)][:])\n",
    "#             #print(size(~isnan(fangle)))\n",
    "#             figure(figsize=(10,4))\n",
    "#             plot(f['time'][:]/86400/365.25+1900,rmeanw(fangle,30),label='angle difference')\n",
    "#             plot(f['time'][:]/86400/365.25+1900,f['wind_bias_estimate'][:],label='bias estimate')\n",
    "#             title('Wind direction bias estimate, station 35229')\n",
    "#             legend()\n",
    "#             ylabel('deg')\n",
    "#             ylim(-20,40)"
   ]
  },
  {
   "cell_type": "code",
   "execution_count": 17,
   "metadata": {},
   "outputs": [],
   "source": [
    "# # subsequent \"same\" requests are loaded from file, \n",
    "# # unless overwrite=True then every request is send.\n",
    "\n",
    "# %time data =  eua.vm_request_wrapper({'variable': 'wind_speed', 'statid': '06610','period':'19500101/20010101',\\\n",
    "#                                       'pressure_level':'20000',\\\n",
    "#                                       'optional':['obs_minus_bg']},\\\n",
    "#                                      vm_url='http://localhost:8002',overwrite=True)"
   ]
  },
  {
   "cell_type": "code",
   "execution_count": 18,
   "metadata": {},
   "outputs": [],
   "source": [
    "# data\n",
    "# import glob\n",
    "# print(glob.glob('*speed*.nc'))\n",
    "# with h5py.File(\"dest_0-20000-0-06610_wind_speed.nc\",\"r\") as f:\n",
    "#     print(f.keys())\n",
    "#     o=f['obs_minus_bg'][:]\n",
    "#     idx=np.where(abs(o)<50)[0]\n",
    "#     p=f['plev'][:]\n",
    "#     idy=np.where(p[idx]==20000)[0]\n",
    "#     idx=idx[idy]\n",
    "#     figure(figsize=(10,4))\n",
    "#     plot(f['time'][:][idx]/86400/365.25+1900,rmeanw(o[idx],30),label='speed departure, std={:4.2f}'.format(nanstd(o[idx])))\n",
    "#     dp=f['wind_speed'][:]\n",
    "#     plot(f['time'][:][idx]/86400/365.25+1900,rmeanw(dp[idx],30),label='speed, std={:4.2f}'.format(nanstd(dp[idx])))\n",
    "#     title('Wind speed departures, station 06610, 200hPa')\n",
    "#     ylabel('m/sec')\n",
    "#     ylim([-10,50])\n",
    "#     legend()"
   ]
  },
  {
   "cell_type": "code",
   "execution_count": 19,
   "metadata": {},
   "outputs": [],
   "source": [
    "# %time data =  eua.vm_request_wrapper({'variable': 'dew_point_temperature', 'statid': '06610','period':'19500101/20010101',\\\n",
    "#                                       'pressure_level':'85000',\\\n",
    "#                                       'optional':['obs_minus_bg']},\\\n",
    "#                                      vm_url='http://localhost:8002',overwrite=True)\n",
    "# import glob\n",
    "# print(glob.glob('*dew*.nc'))\n",
    "# with h5py.File(\"dest_0-20000-0-06610_dew_point_temperature.nc\",\"r\") as f:\n",
    "#     print(f.keys())\n",
    "#     o=f['obs_minus_bg'][:]\n",
    "#     idx=np.where(abs(o)<50)[0]\n",
    "#     p=f['plev'][:]\n",
    "#     idy=np.where(p[idx]==85000)[0]\n",
    "#     idx=idx[idy]\n",
    "#     figure(figsize=(10,4))\n",
    "#     plot(f['time'][:][idx]/86400/365.25+1900,rmeanw(o[idx],30),label='before adjustment, std={:4.2f}'.format(nanstd(o[idx])))\n",
    "#     dp=f['dew_point_temperature'][:]\n",
    "#     #plot(f['time'][:][idx]/86400/365.25+1900,rmeanw(dp[idx],30),label='after adjustment, std={:4.2f}'.format(nanstd(dp[idx])))\n",
    "#     title('Dewpoint departures, station 06610, 850hPa')\n",
    "#     ylabel('K')\n",
    "#     ylim([-10,10])\n",
    "#     legend()"
   ]
  },
  {
   "cell_type": "code",
   "execution_count": 20,
   "metadata": {},
   "outputs": [],
   "source": [
    "# # subsequent \"same\" requests are loaded from file, \n",
    "# # unless overwrite=True then every request is send.\n",
    "# #data.close()\n",
    "# #%time data =  eua.vm_request_wrapper({'variable': 'wind_direction', 'statid': '07257','period':'19201204/19400101'},\\\n",
    "# #                                     vm_url='http://localhost:8002',overwrite=True)\n",
    "# data=eua.vm_request_wrapper({'variable': 'wind_direction', 'statid': '0-20000-0-06610','date':'19831018',\\\n",
    "#                              'cdm':['observations_table/z_coordinate_type','sensor_configuration/sensor_id','sensor_configuration/comments']}, overwrite=True, \\\n",
    "#                             vm_url='http://localhost:8002')#.to_dataframe()\n",
    "\n",
    "# print(data.sensor_configuration.sensor_id[:5].view('S{}'.format(data.sensor_configuration.sensor_id.shape[1])))\n",
    "# for i in range(-10,0):#zip(data.sensor_configuration.sensor_id[:],data.sensor_configuration.comments[:]):\n",
    "#     print(data.sensor_configuration.sensor_id[i].view('S21')[0].decode(),data.sensor_configuration.comments[i].view('S193')[0].decode())\n",
    "# #print(data)\n",
    "# #print(data.shape)\n",
    "# #print(data)\n",
    "# data.plev[:]/9.80665\n",
    "# dates=[]\n",
    "# from datetime import datetime, timedelta\n",
    "# for i in range(len(data.time[:5])):\n",
    "#     dates.append(datetime(1900,1,1)+timedelta(seconds=int(data.time[i])))\n",
    "#     print(dates[-1].strftime('%Y%m%d%H%M%S'),data.plev[i]/9.80665,data.wind_from_direction[i])"
   ]
  },
  {
   "cell_type": "code",
   "execution_count": 21,
   "metadata": {},
   "outputs": [],
   "source": [
    "import glob"
   ]
  },
  {
   "cell_type": "code",
   "execution_count": 22,
   "metadata": {},
   "outputs": [
    {
     "data": {
      "text/plain": [
       "File: <HDF5 file \"dest_0-20000-0-70219_air_temperature.nc\" (mode r)>\n",
       "Permissions: RW (mblaschek)\n",
       "Filesize: 2.92 MB\n",
       "Filename: ./dest_0-20000-0-70219_air_temperature.nc\n",
       "(G)roups/(V)ariables: \n",
       "\n",
       " - V | RAOBCORE_bias_estimate_______________________ : : (48730,)\n",
       " - V | RASE_bias_estimate___________________________ : : (48730,)\n",
       " - V | RICH_bias_estimate___________________________ : : (48730,)\n",
       " - V | RISE_bias_estimate___________________________ : : (48730,)\n",
       " - V | bias_estimate________________________________ : : (48730,)\n",
       " - V | lat__________________________________________ : : (48730,)\n",
       " - V | lon__________________________________________ : : (48730,)\n",
       " - V | obs__________________________________________ : : (48730,)\n",
       " - V | obs_minus_bg_________________________________ : : (48730,)\n",
       " - V | plev_________________________________________ : : (48730,)\n",
       " - V | report_id____________________________________ : : (48730, 11)\n",
       " - V | station_id___________________________________ : : (48730, 25)\n",
       " - V | string11_____________________________________ : : (11,)\n",
       " - V | string25_____________________________________ : : (25,)\n",
       " - V | ta___________________________________________ : : (48730,)\n",
       " - V | time_________________________________________ : : (48730,)\n",
       " - V | trajectory___________________________________ : : (48730,)\n",
       " - V | trajectory_index_____________________________ : : (48730,)\n",
       " - V | trajectory_label_____________________________ : : (48730, 11)"
      ]
     },
     "metadata": {},
     "output_type": "display_data"
    },
    {
     "data": {
      "text/plain": [
       "<matplotlib.legend.Legend at 0x7fc222610b50>"
      ]
     },
     "execution_count": 22,
     "metadata": {},
     "output_type": "execute_result"
    },
    {
     "data": {
      "image/png": "[encoded data removed]",
      "text/plain": [
       "<Figure size 864x432 with 1 Axes>"
      ]
     },
     "metadata": {
      "needs_background": "light"
     },
     "output_type": "display_data"
    }
   ],
   "source": [
    "# statid='0-20000-0-04018'\n",
    "# statid='0-20001-0-10393'\n",
    "statid='0-20000-0-70219'\n",
    "plev=10000\n",
    "data=eua.vm_request_wrapper({'variable': 'temperature', 'statid': statid, 'optional':['obs_minus_bg','bias_estimate', 'RISE_bias_estimate','RICH_bias_estimate','RAOBCORE_bias_estimate','RASE_bias_estimate'],'pressure_level':plev}, overwrite=True, vm_url='http://srvx8.img.univie.ac.at:8000')#.to_dataframe()\n",
    "# data = eua.CDMDataset(glob.glob('../adjust/tempadjtest/*70219*')[0])\n",
    "# data = data.to_dataframe(groups=['advanced_homogenisation','observations_table'], \n",
    "#                          variables = ['RISE_bias_estimate', 'RAOBCORE_bias_estimate', 'date_time', 'z_coordinate'])\n",
    "display(data)\n",
    "iq=quantile(data.obs_minus_bg[:],(0.25,0.75))\n",
    "iqr=iq[:]\n",
    "iqr[0]=iq[0]-1.5*(iq[1]-iq[0])\n",
    "iqr[1]=iq[1]+1.5*(iq[1]-iq[0])\n",
    "qmask=logical_and(data.obs_minus_bg[:]>iqr[0],data.obs_minus_bg[:]<iqr[1])\n",
    "daymask=logical_and(data.time[:]%86400 >21600,data.time[:]%86400 <64800)\n",
    "nightmask=~daymask\n",
    "daymask=daymask*qmask\n",
    "nightmask=nightmask*qmask\n",
    "plot(1900+data.time[daymask]/86400/365.25,rmeanw(data.obs_minus_bg[daymask]+data.bias_estimate[daymask],30),\\\n",
    "     label='12GMT {:4.2f}'.format(nanstd(rmeanw(data.obs_minus_bg[daymask]+data.bias_estimate[daymask],30))))\n",
    "#plot(1900+data.time[daymask]/86400/365.25,rmeanw(data.ta[daymask],30),label='12GMT')\n",
    "plot(1900+data.time[nightmask]/86400/365.25,rmeanw(data.obs_minus_bg[nightmask]+data.bias_estimate[nightmask],30),\\\n",
    "     label='00GMT  {:4.2f}'.format(nanstd(rmeanw(data.obs_minus_bg[nightmask]+data.bias_estimate[nightmask],30))))\n",
    "#plot([1950,1950],[-2,250],'k')\n",
    "#plot(1900+data.time[nightmask]/86400/365.25,data.bias_estimate[nightmask],label='00GMT')\n",
    "title(statid+' '+str(plev//100)+'hPa')\n",
    "legend()"
   ]
  },
  {
   "cell_type": "code",
   "execution_count": 24,
   "metadata": {},
   "outputs": [
    {
     "data": {
      "text/plain": [
       "<matplotlib.legend.Legend at 0x7fc220908190>"
      ]
     },
     "execution_count": 24,
     "metadata": {},
     "output_type": "execute_result"
    },
    {
     "data": {
      "image/png": "[encoded data removed]",
      "text/plain": [
       "<Figure size 864x432 with 1 Axes>"
      ]
     },
     "metadata": {
      "needs_background": "light"
     },
     "output_type": "display_data"
    }
   ],
   "source": [
    "plot(1900+data.time[daymask]/86400/365.25,rmeanw(data.RISE_bias_estimate[daymask],30),label='RISE 12GMT')\n",
    "plot(1900+data.time[nightmask]/86400/365.25,rmeanw(data.RISE_bias_estimate[nightmask],30),label='RASE 00GMT')\n",
    "plot(1900+data.time[daymask]/86400/365.25,rmeanw(data.RASE_bias_estimate[daymask],30),label='RISE 12GMT')\n",
    "plot(1900+data.time[nightmask]/86400/365.25,rmeanw(data.RASE_bias_estimate[nightmask],30),label='RASE 00GMT')\n",
    "#plot([1950,1950],[-2,250],'k')\n",
    "title('Bias estimates '+statid+' '+str(plev//100)+'hPa')\n",
    "legend()\n"
   ]
  },
  {
   "cell_type": "code",
   "execution_count": 25,
   "metadata": {},
   "outputs": [],
   "source": [
    "# plot(1900+data.time[daymask]/86400/365.25,rmeanw(data.obs_minus_bg[daymask]+data.bias_estimate[daymask]-data.RISE_bias_estimate[daymask],30),\\\n",
    "#      label='12GMT {:4.2f}'.format(nanstd(rmeanw(data.obs_minus_bg[daymask]+data.bias_estimate[daymask]-data.RISE_bias_estimate[daymask],30))))\n",
    "# #plot(1900+data.time[daymask]/86400/365.25,rmeanw(data.ta[daymask],30),label='12GMT')\n",
    "# plot(1900+data.time[nightmask]/86400/365.25,rmeanw(data.obs_minus_bg[nightmask]+data.bias_estimate[nightmask]-data.RISE_bias_estimate[nightmask],30),\\\n",
    "#      label='00GMT  {:4.2f}'.format(nanstd(rmeanw(data.obs_minus_bg[nightmask]+data.bias_estimate[nightmask]-data.RISE_bias_estimate[nightmask],30))))\n",
    "# #plot([1950,1950],[-2,250],'k')\n",
    "# #plot(1900+data.time[nightmask]/86400/365.25,data.bias_estimate[nightmask],label='00GMT')\n",
    "# title(statid+' '+str(plev//100)+'hPa')\n",
    "# legend()"
   ]
  },
  {
   "cell_type": "code",
   "execution_count": 26,
   "metadata": {},
   "outputs": [],
   "source": [
    "# statid='0-20000-0-04018'\n",
    "# statid='0-20001-0-10393'\n",
    "# #statid='0-20000-0-70219'\n",
    "# statid='0-20000-0-72357' # Norman\n",
    "# #statid='0-20001-0-11035' # Norman\n",
    "# plev=30000\n",
    "# vd={'temperature':'ta','dew_point_depression':'dew_point_depression','relative_humidity':'hur','specific_humidity':'hus',\\\n",
    "#     'dew_point_temperature':'dew_point_temperature'}\n",
    "# vu={'temperature':'K','dew_point_depression':'K','relative_humidity':'','specific_humidity':'kg/kg',\\\n",
    "#     'dew_point_temperature':'K'}\n",
    "# vvv='dew_point_depression','dew_point_temperature'\n",
    "# for vv in vd.keys():\n",
    "#     %time data=eua.vm_request_wrapper({'variable': vv, 'statid': statid,\\\n",
    "#                              'optional':['obs_minus_bg','humidity_bias_estimate'],'pressure_level':plev}, overwrite=True, \\\n",
    "#                             vm_url='http://localhost:8002')#.to_dataframe()\n",
    "#     data = eua.CDMDataset()\n",
    "# #    display(data)\n",
    "# #print(data[vd[vv]][:])\n",
    "#     iq=nanquantile(data[vd[vv]][:],(0.25,0.75))\n",
    "#     iqr=iq[:]\n",
    "#     iqr[0]=iq[0]-1.5*(iq[1]-iq[0])\n",
    "#     iqr[1]=iq[1]+1.5*(iq[1]-iq[0])\n",
    "#     print(iqr)\n",
    "\n",
    "#     plot(1900+data.time[:]/86400/365.25,rmeanw(data[vd[vv]][:],30),\\\n",
    "#      label='obs {:4.2f}'.format(nanstd(rmeanw(data[vd[vv]][:],30))))\n",
    "# #plot(1900+data.time[daymask]/86400/365.25,rmeanw(data.ta[daymask],30),label='12GMT')\n",
    "#     plot(1900+data.time[:]/86400/365.25,rmeanw(data.obs_minus_bg[:],30),\\\n",
    "#      label='obs-bg  {:4.2f}'.format(nanstd(rmeanw(data.obs_minus_bg[:],30))))\n",
    "# #plot([1950,1950],[-2,250],'k')\n",
    "#     try:\n",
    "#         plot(1900+data.time[:]/86400/365.25,rmeanw(data.humidity_bias_estimate[:],30),\\\n",
    "#              label='bias estimate {:4.2f}'.format(nanstd(rmeanw(data.obs_minus_bg[:],30))))\n",
    "#     except:\n",
    "#         pass\n",
    "#     title(vv+', '+statid+' '+str(plev//100)+'hPa')\n",
    "#     ylabel(vu[vv])\n",
    "# #    xlim(1965,2021)\n",
    "#     legend()\n",
    "#     show()\n",
    "#     close()"
   ]
  },
  {
   "cell_type": "code",
   "execution_count": 27,
   "metadata": {},
   "outputs": [],
   "source": [
    "# statid='0-20000-0-04018'\n",
    "# statid='0-20001-0-10393'\n",
    "# #statid='0-20000-0-70219'\n",
    "# statid='0-20000-0-72357' # Norman\n",
    "# #statid='0-20001-0-11035' # Norman\n",
    "# plev=30000\n",
    "# vd={'temperature':'ta','dew_point_depression':'dew_point_depression','relative_humidity':'hur','specific_humidity':'hus',\\\n",
    "#     'dew_point_temperature':'dew_point_temperature'}\n",
    "# vu={'temperature':'K','dew_point_depression':'K','relative_humidity':'','specific_humidity':'kg/kg',\\\n",
    "#     'dew_point_temperature':'K'}\n",
    "# vvv='dew_point_depression','dew_point_temperature'\n",
    "# for vv in vd.keys():\n",
    "#     %time data=eua.vm_request_wrapper({'variable': vv, 'statid': statid,\\\n",
    "#                              'optional':['obs_minus_bg','humidity_bias_estimate'],'pressure_level':plev}, overwrite=True, \\\n",
    "#                             vm_url='http://localhost:8002')#.to_dataframe()\n",
    "# #    display(data)\n",
    "# #print(data[vd[vv]][:])\n",
    "#     iq=nanquantile(data[vd[vv]][:],(0.25,0.75))\n",
    "#     iqr=iq[:]\n",
    "#     iqr[0]=iq[0]-1.5*(iq[1]-iq[0])\n",
    "#     iqr[1]=iq[1]+1.5*(iq[1]-iq[0])\n",
    "#     print(iqr)\n",
    "\n",
    "#     plot(1900+data.time[:]/86400/365.25,rmeanw(data[vd[vv]][:],30),\\\n",
    "#      label='obs {:4.2f}'.format(nanstd(rmeanw(data[vd[vv]][:],30))))\n",
    "# #plot(1900+data.time[daymask]/86400/365.25,rmeanw(data.ta[daymask],30),label='12GMT')\n",
    "#     plot(1900+data.time[:]/86400/365.25,rmeanw(data.obs_minus_bg[:],30),\\\n",
    "#      label='obs-bg  {:4.2f}'.format(nanstd(rmeanw(data.obs_minus_bg[:],30))))\n",
    "# #plot([1950,1950],[-2,250],'k')\n",
    "#     try:\n",
    "#         plot(1900+data.time[:]/86400/365.25,rmeanw(data.humidity_bias_estimate[:],30),\\\n",
    "#              label='bias estimate {:4.2f}'.format(nanstd(rmeanw(data.obs_minus_bg[:],30))))\n",
    "#     except:\n",
    "#         pass\n",
    "#     title(vv+', '+statid+' '+str(plev//100)+'hPa')\n",
    "#     ylabel(vu[vv])\n",
    "# #    xlim(1965,2021)\n",
    "#     legend()\n",
    "#     show()\n",
    "#     close()"
   ]
  },
  {
   "cell_type": "code",
   "execution_count": 28,
   "metadata": {},
   "outputs": [],
   "source": [
    "# tints=[[2015,2020],[2008,2012],[1999,2005],[1980,1989]]\n",
    "# vvv=list(vd.keys())\n",
    "# for vv in vvv[2:]:\n",
    "#     %time data=eua.vm_request_wrapper({'variable': vv, 'statid': statid,\\\n",
    "#                              'optional':['obs_minus_bg','humidity_bias_estimate'],'pressure_level':plev}, overwrite=True, \\\n",
    "#                             vm_url='http://localhost:8002')#.to_dataframe()\n",
    "#     i=1  \n",
    "#     #print(data)\n",
    "#     figure(figsize=(20,4))\n",
    "#     for tint in tints:\n",
    "#         idx=np.where(logical_and(data.time[:]/365.25/86400>=tint[0]-1900,data.time[:]/365.25/86400<=tint[1]-1900+1))[0]\n",
    "#         print(len(idx),np.nanstd(data[vd[vv]][idx]))\n",
    "#         subplot(1,len(tints),i)\n",
    "#         i+=1\n",
    "#         hist(data[vd[vv]][idx],label='{}-{}'.format(*tint),bins=21,alpha=0.6)\n",
    "#         hist(data[vd[vv]][idx]-data['humidity_bias_estimate'][idx],bins=21,label='adjusted',color='brown',alpha=0.6)\n",
    "#         ylim(0,900)\n",
    "#         xlim(0,1)\n",
    "#         legend(fontsize=10)\n",
    "#         title(statid.split('-')[-1]+' '+vv+' '+str(plev//100)+'hPa',fontsize=12)\n",
    "#     show()\n",
    "#     close()"
   ]
  },
  {
   "cell_type": "markdown",
   "metadata": {},
   "source": [
    "## VM Multi-Variable Requests\n",
    "\n",
    "Usually these requests result in multiple files, split into variables.\n",
    "\n",
    "A request like this:\n",
    "\n",
    "`{'variable' :['temperature','wind_speed'], 'statid': '01001'}`\n",
    "\n",
    "\n",
    "produces:\n",
    "\n",
    "    dest_0-20000-0-01001_air_temperature.nc\n",
    "    dest_0-20000-0-01001_wind_speed.nc"
   ]
  },
  {
   "cell_type": "code",
   "execution_count": 29,
   "metadata": {},
   "outputs": [],
   "source": [
    "# mata = eua.vm_request_wrapper({'variable' :['temperature','wind_speed'], 'statid': '01001', 'date':['19790101']}, overwrite=True)"
   ]
  },
  {
   "cell_type": "code",
   "execution_count": 30,
   "metadata": {},
   "outputs": [],
   "source": [
    "# ixy = mata['dest_0-20000-0-01001_air_temperature']"
   ]
  },
  {
   "cell_type": "code",
   "execution_count": 31,
   "metadata": {},
   "outputs": [],
   "source": [
    "# ixy['time'][()]"
   ]
  },
  {
   "cell_type": "markdown",
   "metadata": {},
   "source": [
    "## Execute read_data_to_cube on all files and return a Dataset\n",
    "\n",
    "Currently the variables within the files are not clearly readable, as variable names do not match with filename.\n",
    "\n"
   ]
  },
  {
   "cell_type": "code",
   "execution_count": null,
   "metadata": {},
   "outputs": [],
   "source": [
    "# cdata = {}\n",
    "# # Loop Variables and CDMDataset\n",
    "# for ivar, idata in zip(['ta','wind_speed'],mata.values()):\n",
    "#     cdata.update(idata.read_data_to_cube(ivar))  # Update the dictionary\n",
    "# cdata = eua.xr.Dataset(cdata)  # Convert to Xarray Dataset"
   ]
  },
  {
   "cell_type": "code",
   "execution_count": 32,
   "metadata": {},
   "outputs": [],
   "source": [
    "# print(cdata)"
   ]
  },
  {
   "cell_type": "markdown",
   "metadata": {},
   "source": [
    "# Frontend files\n",
    "\n",
    "* Open a downloaded file\n",
    "* Make a request and open that file (the first one)\n",
    "    - all files are downloaded and extracted, but not loaded (Missing Class for that)\n",
    "    \n",
    "Mostly the same routines apply to both files BACKEND and FRONTEND."
   ]
  },
  {
   "cell_type": "markdown",
   "metadata": {},
   "source": [
    "## Make a CDS Request and open the data\n",
    "Either specify a file directly or issue a request via the `cdsapi` and downlaod the file and use that."
   ]
  },
  {
   "cell_type": "code",
   "execution_count": null,
   "metadata": {},
   "outputs": [],
   "source": [
    "# # currently the CDS files are full of duplicates\n",
    "# fata = eua.cds_request_wrapper({'variable':'air_temperature', 'statid': '01001'})"
   ]
  },
  {
   "cell_type": "code",
   "execution_count": null,
   "metadata": {},
   "outputs": [],
   "source": [
    "# if False:\n",
    "#     # produce this file from out local merged file\n",
    "#     data.read_write_request(filename_out='dest_0-20000-0-01001_air_temperature.nc', request={'variable':['temperature']}, cf_dict=eua.read_standardnames())"
   ]
  },
  {
   "cell_type": "code",
   "execution_count": null,
   "metadata": {},
   "outputs": [],
   "source": [
    "# fata = eua.CDMDataset('dest_0-20000-0-01001_air_temperature.nc')"
   ]
  },
  {
   "cell_type": "code",
   "execution_count": null,
   "metadata": {},
   "outputs": [],
   "source": [
    "# fata"
   ]
  },
  {
   "cell_type": "code",
   "execution_count": null,
   "metadata": {},
   "outputs": [],
   "source": [
    "# fata.file"
   ]
  },
  {
   "cell_type": "code",
   "execution_count": null,
   "metadata": {},
   "outputs": [],
   "source": [
    "# fata.filename"
   ]
  },
  {
   "cell_type": "code",
   "execution_count": null,
   "metadata": {},
   "outputs": [],
   "source": [
    "# fata.name"
   ]
  },
  {
   "cell_type": "code",
   "execution_count": null,
   "metadata": {},
   "outputs": [],
   "source": [
    "# # This is often used to detect CDM Backend and CDM Frontend files\n",
    "# fata.hasgroups"
   ]
  },
  {
   "cell_type": "markdown",
   "metadata": {},
   "source": [
    "## Availability of Data "
   ]
  },
  {
   "cell_type": "code",
   "execution_count": null,
   "metadata": {},
   "outputs": [],
   "source": [
    "# plot(fata.availability())\n",
    "# grid()\n",
    "# title('Availability of {}'.format(fata.name));"
   ]
  },
  {
   "cell_type": "markdown",
   "metadata": {},
   "source": [
    "## Convert to Cube"
   ]
  },
  {
   "cell_type": "code",
   "execution_count": null,
   "metadata": {},
   "outputs": [],
   "source": [
    "# fta = fata.read_data_to_cube('ta', dates=['2000-01-01','2019-01-01'])"
   ]
  },
  {
   "cell_type": "code",
   "execution_count": null,
   "metadata": {},
   "outputs": [],
   "source": [
    "# # plotting of Xarray is broken with matplotlib 3.3\n",
    "# # (fta['ta']).plot(y='plev')\n",
    "# pcolormesh(fta['ta'].time,fta['ta'].plev,fta['ta'].T)\n",
    "# ylim(100000,1000)\n",
    "# grid()\n",
    "# colorbar()\n",
    "# title('{description} {standard_name}'.format(**fata.read_attributes('ta')));"
   ]
  },
  {
   "cell_type": "markdown",
   "metadata": {},
   "source": [
    "## Write to a frontend file"
   ]
  },
  {
   "cell_type": "code",
   "execution_count": null,
   "metadata": {},
   "outputs": [],
   "source": [
    "# fata.write_variable('ta_std_plevs',cube=fta['ta'])"
   ]
  },
  {
   "cell_type": "code",
   "execution_count": null,
   "metadata": {},
   "outputs": [],
   "source": [
    "# fata"
   ]
  },
  {
   "cell_type": "code",
   "execution_count": null,
   "metadata": {},
   "outputs": [],
   "source": [
    "# sounding = fata.to_dataframe(date='2015-01-02')\n",
    "# print(sounding[sounding['time']=='2015-01-02 06:00:00'])"
   ]
  },
  {
   "cell_type": "code",
   "execution_count": null,
   "metadata": {},
   "outputs": [],
   "source": []
  }
 ],
 "metadata": {
  "kernelspec": {
   "display_name": "Python 3",
   "language": "python",
   "name": "python3"
  },
  "language_info": {
   "codemirror_mode": {
    "name": "ipython",
    "version": 3
   },
   "file_extension": ".py",
   "mimetype": "text/x-python",
   "name": "python",
   "nbconvert_exporter": "python",
   "pygments_lexer": "ipython3",
   "version": "3.7.9"
  }
 },
 "nbformat": 4,
 "nbformat_minor": 4
}
