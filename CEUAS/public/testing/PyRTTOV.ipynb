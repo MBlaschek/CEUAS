{
 "cells": [
  {
   "cell_type": "markdown",
   "metadata": {},
   "source": [
    "# Py - RTTOV\n",
    "\n",
    "[PDF Python Interface Guide - NWP/SAF](https://nwp-saf.eumetsat.int/site/download/documentation/rtm/docs_rttov12/rttov-wrapper.pdf)\n",
    "\n"
   ]
  },
  {
   "cell_type": "code",
   "execution_count": 1,
   "metadata": {},
   "outputs": [
    {
     "name": "stdout",
     "output_type": "stream",
     "text": [
      "/opt/conda/bin/python\n",
      "sys.version_info(major=3, minor=7, micro=4, releaselevel='final', serial=0)\n"
     ]
    },
    {
     "name": "stderr",
     "output_type": "stream",
     "text": [
      "/opt/conda/lib/python3.7/site-packages/ipykernel_launcher.py:12: FutureWarning: Passing a negative integer is deprecated in version 1.0 and will not be supported in future version. Instead, use None to not limit the column width.\n",
      "  if sys.path[0] == '':\n"
     ]
    }
   ],
   "source": [
    "# System information\n",
    "import pyrttov\n",
    "import numpy as np\n",
    "import os, sys, glob\n",
    "import xarray\n",
    "print(sys.executable)\n",
    "print(sys.version_info)\n",
    "import pandas as pd\n",
    "pd.set_option('display.max_columns', None)\n",
    "# pd.set_option('display.max_rows', None)\n",
    "pd.set_option('display.width', None)\n",
    "pd.set_option('display.max_colwidth', -1)"
   ]
  },
  {
   "cell_type": "code",
   "execution_count": 2,
   "metadata": {},
   "outputs": [],
   "source": [
    "def ef(p, t=None, over_water=True, over_ice=False, **kwargs):\n",
    "    \"\"\"\n",
    "    from\n",
    "    Sugidachi, T. and Fujiwara, M.: Correction of the Stepwise Change Observed at 0C in\n",
    "    Meisei RS2-91, RS-01G, and RS-06G Radiosonde Relative Humidity Profiles,\n",
    "    Journal of the Meteorological Society of Japan. Ser. II, 91(3), 323-336,\n",
    "    doi:10.2151/jmsj.2013-306, 2013.\n",
    "\n",
    "    Args:\n",
    "        t: air temperature K\n",
    "        p: air pressure Pa\n",
    "\n",
    "    Returns:\n",
    "        f : enhancement factor for saturation water vapor pressure\n",
    "            depending on air temperature and air pressure\n",
    "    \"\"\"\n",
    "    # Vaisala / Buck 1981  / WMO 2008\n",
    "    # 1.0016 + 3.15e-6*p - 0.074 / p  # kPa\n",
    "    if over_water:\n",
    "        return 1.0007 + (3.46e-6 * p / 100)\n",
    "    if over_ice:\n",
    "        return 1.0003 + (4.18e-6 * p / 100)\n",
    "    if t is not None:\n",
    "        return np.where(t < 273.16,\n",
    "                        1.0003 + (4.18e-6 * p / 100),\n",
    "                        1.0007 + (3.46e-6 * p / 100))"
   ]
  },
  {
   "cell_type": "code",
   "execution_count": 3,
   "metadata": {},
   "outputs": [],
   "source": [
    "def HylandWexler(temp, over_water=True, over_ice=False, **kwargs):\n",
    "    \"\"\"Hyland and Wexler (1983), also in Wexler and Hyland (1983): Stated ranges 173.16 ?\n",
    "    T < 273.16 for ice and 273.16 > 473.15 for liquid.\n",
    "\n",
    "    Used by Vaisala\n",
    "\n",
    "    ln( ew ) = -5800.2206/t + 1.3914993\n",
    "               - 0.48640239 * 10**(-1)*t\n",
    "               + 0.41764768 * 10**(-4)*t**2\n",
    "               - 0.14452093 * 10**(-7)*t**3\n",
    "               + 6.5459673*math.log(t)\n",
    "\n",
    "    ln( ei ) = -5674.5359/t + 6.3925247\n",
    "               - 0.96778430 * 10**(-2)*t\n",
    "               + 0.62215701 * 10**(-6)*t**2\n",
    "               + 0.20747825 * 10**(-8)*t**3\n",
    "               - 0.94840240 * 10**(-12)*t**4\n",
    "               + 4.1635019*math.log(t)\n",
    "\n",
    "    Args:\n",
    "        temp: air temperature in K\n",
    "        liquid_only: use only water vapor over liquid water\n",
    "        ice_only: use only water vapor over ice\n",
    "        kwargs: dummy\n",
    "\n",
    "    Returns:\n",
    "         es : saturation water vapor pressure in Pa\n",
    "    \"\"\"\n",
    "\n",
    "    def liquid(t):\n",
    "        return np.exp(\n",
    "            -5800.2206 / t + 1.3914993\n",
    "            - 0.48640239e-1 * t\n",
    "            + 0.41764768e-4 * t * t\n",
    "            - 0.14452093e-7 * t * t * t\n",
    "            + 6.5459673 * np.log(t)\n",
    "        )\n",
    "\n",
    "    def ice(t):\n",
    "        return np.exp(\n",
    "            -5674.5359 / t + 6.3925247\n",
    "            - 0.96778430e-2 * t\n",
    "            + 0.62215701e-6 * t * t\n",
    "            + 0.20747825e-8 * t * t * t\n",
    "            - 0.94840240e-12 * t * t * t * t\n",
    "            + 4.1635019 * np.log(t)\n",
    "        )\n",
    "\n",
    "    if over_water:\n",
    "        return liquid(temp)\n",
    "    elif over_ice:\n",
    "        return ice(temp)\n",
    "    else:\n",
    "        return np.where(temp < 273.16, ice(temp), liquid(temp))"
   ]
  },
  {
   "cell_type": "code",
   "execution_count": 4,
   "metadata": {},
   "outputs": [],
   "source": [
    "def svp(t, method='HylandWexler', p=None, **kwargs):\n",
    "    \"\"\"\n",
    "    Saturation water vapor pressure from Temperature\n",
    "    The equations by Hyland and Wexler [4], the nearly identical equation by Wexler (1976, see reference below) and\n",
    "    the equation by Sonntag [7] are the most commonly used equations among Radiosonde manufacturers\n",
    "    and should be used in upper air applications to avoid inconsistencies.\n",
    "\n",
    "    Known Saturation water Vapor Formulations:\n",
    "\n",
    "    Bolton 1980\n",
    "    Goff 1957, 1965        (180    - 273.15 / 273.15 - 373.15) 1957> WMO\n",
    "    Goff and Gratch 1946   (184    - 273.15 / 273.15 - 373.15)\n",
    "    Hyland and Wexler 1983 (173.16 - 273.15 / 273.15 - 473.15) Vaisala\n",
    "    IAPWS 1995             (173.15 - 273.15 / 273.15 - 647   ) Wagner and Pruss + Wagner 1994\n",
    "    Murphy and Koop 2005   (110    - 273.15 / 132      332   ) Ice formulation as well\n",
    "    Sonntag 1990           (173.15 - 273.15 / 273.15 - 373.15)\n",
    "    Sonntag 1994           (173.15 - 273.15 / 273.15 - 373.15)\n",
    "    Wagner 1994            (190    - 273.15                  )\n",
    "    Wagner and Pruss 1993  (190    - 273.15 / 273.15 - 647   )\n",
    "    Wexler 1976            (                  273.15 - 373.15)\n",
    "    Wright 1997\n",
    "\n",
    "    Args:\n",
    "        t: air temperature\n",
    "        method: string or function\n",
    "        p: pressure\n",
    "        **kwargs: additional keywords passed to function\n",
    "\n",
    "    Returns:\n",
    "        es : saturation water vapor pressure in Pa\n",
    "    \"\"\"\n",
    "    try:\n",
    "        if callable(method):\n",
    "            vpfunc = method\n",
    "        else:\n",
    "            vpfunc = eval(method)\n",
    "\n",
    "        if p is not None:\n",
    "            f = ef(p, **kwargs)\n",
    "        else:\n",
    "            f = 1.\n",
    "        return vpfunc(t, **kwargs) * f\n",
    "    except:\n",
    "        import sys\n",
    "        print(\"Functions: \", \", \".join([i for i in dir(sys.modules[__name__]) if i[0].upper() == i[0]]))"
   ]
  },
  {
   "cell_type": "code",
   "execution_count": 5,
   "metadata": {},
   "outputs": [],
   "source": [
    "def vap2sh(e, p):\n",
    "    \"\"\" Convert water vapor pressure to specific humidity\n",
    "    Parameters\n",
    "    ----------\n",
    "    e      Water vapor [Pa]\n",
    "    p      total air pressure [Pa]\n",
    "\n",
    "    Returns\n",
    "    -------\n",
    "    specific humidity (1 = kg/kg)\n",
    "    \"\"\"\n",
    "    rd = 287.05\n",
    "    rv = 461.50\n",
    "    c = rd/rv  # Rd/Rv = 0.6219934994582882\n",
    "    pa = p - e  # dry air pressure\n",
    "    return (e * c) / (e * c + pa)"
   ]
  },
  {
   "cell_type": "code",
   "execution_count": 6,
   "metadata": {},
   "outputs": [],
   "source": [
    "def dp_sh(dp, press):\n",
    "        vpdata = svp(dp, p=press)\n",
    "        q = vap2sh(vpdata, press)\n",
    "        return q\n",
    "       "
   ]
  },
  {
   "cell_type": "code",
   "execution_count": 7,
   "metadata": {},
   "outputs": [],
   "source": [
    "def rttov_calc(ascent, era, date):\n",
    "    rttov_installdir = '/rttov/'\n",
    "\n",
    "    # ------------------------------------------------------------------------\n",
    "    # Set up the profile data\n",
    "    # ------------------------------------------------------------------------\n",
    "\n",
    "    # Declare an instance of Profiles\n",
    "    nlevels = len(ascent.index)\n",
    "    nprofiles = 1\n",
    "    myProfiles = pyrttov.Profiles(nprofiles, nlevels)\n",
    "\n",
    "    # Associate the profiles and other data from example_data.h with myProfiles\n",
    "    # Note that the simplecloud, clwscheme, icecloud and zeeman data are not mandatory and\n",
    "    # are omitted here\n",
    "\n",
    "    def expand2nprofiles(n, nprof):\n",
    "        # Transform 1D array to a [nprof, nlevels] array\n",
    "        outp = np.empty((nprof, len(n)), dtype=n.dtype)\n",
    "        for i in range(nprof):\n",
    "            outp[i, :] = n[:]\n",
    "        return outp\n",
    "\n",
    "    myProfiles.GasUnits = 1\n",
    "    myProfiles.P = expand2nprofiles(np.array(ascent.index)/100., nprofiles) \n",
    "#     print(myProfiles.P)\n",
    "    myProfiles.T = expand2nprofiles(np.array(ascent.ta), nprofiles) \n",
    "#     print(myProfiles.T)\n",
    "    myProfiles.Q = expand2nprofiles(np.array(ascent.hus), nprofiles) \n",
    "#     print(myProfiles.Q)\n",
    "    \n",
    "    \n",
    "    \n",
    "    myProfiles.Angles = [[0, 0, 45, 180]]\n",
    "    # satzen, satazi, sunzen, sunazi\n",
    "    myProfiles.S2m = [[float(era.sp)/100., float(era.t2m), dp_sh(float(era.d2m), float(era.sp)), float(era.u10), float(era.v10), 100000]]\n",
    "#     print(myProfiles.S2m)\n",
    "    # s2m%p, s2m%t, s2m%q, s2m%u, s2m%v, s2m%wfetch\n",
    "    myProfiles.Skin = [[float(era.skt), 0, 0, 0, 3.0, 5., 15, 0.1, 0.3, 0]] #float(era.snowc)/100., 3.0, 5., 15, 0.1, 0.3, 0]]\n",
    "    # (skin%t, skin%salinity, skin%foam_fraction, skin%snow_fraction skin%fastem(1:5)) --> fastem default =  3.0, 5., 15, 0.1, 0.3, 0\n",
    "    myProfiles.SurfType = [[0, 0]]\n",
    "    # skin%surftype\n",
    "    myProfiles.SurfGeom = [[df.lat.iloc[0], df.lon.iloc[0], 0.]]\n",
    "    # (latitude, longitude, elevation)\n",
    "    myProfiles.DateTimes = [[date.year, date.month, date.day, 0, 0, 0]]\n",
    "    # (year, month, day, hour, minute, second)\n",
    "    \n",
    "    \n",
    "    # ------------------------------------------------------------------------\n",
    "    # Set up Rttov instances for each instrument\n",
    "    # ------------------------------------------------------------------------\n",
    "\n",
    "    # Create three Rttov objects for three instruments\n",
    "    msuRttov = pyrttov.Rttov()\n",
    "\n",
    "    nchan_msu = 3\n",
    "    chan_list_msu = [2, 3, 4]\n",
    "\n",
    "    # Set the options for each Rttov instance:\n",
    "    # - the path to the coefficient file must always be specified\n",
    "    # - turn RTTOV interpolation on (because input pressure levels differ from\n",
    "    #   coefficient file levels)\n",
    "    # - set the verbose_wrapper flag to true so the wrapper provides more\n",
    "    #   information\n",
    "    # - enable solar simulations for SEVIRI\n",
    "    # - enable CO2 simulations for HIRS (the CO2 profiles are ignored for\n",
    "    #   the SEVIRI and MHS simulations)\n",
    "    # - enable the store_trans wrapper option for MHS to provide access to\n",
    "    #   RTTOV transmission structure\n",
    "#     print(\"/rttov/rtcoef_rttov12/rttov7pred54L/rtcoef_noaa_14_msu.dat\")\n",
    "#     msuRttov.FileCoef = '{}/{}'.format(rttov_installdir,\n",
    "#                                        \"rtcoef_rttov12/rttov7pred54L/rtcoef_noaa_14_msu.dat\")\n",
    "    msuRttov.FileCoef = \"/rttov/rtcoef_rttov12/rttov7pred54L/rtcoef_noaa_14_msu.dat\"\n",
    "    msuRttov.Options.AddInterp = True\n",
    "#     msuRttov.Options.AddSolar = True\n",
    "#     msuRttov.Options.CO2Data = False\n",
    "    msuRttov.Options.VerboseWrapper = True\n",
    "\n",
    "\n",
    "    # Load the instruments: for HIRS and MHS do not supply a channel list and\n",
    "    # so read all channels\n",
    "#     try:\n",
    "    msuRttov.loadInst(channels=chan_list_msu)\n",
    "#     msuRttov.loadInst()\n",
    "#     except pyrttov.RttovError as e:\n",
    "#         sys.stderr.write(\"Error loading instrument(s): {!s}\".format(e))\n",
    "#         sys.exit(1)\n",
    "\n",
    "    # Associate the profiles with each Rttov instance\n",
    "    msuRttov.Profiles = myProfiles\n",
    "\n",
    "    # ------------------------------------------------------------------------\n",
    "    # Load the emissivity and BRDF atlases\n",
    "    # ------------------------------------------------------------------------\n",
    "\n",
    "    # Load the emissivity and BRDF atlases:\n",
    "    # - load data for the month in the profile data\n",
    "    # - load the IR emissivity atlas data for multiple instruments so it can be used for SEVIRI and HIRS\n",
    "    # - SEVIRI is the only VIS/NIR instrument we can use the single-instrument initialisation for the BRDF atlas\n",
    "\n",
    "#     irAtlas = pyrttov.Atlas()\n",
    "#     irAtlas.AtlasPath = '{}/{}'.format(rttov_installdir, \"emis_data\")\n",
    "#     irAtlas.loadIrEmisAtlas(ex.datetimes[1][0], ang_corr=True) # Include angular correction, but do not initialise for single-instrument\n",
    "\n",
    "#     brdfAtlas = pyrttov.Atlas()\n",
    "#     brdfAtlas.AtlasPath = '{}/{}'.format(rttov_installdir, \"brdf_data\")\n",
    "#     brdfAtlas.loadBrdfAtlas(ex.datetimes[1][0], msuRttov) # Supply Rttov object to enable single-instrument initialisation\n",
    "#     brdfAtlas.IncSea = False                                 # Do not use BRDF atlas for sea surface types\n",
    "\n",
    "    # TELSEM2 atlas does not require an Rttov object to initialise\n",
    "    mwAtlas = pyrttov.Atlas()\n",
    "    mwAtlas.AtlasPath = '{}/{}'.format(rttov_installdir, \"emis_data\")\n",
    "    mwAtlas.loadMwEmisAtlas(date.month)\n",
    "\n",
    "    # Set up the surface emissivity/reflectance arrays and associate with the Rttov objects\n",
    "    surfemisrefl_msu = np.zeros((2,nprofiles,nchan_msu), dtype=np.float64)\n",
    "\n",
    "#     seviriRttov.SurfEmisRefl = surfemisrefl_msu\n",
    "\n",
    "    # ------------------------------------------------------------------------\n",
    "    # Call RTTOV\n",
    "    # ------------------------------------------------------------------------\n",
    "\n",
    "    # Surface emissivity/reflectance arrays must be initialised *before every call to RTTOV*\n",
    "    # Negative values will cause RTTOV to supply emissivity/BRDF values (i.e. equivalent to\n",
    "    # calcemis/calcrefl TRUE - see RTTOV user guide)\n",
    "\n",
    "    surfemisrefl_msu[:,:,:] = -1.\n",
    "\n",
    "    # Call emissivity and BRDF atlases\n",
    "    try:\n",
    "        # Do not supply a channel list for SEVIRI: this returns emissivity/BRDF values for all\n",
    "        # *loaded* channels which is what is required\n",
    "#         surfemisrefl_seviri[0,:,:] = irAtlas.getEmisBrdf(seviriRttov)\n",
    "#         surfemisrefl_seviri[1,:,:] = brdfAtlas.getEmisBrdf(seviriRttov)\n",
    "#         surfemisrefl_hirs[0,:,:] = irAtlas.getEmisBrdf(hirsRttov)\n",
    "#         surfemisrefl_mhs[0,:,:] = mwAtlas.getEmisBrdf(mhsRttov)\n",
    "\n",
    "        surfemisrefl_msu[0,:,:] = mwAtlas.getEmisBrdf(msuRttov)\n",
    "\n",
    "\n",
    "    except pyrttov.RttovError as e:\n",
    "        # If there was an error the emissivities/BRDFs will not have been modified so it\n",
    "        # is OK to continue and call RTTOV with calcemis/calcrefl set to TRUE everywhere\n",
    "        sys.stderr.write(\"Error calling atlas: {!s}\".format(e))\n",
    "\n",
    "    # Call the RTTOV direct model for each instrument:\n",
    "    # no arguments are supplied to runDirect so all loaded channels are\n",
    "    # simulated\n",
    "    try:\n",
    "        msuRttov.runDirect()\n",
    "    except pyrttov.RttovError as e:\n",
    "        sys.stderr.write(\"Error running RTTOV direct model: {!s}\".format(e))\n",
    "        sys.exit(1)\n",
    "\n",
    "    # ------------------------------------------------------------------------\n",
    "    # Print out some of the output\n",
    "    # ------------------------------------------------------------------------\n",
    "\n",
    "    print\n",
    "    print(\"SELECTED OUTPUT\")\n",
    "    print\n",
    "\n",
    "    print(\"MSU visible channel reflectances, channels 2-4\")\n",
    "    for p in range(nprofiles):\n",
    "        print(\"Profile {:d}:\".format(p))\n",
    "        for c in range(3):\n",
    "            print(\"  Ch #{:02d} refl={:f}\".format(chan_list_msu[c],\n",
    "                                                  msuRttov.BtRefl[p, c]))\n",
    "        print\n",
    "    return chan_list_msu, msuRttov.BtRefl\n"
   ]
  },
  {
   "cell_type": "markdown",
   "metadata": {},
   "source": [
    "# PyRTTOV Testing"
   ]
  },
  {
   "cell_type": "code",
   "execution_count": 8,
   "metadata": {},
   "outputs": [],
   "source": [
    "# import cdsapi\n",
    "# c = cdsapi.Client()\n",
    "# for yr in range(1981,2022,1):\n",
    "#     print(yr)\n",
    "#     r = c.retrieve(\n",
    "#         'reanalysis-era5-land-monthly-means',\n",
    "#         {\n",
    "#             'format': 'netcdf',\n",
    "#             'variable': [\n",
    "#                 '10m_u_component_of_wind', '10m_v_component_of_wind', '2m_dewpoint_temperature',\n",
    "#                 '2m_temperature', 'skin_temperature', 'snow_cover',\n",
    "#                 'surface_pressure',\n",
    "#             ],\n",
    "#             'product_type': 'monthly_averaged_reanalysis',\n",
    "#             'year': yr,\n",
    "#             'month': [\n",
    "#                 '01', '02', '03',\n",
    "#                 '04', '05', '06',\n",
    "#                 '07', '08', '09',\n",
    "#                 '10', '11', '12',\n",
    "#             ],\n",
    "#             'time': '00:00',\n",
    "#         },\n",
    "#         'download.nc')\n",
    "#     r.download(target='era_land'+ str(yr)+'.nc')\n",
    "#     print('done')"
   ]
  },
  {
   "cell_type": "code",
   "execution_count": 4,
   "metadata": {},
   "outputs": [
    {
     "name": "stdout",
     "output_type": "stream",
     "text": [
      "Collecting cdsapi\n",
      "  Downloading https://files.pythonhosted.org/packages/31/6f/9196c6f12584bd4c92ff6879baedeb2227b0b1937ac231625d7b8178d510/cdsapi-0.5.1.tar.gz\n",
      "Requirement already satisfied: requests>=2.5.0 in /opt/conda/lib/python3.7/site-packages (from cdsapi) (2.22.0)\n",
      "Requirement already satisfied: tqdm in /opt/conda/lib/python3.7/site-packages (from cdsapi) (4.36.1)\n",
      "Requirement already satisfied: certifi>=2017.4.17 in /opt/conda/lib/python3.7/site-packages (from requests>=2.5.0->cdsapi) (2019.11.28)\n",
      "Requirement already satisfied: chardet<3.1.0,>=3.0.2 in /opt/conda/lib/python3.7/site-packages (from requests>=2.5.0->cdsapi) (3.0.4)\n",
      "Requirement already satisfied: urllib3!=1.25.0,!=1.25.1,<1.26,>=1.21.1 in /opt/conda/lib/python3.7/site-packages (from requests>=2.5.0->cdsapi) (1.24.2)\n",
      "Requirement already satisfied: idna<2.9,>=2.5 in /opt/conda/lib/python3.7/site-packages (from requests>=2.5.0->cdsapi) (2.8)\n",
      "Building wheels for collected packages: cdsapi\n",
      "  Building wheel for cdsapi (setup.py) ... \u001b[?25ldone\n",
      "\u001b[?25h  Created wheel for cdsapi: filename=cdsapi-0.5.1-py2.py3-none-any.whl size=11687 sha256=9ef89e9881094591a18e88a81c3ac00da46d8fadd3877c6e39dbd002c5fd95c8\n",
      "  Stored in directory: /home/srvx11/lehre/users/a1400070/.cache/pip/wheels/b3/da/d4/76acb1b249ba411fb70ca7baf0d6ab7d6177e1f0d14f1383c1\n",
      "Successfully built cdsapi\n",
      "Installing collected packages: cdsapi\n",
      "\u001b[31mERROR: Could not install packages due to an EnvironmentError: [Errno 30] Read-only file system: '/opt/conda/lib/python3.7/site-packages/cdsapi'\n",
      "\u001b[0m\n",
      "Note: you may need to restart the kernel to use updated packages.\n"
     ]
    }
   ],
   "source": [
    "%pip install cdsapi"
   ]
  },
  {
   "cell_type": "code",
   "execution_count": null,
   "metadata": {},
   "outputs": [],
   "source": [
    "# statid = '10393'\n",
    "# try:\n",
    "#     os.mkdir('./rttov_cuon_input/'+statid)\n",
    "# except:\n",
    "#     pass\n",
    "# for yr in range(1981,2022,1):\n",
    "#     for mon in range(int(str(yr)+'01'), int(str(yr)+'13'), 1):\n",
    "#         c = cdsapi.Client()\n",
    "#         r = c.retrieve('insitu-comprehensive-upper-air-observation-network',\n",
    "#                        {\n",
    "#                            'variable': [\"temperature\",\"specific_humidity\"],\n",
    "#                            'date': [str(mon)+'01',str(mon)+'31'],\n",
    "#                            'statid': [statid],\n",
    "#                        })\n",
    "#         r.download(target='rt.zip')\n",
    "#         assert os.stat('rt.zip').st_size == r.content_length, \"Downloaded file is incomplete\"\n",
    "#         z = zipfile.ZipFile('rt.zip')\n",
    "#         os.mkdir('./rttov_cuon_input/'+statid+'/'+str(mon))\n",
    "#         z.extractall(path='./rttov_cuon_input/'+statid+'/'+str(mon)+'/')\n",
    "#         z.close()"
   ]
  },
  {
   "cell_type": "code",
   "execution_count": 9,
   "metadata": {},
   "outputs": [
    {
     "name": "stderr",
     "output_type": "stream",
     "text": [
      "Load successful >>>>> inst_id : 1, nchannels : 3.\n",
      "MW emissivity atlas loaded successfully\n",
      "No surface emissivity/reflectance supplied: setting calcemis and calcrefl to true\n",
      "Deallocating this inst_id.\n",
      "Atlas deallocated.\n",
      "Load successful >>>>> inst_id : 1, nchannels : 3.\n"
     ]
    },
    {
     "name": "stdout",
     "output_type": "stream",
     "text": [
      "SELECTED OUTPUT\n",
      "MSU visible channel reflectances, channels 2-4\n",
      "Profile 0:\n",
      "  Ch #02 refl=240.774280\n",
      "  Ch #03 refl=223.894431\n",
      "  Ch #04 refl=218.691689\n"
     ]
    },
    {
     "name": "stderr",
     "output_type": "stream",
     "text": [
      "MW emissivity atlas loaded successfully\n",
      "No surface emissivity/reflectance supplied: setting calcemis and calcrefl to true\n",
      "Deallocating this inst_id.\n",
      "Atlas deallocated.\n",
      "Load successful >>>>> inst_id : 1, nchannels : 3.\n"
     ]
    },
    {
     "name": "stdout",
     "output_type": "stream",
     "text": [
      "SELECTED OUTPUT\n",
      "MSU visible channel reflectances, channels 2-4\n",
      "Profile 0:\n",
      "  Ch #02 refl=265.700006\n",
      "  Ch #03 refl=265.700006\n",
      "  Ch #04 refl=265.700007\n"
     ]
    },
    {
     "name": "stderr",
     "output_type": "stream",
     "text": [
      "MW emissivity atlas loaded successfully\n",
      "No surface emissivity/reflectance supplied: setting calcemis and calcrefl to true\n",
      "Deallocating this inst_id.\n",
      "Atlas deallocated.\n",
      "Load successful >>>>> inst_id : 1, nchannels : 3.\n"
     ]
    },
    {
     "name": "stdout",
     "output_type": "stream",
     "text": [
      "SELECTED OUTPUT\n",
      "MSU visible channel reflectances, channels 2-4\n",
      "Profile 0:\n",
      "  Ch #02 refl=246.317227\n",
      "  Ch #03 refl=226.759344\n",
      "  Ch #04 refl=221.290140\n"
     ]
    },
    {
     "name": "stderr",
     "output_type": "stream",
     "text": [
      "MW emissivity atlas loaded successfully\n",
      "No surface emissivity/reflectance supplied: setting calcemis and calcrefl to true\n",
      "Error running RTTOV direct model: Error in rttov_call_directDeallocating this inst_id.\n",
      "Atlas deallocated.\n",
      "Load successful >>>>> inst_id : 1, nchannels : 3.\n",
      "MW emissivity atlas loaded successfully\n",
      "No surface emissivity/reflectance supplied: setting calcemis and calcrefl to true\n",
      "Error running RTTOV direct model: Error in rttov_call_directDeallocating this inst_id.\n",
      "Atlas deallocated.\n",
      "Load successful >>>>> inst_id : 1, nchannels : 3.\n",
      "MW emissivity atlas loaded successfully\n",
      "No surface emissivity/reflectance supplied: setting calcemis and calcrefl to true\n",
      "Deallocating this inst_id.\n",
      "Atlas deallocated.\n",
      "Load successful >>>>> inst_id : 1, nchannels : 3.\n"
     ]
    },
    {
     "name": "stdout",
     "output_type": "stream",
     "text": [
      "SELECTED OUTPUT\n",
      "MSU visible channel reflectances, channels 2-4\n",
      "Profile 0:\n",
      "  Ch #02 refl=253.071516\n",
      "  Ch #03 refl=230.106298\n",
      "  Ch #04 refl=219.022091\n"
     ]
    },
    {
     "name": "stderr",
     "output_type": "stream",
     "text": [
      "MW emissivity atlas loaded successfully\n",
      "No surface emissivity/reflectance supplied: setting calcemis and calcrefl to true\n",
      "Deallocating this inst_id.\n",
      "Atlas deallocated.\n",
      "Load successful >>>>> inst_id : 1, nchannels : 3.\n",
      "MW emissivity atlas loaded successfully\n",
      "No surface emissivity/reflectance supplied: setting calcemis and calcrefl to true\n",
      "Deallocating this inst_id.\n",
      "Atlas deallocated.\n",
      "Load successful >>>>> inst_id : 1, nchannels : 3.\n"
     ]
    },
    {
     "name": "stdout",
     "output_type": "stream",
     "text": [
      "SELECTED OUTPUT\n",
      "MSU visible channel reflectances, channels 2-4\n",
      "Profile 0:\n",
      "  Ch #02 refl=253.321943\n",
      "  Ch #03 refl=230.119233\n",
      "  Ch #04 refl=211.474782\n",
      "SELECTED OUTPUT\n",
      "MSU visible channel reflectances, channels 2-4\n",
      "Profile 0:\n",
      "  Ch #02 refl=253.810108\n",
      "  Ch #03 refl=230.521544\n",
      "  Ch #04 refl=218.943429\n"
     ]
    },
    {
     "name": "stderr",
     "output_type": "stream",
     "text": [
      "MW emissivity atlas loaded successfully\n",
      "No surface emissivity/reflectance supplied: setting calcemis and calcrefl to true\n",
      "Deallocating this inst_id.\n",
      "Atlas deallocated.\n",
      "Load successful >>>>> inst_id : 1, nchannels : 3.\n"
     ]
    },
    {
     "name": "stdout",
     "output_type": "stream",
     "text": [
      "SELECTED OUTPUT\n",
      "MSU visible channel reflectances, channels 2-4\n",
      "Profile 0:\n",
      "  Ch #02 refl=252.303817\n",
      "  Ch #03 refl=229.200066\n",
      "  Ch #04 refl=218.171996\n"
     ]
    },
    {
     "name": "stderr",
     "output_type": "stream",
     "text": [
      "MW emissivity atlas loaded successfully\n",
      "No surface emissivity/reflectance supplied: setting calcemis and calcrefl to true\n",
      "Deallocating this inst_id.\n",
      "Atlas deallocated.\n",
      "Load successful >>>>> inst_id : 1, nchannels : 3.\n"
     ]
    },
    {
     "name": "stdout",
     "output_type": "stream",
     "text": [
      "SELECTED OUTPUT\n",
      "MSU visible channel reflectances, channels 2-4\n",
      "Profile 0:\n",
      "  Ch #02 refl=249.039847\n",
      "  Ch #03 refl=227.525240\n",
      "  Ch #04 refl=216.816677\n"
     ]
    },
    {
     "name": "stderr",
     "output_type": "stream",
     "text": [
      "MW emissivity atlas loaded successfully\n",
      "No surface emissivity/reflectance supplied: setting calcemis and calcrefl to true\n",
      "Deallocating this inst_id.\n",
      "Atlas deallocated.\n",
      "Load successful >>>>> inst_id : 1, nchannels : 3.\n"
     ]
    },
    {
     "name": "stdout",
     "output_type": "stream",
     "text": [
      "SELECTED OUTPUT\n",
      "MSU visible channel reflectances, channels 2-4\n",
      "Profile 0:\n",
      "  Ch #02 refl=244.809054\n",
      "  Ch #03 refl=225.184482\n",
      "  Ch #04 refl=216.735634\n"
     ]
    },
    {
     "name": "stderr",
     "output_type": "stream",
     "text": [
      "MW emissivity atlas loaded successfully\n",
      "No surface emissivity/reflectance supplied: setting calcemis and calcrefl to true\n",
      "Deallocating this inst_id.\n",
      "Atlas deallocated.\n",
      "Load successful >>>>> inst_id : 1, nchannels : 3.\n"
     ]
    },
    {
     "name": "stdout",
     "output_type": "stream",
     "text": [
      "SELECTED OUTPUT\n",
      "MSU visible channel reflectances, channels 2-4\n",
      "Profile 0:\n",
      "  Ch #02 refl=242.154447\n",
      "  Ch #03 refl=224.755210\n",
      "  Ch #04 refl=217.607100\n"
     ]
    },
    {
     "name": "stderr",
     "output_type": "stream",
     "text": [
      "MW emissivity atlas loaded successfully\n",
      "No surface emissivity/reflectance supplied: setting calcemis and calcrefl to true\n",
      "Deallocating this inst_id.\n",
      "Atlas deallocated.\n",
      "Load successful >>>>> inst_id : 1, nchannels : 3.\n"
     ]
    },
    {
     "name": "stdout",
     "output_type": "stream",
     "text": [
      "SELECTED OUTPUT\n",
      "MSU visible channel reflectances, channels 2-4\n",
      "Profile 0:\n",
      "  Ch #02 refl=242.020234\n",
      "  Ch #03 refl=223.495225\n",
      "  Ch #04 refl=214.863347\n"
     ]
    },
    {
     "name": "stderr",
     "output_type": "stream",
     "text": [
      "MW emissivity atlas loaded successfully\n",
      "No surface emissivity/reflectance supplied: setting calcemis and calcrefl to true\n",
      "Deallocating this inst_id.\n",
      "Atlas deallocated.\n",
      "Load successful >>>>> inst_id : 1, nchannels : 3.\n"
     ]
    },
    {
     "name": "stdout",
     "output_type": "stream",
     "text": [
      "SELECTED OUTPUT\n",
      "MSU visible channel reflectances, channels 2-4\n",
      "Profile 0:\n",
      "  Ch #02 refl=243.225541\n",
      "  Ch #03 refl=225.886886\n",
      "  Ch #04 refl=218.844339\n"
     ]
    },
    {
     "name": "stderr",
     "output_type": "stream",
     "text": [
      "MW emissivity atlas loaded successfully\n",
      "No surface emissivity/reflectance supplied: setting calcemis and calcrefl to true\n",
      "Deallocating this inst_id.\n",
      "Atlas deallocated.\n",
      "Load successful >>>>> inst_id : 1, nchannels : 3.\n"
     ]
    },
    {
     "name": "stdout",
     "output_type": "stream",
     "text": [
      "SELECTED OUTPUT\n",
      "MSU visible channel reflectances, channels 2-4\n",
      "Profile 0:\n",
      "  Ch #02 refl=nan\n",
      "  Ch #03 refl=nan\n",
      "  Ch #04 refl=nan\n"
     ]
    },
    {
     "name": "stderr",
     "output_type": "stream",
     "text": [
      "MW emissivity atlas loaded successfully\n",
      "No surface emissivity/reflectance supplied: setting calcemis and calcrefl to true\n",
      "Deallocating this inst_id.\n",
      "Atlas deallocated.\n",
      "Load successful >>>>> inst_id : 1, nchannels : 3.\n"
     ]
    },
    {
     "name": "stdout",
     "output_type": "stream",
     "text": [
      "SELECTED OUTPUT\n",
      "MSU visible channel reflectances, channels 2-4\n",
      "Profile 0:\n",
      "  Ch #02 refl=245.110909\n",
      "  Ch #03 refl=226.486872\n",
      "  Ch #04 refl=218.917304\n"
     ]
    },
    {
     "name": "stderr",
     "output_type": "stream",
     "text": [
      "MW emissivity atlas loaded successfully\n",
      "No surface emissivity/reflectance supplied: setting calcemis and calcrefl to true\n",
      "Deallocating this inst_id.\n",
      "Atlas deallocated.\n",
      "Load successful >>>>> inst_id : 1, nchannels : 3.\n"
     ]
    },
    {
     "name": "stdout",
     "output_type": "stream",
     "text": [
      "SELECTED OUTPUT\n",
      "MSU visible channel reflectances, channels 2-4\n",
      "Profile 0:\n",
      "  Ch #02 refl=249.912434\n",
      "  Ch #03 refl=228.222027\n",
      "  Ch #04 refl=220.388954\n"
     ]
    },
    {
     "name": "stderr",
     "output_type": "stream",
     "text": [
      "MW emissivity atlas loaded successfully\n",
      "No surface emissivity/reflectance supplied: setting calcemis and calcrefl to true\n",
      "Deallocating this inst_id.\n",
      "Atlas deallocated.\n",
      "Load successful >>>>> inst_id : 1, nchannels : 3.\n"
     ]
    },
    {
     "name": "stdout",
     "output_type": "stream",
     "text": [
      "SELECTED OUTPUT\n",
      "MSU visible channel reflectances, channels 2-4\n",
      "Profile 0:\n",
      "  Ch #02 refl=252.868133\n",
      "  Ch #03 refl=230.319509\n",
      "  Ch #04 refl=221.065947\n"
     ]
    },
    {
     "name": "stderr",
     "output_type": "stream",
     "text": [
      "MW emissivity atlas loaded successfully\n",
      "No surface emissivity/reflectance supplied: setting calcemis and calcrefl to true\n",
      "Deallocating this inst_id.\n",
      "Atlas deallocated.\n",
      "Load successful >>>>> inst_id : 1, nchannels : 3.\n"
     ]
    },
    {
     "name": "stdout",
     "output_type": "stream",
     "text": [
      "SELECTED OUTPUT\n",
      "MSU visible channel reflectances, channels 2-4\n",
      "Profile 0:\n",
      "  Ch #02 refl=280.200012\n",
      "  Ch #03 refl=280.200012\n",
      "  Ch #04 refl=280.200012\n"
     ]
    },
    {
     "name": "stderr",
     "output_type": "stream",
     "text": [
      "MW emissivity atlas loaded successfully\n",
      "No surface emissivity/reflectance supplied: setting calcemis and calcrefl to true\n",
      "Deallocating this inst_id.\n",
      "Atlas deallocated.\n",
      "Load successful >>>>> inst_id : 1, nchannels : 3.\n",
      "MW emissivity atlas loaded successfully\n",
      "No surface emissivity/reflectance supplied: setting calcemis and calcrefl to true\n",
      "Deallocating this inst_id.\n",
      "Atlas deallocated.\n",
      "Load successful >>>>> inst_id : 1, nchannels : 3.\n"
     ]
    },
    {
     "name": "stdout",
     "output_type": "stream",
     "text": [
      "SELECTED OUTPUT\n",
      "MSU visible channel reflectances, channels 2-4\n",
      "Profile 0:\n",
      "  Ch #02 refl=254.458984\n",
      "  Ch #03 refl=230.321242\n",
      "  Ch #04 refl=217.682426\n",
      "SELECTED OUTPUT\n",
      "MSU visible channel reflectances, channels 2-4\n",
      "Profile 0:\n",
      "  Ch #02 refl=253.646275\n",
      "  Ch #03 refl=228.476786\n",
      "  Ch #04 refl=214.854329\n"
     ]
    },
    {
     "name": "stderr",
     "output_type": "stream",
     "text": [
      "MW emissivity atlas loaded successfully\n",
      "No surface emissivity/reflectance supplied: setting calcemis and calcrefl to true\n",
      "Deallocating this inst_id.\n",
      "Atlas deallocated.\n",
      "Load successful >>>>> inst_id : 1, nchannels : 3.\n"
     ]
    },
    {
     "name": "stdout",
     "output_type": "stream",
     "text": [
      "SELECTED OUTPUT\n",
      "MSU visible channel reflectances, channels 2-4\n",
      "Profile 0:\n",
      "  Ch #02 refl=249.747570\n",
      "  Ch #03 refl=227.585877\n",
      "  Ch #04 refl=216.796851\n"
     ]
    },
    {
     "name": "stderr",
     "output_type": "stream",
     "text": [
      "MW emissivity atlas loaded successfully\n",
      "No surface emissivity/reflectance supplied: setting calcemis and calcrefl to true\n",
      "Deallocating this inst_id.\n",
      "Atlas deallocated.\n",
      "Load successful >>>>> inst_id : 1, nchannels : 3.\n",
      "MW emissivity atlas loaded successfully\n",
      "No surface emissivity/reflectance supplied: setting calcemis and calcrefl to true\n",
      "Deallocating this inst_id.\n",
      "Atlas deallocated.\n",
      "Load successful >>>>> inst_id : 1, nchannels : 3.\n"
     ]
    },
    {
     "name": "stdout",
     "output_type": "stream",
     "text": [
      "SELECTED OUTPUT\n",
      "MSU visible channel reflectances, channels 2-4\n",
      "Profile 0:\n",
      "  Ch #02 refl=247.129340\n",
      "  Ch #03 refl=225.594340\n",
      "  Ch #04 refl=215.185550\n",
      "SELECTED OUTPUT\n",
      "MSU visible channel reflectances, channels 2-4\n",
      "Profile 0:\n",
      "  Ch #02 refl=244.716599\n",
      "  Ch #03 refl=225.796286\n",
      "  Ch #04 refl=217.607024\n"
     ]
    },
    {
     "name": "stderr",
     "output_type": "stream",
     "text": [
      "MW emissivity atlas loaded successfully\n",
      "No surface emissivity/reflectance supplied: setting calcemis and calcrefl to true\n",
      "Deallocating this inst_id.\n",
      "Atlas deallocated.\n",
      "Load successful >>>>> inst_id : 1, nchannels : 3.\n"
     ]
    },
    {
     "name": "stdout",
     "output_type": "stream",
     "text": [
      "SELECTED OUTPUT\n",
      "MSU visible channel reflectances, channels 2-4\n",
      "Profile 0:\n",
      "  Ch #02 refl=244.619784\n",
      "  Ch #03 refl=225.141837\n",
      "  Ch #04 refl=216.021701\n"
     ]
    },
    {
     "name": "stderr",
     "output_type": "stream",
     "text": [
      "MW emissivity atlas loaded successfully\n",
      "No surface emissivity/reflectance supplied: setting calcemis and calcrefl to true\n",
      "Deallocating this inst_id.\n",
      "Atlas deallocated.\n",
      "Load successful >>>>> inst_id : 1, nchannels : 3.\n"
     ]
    },
    {
     "name": "stdout",
     "output_type": "stream",
     "text": [
      "SELECTED OUTPUT\n",
      "MSU visible channel reflectances, channels 2-4\n",
      "Profile 0:\n",
      "  Ch #02 refl=240.933591\n",
      "  Ch #03 refl=223.994740\n",
      "  Ch #04 refl=218.199573\n"
     ]
    },
    {
     "name": "stderr",
     "output_type": "stream",
     "text": [
      "MW emissivity atlas loaded successfully\n",
      "No surface emissivity/reflectance supplied: setting calcemis and calcrefl to true\n",
      "Deallocating this inst_id.\n",
      "Atlas deallocated.\n",
      "Load successful >>>>> inst_id : 1, nchannels : 3.\n"
     ]
    },
    {
     "name": "stdout",
     "output_type": "stream",
     "text": [
      "SELECTED OUTPUT\n",
      "MSU visible channel reflectances, channels 2-4\n",
      "Profile 0:\n",
      "  Ch #02 refl=249.694020\n",
      "  Ch #03 refl=249.694299\n",
      "  Ch #04 refl=249.694842\n"
     ]
    },
    {
     "name": "stderr",
     "output_type": "stream",
     "text": [
      "MW emissivity atlas loaded successfully\n",
      "No surface emissivity/reflectance supplied: setting calcemis and calcrefl to true\n",
      "Deallocating this inst_id.\n",
      "Atlas deallocated.\n",
      "Load successful >>>>> inst_id : 1, nchannels : 3.\n",
      "MW emissivity atlas loaded successfully\n",
      "No surface emissivity/reflectance supplied: setting calcemis and calcrefl to true\n",
      "Deallocating this inst_id.\n",
      "Atlas deallocated.\n",
      "Load successful >>>>> inst_id : 1, nchannels : 3.\n"
     ]
    },
    {
     "name": "stdout",
     "output_type": "stream",
     "text": [
      "SELECTED OUTPUT\n",
      "MSU visible channel reflectances, channels 2-4\n",
      "Profile 0:\n",
      "  Ch #02 refl=247.292377\n",
      "  Ch #03 refl=226.368916\n",
      "  Ch #04 refl=218.476072\n",
      "SELECTED OUTPUT\n",
      "MSU visible channel reflectances, channels 2-4\n",
      "Profile 0:\n",
      "  Ch #02 refl=250.164185\n",
      "  Ch #03 refl=228.612108\n",
      "  Ch #04 refl=219.643123\n"
     ]
    },
    {
     "name": "stderr",
     "output_type": "stream",
     "text": [
      "MW emissivity atlas loaded successfully\n",
      "No surface emissivity/reflectance supplied: setting calcemis and calcrefl to true\n",
      "Deallocating this inst_id.\n",
      "Atlas deallocated.\n",
      "Load successful >>>>> inst_id : 1, nchannels : 3.\n",
      "MW emissivity atlas loaded successfully\n"
     ]
    },
    {
     "name": "stdout",
     "output_type": "stream",
     "text": [
      "SELECTED OUTPUT\n",
      "MSU visible channel reflectances, channels 2-4\n",
      "Profile 0:\n",
      "  Ch #02 refl=252.179557\n",
      "  Ch #03 refl=229.112153\n",
      "  Ch #04 refl=218.814958\n"
     ]
    },
    {
     "name": "stderr",
     "output_type": "stream",
     "text": [
      "No surface emissivity/reflectance supplied: setting calcemis and calcrefl to true\n",
      "Deallocating this inst_id.\n",
      "Atlas deallocated.\n",
      "Load successful >>>>> inst_id : 1, nchannels : 3.\n"
     ]
    },
    {
     "name": "stdout",
     "output_type": "stream",
     "text": [
      "SELECTED OUTPUT\n",
      "MSU visible channel reflectances, channels 2-4\n",
      "Profile 0:\n",
      "  Ch #02 refl=255.472038\n",
      "  Ch #03 refl=230.918607\n",
      "  Ch #04 refl=217.440710\n"
     ]
    },
    {
     "name": "stderr",
     "output_type": "stream",
     "text": [
      "MW emissivity atlas loaded successfully\n",
      "No surface emissivity/reflectance supplied: setting calcemis and calcrefl to true\n",
      "Deallocating this inst_id.\n",
      "Atlas deallocated.\n",
      "Load successful >>>>> inst_id : 1, nchannels : 3.\n"
     ]
    },
    {
     "name": "stdout",
     "output_type": "stream",
     "text": [
      "SELECTED OUTPUT\n",
      "MSU visible channel reflectances, channels 2-4\n",
      "Profile 0:\n",
      "  Ch #02 refl=254.575049\n",
      "  Ch #03 refl=231.079504\n",
      "  Ch #04 refl=220.157242\n"
     ]
    },
    {
     "name": "stderr",
     "output_type": "stream",
     "text": [
      "MW emissivity atlas loaded successfully\n",
      "No surface emissivity/reflectance supplied: setting calcemis and calcrefl to true\n",
      "Deallocating this inst_id.\n",
      "Atlas deallocated.\n",
      "Load successful >>>>> inst_id : 1, nchannels : 3.\n"
     ]
    },
    {
     "name": "stdout",
     "output_type": "stream",
     "text": [
      "SELECTED OUTPUT\n",
      "MSU visible channel reflectances, channels 2-4\n",
      "Profile 0:\n",
      "  Ch #02 refl=252.763904\n",
      "  Ch #03 refl=229.296887\n",
      "  Ch #04 refl=216.347079\n"
     ]
    },
    {
     "name": "stderr",
     "output_type": "stream",
     "text": [
      "MW emissivity atlas loaded successfully\n",
      "No surface emissivity/reflectance supplied: setting calcemis and calcrefl to true\n",
      "Deallocating this inst_id.\n",
      "Atlas deallocated.\n",
      "Load successful >>>>> inst_id : 1, nchannels : 3.\n"
     ]
    },
    {
     "name": "stdout",
     "output_type": "stream",
     "text": [
      "SELECTED OUTPUT\n",
      "MSU visible channel reflectances, channels 2-4\n",
      "Profile 0:\n",
      "  Ch #02 refl=249.763755\n",
      "  Ch #03 refl=227.191183\n",
      "  Ch #04 refl=215.735530\n"
     ]
    },
    {
     "name": "stderr",
     "output_type": "stream",
     "text": [
      "MW emissivity atlas loaded successfully\n",
      "No surface emissivity/reflectance supplied: setting calcemis and calcrefl to true\n",
      "Deallocating this inst_id.\n",
      "Atlas deallocated.\n",
      "Load successful >>>>> inst_id : 1, nchannels : 3.\n"
     ]
    },
    {
     "name": "stdout",
     "output_type": "stream",
     "text": [
      "SELECTED OUTPUT\n",
      "MSU visible channel reflectances, channels 2-4\n",
      "Profile 0:\n",
      "  Ch #02 refl=245.350294\n",
      "  Ch #03 refl=224.763691\n",
      "  Ch #04 refl=214.654301\n"
     ]
    },
    {
     "name": "stderr",
     "output_type": "stream",
     "text": [
      "MW emissivity atlas loaded successfully\n",
      "No surface emissivity/reflectance supplied: setting calcemis and calcrefl to true\n",
      "Deallocating this inst_id.\n",
      "Atlas deallocated.\n",
      "Load successful >>>>> inst_id : 1, nchannels : 3.\n"
     ]
    },
    {
     "name": "stdout",
     "output_type": "stream",
     "text": [
      "SELECTED OUTPUT\n",
      "MSU visible channel reflectances, channels 2-4\n",
      "Profile 0:\n",
      "  Ch #02 refl=244.320635\n",
      "  Ch #03 refl=224.979724\n",
      "  Ch #04 refl=216.019953\n"
     ]
    },
    {
     "name": "stderr",
     "output_type": "stream",
     "text": [
      "MW emissivity atlas loaded successfully\n",
      "No surface emissivity/reflectance supplied: setting calcemis and calcrefl to true\n",
      "Deallocating this inst_id.\n",
      "Atlas deallocated.\n",
      "Load successful >>>>> inst_id : 1, nchannels : 3.\n"
     ]
    },
    {
     "name": "stdout",
     "output_type": "stream",
     "text": [
      "SELECTED OUTPUT\n",
      "MSU visible channel reflectances, channels 2-4\n",
      "Profile 0:\n",
      "  Ch #02 refl=243.123262\n",
      "  Ch #03 refl=225.567739\n",
      "  Ch #04 refl=218.637710\n"
     ]
    },
    {
     "name": "stderr",
     "output_type": "stream",
     "text": [
      "MW emissivity atlas loaded successfully\n",
      "No surface emissivity/reflectance supplied: setting calcemis and calcrefl to true\n",
      "Deallocating this inst_id.\n",
      "Atlas deallocated.\n",
      "Load successful >>>>> inst_id : 1, nchannels : 3.\n"
     ]
    },
    {
     "name": "stdout",
     "output_type": "stream",
     "text": [
      "SELECTED OUTPUT\n",
      "MSU visible channel reflectances, channels 2-4\n",
      "Profile 0:\n",
      "  Ch #02 refl=241.764446\n",
      "  Ch #03 refl=224.047350\n",
      "  Ch #04 refl=216.057159\n"
     ]
    },
    {
     "name": "stderr",
     "output_type": "stream",
     "text": [
      "MW emissivity atlas loaded successfully\n",
      "No surface emissivity/reflectance supplied: setting calcemis and calcrefl to true\n",
      "Error running RTTOV direct model: Error in rttov_call_directDeallocating this inst_id.\n",
      "Atlas deallocated.\n",
      "Load successful >>>>> inst_id : 1, nchannels : 3.\n",
      "MW emissivity atlas loaded successfully\n",
      "No surface emissivity/reflectance supplied: setting calcemis and calcrefl to true\n",
      "Deallocating this inst_id.\n",
      "Atlas deallocated.\n",
      "Load successful >>>>> inst_id : 1, nchannels : 3.\n",
      "MW emissivity atlas loaded successfully\n"
     ]
    },
    {
     "name": "stdout",
     "output_type": "stream",
     "text": [
      "SELECTED OUTPUT\n",
      "MSU visible channel reflectances, channels 2-4\n",
      "Profile 0:\n",
      "  Ch #02 refl=245.454575\n",
      "  Ch #03 refl=225.740885\n",
      "  Ch #04 refl=217.846352\n"
     ]
    },
    {
     "name": "stderr",
     "output_type": "stream",
     "text": [
      "No surface emissivity/reflectance supplied: setting calcemis and calcrefl to true\n",
      "Deallocating this inst_id.\n",
      "Atlas deallocated.\n",
      "Load successful >>>>> inst_id : 1, nchannels : 3.\n"
     ]
    },
    {
     "name": "stdout",
     "output_type": "stream",
     "text": [
      "SELECTED OUTPUT\n",
      "MSU visible channel reflectances, channels 2-4\n",
      "Profile 0:\n",
      "  Ch #02 refl=249.184524\n",
      "  Ch #03 refl=228.300973\n",
      "  Ch #04 refl=219.440875\n"
     ]
    },
    {
     "name": "stderr",
     "output_type": "stream",
     "text": [
      "MW emissivity atlas loaded successfully\n",
      "No surface emissivity/reflectance supplied: setting calcemis and calcrefl to true\n",
      "Deallocating this inst_id.\n",
      "Atlas deallocated.\n",
      "Load successful >>>>> inst_id : 1, nchannels : 3.\n"
     ]
    },
    {
     "name": "stdout",
     "output_type": "stream",
     "text": [
      "SELECTED OUTPUT\n",
      "MSU visible channel reflectances, channels 2-4\n",
      "Profile 0:\n",
      "  Ch #02 refl=251.369324\n",
      "  Ch #03 refl=229.711491\n",
      "  Ch #04 refl=220.319928\n"
     ]
    },
    {
     "name": "stderr",
     "output_type": "stream",
     "text": [
      "MW emissivity atlas loaded successfully\n",
      "No surface emissivity/reflectance supplied: setting calcemis and calcrefl to true\n",
      "Deallocating this inst_id.\n",
      "Atlas deallocated.\n",
      "Load successful >>>>> inst_id : 1, nchannels : 3.\n"
     ]
    },
    {
     "name": "stdout",
     "output_type": "stream",
     "text": [
      "SELECTED OUTPUT\n",
      "MSU visible channel reflectances, channels 2-4\n",
      "Profile 0:\n",
      "  Ch #02 refl=253.262316\n",
      "  Ch #03 refl=231.649666\n",
      "  Ch #04 refl=221.664864\n"
     ]
    },
    {
     "name": "stderr",
     "output_type": "stream",
     "text": [
      "MW emissivity atlas loaded successfully\n",
      "No surface emissivity/reflectance supplied: setting calcemis and calcrefl to true\n",
      "Deallocating this inst_id.\n",
      "Atlas deallocated.\n",
      "Load successful >>>>> inst_id : 1, nchannels : 3.\n"
     ]
    },
    {
     "name": "stdout",
     "output_type": "stream",
     "text": [
      "SELECTED OUTPUT\n",
      "MSU visible channel reflectances, channels 2-4\n",
      "Profile 0:\n",
      "  Ch #02 refl=238.749797\n",
      "  Ch #03 refl=238.780251\n",
      "  Ch #04 refl=239.070146\n"
     ]
    },
    {
     "name": "stderr",
     "output_type": "stream",
     "text": [
      "MW emissivity atlas loaded successfully\n",
      "No surface emissivity/reflectance supplied: setting calcemis and calcrefl to true\n",
      "Deallocating this inst_id.\n",
      "Atlas deallocated.\n",
      "Load successful >>>>> inst_id : 1, nchannels : 3.\n"
     ]
    },
    {
     "name": "stdout",
     "output_type": "stream",
     "text": [
      "SELECTED OUTPUT\n",
      "MSU visible channel reflectances, channels 2-4\n",
      "Profile 0:\n",
      "  Ch #02 refl=251.456368\n",
      "  Ch #03 refl=229.485230\n",
      "  Ch #04 refl=219.782554\n"
     ]
    },
    {
     "name": "stderr",
     "output_type": "stream",
     "text": [
      "MW emissivity atlas loaded successfully\n",
      "No surface emissivity/reflectance supplied: setting calcemis and calcrefl to true\n",
      "Deallocating this inst_id.\n",
      "Atlas deallocated.\n",
      "Load successful >>>>> inst_id : 1, nchannels : 3.\n"
     ]
    },
    {
     "name": "stdout",
     "output_type": "stream",
     "text": [
      "SELECTED OUTPUT\n",
      "MSU visible channel reflectances, channels 2-4\n",
      "Profile 0:\n",
      "  Ch #02 refl=250.237755\n",
      "  Ch #03 refl=227.351358\n",
      "  Ch #04 refl=215.234013\n"
     ]
    },
    {
     "name": "stderr",
     "output_type": "stream",
     "text": [
      "MW emissivity atlas loaded successfully\n",
      "No surface emissivity/reflectance supplied: setting calcemis and calcrefl to true\n",
      "Deallocating this inst_id.\n",
      "Atlas deallocated.\n",
      "Load successful >>>>> inst_id : 1, nchannels : 3.\n"
     ]
    },
    {
     "name": "stdout",
     "output_type": "stream",
     "text": [
      "SELECTED OUTPUT\n",
      "MSU visible channel reflectances, channels 2-4\n",
      "Profile 0:\n",
      "  Ch #02 refl=247.200144\n",
      "  Ch #03 refl=225.320802\n",
      "  Ch #04 refl=214.629598\n"
     ]
    },
    {
     "name": "stderr",
     "output_type": "stream",
     "text": [
      "MW emissivity atlas loaded successfully\n",
      "No surface emissivity/reflectance supplied: setting calcemis and calcrefl to true\n",
      "Deallocating this inst_id.\n",
      "Atlas deallocated.\n",
      "Load successful >>>>> inst_id : 1, nchannels : 3.\n"
     ]
    },
    {
     "name": "stdout",
     "output_type": "stream",
     "text": [
      "SELECTED OUTPUT\n",
      "MSU visible channel reflectances, channels 2-4\n",
      "Profile 0:\n",
      "  Ch #02 refl=244.165050\n",
      "  Ch #03 refl=225.621195\n",
      "  Ch #04 refl=218.292212\n"
     ]
    },
    {
     "name": "stderr",
     "output_type": "stream",
     "text": [
      "MW emissivity atlas loaded successfully\n",
      "No surface emissivity/reflectance supplied: setting calcemis and calcrefl to true\n",
      "Deallocating this inst_id.\n",
      "Atlas deallocated.\n",
      "Load successful >>>>> inst_id : 1, nchannels : 3.\n"
     ]
    },
    {
     "name": "stdout",
     "output_type": "stream",
     "text": [
      "SELECTED OUTPUT\n",
      "MSU visible channel reflectances, channels 2-4\n",
      "Profile 0:\n",
      "  Ch #02 refl=239.813909\n",
      "  Ch #03 refl=223.298834\n",
      "  Ch #04 refl=216.204080\n"
     ]
    },
    {
     "name": "stderr",
     "output_type": "stream",
     "text": [
      "MW emissivity atlas loaded successfully\n",
      "No surface emissivity/reflectance supplied: setting calcemis and calcrefl to true\n",
      "Deallocating this inst_id.\n",
      "Atlas deallocated.\n",
      "Load successful >>>>> inst_id : 1, nchannels : 3.\n",
      "MW emissivity atlas loaded successfully\n"
     ]
    },
    {
     "name": "stdout",
     "output_type": "stream",
     "text": [
      "SELECTED OUTPUT\n",
      "MSU visible channel reflectances, channels 2-4\n",
      "Profile 0:\n",
      "  Ch #02 refl=241.570850\n",
      "  Ch #03 refl=224.395955\n",
      "  Ch #04 refl=216.962194\n"
     ]
    },
    {
     "name": "stderr",
     "output_type": "stream",
     "text": [
      "No surface emissivity/reflectance supplied: setting calcemis and calcrefl to true\n",
      "Deallocating this inst_id.\n",
      "Atlas deallocated.\n",
      "Load successful >>>>> inst_id : 1, nchannels : 3.\n"
     ]
    },
    {
     "name": "stdout",
     "output_type": "stream",
     "text": [
      "SELECTED OUTPUT\n",
      "MSU visible channel reflectances, channels 2-4\n",
      "Profile 0:\n",
      "  Ch #02 refl=243.832692\n",
      "  Ch #03 refl=225.284683\n",
      "  Ch #04 refl=217.288167\n"
     ]
    },
    {
     "name": "stderr",
     "output_type": "stream",
     "text": [
      "MW emissivity atlas loaded successfully\n",
      "No surface emissivity/reflectance supplied: setting calcemis and calcrefl to true\n",
      "Deallocating this inst_id.\n",
      "Atlas deallocated.\n",
      "Load successful >>>>> inst_id : 1, nchannels : 3.\n"
     ]
    },
    {
     "name": "stdout",
     "output_type": "stream",
     "text": [
      "SELECTED OUTPUT\n",
      "MSU visible channel reflectances, channels 2-4\n",
      "Profile 0:\n",
      "  Ch #02 refl=246.769068\n",
      "  Ch #03 refl=227.549777\n",
      "  Ch #04 refl=220.133018\n"
     ]
    },
    {
     "name": "stderr",
     "output_type": "stream",
     "text": [
      "MW emissivity atlas loaded successfully\n",
      "No surface emissivity/reflectance supplied: setting calcemis and calcrefl to true\n",
      "Deallocating this inst_id.\n",
      "Atlas deallocated.\n",
      "Load successful >>>>> inst_id : 1, nchannels : 3.\n"
     ]
    },
    {
     "name": "stdout",
     "output_type": "stream",
     "text": [
      "SELECTED OUTPUT\n",
      "MSU visible channel reflectances, channels 2-4\n",
      "Profile 0:\n",
      "  Ch #02 refl=214.300003\n",
      "  Ch #03 refl=214.300003\n",
      "  Ch #04 refl=214.300003\n"
     ]
    },
    {
     "name": "stderr",
     "output_type": "stream",
     "text": [
      "MW emissivity atlas loaded successfully\n",
      "No surface emissivity/reflectance supplied: setting calcemis and calcrefl to true\n",
      "Deallocating this inst_id.\n",
      "Atlas deallocated.\n",
      "Load successful >>>>> inst_id : 1, nchannels : 3.\n"
     ]
    },
    {
     "name": "stdout",
     "output_type": "stream",
     "text": [
      "SELECTED OUTPUT\n",
      "MSU visible channel reflectances, channels 2-4\n",
      "Profile 0:\n",
      "  Ch #02 refl=251.310087\n",
      "  Ch #03 refl=230.603155\n",
      "  Ch #04 refl=222.166080\n"
     ]
    },
    {
     "name": "stderr",
     "output_type": "stream",
     "text": [
      "MW emissivity atlas loaded successfully\n",
      "No surface emissivity/reflectance supplied: setting calcemis and calcrefl to true\n",
      "Deallocating this inst_id.\n",
      "Atlas deallocated.\n",
      "Load successful >>>>> inst_id : 1, nchannels : 3.\n"
     ]
    },
    {
     "name": "stdout",
     "output_type": "stream",
     "text": [
      "SELECTED OUTPUT\n",
      "MSU visible channel reflectances, channels 2-4\n",
      "Profile 0:\n",
      "  Ch #02 refl=253.919085\n",
      "  Ch #03 refl=229.621377\n",
      "  Ch #04 refl=216.357603\n"
     ]
    },
    {
     "name": "stderr",
     "output_type": "stream",
     "text": [
      "MW emissivity atlas loaded successfully\n",
      "No surface emissivity/reflectance supplied: setting calcemis and calcrefl to true\n",
      "Deallocating this inst_id.\n",
      "Atlas deallocated.\n",
      "Load successful >>>>> inst_id : 1, nchannels : 3.\n",
      "MW emissivity atlas loaded successfully\n",
      "No surface emissivity/reflectance supplied: setting calcemis and calcrefl to true\n",
      "Deallocating this inst_id.\n",
      "Atlas deallocated.\n",
      "Load successful >>>>> inst_id : 1, nchannels : 3.\n"
     ]
    },
    {
     "name": "stdout",
     "output_type": "stream",
     "text": [
      "SELECTED OUTPUT\n",
      "MSU visible channel reflectances, channels 2-4\n",
      "Profile 0:\n",
      "  Ch #02 refl=254.040500\n",
      "  Ch #03 refl=230.228016\n",
      "  Ch #04 refl=216.803321\n",
      "SELECTED OUTPUT\n",
      "MSU visible channel reflectances, channels 2-4\n",
      "Profile 0:\n",
      "  Ch #02 refl=252.425548\n",
      "  Ch #03 refl=229.027149\n",
      "  Ch #04 refl=217.558446\n"
     ]
    },
    {
     "name": "stderr",
     "output_type": "stream",
     "text": [
      "MW emissivity atlas loaded successfully\n",
      "No surface emissivity/reflectance supplied: setting calcemis and calcrefl to true\n",
      "Deallocating this inst_id.\n",
      "Atlas deallocated.\n",
      "Load successful >>>>> inst_id : 1, nchannels : 3.\n"
     ]
    },
    {
     "name": "stdout",
     "output_type": "stream",
     "text": [
      "SELECTED OUTPUT\n",
      "MSU visible channel reflectances, channels 2-4\n",
      "Profile 0:\n",
      "  Ch #02 refl=249.336116\n",
      "  Ch #03 refl=226.645478\n",
      "  Ch #04 refl=216.221940\n"
     ]
    },
    {
     "name": "stderr",
     "output_type": "stream",
     "text": [
      "MW emissivity atlas loaded successfully\n",
      "No surface emissivity/reflectance supplied: setting calcemis and calcrefl to true\n",
      "Deallocating this inst_id.\n",
      "Atlas deallocated.\n",
      "Load successful >>>>> inst_id : 1, nchannels : 3.\n"
     ]
    },
    {
     "name": "stdout",
     "output_type": "stream",
     "text": [
      "SELECTED OUTPUT\n",
      "MSU visible channel reflectances, channels 2-4\n",
      "Profile 0:\n",
      "  Ch #02 refl=244.111995\n",
      "  Ch #03 refl=224.858651\n",
      "  Ch #04 refl=215.169103\n"
     ]
    },
    {
     "name": "stderr",
     "output_type": "stream",
     "text": [
      "MW emissivity atlas loaded successfully\n",
      "No surface emissivity/reflectance supplied: setting calcemis and calcrefl to true\n",
      "Deallocating this inst_id.\n",
      "Atlas deallocated.\n",
      "Load successful >>>>> inst_id : 1, nchannels : 3.\n"
     ]
    },
    {
     "name": "stdout",
     "output_type": "stream",
     "text": [
      "SELECTED OUTPUT\n",
      "MSU visible channel reflectances, channels 2-4\n",
      "Profile 0:\n",
      "  Ch #02 refl=245.871201\n",
      "  Ch #03 refl=225.470430\n",
      "  Ch #04 refl=216.206775\n"
     ]
    },
    {
     "name": "stderr",
     "output_type": "stream",
     "text": [
      "MW emissivity atlas loaded successfully\n",
      "No surface emissivity/reflectance supplied: setting calcemis and calcrefl to true\n",
      "Deallocating this inst_id.\n",
      "Atlas deallocated.\n",
      "Load successful >>>>> inst_id : 1, nchannels : 3.\n"
     ]
    },
    {
     "name": "stdout",
     "output_type": "stream",
     "text": [
      "SELECTED OUTPUT\n",
      "MSU visible channel reflectances, channels 2-4\n",
      "Profile 0:\n",
      "  Ch #02 refl=241.766465\n",
      "  Ch #03 refl=224.172474\n",
      "  Ch #04 refl=216.687404\n"
     ]
    },
    {
     "name": "stderr",
     "output_type": "stream",
     "text": [
      "MW emissivity atlas loaded successfully\n",
      "No surface emissivity/reflectance supplied: setting calcemis and calcrefl to true\n",
      "Deallocating this inst_id.\n",
      "Atlas deallocated.\n",
      "Load successful >>>>> inst_id : 1, nchannels : 3.\n"
     ]
    },
    {
     "name": "stdout",
     "output_type": "stream",
     "text": [
      "SELECTED OUTPUT\n",
      "MSU visible channel reflectances, channels 2-4\n",
      "Profile 0:\n",
      "  Ch #02 refl=240.284594\n",
      "  Ch #03 refl=224.241376\n",
      "  Ch #04 refl=219.308657\n"
     ]
    },
    {
     "name": "stderr",
     "output_type": "stream",
     "text": [
      "MW emissivity atlas loaded successfully\n",
      "No surface emissivity/reflectance supplied: setting calcemis and calcrefl to true\n",
      "Deallocating this inst_id.\n",
      "Atlas deallocated.\n",
      "Load successful >>>>> inst_id : 1, nchannels : 3.\n"
     ]
    },
    {
     "name": "stdout",
     "output_type": "stream",
     "text": [
      "SELECTED OUTPUT\n",
      "MSU visible channel reflectances, channels 2-4\n",
      "Profile 0:\n",
      "  Ch #02 refl=244.951656\n",
      "  Ch #03 refl=227.548738\n",
      "  Ch #04 refl=225.978579\n"
     ]
    },
    {
     "name": "stderr",
     "output_type": "stream",
     "text": [
      "MW emissivity atlas loaded successfully\n",
      "No surface emissivity/reflectance supplied: setting calcemis and calcrefl to true\n",
      "Deallocating this inst_id.\n",
      "Atlas deallocated.\n",
      "Load successful >>>>> inst_id : 1, nchannels : 3.\n"
     ]
    },
    {
     "name": "stdout",
     "output_type": "stream",
     "text": [
      "SELECTED OUTPUT\n",
      "MSU visible channel reflectances, channels 2-4\n",
      "Profile 0:\n",
      "  Ch #02 refl=247.324301\n",
      "  Ch #03 refl=227.245289\n",
      "  Ch #04 refl=220.823303\n"
     ]
    },
    {
     "name": "stderr",
     "output_type": "stream",
     "text": [
      "MW emissivity atlas loaded successfully\n",
      "No surface emissivity/reflectance supplied: setting calcemis and calcrefl to true\n",
      "Deallocating this inst_id.\n",
      "Atlas deallocated.\n",
      "Load successful >>>>> inst_id : 1, nchannels : 3.\n"
     ]
    },
    {
     "name": "stdout",
     "output_type": "stream",
     "text": [
      "SELECTED OUTPUT\n",
      "MSU visible channel reflectances, channels 2-4\n",
      "Profile 0:\n",
      "  Ch #02 refl=251.168275\n",
      "  Ch #03 refl=227.295392\n",
      "  Ch #04 refl=217.227637\n"
     ]
    },
    {
     "name": "stderr",
     "output_type": "stream",
     "text": [
      "MW emissivity atlas loaded successfully\n",
      "No surface emissivity/reflectance supplied: setting calcemis and calcrefl to true\n",
      "Deallocating this inst_id.\n",
      "Atlas deallocated.\n",
      "Load successful >>>>> inst_id : 1, nchannels : 3.\n"
     ]
    },
    {
     "name": "stdout",
     "output_type": "stream",
     "text": [
      "SELECTED OUTPUT\n",
      "MSU visible channel reflectances, channels 2-4\n",
      "Profile 0:\n",
      "  Ch #02 refl=252.312774\n",
      "  Ch #03 refl=229.987291\n",
      "  Ch #04 refl=221.159910\n"
     ]
    },
    {
     "name": "stderr",
     "output_type": "stream",
     "text": [
      "MW emissivity atlas loaded successfully\n",
      "No surface emissivity/reflectance supplied: setting calcemis and calcrefl to true\n",
      "Deallocating this inst_id.\n",
      "Atlas deallocated.\n",
      "Load successful >>>>> inst_id : 1, nchannels : 3.\n",
      "MW emissivity atlas loaded successfully\n",
      "No surface emissivity/reflectance supplied: setting calcemis and calcrefl to true\n"
     ]
    },
    {
     "name": "stdout",
     "output_type": "stream",
     "text": [
      "SELECTED OUTPUT\n",
      "MSU visible channel reflectances, channels 2-4\n",
      "Profile 0:\n",
      "  Ch #02 refl=253.359095\n",
      "  Ch #03 refl=230.237374\n",
      "  Ch #04 refl=218.256503\n",
      "SELECTED OUTPUT\n",
      "MSU visible channel reflectances, channels 2-4\n",
      "Profile 0:\n",
      "  Ch #02 refl=254.264884\n",
      "  Ch #03 refl=230.466346\n",
      "  Ch #04 refl=218.561573\n"
     ]
    },
    {
     "name": "stderr",
     "output_type": "stream",
     "text": [
      "Deallocating this inst_id.\n",
      "Atlas deallocated.\n",
      "Load successful >>>>> inst_id : 1, nchannels : 3.\n",
      "MW emissivity atlas loaded successfully\n"
     ]
    },
    {
     "name": "stdout",
     "output_type": "stream",
     "text": [
      "SELECTED OUTPUT\n",
      "MSU visible channel reflectances, channels 2-4\n",
      "Profile 0:\n",
      "  Ch #02 refl=249.235691\n",
      "  Ch #03 refl=228.773396\n",
      "  Ch #04 refl=220.954810\n"
     ]
    },
    {
     "name": "stderr",
     "output_type": "stream",
     "text": [
      "No surface emissivity/reflectance supplied: setting calcemis and calcrefl to true\n",
      "Deallocating this inst_id.\n",
      "Atlas deallocated.\n",
      "Load successful >>>>> inst_id : 1, nchannels : 3.\n",
      "MW emissivity atlas loaded successfully\n",
      "No surface emissivity/reflectance supplied: setting calcemis and calcrefl to true\n",
      "Deallocating this inst_id.\n",
      "Atlas deallocated.\n",
      "Load successful >>>>> inst_id : 1, nchannels : 3.\n"
     ]
    },
    {
     "name": "stdout",
     "output_type": "stream",
     "text": [
      "SELECTED OUTPUT\n",
      "MSU visible channel reflectances, channels 2-4\n",
      "Profile 0:\n",
      "  Ch #02 refl=250.092120\n",
      "  Ch #03 refl=227.039043\n",
      "  Ch #04 refl=215.733520\n"
     ]
    },
    {
     "name": "stderr",
     "output_type": "stream",
     "text": [
      "MW emissivity atlas loaded successfully\n",
      "No surface emissivity/reflectance supplied: setting calcemis and calcrefl to true\n",
      "Deallocating this inst_id.\n",
      "Atlas deallocated.\n",
      "Load successful >>>>> inst_id : 1, nchannels : 3.\n"
     ]
    },
    {
     "name": "stdout",
     "output_type": "stream",
     "text": [
      "SELECTED OUTPUT\n",
      "MSU visible channel reflectances, channels 2-4\n",
      "Profile 0:\n",
      "  Ch #02 refl=246.979251\n",
      "  Ch #03 refl=224.985621\n",
      "  Ch #04 refl=214.074283\n"
     ]
    },
    {
     "name": "stderr",
     "output_type": "stream",
     "text": [
      "MW emissivity atlas loaded successfully\n",
      "No surface emissivity/reflectance supplied: setting calcemis and calcrefl to true\n",
      "Deallocating this inst_id.\n",
      "Atlas deallocated.\n",
      "Load successful >>>>> inst_id : 1, nchannels : 3.\n"
     ]
    },
    {
     "name": "stdout",
     "output_type": "stream",
     "text": [
      "SELECTED OUTPUT\n",
      "MSU visible channel reflectances, channels 2-4\n",
      "Profile 0:\n",
      "  Ch #02 refl=243.061371\n",
      "  Ch #03 refl=223.727614\n",
      "  Ch #04 refl=214.959961\n"
     ]
    },
    {
     "name": "stderr",
     "output_type": "stream",
     "text": [
      "MW emissivity atlas loaded successfully\n",
      "No surface emissivity/reflectance supplied: setting calcemis and calcrefl to true\n",
      "Deallocating this inst_id.\n",
      "Atlas deallocated.\n",
      "Load successful >>>>> inst_id : 1, nchannels : 3.\n"
     ]
    },
    {
     "name": "stdout",
     "output_type": "stream",
     "text": [
      "SELECTED OUTPUT\n",
      "MSU visible channel reflectances, channels 2-4\n",
      "Profile 0:\n",
      "  Ch #02 refl=240.646333\n",
      "  Ch #03 refl=222.733108\n",
      "  Ch #04 refl=213.814657\n"
     ]
    },
    {
     "name": "stderr",
     "output_type": "stream",
     "text": [
      "MW emissivity atlas loaded successfully\n",
      "No surface emissivity/reflectance supplied: setting calcemis and calcrefl to true\n",
      "Deallocating this inst_id.\n",
      "Atlas deallocated.\n",
      "Load successful >>>>> inst_id : 1, nchannels : 3.\n"
     ]
    },
    {
     "name": "stdout",
     "output_type": "stream",
     "text": [
      "SELECTED OUTPUT\n",
      "MSU visible channel reflectances, channels 2-4\n",
      "Profile 0:\n",
      "  Ch #02 refl=243.419657\n",
      "  Ch #03 refl=224.387054\n",
      "  Ch #04 refl=216.714728\n"
     ]
    },
    {
     "name": "stderr",
     "output_type": "stream",
     "text": [
      "MW emissivity atlas loaded successfully\n",
      "No surface emissivity/reflectance supplied: setting calcemis and calcrefl to true\n",
      "Deallocating this inst_id.\n",
      "Atlas deallocated.\n",
      "Load successful >>>>> inst_id : 1, nchannels : 3.\n"
     ]
    },
    {
     "name": "stdout",
     "output_type": "stream",
     "text": [
      "SELECTED OUTPUT\n",
      "MSU visible channel reflectances, channels 2-4\n",
      "Profile 0:\n",
      "  Ch #02 refl=241.357036\n",
      "  Ch #03 refl=224.858713\n",
      "  Ch #04 refl=219.359362\n"
     ]
    },
    {
     "name": "stderr",
     "output_type": "stream",
     "text": [
      "MW emissivity atlas loaded successfully\n",
      "No surface emissivity/reflectance supplied: setting calcemis and calcrefl to true\n",
      "Deallocating this inst_id.\n",
      "Atlas deallocated.\n",
      "Load successful >>>>> inst_id : 1, nchannels : 3.\n"
     ]
    },
    {
     "name": "stdout",
     "output_type": "stream",
     "text": [
      "SELECTED OUTPUT\n",
      "MSU visible channel reflectances, channels 2-4\n",
      "Profile 0:\n",
      "  Ch #02 refl=246.662211\n",
      "  Ch #03 refl=225.668357\n",
      "  Ch #04 refl=217.640804\n"
     ]
    },
    {
     "name": "stderr",
     "output_type": "stream",
     "text": [
      "MW emissivity atlas loaded successfully\n",
      "No surface emissivity/reflectance supplied: setting calcemis and calcrefl to true\n",
      "Deallocating this inst_id.\n",
      "Atlas deallocated.\n",
      "Load successful >>>>> inst_id : 1, nchannels : 3.\n",
      "MW emissivity atlas loaded successfully\n",
      "No surface emissivity/reflectance supplied: setting calcemis and calcrefl to true\n"
     ]
    },
    {
     "name": "stdout",
     "output_type": "stream",
     "text": [
      "SELECTED OUTPUT\n",
      "MSU visible channel reflectances, channels 2-4\n",
      "Profile 0:\n",
      "  Ch #02 refl=249.171286\n",
      "  Ch #03 refl=228.767686\n",
      "  Ch #04 refl=221.243845\n"
     ]
    },
    {
     "name": "stderr",
     "output_type": "stream",
     "text": [
      "Deallocating this inst_id.\n",
      "Atlas deallocated.\n",
      "Load successful >>>>> inst_id : 1, nchannels : 3.\n",
      "MW emissivity atlas loaded successfully\n",
      "No surface emissivity/reflectance supplied: setting calcemis and calcrefl to true\n",
      "Error running RTTOV direct model: Error in rttov_call_directDeallocating this inst_id.\n",
      "Atlas deallocated.\n",
      "Load successful >>>>> inst_id : 1, nchannels : 3.\n",
      "MW emissivity atlas loaded successfully\n",
      "No surface emissivity/reflectance supplied: setting calcemis and calcrefl to true\n",
      "Deallocating this inst_id.\n",
      "Atlas deallocated.\n",
      "Load successful >>>>> inst_id : 1, nchannels : 3.\n",
      "MW emissivity atlas loaded successfully\n"
     ]
    },
    {
     "name": "stdout",
     "output_type": "stream",
     "text": [
      "SELECTED OUTPUT\n",
      "MSU visible channel reflectances, channels 2-4\n",
      "Profile 0:\n",
      "  Ch #02 refl=262.953580\n",
      "  Ch #03 refl=262.957700\n",
      "  Ch #04 refl=262.964213\n",
      "SELECTED OUTPUT\n",
      "MSU visible channel reflectances, channels 2-4\n",
      "Profile 0:\n",
      "  Ch #02 refl=253.668567\n",
      "  Ch #03 refl=231.416767\n",
      "  Ch #04 refl=220.623091\n"
     ]
    },
    {
     "name": "stderr",
     "output_type": "stream",
     "text": [
      "No surface emissivity/reflectance supplied: setting calcemis and calcrefl to true\n",
      "Deallocating this inst_id.\n",
      "Atlas deallocated.\n",
      "Load successful >>>>> inst_id : 1, nchannels : 3.\n"
     ]
    },
    {
     "name": "stdout",
     "output_type": "stream",
     "text": [
      "SELECTED OUTPUT\n",
      "MSU visible channel reflectances, channels 2-4\n",
      "Profile 0:\n",
      "  Ch #02 refl=252.499470\n",
      "  Ch #03 refl=252.499494\n",
      "  Ch #04 refl=252.499536\n"
     ]
    },
    {
     "name": "stderr",
     "output_type": "stream",
     "text": [
      "MW emissivity atlas loaded successfully\n",
      "No surface emissivity/reflectance supplied: setting calcemis and calcrefl to true\n",
      "Deallocating this inst_id.\n",
      "Atlas deallocated.\n",
      "Load successful >>>>> inst_id : 1, nchannels : 3.\n"
     ]
    },
    {
     "name": "stdout",
     "output_type": "stream",
     "text": [
      "SELECTED OUTPUT\n",
      "MSU visible channel reflectances, channels 2-4\n",
      "Profile 0:\n",
      "  Ch #02 refl=250.538779\n",
      "  Ch #03 refl=228.481401\n",
      "  Ch #04 refl=216.306463\n"
     ]
    },
    {
     "name": "stderr",
     "output_type": "stream",
     "text": [
      "MW emissivity atlas loaded successfully\n",
      "No surface emissivity/reflectance supplied: setting calcemis and calcrefl to true\n",
      "Deallocating this inst_id.\n",
      "Atlas deallocated.\n",
      "Load successful >>>>> inst_id : 1, nchannels : 3.\n"
     ]
    },
    {
     "name": "stdout",
     "output_type": "stream",
     "text": [
      "SELECTED OUTPUT\n",
      "MSU visible channel reflectances, channels 2-4\n",
      "Profile 0:\n",
      "  Ch #02 refl=236.668599\n",
      "  Ch #03 refl=236.855515\n",
      "  Ch #04 refl=237.415359\n"
     ]
    },
    {
     "name": "stderr",
     "output_type": "stream",
     "text": [
      "MW emissivity atlas loaded successfully\n",
      "No surface emissivity/reflectance supplied: setting calcemis and calcrefl to true\n",
      "Deallocating this inst_id.\n",
      "Atlas deallocated.\n",
      "Load successful >>>>> inst_id : 1, nchannels : 3.\n"
     ]
    },
    {
     "name": "stdout",
     "output_type": "stream",
     "text": [
      "SELECTED OUTPUT\n",
      "MSU visible channel reflectances, channels 2-4\n",
      "Profile 0:\n",
      "  Ch #02 refl=244.918119\n",
      "  Ch #03 refl=224.547746\n",
      "  Ch #04 refl=214.122873\n"
     ]
    },
    {
     "name": "stderr",
     "output_type": "stream",
     "text": [
      "MW emissivity atlas loaded successfully\n",
      "No surface emissivity/reflectance supplied: setting calcemis and calcrefl to true\n",
      "Deallocating this inst_id.\n",
      "Atlas deallocated.\n",
      "Load successful >>>>> inst_id : 1, nchannels : 3.\n"
     ]
    },
    {
     "name": "stdout",
     "output_type": "stream",
     "text": [
      "SELECTED OUTPUT\n",
      "MSU visible channel reflectances, channels 2-4\n",
      "Profile 0:\n",
      "  Ch #02 refl=245.125021\n",
      "  Ch #03 refl=226.390254\n",
      "  Ch #04 refl=220.634138\n"
     ]
    },
    {
     "name": "stderr",
     "output_type": "stream",
     "text": [
      "MW emissivity atlas loaded successfully\n",
      "No surface emissivity/reflectance supplied: setting calcemis and calcrefl to true\n",
      "Deallocating this inst_id.\n",
      "Atlas deallocated.\n",
      "Load successful >>>>> inst_id : 1, nchannels : 3.\n"
     ]
    },
    {
     "name": "stdout",
     "output_type": "stream",
     "text": [
      "SELECTED OUTPUT\n",
      "MSU visible channel reflectances, channels 2-4\n",
      "Profile 0:\n",
      "  Ch #02 refl=243.160284\n",
      "  Ch #03 refl=225.057216\n",
      "  Ch #04 refl=217.704835\n"
     ]
    },
    {
     "name": "stderr",
     "output_type": "stream",
     "text": [
      "MW emissivity atlas loaded successfully\n",
      "No surface emissivity/reflectance supplied: setting calcemis and calcrefl to true\n",
      "Deallocating this inst_id.\n",
      "Atlas deallocated.\n",
      "Load successful >>>>> inst_id : 1, nchannels : 3.\n",
      "MW emissivity atlas loaded successfully\n"
     ]
    },
    {
     "name": "stdout",
     "output_type": "stream",
     "text": [
      "SELECTED OUTPUT\n",
      "MSU visible channel reflectances, channels 2-4\n",
      "Profile 0:\n",
      "  Ch #02 refl=243.330115\n",
      "  Ch #03 refl=226.143372\n",
      "  Ch #04 refl=220.957681\n"
     ]
    },
    {
     "name": "stderr",
     "output_type": "stream",
     "text": [
      "No surface emissivity/reflectance supplied: setting calcemis and calcrefl to true\n",
      "Deallocating this inst_id.\n",
      "Atlas deallocated.\n",
      "Load successful >>>>> inst_id : 1, nchannels : 3.\n"
     ]
    },
    {
     "name": "stdout",
     "output_type": "stream",
     "text": [
      "SELECTED OUTPUT\n",
      "MSU visible channel reflectances, channels 2-4\n",
      "Profile 0:\n",
      "  Ch #02 refl=246.705068\n",
      "  Ch #03 refl=226.539666\n",
      "  Ch #04 refl=218.216693\n"
     ]
    },
    {
     "name": "stderr",
     "output_type": "stream",
     "text": [
      "MW emissivity atlas loaded successfully\n",
      "No surface emissivity/reflectance supplied: setting calcemis and calcrefl to true\n",
      "Deallocating this inst_id.\n",
      "Atlas deallocated.\n",
      "Load successful >>>>> inst_id : 1, nchannels : 3.\n",
      "MW emissivity atlas loaded successfully\n"
     ]
    },
    {
     "name": "stdout",
     "output_type": "stream",
     "text": [
      "SELECTED OUTPUT\n",
      "MSU visible channel reflectances, channels 2-4\n",
      "Profile 0:\n",
      "  Ch #02 refl=250.496860\n",
      "  Ch #03 refl=228.214893\n",
      "  Ch #04 refl=218.330587\n"
     ]
    },
    {
     "name": "stderr",
     "output_type": "stream",
     "text": [
      "No surface emissivity/reflectance supplied: setting calcemis and calcrefl to true\n",
      "Deallocating this inst_id.\n",
      "Atlas deallocated.\n",
      "Load successful >>>>> inst_id : 1, nchannels : 3.\n"
     ]
    },
    {
     "name": "stdout",
     "output_type": "stream",
     "text": [
      "SELECTED OUTPUT\n",
      "MSU visible channel reflectances, channels 2-4\n",
      "Profile 0:\n",
      "  Ch #02 refl=251.935572\n",
      "  Ch #03 refl=229.927571\n",
      "  Ch #04 refl=218.956881\n"
     ]
    },
    {
     "name": "stderr",
     "output_type": "stream",
     "text": [
      "MW emissivity atlas loaded successfully\n",
      "No surface emissivity/reflectance supplied: setting calcemis and calcrefl to true\n",
      "Deallocating this inst_id.\n",
      "Atlas deallocated.\n",
      "Load successful >>>>> inst_id : 1, nchannels : 3.\n"
     ]
    },
    {
     "name": "stdout",
     "output_type": "stream",
     "text": [
      "SELECTED OUTPUT\n",
      "MSU visible channel reflectances, channels 2-4\n",
      "Profile 0:\n",
      "  Ch #02 refl=255.010509\n",
      "  Ch #03 refl=231.357567\n",
      "  Ch #04 refl=218.151596\n"
     ]
    },
    {
     "name": "stderr",
     "output_type": "stream",
     "text": [
      "MW emissivity atlas loaded successfully\n",
      "No surface emissivity/reflectance supplied: setting calcemis and calcrefl to true\n",
      "Deallocating this inst_id.\n",
      "Atlas deallocated.\n",
      "Load successful >>>>> inst_id : 1, nchannels : 3.\n"
     ]
    },
    {
     "name": "stdout",
     "output_type": "stream",
     "text": [
      "SELECTED OUTPUT\n",
      "MSU visible channel reflectances, channels 2-4\n",
      "Profile 0:\n",
      "  Ch #02 refl=254.785908\n",
      "  Ch #03 refl=230.697054\n",
      "  Ch #04 refl=216.240114\n"
     ]
    },
    {
     "name": "stderr",
     "output_type": "stream",
     "text": [
      "MW emissivity atlas loaded successfully\n",
      "No surface emissivity/reflectance supplied: setting calcemis and calcrefl to true\n",
      "Deallocating this inst_id.\n",
      "Atlas deallocated.\n",
      "Load successful >>>>> inst_id : 1, nchannels : 3.\n"
     ]
    },
    {
     "name": "stdout",
     "output_type": "stream",
     "text": [
      "SELECTED OUTPUT\n",
      "MSU visible channel reflectances, channels 2-4\n",
      "Profile 0:\n",
      "  Ch #02 refl=251.897621\n",
      "  Ch #03 refl=251.897655\n",
      "  Ch #04 refl=251.897749\n"
     ]
    },
    {
     "name": "stderr",
     "output_type": "stream",
     "text": [
      "MW emissivity atlas loaded successfully\n",
      "No surface emissivity/reflectance supplied: setting calcemis and calcrefl to true\n",
      "Deallocating this inst_id.\n",
      "Atlas deallocated.\n",
      "Load successful >>>>> inst_id : 1, nchannels : 3.\n"
     ]
    },
    {
     "name": "stdout",
     "output_type": "stream",
     "text": [
      "SELECTED OUTPUT\n",
      "MSU visible channel reflectances, channels 2-4\n",
      "Profile 0:\n",
      "  Ch #02 refl=250.060422\n",
      "  Ch #03 refl=227.711715\n",
      "  Ch #04 refl=216.667356\n"
     ]
    },
    {
     "name": "stderr",
     "output_type": "stream",
     "text": [
      "MW emissivity atlas loaded successfully\n",
      "No surface emissivity/reflectance supplied: setting calcemis and calcrefl to true\n",
      "Deallocating this inst_id.\n",
      "Atlas deallocated.\n",
      "Load successful >>>>> inst_id : 1, nchannels : 3.\n"
     ]
    },
    {
     "name": "stdout",
     "output_type": "stream",
     "text": [
      "SELECTED OUTPUT\n",
      "MSU visible channel reflectances, channels 2-4\n",
      "Profile 0:\n",
      "  Ch #02 refl=244.429116\n",
      "  Ch #03 refl=225.345102\n",
      "  Ch #04 refl=214.963114\n"
     ]
    },
    {
     "name": "stderr",
     "output_type": "stream",
     "text": [
      "MW emissivity atlas loaded successfully\n",
      "No surface emissivity/reflectance supplied: setting calcemis and calcrefl to true\n",
      "Deallocating this inst_id.\n",
      "Atlas deallocated.\n",
      "Load successful >>>>> inst_id : 1, nchannels : 3.\n",
      "MW emissivity atlas loaded successfully\n",
      "No surface emissivity/reflectance supplied: setting calcemis and calcrefl to true\n"
     ]
    },
    {
     "name": "stdout",
     "output_type": "stream",
     "text": [
      "SELECTED OUTPUT\n",
      "MSU visible channel reflectances, channels 2-4\n",
      "Profile 0:\n",
      "  Ch #02 refl=244.784480\n",
      "  Ch #03 refl=226.153153\n",
      "  Ch #04 refl=218.531104\n",
      "SELECTED OUTPUT\n",
      "MSU visible channel reflectances, channels 2-4\n",
      "Profile 0:\n",
      "  Ch #02 refl=245.676891\n",
      "  Ch #03 refl=226.298802\n",
      "  Ch #04 refl=218.266284\n"
     ]
    },
    {
     "name": "stderr",
     "output_type": "stream",
     "text": [
      "Deallocating this inst_id.\n",
      "Atlas deallocated.\n",
      "Load successful >>>>> inst_id : 1, nchannels : 3.\n",
      "MW emissivity atlas loaded successfully\n"
     ]
    },
    {
     "name": "stdout",
     "output_type": "stream",
     "text": [
      "SELECTED OUTPUT\n",
      "MSU visible channel reflectances, channels 2-4\n",
      "Profile 0:\n",
      "  Ch #02 refl=245.503887\n",
      "  Ch #03 refl=227.312344\n",
      "  Ch #04 refl=221.022706\n"
     ]
    },
    {
     "name": "stderr",
     "output_type": "stream",
     "text": [
      "No surface emissivity/reflectance supplied: setting calcemis and calcrefl to true\n",
      "Deallocating this inst_id.\n",
      "Atlas deallocated.\n",
      "Load successful >>>>> inst_id : 1, nchannels : 3.\n",
      "MW emissivity atlas loaded successfully\n",
      "No surface emissivity/reflectance supplied: setting calcemis and calcrefl to true\n",
      "Deallocating this inst_id.\n",
      "Atlas deallocated.\n",
      "Load successful >>>>> inst_id : 1, nchannels : 3.\n"
     ]
    },
    {
     "name": "stdout",
     "output_type": "stream",
     "text": [
      "SELECTED OUTPUT\n",
      "MSU visible channel reflectances, channels 2-4\n",
      "Profile 0:\n",
      "  Ch #02 refl=246.410679\n",
      "  Ch #03 refl=226.366786\n",
      "  Ch #04 refl=217.605466\n"
     ]
    },
    {
     "name": "stderr",
     "output_type": "stream",
     "text": [
      "MW emissivity atlas loaded successfully\n",
      "No surface emissivity/reflectance supplied: setting calcemis and calcrefl to true\n",
      "Deallocating this inst_id.\n",
      "Atlas deallocated.\n",
      "Load successful >>>>> inst_id : 1, nchannels : 3.\n",
      "MW emissivity atlas loaded successfully\n"
     ]
    },
    {
     "name": "stdout",
     "output_type": "stream",
     "text": [
      "SELECTED OUTPUT\n",
      "MSU visible channel reflectances, channels 2-4\n",
      "Profile 0:\n",
      "  Ch #02 refl=247.794592\n",
      "  Ch #03 refl=227.529212\n",
      "  Ch #04 refl=219.577268\n"
     ]
    },
    {
     "name": "stderr",
     "output_type": "stream",
     "text": [
      "No surface emissivity/reflectance supplied: setting calcemis and calcrefl to true\n",
      "Deallocating this inst_id.\n",
      "Atlas deallocated.\n",
      "Load successful >>>>> inst_id : 1, nchannels : 3.\n"
     ]
    },
    {
     "name": "stdout",
     "output_type": "stream",
     "text": [
      "SELECTED OUTPUT\n",
      "MSU visible channel reflectances, channels 2-4\n",
      "Profile 0:\n",
      "  Ch #02 refl=249.233646\n",
      "  Ch #03 refl=227.291277\n",
      "  Ch #04 refl=217.950736\n"
     ]
    },
    {
     "name": "stderr",
     "output_type": "stream",
     "text": [
      "MW emissivity atlas loaded successfully\n",
      "No surface emissivity/reflectance supplied: setting calcemis and calcrefl to true\n",
      "Deallocating this inst_id.\n",
      "Atlas deallocated.\n",
      "Load successful >>>>> inst_id : 1, nchannels : 3.\n"
     ]
    },
    {
     "name": "stdout",
     "output_type": "stream",
     "text": [
      "SELECTED OUTPUT\n",
      "MSU visible channel reflectances, channels 2-4\n",
      "Profile 0:\n",
      "  Ch #02 refl=240.597859\n",
      "  Ch #03 refl=226.826362\n",
      "  Ch #04 refl=221.153935\n"
     ]
    },
    {
     "name": "stderr",
     "output_type": "stream",
     "text": [
      "MW emissivity atlas loaded successfully\n",
      "No surface emissivity/reflectance supplied: setting calcemis and calcrefl to true\n",
      "Deallocating this inst_id.\n",
      "Atlas deallocated.\n",
      "Load successful >>>>> inst_id : 1, nchannels : 3.\n",
      "MW emissivity atlas loaded successfully\n",
      "No surface emissivity/reflectance supplied: setting calcemis and calcrefl to true\n",
      "Deallocating this inst_id.\n",
      "Atlas deallocated.\n",
      "Load successful >>>>> inst_id : 1, nchannels : 3.\n"
     ]
    },
    {
     "name": "stdout",
     "output_type": "stream",
     "text": [
      "SELECTED OUTPUT\n",
      "MSU visible channel reflectances, channels 2-4\n",
      "Profile 0:\n",
      "  Ch #02 refl=254.076111\n",
      "  Ch #03 refl=231.241515\n",
      "  Ch #04 refl=220.317056\n",
      "SELECTED OUTPUT\n",
      "MSU visible channel reflectances, channels 2-4\n",
      "Profile 0:\n",
      "  Ch #02 refl=254.337695\n",
      "  Ch #03 refl=231.397240\n",
      "  Ch #04 refl=220.400844\n"
     ]
    },
    {
     "name": "stderr",
     "output_type": "stream",
     "text": [
      "MW emissivity atlas loaded successfully\n",
      "No surface emissivity/reflectance supplied: setting calcemis and calcrefl to true\n",
      "Deallocating this inst_id.\n",
      "Atlas deallocated.\n",
      "Load successful >>>>> inst_id : 1, nchannels : 3.\n"
     ]
    },
    {
     "name": "stdout",
     "output_type": "stream",
     "text": [
      "SELECTED OUTPUT\n",
      "MSU visible channel reflectances, channels 2-4\n",
      "Profile 0:\n",
      "  Ch #02 refl=252.663429\n",
      "  Ch #03 refl=229.332406\n",
      "  Ch #04 refl=216.058997\n"
     ]
    },
    {
     "name": "stderr",
     "output_type": "stream",
     "text": [
      "MW emissivity atlas loaded successfully\n",
      "No surface emissivity/reflectance supplied: setting calcemis and calcrefl to true\n",
      "Deallocating this inst_id.\n",
      "Atlas deallocated.\n",
      "Load successful >>>>> inst_id : 1, nchannels : 3.\n"
     ]
    },
    {
     "name": "stdout",
     "output_type": "stream",
     "text": [
      "SELECTED OUTPUT\n",
      "MSU visible channel reflectances, channels 2-4\n",
      "Profile 0:\n",
      "  Ch #02 refl=249.981144\n",
      "  Ch #03 refl=227.964137\n",
      "  Ch #04 refl=217.957875\n"
     ]
    },
    {
     "name": "stderr",
     "output_type": "stream",
     "text": [
      "MW emissivity atlas loaded successfully\n",
      "No surface emissivity/reflectance supplied: setting calcemis and calcrefl to true\n",
      "Deallocating this inst_id.\n",
      "Atlas deallocated.\n",
      "Load successful >>>>> inst_id : 1, nchannels : 3.\n"
     ]
    },
    {
     "name": "stdout",
     "output_type": "stream",
     "text": [
      "SELECTED OUTPUT\n",
      "MSU visible channel reflectances, channels 2-4\n",
      "Profile 0:\n",
      "  Ch #02 refl=245.468901\n",
      "  Ch #03 refl=225.495000\n",
      "  Ch #04 refl=215.738804\n"
     ]
    },
    {
     "name": "stderr",
     "output_type": "stream",
     "text": [
      "MW emissivity atlas loaded successfully\n",
      "No surface emissivity/reflectance supplied: setting calcemis and calcrefl to true\n",
      "Deallocating this inst_id.\n",
      "Atlas deallocated.\n",
      "Load successful >>>>> inst_id : 1, nchannels : 3.\n",
      "MW emissivity atlas loaded successfully\n",
      "No surface emissivity/reflectance supplied: setting calcemis and calcrefl to true\n",
      "Deallocating this inst_id.\n",
      "Atlas deallocated.\n",
      "Load successful >>>>> inst_id : 1, nchannels : 3.\n",
      "MW emissivity atlas loaded successfully\n"
     ]
    },
    {
     "name": "stdout",
     "output_type": "stream",
     "text": [
      "SELECTED OUTPUT\n",
      "MSU visible channel reflectances, channels 2-4\n",
      "Profile 0:\n",
      "  Ch #02 refl=246.070695\n",
      "  Ch #03 refl=226.791324\n",
      "  Ch #04 refl=217.986079\n",
      "SELECTED OUTPUT\n",
      "MSU visible channel reflectances, channels 2-4\n",
      "Profile 0:\n",
      "  Ch #02 refl=243.652209\n",
      "  Ch #03 refl=243.654547\n",
      "  Ch #04 refl=243.659160\n"
     ]
    },
    {
     "name": "stderr",
     "output_type": "stream",
     "text": [
      "No surface emissivity/reflectance supplied: setting calcemis and calcrefl to true\n",
      "Deallocating this inst_id.\n",
      "Atlas deallocated.\n",
      "Load successful >>>>> inst_id : 1, nchannels : 3.\n"
     ]
    },
    {
     "name": "stdout",
     "output_type": "stream",
     "text": [
      "SELECTED OUTPUT\n",
      "MSU visible channel reflectances, channels 2-4\n",
      "Profile 0:\n",
      "  Ch #02 refl=246.502438\n",
      "  Ch #03 refl=226.533101\n",
      "  Ch #04 refl=216.984176\n"
     ]
    },
    {
     "name": "stderr",
     "output_type": "stream",
     "text": [
      "MW emissivity atlas loaded successfully\n",
      "No surface emissivity/reflectance supplied: setting calcemis and calcrefl to true\n",
      "Deallocating this inst_id.\n",
      "Atlas deallocated.\n",
      "Load successful >>>>> inst_id : 1, nchannels : 3.\n",
      "MW emissivity atlas loaded successfully\n",
      "No surface emissivity/reflectance supplied: setting calcemis and calcrefl to true\n",
      "Deallocating this inst_id.\n",
      "Atlas deallocated.\n",
      "Load successful >>>>> inst_id : 1, nchannels : 3.\n"
     ]
    },
    {
     "name": "stdout",
     "output_type": "stream",
     "text": [
      "SELECTED OUTPUT\n",
      "MSU visible channel reflectances, channels 2-4\n",
      "Profile 0:\n",
      "  Ch #02 refl=247.208808\n",
      "  Ch #03 refl=227.061691\n",
      "  Ch #04 refl=217.696918\n",
      "SELECTED OUTPUT\n",
      "MSU visible channel reflectances, channels 2-4\n",
      "Profile 0:\n",
      "  Ch #02 refl=246.666474\n",
      "  Ch #03 refl=227.649734\n",
      "  Ch #04 refl=219.948217\n"
     ]
    },
    {
     "name": "stderr",
     "output_type": "stream",
     "text": [
      "MW emissivity atlas loaded successfully\n",
      "No surface emissivity/reflectance supplied: setting calcemis and calcrefl to true\n",
      "Deallocating this inst_id.\n",
      "Atlas deallocated.\n",
      "Load successful >>>>> inst_id : 1, nchannels : 3.\n"
     ]
    },
    {
     "name": "stdout",
     "output_type": "stream",
     "text": [
      "SELECTED OUTPUT\n",
      "MSU visible channel reflectances, channels 2-4\n",
      "Profile 0:\n",
      "  Ch #02 refl=250.019031\n",
      "  Ch #03 refl=228.041303\n",
      "  Ch #04 refl=219.071576\n"
     ]
    },
    {
     "name": "stderr",
     "output_type": "stream",
     "text": [
      "MW emissivity atlas loaded successfully\n",
      "No surface emissivity/reflectance supplied: setting calcemis and calcrefl to true\n",
      "Deallocating this inst_id.\n",
      "Atlas deallocated.\n",
      "Load successful >>>>> inst_id : 1, nchannels : 3.\n"
     ]
    },
    {
     "name": "stdout",
     "output_type": "stream",
     "text": [
      "SELECTED OUTPUT\n",
      "MSU visible channel reflectances, channels 2-4\n",
      "Profile 0:\n",
      "  Ch #02 refl=252.718890\n",
      "  Ch #03 refl=230.404221\n",
      "  Ch #04 refl=220.041990\n"
     ]
    },
    {
     "name": "stderr",
     "output_type": "stream",
     "text": [
      "MW emissivity atlas loaded successfully\n",
      "No surface emissivity/reflectance supplied: setting calcemis and calcrefl to true\n",
      "Deallocating this inst_id.\n",
      "Atlas deallocated.\n",
      "Load successful >>>>> inst_id : 1, nchannels : 3.\n"
     ]
    },
    {
     "name": "stdout",
     "output_type": "stream",
     "text": [
      "SELECTED OUTPUT\n",
      "MSU visible channel reflectances, channels 2-4\n",
      "Profile 0:\n",
      "  Ch #02 refl=254.371283\n",
      "  Ch #03 refl=231.543839\n",
      "  Ch #04 refl=219.778731\n"
     ]
    },
    {
     "name": "stderr",
     "output_type": "stream",
     "text": [
      "MW emissivity atlas loaded successfully\n",
      "No surface emissivity/reflectance supplied: setting calcemis and calcrefl to true\n",
      "Deallocating this inst_id.\n",
      "Atlas deallocated.\n",
      "Load successful >>>>> inst_id : 1, nchannels : 3.\n"
     ]
    },
    {
     "name": "stdout",
     "output_type": "stream",
     "text": [
      "SELECTED OUTPUT\n",
      "MSU visible channel reflectances, channels 2-4\n",
      "Profile 0:\n",
      "  Ch #02 refl=254.702259\n",
      "  Ch #03 refl=231.207242\n",
      "  Ch #04 refl=220.796444\n"
     ]
    },
    {
     "name": "stderr",
     "output_type": "stream",
     "text": [
      "MW emissivity atlas loaded successfully\n",
      "No surface emissivity/reflectance supplied: setting calcemis and calcrefl to true\n",
      "Deallocating this inst_id.\n",
      "Atlas deallocated.\n",
      "Load successful >>>>> inst_id : 1, nchannels : 3.\n"
     ]
    },
    {
     "name": "stdout",
     "output_type": "stream",
     "text": [
      "SELECTED OUTPUT\n",
      "MSU visible channel reflectances, channels 2-4\n",
      "Profile 0:\n",
      "  Ch #02 refl=250.701392\n",
      "  Ch #03 refl=228.932202\n",
      "  Ch #04 refl=218.454553\n"
     ]
    },
    {
     "name": "stderr",
     "output_type": "stream",
     "text": [
      "MW emissivity atlas loaded successfully\n",
      "No surface emissivity/reflectance supplied: setting calcemis and calcrefl to true\n",
      "Deallocating this inst_id.\n",
      "Atlas deallocated.\n",
      "Load successful >>>>> inst_id : 1, nchannels : 3.\n"
     ]
    },
    {
     "name": "stdout",
     "output_type": "stream",
     "text": [
      "SELECTED OUTPUT\n",
      "MSU visible channel reflectances, channels 2-4\n",
      "Profile 0:\n",
      "  Ch #02 refl=250.885779\n",
      "  Ch #03 refl=227.991611\n",
      "  Ch #04 refl=215.089355\n"
     ]
    },
    {
     "name": "stderr",
     "output_type": "stream",
     "text": [
      "MW emissivity atlas loaded successfully\n",
      "No surface emissivity/reflectance supplied: setting calcemis and calcrefl to true\n",
      "Deallocating this inst_id.\n",
      "Atlas deallocated.\n",
      "Load successful >>>>> inst_id : 1, nchannels : 3.\n"
     ]
    },
    {
     "name": "stdout",
     "output_type": "stream",
     "text": [
      "SELECTED OUTPUT\n",
      "MSU visible channel reflectances, channels 2-4\n",
      "Profile 0:\n",
      "  Ch #02 refl=246.341150\n",
      "  Ch #03 refl=226.570740\n",
      "  Ch #04 refl=218.712631\n"
     ]
    },
    {
     "name": "stderr",
     "output_type": "stream",
     "text": [
      "MW emissivity atlas loaded successfully\n",
      "No surface emissivity/reflectance supplied: setting calcemis and calcrefl to true\n",
      "Deallocating this inst_id.\n",
      "Atlas deallocated.\n",
      "Load successful >>>>> inst_id : 1, nchannels : 3.\n"
     ]
    },
    {
     "name": "stdout",
     "output_type": "stream",
     "text": [
      "SELECTED OUTPUT\n",
      "MSU visible channel reflectances, channels 2-4\n",
      "Profile 0:\n",
      "  Ch #02 refl=243.354434\n",
      "  Ch #03 refl=225.168289\n",
      "  Ch #04 refl=217.747676\n"
     ]
    },
    {
     "name": "stderr",
     "output_type": "stream",
     "text": [
      "MW emissivity atlas loaded successfully\n",
      "No surface emissivity/reflectance supplied: setting calcemis and calcrefl to true\n",
      "Deallocating this inst_id.\n",
      "Atlas deallocated.\n",
      "Load successful >>>>> inst_id : 1, nchannels : 3.\n",
      "MW emissivity atlas loaded successfully\n"
     ]
    },
    {
     "name": "stdout",
     "output_type": "stream",
     "text": [
      "SELECTED OUTPUT\n",
      "MSU visible channel reflectances, channels 2-4\n",
      "Profile 0:\n",
      "  Ch #02 refl=nan\n",
      "  Ch #03 refl=nan\n",
      "  Ch #04 refl=nan\n"
     ]
    },
    {
     "name": "stderr",
     "output_type": "stream",
     "text": [
      "No surface emissivity/reflectance supplied: setting calcemis and calcrefl to true\n",
      "Deallocating this inst_id.\n",
      "Atlas deallocated.\n",
      "Load successful >>>>> inst_id : 1, nchannels : 3.\n"
     ]
    },
    {
     "name": "stdout",
     "output_type": "stream",
     "text": [
      "SELECTED OUTPUT\n",
      "MSU visible channel reflectances, channels 2-4\n",
      "Profile 0:\n",
      "  Ch #02 refl=242.386633\n",
      "  Ch #03 refl=225.416718\n",
      "  Ch #04 refl=220.295649\n"
     ]
    },
    {
     "name": "stderr",
     "output_type": "stream",
     "text": [
      "MW emissivity atlas loaded successfully\n",
      "No surface emissivity/reflectance supplied: setting calcemis and calcrefl to true\n",
      "Deallocating this inst_id.\n",
      "Atlas deallocated.\n",
      "Load successful >>>>> inst_id : 1, nchannels : 3.\n"
     ]
    },
    {
     "name": "stdout",
     "output_type": "stream",
     "text": [
      "SELECTED OUTPUT\n",
      "MSU visible channel reflectances, channels 2-4\n",
      "Profile 0:\n",
      "  Ch #02 refl=246.980822\n",
      "  Ch #03 refl=226.137793\n",
      "  Ch #04 refl=216.160677\n"
     ]
    },
    {
     "name": "stderr",
     "output_type": "stream",
     "text": [
      "MW emissivity atlas loaded successfully\n",
      "No surface emissivity/reflectance supplied: setting calcemis and calcrefl to true\n",
      "Deallocating this inst_id.\n",
      "Atlas deallocated.\n",
      "Load successful >>>>> inst_id : 1, nchannels : 3.\n"
     ]
    },
    {
     "name": "stdout",
     "output_type": "stream",
     "text": [
      "SELECTED OUTPUT\n",
      "MSU visible channel reflectances, channels 2-4\n",
      "Profile 0:\n",
      "  Ch #02 refl=245.280746\n",
      "  Ch #03 refl=226.452646\n",
      "  Ch #04 refl=219.550559\n"
     ]
    },
    {
     "name": "stderr",
     "output_type": "stream",
     "text": [
      "MW emissivity atlas loaded successfully\n",
      "No surface emissivity/reflectance supplied: setting calcemis and calcrefl to true\n",
      "Deallocating this inst_id.\n",
      "Atlas deallocated.\n",
      "Load successful >>>>> inst_id : 1, nchannels : 3.\n"
     ]
    },
    {
     "name": "stdout",
     "output_type": "stream",
     "text": [
      "SELECTED OUTPUT\n",
      "MSU visible channel reflectances, channels 2-4\n",
      "Profile 0:\n",
      "  Ch #02 refl=247.905945\n",
      "  Ch #03 refl=228.280006\n",
      "  Ch #04 refl=220.684132\n"
     ]
    },
    {
     "name": "stderr",
     "output_type": "stream",
     "text": [
      "MW emissivity atlas loaded successfully\n",
      "No surface emissivity/reflectance supplied: setting calcemis and calcrefl to true\n",
      "Deallocating this inst_id.\n",
      "Atlas deallocated.\n",
      "Load successful >>>>> inst_id : 1, nchannels : 3.\n"
     ]
    },
    {
     "name": "stdout",
     "output_type": "stream",
     "text": [
      "SELECTED OUTPUT\n",
      "MSU visible channel reflectances, channels 2-4\n",
      "Profile 0:\n",
      "  Ch #02 refl=252.337310\n",
      "  Ch #03 refl=230.164375\n",
      "  Ch #04 refl=220.352302\n"
     ]
    },
    {
     "name": "stderr",
     "output_type": "stream",
     "text": [
      "MW emissivity atlas loaded successfully\n",
      "No surface emissivity/reflectance supplied: setting calcemis and calcrefl to true\n",
      "Deallocating this inst_id.\n",
      "Atlas deallocated.\n",
      "Load successful >>>>> inst_id : 1, nchannels : 3.\n"
     ]
    },
    {
     "name": "stdout",
     "output_type": "stream",
     "text": [
      "SELECTED OUTPUT\n",
      "MSU visible channel reflectances, channels 2-4\n",
      "Profile 0:\n",
      "  Ch #02 refl=255.423081\n",
      "  Ch #03 refl=231.885748\n",
      "  Ch #04 refl=219.982050\n"
     ]
    },
    {
     "name": "stderr",
     "output_type": "stream",
     "text": [
      "MW emissivity atlas loaded successfully\n",
      "No surface emissivity/reflectance supplied: setting calcemis and calcrefl to true\n",
      "Deallocating this inst_id.\n",
      "Atlas deallocated.\n",
      "Load successful >>>>> inst_id : 1, nchannels : 3.\n"
     ]
    },
    {
     "name": "stdout",
     "output_type": "stream",
     "text": [
      "SELECTED OUTPUT\n",
      "MSU visible channel reflectances, channels 2-4\n",
      "Profile 0:\n",
      "  Ch #02 refl=254.505523\n",
      "  Ch #03 refl=230.846345\n",
      "  Ch #04 refl=218.020792\n"
     ]
    },
    {
     "name": "stderr",
     "output_type": "stream",
     "text": [
      "MW emissivity atlas loaded successfully\n",
      "No surface emissivity/reflectance supplied: setting calcemis and calcrefl to true\n",
      "Deallocating this inst_id.\n",
      "Atlas deallocated.\n",
      "Load successful >>>>> inst_id : 1, nchannels : 3.\n"
     ]
    },
    {
     "name": "stdout",
     "output_type": "stream",
     "text": [
      "SELECTED OUTPUT\n",
      "MSU visible channel reflectances, channels 2-4\n",
      "Profile 0:\n",
      "  Ch #02 refl=253.068671\n",
      "  Ch #03 refl=229.555923\n",
      "  Ch #04 refl=217.588068\n"
     ]
    },
    {
     "name": "stderr",
     "output_type": "stream",
     "text": [
      "MW emissivity atlas loaded successfully\n",
      "No surface emissivity/reflectance supplied: setting calcemis and calcrefl to true\n",
      "Deallocating this inst_id.\n",
      "Atlas deallocated.\n",
      "Load successful >>>>> inst_id : 1, nchannels : 3.\n"
     ]
    },
    {
     "name": "stdout",
     "output_type": "stream",
     "text": [
      "SELECTED OUTPUT\n",
      "MSU visible channel reflectances, channels 2-4\n",
      "Profile 0:\n",
      "  Ch #02 refl=249.137984\n",
      "  Ch #03 refl=228.392156\n",
      "  Ch #04 refl=217.571193\n"
     ]
    },
    {
     "name": "stderr",
     "output_type": "stream",
     "text": [
      "MW emissivity atlas loaded successfully\n",
      "No surface emissivity/reflectance supplied: setting calcemis and calcrefl to true\n",
      "Deallocating this inst_id.\n",
      "Atlas deallocated.\n",
      "Load successful >>>>> inst_id : 1, nchannels : 3.\n"
     ]
    },
    {
     "name": "stdout",
     "output_type": "stream",
     "text": [
      "SELECTED OUTPUT\n",
      "MSU visible channel reflectances, channels 2-4\n",
      "Profile 0:\n",
      "  Ch #02 refl=246.528547\n",
      "  Ch #03 refl=226.047024\n",
      "  Ch #04 refl=215.536433\n"
     ]
    },
    {
     "name": "stderr",
     "output_type": "stream",
     "text": [
      "MW emissivity atlas loaded successfully\n",
      "No surface emissivity/reflectance supplied: setting calcemis and calcrefl to true\n",
      "Deallocating this inst_id.\n",
      "Atlas deallocated.\n",
      "Load successful >>>>> inst_id : 1, nchannels : 3.\n"
     ]
    },
    {
     "name": "stdout",
     "output_type": "stream",
     "text": [
      "SELECTED OUTPUT\n",
      "MSU visible channel reflectances, channels 2-4\n",
      "Profile 0:\n",
      "  Ch #02 refl=244.462434\n",
      "  Ch #03 refl=227.126888\n",
      "  Ch #04 refl=220.966233\n"
     ]
    },
    {
     "name": "stderr",
     "output_type": "stream",
     "text": [
      "MW emissivity atlas loaded successfully\n",
      "No surface emissivity/reflectance supplied: setting calcemis and calcrefl to true\n",
      "Deallocating this inst_id.\n",
      "Atlas deallocated.\n",
      "Load successful >>>>> inst_id : 1, nchannels : 3.\n"
     ]
    },
    {
     "name": "stdout",
     "output_type": "stream",
     "text": [
      "SELECTED OUTPUT\n",
      "MSU visible channel reflectances, channels 2-4\n",
      "Profile 0:\n",
      "  Ch #02 refl=244.583446\n",
      "  Ch #03 refl=224.312325\n",
      "  Ch #04 refl=214.347454\n"
     ]
    },
    {
     "name": "stderr",
     "output_type": "stream",
     "text": [
      "MW emissivity atlas loaded successfully\n",
      "No surface emissivity/reflectance supplied: setting calcemis and calcrefl to true\n",
      "Deallocating this inst_id.\n",
      "Atlas deallocated.\n",
      "Load successful >>>>> inst_id : 1, nchannels : 3.\n"
     ]
    },
    {
     "name": "stdout",
     "output_type": "stream",
     "text": [
      "SELECTED OUTPUT\n",
      "MSU visible channel reflectances, channels 2-4\n",
      "Profile 0:\n",
      "  Ch #02 refl=244.549006\n",
      "  Ch #03 refl=225.968109\n",
      "  Ch #04 refl=217.959503\n"
     ]
    },
    {
     "name": "stderr",
     "output_type": "stream",
     "text": [
      "MW emissivity atlas loaded successfully\n",
      "No surface emissivity/reflectance supplied: setting calcemis and calcrefl to true\n",
      "Deallocating this inst_id.\n",
      "Atlas deallocated.\n",
      "Load successful >>>>> inst_id : 1, nchannels : 3.\n"
     ]
    },
    {
     "name": "stdout",
     "output_type": "stream",
     "text": [
      "SELECTED OUTPUT\n",
      "MSU visible channel reflectances, channels 2-4\n",
      "Profile 0:\n",
      "  Ch #02 refl=244.934215\n",
      "  Ch #03 refl=225.896255\n",
      "  Ch #04 refl=216.478286\n"
     ]
    },
    {
     "name": "stderr",
     "output_type": "stream",
     "text": [
      "MW emissivity atlas loaded successfully\n",
      "No surface emissivity/reflectance supplied: setting calcemis and calcrefl to true\n",
      "Deallocating this inst_id.\n",
      "Atlas deallocated.\n",
      "Load successful >>>>> inst_id : 1, nchannels : 3.\n"
     ]
    },
    {
     "name": "stdout",
     "output_type": "stream",
     "text": [
      "SELECTED OUTPUT\n",
      "MSU visible channel reflectances, channels 2-4\n",
      "Profile 0:\n",
      "  Ch #02 refl=247.505252\n",
      "  Ch #03 refl=227.951208\n",
      "  Ch #04 refl=220.534191\n"
     ]
    },
    {
     "name": "stderr",
     "output_type": "stream",
     "text": [
      "MW emissivity atlas loaded successfully\n",
      "No surface emissivity/reflectance supplied: setting calcemis and calcrefl to true\n",
      "Deallocating this inst_id.\n",
      "Atlas deallocated.\n",
      "Load successful >>>>> inst_id : 1, nchannels : 3.\n"
     ]
    },
    {
     "name": "stdout",
     "output_type": "stream",
     "text": [
      "SELECTED OUTPUT\n",
      "MSU visible channel reflectances, channels 2-4\n",
      "Profile 0:\n",
      "  Ch #02 refl=250.221694\n",
      "  Ch #03 refl=227.925562\n",
      "  Ch #04 refl=218.282180\n"
     ]
    },
    {
     "name": "stderr",
     "output_type": "stream",
     "text": [
      "MW emissivity atlas loaded successfully\n",
      "No surface emissivity/reflectance supplied: setting calcemis and calcrefl to true\n",
      "Deallocating this inst_id.\n",
      "Atlas deallocated.\n",
      "Load successful >>>>> inst_id : 1, nchannels : 3.\n",
      "MW emissivity atlas loaded successfully\n",
      "No surface emissivity/reflectance supplied: setting calcemis and calcrefl to true\n",
      "Deallocating this inst_id.\n",
      "Atlas deallocated.\n",
      "Load successful >>>>> inst_id : 1, nchannels : 3.\n"
     ]
    },
    {
     "name": "stdout",
     "output_type": "stream",
     "text": [
      "SELECTED OUTPUT\n",
      "MSU visible channel reflectances, channels 2-4\n",
      "Profile 0:\n",
      "  Ch #02 refl=252.897955\n",
      "  Ch #03 refl=230.158423\n",
      "  Ch #04 refl=219.787778\n",
      "SELECTED OUTPUT\n",
      "MSU visible channel reflectances, channels 2-4\n",
      "Profile 0:\n",
      "  Ch #02 refl=255.210849\n",
      "  Ch #03 refl=231.411114\n",
      "  Ch #04 refl=221.598093\n"
     ]
    },
    {
     "name": "stderr",
     "output_type": "stream",
     "text": [
      "MW emissivity atlas loaded successfully\n",
      "No surface emissivity/reflectance supplied: setting calcemis and calcrefl to true\n",
      "Deallocating this inst_id.\n",
      "Atlas deallocated.\n",
      "Load successful >>>>> inst_id : 1, nchannels : 3.\n"
     ]
    },
    {
     "name": "stdout",
     "output_type": "stream",
     "text": [
      "SELECTED OUTPUT\n",
      "MSU visible channel reflectances, channels 2-4\n",
      "Profile 0:\n",
      "  Ch #02 refl=256.311774\n",
      "  Ch #03 refl=230.766037\n",
      "  Ch #04 refl=216.937069\n"
     ]
    },
    {
     "name": "stderr",
     "output_type": "stream",
     "text": [
      "MW emissivity atlas loaded successfully\n",
      "No surface emissivity/reflectance supplied: setting calcemis and calcrefl to true\n",
      "Deallocating this inst_id.\n",
      "Atlas deallocated.\n",
      "Load successful >>>>> inst_id : 1, nchannels : 3.\n"
     ]
    },
    {
     "name": "stdout",
     "output_type": "stream",
     "text": [
      "SELECTED OUTPUT\n",
      "MSU visible channel reflectances, channels 2-4\n",
      "Profile 0:\n",
      "  Ch #02 refl=252.372676\n",
      "  Ch #03 refl=229.617753\n",
      "  Ch #04 refl=218.199277\n"
     ]
    },
    {
     "name": "stderr",
     "output_type": "stream",
     "text": [
      "MW emissivity atlas loaded successfully\n",
      "No surface emissivity/reflectance supplied: setting calcemis and calcrefl to true\n",
      "Deallocating this inst_id.\n",
      "Atlas deallocated.\n",
      "Load successful >>>>> inst_id : 1, nchannels : 3.\n"
     ]
    },
    {
     "name": "stdout",
     "output_type": "stream",
     "text": [
      "SELECTED OUTPUT\n",
      "MSU visible channel reflectances, channels 2-4\n",
      "Profile 0:\n",
      "  Ch #02 refl=248.285829\n",
      "  Ch #03 refl=227.310344\n",
      "  Ch #04 refl=217.767521\n"
     ]
    },
    {
     "name": "stderr",
     "output_type": "stream",
     "text": [
      "MW emissivity atlas loaded successfully\n",
      "No surface emissivity/reflectance supplied: setting calcemis and calcrefl to true\n",
      "Deallocating this inst_id.\n",
      "Atlas deallocated.\n",
      "Load successful >>>>> inst_id : 1, nchannels : 3.\n"
     ]
    },
    {
     "name": "stdout",
     "output_type": "stream",
     "text": [
      "SELECTED OUTPUT\n",
      "MSU visible channel reflectances, channels 2-4\n",
      "Profile 0:\n",
      "  Ch #02 refl=246.770578\n",
      "  Ch #03 refl=226.616920\n",
      "  Ch #04 refl=217.630033\n"
     ]
    },
    {
     "name": "stderr",
     "output_type": "stream",
     "text": [
      "MW emissivity atlas loaded successfully\n",
      "No surface emissivity/reflectance supplied: setting calcemis and calcrefl to true\n",
      "Deallocating this inst_id.\n",
      "Atlas deallocated.\n",
      "Load successful >>>>> inst_id : 1, nchannels : 3.\n"
     ]
    },
    {
     "name": "stdout",
     "output_type": "stream",
     "text": [
      "SELECTED OUTPUT\n",
      "MSU visible channel reflectances, channels 2-4\n",
      "Profile 0:\n",
      "  Ch #02 refl=245.049202\n",
      "  Ch #03 refl=225.809905\n",
      "  Ch #04 refl=215.856942\n"
     ]
    },
    {
     "name": "stderr",
     "output_type": "stream",
     "text": [
      "MW emissivity atlas loaded successfully\n",
      "No surface emissivity/reflectance supplied: setting calcemis and calcrefl to true\n",
      "Deallocating this inst_id.\n",
      "Atlas deallocated.\n",
      "Load successful >>>>> inst_id : 1, nchannels : 3.\n"
     ]
    },
    {
     "name": "stdout",
     "output_type": "stream",
     "text": [
      "SELECTED OUTPUT\n",
      "MSU visible channel reflectances, channels 2-4\n",
      "Profile 0:\n",
      "  Ch #02 refl=244.584893\n",
      "  Ch #03 refl=225.665086\n",
      "  Ch #04 refl=217.072880\n"
     ]
    },
    {
     "name": "stderr",
     "output_type": "stream",
     "text": [
      "MW emissivity atlas loaded successfully\n",
      "No surface emissivity/reflectance supplied: setting calcemis and calcrefl to true\n",
      "Deallocating this inst_id.\n",
      "Atlas deallocated.\n",
      "Load successful >>>>> inst_id : 1, nchannels : 3.\n"
     ]
    },
    {
     "name": "stdout",
     "output_type": "stream",
     "text": [
      "SELECTED OUTPUT\n",
      "MSU visible channel reflectances, channels 2-4\n",
      "Profile 0:\n",
      "  Ch #02 refl=243.261008\n",
      "  Ch #03 refl=225.470391\n",
      "  Ch #04 refl=219.293285\n"
     ]
    },
    {
     "name": "stderr",
     "output_type": "stream",
     "text": [
      "MW emissivity atlas loaded successfully\n",
      "No surface emissivity/reflectance supplied: setting calcemis and calcrefl to true\n",
      "Deallocating this inst_id.\n",
      "Atlas deallocated.\n",
      "Load successful >>>>> inst_id : 1, nchannels : 3.\n"
     ]
    },
    {
     "name": "stdout",
     "output_type": "stream",
     "text": [
      "SELECTED OUTPUT\n",
      "MSU visible channel reflectances, channels 2-4\n",
      "Profile 0:\n",
      "  Ch #02 refl=244.356203\n",
      "  Ch #03 refl=226.379378\n",
      "  Ch #04 refl=219.063691\n"
     ]
    },
    {
     "name": "stderr",
     "output_type": "stream",
     "text": [
      "MW emissivity atlas loaded successfully\n",
      "No surface emissivity/reflectance supplied: setting calcemis and calcrefl to true\n",
      "Deallocating this inst_id.\n",
      "Atlas deallocated.\n",
      "Load successful >>>>> inst_id : 1, nchannels : 3.\n"
     ]
    },
    {
     "name": "stdout",
     "output_type": "stream",
     "text": [
      "SELECTED OUTPUT\n",
      "MSU visible channel reflectances, channels 2-4\n",
      "Profile 0:\n",
      "  Ch #02 refl=246.609599\n",
      "  Ch #03 refl=225.717892\n",
      "  Ch #04 refl=216.125900\n"
     ]
    },
    {
     "name": "stderr",
     "output_type": "stream",
     "text": [
      "MW emissivity atlas loaded successfully\n",
      "No surface emissivity/reflectance supplied: setting calcemis and calcrefl to true\n",
      "Deallocating this inst_id.\n",
      "Atlas deallocated.\n",
      "Load successful >>>>> inst_id : 1, nchannels : 3.\n"
     ]
    },
    {
     "name": "stdout",
     "output_type": "stream",
     "text": [
      "SELECTED OUTPUT\n",
      "MSU visible channel reflectances, channels 2-4\n",
      "Profile 0:\n",
      "  Ch #02 refl=250.865388\n",
      "  Ch #03 refl=227.837016\n",
      "  Ch #04 refl=217.224848\n"
     ]
    },
    {
     "name": "stderr",
     "output_type": "stream",
     "text": [
      "MW emissivity atlas loaded successfully\n",
      "No surface emissivity/reflectance supplied: setting calcemis and calcrefl to true\n",
      "Deallocating this inst_id.\n",
      "Atlas deallocated.\n",
      "Load successful >>>>> inst_id : 1, nchannels : 3.\n"
     ]
    },
    {
     "name": "stdout",
     "output_type": "stream",
     "text": [
      "SELECTED OUTPUT\n",
      "MSU visible channel reflectances, channels 2-4\n",
      "Profile 0:\n",
      "  Ch #02 refl=252.808430\n",
      "  Ch #03 refl=230.535322\n",
      "  Ch #04 refl=220.503144\n"
     ]
    },
    {
     "name": "stderr",
     "output_type": "stream",
     "text": [
      "MW emissivity atlas loaded successfully\n",
      "No surface emissivity/reflectance supplied: setting calcemis and calcrefl to true\n",
      "Deallocating this inst_id.\n",
      "Atlas deallocated.\n",
      "Load successful >>>>> inst_id : 1, nchannels : 3.\n"
     ]
    },
    {
     "name": "stdout",
     "output_type": "stream",
     "text": [
      "SELECTED OUTPUT\n",
      "MSU visible channel reflectances, channels 2-4\n",
      "Profile 0:\n",
      "  Ch #02 refl=253.815278\n",
      "  Ch #03 refl=230.979262\n",
      "  Ch #04 refl=218.347845\n"
     ]
    },
    {
     "name": "stderr",
     "output_type": "stream",
     "text": [
      "MW emissivity atlas loaded successfully\n",
      "No surface emissivity/reflectance supplied: setting calcemis and calcrefl to true\n",
      "Deallocating this inst_id.\n",
      "Atlas deallocated.\n",
      "Load successful >>>>> inst_id : 1, nchannels : 3.\n"
     ]
    },
    {
     "name": "stdout",
     "output_type": "stream",
     "text": [
      "SELECTED OUTPUT\n",
      "MSU visible channel reflectances, channels 2-4\n",
      "Profile 0:\n",
      "  Ch #02 refl=253.915825\n",
      "  Ch #03 refl=229.950252\n",
      "  Ch #04 refl=215.838166\n"
     ]
    },
    {
     "name": "stderr",
     "output_type": "stream",
     "text": [
      "MW emissivity atlas loaded successfully\n",
      "No surface emissivity/reflectance supplied: setting calcemis and calcrefl to true\n",
      "Deallocating this inst_id.\n",
      "Atlas deallocated.\n",
      "Load successful >>>>> inst_id : 1, nchannels : 3.\n",
      "MW emissivity atlas loaded successfully\n",
      "No surface emissivity/reflectance supplied: setting calcemis and calcrefl to true\n",
      "Deallocating this inst_id.\n",
      "Atlas deallocated.\n",
      "Load successful >>>>> inst_id : 1, nchannels : 3.\n",
      "MW emissivity atlas loaded successfully\n"
     ]
    },
    {
     "name": "stdout",
     "output_type": "stream",
     "text": [
      "SELECTED OUTPUT\n",
      "MSU visible channel reflectances, channels 2-4\n",
      "Profile 0:\n",
      "  Ch #02 refl=251.684602\n",
      "  Ch #03 refl=229.435316\n",
      "  Ch #04 refl=219.564713\n",
      "SELECTED OUTPUT\n",
      "MSU visible channel reflectances, channels 2-4\n",
      "Profile 0:\n",
      "  Ch #02 refl=249.912561\n",
      "  Ch #03 refl=227.471464\n",
      "  Ch #04 refl=215.656140\n"
     ]
    },
    {
     "name": "stderr",
     "output_type": "stream",
     "text": [
      "No surface emissivity/reflectance supplied: setting calcemis and calcrefl to true\n",
      "Deallocating this inst_id.\n",
      "Atlas deallocated.\n",
      "Load successful >>>>> inst_id : 1, nchannels : 3.\n",
      "MW emissivity atlas loaded successfully\n",
      "No surface emissivity/reflectance supplied: setting calcemis and calcrefl to true\n"
     ]
    },
    {
     "name": "stdout",
     "output_type": "stream",
     "text": [
      "SELECTED OUTPUT\n",
      "MSU visible channel reflectances, channels 2-4\n",
      "Profile 0:\n",
      "  Ch #02 refl=243.057021\n",
      "  Ch #03 refl=243.063811\n",
      "  Ch #04 refl=243.084126\n"
     ]
    },
    {
     "name": "stderr",
     "output_type": "stream",
     "text": [
      "Error running RTTOV direct model: Error in rttov_call_directDeallocating this inst_id.\n",
      "Atlas deallocated.\n",
      "Load successful >>>>> inst_id : 1, nchannels : 3.\n",
      "MW emissivity atlas loaded successfully\n",
      "No surface emissivity/reflectance supplied: setting calcemis and calcrefl to true\n",
      "Error running RTTOV direct model: Error in rttov_call_directDeallocating this inst_id.\n",
      "Atlas deallocated.\n",
      "Load successful >>>>> inst_id : 1, nchannels : 3.\n",
      "MW emissivity atlas loaded successfully\n",
      "No surface emissivity/reflectance supplied: setting calcemis and calcrefl to true\n",
      "Deallocating this inst_id.\n",
      "Atlas deallocated.\n",
      "Load successful >>>>> inst_id : 1, nchannels : 3.\n"
     ]
    },
    {
     "name": "stdout",
     "output_type": "stream",
     "text": [
      "SELECTED OUTPUT\n",
      "MSU visible channel reflectances, channels 2-4\n",
      "Profile 0:\n",
      "  Ch #02 refl=243.782433\n",
      "  Ch #03 refl=226.726232\n",
      "  Ch #04 refl=220.095592\n"
     ]
    },
    {
     "name": "stderr",
     "output_type": "stream",
     "text": [
      "MW emissivity atlas loaded successfully\n",
      "No surface emissivity/reflectance supplied: setting calcemis and calcrefl to true\n",
      "Deallocating this inst_id.\n",
      "Atlas deallocated.\n",
      "Load successful >>>>> inst_id : 1, nchannels : 3.\n",
      "MW emissivity atlas loaded successfully\n"
     ]
    },
    {
     "name": "stdout",
     "output_type": "stream",
     "text": [
      "SELECTED OUTPUT\n",
      "MSU visible channel reflectances, channels 2-4\n",
      "Profile 0:\n",
      "  Ch #02 refl=246.294296\n",
      "  Ch #03 refl=225.718023\n",
      "  Ch #04 refl=216.425118\n"
     ]
    },
    {
     "name": "stderr",
     "output_type": "stream",
     "text": [
      "No surface emissivity/reflectance supplied: setting calcemis and calcrefl to true\n",
      "Error running RTTOV direct model: Error in rttov_call_directDeallocating this inst_id.\n",
      "Atlas deallocated.\n",
      "Load successful >>>>> inst_id : 1, nchannels : 3.\n",
      "MW emissivity atlas loaded successfully\n",
      "No surface emissivity/reflectance supplied: setting calcemis and calcrefl to true\n",
      "Deallocating this inst_id.\n",
      "Atlas deallocated.\n",
      "Load successful >>>>> inst_id : 1, nchannels : 3.\n"
     ]
    },
    {
     "name": "stdout",
     "output_type": "stream",
     "text": [
      "SELECTED OUTPUT\n",
      "MSU visible channel reflectances, channels 2-4\n",
      "Profile 0:\n",
      "  Ch #02 refl=218.886807\n",
      "  Ch #03 refl=218.941086\n",
      "  Ch #04 refl=219.100673\n"
     ]
    },
    {
     "name": "stderr",
     "output_type": "stream",
     "text": [
      "MW emissivity atlas loaded successfully\n",
      "No surface emissivity/reflectance supplied: setting calcemis and calcrefl to true\n",
      "Deallocating this inst_id.\n",
      "Atlas deallocated.\n",
      "Load successful >>>>> inst_id : 1, nchannels : 3.\n"
     ]
    },
    {
     "name": "stdout",
     "output_type": "stream",
     "text": [
      "SELECTED OUTPUT\n",
      "MSU visible channel reflectances, channels 2-4\n",
      "Profile 0:\n",
      "  Ch #02 refl=253.376097\n",
      "  Ch #03 refl=230.241504\n",
      "  Ch #04 refl=218.839471\n"
     ]
    },
    {
     "name": "stderr",
     "output_type": "stream",
     "text": [
      "MW emissivity atlas loaded successfully\n",
      "No surface emissivity/reflectance supplied: setting calcemis and calcrefl to true\n",
      "Error running RTTOV direct model: Error in rttov_call_directDeallocating this inst_id.\n",
      "Atlas deallocated.\n",
      "Load successful >>>>> inst_id : 1, nchannels : 3.\n",
      "MW emissivity atlas loaded successfully\n",
      "No surface emissivity/reflectance supplied: setting calcemis and calcrefl to true\n",
      "Deallocating this inst_id.\n",
      "Atlas deallocated.\n",
      "Load successful >>>>> inst_id : 1, nchannels : 3.\n"
     ]
    },
    {
     "name": "stdout",
     "output_type": "stream",
     "text": [
      "SELECTED OUTPUT\n",
      "MSU visible channel reflectances, channels 2-4\n",
      "Profile 0:\n",
      "  Ch #02 refl=255.177405\n",
      "  Ch #03 refl=231.110709\n",
      "  Ch #04 refl=218.630567\n"
     ]
    },
    {
     "name": "stderr",
     "output_type": "stream",
     "text": [
      "MW emissivity atlas loaded successfully\n",
      "No surface emissivity/reflectance supplied: setting calcemis and calcrefl to true\n",
      "Error running RTTOV direct model: Error in rttov_call_directDeallocating this inst_id.\n",
      "Atlas deallocated.\n",
      "Load successful >>>>> inst_id : 1, nchannels : 3.\n",
      "MW emissivity atlas loaded successfully\n",
      "No surface emissivity/reflectance supplied: setting calcemis and calcrefl to true\n",
      "Deallocating this inst_id.\n",
      "Atlas deallocated.\n",
      "Load successful >>>>> inst_id : 1, nchannels : 3.\n"
     ]
    },
    {
     "name": "stdout",
     "output_type": "stream",
     "text": [
      "SELECTED OUTPUT\n",
      "MSU visible channel reflectances, channels 2-4\n",
      "Profile 0:\n",
      "  Ch #02 refl=249.356841\n",
      "  Ch #03 refl=227.916830\n",
      "  Ch #04 refl=216.123987\n"
     ]
    },
    {
     "name": "stderr",
     "output_type": "stream",
     "text": [
      "MW emissivity atlas loaded successfully\n",
      "No surface emissivity/reflectance supplied: setting calcemis and calcrefl to true\n",
      "Deallocating this inst_id.\n",
      "Atlas deallocated.\n",
      "Load successful >>>>> inst_id : 1, nchannels : 3.\n"
     ]
    },
    {
     "name": "stdout",
     "output_type": "stream",
     "text": [
      "SELECTED OUTPUT\n",
      "MSU visible channel reflectances, channels 2-4\n",
      "Profile 0:\n",
      "  Ch #02 refl=248.069940\n",
      "  Ch #03 refl=226.397289\n",
      "  Ch #04 refl=215.346876\n"
     ]
    },
    {
     "name": "stderr",
     "output_type": "stream",
     "text": [
      "MW emissivity atlas loaded successfully\n",
      "No surface emissivity/reflectance supplied: setting calcemis and calcrefl to true\n",
      "Deallocating this inst_id.\n",
      "Atlas deallocated.\n",
      "Load successful >>>>> inst_id : 1, nchannels : 3.\n"
     ]
    },
    {
     "name": "stdout",
     "output_type": "stream",
     "text": [
      "SELECTED OUTPUT\n",
      "MSU visible channel reflectances, channels 2-4\n",
      "Profile 0:\n",
      "  Ch #02 refl=245.189267\n",
      "  Ch #03 refl=225.206168\n",
      "  Ch #04 refl=215.407988\n"
     ]
    },
    {
     "name": "stderr",
     "output_type": "stream",
     "text": [
      "MW emissivity atlas loaded successfully\n",
      "No surface emissivity/reflectance supplied: setting calcemis and calcrefl to true\n",
      "Deallocating this inst_id.\n",
      "Atlas deallocated.\n",
      "Load successful >>>>> inst_id : 1, nchannels : 3.\n",
      "MW emissivity atlas loaded successfully\n"
     ]
    },
    {
     "name": "stdout",
     "output_type": "stream",
     "text": [
      "SELECTED OUTPUT\n",
      "MSU visible channel reflectances, channels 2-4\n",
      "Profile 0:\n",
      "  Ch #02 refl=242.871146\n",
      "  Ch #03 refl=225.789490\n",
      "  Ch #04 refl=217.815496\n"
     ]
    },
    {
     "name": "stderr",
     "output_type": "stream",
     "text": [
      "No surface emissivity/reflectance supplied: setting calcemis and calcrefl to true\n",
      "Deallocating this inst_id.\n",
      "Atlas deallocated.\n",
      "Load successful >>>>> inst_id : 1, nchannels : 3.\n"
     ]
    },
    {
     "name": "stdout",
     "output_type": "stream",
     "text": [
      "SELECTED OUTPUT\n",
      "MSU visible channel reflectances, channels 2-4\n",
      "Profile 0:\n",
      "  Ch #02 refl=248.098783\n",
      "  Ch #03 refl=248.098808\n",
      "  Ch #04 refl=248.098871\n"
     ]
    },
    {
     "name": "stderr",
     "output_type": "stream",
     "text": [
      "MW emissivity atlas loaded successfully\n",
      "No surface emissivity/reflectance supplied: setting calcemis and calcrefl to true\n",
      "Deallocating this inst_id.\n",
      "Atlas deallocated.\n",
      "Load successful >>>>> inst_id : 1, nchannels : 3.\n"
     ]
    },
    {
     "name": "stdout",
     "output_type": "stream",
     "text": [
      "SELECTED OUTPUT\n",
      "MSU visible channel reflectances, channels 2-4\n",
      "Profile 0:\n",
      "  Ch #02 refl=243.922415\n",
      "  Ch #03 refl=225.578825\n",
      "  Ch #04 refl=218.110368\n"
     ]
    },
    {
     "name": "stderr",
     "output_type": "stream",
     "text": [
      "MW emissivity atlas loaded successfully\n",
      "No surface emissivity/reflectance supplied: setting calcemis and calcrefl to true\n",
      "Deallocating this inst_id.\n",
      "Atlas deallocated.\n",
      "Load successful >>>>> inst_id : 1, nchannels : 3.\n"
     ]
    },
    {
     "name": "stdout",
     "output_type": "stream",
     "text": [
      "SELECTED OUTPUT\n",
      "MSU visible channel reflectances, channels 2-4\n",
      "Profile 0:\n",
      "  Ch #02 refl=246.719608\n",
      "  Ch #03 refl=226.511851\n",
      "  Ch #04 refl=217.055542\n"
     ]
    },
    {
     "name": "stderr",
     "output_type": "stream",
     "text": [
      "MW emissivity atlas loaded successfully\n",
      "No surface emissivity/reflectance supplied: setting calcemis and calcrefl to true\n",
      "Deallocating this inst_id.\n",
      "Atlas deallocated.\n",
      "Load successful >>>>> inst_id : 1, nchannels : 3.\n"
     ]
    },
    {
     "name": "stdout",
     "output_type": "stream",
     "text": [
      "SELECTED OUTPUT\n",
      "MSU visible channel reflectances, channels 2-4\n",
      "Profile 0:\n",
      "  Ch #02 refl=249.909354\n",
      "  Ch #03 refl=228.102415\n",
      "  Ch #04 refl=219.765220\n"
     ]
    },
    {
     "name": "stderr",
     "output_type": "stream",
     "text": [
      "MW emissivity atlas loaded successfully\n",
      "No surface emissivity/reflectance supplied: setting calcemis and calcrefl to true\n",
      "Deallocating this inst_id.\n",
      "Atlas deallocated.\n",
      "Load successful >>>>> inst_id : 1, nchannels : 3.\n",
      "MW emissivity atlas loaded successfully\n",
      "No surface emissivity/reflectance supplied: setting calcemis and calcrefl to true\n",
      "Deallocating this inst_id.\n",
      "Atlas deallocated.\n",
      "Load successful >>>>> inst_id : 1, nchannels : 3.\n"
     ]
    },
    {
     "name": "stdout",
     "output_type": "stream",
     "text": [
      "SELECTED OUTPUT\n",
      "MSU visible channel reflectances, channels 2-4\n",
      "Profile 0:\n",
      "  Ch #02 refl=252.307187\n",
      "  Ch #03 refl=230.139111\n",
      "  Ch #04 refl=219.062807\n",
      "SELECTED OUTPUT\n",
      "MSU visible channel reflectances, channels 2-4\n",
      "Profile 0:\n",
      "  Ch #02 refl=255.885806\n",
      "  Ch #03 refl=230.919436\n",
      "  Ch #04 refl=216.712598\n"
     ]
    },
    {
     "name": "stderr",
     "output_type": "stream",
     "text": [
      "MW emissivity atlas loaded successfully\n",
      "No surface emissivity/reflectance supplied: setting calcemis and calcrefl to true\n",
      "Deallocating this inst_id.\n",
      "Atlas deallocated.\n",
      "Load successful >>>>> inst_id : 1, nchannels : 3.\n"
     ]
    },
    {
     "name": "stdout",
     "output_type": "stream",
     "text": [
      "SELECTED OUTPUT\n",
      "MSU visible channel reflectances, channels 2-4\n",
      "Profile 0:\n",
      "  Ch #02 refl=253.586481\n",
      "  Ch #03 refl=230.329870\n",
      "  Ch #04 refl=218.478966\n"
     ]
    },
    {
     "name": "stderr",
     "output_type": "stream",
     "text": [
      "MW emissivity atlas loaded successfully\n",
      "No surface emissivity/reflectance supplied: setting calcemis and calcrefl to true\n",
      "Deallocating this inst_id.\n",
      "Atlas deallocated.\n",
      "Load successful >>>>> inst_id : 1, nchannels : 3.\n",
      "MW emissivity atlas loaded successfully\n"
     ]
    },
    {
     "name": "stdout",
     "output_type": "stream",
     "text": [
      "SELECTED OUTPUT\n",
      "MSU visible channel reflectances, channels 2-4\n",
      "Profile 0:\n",
      "  Ch #02 refl=251.299575\n",
      "  Ch #03 refl=230.036894\n",
      "  Ch #04 refl=220.242055\n"
     ]
    },
    {
     "name": "stderr",
     "output_type": "stream",
     "text": [
      "No surface emissivity/reflectance supplied: setting calcemis and calcrefl to true\n",
      "Deallocating this inst_id.\n",
      "Atlas deallocated.\n",
      "Load successful >>>>> inst_id : 1, nchannels : 3.\n"
     ]
    },
    {
     "name": "stdout",
     "output_type": "stream",
     "text": [
      "SELECTED OUTPUT\n",
      "MSU visible channel reflectances, channels 2-4\n",
      "Profile 0:\n",
      "  Ch #02 refl=251.843775\n",
      "  Ch #03 refl=228.642546\n",
      "  Ch #04 refl=216.960285\n"
     ]
    },
    {
     "name": "stderr",
     "output_type": "stream",
     "text": [
      "MW emissivity atlas loaded successfully\n",
      "No surface emissivity/reflectance supplied: setting calcemis and calcrefl to true\n",
      "Deallocating this inst_id.\n",
      "Atlas deallocated.\n",
      "Load successful >>>>> inst_id : 1, nchannels : 3.\n"
     ]
    },
    {
     "name": "stdout",
     "output_type": "stream",
     "text": [
      "SELECTED OUTPUT\n",
      "MSU visible channel reflectances, channels 2-4\n",
      "Profile 0:\n",
      "  Ch #02 refl=245.284623\n",
      "  Ch #03 refl=225.828022\n",
      "  Ch #04 refl=216.302948\n"
     ]
    },
    {
     "name": "stderr",
     "output_type": "stream",
     "text": [
      "MW emissivity atlas loaded successfully\n",
      "No surface emissivity/reflectance supplied: setting calcemis and calcrefl to true\n",
      "Deallocating this inst_id.\n",
      "Atlas deallocated.\n",
      "Load successful >>>>> inst_id : 1, nchannels : 3.\n"
     ]
    },
    {
     "name": "stdout",
     "output_type": "stream",
     "text": [
      "SELECTED OUTPUT\n",
      "MSU visible channel reflectances, channels 2-4\n",
      "Profile 0:\n",
      "  Ch #02 refl=243.507536\n",
      "  Ch #03 refl=224.699648\n",
      "  Ch #04 refl=217.532655\n"
     ]
    },
    {
     "name": "stderr",
     "output_type": "stream",
     "text": [
      "MW emissivity atlas loaded successfully\n",
      "No surface emissivity/reflectance supplied: setting calcemis and calcrefl to true\n",
      "Deallocating this inst_id.\n",
      "Atlas deallocated.\n",
      "Load successful >>>>> inst_id : 1, nchannels : 3.\n"
     ]
    },
    {
     "name": "stdout",
     "output_type": "stream",
     "text": [
      "SELECTED OUTPUT\n",
      "MSU visible channel reflectances, channels 2-4\n",
      "Profile 0:\n",
      "  Ch #02 refl=243.802773\n",
      "  Ch #03 refl=225.176771\n",
      "  Ch #04 refl=215.909042\n"
     ]
    },
    {
     "name": "stderr",
     "output_type": "stream",
     "text": [
      "MW emissivity atlas loaded successfully\n",
      "No surface emissivity/reflectance supplied: setting calcemis and calcrefl to true\n",
      "Deallocating this inst_id.\n",
      "Atlas deallocated.\n",
      "Load successful >>>>> inst_id : 1, nchannels : 3.\n",
      "MW emissivity atlas loaded successfully\n",
      "No surface emissivity/reflectance supplied: setting calcemis and calcrefl to true\n",
      "Deallocating this inst_id.\n",
      "Atlas deallocated.\n",
      "Load successful >>>>> inst_id : 1, nchannels : 3.\n"
     ]
    },
    {
     "name": "stdout",
     "output_type": "stream",
     "text": [
      "SELECTED OUTPUT\n",
      "MSU visible channel reflectances, channels 2-4\n",
      "Profile 0:\n",
      "  Ch #02 refl=241.707130\n",
      "  Ch #03 refl=224.991757\n",
      "  Ch #04 refl=218.263494\n",
      "SELECTED OUTPUT\n",
      "MSU visible channel reflectances, channels 2-4\n",
      "Profile 0:\n",
      "  Ch #02 refl=242.831736\n",
      "  Ch #03 refl=224.795408\n",
      "  Ch #04 refl=218.287352\n"
     ]
    },
    {
     "name": "stderr",
     "output_type": "stream",
     "text": [
      "MW emissivity atlas loaded successfully\n",
      "No surface emissivity/reflectance supplied: setting calcemis and calcrefl to true\n",
      "Deallocating this inst_id.\n",
      "Atlas deallocated.\n",
      "Load successful >>>>> inst_id : 1, nchannels : 3.\n"
     ]
    },
    {
     "name": "stdout",
     "output_type": "stream",
     "text": [
      "SELECTED OUTPUT\n",
      "MSU visible channel reflectances, channels 2-4\n",
      "Profile 0:\n",
      "  Ch #02 refl=246.404185\n",
      "  Ch #03 refl=224.994439\n",
      "  Ch #04 refl=215.704981\n"
     ]
    },
    {
     "name": "stderr",
     "output_type": "stream",
     "text": [
      "MW emissivity atlas loaded successfully\n",
      "No surface emissivity/reflectance supplied: setting calcemis and calcrefl to true\n",
      "Deallocating this inst_id.\n",
      "Atlas deallocated.\n",
      "Load successful >>>>> inst_id : 1, nchannels : 3.\n"
     ]
    },
    {
     "name": "stdout",
     "output_type": "stream",
     "text": [
      "SELECTED OUTPUT\n",
      "MSU visible channel reflectances, channels 2-4\n",
      "Profile 0:\n",
      "  Ch #02 refl=250.890200\n",
      "  Ch #03 refl=229.283112\n",
      "  Ch #04 refl=221.062533\n"
     ]
    },
    {
     "name": "stderr",
     "output_type": "stream",
     "text": [
      "MW emissivity atlas loaded successfully\n",
      "No surface emissivity/reflectance supplied: setting calcemis and calcrefl to true\n",
      "Deallocating this inst_id.\n",
      "Atlas deallocated.\n",
      "Load successful >>>>> inst_id : 1, nchannels : 3.\n"
     ]
    },
    {
     "name": "stdout",
     "output_type": "stream",
     "text": [
      "SELECTED OUTPUT\n",
      "MSU visible channel reflectances, channels 2-4\n",
      "Profile 0:\n",
      "  Ch #02 refl=252.889097\n",
      "  Ch #03 refl=230.000954\n",
      "  Ch #04 refl=219.987303\n"
     ]
    },
    {
     "name": "stderr",
     "output_type": "stream",
     "text": [
      "MW emissivity atlas loaded successfully\n",
      "No surface emissivity/reflectance supplied: setting calcemis and calcrefl to true\n",
      "Deallocating this inst_id.\n",
      "Atlas deallocated.\n",
      "Load successful >>>>> inst_id : 1, nchannels : 3.\n"
     ]
    },
    {
     "name": "stdout",
     "output_type": "stream",
     "text": [
      "SELECTED OUTPUT\n",
      "MSU visible channel reflectances, channels 2-4\n",
      "Profile 0:\n",
      "  Ch #02 refl=253.661163\n",
      "  Ch #03 refl=231.089051\n",
      "  Ch #04 refl=219.558784\n"
     ]
    },
    {
     "name": "stderr",
     "output_type": "stream",
     "text": [
      "MW emissivity atlas loaded successfully\n",
      "No surface emissivity/reflectance supplied: setting calcemis and calcrefl to true\n",
      "Deallocating this inst_id.\n",
      "Atlas deallocated.\n",
      "Load successful >>>>> inst_id : 1, nchannels : 3.\n"
     ]
    },
    {
     "name": "stdout",
     "output_type": "stream",
     "text": [
      "SELECTED OUTPUT\n",
      "MSU visible channel reflectances, channels 2-4\n",
      "Profile 0:\n",
      "  Ch #02 refl=253.712781\n",
      "  Ch #03 refl=230.706886\n",
      "  Ch #04 refl=218.501091\n"
     ]
    },
    {
     "name": "stderr",
     "output_type": "stream",
     "text": [
      "MW emissivity atlas loaded successfully\n",
      "No surface emissivity/reflectance supplied: setting calcemis and calcrefl to true\n",
      "Deallocating this inst_id.\n",
      "Atlas deallocated.\n",
      "Load successful >>>>> inst_id : 1, nchannels : 3.\n"
     ]
    },
    {
     "name": "stdout",
     "output_type": "stream",
     "text": [
      "SELECTED OUTPUT\n",
      "MSU visible channel reflectances, channels 2-4\n",
      "Profile 0:\n",
      "  Ch #02 refl=249.602914\n",
      "  Ch #03 refl=228.144261\n",
      "  Ch #04 refl=217.816293\n"
     ]
    },
    {
     "name": "stderr",
     "output_type": "stream",
     "text": [
      "MW emissivity atlas loaded successfully\n",
      "No surface emissivity/reflectance supplied: setting calcemis and calcrefl to true\n",
      "Deallocating this inst_id.\n",
      "Atlas deallocated.\n",
      "Load successful >>>>> inst_id : 1, nchannels : 3.\n"
     ]
    },
    {
     "name": "stdout",
     "output_type": "stream",
     "text": [
      "SELECTED OUTPUT\n",
      "MSU visible channel reflectances, channels 2-4\n",
      "Profile 0:\n",
      "  Ch #02 refl=249.321967\n",
      "  Ch #03 refl=226.313362\n",
      "  Ch #04 refl=213.954272\n"
     ]
    },
    {
     "name": "stderr",
     "output_type": "stream",
     "text": [
      "MW emissivity atlas loaded successfully\n",
      "No surface emissivity/reflectance supplied: setting calcemis and calcrefl to true\n",
      "Deallocating this inst_id.\n",
      "Atlas deallocated.\n",
      "Load successful >>>>> inst_id : 1, nchannels : 3.\n",
      "MW emissivity atlas loaded successfully\n"
     ]
    },
    {
     "name": "stdout",
     "output_type": "stream",
     "text": [
      "SELECTED OUTPUT\n",
      "MSU visible channel reflectances, channels 2-4\n",
      "Profile 0:\n",
      "  Ch #02 refl=245.609006\n",
      "  Ch #03 refl=223.282730\n",
      "  Ch #04 refl=210.183867\n"
     ]
    },
    {
     "name": "stderr",
     "output_type": "stream",
     "text": [
      "No surface emissivity/reflectance supplied: setting calcemis and calcrefl to true\n",
      "Deallocating this inst_id.\n",
      "Atlas deallocated.\n",
      "Load successful >>>>> inst_id : 1, nchannels : 3.\n"
     ]
    },
    {
     "name": "stdout",
     "output_type": "stream",
     "text": [
      "SELECTED OUTPUT\n",
      "MSU visible channel reflectances, channels 2-4\n",
      "Profile 0:\n",
      "  Ch #02 refl=242.529648\n",
      "  Ch #03 refl=221.567405\n",
      "  Ch #04 refl=208.392844\n"
     ]
    },
    {
     "name": "stderr",
     "output_type": "stream",
     "text": [
      "MW emissivity atlas loaded successfully\n",
      "No surface emissivity/reflectance supplied: setting calcemis and calcrefl to true\n",
      "Deallocating this inst_id.\n",
      "Atlas deallocated.\n",
      "Load successful >>>>> inst_id : 1, nchannels : 3.\n"
     ]
    },
    {
     "name": "stdout",
     "output_type": "stream",
     "text": [
      "SELECTED OUTPUT\n",
      "MSU visible channel reflectances, channels 2-4\n",
      "Profile 0:\n",
      "  Ch #02 refl=243.220068\n",
      "  Ch #03 refl=222.127210\n",
      "  Ch #04 refl=212.475942\n"
     ]
    },
    {
     "name": "stderr",
     "output_type": "stream",
     "text": [
      "MW emissivity atlas loaded successfully\n",
      "No surface emissivity/reflectance supplied: setting calcemis and calcrefl to true\n",
      "Deallocating this inst_id.\n",
      "Atlas deallocated.\n",
      "Load successful >>>>> inst_id : 1, nchannels : 3.\n"
     ]
    },
    {
     "name": "stdout",
     "output_type": "stream",
     "text": [
      "SELECTED OUTPUT\n",
      "MSU visible channel reflectances, channels 2-4\n",
      "Profile 0:\n",
      "  Ch #02 refl=244.156344\n",
      "  Ch #03 refl=223.582732\n",
      "  Ch #04 refl=215.437510\n"
     ]
    },
    {
     "name": "stderr",
     "output_type": "stream",
     "text": [
      "MW emissivity atlas loaded successfully\n",
      "No surface emissivity/reflectance supplied: setting calcemis and calcrefl to true\n",
      "Deallocating this inst_id.\n",
      "Atlas deallocated.\n",
      "Load successful >>>>> inst_id : 1, nchannels : 3.\n"
     ]
    },
    {
     "name": "stdout",
     "output_type": "stream",
     "text": [
      "SELECTED OUTPUT\n",
      "MSU visible channel reflectances, channels 2-4\n",
      "Profile 0:\n",
      "  Ch #02 refl=245.107760\n",
      "  Ch #03 refl=224.581947\n",
      "  Ch #04 refl=215.740767\n"
     ]
    },
    {
     "name": "stderr",
     "output_type": "stream",
     "text": [
      "MW emissivity atlas loaded successfully\n",
      "No surface emissivity/reflectance supplied: setting calcemis and calcrefl to true\n",
      "Deallocating this inst_id.\n",
      "Atlas deallocated.\n",
      "Load successful >>>>> inst_id : 1, nchannels : 3.\n"
     ]
    },
    {
     "name": "stdout",
     "output_type": "stream",
     "text": [
      "SELECTED OUTPUT\n",
      "MSU visible channel reflectances, channels 2-4\n",
      "Profile 0:\n",
      "  Ch #02 refl=244.311062\n",
      "  Ch #03 refl=223.701292\n",
      "  Ch #04 refl=214.874011\n"
     ]
    },
    {
     "name": "stderr",
     "output_type": "stream",
     "text": [
      "MW emissivity atlas loaded successfully\n",
      "No surface emissivity/reflectance supplied: setting calcemis and calcrefl to true\n",
      "Deallocating this inst_id.\n",
      "Atlas deallocated.\n",
      "Load successful >>>>> inst_id : 1, nchannels : 3.\n"
     ]
    },
    {
     "name": "stdout",
     "output_type": "stream",
     "text": [
      "SELECTED OUTPUT\n",
      "MSU visible channel reflectances, channels 2-4\n",
      "Profile 0:\n",
      "  Ch #02 refl=249.956547\n",
      "  Ch #03 refl=227.653215\n",
      "  Ch #04 refl=218.546742\n"
     ]
    },
    {
     "name": "stderr",
     "output_type": "stream",
     "text": [
      "MW emissivity atlas loaded successfully\n",
      "No surface emissivity/reflectance supplied: setting calcemis and calcrefl to true\n",
      "Deallocating this inst_id.\n",
      "Atlas deallocated.\n",
      "Load successful >>>>> inst_id : 1, nchannels : 3.\n"
     ]
    },
    {
     "name": "stdout",
     "output_type": "stream",
     "text": [
      "SELECTED OUTPUT\n",
      "MSU visible channel reflectances, channels 2-4\n",
      "Profile 0:\n",
      "  Ch #02 refl=252.882663\n",
      "  Ch #03 refl=229.470366\n",
      "  Ch #04 refl=218.055327\n"
     ]
    },
    {
     "name": "stderr",
     "output_type": "stream",
     "text": [
      "MW emissivity atlas loaded successfully\n",
      "No surface emissivity/reflectance supplied: setting calcemis and calcrefl to true\n",
      "Deallocating this inst_id.\n",
      "Atlas deallocated.\n",
      "Load successful >>>>> inst_id : 1, nchannels : 3.\n"
     ]
    },
    {
     "name": "stdout",
     "output_type": "stream",
     "text": [
      "SELECTED OUTPUT\n",
      "MSU visible channel reflectances, channels 2-4\n",
      "Profile 0:\n",
      "  Ch #02 refl=250.085719\n",
      "  Ch #03 refl=229.957765\n",
      "  Ch #04 refl=219.474152\n"
     ]
    },
    {
     "name": "stderr",
     "output_type": "stream",
     "text": [
      "MW emissivity atlas loaded successfully\n",
      "No surface emissivity/reflectance supplied: setting calcemis and calcrefl to true\n",
      "Deallocating this inst_id.\n",
      "Atlas deallocated.\n",
      "Load successful >>>>> inst_id : 1, nchannels : 3.\n"
     ]
    },
    {
     "name": "stdout",
     "output_type": "stream",
     "text": [
      "SELECTED OUTPUT\n",
      "MSU visible channel reflectances, channels 2-4\n",
      "Profile 0:\n",
      "  Ch #02 refl=253.600655\n",
      "  Ch #03 refl=231.023090\n",
      "  Ch #04 refl=219.849063\n"
     ]
    },
    {
     "name": "stderr",
     "output_type": "stream",
     "text": [
      "MW emissivity atlas loaded successfully\n",
      "No surface emissivity/reflectance supplied: setting calcemis and calcrefl to true\n",
      "Deallocating this inst_id.\n",
      "Atlas deallocated.\n",
      "Load successful >>>>> inst_id : 1, nchannels : 3.\n"
     ]
    },
    {
     "name": "stdout",
     "output_type": "stream",
     "text": [
      "SELECTED OUTPUT\n",
      "MSU visible channel reflectances, channels 2-4\n",
      "Profile 0:\n",
      "  Ch #02 refl=253.240772\n",
      "  Ch #03 refl=228.328535\n",
      "  Ch #04 refl=213.934775\n"
     ]
    },
    {
     "name": "stderr",
     "output_type": "stream",
     "text": [
      "MW emissivity atlas loaded successfully\n",
      "No surface emissivity/reflectance supplied: setting calcemis and calcrefl to true\n",
      "Deallocating this inst_id.\n",
      "Atlas deallocated.\n",
      "Load successful >>>>> inst_id : 1, nchannels : 3.\n"
     ]
    },
    {
     "name": "stdout",
     "output_type": "stream",
     "text": [
      "SELECTED OUTPUT\n",
      "MSU visible channel reflectances, channels 2-4\n",
      "Profile 0:\n",
      "  Ch #02 refl=248.031277\n",
      "  Ch #03 refl=225.690448\n",
      "  Ch #04 refl=212.818239\n"
     ]
    },
    {
     "name": "stderr",
     "output_type": "stream",
     "text": [
      "MW emissivity atlas loaded successfully\n",
      "No surface emissivity/reflectance supplied: setting calcemis and calcrefl to true\n",
      "Deallocating this inst_id.\n",
      "Atlas deallocated.\n",
      "Load successful >>>>> inst_id : 1, nchannels : 3.\n"
     ]
    },
    {
     "name": "stdout",
     "output_type": "stream",
     "text": [
      "SELECTED OUTPUT\n",
      "MSU visible channel reflectances, channels 2-4\n",
      "Profile 0:\n",
      "  Ch #02 refl=246.060975\n",
      "  Ch #03 refl=224.318137\n",
      "  Ch #04 refl=211.843839\n"
     ]
    },
    {
     "name": "stderr",
     "output_type": "stream",
     "text": [
      "MW emissivity atlas loaded successfully\n",
      "No surface emissivity/reflectance supplied: setting calcemis and calcrefl to true\n",
      "Deallocating this inst_id.\n",
      "Atlas deallocated.\n",
      "Load successful >>>>> inst_id : 1, nchannels : 3.\n"
     ]
    },
    {
     "name": "stdout",
     "output_type": "stream",
     "text": [
      "SELECTED OUTPUT\n",
      "MSU visible channel reflectances, channels 2-4\n",
      "Profile 0:\n",
      "  Ch #02 refl=243.634166\n",
      "  Ch #03 refl=222.081301\n",
      "  Ch #04 refl=209.344625\n"
     ]
    },
    {
     "name": "stderr",
     "output_type": "stream",
     "text": [
      "MW emissivity atlas loaded successfully\n",
      "No surface emissivity/reflectance supplied: setting calcemis and calcrefl to true\n",
      "Deallocating this inst_id.\n",
      "Atlas deallocated.\n",
      "Load successful >>>>> inst_id : 1, nchannels : 3.\n"
     ]
    },
    {
     "name": "stdout",
     "output_type": "stream",
     "text": [
      "SELECTED OUTPUT\n",
      "MSU visible channel reflectances, channels 2-4\n",
      "Profile 0:\n",
      "  Ch #02 refl=243.208526\n",
      "  Ch #03 refl=221.955625\n",
      "  Ch #04 refl=211.511140\n"
     ]
    },
    {
     "name": "stderr",
     "output_type": "stream",
     "text": [
      "MW emissivity atlas loaded successfully\n",
      "No surface emissivity/reflectance supplied: setting calcemis and calcrefl to true\n",
      "Deallocating this inst_id.\n",
      "Atlas deallocated.\n",
      "Load successful >>>>> inst_id : 1, nchannels : 3.\n"
     ]
    },
    {
     "name": "stdout",
     "output_type": "stream",
     "text": [
      "SELECTED OUTPUT\n",
      "MSU visible channel reflectances, channels 2-4\n",
      "Profile 0:\n",
      "  Ch #02 refl=245.162101\n",
      "  Ch #03 refl=222.163389\n",
      "  Ch #04 refl=209.060753\n"
     ]
    },
    {
     "name": "stderr",
     "output_type": "stream",
     "text": [
      "MW emissivity atlas loaded successfully\n",
      "No surface emissivity/reflectance supplied: setting calcemis and calcrefl to true\n",
      "Deallocating this inst_id.\n",
      "Atlas deallocated.\n",
      "Load successful >>>>> inst_id : 1, nchannels : 3.\n"
     ]
    },
    {
     "name": "stdout",
     "output_type": "stream",
     "text": [
      "SELECTED OUTPUT\n",
      "MSU visible channel reflectances, channels 2-4\n",
      "Profile 0:\n",
      "  Ch #02 refl=243.103584\n",
      "  Ch #03 refl=223.113192\n",
      "  Ch #04 refl=214.384510\n"
     ]
    },
    {
     "name": "stderr",
     "output_type": "stream",
     "text": [
      "MW emissivity atlas loaded successfully\n",
      "No surface emissivity/reflectance supplied: setting calcemis and calcrefl to true\n",
      "Deallocating this inst_id.\n",
      "Atlas deallocated.\n",
      "Load successful >>>>> inst_id : 1, nchannels : 3.\n"
     ]
    },
    {
     "name": "stdout",
     "output_type": "stream",
     "text": [
      "SELECTED OUTPUT\n",
      "MSU visible channel reflectances, channels 2-4\n",
      "Profile 0:\n",
      "  Ch #02 refl=247.316292\n",
      "  Ch #03 refl=225.585090\n",
      "  Ch #04 refl=217.328340\n"
     ]
    },
    {
     "name": "stderr",
     "output_type": "stream",
     "text": [
      "MW emissivity atlas loaded successfully\n",
      "No surface emissivity/reflectance supplied: setting calcemis and calcrefl to true\n",
      "Deallocating this inst_id.\n",
      "Atlas deallocated.\n",
      "Load successful >>>>> inst_id : 1, nchannels : 3.\n"
     ]
    },
    {
     "name": "stdout",
     "output_type": "stream",
     "text": [
      "SELECTED OUTPUT\n",
      "MSU visible channel reflectances, channels 2-4\n",
      "Profile 0:\n",
      "  Ch #02 refl=249.947035\n",
      "  Ch #03 refl=227.990362\n",
      "  Ch #04 refl=219.357258\n"
     ]
    },
    {
     "name": "stderr",
     "output_type": "stream",
     "text": [
      "MW emissivity atlas loaded successfully\n",
      "No surface emissivity/reflectance supplied: setting calcemis and calcrefl to true\n",
      "Deallocating this inst_id.\n",
      "Atlas deallocated.\n",
      "Load successful >>>>> inst_id : 1, nchannels : 3.\n"
     ]
    },
    {
     "name": "stdout",
     "output_type": "stream",
     "text": [
      "SELECTED OUTPUT\n",
      "MSU visible channel reflectances, channels 2-4\n",
      "Profile 0:\n",
      "  Ch #02 refl=253.325069\n",
      "  Ch #03 refl=230.231109\n",
      "  Ch #04 refl=218.753112\n"
     ]
    },
    {
     "name": "stderr",
     "output_type": "stream",
     "text": [
      "MW emissivity atlas loaded successfully\n",
      "No surface emissivity/reflectance supplied: setting calcemis and calcrefl to true\n",
      "Deallocating this inst_id.\n",
      "Atlas deallocated.\n",
      "Load successful >>>>> inst_id : 1, nchannels : 3.\n"
     ]
    },
    {
     "name": "stdout",
     "output_type": "stream",
     "text": [
      "SELECTED OUTPUT\n",
      "MSU visible channel reflectances, channels 2-4\n",
      "Profile 0:\n",
      "  Ch #02 refl=254.849814\n",
      "  Ch #03 refl=231.883839\n",
      "  Ch #04 refl=219.696973\n"
     ]
    },
    {
     "name": "stderr",
     "output_type": "stream",
     "text": [
      "MW emissivity atlas loaded successfully\n",
      "No surface emissivity/reflectance supplied: setting calcemis and calcrefl to true\n",
      "Deallocating this inst_id.\n",
      "Atlas deallocated.\n",
      "Load successful >>>>> inst_id : 1, nchannels : 3.\n"
     ]
    },
    {
     "name": "stdout",
     "output_type": "stream",
     "text": [
      "SELECTED OUTPUT\n",
      "MSU visible channel reflectances, channels 2-4\n",
      "Profile 0:\n",
      "  Ch #02 refl=254.563550\n",
      "  Ch #03 refl=230.818605\n",
      "  Ch #04 refl=218.490633\n"
     ]
    },
    {
     "name": "stderr",
     "output_type": "stream",
     "text": [
      "MW emissivity atlas loaded successfully\n",
      "No surface emissivity/reflectance supplied: setting calcemis and calcrefl to true\n",
      "Deallocating this inst_id.\n",
      "Atlas deallocated.\n",
      "Load successful >>>>> inst_id : 1, nchannels : 3.\n"
     ]
    },
    {
     "name": "stdout",
     "output_type": "stream",
     "text": [
      "SELECTED OUTPUT\n",
      "MSU visible channel reflectances, channels 2-4\n",
      "Profile 0:\n",
      "  Ch #02 refl=252.144356\n",
      "  Ch #03 refl=229.663363\n",
      "  Ch #04 refl=218.661418\n"
     ]
    },
    {
     "name": "stderr",
     "output_type": "stream",
     "text": [
      "MW emissivity atlas loaded successfully\n",
      "No surface emissivity/reflectance supplied: setting calcemis and calcrefl to true\n",
      "Deallocating this inst_id.\n",
      "Atlas deallocated.\n",
      "Load successful >>>>> inst_id : 1, nchannels : 3.\n"
     ]
    },
    {
     "name": "stdout",
     "output_type": "stream",
     "text": [
      "SELECTED OUTPUT\n",
      "MSU visible channel reflectances, channels 2-4\n",
      "Profile 0:\n",
      "  Ch #02 refl=249.254866\n",
      "  Ch #03 refl=226.506341\n",
      "  Ch #04 refl=214.145061\n"
     ]
    },
    {
     "name": "stderr",
     "output_type": "stream",
     "text": [
      "MW emissivity atlas loaded successfully\n",
      "No surface emissivity/reflectance supplied: setting calcemis and calcrefl to true\n",
      "Deallocating this inst_id.\n",
      "Atlas deallocated.\n",
      "Load successful >>>>> inst_id : 1, nchannels : 3.\n"
     ]
    },
    {
     "name": "stdout",
     "output_type": "stream",
     "text": [
      "SELECTED OUTPUT\n",
      "MSU visible channel reflectances, channels 2-4\n",
      "Profile 0:\n",
      "  Ch #02 refl=243.500173\n",
      "  Ch #03 refl=222.959390\n",
      "  Ch #04 refl=210.183758\n"
     ]
    },
    {
     "name": "stderr",
     "output_type": "stream",
     "text": [
      "MW emissivity atlas loaded successfully\n",
      "No surface emissivity/reflectance supplied: setting calcemis and calcrefl to true\n",
      "Deallocating this inst_id.\n",
      "Atlas deallocated.\n",
      "Load successful >>>>> inst_id : 1, nchannels : 3.\n"
     ]
    },
    {
     "name": "stdout",
     "output_type": "stream",
     "text": [
      "SELECTED OUTPUT\n",
      "MSU visible channel reflectances, channels 2-4\n",
      "Profile 0:\n",
      "  Ch #02 refl=243.073718\n",
      "  Ch #03 refl=222.248725\n",
      "  Ch #04 refl=209.755226\n"
     ]
    },
    {
     "name": "stderr",
     "output_type": "stream",
     "text": [
      "MW emissivity atlas loaded successfully\n",
      "No surface emissivity/reflectance supplied: setting calcemis and calcrefl to true\n",
      "Deallocating this inst_id.\n",
      "Atlas deallocated.\n",
      "Load successful >>>>> inst_id : 1, nchannels : 3.\n"
     ]
    },
    {
     "name": "stdout",
     "output_type": "stream",
     "text": [
      "SELECTED OUTPUT\n",
      "MSU visible channel reflectances, channels 2-4\n",
      "Profile 0:\n",
      "  Ch #02 refl=243.756210\n",
      "  Ch #03 refl=222.828275\n",
      "  Ch #04 refl=210.177345\n"
     ]
    },
    {
     "name": "stderr",
     "output_type": "stream",
     "text": [
      "MW emissivity atlas loaded successfully\n",
      "No surface emissivity/reflectance supplied: setting calcemis and calcrefl to true\n",
      "Deallocating this inst_id.\n",
      "Atlas deallocated.\n",
      "Load successful >>>>> inst_id : 1, nchannels : 3.\n"
     ]
    },
    {
     "name": "stdout",
     "output_type": "stream",
     "text": [
      "SELECTED OUTPUT\n",
      "MSU visible channel reflectances, channels 2-4\n",
      "Profile 0:\n",
      "  Ch #02 refl=241.284749\n",
      "  Ch #03 refl=222.094919\n",
      "  Ch #04 refl=212.436070\n"
     ]
    },
    {
     "name": "stderr",
     "output_type": "stream",
     "text": [
      "MW emissivity atlas loaded successfully\n",
      "No surface emissivity/reflectance supplied: setting calcemis and calcrefl to true\n",
      "Deallocating this inst_id.\n",
      "Atlas deallocated.\n",
      "Load successful >>>>> inst_id : 1, nchannels : 3.\n"
     ]
    },
    {
     "name": "stdout",
     "output_type": "stream",
     "text": [
      "SELECTED OUTPUT\n",
      "MSU visible channel reflectances, channels 2-4\n",
      "Profile 0:\n",
      "  Ch #02 refl=244.323056\n",
      "  Ch #03 refl=223.435472\n",
      "  Ch #04 refl=214.475777\n"
     ]
    },
    {
     "name": "stderr",
     "output_type": "stream",
     "text": [
      "MW emissivity atlas loaded successfully\n",
      "No surface emissivity/reflectance supplied: setting calcemis and calcrefl to true\n",
      "Deallocating this inst_id.\n",
      "Atlas deallocated.\n",
      "Load successful >>>>> inst_id : 1, nchannels : 3.\n"
     ]
    },
    {
     "name": "stdout",
     "output_type": "stream",
     "text": [
      "SELECTED OUTPUT\n",
      "MSU visible channel reflectances, channels 2-4\n",
      "Profile 0:\n",
      "  Ch #02 refl=246.727368\n",
      "  Ch #03 refl=225.473917\n",
      "  Ch #04 refl=216.571190\n"
     ]
    },
    {
     "name": "stderr",
     "output_type": "stream",
     "text": [
      "MW emissivity atlas loaded successfully\n",
      "No surface emissivity/reflectance supplied: setting calcemis and calcrefl to true\n",
      "Deallocating this inst_id.\n",
      "Atlas deallocated.\n",
      "Load successful >>>>> inst_id : 1, nchannels : 3.\n"
     ]
    },
    {
     "name": "stdout",
     "output_type": "stream",
     "text": [
      "SELECTED OUTPUT\n",
      "MSU visible channel reflectances, channels 2-4\n",
      "Profile 0:\n",
      "  Ch #02 refl=250.372466\n",
      "  Ch #03 refl=227.205387\n",
      "  Ch #04 refl=216.919373\n"
     ]
    },
    {
     "name": "stderr",
     "output_type": "stream",
     "text": [
      "MW emissivity atlas loaded successfully\n",
      "No surface emissivity/reflectance supplied: setting calcemis and calcrefl to true\n",
      "Deallocating this inst_id.\n",
      "Atlas deallocated.\n",
      "Load successful >>>>> inst_id : 1, nchannels : 3.\n"
     ]
    },
    {
     "name": "stdout",
     "output_type": "stream",
     "text": [
      "SELECTED OUTPUT\n",
      "MSU visible channel reflectances, channels 2-4\n",
      "Profile 0:\n",
      "  Ch #02 refl=253.069855\n",
      "  Ch #03 refl=229.775833\n",
      "  Ch #04 refl=218.620146\n"
     ]
    },
    {
     "name": "stderr",
     "output_type": "stream",
     "text": [
      "MW emissivity atlas loaded successfully\n",
      "No surface emissivity/reflectance supplied: setting calcemis and calcrefl to true\n",
      "Deallocating this inst_id.\n",
      "Atlas deallocated.\n",
      "Load successful >>>>> inst_id : 1, nchannels : 3.\n"
     ]
    },
    {
     "name": "stdout",
     "output_type": "stream",
     "text": [
      "SELECTED OUTPUT\n",
      "MSU visible channel reflectances, channels 2-4\n",
      "Profile 0:\n",
      "  Ch #02 refl=254.556566\n",
      "  Ch #03 refl=231.074052\n",
      "  Ch #04 refl=218.550034\n"
     ]
    },
    {
     "name": "stderr",
     "output_type": "stream",
     "text": [
      "MW emissivity atlas loaded successfully\n",
      "No surface emissivity/reflectance supplied: setting calcemis and calcrefl to true\n",
      "Deallocating this inst_id.\n",
      "Atlas deallocated.\n",
      "Load successful >>>>> inst_id : 1, nchannels : 3.\n"
     ]
    },
    {
     "name": "stdout",
     "output_type": "stream",
     "text": [
      "SELECTED OUTPUT\n",
      "MSU visible channel reflectances, channels 2-4\n",
      "Profile 0:\n",
      "  Ch #02 refl=254.070514\n",
      "  Ch #03 refl=230.542521\n",
      "  Ch #04 refl=218.634700\n"
     ]
    },
    {
     "name": "stderr",
     "output_type": "stream",
     "text": [
      "MW emissivity atlas loaded successfully\n",
      "No surface emissivity/reflectance supplied: setting calcemis and calcrefl to true\n",
      "Deallocating this inst_id.\n",
      "Atlas deallocated.\n",
      "Load successful >>>>> inst_id : 1, nchannels : 3.\n",
      "MW emissivity atlas loaded successfully\n",
      "No surface emissivity/reflectance supplied: setting calcemis and calcrefl to true\n"
     ]
    },
    {
     "name": "stdout",
     "output_type": "stream",
     "text": [
      "SELECTED OUTPUT\n",
      "MSU visible channel reflectances, channels 2-4\n",
      "Profile 0:\n",
      "  Ch #02 refl=253.398709\n",
      "  Ch #03 refl=228.644841\n",
      "  Ch #04 refl=214.834494\n",
      "SELECTED OUTPUT\n",
      "MSU visible channel reflectances, channels 2-4\n",
      "Profile 0:\n",
      "  Ch #02 refl=249.358783\n",
      "  Ch #03 refl=226.450760\n",
      "  Ch #04 refl=213.734301\n"
     ]
    },
    {
     "name": "stderr",
     "output_type": "stream",
     "text": [
      "Deallocating this inst_id.\n",
      "Atlas deallocated.\n",
      "Load successful >>>>> inst_id : 1, nchannels : 3.\n",
      "MW emissivity atlas loaded successfully\n",
      "No surface emissivity/reflectance supplied: setting calcemis and calcrefl to true\n",
      "Deallocating this inst_id.\n",
      "Atlas deallocated.\n",
      "Load successful >>>>> inst_id : 1, nchannels : 3.\n"
     ]
    },
    {
     "name": "stdout",
     "output_type": "stream",
     "text": [
      "SELECTED OUTPUT\n",
      "MSU visible channel reflectances, channels 2-4\n",
      "Profile 0:\n",
      "  Ch #02 refl=245.684791\n",
      "  Ch #03 refl=223.895477\n",
      "  Ch #04 refl=211.049545\n"
     ]
    },
    {
     "name": "stderr",
     "output_type": "stream",
     "text": [
      "MW emissivity atlas loaded successfully\n",
      "No surface emissivity/reflectance supplied: setting calcemis and calcrefl to true\n",
      "Deallocating this inst_id.\n",
      "Atlas deallocated.\n",
      "Load successful >>>>> inst_id : 1, nchannels : 3.\n"
     ]
    },
    {
     "name": "stdout",
     "output_type": "stream",
     "text": [
      "SELECTED OUTPUT\n",
      "MSU visible channel reflectances, channels 2-4\n",
      "Profile 0:\n",
      "  Ch #02 refl=243.313212\n",
      "  Ch #03 refl=223.266151\n",
      "  Ch #04 refl=210.486614\n"
     ]
    },
    {
     "name": "stderr",
     "output_type": "stream",
     "text": [
      "MW emissivity atlas loaded successfully\n",
      "No surface emissivity/reflectance supplied: setting calcemis and calcrefl to true\n",
      "Deallocating this inst_id.\n",
      "Atlas deallocated.\n",
      "Load successful >>>>> inst_id : 1, nchannels : 3.\n"
     ]
    },
    {
     "name": "stdout",
     "output_type": "stream",
     "text": [
      "SELECTED OUTPUT\n",
      "MSU visible channel reflectances, channels 2-4\n",
      "Profile 0:\n",
      "  Ch #02 refl=241.901907\n",
      "  Ch #03 refl=222.289890\n",
      "  Ch #04 refl=211.326784\n"
     ]
    },
    {
     "name": "stderr",
     "output_type": "stream",
     "text": [
      "MW emissivity atlas loaded successfully\n",
      "No surface emissivity/reflectance supplied: setting calcemis and calcrefl to true\n",
      "Deallocating this inst_id.\n",
      "Atlas deallocated.\n",
      "Load successful >>>>> inst_id : 1, nchannels : 3.\n"
     ]
    },
    {
     "name": "stdout",
     "output_type": "stream",
     "text": [
      "SELECTED OUTPUT\n",
      "MSU visible channel reflectances, channels 2-4\n",
      "Profile 0:\n",
      "  Ch #02 refl=243.603911\n",
      "  Ch #03 refl=223.832405\n",
      "  Ch #04 refl=214.001514\n"
     ]
    },
    {
     "name": "stderr",
     "output_type": "stream",
     "text": [
      "MW emissivity atlas loaded successfully\n",
      "No surface emissivity/reflectance supplied: setting calcemis and calcrefl to true\n",
      "Deallocating this inst_id.\n",
      "Atlas deallocated.\n",
      "Load successful >>>>> inst_id : 1, nchannels : 3.\n"
     ]
    },
    {
     "name": "stdout",
     "output_type": "stream",
     "text": [
      "SELECTED OUTPUT\n",
      "MSU visible channel reflectances, channels 2-4\n",
      "Profile 0:\n",
      "  Ch #02 refl=243.607069\n",
      "  Ch #03 refl=222.317210\n",
      "  Ch #04 refl=209.417498\n"
     ]
    },
    {
     "name": "stderr",
     "output_type": "stream",
     "text": [
      "MW emissivity atlas loaded successfully\n",
      "No surface emissivity/reflectance supplied: setting calcemis and calcrefl to true\n",
      "Deallocating this inst_id.\n",
      "Atlas deallocated.\n",
      "Load successful >>>>> inst_id : 1, nchannels : 3.\n"
     ]
    },
    {
     "name": "stdout",
     "output_type": "stream",
     "text": [
      "SELECTED OUTPUT\n",
      "MSU visible channel reflectances, channels 2-4\n",
      "Profile 0:\n",
      "  Ch #02 refl=248.157593\n",
      "  Ch #03 refl=226.439556\n",
      "  Ch #04 refl=218.516458\n"
     ]
    },
    {
     "name": "stderr",
     "output_type": "stream",
     "text": [
      "MW emissivity atlas loaded successfully\n",
      "No surface emissivity/reflectance supplied: setting calcemis and calcrefl to true\n",
      "Deallocating this inst_id.\n",
      "Atlas deallocated.\n",
      "Load successful >>>>> inst_id : 1, nchannels : 3.\n"
     ]
    },
    {
     "name": "stdout",
     "output_type": "stream",
     "text": [
      "SELECTED OUTPUT\n",
      "MSU visible channel reflectances, channels 2-4\n",
      "Profile 0:\n",
      "  Ch #02 refl=250.813167\n",
      "  Ch #03 refl=227.097065\n",
      "  Ch #04 refl=217.436897\n"
     ]
    },
    {
     "name": "stderr",
     "output_type": "stream",
     "text": [
      "MW emissivity atlas loaded successfully\n",
      "No surface emissivity/reflectance supplied: setting calcemis and calcrefl to true\n",
      "Deallocating this inst_id.\n",
      "Atlas deallocated.\n",
      "Load successful >>>>> inst_id : 1, nchannels : 3.\n"
     ]
    },
    {
     "name": "stdout",
     "output_type": "stream",
     "text": [
      "SELECTED OUTPUT\n",
      "MSU visible channel reflectances, channels 2-4\n",
      "Profile 0:\n",
      "  Ch #02 refl=253.481957\n",
      "  Ch #03 refl=229.833216\n",
      "  Ch #04 refl=218.534685\n"
     ]
    },
    {
     "name": "stderr",
     "output_type": "stream",
     "text": [
      "MW emissivity atlas loaded successfully\n",
      "No surface emissivity/reflectance supplied: setting calcemis and calcrefl to true\n",
      "Deallocating this inst_id.\n",
      "Atlas deallocated.\n",
      "Load successful >>>>> inst_id : 1, nchannels : 3.\n"
     ]
    },
    {
     "name": "stdout",
     "output_type": "stream",
     "text": [
      "SELECTED OUTPUT\n",
      "MSU visible channel reflectances, channels 2-4\n",
      "Profile 0:\n",
      "  Ch #02 refl=253.035018\n",
      "  Ch #03 refl=230.687034\n",
      "  Ch #04 refl=219.202507\n"
     ]
    },
    {
     "name": "stderr",
     "output_type": "stream",
     "text": [
      "MW emissivity atlas loaded successfully\n",
      "No surface emissivity/reflectance supplied: setting calcemis and calcrefl to true\n",
      "Deallocating this inst_id.\n",
      "Atlas deallocated.\n",
      "Load successful >>>>> inst_id : 1, nchannels : 3.\n"
     ]
    },
    {
     "name": "stdout",
     "output_type": "stream",
     "text": [
      "SELECTED OUTPUT\n",
      "MSU visible channel reflectances, channels 2-4\n",
      "Profile 0:\n",
      "  Ch #02 refl=254.757216\n",
      "  Ch #03 refl=230.396641\n",
      "  Ch #04 refl=217.055214\n"
     ]
    },
    {
     "name": "stderr",
     "output_type": "stream",
     "text": [
      "MW emissivity atlas loaded successfully\n",
      "No surface emissivity/reflectance supplied: setting calcemis and calcrefl to true\n",
      "Deallocating this inst_id.\n",
      "Atlas deallocated.\n",
      "Load successful >>>>> inst_id : 1, nchannels : 3.\n"
     ]
    },
    {
     "name": "stdout",
     "output_type": "stream",
     "text": [
      "SELECTED OUTPUT\n",
      "MSU visible channel reflectances, channels 2-4\n",
      "Profile 0:\n",
      "  Ch #02 refl=251.843091\n",
      "  Ch #03 refl=228.396628\n",
      "  Ch #04 refl=217.388137\n"
     ]
    },
    {
     "name": "stderr",
     "output_type": "stream",
     "text": [
      "MW emissivity atlas loaded successfully\n",
      "No surface emissivity/reflectance supplied: setting calcemis and calcrefl to true\n",
      "Deallocating this inst_id.\n",
      "Atlas deallocated.\n",
      "Load successful >>>>> inst_id : 1, nchannels : 3.\n"
     ]
    },
    {
     "name": "stdout",
     "output_type": "stream",
     "text": [
      "SELECTED OUTPUT\n",
      "MSU visible channel reflectances, channels 2-4\n",
      "Profile 0:\n",
      "  Ch #02 refl=250.411408\n",
      "  Ch #03 refl=225.965499\n",
      "  Ch #04 refl=212.682887\n"
     ]
    },
    {
     "name": "stderr",
     "output_type": "stream",
     "text": [
      "MW emissivity atlas loaded successfully\n",
      "No surface emissivity/reflectance supplied: setting calcemis and calcrefl to true\n",
      "Deallocating this inst_id.\n",
      "Atlas deallocated.\n",
      "Load successful >>>>> inst_id : 1, nchannels : 3.\n"
     ]
    },
    {
     "name": "stdout",
     "output_type": "stream",
     "text": [
      "SELECTED OUTPUT\n",
      "MSU visible channel reflectances, channels 2-4\n",
      "Profile 0:\n",
      "  Ch #02 refl=246.368303\n",
      "  Ch #03 refl=222.980774\n",
      "  Ch #04 refl=209.122250\n"
     ]
    },
    {
     "name": "stderr",
     "output_type": "stream",
     "text": [
      "MW emissivity atlas loaded successfully\n",
      "No surface emissivity/reflectance supplied: setting calcemis and calcrefl to true\n",
      "Deallocating this inst_id.\n",
      "Atlas deallocated.\n",
      "Load successful >>>>> inst_id : 1, nchannels : 3.\n"
     ]
    },
    {
     "name": "stdout",
     "output_type": "stream",
     "text": [
      "SELECTED OUTPUT\n",
      "MSU visible channel reflectances, channels 2-4\n",
      "Profile 0:\n",
      "  Ch #02 refl=244.380475\n",
      "  Ch #03 refl=222.769451\n",
      "  Ch #04 refl=210.535054\n"
     ]
    },
    {
     "name": "stderr",
     "output_type": "stream",
     "text": [
      "MW emissivity atlas loaded successfully\n",
      "No surface emissivity/reflectance supplied: setting calcemis and calcrefl to true\n",
      "Deallocating this inst_id.\n",
      "Atlas deallocated.\n",
      "Load successful >>>>> inst_id : 1, nchannels : 3.\n"
     ]
    },
    {
     "name": "stdout",
     "output_type": "stream",
     "text": [
      "SELECTED OUTPUT\n",
      "MSU visible channel reflectances, channels 2-4\n",
      "Profile 0:\n",
      "  Ch #02 refl=243.274738\n",
      "  Ch #03 refl=222.581229\n",
      "  Ch #04 refl=210.754288\n"
     ]
    },
    {
     "name": "stderr",
     "output_type": "stream",
     "text": [
      "MW emissivity atlas loaded successfully\n",
      "No surface emissivity/reflectance supplied: setting calcemis and calcrefl to true\n",
      "Deallocating this inst_id.\n",
      "Atlas deallocated.\n",
      "Load successful >>>>> inst_id : 1, nchannels : 3.\n"
     ]
    },
    {
     "name": "stdout",
     "output_type": "stream",
     "text": [
      "SELECTED OUTPUT\n",
      "MSU visible channel reflectances, channels 2-4\n",
      "Profile 0:\n",
      "  Ch #02 refl=242.754249\n",
      "  Ch #03 refl=222.140107\n",
      "  Ch #04 refl=211.180181\n"
     ]
    },
    {
     "name": "stderr",
     "output_type": "stream",
     "text": [
      "MW emissivity atlas loaded successfully\n",
      "No surface emissivity/reflectance supplied: setting calcemis and calcrefl to true\n",
      "Deallocating this inst_id.\n",
      "Atlas deallocated.\n",
      "Load successful >>>>> inst_id : 1, nchannels : 3.\n"
     ]
    },
    {
     "name": "stdout",
     "output_type": "stream",
     "text": [
      "SELECTED OUTPUT\n",
      "MSU visible channel reflectances, channels 2-4\n",
      "Profile 0:\n",
      "  Ch #02 refl=245.491155\n",
      "  Ch #03 refl=224.543610\n",
      "  Ch #04 refl=214.578572\n"
     ]
    },
    {
     "name": "stderr",
     "output_type": "stream",
     "text": [
      "MW emissivity atlas loaded successfully\n",
      "No surface emissivity/reflectance supplied: setting calcemis and calcrefl to true\n",
      "Deallocating this inst_id.\n",
      "Atlas deallocated.\n",
      "Load successful >>>>> inst_id : 1, nchannels : 3.\n"
     ]
    },
    {
     "name": "stdout",
     "output_type": "stream",
     "text": [
      "SELECTED OUTPUT\n",
      "MSU visible channel reflectances, channels 2-4\n",
      "Profile 0:\n",
      "  Ch #02 refl=246.454467\n",
      "  Ch #03 refl=226.273742\n",
      "  Ch #04 refl=218.500352\n"
     ]
    },
    {
     "name": "stderr",
     "output_type": "stream",
     "text": [
      "MW emissivity atlas loaded successfully\n",
      "No surface emissivity/reflectance supplied: setting calcemis and calcrefl to true\n",
      "Deallocating this inst_id.\n",
      "Atlas deallocated.\n",
      "Load successful >>>>> inst_id : 1, nchannels : 3.\n"
     ]
    },
    {
     "name": "stdout",
     "output_type": "stream",
     "text": [
      "SELECTED OUTPUT\n",
      "MSU visible channel reflectances, channels 2-4\n",
      "Profile 0:\n",
      "  Ch #02 refl=249.415926\n",
      "  Ch #03 refl=227.337101\n",
      "  Ch #04 refl=216.319170\n"
     ]
    },
    {
     "name": "stderr",
     "output_type": "stream",
     "text": [
      "MW emissivity atlas loaded successfully\n",
      "No surface emissivity/reflectance supplied: setting calcemis and calcrefl to true\n",
      "Deallocating this inst_id.\n",
      "Atlas deallocated.\n",
      "Load successful >>>>> inst_id : 1, nchannels : 3.\n"
     ]
    },
    {
     "name": "stdout",
     "output_type": "stream",
     "text": [
      "SELECTED OUTPUT\n",
      "MSU visible channel reflectances, channels 2-4\n",
      "Profile 0:\n",
      "  Ch #02 refl=251.744683\n",
      "  Ch #03 refl=229.797304\n",
      "  Ch #04 refl=220.236124\n"
     ]
    },
    {
     "name": "stderr",
     "output_type": "stream",
     "text": [
      "MW emissivity atlas loaded successfully\n",
      "No surface emissivity/reflectance supplied: setting calcemis and calcrefl to true\n",
      "Deallocating this inst_id.\n",
      "Atlas deallocated.\n",
      "Load successful >>>>> inst_id : 1, nchannels : 3.\n"
     ]
    },
    {
     "name": "stdout",
     "output_type": "stream",
     "text": [
      "SELECTED OUTPUT\n",
      "MSU visible channel reflectances, channels 2-4\n",
      "Profile 0:\n",
      "  Ch #02 refl=254.791827\n",
      "  Ch #03 refl=231.568361\n",
      "  Ch #04 refl=220.057420\n"
     ]
    },
    {
     "name": "stderr",
     "output_type": "stream",
     "text": [
      "MW emissivity atlas loaded successfully\n",
      "No surface emissivity/reflectance supplied: setting calcemis and calcrefl to true\n",
      "Deallocating this inst_id.\n",
      "Atlas deallocated.\n",
      "Load successful >>>>> inst_id : 1, nchannels : 3.\n"
     ]
    },
    {
     "name": "stdout",
     "output_type": "stream",
     "text": [
      "SELECTED OUTPUT\n",
      "MSU visible channel reflectances, channels 2-4\n",
      "Profile 0:\n",
      "  Ch #02 refl=255.559494\n",
      "  Ch #03 refl=230.849506\n",
      "  Ch #04 refl=218.177970\n"
     ]
    },
    {
     "name": "stderr",
     "output_type": "stream",
     "text": [
      "MW emissivity atlas loaded successfully\n",
      "No surface emissivity/reflectance supplied: setting calcemis and calcrefl to true\n",
      "Deallocating this inst_id.\n",
      "Atlas deallocated.\n",
      "Load successful >>>>> inst_id : 1, nchannels : 3.\n"
     ]
    },
    {
     "name": "stdout",
     "output_type": "stream",
     "text": [
      "SELECTED OUTPUT\n",
      "MSU visible channel reflectances, channels 2-4\n",
      "Profile 0:\n",
      "  Ch #02 refl=250.633279\n",
      "  Ch #03 refl=229.350292\n",
      "  Ch #04 refl=219.880361\n"
     ]
    },
    {
     "name": "stderr",
     "output_type": "stream",
     "text": [
      "MW emissivity atlas loaded successfully\n",
      "No surface emissivity/reflectance supplied: setting calcemis and calcrefl to true\n",
      "Deallocating this inst_id.\n",
      "Atlas deallocated.\n",
      "Load successful >>>>> inst_id : 1, nchannels : 3.\n"
     ]
    },
    {
     "name": "stdout",
     "output_type": "stream",
     "text": [
      "SELECTED OUTPUT\n",
      "MSU visible channel reflectances, channels 2-4\n",
      "Profile 0:\n",
      "  Ch #02 refl=251.231483\n",
      "  Ch #03 refl=226.444186\n",
      "  Ch #04 refl=212.558618\n"
     ]
    },
    {
     "name": "stderr",
     "output_type": "stream",
     "text": [
      "MW emissivity atlas loaded successfully\n",
      "No surface emissivity/reflectance supplied: setting calcemis and calcrefl to true\n",
      "Deallocating this inst_id.\n",
      "Atlas deallocated.\n",
      "Load successful >>>>> inst_id : 1, nchannels : 3.\n"
     ]
    },
    {
     "name": "stdout",
     "output_type": "stream",
     "text": [
      "SELECTED OUTPUT\n",
      "MSU visible channel reflectances, channels 2-4\n",
      "Profile 0:\n",
      "  Ch #02 refl=245.044517\n",
      "  Ch #03 refl=223.638620\n",
      "  Ch #04 refl=210.540635\n"
     ]
    },
    {
     "name": "stderr",
     "output_type": "stream",
     "text": [
      "MW emissivity atlas loaded successfully\n",
      "No surface emissivity/reflectance supplied: setting calcemis and calcrefl to true\n",
      "Deallocating this inst_id.\n",
      "Atlas deallocated.\n",
      "Load successful >>>>> inst_id : 1, nchannels : 3.\n",
      "MW emissivity atlas loaded successfully\n"
     ]
    },
    {
     "name": "stdout",
     "output_type": "stream",
     "text": [
      "SELECTED OUTPUT\n",
      "MSU visible channel reflectances, channels 2-4\n",
      "Profile 0:\n",
      "  Ch #02 refl=241.041106\n",
      "  Ch #03 refl=222.182303\n",
      "  Ch #04 refl=210.207669\n"
     ]
    },
    {
     "name": "stderr",
     "output_type": "stream",
     "text": [
      "No surface emissivity/reflectance supplied: setting calcemis and calcrefl to true\n",
      "Deallocating this inst_id.\n",
      "Atlas deallocated.\n",
      "Load successful >>>>> inst_id : 1, nchannels : 3.\n"
     ]
    },
    {
     "name": "stdout",
     "output_type": "stream",
     "text": [
      "SELECTED OUTPUT\n",
      "MSU visible channel reflectances, channels 2-4\n",
      "Profile 0:\n",
      "  Ch #02 refl=243.183002\n",
      "  Ch #03 refl=221.757276\n",
      "  Ch #04 refl=208.817198\n"
     ]
    },
    {
     "name": "stderr",
     "output_type": "stream",
     "text": [
      "MW emissivity atlas loaded successfully\n",
      "No surface emissivity/reflectance supplied: setting calcemis and calcrefl to true\n",
      "Deallocating this inst_id.\n",
      "Atlas deallocated.\n",
      "Load successful >>>>> inst_id : 1, nchannels : 3.\n"
     ]
    },
    {
     "name": "stdout",
     "output_type": "stream",
     "text": [
      "SELECTED OUTPUT\n",
      "MSU visible channel reflectances, channels 2-4\n",
      "Profile 0:\n",
      "  Ch #02 refl=244.954820\n",
      "  Ch #03 refl=223.681994\n",
      "  Ch #04 refl=211.490461\n"
     ]
    },
    {
     "name": "stderr",
     "output_type": "stream",
     "text": [
      "MW emissivity atlas loaded successfully\n",
      "No surface emissivity/reflectance supplied: setting calcemis and calcrefl to true\n",
      "Deallocating this inst_id.\n",
      "Atlas deallocated.\n",
      "Load successful >>>>> inst_id : 1, nchannels : 3.\n"
     ]
    },
    {
     "name": "stdout",
     "output_type": "stream",
     "text": [
      "SELECTED OUTPUT\n",
      "MSU visible channel reflectances, channels 2-4\n",
      "Profile 0:\n",
      "  Ch #02 refl=245.360401\n",
      "  Ch #03 refl=224.606719\n",
      "  Ch #04 refl=214.980249\n"
     ]
    },
    {
     "name": "stderr",
     "output_type": "stream",
     "text": [
      "MW emissivity atlas loaded successfully\n",
      "No surface emissivity/reflectance supplied: setting calcemis and calcrefl to true\n",
      "Deallocating this inst_id.\n",
      "Atlas deallocated.\n",
      "Load successful >>>>> inst_id : 1, nchannels : 3.\n"
     ]
    },
    {
     "name": "stdout",
     "output_type": "stream",
     "text": [
      "SELECTED OUTPUT\n",
      "MSU visible channel reflectances, channels 2-4\n",
      "Profile 0:\n",
      "  Ch #02 refl=246.470826\n",
      "  Ch #03 refl=226.253682\n",
      "  Ch #04 refl=218.123977\n"
     ]
    },
    {
     "name": "stderr",
     "output_type": "stream",
     "text": [
      "MW emissivity atlas loaded successfully\n",
      "No surface emissivity/reflectance supplied: setting calcemis and calcrefl to true\n",
      "Deallocating this inst_id.\n",
      "Atlas deallocated.\n",
      "Load successful >>>>> inst_id : 1, nchannels : 3.\n"
     ]
    },
    {
     "name": "stdout",
     "output_type": "stream",
     "text": [
      "SELECTED OUTPUT\n",
      "MSU visible channel reflectances, channels 2-4\n",
      "Profile 0:\n",
      "  Ch #02 refl=251.449178\n",
      "  Ch #03 refl=227.780177\n",
      "  Ch #04 refl=216.712470\n"
     ]
    },
    {
     "name": "stderr",
     "output_type": "stream",
     "text": [
      "MW emissivity atlas loaded successfully\n",
      "No surface emissivity/reflectance supplied: setting calcemis and calcrefl to true\n",
      "Deallocating this inst_id.\n",
      "Atlas deallocated.\n",
      "Load successful >>>>> inst_id : 1, nchannels : 3.\n"
     ]
    },
    {
     "name": "stdout",
     "output_type": "stream",
     "text": [
      "SELECTED OUTPUT\n",
      "MSU visible channel reflectances, channels 2-4\n",
      "Profile 0:\n",
      "  Ch #02 refl=253.763050\n",
      "  Ch #03 refl=229.558178\n",
      "  Ch #04 refl=218.300333\n"
     ]
    },
    {
     "name": "stderr",
     "output_type": "stream",
     "text": [
      "MW emissivity atlas loaded successfully\n",
      "No surface emissivity/reflectance supplied: setting calcemis and calcrefl to true\n",
      "Deallocating this inst_id.\n",
      "Atlas deallocated.\n",
      "Load successful >>>>> inst_id : 1, nchannels : 3.\n"
     ]
    },
    {
     "name": "stdout",
     "output_type": "stream",
     "text": [
      "SELECTED OUTPUT\n",
      "MSU visible channel reflectances, channels 2-4\n",
      "Profile 0:\n",
      "  Ch #02 refl=255.403728\n",
      "  Ch #03 refl=231.518137\n",
      "  Ch #04 refl=219.141519\n"
     ]
    },
    {
     "name": "stderr",
     "output_type": "stream",
     "text": [
      "MW emissivity atlas loaded successfully\n",
      "No surface emissivity/reflectance supplied: setting calcemis and calcrefl to true\n",
      "Deallocating this inst_id.\n",
      "Atlas deallocated.\n",
      "Load successful >>>>> inst_id : 1, nchannels : 3.\n"
     ]
    },
    {
     "name": "stdout",
     "output_type": "stream",
     "text": [
      "SELECTED OUTPUT\n",
      "MSU visible channel reflectances, channels 2-4\n",
      "Profile 0:\n",
      "  Ch #02 refl=254.594285\n",
      "  Ch #03 refl=230.929685\n",
      "  Ch #04 refl=219.516123\n"
     ]
    },
    {
     "name": "stderr",
     "output_type": "stream",
     "text": [
      "MW emissivity atlas loaded successfully\n",
      "No surface emissivity/reflectance supplied: setting calcemis and calcrefl to true\n",
      "Deallocating this inst_id.\n",
      "Atlas deallocated.\n",
      "Load successful >>>>> inst_id : 1, nchannels : 3.\n"
     ]
    },
    {
     "name": "stdout",
     "output_type": "stream",
     "text": [
      "SELECTED OUTPUT\n",
      "MSU visible channel reflectances, channels 2-4\n",
      "Profile 0:\n",
      "  Ch #02 refl=250.578113\n",
      "  Ch #03 refl=228.189653\n",
      "  Ch #04 refl=218.196947\n"
     ]
    },
    {
     "name": "stderr",
     "output_type": "stream",
     "text": [
      "MW emissivity atlas loaded successfully\n",
      "No surface emissivity/reflectance supplied: setting calcemis and calcrefl to true\n",
      "Deallocating this inst_id.\n",
      "Atlas deallocated.\n",
      "Load successful >>>>> inst_id : 1, nchannels : 3.\n"
     ]
    },
    {
     "name": "stdout",
     "output_type": "stream",
     "text": [
      "SELECTED OUTPUT\n",
      "MSU visible channel reflectances, channels 2-4\n",
      "Profile 0:\n",
      "  Ch #02 refl=248.354718\n",
      "  Ch #03 refl=226.262567\n",
      "  Ch #04 refl=215.235491\n"
     ]
    },
    {
     "name": "stderr",
     "output_type": "stream",
     "text": [
      "MW emissivity atlas loaded successfully\n",
      "No surface emissivity/reflectance supplied: setting calcemis and calcrefl to true\n",
      "Deallocating this inst_id.\n",
      "Atlas deallocated.\n",
      "Load successful >>>>> inst_id : 1, nchannels : 3.\n"
     ]
    },
    {
     "name": "stdout",
     "output_type": "stream",
     "text": [
      "SELECTED OUTPUT\n",
      "MSU visible channel reflectances, channels 2-4\n",
      "Profile 0:\n",
      "  Ch #02 refl=246.934854\n",
      "  Ch #03 refl=225.191202\n",
      "  Ch #04 refl=213.700438\n"
     ]
    },
    {
     "name": "stderr",
     "output_type": "stream",
     "text": [
      "MW emissivity atlas loaded successfully\n",
      "No surface emissivity/reflectance supplied: setting calcemis and calcrefl to true\n",
      "Deallocating this inst_id.\n",
      "Atlas deallocated.\n",
      "Load successful >>>>> inst_id : 1, nchannels : 3.\n"
     ]
    },
    {
     "name": "stdout",
     "output_type": "stream",
     "text": [
      "SELECTED OUTPUT\n",
      "MSU visible channel reflectances, channels 2-4\n",
      "Profile 0:\n",
      "  Ch #02 refl=243.277706\n",
      "  Ch #03 refl=222.354899\n",
      "  Ch #04 refl=210.737583\n"
     ]
    },
    {
     "name": "stderr",
     "output_type": "stream",
     "text": [
      "MW emissivity atlas loaded successfully\n",
      "No surface emissivity/reflectance supplied: setting calcemis and calcrefl to true\n",
      "Deallocating this inst_id.\n",
      "Atlas deallocated.\n",
      "Load successful >>>>> inst_id : 1, nchannels : 3.\n"
     ]
    },
    {
     "name": "stdout",
     "output_type": "stream",
     "text": [
      "SELECTED OUTPUT\n",
      "MSU visible channel reflectances, channels 2-4\n",
      "Profile 0:\n",
      "  Ch #02 refl=242.151692\n",
      "  Ch #03 refl=222.871578\n",
      "  Ch #04 refl=212.320463\n"
     ]
    },
    {
     "name": "stderr",
     "output_type": "stream",
     "text": [
      "MW emissivity atlas loaded successfully\n",
      "No surface emissivity/reflectance supplied: setting calcemis and calcrefl to true\n",
      "Deallocating this inst_id.\n",
      "Atlas deallocated.\n",
      "Load successful >>>>> inst_id : 1, nchannels : 3.\n"
     ]
    },
    {
     "name": "stdout",
     "output_type": "stream",
     "text": [
      "SELECTED OUTPUT\n",
      "MSU visible channel reflectances, channels 2-4\n",
      "Profile 0:\n",
      "  Ch #02 refl=240.968095\n",
      "  Ch #03 refl=222.575241\n",
      "  Ch #04 refl=215.063001\n"
     ]
    },
    {
     "name": "stderr",
     "output_type": "stream",
     "text": [
      "MW emissivity atlas loaded successfully\n",
      "No surface emissivity/reflectance supplied: setting calcemis and calcrefl to true\n",
      "Deallocating this inst_id.\n",
      "Atlas deallocated.\n",
      "Load successful >>>>> inst_id : 1, nchannels : 3.\n"
     ]
    },
    {
     "name": "stdout",
     "output_type": "stream",
     "text": [
      "SELECTED OUTPUT\n",
      "MSU visible channel reflectances, channels 2-4\n",
      "Profile 0:\n",
      "  Ch #02 refl=243.992564\n",
      "  Ch #03 refl=222.309862\n",
      "  Ch #04 refl=211.438768\n"
     ]
    },
    {
     "name": "stderr",
     "output_type": "stream",
     "text": [
      "MW emissivity atlas loaded successfully\n",
      "No surface emissivity/reflectance supplied: setting calcemis and calcrefl to true\n",
      "Deallocating this inst_id.\n",
      "Atlas deallocated.\n",
      "Load successful >>>>> inst_id : 1, nchannels : 3.\n"
     ]
    },
    {
     "name": "stdout",
     "output_type": "stream",
     "text": [
      "SELECTED OUTPUT\n",
      "MSU visible channel reflectances, channels 2-4\n",
      "Profile 0:\n",
      "  Ch #02 refl=245.926835\n",
      "  Ch #03 refl=225.839989\n",
      "  Ch #04 refl=217.553196\n"
     ]
    },
    {
     "name": "stderr",
     "output_type": "stream",
     "text": [
      "MW emissivity atlas loaded successfully\n",
      "No surface emissivity/reflectance supplied: setting calcemis and calcrefl to true\n",
      "Deallocating this inst_id.\n",
      "Atlas deallocated.\n",
      "Load successful >>>>> inst_id : 1, nchannels : 3.\n"
     ]
    },
    {
     "name": "stdout",
     "output_type": "stream",
     "text": [
      "SELECTED OUTPUT\n",
      "MSU visible channel reflectances, channels 2-4\n",
      "Profile 0:\n",
      "  Ch #02 refl=251.415658\n",
      "  Ch #03 refl=227.534949\n",
      "  Ch #04 refl=217.228152\n"
     ]
    },
    {
     "name": "stderr",
     "output_type": "stream",
     "text": [
      "MW emissivity atlas loaded successfully\n",
      "No surface emissivity/reflectance supplied: setting calcemis and calcrefl to true\n",
      "Deallocating this inst_id.\n",
      "Atlas deallocated.\n",
      "Load successful >>>>> inst_id : 1, nchannels : 3.\n"
     ]
    },
    {
     "name": "stdout",
     "output_type": "stream",
     "text": [
      "SELECTED OUTPUT\n",
      "MSU visible channel reflectances, channels 2-4\n",
      "Profile 0:\n",
      "  Ch #02 refl=254.759463\n",
      "  Ch #03 refl=229.349123\n",
      "  Ch #04 refl=216.595469\n"
     ]
    },
    {
     "name": "stderr",
     "output_type": "stream",
     "text": [
      "MW emissivity atlas loaded successfully\n",
      "No surface emissivity/reflectance supplied: setting calcemis and calcrefl to true\n",
      "Deallocating this inst_id.\n",
      "Atlas deallocated.\n",
      "Load successful >>>>> inst_id : 1, nchannels : 3.\n"
     ]
    },
    {
     "name": "stdout",
     "output_type": "stream",
     "text": [
      "SELECTED OUTPUT\n",
      "MSU visible channel reflectances, channels 2-4\n",
      "Profile 0:\n",
      "  Ch #02 refl=254.725840\n",
      "  Ch #03 refl=231.040031\n",
      "  Ch #04 refl=219.501293\n"
     ]
    },
    {
     "name": "stderr",
     "output_type": "stream",
     "text": [
      "MW emissivity atlas loaded successfully\n",
      "No surface emissivity/reflectance supplied: setting calcemis and calcrefl to true\n",
      "Deallocating this inst_id.\n",
      "Atlas deallocated.\n",
      "Load successful >>>>> inst_id : 1, nchannels : 3.\n"
     ]
    },
    {
     "name": "stdout",
     "output_type": "stream",
     "text": [
      "SELECTED OUTPUT\n",
      "MSU visible channel reflectances, channels 2-4\n",
      "Profile 0:\n",
      "  Ch #02 refl=255.488358\n",
      "  Ch #03 refl=230.398709\n",
      "  Ch #04 refl=218.574968\n"
     ]
    },
    {
     "name": "stderr",
     "output_type": "stream",
     "text": [
      "MW emissivity atlas loaded successfully\n",
      "No surface emissivity/reflectance supplied: setting calcemis and calcrefl to true\n",
      "Deallocating this inst_id.\n",
      "Atlas deallocated.\n",
      "Load successful >>>>> inst_id : 1, nchannels : 3.\n"
     ]
    },
    {
     "name": "stdout",
     "output_type": "stream",
     "text": [
      "SELECTED OUTPUT\n",
      "MSU visible channel reflectances, channels 2-4\n",
      "Profile 0:\n",
      "  Ch #02 refl=251.857698\n",
      "  Ch #03 refl=228.435558\n",
      "  Ch #04 refl=216.235384\n"
     ]
    },
    {
     "name": "stderr",
     "output_type": "stream",
     "text": [
      "MW emissivity atlas loaded successfully\n",
      "No surface emissivity/reflectance supplied: setting calcemis and calcrefl to true\n",
      "Deallocating this inst_id.\n",
      "Atlas deallocated.\n",
      "Load successful >>>>> inst_id : 1, nchannels : 3.\n"
     ]
    },
    {
     "name": "stdout",
     "output_type": "stream",
     "text": [
      "SELECTED OUTPUT\n",
      "MSU visible channel reflectances, channels 2-4\n",
      "Profile 0:\n",
      "  Ch #02 refl=247.629869\n",
      "  Ch #03 refl=226.702377\n",
      "  Ch #04 refl=214.854584\n"
     ]
    },
    {
     "name": "stderr",
     "output_type": "stream",
     "text": [
      "MW emissivity atlas loaded successfully\n",
      "No surface emissivity/reflectance supplied: setting calcemis and calcrefl to true\n",
      "Deallocating this inst_id.\n",
      "Atlas deallocated.\n",
      "Load successful >>>>> inst_id : 1, nchannels : 3.\n"
     ]
    },
    {
     "name": "stdout",
     "output_type": "stream",
     "text": [
      "SELECTED OUTPUT\n",
      "MSU visible channel reflectances, channels 2-4\n",
      "Profile 0:\n",
      "  Ch #02 refl=247.279041\n",
      "  Ch #03 refl=224.840418\n",
      "  Ch #04 refl=212.277102\n"
     ]
    },
    {
     "name": "stderr",
     "output_type": "stream",
     "text": [
      "MW emissivity atlas loaded successfully\n",
      "No surface emissivity/reflectance supplied: setting calcemis and calcrefl to true\n",
      "Deallocating this inst_id.\n",
      "Atlas deallocated.\n",
      "Load successful >>>>> inst_id : 1, nchannels : 3.\n"
     ]
    },
    {
     "name": "stdout",
     "output_type": "stream",
     "text": [
      "SELECTED OUTPUT\n",
      "MSU visible channel reflectances, channels 2-4\n",
      "Profile 0:\n",
      "  Ch #02 refl=244.342496\n",
      "  Ch #03 refl=222.420922\n",
      "  Ch #04 refl=208.998588\n"
     ]
    },
    {
     "name": "stderr",
     "output_type": "stream",
     "text": [
      "MW emissivity atlas loaded successfully\n",
      "No surface emissivity/reflectance supplied: setting calcemis and calcrefl to true\n",
      "Deallocating this inst_id.\n",
      "Atlas deallocated.\n",
      "Load successful >>>>> inst_id : 1, nchannels : 3.\n",
      "MW emissivity atlas loaded successfully\n",
      "No surface emissivity/reflectance supplied: setting calcemis and calcrefl to true\n"
     ]
    },
    {
     "name": "stdout",
     "output_type": "stream",
     "text": [
      "SELECTED OUTPUT\n",
      "MSU visible channel reflectances, channels 2-4\n",
      "Profile 0:\n",
      "  Ch #02 refl=240.435763\n",
      "  Ch #03 refl=220.812943\n",
      "  Ch #04 refl=209.498856\n",
      "SELECTED OUTPUT\n",
      "MSU visible channel reflectances, channels 2-4\n",
      "Profile 0:\n",
      "  Ch #02 refl=242.969286\n",
      "  Ch #03 refl=222.525856\n",
      "  Ch #04 refl=211.476057\n"
     ]
    },
    {
     "name": "stderr",
     "output_type": "stream",
     "text": [
      "Deallocating this inst_id.\n",
      "Atlas deallocated.\n",
      "Load successful >>>>> inst_id : 1, nchannels : 3.\n",
      "MW emissivity atlas loaded successfully\n",
      "No surface emissivity/reflectance supplied: setting calcemis and calcrefl to true\n",
      "Deallocating this inst_id.\n",
      "Atlas deallocated.\n",
      "Load successful >>>>> inst_id : 1, nchannels : 3.\n"
     ]
    },
    {
     "name": "stdout",
     "output_type": "stream",
     "text": [
      "SELECTED OUTPUT\n",
      "MSU visible channel reflectances, channels 2-4\n",
      "Profile 0:\n",
      "  Ch #02 refl=244.284826\n",
      "  Ch #03 refl=224.718041\n",
      "  Ch #04 refl=216.529039\n"
     ]
    },
    {
     "name": "stderr",
     "output_type": "stream",
     "text": [
      "MW emissivity atlas loaded successfully\n",
      "No surface emissivity/reflectance supplied: setting calcemis and calcrefl to true\n",
      "Deallocating this inst_id.\n",
      "Atlas deallocated.\n",
      "Load successful >>>>> inst_id : 1, nchannels : 3.\n"
     ]
    },
    {
     "name": "stdout",
     "output_type": "stream",
     "text": [
      "SELECTED OUTPUT\n",
      "MSU visible channel reflectances, channels 2-4\n",
      "Profile 0:\n",
      "  Ch #02 refl=247.108675\n",
      "  Ch #03 refl=226.240153\n",
      "  Ch #04 refl=217.357018\n"
     ]
    },
    {
     "name": "stderr",
     "output_type": "stream",
     "text": [
      "MW emissivity atlas loaded successfully\n",
      "No surface emissivity/reflectance supplied: setting calcemis and calcrefl to true\n",
      "Deallocating this inst_id.\n",
      "Atlas deallocated.\n",
      "Load successful >>>>> inst_id : 1, nchannels : 3.\n"
     ]
    },
    {
     "name": "stdout",
     "output_type": "stream",
     "text": [
      "SELECTED OUTPUT\n",
      "MSU visible channel reflectances, channels 2-4\n",
      "Profile 0:\n",
      "  Ch #02 refl=248.793608\n",
      "  Ch #03 refl=227.943334\n",
      "  Ch #04 refl=219.822558\n"
     ]
    },
    {
     "name": "stderr",
     "output_type": "stream",
     "text": [
      "MW emissivity atlas loaded successfully\n",
      "No surface emissivity/reflectance supplied: setting calcemis and calcrefl to true\n",
      "Deallocating this inst_id.\n",
      "Atlas deallocated.\n",
      "Load successful >>>>> inst_id : 1, nchannels : 3.\n"
     ]
    },
    {
     "name": "stdout",
     "output_type": "stream",
     "text": [
      "SELECTED OUTPUT\n",
      "MSU visible channel reflectances, channels 2-4\n",
      "Profile 0:\n",
      "  Ch #02 refl=252.406618\n",
      "  Ch #03 refl=229.968050\n",
      "  Ch #04 refl=220.056488\n"
     ]
    },
    {
     "name": "stderr",
     "output_type": "stream",
     "text": [
      "MW emissivity atlas loaded successfully\n",
      "No surface emissivity/reflectance supplied: setting calcemis and calcrefl to true\n",
      "Deallocating this inst_id.\n",
      "Atlas deallocated.\n",
      "Load successful >>>>> inst_id : 1, nchannels : 3.\n"
     ]
    },
    {
     "name": "stdout",
     "output_type": "stream",
     "text": [
      "SELECTED OUTPUT\n",
      "MSU visible channel reflectances, channels 2-4\n",
      "Profile 0:\n",
      "  Ch #02 refl=254.478492\n",
      "  Ch #03 refl=231.505950\n",
      "  Ch #04 refl=220.101260\n"
     ]
    },
    {
     "name": "stderr",
     "output_type": "stream",
     "text": [
      "MW emissivity atlas loaded successfully\n",
      "No surface emissivity/reflectance supplied: setting calcemis and calcrefl to true\n",
      "Deallocating this inst_id.\n",
      "Atlas deallocated.\n",
      "Load successful >>>>> inst_id : 1, nchannels : 3.\n"
     ]
    },
    {
     "name": "stdout",
     "output_type": "stream",
     "text": [
      "SELECTED OUTPUT\n",
      "MSU visible channel reflectances, channels 2-4\n",
      "Profile 0:\n",
      "  Ch #02 refl=254.757991\n",
      "  Ch #03 refl=230.947534\n",
      "  Ch #04 refl=219.545504\n"
     ]
    },
    {
     "name": "stderr",
     "output_type": "stream",
     "text": [
      "MW emissivity atlas loaded successfully\n",
      "No surface emissivity/reflectance supplied: setting calcemis and calcrefl to true\n",
      "Deallocating this inst_id.\n",
      "Atlas deallocated.\n",
      "Load successful >>>>> inst_id : 1, nchannels : 3.\n"
     ]
    },
    {
     "name": "stdout",
     "output_type": "stream",
     "text": [
      "SELECTED OUTPUT\n",
      "MSU visible channel reflectances, channels 2-4\n",
      "Profile 0:\n",
      "  Ch #02 refl=252.380411\n",
      "  Ch #03 refl=228.903344\n",
      "  Ch #04 refl=217.002601\n"
     ]
    },
    {
     "name": "stderr",
     "output_type": "stream",
     "text": [
      "MW emissivity atlas loaded successfully\n",
      "No surface emissivity/reflectance supplied: setting calcemis and calcrefl to true\n",
      "Deallocating this inst_id.\n",
      "Atlas deallocated.\n",
      "Load successful >>>>> inst_id : 1, nchannels : 3.\n"
     ]
    },
    {
     "name": "stdout",
     "output_type": "stream",
     "text": [
      "SELECTED OUTPUT\n",
      "MSU visible channel reflectances, channels 2-4\n",
      "Profile 0:\n",
      "  Ch #02 refl=250.243694\n",
      "  Ch #03 refl=226.670626\n",
      "  Ch #04 refl=214.087763\n"
     ]
    },
    {
     "name": "stderr",
     "output_type": "stream",
     "text": [
      "MW emissivity atlas loaded successfully\n",
      "No surface emissivity/reflectance supplied: setting calcemis and calcrefl to true\n",
      "Deallocating this inst_id.\n",
      "Atlas deallocated.\n",
      "Load successful >>>>> inst_id : 1, nchannels : 3.\n"
     ]
    },
    {
     "name": "stdout",
     "output_type": "stream",
     "text": [
      "SELECTED OUTPUT\n",
      "MSU visible channel reflectances, channels 2-4\n",
      "Profile 0:\n",
      "  Ch #02 refl=245.236712\n",
      "  Ch #03 refl=223.369901\n",
      "  Ch #04 refl=210.451070\n"
     ]
    },
    {
     "name": "stderr",
     "output_type": "stream",
     "text": [
      "MW emissivity atlas loaded successfully\n",
      "No surface emissivity/reflectance supplied: setting calcemis and calcrefl to true\n",
      "Deallocating this inst_id.\n",
      "Atlas deallocated.\n",
      "Load successful >>>>> inst_id : 1, nchannels : 3.\n"
     ]
    },
    {
     "name": "stdout",
     "output_type": "stream",
     "text": [
      "SELECTED OUTPUT\n",
      "MSU visible channel reflectances, channels 2-4\n",
      "Profile 0:\n",
      "  Ch #02 refl=244.430076\n",
      "  Ch #03 refl=223.197411\n",
      "  Ch #04 refl=211.760098\n"
     ]
    },
    {
     "name": "stderr",
     "output_type": "stream",
     "text": [
      "MW emissivity atlas loaded successfully\n",
      "No surface emissivity/reflectance supplied: setting calcemis and calcrefl to true\n",
      "Deallocating this inst_id.\n",
      "Atlas deallocated.\n",
      "Load successful >>>>> inst_id : 1, nchannels : 3.\n"
     ]
    },
    {
     "name": "stdout",
     "output_type": "stream",
     "text": [
      "SELECTED OUTPUT\n",
      "MSU visible channel reflectances, channels 2-4\n",
      "Profile 0:\n",
      "  Ch #02 refl=242.457849\n",
      "  Ch #03 refl=222.047223\n",
      "  Ch #04 refl=209.924766\n"
     ]
    },
    {
     "name": "stderr",
     "output_type": "stream",
     "text": [
      "MW emissivity atlas loaded successfully\n",
      "No surface emissivity/reflectance supplied: setting calcemis and calcrefl to true\n",
      "Deallocating this inst_id.\n",
      "Atlas deallocated.\n",
      "Load successful >>>>> inst_id : 1, nchannels : 3.\n"
     ]
    },
    {
     "name": "stdout",
     "output_type": "stream",
     "text": [
      "SELECTED OUTPUT\n",
      "MSU visible channel reflectances, channels 2-4\n",
      "Profile 0:\n",
      "  Ch #02 refl=239.985706\n",
      "  Ch #03 refl=222.115998\n",
      "  Ch #04 refl=213.576290\n"
     ]
    },
    {
     "name": "stderr",
     "output_type": "stream",
     "text": [
      "MW emissivity atlas loaded successfully\n",
      "No surface emissivity/reflectance supplied: setting calcemis and calcrefl to true\n",
      "Deallocating this inst_id.\n",
      "Atlas deallocated.\n",
      "Load successful >>>>> inst_id : 1, nchannels : 3.\n"
     ]
    },
    {
     "name": "stdout",
     "output_type": "stream",
     "text": [
      "SELECTED OUTPUT\n",
      "MSU visible channel reflectances, channels 2-4\n",
      "Profile 0:\n",
      "  Ch #02 refl=242.619074\n",
      "  Ch #03 refl=221.733703\n",
      "  Ch #04 refl=212.464529\n"
     ]
    },
    {
     "name": "stderr",
     "output_type": "stream",
     "text": [
      "MW emissivity atlas loaded successfully\n",
      "No surface emissivity/reflectance supplied: setting calcemis and calcrefl to true\n",
      "Deallocating this inst_id.\n",
      "Atlas deallocated.\n",
      "Load successful >>>>> inst_id : 1, nchannels : 3.\n"
     ]
    },
    {
     "name": "stdout",
     "output_type": "stream",
     "text": [
      "SELECTED OUTPUT\n",
      "MSU visible channel reflectances, channels 2-4\n",
      "Profile 0:\n",
      "  Ch #02 refl=247.297260\n",
      "  Ch #03 refl=226.211843\n",
      "  Ch #04 refl=218.003839\n"
     ]
    },
    {
     "name": "stderr",
     "output_type": "stream",
     "text": [
      "MW emissivity atlas loaded successfully\n",
      "No surface emissivity/reflectance supplied: setting calcemis and calcrefl to true\n",
      "Deallocating this inst_id.\n",
      "Atlas deallocated.\n",
      "Load successful >>>>> inst_id : 1, nchannels : 3.\n"
     ]
    },
    {
     "name": "stdout",
     "output_type": "stream",
     "text": [
      "SELECTED OUTPUT\n",
      "MSU visible channel reflectances, channels 2-4\n",
      "Profile 0:\n",
      "  Ch #02 refl=250.126894\n",
      "  Ch #03 refl=227.558808\n",
      "  Ch #04 refl=218.001488\n"
     ]
    },
    {
     "name": "stderr",
     "output_type": "stream",
     "text": [
      "MW emissivity atlas loaded successfully\n",
      "No surface emissivity/reflectance supplied: setting calcemis and calcrefl to true\n",
      "Deallocating this inst_id.\n",
      "Atlas deallocated.\n",
      "Load successful >>>>> inst_id : 1, nchannels : 3.\n"
     ]
    },
    {
     "name": "stdout",
     "output_type": "stream",
     "text": [
      "SELECTED OUTPUT\n",
      "MSU visible channel reflectances, channels 2-4\n",
      "Profile 0:\n",
      "  Ch #02 refl=252.675291\n",
      "  Ch #03 refl=229.288061\n",
      "  Ch #04 refl=219.464323\n"
     ]
    },
    {
     "name": "stderr",
     "output_type": "stream",
     "text": [
      "MW emissivity atlas loaded successfully\n",
      "No surface emissivity/reflectance supplied: setting calcemis and calcrefl to true\n",
      "Deallocating this inst_id.\n",
      "Atlas deallocated.\n",
      "Load successful >>>>> inst_id : 1, nchannels : 3.\n"
     ]
    },
    {
     "name": "stdout",
     "output_type": "stream",
     "text": [
      "SELECTED OUTPUT\n",
      "MSU visible channel reflectances, channels 2-4\n",
      "Profile 0:\n",
      "  Ch #02 refl=254.562901\n",
      "  Ch #03 refl=231.194758\n",
      "  Ch #04 refl=220.025333\n"
     ]
    },
    {
     "name": "stderr",
     "output_type": "stream",
     "text": [
      "MW emissivity atlas loaded successfully\n",
      "No surface emissivity/reflectance supplied: setting calcemis and calcrefl to true\n",
      "Deallocating this inst_id.\n",
      "Atlas deallocated.\n",
      "Load successful >>>>> inst_id : 1, nchannels : 3.\n"
     ]
    },
    {
     "name": "stdout",
     "output_type": "stream",
     "text": [
      "SELECTED OUTPUT\n",
      "MSU visible channel reflectances, channels 2-4\n",
      "Profile 0:\n",
      "  Ch #02 refl=253.811131\n",
      "  Ch #03 refl=230.803569\n",
      "  Ch #04 refl=219.840101\n"
     ]
    },
    {
     "name": "stderr",
     "output_type": "stream",
     "text": [
      "MW emissivity atlas loaded successfully\n",
      "No surface emissivity/reflectance supplied: setting calcemis and calcrefl to true\n",
      "Deallocating this inst_id.\n",
      "Atlas deallocated.\n",
      "Load successful >>>>> inst_id : 1, nchannels : 3.\n"
     ]
    },
    {
     "name": "stdout",
     "output_type": "stream",
     "text": [
      "SELECTED OUTPUT\n",
      "MSU visible channel reflectances, channels 2-4\n",
      "Profile 0:\n",
      "  Ch #02 refl=252.627650\n",
      "  Ch #03 refl=228.971659\n",
      "  Ch #04 refl=217.003968\n"
     ]
    },
    {
     "name": "stderr",
     "output_type": "stream",
     "text": [
      "MW emissivity atlas loaded successfully\n",
      "No surface emissivity/reflectance supplied: setting calcemis and calcrefl to true\n",
      "Deallocating this inst_id.\n",
      "Atlas deallocated.\n",
      "Load successful >>>>> inst_id : 1, nchannels : 3.\n"
     ]
    },
    {
     "name": "stdout",
     "output_type": "stream",
     "text": [
      "SELECTED OUTPUT\n",
      "MSU visible channel reflectances, channels 2-4\n",
      "Profile 0:\n",
      "  Ch #02 refl=250.337572\n",
      "  Ch #03 refl=226.070351\n",
      "  Ch #04 refl=211.676427\n"
     ]
    },
    {
     "name": "stderr",
     "output_type": "stream",
     "text": [
      "MW emissivity atlas loaded successfully\n",
      "No surface emissivity/reflectance supplied: setting calcemis and calcrefl to true\n",
      "Deallocating this inst_id.\n",
      "Atlas deallocated.\n",
      "Load successful >>>>> inst_id : 1, nchannels : 3.\n"
     ]
    },
    {
     "name": "stdout",
     "output_type": "stream",
     "text": [
      "SELECTED OUTPUT\n",
      "MSU visible channel reflectances, channels 2-4\n",
      "Profile 0:\n",
      "  Ch #02 refl=244.652280\n",
      "  Ch #03 refl=224.078407\n",
      "  Ch #04 refl=212.634009\n"
     ]
    },
    {
     "name": "stderr",
     "output_type": "stream",
     "text": [
      "MW emissivity atlas loaded successfully\n",
      "No surface emissivity/reflectance supplied: setting calcemis and calcrefl to true\n",
      "Deallocating this inst_id.\n",
      "Atlas deallocated.\n",
      "Load successful >>>>> inst_id : 1, nchannels : 3.\n"
     ]
    },
    {
     "name": "stdout",
     "output_type": "stream",
     "text": [
      "SELECTED OUTPUT\n",
      "MSU visible channel reflectances, channels 2-4\n",
      "Profile 0:\n",
      "  Ch #02 refl=242.203962\n",
      "  Ch #03 refl=222.851894\n",
      "  Ch #04 refl=212.653393\n"
     ]
    },
    {
     "name": "stderr",
     "output_type": "stream",
     "text": [
      "MW emissivity atlas loaded successfully\n",
      "No surface emissivity/reflectance supplied: setting calcemis and calcrefl to true\n",
      "Deallocating this inst_id.\n",
      "Atlas deallocated.\n",
      "Load successful >>>>> inst_id : 1, nchannels : 3.\n"
     ]
    },
    {
     "name": "stdout",
     "output_type": "stream",
     "text": [
      "SELECTED OUTPUT\n",
      "MSU visible channel reflectances, channels 2-4\n",
      "Profile 0:\n",
      "  Ch #02 refl=241.401088\n",
      "  Ch #03 refl=220.555547\n",
      "  Ch #04 refl=206.747437\n"
     ]
    },
    {
     "name": "stderr",
     "output_type": "stream",
     "text": [
      "MW emissivity atlas loaded successfully\n",
      "No surface emissivity/reflectance supplied: setting calcemis and calcrefl to true\n",
      "Deallocating this inst_id.\n",
      "Atlas deallocated.\n",
      "Load successful >>>>> inst_id : 1, nchannels : 3.\n"
     ]
    },
    {
     "name": "stdout",
     "output_type": "stream",
     "text": [
      "SELECTED OUTPUT\n",
      "MSU visible channel reflectances, channels 2-4\n",
      "Profile 0:\n",
      "  Ch #02 refl=241.567547\n",
      "  Ch #03 refl=223.322694\n",
      "  Ch #04 refl=214.340346\n"
     ]
    },
    {
     "name": "stderr",
     "output_type": "stream",
     "text": [
      "MW emissivity atlas loaded successfully\n",
      "No surface emissivity/reflectance supplied: setting calcemis and calcrefl to true\n",
      "Deallocating this inst_id.\n",
      "Atlas deallocated.\n",
      "Load successful >>>>> inst_id : 1, nchannels : 3.\n"
     ]
    },
    {
     "name": "stdout",
     "output_type": "stream",
     "text": [
      "SELECTED OUTPUT\n",
      "MSU visible channel reflectances, channels 2-4\n",
      "Profile 0:\n",
      "  Ch #02 refl=243.065368\n",
      "  Ch #03 refl=223.723752\n",
      "  Ch #04 refl=215.093929\n"
     ]
    },
    {
     "name": "stderr",
     "output_type": "stream",
     "text": [
      "MW emissivity atlas loaded successfully\n",
      "No surface emissivity/reflectance supplied: setting calcemis and calcrefl to true\n",
      "Deallocating this inst_id.\n",
      "Atlas deallocated.\n",
      "Load successful >>>>> inst_id : 1, nchannels : 3.\n"
     ]
    },
    {
     "name": "stdout",
     "output_type": "stream",
     "text": [
      "SELECTED OUTPUT\n",
      "MSU visible channel reflectances, channels 2-4\n",
      "Profile 0:\n",
      "  Ch #02 refl=247.157536\n",
      "  Ch #03 refl=226.265722\n",
      "  Ch #04 refl=218.326629\n"
     ]
    },
    {
     "name": "stderr",
     "output_type": "stream",
     "text": [
      "MW emissivity atlas loaded successfully\n",
      "No surface emissivity/reflectance supplied: setting calcemis and calcrefl to true\n",
      "Deallocating this inst_id.\n",
      "Atlas deallocated.\n",
      "Load successful >>>>> inst_id : 1, nchannels : 3.\n"
     ]
    },
    {
     "name": "stdout",
     "output_type": "stream",
     "text": [
      "SELECTED OUTPUT\n",
      "MSU visible channel reflectances, channels 2-4\n",
      "Profile 0:\n",
      "  Ch #02 refl=249.617824\n",
      "  Ch #03 refl=227.480600\n",
      "  Ch #04 refl=217.692935\n"
     ]
    },
    {
     "name": "stderr",
     "output_type": "stream",
     "text": [
      "MW emissivity atlas loaded successfully\n",
      "No surface emissivity/reflectance supplied: setting calcemis and calcrefl to true\n",
      "Deallocating this inst_id.\n",
      "Atlas deallocated.\n",
      "Load successful >>>>> inst_id : 1, nchannels : 3.\n"
     ]
    },
    {
     "name": "stdout",
     "output_type": "stream",
     "text": [
      "SELECTED OUTPUT\n",
      "MSU visible channel reflectances, channels 2-4\n",
      "Profile 0:\n",
      "  Ch #02 refl=252.964892\n",
      "  Ch #03 refl=230.103996\n",
      "  Ch #04 refl=219.960360\n"
     ]
    },
    {
     "name": "stderr",
     "output_type": "stream",
     "text": [
      "MW emissivity atlas loaded successfully\n",
      "No surface emissivity/reflectance supplied: setting calcemis and calcrefl to true\n",
      "Deallocating this inst_id.\n",
      "Atlas deallocated.\n",
      "Load successful >>>>> inst_id : 1, nchannels : 3.\n"
     ]
    },
    {
     "name": "stdout",
     "output_type": "stream",
     "text": [
      "SELECTED OUTPUT\n",
      "MSU visible channel reflectances, channels 2-4\n",
      "Profile 0:\n",
      "  Ch #02 refl=255.974937\n",
      "  Ch #03 refl=231.274525\n",
      "  Ch #04 refl=219.111569\n"
     ]
    },
    {
     "name": "stderr",
     "output_type": "stream",
     "text": [
      "MW emissivity atlas loaded successfully\n",
      "No surface emissivity/reflectance supplied: setting calcemis and calcrefl to true\n",
      "Deallocating this inst_id.\n",
      "Atlas deallocated.\n",
      "Load successful >>>>> inst_id : 1, nchannels : 3.\n"
     ]
    },
    {
     "name": "stdout",
     "output_type": "stream",
     "text": [
      "SELECTED OUTPUT\n",
      "MSU visible channel reflectances, channels 2-4\n",
      "Profile 0:\n",
      "  Ch #02 refl=253.325006\n",
      "  Ch #03 refl=231.784361\n",
      "  Ch #04 refl=221.855557\n"
     ]
    },
    {
     "name": "stderr",
     "output_type": "stream",
     "text": [
      "MW emissivity atlas loaded successfully\n",
      "No surface emissivity/reflectance supplied: setting calcemis and calcrefl to true\n",
      "Deallocating this inst_id.\n",
      "Atlas deallocated.\n",
      "Load successful >>>>> inst_id : 1, nchannels : 3.\n"
     ]
    },
    {
     "name": "stdout",
     "output_type": "stream",
     "text": [
      "SELECTED OUTPUT\n",
      "MSU visible channel reflectances, channels 2-4\n",
      "Profile 0:\n",
      "  Ch #02 refl=253.516118\n",
      "  Ch #03 refl=229.188219\n",
      "  Ch #04 refl=216.310692\n"
     ]
    },
    {
     "name": "stderr",
     "output_type": "stream",
     "text": [
      "MW emissivity atlas loaded successfully\n",
      "No surface emissivity/reflectance supplied: setting calcemis and calcrefl to true\n",
      "Deallocating this inst_id.\n",
      "Atlas deallocated.\n",
      "Load successful >>>>> inst_id : 1, nchannels : 3.\n"
     ]
    },
    {
     "name": "stdout",
     "output_type": "stream",
     "text": [
      "SELECTED OUTPUT\n",
      "MSU visible channel reflectances, channels 2-4\n",
      "Profile 0:\n",
      "  Ch #02 refl=250.814809\n",
      "  Ch #03 refl=226.331687\n",
      "  Ch #04 refl=211.887104\n"
     ]
    },
    {
     "name": "stderr",
     "output_type": "stream",
     "text": [
      "MW emissivity atlas loaded successfully\n",
      "No surface emissivity/reflectance supplied: setting calcemis and calcrefl to true\n",
      "Deallocating this inst_id.\n",
      "Atlas deallocated.\n",
      "Load successful >>>>> inst_id : 1, nchannels : 3.\n"
     ]
    },
    {
     "name": "stdout",
     "output_type": "stream",
     "text": [
      "SELECTED OUTPUT\n",
      "MSU visible channel reflectances, channels 2-4\n",
      "Profile 0:\n",
      "  Ch #02 refl=247.166542\n",
      "  Ch #03 refl=224.155113\n",
      "  Ch #04 refl=211.202035\n"
     ]
    },
    {
     "name": "stderr",
     "output_type": "stream",
     "text": [
      "MW emissivity atlas loaded successfully\n",
      "No surface emissivity/reflectance supplied: setting calcemis and calcrefl to true\n",
      "Deallocating this inst_id.\n",
      "Atlas deallocated.\n",
      "Load successful >>>>> inst_id : 1, nchannels : 3.\n"
     ]
    },
    {
     "name": "stdout",
     "output_type": "stream",
     "text": [
      "SELECTED OUTPUT\n",
      "MSU visible channel reflectances, channels 2-4\n",
      "Profile 0:\n",
      "  Ch #02 refl=245.350866\n",
      "  Ch #03 refl=222.902340\n",
      "  Ch #04 refl=208.773097\n"
     ]
    },
    {
     "name": "stderr",
     "output_type": "stream",
     "text": [
      "MW emissivity atlas loaded successfully\n",
      "No surface emissivity/reflectance supplied: setting calcemis and calcrefl to true\n",
      "Deallocating this inst_id.\n",
      "Atlas deallocated.\n",
      "Load successful >>>>> inst_id : 1, nchannels : 3.\n"
     ]
    },
    {
     "name": "stdout",
     "output_type": "stream",
     "text": [
      "SELECTED OUTPUT\n",
      "MSU visible channel reflectances, channels 2-4\n",
      "Profile 0:\n",
      "  Ch #02 refl=244.723086\n",
      "  Ch #03 refl=223.243255\n",
      "  Ch #04 refl=211.325764\n"
     ]
    },
    {
     "name": "stderr",
     "output_type": "stream",
     "text": [
      "MW emissivity atlas loaded successfully\n",
      "No surface emissivity/reflectance supplied: setting calcemis and calcrefl to true\n",
      "Deallocating this inst_id.\n",
      "Atlas deallocated.\n",
      "Load successful >>>>> inst_id : 1, nchannels : 3.\n"
     ]
    },
    {
     "name": "stdout",
     "output_type": "stream",
     "text": [
      "SELECTED OUTPUT\n",
      "MSU visible channel reflectances, channels 2-4\n",
      "Profile 0:\n",
      "  Ch #02 refl=244.404411\n",
      "  Ch #03 refl=223.552533\n",
      "  Ch #04 refl=214.074634\n"
     ]
    },
    {
     "name": "stderr",
     "output_type": "stream",
     "text": [
      "MW emissivity atlas loaded successfully\n",
      "No surface emissivity/reflectance supplied: setting calcemis and calcrefl to true\n",
      "Deallocating this inst_id.\n",
      "Atlas deallocated.\n",
      "Load successful >>>>> inst_id : 1, nchannels : 3.\n"
     ]
    },
    {
     "name": "stdout",
     "output_type": "stream",
     "text": [
      "SELECTED OUTPUT\n",
      "MSU visible channel reflectances, channels 2-4\n",
      "Profile 0:\n",
      "  Ch #02 refl=245.306982\n",
      "  Ch #03 refl=224.507463\n",
      "  Ch #04 refl=216.742995\n"
     ]
    },
    {
     "name": "stderr",
     "output_type": "stream",
     "text": [
      "MW emissivity atlas loaded successfully\n",
      "No surface emissivity/reflectance supplied: setting calcemis and calcrefl to true\n",
      "Deallocating this inst_id.\n",
      "Atlas deallocated.\n",
      "Load successful >>>>> inst_id : 1, nchannels : 3.\n",
      "MW emissivity atlas loaded successfully\n",
      "No surface emissivity/reflectance supplied: setting calcemis and calcrefl to true\n"
     ]
    },
    {
     "name": "stdout",
     "output_type": "stream",
     "text": [
      "SELECTED OUTPUT\n",
      "MSU visible channel reflectances, channels 2-4\n",
      "Profile 0:\n",
      "  Ch #02 refl=247.822935\n",
      "  Ch #03 refl=224.745822\n",
      "  Ch #04 refl=215.246292\n",
      "SELECTED OUTPUT\n",
      "MSU visible channel reflectances, channels 2-4\n",
      "Profile 0:\n",
      "  Ch #02 refl=251.147560\n",
      "  Ch #03 refl=227.942339\n",
      "  Ch #04 refl=217.255875\n"
     ]
    },
    {
     "name": "stderr",
     "output_type": "stream",
     "text": [
      "Deallocating this inst_id.\n",
      "Atlas deallocated.\n",
      "Load successful >>>>> inst_id : 1, nchannels : 3.\n",
      "MW emissivity atlas loaded successfully\n",
      "No surface emissivity/reflectance supplied: setting calcemis and calcrefl to true\n",
      "Deallocating this inst_id.\n",
      "Atlas deallocated.\n",
      "Load successful >>>>> inst_id : 1, nchannels : 3.\n"
     ]
    },
    {
     "name": "stdout",
     "output_type": "stream",
     "text": [
      "SELECTED OUTPUT\n",
      "MSU visible channel reflectances, channels 2-4\n",
      "Profile 0:\n",
      "  Ch #02 refl=253.669980\n",
      "  Ch #03 refl=229.750687\n",
      "  Ch #04 refl=219.028377\n"
     ]
    },
    {
     "name": "stderr",
     "output_type": "stream",
     "text": [
      "MW emissivity atlas loaded successfully\n",
      "No surface emissivity/reflectance supplied: setting calcemis and calcrefl to true\n",
      "Deallocating this inst_id.\n",
      "Atlas deallocated.\n",
      "Load successful >>>>> inst_id : 1, nchannels : 3.\n"
     ]
    },
    {
     "name": "stdout",
     "output_type": "stream",
     "text": [
      "SELECTED OUTPUT\n",
      "MSU visible channel reflectances, channels 2-4\n",
      "Profile 0:\n",
      "  Ch #02 refl=255.287195\n",
      "  Ch #03 refl=231.489442\n",
      "  Ch #04 refl=218.830325\n"
     ]
    },
    {
     "name": "stderr",
     "output_type": "stream",
     "text": [
      "MW emissivity atlas loaded successfully\n",
      "No surface emissivity/reflectance supplied: setting calcemis and calcrefl to true\n",
      "Deallocating this inst_id.\n",
      "Atlas deallocated.\n",
      "Load successful >>>>> inst_id : 1, nchannels : 3.\n"
     ]
    },
    {
     "name": "stdout",
     "output_type": "stream",
     "text": [
      "SELECTED OUTPUT\n",
      "MSU visible channel reflectances, channels 2-4\n",
      "Profile 0:\n",
      "  Ch #02 refl=255.029658\n",
      "  Ch #03 refl=231.027534\n",
      "  Ch #04 refl=217.949292\n"
     ]
    },
    {
     "name": "stderr",
     "output_type": "stream",
     "text": [
      "MW emissivity atlas loaded successfully\n",
      "No surface emissivity/reflectance supplied: setting calcemis and calcrefl to true\n",
      "Deallocating this inst_id.\n",
      "Atlas deallocated.\n",
      "Load successful >>>>> inst_id : 1, nchannels : 3.\n",
      "MW emissivity atlas loaded successfully\n",
      "No surface emissivity/reflectance supplied: setting calcemis and calcrefl to true\n"
     ]
    },
    {
     "name": "stdout",
     "output_type": "stream",
     "text": [
      "SELECTED OUTPUT\n",
      "MSU visible channel reflectances, channels 2-4\n",
      "Profile 0:\n",
      "  Ch #02 refl=251.200450\n",
      "  Ch #03 refl=229.217825\n",
      "  Ch #04 refl=218.884113\n",
      "SELECTED OUTPUT\n",
      "MSU visible channel reflectances, channels 2-4\n",
      "Profile 0:\n",
      "  Ch #02 refl=248.597691\n",
      "  Ch #03 refl=225.821791\n",
      "  Ch #04 refl=213.280981\n"
     ]
    },
    {
     "name": "stderr",
     "output_type": "stream",
     "text": [
      "Deallocating this inst_id.\n",
      "Atlas deallocated.\n",
      "Load successful >>>>> inst_id : 1, nchannels : 3.\n",
      "MW emissivity atlas loaded successfully\n"
     ]
    },
    {
     "name": "stdout",
     "output_type": "stream",
     "text": [
      "SELECTED OUTPUT\n",
      "MSU visible channel reflectances, channels 2-4\n",
      "Profile 0:\n",
      "  Ch #02 refl=244.679589\n",
      "  Ch #03 refl=223.875279\n",
      "  Ch #04 refl=210.941364\n"
     ]
    },
    {
     "name": "stderr",
     "output_type": "stream",
     "text": [
      "No surface emissivity/reflectance supplied: setting calcemis and calcrefl to true\n",
      "Deallocating this inst_id.\n",
      "Atlas deallocated.\n",
      "Load successful >>>>> inst_id : 1, nchannels : 3.\n"
     ]
    },
    {
     "name": "stdout",
     "output_type": "stream",
     "text": [
      "SELECTED OUTPUT\n",
      "MSU visible channel reflectances, channels 2-4\n",
      "Profile 0:\n",
      "  Ch #02 refl=243.326647\n",
      "  Ch #03 refl=222.454195\n",
      "  Ch #04 refl=210.128645\n"
     ]
    },
    {
     "name": "stderr",
     "output_type": "stream",
     "text": [
      "MW emissivity atlas loaded successfully\n",
      "No surface emissivity/reflectance supplied: setting calcemis and calcrefl to true\n",
      "Deallocating this inst_id.\n",
      "Atlas deallocated.\n",
      "Load successful >>>>> inst_id : 1, nchannels : 3.\n"
     ]
    },
    {
     "name": "stdout",
     "output_type": "stream",
     "text": [
      "SELECTED OUTPUT\n",
      "MSU visible channel reflectances, channels 2-4\n",
      "Profile 0:\n",
      "  Ch #02 refl=244.453720\n",
      "  Ch #03 refl=223.395485\n",
      "  Ch #04 refl=211.992814\n"
     ]
    },
    {
     "name": "stderr",
     "output_type": "stream",
     "text": [
      "MW emissivity atlas loaded successfully\n",
      "No surface emissivity/reflectance supplied: setting calcemis and calcrefl to true\n",
      "Deallocating this inst_id.\n",
      "Atlas deallocated.\n",
      "Load successful >>>>> inst_id : 1, nchannels : 3.\n",
      "MW emissivity atlas loaded successfully\n",
      "No surface emissivity/reflectance supplied: setting calcemis and calcrefl to true\n",
      "Deallocating this inst_id.\n",
      "Atlas deallocated.\n",
      "Load successful >>>>> inst_id : 1, nchannels : 3.\n"
     ]
    },
    {
     "name": "stdout",
     "output_type": "stream",
     "text": [
      "SELECTED OUTPUT\n",
      "MSU visible channel reflectances, channels 2-4\n",
      "Profile 0:\n",
      "  Ch #02 refl=244.001698\n",
      "  Ch #03 refl=221.924007\n",
      "  Ch #04 refl=209.061191\n"
     ]
    },
    {
     "name": "stderr",
     "output_type": "stream",
     "text": [
      "MW emissivity atlas loaded successfully\n",
      "No surface emissivity/reflectance supplied: setting calcemis and calcrefl to true\n",
      "Deallocating this inst_id.\n",
      "Atlas deallocated.\n",
      "Load successful >>>>> inst_id : 1, nchannels : 3.\n",
      "MW emissivity atlas loaded successfully\n",
      "No surface emissivity/reflectance supplied: setting calcemis and calcrefl to true\n"
     ]
    },
    {
     "name": "stdout",
     "output_type": "stream",
     "text": [
      "SELECTED OUTPUT\n",
      "MSU visible channel reflectances, channels 2-4\n",
      "Profile 0:\n",
      "  Ch #02 refl=244.395766\n",
      "  Ch #03 refl=225.365518\n",
      "  Ch #04 refl=216.286833\n",
      "SELECTED OUTPUT\n",
      "MSU visible channel reflectances, channels 2-4\n",
      "Profile 0:\n",
      "  Ch #02 refl=246.668864\n",
      "  Ch #03 refl=226.261748\n",
      "  Ch #04 refl=217.572356\n"
     ]
    },
    {
     "name": "stderr",
     "output_type": "stream",
     "text": [
      "Deallocating this inst_id.\n",
      "Atlas deallocated.\n",
      "Load successful >>>>> inst_id : 1, nchannels : 3.\n",
      "MW emissivity atlas loaded successfully\n",
      "No surface emissivity/reflectance supplied: setting calcemis and calcrefl to true\n",
      "Deallocating this inst_id.\n",
      "Atlas deallocated.\n",
      "Load successful >>>>> inst_id : 1, nchannels : 3.\n",
      "MW emissivity atlas loaded successfully\n"
     ]
    },
    {
     "name": "stdout",
     "output_type": "stream",
     "text": [
      "SELECTED OUTPUT\n",
      "MSU visible channel reflectances, channels 2-4\n",
      "Profile 0:\n",
      "  Ch #02 refl=250.172262\n",
      "  Ch #03 refl=227.009460\n",
      "  Ch #04 refl=218.121006\n"
     ]
    },
    {
     "name": "stderr",
     "output_type": "stream",
     "text": [
      "No surface emissivity/reflectance supplied: setting calcemis and calcrefl to true\n",
      "Deallocating this inst_id.\n",
      "Atlas deallocated.\n",
      "Load successful >>>>> inst_id : 1, nchannels : 3.\n"
     ]
    },
    {
     "name": "stdout",
     "output_type": "stream",
     "text": [
      "SELECTED OUTPUT\n",
      "MSU visible channel reflectances, channels 2-4\n",
      "Profile 0:\n",
      "  Ch #02 refl=253.376925\n",
      "  Ch #03 refl=229.612308\n",
      "  Ch #04 refl=218.701658\n"
     ]
    },
    {
     "name": "stderr",
     "output_type": "stream",
     "text": [
      "MW emissivity atlas loaded successfully\n",
      "No surface emissivity/reflectance supplied: setting calcemis and calcrefl to true\n",
      "Deallocating this inst_id.\n",
      "Atlas deallocated.\n",
      "Load successful >>>>> inst_id : 1, nchannels : 3.\n"
     ]
    },
    {
     "name": "stdout",
     "output_type": "stream",
     "text": [
      "SELECTED OUTPUT\n",
      "MSU visible channel reflectances, channels 2-4\n",
      "Profile 0:\n",
      "  Ch #02 refl=254.401745\n",
      "  Ch #03 refl=231.222346\n",
      "  Ch #04 refl=220.178217\n"
     ]
    },
    {
     "name": "stderr",
     "output_type": "stream",
     "text": [
      "MW emissivity atlas loaded successfully\n",
      "No surface emissivity/reflectance supplied: setting calcemis and calcrefl to true\n",
      "Deallocating this inst_id.\n",
      "Atlas deallocated.\n",
      "Load successful >>>>> inst_id : 1, nchannels : 3.\n",
      "MW emissivity atlas loaded successfully\n"
     ]
    },
    {
     "name": "stdout",
     "output_type": "stream",
     "text": [
      "SELECTED OUTPUT\n",
      "MSU visible channel reflectances, channels 2-4\n",
      "Profile 0:\n",
      "  Ch #02 refl=255.315039\n",
      "  Ch #03 refl=231.007037\n",
      "  Ch #04 refl=218.372521\n"
     ]
    },
    {
     "name": "stderr",
     "output_type": "stream",
     "text": [
      "No surface emissivity/reflectance supplied: setting calcemis and calcrefl to true\n",
      "Deallocating this inst_id.\n",
      "Atlas deallocated.\n",
      "Load successful >>>>> inst_id : 1, nchannels : 3.\n"
     ]
    },
    {
     "name": "stdout",
     "output_type": "stream",
     "text": [
      "SELECTED OUTPUT\n",
      "MSU visible channel reflectances, channels 2-4\n",
      "Profile 0:\n",
      "  Ch #02 refl=251.625546\n",
      "  Ch #03 refl=228.614747\n",
      "  Ch #04 refl=217.363504\n"
     ]
    },
    {
     "name": "stderr",
     "output_type": "stream",
     "text": [
      "MW emissivity atlas loaded successfully\n",
      "No surface emissivity/reflectance supplied: setting calcemis and calcrefl to true\n",
      "Deallocating this inst_id.\n",
      "Atlas deallocated.\n",
      "Load successful >>>>> inst_id : 1, nchannels : 3.\n",
      "MW emissivity atlas loaded successfully\n"
     ]
    },
    {
     "name": "stdout",
     "output_type": "stream",
     "text": [
      "SELECTED OUTPUT\n",
      "MSU visible channel reflectances, channels 2-4\n",
      "Profile 0:\n",
      "  Ch #02 refl=250.238541\n",
      "  Ch #03 refl=226.642201\n",
      "  Ch #04 refl=213.713968\n"
     ]
    },
    {
     "name": "stderr",
     "output_type": "stream",
     "text": [
      "No surface emissivity/reflectance supplied: setting calcemis and calcrefl to true\n",
      "Deallocating this inst_id.\n",
      "Atlas deallocated.\n",
      "Load successful >>>>> inst_id : 1, nchannels : 3.\n",
      "MW emissivity atlas loaded successfully\n"
     ]
    },
    {
     "name": "stdout",
     "output_type": "stream",
     "text": [
      "SELECTED OUTPUT\n",
      "MSU visible channel reflectances, channels 2-4\n",
      "Profile 0:\n",
      "  Ch #02 refl=246.488282\n",
      "  Ch #03 refl=223.624782\n",
      "  Ch #04 refl=211.034032\n"
     ]
    },
    {
     "name": "stderr",
     "output_type": "stream",
     "text": [
      "No surface emissivity/reflectance supplied: setting calcemis and calcrefl to true\n",
      "Deallocating this inst_id.\n",
      "Atlas deallocated.\n",
      "Load successful >>>>> inst_id : 1, nchannels : 3.\n"
     ]
    },
    {
     "name": "stdout",
     "output_type": "stream",
     "text": [
      "SELECTED OUTPUT\n",
      "MSU visible channel reflectances, channels 2-4\n",
      "Profile 0:\n",
      "  Ch #02 refl=243.660629\n",
      "  Ch #03 refl=222.829993\n",
      "  Ch #04 refl=210.786897\n"
     ]
    },
    {
     "name": "stderr",
     "output_type": "stream",
     "text": [
      "MW emissivity atlas loaded successfully\n",
      "No surface emissivity/reflectance supplied: setting calcemis and calcrefl to true\n",
      "Deallocating this inst_id.\n",
      "Atlas deallocated.\n",
      "Load successful >>>>> inst_id : 1, nchannels : 3.\n"
     ]
    },
    {
     "name": "stdout",
     "output_type": "stream",
     "text": [
      "SELECTED OUTPUT\n",
      "MSU visible channel reflectances, channels 2-4\n",
      "Profile 0:\n",
      "  Ch #02 refl=243.665461\n",
      "  Ch #03 refl=225.091636\n",
      "  Ch #04 refl=215.707397\n"
     ]
    },
    {
     "name": "stderr",
     "output_type": "stream",
     "text": [
      "MW emissivity atlas loaded successfully\n",
      "No surface emissivity/reflectance supplied: setting calcemis and calcrefl to true\n",
      "Deallocating this inst_id.\n",
      "Atlas deallocated.\n",
      "Load successful >>>>> inst_id : 1, nchannels : 3.\n"
     ]
    },
    {
     "name": "stdout",
     "output_type": "stream",
     "text": [
      "SELECTED OUTPUT\n",
      "MSU visible channel reflectances, channels 2-4\n",
      "Profile 0:\n",
      "  Ch #02 refl=242.574969\n",
      "  Ch #03 refl=225.137456\n",
      "  Ch #04 refl=216.527039\n"
     ]
    },
    {
     "name": "stderr",
     "output_type": "stream",
     "text": [
      "MW emissivity atlas loaded successfully\n",
      "No surface emissivity/reflectance supplied: setting calcemis and calcrefl to true\n",
      "Deallocating this inst_id.\n",
      "Atlas deallocated.\n",
      "Load successful >>>>> inst_id : 1, nchannels : 3.\n"
     ]
    },
    {
     "name": "stdout",
     "output_type": "stream",
     "text": [
      "SELECTED OUTPUT\n",
      "MSU visible channel reflectances, channels 2-4\n",
      "Profile 0:\n",
      "  Ch #02 refl=244.089951\n",
      "  Ch #03 refl=224.636820\n",
      "  Ch #04 refl=215.667675\n"
     ]
    },
    {
     "name": "stderr",
     "output_type": "stream",
     "text": [
      "MW emissivity atlas loaded successfully\n",
      "No surface emissivity/reflectance supplied: setting calcemis and calcrefl to true\n",
      "Deallocating this inst_id.\n",
      "Atlas deallocated.\n",
      "Load successful >>>>> inst_id : 1, nchannels : 3.\n"
     ]
    },
    {
     "name": "stdout",
     "output_type": "stream",
     "text": [
      "SELECTED OUTPUT\n",
      "MSU visible channel reflectances, channels 2-4\n",
      "Profile 0:\n",
      "  Ch #02 refl=247.973750\n",
      "  Ch #03 refl=225.111197\n",
      "  Ch #04 refl=215.673508\n"
     ]
    },
    {
     "name": "stderr",
     "output_type": "stream",
     "text": [
      "MW emissivity atlas loaded successfully\n",
      "No surface emissivity/reflectance supplied: setting calcemis and calcrefl to true\n",
      "Deallocating this inst_id.\n",
      "Atlas deallocated.\n",
      "Load successful >>>>> inst_id : 1, nchannels : 3.\n"
     ]
    },
    {
     "name": "stdout",
     "output_type": "stream",
     "text": [
      "SELECTED OUTPUT\n",
      "MSU visible channel reflectances, channels 2-4\n",
      "Profile 0:\n",
      "  Ch #02 refl=250.415401\n",
      "  Ch #03 refl=227.332940\n",
      "  Ch #04 refl=217.651815\n"
     ]
    },
    {
     "name": "stderr",
     "output_type": "stream",
     "text": [
      "MW emissivity atlas loaded successfully\n",
      "No surface emissivity/reflectance supplied: setting calcemis and calcrefl to true\n",
      "Deallocating this inst_id.\n",
      "Atlas deallocated.\n",
      "Load successful >>>>> inst_id : 1, nchannels : 3.\n"
     ]
    },
    {
     "name": "stdout",
     "output_type": "stream",
     "text": [
      "SELECTED OUTPUT\n",
      "MSU visible channel reflectances, channels 2-4\n",
      "Profile 0:\n",
      "  Ch #02 refl=252.462255\n",
      "  Ch #03 refl=229.905757\n",
      "  Ch #04 refl=219.690963\n"
     ]
    },
    {
     "name": "stderr",
     "output_type": "stream",
     "text": [
      "MW emissivity atlas loaded successfully\n",
      "No surface emissivity/reflectance supplied: setting calcemis and calcrefl to true\n",
      "Deallocating this inst_id.\n",
      "Atlas deallocated.\n",
      "Load successful >>>>> inst_id : 1, nchannels : 3.\n",
      "MW emissivity atlas loaded successfully\n"
     ]
    },
    {
     "name": "stdout",
     "output_type": "stream",
     "text": [
      "SELECTED OUTPUT\n",
      "MSU visible channel reflectances, channels 2-4\n",
      "Profile 0:\n",
      "  Ch #02 refl=255.006503\n",
      "  Ch #03 refl=231.234994\n",
      "  Ch #04 refl=219.391611\n"
     ]
    },
    {
     "name": "stderr",
     "output_type": "stream",
     "text": [
      "No surface emissivity/reflectance supplied: setting calcemis and calcrefl to true\n",
      "Deallocating this inst_id.\n",
      "Atlas deallocated.\n",
      "Load successful >>>>> inst_id : 1, nchannels : 3.\n"
     ]
    },
    {
     "name": "stdout",
     "output_type": "stream",
     "text": [
      "SELECTED OUTPUT\n",
      "MSU visible channel reflectances, channels 2-4\n",
      "Profile 0:\n",
      "  Ch #02 refl=255.300214\n",
      "  Ch #03 refl=230.648031\n",
      "  Ch #04 refl=218.387985\n"
     ]
    },
    {
     "name": "stderr",
     "output_type": "stream",
     "text": [
      "MW emissivity atlas loaded successfully\n",
      "No surface emissivity/reflectance supplied: setting calcemis and calcrefl to true\n",
      "Deallocating this inst_id.\n",
      "Atlas deallocated.\n",
      "Load successful >>>>> inst_id : 1, nchannels : 3.\n"
     ]
    },
    {
     "name": "stdout",
     "output_type": "stream",
     "text": [
      "SELECTED OUTPUT\n",
      "MSU visible channel reflectances, channels 2-4\n",
      "Profile 0:\n",
      "  Ch #02 refl=253.016128\n",
      "  Ch #03 refl=228.827288\n",
      "  Ch #04 refl=217.089941\n"
     ]
    },
    {
     "name": "stderr",
     "output_type": "stream",
     "text": [
      "MW emissivity atlas loaded successfully\n",
      "No surface emissivity/reflectance supplied: setting calcemis and calcrefl to true\n",
      "Deallocating this inst_id.\n",
      "Atlas deallocated.\n",
      "Load successful >>>>> inst_id : 1, nchannels : 3.\n"
     ]
    },
    {
     "name": "stdout",
     "output_type": "stream",
     "text": [
      "SELECTED OUTPUT\n",
      "MSU visible channel reflectances, channels 2-4\n",
      "Profile 0:\n",
      "  Ch #02 refl=248.993921\n",
      "  Ch #03 refl=227.011092\n",
      "  Ch #04 refl=214.986231\n"
     ]
    },
    {
     "name": "stderr",
     "output_type": "stream",
     "text": [
      "MW emissivity atlas loaded successfully\n",
      "No surface emissivity/reflectance supplied: setting calcemis and calcrefl to true\n",
      "Deallocating this inst_id.\n",
      "Atlas deallocated.\n",
      "Load successful >>>>> inst_id : 1, nchannels : 3.\n"
     ]
    },
    {
     "name": "stdout",
     "output_type": "stream",
     "text": [
      "SELECTED OUTPUT\n",
      "MSU visible channel reflectances, channels 2-4\n",
      "Profile 0:\n",
      "  Ch #02 refl=247.491262\n",
      "  Ch #03 refl=224.960648\n",
      "  Ch #04 refl=210.479431\n"
     ]
    },
    {
     "name": "stderr",
     "output_type": "stream",
     "text": [
      "MW emissivity atlas loaded successfully\n",
      "No surface emissivity/reflectance supplied: setting calcemis and calcrefl to true\n",
      "Deallocating this inst_id.\n",
      "Atlas deallocated.\n",
      "Load successful >>>>> inst_id : 1, nchannels : 3.\n"
     ]
    },
    {
     "name": "stdout",
     "output_type": "stream",
     "text": [
      "SELECTED OUTPUT\n",
      "MSU visible channel reflectances, channels 2-4\n",
      "Profile 0:\n",
      "  Ch #02 refl=243.419016\n",
      "  Ch #03 refl=223.734252\n",
      "  Ch #04 refl=213.627599\n"
     ]
    },
    {
     "name": "stderr",
     "output_type": "stream",
     "text": [
      "MW emissivity atlas loaded successfully\n",
      "No surface emissivity/reflectance supplied: setting calcemis and calcrefl to true\n",
      "Deallocating this inst_id.\n",
      "Atlas deallocated.\n",
      "Load successful >>>>> inst_id : 1, nchannels : 3.\n"
     ]
    },
    {
     "name": "stdout",
     "output_type": "stream",
     "text": [
      "SELECTED OUTPUT\n",
      "MSU visible channel reflectances, channels 2-4\n",
      "Profile 0:\n",
      "  Ch #02 refl=241.097424\n",
      "  Ch #03 refl=222.000837\n",
      "  Ch #04 refl=210.758645\n"
     ]
    },
    {
     "name": "stderr",
     "output_type": "stream",
     "text": [
      "MW emissivity atlas loaded successfully\n",
      "No surface emissivity/reflectance supplied: setting calcemis and calcrefl to true\n",
      "Deallocating this inst_id.\n",
      "Atlas deallocated.\n",
      "Load successful >>>>> inst_id : 1, nchannels : 3.\n",
      "MW emissivity atlas loaded successfully\n"
     ]
    },
    {
     "name": "stdout",
     "output_type": "stream",
     "text": [
      "SELECTED OUTPUT\n",
      "MSU visible channel reflectances, channels 2-4\n",
      "Profile 0:\n",
      "  Ch #02 refl=242.384640\n",
      "  Ch #03 refl=222.704596\n",
      "  Ch #04 refl=213.412690\n"
     ]
    },
    {
     "name": "stderr",
     "output_type": "stream",
     "text": [
      "No surface emissivity/reflectance supplied: setting calcemis and calcrefl to true\n",
      "Deallocating this inst_id.\n",
      "Atlas deallocated.\n",
      "Load successful >>>>> inst_id : 1, nchannels : 3.\n"
     ]
    },
    {
     "name": "stdout",
     "output_type": "stream",
     "text": [
      "SELECTED OUTPUT\n",
      "MSU visible channel reflectances, channels 2-4\n",
      "Profile 0:\n",
      "  Ch #02 refl=244.211604\n",
      "  Ch #03 refl=224.330222\n",
      "  Ch #04 refl=215.286691\n"
     ]
    },
    {
     "name": "stderr",
     "output_type": "stream",
     "text": [
      "MW emissivity atlas loaded successfully\n",
      "No surface emissivity/reflectance supplied: setting calcemis and calcrefl to true\n",
      "Deallocating this inst_id.\n",
      "Atlas deallocated.\n",
      "Load successful >>>>> inst_id : 1, nchannels : 3.\n"
     ]
    },
    {
     "name": "stdout",
     "output_type": "stream",
     "text": [
      "SELECTED OUTPUT\n",
      "MSU visible channel reflectances, channels 2-4\n",
      "Profile 0:\n",
      "  Ch #02 refl=246.438311\n",
      "  Ch #03 refl=224.981473\n",
      "  Ch #04 refl=216.280904\n"
     ]
    },
    {
     "name": "stderr",
     "output_type": "stream",
     "text": [
      "MW emissivity atlas loaded successfully\n",
      "No surface emissivity/reflectance supplied: setting calcemis and calcrefl to true\n",
      "Deallocating this inst_id.\n",
      "Atlas deallocated.\n",
      "Load successful >>>>> inst_id : 1, nchannels : 3.\n"
     ]
    },
    {
     "name": "stdout",
     "output_type": "stream",
     "text": [
      "SELECTED OUTPUT\n",
      "MSU visible channel reflectances, channels 2-4\n",
      "Profile 0:\n",
      "  Ch #02 refl=250.225090\n",
      "  Ch #03 refl=228.666062\n",
      "  Ch #04 refl=219.351611\n"
     ]
    },
    {
     "name": "stderr",
     "output_type": "stream",
     "text": [
      "MW emissivity atlas loaded successfully\n",
      "No surface emissivity/reflectance supplied: setting calcemis and calcrefl to true\n",
      "Deallocating this inst_id.\n",
      "Atlas deallocated.\n",
      "Load successful >>>>> inst_id : 1, nchannels : 3.\n"
     ]
    },
    {
     "name": "stdout",
     "output_type": "stream",
     "text": [
      "SELECTED OUTPUT\n",
      "MSU visible channel reflectances, channels 2-4\n",
      "Profile 0:\n",
      "  Ch #02 refl=253.531118\n",
      "  Ch #03 refl=230.413017\n",
      "  Ch #04 refl=219.514349\n"
     ]
    },
    {
     "name": "stderr",
     "output_type": "stream",
     "text": [
      "MW emissivity atlas loaded successfully\n",
      "No surface emissivity/reflectance supplied: setting calcemis and calcrefl to true\n",
      "Deallocating this inst_id.\n",
      "Atlas deallocated.\n",
      "Load successful >>>>> inst_id : 1, nchannels : 3.\n"
     ]
    },
    {
     "name": "stdout",
     "output_type": "stream",
     "text": [
      "SELECTED OUTPUT\n",
      "MSU visible channel reflectances, channels 2-4\n",
      "Profile 0:\n",
      "  Ch #02 refl=255.746948\n",
      "  Ch #03 refl=231.743113\n",
      "  Ch #04 refl=219.448562\n"
     ]
    },
    {
     "name": "stderr",
     "output_type": "stream",
     "text": [
      "MW emissivity atlas loaded successfully\n",
      "No surface emissivity/reflectance supplied: setting calcemis and calcrefl to true\n",
      "Deallocating this inst_id.\n",
      "Atlas deallocated.\n",
      "Load successful >>>>> inst_id : 1, nchannels : 3.\n"
     ]
    },
    {
     "name": "stdout",
     "output_type": "stream",
     "text": [
      "SELECTED OUTPUT\n",
      "MSU visible channel reflectances, channels 2-4\n",
      "Profile 0:\n",
      "  Ch #02 refl=254.964371\n",
      "  Ch #03 refl=231.537943\n",
      "  Ch #04 refl=217.297485\n"
     ]
    },
    {
     "name": "stderr",
     "output_type": "stream",
     "text": [
      "MW emissivity atlas loaded successfully\n",
      "No surface emissivity/reflectance supplied: setting calcemis and calcrefl to true\n",
      "Deallocating this inst_id.\n",
      "Atlas deallocated.\n",
      "Load successful >>>>> inst_id : 1, nchannels : 3.\n"
     ]
    },
    {
     "name": "stdout",
     "output_type": "stream",
     "text": [
      "SELECTED OUTPUT\n",
      "MSU visible channel reflectances, channels 2-4\n",
      "Profile 0:\n",
      "  Ch #02 refl=251.786097\n",
      "  Ch #03 refl=229.704085\n",
      "  Ch #04 refl=217.871914\n"
     ]
    },
    {
     "name": "stderr",
     "output_type": "stream",
     "text": [
      "MW emissivity atlas loaded successfully\n",
      "No surface emissivity/reflectance supplied: setting calcemis and calcrefl to true\n",
      "Deallocating this inst_id.\n",
      "Atlas deallocated.\n",
      "Load successful >>>>> inst_id : 1, nchannels : 3.\n"
     ]
    },
    {
     "name": "stdout",
     "output_type": "stream",
     "text": [
      "SELECTED OUTPUT\n",
      "MSU visible channel reflectances, channels 2-4\n",
      "Profile 0:\n",
      "  Ch #02 refl=248.825079\n",
      "  Ch #03 refl=226.761541\n",
      "  Ch #04 refl=215.951114\n"
     ]
    },
    {
     "name": "stderr",
     "output_type": "stream",
     "text": [
      "MW emissivity atlas loaded successfully\n",
      "No surface emissivity/reflectance supplied: setting calcemis and calcrefl to true\n",
      "Deallocating this inst_id.\n",
      "Atlas deallocated.\n",
      "Load successful >>>>> inst_id : 1, nchannels : 3.\n"
     ]
    },
    {
     "name": "stdout",
     "output_type": "stream",
     "text": [
      "SELECTED OUTPUT\n",
      "MSU visible channel reflectances, channels 2-4\n",
      "Profile 0:\n",
      "  Ch #02 refl=246.664698\n",
      "  Ch #03 refl=224.889109\n",
      "  Ch #04 refl=211.893162\n"
     ]
    },
    {
     "name": "stderr",
     "output_type": "stream",
     "text": [
      "MW emissivity atlas loaded successfully\n",
      "No surface emissivity/reflectance supplied: setting calcemis and calcrefl to true\n",
      "Deallocating this inst_id.\n",
      "Atlas deallocated.\n",
      "Load successful >>>>> inst_id : 1, nchannels : 3.\n",
      "MW emissivity atlas loaded successfully\n"
     ]
    },
    {
     "name": "stdout",
     "output_type": "stream",
     "text": [
      "SELECTED OUTPUT\n",
      "MSU visible channel reflectances, channels 2-4\n",
      "Profile 0:\n",
      "  Ch #02 refl=241.818664\n",
      "  Ch #03 refl=223.249956\n",
      "  Ch #04 refl=212.336931\n"
     ]
    },
    {
     "name": "stderr",
     "output_type": "stream",
     "text": [
      "No surface emissivity/reflectance supplied: setting calcemis and calcrefl to true\n",
      "Deallocating this inst_id.\n",
      "Atlas deallocated.\n",
      "Load successful >>>>> inst_id : 1, nchannels : 3.\n"
     ]
    },
    {
     "name": "stdout",
     "output_type": "stream",
     "text": [
      "SELECTED OUTPUT\n",
      "MSU visible channel reflectances, channels 2-4\n",
      "Profile 0:\n",
      "  Ch #02 refl=242.906151\n",
      "  Ch #03 refl=222.575203\n",
      "  Ch #04 refl=211.280273\n"
     ]
    },
    {
     "name": "stderr",
     "output_type": "stream",
     "text": [
      "MW emissivity atlas loaded successfully\n",
      "No surface emissivity/reflectance supplied: setting calcemis and calcrefl to true\n",
      "Deallocating this inst_id.\n",
      "Atlas deallocated.\n",
      "Load successful >>>>> inst_id : 1, nchannels : 3.\n"
     ]
    },
    {
     "name": "stdout",
     "output_type": "stream",
     "text": [
      "SELECTED OUTPUT\n",
      "MSU visible channel reflectances, channels 2-4\n",
      "Profile 0:\n",
      "  Ch #02 refl=242.667706\n",
      "  Ch #03 refl=222.715219\n",
      "  Ch #04 refl=211.670279\n"
     ]
    },
    {
     "name": "stderr",
     "output_type": "stream",
     "text": [
      "MW emissivity atlas loaded successfully\n",
      "No surface emissivity/reflectance supplied: setting calcemis and calcrefl to true\n",
      "Deallocating this inst_id.\n",
      "Atlas deallocated.\n",
      "Load successful >>>>> inst_id : 1, nchannels : 3.\n"
     ]
    },
    {
     "name": "stdout",
     "output_type": "stream",
     "text": [
      "SELECTED OUTPUT\n",
      "MSU visible channel reflectances, channels 2-4\n",
      "Profile 0:\n",
      "  Ch #02 refl=244.734996\n",
      "  Ch #03 refl=223.966290\n",
      "  Ch #04 refl=216.172192\n"
     ]
    },
    {
     "name": "stderr",
     "output_type": "stream",
     "text": [
      "MW emissivity atlas loaded successfully\n",
      "No surface emissivity/reflectance supplied: setting calcemis and calcrefl to true\n",
      "Deallocating this inst_id.\n",
      "Atlas deallocated.\n",
      "Load successful >>>>> inst_id : 1, nchannels : 3.\n"
     ]
    },
    {
     "name": "stdout",
     "output_type": "stream",
     "text": [
      "SELECTED OUTPUT\n",
      "MSU visible channel reflectances, channels 2-4\n",
      "Profile 0:\n",
      "  Ch #02 refl=247.424939\n",
      "  Ch #03 refl=224.060282\n",
      "  Ch #04 refl=210.531972\n"
     ]
    },
    {
     "name": "stderr",
     "output_type": "stream",
     "text": [
      "MW emissivity atlas loaded successfully\n",
      "No surface emissivity/reflectance supplied: setting calcemis and calcrefl to true\n",
      "Deallocating this inst_id.\n",
      "Atlas deallocated.\n",
      "Load successful >>>>> inst_id : 1, nchannels : 3.\n"
     ]
    },
    {
     "name": "stdout",
     "output_type": "stream",
     "text": [
      "SELECTED OUTPUT\n",
      "MSU visible channel reflectances, channels 2-4\n",
      "Profile 0:\n",
      "  Ch #02 refl=249.946477\n",
      "  Ch #03 refl=226.995196\n",
      "  Ch #04 refl=218.194330\n"
     ]
    },
    {
     "name": "stderr",
     "output_type": "stream",
     "text": [
      "MW emissivity atlas loaded successfully\n",
      "No surface emissivity/reflectance supplied: setting calcemis and calcrefl to true\n",
      "Deallocating this inst_id.\n",
      "Atlas deallocated.\n",
      "Load successful >>>>> inst_id : 1, nchannels : 3.\n"
     ]
    },
    {
     "name": "stdout",
     "output_type": "stream",
     "text": [
      "SELECTED OUTPUT\n",
      "MSU visible channel reflectances, channels 2-4\n",
      "Profile 0:\n",
      "  Ch #02 refl=253.479314\n",
      "  Ch #03 refl=230.018626\n",
      "  Ch #04 refl=218.757020\n"
     ]
    },
    {
     "name": "stderr",
     "output_type": "stream",
     "text": [
      "MW emissivity atlas loaded successfully\n",
      "No surface emissivity/reflectance supplied: setting calcemis and calcrefl to true\n",
      "Deallocating this inst_id.\n",
      "Atlas deallocated.\n",
      "Load successful >>>>> inst_id : 1, nchannels : 3.\n"
     ]
    },
    {
     "name": "stdout",
     "output_type": "stream",
     "text": [
      "SELECTED OUTPUT\n",
      "MSU visible channel reflectances, channels 2-4\n",
      "Profile 0:\n",
      "  Ch #02 refl=254.174954\n",
      "  Ch #03 refl=231.454460\n",
      "  Ch #04 refl=219.791239\n"
     ]
    },
    {
     "name": "stderr",
     "output_type": "stream",
     "text": [
      "MW emissivity atlas loaded successfully\n",
      "No surface emissivity/reflectance supplied: setting calcemis and calcrefl to true\n",
      "Deallocating this inst_id.\n",
      "Atlas deallocated.\n",
      "Load successful >>>>> inst_id : 1, nchannels : 3.\n",
      "MW emissivity atlas loaded successfully\n"
     ]
    },
    {
     "name": "stdout",
     "output_type": "stream",
     "text": [
      "SELECTED OUTPUT\n",
      "MSU visible channel reflectances, channels 2-4\n",
      "Profile 0:\n",
      "  Ch #02 refl=255.176879\n",
      "  Ch #03 refl=230.698650\n",
      "  Ch #04 refl=217.729109\n"
     ]
    },
    {
     "name": "stderr",
     "output_type": "stream",
     "text": [
      "No surface emissivity/reflectance supplied: setting calcemis and calcrefl to true\n",
      "Deallocating this inst_id.\n",
      "Atlas deallocated.\n",
      "Load successful >>>>> inst_id : 1, nchannels : 3.\n"
     ]
    },
    {
     "name": "stdout",
     "output_type": "stream",
     "text": [
      "SELECTED OUTPUT\n",
      "MSU visible channel reflectances, channels 2-4\n",
      "Profile 0:\n",
      "  Ch #02 refl=253.752060\n",
      "  Ch #03 refl=229.092462\n",
      "  Ch #04 refl=215.869890\n"
     ]
    },
    {
     "name": "stderr",
     "output_type": "stream",
     "text": [
      "MW emissivity atlas loaded successfully\n",
      "No surface emissivity/reflectance supplied: setting calcemis and calcrefl to true\n",
      "Deallocating this inst_id.\n",
      "Atlas deallocated.\n",
      "Load successful >>>>> inst_id : 1, nchannels : 3.\n"
     ]
    },
    {
     "name": "stdout",
     "output_type": "stream",
     "text": [
      "SELECTED OUTPUT\n",
      "MSU visible channel reflectances, channels 2-4\n",
      "Profile 0:\n",
      "  Ch #02 refl=249.328456\n",
      "  Ch #03 refl=226.371546\n",
      "  Ch #04 refl=213.820475\n"
     ]
    },
    {
     "name": "stderr",
     "output_type": "stream",
     "text": [
      "MW emissivity atlas loaded successfully\n",
      "No surface emissivity/reflectance supplied: setting calcemis and calcrefl to true\n",
      "Deallocating this inst_id.\n",
      "Atlas deallocated.\n",
      "Load successful >>>>> inst_id : 1, nchannels : 3.\n"
     ]
    },
    {
     "name": "stdout",
     "output_type": "stream",
     "text": [
      "SELECTED OUTPUT\n",
      "MSU visible channel reflectances, channels 2-4\n",
      "Profile 0:\n",
      "  Ch #02 refl=247.308838\n",
      "  Ch #03 refl=224.063336\n",
      "  Ch #04 refl=210.474858\n"
     ]
    },
    {
     "name": "stderr",
     "output_type": "stream",
     "text": [
      "MW emissivity atlas loaded successfully\n",
      "No surface emissivity/reflectance supplied: setting calcemis and calcrefl to true\n",
      "Deallocating this inst_id.\n",
      "Atlas deallocated.\n",
      "Load successful >>>>> inst_id : 1, nchannels : 3.\n"
     ]
    },
    {
     "name": "stdout",
     "output_type": "stream",
     "text": [
      "SELECTED OUTPUT\n",
      "MSU visible channel reflectances, channels 2-4\n",
      "Profile 0:\n",
      "  Ch #02 refl=243.663203\n",
      "  Ch #03 refl=222.622164\n",
      "  Ch #04 refl=210.508640\n"
     ]
    },
    {
     "name": "stderr",
     "output_type": "stream",
     "text": [
      "MW emissivity atlas loaded successfully\n",
      "No surface emissivity/reflectance supplied: setting calcemis and calcrefl to true\n",
      "Deallocating this inst_id.\n",
      "Atlas deallocated.\n",
      "Load successful >>>>> inst_id : 1, nchannels : 3.\n"
     ]
    },
    {
     "name": "stdout",
     "output_type": "stream",
     "text": [
      "SELECTED OUTPUT\n",
      "MSU visible channel reflectances, channels 2-4\n",
      "Profile 0:\n",
      "  Ch #02 refl=241.395390\n",
      "  Ch #03 refl=220.591713\n",
      "  Ch #04 refl=207.765092\n"
     ]
    },
    {
     "name": "stderr",
     "output_type": "stream",
     "text": [
      "MW emissivity atlas loaded successfully\n",
      "No surface emissivity/reflectance supplied: setting calcemis and calcrefl to true\n",
      "Deallocating this inst_id.\n",
      "Atlas deallocated.\n",
      "Load successful >>>>> inst_id : 1, nchannels : 3.\n"
     ]
    },
    {
     "name": "stdout",
     "output_type": "stream",
     "text": [
      "SELECTED OUTPUT\n",
      "MSU visible channel reflectances, channels 2-4\n",
      "Profile 0:\n",
      "  Ch #02 refl=239.927001\n",
      "  Ch #03 refl=221.179256\n",
      "  Ch #04 refl=212.069822\n"
     ]
    },
    {
     "name": "stderr",
     "output_type": "stream",
     "text": [
      "MW emissivity atlas loaded successfully\n",
      "No surface emissivity/reflectance supplied: setting calcemis and calcrefl to true\n",
      "Deallocating this inst_id.\n",
      "Atlas deallocated.\n",
      "Load successful >>>>> inst_id : 1, nchannels : 3.\n"
     ]
    },
    {
     "name": "stdout",
     "output_type": "stream",
     "text": [
      "SELECTED OUTPUT\n",
      "MSU visible channel reflectances, channels 2-4\n",
      "Profile 0:\n",
      "  Ch #02 refl=245.298188\n",
      "  Ch #03 refl=223.209857\n",
      "  Ch #04 refl=212.322180\n"
     ]
    },
    {
     "name": "stderr",
     "output_type": "stream",
     "text": [
      "MW emissivity atlas loaded successfully\n",
      "No surface emissivity/reflectance supplied: setting calcemis and calcrefl to true\n",
      "Deallocating this inst_id.\n",
      "Atlas deallocated.\n",
      "Load successful >>>>> inst_id : 1, nchannels : 3.\n"
     ]
    },
    {
     "name": "stdout",
     "output_type": "stream",
     "text": [
      "SELECTED OUTPUT\n",
      "MSU visible channel reflectances, channels 2-4\n",
      "Profile 0:\n",
      "  Ch #02 refl=247.330923\n",
      "  Ch #03 refl=226.684446\n",
      "  Ch #04 refl=218.137849\n"
     ]
    },
    {
     "name": "stderr",
     "output_type": "stream",
     "text": [
      "MW emissivity atlas loaded successfully\n",
      "No surface emissivity/reflectance supplied: setting calcemis and calcrefl to true\n",
      "Deallocating this inst_id.\n",
      "Atlas deallocated.\n",
      "Load successful >>>>> inst_id : 1, nchannels : 3.\n"
     ]
    },
    {
     "name": "stdout",
     "output_type": "stream",
     "text": [
      "SELECTED OUTPUT\n",
      "MSU visible channel reflectances, channels 2-4\n",
      "Profile 0:\n",
      "  Ch #02 refl=250.859876\n",
      "  Ch #03 refl=228.305560\n",
      "  Ch #04 refl=218.216748\n"
     ]
    },
    {
     "name": "stderr",
     "output_type": "stream",
     "text": [
      "MW emissivity atlas loaded successfully\n",
      "No surface emissivity/reflectance supplied: setting calcemis and calcrefl to true\n",
      "Deallocating this inst_id.\n",
      "Atlas deallocated.\n",
      "Load successful >>>>> inst_id : 1, nchannels : 3.\n"
     ]
    },
    {
     "name": "stdout",
     "output_type": "stream",
     "text": [
      "SELECTED OUTPUT\n",
      "MSU visible channel reflectances, channels 2-4\n",
      "Profile 0:\n",
      "  Ch #02 refl=253.830232\n",
      "  Ch #03 refl=230.277109\n",
      "  Ch #04 refl=218.754858\n"
     ]
    },
    {
     "name": "stderr",
     "output_type": "stream",
     "text": [
      "MW emissivity atlas loaded successfully\n",
      "No surface emissivity/reflectance supplied: setting calcemis and calcrefl to true\n",
      "Deallocating this inst_id.\n",
      "Atlas deallocated.\n",
      "Load successful >>>>> inst_id : 1, nchannels : 3.\n"
     ]
    },
    {
     "name": "stdout",
     "output_type": "stream",
     "text": [
      "SELECTED OUTPUT\n",
      "MSU visible channel reflectances, channels 2-4\n",
      "Profile 0:\n",
      "  Ch #02 refl=255.151913\n",
      "  Ch #03 refl=231.543827\n",
      "  Ch #04 refl=219.239084\n"
     ]
    },
    {
     "name": "stderr",
     "output_type": "stream",
     "text": [
      "MW emissivity atlas loaded successfully\n",
      "No surface emissivity/reflectance supplied: setting calcemis and calcrefl to true\n",
      "Deallocating this inst_id.\n",
      "Atlas deallocated.\n",
      "Load successful >>>>> inst_id : 1, nchannels : 3.\n"
     ]
    },
    {
     "name": "stdout",
     "output_type": "stream",
     "text": [
      "SELECTED OUTPUT\n",
      "MSU visible channel reflectances, channels 2-4\n",
      "Profile 0:\n",
      "  Ch #02 refl=255.307127\n",
      "  Ch #03 refl=230.744000\n",
      "  Ch #04 refl=218.228669\n"
     ]
    },
    {
     "name": "stderr",
     "output_type": "stream",
     "text": [
      "MW emissivity atlas loaded successfully\n",
      "No surface emissivity/reflectance supplied: setting calcemis and calcrefl to true\n",
      "Deallocating this inst_id.\n",
      "Atlas deallocated.\n",
      "Load successful >>>>> inst_id : 1, nchannels : 3.\n"
     ]
    },
    {
     "name": "stdout",
     "output_type": "stream",
     "text": [
      "SELECTED OUTPUT\n",
      "MSU visible channel reflectances, channels 2-4\n",
      "Profile 0:\n",
      "  Ch #02 refl=nan\n",
      "  Ch #03 refl=nan\n",
      "  Ch #04 refl=nan\n"
     ]
    },
    {
     "name": "stderr",
     "output_type": "stream",
     "text": [
      "MW emissivity atlas loaded successfully\n",
      "No surface emissivity/reflectance supplied: setting calcemis and calcrefl to true\n",
      "Deallocating this inst_id.\n",
      "Atlas deallocated.\n",
      "Load successful >>>>> inst_id : 1, nchannels : 3.\n"
     ]
    },
    {
     "name": "stdout",
     "output_type": "stream",
     "text": [
      "SELECTED OUTPUT\n",
      "MSU visible channel reflectances, channels 2-4\n",
      "Profile 0:\n",
      "  Ch #02 refl=249.632856\n",
      "  Ch #03 refl=226.305726\n",
      "  Ch #04 refl=213.880984\n"
     ]
    },
    {
     "name": "stderr",
     "output_type": "stream",
     "text": [
      "MW emissivity atlas loaded successfully\n",
      "No surface emissivity/reflectance supplied: setting calcemis and calcrefl to true\n",
      "Deallocating this inst_id.\n",
      "Atlas deallocated.\n",
      "Load successful >>>>> inst_id : 1, nchannels : 3.\n",
      "MW emissivity atlas loaded successfully\n"
     ]
    },
    {
     "name": "stdout",
     "output_type": "stream",
     "text": [
      "SELECTED OUTPUT\n",
      "MSU visible channel reflectances, channels 2-4\n",
      "Profile 0:\n",
      "  Ch #02 refl=247.813799\n",
      "  Ch #03 refl=225.185700\n",
      "  Ch #04 refl=212.868112\n"
     ]
    },
    {
     "name": "stderr",
     "output_type": "stream",
     "text": [
      "No surface emissivity/reflectance supplied: setting calcemis and calcrefl to true\n",
      "Deallocating this inst_id.\n",
      "Atlas deallocated.\n",
      "Load successful >>>>> inst_id : 1, nchannels : 3.\n"
     ]
    },
    {
     "name": "stdout",
     "output_type": "stream",
     "text": [
      "SELECTED OUTPUT\n",
      "MSU visible channel reflectances, channels 2-4\n",
      "Profile 0:\n",
      "  Ch #02 refl=241.987661\n",
      "  Ch #03 refl=221.029885\n",
      "  Ch #04 refl=208.535295\n"
     ]
    },
    {
     "name": "stderr",
     "output_type": "stream",
     "text": [
      "MW emissivity atlas loaded successfully\n",
      "No surface emissivity/reflectance supplied: setting calcemis and calcrefl to true\n",
      "Deallocating this inst_id.\n",
      "Atlas deallocated.\n",
      "Load successful >>>>> inst_id : 1, nchannels : 3.\n"
     ]
    },
    {
     "name": "stdout",
     "output_type": "stream",
     "text": [
      "SELECTED OUTPUT\n",
      "MSU visible channel reflectances, channels 2-4\n",
      "Profile 0:\n",
      "  Ch #02 refl=243.033615\n",
      "  Ch #03 refl=223.630281\n",
      "  Ch #04 refl=213.853653\n"
     ]
    },
    {
     "name": "stderr",
     "output_type": "stream",
     "text": [
      "MW emissivity atlas loaded successfully\n",
      "No surface emissivity/reflectance supplied: setting calcemis and calcrefl to true\n",
      "Deallocating this inst_id.\n",
      "Atlas deallocated.\n",
      "Load successful >>>>> inst_id : 1, nchannels : 3.\n"
     ]
    },
    {
     "name": "stdout",
     "output_type": "stream",
     "text": [
      "SELECTED OUTPUT\n",
      "MSU visible channel reflectances, channels 2-4\n",
      "Profile 0:\n",
      "  Ch #02 refl=240.821990\n",
      "  Ch #03 refl=222.004036\n",
      "  Ch #04 refl=213.178828\n"
     ]
    },
    {
     "name": "stderr",
     "output_type": "stream",
     "text": [
      "MW emissivity atlas loaded successfully\n",
      "No surface emissivity/reflectance supplied: setting calcemis and calcrefl to true\n",
      "Deallocating this inst_id.\n",
      "Atlas deallocated.\n",
      "Load successful >>>>> inst_id : 1, nchannels : 3.\n"
     ]
    },
    {
     "name": "stdout",
     "output_type": "stream",
     "text": [
      "SELECTED OUTPUT\n",
      "MSU visible channel reflectances, channels 2-4\n",
      "Profile 0:\n",
      "  Ch #02 refl=243.756657\n",
      "  Ch #03 refl=224.242780\n",
      "  Ch #04 refl=216.171624\n"
     ]
    },
    {
     "name": "stderr",
     "output_type": "stream",
     "text": [
      "MW emissivity atlas loaded successfully\n",
      "No surface emissivity/reflectance supplied: setting calcemis and calcrefl to true\n",
      "Deallocating this inst_id.\n",
      "Atlas deallocated.\n",
      "Load successful >>>>> inst_id : 1, nchannels : 3.\n"
     ]
    },
    {
     "name": "stdout",
     "output_type": "stream",
     "text": [
      "SELECTED OUTPUT\n",
      "MSU visible channel reflectances, channels 2-4\n",
      "Profile 0:\n",
      "  Ch #02 refl=248.013482\n",
      "  Ch #03 refl=226.370234\n",
      "  Ch #04 refl=217.917092\n"
     ]
    },
    {
     "name": "stderr",
     "output_type": "stream",
     "text": [
      "MW emissivity atlas loaded successfully\n",
      "No surface emissivity/reflectance supplied: setting calcemis and calcrefl to true\n",
      "Deallocating this inst_id.\n",
      "Atlas deallocated.\n",
      "Load successful >>>>> inst_id : 1, nchannels : 3.\n"
     ]
    },
    {
     "name": "stdout",
     "output_type": "stream",
     "text": [
      "SELECTED OUTPUT\n",
      "MSU visible channel reflectances, channels 2-4\n",
      "Profile 0:\n",
      "  Ch #02 refl=250.421467\n",
      "  Ch #03 refl=229.386035\n",
      "  Ch #04 refl=218.900028\n"
     ]
    },
    {
     "name": "stderr",
     "output_type": "stream",
     "text": [
      "MW emissivity atlas loaded successfully\n",
      "No surface emissivity/reflectance supplied: setting calcemis and calcrefl to true\n",
      "Deallocating this inst_id.\n",
      "Atlas deallocated.\n",
      "Load successful >>>>> inst_id : 1, nchannels : 3.\n"
     ]
    },
    {
     "name": "stdout",
     "output_type": "stream",
     "text": [
      "SELECTED OUTPUT\n",
      "MSU visible channel reflectances, channels 2-4\n",
      "Profile 0:\n",
      "  Ch #02 refl=252.694613\n",
      "  Ch #03 refl=230.136765\n",
      "  Ch #04 refl=219.590742\n"
     ]
    },
    {
     "name": "stderr",
     "output_type": "stream",
     "text": [
      "MW emissivity atlas loaded successfully\n",
      "No surface emissivity/reflectance supplied: setting calcemis and calcrefl to true\n",
      "Deallocating this inst_id.\n",
      "Atlas deallocated.\n",
      "Load successful >>>>> inst_id : 1, nchannels : 3.\n"
     ]
    },
    {
     "name": "stdout",
     "output_type": "stream",
     "text": [
      "SELECTED OUTPUT\n",
      "MSU visible channel reflectances, channels 2-4\n",
      "Profile 0:\n",
      "  Ch #02 refl=255.123746\n",
      "  Ch #03 refl=231.160161\n",
      "  Ch #04 refl=220.037930\n"
     ]
    },
    {
     "name": "stderr",
     "output_type": "stream",
     "text": [
      "MW emissivity atlas loaded successfully\n",
      "No surface emissivity/reflectance supplied: setting calcemis and calcrefl to true\n",
      "Deallocating this inst_id.\n",
      "Atlas deallocated.\n",
      "Load successful >>>>> inst_id : 1, nchannels : 3.\n"
     ]
    },
    {
     "name": "stdout",
     "output_type": "stream",
     "text": [
      "SELECTED OUTPUT\n",
      "MSU visible channel reflectances, channels 2-4\n",
      "Profile 0:\n",
      "  Ch #02 refl=254.986429\n",
      "  Ch #03 refl=230.875470\n",
      "  Ch #04 refl=218.889923\n"
     ]
    },
    {
     "name": "stderr",
     "output_type": "stream",
     "text": [
      "MW emissivity atlas loaded successfully\n",
      "No surface emissivity/reflectance supplied: setting calcemis and calcrefl to true\n",
      "Deallocating this inst_id.\n",
      "Atlas deallocated.\n",
      "Load successful >>>>> inst_id : 1, nchannels : 3.\n"
     ]
    },
    {
     "name": "stdout",
     "output_type": "stream",
     "text": [
      "SELECTED OUTPUT\n",
      "MSU visible channel reflectances, channels 2-4\n",
      "Profile 0:\n",
      "  Ch #02 refl=251.776697\n",
      "  Ch #03 refl=228.748592\n",
      "  Ch #04 refl=217.338528\n"
     ]
    },
    {
     "name": "stderr",
     "output_type": "stream",
     "text": [
      "MW emissivity atlas loaded successfully\n",
      "No surface emissivity/reflectance supplied: setting calcemis and calcrefl to true\n",
      "Deallocating this inst_id.\n",
      "Atlas deallocated.\n",
      "Load successful >>>>> inst_id : 1, nchannels : 3.\n"
     ]
    },
    {
     "name": "stdout",
     "output_type": "stream",
     "text": [
      "SELECTED OUTPUT\n",
      "MSU visible channel reflectances, channels 2-4\n",
      "Profile 0:\n",
      "  Ch #02 refl=250.129711\n",
      "  Ch #03 refl=226.278681\n",
      "  Ch #04 refl=212.908687\n"
     ]
    },
    {
     "name": "stderr",
     "output_type": "stream",
     "text": [
      "MW emissivity atlas loaded successfully\n",
      "No surface emissivity/reflectance supplied: setting calcemis and calcrefl to true\n",
      "Deallocating this inst_id.\n",
      "Atlas deallocated.\n",
      "Load successful >>>>> inst_id : 1, nchannels : 3.\n"
     ]
    },
    {
     "name": "stdout",
     "output_type": "stream",
     "text": [
      "SELECTED OUTPUT\n",
      "MSU visible channel reflectances, channels 2-4\n",
      "Profile 0:\n",
      "  Ch #02 refl=247.012871\n",
      "  Ch #03 refl=225.245048\n",
      "  Ch #04 refl=213.156307\n"
     ]
    },
    {
     "name": "stderr",
     "output_type": "stream",
     "text": [
      "MW emissivity atlas loaded successfully\n",
      "No surface emissivity/reflectance supplied: setting calcemis and calcrefl to true\n",
      "Deallocating this inst_id.\n",
      "Atlas deallocated.\n",
      "Load successful >>>>> inst_id : 1, nchannels : 3.\n"
     ]
    },
    {
     "name": "stdout",
     "output_type": "stream",
     "text": [
      "SELECTED OUTPUT\n",
      "MSU visible channel reflectances, channels 2-4\n",
      "Profile 0:\n",
      "  Ch #02 refl=245.463965\n",
      "  Ch #03 refl=223.537178\n",
      "  Ch #04 refl=212.082233\n"
     ]
    },
    {
     "name": "stderr",
     "output_type": "stream",
     "text": [
      "MW emissivity atlas loaded successfully\n",
      "No surface emissivity/reflectance supplied: setting calcemis and calcrefl to true\n",
      "Deallocating this inst_id.\n",
      "Atlas deallocated.\n",
      "Load successful >>>>> inst_id : 1, nchannels : 3.\n"
     ]
    },
    {
     "name": "stdout",
     "output_type": "stream",
     "text": [
      "SELECTED OUTPUT\n",
      "MSU visible channel reflectances, channels 2-4\n",
      "Profile 0:\n",
      "  Ch #02 refl=244.309395\n",
      "  Ch #03 refl=223.585615\n",
      "  Ch #04 refl=215.542077\n"
     ]
    },
    {
     "name": "stderr",
     "output_type": "stream",
     "text": [
      "MW emissivity atlas loaded successfully\n",
      "No surface emissivity/reflectance supplied: setting calcemis and calcrefl to true\n",
      "Deallocating this inst_id.\n",
      "Atlas deallocated.\n",
      "Load successful >>>>> inst_id : 1, nchannels : 3.\n"
     ]
    },
    {
     "name": "stdout",
     "output_type": "stream",
     "text": [
      "SELECTED OUTPUT\n",
      "MSU visible channel reflectances, channels 2-4\n",
      "Profile 0:\n",
      "  Ch #02 refl=245.243831\n",
      "  Ch #03 refl=225.408658\n",
      "  Ch #04 refl=218.177701\n"
     ]
    },
    {
     "name": "stderr",
     "output_type": "stream",
     "text": [
      "MW emissivity atlas loaded successfully\n",
      "No surface emissivity/reflectance supplied: setting calcemis and calcrefl to true\n",
      "Deallocating this inst_id.\n",
      "Atlas deallocated.\n",
      "Load successful >>>>> inst_id : 1, nchannels : 3.\n"
     ]
    },
    {
     "name": "stdout",
     "output_type": "stream",
     "text": [
      "SELECTED OUTPUT\n",
      "MSU visible channel reflectances, channels 2-4\n",
      "Profile 0:\n",
      "  Ch #02 refl=245.876632\n",
      "  Ch #03 refl=223.836953\n",
      "  Ch #04 refl=212.783599\n"
     ]
    },
    {
     "name": "stderr",
     "output_type": "stream",
     "text": [
      "MW emissivity atlas loaded successfully\n",
      "No surface emissivity/reflectance supplied: setting calcemis and calcrefl to true\n",
      "Deallocating this inst_id.\n",
      "Atlas deallocated.\n",
      "Load successful >>>>> inst_id : 1, nchannels : 3.\n"
     ]
    },
    {
     "name": "stdout",
     "output_type": "stream",
     "text": [
      "SELECTED OUTPUT\n",
      "MSU visible channel reflectances, channels 2-4\n",
      "Profile 0:\n",
      "  Ch #02 refl=247.724833\n",
      "  Ch #03 refl=226.485242\n",
      "  Ch #04 refl=217.663938\n"
     ]
    },
    {
     "name": "stderr",
     "output_type": "stream",
     "text": [
      "MW emissivity atlas loaded successfully\n",
      "No surface emissivity/reflectance supplied: setting calcemis and calcrefl to true\n",
      "Deallocating this inst_id.\n",
      "Atlas deallocated.\n",
      "Load successful >>>>> inst_id : 1, nchannels : 3.\n"
     ]
    },
    {
     "name": "stdout",
     "output_type": "stream",
     "text": [
      "SELECTED OUTPUT\n",
      "MSU visible channel reflectances, channels 2-4\n",
      "Profile 0:\n",
      "  Ch #02 refl=249.538065\n",
      "  Ch #03 refl=227.447713\n",
      "  Ch #04 refl=218.106918\n"
     ]
    },
    {
     "name": "stderr",
     "output_type": "stream",
     "text": [
      "MW emissivity atlas loaded successfully\n",
      "No surface emissivity/reflectance supplied: setting calcemis and calcrefl to true\n",
      "Deallocating this inst_id.\n",
      "Atlas deallocated.\n",
      "Load successful >>>>> inst_id : 1, nchannels : 3.\n"
     ]
    },
    {
     "name": "stdout",
     "output_type": "stream",
     "text": [
      "SELECTED OUTPUT\n",
      "MSU visible channel reflectances, channels 2-4\n",
      "Profile 0:\n",
      "  Ch #02 refl=252.430637\n",
      "  Ch #03 refl=229.387503\n",
      "  Ch #04 refl=220.242623\n"
     ]
    },
    {
     "name": "stderr",
     "output_type": "stream",
     "text": [
      "MW emissivity atlas loaded successfully\n",
      "No surface emissivity/reflectance supplied: setting calcemis and calcrefl to true\n",
      "Deallocating this inst_id.\n",
      "Atlas deallocated.\n",
      "Load successful >>>>> inst_id : 1, nchannels : 3.\n"
     ]
    },
    {
     "name": "stdout",
     "output_type": "stream",
     "text": [
      "SELECTED OUTPUT\n",
      "MSU visible channel reflectances, channels 2-4\n",
      "Profile 0:\n",
      "  Ch #02 refl=254.819228\n",
      "  Ch #03 refl=231.099716\n",
      "  Ch #04 refl=220.121106\n"
     ]
    },
    {
     "name": "stderr",
     "output_type": "stream",
     "text": [
      "MW emissivity atlas loaded successfully\n",
      "No surface emissivity/reflectance supplied: setting calcemis and calcrefl to true\n",
      "Deallocating this inst_id.\n",
      "Atlas deallocated.\n",
      "Load successful >>>>> inst_id : 1, nchannels : 3.\n"
     ]
    },
    {
     "name": "stdout",
     "output_type": "stream",
     "text": [
      "SELECTED OUTPUT\n",
      "MSU visible channel reflectances, channels 2-4\n",
      "Profile 0:\n",
      "  Ch #02 refl=253.738102\n",
      "  Ch #03 refl=230.710360\n",
      "  Ch #04 refl=220.141174\n"
     ]
    },
    {
     "name": "stderr",
     "output_type": "stream",
     "text": [
      "MW emissivity atlas loaded successfully\n",
      "No surface emissivity/reflectance supplied: setting calcemis and calcrefl to true\n",
      "Deallocating this inst_id.\n",
      "Atlas deallocated.\n",
      "Load successful >>>>> inst_id : 1, nchannels : 3.\n"
     ]
    },
    {
     "name": "stdout",
     "output_type": "stream",
     "text": [
      "SELECTED OUTPUT\n",
      "MSU visible channel reflectances, channels 2-4\n",
      "Profile 0:\n",
      "  Ch #02 refl=252.307948\n",
      "  Ch #03 refl=228.632463\n",
      "  Ch #04 refl=215.781527\n"
     ]
    },
    {
     "name": "stderr",
     "output_type": "stream",
     "text": [
      "MW emissivity atlas loaded successfully\n",
      "No surface emissivity/reflectance supplied: setting calcemis and calcrefl to true\n",
      "Error running RTTOV direct model: Error in rttov_call_directDeallocating this inst_id.\n",
      "Atlas deallocated.\n",
      "Load successful >>>>> inst_id : 1, nchannels : 3.\n",
      "MW emissivity atlas loaded successfully\n",
      "No surface emissivity/reflectance supplied: setting calcemis and calcrefl to true\n",
      "Deallocating this inst_id.\n",
      "Atlas deallocated.\n",
      "Load successful >>>>> inst_id : 1, nchannels : 3.\n"
     ]
    },
    {
     "name": "stdout",
     "output_type": "stream",
     "text": [
      "SELECTED OUTPUT\n",
      "MSU visible channel reflectances, channels 2-4\n",
      "Profile 0:\n",
      "  Ch #02 refl=247.812842\n",
      "  Ch #03 refl=224.399920\n",
      "  Ch #04 refl=210.522485\n"
     ]
    },
    {
     "name": "stderr",
     "output_type": "stream",
     "text": [
      "MW emissivity atlas loaded successfully\n",
      "No surface emissivity/reflectance supplied: setting calcemis and calcrefl to true\n",
      "Deallocating this inst_id.\n",
      "Atlas deallocated.\n",
      "Load successful >>>>> inst_id : 1, nchannels : 3.\n"
     ]
    },
    {
     "name": "stdout",
     "output_type": "stream",
     "text": [
      "SELECTED OUTPUT\n",
      "MSU visible channel reflectances, channels 2-4\n",
      "Profile 0:\n",
      "  Ch #02 refl=244.516952\n",
      "  Ch #03 refl=223.682396\n",
      "  Ch #04 refl=212.208044\n"
     ]
    },
    {
     "name": "stderr",
     "output_type": "stream",
     "text": [
      "MW emissivity atlas loaded successfully\n",
      "No surface emissivity/reflectance supplied: setting calcemis and calcrefl to true\n",
      "Deallocating this inst_id.\n",
      "Atlas deallocated.\n",
      "Load successful >>>>> inst_id : 1, nchannels : 3.\n"
     ]
    },
    {
     "name": "stdout",
     "output_type": "stream",
     "text": [
      "SELECTED OUTPUT\n",
      "MSU visible channel reflectances, channels 2-4\n",
      "Profile 0:\n",
      "  Ch #02 refl=243.897289\n",
      "  Ch #03 refl=224.495937\n",
      "  Ch #04 refl=217.036029\n"
     ]
    },
    {
     "name": "stderr",
     "output_type": "stream",
     "text": [
      "MW emissivity atlas loaded successfully\n",
      "No surface emissivity/reflectance supplied: setting calcemis and calcrefl to true\n",
      "Deallocating this inst_id.\n",
      "Atlas deallocated.\n",
      "Load successful >>>>> inst_id : 1, nchannels : 3.\n",
      "MW emissivity atlas loaded successfully\n"
     ]
    },
    {
     "name": "stdout",
     "output_type": "stream",
     "text": [
      "SELECTED OUTPUT\n",
      "MSU visible channel reflectances, channels 2-4\n",
      "Profile 0:\n",
      "  Ch #02 refl=243.407905\n",
      "  Ch #03 refl=223.445092\n",
      "  Ch #04 refl=214.059819\n"
     ]
    },
    {
     "name": "stderr",
     "output_type": "stream",
     "text": [
      "No surface emissivity/reflectance supplied: setting calcemis and calcrefl to true\n",
      "Deallocating this inst_id.\n",
      "Atlas deallocated.\n",
      "Load successful >>>>> inst_id : 1, nchannels : 3.\n"
     ]
    },
    {
     "name": "stdout",
     "output_type": "stream",
     "text": [
      "SELECTED OUTPUT\n",
      "MSU visible channel reflectances, channels 2-4\n",
      "Profile 0:\n",
      "  Ch #02 refl=245.291929\n",
      "  Ch #03 refl=225.464070\n",
      "  Ch #04 refl=216.116883\n"
     ]
    },
    {
     "name": "stderr",
     "output_type": "stream",
     "text": [
      "MW emissivity atlas loaded successfully\n",
      "No surface emissivity/reflectance supplied: setting calcemis and calcrefl to true\n",
      "Deallocating this inst_id.\n",
      "Atlas deallocated.\n",
      "Load successful >>>>> inst_id : 1, nchannels : 3.\n"
     ]
    },
    {
     "name": "stdout",
     "output_type": "stream",
     "text": [
      "SELECTED OUTPUT\n",
      "MSU visible channel reflectances, channels 2-4\n",
      "Profile 0:\n",
      "  Ch #02 refl=246.322588\n",
      "  Ch #03 refl=224.459452\n",
      "  Ch #04 refl=214.659354\n"
     ]
    },
    {
     "name": "stderr",
     "output_type": "stream",
     "text": [
      "MW emissivity atlas loaded successfully\n",
      "No surface emissivity/reflectance supplied: setting calcemis and calcrefl to true\n",
      "Deallocating this inst_id.\n",
      "Atlas deallocated.\n",
      "Load successful >>>>> inst_id : 1, nchannels : 3.\n"
     ]
    },
    {
     "name": "stdout",
     "output_type": "stream",
     "text": [
      "SELECTED OUTPUT\n",
      "MSU visible channel reflectances, channels 2-4\n",
      "Profile 0:\n",
      "  Ch #02 refl=250.741186\n",
      "  Ch #03 refl=227.790403\n",
      "  Ch #04 refl=217.938584\n"
     ]
    },
    {
     "name": "stderr",
     "output_type": "stream",
     "text": [
      "MW emissivity atlas loaded successfully\n",
      "No surface emissivity/reflectance supplied: setting calcemis and calcrefl to true\n",
      "Deallocating this inst_id.\n",
      "Atlas deallocated.\n"
     ]
    },
    {
     "name": "stdout",
     "output_type": "stream",
     "text": [
      "SELECTED OUTPUT\n",
      "MSU visible channel reflectances, channels 2-4\n",
      "Profile 0:\n",
      "  Ch #02 refl=253.341686\n",
      "  Ch #03 refl=229.961251\n",
      "  Ch #04 refl=219.754646\n"
     ]
    },
    {
     "name": "stderr",
     "output_type": "stream",
     "text": [
      "Load successful >>>>> inst_id : 1, nchannels : 3.\n",
      "MW emissivity atlas loaded successfully\n",
      "No surface emissivity/reflectance supplied: setting calcemis and calcrefl to true\n",
      "Deallocating this inst_id.\n",
      "Atlas deallocated.\n"
     ]
    },
    {
     "name": "stdout",
     "output_type": "stream",
     "text": [
      "SELECTED OUTPUT\n",
      "MSU visible channel reflectances, channels 2-4\n",
      "Profile 0:\n",
      "  Ch #02 refl=256.704228\n",
      "  Ch #03 refl=229.325736\n",
      "  Ch #04 refl=219.008846\n"
     ]
    },
    {
     "name": "stderr",
     "output_type": "stream",
     "text": [
      "Load successful >>>>> inst_id : 1, nchannels : 3.\n",
      "MW emissivity atlas loaded successfully\n",
      "No surface emissivity/reflectance supplied: setting calcemis and calcrefl to true\n",
      "Deallocating this inst_id.\n",
      "Atlas deallocated.\n",
      "Load successful >>>>> inst_id : 1, nchannels : 3.\n"
     ]
    },
    {
     "name": "stdout",
     "output_type": "stream",
     "text": [
      "SELECTED OUTPUT\n",
      "MSU visible channel reflectances, channels 2-4\n",
      "Profile 0:\n",
      "  Ch #02 refl=256.434310\n",
      "  Ch #03 refl=228.532187\n",
      "  Ch #04 refl=218.814543\n"
     ]
    },
    {
     "name": "stderr",
     "output_type": "stream",
     "text": [
      "MW emissivity atlas loaded successfully\n",
      "No surface emissivity/reflectance supplied: setting calcemis and calcrefl to true\n",
      "Deallocating this inst_id.\n",
      "Atlas deallocated.\n",
      "Load successful >>>>> inst_id : 1, nchannels : 3.\n"
     ]
    },
    {
     "name": "stdout",
     "output_type": "stream",
     "text": [
      "SELECTED OUTPUT\n",
      "MSU visible channel reflectances, channels 2-4\n",
      "Profile 0:\n",
      "  Ch #02 refl=253.583340\n",
      "  Ch #03 refl=229.736281\n",
      "  Ch #04 refl=217.621192\n"
     ]
    },
    {
     "name": "stderr",
     "output_type": "stream",
     "text": [
      "MW emissivity atlas loaded successfully\n",
      "No surface emissivity/reflectance supplied: setting calcemis and calcrefl to true\n",
      "Deallocating this inst_id.\n",
      "Atlas deallocated.\n",
      "Load successful >>>>> inst_id : 1, nchannels : 3.\n"
     ]
    },
    {
     "name": "stdout",
     "output_type": "stream",
     "text": [
      "SELECTED OUTPUT\n",
      "MSU visible channel reflectances, channels 2-4\n",
      "Profile 0:\n",
      "  Ch #02 refl=249.940215\n",
      "  Ch #03 refl=226.931985\n",
      "  Ch #04 refl=214.374831\n"
     ]
    },
    {
     "name": "stderr",
     "output_type": "stream",
     "text": [
      "MW emissivity atlas loaded successfully\n",
      "No surface emissivity/reflectance supplied: setting calcemis and calcrefl to true\n",
      "Deallocating this inst_id.\n",
      "Atlas deallocated.\n"
     ]
    },
    {
     "name": "stdout",
     "output_type": "stream",
     "text": [
      "SELECTED OUTPUT\n",
      "MSU visible channel reflectances, channels 2-4\n",
      "Profile 0:\n",
      "  Ch #02 refl=246.704108\n",
      "  Ch #03 refl=222.155112\n",
      "  Ch #04 refl=211.916258\n"
     ]
    },
    {
     "name": "stderr",
     "output_type": "stream",
     "text": [
      "Load successful >>>>> inst_id : 1, nchannels : 3.\n",
      "MW emissivity atlas loaded successfully\n",
      "No surface emissivity/reflectance supplied: setting calcemis and calcrefl to true\n",
      "Deallocating this inst_id.\n",
      "Atlas deallocated.\n"
     ]
    },
    {
     "name": "stdout",
     "output_type": "stream",
     "text": [
      "SELECTED OUTPUT\n",
      "MSU visible channel reflectances, channels 2-4\n",
      "Profile 0:\n",
      "  Ch #02 refl=246.916636\n",
      "  Ch #03 refl=220.599595\n",
      "  Ch #04 refl=209.211328\n"
     ]
    },
    {
     "name": "stderr",
     "output_type": "stream",
     "text": [
      "Load successful >>>>> inst_id : 1, nchannels : 3.\n",
      "MW emissivity atlas loaded successfully\n",
      "No surface emissivity/reflectance supplied: setting calcemis and calcrefl to true\n",
      "Deallocating this inst_id.\n",
      "Atlas deallocated.\n",
      "Load successful >>>>> inst_id : 1, nchannels : 3.\n"
     ]
    },
    {
     "name": "stdout",
     "output_type": "stream",
     "text": [
      "SELECTED OUTPUT\n",
      "MSU visible channel reflectances, channels 2-4\n",
      "Profile 0:\n",
      "  Ch #02 refl=242.251897\n",
      "  Ch #03 refl=221.270551\n",
      "  Ch #04 refl=216.589384\n"
     ]
    },
    {
     "name": "stderr",
     "output_type": "stream",
     "text": [
      "MW emissivity atlas loaded successfully\n",
      "No surface emissivity/reflectance supplied: setting calcemis and calcrefl to true\n",
      "Deallocating this inst_id.\n",
      "Atlas deallocated.\n",
      "Load successful >>>>> inst_id : 1, nchannels : 3.\n"
     ]
    },
    {
     "name": "stdout",
     "output_type": "stream",
     "text": [
      "SELECTED OUTPUT\n",
      "MSU visible channel reflectances, channels 2-4\n",
      "Profile 0:\n",
      "  Ch #02 refl=244.376818\n",
      "  Ch #03 refl=223.400428\n",
      "  Ch #04 refl=213.167184\n"
     ]
    },
    {
     "name": "stderr",
     "output_type": "stream",
     "text": [
      "MW emissivity atlas loaded successfully\n",
      "No surface emissivity/reflectance supplied: setting calcemis and calcrefl to true\n",
      "Deallocating this inst_id.\n",
      "Atlas deallocated.\n",
      "Load successful >>>>> inst_id : 1, nchannels : 3.\n"
     ]
    },
    {
     "name": "stdout",
     "output_type": "stream",
     "text": [
      "SELECTED OUTPUT\n",
      "MSU visible channel reflectances, channels 2-4\n",
      "Profile 0:\n",
      "  Ch #02 refl=244.209955\n",
      "  Ch #03 refl=223.409197\n",
      "  Ch #04 refl=214.464410\n"
     ]
    },
    {
     "name": "stderr",
     "output_type": "stream",
     "text": [
      "MW emissivity atlas loaded successfully\n",
      "No surface emissivity/reflectance supplied: setting calcemis and calcrefl to true\n",
      "Deallocating this inst_id.\n",
      "Atlas deallocated.\n",
      "Load successful >>>>> inst_id : 1, nchannels : 3.\n"
     ]
    },
    {
     "name": "stdout",
     "output_type": "stream",
     "text": [
      "SELECTED OUTPUT\n",
      "MSU visible channel reflectances, channels 2-4\n",
      "Profile 0:\n",
      "  Ch #02 refl=247.775600\n",
      "  Ch #03 refl=226.604702\n",
      "  Ch #04 refl=218.521707\n"
     ]
    },
    {
     "name": "stderr",
     "output_type": "stream",
     "text": [
      "MW emissivity atlas loaded successfully\n",
      "No surface emissivity/reflectance supplied: setting calcemis and calcrefl to true\n",
      "Deallocating this inst_id.\n",
      "Atlas deallocated.\n",
      "Load successful >>>>> inst_id : 1, nchannels : 3.\n"
     ]
    },
    {
     "name": "stdout",
     "output_type": "stream",
     "text": [
      "SELECTED OUTPUT\n",
      "MSU visible channel reflectances, channels 2-4\n",
      "Profile 0:\n",
      "  Ch #02 refl=250.036173\n",
      "  Ch #03 refl=227.846241\n",
      "  Ch #04 refl=219.302994\n"
     ]
    },
    {
     "name": "stderr",
     "output_type": "stream",
     "text": [
      "MW emissivity atlas loaded successfully\n",
      "No surface emissivity/reflectance supplied: setting calcemis and calcrefl to true\n",
      "Deallocating this inst_id.\n",
      "Atlas deallocated.\n",
      "Load successful >>>>> inst_id : 1, nchannels : 3.\n"
     ]
    },
    {
     "name": "stdout",
     "output_type": "stream",
     "text": [
      "SELECTED OUTPUT\n",
      "MSU visible channel reflectances, channels 2-4\n",
      "Profile 0:\n",
      "  Ch #02 refl=253.441256\n",
      "  Ch #03 refl=229.914999\n",
      "  Ch #04 refl=219.198852\n"
     ]
    },
    {
     "name": "stderr",
     "output_type": "stream",
     "text": [
      "MW emissivity atlas loaded successfully\n",
      "No surface emissivity/reflectance supplied: setting calcemis and calcrefl to true\n",
      "Deallocating this inst_id.\n",
      "Atlas deallocated.\n",
      "Load successful >>>>> inst_id : 1, nchannels : 3.\n"
     ]
    },
    {
     "name": "stdout",
     "output_type": "stream",
     "text": [
      "SELECTED OUTPUT\n",
      "MSU visible channel reflectances, channels 2-4\n",
      "Profile 0:\n",
      "  Ch #02 refl=255.467335\n",
      "  Ch #03 refl=231.512306\n",
      "  Ch #04 refl=219.351398\n"
     ]
    },
    {
     "name": "stderr",
     "output_type": "stream",
     "text": [
      "MW emissivity atlas loaded successfully\n",
      "No surface emissivity/reflectance supplied: setting calcemis and calcrefl to true\n",
      "Deallocating this inst_id.\n",
      "Atlas deallocated.\n",
      "Load successful >>>>> inst_id : 1, nchannels : 3.\n"
     ]
    },
    {
     "name": "stdout",
     "output_type": "stream",
     "text": [
      "SELECTED OUTPUT\n",
      "MSU visible channel reflectances, channels 2-4\n",
      "Profile 0:\n",
      "  Ch #02 refl=255.041294\n",
      "  Ch #03 refl=231.017707\n",
      "  Ch #04 refl=219.110652\n"
     ]
    },
    {
     "name": "stderr",
     "output_type": "stream",
     "text": [
      "MW emissivity atlas loaded successfully\n",
      "No surface emissivity/reflectance supplied: setting calcemis and calcrefl to true\n",
      "Deallocating this inst_id.\n",
      "Atlas deallocated.\n",
      "Load successful >>>>> inst_id : 1, nchannels : 3.\n"
     ]
    },
    {
     "name": "stdout",
     "output_type": "stream",
     "text": [
      "SELECTED OUTPUT\n",
      "MSU visible channel reflectances, channels 2-4\n",
      "Profile 0:\n",
      "  Ch #02 refl=253.478898\n",
      "  Ch #03 refl=228.778804\n",
      "  Ch #04 refl=216.245760\n"
     ]
    },
    {
     "name": "stderr",
     "output_type": "stream",
     "text": [
      "MW emissivity atlas loaded successfully\n",
      "No surface emissivity/reflectance supplied: setting calcemis and calcrefl to true\n",
      "Deallocating this inst_id.\n",
      "Atlas deallocated.\n",
      "Load successful >>>>> inst_id : 1, nchannels : 3.\n",
      "MW emissivity atlas loaded successfully\n",
      "No surface emissivity/reflectance supplied: setting calcemis and calcrefl to true\n"
     ]
    },
    {
     "name": "stdout",
     "output_type": "stream",
     "text": [
      "SELECTED OUTPUT\n",
      "MSU visible channel reflectances, channels 2-4\n",
      "Profile 0:\n",
      "  Ch #02 refl=248.181908\n",
      "  Ch #03 refl=226.325547\n",
      "  Ch #04 refl=214.301236\n",
      "SELECTED OUTPUT\n",
      "MSU visible channel reflectances, channels 2-4\n",
      "Profile 0:\n",
      "  Ch #02 refl=245.931463\n",
      "  Ch #03 refl=223.607912\n",
      "  Ch #04 refl=210.854110\n"
     ]
    },
    {
     "name": "stderr",
     "output_type": "stream",
     "text": [
      "Deallocating this inst_id.\n",
      "Atlas deallocated.\n",
      "Load successful >>>>> inst_id : 1, nchannels : 3.\n",
      "MW emissivity atlas loaded successfully\n",
      "No surface emissivity/reflectance supplied: setting calcemis and calcrefl to true\n",
      "Deallocating this inst_id.\n",
      "Atlas deallocated.\n",
      "Load successful >>>>> inst_id : 1, nchannels : 3.\n"
     ]
    },
    {
     "name": "stdout",
     "output_type": "stream",
     "text": [
      "SELECTED OUTPUT\n",
      "MSU visible channel reflectances, channels 2-4\n",
      "Profile 0:\n",
      "  Ch #02 refl=244.489176\n",
      "  Ch #03 refl=222.154267\n",
      "  Ch #04 refl=210.712562\n"
     ]
    },
    {
     "name": "stderr",
     "output_type": "stream",
     "text": [
      "MW emissivity atlas loaded successfully\n",
      "No surface emissivity/reflectance supplied: setting calcemis and calcrefl to true\n",
      "Deallocating this inst_id.\n",
      "Atlas deallocated.\n",
      "Load successful >>>>> inst_id : 1, nchannels : 3.\n"
     ]
    },
    {
     "name": "stdout",
     "output_type": "stream",
     "text": [
      "SELECTED OUTPUT\n",
      "MSU visible channel reflectances, channels 2-4\n",
      "Profile 0:\n",
      "  Ch #02 refl=241.437800\n",
      "  Ch #03 refl=222.596952\n",
      "  Ch #04 refl=214.748169\n"
     ]
    },
    {
     "name": "stderr",
     "output_type": "stream",
     "text": [
      "MW emissivity atlas loaded successfully\n",
      "No surface emissivity/reflectance supplied: setting calcemis and calcrefl to true\n",
      "Deallocating this inst_id.\n",
      "Atlas deallocated.\n",
      "Load successful >>>>> inst_id : 1, nchannels : 3.\n"
     ]
    },
    {
     "name": "stdout",
     "output_type": "stream",
     "text": [
      "SELECTED OUTPUT\n",
      "MSU visible channel reflectances, channels 2-4\n",
      "Profile 0:\n",
      "  Ch #02 refl=244.002743\n",
      "  Ch #03 refl=222.159839\n",
      "  Ch #04 refl=211.224284\n"
     ]
    },
    {
     "name": "stderr",
     "output_type": "stream",
     "text": [
      "MW emissivity atlas loaded successfully\n",
      "No surface emissivity/reflectance supplied: setting calcemis and calcrefl to true\n",
      "Deallocating this inst_id.\n",
      "Atlas deallocated.\n",
      "Load successful >>>>> inst_id : 1, nchannels : 3.\n"
     ]
    },
    {
     "name": "stdout",
     "output_type": "stream",
     "text": [
      "SELECTED OUTPUT\n",
      "MSU visible channel reflectances, channels 2-4\n",
      "Profile 0:\n",
      "  Ch #02 refl=245.558108\n",
      "  Ch #03 refl=223.345404\n",
      "  Ch #04 refl=213.252344\n"
     ]
    },
    {
     "name": "stderr",
     "output_type": "stream",
     "text": [
      "MW emissivity atlas loaded successfully\n",
      "No surface emissivity/reflectance supplied: setting calcemis and calcrefl to true\n",
      "Deallocating this inst_id.\n",
      "Atlas deallocated.\n",
      "Load successful >>>>> inst_id : 1, nchannels : 3.\n",
      "MW emissivity atlas loaded successfully\n"
     ]
    },
    {
     "name": "stdout",
     "output_type": "stream",
     "text": [
      "SELECTED OUTPUT\n",
      "MSU visible channel reflectances, channels 2-4\n",
      "Profile 0:\n",
      "  Ch #02 refl=246.016926\n",
      "  Ch #03 refl=224.509931\n",
      "  Ch #04 refl=215.572099\n"
     ]
    },
    {
     "name": "stderr",
     "output_type": "stream",
     "text": [
      "No surface emissivity/reflectance supplied: setting calcemis and calcrefl to true\n",
      "Deallocating this inst_id.\n",
      "Atlas deallocated.\n",
      "Load successful >>>>> inst_id : 1, nchannels : 3.\n"
     ]
    },
    {
     "name": "stdout",
     "output_type": "stream",
     "text": [
      "SELECTED OUTPUT\n",
      "MSU visible channel reflectances, channels 2-4\n",
      "Profile 0:\n",
      "  Ch #02 refl=250.513916\n",
      "  Ch #03 refl=227.227739\n",
      "  Ch #04 refl=217.519997\n"
     ]
    },
    {
     "name": "stderr",
     "output_type": "stream",
     "text": [
      "MW emissivity atlas loaded successfully\n",
      "No surface emissivity/reflectance supplied: setting calcemis and calcrefl to true\n",
      "Deallocating this inst_id.\n",
      "Atlas deallocated.\n",
      "Load successful >>>>> inst_id : 1, nchannels : 3.\n"
     ]
    },
    {
     "name": "stdout",
     "output_type": "stream",
     "text": [
      "SELECTED OUTPUT\n",
      "MSU visible channel reflectances, channels 2-4\n",
      "Profile 0:\n",
      "  Ch #02 refl=254.471899\n",
      "  Ch #03 refl=229.630202\n",
      "  Ch #04 refl=217.897071\n"
     ]
    },
    {
     "name": "stderr",
     "output_type": "stream",
     "text": [
      "MW emissivity atlas loaded successfully\n",
      "No surface emissivity/reflectance supplied: setting calcemis and calcrefl to true\n",
      "Deallocating this inst_id.\n",
      "Atlas deallocated.\n",
      "Load successful >>>>> inst_id : 1, nchannels : 3.\n"
     ]
    },
    {
     "name": "stdout",
     "output_type": "stream",
     "text": [
      "SELECTED OUTPUT\n",
      "MSU visible channel reflectances, channels 2-4\n",
      "Profile 0:\n",
      "  Ch #02 refl=254.832910\n",
      "  Ch #03 refl=231.081852\n",
      "  Ch #04 refl=219.784779\n"
     ]
    },
    {
     "name": "stderr",
     "output_type": "stream",
     "text": [
      "MW emissivity atlas loaded successfully\n",
      "No surface emissivity/reflectance supplied: setting calcemis and calcrefl to true\n",
      "Deallocating this inst_id.\n",
      "Atlas deallocated.\n",
      "Load successful >>>>> inst_id : 1, nchannels : 3.\n"
     ]
    },
    {
     "name": "stdout",
     "output_type": "stream",
     "text": [
      "SELECTED OUTPUT\n",
      "MSU visible channel reflectances, channels 2-4\n",
      "Profile 0:\n",
      "  Ch #02 refl=255.846102\n",
      "  Ch #03 refl=228.895036\n",
      "  Ch #04 refl=216.833291\n"
     ]
    },
    {
     "name": "stderr",
     "output_type": "stream",
     "text": [
      "MW emissivity atlas loaded successfully\n",
      "No surface emissivity/reflectance supplied: setting calcemis and calcrefl to true\n",
      "Deallocating this inst_id.\n",
      "Atlas deallocated.\n",
      "Load successful >>>>> inst_id : 1, nchannels : 3.\n",
      "MW emissivity atlas loaded successfully\n"
     ]
    },
    {
     "name": "stdout",
     "output_type": "stream",
     "text": [
      "SELECTED OUTPUT\n",
      "MSU visible channel reflectances, channels 2-4\n",
      "Profile 0:\n",
      "  Ch #02 refl=251.279541\n",
      "  Ch #03 refl=229.120573\n",
      "  Ch #04 refl=218.547592\n"
     ]
    },
    {
     "name": "stderr",
     "output_type": "stream",
     "text": [
      "No surface emissivity/reflectance supplied: setting calcemis and calcrefl to true\n",
      "Deallocating this inst_id.\n",
      "Atlas deallocated.\n",
      "Load successful >>>>> inst_id : 1, nchannels : 3.\n"
     ]
    },
    {
     "name": "stdout",
     "output_type": "stream",
     "text": [
      "SELECTED OUTPUT\n",
      "MSU visible channel reflectances, channels 2-4\n",
      "Profile 0:\n",
      "  Ch #02 refl=249.704881\n",
      "  Ch #03 refl=226.064893\n",
      "  Ch #04 refl=213.117627\n"
     ]
    },
    {
     "name": "stderr",
     "output_type": "stream",
     "text": [
      "MW emissivity atlas loaded successfully\n",
      "No surface emissivity/reflectance supplied: setting calcemis and calcrefl to true\n",
      "Deallocating this inst_id.\n",
      "Atlas deallocated.\n",
      "Load successful >>>>> inst_id : 1, nchannels : 3.\n"
     ]
    },
    {
     "name": "stdout",
     "output_type": "stream",
     "text": [
      "SELECTED OUTPUT\n",
      "MSU visible channel reflectances, channels 2-4\n",
      "Profile 0:\n",
      "  Ch #02 refl=245.675440\n",
      "  Ch #03 refl=223.857275\n",
      "  Ch #04 refl=212.939209\n"
     ]
    },
    {
     "name": "stderr",
     "output_type": "stream",
     "text": [
      "MW emissivity atlas loaded successfully\n",
      "No surface emissivity/reflectance supplied: setting calcemis and calcrefl to true\n",
      "Deallocating this inst_id.\n",
      "Atlas deallocated.\n",
      "Load successful >>>>> inst_id : 1, nchannels : 3.\n"
     ]
    },
    {
     "name": "stdout",
     "output_type": "stream",
     "text": [
      "SELECTED OUTPUT\n",
      "MSU visible channel reflectances, channels 2-4\n",
      "Profile 0:\n",
      "  Ch #02 refl=242.592897\n",
      "  Ch #03 refl=221.310945\n",
      "  Ch #04 refl=208.550935\n"
     ]
    },
    {
     "name": "stderr",
     "output_type": "stream",
     "text": [
      "MW emissivity atlas loaded successfully\n",
      "No surface emissivity/reflectance supplied: setting calcemis and calcrefl to true\n",
      "Deallocating this inst_id.\n",
      "Atlas deallocated.\n",
      "Load successful >>>>> inst_id : 1, nchannels : 3.\n"
     ]
    },
    {
     "name": "stdout",
     "output_type": "stream",
     "text": [
      "SELECTED OUTPUT\n",
      "MSU visible channel reflectances, channels 2-4\n",
      "Profile 0:\n",
      "  Ch #02 refl=244.308371\n",
      "  Ch #03 refl=223.548694\n",
      "  Ch #04 refl=213.940187\n"
     ]
    },
    {
     "name": "stderr",
     "output_type": "stream",
     "text": [
      "MW emissivity atlas loaded successfully\n",
      "No surface emissivity/reflectance supplied: setting calcemis and calcrefl to true\n",
      "Deallocating this inst_id.\n",
      "Atlas deallocated.\n",
      "Load successful >>>>> inst_id : 1, nchannels : 3.\n"
     ]
    },
    {
     "name": "stdout",
     "output_type": "stream",
     "text": [
      "SELECTED OUTPUT\n",
      "MSU visible channel reflectances, channels 2-4\n",
      "Profile 0:\n",
      "  Ch #02 refl=241.908312\n",
      "  Ch #03 refl=225.724931\n",
      "  Ch #04 refl=219.879444\n"
     ]
    },
    {
     "name": "stderr",
     "output_type": "stream",
     "text": [
      "MW emissivity atlas loaded successfully\n",
      "No surface emissivity/reflectance supplied: setting calcemis and calcrefl to true\n",
      "Deallocating this inst_id.\n",
      "Atlas deallocated.\n",
      "Load successful >>>>> inst_id : 1, nchannels : 3.\n",
      "MW emissivity atlas loaded successfully\n"
     ]
    },
    {
     "name": "stdout",
     "output_type": "stream",
     "text": [
      "SELECTED OUTPUT\n",
      "MSU visible channel reflectances, channels 2-4\n",
      "Profile 0:\n",
      "  Ch #02 refl=244.354414\n",
      "  Ch #03 refl=225.287013\n",
      "  Ch #04 refl=217.463987\n"
     ]
    },
    {
     "name": "stderr",
     "output_type": "stream",
     "text": [
      "No surface emissivity/reflectance supplied: setting calcemis and calcrefl to true\n",
      "Deallocating this inst_id.\n",
      "Atlas deallocated.\n",
      "Load successful >>>>> inst_id : 1, nchannels : 3.\n"
     ]
    },
    {
     "name": "stdout",
     "output_type": "stream",
     "text": [
      "SELECTED OUTPUT\n",
      "MSU visible channel reflectances, channels 2-4\n",
      "Profile 0:\n",
      "  Ch #02 refl=249.720467\n",
      "  Ch #03 refl=225.947620\n",
      "  Ch #04 refl=214.409895\n"
     ]
    },
    {
     "name": "stderr",
     "output_type": "stream",
     "text": [
      "MW emissivity atlas loaded successfully\n",
      "No surface emissivity/reflectance supplied: setting calcemis and calcrefl to true\n",
      "Deallocating this inst_id.\n",
      "Atlas deallocated.\n",
      "Load successful >>>>> inst_id : 1, nchannels : 3.\n"
     ]
    },
    {
     "name": "stdout",
     "output_type": "stream",
     "text": [
      "SELECTED OUTPUT\n",
      "MSU visible channel reflectances, channels 2-4\n",
      "Profile 0:\n",
      "  Ch #02 refl=251.664135\n",
      "  Ch #03 refl=228.121715\n",
      "  Ch #04 refl=217.375787\n"
     ]
    },
    {
     "name": "stderr",
     "output_type": "stream",
     "text": [
      "MW emissivity atlas loaded successfully\n",
      "No surface emissivity/reflectance supplied: setting calcemis and calcrefl to true\n",
      "Deallocating this inst_id.\n",
      "Atlas deallocated.\n",
      "Load successful >>>>> inst_id : 1, nchannels : 3.\n"
     ]
    },
    {
     "name": "stdout",
     "output_type": "stream",
     "text": [
      "SELECTED OUTPUT\n",
      "MSU visible channel reflectances, channels 2-4\n",
      "Profile 0:\n",
      "  Ch #02 refl=253.640189\n",
      "  Ch #03 refl=229.742886\n",
      "  Ch #04 refl=218.894351\n"
     ]
    },
    {
     "name": "stderr",
     "output_type": "stream",
     "text": [
      "MW emissivity atlas loaded successfully\n",
      "No surface emissivity/reflectance supplied: setting calcemis and calcrefl to true\n",
      "Deallocating this inst_id.\n",
      "Atlas deallocated.\n",
      "Load successful >>>>> inst_id : 1, nchannels : 3.\n"
     ]
    },
    {
     "name": "stdout",
     "output_type": "stream",
     "text": [
      "SELECTED OUTPUT\n",
      "MSU visible channel reflectances, channels 2-4\n",
      "Profile 0:\n",
      "  Ch #02 refl=255.237234\n",
      "  Ch #03 refl=231.780884\n",
      "  Ch #04 refl=220.248859\n"
     ]
    },
    {
     "name": "stderr",
     "output_type": "stream",
     "text": [
      "MW emissivity atlas loaded successfully\n",
      "No surface emissivity/reflectance supplied: setting calcemis and calcrefl to true\n",
      "Deallocating this inst_id.\n",
      "Atlas deallocated.\n",
      "Load successful >>>>> inst_id : 1, nchannels : 3.\n"
     ]
    },
    {
     "name": "stdout",
     "output_type": "stream",
     "text": [
      "SELECTED OUTPUT\n",
      "MSU visible channel reflectances, channels 2-4\n",
      "Profile 0:\n",
      "  Ch #02 refl=256.802173\n",
      "  Ch #03 refl=230.902803\n",
      "  Ch #04 refl=217.993512\n"
     ]
    },
    {
     "name": "stderr",
     "output_type": "stream",
     "text": [
      "MW emissivity atlas loaded successfully\n",
      "No surface emissivity/reflectance supplied: setting calcemis and calcrefl to true\n",
      "Deallocating this inst_id.\n",
      "Atlas deallocated.\n",
      "Load successful >>>>> inst_id : 1, nchannels : 3.\n",
      "MW emissivity atlas loaded successfully\n"
     ]
    },
    {
     "name": "stdout",
     "output_type": "stream",
     "text": [
      "SELECTED OUTPUT\n",
      "MSU visible channel reflectances, channels 2-4\n",
      "Profile 0:\n",
      "  Ch #02 refl=253.085670\n",
      "  Ch #03 refl=228.454835\n",
      "  Ch #04 refl=215.776403\n"
     ]
    },
    {
     "name": "stderr",
     "output_type": "stream",
     "text": [
      "No surface emissivity/reflectance supplied: setting calcemis and calcrefl to true\n",
      "Deallocating this inst_id.\n",
      "Atlas deallocated.\n",
      "Load successful >>>>> inst_id : 1, nchannels : 3.\n"
     ]
    },
    {
     "name": "stdout",
     "output_type": "stream",
     "text": [
      "SELECTED OUTPUT\n",
      "MSU visible channel reflectances, channels 2-4\n",
      "Profile 0:\n",
      "  Ch #02 refl=250.632001\n",
      "  Ch #03 refl=226.751478\n",
      "  Ch #04 refl=213.990764\n"
     ]
    },
    {
     "name": "stderr",
     "output_type": "stream",
     "text": [
      "MW emissivity atlas loaded successfully\n",
      "No surface emissivity/reflectance supplied: setting calcemis and calcrefl to true\n",
      "Deallocating this inst_id.\n",
      "Atlas deallocated.\n"
     ]
    },
    {
     "name": "stdout",
     "output_type": "stream",
     "text": [
      "SELECTED OUTPUT\n",
      "MSU visible channel reflectances, channels 2-4\n",
      "Profile 0:\n",
      "  Ch #02 refl=nan\n",
      "  Ch #03 refl=nan\n",
      "  Ch #04 refl=nan\n"
     ]
    },
    {
     "name": "stderr",
     "output_type": "stream",
     "text": [
      "Load successful >>>>> inst_id : 1, nchannels : 3.\n",
      "MW emissivity atlas loaded successfully\n",
      "No surface emissivity/reflectance supplied: setting calcemis and calcrefl to true\n",
      "Deallocating this inst_id.\n",
      "Atlas deallocated.\n",
      "Load successful >>>>> inst_id : 1, nchannels : 3.\n"
     ]
    },
    {
     "name": "stdout",
     "output_type": "stream",
     "text": [
      "SELECTED OUTPUT\n",
      "MSU visible channel reflectances, channels 2-4\n",
      "Profile 0:\n",
      "  Ch #02 refl=nan\n",
      "  Ch #03 refl=nan\n",
      "  Ch #04 refl=nan\n"
     ]
    },
    {
     "name": "stderr",
     "output_type": "stream",
     "text": [
      "MW emissivity atlas loaded successfully\n",
      "No surface emissivity/reflectance supplied: setting calcemis and calcrefl to true\n",
      "Deallocating this inst_id.\n",
      "Atlas deallocated.\n",
      "Load successful >>>>> inst_id : 1, nchannels : 3.\n"
     ]
    },
    {
     "name": "stdout",
     "output_type": "stream",
     "text": [
      "SELECTED OUTPUT\n",
      "MSU visible channel reflectances, channels 2-4\n",
      "Profile 0:\n",
      "  Ch #02 refl=241.125034\n",
      "  Ch #03 refl=220.042602\n",
      "  Ch #04 refl=210.054764\n"
     ]
    },
    {
     "name": "stderr",
     "output_type": "stream",
     "text": [
      "MW emissivity atlas loaded successfully\n",
      "No surface emissivity/reflectance supplied: setting calcemis and calcrefl to true\n",
      "Deallocating this inst_id.\n",
      "Atlas deallocated.\n",
      "Load successful >>>>> inst_id : 1, nchannels : 3.\n"
     ]
    },
    {
     "name": "stdout",
     "output_type": "stream",
     "text": [
      "SELECTED OUTPUT\n",
      "MSU visible channel reflectances, channels 2-4\n",
      "Profile 0:\n",
      "  Ch #02 refl=244.602058\n",
      "  Ch #03 refl=221.811509\n",
      "  Ch #04 refl=210.380301\n"
     ]
    },
    {
     "name": "stderr",
     "output_type": "stream",
     "text": [
      "MW emissivity atlas loaded successfully\n",
      "No surface emissivity/reflectance supplied: setting calcemis and calcrefl to true\n",
      "Deallocating this inst_id.\n",
      "Atlas deallocated.\n"
     ]
    },
    {
     "name": "stdout",
     "output_type": "stream",
     "text": [
      "SELECTED OUTPUT\n",
      "MSU visible channel reflectances, channels 2-4\n",
      "Profile 0:\n",
      "  Ch #02 refl=nan\n",
      "  Ch #03 refl=nan\n",
      "  Ch #04 refl=nan\n"
     ]
    },
    {
     "name": "stderr",
     "output_type": "stream",
     "text": [
      "Load successful >>>>> inst_id : 1, nchannels : 3.\n",
      "MW emissivity atlas loaded successfully\n",
      "No surface emissivity/reflectance supplied: setting calcemis and calcrefl to true\n",
      "Deallocating this inst_id.\n",
      "Atlas deallocated.\n"
     ]
    },
    {
     "name": "stdout",
     "output_type": "stream",
     "text": [
      "SELECTED OUTPUT\n",
      "MSU visible channel reflectances, channels 2-4\n",
      "Profile 0:\n",
      "  Ch #02 refl=nan\n",
      "  Ch #03 refl=nan\n",
      "  Ch #04 refl=nan\n"
     ]
    },
    {
     "name": "stderr",
     "output_type": "stream",
     "text": [
      "Load successful >>>>> inst_id : 1, nchannels : 3.\n",
      "MW emissivity atlas loaded successfully\n",
      "No surface emissivity/reflectance supplied: setting calcemis and calcrefl to true\n",
      "Deallocating this inst_id.\n",
      "Atlas deallocated.\n",
      "Load successful >>>>> inst_id : 1, nchannels : 3.\n",
      "MW emissivity atlas loaded successfully\n"
     ]
    },
    {
     "name": "stdout",
     "output_type": "stream",
     "text": [
      "SELECTED OUTPUT\n",
      "MSU visible channel reflectances, channels 2-4\n",
      "Profile 0:\n",
      "  Ch #02 refl=249.229227\n",
      "  Ch #03 refl=225.664990\n",
      "  Ch #04 refl=219.264387\n"
     ]
    },
    {
     "name": "stderr",
     "output_type": "stream",
     "text": [
      "No surface emissivity/reflectance supplied: setting calcemis and calcrefl to true\n",
      "Deallocating this inst_id.\n",
      "Atlas deallocated.\n"
     ]
    },
    {
     "name": "stdout",
     "output_type": "stream",
     "text": [
      "SELECTED OUTPUT\n",
      "MSU visible channel reflectances, channels 2-4\n",
      "Profile 0:\n",
      "  Ch #02 refl=nan\n",
      "  Ch #03 refl=nan\n",
      "  Ch #04 refl=nan\n"
     ]
    },
    {
     "name": "stderr",
     "output_type": "stream",
     "text": [
      "Load successful >>>>> inst_id : 1, nchannels : 3.\n",
      "MW emissivity atlas loaded successfully\n",
      "No surface emissivity/reflectance supplied: setting calcemis and calcrefl to true\n",
      "Deallocating this inst_id.\n",
      "Atlas deallocated.\n",
      "Load successful >>>>> inst_id : 1, nchannels : 3.\n"
     ]
    },
    {
     "name": "stdout",
     "output_type": "stream",
     "text": [
      "SELECTED OUTPUT\n",
      "MSU visible channel reflectances, channels 2-4\n",
      "Profile 0:\n",
      "  Ch #02 refl=255.148960\n",
      "  Ch #03 refl=228.834542\n",
      "  Ch #04 refl=220.153072\n"
     ]
    },
    {
     "name": "stderr",
     "output_type": "stream",
     "text": [
      "MW emissivity atlas loaded successfully\n",
      "No surface emissivity/reflectance supplied: setting calcemis and calcrefl to true\n",
      "Deallocating this inst_id.\n",
      "Atlas deallocated.\n",
      "Load successful >>>>> inst_id : 1, nchannels : 3.\n"
     ]
    },
    {
     "name": "stdout",
     "output_type": "stream",
     "text": [
      "SELECTED OUTPUT\n",
      "MSU visible channel reflectances, channels 2-4\n",
      "Profile 0:\n",
      "  Ch #02 refl=255.638613\n",
      "  Ch #03 refl=228.556828\n",
      "  Ch #04 refl=218.247848\n"
     ]
    },
    {
     "name": "stderr",
     "output_type": "stream",
     "text": [
      "MW emissivity atlas loaded successfully\n",
      "No surface emissivity/reflectance supplied: setting calcemis and calcrefl to true\n",
      "Deallocating this inst_id.\n",
      "Atlas deallocated.\n",
      "Load successful >>>>> inst_id : 1, nchannels : 3.\n"
     ]
    },
    {
     "name": "stdout",
     "output_type": "stream",
     "text": [
      "SELECTED OUTPUT\n",
      "MSU visible channel reflectances, channels 2-4\n",
      "Profile 0:\n",
      "  Ch #02 refl=252.886533\n",
      "  Ch #03 refl=226.030720\n",
      "  Ch #04 refl=215.153319\n"
     ]
    },
    {
     "name": "stderr",
     "output_type": "stream",
     "text": [
      "MW emissivity atlas loaded successfully\n",
      "No surface emissivity/reflectance supplied: setting calcemis and calcrefl to true\n",
      "Deallocating this inst_id.\n",
      "Atlas deallocated.\n",
      "Load successful >>>>> inst_id : 1, nchannels : 3.\n",
      "MW emissivity atlas loaded successfully\n",
      "No surface emissivity/reflectance supplied: setting calcemis and calcrefl to true\n"
     ]
    },
    {
     "name": "stdout",
     "output_type": "stream",
     "text": [
      "SELECTED OUTPUT\n",
      "MSU visible channel reflectances, channels 2-4\n",
      "Profile 0:\n",
      "  Ch #02 refl=nan\n",
      "  Ch #03 refl=nan\n",
      "  Ch #04 refl=nan\n",
      "SELECTED OUTPUT\n",
      "MSU visible channel reflectances, channels 2-4\n",
      "Profile 0:\n",
      "  Ch #02 refl=nan\n",
      "  Ch #03 refl=nan\n",
      "  Ch #04 refl=nan\n"
     ]
    },
    {
     "name": "stderr",
     "output_type": "stream",
     "text": [
      "Deallocating this inst_id.\n",
      "Atlas deallocated.\n",
      "Load successful >>>>> inst_id : 1, nchannels : 3.\n",
      "MW emissivity atlas loaded successfully\n",
      "No surface emissivity/reflectance supplied: setting calcemis and calcrefl to true\n",
      "Deallocating this inst_id.\n",
      "Atlas deallocated.\n"
     ]
    },
    {
     "name": "stdout",
     "output_type": "stream",
     "text": [
      "SELECTED OUTPUT\n",
      "MSU visible channel reflectances, channels 2-4\n",
      "Profile 0:\n",
      "  Ch #02 refl=nan\n",
      "  Ch #03 refl=nan\n",
      "  Ch #04 refl=nan\n"
     ]
    },
    {
     "name": "stderr",
     "output_type": "stream",
     "text": [
      "Load successful >>>>> inst_id : 1, nchannels : 3.\n",
      "MW emissivity atlas loaded successfully\n",
      "No surface emissivity/reflectance supplied: setting calcemis and calcrefl to true\n",
      "Deallocating this inst_id.\n",
      "Atlas deallocated.\n"
     ]
    },
    {
     "name": "stdout",
     "output_type": "stream",
     "text": [
      "SELECTED OUTPUT\n",
      "MSU visible channel reflectances, channels 2-4\n",
      "Profile 0:\n",
      "  Ch #02 refl=nan\n",
      "  Ch #03 refl=nan\n",
      "  Ch #04 refl=nan\n"
     ]
    },
    {
     "name": "stderr",
     "output_type": "stream",
     "text": [
      "Load successful >>>>> inst_id : 1, nchannels : 3.\n",
      "MW emissivity atlas loaded successfully\n",
      "No surface emissivity/reflectance supplied: setting calcemis and calcrefl to true\n",
      "Deallocating this inst_id.\n",
      "Atlas deallocated.\n"
     ]
    },
    {
     "name": "stdout",
     "output_type": "stream",
     "text": [
      "SELECTED OUTPUT\n",
      "MSU visible channel reflectances, channels 2-4\n",
      "Profile 0:\n",
      "  Ch #02 refl=nan\n",
      "  Ch #03 refl=nan\n",
      "  Ch #04 refl=nan\n"
     ]
    },
    {
     "name": "stderr",
     "output_type": "stream",
     "text": [
      "Load successful >>>>> inst_id : 1, nchannels : 3.\n",
      "MW emissivity atlas loaded successfully\n",
      "No surface emissivity/reflectance supplied: setting calcemis and calcrefl to true\n",
      "Deallocating this inst_id.\n",
      "Atlas deallocated.\n"
     ]
    },
    {
     "name": "stdout",
     "output_type": "stream",
     "text": [
      "SELECTED OUTPUT\n",
      "MSU visible channel reflectances, channels 2-4\n",
      "Profile 0:\n",
      "  Ch #02 refl=nan\n",
      "  Ch #03 refl=nan\n",
      "  Ch #04 refl=nan\n"
     ]
    },
    {
     "name": "stderr",
     "output_type": "stream",
     "text": [
      "Load successful >>>>> inst_id : 1, nchannels : 3.\n",
      "MW emissivity atlas loaded successfully\n",
      "No surface emissivity/reflectance supplied: setting calcemis and calcrefl to true\n"
     ]
    },
    {
     "name": "stdout",
     "output_type": "stream",
     "text": [
      "SELECTED OUTPUT\n",
      "MSU visible channel reflectances, channels 2-4\n",
      "Profile 0:\n",
      "  Ch #02 refl=nan\n",
      "  Ch #03 refl=nan\n",
      "  Ch #04 refl=nan\n"
     ]
    },
    {
     "name": "stderr",
     "output_type": "stream",
     "text": [
      "Deallocating this inst_id.\n",
      "Atlas deallocated.\n",
      "Load successful >>>>> inst_id : 1, nchannels : 3.\n",
      "MW emissivity atlas loaded successfully\n",
      "No surface emissivity/reflectance supplied: setting calcemis and calcrefl to true\n",
      "Deallocating this inst_id.\n",
      "Atlas deallocated.\n"
     ]
    },
    {
     "name": "stdout",
     "output_type": "stream",
     "text": [
      "SELECTED OUTPUT\n",
      "MSU visible channel reflectances, channels 2-4\n",
      "Profile 0:\n",
      "  Ch #02 refl=nan\n",
      "  Ch #03 refl=nan\n",
      "  Ch #04 refl=nan\n"
     ]
    },
    {
     "name": "stderr",
     "output_type": "stream",
     "text": [
      "Load successful >>>>> inst_id : 1, nchannels : 3.\n",
      "MW emissivity atlas loaded successfully\n",
      "No surface emissivity/reflectance supplied: setting calcemis and calcrefl to true\n",
      "Deallocating this inst_id.\n",
      "Atlas deallocated.\n"
     ]
    },
    {
     "name": "stdout",
     "output_type": "stream",
     "text": [
      "SELECTED OUTPUT\n",
      "MSU visible channel reflectances, channels 2-4\n",
      "Profile 0:\n",
      "  Ch #02 refl=nan\n",
      "  Ch #03 refl=nan\n",
      "  Ch #04 refl=nan\n"
     ]
    },
    {
     "name": "stderr",
     "output_type": "stream",
     "text": [
      "Load successful >>>>> inst_id : 1, nchannels : 3.\n",
      "MW emissivity atlas loaded successfully\n",
      "No surface emissivity/reflectance supplied: setting calcemis and calcrefl to true\n",
      "Deallocating this inst_id.\n",
      "Atlas deallocated.\n"
     ]
    },
    {
     "name": "stdout",
     "output_type": "stream",
     "text": [
      "SELECTED OUTPUT\n",
      "MSU visible channel reflectances, channels 2-4\n",
      "Profile 0:\n",
      "  Ch #02 refl=nan\n",
      "  Ch #03 refl=nan\n",
      "  Ch #04 refl=nan\n"
     ]
    },
    {
     "name": "stderr",
     "output_type": "stream",
     "text": [
      "Load successful >>>>> inst_id : 1, nchannels : 3.\n",
      "MW emissivity atlas loaded successfully\n",
      "No surface emissivity/reflectance supplied: setting calcemis and calcrefl to true\n",
      "Deallocating this inst_id.\n",
      "Atlas deallocated.\n"
     ]
    },
    {
     "name": "stdout",
     "output_type": "stream",
     "text": [
      "SELECTED OUTPUT\n",
      "MSU visible channel reflectances, channels 2-4\n",
      "Profile 0:\n",
      "  Ch #02 refl=nan\n",
      "  Ch #03 refl=nan\n",
      "  Ch #04 refl=nan\n"
     ]
    },
    {
     "name": "stderr",
     "output_type": "stream",
     "text": [
      "Load successful >>>>> inst_id : 1, nchannels : 3.\n",
      "MW emissivity atlas loaded successfully\n",
      "No surface emissivity/reflectance supplied: setting calcemis and calcrefl to true\n",
      "Deallocating this inst_id.\n",
      "Atlas deallocated.\n"
     ]
    },
    {
     "name": "stdout",
     "output_type": "stream",
     "text": [
      "SELECTED OUTPUT\n",
      "MSU visible channel reflectances, channels 2-4\n",
      "Profile 0:\n",
      "  Ch #02 refl=nan\n",
      "  Ch #03 refl=nan\n",
      "  Ch #04 refl=nan\n"
     ]
    },
    {
     "name": "stderr",
     "output_type": "stream",
     "text": [
      "Load successful >>>>> inst_id : 1, nchannels : 3.\n",
      "MW emissivity atlas loaded successfully\n",
      "No surface emissivity/reflectance supplied: setting calcemis and calcrefl to true\n",
      "Deallocating this inst_id.\n",
      "Atlas deallocated.\n"
     ]
    },
    {
     "name": "stdout",
     "output_type": "stream",
     "text": [
      "SELECTED OUTPUT\n",
      "MSU visible channel reflectances, channels 2-4\n",
      "Profile 0:\n",
      "  Ch #02 refl=nan\n",
      "  Ch #03 refl=nan\n",
      "  Ch #04 refl=nan\n"
     ]
    },
    {
     "name": "stderr",
     "output_type": "stream",
     "text": [
      "Load successful >>>>> inst_id : 1, nchannels : 3.\n",
      "MW emissivity atlas loaded successfully\n",
      "No surface emissivity/reflectance supplied: setting calcemis and calcrefl to true\n",
      "Deallocating this inst_id.\n",
      "Atlas deallocated.\n"
     ]
    },
    {
     "name": "stdout",
     "output_type": "stream",
     "text": [
      "SELECTED OUTPUT\n",
      "MSU visible channel reflectances, channels 2-4\n",
      "Profile 0:\n",
      "  Ch #02 refl=nan\n",
      "  Ch #03 refl=nan\n",
      "  Ch #04 refl=nan\n"
     ]
    },
    {
     "name": "stderr",
     "output_type": "stream",
     "text": [
      "Load successful >>>>> inst_id : 1, nchannels : 3.\n"
     ]
    },
    {
     "name": "stdout",
     "output_type": "stream",
     "text": [
      "SELECTED OUTPUT\n",
      "MSU visible channel reflectances, channels 2-4\n",
      "Profile 0:\n",
      "  Ch #02 refl=nan\n",
      "  Ch #03 refl=nan\n",
      "  Ch #04 refl=nan\n"
     ]
    },
    {
     "name": "stderr",
     "output_type": "stream",
     "text": [
      "MW emissivity atlas loaded successfully\n",
      "No surface emissivity/reflectance supplied: setting calcemis and calcrefl to true\n",
      "Deallocating this inst_id.\n",
      "Atlas deallocated.\n"
     ]
    }
   ],
   "source": [
    "statid = '11035'\n",
    "chan_list = []\n",
    "refl = []\n",
    "dates = []\n",
    "for yr in range(1979,2022,1):\n",
    "    for mon in range(int(str(yr)+'01'), int(str(yr)+'13'), 1):\n",
    "        try:\n",
    "            # add file download once on srvx2\n",
    "            dfsh = xarray.open_dataset(glob.glob('./rttov_cuon_input/'+statid+'/'+str(mon)+'/dest*spec*')[0]).hus.to_dataframe()\n",
    "            dfta = xarray.open_dataset(glob.glob('./rttov_cuon_input/'+statid+'/'+str(mon)+'/dest*temp*')[0]).ta.to_dataframe()\n",
    "            df = dfta.merge(dfsh, how='inner', on=['plev', 'time', 'lat', 'lon'])\n",
    "            mon_mean = df.groupby(['plev']).aggregate({\"ta\":np.mean, \"hus\":np.mean})\n",
    "\n",
    "            era = xarray.open_dataset('./era/era_'+str(yr)+'.nc')\n",
    "            era_input = era.sel(time = str(yr)+'-'+str(mon)[-2:]+'-01T00:00:00.000000000', latitude = dfta.lat.iloc[0], longitude = dfta.lon.iloc[0], method='nearest')\n",
    "            date = pd.to_datetime(float(era_input.time))\n",
    "\n",
    "            a, b = rttov_calc(mon_mean, era_input, date)\n",
    "            chan_list.append(a)\n",
    "            refl.append(b)\n",
    "            dates.append(mon)\n",
    "        except:\n",
    "            chan_list.append(np.nan)\n",
    "            refl.append(np.nan)\n",
    "            dates.append(mon)\n",
    "        "
   ]
  },
  {
   "cell_type": "code",
   "execution_count": 11,
   "metadata": {},
   "outputs": [],
   "source": [
    "import pickle\n",
    "pickle.dump( refl, open( \"11035_refl.p\", \"wb\" ) )"
   ]
  },
  {
   "cell_type": "code",
   "execution_count": 13,
   "metadata": {},
   "outputs": [],
   "source": [
    "pickle.dump( dates, open( \"11035_dates.p\", \"wb\" ) )"
   ]
  },
  {
   "cell_type": "code",
   "execution_count": 14,
   "metadata": {},
   "outputs": [],
   "source": [
    "pickle.dump( chan_list, open( \"11035_chan_list.p\", \"wb\" ) )"
   ]
  },
  {
   "cell_type": "code",
   "execution_count": 21,
   "metadata": {},
   "outputs": [],
   "source": [
    "re = pickle.load( open( \"11035_refl.p\", \"rb\" ) )"
   ]
  },
  {
   "cell_type": "code",
   "execution_count": 22,
   "metadata": {},
   "outputs": [
    {
     "data": {
      "text/plain": [
       "[nan,\n",
       " nan,\n",
       " nan,\n",
       " nan,\n",
       " nan,\n",
       " nan,\n",
       " nan,\n",
       " nan,\n",
       " nan,\n",
       " nan,\n",
       " nan,\n",
       " nan,\n",
       " nan,\n",
       " nan,\n",
       " nan,\n",
       " nan,\n",
       " nan,\n",
       " nan,\n",
       " nan,\n",
       " nan,\n",
       " nan,\n",
       " nan,\n",
       " nan,\n",
       " nan,\n",
       " array([[240.77427964, 223.89443104, 218.6916887 ]]),\n",
       " array([[265.70000589, 265.70000617, 265.70000667]]),\n",
       " array([[246.31722654, 226.7593437 , 221.29013978]]),\n",
       " nan,\n",
       " nan,\n",
       " array([[253.07151627, 230.10629832, 219.02209142]]),\n",
       " array([[253.32194314, 230.11923319, 211.47478206]]),\n",
       " array([[253.8101075 , 230.52154382, 218.94342874]]),\n",
       " array([[252.303817  , 229.20006608, 218.17199557]]),\n",
       " array([[249.03984703, 227.52523965, 216.81667682]]),\n",
       " array([[244.80905412, 225.18448156, 216.73563407]]),\n",
       " array([[242.15444656, 224.75521042, 217.60710016]]),\n",
       " array([[242.02023427, 223.49522464, 214.86334729]]),\n",
       " array([[243.22554093, 225.88688578, 218.84433882]]),\n",
       " array([[nan, nan, nan]]),\n",
       " array([[245.11090881, 226.48687239, 218.91730361]]),\n",
       " array([[249.91243404, 228.22202695, 220.3889536 ]]),\n",
       " array([[252.86813269, 230.31950863, 221.06594687]]),\n",
       " array([[280.20001205, 280.20001206, 280.20001208]]),\n",
       " array([[254.45898369, 230.32124243, 217.68242585]]),\n",
       " array([[253.64627475, 228.47678631, 214.85432917]]),\n",
       " array([[249.74756967, 227.58587665, 216.7968512 ]]),\n",
       " array([[247.12933981, 225.59433971, 215.18555044]]),\n",
       " array([[244.71659869, 225.79628639, 217.60702418]]),\n",
       " array([[244.61978417, 225.14183656, 216.02170121]]),\n",
       " array([[240.93359115, 223.9947402 , 218.19957259]]),\n",
       " array([[249.69401997, 249.69429908, 249.6948423 ]]),\n",
       " array([[247.29237747, 226.36891629, 218.47607167]]),\n",
       " array([[250.16418475, 228.61210842, 219.6431233 ]]),\n",
       " array([[252.1795574 , 229.11215294, 218.81495816]]),\n",
       " array([[255.47203768, 230.91860658, 217.44070965]]),\n",
       " array([[254.57504887, 231.07950432, 220.15724237]]),\n",
       " array([[252.7639045 , 229.29688744, 216.34707894]]),\n",
       " array([[249.7637546 , 227.19118308, 215.73552954]]),\n",
       " array([[245.35029443, 224.7636911 , 214.65430103]]),\n",
       " array([[244.32063532, 224.97972409, 216.01995335]]),\n",
       " array([[243.12326239, 225.56773867, 218.6377105 ]]),\n",
       " array([[241.76444558, 224.04734965, 216.05715907]]),\n",
       " nan,\n",
       " array([[245.4545751 , 225.7408848 , 217.84635174]]),\n",
       " array([[249.1845238 , 228.30097338, 219.44087513]]),\n",
       " array([[251.36932448, 229.71149123, 220.31992847]]),\n",
       " array([[253.26231611, 231.64966579, 221.66486416]]),\n",
       " array([[238.74979709, 238.7802507 , 239.07014597]]),\n",
       " array([[251.45636764, 229.48522951, 219.78255389]]),\n",
       " array([[250.23775454, 227.35135804, 215.23401305]]),\n",
       " array([[247.20014371, 225.32080194, 214.62959849]]),\n",
       " array([[244.16504973, 225.62119471, 218.29221209]]),\n",
       " array([[239.8139092 , 223.2988342 , 216.20407987]]),\n",
       " array([[241.57085017, 224.3959554 , 216.9621941 ]]),\n",
       " array([[243.83269173, 225.28468306, 217.28816683]]),\n",
       " array([[246.7690681 , 227.54977692, 220.13301754]]),\n",
       " array([[214.30000313, 214.30000313, 214.30000312]]),\n",
       " array([[251.31008747, 230.60315462, 222.16607998]]),\n",
       " array([[253.91908458, 229.62137745, 216.35760287]]),\n",
       " array([[254.04049959, 230.2280157 , 216.80332105]]),\n",
       " array([[252.42554838, 229.02714919, 217.55844563]]),\n",
       " array([[249.33611569, 226.64547753, 216.22194043]]),\n",
       " array([[244.11199468, 224.85865084, 215.16910308]]),\n",
       " array([[245.87120071, 225.47043002, 216.20677515]]),\n",
       " array([[241.76646532, 224.17247354, 216.68740373]]),\n",
       " array([[240.28459446, 224.24137642, 219.30865707]]),\n",
       " array([[244.95165575, 227.54873839, 225.97857926]]),\n",
       " array([[247.32430145, 227.24528932, 220.82330269]]),\n",
       " array([[251.16827506, 227.29539239, 217.22763651]]),\n",
       " array([[252.31277404, 229.98729139, 221.15990996]]),\n",
       " array([[253.35909536, 230.23737356, 218.25650272]]),\n",
       " array([[254.26488359, 230.46634579, 218.56157255]]),\n",
       " array([[249.23569066, 228.77339617, 220.95481007]]),\n",
       " array([[250.09211959, 227.0390427 , 215.73352015]]),\n",
       " array([[246.97925056, 224.9856208 , 214.07428317]]),\n",
       " array([[243.06137105, 223.72761396, 214.95996143]]),\n",
       " array([[240.64633315, 222.73310849, 213.81465694]]),\n",
       " array([[243.41965674, 224.38705426, 216.71472804]]),\n",
       " array([[241.35703628, 224.85871281, 219.35936198]]),\n",
       " array([[246.66221119, 225.66835661, 217.64080433]]),\n",
       " array([[249.17128632, 228.76768558, 221.24384525]]),\n",
       " array([[262.95358026, 262.9577004 , 262.96421304]]),\n",
       " nan,\n",
       " array([[253.66856665, 231.41676711, 220.62309078]]),\n",
       " array([[252.49947013, 252.49949377, 252.49953612]]),\n",
       " array([[250.53877889, 228.48140123, 216.30646317]]),\n",
       " array([[236.66859896, 236.85551516, 237.41535925]]),\n",
       " array([[244.91811859, 224.5477455 , 214.12287346]]),\n",
       " array([[245.12502069, 226.39025435, 220.63413793]]),\n",
       " array([[243.16028379, 225.05721608, 217.70483548]]),\n",
       " array([[243.33011486, 226.143372  , 220.95768096]]),\n",
       " array([[246.70506825, 226.53966564, 218.21669275]]),\n",
       " array([[250.49685968, 228.21489269, 218.33058712]]),\n",
       " array([[251.9355721 , 229.92757122, 218.95688088]]),\n",
       " array([[255.01050916, 231.35756745, 218.1515955 ]]),\n",
       " array([[254.78590761, 230.69705385, 216.24011406]]),\n",
       " array([[251.8976211 , 251.89765525, 251.89774876]]),\n",
       " array([[250.06042248, 227.7117149 , 216.66735592]]),\n",
       " array([[244.4291162 , 225.34510171, 214.96311419]]),\n",
       " array([[244.78447999, 226.15315343, 218.53110439]]),\n",
       " array([[245.67689133, 226.29880201, 218.26628423]]),\n",
       " array([[245.50388737, 227.31234427, 221.02270551]]),\n",
       " array([[246.41067945, 226.36678626, 217.60546649]]),\n",
       " array([[247.79459167, 227.52921197, 219.57726818]]),\n",
       " array([[249.23364621, 227.29127664, 217.95073579]]),\n",
       " array([[240.59785875, 226.82636183, 221.15393488]]),\n",
       " array([[254.07611055, 231.24151504, 220.31705636]]),\n",
       " array([[254.33769541, 231.39723986, 220.40084449]]),\n",
       " array([[252.66342904, 229.33240551, 216.05899711]]),\n",
       " array([[249.98114366, 227.96413698, 217.95787483]]),\n",
       " array([[245.4689007 , 225.49500003, 215.73880398]]),\n",
       " array([[246.07069515, 226.79132441, 217.98607939]]),\n",
       " array([[243.65220906, 243.65454734, 243.65915967]]),\n",
       " array([[246.50243751, 226.53310083, 216.98417628]]),\n",
       " array([[247.20880778, 227.06169149, 217.69691803]]),\n",
       " array([[246.66647446, 227.64973376, 219.94821697]]),\n",
       " array([[250.01903145, 228.04130301, 219.0715763 ]]),\n",
       " array([[252.71889038, 230.40422107, 220.04198961]]),\n",
       " array([[254.3712834 , 231.54383895, 219.77873072]]),\n",
       " array([[254.70225869, 231.20724216, 220.7964441 ]]),\n",
       " array([[250.70139159, 228.93220242, 218.45455308]]),\n",
       " array([[250.88577904, 227.99161147, 215.08935462]]),\n",
       " array([[246.34114989, 226.57074014, 218.71263055]]),\n",
       " array([[243.35443401, 225.16828889, 217.74767573]]),\n",
       " array([[nan, nan, nan]]),\n",
       " array([[242.38663256, 225.41671814, 220.29564881]]),\n",
       " array([[246.98082172, 226.13779338, 216.16067663]]),\n",
       " array([[245.28074591, 226.45264614, 219.55055899]]),\n",
       " array([[247.90594526, 228.28000619, 220.68413222]]),\n",
       " array([[252.33731001, 230.16437488, 220.35230199]]),\n",
       " array([[255.42308138, 231.88574837, 219.98204999]]),\n",
       " array([[254.50552334, 230.84634503, 218.02079169]]),\n",
       " array([[253.06867062, 229.55592291, 217.58806822]]),\n",
       " array([[249.13798436, 228.3921557 , 217.57119289]]),\n",
       " array([[246.52854698, 226.04702386, 215.53643263]]),\n",
       " array([[244.4624344 , 227.12688798, 220.96623293]]),\n",
       " array([[244.58344644, 224.31232544, 214.34745368]]),\n",
       " array([[244.5490062 , 225.96810877, 217.95950343]]),\n",
       " array([[244.93421534, 225.89625539, 216.47828569]]),\n",
       " array([[247.50525184, 227.95120755, 220.53419078]]),\n",
       " array([[250.22169447, 227.92556154, 218.28217957]]),\n",
       " array([[252.89795524, 230.15842346, 219.78777849]]),\n",
       " array([[255.21084862, 231.41111372, 221.59809306]]),\n",
       " array([[256.31177376, 230.76603695, 216.93706941]]),\n",
       " array([[252.37267629, 229.6177532 , 218.19927677]]),\n",
       " array([[248.28582897, 227.3103441 , 217.76752116]]),\n",
       " array([[246.77057761, 226.61692035, 217.63003302]]),\n",
       " array([[245.04920218, 225.80990453, 215.85694223]]),\n",
       " array([[244.58489292, 225.66508607, 217.07287984]]),\n",
       " array([[243.26100751, 225.47039071, 219.29328544]]),\n",
       " array([[244.35620331, 226.3793776 , 219.06369067]]),\n",
       " array([[246.60959942, 225.7178923 , 216.12590014]]),\n",
       " array([[250.86538801, 227.83701646, 217.22484841]]),\n",
       " array([[252.80842967, 230.53532226, 220.50314397]]),\n",
       " array([[253.81527781, 230.9792619 , 218.34784512]]),\n",
       " array([[253.91582546, 229.95025213, 215.83816618]]),\n",
       " array([[251.68460231, 229.43531582, 219.56471283]]),\n",
       " array([[249.91256066, 227.47146408, 215.65613963]]),\n",
       " array([[243.05702145, 243.06381131, 243.08412639]]),\n",
       " nan,\n",
       " nan,\n",
       " array([[243.78243329, 226.72623151, 220.09559165]]),\n",
       " array([[246.29429628, 225.71802303, 216.42511767]]),\n",
       " nan,\n",
       " array([[218.88680702, 218.94108566, 219.10067292]]),\n",
       " array([[253.37609655, 230.24150446, 218.83947068]]),\n",
       " nan,\n",
       " array([[255.17740492, 231.11070944, 218.63056698]]),\n",
       " nan,\n",
       " array([[249.35684106, 227.91683022, 216.12398718]]),\n",
       " array([[248.06994032, 226.39728921, 215.34687567]]),\n",
       " array([[245.18926674, 225.20616802, 215.40798838]]),\n",
       " array([[242.87114557, 225.7894905 , 217.81549633]]),\n",
       " array([[248.09878279, 248.09880764, 248.09887146]]),\n",
       " array([[243.92241471, 225.57882464, 218.1103681 ]]),\n",
       " array([[246.71960777, 226.51185079, 217.05554218]]),\n",
       " array([[249.90935388, 228.10241492, 219.76522037]]),\n",
       " array([[252.30718716, 230.13911067, 219.06280731]]),\n",
       " array([[255.88580624, 230.91943612, 216.71259822]]),\n",
       " array([[253.58648056, 230.32986972, 218.47896584]]),\n",
       " array([[251.29957453, 230.03689358, 220.24205481]]),\n",
       " array([[251.84377519, 228.64254646, 216.96028464]]),\n",
       " array([[245.28462349, 225.82802227, 216.30294773]]),\n",
       " array([[243.50753613, 224.69964822, 217.53265457]]),\n",
       " array([[243.80277341, 225.17677141, 215.90904229]]),\n",
       " array([[241.70713025, 224.99175684, 218.2634944 ]]),\n",
       " array([[242.83173603, 224.79540787, 218.28735221]]),\n",
       " array([[246.40418498, 224.99443931, 215.70498123]]),\n",
       " array([[250.89020048, 229.28311169, 221.06253257]]),\n",
       " array([[252.88909747, 230.00095444, 219.9873034 ]]),\n",
       " array([[253.66116311, 231.08905092, 219.5587839 ]]),\n",
       " array([[253.71278054, 230.70688608, 218.50109063]]),\n",
       " array([[249.60291371, 228.14426068, 217.81629257]]),\n",
       " array([[249.3219671 , 226.31336172, 213.95427221]]),\n",
       " array([[245.60900575, 223.28272978, 210.18386732]]),\n",
       " array([[242.52964847, 221.56740509, 208.39284425]]),\n",
       " array([[243.22006842, 222.12720997, 212.47594154]]),\n",
       " array([[244.15634378, 223.58273201, 215.43751011]]),\n",
       " array([[245.10775964, 224.58194673, 215.74076695]]),\n",
       " array([[244.3110624 , 223.70129215, 214.87401112]]),\n",
       " array([[249.95654703, 227.65321455, 218.54674154]]),\n",
       " array([[252.88266317, 229.47036608, 218.05532724]]),\n",
       " array([[250.08571866, 229.95776524, 219.47415225]]),\n",
       " array([[253.60065541, 231.02308959, 219.84906297]]),\n",
       " array([[253.24077231, 228.32853525, 213.9347754 ]]),\n",
       " array([[248.03127659, 225.69044826, 212.81823857]]),\n",
       " array([[246.06097455, 224.31813688, 211.84383877]]),\n",
       " array([[243.63416645, 222.08130096, 209.34462458]]),\n",
       " array([[243.20852636, 221.95562505, 211.51113954]]),\n",
       " array([[245.16210056, 222.16338895, 209.06075332]]),\n",
       " array([[243.10358407, 223.11319159, 214.3845103 ]]),\n",
       " array([[247.31629239, 225.5850903 , 217.32833998]]),\n",
       " array([[249.94703453, 227.99036206, 219.35725777]]),\n",
       " array([[253.3250691 , 230.23110883, 218.75311169]]),\n",
       " array([[254.84981369, 231.88383909, 219.6969734 ]]),\n",
       " array([[254.56354996, 230.81860455, 218.49063291]]),\n",
       " array([[252.14435609, 229.66336337, 218.66141802]]),\n",
       " array([[249.25486555, 226.50634083, 214.145061  ]]),\n",
       " array([[243.5001732 , 222.95939046, 210.18375767]]),\n",
       " array([[243.07371776, 222.24872453, 209.75522618]]),\n",
       " array([[243.75620995, 222.82827521, 210.17734471]]),\n",
       " array([[241.28474909, 222.094919  , 212.43606975]]),\n",
       " array([[244.32305593, 223.43547182, 214.47577656]]),\n",
       " array([[246.72736787, 225.47391739, 216.57119026]]),\n",
       " array([[250.37246573, 227.20538715, 216.91937343]]),\n",
       " array([[253.06985466, 229.77583288, 218.62014639]]),\n",
       " array([[254.55656575, 231.07405169, 218.55003379]]),\n",
       " array([[254.07051376, 230.54252113, 218.63470027]]),\n",
       " array([[253.39870901, 228.64484102, 214.83449353]]),\n",
       " array([[249.35878311, 226.45075992, 213.73430071]]),\n",
       " array([[245.68479135, 223.89547725, 211.0495448 ]]),\n",
       " array([[243.31321245, 223.26615076, 210.4866139 ]]),\n",
       " array([[241.90190669, 222.28989004, 211.32678419]]),\n",
       " array([[243.60391088, 223.83240509, 214.00151414]]),\n",
       " array([[243.60706914, 222.31721013, 209.41749817]]),\n",
       " array([[248.15759316, 226.43955615, 218.51645811]]),\n",
       " array([[250.81316694, 227.09706468, 217.43689728]]),\n",
       " array([[253.48195709, 229.83321601, 218.53468546]]),\n",
       " array([[253.03501783, 230.68703438, 219.20250716]]),\n",
       " array([[254.75721645, 230.3966409 , 217.05521431]]),\n",
       " array([[251.84309131, 228.39662758, 217.38813733]]),\n",
       " array([[250.41140779, 225.96549908, 212.68288745]]),\n",
       " array([[246.36830289, 222.98077356, 209.12224963]]),\n",
       " array([[244.38047546, 222.76945077, 210.53505444]]),\n",
       " array([[243.27473832, 222.58122885, 210.75428798]]),\n",
       " array([[242.75424949, 222.14010749, 211.18018068]]),\n",
       " array([[245.49115453, 224.54361018, 214.57857235]]),\n",
       " array([[246.45446677, 226.27374201, 218.50035243]]),\n",
       " array([[249.41592602, 227.33710105, 216.31917046]]),\n",
       " array([[251.74468276, 229.79730413, 220.2361244 ]]),\n",
       " array([[254.79182738, 231.56836133, 220.05741989]]),\n",
       " array([[255.5594938 , 230.84950568, 218.17797049]]),\n",
       " array([[250.6332786 , 229.35029163, 219.88036073]]),\n",
       " array([[251.23148296, 226.44418625, 212.55861796]]),\n",
       " array([[245.04451674, 223.63861975, 210.54063516]]),\n",
       " array([[241.04110567, 222.18230266, 210.20766882]]),\n",
       " array([[243.18300221, 221.75727622, 208.81719771]]),\n",
       " array([[244.95482042, 223.68199389, 211.49046067]]),\n",
       " array([[245.36040078, 224.60671899, 214.98024928]]),\n",
       " array([[246.47082574, 226.25368174, 218.12397657]]),\n",
       " array([[251.44917775, 227.78017718, 216.71247008]]),\n",
       " array([[253.76305047, 229.55817842, 218.30033261]]),\n",
       " array([[255.40372809, 231.51813714, 219.14151861]]),\n",
       " array([[254.59428505, 230.92968474, 219.51612332]]),\n",
       " array([[250.57811285, 228.18965291, 218.19694733]]),\n",
       " array([[248.35471758, 226.26256739, 215.23549065]]),\n",
       " array([[246.93485397, 225.19120238, 213.70043814]]),\n",
       " array([[243.27770627, 222.35489861, 210.73758311]]),\n",
       " array([[242.15169197, 222.8715777 , 212.32046328]]),\n",
       " array([[240.968095  , 222.57524142, 215.06300097]]),\n",
       " array([[243.99256365, 222.30986212, 211.43876813]]),\n",
       " array([[245.92683461, 225.83998875, 217.55319625]]),\n",
       " array([[251.41565831, 227.53494935, 217.2281522 ]]),\n",
       " array([[254.75946311, 229.34912345, 216.59546908]]),\n",
       " array([[254.72584021, 231.0400314 , 219.50129257]]),\n",
       " array([[255.48835787, 230.39870902, 218.57496811]]),\n",
       " array([[251.85769761, 228.43555769, 216.23538434]]),\n",
       " array([[247.62986895, 226.70237691, 214.85458436]]),\n",
       " array([[247.27904105, 224.84041827, 212.27710156]]),\n",
       " array([[244.34249607, 222.4209218 , 208.99858828]]),\n",
       " array([[240.43576273, 220.81294344, 209.49885636]]),\n",
       " array([[242.96928612, 222.52585599, 211.47605654]]),\n",
       " array([[244.28482583, 224.71804054, 216.52903929]]),\n",
       " array([[247.10867508, 226.24015273, 217.35701757]]),\n",
       " array([[248.79360755, 227.9433335 , 219.82255755]]),\n",
       " array([[252.4066177 , 229.9680503 , 220.05648801]]),\n",
       " array([[254.47849171, 231.50595032, 220.10125993]]),\n",
       " array([[254.75799067, 230.94753384, 219.54550355]]),\n",
       " array([[252.38041079, 228.90334447, 217.00260073]]),\n",
       " array([[250.24369357, 226.67062607, 214.08776265]]),\n",
       " array([[245.23671176, 223.36990128, 210.45107024]]),\n",
       " array([[244.43007616, 223.19741144, 211.76009764]]),\n",
       " array([[242.45784864, 222.04722308, 209.92476618]]),\n",
       " array([[239.9857056 , 222.11599849, 213.57628963]]),\n",
       " array([[242.61907351, 221.73370334, 212.46452936]]),\n",
       " array([[247.29726012, 226.21184263, 218.00383891]]),\n",
       " array([[250.12689351, 227.55880803, 218.0014877 ]]),\n",
       " array([[252.67529067, 229.2880608 , 219.46432284]]),\n",
       " array([[254.56290092, 231.19475822, 220.02533255]]),\n",
       " array([[253.81113133, 230.80356852, 219.84010147]]),\n",
       " array([[252.62765035, 228.97165925, 217.00396815]]),\n",
       " array([[250.33757238, 226.07035118, 211.67642695]]),\n",
       " array([[244.65227997, 224.07840688, 212.63400922]]),\n",
       " array([[242.20396228, 222.85189429, 212.65339311]]),\n",
       " array([[241.40108824, 220.55554697, 206.74743666]]),\n",
       " array([[241.56754654, 223.32269385, 214.34034569]]),\n",
       " array([[243.06536842, 223.72375199, 215.09392859]]),\n",
       " array([[247.15753555, 226.26572163, 218.32662947]]),\n",
       " array([[249.61782375, 227.48059994, 217.69293496]]),\n",
       " array([[252.96489211, 230.10399591, 219.96036025]]),\n",
       " array([[255.97493663, 231.27452528, 219.11156871]]),\n",
       " array([[253.32500575, 231.78436065, 221.85555679]]),\n",
       " array([[253.51611823, 229.18821934, 216.310692  ]]),\n",
       " array([[250.81480868, 226.33168723, 211.88710436]]),\n",
       " array([[247.16654209, 224.15511281, 211.20203532]]),\n",
       " array([[245.3508657 , 222.90233995, 208.77309717]]),\n",
       " array([[244.72308597, 223.24325479, 211.32576369]]),\n",
       " array([[244.40441065, 223.55253311, 214.074634  ]]),\n",
       " array([[245.30698238, 224.50746287, 216.74299547]]),\n",
       " array([[247.82293539, 224.74582171, 215.24629185]]),\n",
       " array([[251.14756003, 227.94233891, 217.25587478]]),\n",
       " array([[253.66997973, 229.75068716, 219.0283766 ]]),\n",
       " array([[255.28719525, 231.48944237, 218.83032509]]),\n",
       " array([[255.02965822, 231.02753401, 217.94929178]]),\n",
       " array([[251.20045048, 229.21782534, 218.88411328]]),\n",
       " array([[248.5976913 , 225.82179053, 213.2809812 ]]),\n",
       " array([[244.67958907, 223.87527938, 210.94136383]]),\n",
       " array([[243.32664674, 222.45419478, 210.12864541]]),\n",
       " array([[244.4537196 , 223.39548535, 211.99281432]]),\n",
       " array([[244.00169836, 221.92400694, 209.06119086]]),\n",
       " array([[244.39576637, 225.36551839, 216.28683275]]),\n",
       " array([[246.66886435, 226.26174825, 217.57235634]]),\n",
       " array([[250.17226227, 227.00945997, 218.12100602]]),\n",
       " array([[253.37692511, 229.61230822, 218.70165819]]),\n",
       " array([[254.40174508, 231.22234624, 220.17821673]]),\n",
       " array([[255.3150387 , 231.00703653, 218.37252126]]),\n",
       " array([[251.62554588, 228.61474716, 217.3635042 ]]),\n",
       " array([[250.23854117, 226.64220139, 213.71396752]]),\n",
       " array([[246.48828239, 223.62478247, 211.03403245]]),\n",
       " array([[243.66062866, 222.82999279, 210.7868975 ]]),\n",
       " array([[243.66546147, 225.09163648, 215.70739698]]),\n",
       " array([[242.57496896, 225.13745579, 216.52703908]]),\n",
       " array([[244.08995067, 224.63682014, 215.66767453]]),\n",
       " array([[247.97375023, 225.11119741, 215.67350809]]),\n",
       " array([[250.41540104, 227.33294003, 217.6518145 ]]),\n",
       " array([[252.46225515, 229.90575668, 219.69096339]]),\n",
       " array([[255.00650321, 231.23499422, 219.39161123]]),\n",
       " array([[255.30021403, 230.64803052, 218.38798477]]),\n",
       " array([[253.01612799, 228.82728781, 217.08994137]]),\n",
       " array([[248.99392053, 227.01109179, 214.98623094]]),\n",
       " array([[247.49126155, 224.96064815, 210.47943132]]),\n",
       " array([[243.41901635, 223.73425201, 213.62759924]]),\n",
       " array([[241.09742419, 222.00083691, 210.75864549]]),\n",
       " array([[242.38463951, 222.70459578, 213.41268981]]),\n",
       " array([[244.21160444, 224.33022197, 215.28669097]]),\n",
       " array([[246.4383113 , 224.98147347, 216.28090352]]),\n",
       " array([[250.22508968, 228.66606179, 219.35161123]]),\n",
       " array([[253.53111826, 230.41301741, 219.51434915]]),\n",
       " array([[255.74694842, 231.74311301, 219.44856214]]),\n",
       " array([[254.96437144, 231.537943  , 217.29748547]]),\n",
       " array([[251.78609668, 229.70408478, 217.87191435]]),\n",
       " array([[248.82507912, 226.76154093, 215.95111352]]),\n",
       " array([[246.66469835, 224.88910854, 211.89316181]]),\n",
       " array([[241.81866379, 223.24995597, 212.33693102]]),\n",
       " array([[242.90615128, 222.57520338, 211.28027349]]),\n",
       " array([[242.66770583, 222.7152192 , 211.67027875]]),\n",
       " array([[244.73499625, 223.9662899 , 216.17219219]]),\n",
       " array([[247.42493932, 224.06028196, 210.53197208]]),\n",
       " array([[249.94647746, 226.99519627, 218.19433028]]),\n",
       " array([[253.47931434, 230.01862573, 218.75701978]]),\n",
       " array([[254.17495398, 231.4544595 , 219.79123923]]),\n",
       " array([[255.17687906, 230.69865035, 217.72910933]]),\n",
       " array([[253.75206   , 229.09246182, 215.86988964]]),\n",
       " array([[249.3284556 , 226.37154634, 213.82047457]]),\n",
       " array([[247.30883764, 224.06333611, 210.47485759]]),\n",
       " array([[243.6632028 , 222.62216378, 210.50863984]]),\n",
       " array([[241.39539024, 220.59171296, 207.76509204]]),\n",
       " array([[239.92700134, 221.17925597, 212.06982229]]),\n",
       " array([[245.29818763, 223.20985746, 212.32218018]]),\n",
       " array([[247.33092274, 226.68444627, 218.13784947]]),\n",
       " array([[250.85987646, 228.30556024, 218.21674813]]),\n",
       " array([[253.83023212, 230.27710875, 218.7548577 ]]),\n",
       " array([[255.15191255, 231.54382743, 219.23908415]]),\n",
       " array([[255.30712661, 230.74399964, 218.22866902]]),\n",
       " array([[nan, nan, nan]]),\n",
       " array([[249.632856  , 226.30572595, 213.8809845 ]]),\n",
       " array([[247.81379857, 225.18570012, 212.86811199]]),\n",
       " array([[241.98766103, 221.02988485, 208.53529493]]),\n",
       " array([[243.03361463, 223.63028083, 213.85365326]]),\n",
       " array([[240.82199026, 222.00403616, 213.17882786]]),\n",
       " array([[243.75665731, 224.24277981, 216.17162447]]),\n",
       " array([[248.01348157, 226.37023355, 217.91709175]]),\n",
       " array([[250.42146683, 229.38603527, 218.90002752]]),\n",
       " array([[252.69461326, 230.1367648 , 219.59074197]]),\n",
       " array([[255.12374625, 231.16016062, 220.03793041]]),\n",
       " array([[254.98642947, 230.8754697 , 218.8899235 ]]),\n",
       " array([[251.77669669, 228.74859234, 217.33852752]]),\n",
       " array([[250.12971094, 226.27868109, 212.90868683]]),\n",
       " array([[247.01287075, 225.2450476 , 213.15630681]]),\n",
       " array([[245.46396491, 223.53717771, 212.08223346]]),\n",
       " array([[244.30939507, 223.58561463, 215.5420772 ]]),\n",
       " array([[245.24383067, 225.40865816, 218.17770084]]),\n",
       " array([[245.87663164, 223.83695337, 212.7835988 ]]),\n",
       " array([[247.72483346, 226.48524243, 217.66393836]]),\n",
       " array([[249.5380646 , 227.44771287, 218.10691788]]),\n",
       " array([[252.43063696, 229.38750293, 220.24262314]]),\n",
       " array([[254.81922816, 231.09971555, 220.12110622]]),\n",
       " array([[253.73810242, 230.71036038, 220.1411745 ]]),\n",
       " array([[252.3079483 , 228.63246321, 215.78152667]]),\n",
       " nan,\n",
       " array([[247.81284196, 224.39991977, 210.52248486]]),\n",
       " array([[244.51695193, 223.68239593, 212.20804408]]),\n",
       " array([[243.89728869, 224.49593711, 217.03602897]]),\n",
       " array([[243.40790507, 223.44509193, 214.05981936]]),\n",
       " array([[245.29192937, 225.46406992, 216.1168828 ]]),\n",
       " array([[246.32258839, 224.45945187, 214.65935407]]),\n",
       " array([[250.74118579, 227.79040258, 217.93858389]]),\n",
       " array([[253.34168608, 229.96125144, 219.75464609]]),\n",
       " array([[256.70422751, 229.32573598, 219.00884638]]),\n",
       " array([[256.43431006, 228.53218717, 218.81454269]]),\n",
       " array([[253.58334037, 229.73628064, 217.62119204]]),\n",
       " array([[249.94021543, 226.93198538, 214.37483103]]),\n",
       " array([[246.70410759, 222.15511216, 211.91625765]]),\n",
       " array([[246.91663604, 220.59959545, 209.21132779]]),\n",
       " array([[242.25189735, 221.27055139, 216.58938437]]),\n",
       " array([[244.3768179 , 223.40042797, 213.16718369]]),\n",
       " array([[244.209955  , 223.40919652, 214.46440983]]),\n",
       " array([[247.77560013, 226.60470153, 218.52170742]]),\n",
       " array([[250.03617315, 227.84624123, 219.30299391]]),\n",
       " array([[253.44125577, 229.91499863, 219.19885243]]),\n",
       " array([[255.46733471, 231.51230631, 219.35139784]]),\n",
       " array([[255.04129362, 231.01770748, 219.11065197]]),\n",
       " array([[253.47889846, 228.77880427, 216.24575981]]),\n",
       " array([[248.18190804, 226.32554666, 214.30123591]]),\n",
       " array([[245.93146282, 223.60791192, 210.85410982]]),\n",
       " array([[244.48917595, 222.15426734, 210.71256201]]),\n",
       " array([[241.43779973, 222.59695178, 214.7481694 ]]),\n",
       " array([[244.00274255, 222.15983858, 211.22428397]]),\n",
       " array([[245.55810819, 223.34540437, 213.25234412]]),\n",
       " array([[246.01692639, 224.50993076, 215.57209919]]),\n",
       " array([[250.51391643, 227.22773861, 217.51999652]]),\n",
       " array([[254.47189862, 229.6302016 , 217.89707089]]),\n",
       " array([[254.83291022, 231.08185153, 219.78477858]]),\n",
       " array([[255.8461018 , 228.89503583, 216.83329083]]),\n",
       " array([[251.27954146, 229.12057313, 218.54759208]]),\n",
       " array([[249.70488097, 226.06489339, 213.11762739]]),\n",
       " array([[245.67544049, 223.85727528, 212.93920868]]),\n",
       " array([[242.59289745, 221.31094541, 208.5509351 ]]),\n",
       " array([[244.30837105, 223.54869418, 213.94018744]]),\n",
       " array([[241.90831182, 225.72493131, 219.8794441 ]]),\n",
       " array([[244.35441392, 225.28701271, 217.46398667]]),\n",
       " array([[249.72046704, 225.94761962, 214.40989477]]),\n",
       " array([[251.66413537, 228.121715  , 217.37578682]]),\n",
       " array([[253.64018903, 229.74288604, 218.89435113]]),\n",
       " array([[255.23723437, 231.78088351, 220.24885909]]),\n",
       " array([[256.80217273, 230.90280251, 217.99351157]]),\n",
       " array([[253.08566978, 228.45483505, 215.77640258]]),\n",
       " array([[250.63200057, 226.75147759, 213.99076443]]),\n",
       " array([[nan, nan, nan]]),\n",
       " array([[nan, nan, nan]]),\n",
       " array([[241.12503398, 220.04260249, 210.05476399]]),\n",
       " array([[244.60205834, 221.81150854, 210.38030143]]),\n",
       " array([[nan, nan, nan]]),\n",
       " array([[nan, nan, nan]]),\n",
       " array([[249.22922693, 225.66499015, 219.26438728]]),\n",
       " array([[nan, nan, nan]]),\n",
       " array([[255.14896005, 228.83454244, 220.15307225]]),\n",
       " array([[255.63861316, 228.55682793, 218.24784819]]),\n",
       " array([[252.88653306, 226.03071977, 215.15331938]]),\n",
       " array([[nan, nan, nan]]),\n",
       " array([[nan, nan, nan]]),\n",
       " array([[nan, nan, nan]]),\n",
       " array([[nan, nan, nan]]),\n",
       " array([[nan, nan, nan]]),\n",
       " array([[nan, nan, nan]]),\n",
       " array([[nan, nan, nan]]),\n",
       " array([[nan, nan, nan]]),\n",
       " array([[nan, nan, nan]]),\n",
       " array([[nan, nan, nan]]),\n",
       " array([[nan, nan, nan]]),\n",
       " array([[nan, nan, nan]]),\n",
       " array([[nan, nan, nan]]),\n",
       " array([[nan, nan, nan]]),\n",
       " array([[nan, nan, nan]]),\n",
       " nan,\n",
       " nan,\n",
       " nan,\n",
       " nan,\n",
       " nan,\n",
       " nan,\n",
       " nan,\n",
       " nan,\n",
       " nan,\n",
       " nan,\n",
       " nan,\n",
       " nan]"
      ]
     },
     "execution_count": 22,
     "metadata": {},
     "output_type": "execute_result"
    }
   ],
   "source": [
    "re"
   ]
  },
  {
   "cell_type": "code",
   "execution_count": 15,
   "metadata": {},
   "outputs": [],
   "source": [
    "era = xarray.open_dataset('./era/era_1990.nc')"
   ]
  },
  {
   "cell_type": "code",
   "execution_count": 16,
   "metadata": {},
   "outputs": [
    {
     "data": {
      "text/html": [
       "<pre>&lt;xarray.Dataset&gt;\n",
       "Dimensions:    (latitude: 721, longitude: 1440, time: 12)\n",
       "Coordinates:\n",
       "  * longitude  (longitude) float32 0.0 0.25 0.5 0.75 ... 359.25 359.5 359.75\n",
       "  * latitude   (latitude) float32 90.0 89.75 89.5 89.25 ... -89.5 -89.75 -90.0\n",
       "  * time       (time) datetime64[ns] 1990-01-01 1990-02-01 ... 1990-12-01\n",
       "Data variables:\n",
       "    u10n       (time, latitude, longitude) float32 ...\n",
       "    v10n       (time, latitude, longitude) float32 ...\n",
       "    d2m        (time, latitude, longitude) float32 ...\n",
       "    t2m        (time, latitude, longitude) float32 ...\n",
       "    skt        (time, latitude, longitude) float32 ...\n",
       "    slt        (time, latitude, longitude) float32 ...\n",
       "    sp         (time, latitude, longitude) float32 ...\n",
       "Attributes:\n",
       "    Conventions:  CF-1.6\n",
       "    history:      2021-08-04 13:50:25 GMT by grib_to_netcdf-2.20.0: /opt/ecmw...</pre>"
      ],
      "text/plain": [
       "<xarray.Dataset>\n",
       "Dimensions:    (latitude: 721, longitude: 1440, time: 12)\n",
       "Coordinates:\n",
       "  * longitude  (longitude) float32 0.0 0.25 0.5 0.75 ... 359.25 359.5 359.75\n",
       "  * latitude   (latitude) float32 90.0 89.75 89.5 89.25 ... -89.5 -89.75 -90.0\n",
       "  * time       (time) datetime64[ns] 1990-01-01 1990-02-01 ... 1990-12-01\n",
       "Data variables:\n",
       "    u10n       (time, latitude, longitude) float32 ...\n",
       "    v10n       (time, latitude, longitude) float32 ...\n",
       "    d2m        (time, latitude, longitude) float32 ...\n",
       "    t2m        (time, latitude, longitude) float32 ...\n",
       "    skt        (time, latitude, longitude) float32 ...\n",
       "    slt        (time, latitude, longitude) float32 ...\n",
       "    sp         (time, latitude, longitude) float32 ...\n",
       "Attributes:\n",
       "    Conventions:  CF-1.6\n",
       "    history:      2021-08-04 13:50:25 GMT by grib_to_netcdf-2.20.0: /opt/ecmw..."
      ]
     },
     "execution_count": 16,
     "metadata": {},
     "output_type": "execute_result"
    }
   ],
   "source": [
    "era"
   ]
  },
  {
   "cell_type": "code",
   "execution_count": 13,
   "metadata": {},
   "outputs": [
    {
     "data": {
      "text/plain": [
       "[nan,\n",
       " nan,\n",
       " nan,\n",
       " nan,\n",
       " nan,\n",
       " nan,\n",
       " nan,\n",
       " nan,\n",
       " nan,\n",
       " nan,\n",
       " nan,\n",
       " nan,\n",
       " nan,\n",
       " nan,\n",
       " nan,\n",
       " nan,\n",
       " nan,\n",
       " nan,\n",
       " nan,\n",
       " nan,\n",
       " nan,\n",
       " nan,\n",
       " nan,\n",
       " nan,\n",
       " nan,\n",
       " nan,\n",
       " nan,\n",
       " nan,\n",
       " nan,\n",
       " nan,\n",
       " nan,\n",
       " nan,\n",
       " nan,\n",
       " nan,\n",
       " nan,\n",
       " nan,\n",
       " nan,\n",
       " nan,\n",
       " nan,\n",
       " nan,\n",
       " nan,\n",
       " nan,\n",
       " nan,\n",
       " nan,\n",
       " nan,\n",
       " nan,\n",
       " nan,\n",
       " nan,\n",
       " nan,\n",
       " nan,\n",
       " nan,\n",
       " nan,\n",
       " nan,\n",
       " nan,\n",
       " nan,\n",
       " nan,\n",
       " nan,\n",
       " nan,\n",
       " nan,\n",
       " nan,\n",
       " nan,\n",
       " nan,\n",
       " nan,\n",
       " nan,\n",
       " nan,\n",
       " nan,\n",
       " nan,\n",
       " nan,\n",
       " nan,\n",
       " nan,\n",
       " nan,\n",
       " nan,\n",
       " nan,\n",
       " nan,\n",
       " nan,\n",
       " nan,\n",
       " nan,\n",
       " nan,\n",
       " nan,\n",
       " nan,\n",
       " nan,\n",
       " nan,\n",
       " nan,\n",
       " nan,\n",
       " nan,\n",
       " nan,\n",
       " nan,\n",
       " nan,\n",
       " nan,\n",
       " nan,\n",
       " nan,\n",
       " nan,\n",
       " nan,\n",
       " nan,\n",
       " nan,\n",
       " nan,\n",
       " nan,\n",
       " nan,\n",
       " nan,\n",
       " nan,\n",
       " nan,\n",
       " nan,\n",
       " nan,\n",
       " nan,\n",
       " nan,\n",
       " nan,\n",
       " nan,\n",
       " nan,\n",
       " nan,\n",
       " nan,\n",
       " nan,\n",
       " nan,\n",
       " nan,\n",
       " nan,\n",
       " nan,\n",
       " nan,\n",
       " nan,\n",
       " nan,\n",
       " nan,\n",
       " nan,\n",
       " nan,\n",
       " nan,\n",
       " nan,\n",
       " nan,\n",
       " nan,\n",
       " nan,\n",
       " nan,\n",
       " nan,\n",
       " nan,\n",
       " nan,\n",
       " nan,\n",
       " nan,\n",
       " nan,\n",
       " nan,\n",
       " nan,\n",
       " nan,\n",
       " nan,\n",
       " nan,\n",
       " nan,\n",
       " nan,\n",
       " nan,\n",
       " nan,\n",
       " nan,\n",
       " nan,\n",
       " nan,\n",
       " nan,\n",
       " nan,\n",
       " nan,\n",
       " nan,\n",
       " nan,\n",
       " nan,\n",
       " nan,\n",
       " nan,\n",
       " nan,\n",
       " nan,\n",
       " nan,\n",
       " nan,\n",
       " nan,\n",
       " nan,\n",
       " nan,\n",
       " nan,\n",
       " nan,\n",
       " nan,\n",
       " nan,\n",
       " nan,\n",
       " nan,\n",
       " nan,\n",
       " nan,\n",
       " nan,\n",
       " nan,\n",
       " nan,\n",
       " nan,\n",
       " nan,\n",
       " nan,\n",
       " nan,\n",
       " nan,\n",
       " nan,\n",
       " nan,\n",
       " nan,\n",
       " nan,\n",
       " nan,\n",
       " nan,\n",
       " nan,\n",
       " nan,\n",
       " nan,\n",
       " nan,\n",
       " nan,\n",
       " nan,\n",
       " nan,\n",
       " nan,\n",
       " nan,\n",
       " nan,\n",
       " nan,\n",
       " nan,\n",
       " nan,\n",
       " nan,\n",
       " nan,\n",
       " nan,\n",
       " nan,\n",
       " nan,\n",
       " nan,\n",
       " nan,\n",
       " nan,\n",
       " nan,\n",
       " nan,\n",
       " nan,\n",
       " nan,\n",
       " nan,\n",
       " nan,\n",
       " nan,\n",
       " nan,\n",
       " nan,\n",
       " nan,\n",
       " nan,\n",
       " nan,\n",
       " nan,\n",
       " nan,\n",
       " nan,\n",
       " nan,\n",
       " nan,\n",
       " nan,\n",
       " nan,\n",
       " nan,\n",
       " nan,\n",
       " nan,\n",
       " nan,\n",
       " nan,\n",
       " nan,\n",
       " nan,\n",
       " nan,\n",
       " nan,\n",
       " nan,\n",
       " nan,\n",
       " nan,\n",
       " nan,\n",
       " nan,\n",
       " nan,\n",
       " nan,\n",
       " nan,\n",
       " nan,\n",
       " nan,\n",
       " nan,\n",
       " nan,\n",
       " nan,\n",
       " nan,\n",
       " nan,\n",
       " nan,\n",
       " nan,\n",
       " nan,\n",
       " nan,\n",
       " nan,\n",
       " nan,\n",
       " nan,\n",
       " nan,\n",
       " nan,\n",
       " nan,\n",
       " nan,\n",
       " nan,\n",
       " nan,\n",
       " nan,\n",
       " nan,\n",
       " nan,\n",
       " nan,\n",
       " nan,\n",
       " nan,\n",
       " nan,\n",
       " nan,\n",
       " nan,\n",
       " nan,\n",
       " nan,\n",
       " nan,\n",
       " nan,\n",
       " nan,\n",
       " nan,\n",
       " nan,\n",
       " nan,\n",
       " nan,\n",
       " nan,\n",
       " nan,\n",
       " nan,\n",
       " nan,\n",
       " nan,\n",
       " nan,\n",
       " nan,\n",
       " nan,\n",
       " nan,\n",
       " nan,\n",
       " nan,\n",
       " nan,\n",
       " nan,\n",
       " nan,\n",
       " nan,\n",
       " nan,\n",
       " nan,\n",
       " nan,\n",
       " nan,\n",
       " nan,\n",
       " nan,\n",
       " nan,\n",
       " nan,\n",
       " nan,\n",
       " nan,\n",
       " nan,\n",
       " nan,\n",
       " nan,\n",
       " nan,\n",
       " nan,\n",
       " nan,\n",
       " nan,\n",
       " nan,\n",
       " nan,\n",
       " nan,\n",
       " nan,\n",
       " nan,\n",
       " nan,\n",
       " nan,\n",
       " nan,\n",
       " nan,\n",
       " nan,\n",
       " nan,\n",
       " nan,\n",
       " nan,\n",
       " nan,\n",
       " nan,\n",
       " nan,\n",
       " nan,\n",
       " nan,\n",
       " nan,\n",
       " nan,\n",
       " nan,\n",
       " nan,\n",
       " nan,\n",
       " nan,\n",
       " nan,\n",
       " nan,\n",
       " nan,\n",
       " nan,\n",
       " nan,\n",
       " nan,\n",
       " nan,\n",
       " nan,\n",
       " nan,\n",
       " nan,\n",
       " nan,\n",
       " nan,\n",
       " nan,\n",
       " nan,\n",
       " nan,\n",
       " nan,\n",
       " nan,\n",
       " nan,\n",
       " nan,\n",
       " nan,\n",
       " nan,\n",
       " nan,\n",
       " nan,\n",
       " nan,\n",
       " nan,\n",
       " nan,\n",
       " nan,\n",
       " nan,\n",
       " nan,\n",
       " nan,\n",
       " nan,\n",
       " nan,\n",
       " nan,\n",
       " nan,\n",
       " nan,\n",
       " nan,\n",
       " nan,\n",
       " nan,\n",
       " nan,\n",
       " nan,\n",
       " nan,\n",
       " nan,\n",
       " nan,\n",
       " nan,\n",
       " nan,\n",
       " nan,\n",
       " nan,\n",
       " nan,\n",
       " nan,\n",
       " nan,\n",
       " nan,\n",
       " nan,\n",
       " nan,\n",
       " nan,\n",
       " nan,\n",
       " nan,\n",
       " nan,\n",
       " nan,\n",
       " nan,\n",
       " nan,\n",
       " nan,\n",
       " nan,\n",
       " nan,\n",
       " nan,\n",
       " nan,\n",
       " nan,\n",
       " nan,\n",
       " nan,\n",
       " nan,\n",
       " nan,\n",
       " nan,\n",
       " nan,\n",
       " nan,\n",
       " nan,\n",
       " nan,\n",
       " nan,\n",
       " nan,\n",
       " nan,\n",
       " nan,\n",
       " nan,\n",
       " nan,\n",
       " nan,\n",
       " nan,\n",
       " nan,\n",
       " nan,\n",
       " nan,\n",
       " nan,\n",
       " nan,\n",
       " nan,\n",
       " nan,\n",
       " nan,\n",
       " nan,\n",
       " nan,\n",
       " nan,\n",
       " nan,\n",
       " nan,\n",
       " nan,\n",
       " nan,\n",
       " nan,\n",
       " nan,\n",
       " nan,\n",
       " nan,\n",
       " nan,\n",
       " nan,\n",
       " nan,\n",
       " nan,\n",
       " nan,\n",
       " nan,\n",
       " nan,\n",
       " nan,\n",
       " nan,\n",
       " nan,\n",
       " nan,\n",
       " nan,\n",
       " nan,\n",
       " nan,\n",
       " nan,\n",
       " nan,\n",
       " nan,\n",
       " nan,\n",
       " nan,\n",
       " nan,\n",
       " nan,\n",
       " nan,\n",
       " nan,\n",
       " nan,\n",
       " nan,\n",
       " nan,\n",
       " nan,\n",
       " nan,\n",
       " nan,\n",
       " nan,\n",
       " nan,\n",
       " nan,\n",
       " nan,\n",
       " nan,\n",
       " nan,\n",
       " nan,\n",
       " nan,\n",
       " nan,\n",
       " nan,\n",
       " nan,\n",
       " nan,\n",
       " nan,\n",
       " nan,\n",
       " nan,\n",
       " nan,\n",
       " nan,\n",
       " nan,\n",
       " nan,\n",
       " nan,\n",
       " nan,\n",
       " nan,\n",
       " nan,\n",
       " nan,\n",
       " nan,\n",
       " nan,\n",
       " nan,\n",
       " nan]"
      ]
     },
     "execution_count": 13,
     "metadata": {},
     "output_type": "execute_result"
    }
   ],
   "source": [
    "refl"
   ]
  },
  {
   "cell_type": "code",
   "execution_count": null,
   "metadata": {},
   "outputs": [],
   "source": []
  },
  {
   "cell_type": "markdown",
   "metadata": {},
   "source": [
    "## compare to?"
   ]
  },
  {
   "cell_type": "code",
   "execution_count": 9,
   "metadata": {},
   "outputs": [
    {
     "data": {
      "text/html": [
       "<pre>&lt;xarray.DataArray &#x27;bt_anomaly_ls&#x27; (time: 511, lat: 72, lon: 144)&gt;\n",
       "[5298048 values with dtype=float32]\n",
       "Coordinates:\n",
       "  * lon      (lon) float32 -178.75 -176.25 -173.75 ... 173.75 176.25 178.75\n",
       "  * lat      (lat) float32 -88.75 -86.25 -83.75 -81.25 ... 83.75 86.25 88.75\n",
       "  * time     (time) datetime64[ns] 1978-12-16 1979-01-16 ... 2021-06-16\n",
       "Attributes:\n",
       "    units:          K\n",
       "    long_name:      NOAA Climate Data Record of monthly anomaly for lower str...\n",
       "    standard_name:  brightness_temperature_anomaly\n",
       "    valid_min:      -20.0\n",
       "    valid_max:      25.0\n",
       "    cell_methods:   area: mean time: mean</pre>"
      ],
      "text/plain": [
       "<xarray.DataArray 'bt_anomaly_ls' (time: 511, lat: 72, lon: 144)>\n",
       "[5298048 values with dtype=float32]\n",
       "Coordinates:\n",
       "  * lon      (lon) float32 -178.75 -176.25 -173.75 ... 173.75 176.25 178.75\n",
       "  * lat      (lat) float32 -88.75 -86.25 -83.75 -81.25 ... 83.75 86.25 88.75\n",
       "  * time     (time) datetime64[ns] 1978-12-16 1979-01-16 ... 2021-06-16\n",
       "Attributes:\n",
       "    units:          K\n",
       "    long_name:      NOAA Climate Data Record of monthly anomaly for lower str...\n",
       "    standard_name:  brightness_temperature_anomaly\n",
       "    valid_min:      -20.0\n",
       "    valid_max:      25.0\n",
       "    cell_methods:   area: mean time: mean"
      ]
     },
     "execution_count": 9,
     "metadata": {},
     "output_type": "execute_result"
    }
   ],
   "source": [
    "msu = xarray.open_dataset('./uah_mlt_tls_v06r00_monamg_s19781201_e20210630_c20210706.nc')\n",
    "msu.bt_anomaly_ls"
   ]
  },
  {
   "cell_type": "code",
   "execution_count": 10,
   "metadata": {},
   "outputs": [
    {
     "data": {
      "text/plain": [
       "[]"
      ]
     },
     "execution_count": 10,
     "metadata": {},
     "output_type": "execute_result"
    }
   ],
   "source": [
    "tsk = glob.glob('/fio/srvx7/leo/scratch/TSK/*')\n",
    "tsk"
   ]
  },
  {
   "cell_type": "markdown",
   "metadata": {},
   "source": [
    "---"
   ]
  },
  {
   "cell_type": "code",
   "execution_count": null,
   "metadata": {},
   "outputs": [],
   "source": []
  },
  {
   "cell_type": "code",
   "execution_count": null,
   "metadata": {},
   "outputs": [],
   "source": []
  }
 ],
 "metadata": {
  "kernelspec": {
   "display_name": "RTTOV-12.3-Kernel-py3",
   "language": "python",
   "name": "pyrttov3"
  },
  "language_info": {
   "codemirror_mode": {
    "name": "ipython",
    "version": 3
   },
   "file_extension": ".py",
   "mimetype": "text/x-python",
   "name": "python",
   "nbconvert_exporter": "python",
   "pygments_lexer": "ipython3",
   "version": "3.7.4"
  }
 },
 "nbformat": 4,
 "nbformat_minor": 4
}
