{
 "cells": [
  {
   "cell_type": "markdown",
   "metadata": {},
   "source": [
    "# Py - RTTOV\n",
    "\n",
    "[PDF Python Interface Guide - NWP/SAF](https://nwp-saf.eumetsat.int/site/download/documentation/rtm/docs_rttov12/rttov-wrapper.pdf)\n",
    "\n"
   ]
  },
  {
   "cell_type": "code",
   "execution_count": 1,
   "metadata": {},
   "outputs": [
    {
     "name": "stdout",
     "output_type": "stream",
     "text": [
      "/opt/conda/bin/python\n",
      "sys.version_info(major=3, minor=7, micro=4, releaselevel='final', serial=0)\n"
     ]
    },
    {
     "name": "stderr",
     "output_type": "stream",
     "text": [
      "/opt/conda/lib/python3.7/site-packages/ipykernel_launcher.py:12: FutureWarning: Passing a negative integer is deprecated in version 1.0 and will not be supported in future version. Instead, use None to not limit the column width.\n",
      "  if sys.path[0] == '':\n"
     ]
    }
   ],
   "source": [
    "# System information\n",
    "import pyrttov\n",
    "import numpy as np\n",
    "import os, sys, glob\n",
    "import xarray\n",
    "print(sys.executable)\n",
    "print(sys.version_info)\n",
    "import pandas as pd\n",
    "pd.set_option('display.max_columns', None)\n",
    "# pd.set_option('display.max_rows', None)\n",
    "pd.set_option('display.width', None)\n",
    "pd.set_option('display.max_colwidth', -1)"
   ]
  },
  {
   "cell_type": "code",
   "execution_count": 2,
   "metadata": {},
   "outputs": [],
   "source": [
    "def ef(p, t=None, over_water=True, over_ice=False, **kwargs):\n",
    "    \"\"\"\n",
    "    from\n",
    "    Sugidachi, T. and Fujiwara, M.: Correction of the Stepwise Change Observed at 0C in\n",
    "    Meisei RS2-91, RS-01G, and RS-06G Radiosonde Relative Humidity Profiles,\n",
    "    Journal of the Meteorological Society of Japan. Ser. II, 91(3), 323-336,\n",
    "    doi:10.2151/jmsj.2013-306, 2013.\n",
    "\n",
    "    Args:\n",
    "        t: air temperature K\n",
    "        p: air pressure Pa\n",
    "\n",
    "    Returns:\n",
    "        f : enhancement factor for saturation water vapor pressure\n",
    "            depending on air temperature and air pressure\n",
    "    \"\"\"\n",
    "    # Vaisala / Buck 1981  / WMO 2008\n",
    "    # 1.0016 + 3.15e-6*p - 0.074 / p  # kPa\n",
    "    if over_water:\n",
    "        return 1.0007 + (3.46e-6 * p / 100)\n",
    "    if over_ice:\n",
    "        return 1.0003 + (4.18e-6 * p / 100)\n",
    "    if t is not None:\n",
    "        return np.where(t < 273.16,\n",
    "                        1.0003 + (4.18e-6 * p / 100),\n",
    "                        1.0007 + (3.46e-6 * p / 100))"
   ]
  },
  {
   "cell_type": "code",
   "execution_count": 3,
   "metadata": {},
   "outputs": [],
   "source": [
    "def HylandWexler(temp, over_water=True, over_ice=False, **kwargs):\n",
    "    \"\"\"Hyland and Wexler (1983), also in Wexler and Hyland (1983): Stated ranges 173.16 ?\n",
    "    T < 273.16 for ice and 273.16 > 473.15 for liquid.\n",
    "\n",
    "    Used by Vaisala\n",
    "\n",
    "    ln( ew ) = -5800.2206/t + 1.3914993\n",
    "               - 0.48640239 * 10**(-1)*t\n",
    "               + 0.41764768 * 10**(-4)*t**2\n",
    "               - 0.14452093 * 10**(-7)*t**3\n",
    "               + 6.5459673*math.log(t)\n",
    "\n",
    "    ln( ei ) = -5674.5359/t + 6.3925247\n",
    "               - 0.96778430 * 10**(-2)*t\n",
    "               + 0.62215701 * 10**(-6)*t**2\n",
    "               + 0.20747825 * 10**(-8)*t**3\n",
    "               - 0.94840240 * 10**(-12)*t**4\n",
    "               + 4.1635019*math.log(t)\n",
    "\n",
    "    Args:\n",
    "        temp: air temperature in K\n",
    "        liquid_only: use only water vapor over liquid water\n",
    "        ice_only: use only water vapor over ice\n",
    "        kwargs: dummy\n",
    "\n",
    "    Returns:\n",
    "         es : saturation water vapor pressure in Pa\n",
    "    \"\"\"\n",
    "\n",
    "    def liquid(t):\n",
    "        return np.exp(\n",
    "            -5800.2206 / t + 1.3914993\n",
    "            - 0.48640239e-1 * t\n",
    "            + 0.41764768e-4 * t * t\n",
    "            - 0.14452093e-7 * t * t * t\n",
    "            + 6.5459673 * np.log(t)\n",
    "        )\n",
    "\n",
    "    def ice(t):\n",
    "        return np.exp(\n",
    "            -5674.5359 / t + 6.3925247\n",
    "            - 0.96778430e-2 * t\n",
    "            + 0.62215701e-6 * t * t\n",
    "            + 0.20747825e-8 * t * t * t\n",
    "            - 0.94840240e-12 * t * t * t * t\n",
    "            + 4.1635019 * np.log(t)\n",
    "        )\n",
    "\n",
    "    if over_water:\n",
    "        return liquid(temp)\n",
    "    elif over_ice:\n",
    "        return ice(temp)\n",
    "    else:\n",
    "        return np.where(temp < 273.16, ice(temp), liquid(temp))"
   ]
  },
  {
   "cell_type": "code",
   "execution_count": 4,
   "metadata": {},
   "outputs": [],
   "source": [
    "def svp(t, method='HylandWexler', p=None, **kwargs):\n",
    "    \"\"\"\n",
    "    Saturation water vapor pressure from Temperature\n",
    "    The equations by Hyland and Wexler [4], the nearly identical equation by Wexler (1976, see reference below) and\n",
    "    the equation by Sonntag [7] are the most commonly used equations among Radiosonde manufacturers\n",
    "    and should be used in upper air applications to avoid inconsistencies.\n",
    "\n",
    "    Known Saturation water Vapor Formulations:\n",
    "\n",
    "    Bolton 1980\n",
    "    Goff 1957, 1965        (180    - 273.15 / 273.15 - 373.15) 1957> WMO\n",
    "    Goff and Gratch 1946   (184    - 273.15 / 273.15 - 373.15)\n",
    "    Hyland and Wexler 1983 (173.16 - 273.15 / 273.15 - 473.15) Vaisala\n",
    "    IAPWS 1995             (173.15 - 273.15 / 273.15 - 647   ) Wagner and Pruss + Wagner 1994\n",
    "    Murphy and Koop 2005   (110    - 273.15 / 132      332   ) Ice formulation as well\n",
    "    Sonntag 1990           (173.15 - 273.15 / 273.15 - 373.15)\n",
    "    Sonntag 1994           (173.15 - 273.15 / 273.15 - 373.15)\n",
    "    Wagner 1994            (190    - 273.15                  )\n",
    "    Wagner and Pruss 1993  (190    - 273.15 / 273.15 - 647   )\n",
    "    Wexler 1976            (                  273.15 - 373.15)\n",
    "    Wright 1997\n",
    "\n",
    "    Args:\n",
    "        t: air temperature\n",
    "        method: string or function\n",
    "        p: pressure\n",
    "        **kwargs: additional keywords passed to function\n",
    "\n",
    "    Returns:\n",
    "        es : saturation water vapor pressure in Pa\n",
    "    \"\"\"\n",
    "    try:\n",
    "        if callable(method):\n",
    "            vpfunc = method\n",
    "        else:\n",
    "            vpfunc = eval(method)\n",
    "\n",
    "        if p is not None:\n",
    "            f = ef(p, **kwargs)\n",
    "        else:\n",
    "            f = 1.\n",
    "        return vpfunc(t, **kwargs) * f\n",
    "    except:\n",
    "        import sys\n",
    "        print(\"Functions: \", \", \".join([i for i in dir(sys.modules[__name__]) if i[0].upper() == i[0]]))"
   ]
  },
  {
   "cell_type": "code",
   "execution_count": 5,
   "metadata": {},
   "outputs": [],
   "source": [
    "def vap2sh(e, p):\n",
    "    \"\"\" Convert water vapor pressure to specific humidity\n",
    "    Parameters\n",
    "    ----------\n",
    "    e      Water vapor [Pa]\n",
    "    p      total air pressure [Pa]\n",
    "\n",
    "    Returns\n",
    "    -------\n",
    "    specific humidity (1 = kg/kg)\n",
    "    \"\"\"\n",
    "    rd = 287.05\n",
    "    rv = 461.50\n",
    "    c = rd/rv  # Rd/Rv = 0.6219934994582882\n",
    "    pa = p - e  # dry air pressure\n",
    "    return (e * c) / (e * c + pa)"
   ]
  },
  {
   "cell_type": "code",
   "execution_count": 6,
   "metadata": {},
   "outputs": [],
   "source": [
    "def dp_sh(dp, press):\n",
    "        vpdata = svp(dp, p=press)\n",
    "        q = vap2sh(vpdata, press)\n",
    "        return q\n",
    "       "
   ]
  },
  {
   "cell_type": "markdown",
   "metadata": {},
   "source": [
    "# PyRTTOV Testing"
   ]
  },
  {
   "cell_type": "code",
   "execution_count": 7,
   "metadata": {},
   "outputs": [],
   "source": [
    "era = xarray.open_dataset('./era_land_1990.nc')\n",
    "era_input = era.sel(time = '1990-12-01T00:00:00.000000000', latitude = 48.25, longitude = 16.370001, method='nearest')\n",
    "date = pd.to_datetime(float(era_input.time))"
   ]
  },
  {
   "cell_type": "code",
   "execution_count": 8,
   "metadata": {},
   "outputs": [],
   "source": [
    "# add file download once on srvx2\n",
    "dfsh = xarray.open_dataset(glob.glob('dest*spec*')[0]).hus.to_dataframe()\n",
    "dfta = xarray.open_dataset(glob.glob('dest*temp*')[0]).ta.to_dataframe()\n",
    "df = dfta.merge(dfsh, how='inner', on=['plev', 'time', 'lat', 'lon'])\n",
    "mon_mean = df.groupby(['plev']).aggregate({\"ta\":np.mean, \"hus\":np.mean})"
   ]
  },
  {
   "cell_type": "markdown",
   "metadata": {},
   "source": [
    "## compare to?"
   ]
  },
  {
   "cell_type": "code",
   "execution_count": 9,
   "metadata": {},
   "outputs": [
    {
     "data": {
      "text/html": [
       "<pre>&lt;xarray.DataArray &#x27;bt_anomaly_ls&#x27; (time: 511, lat: 72, lon: 144)&gt;\n",
       "[5298048 values with dtype=float32]\n",
       "Coordinates:\n",
       "  * lon      (lon) float32 -178.75 -176.25 -173.75 ... 173.75 176.25 178.75\n",
       "  * lat      (lat) float32 -88.75 -86.25 -83.75 -81.25 ... 83.75 86.25 88.75\n",
       "  * time     (time) datetime64[ns] 1978-12-16 1979-01-16 ... 2021-06-16\n",
       "Attributes:\n",
       "    units:          K\n",
       "    long_name:      NOAA Climate Data Record of monthly anomaly for lower str...\n",
       "    standard_name:  brightness_temperature_anomaly\n",
       "    valid_min:      -20.0\n",
       "    valid_max:      25.0\n",
       "    cell_methods:   area: mean time: mean</pre>"
      ],
      "text/plain": [
       "<xarray.DataArray 'bt_anomaly_ls' (time: 511, lat: 72, lon: 144)>\n",
       "[5298048 values with dtype=float32]\n",
       "Coordinates:\n",
       "  * lon      (lon) float32 -178.75 -176.25 -173.75 ... 173.75 176.25 178.75\n",
       "  * lat      (lat) float32 -88.75 -86.25 -83.75 -81.25 ... 83.75 86.25 88.75\n",
       "  * time     (time) datetime64[ns] 1978-12-16 1979-01-16 ... 2021-06-16\n",
       "Attributes:\n",
       "    units:          K\n",
       "    long_name:      NOAA Climate Data Record of monthly anomaly for lower str...\n",
       "    standard_name:  brightness_temperature_anomaly\n",
       "    valid_min:      -20.0\n",
       "    valid_max:      25.0\n",
       "    cell_methods:   area: mean time: mean"
      ]
     },
     "execution_count": 9,
     "metadata": {},
     "output_type": "execute_result"
    }
   ],
   "source": [
    "msu = xarray.open_dataset('./uah_mlt_tls_v06r00_monamg_s19781201_e20210630_c20210706.nc')\n",
    "msu.bt_anomaly_ls"
   ]
  },
  {
   "cell_type": "code",
   "execution_count": 10,
   "metadata": {},
   "outputs": [
    {
     "data": {
      "text/plain": [
       "[]"
      ]
     },
     "execution_count": 10,
     "metadata": {},
     "output_type": "execute_result"
    }
   ],
   "source": [
    "tsk = glob.glob('/fio/srvx7/leo/scratch/TSK/*')\n",
    "tsk"
   ]
  },
  {
   "cell_type": "markdown",
   "metadata": {},
   "source": [
    "---"
   ]
  },
  {
   "cell_type": "markdown",
   "metadata": {},
   "source": [
    "## RTTOV Function"
   ]
  },
  {
   "cell_type": "code",
   "execution_count": 11,
   "metadata": {},
   "outputs": [],
   "source": [
    "def rttov_calc(ascent, era, date):\n",
    "    rttov_installdir = '/rttov/'\n",
    "\n",
    "    # ------------------------------------------------------------------------\n",
    "    # Set up the profile data\n",
    "    # ------------------------------------------------------------------------\n",
    "\n",
    "    # Declare an instance of Profiles\n",
    "    nlevels = len(ascent.index)\n",
    "    nprofiles = 1\n",
    "    myProfiles = pyrttov.Profiles(nprofiles, nlevels)\n",
    "\n",
    "    # Associate the profiles and other data from example_data.h with myProfiles\n",
    "    # Note that the simplecloud, clwscheme, icecloud and zeeman data are not mandatory and\n",
    "    # are omitted here\n",
    "\n",
    "    def expand2nprofiles(n, nprof):\n",
    "        # Transform 1D array to a [nprof, nlevels] array\n",
    "        outp = np.empty((nprof, len(n)), dtype=n.dtype)\n",
    "        for i in range(nprof):\n",
    "            outp[i, :] = n[:]\n",
    "        return outp\n",
    "\n",
    "    myProfiles.GasUnits = 1\n",
    "    myProfiles.P = expand2nprofiles(np.array(ascent.index)/100., nprofiles) \n",
    "#     print(myProfiles.P)\n",
    "    myProfiles.T = expand2nprofiles(np.array(ascent.ta), nprofiles) \n",
    "#     print(myProfiles.T)\n",
    "    myProfiles.Q = expand2nprofiles(np.array(ascent.hus), nprofiles) \n",
    "#     print(myProfiles.Q)\n",
    "    \n",
    "    \n",
    "    \n",
    "    myProfiles.Angles = [[0, 0, 45, 180]]\n",
    "    # satzen, satazi, sunzen, sunazi\n",
    "    myProfiles.S2m = [[float(era.sp)/100., float(era.t2m), dp_sh(float(era.d2m), float(era.sp)), float(era.u10), float(era.v10), 100000]]\n",
    "    print(myProfiles.S2m)\n",
    "    # s2m%p, s2m%t, s2m%q, s2m%u, s2m%v, s2m%wfetch\n",
    "    myProfiles.Skin = [[float(era.skt), 0, 0, float(era.snowc)/100., 3.0, 5., 15, 0.1, 0.3, 0]]\n",
    "    # (skin%t, skin%salinity, skin%foam_fraction, skin%snow_fraction skin%fastem(1:5)) --> fastem default =  3.0, 5., 15, 0.1, 0.3, 0\n",
    "    myProfiles.SurfType = [[0, 0]]\n",
    "    # skin%surftype\n",
    "    myProfiles.SurfGeom = [[df.lat.iloc[0], df.lon.iloc[0], 0.]]\n",
    "    # (latitude, longitude, elevation)\n",
    "    myProfiles.DateTimes = [[date.year, date.month, date.day, 0, 0, 0]]\n",
    "    # (year, month, day, hour, minute, second)\n",
    "    \n",
    "    \n",
    "    # ------------------------------------------------------------------------\n",
    "    # Set up Rttov instances for each instrument\n",
    "    # ------------------------------------------------------------------------\n",
    "\n",
    "    # Create three Rttov objects for three instruments\n",
    "    msuRttov = pyrttov.Rttov()\n",
    "\n",
    "    nchan_msu = 3\n",
    "    chan_list_msu = [2, 3, 4]\n",
    "\n",
    "    # Set the options for each Rttov instance:\n",
    "    # - the path to the coefficient file must always be specified\n",
    "    # - turn RTTOV interpolation on (because input pressure levels differ from\n",
    "    #   coefficient file levels)\n",
    "    # - set the verbose_wrapper flag to true so the wrapper provides more\n",
    "    #   information\n",
    "    # - enable solar simulations for SEVIRI\n",
    "    # - enable CO2 simulations for HIRS (the CO2 profiles are ignored for\n",
    "    #   the SEVIRI and MHS simulations)\n",
    "    # - enable the store_trans wrapper option for MHS to provide access to\n",
    "    #   RTTOV transmission structure\n",
    "#     print(\"/rttov/rtcoef_rttov12/rttov7pred54L/rtcoef_noaa_14_msu.dat\")\n",
    "#     msuRttov.FileCoef = '{}/{}'.format(rttov_installdir,\n",
    "#                                        \"rtcoef_rttov12/rttov7pred54L/rtcoef_noaa_14_msu.dat\")\n",
    "    msuRttov.FileCoef = \"/rttov/rtcoef_rttov12/rttov7pred54L/rtcoef_noaa_14_msu.dat\"\n",
    "    msuRttov.Options.AddInterp = True\n",
    "#     msuRttov.Options.AddSolar = True\n",
    "#     msuRttov.Options.CO2Data = False\n",
    "    msuRttov.Options.VerboseWrapper = True\n",
    "\n",
    "\n",
    "    # Load the instruments: for HIRS and MHS do not supply a channel list and\n",
    "    # so read all channels\n",
    "#     try:\n",
    "    msuRttov.loadInst(channels=chan_list_msu)\n",
    "#     msuRttov.loadInst()\n",
    "#     except pyrttov.RttovError as e:\n",
    "#         sys.stderr.write(\"Error loading instrument(s): {!s}\".format(e))\n",
    "#         sys.exit(1)\n",
    "\n",
    "    # Associate the profiles with each Rttov instance\n",
    "    msuRttov.Profiles = myProfiles\n",
    "\n",
    "    # ------------------------------------------------------------------------\n",
    "    # Load the emissivity and BRDF atlases\n",
    "    # ------------------------------------------------------------------------\n",
    "\n",
    "    # Load the emissivity and BRDF atlases:\n",
    "    # - load data for the month in the profile data\n",
    "    # - load the IR emissivity atlas data for multiple instruments so it can be used for SEVIRI and HIRS\n",
    "    # - SEVIRI is the only VIS/NIR instrument we can use the single-instrument initialisation for the BRDF atlas\n",
    "\n",
    "#     irAtlas = pyrttov.Atlas()\n",
    "#     irAtlas.AtlasPath = '{}/{}'.format(rttov_installdir, \"emis_data\")\n",
    "#     irAtlas.loadIrEmisAtlas(ex.datetimes[1][0], ang_corr=True) # Include angular correction, but do not initialise for single-instrument\n",
    "\n",
    "#     brdfAtlas = pyrttov.Atlas()\n",
    "#     brdfAtlas.AtlasPath = '{}/{}'.format(rttov_installdir, \"brdf_data\")\n",
    "#     brdfAtlas.loadBrdfAtlas(ex.datetimes[1][0], msuRttov) # Supply Rttov object to enable single-instrument initialisation\n",
    "#     brdfAtlas.IncSea = False                                 # Do not use BRDF atlas for sea surface types\n",
    "\n",
    "    # TELSEM2 atlas does not require an Rttov object to initialise\n",
    "    mwAtlas = pyrttov.Atlas()\n",
    "    mwAtlas.AtlasPath = '{}/{}'.format(rttov_installdir, \"emis_data\")\n",
    "    mwAtlas.loadMwEmisAtlas(date.month)\n",
    "\n",
    "    # Set up the surface emissivity/reflectance arrays and associate with the Rttov objects\n",
    "    surfemisrefl_msu = np.zeros((2,nprofiles,nchan_msu), dtype=np.float64)\n",
    "\n",
    "#     seviriRttov.SurfEmisRefl = surfemisrefl_msu\n",
    "\n",
    "    # ------------------------------------------------------------------------\n",
    "    # Call RTTOV\n",
    "    # ------------------------------------------------------------------------\n",
    "\n",
    "    # Surface emissivity/reflectance arrays must be initialised *before every call to RTTOV*\n",
    "    # Negative values will cause RTTOV to supply emissivity/BRDF values (i.e. equivalent to\n",
    "    # calcemis/calcrefl TRUE - see RTTOV user guide)\n",
    "\n",
    "    surfemisrefl_msu[:,:,:] = -1.\n",
    "\n",
    "    # Call emissivity and BRDF atlases\n",
    "    try:\n",
    "        # Do not supply a channel list for SEVIRI: this returns emissivity/BRDF values for all\n",
    "        # *loaded* channels which is what is required\n",
    "#         surfemisrefl_seviri[0,:,:] = irAtlas.getEmisBrdf(seviriRttov)\n",
    "#         surfemisrefl_seviri[1,:,:] = brdfAtlas.getEmisBrdf(seviriRttov)\n",
    "#         surfemisrefl_hirs[0,:,:] = irAtlas.getEmisBrdf(hirsRttov)\n",
    "#         surfemisrefl_mhs[0,:,:] = mwAtlas.getEmisBrdf(mhsRttov)\n",
    "\n",
    "        surfemisrefl_msu[0,:,:] = mwAtlas.getEmisBrdf(msuRttov)\n",
    "\n",
    "\n",
    "    except pyrttov.RttovError as e:\n",
    "        # If there was an error the emissivities/BRDFs will not have been modified so it\n",
    "        # is OK to continue and call RTTOV with calcemis/calcrefl set to TRUE everywhere\n",
    "        sys.stderr.write(\"Error calling atlas: {!s}\".format(e))\n",
    "\n",
    "    # Call the RTTOV direct model for each instrument:\n",
    "    # no arguments are supplied to runDirect so all loaded channels are\n",
    "    # simulated\n",
    "    try:\n",
    "        msuRttov.runDirect()\n",
    "    except pyrttov.RttovError as e:\n",
    "        sys.stderr.write(\"Error running RTTOV direct model: {!s}\".format(e))\n",
    "        sys.exit(1)\n",
    "\n",
    "    # ------------------------------------------------------------------------\n",
    "    # Print out some of the output\n",
    "    # ------------------------------------------------------------------------\n",
    "\n",
    "    print\n",
    "    print(\"SELECTED OUTPUT\")\n",
    "    print\n",
    "\n",
    "    print(\"MSU visible channel reflectances, channels 2-4\")\n",
    "    for p in range(nprofiles):\n",
    "        print(\"Profile {:d}:\".format(p))\n",
    "        for c in range(3):\n",
    "            print(\"  Ch #{:02d} refl={:f}\".format(chan_list_msu[c],\n",
    "                                                  msuRttov.BtRefl[p, c]))\n",
    "        print\n"
   ]
  },
  {
   "cell_type": "code",
   "execution_count": 12,
   "metadata": {},
   "outputs": [
    {
     "name": "stdout",
     "output_type": "stream",
     "text": [
      "[[ 9.94857500e+02  2.72990784e+02  3.19188769e-03  3.51635724e-01\n",
      "  -7.43990904e-03  1.00000000e+05]]\n"
     ]
    },
    {
     "name": "stderr",
     "output_type": "stream",
     "text": [
      "Load successful >>>>> inst_id : 1, nchannels : 3.\n"
     ]
    },
    {
     "name": "stdout",
     "output_type": "stream",
     "text": [
      "SELECTED OUTPUT\n",
      "MSU visible channel reflectances, channels 2-4\n",
      "Profile 0:\n",
      "  Ch #02 refl=243.319515\n",
      "  Ch #03 refl=225.146483\n",
      "  Ch #04 refl=217.747758\n"
     ]
    },
    {
     "name": "stderr",
     "output_type": "stream",
     "text": [
      "MW emissivity atlas loaded successfully\n",
      "No surface emissivity/reflectance supplied: setting calcemis and calcrefl to true\n",
      "Deallocating this inst_id.\n",
      "Atlas deallocated.\n"
     ]
    }
   ],
   "source": [
    "rttov_calc(mon_mean, era_input, date)"
   ]
  },
  {
   "cell_type": "code",
   "execution_count": null,
   "metadata": {},
   "outputs": [],
   "source": []
  },
  {
   "cell_type": "code",
   "execution_count": null,
   "metadata": {},
   "outputs": [],
   "source": []
  }
 ],
 "metadata": {
  "kernelspec": {
   "display_name": "RTTOV-12.3-Kernel-py3",
   "language": "python",
   "name": "pyrttov3"
  },
  "language_info": {
   "codemirror_mode": {
    "name": "ipython",
    "version": 3
   },
   "file_extension": ".py",
   "mimetype": "text/x-python",
   "name": "python",
   "nbconvert_exporter": "python",
   "pygments_lexer": "ipython3",
   "version": "3.7.4"
  }
 },
 "nbformat": 4,
 "nbformat_minor": 4
}
