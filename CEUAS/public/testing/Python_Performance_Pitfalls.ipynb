{
 "cells": [
  {
   "cell_type": "code",
   "execution_count": 1,
   "metadata": {},
   "outputs": [
    {
     "name": "stdout",
     "output_type": "stream",
     "text": [
      "Using matplotlib backend: Qt5Agg\n",
      "Populating the interactive namespace from numpy and matplotlib\n",
      "3.9.7 (default, Sep 16 2021, 13:09:58) \n",
      "[GCC 7.5.0]\n"
     ]
    },
    {
     "ename": "ModuleNotFoundError",
     "evalue": "No module named 'eccodes'",
     "output_type": "error",
     "traceback": [
      "\u001b[0;31m---------------------------------------------------------------------------\u001b[0m",
      "\u001b[0;31mModuleNotFoundError\u001b[0m                       Traceback (most recent call last)",
      "\u001b[0;32m/tmp/ipykernel_20228/2152932816.py\u001b[0m in \u001b[0;36m<module>\u001b[0;34m\u001b[0m\n\u001b[1;32m      8\u001b[0m \u001b[0;32mimport\u001b[0m \u001b[0mpandas\u001b[0m \u001b[0;32mas\u001b[0m \u001b[0mpd\u001b[0m\u001b[0;34m\u001b[0m\u001b[0;34m\u001b[0m\u001b[0m\n\u001b[1;32m      9\u001b[0m \u001b[0;32mfrom\u001b[0m \u001b[0mnetCDF4\u001b[0m \u001b[0;32mimport\u001b[0m \u001b[0mDataset\u001b[0m\u001b[0;34m\u001b[0m\u001b[0;34m\u001b[0m\u001b[0m\n\u001b[0;32m---> 10\u001b[0;31m \u001b[0;32mimport\u001b[0m \u001b[0meccodes\u001b[0m\u001b[0;34m\u001b[0m\u001b[0;34m\u001b[0m\u001b[0m\n\u001b[0m",
      "\u001b[0;31mModuleNotFoundError\u001b[0m: No module named 'eccodes'"
     ]
    }
   ],
   "source": [
    "import h5py\n",
    "%pylab\n",
    "%matplotlib inline\n",
    "import sys\n",
    "print(sys.version)\n",
    "from numba import njit,prange\n",
    "import xarray as xr\n",
    "import pandas as pd\n",
    "from netCDF4 import Dataset\n",
    "import eccodes"
   ]
  },
  {
   "cell_type": "markdown",
   "metadata": {},
   "source": [
    "## Avoiding common python performance pitfalls when using xarray or pandas\n",
    "\n",
    "- Credo: xarray, pandas are neat, useful for teaching, fast with some operations, but some functions are poorly implemented. \n",
    "- Some of those are highlighted and workarounds using numpy, numba are presented\n",
    "- first part is on accessing a 3D regular gridded .nc file\n",
    "    - read speed\n",
    "    - computation speed\n",
    "- second part is on accessing a table-like .nc timeseries file\n",
    "    - date selection\n",
    "    \n",
    "- Way of demonstration: In each code cell we present a \"standard\" way and one or two alternative faster ways. After each code cell there is a discussion cell interpreting the results\n"
   ]
  },
  {
   "cell_type": "markdown",
   "metadata": {},
   "source": [
    "### Example: Find minimum pressure of zero degree line and where it varies the most in time in the given month"
   ]
  },
  {
   "cell_type": "code",
   "execution_count": 200,
   "metadata": {},
   "outputs": [
    {
     "name": "stdout",
     "output_type": "stream",
     "text": [
      "(124, 181, 360)\n",
      "3.604 sec\n",
      "521.8829\n",
      "-46.0 0.0 53.60556\n"
     ]
    },
    {
     "name": "stderr",
     "output_type": "stream",
     "text": [
      "C:\\Users\\leopo\\anaconda3\\lib\\site-packages\\numpy\\lib\\nanfunctions.py:1664: RuntimeWarning: Degrees of freedom <= 0 for slice.\n",
      "  var = nanvar(a, axis=axis, dtype=dtype, out=out, ddof=ddof,\n"
     ]
    },
    {
     "data": {
      "image/png": "[encoded data removed]",
      "text/plain": [
       "<Figure size 432x288 with 1 Axes>"
      ]
     },
     "metadata": {
      "needs_background": "light"
     },
     "output_type": "display_data"
    }
   ],
   "source": [
    "def pzero(p,t): # function returns estimated pressure of first occurence of zero degree level when moving from 200hPa downward.\n",
    "                # If all temperatures are below zero it returns NaN\n",
    "    idx=where(t>273.15)[0]\n",
    "    if len(idx)>0:\n",
    "        pz=((273.15-t[idx[0]-1])*p[idx[0]]+(t[idx[0]]-273.15)*p[idx[0]-1])/(t[idx[0]]-t[idx[0]-1])\n",
    "        return pz\n",
    "    else:\n",
    "        return NaN\n",
    "\n",
    "def pzerostd(T,pzeros): # calculates standard deviation of zero degree pressure level\n",
    "    varpzero=nanstd(pzeros,axis=0)\n",
    "    iflat=nanargmax(varpzero)\n",
    "    mlat=iflat//varpzero.shape[1]\n",
    "    mlon=iflat%varpzero.shape[1]\n",
    "    print(T.latitude.values[mlat],T.longitude.values[mlon],varpzero[mlat,mlon])\n",
    "\n",
    "def zerostd(T,ifile): # calculates zero degree pressure level for some  lats,lons,times\n",
    "    pzeros=full([T.shape[0],T.shape[2],T.shape[3]],NaN,dtype=float32)\n",
    "    print(pzeros.shape)\n",
    "    tt=time.time()\n",
    "    for itime in range(2): #T.shape[0]):\n",
    "        for ilat in range(0,T.shape[2]):\n",
    "            for ilon in range(1):\n",
    "                pzeros[itime,ilat,ilon]=pzero(T.level[7:],T[itime,7:,ilat,ilon])\n",
    "                #print(T[itime,7:,ilat,ilon])\n",
    "        \n",
    "    plot(T.latitude,pzeros[0,:,0])\n",
    "    print('{:5.3f} sec'.format(time.time()-tt))\n",
    "    print(nanmin(pzeros[pzeros>0]))\n",
    "    pzerostd(T,pzeros)\n",
    "            #print(itime)\n",
    "\n",
    "ifile='era5.202001.130.nc'\n",
    "T=xr.open_dataarray(ifile)\n",
    "zerostd(T,ifile)\n"
   ]
  },
  {
   "cell_type": "markdown",
   "metadata": {},
   "source": [
    "### Discussion:\n",
    "- Function pzero is called for every atmospheric column in the month (ca 7 million times)\n",
    "- Function pzero analyzes the t-profile from 200 hPa (level 7) downward. It looks for the first occurence of a temperature above zero C. Then it approximates the zero level by linear interpolation\n",
    "- Function pzero is called with slices of xarray objects - (9 plevels and T values). This involves lots of overhead for copying metadata\n",
    "- array pzeros contains pressure values of zero deg at every time,lat,lon - use numpy functions to find minimum, location of maximum variance\n",
    "- Note time loop goes only to 2 instead of 124 and lon loop has only one value. Otherwise this evaluation would take more than an hour!\n"
   ]
  },
  {
   "cell_type": "code",
   "execution_count": 201,
   "metadata": {},
   "outputs": [
    {
     "name": "stdout",
     "output_type": "stream",
     "text": [
      "(124, 181, 360)\n",
      "0.828 sec\n",
      "521.8829\n",
      "-46.0 0.0 53.60556\n"
     ]
    }
   ],
   "source": [
    "def zerostd2(T,ifile):\n",
    "    pzeros=full([T.shape[0],T.shape[2],T.shape[3]],NaN,dtype=float32)\n",
    "    print(pzeros.shape)\n",
    "    tt=time.time()\n",
    "    levs=T.level[7:].values\n",
    "    Ts=T[:,7:,:,:].values\n",
    "    for itime in range(2): #T.shape[0]):\n",
    "        for ilat in range(T.shape[2]):\n",
    "            for ilon in range(1):\n",
    "                pzeros[itime,ilat,ilon]=pzero(levs,Ts[itime,:,ilat,ilon])\n",
    "        \n",
    "    print('{:5.3f} sec'.format(time.time()-tt))\n",
    "    #plot(T.latitude,pzeros[0,:,0])\n",
    "    print(nanmin(pzeros[pzeros>0]))\n",
    "    pzerostd(T,pzeros)\n",
    "zerostd2(T,ifile)\n"
   ]
  },
  {
   "cell_type": "markdown",
   "metadata": {},
   "source": [
    "### Discussion:\n",
    "- zerostd2 now calls pzeros as above, but with numpy arrays instead of xarray objects\n",
    "- This leads to a 2.1x speedup, but performance is still not exciting"
   ]
  },
  {
   "cell_type": "code",
   "execution_count": 202,
   "metadata": {},
   "outputs": [],
   "source": [
    "@njit   # The njit decorator induces compilation of the function, allowing speeds similar to C and Fortran. Works only with numpy arrays\n",
    "def pzeroarr(p,t,pz):\n",
    "    for itime in range(t.shape[0]): #t.shape[0]):\n",
    "        for ilat in range(0,t.shape[2]):\n",
    "            for ilon in range(t.shape[3]):\n",
    "                idx=where(t[itime,7:,ilat,ilon]>273.15)[0]\n",
    "                if len(idx)>0:\n",
    "                    pz[itime,ilat,ilon]=((273.15-t[itime,7+idx[0]-1,ilat,ilon])*p[7+idx[0]]+(t[itime,7+idx[0],ilat,ilon]-273.15)*p[7+idx[0]-1])/\\\n",
    "                    (t[itime,7+idx[0],ilat,ilon]-t[itime,7+idx[0]-1,ilat,ilon])\n",
    "                else:\n",
    "                    pass\n",
    "    return pz\n",
    "\n"
   ]
  },
  {
   "cell_type": "markdown",
   "metadata": {},
   "source": [
    "### Discussion: \n",
    "- In the above examples, we called a user defined function 7 million times. This potentially causes a lot of overhead. To avoid this we \"inline\" the zero temperature pressure calculation.  \n",
    "- The pzeroarr function can again be called with xarray or numpy array arguments.\n",
    "- When called with numpy arrays we can activate the @njit decorator, which compiles the function to machine code. "
   ]
  },
  {
   "cell_type": "code",
   "execution_count": 203,
   "metadata": {},
   "outputs": [
    {
     "name": "stdout",
     "output_type": "stream",
     "text": [
      "(124, 181, 360)\n",
      "3.749 sec\n",
      "473.6386\n",
      "40.0 288.0 118.89815\n"
     ]
    },
    {
     "name": "stderr",
     "output_type": "stream",
     "text": [
      "C:\\Users\\leopo\\anaconda3\\lib\\site-packages\\numpy\\lib\\nanfunctions.py:1664: RuntimeWarning: Degrees of freedom <= 0 for slice.\n",
      "  var = nanvar(a, axis=axis, dtype=dtype, out=out, ddof=ddof,\n"
     ]
    }
   ],
   "source": [
    "def zerostd3(T,ifile):\n",
    "    pzeros=full([T.shape[0],T.shape[2],T.shape[3]],NaN,dtype=float32)\n",
    "    print(pzeros.shape)\n",
    "    tt=time.time()\n",
    "    #pzeros=pzeroarr(T.level,T,pzeros) # call with xarray objects\n",
    "    pzeros=pzeroarr(T.level.values,T.values,pzeros)\n",
    "        \n",
    "        #plot(T.latitude,pzeros[0,:,0])\n",
    "    print('{:5.3f} sec'.format(time.time()-tt))\n",
    "    print(nanmin(pzeros[pzeros>0]))\n",
    "    pzerostd(T,pzeros)\n",
    "zerostd3(T,ifile)\n"
   ]
  },
  {
   "cell_type": "markdown",
   "metadata": {},
   "source": [
    "### Discussion:\n",
    "- When we call the pzeroarr function with xarray arguments, the calculation still takes 1.4 seconds for 1 longitude and 2 latitudes -> no speedup.\n",
    "- If we call it with numpy arrays instead, the calculation is finished in 0.04 seconds. When we loop over the full range it is finished after 64 seconds. A 30x speedup!\n",
    "- If we call it with numpy arrays, we can also compile the function (with the @njit decorator). Now the calculation finishes after 1.5 seconds! A 1200x speedup!"
   ]
  },
  {
   "cell_type": "code",
   "execution_count": 204,
   "metadata": {},
   "outputs": [],
   "source": [
    "@njit(fastmath=True,parallel=True)\n",
    "def pzeroarr2(p,t,pz):\n",
    "    for itime in prange(t.shape[0]): #T.shape[0]):\n",
    "        for ilat in range(0,t.shape[2]):\n",
    "            for ilon in range(t.shape[3]):\n",
    "                idx=7\n",
    "                while t[itime,idx,ilat,ilon]<273.15:\n",
    "                    idx+=1\n",
    "                    if idx==t.shape[1]:\n",
    "                        break\n",
    "                if idx<t.shape[1]:\n",
    "                    pz[itime,ilat,ilon]=((273.15-t[itime,idx-1,ilat,ilon])*p[idx]+(t[itime,idx,ilat,ilon]-273.15)*p[idx-1])/\\\n",
    "                    (t[itime,idx,ilat,ilon]-t[itime,idx-1,ilat,ilon])\n",
    "                else:\n",
    "                    pass\n",
    "    return pz\n",
    "\n"
   ]
  },
  {
   "cell_type": "markdown",
   "metadata": {},
   "source": [
    "### Discussion:\n",
    "- The pzeroarr function has this call to numpy.where. This is not overly efficient, since it returns the indices of all values with T>0 at one lat/lon/time. We need only the first index. \n",
    "- Since we compile the function with @njit, which speeds up loops dramatically, we replace the numpy.where function with a while loop. Since T normally rises monotonically, we can break out of the loop if the first value>0 C is found. \n",
    "- We also avoid double indexing."
   ]
  },
  {
   "cell_type": "code",
   "execution_count": 205,
   "metadata": {},
   "outputs": [
    {
     "name": "stdout",
     "output_type": "stream",
     "text": [
      "(124, 181, 360)\n",
      "0.822 sec\n",
      "473.6386\n",
      "40.0 288.0 118.89815\n",
      "Total 0.926 sec\n"
     ]
    },
    {
     "name": "stderr",
     "output_type": "stream",
     "text": [
      "C:\\Users\\leopo\\anaconda3\\lib\\site-packages\\numpy\\lib\\nanfunctions.py:1664: RuntimeWarning: Degrees of freedom <= 0 for slice.\n",
      "  var = nanvar(a, axis=axis, dtype=dtype, out=out, ddof=ddof,\n"
     ]
    }
   ],
   "source": [
    "def zerostd3(T,ifile):\n",
    "    ttt=time.time()\n",
    "    pzeros=full([T.shape[0],T.shape[2],T.shape[3]],NaN,dtype=float32)\n",
    "    print(pzeros.shape)\n",
    "    tt=time.time()\n",
    "    pzeros=pzeroarr2(T.level.values,T.values,pzeros)\n",
    "    print('{:5.3f} sec'.format(time.time()-tt))        \n",
    "        #plot(T.latitude,pzeros[0,:,0])\n",
    "    print(nanmin(pzeros[pzeros>0]))\n",
    "    pzerostd(T,pzeros)\n",
    "    print('Total {:5.3f} sec'.format(time.time()-ttt))        \n",
    "    \n",
    "zerostd3(T,ifile)"
   ]
  },
  {
   "cell_type": "markdown",
   "metadata": {},
   "source": [
    "### Discussion: \n",
    "- Avoiding the while loop gives us another 20x speedup. Total speedup 25000x!\n",
    "- We can improve even more if we use the fastmath option (5%)\n",
    "- Using the parallel option and prange for the outer loop, we get another 2.2x speedup on my 4 core laptop. Speedup of the 0 C level calculation is now 50k, that means 0.03 sec instead of more than an hour!\n",
    "- Now the other functions (reading the file, finding the mean and standard deviation) take most of the time. "
   ]
  },
  {
   "cell_type": "markdown",
   "metadata": {},
   "source": [
    "## Part 2 # Efficient read of non-gridded observation data\n",
    "Also reading 1D data can pose performance challenges. This section gives a few hints for efficient searching  of tables."
   ]
  },
  {
   "cell_type": "markdown",
   "metadata": {},
   "source": [
    "### Discussion:\n",
    "- This is a complicated netcdf files with several tables, organized into groups. The largest table is the observations_table, which can be selected with the group option.\n",
    "- The table consists of 46 columns and 67 million rows. \n",
    "- The table is sorted along columns observed_variable, date_time and z_coordinate"
   ]
  },
  {
   "cell_type": "markdown",
   "metadata": {},
   "source": [
    "### Task: Extract time series of 0 C pressure, as for the gridded data, check if there is a negative trend. \n",
    "- we know that the observed_variable value for temperature is 85 and that pressure is measured in Pa.\n",
    "- Number of pressure levels varies per ascent. ~10 at the beginning, several 100 near the end.\n",
    "- The time comes in xarray as datetime64 object.\n",
    "- Let's plot the time series first, say on the 500 hPa level. "
   ]
  },
  {
   "cell_type": "code",
   "execution_count": 206,
   "metadata": {},
   "outputs": [
    {
     "name": "stdout",
     "output_type": "stream",
     "text": [
      "<xarray.Dataset>\n",
      "Dimensions:                                   (index: 67784826)\n",
      "Coordinates:\n",
      "  * index                                     (index) |S1 b'' b'' ... b'' b''\n",
      "Data variables: (12/46)\n",
      "    adjustment_id                             (index) float32 ...\n",
      "    advanced_assimilation_feedback            (index) int32 ...\n",
      "    advanced_homogenisation                   (index) int32 ...\n",
      "    advanced_qc                               (index) int32 ...\n",
      "    advanced_uncertainty                      (index) int32 ...\n",
      "    bbox_max_latitude                         (index) float32 ...\n",
      "    ...                                        ...\n",
      "    traceability                              (index) int32 ...\n",
      "    units                                     (index) int32 ...\n",
      "    value_significance                        (index) int32 ...\n",
      "    z_coordinate                              (index) float32 ...\n",
      "    z_coordinate_method                       (index) int32 ...\n",
      "    z_coordinate_type                         (index) int32 ...\n",
      "0.879 sec\n"
     ]
    }
   ],
   "source": [
    "ifile='0-20001-0-11035_CEUAS_merged_v1.nc'\n",
    "tt=time.time()\n",
    "a=xr.open_dataset(ifile,group='observations_table')\n",
    "print(a)\n",
    "print('{:5.3f} sec'.format(time.time()-tt))   "
   ]
  },
  {
   "cell_type": "code",
   "execution_count": 207,
   "metadata": {},
   "outputs": [
    {
     "name": "stdout",
     "output_type": "stream",
     "text": [
      "4.416 sec\n",
      "7.659 sec\n",
      "13276\n",
      "<xarray.DataArray 'observation_value' (index: 25)>\n",
      "array([214.7, 216.5, 214.1, 216.9, 218.5, 298.2, 215.5, 218.3, 214.1, 210.9,\n",
      "       216.3, 231.5, 233.1, 244.7, 261.3, 265.9, 269.1, 275.8, 276.2, 276.6,\n",
      "       275.2, 277. , 277.2, 276.6, 277.6], dtype=float32)\n",
      "Coordinates:\n",
      "  * index    (index) |S1 b'' b'' b'' b'' b'' b'' b'' ... b'' b'' b'' b'' b'' b''\n",
      "<xarray.DataArray 'z_coordinate' (index: 25)>\n",
      "array([10000., 12000., 13500., 15000., 16000., 20000., 22000., 23700., 25000.,\n",
      "       26800., 30000., 40000., 41100., 50000., 64800., 70000., 73800., 83200.,\n",
      "       85000., 86800., 87500., 93000., 94900., 95800., 98700.], dtype=float32)\n",
      "Coordinates:\n",
      "  * index    (index) |S1 b'' b'' b'' b'' b'' b'' b'' ... b'' b'' b'' b'' b'' b''\n",
      "<xarray.DataArray 'z_coordinate_type' (index: 25)>\n",
      "array([1, 1, 1, 1, 1, 1, 1, 1, 1, 1, 1, 1, 1, 1, 1, 1, 1, 1, 1, 1, 1, 1, 1, 1,\n",
      "       1])\n",
      "Coordinates:\n",
      "  * index    (index) |S1 b'' b'' b'' b'' b'' b'' b'' ... b'' b'' b'' b'' b'' b''\n"
     ]
    },
    {
     "data": {
      "image/png": "[encoded data removed]",
      "text/plain": [
       "<Figure size 432x288 with 1 Axes>"
      ]
     },
     "metadata": {
      "needs_background": "light"
     },
     "output_type": "display_data"
    }
   ],
   "source": [
    "tt=time.time()\n",
    "idx=where(logical_and(a.observed_variable==85,a.z_coordinate==20000))\n",
    "print('{:5.3f} sec'.format(time.time()-tt))        \n",
    "plot(a.date_time[idx],a.observation_value[idx])\n",
    "print('{:5.3f} sec'.format(time.time()-tt))   \n",
    "idy=where(a.observation_value[idx]>273.15)\n",
    "print(idy[0][0]),idx[0].shape\n",
    "print(a.observation_value[idx[0][idy[0][0]]-5:idx[0][idy[0][0]]+20])\n",
    "print(a.z_coordinate[idx[0][idy[0][0]]-5:idx[0][idy[0][0]]+20])\n",
    "print(a.z_coordinate_type[idx[0][idy[0][0]]-5:idx[0][idy[0][0]]+20])\n"
   ]
  },
  {
   "cell_type": "code",
   "execution_count": 208,
   "metadata": {},
   "outputs": [],
   "source": [
    "@njit   # The njit decorator induces compilation of the function, allowing speeds similar to C and Fortran. Works only with numpy arrays\n",
    "def pzerots(p,t,T):\n",
    "    ts=[]\n",
    "    ps=[]\n",
    "    pfound=False\n",
    "    rcount=0 # record count\n",
    "    for iobs in range(1,T.shape[0]):\n",
    "        if t[iobs]!=t[iobs-1] and p[iobs]<p[iobs-1]:\n",
    "            rcount+=1\n",
    "            pfound=False\n",
    "#            if rcount%100==0:\n",
    "#                print(rcount)\n",
    "        if T[iobs]>273.15 and T[iobs-1]<273.15 and p[iobs]>40000 and not pfound:\n",
    "            pz=((273.15-T[iobs-1])*p[iobs]+(T[iobs]-273.15)*p[iobs-1])/\\\n",
    "                (T[iobs]-T[iobs-1])\n",
    "            #print(pz)\n",
    "            ps.append(pz)#.values)\n",
    "            ts.append(t[iobs])#.values)\n",
    "            pfound=True\n",
    "        #print(iobs)\n",
    "    return array(ts),array(ps)\n"
   ]
  },
  {
   "cell_type": "markdown",
   "metadata": {},
   "source": [
    "### Discussion:\n",
    "- From what we learned above, we start with a function that can be compiled with njit if a numpy array is supplied.\n",
    "- We assume only temperature data are selected\n",
    "- We need to take into account varying pressure level numbers."
   ]
  },
  {
   "cell_type": "code",
   "execution_count": 209,
   "metadata": {},
   "outputs": [
    {
     "name": "stdout",
     "output_type": "stream",
     "text": [
      "3320215\n",
      "2.667 sec\n",
      "4.842 sec\n"
     ]
    },
    {
     "data": {
      "text/plain": [
       "[<matplotlib.lines.Line2D at 0x2f3d3450f10>]"
      ]
     },
     "execution_count": 209,
     "metadata": {},
     "output_type": "execute_result"
    },
    {
     "data": {
      "image/png": "[encoded data removed]",
      "text/plain": [
       "<Figure size 432x288 with 1 Axes>"
      ]
     },
     "metadata": {
      "needs_background": "light"
     },
     "output_type": "display_data"
    }
   ],
   "source": [
    "tt=time.time()\n",
    "idx=where(logical_and(a.observed_variable==85,a.z_coordinate>=20000))\n",
    "print(len(idx[0]))\n",
    "print('{:5.3f} sec'.format(time.time()-tt))   ; tt=time.time()     \n",
    "ts,ps=pzerots(a.z_coordinate.values[idx],a.date_time.values[idx],a.observation_value.values[idx])\n",
    "print('{:5.3f} sec'.format(time.time()-tt))        \n",
    "plot(ts,ps/100)"
   ]
  },
  {
   "cell_type": "markdown",
   "metadata": {},
   "source": [
    "### Discussion:\n",
    "- using xarray variables is again extremely slow. Processing the first 100 of 3.3 Million relevant observations takes 20 seconds!\n",
    "- using numpy array variables yields a 7x speedup, but still not acceptable for real world applications\n",
    "- using numpy array with njit takes 0.026 seconds, an 800x speedup.\n",
    "- using numpy and njit for only 100 values has some overhead for loading the compiled function. When iterating over all values, the result is 0.038 sec for 3.3 Million obs, i.e. a speedup by 6 orders of magnitude."
   ]
  },
  {
   "cell_type": "markdown",
   "metadata": {},
   "source": [
    "### Can we reduce the reading overhead?\n",
    "- temperature values are a chunk in file\n",
    "- file is indexed"
   ]
  },
  {
   "cell_type": "code",
   "execution_count": 210,
   "metadata": {},
   "outputs": [
    {
     "name": "stdout",
     "output_type": "stream",
     "text": [
      "3320215\n",
      "0.144 sec\n",
      "0.059 sec\n"
     ]
    },
    {
     "data": {
      "text/plain": [
       "[<matplotlib.lines.Line2D at 0x2f3d34d6fd0>]"
      ]
     },
     "execution_count": 210,
     "metadata": {},
     "output_type": "execute_result"
    },
    {
     "data": {
      "image/png": "[encoded data removed]",
      "text/plain": [
       "<Figure size 432x288 with 1 Axes>"
      ]
     },
     "metadata": {
      "needs_background": "light"
     },
     "output_type": "display_data"
    }
   ],
   "source": [
    "tt=time.time()\n",
    "idx=np.where(a.observed_variable.values==85)\n",
    "irange=[idx[0][0],idx[0][-1]+1]\n",
    "idx=where(a.z_coordinate[irange[0]:irange[1]]>=20000)[0]\n",
    "print(len(idx))\n",
    "print('{:5.3f} sec'.format(time.time()-tt))   ; tt=time.time()     \n",
    "ts,ps=pzerots(a.z_coordinate.values[irange[0]+idx],a.date_time.values[irange[0]+idx],a.observation_value.values[irange[0]+idx])\n",
    "print('{:5.3f} sec'.format(time.time()-tt))        \n",
    "plot(ts,ps/100)"
   ]
  },
  {
   "cell_type": "markdown",
   "metadata": {},
   "source": [
    "### Discussion:\n",
    "- Concentrating just on the chunk where Temperature values are helps a lot\n",
    "- Only one variable (a.observed_variable) had to be read in full. Speedup by factor 12\n",
    "- This makes also the call to pzerots faster (only chunks of the z_coordinate, date_time, observation_value are read). Speedup by factor 4\n",
    "\n",
    "### Can we still do better? (e.g. for calculating trends for all stations worldwide)? "
   ]
  },
  {
   "cell_type": "code",
   "execution_count": 211,
   "metadata": {},
   "outputs": [
    {
     "name": "stdout",
     "output_type": "stream",
     "text": [
      "<HDF5 file \"0-20001-0-11035_CEUAS_merged_v1.nc\" (mode r)>\n",
      "[22716742, 29064776]\n",
      "3320215\n",
      "0.504 sec\n",
      "0.516 sec\n"
     ]
    },
    {
     "data": {
      "image/png": "[encoded data removed]",
      "text/plain": [
       "<Figure size 432x288 with 1 Axes>"
      ]
     },
     "metadata": {
      "needs_background": "light"
     },
     "output_type": "display_data"
    }
   ],
   "source": [
    "try:\n",
    "    del a # needed to get read access via h5py\n",
    "except:\n",
    "    pass\n",
    "tt=time.time()\n",
    "ifile='0-20001-0-11035_CEUAS_merged_v1.nc'\n",
    "f=h5py.File(ifile,'r')\n",
    "print(f)\n",
    "irange=[f['recordindices']['85'][0],f['recordindices']['85'][-1]]\n",
    "print(irange)\n",
    "a=f['observations_table']\n",
    "idx=where(a['z_coordinate'][irange[0]:irange[1]]>=20000)[0]\n",
    "print(len(idx))\n",
    "az,adate,aobs=a['z_coordinate'][irange[0]:irange[1]][idx],a['date_time'][irange[0]:irange[1]][idx],\\\n",
    "                a['observation_value'][irange[0]:irange[1]][idx]\n",
    "print('{:5.3f} sec'.format(time.time()-tt))   ; tt=time.time()\n",
    "\n",
    "ts,ps=pzerots(az,adate,aobs)\n",
    "print('{:5.3f} sec'.format(time.time()-tt)) \n",
    "ts=pd.to_datetime(ts, unit='s',origin=pd.Timestamp('1900-01-01'))\n",
    "plot(ts,ps/100)\n",
    "f.close()"
   ]
  },
  {
   "cell_type": "markdown",
   "metadata": {},
   "source": [
    "### Discussion\n",
    "- h5py does not seem faster here reading the variables, but remember that simply opening the file with xarray.open_dataset took 1.2 secs\n",
    "- if the pzerots function can be called with references to variables, the pzerots function is another 10x faster than when called with numpy slices.\n",
    "- date_time variable is integer in h5py (seconds since 19000101). Can be converted efficiently to date_time with pandas function. \n"
   ]
  },
  {
   "cell_type": "markdown",
   "metadata": {},
   "source": [
    "### Implementing this in pandas\n",
    "- pandas is a powerful tool for managing and displaying tables. It should be ideal for working with observations data.\n",
    "- still there are some faster alternatives for popular pandas functions.\n",
    "- netCDF files are not directly supported by pandas. One needs to read it via xarray (slow, memory intensive) or h5py to get it into pandas form"
   ]
  },
  {
   "cell_type": "code",
   "execution_count": 212,
   "metadata": {},
   "outputs": [],
   "source": [
    "#b=a.to_dataframe() This fails in this case because of a memory error."
   ]
  },
  {
   "cell_type": "code",
   "execution_count": 213,
   "metadata": {},
   "outputs": [
    {
     "name": "stdout",
     "output_type": "stream",
     "text": [
      "observation_id (67784826, 11) [b'60000001004' b'60000001005' b'60000001271']\n",
      "report_id (67784826, 11) [b'60000000016' b'60000000016' b'60000000020']\n",
      "sensor_id (67784826, 4) [b'Z4? ' b'Z4? ' b'Z4? ']\n",
      "source_id (67784826, 9) [b'era5_1759' b'era5_1759' b'era5_1759']\n",
      "6.41816520690918\n",
      "10.728734970092773\n"
     ]
    }
   ],
   "source": [
    "tt=time.time()\n",
    "df=pd.DataFrame()\n",
    "with h5py.File(ifile) as f:\n",
    "    for k in f['observations_table'].keys():\n",
    "        if f['observations_table'][k][0].dtype=='S1':\n",
    "            print(k,f['observations_table'][k].shape,f['observations_table'][k][:3].view('S{}'.format(f['observations_table'][k].shape[1])).flatten())\n",
    "            #df[k]=f['observations_table'][k][:].view('S{}'.format(f['observations_table'][k].shape[1])).flatten()\n",
    "        elif k in ['observation_value','observed_variable','date_time','z_coordinate']:\n",
    "            df[k]=f['observations_table'][k][:]\n",
    "#print(df.date_time)\n",
    "print(std(df.observation_value[logical_and(logical_and(df.observed_variable==85,df.z_coordinate==50000),df.date_time%86400==0)]))\n",
    "print(time.time()-tt)"
   ]
  },
  {
   "cell_type": "code",
   "execution_count": 214,
   "metadata": {},
   "outputs": [
    {
     "name": "stdout",
     "output_type": "stream",
     "text": [
      "observation_id (67784826, 11) [b'60000001004' b'60000001005' b'60000001271']\n",
      "report_id (67784826, 11) [b'60000000016' b'60000000016' b'60000000020']\n",
      "sensor_id (67784826, 4) [b'Z4? ' b'Z4? ' b'Z4? ']\n",
      "source_id (67784826, 9) [b'era5_1759' b'era5_1759' b'era5_1759']\n",
      "6.41816520690918\n",
      "10.36621618270874\n"
     ]
    }
   ],
   "source": [
    "tt=time.time()\n",
    "df=pd.DataFrame()\n",
    "with h5py.File(ifile) as f:\n",
    "    for k in f['observations_table'].keys():\n",
    "        if f['observations_table'][k][0].dtype=='S1':\n",
    "            print(k,f['observations_table'][k].shape,f['observations_table'][k][:3].view('S{}'.format(f['observations_table'][k].shape[1])).flatten())\n",
    "            #df[k]=f['observations_table'][k][:].view('S{}'.format(f['observations_table'][k].shape[1])).flatten()\n",
    "        elif k in ['observation_value','observed_variable','date_time','z_coordinate']:\n",
    "            df[k]=f['observations_table'][k][:]\n",
    "#print(df.date_time)\n",
    "print(std(df.observation_value[logical_and(logical_and(df.observed_variable==85,df.z_coordinate==50000),df.date_time%86400==0)]))\n",
    "print(time.time()-tt)"
   ]
  },
  {
   "cell_type": "markdown",
   "metadata": {},
   "source": [
    "### Calculating the mean of a 4D gridded temperature file with xarray and h5py\n",
    "- NetCDF arrays are often encoded as integers with scale_factor and offset to save space.\n",
    "- When read with xarray they are automatically converted to floats, which can cost a lot.\n",
    "- It is often better to leave the data as integers and perform some reduction operations there, after which they can be converted to floats or xarrays. \n"
   ]
  },
  {
   "cell_type": "code",
   "execution_count": 215,
   "metadata": {},
   "outputs": [
    {
     "name": "stdout",
     "output_type": "stream",
     "text": [
      "<xarray.DataArray 't' (time: 124, level: 16, latitude: 181, longitude: 360)>\n",
      "[129277440 values with dtype=float32]\n",
      "Coordinates:\n",
      "  * longitude  (longitude) float32 0.0 1.0 2.0 3.0 ... 356.0 357.0 358.0 359.0\n",
      "  * latitude   (latitude) float32 90.0 89.0 88.0 87.0 ... -88.0 -89.0 -90.0\n",
      "  * level      (level) int32 10 20 30 50 70 100 150 ... 400 500 700 850 925 1000\n",
      "  * time       (time) datetime64[ns] 2020-01-01 ... 2020-01-31T18:00:00\n",
      "Attributes:\n",
      "    units:          K\n",
      "    long_name:      Temperature\n",
      "    standard_name:  air_temperature\n",
      "236.12361\n",
      "<xarray.DataArray 't' (time: 124, latitude: 181, longitude: 360)>\n",
      "array([[[3463.1714, 3463.1714, 3463.1714, ..., 3463.1714, 3463.1714,\n",
      "         3463.1714],\n",
      "        [3462.6628, 3462.6338, 3462.593 , ..., 3462.7712, 3462.7332,\n",
      "         3462.7058],\n",
      "        [3457.8105, 3457.7966, 3457.77  , ..., 3457.8943, 3457.8604,\n",
      "         3457.842 ],\n",
      "        ...,\n",
      "        [3834.2856, 3834.4846, 3834.692 , ..., 3833.766 , 3833.933 ,\n",
      "         3834.1072],\n",
      "        [3831.7952, 3831.883 , 3831.9824, ..., 3831.529 , 3831.6165,\n",
      "         3831.705 ],\n",
      "        [3822.4358, 3822.4358, 3822.4358, ..., 3822.4358, 3822.4358,\n",
      "         3822.4358]],\n",
      "\n",
      "       [[3459.1997, 3459.1997, 3459.1997, ..., 3459.1997, 3459.1997,\n",
      "         3459.1997],\n",
      "        [3458.2102, 3458.206 , 3458.2058, ..., 3458.2349, 3458.2324,\n",
      "         3458.219 ],\n",
      "        [3453.0054, 3453.037 , 3453.0642, ..., 3452.938 , 3452.9583,\n",
      "         3452.9739],\n",
      "...\n",
      "        [3788.7485, 3788.742 , 3788.7397, ..., 3788.812 , 3788.7805,\n",
      "         3788.7578],\n",
      "        [3788.3828, 3788.4277, 3788.4707, ..., 3788.2495, 3788.3015,\n",
      "         3788.338 ],\n",
      "        [3781.1167, 3781.1167, 3781.1167, ..., 3781.1167, 3781.1167,\n",
      "         3781.1167]],\n",
      "\n",
      "       [[3430.9248, 3430.9248, 3430.9248, ..., 3430.9248, 3430.9248,\n",
      "         3430.9248],\n",
      "        [3427.5735, 3427.6824, 3427.7793, ..., 3427.2734, 3427.375 ,\n",
      "         3427.4744],\n",
      "        [3426.7202, 3426.8735, 3427.0298, ..., 3426.2798, 3426.413 ,\n",
      "         3426.5645],\n",
      "        ...,\n",
      "        [3789.7124, 3789.6746, 3789.6611, ..., 3789.887 , 3789.8145,\n",
      "         3789.7646],\n",
      "        [3789.4648, 3789.5186, 3789.5796, ..., 3789.2974, 3789.347 ,\n",
      "         3789.4036],\n",
      "        [3782.0405, 3782.0405, 3782.0405, ..., 3782.0405, 3782.0405,\n",
      "         3782.0405]]], dtype=float32)\n",
      "Coordinates:\n",
      "  * longitude  (longitude) float32 0.0 1.0 2.0 3.0 ... 356.0 357.0 358.0 359.0\n",
      "  * latitude   (latitude) float32 90.0 89.0 88.0 87.0 ... -88.0 -89.0 -90.0\n",
      "  * time       (time) datetime64[ns] 2020-01-01 ... 2020-01-31T18:00:00\n",
      "525 ms ± 33.5 ms per loop (mean ± std. dev. of 7 runs, 1 loop each)\n",
      "<KeysViewHDF5 ['latitude', 'level', 'longitude', 't', 'time']>\n",
      "<KeysViewHDF5 ['scale_factor', 'add_offset', '_FillValue', 'missing_value', 'units', 'long_name', 'standard_name', 'DIMENSION_LIST']>\n",
      "[236.12375574]\n",
      "249 ms ± 19.4 ms per loop (mean ± std. dev. of 7 runs, 1 loop each)\n"
     ]
    }
   ],
   "source": [
    "# Standard Way\n",
    "ifile='era5.202001.130.nc'\n",
    "with xr.open_dataarray(ifile) as a:\n",
    "    print(a)\n",
    "    print(mean(a).values)\n",
    "    print(sum(a,axis=1))\n",
    "    %timeit mean(a)\n",
    "# Faster Way\n",
    "with h5py.File(ifile,'r') as b:\n",
    "    print(b.keys())\n",
    "    print(b['t'].attrs.keys())\n",
    "    print(mean(b['t'])*b['t'].attrs['scale_factor']+b['t'].attrs['add_offset'])\n",
    "    %timeit mean(b['t'])*b['t'].attrs['scale_factor']+b['t'].attrs['add_offset']\n"
   ]
  },
  {
   "cell_type": "markdown",
   "metadata": {},
   "source": [
    "Discussion:\n",
    "- Many gridded climate variables are saved using integer values, which are then scaled (factor is in attribute 'scale_factor') and to which an offset (attribute add_offset) is added. \n",
    "- xarray reads the variable and multiplies all values with scale and then adds the offset to get the true values. This is convenient but costly. \n",
    "- h5py does not do that. For linear statistics like the mean this saves a lot of computation. In this case only the mean value is scaled and an offset added, while with xarray this is done for 129 million values! => 2.3x speedup"
   ]
  },
  {
   "cell_type": "markdown",
   "metadata": {},
   "source": [
    "### Pandas and numpy record arrays"
   ]
  },
  {
   "cell_type": "code",
   "execution_count": 216,
   "metadata": {},
   "outputs": [
    {
     "name": "stdout",
     "output_type": "stream",
     "text": [
      "<class 'pandas.core.frame.DataFrame'> date\n",
      "<class 'pandas.core.frame.DataFrame'> names\n",
      "<class 'pandas.core.frame.DataFrame'> numbers\n",
      "<class 'numpy.recarray'> date\n",
      "<class 'numpy.recarray'> names\n",
      "<class 'numpy.recarray'> numbers\n",
      "[b'48664' b'40517' b'99009' ... b'34837' b'93243' b'40584']\n",
      "(43243,)\n",
      "221 µs ± 15.4 µs per loop (mean ± std. dev. of 7 runs, 1000 loops each)\n",
      "223 µs ± 4.9 µs per loop (mean ± std. dev. of 7 runs, 1000 loops each)\n",
      "803 µs ± 21.9 µs per loop (mean ± std. dev. of 7 runs, 1000 loops each)\n",
      "178 µs ± 8.51 µs per loop (mean ± std. dev. of 7 runs, 10000 loops each)\n",
      "175 µs ± 3.46 µs per loop (mean ± std. dev. of 7 runs, 10000 loops each)\n",
      "1.16 ms ± 18.4 µs per loop (mean ± std. dev. of 7 runs, 1000 loops each)\n",
      "1.02 ms ± 68.3 µs per loop (mean ± std. dev. of 7 runs, 1000 loops each)\n",
      "1.07 ms ± 20.8 µs per loop (mean ± std. dev. of 7 runs, 1000 loops each)\n"
     ]
    },
    {
     "data": {
      "text/plain": [
       "43243"
      ]
     },
     "execution_count": 216,
     "metadata": {},
     "output_type": "execute_result"
    }
   ],
   "source": [
    "a=pd.DataFrame(columns=['date','names','numbers'])\n",
    "nmax=100000\n",
    "a.date=pd.to_datetime(arange(nmax), unit='d', origin='19000101').values\n",
    "r=random.randint(0,100000,size=nmax)\n",
    "a.names=asarray(random.randint(0,100000,size=nmax),dtype='S6')\n",
    "a.numbers=random.randn(nmax)\n",
    "a.numbers.values[a.numbers.values<-2.]=nan\n",
    "b=a.to_records(index=False)\n",
    "for x in a,b:\n",
    "    for y in b.dtype.names:\n",
    "        print(type(x),y)\n",
    "#        %timeit d=x[y][nmax//2:]\n",
    "        mask=x[y]<x[y][nmax//2]\n",
    "#        %timeit mask=x[y]<x[y][nmax//2]\n",
    "#        %timeit d=x[y][mask]\n",
    "        \n",
    "print(b['names'])\n",
    "print(where(b['names']<b['names'][0])[0].shape)\n",
    "@njit\n",
    "def nnansum(x):\n",
    "    s=0.\n",
    "    for i in range(x.shape[0]):\n",
    "        if x[i]==x[i]:\n",
    "            s+=x[i]\n",
    "    return s\n",
    "\n",
    "%timeit nansum(a.numbers)\n",
    "%timeit nansum(a.numbers.values)\n",
    "%timeit nansum(b['numbers'])\n",
    "nnansum(b['numbers'])\n",
    "nnansum(a['numbers'].values)\n",
    "%timeit nnansum(b['numbers'])\n",
    "%timeit nnansum(a.numbers.values)\n",
    "\n",
    "@njit #(fastmath=True,parallel=True)\n",
    "def numbawhere(x,v):\n",
    "    l=0\n",
    "    for i in prange(x.shape[0]):\n",
    "        ll=len(x[i])\n",
    "        for j in range(v.shape[0]):\n",
    "          if j==ll:\n",
    "            l+=1\n",
    "            break\n",
    "          if x[i][j]<v[j]:\n",
    "             l+=1\n",
    "             break\n",
    "          elif x[i][j]>v[j]:\n",
    "             break\n",
    "\n",
    "\n",
    "    return l\n",
    "# find which strings of array are alphabetically before first string\n",
    "%timeit l=sum(a['names']<a['names'][0])\n",
    "%timeit l=sum(b['names']<b['names'][0])\n",
    "l=numbawhere(b['names'],b['names'][0].flatten().view(uint8))\n",
    "\n",
    "%timeit l=numbawhere(b['names'],b['names'][0].flatten().view(uint8))\n",
    "l\n"
   ]
  },
  {
   "cell_type": "markdown",
   "metadata": {},
   "source": [
    "### Filling a datedime array with values"
   ]
  },
  {
   "cell_type": "code",
   "execution_count": 217,
   "metadata": {},
   "outputs": [
    {
     "name": "stdout",
     "output_type": "stream",
     "text": [
      "[datetime.date(1900, 1, 1), datetime.date(1900, 1, 2)]\n",
      "24.3 ms ± 999 µs per loop (mean ± std. dev. of 7 runs, 10 loops each)\n",
      "['1900-01-01T00:00:00.000000000' '1900-01-02T00:00:00.000000000'] <class 'numpy.ndarray'>\n",
      "684 µs ± 46.4 µs per loop (mean ± std. dev. of 7 runs, 1000 loops each)\n",
      "['1900-01-01' '1900-01-02'] <class 'numpy.ndarray'>\n",
      "21.1 µs ± 377 ns per loop (mean ± std. dev. of 7 runs, 10000 loops each)\n"
     ]
    }
   ],
   "source": [
    "# function for converting number of days since a certain date into datetime64 array. I found no faster way of doing this\n",
    "ref=datetime.date(1900,1,1)\n",
    "day=datetime.timedelta(days=1)\n",
    "days=[ref+i*day for i in range(45000)]\n",
    "print(days[:2])\n",
    "%timeit [ref+i*day for i in range(45000)]\n",
    "idates=arange(45000)\n",
    "x=pd.to_datetime(idates, unit='d', origin='19000101').values\n",
    "print(x[:2],type(x[:2]))\n",
    "%timeit pd.to_datetime(idates, unit='d', origin='19000101').values\n",
    "x=numpy.arange('1900-01','2023-04',dtype='datetime64[D]')\n",
    "print(x[:2],type(x[:2]))\n",
    "%timeit numpy.arange('1900-01','2023-04',dtype='datetime64[D]')#.year.values[:45000]\n"
   ]
  },
  {
   "cell_type": "markdown",
   "metadata": {},
   "source": [
    "### converting a netcdf table into csv"
   ]
  },
  {
   "cell_type": "code",
   "execution_count": 73,
   "metadata": {},
   "outputs": [
    {
     "name": "stdout",
     "output_type": "stream",
     "text": [
      "open xarray: 0.864 sec\n",
      "convert to dataframe: 1.156 sec\n",
      "write to disk: 5.769 sec\n",
      "open h5py: 0.432 sec\n",
      "write to csv: 3.098 sec\n"
     ]
    }
   ],
   "source": [
    "ifile='0-20001-0-11035_CEUAS_merged_v1.nc'\n",
    "tt=time.time()\n",
    "sel_vars=['date_time','observed_variable','observation_value','z_coordinate','observation_id']\n",
    "chunk=1000000 # note that file has 60x more rows\n",
    "\n",
    "with xr.open_dataset(ifile,group='observations_table') as a:\n",
    "    # this is necessary to save memory and to keep the time needed in sensible bounds\n",
    "    a=a[sel_vars].head(chunk)\n",
    "\n",
    "    print('open xarray: {:5.3f} sec'.format(time.time()-tt))  \n",
    "    b=a.to_dataframe()\n",
    "    print('convert to dataframe: {:5.3f} sec'.format(time.time()-tt))   \n",
    "    b.to_csv('0-20001-0-11035_CEUAS_merged_v1_pd.csv',index=False)\n",
    "    print('write to disk: {:5.3f} sec'.format(time.time()-tt))   \n",
    "\n",
    "del b\n",
    "\n",
    "# h5py version takes 10x less memory, could be further reduced.\n",
    "import gzip\n",
    "tt=time.time()\n",
    "with h5py.File(ifile,'r') as a:\n",
    "    d=dict()\n",
    "    for l in sel_vars:\n",
    "        d[l]=a['observations_table'][l][:chunk]\n",
    "\n",
    "    headstr = ''\n",
    "    formatstr = ''\n",
    "    for l in sel_vars:\n",
    "        headstr = headstr+l+','\n",
    "        if d[l].ndim==1:\n",
    "            sd=str(dtype(d[l][0]))\n",
    "        else: # strings are a bit more complicated\n",
    "            slen=d[l].shape[1]\n",
    "            d[l]=d[l].view('|S{}'.format(slen)).flatten().astype(str)\n",
    "            sd='S{}'.format(slen)\n",
    "            #print(sd)\n",
    "           \n",
    "        if 'int' in sd:\n",
    "            formatstr = formatstr+'%.0i,'\n",
    "        elif 'float' in sd:\n",
    "            formatstr = formatstr+'%.6f,'\n",
    "        else:\n",
    "            formatstr = formatstr+'\"%.'+sd[1:]+'s\",'\n",
    "\n",
    "    print('open h5py: {:5.3f} sec'.format(time.time()-tt))\n",
    "    formatstrn=formatstr[:-1]+'\\n'\n",
    "    formatall=formatstrn*d[sel_vars[0]].shape[0]\n",
    "\n",
    "#    with gzip.open('.csv'.join(ifile.split('.nc')),'wt',compresslevel=4) as f:\n",
    "    with open('.csv'.join(ifile.split('.nc')),'wt') as f:\n",
    "        f.write(headstr[:-1]+'\\n')\n",
    "        b=[item for sublist in zip(*d.values()) for item in sublist]\n",
    "        f.write(formatall%tuple(b))\n",
    "\n",
    "    print('write to csv: {:5.3f} sec'.format(time.time()-tt))\n"
   ]
  },
  {
   "cell_type": "markdown",
   "metadata": {},
   "source": [
    "Discussion\n",
    "\n",
    "- numpy record arrays have come a bit out of fashion, losing terrain to pandas\n",
    "- however, they are very fast, and sometimes it is worthwhile to convert a pandas dataframe into a record array\n",
    "- Speedups for slicing can be substantial (5-10x)\n",
    "- an exception are nan-functions, which are notoriously slow with numpy. Numba can help, however.\n",
    "- Numba, which can allow for certain additional optimizations, understands record arrays but not pandas\n",
    "- Some pandas functions are really cool and fast, especially converting arrays into datetime, however using numpy functions may be a lot faster\n",
    "- oneliner-reads and conversions with xarray&pandas work but are less efficient, both memory and speed wise, for larger arrays. \n"
   ]
  },
  {
   "cell_type": "code",
   "execution_count": null,
   "metadata": {},
   "outputs": [],
   "source": []
  },
  {
   "cell_type": "code",
   "execution_count": null,
   "metadata": {},
   "outputs": [],
   "source": []
  }
 ],
 "metadata": {
  "kernelspec": {
   "display_name": "UV",
   "language": "python",
   "name": "uv"
  },
  "language_info": {
   "codemirror_mode": {
    "name": "ipython",
    "version": 3
   },
   "file_extension": ".py",
   "mimetype": "text/x-python",
   "name": "python",
   "nbconvert_exporter": "python",
   "pygments_lexer": "ipython3",
   "version": "3.9.7"
  }
 },
 "nbformat": 4,
 "nbformat_minor": 4
}
