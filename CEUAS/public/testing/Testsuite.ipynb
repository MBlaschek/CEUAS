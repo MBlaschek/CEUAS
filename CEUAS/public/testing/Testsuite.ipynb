{
 "cells": [
  {
   "cell_type": "code",
   "execution_count": 1,
   "metadata": {},
   "outputs": [],
   "source": [
    "import numpy as np\n",
    "import pandas as pd\n",
    "import sys, glob\n",
    "import urllib3\n",
    "import h5py\n",
    "import cdsapi, zipfile, os, time\n",
    "import warnings\n",
    "warnings.filterwarnings('ignore')"
   ]
  },
  {
   "cell_type": "code",
   "execution_count": 2,
   "metadata": {},
   "outputs": [],
   "source": [
    "def request(rqdict):\n",
    "    t0 = time.time()\n",
    "\n",
    "    c = cdsapi.Client()\n",
    "    r = c.retrieve(\n",
    "        'insitu-comprehensive-upper-air-observation-network',rqdict)\n",
    "    if True:\n",
    "        r.download(target='download.zip')\n",
    "        assert os.stat('download.zip').st_size == r.content_length, \"Downloaded file is incomplete\"\n",
    "#     z = zipfile.ZipFile('download.zip')\n",
    "#     z.extractall(path='./test_requests/')\n",
    "#     z.close()\n",
    "    os.remove('download.zip')"
   ]
  },
  {
   "cell_type": "code",
   "execution_count": 3,
   "metadata": {},
   "outputs": [],
   "source": [
    "def test_statid():\n",
    "    cachworkaround = np.random.random_sample()\n",
    "    for s in [None, 'all', '11035', '0-20000-0-11035', '0-20100-0-00701', '0-20100*', ['0-20000-0-11035', '0-20000-0-10393']]:\n",
    "        print('statid - testing: ', s)\n",
    "        rd={\n",
    "            'variable':'air_temperature',\n",
    "            'statid':s,\n",
    "            'date': '19781001-19781031',\n",
    "            'cachworkaround': cachworkaround,\n",
    "        } \n",
    "        request(rd)\n",
    "    print('statid - testing: finished')"
   ]
  },
  {
   "cell_type": "code",
   "execution_count": 4,
   "metadata": {},
   "outputs": [],
   "source": [
    "def test_variable():\n",
    "    cachworkaround = np.random.random_sample()\n",
    "    for s in ['air_temperature', 'dew_point_temperature', 'eastward_wind_speed', 'northward_wind_speed', 'relative_humidity', 'specific_humidity', 'wind_from_direction', 'wind_speed']:\n",
    "        print('variable - testing: ', s)\n",
    "        rd={\n",
    "            'variable': s,\n",
    "            'statid': '0-20000-0-11035',\n",
    "            'date': '20150101-20150131',\n",
    "            'cachworkaround': cachworkaround,\n",
    "        } \n",
    "        request(rd)\n",
    "    print('variable - testing: finished')"
   ]
  },
  {
   "cell_type": "code",
   "execution_count": 5,
   "metadata": {},
   "outputs": [],
   "source": [
    "def test_optional():\n",
    "    cachworkaround = np.random.random_sample()\n",
    "    for s in ['sonde_type', 'bias_estimate', 'obs_minus_an', 'obs_minus_bg']:\n",
    "        print('optional - testing: ', s)\n",
    "        rd={\n",
    "            'variable': 'air_temperature',\n",
    "            'statid': ['0-20000-0-11035', '0-20100-0-00701'],\n",
    "            'date': '19781001-19781031',\n",
    "            'optional': s,\n",
    "            'cachworkaround': cachworkaround,\n",
    "        } \n",
    "        request(rd)\n",
    "    print('optional - testing: finished')"
   ]
  },
  {
   "cell_type": "code",
   "execution_count": 6,
   "metadata": {},
   "outputs": [],
   "source": [
    "def test_area():\n",
    "    cachworkaround = np.random.random_sample()\n",
    "    for s in [[-40,140,80,359], [40,0,50,20]]:\n",
    "        print('area - testing: ', s)\n",
    "        rd={\n",
    "            'variable': 'air_temperature',\n",
    "            'area': s,\n",
    "            'date': '19781001-19781031',\n",
    "            'cachworkaround': cachworkaround,\n",
    "        } \n",
    "        request(rd)\n",
    "    print('area - testing: finished')"
   ]
  },
  {
   "cell_type": "code",
   "execution_count": 7,
   "metadata": {},
   "outputs": [],
   "source": [
    "def test_country():\n",
    "    cachworkaround = np.random.random_sample()\n",
    "    for s in ['GLOBE', 'ALL', 'NOR', [\"NOR\",\"DEU\"]]:\n",
    "        print('country - testing: ', s)\n",
    "        rd={\n",
    "            'variable': 'air_temperature',\n",
    "            'country': s,\n",
    "            'date': '19781001-19781031',\n",
    "            'cachworkaround': cachworkaround,\n",
    "        } \n",
    "        request(rd)\n",
    "    print('country - testing: finished')"
   ]
  },
  {
   "cell_type": "code",
   "execution_count": 8,
   "metadata": {},
   "outputs": [],
   "source": [
    "def test_date(): \n",
    "    cachworkaround = np.random.random_sample()\n",
    "    for s in [None, '20000101', '20000101-20000201', ['20000101', '20000103', '20000106']]:\n",
    "        print('date - testing: ', s)\n",
    "        rd={\n",
    "            'variable': 'air_temperature',\n",
    "            'statid': '11035',\n",
    "            'date': s,\n",
    "            'cachworkaround': cachworkaround,\n",
    "        } \n",
    "        request(rd)\n",
    "    print('date - testing: finished')"
   ]
  },
  {
   "cell_type": "code",
   "execution_count": 9,
   "metadata": {},
   "outputs": [],
   "source": [
    "def test_period(): \n",
    "    # not working: ['1979-01-01/1980-08-16']\n",
    "    cachworkaround = np.random.random_sample()\n",
    "    for s in [None, '1979-01-01/1980-08-16']:\n",
    "        print('period - testing: ', s)\n",
    "        rd={\n",
    "            'variable': 'air_temperature',\n",
    "            'statid': '11035',\n",
    "            'period': s,\n",
    "            'cachworkaround': cachworkaround,\n",
    "        } \n",
    "        request(rd)\n",
    "    print('period - testing: finished')"
   ]
  },
  {
   "cell_type": "code",
   "execution_count": 10,
   "metadata": {},
   "outputs": [],
   "source": [
    "def test_pressure_level():\n",
    "    cachworkaround = np.random.random_sample()\n",
    "    for s in [100, '100', [100, 200], ['100', '200']]:\n",
    "        print('pressure_level - testing: ', s)\n",
    "        rd={\n",
    "            'variable': 'air_temperature',\n",
    "            'statid': '11035',\n",
    "            'date': '20100101',\n",
    "            'pressure_level': s,\n",
    "            'cachworkaround': cachworkaround,\n",
    "        } \n",
    "        request(rd)\n",
    "    print('pressure_level - testing: finished')"
   ]
  },
  {
   "cell_type": "code",
   "execution_count": 11,
   "metadata": {},
   "outputs": [],
   "source": [
    "def test_time():\n",
    "    cachworkaround = np.random.random_sample()\n",
    "    for s in [[22,23,0,1,2,3], [\"22\",\"23\",\"00\",\"01\",\"02\",\"03\"], '', '0', '00', [\"00\"], [0,12], [\"0\",\"12\"]]:\n",
    "        print('time - testing: ', s)\n",
    "        rd={\n",
    "            'variable': 'air_temperature',\n",
    "            'statid': '11035',\n",
    "            'date': '20100101-20100201',\n",
    "            'time': s,\n",
    "            'cachworkaround': cachworkaround,\n",
    "        } \n",
    "        request(rd)\n",
    "    print('time - testing: finished')"
   ]
  },
  {
   "cell_type": "code",
   "execution_count": 12,
   "metadata": {},
   "outputs": [],
   "source": [
    "def test_format():\n",
    "    cachworkaround = np.random.random_sample()\n",
    "    for s in [None, 'csv', 'nc']:\n",
    "        print('format - testing: ', s)\n",
    "        rd={\n",
    "            'variable': 'air_temperature',\n",
    "            'statid': '11035',\n",
    "            'date': '20100101-20100201',\n",
    "            'format': s,\n",
    "            'cachworkaround': cachworkaround,\n",
    "        } \n",
    "        request(rd)\n",
    "    print('format - testing: finished')"
   ]
  },
  {
   "cell_type": "code",
   "execution_count": 13,
   "metadata": {},
   "outputs": [],
   "source": [
    "def test_ymd():\n",
    "    # if one of them is None -> no date selected = the whole dataset - change?\n",
    "    cachworkaround = np.random.random_sample()\n",
    "    for s in [None, 2000, '2000', ['2000', '2001'], [2000, 2001]]:\n",
    "        print('y - testing: ', s)\n",
    "        rd={\n",
    "            'variable': 'air_temperature',\n",
    "            'statid': '11035',\n",
    "            'year': s,\n",
    "            'month': '01',\n",
    "            'day':'01',\n",
    "            'cachworkaround': cachworkaround,\n",
    "        } \n",
    "        request(rd)\n",
    "    for s in [None, 1, '1', '01', ['01', '02'], ['1', '2'], [1, 2]]:\n",
    "        print('m - testing: ', s)\n",
    "        rd={\n",
    "            'variable': 'air_temperature',\n",
    "            'statid': '11035',\n",
    "            'year': '2000',\n",
    "            'month': s,\n",
    "            'day':'01',\n",
    "            'cachworkaround': cachworkaround,\n",
    "        } \n",
    "        request(rd)\n",
    "    for s in ['01', '31', ['01', '02'], ['1', '2'], [1, 2]]:\n",
    "        print('d - testing: ', s)\n",
    "        rd={\n",
    "            'variable': 'air_temperature',\n",
    "            'statid': '11035',\n",
    "            'year': '2000',\n",
    "            'month': '01',\n",
    "            'day':s,\n",
    "            'cachworkaround': cachworkaround,\n",
    "        } \n",
    "        request(rd)\n",
    "    print('ymd - testing: finished')"
   ]
  },
  {
   "cell_type": "code",
   "execution_count": 14,
   "metadata": {},
   "outputs": [],
   "source": [
    "def test_server():\n",
    "    try:test_statid()\n",
    "    except: print('statid - test: failed')\n",
    "    try: test_variable()\n",
    "    except: print('variable - test: failed')\n",
    "    try: test_optional()\n",
    "    except: print('optional - test: failed')\n",
    "    try: test_area()\n",
    "    except: print('area - test: failed')\n",
    "    try: test_country()\n",
    "    except: print('country - test: failed')\n",
    "    try: test_date()\n",
    "    except: print('date - test: failed')\n",
    "    try: test_period()\n",
    "    except: print('period - test: failed')\n",
    "    try: test_pressure_level()\n",
    "    except: print('pressure_level - test: failed')\n",
    "    try: test_time()\n",
    "    except: print('time - test: failed')\n",
    "    try: test_format()\n",
    "    except: print('format - test: failed')\n",
    "    try: test_ymd()\n",
    "    except: print('ymd - test: failed')"
   ]
  },
  {
   "cell_type": "code",
   "execution_count": 15,
   "metadata": {},
   "outputs": [
    {
     "name": "stderr",
     "output_type": "stream",
     "text": [
      "2020-12-04 10:42:51,487 INFO Welcome to the CDS\n",
      "2020-12-04 10:42:51,487 INFO Sending request to https://sis-dev.climate.copernicus.eu/api/v2/resources/insitu-comprehensive-upper-air-observation-network\n"
     ]
    },
    {
     "name": "stdout",
     "output_type": "stream",
     "text": [
      "statid - testing:  None\n"
     ]
    },
    {
     "name": "stderr",
     "output_type": "stream",
     "text": [
      "2020-12-04 10:42:51,734 INFO Request is queued\n",
      "2020-12-04 10:42:52,767 INFO Request is running\n",
      "2020-12-04 10:43:05,094 INFO Request is completed\n",
      "2020-12-04 10:43:05,094 INFO Downloading http://136.156.132.176/cache-compute-0002/cache/data1/adaptor.comprehensive_upper_air.retrieve-1607074982.0142286-23145-13-cf5b769a-3dd9-457e-907a-5a8981e2646a.zip to download.zip (49.7M)\n",
      "2020-12-04 10:43:07,055 INFO Download rate 25.3M/s  \n",
      "2020-12-04 10:43:07,120 INFO Welcome to the CDS\n",
      "2020-12-04 10:43:07,120 INFO Sending request to https://sis-dev.climate.copernicus.eu/api/v2/resources/insitu-comprehensive-upper-air-observation-network\n",
      "2020-12-04 10:43:07,185 INFO Request is queued\n"
     ]
    },
    {
     "name": "stdout",
     "output_type": "stream",
     "text": [
      "statid - testing:  all\n"
     ]
    },
    {
     "name": "stderr",
     "output_type": "stream",
     "text": [
      "2020-12-04 10:43:08,219 INFO Request is running\n",
      "2020-12-04 10:43:20,549 INFO Request is completed\n",
      "2020-12-04 10:43:20,549 INFO Downloading http://136.156.132.204/cache-compute-0001/cache/data1/adaptor.comprehensive_upper_air.retrieve-1607074997.1097317-13763-11-1142922c-9e5f-4801-b0b1-2f4165c040de.zip to download.zip (49.7M)\n",
      "2020-12-04 10:43:21,363 INFO Download rate 61M/s    \n",
      "2020-12-04 10:43:21,426 INFO Welcome to the CDS\n",
      "2020-12-04 10:43:21,427 INFO Sending request to https://sis-dev.climate.copernicus.eu/api/v2/resources/insitu-comprehensive-upper-air-observation-network\n",
      "2020-12-04 10:43:21,491 INFO Request is queued\n"
     ]
    },
    {
     "name": "stdout",
     "output_type": "stream",
     "text": [
      "statid - testing:  11035\n"
     ]
    },
    {
     "name": "stderr",
     "output_type": "stream",
     "text": [
      "2020-12-04 10:43:22,524 INFO Request is completed\n",
      "2020-12-04 10:43:22,524 INFO Downloading http://136.156.132.204/cache-compute-0001/cache/data1/adaptor.comprehensive_upper_air.retrieve-1607075001.6326516-31837-15-e6d8a47e-706c-4a4b-ac65-b72ca358075e.zip to download.zip (48.2K)\n",
      "2020-12-04 10:43:22,556 INFO Download rate 1.5M/s\n",
      "2020-12-04 10:43:22,619 INFO Welcome to the CDS\n",
      "2020-12-04 10:43:22,619 INFO Sending request to https://sis-dev.climate.copernicus.eu/api/v2/resources/insitu-comprehensive-upper-air-observation-network\n",
      "2020-12-04 10:43:22,684 INFO Request is queued\n"
     ]
    },
    {
     "name": "stdout",
     "output_type": "stream",
     "text": [
      "statid - testing:  0-20000-0-11035\n"
     ]
    },
    {
     "name": "stderr",
     "output_type": "stream",
     "text": [
      "2020-12-04 10:43:23,718 INFO Request is completed\n",
      "2020-12-04 10:43:23,718 INFO Downloading http://136.156.132.176/cache-compute-0002/cache/data2/adaptor.comprehensive_upper_air.retrieve-1607075002.8362942-25453-13-a33cede1-1932-403e-a3ba-598c451ba113.zip to download.zip (48.2K)\n",
      "2020-12-04 10:43:23,802 INFO Download rate 576.4K/s\n",
      "2020-12-04 10:43:23,868 INFO Welcome to the CDS\n",
      "2020-12-04 10:43:23,868 INFO Sending request to https://sis-dev.climate.copernicus.eu/api/v2/resources/insitu-comprehensive-upper-air-observation-network\n",
      "2020-12-04 10:43:23,934 INFO Request is queued\n"
     ]
    },
    {
     "name": "stdout",
     "output_type": "stream",
     "text": [
      "statid - testing:  0-20100-0-00701\n"
     ]
    },
    {
     "name": "stderr",
     "output_type": "stream",
     "text": [
      "2020-12-04 10:43:24,968 INFO Request is completed\n",
      "2020-12-04 10:43:24,968 INFO Downloading http://136.156.132.176/cache-compute-0002/cache/data1/adaptor.comprehensive_upper_air.retrieve-1607075004.1969106-26300-13-4851f4e4-acb1-4b8e-be7d-27009a346290.zip to download.zip (32.1K)\n",
      "2020-12-04 10:43:25,027 INFO Download rate 547.8K/s\n",
      "2020-12-04 10:43:25,092 INFO Welcome to the CDS\n",
      "2020-12-04 10:43:25,092 INFO Sending request to https://sis-dev.climate.copernicus.eu/api/v2/resources/insitu-comprehensive-upper-air-observation-network\n",
      "2020-12-04 10:43:25,157 INFO Request is queued\n"
     ]
    },
    {
     "name": "stdout",
     "output_type": "stream",
     "text": [
      "statid - testing:  0-20100*\n"
     ]
    },
    {
     "name": "stderr",
     "output_type": "stream",
     "text": [
      "2020-12-04 10:43:26,190 INFO Request is completed\n",
      "2020-12-04 10:43:26,191 INFO Downloading http://136.156.132.204/cache-compute-0001/cache/data1/adaptor.comprehensive_upper_air.retrieve-1607075005.6340818-31810-19-086cc813-25aa-471e-81b1-1c5a369071ab.zip to download.zip (106.4K)\n",
      "2020-12-04 10:43:26,302 INFO Download rate 962.7K/s\n",
      "2020-12-04 10:43:26,365 INFO Welcome to the CDS\n",
      "2020-12-04 10:43:26,365 INFO Sending request to https://sis-dev.climate.copernicus.eu/api/v2/resources/insitu-comprehensive-upper-air-observation-network\n",
      "2020-12-04 10:43:26,430 INFO Request is queued\n"
     ]
    },
    {
     "name": "stdout",
     "output_type": "stream",
     "text": [
      "statid - testing:  ['0-20000-0-11035', '0-20000-0-10393']\n"
     ]
    },
    {
     "name": "stderr",
     "output_type": "stream",
     "text": [
      "2020-12-04 10:43:27,463 INFO Request is completed\n",
      "2020-12-04 10:43:27,464 INFO Downloading http://136.156.132.176/cache-compute-0002/cache/data1/adaptor.comprehensive_upper_air.retrieve-1607075006.6151872-15451-19-841f6e93-5a85-43f5-af05-dd61e71f1d04.zip to download.zip (108.3K)\n",
      "2020-12-04 10:43:27,575 INFO Download rate 977.9K/s\n",
      "2020-12-04 10:43:27,640 INFO Welcome to the CDS\n",
      "2020-12-04 10:43:27,640 INFO Sending request to https://sis-dev.climate.copernicus.eu/api/v2/resources/insitu-comprehensive-upper-air-observation-network\n",
      "2020-12-04 10:43:27,706 INFO Request is queued\n"
     ]
    },
    {
     "name": "stdout",
     "output_type": "stream",
     "text": [
      "statid - testing: finished\n",
      "variable - testing:  air_temperature\n"
     ]
    },
    {
     "name": "stderr",
     "output_type": "stream",
     "text": [
      "2020-12-04 10:43:28,739 INFO Request is completed\n",
      "2020-12-04 10:43:28,739 INFO Downloading http://136.156.132.176/cache-compute-0000/cache/data1/adaptor.comprehensive_upper_air.retrieve-1607075007.8527126-1983-19-5b9e234a-c14c-4d9d-a365-a7b77faefb1d.zip to download.zip (99.5K)\n",
      "2020-12-04 10:43:28,850 INFO Download rate 900.7K/s\n",
      "2020-12-04 10:43:28,913 INFO Welcome to the CDS\n",
      "2020-12-04 10:43:28,914 INFO Sending request to https://sis-dev.climate.copernicus.eu/api/v2/resources/insitu-comprehensive-upper-air-observation-network\n",
      "2020-12-04 10:43:28,983 INFO Request is queued\n"
     ]
    },
    {
     "name": "stdout",
     "output_type": "stream",
     "text": [
      "variable - testing:  dew_point_temperature\n"
     ]
    },
    {
     "name": "stderr",
     "output_type": "stream",
     "text": [
      "2020-12-04 10:43:30,017 INFO Request is completed\n",
      "2020-12-04 10:43:30,017 INFO Downloading http://136.156.132.176/cache-compute-0002/cache/data2/adaptor.comprehensive_upper_air.retrieve-1607075009.123585-15478-14-f1a3566b-847f-4cf5-ba0d-7b70bcaddad4.zip to download.zip (99.3K)\n",
      "2020-12-04 10:43:30,128 INFO Download rate 895.4K/s\n",
      "2020-12-04 10:43:30,194 INFO Welcome to the CDS\n",
      "2020-12-04 10:43:30,194 INFO Sending request to https://sis-dev.climate.copernicus.eu/api/v2/resources/insitu-comprehensive-upper-air-observation-network\n",
      "2020-12-04 10:43:30,264 INFO Request is queued\n"
     ]
    },
    {
     "name": "stdout",
     "output_type": "stream",
     "text": [
      "variable - testing:  eastward_wind_speed\n"
     ]
    },
    {
     "name": "stderr",
     "output_type": "stream",
     "text": [
      "2020-12-04 10:43:31,297 INFO Request is completed\n",
      "2020-12-04 10:43:31,297 INFO Downloading http://136.156.132.176/cache-compute-0002/cache/data1/adaptor.comprehensive_upper_air.retrieve-1607075010.4157298-15553-14-0b07363f-1bfb-4eec-91de-ed570d38093e.zip to download.zip (110.5K)\n",
      "2020-12-04 10:43:31,409 INFO Download rate 987K/s\n",
      "2020-12-04 10:43:31,474 INFO Welcome to the CDS\n",
      "2020-12-04 10:43:31,475 INFO Sending request to https://sis-dev.climate.copernicus.eu/api/v2/resources/insitu-comprehensive-upper-air-observation-network\n",
      "2020-12-04 10:43:31,539 INFO Request is queued\n"
     ]
    },
    {
     "name": "stdout",
     "output_type": "stream",
     "text": [
      "variable - testing:  northward_wind_speed\n"
     ]
    },
    {
     "name": "stderr",
     "output_type": "stream",
     "text": [
      "2020-12-04 10:43:32,573 INFO Request is completed\n",
      "2020-12-04 10:43:32,573 INFO Downloading http://136.156.132.176/cache-compute-0000/cache/data1/adaptor.comprehensive_upper_air.retrieve-1607075011.693037-1522-19-a4a81b3a-5434-401c-9c35-bfccff6c1570.zip to download.zip (110.6K)\n",
      "2020-12-04 10:43:32,685 INFO Download rate 997.9K/s\n",
      "2020-12-04 10:43:32,748 INFO Welcome to the CDS\n",
      "2020-12-04 10:43:32,748 INFO Sending request to https://sis-dev.climate.copernicus.eu/api/v2/resources/insitu-comprehensive-upper-air-observation-network\n",
      "2020-12-04 10:43:32,850 INFO Request is queued\n"
     ]
    },
    {
     "name": "stdout",
     "output_type": "stream",
     "text": [
      "variable - testing:  relative_humidity\n"
     ]
    },
    {
     "name": "stderr",
     "output_type": "stream",
     "text": [
      "2020-12-04 10:43:33,884 INFO Request is completed\n",
      "2020-12-04 10:43:33,884 INFO Downloading http://136.156.132.176/cache-compute-0002/cache/data2/adaptor.comprehensive_upper_air.retrieve-1607075012.997038-13525-18-c3d86f06-6ab4-43c5-bf92-e35f94bc94b7.zip to download.zip (105.6K)\n",
      "2020-12-04 10:43:33,996 INFO Download rate 945.5K/s\n",
      "2020-12-04 10:43:34,059 INFO Welcome to the CDS\n",
      "2020-12-04 10:43:34,060 INFO Sending request to https://sis-dev.climate.copernicus.eu/api/v2/resources/insitu-comprehensive-upper-air-observation-network\n",
      "2020-12-04 10:43:34,126 INFO Request is queued\n"
     ]
    },
    {
     "name": "stdout",
     "output_type": "stream",
     "text": [
      "variable - testing:  specific_humidity\n"
     ]
    },
    {
     "name": "stderr",
     "output_type": "stream",
     "text": [
      "2020-12-04 10:43:35,160 INFO Request is completed\n",
      "2020-12-04 10:43:35,161 INFO Downloading http://136.156.132.176/cache-compute-0000/cache/data1/adaptor.comprehensive_upper_air.retrieve-1607075014.4055457-1761-19-5ed7e6ed-df46-4181-ba0a-8159d34c42e7.zip to download.zip (107.2K)\n",
      "2020-12-04 10:43:35,271 INFO Download rate 977.1K/s\n",
      "2020-12-04 10:43:35,335 INFO Welcome to the CDS\n",
      "2020-12-04 10:43:35,336 INFO Sending request to https://sis-dev.climate.copernicus.eu/api/v2/resources/insitu-comprehensive-upper-air-observation-network\n",
      "2020-12-04 10:43:35,408 INFO Request is queued\n"
     ]
    },
    {
     "name": "stdout",
     "output_type": "stream",
     "text": [
      "variable - testing:  wind_from_direction\n"
     ]
    },
    {
     "name": "stderr",
     "output_type": "stream",
     "text": [
      "2020-12-04 10:43:36,443 INFO Request is completed\n",
      "2020-12-04 10:43:36,444 INFO Downloading http://136.156.132.176/cache-compute-0000/cache/data2/adaptor.comprehensive_upper_air.retrieve-1607075015.7018347-1770-19-af753216-5cd4-4050-aed6-30911072ff69.zip to download.zip (98.8K)\n",
      "2020-12-04 10:43:36,555 INFO Download rate 888.9K/s\n",
      "2020-12-04 10:43:36,619 INFO Welcome to the CDS\n",
      "2020-12-04 10:43:36,620 INFO Sending request to https://sis-dev.climate.copernicus.eu/api/v2/resources/insitu-comprehensive-upper-air-observation-network\n",
      "2020-12-04 10:43:36,687 INFO Request is queued\n"
     ]
    },
    {
     "name": "stdout",
     "output_type": "stream",
     "text": [
      "variable - testing:  wind_speed\n"
     ]
    },
    {
     "name": "stderr",
     "output_type": "stream",
     "text": [
      "2020-12-04 10:43:37,720 INFO Request is completed\n",
      "2020-12-04 10:43:37,720 INFO Downloading http://136.156.132.176/cache-compute-0000/cache/data1/adaptor.comprehensive_upper_air.retrieve-1607075016.8214462-1837-17-ba39ff0c-21bf-4f79-a131-108ffef2f103.zip to download.zip (100.9K)\n",
      "2020-12-04 10:43:37,830 INFO Download rate 918.6K/s\n",
      "2020-12-04 10:43:37,896 INFO Welcome to the CDS\n",
      "2020-12-04 10:43:37,896 INFO Sending request to https://sis-dev.climate.copernicus.eu/api/v2/resources/insitu-comprehensive-upper-air-observation-network\n",
      "2020-12-04 10:43:37,966 INFO Request is queued\n"
     ]
    },
    {
     "name": "stdout",
     "output_type": "stream",
     "text": [
      "variable - testing: finished\n",
      "optional - testing:  sonde_type\n"
     ]
    },
    {
     "name": "stderr",
     "output_type": "stream",
     "text": [
      "2020-12-04 10:43:38,999 INFO Request is completed\n",
      "2020-12-04 10:43:38,999 INFO Downloading http://136.156.132.176/cache-compute-0002/cache/data2/adaptor.comprehensive_upper_air.retrieve-1607075018.1618063-15453-15-9ce4ab4a-eba5-4e30-9e5e-b9a719988266.zip to download.zip (91K)\n",
      "2020-12-04 10:43:39,084 INFO Download rate 1.1M/s\n",
      "2020-12-04 10:43:39,149 INFO Welcome to the CDS\n",
      "2020-12-04 10:43:39,149 INFO Sending request to https://sis-dev.climate.copernicus.eu/api/v2/resources/insitu-comprehensive-upper-air-observation-network\n",
      "2020-12-04 10:43:39,211 INFO Request is queued\n"
     ]
    },
    {
     "name": "stdout",
     "output_type": "stream",
     "text": [
      "optional - testing:  bias_estimate\n"
     ]
    },
    {
     "name": "stderr",
     "output_type": "stream",
     "text": [
      "2020-12-04 10:43:40,244 INFO Request is completed\n",
      "2020-12-04 10:43:40,244 INFO Downloading http://136.156.132.204/cache-compute-0001/cache/data2/adaptor.comprehensive_upper_air.retrieve-1607075019.3986108-31467-16-276dcad9-5199-4bbd-9322-e8e53e453dbd.zip to download.zip (87.5K)\n",
      "2020-12-04 10:43:40,330 INFO Download rate 1023.4K/s\n",
      "2020-12-04 10:43:40,393 INFO Welcome to the CDS\n",
      "2020-12-04 10:43:40,393 INFO Sending request to https://sis-dev.climate.copernicus.eu/api/v2/resources/insitu-comprehensive-upper-air-observation-network\n",
      "2020-12-04 10:43:40,455 INFO Request is queued\n"
     ]
    },
    {
     "name": "stdout",
     "output_type": "stream",
     "text": [
      "optional - testing:  obs_minus_an\n"
     ]
    },
    {
     "name": "stderr",
     "output_type": "stream",
     "text": [
      "2020-12-04 10:43:41,488 INFO Request is completed\n",
      "2020-12-04 10:43:41,489 INFO Downloading http://136.156.132.204/cache-compute-0001/cache/data1/adaptor.comprehensive_upper_air.retrieve-1607075020.649242-31602-15-4940b992-a6d3-4f23-8ff0-e60a9cf8e02d.zip to download.zip (90.6K)\n",
      "2020-12-04 10:43:41,573 INFO Download rate 1.1M/s\n",
      "2020-12-04 10:43:41,636 INFO Welcome to the CDS\n",
      "2020-12-04 10:43:41,637 INFO Sending request to https://sis-dev.climate.copernicus.eu/api/v2/resources/insitu-comprehensive-upper-air-observation-network\n",
      "2020-12-04 10:43:41,696 INFO Request is queued\n"
     ]
    },
    {
     "name": "stdout",
     "output_type": "stream",
     "text": [
      "optional - testing:  obs_minus_bg\n"
     ]
    },
    {
     "name": "stderr",
     "output_type": "stream",
     "text": [
      "2020-12-04 10:43:42,729 INFO Request is completed\n",
      "2020-12-04 10:43:42,730 INFO Downloading http://136.156.132.204/cache-compute-0001/cache/data2/adaptor.comprehensive_upper_air.retrieve-1607075021.8960578-31669-15-7e8bf0b7-6b33-48e1-aaf9-6ca123ec83c7.zip to download.zip (90.6K)\n",
      "2020-12-04 10:43:42,815 INFO Download rate 1M/s\n",
      "2020-12-04 10:43:42,877 INFO Welcome to the CDS\n",
      "2020-12-04 10:43:42,877 INFO Sending request to https://sis-dev.climate.copernicus.eu/api/v2/resources/insitu-comprehensive-upper-air-observation-network\n",
      "2020-12-04 10:43:42,937 INFO Request is queued\n"
     ]
    },
    {
     "name": "stdout",
     "output_type": "stream",
     "text": [
      "optional - testing: finished\n",
      "area - testing:  [-40, 140, 80, 359]\n"
     ]
    },
    {
     "name": "stderr",
     "output_type": "stream",
     "text": [
      "2020-12-04 10:43:43,971 INFO Request is running\n",
      "2020-12-04 10:43:56,299 INFO Request is completed\n",
      "2020-12-04 10:43:56,300 INFO Downloading http://136.156.132.204/cache-compute-0001/cache/data1/adaptor.comprehensive_upper_air.retrieve-1607075032.10353-31783-17-99f3dd54-509e-45f4-bb64-80ebaa7ccd6d.zip to download.zip (49.7M)\n",
      "2020-12-04 10:43:57,721 INFO Download rate 34.9M/s  \n",
      "2020-12-04 10:43:57,788 INFO Welcome to the CDS\n",
      "2020-12-04 10:43:57,788 INFO Sending request to https://sis-dev.climate.copernicus.eu/api/v2/resources/insitu-comprehensive-upper-air-observation-network\n",
      "2020-12-04 10:43:57,852 INFO Request is queued\n"
     ]
    },
    {
     "name": "stdout",
     "output_type": "stream",
     "text": [
      "area - testing:  [40, 0, 50, 20]\n"
     ]
    },
    {
     "name": "stderr",
     "output_type": "stream",
     "text": [
      "2020-12-04 10:43:58,885 INFO Request is running\n",
      "2020-12-04 10:44:11,213 INFO Request is completed\n",
      "2020-12-04 10:44:11,214 INFO Downloading http://136.156.132.176/cache-compute-0002/cache/data2/adaptor.comprehensive_upper_air.retrieve-1607075047.6665936-3144-7-4b5dc108-5d45-4152-be66-cf91467dab7a.zip to download.zip (49.7M)\n",
      "2020-12-04 10:44:15,253 INFO Download rate 12.3M/s  \n",
      "2020-12-04 10:44:15,399 INFO Welcome to the CDS\n",
      "2020-12-04 10:44:15,399 INFO Sending request to https://sis-dev.climate.copernicus.eu/api/v2/resources/insitu-comprehensive-upper-air-observation-network\n",
      "2020-12-04 10:44:15,461 INFO Request is queued\n"
     ]
    },
    {
     "name": "stdout",
     "output_type": "stream",
     "text": [
      "area - testing: finished\n",
      "country - testing:  GLOBE\n"
     ]
    },
    {
     "name": "stderr",
     "output_type": "stream",
     "text": [
      "2020-12-04 10:44:16,494 INFO Request is running\n",
      "2020-12-04 10:44:28,823 INFO Request is completed\n",
      "2020-12-04 10:44:28,823 INFO Downloading http://136.156.132.176/cache-compute-0002/cache/data2/adaptor.comprehensive_upper_air.retrieve-1607075065.0279367-3170-7-ace7a82b-427e-4e98-ac58-d67c7e502ae8.zip to download.zip (49.7M)\n",
      "2020-12-04 10:44:33,723 INFO Download rate 10.1M/s  \n",
      "2020-12-04 10:44:33,788 INFO Welcome to the CDS\n",
      "2020-12-04 10:44:33,789 INFO Sending request to https://sis-dev.climate.copernicus.eu/api/v2/resources/insitu-comprehensive-upper-air-observation-network\n",
      "2020-12-04 10:44:33,882 INFO Request is queued\n"
     ]
    },
    {
     "name": "stdout",
     "output_type": "stream",
     "text": [
      "country - testing:  ALL\n"
     ]
    },
    {
     "name": "stderr",
     "output_type": "stream",
     "text": [
      "2020-12-04 10:44:34,915 INFO Request is running\n",
      "2020-12-04 10:44:47,243 INFO Request is completed\n",
      "2020-12-04 10:44:47,244 INFO Downloading http://136.156.132.176/cache-compute-0002/cache/data1/adaptor.comprehensive_upper_air.retrieve-1607075083.6036198-3502-7-956fbedd-1a9d-4392-9724-4181ae32a666.zip to download.zip (49.7M)\n",
      "2020-12-04 10:44:51,038 INFO Download rate 13.1M/s  \n",
      "2020-12-04 10:44:51,102 INFO Welcome to the CDS\n",
      "2020-12-04 10:44:51,103 INFO Sending request to https://sis-dev.climate.copernicus.eu/api/v2/resources/insitu-comprehensive-upper-air-observation-network\n",
      "2020-12-04 10:44:51,168 INFO Request is queued\n"
     ]
    },
    {
     "name": "stdout",
     "output_type": "stream",
     "text": [
      "country - testing:  NOR\n"
     ]
    },
    {
     "name": "stderr",
     "output_type": "stream",
     "text": [
      "2020-12-04 10:44:52,201 INFO Request is completed\n",
      "2020-12-04 10:44:52,201 INFO Downloading http://136.156.132.204/cache-compute-0001/cache/data1/adaptor.comprehensive_upper_air.retrieve-1607075091.6753316-31425-20-ac3e3eef-68cb-4598-bf8c-3e0898275103.zip to download.zip (250.5K)\n",
      "2020-12-04 10:44:52,337 INFO Download rate 1.8M/s \n",
      "2020-12-04 10:44:52,399 INFO Welcome to the CDS\n",
      "2020-12-04 10:44:52,399 INFO Sending request to https://sis-dev.climate.copernicus.eu/api/v2/resources/insitu-comprehensive-upper-air-observation-network\n",
      "2020-12-04 10:44:52,459 INFO Request is queued\n"
     ]
    },
    {
     "name": "stdout",
     "output_type": "stream",
     "text": [
      "country - testing:  ['NOR', 'DEU']\n"
     ]
    },
    {
     "name": "stderr",
     "output_type": "stream",
     "text": [
      "2020-12-04 10:44:53,492 INFO Request is completed\n",
      "2020-12-04 10:44:53,492 INFO Downloading http://136.156.132.204/cache-compute-0001/cache/data2/adaptor.comprehensive_upper_air.retrieve-1607075093.0338595-3869-7-041d0032-fb89-48f3-8231-2bdad35b8f0d.zip to download.zip (862.5K)\n",
      "2020-12-04 10:44:53,682 INFO Download rate 4.5M/s \n",
      "2020-12-04 10:44:53,745 INFO Welcome to the CDS\n",
      "2020-12-04 10:44:53,745 INFO Sending request to https://sis-dev.climate.copernicus.eu/api/v2/resources/insitu-comprehensive-upper-air-observation-network\n",
      "2020-12-04 10:44:53,805 INFO Request is queued\n"
     ]
    },
    {
     "name": "stdout",
     "output_type": "stream",
     "text": [
      "country - testing: finished\n",
      "date - testing:  None\n"
     ]
    },
    {
     "name": "stderr",
     "output_type": "stream",
     "text": [
      "2020-12-04 10:44:54,839 INFO Request is running\n",
      "2020-12-04 10:44:56,373 INFO Request is completed\n",
      "2020-12-04 10:44:56,373 INFO Downloading http://136.156.132.204/cache-compute-0001/cache/data2/adaptor.comprehensive_upper_air.retrieve-1607075096.1307316-3872-7-f46959e1-0e50-45e0-b651-6e2aa9127224.zip to download.zip (40M)\n",
      "2020-12-04 10:44:58,297 INFO Download rate 20.8M/s  \n",
      "2020-12-04 10:44:58,362 INFO Welcome to the CDS\n",
      "2020-12-04 10:44:58,362 INFO Sending request to https://sis-dev.climate.copernicus.eu/api/v2/resources/insitu-comprehensive-upper-air-observation-network\n",
      "2020-12-04 10:44:58,423 INFO Request is queued\n"
     ]
    },
    {
     "name": "stdout",
     "output_type": "stream",
     "text": [
      "date - testing:  20000101\n"
     ]
    },
    {
     "name": "stderr",
     "output_type": "stream",
     "text": [
      "2020-12-04 10:44:59,456 INFO Request is completed\n",
      "2020-12-04 10:44:59,456 INFO Downloading http://136.156.132.176/cache-compute-0002/cache/data2/adaptor.comprehensive_upper_air.retrieve-1607075098.6895175-10833-7-7c6cc8ce-23c0-441e-ba4d-e534fdba1f9b.zip to download.zip (23.6K)\n",
      "2020-12-04 10:44:59,512 INFO Download rate 423.9K/s\n",
      "2020-12-04 10:44:59,576 INFO Welcome to the CDS\n",
      "2020-12-04 10:44:59,576 INFO Sending request to https://sis-dev.climate.copernicus.eu/api/v2/resources/insitu-comprehensive-upper-air-observation-network\n",
      "2020-12-04 10:44:59,638 INFO Request is queued\n"
     ]
    },
    {
     "name": "stdout",
     "output_type": "stream",
     "text": [
      "date - testing:  20000101-20000201\n"
     ]
    },
    {
     "name": "stderr",
     "output_type": "stream",
     "text": [
      "2020-12-04 10:45:00,671 INFO Request is completed\n",
      "2020-12-04 10:45:00,672 INFO Downloading http://136.156.132.204/cache-compute-0001/cache/data2/adaptor.comprehensive_upper_air.retrieve-1607075099.8900127-3892-7-ab85e7f7-aa79-4d64-8dd3-4a7d4e5aee04.zip to download.zip (69.4K)\n",
      "2020-12-04 10:45:00,842 INFO Download rate 409.1K/s \n",
      "2020-12-04 10:45:00,906 INFO Welcome to the CDS\n",
      "2020-12-04 10:45:00,906 INFO Sending request to https://sis-dev.climate.copernicus.eu/api/v2/resources/insitu-comprehensive-upper-air-observation-network\n",
      "2020-12-04 10:45:00,967 INFO Request is queued\n"
     ]
    },
    {
     "name": "stdout",
     "output_type": "stream",
     "text": [
      "date - testing:  ['20000101', '20000103', '20000106']\n"
     ]
    },
    {
     "name": "stderr",
     "output_type": "stream",
     "text": [
      "2020-12-04 10:45:02,000 INFO Request is completed\n",
      "2020-12-04 10:45:02,001 INFO Downloading http://136.156.132.176/cache-compute-0000/cache/data2/adaptor.comprehensive_upper_air.retrieve-1607075101.2278252-3379-7-991b3005-f208-4610-bb69-055a7c6849b3.zip to download.zip (31.6K)\n",
      "2020-12-04 10:45:02,060 INFO Download rate 540.9K/s\n",
      "2020-12-04 10:45:02,125 INFO Welcome to the CDS\n",
      "2020-12-04 10:45:02,125 INFO Sending request to https://sis-dev.climate.copernicus.eu/api/v2/resources/insitu-comprehensive-upper-air-observation-network\n",
      "2020-12-04 10:45:02,192 INFO Request is queued\n"
     ]
    },
    {
     "name": "stdout",
     "output_type": "stream",
     "text": [
      "date - testing: finished\n",
      "period - testing:  None\n"
     ]
    },
    {
     "name": "stderr",
     "output_type": "stream",
     "text": [
      "2020-12-04 10:45:03,225 INFO Request is running\n",
      "2020-12-04 10:45:07,043 INFO Request is completed\n",
      "2020-12-04 10:45:07,044 INFO Downloading http://136.156.132.204/cache-compute-0001/cache/data2/adaptor.comprehensive_upper_air.retrieve-1607075104.5422597-4003-7-9a398dfc-72f9-4dc3-aed2-f0c559d9a8fd.zip to download.zip (40M)\n",
      "2020-12-04 10:45:15,753 INFO Download rate 4.6M/s   \n",
      "2020-12-04 10:45:15,817 INFO Welcome to the CDS\n",
      "2020-12-04 10:45:15,817 INFO Sending request to https://sis-dev.climate.copernicus.eu/api/v2/resources/insitu-comprehensive-upper-air-observation-network\n",
      "2020-12-04 10:45:15,882 INFO Request is queued\n"
     ]
    },
    {
     "name": "stdout",
     "output_type": "stream",
     "text": [
      "period - testing:  1979-01-01/1980-08-16\n"
     ]
    },
    {
     "name": "stderr",
     "output_type": "stream",
     "text": [
      "2020-12-04 10:45:16,916 INFO Request is completed\n",
      "2020-12-04 10:45:16,916 INFO Downloading http://136.156.132.176/cache-compute-0002/cache/data1/adaptor.comprehensive_upper_air.retrieve-1607075116.2124634-10914-7-d8a696ec-0220-4186-954a-27d18c1879e2.zip to download.zip (517.4K)\n",
      "2020-12-04 10:45:17,082 INFO Download rate 3.1M/s \n",
      "2020-12-04 10:45:17,145 INFO Welcome to the CDS\n",
      "2020-12-04 10:45:17,145 INFO Sending request to https://sis-dev.climate.copernicus.eu/api/v2/resources/insitu-comprehensive-upper-air-observation-network\n",
      "2020-12-04 10:45:17,207 INFO Request is queued\n"
     ]
    },
    {
     "name": "stdout",
     "output_type": "stream",
     "text": [
      "period - testing: finished\n",
      "pressure_level - testing:  100\n"
     ]
    },
    {
     "name": "stderr",
     "output_type": "stream",
     "text": [
      "2020-12-04 10:45:18,240 INFO Request is completed\n",
      "2020-12-04 10:45:18,241 INFO Downloading http://136.156.132.204/cache-compute-0001/cache/data1/adaptor.comprehensive_upper_air.retrieve-1607075117.366433-4021-6-4ad3998e-7cd1-45fb-bc48-5d9d1a07ca0c.zip to download.zip (23.6K)\n",
      "2020-12-04 10:45:18,299 INFO Download rate 411K/s\n",
      "2020-12-04 10:45:18,362 INFO Welcome to the CDS\n",
      "2020-12-04 10:45:18,363 INFO Sending request to https://sis-dev.climate.copernicus.eu/api/v2/resources/insitu-comprehensive-upper-air-observation-network\n",
      "2020-12-04 10:45:18,441 INFO Request is queued\n"
     ]
    },
    {
     "name": "stdout",
     "output_type": "stream",
     "text": [
      "pressure_level - testing:  100\n"
     ]
    },
    {
     "name": "stderr",
     "output_type": "stream",
     "text": [
      "2020-12-04 10:45:19,474 INFO Request is completed\n",
      "2020-12-04 10:45:19,474 INFO Downloading http://136.156.132.176/cache-compute-0000/cache/data2/adaptor.comprehensive_upper_air.retrieve-1607075118.5916722-1972-22-960e43d7-b5e9-47c4-9878-18ab322426d3.zip to download.zip (23.6K)\n",
      "2020-12-04 10:45:19,841 INFO Download rate 64.3K/s  \n",
      "2020-12-04 10:45:19,904 INFO Welcome to the CDS\n",
      "2020-12-04 10:45:19,904 INFO Sending request to https://sis-dev.climate.copernicus.eu/api/v2/resources/insitu-comprehensive-upper-air-observation-network\n",
      "2020-12-04 10:45:19,965 INFO Request is queued\n"
     ]
    },
    {
     "name": "stdout",
     "output_type": "stream",
     "text": [
      "pressure_level - testing:  [100, 200]\n"
     ]
    },
    {
     "name": "stderr",
     "output_type": "stream",
     "text": [
      "2020-12-04 10:45:20,997 INFO Request is completed\n",
      "2020-12-04 10:45:20,998 INFO Downloading http://136.156.132.176/cache-compute-0000/cache/data2/adaptor.comprehensive_upper_air.retrieve-1607075120.125535-8592-6-88e115b0-767f-4e9f-89c0-c80f2db5eade.zip to download.zip (23.6K)\n",
      "2020-12-04 10:45:21,107 INFO Download rate 216.8K/s\n",
      "2020-12-04 10:45:21,169 INFO Welcome to the CDS\n",
      "2020-12-04 10:45:21,169 INFO Sending request to https://sis-dev.climate.copernicus.eu/api/v2/resources/insitu-comprehensive-upper-air-observation-network\n",
      "2020-12-04 10:45:21,230 INFO Request is queued\n"
     ]
    },
    {
     "name": "stdout",
     "output_type": "stream",
     "text": [
      "pressure_level - testing:  ['100', '200']\n"
     ]
    },
    {
     "name": "stderr",
     "output_type": "stream",
     "text": [
      "2020-12-04 10:45:22,263 INFO Request is completed\n",
      "2020-12-04 10:45:22,264 INFO Downloading http://136.156.132.176/cache-compute-0002/cache/data2/adaptor.comprehensive_upper_air.retrieve-1607075121.5615025-15900-6-66ff4c90-e6eb-455b-9094-071ea4013e53.zip to download.zip (23.6K)\n",
      "2020-12-04 10:45:22,322 INFO Download rate 408.6K/s\n",
      "2020-12-04 10:45:22,385 INFO Welcome to the CDS\n",
      "2020-12-04 10:45:22,386 INFO Sending request to https://sis-dev.climate.copernicus.eu/api/v2/resources/insitu-comprehensive-upper-air-observation-network\n",
      "2020-12-04 10:45:22,445 INFO Request is queued\n"
     ]
    },
    {
     "name": "stdout",
     "output_type": "stream",
     "text": [
      "pressure_level - testing: finished\n",
      "time - testing:  [22, 23, 0, 1, 2, 3]\n"
     ]
    },
    {
     "name": "stderr",
     "output_type": "stream",
     "text": [
      "2020-12-04 10:45:23,480 INFO Request is completed\n",
      "2020-12-04 10:45:23,481 INFO Downloading http://136.156.132.176/cache-compute-0000/cache/data2/adaptor.comprehensive_upper_air.retrieve-1607075122.5917258-1557-17-83924fbf-a522-4e6d-beca-99b831bac6d5.zip to download.zip (43.3K)\n",
      "2020-12-04 10:45:23,566 INFO Download rate 511.3K/s\n",
      "2020-12-04 10:45:23,630 INFO Welcome to the CDS\n",
      "2020-12-04 10:45:23,630 INFO Sending request to https://sis-dev.climate.copernicus.eu/api/v2/resources/insitu-comprehensive-upper-air-observation-network\n",
      "2020-12-04 10:45:23,691 INFO Request is queued\n"
     ]
    },
    {
     "name": "stdout",
     "output_type": "stream",
     "text": [
      "time - testing:  ['22', '23', '00', '01', '02', '03']\n"
     ]
    },
    {
     "name": "stderr",
     "output_type": "stream",
     "text": [
      "2020-12-04 10:45:24,723 INFO Request is completed\n",
      "2020-12-04 10:45:24,724 INFO Downloading http://136.156.132.176/cache-compute-0000/cache/data1/adaptor.comprehensive_upper_air.retrieve-1607075123.8310013-1758-15-1848321e-f4f5-4279-9f99-732bda1d8757.zip to download.zip (43.3K)\n",
      "2020-12-04 10:45:24,810 INFO Download rate 503.3K/s\n",
      "2020-12-04 10:45:24,875 INFO Welcome to the CDS\n",
      "2020-12-04 10:45:24,875 INFO Sending request to https://sis-dev.climate.copernicus.eu/api/v2/resources/insitu-comprehensive-upper-air-observation-network\n",
      "2020-12-04 10:45:24,936 INFO Request is queued\n"
     ]
    },
    {
     "name": "stdout",
     "output_type": "stream",
     "text": [
      "time - testing:  \n"
     ]
    },
    {
     "name": "stderr",
     "output_type": "stream",
     "text": [
      "2020-12-04 10:45:25,969 INFO Request is completed\n",
      "2020-12-04 10:45:25,969 INFO Downloading http://136.156.132.204/cache-compute-0001/cache/data1/adaptor.comprehensive_upper_air.retrieve-1607075125.0992389-31563-17-b4dd92a0-ed09-4f94-b4fc-51fb7febba22.zip to download.zip (67.9K)\n",
      "2020-12-04 10:45:26,055 INFO Download rate 800.5K/s\n",
      "2020-12-04 10:45:26,121 INFO Welcome to the CDS\n",
      "2020-12-04 10:45:26,121 INFO Sending request to https://sis-dev.climate.copernicus.eu/api/v2/resources/insitu-comprehensive-upper-air-observation-network\n",
      "2020-12-04 10:45:26,180 INFO Request is queued\n"
     ]
    },
    {
     "name": "stdout",
     "output_type": "stream",
     "text": [
      "time - testing:  0\n"
     ]
    },
    {
     "name": "stderr",
     "output_type": "stream",
     "text": [
      "2020-12-04 10:45:27,214 INFO Request is completed\n",
      "2020-12-04 10:45:27,214 INFO Downloading http://136.156.132.176/cache-compute-0000/cache/data2/adaptor.comprehensive_upper_air.retrieve-1607075126.4689202-1767-17-e3bd1315-6cc0-4347-998f-70718219d4fc.zip to download.zip (44.1K)\n",
      "2020-12-04 10:45:27,299 INFO Download rate 520K/s\n",
      "2020-12-04 10:45:27,363 INFO Welcome to the CDS\n",
      "2020-12-04 10:45:27,363 INFO Sending request to https://sis-dev.climate.copernicus.eu/api/v2/resources/insitu-comprehensive-upper-air-observation-network\n",
      "2020-12-04 10:45:27,428 INFO Request is queued\n"
     ]
    },
    {
     "name": "stdout",
     "output_type": "stream",
     "text": [
      "time - testing:  00\n"
     ]
    },
    {
     "name": "stderr",
     "output_type": "stream",
     "text": [
      "2020-12-04 10:45:28,462 INFO Request is completed\n",
      "2020-12-04 10:45:28,462 INFO Downloading http://136.156.132.176/cache-compute-0000/cache/data1/adaptor.comprehensive_upper_air.retrieve-1607075127.5821247-1975-11-bc4b1f67-12c0-45ae-aae5-5906736e949e.zip to download.zip (44.1K)\n",
      "2020-12-04 10:45:28,547 INFO Download rate 525.4K/s\n",
      "2020-12-04 10:45:28,610 INFO Welcome to the CDS\n",
      "2020-12-04 10:45:28,610 INFO Sending request to https://sis-dev.climate.copernicus.eu/api/v2/resources/insitu-comprehensive-upper-air-observation-network\n",
      "2020-12-04 10:45:28,672 INFO Request is queued\n"
     ]
    },
    {
     "name": "stdout",
     "output_type": "stream",
     "text": [
      "time - testing:  ['00']\n"
     ]
    },
    {
     "name": "stderr",
     "output_type": "stream",
     "text": [
      "2020-12-04 10:45:29,705 INFO Request is completed\n",
      "2020-12-04 10:45:29,705 INFO Downloading http://136.156.132.176/cache-compute-0000/cache/data2/adaptor.comprehensive_upper_air.retrieve-1607075128.8146834-1579-16-3b126e07-e189-4b7d-95b1-d6a7804bec4d.zip to download.zip (44.1K)\n",
      "2020-12-04 10:45:29,790 INFO Download rate 520.9K/s\n",
      "2020-12-04 10:45:29,854 INFO Welcome to the CDS\n",
      "2020-12-04 10:45:29,854 INFO Sending request to https://sis-dev.climate.copernicus.eu/api/v2/resources/insitu-comprehensive-upper-air-observation-network\n",
      "2020-12-04 10:45:29,916 INFO Request is queued\n"
     ]
    },
    {
     "name": "stdout",
     "output_type": "stream",
     "text": [
      "time - testing:  [0, 12]\n"
     ]
    },
    {
     "name": "stderr",
     "output_type": "stream",
     "text": [
      "2020-12-04 10:45:30,949 INFO Request is completed\n",
      "2020-12-04 10:45:30,949 INFO Downloading http://136.156.132.176/cache-compute-0000/cache/data2/adaptor.comprehensive_upper_air.retrieve-1607075130.0503323-1601-15-6a6cc746-16c0-4c7a-bb67-a535c0ad04f0.zip to download.zip (65.7K)\n",
      "2020-12-04 10:45:31,060 INFO Download rate 594K/s\n",
      "2020-12-04 10:45:31,125 INFO Welcome to the CDS\n",
      "2020-12-04 10:45:31,125 INFO Sending request to https://sis-dev.climate.copernicus.eu/api/v2/resources/insitu-comprehensive-upper-air-observation-network\n",
      "2020-12-04 10:45:31,210 INFO Request is queued\n"
     ]
    },
    {
     "name": "stdout",
     "output_type": "stream",
     "text": [
      "time - testing:  ['0', '12']\n"
     ]
    },
    {
     "name": "stderr",
     "output_type": "stream",
     "text": [
      "2020-12-04 10:45:32,243 INFO Request is completed\n",
      "2020-12-04 10:45:32,243 INFO Downloading http://136.156.132.176/cache-compute-0000/cache/data2/adaptor.comprehensive_upper_air.retrieve-1607075131.350583-1714-13-322cae2d-f466-4cdb-b1a9-fe35b7f05b07.zip to download.zip (65.7K)\n",
      "2020-12-04 10:45:32,354 INFO Download rate 595K/s\n",
      "2020-12-04 10:45:32,418 INFO Welcome to the CDS\n",
      "2020-12-04 10:45:32,419 INFO Sending request to https://sis-dev.climate.copernicus.eu/api/v2/resources/insitu-comprehensive-upper-air-observation-network\n"
     ]
    },
    {
     "name": "stdout",
     "output_type": "stream",
     "text": [
      "time - testing: finished\n",
      "format - testing:  None\n"
     ]
    },
    {
     "name": "stderr",
     "output_type": "stream",
     "text": [
      "2020-12-04 10:45:32,594 INFO Request is queued\n",
      "2020-12-04 10:45:33,627 INFO Request is completed\n",
      "2020-12-04 10:45:33,628 INFO Downloading http://136.156.132.176/cache-compute-0000/cache/data2/adaptor.comprehensive_upper_air.retrieve-1607075132.7359993-1773-12-361ab872-960e-4f1e-8b23-f871539565cd.zip to download.zip (67.9K)\n",
      "2020-12-04 10:45:33,739 INFO Download rate 610.7K/s\n",
      "2020-12-04 10:45:33,801 INFO Welcome to the CDS\n",
      "2020-12-04 10:45:33,802 INFO Sending request to https://sis-dev.climate.copernicus.eu/api/v2/resources/insitu-comprehensive-upper-air-observation-network\n",
      "2020-12-04 10:45:33,862 INFO Request is queued\n"
     ]
    },
    {
     "name": "stdout",
     "output_type": "stream",
     "text": [
      "format - testing:  csv\n"
     ]
    },
    {
     "name": "stderr",
     "output_type": "stream",
     "text": [
      "2020-12-04 10:45:34,895 INFO Request is completed\n",
      "2020-12-04 10:45:34,896 INFO Downloading http://136.156.132.204/cache-compute-0001/cache/data1/adaptor.comprehensive_upper_air.retrieve-1607075134.1003227-20841-4-d05bbba6-ac8a-49af-bb24-284e24eb15a7.zip to download.zip (29.1K)\n",
      "2020-12-04 10:45:34,955 INFO Download rate 497.7K/s\n",
      "2020-12-04 10:45:35,018 INFO Welcome to the CDS\n",
      "2020-12-04 10:45:35,018 INFO Sending request to https://sis-dev.climate.copernicus.eu/api/v2/resources/insitu-comprehensive-upper-air-observation-network\n",
      "2020-12-04 10:45:35,078 INFO Request is queued\n"
     ]
    },
    {
     "name": "stdout",
     "output_type": "stream",
     "text": [
      "format - testing:  nc\n"
     ]
    },
    {
     "name": "stderr",
     "output_type": "stream",
     "text": [
      "2020-12-04 10:45:36,111 INFO Request is completed\n",
      "2020-12-04 10:45:36,112 INFO Downloading http://136.156.132.176/cache-compute-0002/cache/data1/adaptor.comprehensive_upper_air.retrieve-1607075135.2262297-15476-12-6e1fc475-f12e-4233-bcb8-7c08c5e65061.zip to download.zip (67.9K)\n",
      "2020-12-04 10:45:36,223 INFO Download rate 613.6K/s\n",
      "2020-12-04 10:45:36,287 INFO Welcome to the CDS\n",
      "2020-12-04 10:45:36,287 INFO Sending request to https://sis-dev.climate.copernicus.eu/api/v2/resources/insitu-comprehensive-upper-air-observation-network\n",
      "2020-12-04 10:45:36,348 INFO Request is queued\n"
     ]
    },
    {
     "name": "stdout",
     "output_type": "stream",
     "text": [
      "format - testing: finished\n",
      "y - testing:  None\n"
     ]
    },
    {
     "name": "stderr",
     "output_type": "stream",
     "text": [
      "2020-12-04 10:45:37,381 INFO Request is running\n",
      "2020-12-04 10:45:41,198 INFO Request is completed\n",
      "2020-12-04 10:45:41,198 INFO Downloading http://136.156.132.204/cache-compute-0001/cache/data2/adaptor.comprehensive_upper_air.retrieve-1607075138.6444674-21398-4-b9f3f47e-0612-4fef-9b78-bf549ec37904.zip to download.zip (40M)\n",
      "2020-12-04 10:45:45,670 INFO Download rate 9M/s     \n",
      "2020-12-04 10:45:45,736 INFO Welcome to the CDS\n",
      "2020-12-04 10:45:45,736 INFO Sending request to https://sis-dev.climate.copernicus.eu/api/v2/resources/insitu-comprehensive-upper-air-observation-network\n",
      "2020-12-04 10:45:45,803 INFO Request is queued\n"
     ]
    },
    {
     "name": "stdout",
     "output_type": "stream",
     "text": [
      "y - testing:  2000\n"
     ]
    },
    {
     "name": "stderr",
     "output_type": "stream",
     "text": [
      "2020-12-04 10:45:46,837 INFO Request is completed\n",
      "2020-12-04 10:45:46,837 INFO Downloading http://136.156.132.204/cache-compute-0001/cache/data1/adaptor.comprehensive_upper_air.retrieve-1607075146.0814843-21405-4-3cdb3a7f-3215-4d32-8dd1-1865cce23614.zip to download.zip (23.6K)\n",
      "2020-12-04 10:45:46,896 INFO Download rate 402.8K/s\n",
      "2020-12-04 10:45:46,960 INFO Welcome to the CDS\n",
      "2020-12-04 10:45:46,960 INFO Sending request to https://sis-dev.climate.copernicus.eu/api/v2/resources/insitu-comprehensive-upper-air-observation-network\n",
      "2020-12-04 10:45:47,023 INFO Request is queued\n"
     ]
    },
    {
     "name": "stdout",
     "output_type": "stream",
     "text": [
      "y - testing:  2000\n"
     ]
    },
    {
     "name": "stderr",
     "output_type": "stream",
     "text": [
      "2020-12-04 10:45:48,055 INFO Request is completed\n",
      "2020-12-04 10:45:48,056 INFO Downloading http://136.156.132.204/cache-compute-0001/cache/data1/adaptor.comprehensive_upper_air.retrieve-1607075147.223687-31863-18-5e7a664e-d6f7-46ca-8b33-cb2de965f3db.zip to download.zip (23.6K)\n",
      "2020-12-04 10:45:48,114 INFO Download rate 406K/s\n",
      "2020-12-04 10:45:48,180 INFO Welcome to the CDS\n",
      "2020-12-04 10:45:48,181 INFO Sending request to https://sis-dev.climate.copernicus.eu/api/v2/resources/insitu-comprehensive-upper-air-observation-network\n",
      "2020-12-04 10:45:48,241 INFO Request is queued\n"
     ]
    },
    {
     "name": "stdout",
     "output_type": "stream",
     "text": [
      "y - testing:  ['2000', '2001']\n"
     ]
    },
    {
     "name": "stderr",
     "output_type": "stream",
     "text": [
      "2020-12-04 10:45:49,276 INFO Request is completed\n",
      "2020-12-04 10:45:49,276 INFO Downloading http://136.156.132.176/cache-compute-0002/cache/data2/adaptor.comprehensive_upper_air.retrieve-1607075148.4470885-30135-3-a9a522fe-dfc7-4e0f-8f68-1b0a5f94656c.zip to download.zip (549.2K)\n",
      "2020-12-04 10:45:49,737 INFO Download rate 1.2M/s \n",
      "2020-12-04 10:45:49,803 INFO Welcome to the CDS\n",
      "2020-12-04 10:45:49,804 INFO Sending request to https://sis-dev.climate.copernicus.eu/api/v2/resources/insitu-comprehensive-upper-air-observation-network\n",
      "2020-12-04 10:45:49,863 INFO Request is queued\n"
     ]
    },
    {
     "name": "stdout",
     "output_type": "stream",
     "text": [
      "y - testing:  [2000, 2001]\n"
     ]
    },
    {
     "name": "stderr",
     "output_type": "stream",
     "text": [
      "2020-12-04 10:45:50,896 INFO Request is completed\n",
      "2020-12-04 10:45:50,897 INFO Downloading http://136.156.132.204/cache-compute-0001/cache/data2/adaptor.comprehensive_upper_air.retrieve-1607075150.2091687-26138-3-0dd95704-ea33-4c18-a8c9-231827841468.zip to download.zip (549.2K)\n",
      "2020-12-04 10:45:51,061 INFO Download rate 3.3M/s \n",
      "2020-12-04 10:45:51,124 INFO Welcome to the CDS\n",
      "2020-12-04 10:45:51,124 INFO Sending request to https://sis-dev.climate.copernicus.eu/api/v2/resources/insitu-comprehensive-upper-air-observation-network\n",
      "2020-12-04 10:45:51,186 INFO Request is queued\n"
     ]
    },
    {
     "name": "stdout",
     "output_type": "stream",
     "text": [
      "m - testing:  None\n"
     ]
    },
    {
     "name": "stderr",
     "output_type": "stream",
     "text": [
      "2020-12-04 10:45:52,219 INFO Request is running\n",
      "2020-12-04 10:45:56,038 INFO Request is completed\n",
      "2020-12-04 10:45:56,038 INFO Downloading http://136.156.132.176/cache-compute-0000/cache/data2/adaptor.comprehensive_upper_air.retrieve-1607075153.5584197-25541-3-f1463128-a157-4987-8851-d7dfc24dd7d7.zip to download.zip (40M)\n",
      "2020-12-04 10:45:59,596 INFO Download rate 11.3M/s  \n",
      "2020-12-04 10:45:59,660 INFO Welcome to the CDS\n",
      "2020-12-04 10:45:59,661 INFO Sending request to https://sis-dev.climate.copernicus.eu/api/v2/resources/insitu-comprehensive-upper-air-observation-network\n",
      "2020-12-04 10:45:59,724 INFO Request is queued\n"
     ]
    },
    {
     "name": "stdout",
     "output_type": "stream",
     "text": [
      "m - testing:  1\n"
     ]
    },
    {
     "name": "stderr",
     "output_type": "stream",
     "text": [
      "2020-12-04 10:46:00,756 INFO Request is completed\n",
      "2020-12-04 10:46:00,756 INFO Downloading http://136.156.132.176/cache-compute-0002/cache/data2/adaptor.comprehensive_upper_air.retrieve-1607075159.8833017-32067-3-7796b411-6fdb-4d12-807c-4cb7b294ad85.zip to download.zip (23.6K)\n",
      "2020-12-04 10:46:00,814 INFO Download rate 407.3K/s\n",
      "2020-12-04 10:46:00,877 INFO Welcome to the CDS\n",
      "2020-12-04 10:46:00,878 INFO Sending request to https://sis-dev.climate.copernicus.eu/api/v2/resources/insitu-comprehensive-upper-air-observation-network\n",
      "2020-12-04 10:46:00,941 INFO Request is queued\n"
     ]
    },
    {
     "name": "stdout",
     "output_type": "stream",
     "text": [
      "m - testing:  1\n"
     ]
    },
    {
     "name": "stderr",
     "output_type": "stream",
     "text": [
      "2020-12-04 10:46:01,978 INFO Request is completed\n",
      "2020-12-04 10:46:01,978 INFO Downloading http://136.156.132.176/cache-compute-0002/cache/data2/adaptor.comprehensive_upper_air.retrieve-1607075161.1067574-32069-3-0e298f30-3bf9-47e8-887e-cd9f07e33a73.zip to download.zip (23.6K)\n",
      "2020-12-04 10:46:02,036 INFO Download rate 410.8K/s\n",
      "2020-12-04 10:46:02,100 INFO Welcome to the CDS\n",
      "2020-12-04 10:46:02,100 INFO Sending request to https://sis-dev.climate.copernicus.eu/api/v2/resources/insitu-comprehensive-upper-air-observation-network\n",
      "2020-12-04 10:46:02,194 INFO Request is completed\n",
      "2020-12-04 10:46:02,194 INFO Downloading http://136.156.132.204/cache-compute-0001/cache/data1/adaptor.comprehensive_upper_air.retrieve-1607075147.223687-31863-18-5e7a664e-d6f7-46ca-8b33-cb2de965f3db.zip to download.zip (23.6K)\n",
      "2020-12-04 10:46:02,251 INFO Download rate 412.7K/s\n"
     ]
    },
    {
     "name": "stdout",
     "output_type": "stream",
     "text": [
      "m - testing:  01\n"
     ]
    },
    {
     "name": "stderr",
     "output_type": "stream",
     "text": [
      "2020-12-04 10:46:02,345 INFO Welcome to the CDS\n",
      "2020-12-04 10:46:02,345 INFO Sending request to https://sis-dev.climate.copernicus.eu/api/v2/resources/insitu-comprehensive-upper-air-observation-network\n",
      "2020-12-04 10:46:02,411 INFO Request is queued\n"
     ]
    },
    {
     "name": "stdout",
     "output_type": "stream",
     "text": [
      "m - testing:  ['01', '02']\n"
     ]
    },
    {
     "name": "stderr",
     "output_type": "stream",
     "text": [
      "2020-12-04 10:46:03,444 INFO Request is completed\n",
      "2020-12-04 10:46:03,444 INFO Downloading http://136.156.132.204/cache-compute-0001/cache/data2/adaptor.comprehensive_upper_air.retrieve-1607075162.5712337-26317-3-9a63c54b-1b1b-4d1c-9967-de83f73a2670.zip to download.zip (69.4K)\n",
      "2020-12-04 10:46:03,530 INFO Download rate 805.3K/s\n",
      "2020-12-04 10:46:03,596 INFO Welcome to the CDS\n",
      "2020-12-04 10:46:03,597 INFO Sending request to https://sis-dev.climate.copernicus.eu/api/v2/resources/insitu-comprehensive-upper-air-observation-network\n",
      "2020-12-04 10:46:03,660 INFO Request is queued\n"
     ]
    },
    {
     "name": "stdout",
     "output_type": "stream",
     "text": [
      "m - testing:  ['1', '2']\n"
     ]
    },
    {
     "name": "stderr",
     "output_type": "stream",
     "text": [
      "2020-12-04 10:46:04,694 INFO Request is completed\n",
      "2020-12-04 10:46:04,694 INFO Downloading http://136.156.132.176/cache-compute-0000/cache/data2/adaptor.comprehensive_upper_air.retrieve-1607075163.8375213-25655-3-7ccb469a-26c8-42a6-82bf-cc092de707d3.zip to download.zip (69.4K)\n",
      "2020-12-04 10:46:04,781 INFO Download rate 796.4K/s\n",
      "2020-12-04 10:46:04,847 INFO Welcome to the CDS\n",
      "2020-12-04 10:46:04,847 INFO Sending request to https://sis-dev.climate.copernicus.eu/api/v2/resources/insitu-comprehensive-upper-air-observation-network\n",
      "2020-12-04 10:46:04,914 INFO Request is queued\n"
     ]
    },
    {
     "name": "stdout",
     "output_type": "stream",
     "text": [
      "m - testing:  [1, 2]\n"
     ]
    },
    {
     "name": "stderr",
     "output_type": "stream",
     "text": [
      "2020-12-04 10:46:05,948 INFO Request is completed\n",
      "2020-12-04 10:46:05,949 INFO Downloading http://136.156.132.176/cache-compute-0000/cache/data2/adaptor.comprehensive_upper_air.retrieve-1607075165.2320275-25708-2-48fc516c-427e-4ecd-978f-fe89d1f85588.zip to download.zip (69.4K)\n",
      "2020-12-04 10:46:06,033 INFO Download rate 821.7K/s\n",
      "2020-12-04 10:46:06,096 INFO Welcome to the CDS\n",
      "2020-12-04 10:46:06,097 INFO Sending request to https://sis-dev.climate.copernicus.eu/api/v2/resources/insitu-comprehensive-upper-air-observation-network\n",
      "2020-12-04 10:46:06,165 INFO Request is completed\n",
      "2020-12-04 10:46:06,165 INFO Downloading http://136.156.132.204/cache-compute-0001/cache/data1/adaptor.comprehensive_upper_air.retrieve-1607075147.223687-31863-18-5e7a664e-d6f7-46ca-8b33-cb2de965f3db.zip to download.zip (23.6K)\n",
      "2020-12-04 10:46:06,220 INFO Download rate 427.8K/s\n"
     ]
    },
    {
     "name": "stdout",
     "output_type": "stream",
     "text": [
      "d - testing:  01\n",
      "d - testing:  31\n"
     ]
    },
    {
     "name": "stderr",
     "output_type": "stream",
     "text": [
      "2020-12-04 10:46:06,286 INFO Welcome to the CDS\n",
      "2020-12-04 10:46:06,286 INFO Sending request to https://sis-dev.climate.copernicus.eu/api/v2/resources/insitu-comprehensive-upper-air-observation-network\n",
      "2020-12-04 10:46:06,361 INFO Request is queued\n",
      "2020-12-04 10:46:07,396 INFO Request is completed\n",
      "2020-12-04 10:46:07,397 INFO Downloading http://136.156.132.204/cache-compute-0001/cache/data2/adaptor.comprehensive_upper_air.retrieve-1607075166.5365858-26556-2-f9529878-5293-403f-ac74-abd2983974ad.zip to download.zip (23.6K)\n",
      "2020-12-04 10:46:07,456 INFO Download rate 399.8K/s\n",
      "2020-12-04 10:46:07,520 INFO Welcome to the CDS\n",
      "2020-12-04 10:46:07,521 INFO Sending request to https://sis-dev.climate.copernicus.eu/api/v2/resources/insitu-comprehensive-upper-air-observation-network\n",
      "2020-12-04 10:46:07,589 INFO Request is queued\n"
     ]
    },
    {
     "name": "stdout",
     "output_type": "stream",
     "text": [
      "d - testing:  ['01', '02']\n"
     ]
    },
    {
     "name": "stderr",
     "output_type": "stream",
     "text": [
      "2020-12-04 10:46:08,625 INFO Request is completed\n",
      "2020-12-04 10:46:08,625 INFO Downloading http://136.156.132.176/cache-compute-0002/cache/data2/adaptor.comprehensive_upper_air.retrieve-1607075167.7591953-32630-2-7c20e62c-8035-41a5-a637-4a887cf2fc52.zip to download.zip (25.6K)\n",
      "2020-12-04 10:46:08,684 INFO Download rate 436.4K/s\n",
      "2020-12-04 10:46:08,749 INFO Welcome to the CDS\n",
      "2020-12-04 10:46:08,750 INFO Sending request to https://sis-dev.climate.copernicus.eu/api/v2/resources/insitu-comprehensive-upper-air-observation-network\n",
      "2020-12-04 10:46:08,819 INFO Request is queued\n"
     ]
    },
    {
     "name": "stdout",
     "output_type": "stream",
     "text": [
      "d - testing:  ['1', '2']\n"
     ]
    },
    {
     "name": "stderr",
     "output_type": "stream",
     "text": [
      "2020-12-04 10:46:09,852 INFO Request is completed\n",
      "2020-12-04 10:46:09,852 INFO Downloading http://136.156.132.176/cache-compute-0000/cache/data2/adaptor.comprehensive_upper_air.retrieve-1607075169.0342827-30729-1-6d6091ea-6978-4f52-9754-6f3d4d9a2d65.zip to download.zip (25.6K)\n",
      "2020-12-04 10:46:09,911 INFO Download rate 441.2K/s\n",
      "2020-12-04 10:46:09,976 INFO Welcome to the CDS\n",
      "2020-12-04 10:46:09,976 INFO Sending request to https://sis-dev.climate.copernicus.eu/api/v2/resources/insitu-comprehensive-upper-air-observation-network\n",
      "2020-12-04 10:46:10,038 INFO Request is queued\n"
     ]
    },
    {
     "name": "stdout",
     "output_type": "stream",
     "text": [
      "d - testing:  [1, 2]\n"
     ]
    },
    {
     "name": "stderr",
     "output_type": "stream",
     "text": [
      "2020-12-04 10:46:11,071 INFO Request is completed\n",
      "2020-12-04 10:46:11,071 INFO Downloading http://136.156.132.204/cache-compute-0001/cache/data1/adaptor.comprehensive_upper_air.retrieve-1607075170.2323084-30401-1-4c9a1fb6-7bd9-4d1a-bba6-28837dc08cef.zip to download.zip (25.6K)\n",
      "2020-12-04 10:46:11,129 INFO Download rate 442.8K/s\n"
     ]
    },
    {
     "name": "stdout",
     "output_type": "stream",
     "text": [
      "ymd - testing: finished\n"
     ]
    }
   ],
   "source": [
    "test_server()"
   ]
  }
 ],
 "metadata": {
  "kernelspec": {
   "display_name": "Miniconda3 (4.8.2)",
   "language": "python",
   "name": "python3"
  },
  "language_info": {
   "codemirror_mode": {
    "name": "ipython",
    "version": 3
   },
   "file_extension": ".py",
   "mimetype": "text/x-python",
   "name": "python",
   "nbconvert_exporter": "python",
   "pygments_lexer": "ipython3",
   "version": "3.8.1"
  }
 },
 "nbformat": 4,
 "nbformat_minor": 4
}
