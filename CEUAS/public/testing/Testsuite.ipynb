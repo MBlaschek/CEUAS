{
 "cells": [
  {
   "cell_type": "code",
   "execution_count": 1,
   "metadata": {},
   "outputs": [],
   "source": [
    "import numpy as np\n",
    "import pandas as pd\n",
    "import sys, glob\n",
    "import urllib3\n",
    "import h5py\n",
    "import cdsapi, zipfile, os, time\n",
    "import warnings\n",
    "warnings.filterwarnings('ignore')"
   ]
  },
  {
   "cell_type": "code",
   "execution_count": 2,
   "metadata": {},
   "outputs": [],
   "source": [
    "def request(rqdict):\n",
    "    t0 = time.time()\n",
    "\n",
    "    c = cdsapi.Client()\n",
    "    r = c.retrieve(\n",
    "        'insitu-comprehensive-upper-air-observation-network',rqdict)\n",
    "    if True:\n",
    "        r.download(target='download.zip')\n",
    "        assert os.stat('download.zip').st_size == r.content_length, \"Downloaded file is incomplete\"\n",
    "#     z = zipfile.ZipFile('download.zip')\n",
    "#     z.extractall(path='./test_requests/')\n",
    "#     z.close()\n",
    "    os.remove('download.zip')"
   ]
  },
  {
   "cell_type": "code",
   "execution_count": 3,
   "metadata": {},
   "outputs": [],
   "source": [
    "def test_statid():\n",
    "    log = []\n",
    "    log.append('\\n\\n---STATID---')\n",
    "    cachworkaround = np.random.random_sample()\n",
    "    for s in [None, 'all', '11035', '0-20000-0-11035', '0-20100-0-00701', '1103*', '0-20100*', ['0-20000-0-11035', '0-20000-0-10393']]:\n",
    "        print('statid - testing: ', s)\n",
    "        rd={\n",
    "            'variable':'air_temperature',\n",
    "            'statid':s,\n",
    "            'date': '19781001-19781031',\n",
    "            'cachworkaround': cachworkaround,\n",
    "        } \n",
    "        try:\n",
    "            request(rd)\n",
    "            log.append('\\n1 request successful: ' + str(s))\n",
    "        except Exception as e:\n",
    "            print(e)\n",
    "            log.append('\\n0 request failed: ' + str(s)+ '\\n     ' + e.args[0].split('try later b')[-1])\n",
    "            \n",
    "    for s in ['110350', '1103', '0-20000-0-1103', '0-20000-0-110350']:\n",
    "        print('statid - testing: ', s)\n",
    "        rd={\n",
    "            'variable':'air_temperature',\n",
    "            'statid':s,\n",
    "            'date': '19781001-19781031',\n",
    "            'cachworkaround': cachworkaround,\n",
    "        }\n",
    "        try: \n",
    "            request(rd)\n",
    "            log.append('\\n0 request falsely successful: ' + str(s))\n",
    "        except Exception as e:\n",
    "            print(e)\n",
    "            log.append('\\n1 request successfully failed: ' + str(s)+ '\\n     ' + e.args[0].split('try later b')[-1])\n",
    "            \n",
    "    print('statid - testing: finished')\n",
    "    return log"
   ]
  },
  {
   "cell_type": "code",
   "execution_count": 4,
   "metadata": {},
   "outputs": [],
   "source": [
    "def test_variable():\n",
    "    log = []\n",
    "    log.append('\\n\\n---VARIABLE---')\n",
    "    cachworkaround = np.random.random_sample()\n",
    "    for s in ['air_temperature', 'dew_point_temperature', 'eastward_wind_speed', 'northward_wind_speed', 'relative_humidity', 'specific_humidity', 'wind_from_direction', 'wind_speed']:\n",
    "        print('variable - testing: ', s)\n",
    "        rd={\n",
    "            'variable': s,\n",
    "            'statid': '0-20000-0-11035',\n",
    "            'date': '20150101-20150131',\n",
    "            'cachworkaround': cachworkaround,\n",
    "        } \n",
    "        try:\n",
    "            request(rd)\n",
    "            log.append('\\n1 request successful: ' + str(s))\n",
    "        except Exception as e:\n",
    "            log.append('\\n0 request failed: ' + str(s)+ '\\n     ' + e.args[0].split('try later b')[-1])\n",
    "            \n",
    "    for s in ['temperature', 'dew_point', 'wind', 'humidity', 'sonde_type']:\n",
    "        print('variable - testing: ', s)\n",
    "        rd={\n",
    "            'variable': s,\n",
    "            'statid': '0-20000-0-11035',\n",
    "            'date': '20150101-20150131',\n",
    "            'cachworkaround': cachworkaround,\n",
    "        } \n",
    "        try: \n",
    "            request(rd)\n",
    "            log.append('\\n0 request falsely successful: ' + str(s))\n",
    "        except Exception as e:\n",
    "            print(e)\n",
    "            log.append('\\n1 request successfully failed: ' + str(s)+ '\\n     ' + e.args[0].split('try later b')[-1])\n",
    "            \n",
    "    print('variable - testing: finished')\n",
    "    return log"
   ]
  },
  {
   "cell_type": "code",
   "execution_count": 5,
   "metadata": {},
   "outputs": [],
   "source": [
    "def test_optional():\n",
    "    log = []\n",
    "    log.append('\\n\\n---OPTIONAL---')\n",
    "    cachworkaround = np.random.random_sample()\n",
    "    for s in ['sonde_type', 'bias_estimate', 'obs_minus_an', 'obs_minus_bg']:\n",
    "        print('optional - testing: ', s)\n",
    "        rd={\n",
    "            'variable': 'air_temperature',\n",
    "            'statid': ['0-20000-0-11035', '0-20100-0-00701'],\n",
    "            'date': '19781001-19781031',\n",
    "            'optional': s,\n",
    "            'cachworkaround': cachworkaround,\n",
    "        } \n",
    "        try:\n",
    "            request(rd)\n",
    "            log.append('\\n1 request successful: ' + str(s))\n",
    "        except Exception as e:\n",
    "            log.append('\\n0 request failed: ' + str(s)+ ' - ' + str(s)+ '\\n     ' + e.args[0].split('try later b')[-1])\n",
    "            \n",
    "    for s in ['sonde', 'air_temperature', 'dew_point_temperature']:\n",
    "        print('optional - testing: ', s)\n",
    "        rd={\n",
    "            'variable': 'air_temperature',\n",
    "            'statid': ['0-20000-0-11035', '0-20100-0-00701'],\n",
    "            'date': '19781001-19781031',\n",
    "            'optional': s,\n",
    "            'cachworkaround': cachworkaround,\n",
    "        } \n",
    "        try: \n",
    "            request(rd)\n",
    "            log.append('\\n0 request falsely successful: ' + str(s))\n",
    "        except Exception as e:\n",
    "            print(e)\n",
    "            log.append('\\n1 request successfully failed: ' + str(s)+ '\\n     ' + e.args[0].split('try later b')[-1])\n",
    "            \n",
    "    print('optional - testing: finished')\n",
    "    return log"
   ]
  },
  {
   "cell_type": "code",
   "execution_count": 6,
   "metadata": {},
   "outputs": [],
   "source": [
    "def test_area():\n",
    "    log = []\n",
    "    log.append('\\n\\n---AREA---')\n",
    "    cachworkaround = np.random.random_sample()\n",
    "    for s in [[-40,140,80,359], [40,0,50,20]]:\n",
    "        print('area - testing: ', s)\n",
    "        rd={\n",
    "            'variable': 'air_temperature',\n",
    "            'area': s,\n",
    "            'date': '19781001-19781031',\n",
    "            'cachworkaround': cachworkaround,\n",
    "        } \n",
    "        try:\n",
    "            request(rd)\n",
    "            log.append('\\n1 request successful: ' + str(s))\n",
    "        except Exception as e:\n",
    "            log.append('\\n0 request failed: ' + str(s)+ '\\n     ' + e.args[0].split('try later b')[-1])\n",
    "            \n",
    "    for s in [[-40,140,80,360], [0,0,0,0], [50,20,40,0]]:\n",
    "        print('area - testing: ', s)\n",
    "        rd={\n",
    "            'variable': 'air_temperature',\n",
    "            'area': s,\n",
    "            'date': '19781001-19781031',\n",
    "            'cachworkaround': cachworkaround,\n",
    "        } \n",
    "        try: \n",
    "            request(rd)\n",
    "            log.append('\\n0 request falsely successful: ' + str(s))\n",
    "        except Exception as e:\n",
    "            print(e)\n",
    "            log.append('\\n1 request successfully failed: ' + str(s)+ '\\n     ' + e.args[0].split('try later b')[-1])\n",
    "            \n",
    "    print('area - testing: finished')\n",
    "    return log"
   ]
  },
  {
   "cell_type": "code",
   "execution_count": 7,
   "metadata": {},
   "outputs": [],
   "source": [
    "def test_country():\n",
    "    log = []\n",
    "    log.append('\\n\\n---COUNTRY---')\n",
    "    cachworkaround = np.random.random_sample()\n",
    "    for s in ['GLOBE', 'ALL', 'NOR', [\"NOR\",\"DEU\"]]:\n",
    "        print('country - testing: ', s)\n",
    "        rd={\n",
    "            'variable': 'air_temperature',\n",
    "            'country': s,\n",
    "            'date': '19781001-19781031',\n",
    "            'cachworkaround': cachworkaround,\n",
    "        } \n",
    "        try:\n",
    "            request(rd)\n",
    "            log.append('\\n1 request successful: ' + str(s))\n",
    "        except Exception as e:\n",
    "            log.append('\\n0 request failed: ' + str(s)+ '\\n     ' + e.args[0].split('try later b')[-1])\n",
    "            \n",
    "    for s in ['NORWAY', 'nor',]:\n",
    "        print('country - testing: ', s)\n",
    "        rd={\n",
    "            'variable': 'air_temperature',\n",
    "            'country': s,\n",
    "            'date': '19781001-19781031',\n",
    "            'cachworkaround': cachworkaround,\n",
    "        } \n",
    "        try: \n",
    "            request(rd)\n",
    "            log.append('\\n0 request falsely successful: ' + str(s))\n",
    "        except Exception as e:\n",
    "            print(e)\n",
    "            log.append('\\n1 request successfully failed: ' + str(s)+ '\\n     ' + e.args[0].split('try later b')[-1])\n",
    "            \n",
    "    print('country - testing: finished')\n",
    "    return log"
   ]
  },
  {
   "cell_type": "code",
   "execution_count": 8,
   "metadata": {},
   "outputs": [],
   "source": [
    "def test_date(): \n",
    "    log = []\n",
    "    log.append('\\n\\n---DATE---')\n",
    "    cachworkaround = np.random.random_sample()\n",
    "    for s in [None, '20000101', '20000101-20000201', ['20000101', '20000103', '20000106'], ['20000102', '20000101']]:\n",
    "        print('date - testing: ', s)\n",
    "        rd={\n",
    "            'variable': 'air_temperature',\n",
    "            'statid': '11035',\n",
    "            'date': s,\n",
    "            'cachworkaround': cachworkaround,\n",
    "        } \n",
    "        try:\n",
    "            request(rd)\n",
    "            log.append('\\n1 request successful: ' + str(s))\n",
    "        except Exception as e:\n",
    "            log.append('\\n0 request failed: ' + str(s)+ '\\n     ' + e.args[0].split('try later b')[-1])\n",
    "            \n",
    "    for s in ['2000011', '20000100', '00000000', '20000132', '20001301']:\n",
    "        print('date - testing: ', s)\n",
    "        rd={\n",
    "            'variable': 'air_temperature',\n",
    "            'statid': '11035',\n",
    "            'date': s,\n",
    "            'cachworkaround': cachworkaround,\n",
    "        } \n",
    "        try: \n",
    "            request(rd)\n",
    "            log.append('\\n0 request falsely successful: ' + str(s))\n",
    "        except Exception as e:\n",
    "            print(e)\n",
    "            log.append('\\n1 request successfully failed: ' + str(s)+ '\\n     ' + e.args[0].split('try later b')[-1])\n",
    "            \n",
    "    print('date - testing: finished')\n",
    "    return log"
   ]
  },
  {
   "cell_type": "code",
   "execution_count": 9,
   "metadata": {},
   "outputs": [],
   "source": [
    "def test_period(): \n",
    "    log = []\n",
    "    log.append('\\n\\n---PERIOD---')\n",
    "    # not working: ['1979-01-01/1980-08-16']\n",
    "    cachworkaround = np.random.random_sample()\n",
    "    for s in [None, '1979-01-01/1980-08-16']:\n",
    "        print('period - testing: ', s)\n",
    "        rd={\n",
    "            'variable': 'air_temperature',\n",
    "            'statid': '11035',\n",
    "            'period': s,\n",
    "            'cachworkaround': cachworkaround,\n",
    "        } \n",
    "        try:\n",
    "            request(rd)\n",
    "            log.append('\\n1 request successful: ' + str(s))\n",
    "        except Exception as e:\n",
    "            log.append('\\n0 request failed: ' + str(s)+ '\\n     ' + e.args[0].split('try later b')[-1])\n",
    "            \n",
    "    for s in [ '1980-01-02/1980-01-01']:\n",
    "        print('period - testing: ', s)\n",
    "        rd={\n",
    "            'variable': 'air_temperature',\n",
    "            'statid': '11035',\n",
    "            'period': s,\n",
    "            'cachworkaround': cachworkaround,\n",
    "        } \n",
    "        try: \n",
    "            request(rd)\n",
    "            log.append('\\n0 request falsely successful: ' + str(s))\n",
    "        except Exception as e:\n",
    "            print(e)\n",
    "            log.append('\\n1 request successfully failed: ' + str(s)+ '\\n     ' + e.args[0].split('try later b')[-1])\n",
    "            \n",
    "    print('period - testing: finished')\n",
    "    return log"
   ]
  },
  {
   "cell_type": "code",
   "execution_count": 10,
   "metadata": {},
   "outputs": [],
   "source": [
    "def test_pressure_level():\n",
    "    log = []\n",
    "    log.append('\\n\\n---PRESSURE LEVEL---')\n",
    "    cachworkaround = np.random.random_sample()\n",
    "    for s in [100, '100', [100, 200], ['100', '200']]:\n",
    "        print('pressure_level - testing: ', s)\n",
    "        rd={\n",
    "            'variable': 'air_temperature',\n",
    "            'statid': '11035',\n",
    "            'date': '20100101',\n",
    "            'pressure_level': s,\n",
    "            'cachworkaround': cachworkaround,\n",
    "        } \n",
    "        try:\n",
    "            request(rd)\n",
    "            log.append('\\n1 request successful: ' + str(s))\n",
    "        except Exception as e:\n",
    "            log.append('\\n0 request failed: ' + str(s)+ '\\n     ' + e.args[0].split('try later b')[-1])\n",
    "        \n",
    "    for s in ['0', '2000']:\n",
    "        print('pressure_level - testing: ', s)\n",
    "        rd={\n",
    "            'variable': 'air_temperature',\n",
    "            'statid': '11035',\n",
    "            'date': '20100101',\n",
    "            'pressure_level': s,\n",
    "            'cachworkaround': cachworkaround,\n",
    "        } \n",
    "        try: \n",
    "            request(rd)\n",
    "            log.append('\\n0 request falsely successful: ' + str(s))\n",
    "        except Exception as e:\n",
    "            print(e)\n",
    "            log.append('\\n1 request successfully failed: ' + str(s)+ '\\n     ' + e.args[0].split('try later b')[-1])\n",
    "        \n",
    "    print('pressure_level - testing: finished')\n",
    "    return log"
   ]
  },
  {
   "cell_type": "code",
   "execution_count": 11,
   "metadata": {},
   "outputs": [],
   "source": [
    "def test_time():\n",
    "    log = []\n",
    "    log.append('\\n\\n---TIME---')\n",
    "    cachworkaround = np.random.random_sample()\n",
    "    for s in [[22,23,0,1,2,3], [\"22\",\"23\",\"00\",\"01\",\"02\",\"03\"], '', '0', '00', [\"00\"], [0,12], [\"0\",\"12\"]]:\n",
    "        print('time - testing: ', s)\n",
    "        rd={\n",
    "            'variable': 'air_temperature',\n",
    "            'statid': '11035',\n",
    "            'date': '20100101-20100201',\n",
    "            'time': s,\n",
    "            'cachworkaround': cachworkaround,\n",
    "        } \n",
    "        try:\n",
    "            request(rd)\n",
    "            log.append('\\n1 request successful: ' + str(s))\n",
    "        except Exception as e:\n",
    "            log.append('\\n0 request failed: ' + str(s)+ '\\n     ' + e.args[0].split('try later b')[-1])\n",
    "            \n",
    "    for s in ['24', '25', '12.5', ]:\n",
    "        print('time - testing: ', s)\n",
    "        rd={\n",
    "            'variable': 'air_temperature',\n",
    "            'statid': '11035',\n",
    "            'date': '20100101-20100201',\n",
    "            'time': s,\n",
    "            'cachworkaround': cachworkaround,\n",
    "        } \n",
    "        try: \n",
    "            request(rd)\n",
    "            log.append('\\n0 request falsely successful: ' + str(s))\n",
    "        except Exception as e:\n",
    "            print(e)\n",
    "            log.append('\\n1 request successfully failed: ' + str(s)+ '\\n     ' + e.args[0].split('try later b')[-1])\n",
    "            \n",
    "    print('time - testing: finished')\n",
    "    return log"
   ]
  },
  {
   "cell_type": "code",
   "execution_count": 12,
   "metadata": {},
   "outputs": [],
   "source": [
    "def test_format():\n",
    "    log = []\n",
    "    log.append('\\n\\n---FORMAT---')\n",
    "    cachworkaround = np.random.random_sample()\n",
    "    for s in [None, 'csv', 'nc']:\n",
    "        print('format - testing: ', s)\n",
    "        rd={\n",
    "            'variable': 'air_temperature',\n",
    "            'statid': '11035',\n",
    "            'date': '20100101-20100201',\n",
    "            'format': s,\n",
    "            'cachworkaround': cachworkaround,\n",
    "        } \n",
    "        try:\n",
    "            request(rd)\n",
    "            log.append('\\n1 request successful: ' + str(s))\n",
    "        except Exception as e:\n",
    "            log.append('\\n0 request failed: ' + str(s)+ '\\n     ' + e.args[0].split('try later b')[-1])\n",
    "            \n",
    "    for s in ['netcdf', 'csb', 'txt']:\n",
    "        print('format - testing: ', s)\n",
    "        rd={\n",
    "            'variable': 'air_temperature',\n",
    "            'statid': '11035',\n",
    "            'date': '20100101-20100201',\n",
    "            'format': s,\n",
    "            'cachworkaround': cachworkaround,\n",
    "        } \n",
    "        try: \n",
    "            request(rd)\n",
    "            log.append('\\n0 request falsely successful: ' + str(s))\n",
    "        except Exception as e:\n",
    "            print(e)\n",
    "            log.append('\\n1 request successfully failed: ' + str(s)+ '\\n     ' + e.args[0].split('try later b')[-1])\n",
    "            \n",
    "    print('format - testing: finished')\n",
    "    return log"
   ]
  },
  {
   "cell_type": "code",
   "execution_count": 13,
   "metadata": {},
   "outputs": [],
   "source": [
    "def test_ymd():\n",
    "    log = []\n",
    "    # if one of them is None -> no date selected = the whole dataset - change?\n",
    "    cachworkaround = np.random.random_sample()\n",
    "    log.append('\\n\\n---YEAR---')\n",
    "    for s in [None, 2000, '2000', ['2000', '2001'], [2000, 2001]]:\n",
    "        print('y - testing: ', s)\n",
    "        rd={\n",
    "            'variable': 'air_temperature',\n",
    "            'statid': '11035',\n",
    "            'year': s,\n",
    "            'month': '01',\n",
    "            'day':'01',\n",
    "            'cachworkaround': cachworkaround,\n",
    "        } \n",
    "        try:\n",
    "            request(rd)\n",
    "            log.append('\\n1 request successful: ' + str(s))\n",
    "        except Exception as e:\n",
    "            log.append('\\n0 request failed: ' + str(s)+ '\\n     ' + e.args[0].split('try later b')[-1])\n",
    "            \n",
    "    for s in [0, '20000', '-2000']:\n",
    "        print('y - testing: ', s)\n",
    "        rd={\n",
    "            'variable': 'air_temperature',\n",
    "            'statid': '11035',\n",
    "            'year': s,\n",
    "            'month': '01',\n",
    "            'day':'01',\n",
    "            'cachworkaround': cachworkaround,\n",
    "        } \n",
    "        try: \n",
    "            request(rd)\n",
    "            log.append('\\n0 request falsely successful: ' + str(s))\n",
    "        except Exception as e:\n",
    "            print(e)\n",
    "            log.append('\\n1 request successfully failed: ' + str(s)+ '\\n     ' + e.args[0].split('try later b')[-1])\n",
    "            \n",
    "    log.append('\\n\\n---MONTH---')\n",
    "    for s in [None, 1, '1', '01', ['01', '02'], ['1', '2'], [1, 2]]:\n",
    "        print('m - testing: ', s)\n",
    "        rd={\n",
    "            'variable': 'air_temperature',\n",
    "            'statid': '11035',\n",
    "            'year': '2000',\n",
    "            'month': s,\n",
    "            'day':'01',\n",
    "            'cachworkaround': cachworkaround,\n",
    "        } \n",
    "        try:\n",
    "            request(rd)\n",
    "            log.append('\\n1 request successful: ' + str(s))\n",
    "        except Exception as e:\n",
    "            log.append('\\n0 request failed: ' + str(s)+ '\\n     ' + e.args[0].split('try later b')[-1])\n",
    "    \n",
    "    for s in ['00', 0, '13']:\n",
    "        print('m - testing: ', s)\n",
    "        rd={\n",
    "            'variable': 'air_temperature',\n",
    "            'statid': '11035',\n",
    "            'year': '2000',\n",
    "            'month': s,\n",
    "            'day':'01',\n",
    "            'cachworkaround': cachworkaround,\n",
    "        } \n",
    "        try: \n",
    "            request(rd)\n",
    "            log.append('\\n0 request falsely successful: ' + str(s))\n",
    "        except Exception as e:\n",
    "            print(e)\n",
    "            log.append('\\n1 request successfully failed: ' + str(s)+ '\\n     ' + e.args[0].split('try later b')[-1])\n",
    "            \n",
    "    log.append('\\n\\n---DAY---')\n",
    "    for s in ['01', '31', ['01', '02'], ['1', '2'], [1, 2]]:\n",
    "        print('d - testing: ', s)\n",
    "        rd={\n",
    "            'variable': 'air_temperature',\n",
    "            'statid': '11035',\n",
    "            'year': '2000',\n",
    "            'month': '01',\n",
    "            'day':s,\n",
    "            'cachworkaround': cachworkaround,\n",
    "        } \n",
    "        try:\n",
    "            request(rd)\n",
    "            log.append('\\n1 request successful: ' + str(s))\n",
    "        except Exception as e:\n",
    "            log.append('\\n0 request failed: ' + str(s)+ '\\n     ' + e.args[0].split('try later b')[-1])\n",
    "    \n",
    "    for s in ['00', 0, '32']:\n",
    "        print('d - testing: ', s)\n",
    "        rd={\n",
    "            'variable': 'air_temperature',\n",
    "            'statid': '11035',\n",
    "            'year': '2000',\n",
    "            'month': '01',\n",
    "            'day':s,\n",
    "            'cachworkaround': cachworkaround,\n",
    "        } \n",
    "        try: \n",
    "            request(rd)\n",
    "            log.append('\\n0 request falsely successful: ' + str(s))\n",
    "        except Exception as e:\n",
    "            print(e)\n",
    "            log.append('\\n1 request successfully failed: ' + str(s)+ '\\n     ' + e.args[0].split('try later b')[-1])\n",
    "            \n",
    "    print('ymd - testing: finished')\n",
    "    return log"
   ]
  },
  {
   "cell_type": "code",
   "execution_count": 14,
   "metadata": {},
   "outputs": [],
   "source": [
    "def test_size():\n",
    "    log = []\n",
    "    log.append('\\n\\n---SIZE---')\n",
    "    cachworkaround = np.random.random_sample()\n",
    "    s = 'air_temperature 11035'\n",
    "    print('size - testing: ', s)\n",
    "    rd={\n",
    "        'variable': 'air_temperature',\n",
    "        'statid': '11035',\n",
    "        'cachworkaround': cachworkaround,\n",
    "    } \n",
    "    try:\n",
    "        request(rd)\n",
    "        log.append('\\n1 request successful: ' + str(s))\n",
    "    except Exception as e:\n",
    "        log.append('\\n0 request failed: ' + str(s) + '\\n     ' + e.args[0].split('try later b')[-1])\n",
    "    \n",
    "    s = 'air_temperature 10393'\n",
    "    print('size - testing: ', s)\n",
    "    rd={\n",
    "        'variable': 'air_temperature',\n",
    "        'statid': '10393',\n",
    "        'cachworkaround': cachworkaround,\n",
    "    } \n",
    "    try:\n",
    "        request(rd)\n",
    "        log.append('\\n1 request successful: ' + str(s))\n",
    "    except Exception as e:\n",
    "        log.append('\\n0 request failed: ' + str(s) + '\\n     ' + e.args[0].split('try later b')[-1])\n",
    "        \n",
    "    s = 'air_temperature 1 month all stations'\n",
    "    print('size - testing: ', s)\n",
    "    rd={\n",
    "        'variable': 'air_temperature',\n",
    "        'date': '20100101-20100201',\n",
    "        'cachworkaround': cachworkaround,\n",
    "    } \n",
    "    try:\n",
    "        request(rd)\n",
    "        log.append('\\n1 request successful: ' + str(s))\n",
    "    except Exception as e:\n",
    "        log.append('\\n0 request failed: ' + str(s) + '\\n     ' + e.args[0].split('try later b')[-1])\n",
    "            \n",
    "    s = 'air_temperature everything'\n",
    "    print('size - testing: ', s)\n",
    "    rd={\n",
    "        'variable': 'air_temperature',\n",
    "        'cachworkaround': cachworkaround,\n",
    "    }\n",
    "    try: \n",
    "        request(rd)\n",
    "        log.append('\\n0 request falsely successful: ' + str(s))\n",
    "    except Exception as e:\n",
    "        print(e)\n",
    "        log.append('\\n1 request successfully failed: ' + str(s)+ '\\n     ' + e.args[0].split('try later b')[-1])\n",
    "    \n",
    "    s = 'all variables 1 month all stations'\n",
    "    print('size - testing: ', s)\n",
    "    rd={\n",
    "        'variable': ['air_temperature', 'dew_point_temperature', 'eastward_wind_speed', 'northward_wind_speed', 'relative_humidity', 'specific_humidity', 'wind_from_direction', 'wind_speed'],\n",
    "        'date': '20100101-20100201',\n",
    "        'cachworkaround': cachworkaround,\n",
    "    }\n",
    "    try: \n",
    "        request(rd)\n",
    "        log.append('\\n0 request falsely successful: ' + str(s))\n",
    "    except Exception as e:\n",
    "        print(e)\n",
    "        log.append('\\n1 request successfully failed: ' + str(s)+ '\\n     ' + e.args[0].split('try later b')[-1])\n",
    "            \n",
    "    print('size - testing: finished')\n",
    "    return log"
   ]
  },
  {
   "cell_type": "code",
   "execution_count": 15,
   "metadata": {},
   "outputs": [],
   "source": [
    "def server_test():\n",
    "    log = []\n",
    "    log.append('Testing Server Requests \\n')\n",
    "    log.append('0 = failed | 1 = succeeded \\n')\n",
    "    try: log.extend(test_statid())\n",
    "    except: log.append('\\nstatid - test: failed \\n')\n",
    "    try: log.extend(test_variable())\n",
    "    except: log.append('\\nvariable - test: failed \\n')\n",
    "    try: log.extend(test_optional())\n",
    "    except: log.append('\\noptional - test: failed \\n')\n",
    "    try: log.extend(test_area())\n",
    "    except: log.append('\\narea - test: failed \\n')\n",
    "    try: log.extend(test_country())\n",
    "    except: log.append('\\ncountry - test: failed \\n')\n",
    "    try: log.extend(test_date())\n",
    "    except: log.append('\\ndate - test: failed \\n')\n",
    "    try: log.extend(test_period())\n",
    "    except: log.append('\\nperiod - test: failed \\n')\n",
    "    try: log.extend(test_pressure_level())\n",
    "    except: log.append('\\npressure_level - test: failed \\n')\n",
    "    try: log.extend(test_time())\n",
    "    except: log.append('\\ntime - test: failed \\n')\n",
    "    try: log.extend(test_format())\n",
    "    except: log.append('\\nformat - test: failed \\n')\n",
    "    try: log.extend(test_ymd())\n",
    "    except: log.append('\\nymd - test: failed \\n')\n",
    "    try: log.extend(test_size())\n",
    "    except: log.append('\\nsize - test: failed \\n')\n",
    "        \n",
    "    writelog=open('server_test_log.txt','w')\n",
    "    writelog.writelines(log)\n",
    "    writelog.close()"
   ]
  },
  {
   "cell_type": "code",
   "execution_count": 17,
   "metadata": {},
   "outputs": [
    {
     "name": "stderr",
     "output_type": "stream",
     "text": [
      "2020-12-07 11:31:40,258 INFO Welcome to the CDS\n",
      "2020-12-07 11:31:40,258 INFO Sending request to https://sis-dev.climate.copernicus.eu/api/v2/resources/insitu-comprehensive-upper-air-observation-network\n",
      "2020-12-07 11:31:40,322 INFO Request is queued\n"
     ]
    },
    {
     "name": "stdout",
     "output_type": "stream",
     "text": [
      "statid - testing:  None\n"
     ]
    },
    {
     "name": "stderr",
     "output_type": "stream",
     "text": [
      "2020-12-07 11:31:41,355 INFO Request is running\n",
      "2020-12-07 11:31:53,681 INFO Request is completed\n",
      "2020-12-07 11:31:53,681 INFO Downloading http://136.156.132.176/cache-compute-0002/cache/data2/adaptor.comprehensive_upper_air.retrieve-1607337110.3419788-27637-12-b8ee6e91-e948-44d8-8dff-c7d6cef03b45.zip to download.zip (49.7M)\n",
      "2020-12-07 11:31:55,441 INFO Download rate 28.2M/s  \n",
      "2020-12-07 11:31:55,508 INFO Welcome to the CDS\n",
      "2020-12-07 11:31:55,508 INFO Sending request to https://sis-dev.climate.copernicus.eu/api/v2/resources/insitu-comprehensive-upper-air-observation-network\n",
      "2020-12-07 11:31:55,578 INFO Request is queued\n"
     ]
    },
    {
     "name": "stdout",
     "output_type": "stream",
     "text": [
      "statid - testing:  all\n"
     ]
    },
    {
     "name": "stderr",
     "output_type": "stream",
     "text": [
      "2020-12-07 11:31:56,611 INFO Request is running\n",
      "2020-12-07 11:32:08,939 INFO Request is completed\n",
      "2020-12-07 11:32:08,939 INFO Downloading http://136.156.132.176/cache-compute-0002/cache/data2/adaptor.comprehensive_upper_air.retrieve-1607337125.101091-27713-10-da205891-705a-4db9-874b-40df45734a8d.zip to download.zip (49.7M)\n",
      "2020-12-07 11:32:11,968 INFO Download rate 16.4M/s  \n",
      "2020-12-07 11:32:12,032 INFO Welcome to the CDS\n",
      "2020-12-07 11:32:12,032 INFO Sending request to https://sis-dev.climate.copernicus.eu/api/v2/resources/insitu-comprehensive-upper-air-observation-network\n",
      "2020-12-07 11:32:12,102 INFO Request is queued\n"
     ]
    },
    {
     "name": "stdout",
     "output_type": "stream",
     "text": [
      "statid - testing:  11035\n"
     ]
    },
    {
     "name": "stderr",
     "output_type": "stream",
     "text": [
      "2020-12-07 11:32:13,135 INFO Request is completed\n",
      "2020-12-07 11:32:13,135 INFO Downloading http://136.156.132.176/cache-compute-0002/cache/data1/adaptor.comprehensive_upper_air.retrieve-1607337132.2437482-27751-10-1cfc1092-fe4a-4f89-9ee5-50e26fa86180.zip to download.zip (48.2K)\n",
      "2020-12-07 11:32:13,218 INFO Download rate 586.7K/s\n",
      "2020-12-07 11:32:13,281 INFO Welcome to the CDS\n",
      "2020-12-07 11:32:13,282 INFO Sending request to https://sis-dev.climate.copernicus.eu/api/v2/resources/insitu-comprehensive-upper-air-observation-network\n",
      "2020-12-07 11:32:13,341 INFO Request is queued\n"
     ]
    },
    {
     "name": "stdout",
     "output_type": "stream",
     "text": [
      "statid - testing:  0-20000-0-11035\n"
     ]
    },
    {
     "name": "stderr",
     "output_type": "stream",
     "text": [
      "2020-12-07 11:32:14,375 INFO Request is running\n",
      "2020-12-07 11:32:21,603 INFO Request is completed\n",
      "2020-12-07 11:32:21,604 INFO Downloading http://136.156.132.204/cache-compute-0001/cache/data1/adaptor.comprehensive_upper_air.retrieve-1607337138.5652974-10689-5-bfe412a0-caa5-43a7-bc86-9f8c38a0ae7d.zip to download.zip (48.2K)\n",
      "2020-12-07 11:32:21,714 INFO Download rate 437.8K/s\n",
      "2020-12-07 11:32:21,777 INFO Welcome to the CDS\n",
      "2020-12-07 11:32:21,777 INFO Sending request to https://sis-dev.climate.copernicus.eu/api/v2/resources/insitu-comprehensive-upper-air-observation-network\n",
      "2020-12-07 11:32:21,847 INFO Request is queued\n"
     ]
    },
    {
     "name": "stdout",
     "output_type": "stream",
     "text": [
      "statid - testing:  0-20100-0-00701\n"
     ]
    },
    {
     "name": "stderr",
     "output_type": "stream",
     "text": [
      "2020-12-07 11:32:22,881 INFO Request is completed\n",
      "2020-12-07 11:32:22,881 INFO Downloading http://136.156.132.204/cache-compute-0001/cache/data1/adaptor.comprehensive_upper_air.retrieve-1607337142.0979106-10764-5-662b8408-99ab-4399-a222-2caac683721d.zip to download.zip (32.1K)\n",
      "2020-12-07 11:32:22,938 INFO Download rate 570.4K/s\n",
      "2020-12-07 11:32:23,001 INFO Welcome to the CDS\n",
      "2020-12-07 11:32:23,001 INFO Sending request to https://sis-dev.climate.copernicus.eu/api/v2/resources/insitu-comprehensive-upper-air-observation-network\n",
      "2020-12-07 11:32:23,067 INFO Request is queued\n"
     ]
    },
    {
     "name": "stdout",
     "output_type": "stream",
     "text": [
      "statid - testing:  1103*\n"
     ]
    },
    {
     "name": "stderr",
     "output_type": "stream",
     "text": [
      "2020-12-07 11:32:24,100 INFO Request is completed\n",
      "2020-12-07 11:32:24,100 INFO Downloading http://136.156.132.204/cache-compute-0001/cache/data1/adaptor.comprehensive_upper_air.retrieve-1607337143.3296466-10725-5-3abd0f02-4b34-4cc8-b99b-4e70b1e65d1c.zip to download.zip (48.2K)\n",
      "2020-12-07 11:32:24,189 INFO Download rate 546.5K/s\n",
      "2020-12-07 11:32:24,251 INFO Welcome to the CDS\n",
      "2020-12-07 11:32:24,252 INFO Sending request to https://sis-dev.climate.copernicus.eu/api/v2/resources/insitu-comprehensive-upper-air-observation-network\n",
      "2020-12-07 11:32:24,314 INFO Request is queued\n"
     ]
    },
    {
     "name": "stdout",
     "output_type": "stream",
     "text": [
      "statid - testing:  0-20100*\n"
     ]
    },
    {
     "name": "stderr",
     "output_type": "stream",
     "text": [
      "2020-12-07 11:32:25,348 INFO Request is completed\n",
      "2020-12-07 11:32:25,348 INFO Downloading http://136.156.132.204/cache-compute-0001/cache/data1/adaptor.comprehensive_upper_air.retrieve-1607337144.7014349-10802-5-91f3c61d-f6d3-4cc3-bf75-29b1a75e75a2.zip to download.zip (106.4K)\n",
      "2020-12-07 11:32:25,458 INFO Download rate 967.7K/s\n",
      "2020-12-07 11:32:25,522 INFO Welcome to the CDS\n",
      "2020-12-07 11:32:25,522 INFO Sending request to https://sis-dev.climate.copernicus.eu/api/v2/resources/insitu-comprehensive-upper-air-observation-network\n",
      "2020-12-07 11:32:25,584 INFO Request is queued\n"
     ]
    },
    {
     "name": "stdout",
     "output_type": "stream",
     "text": [
      "statid - testing:  ['0-20000-0-11035', '0-20000-0-10393']\n"
     ]
    },
    {
     "name": "stderr",
     "output_type": "stream",
     "text": [
      "2020-12-07 11:32:26,617 INFO Request is completed\n",
      "2020-12-07 11:32:26,617 INFO Downloading http://136.156.132.204/cache-compute-0001/cache/data2/adaptor.comprehensive_upper_air.retrieve-1607337145.8662252-11014-5-a0030032-c448-4d3d-bbcf-5682e77235df.zip to download.zip (108.3K)\n",
      "2020-12-07 11:32:26,727 INFO Download rate 990.6K/s\n",
      "2020-12-07 11:32:26,789 INFO Welcome to the CDS\n",
      "2020-12-07 11:32:26,790 INFO Sending request to https://sis-dev.climate.copernicus.eu/api/v2/resources/insitu-comprehensive-upper-air-observation-network\n",
      "2020-12-07 11:32:26,849 INFO Request is queued\n"
     ]
    },
    {
     "name": "stdout",
     "output_type": "stream",
     "text": [
      "statid - testing:  110350\n"
     ]
    },
    {
     "name": "stderr",
     "output_type": "stream",
     "text": [
      "2020-12-07 11:32:27,883 INFO Request is failed\n",
      "2020-12-07 11:32:27,883 ERROR Message: an internal error occurred processing your request\n",
      "2020-12-07 11:32:27,883 ERROR Reason:  something went wrong in the data provider service, check your query and try later b'\"No selected station has data in specified date range: {\\'variable\\': [\\'temperature\\'], \\'format\\': \\'nc\\', \\'statid\\': [\\'0-20200-0-110350\\'], \\'date\\': [\\'19781001\\', \\'19781031\\']}\"'\n",
      "2020-12-07 11:32:27,884 ERROR   Traceback (most recent call last):\n",
      "2020-12-07 11:32:27,884 ERROR     File \"/opt/cdstoolbox/cdscompute/cdscompute/cdshandlers/services/handler.py\", line 49, in handle_request\n",
      "2020-12-07 11:32:27,884 ERROR       result = cached(context.method, proc, context, context.args, context.kwargs)\n",
      "2020-12-07 11:32:27,884 ERROR     File \"/opt/cdstoolbox/cdscompute/cdscompute/caching.py\", line 108, in cached\n",
      "2020-12-07 11:32:27,885 ERROR       result = proc(context, *context.args, **context.kwargs)\n",
      "2020-12-07 11:32:27,885 ERROR     File \"/opt/cdstoolbox/cdscompute/cdscompute/services.py\", line 118, in __call__\n",
      "2020-12-07 11:32:27,885 ERROR       return p(*args, **kwargs)\n",
      "2020-12-07 11:32:27,885 ERROR     File \"/opt/cdstoolbox/cdscompute/cdscompute/services.py\", line 59, in __call__\n",
      "2020-12-07 11:32:27,886 ERROR       return self.proc(context, *args, **kwargs)\n",
      "2020-12-07 11:32:27,886 ERROR     File \"/home/cds/cdsservices_contrib/services/comprehensive_upper_air.py\", line 70, in execute\n",
      "2020-12-07 11:32:27,886 ERROR       'something went wrong in the data provider service, check your query and try later {}'.format(res.content)\n",
      "2020-12-07 11:32:27,887 ERROR   AssertionError: something went wrong in the data provider service, check your query and try later b'\"No selected station has data in specified date range: {\\'variable\\': [\\'temperature\\'], \\'format\\': \\'nc\\', \\'statid\\': [\\'0-20200-0-110350\\'], \\'date\\': [\\'19781001\\', \\'19781031\\']}\"'\n",
      "2020-12-07 11:32:27,916 INFO Welcome to the CDS\n",
      "2020-12-07 11:32:27,916 INFO Sending request to https://sis-dev.climate.copernicus.eu/api/v2/resources/insitu-comprehensive-upper-air-observation-network\n",
      "2020-12-07 11:32:28,063 INFO Request is queued\n"
     ]
    },
    {
     "name": "stdout",
     "output_type": "stream",
     "text": [
      "an internal error occurred processing your request. something went wrong in the data provider service, check your query and try later b'\"No selected station has data in specified date range: {\\'variable\\': [\\'temperature\\'], \\'format\\': \\'nc\\', \\'statid\\': [\\'0-20200-0-110350\\'], \\'date\\': [\\'19781001\\', \\'19781031\\']}\"'.\n",
      "statid - testing:  1103\n"
     ]
    },
    {
     "name": "stderr",
     "output_type": "stream",
     "text": [
      "2020-12-07 11:32:29,097 INFO Request is failed\n",
      "2020-12-07 11:32:29,098 ERROR Message: an internal error occurred processing your request\n",
      "2020-12-07 11:32:29,098 ERROR Reason:  something went wrong in the data provider service, check your query and try later b'\"No selected station has data in specified date range: {\\'variable\\': [\\'temperature\\'], \\'format\\': \\'nc\\', \\'statid\\': [\\'0-20200-0-1103\\'], \\'date\\': [\\'19781001\\', \\'19781031\\']}\"'\n",
      "2020-12-07 11:32:29,098 ERROR   Traceback (most recent call last):\n",
      "2020-12-07 11:32:29,099 ERROR     File \"/opt/cdstoolbox/cdscompute/cdscompute/cdshandlers/services/handler.py\", line 49, in handle_request\n",
      "2020-12-07 11:32:29,099 ERROR       result = cached(context.method, proc, context, context.args, context.kwargs)\n",
      "2020-12-07 11:32:29,099 ERROR     File \"/opt/cdstoolbox/cdscompute/cdscompute/caching.py\", line 108, in cached\n",
      "2020-12-07 11:32:29,099 ERROR       result = proc(context, *context.args, **context.kwargs)\n",
      "2020-12-07 11:32:29,100 ERROR     File \"/opt/cdstoolbox/cdscompute/cdscompute/services.py\", line 118, in __call__\n",
      "2020-12-07 11:32:29,100 ERROR       return p(*args, **kwargs)\n",
      "2020-12-07 11:32:29,100 ERROR     File \"/opt/cdstoolbox/cdscompute/cdscompute/services.py\", line 59, in __call__\n",
      "2020-12-07 11:32:29,101 ERROR       return self.proc(context, *args, **kwargs)\n",
      "2020-12-07 11:32:29,101 ERROR     File \"/home/cds/cdsservices_contrib/services/comprehensive_upper_air.py\", line 70, in execute\n",
      "2020-12-07 11:32:29,101 ERROR       'something went wrong in the data provider service, check your query and try later {}'.format(res.content)\n",
      "2020-12-07 11:32:29,101 ERROR   AssertionError: something went wrong in the data provider service, check your query and try later b'\"No selected station has data in specified date range: {\\'variable\\': [\\'temperature\\'], \\'format\\': \\'nc\\', \\'statid\\': [\\'0-20200-0-1103\\'], \\'date\\': [\\'19781001\\', \\'19781031\\']}\"'\n",
      "2020-12-07 11:32:29,130 INFO Welcome to the CDS\n",
      "2020-12-07 11:32:29,131 INFO Sending request to https://sis-dev.climate.copernicus.eu/api/v2/resources/insitu-comprehensive-upper-air-observation-network\n",
      "2020-12-07 11:32:29,214 INFO Request is queued\n"
     ]
    },
    {
     "name": "stdout",
     "output_type": "stream",
     "text": [
      "an internal error occurred processing your request. something went wrong in the data provider service, check your query and try later b'\"No selected station has data in specified date range: {\\'variable\\': [\\'temperature\\'], \\'format\\': \\'nc\\', \\'statid\\': [\\'0-20200-0-1103\\'], \\'date\\': [\\'19781001\\', \\'19781031\\']}\"'.\n",
      "statid - testing:  0-20000-0-1103\n"
     ]
    },
    {
     "name": "stderr",
     "output_type": "stream",
     "text": [
      "2020-12-07 11:32:30,247 INFO Request is failed\n",
      "2020-12-07 11:32:30,247 ERROR Message: an internal error occurred processing your request\n",
      "2020-12-07 11:32:30,248 ERROR Reason:  something went wrong in the data provider service, check your query and try later b'\"No selected station has data in specified date range: {\\'variable\\': [\\'temperature\\'], \\'format\\': \\'nc\\', \\'statid\\': [\\'0-20000-0-1103\\'], \\'date\\': [\\'19781001\\', \\'19781031\\']}\"'\n",
      "2020-12-07 11:32:30,248 ERROR   Traceback (most recent call last):\n",
      "2020-12-07 11:32:30,248 ERROR     File \"/opt/cdstoolbox/cdscompute/cdscompute/cdshandlers/services/handler.py\", line 49, in handle_request\n",
      "2020-12-07 11:32:30,249 ERROR       result = cached(context.method, proc, context, context.args, context.kwargs)\n",
      "2020-12-07 11:32:30,249 ERROR     File \"/opt/cdstoolbox/cdscompute/cdscompute/caching.py\", line 108, in cached\n",
      "2020-12-07 11:32:30,249 ERROR       result = proc(context, *context.args, **context.kwargs)\n",
      "2020-12-07 11:32:30,249 ERROR     File \"/opt/cdstoolbox/cdscompute/cdscompute/services.py\", line 118, in __call__\n",
      "2020-12-07 11:32:30,250 ERROR       return p(*args, **kwargs)\n",
      "2020-12-07 11:32:30,250 ERROR     File \"/opt/cdstoolbox/cdscompute/cdscompute/services.py\", line 59, in __call__\n",
      "2020-12-07 11:32:30,250 ERROR       return self.proc(context, *args, **kwargs)\n",
      "2020-12-07 11:32:30,250 ERROR     File \"/home/cds/cdsservices_contrib/services/comprehensive_upper_air.py\", line 70, in execute\n",
      "2020-12-07 11:32:30,251 ERROR       'something went wrong in the data provider service, check your query and try later {}'.format(res.content)\n",
      "2020-12-07 11:32:30,251 ERROR   AssertionError: something went wrong in the data provider service, check your query and try later b'\"No selected station has data in specified date range: {\\'variable\\': [\\'temperature\\'], \\'format\\': \\'nc\\', \\'statid\\': [\\'0-20000-0-1103\\'], \\'date\\': [\\'19781001\\', \\'19781031\\']}\"'\n",
      "2020-12-07 11:32:30,280 INFO Welcome to the CDS\n",
      "2020-12-07 11:32:30,280 INFO Sending request to https://sis-dev.climate.copernicus.eu/api/v2/resources/insitu-comprehensive-upper-air-observation-network\n",
      "2020-12-07 11:32:30,346 INFO Request is queued\n"
     ]
    },
    {
     "name": "stdout",
     "output_type": "stream",
     "text": [
      "an internal error occurred processing your request. something went wrong in the data provider service, check your query and try later b'\"No selected station has data in specified date range: {\\'variable\\': [\\'temperature\\'], \\'format\\': \\'nc\\', \\'statid\\': [\\'0-20000-0-1103\\'], \\'date\\': [\\'19781001\\', \\'19781031\\']}\"'.\n",
      "statid - testing:  0-20000-0-110350\n"
     ]
    },
    {
     "name": "stderr",
     "output_type": "stream",
     "text": [
      "2020-12-07 11:32:31,379 INFO Request is failed\n",
      "2020-12-07 11:32:31,379 ERROR Message: an internal error occurred processing your request\n",
      "2020-12-07 11:32:31,380 ERROR Reason:  something went wrong in the data provider service, check your query and try later b'\"No selected station has data in specified date range: {\\'variable\\': [\\'temperature\\'], \\'format\\': \\'nc\\', \\'statid\\': [\\'0-20000-0-110350\\'], \\'date\\': [\\'19781001\\', \\'19781031\\']}\"'\n",
      "2020-12-07 11:32:31,380 ERROR   Traceback (most recent call last):\n",
      "2020-12-07 11:32:31,380 ERROR     File \"/opt/cdstoolbox/cdscompute/cdscompute/cdshandlers/services/handler.py\", line 49, in handle_request\n",
      "2020-12-07 11:32:31,381 ERROR       result = cached(context.method, proc, context, context.args, context.kwargs)\n",
      "2020-12-07 11:32:31,381 ERROR     File \"/opt/cdstoolbox/cdscompute/cdscompute/caching.py\", line 108, in cached\n",
      "2020-12-07 11:32:31,381 ERROR       result = proc(context, *context.args, **context.kwargs)\n",
      "2020-12-07 11:32:31,381 ERROR     File \"/opt/cdstoolbox/cdscompute/cdscompute/services.py\", line 118, in __call__\n",
      "2020-12-07 11:32:31,382 ERROR       return p(*args, **kwargs)\n",
      "2020-12-07 11:32:31,382 ERROR     File \"/opt/cdstoolbox/cdscompute/cdscompute/services.py\", line 59, in __call__\n",
      "2020-12-07 11:32:31,382 ERROR       return self.proc(context, *args, **kwargs)\n",
      "2020-12-07 11:32:31,383 ERROR     File \"/home/cds/cdsservices_contrib/services/comprehensive_upper_air.py\", line 70, in execute\n",
      "2020-12-07 11:32:31,383 ERROR       'something went wrong in the data provider service, check your query and try later {}'.format(res.content)\n",
      "2020-12-07 11:32:31,383 ERROR   AssertionError: something went wrong in the data provider service, check your query and try later b'\"No selected station has data in specified date range: {\\'variable\\': [\\'temperature\\'], \\'format\\': \\'nc\\', \\'statid\\': [\\'0-20000-0-110350\\'], \\'date\\': [\\'19781001\\', \\'19781031\\']}\"'\n",
      "2020-12-07 11:32:31,412 INFO Welcome to the CDS\n",
      "2020-12-07 11:32:31,412 INFO Sending request to https://sis-dev.climate.copernicus.eu/api/v2/resources/insitu-comprehensive-upper-air-observation-network\n",
      "2020-12-07 11:32:31,478 INFO Request is queued\n"
     ]
    },
    {
     "name": "stdout",
     "output_type": "stream",
     "text": [
      "an internal error occurred processing your request. something went wrong in the data provider service, check your query and try later b'\"No selected station has data in specified date range: {\\'variable\\': [\\'temperature\\'], \\'format\\': \\'nc\\', \\'statid\\': [\\'0-20000-0-110350\\'], \\'date\\': [\\'19781001\\', \\'19781031\\']}\"'.\n",
      "statid - testing: finished\n",
      "variable - testing:  air_temperature\n"
     ]
    },
    {
     "name": "stderr",
     "output_type": "stream",
     "text": [
      "2020-12-07 11:32:32,511 INFO Request is completed\n",
      "2020-12-07 11:32:32,511 INFO Downloading http://136.156.132.204/cache-compute-0001/cache/data1/adaptor.comprehensive_upper_air.retrieve-1607337151.7587156-10875-5-1f4333f0-c4fb-4c5f-b0cb-2d5b25187c26.zip to download.zip (99.5K)\n",
      "2020-12-07 11:32:32,622 INFO Download rate 895.7K/s\n",
      "2020-12-07 11:32:32,686 INFO Welcome to the CDS\n",
      "2020-12-07 11:32:32,687 INFO Sending request to https://sis-dev.climate.copernicus.eu/api/v2/resources/insitu-comprehensive-upper-air-observation-network\n",
      "2020-12-07 11:32:32,748 INFO Request is queued\n"
     ]
    },
    {
     "name": "stdout",
     "output_type": "stream",
     "text": [
      "variable - testing:  dew_point_temperature\n"
     ]
    },
    {
     "name": "stderr",
     "output_type": "stream",
     "text": [
      "2020-12-07 11:32:33,781 INFO Request is completed\n",
      "2020-12-07 11:32:33,782 INFO Downloading http://136.156.132.204/cache-compute-0001/cache/data2/adaptor.comprehensive_upper_air.retrieve-1607337153.0109806-11102-5-8fc871a5-6fae-423d-8d75-1489c04e03ff.zip to download.zip (99.3K)\n",
      "2020-12-07 11:32:33,892 INFO Download rate 901.3K/s\n",
      "2020-12-07 11:32:33,955 INFO Welcome to the CDS\n",
      "2020-12-07 11:32:33,956 INFO Sending request to https://sis-dev.climate.copernicus.eu/api/v2/resources/insitu-comprehensive-upper-air-observation-network\n",
      "2020-12-07 11:32:34,016 INFO Request is queued\n"
     ]
    },
    {
     "name": "stdout",
     "output_type": "stream",
     "text": [
      "variable - testing:  eastward_wind_speed\n"
     ]
    },
    {
     "name": "stderr",
     "output_type": "stream",
     "text": [
      "2020-12-07 11:32:35,049 INFO Request is completed\n",
      "2020-12-07 11:32:35,049 INFO Downloading http://136.156.132.204/cache-compute-0001/cache/data1/adaptor.comprehensive_upper_air.retrieve-1607337154.240132-11171-5-60d18162-9587-46a3-90ab-34e62125628e.zip to download.zip (110.5K)\n",
      "2020-12-07 11:32:35,160 INFO Download rate 997.4K/s\n",
      "2020-12-07 11:32:35,225 INFO Welcome to the CDS\n",
      "2020-12-07 11:32:35,225 INFO Sending request to https://sis-dev.climate.copernicus.eu/api/v2/resources/insitu-comprehensive-upper-air-observation-network\n",
      "2020-12-07 11:32:35,285 INFO Request is queued\n"
     ]
    },
    {
     "name": "stdout",
     "output_type": "stream",
     "text": [
      "variable - testing:  northward_wind_speed\n"
     ]
    },
    {
     "name": "stderr",
     "output_type": "stream",
     "text": [
      "2020-12-07 11:32:36,319 INFO Request is completed\n",
      "2020-12-07 11:32:36,319 INFO Downloading http://136.156.132.204/cache-compute-0001/cache/data2/adaptor.comprehensive_upper_air.retrieve-1607337155.5459015-11271-5-dba9df10-1400-4dc2-a728-7ceccf4365a2.zip to download.zip (110.6K)\n",
      "2020-12-07 11:32:36,438 INFO Download rate 933K/s\n",
      "2020-12-07 11:32:36,502 INFO Welcome to the CDS\n",
      "2020-12-07 11:32:36,503 INFO Sending request to https://sis-dev.climate.copernicus.eu/api/v2/resources/insitu-comprehensive-upper-air-observation-network\n",
      "2020-12-07 11:32:36,564 INFO Request is queued\n"
     ]
    },
    {
     "name": "stdout",
     "output_type": "stream",
     "text": [
      "variable - testing:  relative_humidity\n"
     ]
    },
    {
     "name": "stderr",
     "output_type": "stream",
     "text": [
      "2020-12-07 11:32:37,599 INFO Request is completed\n",
      "2020-12-07 11:32:37,600 INFO Downloading http://136.156.132.204/cache-compute-0001/cache/data1/adaptor.comprehensive_upper_air.retrieve-1607337156.8323312-11143-5-fd904301-39fb-4d6d-9fa7-1aa050b6d4d4.zip to download.zip (105.6K)\n",
      "2020-12-07 11:32:37,710 INFO Download rate 955.8K/s\n",
      "2020-12-07 11:32:37,774 INFO Welcome to the CDS\n",
      "2020-12-07 11:32:37,775 INFO Sending request to https://sis-dev.climate.copernicus.eu/api/v2/resources/insitu-comprehensive-upper-air-observation-network\n",
      "2020-12-07 11:32:37,839 INFO Request is queued\n"
     ]
    },
    {
     "name": "stdout",
     "output_type": "stream",
     "text": [
      "variable - testing:  specific_humidity\n"
     ]
    },
    {
     "name": "stderr",
     "output_type": "stream",
     "text": [
      "2020-12-07 11:32:38,872 INFO Request is completed\n",
      "2020-12-07 11:32:38,873 INFO Downloading http://136.156.132.204/cache-compute-0001/cache/data1/adaptor.comprehensive_upper_air.retrieve-1607337158.1592307-11359-5-522731a7-4b99-4a07-b2b4-a6ae1851b7c3.zip to download.zip (107.2K)\n",
      "2020-12-07 11:32:38,985 INFO Download rate 961.1K/s\n",
      "2020-12-07 11:32:39,048 INFO Welcome to the CDS\n",
      "2020-12-07 11:32:39,049 INFO Sending request to https://sis-dev.climate.copernicus.eu/api/v2/resources/insitu-comprehensive-upper-air-observation-network\n",
      "2020-12-07 11:32:39,112 INFO Request is queued\n"
     ]
    },
    {
     "name": "stdout",
     "output_type": "stream",
     "text": [
      "variable - testing:  wind_from_direction\n"
     ]
    },
    {
     "name": "stderr",
     "output_type": "stream",
     "text": [
      "2020-12-07 11:32:40,146 INFO Request is completed\n",
      "2020-12-07 11:32:40,147 INFO Downloading http://136.156.132.204/cache-compute-0001/cache/data1/adaptor.comprehensive_upper_air.retrieve-1607337159.4313195-11211-4-ae4a7108-835d-49ab-9fe7-b9814b6b37d3.zip to download.zip (98.8K)\n",
      "2020-12-07 11:32:40,259 INFO Download rate 885.6K/s\n",
      "2020-12-07 11:32:40,324 INFO Welcome to the CDS\n",
      "2020-12-07 11:32:40,324 INFO Sending request to https://sis-dev.climate.copernicus.eu/api/v2/resources/insitu-comprehensive-upper-air-observation-network\n",
      "2020-12-07 11:32:40,391 INFO Request is queued\n"
     ]
    },
    {
     "name": "stdout",
     "output_type": "stream",
     "text": [
      "variable - testing:  wind_speed\n"
     ]
    },
    {
     "name": "stderr",
     "output_type": "stream",
     "text": [
      "2020-12-07 11:32:41,426 INFO Request is completed\n",
      "2020-12-07 11:32:41,427 INFO Downloading http://136.156.132.204/cache-compute-0001/cache/data2/adaptor.comprehensive_upper_air.retrieve-1607337160.7307885-11443-5-0e99a412-4b0d-48e4-a74c-219aa02a838a.zip to download.zip (100.9K)\n",
      "2020-12-07 11:32:41,538 INFO Download rate 909.8K/s\n",
      "2020-12-07 11:32:41,605 INFO Welcome to the CDS\n",
      "2020-12-07 11:32:41,605 INFO Sending request to https://sis-dev.climate.copernicus.eu/api/v2/resources/insitu-comprehensive-upper-air-observation-network\n",
      "2020-12-07 11:32:41,666 INFO Request is queued\n"
     ]
    },
    {
     "name": "stdout",
     "output_type": "stream",
     "text": [
      "variable - testing:  temperature\n"
     ]
    },
    {
     "name": "stderr",
     "output_type": "stream",
     "text": [
      "2020-12-07 11:32:42,701 INFO Request is completed\n",
      "2020-12-07 11:32:42,702 INFO Downloading http://136.156.132.204/cache-compute-0001/cache/data1/adaptor.comprehensive_upper_air.retrieve-1607337151.7587156-10875-5-1f4333f0-c4fb-4c5f-b0cb-2d5b25187c26.zip to download.zip (99.5K)\n",
      "2020-12-07 11:32:42,813 INFO Download rate 894K/s\n",
      "2020-12-07 11:32:42,877 INFO Welcome to the CDS\n",
      "2020-12-07 11:32:42,878 INFO Sending request to https://sis-dev.climate.copernicus.eu/api/v2/resources/insitu-comprehensive-upper-air-observation-network\n",
      "2020-12-07 11:32:42,940 INFO Request is queued\n"
     ]
    },
    {
     "name": "stdout",
     "output_type": "stream",
     "text": [
      "variable - testing:  dew_point\n"
     ]
    },
    {
     "name": "stderr",
     "output_type": "stream",
     "text": [
      "2020-12-07 11:32:43,974 INFO Request is failed\n",
      "2020-12-07 11:32:43,974 ERROR Message: an internal error occurred processing your request\n",
      "2020-12-07 11:32:43,975 ERROR Reason:  something went wrong in the data provider service, check your query and try later b'\"Invalid variable selected: dew_point\"'\n",
      "2020-12-07 11:32:43,975 ERROR   Traceback (most recent call last):\n",
      "2020-12-07 11:32:43,976 ERROR     File \"/opt/cdstoolbox/cdscompute/cdscompute/cdshandlers/services/handler.py\", line 49, in handle_request\n",
      "2020-12-07 11:32:43,976 ERROR       result = cached(context.method, proc, context, context.args, context.kwargs)\n",
      "2020-12-07 11:32:43,976 ERROR     File \"/opt/cdstoolbox/cdscompute/cdscompute/caching.py\", line 108, in cached\n",
      "2020-12-07 11:32:43,977 ERROR       result = proc(context, *context.args, **context.kwargs)\n",
      "2020-12-07 11:32:43,977 ERROR     File \"/opt/cdstoolbox/cdscompute/cdscompute/services.py\", line 118, in __call__\n",
      "2020-12-07 11:32:43,978 ERROR       return p(*args, **kwargs)\n",
      "2020-12-07 11:32:43,978 ERROR     File \"/opt/cdstoolbox/cdscompute/cdscompute/services.py\", line 59, in __call__\n",
      "2020-12-07 11:32:43,978 ERROR       return self.proc(context, *args, **kwargs)\n",
      "2020-12-07 11:32:43,979 ERROR     File \"/home/cds/cdsservices_contrib/services/comprehensive_upper_air.py\", line 70, in execute\n",
      "2020-12-07 11:32:43,979 ERROR       'something went wrong in the data provider service, check your query and try later {}'.format(res.content)\n",
      "2020-12-07 11:32:43,979 ERROR   AssertionError: something went wrong in the data provider service, check your query and try later b'\"Invalid variable selected: dew_point\"'\n",
      "2020-12-07 11:32:44,010 INFO Welcome to the CDS\n",
      "2020-12-07 11:32:44,010 INFO Sending request to https://sis-dev.climate.copernicus.eu/api/v2/resources/insitu-comprehensive-upper-air-observation-network\n",
      "2020-12-07 11:32:44,070 INFO Request is queued\n"
     ]
    },
    {
     "name": "stdout",
     "output_type": "stream",
     "text": [
      "an internal error occurred processing your request. something went wrong in the data provider service, check your query and try later b'\"Invalid variable selected: dew_point\"'.\n",
      "variable - testing:  wind\n"
     ]
    },
    {
     "name": "stderr",
     "output_type": "stream",
     "text": [
      "2020-12-07 11:32:45,104 INFO Request is failed\n",
      "2020-12-07 11:32:45,105 ERROR Message: an internal error occurred processing your request\n",
      "2020-12-07 11:32:45,105 ERROR Reason:  something went wrong in the data provider service, check your query and try later b'\"Invalid variable selected: wind\"'\n",
      "2020-12-07 11:32:45,105 ERROR   Traceback (most recent call last):\n",
      "2020-12-07 11:32:45,106 ERROR     File \"/opt/cdstoolbox/cdscompute/cdscompute/cdshandlers/services/handler.py\", line 49, in handle_request\n",
      "2020-12-07 11:32:45,106 ERROR       result = cached(context.method, proc, context, context.args, context.kwargs)\n",
      "2020-12-07 11:32:45,107 ERROR     File \"/opt/cdstoolbox/cdscompute/cdscompute/caching.py\", line 108, in cached\n",
      "2020-12-07 11:32:45,107 ERROR       result = proc(context, *context.args, **context.kwargs)\n",
      "2020-12-07 11:32:45,107 ERROR     File \"/opt/cdstoolbox/cdscompute/cdscompute/services.py\", line 118, in __call__\n",
      "2020-12-07 11:32:45,108 ERROR       return p(*args, **kwargs)\n",
      "2020-12-07 11:32:45,108 ERROR     File \"/opt/cdstoolbox/cdscompute/cdscompute/services.py\", line 59, in __call__\n",
      "2020-12-07 11:32:45,109 ERROR       return self.proc(context, *args, **kwargs)\n",
      "2020-12-07 11:32:45,109 ERROR     File \"/home/cds/cdsservices_contrib/services/comprehensive_upper_air.py\", line 70, in execute\n",
      "2020-12-07 11:32:45,109 ERROR       'something went wrong in the data provider service, check your query and try later {}'.format(res.content)\n",
      "2020-12-07 11:32:45,113 ERROR   AssertionError: something went wrong in the data provider service, check your query and try later b'\"Invalid variable selected: wind\"'\n",
      "2020-12-07 11:32:45,144 INFO Welcome to the CDS\n",
      "2020-12-07 11:32:45,144 INFO Sending request to https://sis-dev.climate.copernicus.eu/api/v2/resources/insitu-comprehensive-upper-air-observation-network\n",
      "2020-12-07 11:32:45,204 INFO Request is queued\n"
     ]
    },
    {
     "name": "stdout",
     "output_type": "stream",
     "text": [
      "an internal error occurred processing your request. something went wrong in the data provider service, check your query and try later b'\"Invalid variable selected: wind\"'.\n",
      "variable - testing:  humidity\n"
     ]
    },
    {
     "name": "stderr",
     "output_type": "stream",
     "text": [
      "2020-12-07 11:32:46,238 INFO Request is failed\n",
      "2020-12-07 11:32:46,238 ERROR Message: an internal error occurred processing your request\n",
      "2020-12-07 11:32:46,238 ERROR Reason:  something went wrong in the data provider service, check your query and try later b'\"Invalid variable selected: humidity\"'\n",
      "2020-12-07 11:32:46,239 ERROR   Traceback (most recent call last):\n",
      "2020-12-07 11:32:46,239 ERROR     File \"/opt/cdstoolbox/cdscompute/cdscompute/cdshandlers/services/handler.py\", line 49, in handle_request\n",
      "2020-12-07 11:32:46,239 ERROR       result = cached(context.method, proc, context, context.args, context.kwargs)\n",
      "2020-12-07 11:32:46,239 ERROR     File \"/opt/cdstoolbox/cdscompute/cdscompute/caching.py\", line 108, in cached\n",
      "2020-12-07 11:32:46,240 ERROR       result = proc(context, *context.args, **context.kwargs)\n",
      "2020-12-07 11:32:46,240 ERROR     File \"/opt/cdstoolbox/cdscompute/cdscompute/services.py\", line 118, in __call__\n",
      "2020-12-07 11:32:46,240 ERROR       return p(*args, **kwargs)\n",
      "2020-12-07 11:32:46,241 ERROR     File \"/opt/cdstoolbox/cdscompute/cdscompute/services.py\", line 59, in __call__\n",
      "2020-12-07 11:32:46,241 ERROR       return self.proc(context, *args, **kwargs)\n",
      "2020-12-07 11:32:46,241 ERROR     File \"/home/cds/cdsservices_contrib/services/comprehensive_upper_air.py\", line 70, in execute\n",
      "2020-12-07 11:32:46,241 ERROR       'something went wrong in the data provider service, check your query and try later {}'.format(res.content)\n",
      "2020-12-07 11:32:46,242 ERROR   AssertionError: something went wrong in the data provider service, check your query and try later b'\"Invalid variable selected: humidity\"'\n",
      "2020-12-07 11:32:46,271 INFO Welcome to the CDS\n",
      "2020-12-07 11:32:46,271 INFO Sending request to https://sis-dev.climate.copernicus.eu/api/v2/resources/insitu-comprehensive-upper-air-observation-network\n",
      "2020-12-07 11:32:46,334 INFO Request is queued\n"
     ]
    },
    {
     "name": "stdout",
     "output_type": "stream",
     "text": [
      "an internal error occurred processing your request. something went wrong in the data provider service, check your query and try later b'\"Invalid variable selected: humidity\"'.\n",
      "variable - testing:  sonde_type\n"
     ]
    },
    {
     "name": "stderr",
     "output_type": "stream",
     "text": [
      "2020-12-07 11:32:47,367 INFO Request is failed\n",
      "2020-12-07 11:32:47,368 ERROR Message: an internal error occurred processing your request\n",
      "2020-12-07 11:32:47,368 ERROR Reason:  something went wrong in the data provider service, check your query and try later b'\"Invalid variable selected: sonde_type\"'\n",
      "2020-12-07 11:32:47,368 ERROR   Traceback (most recent call last):\n",
      "2020-12-07 11:32:47,368 ERROR     File \"/opt/cdstoolbox/cdscompute/cdscompute/cdshandlers/services/handler.py\", line 49, in handle_request\n",
      "2020-12-07 11:32:47,369 ERROR       result = cached(context.method, proc, context, context.args, context.kwargs)\n",
      "2020-12-07 11:32:47,369 ERROR     File \"/opt/cdstoolbox/cdscompute/cdscompute/caching.py\", line 108, in cached\n",
      "2020-12-07 11:32:47,369 ERROR       result = proc(context, *context.args, **context.kwargs)\n",
      "2020-12-07 11:32:47,370 ERROR     File \"/opt/cdstoolbox/cdscompute/cdscompute/services.py\", line 118, in __call__\n",
      "2020-12-07 11:32:47,370 ERROR       return p(*args, **kwargs)\n",
      "2020-12-07 11:32:47,371 ERROR     File \"/opt/cdstoolbox/cdscompute/cdscompute/services.py\", line 59, in __call__\n",
      "2020-12-07 11:32:47,371 ERROR       return self.proc(context, *args, **kwargs)\n",
      "2020-12-07 11:32:47,371 ERROR     File \"/home/cds/cdsservices_contrib/services/comprehensive_upper_air.py\", line 70, in execute\n",
      "2020-12-07 11:32:47,371 ERROR       'something went wrong in the data provider service, check your query and try later {}'.format(res.content)\n",
      "2020-12-07 11:32:47,372 ERROR   AssertionError: something went wrong in the data provider service, check your query and try later b'\"Invalid variable selected: sonde_type\"'\n",
      "2020-12-07 11:32:47,400 INFO Welcome to the CDS\n",
      "2020-12-07 11:32:47,401 INFO Sending request to https://sis-dev.climate.copernicus.eu/api/v2/resources/insitu-comprehensive-upper-air-observation-network\n",
      "2020-12-07 11:32:47,468 INFO Request is queued\n"
     ]
    },
    {
     "name": "stdout",
     "output_type": "stream",
     "text": [
      "an internal error occurred processing your request. something went wrong in the data provider service, check your query and try later b'\"Invalid variable selected: sonde_type\"'.\n",
      "variable - testing: finished\n",
      "optional - testing:  sonde_type\n"
     ]
    },
    {
     "name": "stderr",
     "output_type": "stream",
     "text": [
      "2020-12-07 11:32:48,502 INFO Request is completed\n",
      "2020-12-07 11:32:48,502 INFO Downloading http://136.156.132.204/cache-compute-0001/cache/data1/adaptor.comprehensive_upper_air.retrieve-1607337167.7337875-11583-5-b1fffeec-0677-4f54-82cf-98da5eabc134.zip to download.zip (91K)\n",
      "2020-12-07 11:32:48,586 INFO Download rate 1.1M/s\n",
      "2020-12-07 11:32:48,652 INFO Welcome to the CDS\n",
      "2020-12-07 11:32:48,652 INFO Sending request to https://sis-dev.climate.copernicus.eu/api/v2/resources/insitu-comprehensive-upper-air-observation-network\n",
      "2020-12-07 11:32:48,718 INFO Request is queued\n"
     ]
    },
    {
     "name": "stdout",
     "output_type": "stream",
     "text": [
      "optional - testing:  bias_estimate\n"
     ]
    },
    {
     "name": "stderr",
     "output_type": "stream",
     "text": [
      "2020-12-07 11:32:49,750 INFO Request is completed\n",
      "2020-12-07 11:32:49,751 INFO Downloading http://136.156.132.204/cache-compute-0001/cache/data1/adaptor.comprehensive_upper_air.retrieve-1607337168.9833267-11670-4-aebd8a2b-5953-4c87-8615-8cce122e3330.zip to download.zip (87.5K)\n",
      "2020-12-07 11:32:49,835 INFO Download rate 1M/s\n",
      "2020-12-07 11:32:49,901 INFO Welcome to the CDS\n",
      "2020-12-07 11:32:49,902 INFO Sending request to https://sis-dev.climate.copernicus.eu/api/v2/resources/insitu-comprehensive-upper-air-observation-network\n",
      "2020-12-07 11:32:49,963 INFO Request is queued\n"
     ]
    },
    {
     "name": "stdout",
     "output_type": "stream",
     "text": [
      "optional - testing:  obs_minus_an\n"
     ]
    },
    {
     "name": "stderr",
     "output_type": "stream",
     "text": [
      "2020-12-07 11:32:50,997 INFO Request is completed\n",
      "2020-12-07 11:32:50,998 INFO Downloading http://136.156.132.176/cache-compute-0000/cache/data1/adaptor.comprehensive_upper_air.retrieve-1607337170.143179-10632-6-2ad551eb-30d2-4d95-96c0-5f4423c588da.zip to download.zip (90.6K)\n",
      "2020-12-07 11:32:51,085 INFO Download rate 1M/s\n",
      "2020-12-07 11:32:51,149 INFO Welcome to the CDS\n",
      "2020-12-07 11:32:51,149 INFO Sending request to https://sis-dev.climate.copernicus.eu/api/v2/resources/insitu-comprehensive-upper-air-observation-network\n",
      "2020-12-07 11:32:51,209 INFO Request is queued\n"
     ]
    },
    {
     "name": "stdout",
     "output_type": "stream",
     "text": [
      "optional - testing:  obs_minus_bg\n"
     ]
    },
    {
     "name": "stderr",
     "output_type": "stream",
     "text": [
      "2020-12-07 11:32:52,242 INFO Request is completed\n",
      "2020-12-07 11:32:52,242 INFO Downloading http://136.156.132.176/cache-compute-0000/cache/data2/adaptor.comprehensive_upper_air.retrieve-1607337171.3963425-10597-6-9b841f80-25a0-446f-8adf-9b7d7f8704c9.zip to download.zip (90.6K)\n",
      "2020-12-07 11:32:52,326 INFO Download rate 1.1M/s\n",
      "2020-12-07 11:32:52,388 INFO Welcome to the CDS\n",
      "2020-12-07 11:32:52,388 INFO Sending request to https://sis-dev.climate.copernicus.eu/api/v2/resources/insitu-comprehensive-upper-air-observation-network\n",
      "2020-12-07 11:32:52,457 INFO Request is queued\n"
     ]
    },
    {
     "name": "stdout",
     "output_type": "stream",
     "text": [
      "optional - testing:  sonde\n"
     ]
    },
    {
     "name": "stderr",
     "output_type": "stream",
     "text": [
      "2020-12-07 11:32:53,490 INFO Request is failed\n",
      "2020-12-07 11:32:53,490 ERROR Message: an internal error occurred processing your request\n",
      "2020-12-07 11:32:53,491 ERROR Reason:  something went wrong in the data provider service, check your query and try later b'\"Invalid optional selected: sonde\"'\n",
      "2020-12-07 11:32:53,491 ERROR   Traceback (most recent call last):\n",
      "2020-12-07 11:32:53,491 ERROR     File \"/opt/cdstoolbox/cdscompute/cdscompute/cdshandlers/services/handler.py\", line 49, in handle_request\n",
      "2020-12-07 11:32:53,492 ERROR       result = cached(context.method, proc, context, context.args, context.kwargs)\n",
      "2020-12-07 11:32:53,492 ERROR     File \"/opt/cdstoolbox/cdscompute/cdscompute/caching.py\", line 108, in cached\n",
      "2020-12-07 11:32:53,492 ERROR       result = proc(context, *context.args, **context.kwargs)\n",
      "2020-12-07 11:32:53,492 ERROR     File \"/opt/cdstoolbox/cdscompute/cdscompute/services.py\", line 118, in __call__\n",
      "2020-12-07 11:32:53,493 ERROR       return p(*args, **kwargs)\n",
      "2020-12-07 11:32:53,493 ERROR     File \"/opt/cdstoolbox/cdscompute/cdscompute/services.py\", line 59, in __call__\n",
      "2020-12-07 11:32:53,493 ERROR       return self.proc(context, *args, **kwargs)\n",
      "2020-12-07 11:32:53,493 ERROR     File \"/home/cds/cdsservices_contrib/services/comprehensive_upper_air.py\", line 70, in execute\n",
      "2020-12-07 11:32:53,494 ERROR       'something went wrong in the data provider service, check your query and try later {}'.format(res.content)\n",
      "2020-12-07 11:32:53,494 ERROR   AssertionError: something went wrong in the data provider service, check your query and try later b'\"Invalid optional selected: sonde\"'\n",
      "2020-12-07 11:32:53,523 INFO Welcome to the CDS\n",
      "2020-12-07 11:32:53,523 INFO Sending request to https://sis-dev.climate.copernicus.eu/api/v2/resources/insitu-comprehensive-upper-air-observation-network\n",
      "2020-12-07 11:32:53,586 INFO Request is queued\n"
     ]
    },
    {
     "name": "stdout",
     "output_type": "stream",
     "text": [
      "an internal error occurred processing your request. something went wrong in the data provider service, check your query and try later b'\"Invalid optional selected: sonde\"'.\n",
      "optional - testing:  air_temperature\n"
     ]
    },
    {
     "name": "stderr",
     "output_type": "stream",
     "text": [
      "2020-12-07 11:32:54,619 INFO Request is failed\n",
      "2020-12-07 11:32:54,619 ERROR Message: an internal error occurred processing your request\n",
      "2020-12-07 11:32:54,620 ERROR Reason:  something went wrong in the data provider service, check your query and try later b'\"Invalid optional selected: air_temperature\"'\n",
      "2020-12-07 11:32:54,620 ERROR   Traceback (most recent call last):\n",
      "2020-12-07 11:32:54,620 ERROR     File \"/opt/cdstoolbox/cdscompute/cdscompute/cdshandlers/services/handler.py\", line 49, in handle_request\n",
      "2020-12-07 11:32:54,620 ERROR       result = cached(context.method, proc, context, context.args, context.kwargs)\n",
      "2020-12-07 11:32:54,621 ERROR     File \"/opt/cdstoolbox/cdscompute/cdscompute/caching.py\", line 108, in cached\n",
      "2020-12-07 11:32:54,621 ERROR       result = proc(context, *context.args, **context.kwargs)\n",
      "2020-12-07 11:32:54,622 ERROR     File \"/opt/cdstoolbox/cdscompute/cdscompute/services.py\", line 118, in __call__\n",
      "2020-12-07 11:32:54,622 ERROR       return p(*args, **kwargs)\n",
      "2020-12-07 11:32:54,622 ERROR     File \"/opt/cdstoolbox/cdscompute/cdscompute/services.py\", line 59, in __call__\n",
      "2020-12-07 11:32:54,623 ERROR       return self.proc(context, *args, **kwargs)\n",
      "2020-12-07 11:32:54,623 ERROR     File \"/home/cds/cdsservices_contrib/services/comprehensive_upper_air.py\", line 70, in execute\n",
      "2020-12-07 11:32:54,623 ERROR       'something went wrong in the data provider service, check your query and try later {}'.format(res.content)\n",
      "2020-12-07 11:32:54,623 ERROR   AssertionError: something went wrong in the data provider service, check your query and try later b'\"Invalid optional selected: air_temperature\"'\n",
      "2020-12-07 11:32:54,655 INFO Welcome to the CDS\n",
      "2020-12-07 11:32:54,655 INFO Sending request to https://sis-dev.climate.copernicus.eu/api/v2/resources/insitu-comprehensive-upper-air-observation-network\n",
      "2020-12-07 11:32:54,722 INFO Request is queued\n"
     ]
    },
    {
     "name": "stdout",
     "output_type": "stream",
     "text": [
      "an internal error occurred processing your request. something went wrong in the data provider service, check your query and try later b'\"Invalid optional selected: air_temperature\"'.\n",
      "optional - testing:  dew_point_temperature\n"
     ]
    },
    {
     "name": "stderr",
     "output_type": "stream",
     "text": [
      "2020-12-07 11:32:55,756 INFO Request is failed\n",
      "2020-12-07 11:32:55,756 ERROR Message: an internal error occurred processing your request\n",
      "2020-12-07 11:32:55,756 ERROR Reason:  something went wrong in the data provider service, check your query and try later b'\"Invalid optional selected: dew_point_temperature\"'\n",
      "2020-12-07 11:32:55,757 ERROR   Traceback (most recent call last):\n",
      "2020-12-07 11:32:55,757 ERROR     File \"/opt/cdstoolbox/cdscompute/cdscompute/cdshandlers/services/handler.py\", line 49, in handle_request\n",
      "2020-12-07 11:32:55,757 ERROR       result = cached(context.method, proc, context, context.args, context.kwargs)\n",
      "2020-12-07 11:32:55,757 ERROR     File \"/opt/cdstoolbox/cdscompute/cdscompute/caching.py\", line 108, in cached\n",
      "2020-12-07 11:32:55,758 ERROR       result = proc(context, *context.args, **context.kwargs)\n",
      "2020-12-07 11:32:55,758 ERROR     File \"/opt/cdstoolbox/cdscompute/cdscompute/services.py\", line 118, in __call__\n",
      "2020-12-07 11:32:55,758 ERROR       return p(*args, **kwargs)\n",
      "2020-12-07 11:32:55,758 ERROR     File \"/opt/cdstoolbox/cdscompute/cdscompute/services.py\", line 59, in __call__\n",
      "2020-12-07 11:32:55,759 ERROR       return self.proc(context, *args, **kwargs)\n",
      "2020-12-07 11:32:55,759 ERROR     File \"/home/cds/cdsservices_contrib/services/comprehensive_upper_air.py\", line 70, in execute\n",
      "2020-12-07 11:32:55,759 ERROR       'something went wrong in the data provider service, check your query and try later {}'.format(res.content)\n",
      "2020-12-07 11:32:55,759 ERROR   AssertionError: something went wrong in the data provider service, check your query and try later b'\"Invalid optional selected: dew_point_temperature\"'\n",
      "2020-12-07 11:32:55,788 INFO Welcome to the CDS\n",
      "2020-12-07 11:32:55,789 INFO Sending request to https://sis-dev.climate.copernicus.eu/api/v2/resources/insitu-comprehensive-upper-air-observation-network\n",
      "2020-12-07 11:32:55,859 INFO Request is queued\n"
     ]
    },
    {
     "name": "stdout",
     "output_type": "stream",
     "text": [
      "an internal error occurred processing your request. something went wrong in the data provider service, check your query and try later b'\"Invalid optional selected: dew_point_temperature\"'.\n",
      "optional - testing: finished\n",
      "area - testing:  [-40, 140, 80, 359]\n"
     ]
    },
    {
     "name": "stderr",
     "output_type": "stream",
     "text": [
      "2020-12-07 11:32:56,892 INFO Request is running\n",
      "2020-12-07 11:33:09,220 INFO Request is completed\n",
      "2020-12-07 11:33:09,220 INFO Downloading http://136.156.132.176/cache-compute-0000/cache/data2/adaptor.comprehensive_upper_air.retrieve-1607337185.3170469-10826-5-4efe1e60-de9e-4dd8-a372-82ee39ca2888.zip to download.zip (49.7M)\n",
      "2020-12-07 11:33:14,113 INFO Download rate 10.1M/s  \n",
      "2020-12-07 11:33:14,176 INFO Welcome to the CDS\n",
      "2020-12-07 11:33:14,177 INFO Sending request to https://sis-dev.climate.copernicus.eu/api/v2/resources/insitu-comprehensive-upper-air-observation-network\n",
      "2020-12-07 11:33:14,238 INFO Request is queued\n"
     ]
    },
    {
     "name": "stdout",
     "output_type": "stream",
     "text": [
      "area - testing:  [40, 0, 50, 20]\n"
     ]
    },
    {
     "name": "stderr",
     "output_type": "stream",
     "text": [
      "2020-12-07 11:33:15,272 INFO Request is running\n",
      "2020-12-07 11:33:27,604 INFO Request is completed\n",
      "2020-12-07 11:33:27,604 INFO Downloading http://136.156.132.176/cache-compute-0000/cache/data2/adaptor.comprehensive_upper_air.retrieve-1607337204.07575-10941-5-5e0a8470-9e91-4aca-b8e0-445706af5f2e.zip to download.zip (49.7M)\n",
      "2020-12-07 11:33:32,673 INFO Download rate 9.8M/s   \n",
      "2020-12-07 11:33:32,738 INFO Welcome to the CDS\n",
      "2020-12-07 11:33:32,738 INFO Sending request to https://sis-dev.climate.copernicus.eu/api/v2/resources/insitu-comprehensive-upper-air-observation-network\n",
      "2020-12-07 11:33:32,801 INFO Request is queued\n"
     ]
    },
    {
     "name": "stdout",
     "output_type": "stream",
     "text": [
      "area - testing:  [-40, 140, 80, 360]\n"
     ]
    },
    {
     "name": "stderr",
     "output_type": "stream",
     "text": [
      "2020-12-07 11:33:33,835 INFO Request is running\n",
      "2020-12-07 11:33:46,245 INFO Request is completed\n",
      "2020-12-07 11:33:46,246 INFO Downloading http://136.156.132.176/cache-compute-0000/cache/data2/adaptor.comprehensive_upper_air.retrieve-1607337222.7606146-10747-4-0552448a-12a3-4e37-a57c-39cd441682fa.zip to download.zip (49.7M)\n",
      "2020-12-07 11:33:51,780 INFO Download rate 9M/s     \n",
      "2020-12-07 11:33:51,844 INFO Welcome to the CDS\n",
      "2020-12-07 11:33:51,845 INFO Sending request to https://sis-dev.climate.copernicus.eu/api/v2/resources/insitu-comprehensive-upper-air-observation-network\n",
      "2020-12-07 11:33:51,906 INFO Request is queued\n"
     ]
    },
    {
     "name": "stdout",
     "output_type": "stream",
     "text": [
      "area - testing:  [0, 0, 0, 0]\n"
     ]
    },
    {
     "name": "stderr",
     "output_type": "stream",
     "text": [
      "2020-12-07 11:33:52,939 INFO Request is running\n",
      "2020-12-07 11:34:05,266 INFO Request is completed\n",
      "2020-12-07 11:34:05,266 INFO Downloading http://136.156.132.176/cache-compute-0000/cache/data2/adaptor.comprehensive_upper_air.retrieve-1607337241.7069407-10883-5-b7444158-b7da-40cd-b2ce-98c34c4582e8.zip to download.zip (49.7M)\n",
      "2020-12-07 11:34:11,588 INFO Download rate 7.9M/s   \n",
      "2020-12-07 11:34:11,654 INFO Welcome to the CDS\n",
      "2020-12-07 11:34:11,655 INFO Sending request to https://sis-dev.climate.copernicus.eu/api/v2/resources/insitu-comprehensive-upper-air-observation-network\n",
      "2020-12-07 11:34:11,720 INFO Request is queued\n"
     ]
    },
    {
     "name": "stdout",
     "output_type": "stream",
     "text": [
      "area - testing:  [50, 20, 40, 0]\n"
     ]
    },
    {
     "name": "stderr",
     "output_type": "stream",
     "text": [
      "2020-12-07 11:34:12,752 INFO Request is running\n",
      "2020-12-07 11:34:25,080 INFO Request is completed\n",
      "2020-12-07 11:34:25,080 INFO Downloading http://136.156.132.176/cache-compute-0000/cache/data2/adaptor.comprehensive_upper_air.retrieve-1607337261.3416033-10971-5-f6911466-d518-4bad-8d23-2c477b23dfe5.zip to download.zip (49.7M)\n",
      "2020-12-07 11:34:30,627 INFO Download rate 9M/s     \n",
      "2020-12-07 11:34:30,693 INFO Welcome to the CDS\n",
      "2020-12-07 11:34:30,694 INFO Sending request to https://sis-dev.climate.copernicus.eu/api/v2/resources/insitu-comprehensive-upper-air-observation-network\n",
      "2020-12-07 11:34:30,759 INFO Request is queued\n"
     ]
    },
    {
     "name": "stdout",
     "output_type": "stream",
     "text": [
      "area - testing: finished\n",
      "country - testing:  GLOBE\n"
     ]
    },
    {
     "name": "stderr",
     "output_type": "stream",
     "text": [
      "2020-12-07 11:34:31,793 INFO Request is running\n",
      "2020-12-07 11:34:44,121 INFO Request is completed\n",
      "2020-12-07 11:34:44,121 INFO Downloading http://136.156.132.176/cache-compute-0000/cache/data1/adaptor.comprehensive_upper_air.retrieve-1607337280.5397625-11013-5-075b839a-4af2-4687-bd1e-1774e5964e5e.zip to download.zip (49.7M)\n",
      "2020-12-07 11:34:48,480 INFO Download rate 11.4M/s  \n",
      "2020-12-07 11:34:48,544 INFO Welcome to the CDS\n",
      "2020-12-07 11:34:48,544 INFO Sending request to https://sis-dev.climate.copernicus.eu/api/v2/resources/insitu-comprehensive-upper-air-observation-network\n",
      "2020-12-07 11:34:48,610 INFO Request is queued\n"
     ]
    },
    {
     "name": "stdout",
     "output_type": "stream",
     "text": [
      "country - testing:  ALL\n"
     ]
    },
    {
     "name": "stderr",
     "output_type": "stream",
     "text": [
      "2020-12-07 11:34:49,643 INFO Request is running\n",
      "2020-12-07 11:35:01,970 INFO Request is completed\n",
      "2020-12-07 11:35:01,970 INFO Downloading http://136.156.132.176/cache-compute-0000/cache/data2/adaptor.comprehensive_upper_air.retrieve-1607337298.2435417-11138-5-29666ffa-0540-47cd-8328-092012dc0846.zip to download.zip (49.7M)\n",
      "2020-12-07 11:35:05,453 INFO Download rate 14.3M/s  \n",
      "2020-12-07 11:35:05,517 INFO Welcome to the CDS\n",
      "2020-12-07 11:35:05,518 INFO Sending request to https://sis-dev.climate.copernicus.eu/api/v2/resources/insitu-comprehensive-upper-air-observation-network\n",
      "2020-12-07 11:35:05,582 INFO Request is queued\n"
     ]
    },
    {
     "name": "stdout",
     "output_type": "stream",
     "text": [
      "country - testing:  NOR\n"
     ]
    },
    {
     "name": "stderr",
     "output_type": "stream",
     "text": [
      "2020-12-07 11:35:06,615 INFO Request is completed\n",
      "2020-12-07 11:35:06,616 INFO Downloading http://136.156.132.176/cache-compute-0000/cache/data2/adaptor.comprehensive_upper_air.retrieve-1607337305.9932632-11052-5-8e56bc57-1373-483f-b3d7-8f06c2850cf9.zip to download.zip (250.5K)\n",
      "2020-12-07 11:35:06,752 INFO Download rate 1.8M/s \n",
      "2020-12-07 11:35:06,814 INFO Welcome to the CDS\n",
      "2020-12-07 11:35:06,815 INFO Sending request to https://sis-dev.climate.copernicus.eu/api/v2/resources/insitu-comprehensive-upper-air-observation-network\n",
      "2020-12-07 11:35:06,876 INFO Request is queued\n"
     ]
    },
    {
     "name": "stdout",
     "output_type": "stream",
     "text": [
      "country - testing:  ['NOR', 'DEU']\n"
     ]
    },
    {
     "name": "stderr",
     "output_type": "stream",
     "text": [
      "2020-12-07 11:35:07,908 INFO Request is completed\n",
      "2020-12-07 11:35:07,909 INFO Downloading http://136.156.132.176/cache-compute-0000/cache/data2/adaptor.comprehensive_upper_air.retrieve-1607337307.4180312-11224-5-8c204b8e-937d-49a6-a2a8-62c398a247df.zip to download.zip (862.5K)\n",
      "2020-12-07 11:35:08,100 INFO Download rate 4.4M/s \n",
      "2020-12-07 11:35:08,162 INFO Welcome to the CDS\n",
      "2020-12-07 11:35:08,162 INFO Sending request to https://sis-dev.climate.copernicus.eu/api/v2/resources/insitu-comprehensive-upper-air-observation-network\n",
      "2020-12-07 11:35:08,222 INFO Request is queued\n"
     ]
    },
    {
     "name": "stdout",
     "output_type": "stream",
     "text": [
      "country - testing:  NORWAY\n"
     ]
    },
    {
     "name": "stderr",
     "output_type": "stream",
     "text": [
      "2020-12-07 11:35:09,255 INFO Request is failed\n",
      "2020-12-07 11:35:09,255 ERROR Message: an internal error occurred processing your request\n",
      "2020-12-07 11:35:09,255 ERROR Reason:  something went wrong in the data provider service, check your query and try later b'\"Invalid selection, NORWAY is not a valid country code\"'\n",
      "2020-12-07 11:35:09,256 ERROR   Traceback (most recent call last):\n",
      "2020-12-07 11:35:09,256 ERROR     File \"/opt/cdstoolbox/cdscompute/cdscompute/cdshandlers/services/handler.py\", line 49, in handle_request\n",
      "2020-12-07 11:35:09,256 ERROR       result = cached(context.method, proc, context, context.args, context.kwargs)\n",
      "2020-12-07 11:35:09,257 ERROR     File \"/opt/cdstoolbox/cdscompute/cdscompute/caching.py\", line 108, in cached\n",
      "2020-12-07 11:35:09,257 ERROR       result = proc(context, *context.args, **context.kwargs)\n",
      "2020-12-07 11:35:09,257 ERROR     File \"/opt/cdstoolbox/cdscompute/cdscompute/services.py\", line 118, in __call__\n",
      "2020-12-07 11:35:09,257 ERROR       return p(*args, **kwargs)\n",
      "2020-12-07 11:35:09,258 ERROR     File \"/opt/cdstoolbox/cdscompute/cdscompute/services.py\", line 59, in __call__\n",
      "2020-12-07 11:35:09,258 ERROR       return self.proc(context, *args, **kwargs)\n",
      "2020-12-07 11:35:09,258 ERROR     File \"/home/cds/cdsservices_contrib/services/comprehensive_upper_air.py\", line 70, in execute\n",
      "2020-12-07 11:35:09,259 ERROR       'something went wrong in the data provider service, check your query and try later {}'.format(res.content)\n",
      "2020-12-07 11:35:09,259 ERROR   AssertionError: something went wrong in the data provider service, check your query and try later b'\"Invalid selection, NORWAY is not a valid country code\"'\n",
      "2020-12-07 11:35:09,288 INFO Welcome to the CDS\n",
      "2020-12-07 11:35:09,288 INFO Sending request to https://sis-dev.climate.copernicus.eu/api/v2/resources/insitu-comprehensive-upper-air-observation-network\n",
      "2020-12-07 11:35:09,347 INFO Request is queued\n"
     ]
    },
    {
     "name": "stdout",
     "output_type": "stream",
     "text": [
      "an internal error occurred processing your request. something went wrong in the data provider service, check your query and try later b'\"Invalid selection, NORWAY is not a valid country code\"'.\n",
      "country - testing:  nor\n"
     ]
    },
    {
     "name": "stderr",
     "output_type": "stream",
     "text": [
      "2020-12-07 11:35:10,381 INFO Request is failed\n",
      "2020-12-07 11:35:10,381 ERROR Message: an internal error occurred processing your request\n",
      "2020-12-07 11:35:10,381 ERROR Reason:  something went wrong in the data provider service, check your query and try later b'\"Invalid selection, nor is not a valid country code\"'\n",
      "2020-12-07 11:35:10,382 ERROR   Traceback (most recent call last):\n",
      "2020-12-07 11:35:10,382 ERROR     File \"/opt/cdstoolbox/cdscompute/cdscompute/cdshandlers/services/handler.py\", line 49, in handle_request\n",
      "2020-12-07 11:35:10,382 ERROR       result = cached(context.method, proc, context, context.args, context.kwargs)\n",
      "2020-12-07 11:35:10,382 ERROR     File \"/opt/cdstoolbox/cdscompute/cdscompute/caching.py\", line 108, in cached\n",
      "2020-12-07 11:35:10,383 ERROR       result = proc(context, *context.args, **context.kwargs)\n",
      "2020-12-07 11:35:10,383 ERROR     File \"/opt/cdstoolbox/cdscompute/cdscompute/services.py\", line 118, in __call__\n",
      "2020-12-07 11:35:10,383 ERROR       return p(*args, **kwargs)\n",
      "2020-12-07 11:35:10,384 ERROR     File \"/opt/cdstoolbox/cdscompute/cdscompute/services.py\", line 59, in __call__\n",
      "2020-12-07 11:35:10,384 ERROR       return self.proc(context, *args, **kwargs)\n",
      "2020-12-07 11:35:10,384 ERROR     File \"/home/cds/cdsservices_contrib/services/comprehensive_upper_air.py\", line 70, in execute\n",
      "2020-12-07 11:35:10,384 ERROR       'something went wrong in the data provider service, check your query and try later {}'.format(res.content)\n",
      "2020-12-07 11:35:10,385 ERROR   AssertionError: something went wrong in the data provider service, check your query and try later b'\"Invalid selection, nor is not a valid country code\"'\n",
      "2020-12-07 11:35:10,414 INFO Welcome to the CDS\n",
      "2020-12-07 11:35:10,414 INFO Sending request to https://sis-dev.climate.copernicus.eu/api/v2/resources/insitu-comprehensive-upper-air-observation-network\n",
      "2020-12-07 11:35:10,473 INFO Request is queued\n"
     ]
    },
    {
     "name": "stdout",
     "output_type": "stream",
     "text": [
      "an internal error occurred processing your request. something went wrong in the data provider service, check your query and try later b'\"Invalid selection, nor is not a valid country code\"'.\n",
      "country - testing: finished\n",
      "date - testing:  None\n"
     ]
    },
    {
     "name": "stderr",
     "output_type": "stream",
     "text": [
      "2020-12-07 11:35:11,506 INFO Request is running\n",
      "2020-12-07 11:35:15,324 INFO Request is completed\n",
      "2020-12-07 11:35:15,325 INFO Downloading http://136.156.132.176/cache-compute-0000/cache/data1/adaptor.comprehensive_upper_air.retrieve-1607337312.8475933-11367-4-83fd83cc-5a5b-4a10-ac63-5f0449266cf9.zip to download.zip (40M)\n",
      "2020-12-07 11:35:18,513 INFO Download rate 12.6M/s  \n",
      "2020-12-07 11:35:18,578 INFO Welcome to the CDS\n",
      "2020-12-07 11:35:18,579 INFO Sending request to https://sis-dev.climate.copernicus.eu/api/v2/resources/insitu-comprehensive-upper-air-observation-network\n",
      "2020-12-07 11:35:18,646 INFO Request is queued\n"
     ]
    },
    {
     "name": "stdout",
     "output_type": "stream",
     "text": [
      "date - testing:  20000101\n"
     ]
    },
    {
     "name": "stderr",
     "output_type": "stream",
     "text": [
      "2020-12-07 11:35:19,680 INFO Request is completed\n",
      "2020-12-07 11:35:19,680 INFO Downloading http://136.156.132.176/cache-compute-0000/cache/data1/adaptor.comprehensive_upper_air.retrieve-1607337318.9145517-11323-4-e9f7a8bc-cb24-4b9a-8247-6cfde4288a2a.zip to download.zip (23.6K)\n",
      "2020-12-07 11:35:19,737 INFO Download rate 417.7K/s\n",
      "2020-12-07 11:35:19,801 INFO Welcome to the CDS\n",
      "2020-12-07 11:35:19,801 INFO Sending request to https://sis-dev.climate.copernicus.eu/api/v2/resources/insitu-comprehensive-upper-air-observation-network\n",
      "2020-12-07 11:35:19,867 INFO Request is queued\n"
     ]
    },
    {
     "name": "stdout",
     "output_type": "stream",
     "text": [
      "date - testing:  20000101-20000201\n"
     ]
    },
    {
     "name": "stderr",
     "output_type": "stream",
     "text": [
      "2020-12-07 11:35:20,900 INFO Request is completed\n",
      "2020-12-07 11:35:20,900 INFO Downloading http://136.156.132.176/cache-compute-0000/cache/data1/adaptor.comprehensive_upper_air.retrieve-1607337320.1240897-11409-4-2d32c1dd-0e1a-43b6-b6dc-215c5d1f70ca.zip to download.zip (69.4K)\n",
      "2020-12-07 11:35:20,985 INFO Download rate 823.3K/s\n",
      "2020-12-07 11:35:21,048 INFO Welcome to the CDS\n",
      "2020-12-07 11:35:21,049 INFO Sending request to https://sis-dev.climate.copernicus.eu/api/v2/resources/insitu-comprehensive-upper-air-observation-network\n",
      "2020-12-07 11:35:21,110 INFO Request is queued\n"
     ]
    },
    {
     "name": "stdout",
     "output_type": "stream",
     "text": [
      "date - testing:  ['20000101', '20000103', '20000106']\n"
     ]
    },
    {
     "name": "stderr",
     "output_type": "stream",
     "text": [
      "2020-12-07 11:35:22,144 INFO Request is completed\n",
      "2020-12-07 11:35:22,144 INFO Downloading http://136.156.132.176/cache-compute-0000/cache/data1/adaptor.comprehensive_upper_air.retrieve-1607337321.3539689-11266-4-1ee4599c-6729-4773-8411-239a8fa44c0e.zip to download.zip (31.6K)\n",
      "2020-12-07 11:35:22,229 INFO Download rate 374.2K/s\n",
      "2020-12-07 11:35:22,292 INFO Welcome to the CDS\n",
      "2020-12-07 11:35:22,293 INFO Sending request to https://sis-dev.climate.copernicus.eu/api/v2/resources/insitu-comprehensive-upper-air-observation-network\n",
      "2020-12-07 11:35:22,357 INFO Request is queued\n"
     ]
    },
    {
     "name": "stdout",
     "output_type": "stream",
     "text": [
      "date - testing:  ['20000102', '20000101']\n"
     ]
    },
    {
     "name": "stderr",
     "output_type": "stream",
     "text": [
      "2020-12-07 11:35:23,392 INFO Request is completed\n",
      "2020-12-07 11:35:23,392 INFO Downloading http://136.156.132.176/cache-compute-0000/cache/data1/adaptor.comprehensive_upper_air.retrieve-1607337322.6233099-11522-4-ea968db1-a288-47cc-a877-9dd35aea8d59.zip to download.zip (25.6K)\n",
      "2020-12-07 11:35:23,451 INFO Download rate 439.7K/s\n",
      "2020-12-07 11:35:23,514 INFO Welcome to the CDS\n",
      "2020-12-07 11:35:23,515 INFO Sending request to https://sis-dev.climate.copernicus.eu/api/v2/resources/insitu-comprehensive-upper-air-observation-network\n",
      "2020-12-07 11:35:23,573 INFO Request is queued\n"
     ]
    },
    {
     "name": "stdout",
     "output_type": "stream",
     "text": [
      "date - testing:  2000011\n"
     ]
    },
    {
     "name": "stderr",
     "output_type": "stream",
     "text": [
      "2020-12-07 11:35:24,606 INFO Request is failed\n",
      "2020-12-07 11:35:24,607 ERROR Message: an internal error occurred processing your request\n",
      "2020-12-07 11:35:24,607 ERROR Reason:  something went wrong in the data provider service, check your query and try later b'\"only valid dates allowed for date: 2000011\"'\n",
      "2020-12-07 11:35:24,607 ERROR   Traceback (most recent call last):\n",
      "2020-12-07 11:35:24,608 ERROR     File \"/opt/cdstoolbox/cdscompute/cdscompute/cdshandlers/services/handler.py\", line 49, in handle_request\n",
      "2020-12-07 11:35:24,608 ERROR       result = cached(context.method, proc, context, context.args, context.kwargs)\n",
      "2020-12-07 11:35:24,608 ERROR     File \"/opt/cdstoolbox/cdscompute/cdscompute/caching.py\", line 108, in cached\n",
      "2020-12-07 11:35:24,608 ERROR       result = proc(context, *context.args, **context.kwargs)\n",
      "2020-12-07 11:35:24,609 ERROR     File \"/opt/cdstoolbox/cdscompute/cdscompute/services.py\", line 118, in __call__\n",
      "2020-12-07 11:35:24,609 ERROR       return p(*args, **kwargs)\n",
      "2020-12-07 11:35:24,609 ERROR     File \"/opt/cdstoolbox/cdscompute/cdscompute/services.py\", line 59, in __call__\n",
      "2020-12-07 11:35:24,610 ERROR       return self.proc(context, *args, **kwargs)\n",
      "2020-12-07 11:35:24,610 ERROR     File \"/home/cds/cdsservices_contrib/services/comprehensive_upper_air.py\", line 70, in execute\n",
      "2020-12-07 11:35:24,610 ERROR       'something went wrong in the data provider service, check your query and try later {}'.format(res.content)\n",
      "2020-12-07 11:35:24,610 ERROR   AssertionError: something went wrong in the data provider service, check your query and try later b'\"only valid dates allowed for date: 2000011\"'\n",
      "2020-12-07 11:35:24,640 INFO Welcome to the CDS\n",
      "2020-12-07 11:35:24,640 INFO Sending request to https://sis-dev.climate.copernicus.eu/api/v2/resources/insitu-comprehensive-upper-air-observation-network\n",
      "2020-12-07 11:35:24,700 INFO Request is queued\n"
     ]
    },
    {
     "name": "stdout",
     "output_type": "stream",
     "text": [
      "an internal error occurred processing your request. something went wrong in the data provider service, check your query and try later b'\"only valid dates allowed for date: 2000011\"'.\n",
      "date - testing:  20000100\n"
     ]
    },
    {
     "name": "stderr",
     "output_type": "stream",
     "text": [
      "2020-12-07 11:35:25,733 INFO Request is failed\n",
      "2020-12-07 11:35:25,733 ERROR Message: an internal error occurred processing your request\n",
      "2020-12-07 11:35:25,734 ERROR Reason:  something went wrong in the data provider service, check your query and try later b'\"only valid dates allowed for date: 20000100\"'\n",
      "2020-12-07 11:35:25,734 ERROR   Traceback (most recent call last):\n",
      "2020-12-07 11:35:25,734 ERROR     File \"/opt/cdstoolbox/cdscompute/cdscompute/cdshandlers/services/handler.py\", line 49, in handle_request\n",
      "2020-12-07 11:35:25,735 ERROR       result = cached(context.method, proc, context, context.args, context.kwargs)\n",
      "2020-12-07 11:35:25,735 ERROR     File \"/opt/cdstoolbox/cdscompute/cdscompute/caching.py\", line 108, in cached\n",
      "2020-12-07 11:35:25,735 ERROR       result = proc(context, *context.args, **context.kwargs)\n",
      "2020-12-07 11:35:25,736 ERROR     File \"/opt/cdstoolbox/cdscompute/cdscompute/services.py\", line 118, in __call__\n",
      "2020-12-07 11:35:25,736 ERROR       return p(*args, **kwargs)\n",
      "2020-12-07 11:35:25,736 ERROR     File \"/opt/cdstoolbox/cdscompute/cdscompute/services.py\", line 59, in __call__\n",
      "2020-12-07 11:35:25,737 ERROR       return self.proc(context, *args, **kwargs)\n",
      "2020-12-07 11:35:25,737 ERROR     File \"/home/cds/cdsservices_contrib/services/comprehensive_upper_air.py\", line 70, in execute\n",
      "2020-12-07 11:35:25,737 ERROR       'something went wrong in the data provider service, check your query and try later {}'.format(res.content)\n",
      "2020-12-07 11:35:25,739 ERROR   AssertionError: something went wrong in the data provider service, check your query and try later b'\"only valid dates allowed for date: 20000100\"'\n",
      "2020-12-07 11:35:25,767 INFO Welcome to the CDS\n",
      "2020-12-07 11:35:25,767 INFO Sending request to https://sis-dev.climate.copernicus.eu/api/v2/resources/insitu-comprehensive-upper-air-observation-network\n",
      "2020-12-07 11:35:25,830 INFO Request is queued\n"
     ]
    },
    {
     "name": "stdout",
     "output_type": "stream",
     "text": [
      "an internal error occurred processing your request. something went wrong in the data provider service, check your query and try later b'\"only valid dates allowed for date: 20000100\"'.\n",
      "date - testing:  00000000\n"
     ]
    },
    {
     "name": "stderr",
     "output_type": "stream",
     "text": [
      "2020-12-07 11:35:26,864 INFO Request is failed\n",
      "2020-12-07 11:35:26,864 ERROR Message: an internal error occurred processing your request\n",
      "2020-12-07 11:35:26,865 ERROR Reason:  something went wrong in the data provider service, check your query and try later b'\"only valid dates allowed for date: 00000000\"'\n",
      "2020-12-07 11:35:26,865 ERROR   Traceback (most recent call last):\n",
      "2020-12-07 11:35:26,865 ERROR     File \"/opt/cdstoolbox/cdscompute/cdscompute/cdshandlers/services/handler.py\", line 49, in handle_request\n",
      "2020-12-07 11:35:26,865 ERROR       result = cached(context.method, proc, context, context.args, context.kwargs)\n",
      "2020-12-07 11:35:26,866 ERROR     File \"/opt/cdstoolbox/cdscompute/cdscompute/caching.py\", line 108, in cached\n",
      "2020-12-07 11:35:26,866 ERROR       result = proc(context, *context.args, **context.kwargs)\n",
      "2020-12-07 11:35:26,866 ERROR     File \"/opt/cdstoolbox/cdscompute/cdscompute/services.py\", line 118, in __call__\n",
      "2020-12-07 11:35:26,867 ERROR       return p(*args, **kwargs)\n",
      "2020-12-07 11:35:26,868 ERROR     File \"/opt/cdstoolbox/cdscompute/cdscompute/services.py\", line 59, in __call__\n",
      "2020-12-07 11:35:26,868 ERROR       return self.proc(context, *args, **kwargs)\n",
      "2020-12-07 11:35:26,868 ERROR     File \"/home/cds/cdsservices_contrib/services/comprehensive_upper_air.py\", line 70, in execute\n",
      "2020-12-07 11:35:26,869 ERROR       'something went wrong in the data provider service, check your query and try later {}'.format(res.content)\n",
      "2020-12-07 11:35:26,869 ERROR   AssertionError: something went wrong in the data provider service, check your query and try later b'\"only valid dates allowed for date: 00000000\"'\n",
      "2020-12-07 11:35:26,897 INFO Welcome to the CDS\n",
      "2020-12-07 11:35:26,898 INFO Sending request to https://sis-dev.climate.copernicus.eu/api/v2/resources/insitu-comprehensive-upper-air-observation-network\n",
      "2020-12-07 11:35:26,962 INFO Request is queued\n"
     ]
    },
    {
     "name": "stdout",
     "output_type": "stream",
     "text": [
      "an internal error occurred processing your request. something went wrong in the data provider service, check your query and try later b'\"only valid dates allowed for date: 00000000\"'.\n",
      "date - testing:  20000132\n"
     ]
    },
    {
     "name": "stderr",
     "output_type": "stream",
     "text": [
      "2020-12-07 11:35:27,996 INFO Request is completed\n",
      "2020-12-07 11:35:27,996 INFO Downloading http://136.156.132.176/cache-compute-0002/cache/data1/adaptor.comprehensive_upper_air.retrieve-1607337327.1944337-27790-12-7fd499b7-aa96-4e57-817a-665d31b7afee.zip to download.zip (23.6K)\n",
      "2020-12-07 11:35:28,056 INFO Download rate 395.6K/s\n",
      "2020-12-07 11:35:28,120 INFO Welcome to the CDS\n",
      "2020-12-07 11:35:28,120 INFO Sending request to https://sis-dev.climate.copernicus.eu/api/v2/resources/insitu-comprehensive-upper-air-observation-network\n",
      "2020-12-07 11:35:28,182 INFO Request is queued\n"
     ]
    },
    {
     "name": "stdout",
     "output_type": "stream",
     "text": [
      "date - testing:  20001301\n"
     ]
    },
    {
     "name": "stderr",
     "output_type": "stream",
     "text": [
      "2020-12-07 11:35:29,215 INFO Request is failed\n",
      "2020-12-07 11:35:29,215 ERROR Message: an internal error occurred processing your request\n",
      "2020-12-07 11:35:29,215 ERROR Reason:  something went wrong in the data provider service, check your query and try later b'\"only valid dates allowed for date: 20001301\"'\n",
      "2020-12-07 11:35:29,216 ERROR   Traceback (most recent call last):\n",
      "2020-12-07 11:35:29,216 ERROR     File \"/opt/cdstoolbox/cdscompute/cdscompute/cdshandlers/services/handler.py\", line 49, in handle_request\n",
      "2020-12-07 11:35:29,216 ERROR       result = cached(context.method, proc, context, context.args, context.kwargs)\n",
      "2020-12-07 11:35:29,217 ERROR     File \"/opt/cdstoolbox/cdscompute/cdscompute/caching.py\", line 108, in cached\n",
      "2020-12-07 11:35:29,217 ERROR       result = proc(context, *context.args, **context.kwargs)\n",
      "2020-12-07 11:35:29,218 ERROR     File \"/opt/cdstoolbox/cdscompute/cdscompute/services.py\", line 118, in __call__\n",
      "2020-12-07 11:35:29,218 ERROR       return p(*args, **kwargs)\n",
      "2020-12-07 11:35:29,218 ERROR     File \"/opt/cdstoolbox/cdscompute/cdscompute/services.py\", line 59, in __call__\n",
      "2020-12-07 11:35:29,218 ERROR       return self.proc(context, *args, **kwargs)\n",
      "2020-12-07 11:35:29,219 ERROR     File \"/home/cds/cdsservices_contrib/services/comprehensive_upper_air.py\", line 70, in execute\n",
      "2020-12-07 11:35:29,219 ERROR       'something went wrong in the data provider service, check your query and try later {}'.format(res.content)\n",
      "2020-12-07 11:35:29,219 ERROR   AssertionError: something went wrong in the data provider service, check your query and try later b'\"only valid dates allowed for date: 20001301\"'\n",
      "2020-12-07 11:35:29,248 INFO Welcome to the CDS\n",
      "2020-12-07 11:35:29,248 INFO Sending request to https://sis-dev.climate.copernicus.eu/api/v2/resources/insitu-comprehensive-upper-air-observation-network\n",
      "2020-12-07 11:35:29,307 INFO Request is queued\n"
     ]
    },
    {
     "name": "stdout",
     "output_type": "stream",
     "text": [
      "an internal error occurred processing your request. something went wrong in the data provider service, check your query and try later b'\"only valid dates allowed for date: 20001301\"'.\n",
      "date - testing: finished\n",
      "period - testing:  None\n"
     ]
    },
    {
     "name": "stderr",
     "output_type": "stream",
     "text": [
      "2020-12-07 11:35:30,340 INFO Request is running\n",
      "2020-12-07 11:35:31,873 INFO Request is completed\n",
      "2020-12-07 11:35:31,873 INFO Downloading http://136.156.132.176/cache-compute-0002/cache/data1/adaptor.comprehensive_upper_air.retrieve-1607337331.5801828-27866-12-8c1d031b-0c74-4673-8af8-2518ed7b9814.zip to download.zip (40M)\n",
      "2020-12-07 11:35:35,911 INFO Download rate 9.9M/s   \n",
      "2020-12-07 11:35:35,974 INFO Welcome to the CDS\n",
      "2020-12-07 11:35:35,975 INFO Sending request to https://sis-dev.climate.copernicus.eu/api/v2/resources/insitu-comprehensive-upper-air-observation-network\n",
      "2020-12-07 11:35:36,035 INFO Request is queued\n"
     ]
    },
    {
     "name": "stdout",
     "output_type": "stream",
     "text": [
      "period - testing:  1979-01-01/1980-08-16\n"
     ]
    },
    {
     "name": "stderr",
     "output_type": "stream",
     "text": [
      "2020-12-07 11:35:37,068 INFO Request is completed\n",
      "2020-12-07 11:35:37,068 INFO Downloading http://136.156.132.176/cache-compute-0002/cache/data2/adaptor.comprehensive_upper_air.retrieve-1607337336.2791328-27905-12-d93ccc06-1ec7-4184-bfc2-d377f65de278.zip to download.zip (517.4K)\n",
      "2020-12-07 11:35:37,232 INFO Download rate 3.1M/s \n",
      "2020-12-07 11:35:37,294 INFO Welcome to the CDS\n",
      "2020-12-07 11:35:37,294 INFO Sending request to https://sis-dev.climate.copernicus.eu/api/v2/resources/insitu-comprehensive-upper-air-observation-network\n",
      "2020-12-07 11:35:37,355 INFO Request is queued\n"
     ]
    },
    {
     "name": "stdout",
     "output_type": "stream",
     "text": [
      "period - testing:  1980-01-02/1980-01-01\n"
     ]
    },
    {
     "name": "stderr",
     "output_type": "stream",
     "text": [
      "2020-12-07 11:35:38,469 INFO Request is failed\n",
      "2020-12-07 11:35:38,469 ERROR Message: an internal error occurred processing your request\n",
      "2020-12-07 11:35:38,470 ERROR Reason:  something went wrong in the data provider service, check your query and try later b'\"Error: exception \\\\\"No data in specified time interval\\\\\" occurred while reading /data/public/merged/0-20000-0-11035_CEUAS_merged_v0.nc ({\\'variable\\': [\\'temperature\\'], \\'format\\': \\'nc\\', \\'statid\\': [\\'0-20000-0-11035\\'], \\'date\\': [\\'19800102\\', \\'19800101\\']})\"'\n",
      "2020-12-07 11:35:38,470 ERROR   Traceback (most recent call last):\n",
      "2020-12-07 11:35:38,470 ERROR     File \"/opt/cdstoolbox/cdscompute/cdscompute/cdshandlers/services/handler.py\", line 49, in handle_request\n",
      "2020-12-07 11:35:38,470 ERROR       result = cached(context.method, proc, context, context.args, context.kwargs)\n",
      "2020-12-07 11:35:38,471 ERROR     File \"/opt/cdstoolbox/cdscompute/cdscompute/caching.py\", line 108, in cached\n",
      "2020-12-07 11:35:38,471 ERROR       result = proc(context, *context.args, **context.kwargs)\n",
      "2020-12-07 11:35:38,471 ERROR     File \"/opt/cdstoolbox/cdscompute/cdscompute/services.py\", line 118, in __call__\n",
      "2020-12-07 11:35:38,472 ERROR       return p(*args, **kwargs)\n",
      "2020-12-07 11:35:38,472 ERROR     File \"/opt/cdstoolbox/cdscompute/cdscompute/services.py\", line 59, in __call__\n",
      "2020-12-07 11:35:38,472 ERROR       return self.proc(context, *args, **kwargs)\n",
      "2020-12-07 11:35:38,472 ERROR     File \"/home/cds/cdsservices_contrib/services/comprehensive_upper_air.py\", line 70, in execute\n",
      "2020-12-07 11:35:38,473 ERROR       'something went wrong in the data provider service, check your query and try later {}'.format(res.content)\n",
      "2020-12-07 11:35:38,473 ERROR   AssertionError: something went wrong in the data provider service, check your query and try later b'\"Error: exception \\\\\"No data in specified time interval\\\\\" occurred while reading /data/public/merged/0-20000-0-11035_CEUAS_merged_v0.nc ({\\'variable\\': [\\'temperature\\'], \\'format\\': \\'nc\\', \\'statid\\': [\\'0-20000-0-11035\\'], \\'date\\': [\\'19800102\\', \\'19800101\\']})\"'\n",
      "2020-12-07 11:35:38,502 INFO Welcome to the CDS\n",
      "2020-12-07 11:35:38,502 INFO Sending request to https://sis-dev.climate.copernicus.eu/api/v2/resources/insitu-comprehensive-upper-air-observation-network\n",
      "2020-12-07 11:35:38,561 INFO Request is queued\n"
     ]
    },
    {
     "name": "stdout",
     "output_type": "stream",
     "text": [
      "an internal error occurred processing your request. something went wrong in the data provider service, check your query and try later b'\"Error: exception \\\\\"No data in specified time interval\\\\\" occurred while reading /data/public/merged/0-20000-0-11035_CEUAS_merged_v0.nc ({\\'variable\\': [\\'temperature\\'], \\'format\\': \\'nc\\', \\'statid\\': [\\'0-20000-0-11035\\'], \\'date\\': [\\'19800102\\', \\'19800101\\']})\"'.\n",
      "period - testing: finished\n",
      "pressure_level - testing:  100\n"
     ]
    },
    {
     "name": "stderr",
     "output_type": "stream",
     "text": [
      "2020-12-07 11:35:39,594 INFO Request is completed\n",
      "2020-12-07 11:35:39,595 INFO Downloading http://136.156.132.176/cache-compute-0002/cache/data2/adaptor.comprehensive_upper_air.retrieve-1607337338.799396-27969-10-12e93cef-d0fc-4e83-ad3f-066673a7b5ca.zip to download.zip (23.6K)\n",
      "2020-12-07 11:35:39,653 INFO Download rate 406.3K/s\n",
      "2020-12-07 11:35:39,715 INFO Welcome to the CDS\n",
      "2020-12-07 11:35:39,715 INFO Sending request to https://sis-dev.climate.copernicus.eu/api/v2/resources/insitu-comprehensive-upper-air-observation-network\n",
      "2020-12-07 11:35:39,775 INFO Request is queued\n"
     ]
    },
    {
     "name": "stdout",
     "output_type": "stream",
     "text": [
      "pressure_level - testing:  100\n"
     ]
    },
    {
     "name": "stderr",
     "output_type": "stream",
     "text": [
      "2020-12-07 11:35:40,807 INFO Request is completed\n",
      "2020-12-07 11:35:40,808 INFO Downloading http://136.156.132.176/cache-compute-0002/cache/data2/adaptor.comprehensive_upper_air.retrieve-1607337340.014148-28008-10-45f69ffc-8849-4b30-87fc-dd9855961655.zip to download.zip (23.6K)\n",
      "2020-12-07 11:35:40,865 INFO Download rate 415.2K/s\n",
      "2020-12-07 11:35:40,927 INFO Welcome to the CDS\n",
      "2020-12-07 11:35:40,928 INFO Sending request to https://sis-dev.climate.copernicus.eu/api/v2/resources/insitu-comprehensive-upper-air-observation-network\n",
      "2020-12-07 11:35:40,989 INFO Request is queued\n"
     ]
    },
    {
     "name": "stdout",
     "output_type": "stream",
     "text": [
      "pressure_level - testing:  [100, 200]\n"
     ]
    },
    {
     "name": "stderr",
     "output_type": "stream",
     "text": [
      "2020-12-07 11:35:42,021 INFO Request is completed\n",
      "2020-12-07 11:35:42,022 INFO Downloading http://136.156.132.176/cache-compute-0002/cache/data2/adaptor.comprehensive_upper_air.retrieve-1607337341.1956983-28048-10-4b31b17a-facc-496d-bfe6-5a516d787893.zip to download.zip (23.6K)\n",
      "2020-12-07 11:35:42,079 INFO Download rate 411.5K/s\n",
      "2020-12-07 11:35:42,143 INFO Welcome to the CDS\n",
      "2020-12-07 11:35:42,143 INFO Sending request to https://sis-dev.climate.copernicus.eu/api/v2/resources/insitu-comprehensive-upper-air-observation-network\n",
      "2020-12-07 11:35:42,203 INFO Request is queued\n"
     ]
    },
    {
     "name": "stdout",
     "output_type": "stream",
     "text": [
      "pressure_level - testing:  ['100', '200']\n"
     ]
    },
    {
     "name": "stderr",
     "output_type": "stream",
     "text": [
      "2020-12-07 11:35:43,238 INFO Request is completed\n",
      "2020-12-07 11:35:43,239 INFO Downloading http://136.156.132.176/cache-compute-0002/cache/data2/adaptor.comprehensive_upper_air.retrieve-1607337342.4330404-28129-8-3377aab5-fead-41d0-bc50-016e91a7f4c6.zip to download.zip (23.6K)\n",
      "2020-12-07 11:35:43,296 INFO Download rate 415.5K/s\n",
      "2020-12-07 11:35:43,569 INFO Welcome to the CDS\n",
      "2020-12-07 11:35:43,569 INFO Sending request to https://sis-dev.climate.copernicus.eu/api/v2/resources/insitu-comprehensive-upper-air-observation-network\n",
      "2020-12-07 11:35:43,632 INFO Request is queued\n"
     ]
    },
    {
     "name": "stdout",
     "output_type": "stream",
     "text": [
      "pressure_level - testing:  0\n"
     ]
    },
    {
     "name": "stderr",
     "output_type": "stream",
     "text": [
      "2020-12-07 11:35:44,665 INFO Request is failed\n",
      "2020-12-07 11:35:44,665 ERROR Message: an internal error occurred processing your request\n",
      "2020-12-07 11:35:44,665 ERROR Reason:  something went wrong in the data provider service, check your query and try later b'\"invalid selection, pressure_level out of range [5-1100 hPa]: 0 Pa\"'\n",
      "2020-12-07 11:35:44,666 ERROR   Traceback (most recent call last):\n",
      "2020-12-07 11:35:44,666 ERROR     File \"/opt/cdstoolbox/cdscompute/cdscompute/cdshandlers/services/handler.py\", line 49, in handle_request\n",
      "2020-12-07 11:35:44,666 ERROR       result = cached(context.method, proc, context, context.args, context.kwargs)\n",
      "2020-12-07 11:35:44,666 ERROR     File \"/opt/cdstoolbox/cdscompute/cdscompute/caching.py\", line 108, in cached\n",
      "2020-12-07 11:35:44,667 ERROR       result = proc(context, *context.args, **context.kwargs)\n",
      "2020-12-07 11:35:44,667 ERROR     File \"/opt/cdstoolbox/cdscompute/cdscompute/services.py\", line 118, in __call__\n",
      "2020-12-07 11:35:44,668 ERROR       return p(*args, **kwargs)\n",
      "2020-12-07 11:35:44,668 ERROR     File \"/opt/cdstoolbox/cdscompute/cdscompute/services.py\", line 59, in __call__\n",
      "2020-12-07 11:35:44,668 ERROR       return self.proc(context, *args, **kwargs)\n",
      "2020-12-07 11:35:44,669 ERROR     File \"/home/cds/cdsservices_contrib/services/comprehensive_upper_air.py\", line 70, in execute\n",
      "2020-12-07 11:35:44,669 ERROR       'something went wrong in the data provider service, check your query and try later {}'.format(res.content)\n",
      "2020-12-07 11:35:44,669 ERROR   AssertionError: something went wrong in the data provider service, check your query and try later b'\"invalid selection, pressure_level out of range [5-1100 hPa]: 0 Pa\"'\n",
      "2020-12-07 11:35:44,697 INFO Welcome to the CDS\n",
      "2020-12-07 11:35:44,698 INFO Sending request to https://sis-dev.climate.copernicus.eu/api/v2/resources/insitu-comprehensive-upper-air-observation-network\n",
      "2020-12-07 11:35:44,756 INFO Request is queued\n"
     ]
    },
    {
     "name": "stdout",
     "output_type": "stream",
     "text": [
      "an internal error occurred processing your request. something went wrong in the data provider service, check your query and try later b'\"invalid selection, pressure_level out of range [5-1100 hPa]: 0 Pa\"'.\n",
      "pressure_level - testing:  2000\n"
     ]
    },
    {
     "name": "stderr",
     "output_type": "stream",
     "text": [
      "2020-12-07 11:35:45,790 INFO Request is failed\n",
      "2020-12-07 11:35:45,790 ERROR Message: an internal error occurred processing your request\n",
      "2020-12-07 11:35:45,790 ERROR Reason:  something went wrong in the data provider service, check your query and try later b'\"invalid selection, pressure_level out of range [5-1100 hPa]: 200000 Pa\"'\n",
      "2020-12-07 11:35:45,791 ERROR   Traceback (most recent call last):\n",
      "2020-12-07 11:35:45,791 ERROR     File \"/opt/cdstoolbox/cdscompute/cdscompute/cdshandlers/services/handler.py\", line 49, in handle_request\n",
      "2020-12-07 11:35:45,791 ERROR       result = cached(context.method, proc, context, context.args, context.kwargs)\n",
      "2020-12-07 11:35:45,791 ERROR     File \"/opt/cdstoolbox/cdscompute/cdscompute/caching.py\", line 108, in cached\n",
      "2020-12-07 11:35:45,792 ERROR       result = proc(context, *context.args, **context.kwargs)\n",
      "2020-12-07 11:35:45,792 ERROR     File \"/opt/cdstoolbox/cdscompute/cdscompute/services.py\", line 118, in __call__\n",
      "2020-12-07 11:35:45,792 ERROR       return p(*args, **kwargs)\n",
      "2020-12-07 11:35:45,793 ERROR     File \"/opt/cdstoolbox/cdscompute/cdscompute/services.py\", line 59, in __call__\n",
      "2020-12-07 11:35:45,793 ERROR       return self.proc(context, *args, **kwargs)\n",
      "2020-12-07 11:35:45,793 ERROR     File \"/home/cds/cdsservices_contrib/services/comprehensive_upper_air.py\", line 70, in execute\n",
      "2020-12-07 11:35:45,793 ERROR       'something went wrong in the data provider service, check your query and try later {}'.format(res.content)\n",
      "2020-12-07 11:35:45,794 ERROR   AssertionError: something went wrong in the data provider service, check your query and try later b'\"invalid selection, pressure_level out of range [5-1100 hPa]: 200000 Pa\"'\n",
      "2020-12-07 11:35:45,822 INFO Welcome to the CDS\n",
      "2020-12-07 11:35:45,823 INFO Sending request to https://sis-dev.climate.copernicus.eu/api/v2/resources/insitu-comprehensive-upper-air-observation-network\n",
      "2020-12-07 11:35:45,882 INFO Request is queued\n"
     ]
    },
    {
     "name": "stdout",
     "output_type": "stream",
     "text": [
      "an internal error occurred processing your request. something went wrong in the data provider service, check your query and try later b'\"invalid selection, pressure_level out of range [5-1100 hPa]: 200000 Pa\"'.\n",
      "pressure_level - testing: finished\n",
      "time - testing:  [22, 23, 0, 1, 2, 3]\n"
     ]
    },
    {
     "name": "stderr",
     "output_type": "stream",
     "text": [
      "2020-12-07 11:35:46,915 INFO Request is completed\n",
      "2020-12-07 11:35:46,915 INFO Downloading http://136.156.132.176/cache-compute-0002/cache/data1/adaptor.comprehensive_upper_air.retrieve-1607337346.1106327-28214-8-85500315-a088-4953-a153-77a3ba5a02ff.zip to download.zip (43.3K)\n",
      "2020-12-07 11:35:47,001 INFO Download rate 505.2K/s\n",
      "2020-12-07 11:35:47,065 INFO Welcome to the CDS\n",
      "2020-12-07 11:35:47,065 INFO Sending request to https://sis-dev.climate.copernicus.eu/api/v2/resources/insitu-comprehensive-upper-air-observation-network\n",
      "2020-12-07 11:35:47,130 INFO Request is queued\n"
     ]
    },
    {
     "name": "stdout",
     "output_type": "stream",
     "text": [
      "time - testing:  ['22', '23', '00', '01', '02', '03']\n"
     ]
    },
    {
     "name": "stderr",
     "output_type": "stream",
     "text": [
      "2020-12-07 11:35:48,164 INFO Request is completed\n",
      "2020-12-07 11:35:48,164 INFO Downloading http://136.156.132.176/cache-compute-0002/cache/data2/adaptor.comprehensive_upper_air.retrieve-1607337347.370573-28254-7-b3d2bf0e-bdf9-43db-991e-6794a3946043.zip to download.zip (43.3K)\n",
      "2020-12-07 11:35:48,248 INFO Download rate 517.7K/s\n",
      "2020-12-07 11:35:48,310 INFO Welcome to the CDS\n",
      "2020-12-07 11:35:48,310 INFO Sending request to https://sis-dev.climate.copernicus.eu/api/v2/resources/insitu-comprehensive-upper-air-observation-network\n",
      "2020-12-07 11:35:48,372 INFO Request is queued\n"
     ]
    },
    {
     "name": "stdout",
     "output_type": "stream",
     "text": [
      "time - testing:  \n"
     ]
    },
    {
     "name": "stderr",
     "output_type": "stream",
     "text": [
      "2020-12-07 11:35:49,405 INFO Request is completed\n",
      "2020-12-07 11:35:49,406 INFO Downloading http://136.156.132.176/cache-compute-0002/cache/data2/adaptor.comprehensive_upper_air.retrieve-1607337348.5129738-28294-7-a8714b26-5318-4767-a4f1-10fa1156c7a0.zip to download.zip (67.9K)\n",
      "2020-12-07 11:35:49,490 INFO Download rate 808.6K/s\n",
      "2020-12-07 11:35:49,553 INFO Welcome to the CDS\n",
      "2020-12-07 11:35:49,553 INFO Sending request to https://sis-dev.climate.copernicus.eu/api/v2/resources/insitu-comprehensive-upper-air-observation-network\n",
      "2020-12-07 11:35:49,613 INFO Request is queued\n"
     ]
    },
    {
     "name": "stdout",
     "output_type": "stream",
     "text": [
      "time - testing:  0\n"
     ]
    },
    {
     "name": "stderr",
     "output_type": "stream",
     "text": [
      "2020-12-07 11:35:50,645 INFO Request is completed\n",
      "2020-12-07 11:35:50,646 INFO Downloading http://136.156.132.176/cache-compute-0002/cache/data2/adaptor.comprehensive_upper_air.retrieve-1607337349.76099-28322-5-1bada9a8-cc19-4409-b9e9-75b2e63026d8.zip to download.zip (44.1K)\n",
      "2020-12-07 11:35:50,729 INFO Download rate 530.3K/s\n",
      "2020-12-07 11:35:50,792 INFO Welcome to the CDS\n",
      "2020-12-07 11:35:50,792 INFO Sending request to https://sis-dev.climate.copernicus.eu/api/v2/resources/insitu-comprehensive-upper-air-observation-network\n",
      "2020-12-07 11:35:50,855 INFO Request is queued\n"
     ]
    },
    {
     "name": "stdout",
     "output_type": "stream",
     "text": [
      "time - testing:  00\n"
     ]
    },
    {
     "name": "stderr",
     "output_type": "stream",
     "text": [
      "2020-12-07 11:35:51,888 INFO Request is completed\n",
      "2020-12-07 11:35:51,889 INFO Downloading http://136.156.132.176/cache-compute-0002/cache/data2/adaptor.comprehensive_upper_air.retrieve-1607337350.9975326-28363-7-a0ed4682-1dd1-4979-b137-d439032a0ed6.zip to download.zip (44.1K)\n",
      "2020-12-07 11:35:51,972 INFO Download rate 532.9K/s\n",
      "2020-12-07 11:35:52,033 INFO Welcome to the CDS\n",
      "2020-12-07 11:35:52,034 INFO Sending request to https://sis-dev.climate.copernicus.eu/api/v2/resources/insitu-comprehensive-upper-air-observation-network\n",
      "2020-12-07 11:35:52,093 INFO Request is queued\n"
     ]
    },
    {
     "name": "stdout",
     "output_type": "stream",
     "text": [
      "time - testing:  ['00']\n"
     ]
    },
    {
     "name": "stderr",
     "output_type": "stream",
     "text": [
      "2020-12-07 11:35:53,127 INFO Request is completed\n",
      "2020-12-07 11:35:53,128 INFO Downloading http://136.156.132.176/cache-compute-0002/cache/data2/adaptor.comprehensive_upper_air.retrieve-1607337352.249067-28419-7-6a5fbe5c-1522-419a-92e5-53d8cf09c94b.zip to download.zip (44.1K)\n",
      "2020-12-07 11:35:53,214 INFO Download rate 514.6K/s\n",
      "2020-12-07 11:35:53,278 INFO Welcome to the CDS\n",
      "2020-12-07 11:35:53,278 INFO Sending request to https://sis-dev.climate.copernicus.eu/api/v2/resources/insitu-comprehensive-upper-air-observation-network\n",
      "2020-12-07 11:35:53,339 INFO Request is queued\n"
     ]
    },
    {
     "name": "stdout",
     "output_type": "stream",
     "text": [
      "time - testing:  [0, 12]\n"
     ]
    },
    {
     "name": "stderr",
     "output_type": "stream",
     "text": [
      "2020-12-07 11:35:54,372 INFO Request is completed\n",
      "2020-12-07 11:35:54,373 INFO Downloading http://136.156.132.176/cache-compute-0002/cache/data2/adaptor.comprehensive_upper_air.retrieve-1607337353.4958515-28447-5-eb36483a-79c7-4ad3-a9fd-f4ccf4a8f679.zip to download.zip (65.7K)\n",
      "2020-12-07 11:35:54,458 INFO Download rate 771.9K/s\n",
      "2020-12-07 11:35:54,522 INFO Welcome to the CDS\n",
      "2020-12-07 11:35:54,522 INFO Sending request to https://sis-dev.climate.copernicus.eu/api/v2/resources/insitu-comprehensive-upper-air-observation-network\n",
      "2020-12-07 11:35:54,586 INFO Request is queued\n"
     ]
    },
    {
     "name": "stdout",
     "output_type": "stream",
     "text": [
      "time - testing:  ['0', '12']\n"
     ]
    },
    {
     "name": "stderr",
     "output_type": "stream",
     "text": [
      "2020-12-07 11:35:55,620 INFO Request is completed\n",
      "2020-12-07 11:35:55,621 INFO Downloading http://136.156.132.176/cache-compute-0002/cache/data2/adaptor.comprehensive_upper_air.retrieve-1607337354.7357438-28491-5-5b3f43b7-edcf-4885-9941-9ccb939eb7f2.zip to download.zip (65.7K)\n",
      "2020-12-07 11:35:55,705 INFO Download rate 786.2K/s\n",
      "2020-12-07 11:35:55,770 INFO Welcome to the CDS\n",
      "2020-12-07 11:35:55,771 INFO Sending request to https://sis-dev.climate.copernicus.eu/api/v2/resources/insitu-comprehensive-upper-air-observation-network\n",
      "2020-12-07 11:35:55,859 INFO Request is queued\n"
     ]
    },
    {
     "name": "stdout",
     "output_type": "stream",
     "text": [
      "time - testing:  24\n"
     ]
    },
    {
     "name": "stderr",
     "output_type": "stream",
     "text": [
      "2020-12-07 11:35:56,901 INFO Request is failed\n",
      "2020-12-07 11:35:56,901 ERROR Message: an internal error occurred processing your request\n",
      "2020-12-07 11:35:56,901 ERROR Reason:  something went wrong in the data provider service, check your query and try later b'\"Error: exception \\\\\"\\\\\" occurred while reading /data/public/merged/0-20000-0-11035_CEUAS_merged_v0.nc ({\\'variable\\': [\\'temperature\\'], \\'format\\': \\'nc\\', \\'statid\\': [\\'0-20000-0-11035\\'], \\'date\\': [\\'20100101\\', \\'20100201\\'], \\'time\\': [\\'24\\']})\"'\n",
      "2020-12-07 11:35:56,902 ERROR   Traceback (most recent call last):\n",
      "2020-12-07 11:35:56,902 ERROR     File \"/opt/cdstoolbox/cdscompute/cdscompute/cdshandlers/services/handler.py\", line 49, in handle_request\n",
      "2020-12-07 11:35:56,902 ERROR       result = cached(context.method, proc, context, context.args, context.kwargs)\n",
      "2020-12-07 11:35:56,902 ERROR     File \"/opt/cdstoolbox/cdscompute/cdscompute/caching.py\", line 108, in cached\n",
      "2020-12-07 11:35:56,903 ERROR       result = proc(context, *context.args, **context.kwargs)\n",
      "2020-12-07 11:35:56,903 ERROR     File \"/opt/cdstoolbox/cdscompute/cdscompute/services.py\", line 118, in __call__\n",
      "2020-12-07 11:35:56,904 ERROR       return p(*args, **kwargs)\n",
      "2020-12-07 11:35:56,904 ERROR     File \"/opt/cdstoolbox/cdscompute/cdscompute/services.py\", line 59, in __call__\n",
      "2020-12-07 11:35:56,904 ERROR       return self.proc(context, *args, **kwargs)\n",
      "2020-12-07 11:35:56,905 ERROR     File \"/home/cds/cdsservices_contrib/services/comprehensive_upper_air.py\", line 70, in execute\n",
      "2020-12-07 11:35:56,905 ERROR       'something went wrong in the data provider service, check your query and try later {}'.format(res.content)\n",
      "2020-12-07 11:35:56,905 ERROR   AssertionError: something went wrong in the data provider service, check your query and try later b'\"Error: exception \\\\\"\\\\\" occurred while reading /data/public/merged/0-20000-0-11035_CEUAS_merged_v0.nc ({\\'variable\\': [\\'temperature\\'], \\'format\\': \\'nc\\', \\'statid\\': [\\'0-20000-0-11035\\'], \\'date\\': [\\'20100101\\', \\'20100201\\'], \\'time\\': [\\'24\\']})\"'\n",
      "2020-12-07 11:35:56,934 INFO Welcome to the CDS\n",
      "2020-12-07 11:35:56,934 INFO Sending request to https://sis-dev.climate.copernicus.eu/api/v2/resources/insitu-comprehensive-upper-air-observation-network\n",
      "2020-12-07 11:35:57,000 INFO Request is queued\n"
     ]
    },
    {
     "name": "stdout",
     "output_type": "stream",
     "text": [
      "an internal error occurred processing your request. something went wrong in the data provider service, check your query and try later b'\"Error: exception \\\\\"\\\\\" occurred while reading /data/public/merged/0-20000-0-11035_CEUAS_merged_v0.nc ({\\'variable\\': [\\'temperature\\'], \\'format\\': \\'nc\\', \\'statid\\': [\\'0-20000-0-11035\\'], \\'date\\': [\\'20100101\\', \\'20100201\\'], \\'time\\': [\\'24\\']})\"'.\n",
      "time - testing:  25\n"
     ]
    },
    {
     "name": "stderr",
     "output_type": "stream",
     "text": [
      "2020-12-07 11:35:58,034 INFO Request is failed\n",
      "2020-12-07 11:35:58,034 ERROR Message: an internal error occurred processing your request\n",
      "2020-12-07 11:35:58,034 ERROR Reason:  something went wrong in the data provider service, check your query and try later b'\"invalid selection, time allows only integer, 25\"'\n",
      "2020-12-07 11:35:58,034 ERROR   Traceback (most recent call last):\n",
      "2020-12-07 11:35:58,035 ERROR     File \"/opt/cdstoolbox/cdscompute/cdscompute/cdshandlers/services/handler.py\", line 49, in handle_request\n",
      "2020-12-07 11:35:58,035 ERROR       result = cached(context.method, proc, context, context.args, context.kwargs)\n",
      "2020-12-07 11:35:58,035 ERROR     File \"/opt/cdstoolbox/cdscompute/cdscompute/caching.py\", line 108, in cached\n",
      "2020-12-07 11:35:58,036 ERROR       result = proc(context, *context.args, **context.kwargs)\n",
      "2020-12-07 11:35:58,036 ERROR     File \"/opt/cdstoolbox/cdscompute/cdscompute/services.py\", line 118, in __call__\n",
      "2020-12-07 11:35:58,037 ERROR       return p(*args, **kwargs)\n",
      "2020-12-07 11:35:58,037 ERROR     File \"/opt/cdstoolbox/cdscompute/cdscompute/services.py\", line 59, in __call__\n",
      "2020-12-07 11:35:58,037 ERROR       return self.proc(context, *args, **kwargs)\n",
      "2020-12-07 11:35:58,037 ERROR     File \"/home/cds/cdsservices_contrib/services/comprehensive_upper_air.py\", line 70, in execute\n",
      "2020-12-07 11:35:58,038 ERROR       'something went wrong in the data provider service, check your query and try later {}'.format(res.content)\n",
      "2020-12-07 11:35:58,038 ERROR   AssertionError: something went wrong in the data provider service, check your query and try later b'\"invalid selection, time allows only integer, 25\"'\n",
      "2020-12-07 11:35:58,066 INFO Welcome to the CDS\n",
      "2020-12-07 11:35:58,067 INFO Sending request to https://sis-dev.climate.copernicus.eu/api/v2/resources/insitu-comprehensive-upper-air-observation-network\n",
      "2020-12-07 11:35:58,125 INFO Request is queued\n"
     ]
    },
    {
     "name": "stdout",
     "output_type": "stream",
     "text": [
      "an internal error occurred processing your request. something went wrong in the data provider service, check your query and try later b'\"invalid selection, time allows only integer, 25\"'.\n",
      "time - testing:  12.5\n"
     ]
    },
    {
     "name": "stderr",
     "output_type": "stream",
     "text": [
      "2020-12-07 11:35:59,158 INFO Request is failed\n",
      "2020-12-07 11:35:59,158 ERROR Message: an internal error occurred processing your request\n",
      "2020-12-07 11:35:59,159 ERROR Reason:  something went wrong in the data provider service, check your query and try later b'\"invalid selection, time allows only integer, 12.5\"'\n",
      "2020-12-07 11:35:59,159 ERROR   Traceback (most recent call last):\n",
      "2020-12-07 11:35:59,159 ERROR     File \"/opt/cdstoolbox/cdscompute/cdscompute/cdshandlers/services/handler.py\", line 49, in handle_request\n",
      "2020-12-07 11:35:59,159 ERROR       result = cached(context.method, proc, context, context.args, context.kwargs)\n",
      "2020-12-07 11:35:59,160 ERROR     File \"/opt/cdstoolbox/cdscompute/cdscompute/caching.py\", line 108, in cached\n",
      "2020-12-07 11:35:59,160 ERROR       result = proc(context, *context.args, **context.kwargs)\n",
      "2020-12-07 11:35:59,160 ERROR     File \"/opt/cdstoolbox/cdscompute/cdscompute/services.py\", line 118, in __call__\n",
      "2020-12-07 11:35:59,160 ERROR       return p(*args, **kwargs)\n",
      "2020-12-07 11:35:59,161 ERROR     File \"/opt/cdstoolbox/cdscompute/cdscompute/services.py\", line 59, in __call__\n",
      "2020-12-07 11:35:59,161 ERROR       return self.proc(context, *args, **kwargs)\n",
      "2020-12-07 11:35:59,162 ERROR     File \"/home/cds/cdsservices_contrib/services/comprehensive_upper_air.py\", line 70, in execute\n",
      "2020-12-07 11:35:59,162 ERROR       'something went wrong in the data provider service, check your query and try later {}'.format(res.content)\n",
      "2020-12-07 11:35:59,163 ERROR   AssertionError: something went wrong in the data provider service, check your query and try later b'\"invalid selection, time allows only integer, 12.5\"'\n",
      "2020-12-07 11:35:59,191 INFO Welcome to the CDS\n",
      "2020-12-07 11:35:59,191 INFO Sending request to https://sis-dev.climate.copernicus.eu/api/v2/resources/insitu-comprehensive-upper-air-observation-network\n",
      "2020-12-07 11:35:59,252 INFO Request is queued\n"
     ]
    },
    {
     "name": "stdout",
     "output_type": "stream",
     "text": [
      "an internal error occurred processing your request. something went wrong in the data provider service, check your query and try later b'\"invalid selection, time allows only integer, 12.5\"'.\n",
      "time - testing: finished\n",
      "format - testing:  None\n"
     ]
    },
    {
     "name": "stderr",
     "output_type": "stream",
     "text": [
      "2020-12-07 11:36:00,284 INFO Request is completed\n",
      "2020-12-07 11:36:00,285 INFO Downloading http://136.156.132.176/cache-compute-0002/cache/data1/adaptor.comprehensive_upper_air.retrieve-1607337359.3983846-27713-11-d1cc4afd-6672-407b-bef0-dfec352452a1.zip to download.zip (67.9K)\n",
      "2020-12-07 11:36:00,368 INFO Download rate 823.1K/s\n",
      "2020-12-07 11:36:00,429 INFO Welcome to the CDS\n",
      "2020-12-07 11:36:00,429 INFO Sending request to https://sis-dev.climate.copernicus.eu/api/v2/resources/insitu-comprehensive-upper-air-observation-network\n",
      "2020-12-07 11:36:00,487 INFO Request is queued\n"
     ]
    },
    {
     "name": "stdout",
     "output_type": "stream",
     "text": [
      "format - testing:  csv\n"
     ]
    },
    {
     "name": "stderr",
     "output_type": "stream",
     "text": [
      "2020-12-07 11:36:01,520 INFO Request is completed\n",
      "2020-12-07 11:36:01,520 INFO Downloading http://136.156.132.176/cache-compute-0002/cache/data1/adaptor.comprehensive_upper_air.retrieve-1607337360.7128522-27751-11-0bff902b-eeba-4623-a15e-3561e743c3dd.zip to download.zip (29.1K)\n",
      "2020-12-07 11:36:01,579 INFO Download rate 496.9K/s\n",
      "2020-12-07 11:36:01,643 INFO Welcome to the CDS\n",
      "2020-12-07 11:36:01,643 INFO Sending request to https://sis-dev.climate.copernicus.eu/api/v2/resources/insitu-comprehensive-upper-air-observation-network\n",
      "2020-12-07 11:36:01,710 INFO Request is queued\n"
     ]
    },
    {
     "name": "stdout",
     "output_type": "stream",
     "text": [
      "format - testing:  nc\n"
     ]
    },
    {
     "name": "stderr",
     "output_type": "stream",
     "text": [
      "2020-12-07 11:36:02,743 INFO Request is completed\n",
      "2020-12-07 11:36:02,743 INFO Downloading http://136.156.132.204/cache-compute-0001/cache/data2/adaptor.comprehensive_upper_air.retrieve-1607337361.8661323-10689-6-284533ff-1863-4b09-9450-834c80d64d6d.zip to download.zip (67.9K)\n",
      "2020-12-07 11:36:02,856 INFO Download rate 604.8K/s\n",
      "2020-12-07 11:36:02,918 INFO Welcome to the CDS\n",
      "2020-12-07 11:36:02,918 INFO Sending request to https://sis-dev.climate.copernicus.eu/api/v2/resources/insitu-comprehensive-upper-air-observation-network\n",
      "2020-12-07 11:36:02,976 INFO Request is queued\n"
     ]
    },
    {
     "name": "stdout",
     "output_type": "stream",
     "text": [
      "format - testing:  netcdf\n"
     ]
    },
    {
     "name": "stderr",
     "output_type": "stream",
     "text": [
      "2020-12-07 11:36:04,009 INFO Request is failed\n",
      "2020-12-07 11:36:04,010 ERROR Message: an internal error occurred processing your request\n",
      "2020-12-07 11:36:04,010 ERROR Reason:  something went wrong in the data provider service, check your query and try later b'\"Invalid format selected [nc, csv]: netcdf\"'\n",
      "2020-12-07 11:36:04,010 ERROR   Traceback (most recent call last):\n",
      "2020-12-07 11:36:04,011 ERROR     File \"/opt/cdstoolbox/cdscompute/cdscompute/cdshandlers/services/handler.py\", line 49, in handle_request\n",
      "2020-12-07 11:36:04,011 ERROR       result = cached(context.method, proc, context, context.args, context.kwargs)\n",
      "2020-12-07 11:36:04,011 ERROR     File \"/opt/cdstoolbox/cdscompute/cdscompute/caching.py\", line 108, in cached\n",
      "2020-12-07 11:36:04,011 ERROR       result = proc(context, *context.args, **context.kwargs)\n",
      "2020-12-07 11:36:04,012 ERROR     File \"/opt/cdstoolbox/cdscompute/cdscompute/services.py\", line 118, in __call__\n",
      "2020-12-07 11:36:04,012 ERROR       return p(*args, **kwargs)\n",
      "2020-12-07 11:36:04,012 ERROR     File \"/opt/cdstoolbox/cdscompute/cdscompute/services.py\", line 59, in __call__\n",
      "2020-12-07 11:36:04,012 ERROR       return self.proc(context, *args, **kwargs)\n",
      "2020-12-07 11:36:04,013 ERROR     File \"/home/cds/cdsservices_contrib/services/comprehensive_upper_air.py\", line 70, in execute\n",
      "2020-12-07 11:36:04,013 ERROR       'something went wrong in the data provider service, check your query and try later {}'.format(res.content)\n",
      "2020-12-07 11:36:04,013 ERROR   AssertionError: something went wrong in the data provider service, check your query and try later b'\"Invalid format selected [nc, csv]: netcdf\"'\n",
      "2020-12-07 11:36:04,042 INFO Welcome to the CDS\n",
      "2020-12-07 11:36:04,043 INFO Sending request to https://sis-dev.climate.copernicus.eu/api/v2/resources/insitu-comprehensive-upper-air-observation-network\n",
      "2020-12-07 11:36:04,109 INFO Request is queued\n"
     ]
    },
    {
     "name": "stdout",
     "output_type": "stream",
     "text": [
      "an internal error occurred processing your request. something went wrong in the data provider service, check your query and try later b'\"Invalid format selected [nc, csv]: netcdf\"'.\n",
      "format - testing:  csb\n"
     ]
    },
    {
     "name": "stderr",
     "output_type": "stream",
     "text": [
      "2020-12-07 11:36:05,142 INFO Request is failed\n",
      "2020-12-07 11:36:05,143 ERROR Message: an internal error occurred processing your request\n",
      "2020-12-07 11:36:05,143 ERROR Reason:  something went wrong in the data provider service, check your query and try later b'\"Invalid format selected [nc, csv]: csb\"'\n",
      "2020-12-07 11:36:05,143 ERROR   Traceback (most recent call last):\n",
      "2020-12-07 11:36:05,144 ERROR     File \"/opt/cdstoolbox/cdscompute/cdscompute/cdshandlers/services/handler.py\", line 49, in handle_request\n",
      "2020-12-07 11:36:05,144 ERROR       result = cached(context.method, proc, context, context.args, context.kwargs)\n",
      "2020-12-07 11:36:05,144 ERROR     File \"/opt/cdstoolbox/cdscompute/cdscompute/caching.py\", line 108, in cached\n",
      "2020-12-07 11:36:05,144 ERROR       result = proc(context, *context.args, **context.kwargs)\n",
      "2020-12-07 11:36:05,145 ERROR     File \"/opt/cdstoolbox/cdscompute/cdscompute/services.py\", line 118, in __call__\n",
      "2020-12-07 11:36:05,145 ERROR       return p(*args, **kwargs)\n",
      "2020-12-07 11:36:05,145 ERROR     File \"/opt/cdstoolbox/cdscompute/cdscompute/services.py\", line 59, in __call__\n",
      "2020-12-07 11:36:05,145 ERROR       return self.proc(context, *args, **kwargs)\n",
      "2020-12-07 11:36:05,146 ERROR     File \"/home/cds/cdsservices_contrib/services/comprehensive_upper_air.py\", line 70, in execute\n",
      "2020-12-07 11:36:05,146 ERROR       'something went wrong in the data provider service, check your query and try later {}'.format(res.content)\n",
      "2020-12-07 11:36:05,146 ERROR   AssertionError: something went wrong in the data provider service, check your query and try later b'\"Invalid format selected [nc, csv]: csb\"'\n",
      "2020-12-07 11:36:05,175 INFO Welcome to the CDS\n",
      "2020-12-07 11:36:05,176 INFO Sending request to https://sis-dev.climate.copernicus.eu/api/v2/resources/insitu-comprehensive-upper-air-observation-network\n",
      "2020-12-07 11:36:05,234 INFO Request is queued\n"
     ]
    },
    {
     "name": "stdout",
     "output_type": "stream",
     "text": [
      "an internal error occurred processing your request. something went wrong in the data provider service, check your query and try later b'\"Invalid format selected [nc, csv]: csb\"'.\n",
      "format - testing:  txt\n"
     ]
    },
    {
     "name": "stderr",
     "output_type": "stream",
     "text": [
      "2020-12-07 11:36:06,267 INFO Request is failed\n",
      "2020-12-07 11:36:06,268 ERROR Message: an internal error occurred processing your request\n",
      "2020-12-07 11:36:06,268 ERROR Reason:  something went wrong in the data provider service, check your query and try later b'\"Invalid format selected [nc, csv]: txt\"'\n",
      "2020-12-07 11:36:06,268 ERROR   Traceback (most recent call last):\n",
      "2020-12-07 11:36:06,269 ERROR     File \"/opt/cdstoolbox/cdscompute/cdscompute/cdshandlers/services/handler.py\", line 49, in handle_request\n",
      "2020-12-07 11:36:06,269 ERROR       result = cached(context.method, proc, context, context.args, context.kwargs)\n",
      "2020-12-07 11:36:06,269 ERROR     File \"/opt/cdstoolbox/cdscompute/cdscompute/caching.py\", line 108, in cached\n",
      "2020-12-07 11:36:06,269 ERROR       result = proc(context, *context.args, **context.kwargs)\n",
      "2020-12-07 11:36:06,270 ERROR     File \"/opt/cdstoolbox/cdscompute/cdscompute/services.py\", line 118, in __call__\n",
      "2020-12-07 11:36:06,270 ERROR       return p(*args, **kwargs)\n",
      "2020-12-07 11:36:06,270 ERROR     File \"/opt/cdstoolbox/cdscompute/cdscompute/services.py\", line 59, in __call__\n",
      "2020-12-07 11:36:06,270 ERROR       return self.proc(context, *args, **kwargs)\n",
      "2020-12-07 11:36:06,271 ERROR     File \"/home/cds/cdsservices_contrib/services/comprehensive_upper_air.py\", line 70, in execute\n",
      "2020-12-07 11:36:06,271 ERROR       'something went wrong in the data provider service, check your query and try later {}'.format(res.content)\n",
      "2020-12-07 11:36:06,271 ERROR   AssertionError: something went wrong in the data provider service, check your query and try later b'\"Invalid format selected [nc, csv]: txt\"'\n",
      "2020-12-07 11:36:06,300 INFO Welcome to the CDS\n",
      "2020-12-07 11:36:06,301 INFO Sending request to https://sis-dev.climate.copernicus.eu/api/v2/resources/insitu-comprehensive-upper-air-observation-network\n",
      "2020-12-07 11:36:06,362 INFO Request is queued\n"
     ]
    },
    {
     "name": "stdout",
     "output_type": "stream",
     "text": [
      "an internal error occurred processing your request. something went wrong in the data provider service, check your query and try later b'\"Invalid format selected [nc, csv]: txt\"'.\n",
      "format - testing: finished\n",
      "y - testing:  None\n"
     ]
    },
    {
     "name": "stderr",
     "output_type": "stream",
     "text": [
      "2020-12-07 11:36:07,395 INFO Request is running\n",
      "2020-12-07 11:36:08,929 INFO Request is completed\n",
      "2020-12-07 11:36:08,929 INFO Downloading http://136.156.132.204/cache-compute-0001/cache/data1/adaptor.comprehensive_upper_air.retrieve-1607337368.6424227-11014-6-72477a43-2f20-4885-98a7-8be1221d4b4b.zip to download.zip (40M)\n",
      "2020-12-07 11:36:09,983 INFO Download rate 38M/s    \n",
      "2020-12-07 11:36:10,047 INFO Welcome to the CDS\n",
      "2020-12-07 11:36:10,048 INFO Sending request to https://sis-dev.climate.copernicus.eu/api/v2/resources/insitu-comprehensive-upper-air-observation-network\n",
      "2020-12-07 11:36:10,113 INFO Request is queued\n"
     ]
    },
    {
     "name": "stdout",
     "output_type": "stream",
     "text": [
      "y - testing:  2000\n"
     ]
    },
    {
     "name": "stderr",
     "output_type": "stream",
     "text": [
      "2020-12-07 11:36:11,146 INFO Request is completed\n",
      "2020-12-07 11:36:11,146 INFO Downloading http://136.156.132.204/cache-compute-0001/cache/data1/adaptor.comprehensive_upper_air.retrieve-1607337370.2724857-10841-4-af87bc7c-4966-41f7-9ac7-87d8ec76866b.zip to download.zip (23.6K)\n",
      "2020-12-07 11:36:11,178 INFO Download rate 754.5K/s\n",
      "2020-12-07 11:36:11,239 INFO Welcome to the CDS\n",
      "2020-12-07 11:36:11,240 INFO Sending request to https://sis-dev.climate.copernicus.eu/api/v2/resources/insitu-comprehensive-upper-air-observation-network\n",
      "2020-12-07 11:36:11,299 INFO Request is queued\n"
     ]
    },
    {
     "name": "stdout",
     "output_type": "stream",
     "text": [
      "y - testing:  2000\n"
     ]
    },
    {
     "name": "stderr",
     "output_type": "stream",
     "text": [
      "2020-12-07 11:36:12,332 INFO Request is completed\n",
      "2020-12-07 11:36:12,332 INFO Downloading http://136.156.132.204/cache-compute-0001/cache/data1/adaptor.comprehensive_upper_air.retrieve-1607337371.440837-11060-5-f0a0d66f-64a6-4cf4-8a58-5b8e6838e440.zip to download.zip (23.6K)\n",
      "2020-12-07 11:36:12,390 INFO Download rate 408.9K/s\n",
      "2020-12-07 11:36:12,452 INFO Welcome to the CDS\n",
      "2020-12-07 11:36:12,452 INFO Sending request to https://sis-dev.climate.copernicus.eu/api/v2/resources/insitu-comprehensive-upper-air-observation-network\n",
      "2020-12-07 11:36:12,514 INFO Request is queued\n"
     ]
    },
    {
     "name": "stdout",
     "output_type": "stream",
     "text": [
      "y - testing:  ['2000', '2001']\n"
     ]
    },
    {
     "name": "stderr",
     "output_type": "stream",
     "text": [
      "2020-12-07 11:36:13,634 INFO Request is completed\n",
      "2020-12-07 11:36:13,635 INFO Downloading http://136.156.132.204/cache-compute-0001/cache/data2/adaptor.comprehensive_upper_air.retrieve-1607337372.6915293-10973-5-0553ae8a-61a9-49b0-9117-a045e798341b.zip to download.zip (596.5K)\n",
      "2020-12-07 11:36:13,799 INFO Download rate 3.5M/s \n",
      "2020-12-07 11:36:13,862 INFO Welcome to the CDS\n",
      "2020-12-07 11:36:13,863 INFO Sending request to https://sis-dev.climate.copernicus.eu/api/v2/resources/insitu-comprehensive-upper-air-observation-network\n",
      "2020-12-07 11:36:13,922 INFO Request is queued\n"
     ]
    },
    {
     "name": "stdout",
     "output_type": "stream",
     "text": [
      "y - testing:  [2000, 2001]\n"
     ]
    },
    {
     "name": "stderr",
     "output_type": "stream",
     "text": [
      "2020-12-07 11:36:14,956 INFO Request is completed\n",
      "2020-12-07 11:36:14,956 INFO Downloading http://136.156.132.204/cache-compute-0001/cache/data1/adaptor.comprehensive_upper_air.retrieve-1607337374.1181989-10912-5-06624055-f808-4e9c-9a3b-76d386b9e255.zip to download.zip (596.5K)\n",
      "2020-12-07 11:36:15,122 INFO Download rate 3.5M/s \n",
      "2020-12-07 11:36:15,186 INFO Welcome to the CDS\n",
      "2020-12-07 11:36:15,186 INFO Sending request to https://sis-dev.climate.copernicus.eu/api/v2/resources/insitu-comprehensive-upper-air-observation-network\n",
      "2020-12-07 11:36:15,252 INFO Request is queued\n"
     ]
    },
    {
     "name": "stdout",
     "output_type": "stream",
     "text": [
      "y - testing:  0\n"
     ]
    },
    {
     "name": "stderr",
     "output_type": "stream",
     "text": [
      "2020-12-07 11:36:16,286 INFO Request is failed\n",
      "2020-12-07 11:36:16,286 ERROR Message: an internal error occurred processing your request\n",
      "2020-12-07 11:36:16,287 ERROR Reason:  something went wrong in the data provider service, check your query and try later b'\"only valid dates allowed for date: 00000101\"'\n",
      "2020-12-07 11:36:16,287 ERROR   Traceback (most recent call last):\n",
      "2020-12-07 11:36:16,287 ERROR     File \"/opt/cdstoolbox/cdscompute/cdscompute/cdshandlers/services/handler.py\", line 49, in handle_request\n",
      "2020-12-07 11:36:16,287 ERROR       result = cached(context.method, proc, context, context.args, context.kwargs)\n",
      "2020-12-07 11:36:16,288 ERROR     File \"/opt/cdstoolbox/cdscompute/cdscompute/caching.py\", line 108, in cached\n",
      "2020-12-07 11:36:16,288 ERROR       result = proc(context, *context.args, **context.kwargs)\n",
      "2020-12-07 11:36:16,288 ERROR     File \"/opt/cdstoolbox/cdscompute/cdscompute/services.py\", line 118, in __call__\n",
      "2020-12-07 11:36:16,288 ERROR       return p(*args, **kwargs)\n",
      "2020-12-07 11:36:16,289 ERROR     File \"/opt/cdstoolbox/cdscompute/cdscompute/services.py\", line 59, in __call__\n",
      "2020-12-07 11:36:16,289 ERROR       return self.proc(context, *args, **kwargs)\n",
      "2020-12-07 11:36:16,289 ERROR     File \"/home/cds/cdsservices_contrib/services/comprehensive_upper_air.py\", line 70, in execute\n",
      "2020-12-07 11:36:16,289 ERROR       'something went wrong in the data provider service, check your query and try later {}'.format(res.content)\n",
      "2020-12-07 11:36:16,291 ERROR   AssertionError: something went wrong in the data provider service, check your query and try later b'\"only valid dates allowed for date: 00000101\"'\n",
      "2020-12-07 11:36:16,319 INFO Welcome to the CDS\n",
      "2020-12-07 11:36:16,319 INFO Sending request to https://sis-dev.climate.copernicus.eu/api/v2/resources/insitu-comprehensive-upper-air-observation-network\n",
      "2020-12-07 11:36:16,385 INFO Request is queued\n"
     ]
    },
    {
     "name": "stdout",
     "output_type": "stream",
     "text": [
      "an internal error occurred processing your request. something went wrong in the data provider service, check your query and try later b'\"only valid dates allowed for date: 00000101\"'.\n",
      "y - testing:  20000\n"
     ]
    },
    {
     "name": "stderr",
     "output_type": "stream",
     "text": [
      "2020-12-07 11:36:17,418 INFO Request is failed\n",
      "2020-12-07 11:36:17,419 ERROR Message: an internal error occurred processing your request\n",
      "2020-12-07 11:36:17,419 ERROR Reason:  something went wrong in the data provider service, check your query and try later b'\"only valid dates allowed for date: 200000101\"'\n",
      "2020-12-07 11:36:17,419 ERROR   Traceback (most recent call last):\n",
      "2020-12-07 11:36:17,419 ERROR     File \"/opt/cdstoolbox/cdscompute/cdscompute/cdshandlers/services/handler.py\", line 49, in handle_request\n",
      "2020-12-07 11:36:17,420 ERROR       result = cached(context.method, proc, context, context.args, context.kwargs)\n",
      "2020-12-07 11:36:17,420 ERROR     File \"/opt/cdstoolbox/cdscompute/cdscompute/caching.py\", line 108, in cached\n",
      "2020-12-07 11:36:17,420 ERROR       result = proc(context, *context.args, **context.kwargs)\n",
      "2020-12-07 11:36:17,421 ERROR     File \"/opt/cdstoolbox/cdscompute/cdscompute/services.py\", line 118, in __call__\n",
      "2020-12-07 11:36:17,421 ERROR       return p(*args, **kwargs)\n",
      "2020-12-07 11:36:17,422 ERROR     File \"/opt/cdstoolbox/cdscompute/cdscompute/services.py\", line 59, in __call__\n",
      "2020-12-07 11:36:17,422 ERROR       return self.proc(context, *args, **kwargs)\n",
      "2020-12-07 11:36:17,422 ERROR     File \"/home/cds/cdsservices_contrib/services/comprehensive_upper_air.py\", line 70, in execute\n",
      "2020-12-07 11:36:17,422 ERROR       'something went wrong in the data provider service, check your query and try later {}'.format(res.content)\n",
      "2020-12-07 11:36:17,423 ERROR   AssertionError: something went wrong in the data provider service, check your query and try later b'\"only valid dates allowed for date: 200000101\"'\n",
      "2020-12-07 11:36:17,451 INFO Welcome to the CDS\n",
      "2020-12-07 11:36:17,451 INFO Sending request to https://sis-dev.climate.copernicus.eu/api/v2/resources/insitu-comprehensive-upper-air-observation-network\n",
      "2020-12-07 11:36:17,515 INFO Request is queued\n"
     ]
    },
    {
     "name": "stdout",
     "output_type": "stream",
     "text": [
      "an internal error occurred processing your request. something went wrong in the data provider service, check your query and try later b'\"only valid dates allowed for date: 200000101\"'.\n",
      "y - testing:  -2000\n"
     ]
    },
    {
     "name": "stderr",
     "output_type": "stream",
     "text": [
      "2020-12-07 11:36:18,548 INFO Request is failed\n",
      "2020-12-07 11:36:18,548 ERROR Message: an internal error occurred processing your request\n",
      "2020-12-07 11:36:18,549 ERROR Reason:  something went wrong in the data provider service, check your query and try later b'\"\\'str\\' object has no attribute \\'strftime\\'\"'\n",
      "2020-12-07 11:36:18,549 ERROR   Traceback (most recent call last):\n",
      "2020-12-07 11:36:18,549 ERROR     File \"/opt/cdstoolbox/cdscompute/cdscompute/cdshandlers/services/handler.py\", line 49, in handle_request\n",
      "2020-12-07 11:36:18,550 ERROR       result = cached(context.method, proc, context, context.args, context.kwargs)\n",
      "2020-12-07 11:36:18,550 ERROR     File \"/opt/cdstoolbox/cdscompute/cdscompute/caching.py\", line 108, in cached\n",
      "2020-12-07 11:36:18,550 ERROR       result = proc(context, *context.args, **context.kwargs)\n",
      "2020-12-07 11:36:18,550 ERROR     File \"/opt/cdstoolbox/cdscompute/cdscompute/services.py\", line 118, in __call__\n",
      "2020-12-07 11:36:18,551 ERROR       return p(*args, **kwargs)\n",
      "2020-12-07 11:36:18,551 ERROR     File \"/opt/cdstoolbox/cdscompute/cdscompute/services.py\", line 59, in __call__\n",
      "2020-12-07 11:36:18,551 ERROR       return self.proc(context, *args, **kwargs)\n",
      "2020-12-07 11:36:18,551 ERROR     File \"/home/cds/cdsservices_contrib/services/comprehensive_upper_air.py\", line 70, in execute\n",
      "2020-12-07 11:36:18,552 ERROR       'something went wrong in the data provider service, check your query and try later {}'.format(res.content)\n",
      "2020-12-07 11:36:18,552 ERROR   AssertionError: something went wrong in the data provider service, check your query and try later b'\"\\'str\\' object has no attribute \\'strftime\\'\"'\n",
      "2020-12-07 11:36:18,581 INFO Welcome to the CDS\n",
      "2020-12-07 11:36:18,582 INFO Sending request to https://sis-dev.climate.copernicus.eu/api/v2/resources/insitu-comprehensive-upper-air-observation-network\n",
      "2020-12-07 11:36:18,642 INFO Request is queued\n"
     ]
    },
    {
     "name": "stdout",
     "output_type": "stream",
     "text": [
      "an internal error occurred processing your request. something went wrong in the data provider service, check your query and try later b'\"\\'str\\' object has no attribute \\'strftime\\'\"'.\n",
      "m - testing:  None\n"
     ]
    },
    {
     "name": "stderr",
     "output_type": "stream",
     "text": [
      "2020-12-07 11:36:19,675 INFO Request is completed\n",
      "2020-12-07 11:36:19,676 INFO Downloading http://136.156.132.204/cache-compute-0001/cache/data1/adaptor.comprehensive_upper_air.retrieve-1607337378.8131475-11271-6-b1a20aec-6f8f-45e5-bb13-28ded29f7ba8.zip to download.zip (547.1K)\n",
      "2020-12-07 11:36:19,841 INFO Download rate 3.2M/s \n",
      "2020-12-07 11:36:19,904 INFO Welcome to the CDS\n",
      "2020-12-07 11:36:19,905 INFO Sending request to https://sis-dev.climate.copernicus.eu/api/v2/resources/insitu-comprehensive-upper-air-observation-network\n",
      "2020-12-07 11:36:19,984 INFO Request is queued\n"
     ]
    },
    {
     "name": "stdout",
     "output_type": "stream",
     "text": [
      "m - testing:  1\n"
     ]
    },
    {
     "name": "stderr",
     "output_type": "stream",
     "text": [
      "2020-12-07 11:36:21,017 INFO Request is completed\n",
      "2020-12-07 11:36:21,017 INFO Downloading http://136.156.132.204/cache-compute-0001/cache/data2/adaptor.comprehensive_upper_air.retrieve-1607337380.1461143-11143-6-635bd5c0-c3a7-4304-8f2a-ad81bc282938.zip to download.zip (23.6K)\n",
      "2020-12-07 11:36:21,075 INFO Download rate 411.1K/s\n",
      "2020-12-07 11:36:21,138 INFO Welcome to the CDS\n",
      "2020-12-07 11:36:21,138 INFO Sending request to https://sis-dev.climate.copernicus.eu/api/v2/resources/insitu-comprehensive-upper-air-observation-network\n",
      "2020-12-07 11:36:21,197 INFO Request is queued\n"
     ]
    },
    {
     "name": "stdout",
     "output_type": "stream",
     "text": [
      "m - testing:  1\n"
     ]
    },
    {
     "name": "stderr",
     "output_type": "stream",
     "text": [
      "2020-12-07 11:36:22,230 INFO Request is completed\n",
      "2020-12-07 11:36:22,230 INFO Downloading http://136.156.132.204/cache-compute-0001/cache/data2/adaptor.comprehensive_upper_air.retrieve-1607337381.3372273-11359-6-28092032-31a7-404e-be7e-100889341902.zip to download.zip (23.6K)\n",
      "2020-12-07 11:36:22,288 INFO Download rate 410.1K/s\n",
      "2020-12-07 11:36:22,359 INFO Welcome to the CDS\n",
      "2020-12-07 11:36:22,360 INFO Sending request to https://sis-dev.climate.copernicus.eu/api/v2/resources/insitu-comprehensive-upper-air-observation-network\n"
     ]
    },
    {
     "name": "stdout",
     "output_type": "stream",
     "text": [
      "m - testing:  01\n"
     ]
    },
    {
     "name": "stderr",
     "output_type": "stream",
     "text": [
      "2020-12-07 11:36:22,719 INFO Request is completed\n",
      "2020-12-07 11:36:22,719 INFO Downloading http://136.156.132.204/cache-compute-0001/cache/data1/adaptor.comprehensive_upper_air.retrieve-1607337371.440837-11060-5-f0a0d66f-64a6-4cf4-8a58-5b8e6838e440.zip to download.zip (23.6K)\n",
      "2020-12-07 11:36:22,777 INFO Download rate 410.8K/s\n",
      "2020-12-07 11:36:22,841 INFO Welcome to the CDS\n",
      "2020-12-07 11:36:22,841 INFO Sending request to https://sis-dev.climate.copernicus.eu/api/v2/resources/insitu-comprehensive-upper-air-observation-network\n",
      "2020-12-07 11:36:22,904 INFO Request is queued\n"
     ]
    },
    {
     "name": "stdout",
     "output_type": "stream",
     "text": [
      "m - testing:  ['01', '02']\n"
     ]
    },
    {
     "name": "stderr",
     "output_type": "stream",
     "text": [
      "2020-12-07 11:36:23,937 INFO Request is completed\n",
      "2020-12-07 11:36:23,938 INFO Downloading http://136.156.132.204/cache-compute-0001/cache/data1/adaptor.comprehensive_upper_air.retrieve-1607337383.0477517-11211-5-e25b50e5-736a-4fd1-9d65-06a62cf0f589.zip to download.zip (110.7K)\n",
      "2020-12-07 11:36:24,049 INFO Download rate 993.2K/s\n",
      "2020-12-07 11:36:24,113 INFO Welcome to the CDS\n",
      "2020-12-07 11:36:24,113 INFO Sending request to https://sis-dev.climate.copernicus.eu/api/v2/resources/insitu-comprehensive-upper-air-observation-network\n",
      "2020-12-07 11:36:24,175 INFO Request is queued\n"
     ]
    },
    {
     "name": "stdout",
     "output_type": "stream",
     "text": [
      "m - testing:  ['1', '2']\n"
     ]
    },
    {
     "name": "stderr",
     "output_type": "stream",
     "text": [
      "2020-12-07 11:36:25,208 INFO Request is completed\n",
      "2020-12-07 11:36:25,209 INFO Downloading http://136.156.132.204/cache-compute-0001/cache/data1/adaptor.comprehensive_upper_air.retrieve-1607337384.3279095-11443-6-1a920885-9f3b-45c7-a139-b3296485f61d.zip to download.zip (110.7K)\n",
      "2020-12-07 11:36:25,322 INFO Download rate 982.7K/s\n",
      "2020-12-07 11:36:25,386 INFO Welcome to the CDS\n",
      "2020-12-07 11:36:25,387 INFO Sending request to https://sis-dev.climate.copernicus.eu/api/v2/resources/insitu-comprehensive-upper-air-observation-network\n",
      "2020-12-07 11:36:25,448 INFO Request is queued\n"
     ]
    },
    {
     "name": "stdout",
     "output_type": "stream",
     "text": [
      "m - testing:  [1, 2]\n"
     ]
    },
    {
     "name": "stderr",
     "output_type": "stream",
     "text": [
      "2020-12-07 11:36:26,483 INFO Request is completed\n",
      "2020-12-07 11:36:26,483 INFO Downloading http://136.156.132.204/cache-compute-0001/cache/data2/adaptor.comprehensive_upper_air.retrieve-1607337385.591376-11326-5-01c264e0-3dfe-4108-ab9e-c13f1fe572e0.zip to download.zip (110.7K)\n",
      "2020-12-07 11:36:26,594 INFO Download rate 1002.5K/s\n",
      "2020-12-07 11:36:26,657 INFO Welcome to the CDS\n",
      "2020-12-07 11:36:26,658 INFO Sending request to https://sis-dev.climate.copernicus.eu/api/v2/resources/insitu-comprehensive-upper-air-observation-network\n",
      "2020-12-07 11:36:26,723 INFO Request is queued\n"
     ]
    },
    {
     "name": "stdout",
     "output_type": "stream",
     "text": [
      "m - testing:  00\n"
     ]
    },
    {
     "name": "stderr",
     "output_type": "stream",
     "text": [
      "2020-12-07 11:36:27,756 INFO Request is failed\n",
      "2020-12-07 11:36:27,756 ERROR Message: an internal error occurred processing your request\n",
      "2020-12-07 11:36:27,756 ERROR Reason:  something went wrong in the data provider service, check your query and try later b'\"only valid dates allowed for date: 20000001\"'\n",
      "2020-12-07 11:36:27,757 ERROR   Traceback (most recent call last):\n",
      "2020-12-07 11:36:27,757 ERROR     File \"/opt/cdstoolbox/cdscompute/cdscompute/cdshandlers/services/handler.py\", line 49, in handle_request\n",
      "2020-12-07 11:36:27,757 ERROR       result = cached(context.method, proc, context, context.args, context.kwargs)\n",
      "2020-12-07 11:36:27,757 ERROR     File \"/opt/cdstoolbox/cdscompute/cdscompute/caching.py\", line 108, in cached\n",
      "2020-12-07 11:36:27,758 ERROR       result = proc(context, *context.args, **context.kwargs)\n",
      "2020-12-07 11:36:27,758 ERROR     File \"/opt/cdstoolbox/cdscompute/cdscompute/services.py\", line 118, in __call__\n",
      "2020-12-07 11:36:27,758 ERROR       return p(*args, **kwargs)\n",
      "2020-12-07 11:36:27,758 ERROR     File \"/opt/cdstoolbox/cdscompute/cdscompute/services.py\", line 59, in __call__\n",
      "2020-12-07 11:36:27,759 ERROR       return self.proc(context, *args, **kwargs)\n",
      "2020-12-07 11:36:27,759 ERROR     File \"/home/cds/cdsservices_contrib/services/comprehensive_upper_air.py\", line 70, in execute\n",
      "2020-12-07 11:36:27,759 ERROR       'something went wrong in the data provider service, check your query and try later {}'.format(res.content)\n",
      "2020-12-07 11:36:27,759 ERROR   AssertionError: something went wrong in the data provider service, check your query and try later b'\"only valid dates allowed for date: 20000001\"'\n",
      "2020-12-07 11:36:27,789 INFO Welcome to the CDS\n",
      "2020-12-07 11:36:27,789 INFO Sending request to https://sis-dev.climate.copernicus.eu/api/v2/resources/insitu-comprehensive-upper-air-observation-network\n",
      "2020-12-07 11:36:27,853 INFO Request is queued\n"
     ]
    },
    {
     "name": "stdout",
     "output_type": "stream",
     "text": [
      "an internal error occurred processing your request. something went wrong in the data provider service, check your query and try later b'\"only valid dates allowed for date: 20000001\"'.\n",
      "m - testing:  0\n"
     ]
    },
    {
     "name": "stderr",
     "output_type": "stream",
     "text": [
      "2020-12-07 11:36:28,886 INFO Request is failed\n",
      "2020-12-07 11:36:28,887 ERROR Message: an internal error occurred processing your request\n",
      "2020-12-07 11:36:28,887 ERROR Reason:  something went wrong in the data provider service, check your query and try later b'\"only valid dates allowed for date: 20000001\"'\n",
      "2020-12-07 11:36:28,887 ERROR   Traceback (most recent call last):\n",
      "2020-12-07 11:36:28,887 ERROR     File \"/opt/cdstoolbox/cdscompute/cdscompute/cdshandlers/services/handler.py\", line 49, in handle_request\n",
      "2020-12-07 11:36:28,888 ERROR       result = cached(context.method, proc, context, context.args, context.kwargs)\n",
      "2020-12-07 11:36:28,888 ERROR     File \"/opt/cdstoolbox/cdscompute/cdscompute/caching.py\", line 108, in cached\n",
      "2020-12-07 11:36:28,888 ERROR       result = proc(context, *context.args, **context.kwargs)\n",
      "2020-12-07 11:36:28,889 ERROR     File \"/opt/cdstoolbox/cdscompute/cdscompute/services.py\", line 118, in __call__\n",
      "2020-12-07 11:36:28,889 ERROR       return p(*args, **kwargs)\n",
      "2020-12-07 11:36:28,889 ERROR     File \"/opt/cdstoolbox/cdscompute/cdscompute/services.py\", line 59, in __call__\n",
      "2020-12-07 11:36:28,889 ERROR       return self.proc(context, *args, **kwargs)\n",
      "2020-12-07 11:36:28,890 ERROR     File \"/home/cds/cdsservices_contrib/services/comprehensive_upper_air.py\", line 70, in execute\n",
      "2020-12-07 11:36:28,890 ERROR       'something went wrong in the data provider service, check your query and try later {}'.format(res.content)\n",
      "2020-12-07 11:36:28,890 ERROR   AssertionError: something went wrong in the data provider service, check your query and try later b'\"only valid dates allowed for date: 20000001\"'\n",
      "2020-12-07 11:36:28,919 INFO Welcome to the CDS\n",
      "2020-12-07 11:36:28,920 INFO Sending request to https://sis-dev.climate.copernicus.eu/api/v2/resources/insitu-comprehensive-upper-air-observation-network\n",
      "2020-12-07 11:36:28,984 INFO Request is queued\n"
     ]
    },
    {
     "name": "stdout",
     "output_type": "stream",
     "text": [
      "an internal error occurred processing your request. something went wrong in the data provider service, check your query and try later b'\"only valid dates allowed for date: 20000001\"'.\n",
      "m - testing:  13\n"
     ]
    },
    {
     "name": "stderr",
     "output_type": "stream",
     "text": [
      "2020-12-07 11:36:30,018 INFO Request is failed\n",
      "2020-12-07 11:36:30,018 ERROR Message: an internal error occurred processing your request\n",
      "2020-12-07 11:36:30,018 ERROR Reason:  something went wrong in the data provider service, check your query and try later b'\"only valid dates allowed for date: 20001301\"'\n",
      "2020-12-07 11:36:30,019 ERROR   Traceback (most recent call last):\n",
      "2020-12-07 11:36:30,019 ERROR     File \"/opt/cdstoolbox/cdscompute/cdscompute/cdshandlers/services/handler.py\", line 49, in handle_request\n",
      "2020-12-07 11:36:30,019 ERROR       result = cached(context.method, proc, context, context.args, context.kwargs)\n",
      "2020-12-07 11:36:30,020 ERROR     File \"/opt/cdstoolbox/cdscompute/cdscompute/caching.py\", line 108, in cached\n",
      "2020-12-07 11:36:30,020 ERROR       result = proc(context, *context.args, **context.kwargs)\n",
      "2020-12-07 11:36:30,020 ERROR     File \"/opt/cdstoolbox/cdscompute/cdscompute/services.py\", line 118, in __call__\n",
      "2020-12-07 11:36:30,021 ERROR       return p(*args, **kwargs)\n",
      "2020-12-07 11:36:30,022 ERROR     File \"/opt/cdstoolbox/cdscompute/cdscompute/services.py\", line 59, in __call__\n",
      "2020-12-07 11:36:30,022 ERROR       return self.proc(context, *args, **kwargs)\n",
      "2020-12-07 11:36:30,022 ERROR     File \"/home/cds/cdsservices_contrib/services/comprehensive_upper_air.py\", line 70, in execute\n",
      "2020-12-07 11:36:30,023 ERROR       'something went wrong in the data provider service, check your query and try later {}'.format(res.content)\n",
      "2020-12-07 11:36:30,023 ERROR   AssertionError: something went wrong in the data provider service, check your query and try later b'\"only valid dates allowed for date: 20001301\"'\n",
      "2020-12-07 11:36:30,052 INFO Welcome to the CDS\n",
      "2020-12-07 11:36:30,052 INFO Sending request to https://sis-dev.climate.copernicus.eu/api/v2/resources/insitu-comprehensive-upper-air-observation-network\n",
      "2020-12-07 11:36:30,139 INFO Request is completed\n",
      "2020-12-07 11:36:30,139 INFO Downloading http://136.156.132.204/cache-compute-0001/cache/data1/adaptor.comprehensive_upper_air.retrieve-1607337371.440837-11060-5-f0a0d66f-64a6-4cf4-8a58-5b8e6838e440.zip to download.zip (23.6K)\n",
      "2020-12-07 11:36:30,196 INFO Download rate 419.7K/s\n"
     ]
    },
    {
     "name": "stdout",
     "output_type": "stream",
     "text": [
      "an internal error occurred processing your request. something went wrong in the data provider service, check your query and try later b'\"only valid dates allowed for date: 20001301\"'.\n",
      "d - testing:  01\n"
     ]
    },
    {
     "name": "stderr",
     "output_type": "stream",
     "text": [
      "2020-12-07 11:36:30,265 INFO Welcome to the CDS\n",
      "2020-12-07 11:36:30,265 INFO Sending request to https://sis-dev.climate.copernicus.eu/api/v2/resources/insitu-comprehensive-upper-air-observation-network\n",
      "2020-12-07 11:36:30,327 INFO Request is queued\n"
     ]
    },
    {
     "name": "stdout",
     "output_type": "stream",
     "text": [
      "d - testing:  31\n"
     ]
    },
    {
     "name": "stderr",
     "output_type": "stream",
     "text": [
      "2020-12-07 11:36:31,361 INFO Request is completed\n",
      "2020-12-07 11:36:31,361 INFO Downloading http://136.156.132.204/cache-compute-0001/cache/data2/adaptor.comprehensive_upper_air.retrieve-1607337390.4702003-11501-5-e73a72d4-c3ac-437a-b91f-5b2a4c55bee7.zip to download.zip (23.6K)\n",
      "2020-12-07 11:36:31,419 INFO Download rate 409.7K/s\n",
      "2020-12-07 11:36:31,483 INFO Welcome to the CDS\n",
      "2020-12-07 11:36:31,484 INFO Sending request to https://sis-dev.climate.copernicus.eu/api/v2/resources/insitu-comprehensive-upper-air-observation-network\n",
      "2020-12-07 11:36:31,543 INFO Request is queued\n"
     ]
    },
    {
     "name": "stdout",
     "output_type": "stream",
     "text": [
      "d - testing:  ['01', '02']\n"
     ]
    },
    {
     "name": "stderr",
     "output_type": "stream",
     "text": [
      "2020-12-07 11:36:32,577 INFO Request is completed\n",
      "2020-12-07 11:36:32,578 INFO Downloading http://136.156.132.204/cache-compute-0001/cache/data1/adaptor.comprehensive_upper_air.retrieve-1607337391.6899722-11583-6-bbd60b8a-c986-4494-8692-3d46f2369f13.zip to download.zip (68.1K)\n",
      "2020-12-07 11:36:32,663 INFO Download rate 806.2K/s\n",
      "2020-12-07 11:36:32,727 INFO Welcome to the CDS\n",
      "2020-12-07 11:36:32,728 INFO Sending request to https://sis-dev.climate.copernicus.eu/api/v2/resources/insitu-comprehensive-upper-air-observation-network\n",
      "2020-12-07 11:36:32,791 INFO Request is queued\n"
     ]
    },
    {
     "name": "stdout",
     "output_type": "stream",
     "text": [
      "d - testing:  ['1', '2']\n"
     ]
    },
    {
     "name": "stderr",
     "output_type": "stream",
     "text": [
      "2020-12-07 11:36:33,825 INFO Request is completed\n",
      "2020-12-07 11:36:33,825 INFO Downloading http://136.156.132.204/cache-compute-0001/cache/data1/adaptor.comprehensive_upper_air.retrieve-1607337392.9320552-11670-5-41f069f0-16da-409b-ba2d-94d399bc9bde.zip to download.zip (68.1K)\n",
      "2020-12-07 11:36:33,910 INFO Download rate 806.1K/s\n",
      "2020-12-07 11:36:33,974 INFO Welcome to the CDS\n",
      "2020-12-07 11:36:33,974 INFO Sending request to https://sis-dev.climate.copernicus.eu/api/v2/resources/insitu-comprehensive-upper-air-observation-network\n",
      "2020-12-07 11:36:34,039 INFO Request is queued\n"
     ]
    },
    {
     "name": "stdout",
     "output_type": "stream",
     "text": [
      "d - testing:  [1, 2]\n"
     ]
    },
    {
     "name": "stderr",
     "output_type": "stream",
     "text": [
      "2020-12-07 11:36:35,073 INFO Request is completed\n",
      "2020-12-07 11:36:35,073 INFO Downloading http://136.156.132.176/cache-compute-0000/cache/data2/adaptor.comprehensive_upper_air.retrieve-1607337394.1910522-10632-7-fc3a6e7d-e889-43ab-a3fb-4679fd442a6f.zip to download.zip (68.1K)\n",
      "2020-12-07 11:36:35,158 INFO Download rate 803.3K/s\n",
      "2020-12-07 11:36:35,222 INFO Welcome to the CDS\n",
      "2020-12-07 11:36:35,223 INFO Sending request to https://sis-dev.climate.copernicus.eu/api/v2/resources/insitu-comprehensive-upper-air-observation-network\n",
      "2020-12-07 11:36:35,296 INFO Request is queued\n"
     ]
    },
    {
     "name": "stdout",
     "output_type": "stream",
     "text": [
      "d - testing:  00\n"
     ]
    },
    {
     "name": "stderr",
     "output_type": "stream",
     "text": [
      "2020-12-07 11:36:36,330 INFO Request is failed\n",
      "2020-12-07 11:36:36,330 ERROR Message: an internal error occurred processing your request\n",
      "2020-12-07 11:36:36,330 ERROR Reason:  something went wrong in the data provider service, check your query and try later b'\"only valid dates allowed for date: 20000100\"'\n",
      "2020-12-07 11:36:36,330 ERROR   Traceback (most recent call last):\n",
      "2020-12-07 11:36:36,331 ERROR     File \"/opt/cdstoolbox/cdscompute/cdscompute/cdshandlers/services/handler.py\", line 49, in handle_request\n",
      "2020-12-07 11:36:36,331 ERROR       result = cached(context.method, proc, context, context.args, context.kwargs)\n",
      "2020-12-07 11:36:36,331 ERROR     File \"/opt/cdstoolbox/cdscompute/cdscompute/caching.py\", line 108, in cached\n",
      "2020-12-07 11:36:36,332 ERROR       result = proc(context, *context.args, **context.kwargs)\n",
      "2020-12-07 11:36:36,332 ERROR     File \"/opt/cdstoolbox/cdscompute/cdscompute/services.py\", line 118, in __call__\n",
      "2020-12-07 11:36:36,332 ERROR       return p(*args, **kwargs)\n",
      "2020-12-07 11:36:36,332 ERROR     File \"/opt/cdstoolbox/cdscompute/cdscompute/services.py\", line 59, in __call__\n",
      "2020-12-07 11:36:36,333 ERROR       return self.proc(context, *args, **kwargs)\n",
      "2020-12-07 11:36:36,333 ERROR     File \"/home/cds/cdsservices_contrib/services/comprehensive_upper_air.py\", line 70, in execute\n",
      "2020-12-07 11:36:36,333 ERROR       'something went wrong in the data provider service, check your query and try later {}'.format(res.content)\n",
      "2020-12-07 11:36:36,333 ERROR   AssertionError: something went wrong in the data provider service, check your query and try later b'\"only valid dates allowed for date: 20000100\"'\n",
      "2020-12-07 11:36:36,363 INFO Welcome to the CDS\n",
      "2020-12-07 11:36:36,363 INFO Sending request to https://sis-dev.climate.copernicus.eu/api/v2/resources/insitu-comprehensive-upper-air-observation-network\n",
      "2020-12-07 11:36:36,424 INFO Request is queued\n"
     ]
    },
    {
     "name": "stdout",
     "output_type": "stream",
     "text": [
      "an internal error occurred processing your request. something went wrong in the data provider service, check your query and try later b'\"only valid dates allowed for date: 20000100\"'.\n",
      "d - testing:  0\n"
     ]
    },
    {
     "name": "stderr",
     "output_type": "stream",
     "text": [
      "2020-12-07 11:36:37,457 INFO Request is failed\n",
      "2020-12-07 11:36:37,457 ERROR Message: an internal error occurred processing your request\n",
      "2020-12-07 11:36:37,457 ERROR Reason:  something went wrong in the data provider service, check your query and try later b'\"only valid dates allowed for date: 20000100\"'\n",
      "2020-12-07 11:36:37,458 ERROR   Traceback (most recent call last):\n",
      "2020-12-07 11:36:37,458 ERROR     File \"/opt/cdstoolbox/cdscompute/cdscompute/cdshandlers/services/handler.py\", line 49, in handle_request\n",
      "2020-12-07 11:36:37,459 ERROR       result = cached(context.method, proc, context, context.args, context.kwargs)\n",
      "2020-12-07 11:36:37,459 ERROR     File \"/opt/cdstoolbox/cdscompute/cdscompute/caching.py\", line 108, in cached\n",
      "2020-12-07 11:36:37,459 ERROR       result = proc(context, *context.args, **context.kwargs)\n",
      "2020-12-07 11:36:37,459 ERROR     File \"/opt/cdstoolbox/cdscompute/cdscompute/services.py\", line 118, in __call__\n",
      "2020-12-07 11:36:37,460 ERROR       return p(*args, **kwargs)\n",
      "2020-12-07 11:36:37,460 ERROR     File \"/opt/cdstoolbox/cdscompute/cdscompute/services.py\", line 59, in __call__\n",
      "2020-12-07 11:36:37,460 ERROR       return self.proc(context, *args, **kwargs)\n",
      "2020-12-07 11:36:37,460 ERROR     File \"/home/cds/cdsservices_contrib/services/comprehensive_upper_air.py\", line 70, in execute\n",
      "2020-12-07 11:36:37,461 ERROR       'something went wrong in the data provider service, check your query and try later {}'.format(res.content)\n",
      "2020-12-07 11:36:37,461 ERROR   AssertionError: something went wrong in the data provider service, check your query and try later b'\"only valid dates allowed for date: 20000100\"'\n",
      "2020-12-07 11:36:37,490 INFO Welcome to the CDS\n",
      "2020-12-07 11:36:37,491 INFO Sending request to https://sis-dev.climate.copernicus.eu/api/v2/resources/insitu-comprehensive-upper-air-observation-network\n",
      "2020-12-07 11:36:37,550 INFO Request is queued\n"
     ]
    },
    {
     "name": "stdout",
     "output_type": "stream",
     "text": [
      "an internal error occurred processing your request. something went wrong in the data provider service, check your query and try later b'\"only valid dates allowed for date: 20000100\"'.\n",
      "d - testing:  32\n"
     ]
    },
    {
     "name": "stderr",
     "output_type": "stream",
     "text": [
      "2020-12-07 11:36:38,583 INFO Request is completed\n",
      "2020-12-07 11:36:38,584 INFO Downloading http://136.156.132.176/cache-compute-0000/cache/data2/adaptor.comprehensive_upper_air.retrieve-1607337397.6953185-10708-5-4e431003-1d51-49e2-b261-fcbe8bb8d372.zip to download.zip (23.6K)\n",
      "2020-12-07 11:36:38,640 INFO Download rate 420.2K/s\n",
      "2020-12-07 11:36:38,704 INFO Welcome to the CDS\n",
      "2020-12-07 11:36:38,705 INFO Sending request to https://sis-dev.climate.copernicus.eu/api/v2/resources/insitu-comprehensive-upper-air-observation-network\n",
      "2020-12-07 11:36:38,764 INFO Request is queued\n"
     ]
    },
    {
     "name": "stdout",
     "output_type": "stream",
     "text": [
      "ymd - testing: finished\n",
      "size - testing:  air_temperature 11035\n"
     ]
    },
    {
     "name": "stderr",
     "output_type": "stream",
     "text": [
      "2020-12-07 11:36:39,798 INFO Request is running\n",
      "2020-12-07 11:36:43,618 INFO Request is completed\n",
      "2020-12-07 11:36:43,619 INFO Downloading http://136.156.132.176/cache-compute-0000/cache/data2/adaptor.comprehensive_upper_air.retrieve-1607337401.0508215-10787-5-036f2663-435e-4ca7-9a41-9ce410ac3522.zip to download.zip (40M)\n",
      "2020-12-07 11:36:48,824 INFO Download rate 7.7M/s   \n",
      "2020-12-07 11:36:48,890 INFO Welcome to the CDS\n",
      "2020-12-07 11:36:48,890 INFO Sending request to https://sis-dev.climate.copernicus.eu/api/v2/resources/insitu-comprehensive-upper-air-observation-network\n",
      "2020-12-07 11:36:48,950 INFO Request is queued\n"
     ]
    },
    {
     "name": "stdout",
     "output_type": "stream",
     "text": [
      "size - testing:  air_temperature 10393\n"
     ]
    },
    {
     "name": "stderr",
     "output_type": "stream",
     "text": [
      "2020-12-07 11:36:49,983 INFO Request is running\n",
      "2020-12-07 11:37:09,946 INFO Request is completed\n",
      "2020-12-07 11:37:09,946 INFO Downloading http://136.156.132.176/cache-compute-0000/cache/data2/adaptor.comprehensive_upper_air.retrieve-1607337427.1033232-10826-6-04710b6f-ab2e-448f-80fe-fae26ed9c353.zip to download.zip (321.3M)\n",
      "2020-12-07 11:37:43,732 INFO Download rate 9.5M/s  \n",
      "2020-12-07 11:37:43,798 INFO Welcome to the CDS\n",
      "2020-12-07 11:37:43,798 INFO Sending request to https://sis-dev.climate.copernicus.eu/api/v2/resources/insitu-comprehensive-upper-air-observation-network\n",
      "2020-12-07 11:37:43,864 INFO Request is queued\n"
     ]
    },
    {
     "name": "stdout",
     "output_type": "stream",
     "text": [
      "size - testing:  air_temperature 1 month all stations\n"
     ]
    },
    {
     "name": "stderr",
     "output_type": "stream",
     "text": [
      "2020-12-07 11:37:44,898 INFO Request is running\n",
      "2020-12-07 11:37:52,224 INFO Request is completed\n",
      "2020-12-07 11:37:52,225 INFO Downloading http://136.156.132.176/cache-compute-0000/cache/data1/adaptor.comprehensive_upper_air.retrieve-1607337470.437529-10941-6-0cea9d03-f6a0-48a0-8091-46aff2bcaecb.zip to download.zip (39.8M)\n",
      "2020-12-07 11:37:55,904 INFO Download rate 10.8M/s  \n",
      "2020-12-07 11:37:55,967 INFO Welcome to the CDS\n",
      "2020-12-07 11:37:55,968 INFO Sending request to https://sis-dev.climate.copernicus.eu/api/v2/resources/insitu-comprehensive-upper-air-observation-network\n",
      "2020-12-07 11:37:56,034 INFO Request is queued\n"
     ]
    },
    {
     "name": "stdout",
     "output_type": "stream",
     "text": [
      "size - testing:  air_temperature everything\n"
     ]
    },
    {
     "name": "stderr",
     "output_type": "stream",
     "text": [
      "2020-12-07 11:37:57,067 INFO Request is failed\n",
      "2020-12-07 11:37:57,068 ERROR Message: an internal error occurred processing your request\n",
      "2020-12-07 11:37:57,068 ERROR Reason:  something went wrong in the data provider service, check your query and try later b'\"Request too large - please split\"'\n",
      "2020-12-07 11:37:57,068 ERROR   Traceback (most recent call last):\n",
      "2020-12-07 11:37:57,069 ERROR     File \"/opt/cdstoolbox/cdscompute/cdscompute/cdshandlers/services/handler.py\", line 49, in handle_request\n",
      "2020-12-07 11:37:57,069 ERROR       result = cached(context.method, proc, context, context.args, context.kwargs)\n",
      "2020-12-07 11:37:57,070 ERROR     File \"/opt/cdstoolbox/cdscompute/cdscompute/caching.py\", line 108, in cached\n",
      "2020-12-07 11:37:57,070 ERROR       result = proc(context, *context.args, **context.kwargs)\n",
      "2020-12-07 11:37:57,070 ERROR     File \"/opt/cdstoolbox/cdscompute/cdscompute/services.py\", line 118, in __call__\n",
      "2020-12-07 11:37:57,070 ERROR       return p(*args, **kwargs)\n",
      "2020-12-07 11:37:57,071 ERROR     File \"/opt/cdstoolbox/cdscompute/cdscompute/services.py\", line 59, in __call__\n",
      "2020-12-07 11:37:57,071 ERROR       return self.proc(context, *args, **kwargs)\n",
      "2020-12-07 11:37:57,071 ERROR     File \"/home/cds/cdsservices_contrib/services/comprehensive_upper_air.py\", line 70, in execute\n",
      "2020-12-07 11:37:57,072 ERROR       'something went wrong in the data provider service, check your query and try later {}'.format(res.content)\n",
      "2020-12-07 11:37:57,072 ERROR   AssertionError: something went wrong in the data provider service, check your query and try later b'\"Request too large - please split\"'\n",
      "2020-12-07 11:37:57,101 INFO Welcome to the CDS\n",
      "2020-12-07 11:37:57,102 INFO Sending request to https://sis-dev.climate.copernicus.eu/api/v2/resources/insitu-comprehensive-upper-air-observation-network\n",
      "2020-12-07 11:37:57,164 INFO Request is queued\n"
     ]
    },
    {
     "name": "stdout",
     "output_type": "stream",
     "text": [
      "an internal error occurred processing your request. something went wrong in the data provider service, check your query and try later b'\"Request too large - please split\"'.\n",
      "size - testing:  all variables 1 month all stations\n"
     ]
    },
    {
     "name": "stderr",
     "output_type": "stream",
     "text": [
      "2020-12-07 11:37:58,197 INFO Request is failed\n",
      "2020-12-07 11:37:58,197 ERROR Message: an internal error occurred processing your request\n",
      "2020-12-07 11:37:58,198 ERROR Reason:  something went wrong in the data provider service, check your query and try later b'\"Request too large - please split\"'\n",
      "2020-12-07 11:37:58,198 ERROR   Traceback (most recent call last):\n",
      "2020-12-07 11:37:58,198 ERROR     File \"/opt/cdstoolbox/cdscompute/cdscompute/cdshandlers/services/handler.py\", line 49, in handle_request\n",
      "2020-12-07 11:37:58,199 ERROR       result = cached(context.method, proc, context, context.args, context.kwargs)\n",
      "2020-12-07 11:37:58,199 ERROR     File \"/opt/cdstoolbox/cdscompute/cdscompute/caching.py\", line 108, in cached\n",
      "2020-12-07 11:37:58,199 ERROR       result = proc(context, *context.args, **context.kwargs)\n",
      "2020-12-07 11:37:58,200 ERROR     File \"/opt/cdstoolbox/cdscompute/cdscompute/services.py\", line 118, in __call__\n",
      "2020-12-07 11:37:58,200 ERROR       return p(*args, **kwargs)\n",
      "2020-12-07 11:37:58,200 ERROR     File \"/opt/cdstoolbox/cdscompute/cdscompute/services.py\", line 59, in __call__\n",
      "2020-12-07 11:37:58,201 ERROR       return self.proc(context, *args, **kwargs)\n",
      "2020-12-07 11:37:58,201 ERROR     File \"/home/cds/cdsservices_contrib/services/comprehensive_upper_air.py\", line 70, in execute\n",
      "2020-12-07 11:37:58,201 ERROR       'something went wrong in the data provider service, check your query and try later {}'.format(res.content)\n",
      "2020-12-07 11:37:58,202 ERROR   AssertionError: something went wrong in the data provider service, check your query and try later b'\"Request too large - please split\"'\n"
     ]
    },
    {
     "name": "stdout",
     "output_type": "stream",
     "text": [
      "an internal error occurred processing your request. something went wrong in the data provider service, check your query and try later b'\"Request too large - please split\"'.\n",
      "size - testing: finished\n"
     ]
    }
   ],
   "source": [
    "server_test()"
   ]
  },
  {
   "cell_type": "code",
   "execution_count": null,
   "metadata": {},
   "outputs": [],
   "source": []
  }
 ],
 "metadata": {
  "kernelspec": {
   "display_name": "Miniconda3 (4.8.2)",
   "language": "python",
   "name": "python3"
  },
  "language_info": {
   "codemirror_mode": {
    "name": "ipython",
    "version": 3
   },
   "file_extension": ".py",
   "mimetype": "text/x-python",
   "name": "python",
   "nbconvert_exporter": "python",
   "pygments_lexer": "ipython3",
   "version": "3.8.1"
  }
 },
 "nbformat": 4,
 "nbformat_minor": 4
}
