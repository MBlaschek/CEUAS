{
 "cells": [
  {
   "cell_type": "code",
   "execution_count": 1,
   "metadata": {},
   "outputs": [],
   "source": [
    "import numpy as np\n",
    "import pandas as pd\n",
    "import sys, glob\n",
    "import urllib3\n",
    "import h5py\n",
    "import cdsapi, zipfile, os, time\n",
    "import warnings\n",
    "warnings.filterwarnings('ignore')"
   ]
  },
  {
   "cell_type": "code",
   "execution_count": 2,
   "metadata": {},
   "outputs": [],
   "source": [
    "def request(rqdict):\n",
    "    t0 = time.time()\n",
    "\n",
    "    c = cdsapi.Client()\n",
    "    r = c.retrieve(\n",
    "        'insitu-comprehensive-upper-air-observation-network',rqdict)\n",
    "    if True:\n",
    "        r.download(target='download.zip')\n",
    "        assert os.stat('download.zip').st_size == r.content_length, \"Downloaded file is incomplete\"\n",
    "#     z = zipfile.ZipFile('download.zip')\n",
    "#     z.extractall(path='./test_requests/')\n",
    "#     z.close()\n",
    "    os.remove('download.zip')"
   ]
  },
  {
   "cell_type": "code",
   "execution_count": 3,
   "metadata": {},
   "outputs": [],
   "source": [
    "def test_statid():\n",
    "    log = []\n",
    "    log.append('\\n\\n---STATID---')\n",
    "    cachworkaround = np.random.random_sample()\n",
    "    for s in [None, 'all', '11035', '0-20000-0-11035', '0-20100-0-00701', '1103*', '0-20100*', ['0-20000-0-11035', '0-20000-0-10393']]:\n",
    "        print('statid - testing: ', s)\n",
    "        rd={\n",
    "            'variable':'air_temperature',\n",
    "            'statid':s,\n",
    "            'date': '19781001-19781031',\n",
    "            'cachworkaround': cachworkaround,\n",
    "        } \n",
    "        try:\n",
    "            request(rd)\n",
    "            log.append('\\n1 request successful: ' + str(s))\n",
    "        except:\n",
    "            log.append('\\n0 request failed: ' + str(s))\n",
    "            \n",
    "    for s in ['110350', '1103', '0-20000-0-1103', '0-20000-0-110350']:\n",
    "        print('statid - testing: ', s)\n",
    "        rd={\n",
    "            'variable':'air_temperature',\n",
    "            'statid':s,\n",
    "            'date': '19781001-19781031',\n",
    "            'cachworkaround': cachworkaround,\n",
    "        }\n",
    "        try: \n",
    "            request(rd)\n",
    "            log.append('\\n0 request falsely successful: ' + str(s))\n",
    "        except Exception as e:\n",
    "            print(e)\n",
    "            log.append('\\n1 request successfully failed: ' + str(s))\n",
    "            \n",
    "    print('statid - testing: finished')\n",
    "    return log"
   ]
  },
  {
   "cell_type": "code",
   "execution_count": 4,
   "metadata": {},
   "outputs": [],
   "source": [
    "def test_variable():\n",
    "    log = []\n",
    "    log.append('\\n\\n---VARIABLE---')\n",
    "    cachworkaround = np.random.random_sample()\n",
    "    for s in ['air_temperature', 'dew_point_temperature', 'eastward_wind_speed', 'northward_wind_speed', 'relative_humidity', 'specific_humidity', 'wind_from_direction', 'wind_speed']:\n",
    "        print('variable - testing: ', s)\n",
    "        rd={\n",
    "            'variable': s,\n",
    "            'statid': '0-20000-0-11035',\n",
    "            'date': '20150101-20150131',\n",
    "            'cachworkaround': cachworkaround,\n",
    "        } \n",
    "        try:\n",
    "            request(rd)\n",
    "            log.append('\\n1 request successful: ' + str(s))\n",
    "        except:\n",
    "            log.append('\\n0 request failed: ' + str(s))\n",
    "            \n",
    "    for s in ['temperature', 'dew_point', 'wind', 'humidity', 'sonde_type']:\n",
    "        print('variable - testing: ', s)\n",
    "        rd={\n",
    "            'variable': s,\n",
    "            'statid': '0-20000-0-11035',\n",
    "            'date': '20150101-20150131',\n",
    "            'cachworkaround': cachworkaround,\n",
    "        } \n",
    "        try: \n",
    "            request(rd)\n",
    "            log.append('\\n0 request falsely successful: ' + str(s))\n",
    "        except Exception as e:\n",
    "            print(e)\n",
    "            log.append('\\n1 request successfully failed: ' + str(s))\n",
    "            \n",
    "    print('variable - testing: finished')\n",
    "    return log"
   ]
  },
  {
   "cell_type": "code",
   "execution_count": 5,
   "metadata": {},
   "outputs": [],
   "source": [
    "def test_optional():\n",
    "    log = []\n",
    "    log.append('\\n\\n---OPTIONAL---')\n",
    "    cachworkaround = np.random.random_sample()\n",
    "    for s in ['sonde_type', 'bias_estimate', 'obs_minus_an', 'obs_minus_bg']:\n",
    "        print('optional - testing: ', s)\n",
    "        rd={\n",
    "            'variable': 'air_temperature',\n",
    "            'statid': ['0-20000-0-11035', '0-20100-0-00701'],\n",
    "            'date': '19781001-19781031',\n",
    "            'optional': s,\n",
    "            'cachworkaround': cachworkaround,\n",
    "        } \n",
    "        try:\n",
    "            request(rd)\n",
    "            log.append('\\n1 request successful: ' + str(s))\n",
    "        except:\n",
    "            log.append('\\n0 request failed: ' + str(s))\n",
    "            \n",
    "    for s in ['sonde', 'air_temperature', 'dew_point_temperature']:\n",
    "        print('optional - testing: ', s)\n",
    "        rd={\n",
    "            'variable': 'air_temperature',\n",
    "            'statid': ['0-20000-0-11035', '0-20100-0-00701'],\n",
    "            'date': '19781001-19781031',\n",
    "            'optional': s,\n",
    "            'cachworkaround': cachworkaround,\n",
    "        } \n",
    "        try: \n",
    "            request(rd)\n",
    "            log.append('\\n0 request falsely successful: ' + str(s))\n",
    "        except Exception as e:\n",
    "            print(e)\n",
    "            log.append('\\n1 request successfully failed: ' + str(s))  \n",
    "            \n",
    "    print('optional - testing: finished')\n",
    "    return log"
   ]
  },
  {
   "cell_type": "code",
   "execution_count": 6,
   "metadata": {},
   "outputs": [],
   "source": [
    "def test_area():\n",
    "    log = []\n",
    "    log.append('\\n\\n---AREA---')\n",
    "    cachworkaround = np.random.random_sample()\n",
    "    for s in [[-40,140,80,359], [40,0,50,20]]:\n",
    "        print('area - testing: ', s)\n",
    "        rd={\n",
    "            'variable': 'air_temperature',\n",
    "            'area': s,\n",
    "            'date': '19781001-19781031',\n",
    "            'cachworkaround': cachworkaround,\n",
    "        } \n",
    "        try:\n",
    "            request(rd)\n",
    "            log.append('\\n1 request successful: ' + str(s))\n",
    "        except:\n",
    "            log.append('\\n0 request failed: ' + str(s))\n",
    "            \n",
    "    for s in [[-40,140,80,360], [0,0,0,0], [50,20,40,0]]:\n",
    "        print('area - testing: ', s)\n",
    "        rd={\n",
    "            'variable': 'air_temperature',\n",
    "            'area': s,\n",
    "            'date': '19781001-19781031',\n",
    "            'cachworkaround': cachworkaround,\n",
    "        } \n",
    "        try: \n",
    "            request(rd)\n",
    "            log.append('\\n0 request falsely successful: ' + str(s))\n",
    "        except Exception as e:\n",
    "            print(e)\n",
    "            log.append('\\n1 request successfully failed: ' + str(s))  \n",
    "            \n",
    "    print('area - testing: finished')\n",
    "    return log"
   ]
  },
  {
   "cell_type": "code",
   "execution_count": 7,
   "metadata": {},
   "outputs": [],
   "source": [
    "def test_country():\n",
    "    log = []\n",
    "    log.append('\\n\\n---COUNTRY---')\n",
    "    cachworkaround = np.random.random_sample()\n",
    "    for s in ['GLOBE', 'ALL', 'NOR', [\"NOR\",\"DEU\"]]:\n",
    "        print('country - testing: ', s)\n",
    "        rd={\n",
    "            'variable': 'air_temperature',\n",
    "            'country': s,\n",
    "            'date': '19781001-19781031',\n",
    "            'cachworkaround': cachworkaround,\n",
    "        } \n",
    "        try:\n",
    "            request(rd)\n",
    "            log.append('\\n1 request successful: ' + str(s))\n",
    "        except:\n",
    "            log.append('\\n0 request failed: ' + str(s))\n",
    "            \n",
    "    for s in ['NORWAY', 'nor',]:\n",
    "        print('country - testing: ', s)\n",
    "        rd={\n",
    "            'variable': 'air_temperature',\n",
    "            'country': s,\n",
    "            'date': '19781001-19781031',\n",
    "            'cachworkaround': cachworkaround,\n",
    "        } \n",
    "        try: \n",
    "            request(rd)\n",
    "            log.append('\\n0 request falsely successful: ' + str(s))\n",
    "        except Exception as e:\n",
    "            print(e)\n",
    "            log.append('\\n1 request successfully failed: ' + str(s))\n",
    "            \n",
    "    print('country - testing: finished')\n",
    "    return log"
   ]
  },
  {
   "cell_type": "code",
   "execution_count": 8,
   "metadata": {},
   "outputs": [],
   "source": [
    "def test_date(): \n",
    "    log = []\n",
    "    log.append('\\n\\n---DATE---')\n",
    "    cachworkaround = np.random.random_sample()\n",
    "    for s in [None, '20000101', '20000101-20000201', ['20000101', '20000103', '20000106'], ['20000102', '20000101']]:\n",
    "        print('date - testing: ', s)\n",
    "        rd={\n",
    "            'variable': 'air_temperature',\n",
    "            'statid': '11035',\n",
    "            'date': s,\n",
    "            'cachworkaround': cachworkaround,\n",
    "        } \n",
    "        try:\n",
    "            request(rd)\n",
    "            log.append('\\n1 request successful: ' + str(s))\n",
    "        except:\n",
    "            log.append('\\n0 request failed: ' + str(s))\n",
    "            \n",
    "    for s in ['2000011', '20000100', '00000000', '20000132', '20001301']:\n",
    "        print('date - testing: ', s)\n",
    "        rd={\n",
    "            'variable': 'air_temperature',\n",
    "            'statid': '11035',\n",
    "            'date': s,\n",
    "            'cachworkaround': cachworkaround,\n",
    "        } \n",
    "        try: \n",
    "            request(rd)\n",
    "            log.append('\\n0 request falsely successful: ' + str(s))\n",
    "        except Exception as e:\n",
    "            print(e)\n",
    "            log.append('\\n1 request successfully failed: ' + str(s))\n",
    "            \n",
    "    print('date - testing: finished')\n",
    "    return log"
   ]
  },
  {
   "cell_type": "code",
   "execution_count": 9,
   "metadata": {},
   "outputs": [],
   "source": [
    "def test_period(): \n",
    "    log = []\n",
    "    log.append('\\n\\n---PERIOD---')\n",
    "    # not working: ['1979-01-01/1980-08-16']\n",
    "    cachworkaround = np.random.random_sample()\n",
    "    for s in [None, '1979-01-01/1980-08-16']:\n",
    "        print('period - testing: ', s)\n",
    "        rd={\n",
    "            'variable': 'air_temperature',\n",
    "            'statid': '11035',\n",
    "            'period': s,\n",
    "            'cachworkaround': cachworkaround,\n",
    "        } \n",
    "        try:\n",
    "            request(rd)\n",
    "            log.append('\\n1 request successful: ' + str(s))\n",
    "        except:\n",
    "            log.append('\\n0 request failed: ' + str(s))\n",
    "            \n",
    "    for s in [ '1980-01-02/1980-01-01']:\n",
    "        print('period - testing: ', s)\n",
    "        rd={\n",
    "            'variable': 'air_temperature',\n",
    "            'statid': '11035',\n",
    "            'period': s,\n",
    "            'cachworkaround': cachworkaround,\n",
    "        } \n",
    "        try: \n",
    "            request(rd)\n",
    "            log.append('\\n0 request falsely successful: ' + str(s))\n",
    "        except Exception as e:\n",
    "            print(e)\n",
    "            log.append('\\n1 request successfully failed: ' + str(s))\n",
    "            \n",
    "    print('period - testing: finished')\n",
    "    return log"
   ]
  },
  {
   "cell_type": "code",
   "execution_count": 10,
   "metadata": {},
   "outputs": [],
   "source": [
    "def test_pressure_level():\n",
    "    log = []\n",
    "    log.append('\\n\\n---PRESSURE LEVEL---')\n",
    "    cachworkaround = np.random.random_sample()\n",
    "    for s in [100, '100', [100, 200], ['100', '200']]:\n",
    "        print('pressure_level - testing: ', s)\n",
    "        rd={\n",
    "            'variable': 'air_temperature',\n",
    "            'statid': '11035',\n",
    "            'date': '20100101',\n",
    "            'pressure_level': s,\n",
    "            'cachworkaround': cachworkaround,\n",
    "        } \n",
    "        try:\n",
    "            request(rd)\n",
    "            log.append('\\n1 request successful: ' + str(s))\n",
    "        except:\n",
    "            log.append('\\n0 request failed: ' + str(s))\n",
    "        \n",
    "    for s in ['0', '2000']:\n",
    "        print('pressure_level - testing: ', s)\n",
    "        rd={\n",
    "            'variable': 'air_temperature',\n",
    "            'statid': '11035',\n",
    "            'date': '20100101',\n",
    "            'pressure_level': s,\n",
    "            'cachworkaround': cachworkaround,\n",
    "        } \n",
    "        try: \n",
    "            request(rd)\n",
    "            log.append('\\n0 request falsely successful: ' + str(s))\n",
    "        except Exception as e:\n",
    "            print(e)\n",
    "            log.append('\\n1 request successfully failed: ' + str(s))\n",
    "        \n",
    "    print('pressure_level - testing: finished')\n",
    "    return log"
   ]
  },
  {
   "cell_type": "code",
   "execution_count": 11,
   "metadata": {},
   "outputs": [],
   "source": [
    "def test_time():\n",
    "    log = []\n",
    "    log.append('\\n\\n---TIME---')\n",
    "    cachworkaround = np.random.random_sample()\n",
    "    for s in [[22,23,0,1,2,3], [\"22\",\"23\",\"00\",\"01\",\"02\",\"03\"], '', '0', '00', [\"00\"], [0,12], [\"0\",\"12\"]]:\n",
    "        print('time - testing: ', s)\n",
    "        rd={\n",
    "            'variable': 'air_temperature',\n",
    "            'statid': '11035',\n",
    "            'date': '20100101-20100201',\n",
    "            'time': s,\n",
    "            'cachworkaround': cachworkaround,\n",
    "        } \n",
    "        try:\n",
    "            request(rd)\n",
    "            log.append('\\n1 request successful: ' + str(s))\n",
    "        except:\n",
    "            log.append('\\n0 request failed: ' + str(s))\n",
    "            \n",
    "    for s in ['24', '25', '12.5', ]:\n",
    "        print('time - testing: ', s)\n",
    "        rd={\n",
    "            'variable': 'air_temperature',\n",
    "            'statid': '11035',\n",
    "            'date': '20100101-20100201',\n",
    "            'time': s,\n",
    "            'cachworkaround': cachworkaround,\n",
    "        } \n",
    "        try: \n",
    "            request(rd)\n",
    "            log.append('\\n0 request falsely successful: ' + str(s))\n",
    "        except Exception as e:\n",
    "            print(e)\n",
    "            log.append('\\n1 request successfully failed: ' + str(s))\n",
    "            \n",
    "    print('time - testing: finished')\n",
    "    return log"
   ]
  },
  {
   "cell_type": "code",
   "execution_count": 12,
   "metadata": {},
   "outputs": [],
   "source": [
    "def test_format():\n",
    "    log = []\n",
    "    log.append('\\n\\n---FORMAT---')\n",
    "    cachworkaround = np.random.random_sample()\n",
    "    for s in [None, 'csv', 'nc']:\n",
    "        print('format - testing: ', s)\n",
    "        rd={\n",
    "            'variable': 'air_temperature',\n",
    "            'statid': '11035',\n",
    "            'date': '20100101-20100201',\n",
    "            'format': s,\n",
    "            'cachworkaround': cachworkaround,\n",
    "        } \n",
    "        try:\n",
    "            request(rd)\n",
    "            log.append('\\n1 request successful: ' + str(s))\n",
    "        except:\n",
    "            log.append('\\n0 request failed: ' + str(s))\n",
    "            \n",
    "    for s in ['netcdf', 'csb', 'txt']:\n",
    "        print('format - testing: ', s)\n",
    "        rd={\n",
    "            'variable': 'air_temperature',\n",
    "            'statid': '11035',\n",
    "            'date': '20100101-20100201',\n",
    "            'format': s,\n",
    "            'cachworkaround': cachworkaround,\n",
    "        } \n",
    "        try: \n",
    "            request(rd)\n",
    "            log.append('\\n0 request falsely successful: ' + str(s))\n",
    "        except Exception as e:\n",
    "            print(e)\n",
    "            log.append('\\n1 request successfully failed: ' + str(s))\n",
    "            \n",
    "    print('format - testing: finished')\n",
    "    return log"
   ]
  },
  {
   "cell_type": "code",
   "execution_count": 13,
   "metadata": {},
   "outputs": [],
   "source": [
    "def test_ymd():\n",
    "    log = []\n",
    "    # if one of them is None -> no date selected = the whole dataset - change?\n",
    "    cachworkaround = np.random.random_sample()\n",
    "    log.append('\\n\\n---YEAR---')\n",
    "    for s in [None, 2000, '2000', ['2000', '2001'], [2000, 2001]]:\n",
    "        print('y - testing: ', s)\n",
    "        rd={\n",
    "            'variable': 'air_temperature',\n",
    "            'statid': '11035',\n",
    "            'year': s,\n",
    "            'month': '01',\n",
    "            'day':'01',\n",
    "            'cachworkaround': cachworkaround,\n",
    "        } \n",
    "        try:\n",
    "            request(rd)\n",
    "            log.append('\\n1 request successful: ' + str(s))\n",
    "        except:\n",
    "            log.append('\\n0 request failed: ' + str(s))\n",
    "            \n",
    "    for s in [0, '20000', '-2000']:\n",
    "        print('y - testing: ', s)\n",
    "        rd={\n",
    "            'variable': 'air_temperature',\n",
    "            'statid': '11035',\n",
    "            'year': s,\n",
    "            'month': '01',\n",
    "            'day':'01',\n",
    "            'cachworkaround': cachworkaround,\n",
    "        } \n",
    "        try: \n",
    "            request(rd)\n",
    "            log.append('\\n0 request falsely successful: ' + str(s))\n",
    "        except Exception as e:\n",
    "            print(e)\n",
    "            log.append('\\n1 request successfully failed: ' + str(s))\n",
    "            \n",
    "    log.append('---MONTH---')\n",
    "    for s in [None, 1, '1', '01', ['01', '02'], ['1', '2'], [1, 2]]:\n",
    "        print('m - testing: ', s)\n",
    "        rd={\n",
    "            'variable': 'air_temperature',\n",
    "            'statid': '11035',\n",
    "            'year': '2000',\n",
    "            'month': s,\n",
    "            'day':'01',\n",
    "            'cachworkaround': cachworkaround,\n",
    "        } \n",
    "        try:\n",
    "            request(rd)\n",
    "            log.append('\\n1 request successful: ' + str(s))\n",
    "        except:\n",
    "            log.append('\\n0 request failed: ' + str(s))\n",
    "    \n",
    "    for s in ['00', 0, '13']:\n",
    "        print('m - testing: ', s)\n",
    "        rd={\n",
    "            'variable': 'air_temperature',\n",
    "            'statid': '11035',\n",
    "            'year': '2000',\n",
    "            'month': s,\n",
    "            'day':'01',\n",
    "            'cachworkaround': cachworkaround,\n",
    "        } \n",
    "        try: \n",
    "            request(rd)\n",
    "            log.append('\\n0 request falsely successful: ' + str(s))\n",
    "        except Exception as e:\n",
    "            print(e)\n",
    "            log.append('\\n1 request successfully failed: ' + str(s))\n",
    "            \n",
    "    log.append('---DAY---')\n",
    "    for s in ['01', '31', ['01', '02'], ['1', '2'], [1, 2]]:\n",
    "        print('d - testing: ', s)\n",
    "        rd={\n",
    "            'variable': 'air_temperature',\n",
    "            'statid': '11035',\n",
    "            'year': '2000',\n",
    "            'month': '01',\n",
    "            'day':s,\n",
    "            'cachworkaround': cachworkaround,\n",
    "        } \n",
    "        try:\n",
    "            request(rd)\n",
    "            log.append('\\n1 request successful: ' + str(s))\n",
    "        except:\n",
    "            log.append('\\n0 request failed: ' + str(s))\n",
    "    \n",
    "    for s in ['00', 0, '32']:\n",
    "        print('d - testing: ', s)\n",
    "        rd={\n",
    "            'variable': 'air_temperature',\n",
    "            'statid': '11035',\n",
    "            'year': '2000',\n",
    "            'month': '01',\n",
    "            'day':s,\n",
    "            'cachworkaround': cachworkaround,\n",
    "        } \n",
    "        try: \n",
    "            request(rd)\n",
    "            log.append('\\n0 request falsely successful: ' + str(s))\n",
    "        except Exception as e:\n",
    "            print(e)\n",
    "            log.append('\\n1 request successfully failed: ' + str(s))\n",
    "            \n",
    "    print('ymd - testing: finished')\n",
    "    return log"
   ]
  },
  {
   "cell_type": "code",
   "execution_count": 14,
   "metadata": {},
   "outputs": [],
   "source": [
    "def server_test():\n",
    "    log = []\n",
    "    log.append('Testing Server Requests \\n')\n",
    "    log.append('0 = failed | 1 = succeeded \\n')\n",
    "    try: log.extend(test_statid())\n",
    "    except: log.append('statid - test: failed \\n')\n",
    "    try: log.extend(test_variable())\n",
    "    except: log.append('variable - test: failed \\n')\n",
    "    try: log.extend(test_optional())\n",
    "    except: log.append('optional - test: failed \\n')\n",
    "    try: log.extend(test_area())\n",
    "    except: log.append('area - test: failed \\n')\n",
    "    try: log.extend(test_country())\n",
    "    except: log.append('country - test: failed \\n')\n",
    "    try: log.extend(test_date())\n",
    "    except: log.append('date - test: failed \\n')\n",
    "    try: log.extend(test_period())\n",
    "    except: log.append('period - test: failed \\n')\n",
    "    try: log.extend(test_pressure_level())\n",
    "    except: log.append('pressure_level - test: failed \\n')\n",
    "    try: log.extend(test_time())\n",
    "    except: log.append('time - test: failed \\n')\n",
    "    try: log.extend(test_format())\n",
    "    except: log.append('format - test: failed \\n')\n",
    "    try: log.extend(test_ymd())\n",
    "    except: log.append('ymd - test: failed \\n')\n",
    "        \n",
    "    writelog=open('server_test_log.txt','w')\n",
    "    writelog.writelines(log)\n",
    "    writelog.close()"
   ]
  },
  {
   "cell_type": "code",
   "execution_count": 15,
   "metadata": {},
   "outputs": [
    {
     "name": "stdout",
     "output_type": "stream",
     "text": [
      "statid - testing:  None\n"
     ]
    },
    {
     "name": "stderr",
     "output_type": "stream",
     "text": [
      "2020-12-07 08:11:27,808 INFO Welcome to the CDS\n",
      "2020-12-07 08:11:27,808 INFO Sending request to https://sis-dev.climate.copernicus.eu/api/v2/resources/insitu-comprehensive-upper-air-observation-network\n",
      "2020-12-07 08:11:28,079 INFO Request is queued\n",
      "2020-12-07 08:11:29,112 INFO Request is running\n",
      "2020-12-07 08:11:41,440 INFO Request is completed\n",
      "2020-12-07 08:11:41,441 INFO Downloading http://136.156.132.176/cache-compute-0002/cache/data2/adaptor.comprehensive_upper_air.retrieve-1607325097.3706436-27464-2-9ed982e2-1f90-4058-8e78-4098d4bc827b.zip to download.zip (49.7M)\n",
      "2020-12-07 08:11:43,689 INFO Download rate 22.1M/s  \n",
      "2020-12-07 08:11:43,757 INFO Welcome to the CDS\n",
      "2020-12-07 08:11:43,757 INFO Sending request to https://sis-dev.climate.copernicus.eu/api/v2/resources/insitu-comprehensive-upper-air-observation-network\n",
      "2020-12-07 08:11:43,824 INFO Request is queued\n"
     ]
    },
    {
     "name": "stdout",
     "output_type": "stream",
     "text": [
      "statid - testing:  all\n"
     ]
    },
    {
     "name": "stderr",
     "output_type": "stream",
     "text": [
      "2020-12-07 08:11:44,858 INFO Request is running\n",
      "2020-12-07 08:11:57,185 INFO Request is completed\n",
      "2020-12-07 08:11:57,186 INFO Downloading http://136.156.132.176/cache-compute-0000/cache/data1/adaptor.comprehensive_upper_air.retrieve-1607325113.2159235-9344-5-3147dc48-fc0f-4906-8a3d-b7b2fac6ba07.zip to download.zip (49.7M)\n",
      "2020-12-07 08:12:00,152 INFO Download rate 16.7M/s  \n",
      "2020-12-07 08:12:00,214 INFO Welcome to the CDS\n",
      "2020-12-07 08:12:00,215 INFO Sending request to https://sis-dev.climate.copernicus.eu/api/v2/resources/insitu-comprehensive-upper-air-observation-network\n"
     ]
    },
    {
     "name": "stdout",
     "output_type": "stream",
     "text": [
      "statid - testing:  11035\n"
     ]
    },
    {
     "name": "stderr",
     "output_type": "stream",
     "text": [
      "2020-12-07 08:12:00,504 INFO Request is queued\n",
      "2020-12-07 08:12:01,537 INFO Request is completed\n",
      "2020-12-07 08:12:01,537 INFO Downloading http://136.156.132.176/cache-compute-0002/cache/data2/adaptor.comprehensive_upper_air.retrieve-1607325120.6806455-7414-5-0229cea9-9043-4ee2-aa93-d8939b032e34.zip to download.zip (48.2K)\n",
      "2020-12-07 08:12:01,620 INFO Download rate 583.1K/s\n",
      "2020-12-07 08:12:01,684 INFO Welcome to the CDS\n",
      "2020-12-07 08:12:01,685 INFO Sending request to https://sis-dev.climate.copernicus.eu/api/v2/resources/insitu-comprehensive-upper-air-observation-network\n",
      "2020-12-07 08:12:01,757 INFO Request is queued\n"
     ]
    },
    {
     "name": "stdout",
     "output_type": "stream",
     "text": [
      "statid - testing:  0-20000-0-11035\n"
     ]
    },
    {
     "name": "stderr",
     "output_type": "stream",
     "text": [
      "2020-12-07 08:12:02,791 INFO Request is completed\n",
      "2020-12-07 08:12:02,791 INFO Downloading http://136.156.132.176/cache-compute-0002/cache/data2/adaptor.comprehensive_upper_air.retrieve-1607325121.939703-10928-3-a719c3a3-6b1d-4c81-894d-05cc80336e94.zip to download.zip (48.2K)\n",
      "2020-12-07 08:12:02,874 INFO Download rate 581.5K/s\n",
      "2020-12-07 08:12:02,940 INFO Welcome to the CDS\n",
      "2020-12-07 08:12:02,941 INFO Sending request to https://sis-dev.climate.copernicus.eu/api/v2/resources/insitu-comprehensive-upper-air-observation-network\n",
      "2020-12-07 08:12:03,005 INFO Request is queued\n"
     ]
    },
    {
     "name": "stdout",
     "output_type": "stream",
     "text": [
      "statid - testing:  0-20100-0-00701\n"
     ]
    },
    {
     "name": "stderr",
     "output_type": "stream",
     "text": [
      "2020-12-07 08:12:04,039 INFO Request is completed\n",
      "2020-12-07 08:12:04,039 INFO Downloading http://136.156.132.176/cache-compute-0002/cache/data2/adaptor.comprehensive_upper_air.retrieve-1607325123.1650138-17793-3-03b1d981-7c85-49bd-a14a-eed1ced23eef.zip to download.zip (32.1K)\n",
      "2020-12-07 08:12:04,096 INFO Download rate 566.5K/s\n",
      "2020-12-07 08:12:04,163 INFO Welcome to the CDS\n",
      "2020-12-07 08:12:04,163 INFO Sending request to https://sis-dev.climate.copernicus.eu/api/v2/resources/insitu-comprehensive-upper-air-observation-network\n",
      "2020-12-07 08:12:04,231 INFO Request is queued\n"
     ]
    },
    {
     "name": "stdout",
     "output_type": "stream",
     "text": [
      "statid - testing:  1103*\n"
     ]
    },
    {
     "name": "stderr",
     "output_type": "stream",
     "text": [
      "2020-12-07 08:12:05,264 INFO Request is completed\n",
      "2020-12-07 08:12:05,264 INFO Downloading http://136.156.132.176/cache-compute-0000/cache/data1/adaptor.comprehensive_upper_air.retrieve-1607325124.3841922-9810-7-3d3ca484-d3ce-4af2-bd94-f457104cd3d3.zip to download.zip (48.2K)\n",
      "2020-12-07 08:12:05,347 INFO Download rate 584K/s\n",
      "2020-12-07 08:12:05,409 INFO Welcome to the CDS\n",
      "2020-12-07 08:12:05,410 INFO Sending request to https://sis-dev.climate.copernicus.eu/api/v2/resources/insitu-comprehensive-upper-air-observation-network\n",
      "2020-12-07 08:12:05,473 INFO Request is queued\n"
     ]
    },
    {
     "name": "stdout",
     "output_type": "stream",
     "text": [
      "statid - testing:  0-20100*\n"
     ]
    },
    {
     "name": "stderr",
     "output_type": "stream",
     "text": [
      "2020-12-07 08:12:06,505 INFO Request is completed\n",
      "2020-12-07 08:12:06,506 INFO Downloading http://136.156.132.176/cache-compute-0000/cache/data1/adaptor.comprehensive_upper_air.retrieve-1607325125.7682889-9974-6-996b54e7-afb7-466e-aff8-670d262c1b43.zip to download.zip (106.4K)\n",
      "2020-12-07 08:12:06,615 INFO Download rate 974.8K/s\n",
      "2020-12-07 08:12:06,677 INFO Welcome to the CDS\n",
      "2020-12-07 08:12:06,677 INFO Sending request to https://sis-dev.climate.copernicus.eu/api/v2/resources/insitu-comprehensive-upper-air-observation-network\n",
      "2020-12-07 08:12:06,740 INFO Request is queued\n"
     ]
    },
    {
     "name": "stdout",
     "output_type": "stream",
     "text": [
      "statid - testing:  ['0-20000-0-11035', '0-20000-0-10393']\n"
     ]
    },
    {
     "name": "stderr",
     "output_type": "stream",
     "text": [
      "2020-12-07 08:12:07,773 INFO Request is completed\n",
      "2020-12-07 08:12:07,773 INFO Downloading http://136.156.132.176/cache-compute-0000/cache/data1/adaptor.comprehensive_upper_air.retrieve-1607325126.952012-10235-6-dfc1e8e8-62a8-4fa9-a626-1030fd76588b.zip to download.zip (108.3K)\n",
      "2020-12-07 08:12:07,883 INFO Download rate 989.9K/s\n",
      "2020-12-07 08:12:07,945 INFO Welcome to the CDS\n",
      "2020-12-07 08:12:07,945 INFO Sending request to https://sis-dev.climate.copernicus.eu/api/v2/resources/insitu-comprehensive-upper-air-observation-network\n",
      "2020-12-07 08:12:08,013 INFO Request is queued\n"
     ]
    },
    {
     "name": "stdout",
     "output_type": "stream",
     "text": [
      "statid - testing:  110350\n"
     ]
    },
    {
     "name": "stderr",
     "output_type": "stream",
     "text": [
      "2020-12-07 08:12:09,046 INFO Request is failed\n",
      "2020-12-07 08:12:09,046 ERROR Message: an internal error occurred processing your request\n",
      "2020-12-07 08:12:09,046 ERROR Reason:  something went wrong in the data provider service, check your query and try later b'\"No selected station has data in specified date range: {\\'variable\\': [\\'temperature\\'], \\'format\\': \\'nc\\', \\'statid\\': [\\'0-20200-0-110350\\'], \\'date\\': [\\'19781001\\', \\'19781031\\']}\"'\n",
      "2020-12-07 08:12:09,047 ERROR   Traceback (most recent call last):\n",
      "2020-12-07 08:12:09,047 ERROR     File \"/opt/cdstoolbox/cdscompute/cdscompute/cdshandlers/services/handler.py\", line 49, in handle_request\n",
      "2020-12-07 08:12:09,047 ERROR       result = cached(context.method, proc, context, context.args, context.kwargs)\n",
      "2020-12-07 08:12:09,048 ERROR     File \"/opt/cdstoolbox/cdscompute/cdscompute/caching.py\", line 108, in cached\n",
      "2020-12-07 08:12:09,048 ERROR       result = proc(context, *context.args, **context.kwargs)\n",
      "2020-12-07 08:12:09,048 ERROR     File \"/opt/cdstoolbox/cdscompute/cdscompute/services.py\", line 118, in __call__\n",
      "2020-12-07 08:12:09,048 ERROR       return p(*args, **kwargs)\n",
      "2020-12-07 08:12:09,049 ERROR     File \"/opt/cdstoolbox/cdscompute/cdscompute/services.py\", line 59, in __call__\n",
      "2020-12-07 08:12:09,049 ERROR       return self.proc(context, *args, **kwargs)\n",
      "2020-12-07 08:12:09,049 ERROR     File \"/home/cds/cdsservices_contrib/services/comprehensive_upper_air.py\", line 70, in execute\n",
      "2020-12-07 08:12:09,050 ERROR       'something went wrong in the data provider service, check your query and try later {}'.format(res.content)\n",
      "2020-12-07 08:12:09,050 ERROR   AssertionError: something went wrong in the data provider service, check your query and try later b'\"No selected station has data in specified date range: {\\'variable\\': [\\'temperature\\'], \\'format\\': \\'nc\\', \\'statid\\': [\\'0-20200-0-110350\\'], \\'date\\': [\\'19781001\\', \\'19781031\\']}\"'\n",
      "2020-12-07 08:12:09,079 INFO Welcome to the CDS\n",
      "2020-12-07 08:12:09,079 INFO Sending request to https://sis-dev.climate.copernicus.eu/api/v2/resources/insitu-comprehensive-upper-air-observation-network\n",
      "2020-12-07 08:12:09,141 INFO Request is queued\n"
     ]
    },
    {
     "name": "stdout",
     "output_type": "stream",
     "text": [
      "an internal error occurred processing your request. something went wrong in the data provider service, check your query and try later b'\"No selected station has data in specified date range: {\\'variable\\': [\\'temperature\\'], \\'format\\': \\'nc\\', \\'statid\\': [\\'0-20200-0-110350\\'], \\'date\\': [\\'19781001\\', \\'19781031\\']}\"'.\n",
      "statid - testing:  1103\n"
     ]
    },
    {
     "name": "stderr",
     "output_type": "stream",
     "text": [
      "2020-12-07 08:12:10,174 INFO Request is failed\n",
      "2020-12-07 08:12:10,175 ERROR Message: an internal error occurred processing your request\n",
      "2020-12-07 08:12:10,175 ERROR Reason:  something went wrong in the data provider service, check your query and try later b'\"No selected station has data in specified date range: {\\'variable\\': [\\'temperature\\'], \\'format\\': \\'nc\\', \\'statid\\': [\\'0-20200-0-1103\\'], \\'date\\': [\\'19781001\\', \\'19781031\\']}\"'\n",
      "2020-12-07 08:12:10,175 ERROR   Traceback (most recent call last):\n",
      "2020-12-07 08:12:10,176 ERROR     File \"/opt/cdstoolbox/cdscompute/cdscompute/cdshandlers/services/handler.py\", line 49, in handle_request\n",
      "2020-12-07 08:12:10,176 ERROR       result = cached(context.method, proc, context, context.args, context.kwargs)\n",
      "2020-12-07 08:12:10,176 ERROR     File \"/opt/cdstoolbox/cdscompute/cdscompute/caching.py\", line 108, in cached\n",
      "2020-12-07 08:12:10,176 ERROR       result = proc(context, *context.args, **context.kwargs)\n",
      "2020-12-07 08:12:10,177 ERROR     File \"/opt/cdstoolbox/cdscompute/cdscompute/services.py\", line 118, in __call__\n",
      "2020-12-07 08:12:10,177 ERROR       return p(*args, **kwargs)\n",
      "2020-12-07 08:12:10,177 ERROR     File \"/opt/cdstoolbox/cdscompute/cdscompute/services.py\", line 59, in __call__\n",
      "2020-12-07 08:12:10,178 ERROR       return self.proc(context, *args, **kwargs)\n",
      "2020-12-07 08:12:10,178 ERROR     File \"/home/cds/cdsservices_contrib/services/comprehensive_upper_air.py\", line 70, in execute\n",
      "2020-12-07 08:12:10,178 ERROR       'something went wrong in the data provider service, check your query and try later {}'.format(res.content)\n",
      "2020-12-07 08:12:10,178 ERROR   AssertionError: something went wrong in the data provider service, check your query and try later b'\"No selected station has data in specified date range: {\\'variable\\': [\\'temperature\\'], \\'format\\': \\'nc\\', \\'statid\\': [\\'0-20200-0-1103\\'], \\'date\\': [\\'19781001\\', \\'19781031\\']}\"'\n",
      "2020-12-07 08:12:10,207 INFO Welcome to the CDS\n",
      "2020-12-07 08:12:10,208 INFO Sending request to https://sis-dev.climate.copernicus.eu/api/v2/resources/insitu-comprehensive-upper-air-observation-network\n",
      "2020-12-07 08:12:10,263 INFO Request is queued\n"
     ]
    },
    {
     "name": "stdout",
     "output_type": "stream",
     "text": [
      "an internal error occurred processing your request. something went wrong in the data provider service, check your query and try later b'\"No selected station has data in specified date range: {\\'variable\\': [\\'temperature\\'], \\'format\\': \\'nc\\', \\'statid\\': [\\'0-20200-0-1103\\'], \\'date\\': [\\'19781001\\', \\'19781031\\']}\"'.\n",
      "statid - testing:  0-20000-0-1103\n"
     ]
    },
    {
     "name": "stderr",
     "output_type": "stream",
     "text": [
      "2020-12-07 08:12:11,296 INFO Request is failed\n",
      "2020-12-07 08:12:11,296 ERROR Message: an internal error occurred processing your request\n",
      "2020-12-07 08:12:11,296 ERROR Reason:  something went wrong in the data provider service, check your query and try later b'\"No selected station has data in specified date range: {\\'variable\\': [\\'temperature\\'], \\'format\\': \\'nc\\', \\'statid\\': [\\'0-20000-0-1103\\'], \\'date\\': [\\'19781001\\', \\'19781031\\']}\"'\n",
      "2020-12-07 08:12:11,297 ERROR   Traceback (most recent call last):\n",
      "2020-12-07 08:12:11,297 ERROR     File \"/opt/cdstoolbox/cdscompute/cdscompute/cdshandlers/services/handler.py\", line 49, in handle_request\n",
      "2020-12-07 08:12:11,297 ERROR       result = cached(context.method, proc, context, context.args, context.kwargs)\n",
      "2020-12-07 08:12:11,298 ERROR     File \"/opt/cdstoolbox/cdscompute/cdscompute/caching.py\", line 108, in cached\n",
      "2020-12-07 08:12:11,298 ERROR       result = proc(context, *context.args, **context.kwargs)\n",
      "2020-12-07 08:12:11,298 ERROR     File \"/opt/cdstoolbox/cdscompute/cdscompute/services.py\", line 118, in __call__\n",
      "2020-12-07 08:12:11,298 ERROR       return p(*args, **kwargs)\n",
      "2020-12-07 08:12:11,299 ERROR     File \"/opt/cdstoolbox/cdscompute/cdscompute/services.py\", line 59, in __call__\n",
      "2020-12-07 08:12:11,299 ERROR       return self.proc(context, *args, **kwargs)\n",
      "2020-12-07 08:12:11,299 ERROR     File \"/home/cds/cdsservices_contrib/services/comprehensive_upper_air.py\", line 70, in execute\n",
      "2020-12-07 08:12:11,299 ERROR       'something went wrong in the data provider service, check your query and try later {}'.format(res.content)\n",
      "2020-12-07 08:12:11,300 ERROR   AssertionError: something went wrong in the data provider service, check your query and try later b'\"No selected station has data in specified date range: {\\'variable\\': [\\'temperature\\'], \\'format\\': \\'nc\\', \\'statid\\': [\\'0-20000-0-1103\\'], \\'date\\': [\\'19781001\\', \\'19781031\\']}\"'\n",
      "2020-12-07 08:12:11,328 INFO Welcome to the CDS\n",
      "2020-12-07 08:12:11,329 INFO Sending request to https://sis-dev.climate.copernicus.eu/api/v2/resources/insitu-comprehensive-upper-air-observation-network\n",
      "2020-12-07 08:12:11,382 INFO Request is queued\n"
     ]
    },
    {
     "name": "stdout",
     "output_type": "stream",
     "text": [
      "an internal error occurred processing your request. something went wrong in the data provider service, check your query and try later b'\"No selected station has data in specified date range: {\\'variable\\': [\\'temperature\\'], \\'format\\': \\'nc\\', \\'statid\\': [\\'0-20000-0-1103\\'], \\'date\\': [\\'19781001\\', \\'19781031\\']}\"'.\n",
      "statid - testing:  0-20000-0-110350\n"
     ]
    },
    {
     "name": "stderr",
     "output_type": "stream",
     "text": [
      "2020-12-07 08:12:12,415 INFO Request is failed\n",
      "2020-12-07 08:12:12,416 ERROR Message: an internal error occurred processing your request\n",
      "2020-12-07 08:12:12,416 ERROR Reason:  something went wrong in the data provider service, check your query and try later b'\"No selected station has data in specified date range: {\\'variable\\': [\\'temperature\\'], \\'format\\': \\'nc\\', \\'statid\\': [\\'0-20000-0-110350\\'], \\'date\\': [\\'19781001\\', \\'19781031\\']}\"'\n",
      "2020-12-07 08:12:12,416 ERROR   Traceback (most recent call last):\n",
      "2020-12-07 08:12:12,416 ERROR     File \"/opt/cdstoolbox/cdscompute/cdscompute/cdshandlers/services/handler.py\", line 49, in handle_request\n",
      "2020-12-07 08:12:12,417 ERROR       result = cached(context.method, proc, context, context.args, context.kwargs)\n",
      "2020-12-07 08:12:12,417 ERROR     File \"/opt/cdstoolbox/cdscompute/cdscompute/caching.py\", line 108, in cached\n",
      "2020-12-07 08:12:12,417 ERROR       result = proc(context, *context.args, **context.kwargs)\n",
      "2020-12-07 08:12:12,418 ERROR     File \"/opt/cdstoolbox/cdscompute/cdscompute/services.py\", line 118, in __call__\n",
      "2020-12-07 08:12:12,418 ERROR       return p(*args, **kwargs)\n",
      "2020-12-07 08:12:12,418 ERROR     File \"/opt/cdstoolbox/cdscompute/cdscompute/services.py\", line 59, in __call__\n",
      "2020-12-07 08:12:12,418 ERROR       return self.proc(context, *args, **kwargs)\n",
      "2020-12-07 08:12:12,419 ERROR     File \"/home/cds/cdsservices_contrib/services/comprehensive_upper_air.py\", line 70, in execute\n",
      "2020-12-07 08:12:12,419 ERROR       'something went wrong in the data provider service, check your query and try later {}'.format(res.content)\n",
      "2020-12-07 08:12:12,419 ERROR   AssertionError: something went wrong in the data provider service, check your query and try later b'\"No selected station has data in specified date range: {\\'variable\\': [\\'temperature\\'], \\'format\\': \\'nc\\', \\'statid\\': [\\'0-20000-0-110350\\'], \\'date\\': [\\'19781001\\', \\'19781031\\']}\"'\n",
      "2020-12-07 08:12:12,448 INFO Welcome to the CDS\n",
      "2020-12-07 08:12:12,448 INFO Sending request to https://sis-dev.climate.copernicus.eu/api/v2/resources/insitu-comprehensive-upper-air-observation-network\n",
      "2020-12-07 08:12:12,503 INFO Request is queued\n"
     ]
    },
    {
     "name": "stdout",
     "output_type": "stream",
     "text": [
      "an internal error occurred processing your request. something went wrong in the data provider service, check your query and try later b'\"No selected station has data in specified date range: {\\'variable\\': [\\'temperature\\'], \\'format\\': \\'nc\\', \\'statid\\': [\\'0-20000-0-110350\\'], \\'date\\': [\\'19781001\\', \\'19781031\\']}\"'.\n",
      "statid - testing: finished\n",
      "variable - testing:  air_temperature\n"
     ]
    },
    {
     "name": "stderr",
     "output_type": "stream",
     "text": [
      "2020-12-07 08:12:13,537 INFO Request is completed\n",
      "2020-12-07 08:12:13,537 INFO Downloading http://136.156.132.204/cache-compute-0001/cache/data2/adaptor.comprehensive_upper_air.retrieve-1607325132.6593971-9752-3-11c8eb89-776d-4dda-b6af-e5b83065b4bd.zip to download.zip (99.5K)\n",
      "2020-12-07 08:12:13,677 INFO Download rate 711.1K/s\n",
      "2020-12-07 08:12:13,740 INFO Welcome to the CDS\n",
      "2020-12-07 08:12:13,740 INFO Sending request to https://sis-dev.climate.copernicus.eu/api/v2/resources/insitu-comprehensive-upper-air-observation-network\n",
      "2020-12-07 08:12:13,797 INFO Request is queued\n"
     ]
    },
    {
     "name": "stdout",
     "output_type": "stream",
     "text": [
      "variable - testing:  dew_point_temperature\n"
     ]
    },
    {
     "name": "stderr",
     "output_type": "stream",
     "text": [
      "2020-12-07 08:12:16,363 INFO Request is completed\n",
      "2020-12-07 08:12:16,363 INFO Downloading http://136.156.132.204/cache-compute-0001/cache/data2/adaptor.comprehensive_upper_air.retrieve-1607325135.9453652-10150-3-5e2b0532-b717-4f0e-a040-4a0c04c1df02.zip to download.zip (99.3K)\n",
      "2020-12-07 08:12:16,474 INFO Download rate 895.4K/s\n",
      "2020-12-07 08:12:16,538 INFO Welcome to the CDS\n",
      "2020-12-07 08:12:16,538 INFO Sending request to https://sis-dev.climate.copernicus.eu/api/v2/resources/insitu-comprehensive-upper-air-observation-network\n",
      "2020-12-07 08:12:16,594 INFO Request is queued\n"
     ]
    },
    {
     "name": "stdout",
     "output_type": "stream",
     "text": [
      "variable - testing:  eastward_wind_speed\n"
     ]
    },
    {
     "name": "stderr",
     "output_type": "stream",
     "text": [
      "2020-12-07 08:12:17,627 INFO Request is completed\n",
      "2020-12-07 08:12:17,628 INFO Downloading http://136.156.132.204/cache-compute-0001/cache/data2/adaptor.comprehensive_upper_air.retrieve-1607325136.756028-10020-3-ef66839a-414e-4a15-98e6-5176391ba94d.zip to download.zip (110.5K)\n",
      "2020-12-07 08:12:17,739 INFO Download rate 991.2K/s\n",
      "2020-12-07 08:12:17,801 INFO Welcome to the CDS\n",
      "2020-12-07 08:12:17,802 INFO Sending request to https://sis-dev.climate.copernicus.eu/api/v2/resources/insitu-comprehensive-upper-air-observation-network\n",
      "2020-12-07 08:12:17,859 INFO Request is queued\n"
     ]
    },
    {
     "name": "stdout",
     "output_type": "stream",
     "text": [
      "variable - testing:  northward_wind_speed\n"
     ]
    },
    {
     "name": "stderr",
     "output_type": "stream",
     "text": [
      "2020-12-07 08:12:18,892 INFO Request is completed\n",
      "2020-12-07 08:12:18,892 INFO Downloading http://136.156.132.204/cache-compute-0001/cache/data2/adaptor.comprehensive_upper_air.retrieve-1607325138.1048026-9029-3-22251a72-ec3c-4b21-a761-3fe014f59a83.zip to download.zip (110.6K)\n",
      "2020-12-07 08:12:19,004 INFO Download rate 994.4K/s\n",
      "2020-12-07 08:12:19,068 INFO Welcome to the CDS\n",
      "2020-12-07 08:12:19,068 INFO Sending request to https://sis-dev.climate.copernicus.eu/api/v2/resources/insitu-comprehensive-upper-air-observation-network\n",
      "2020-12-07 08:12:19,135 INFO Request is queued\n"
     ]
    },
    {
     "name": "stdout",
     "output_type": "stream",
     "text": [
      "variable - testing:  relative_humidity\n"
     ]
    },
    {
     "name": "stderr",
     "output_type": "stream",
     "text": [
      "2020-12-07 08:12:20,169 INFO Request is completed\n",
      "2020-12-07 08:12:20,169 INFO Downloading http://136.156.132.204/cache-compute-0001/cache/data2/adaptor.comprehensive_upper_air.retrieve-1607325139.2871175-10091-3-8667f22b-2c8d-496e-b448-fa1bc78109c3.zip to download.zip (105.6K)\n",
      "2020-12-07 08:12:20,281 INFO Download rate 951.4K/s\n",
      "2020-12-07 08:12:20,343 INFO Welcome to the CDS\n",
      "2020-12-07 08:12:20,344 INFO Sending request to https://sis-dev.climate.copernicus.eu/api/v2/resources/insitu-comprehensive-upper-air-observation-network\n",
      "2020-12-07 08:12:20,398 INFO Request is queued\n"
     ]
    },
    {
     "name": "stdout",
     "output_type": "stream",
     "text": [
      "variable - testing:  specific_humidity\n"
     ]
    },
    {
     "name": "stderr",
     "output_type": "stream",
     "text": [
      "2020-12-07 08:12:21,431 INFO Request is completed\n",
      "2020-12-07 08:12:21,431 INFO Downloading http://136.156.132.204/cache-compute-0001/cache/data2/adaptor.comprehensive_upper_air.retrieve-1607325140.5786216-10045-3-c3bedd93-284b-4c95-b002-78aca24a31ac.zip to download.zip (107.2K)\n",
      "2020-12-07 08:12:21,543 INFO Download rate 967.9K/s\n",
      "2020-12-07 08:12:21,604 INFO Welcome to the CDS\n",
      "2020-12-07 08:12:21,605 INFO Sending request to https://sis-dev.climate.copernicus.eu/api/v2/resources/insitu-comprehensive-upper-air-observation-network\n",
      "2020-12-07 08:12:21,660 INFO Request is queued\n"
     ]
    },
    {
     "name": "stdout",
     "output_type": "stream",
     "text": [
      "variable - testing:  wind_from_direction\n"
     ]
    },
    {
     "name": "stderr",
     "output_type": "stream",
     "text": [
      "2020-12-07 08:12:22,693 INFO Request is completed\n",
      "2020-12-07 08:12:22,693 INFO Downloading http://136.156.132.204/cache-compute-0001/cache/data2/adaptor.comprehensive_upper_air.retrieve-1607325141.9423878-9929-3-82f737c9-6732-4805-8d3f-a0b38b65a36a.zip to download.zip (98.8K)\n",
      "2020-12-07 08:12:22,805 INFO Download rate 886.7K/s\n",
      "2020-12-07 08:12:22,867 INFO Welcome to the CDS\n",
      "2020-12-07 08:12:22,867 INFO Sending request to https://sis-dev.climate.copernicus.eu/api/v2/resources/insitu-comprehensive-upper-air-observation-network\n",
      "2020-12-07 08:12:22,924 INFO Request is queued\n"
     ]
    },
    {
     "name": "stdout",
     "output_type": "stream",
     "text": [
      "variable - testing:  wind_speed\n"
     ]
    },
    {
     "name": "stderr",
     "output_type": "stream",
     "text": [
      "2020-12-07 08:12:23,956 INFO Request is completed\n",
      "2020-12-07 08:12:23,956 INFO Downloading http://136.156.132.204/cache-compute-0001/cache/data2/adaptor.comprehensive_upper_air.retrieve-1607325143.2126627-9183-3-f70b5ee2-6ca5-4f9b-983f-161a5601c9bf.zip to download.zip (100.9K)\n",
      "2020-12-07 08:12:24,068 INFO Download rate 907.1K/s\n",
      "2020-12-07 08:12:24,131 INFO Welcome to the CDS\n",
      "2020-12-07 08:12:24,132 INFO Sending request to https://sis-dev.climate.copernicus.eu/api/v2/resources/insitu-comprehensive-upper-air-observation-network\n",
      "2020-12-07 08:12:24,187 INFO Request is queued\n"
     ]
    },
    {
     "name": "stdout",
     "output_type": "stream",
     "text": [
      "variable - testing:  temperature\n"
     ]
    },
    {
     "name": "stderr",
     "output_type": "stream",
     "text": [
      "2020-12-07 08:12:25,220 INFO Request is completed\n",
      "2020-12-07 08:12:25,220 INFO Downloading http://136.156.132.204/cache-compute-0001/cache/data2/adaptor.comprehensive_upper_air.retrieve-1607325132.6593971-9752-3-11c8eb89-776d-4dda-b6af-e5b83065b4bd.zip to download.zip (99.5K)\n",
      "2020-12-07 08:12:25,332 INFO Download rate 896.7K/s\n",
      "2020-12-07 08:12:25,394 INFO Welcome to the CDS\n",
      "2020-12-07 08:12:25,395 INFO Sending request to https://sis-dev.climate.copernicus.eu/api/v2/resources/insitu-comprehensive-upper-air-observation-network\n",
      "2020-12-07 08:12:25,450 INFO Request is queued\n"
     ]
    },
    {
     "name": "stdout",
     "output_type": "stream",
     "text": [
      "variable - testing:  dew_point\n"
     ]
    },
    {
     "name": "stderr",
     "output_type": "stream",
     "text": [
      "2020-12-07 08:12:26,484 INFO Request is failed\n",
      "2020-12-07 08:12:26,484 ERROR Message: an internal error occurred processing your request\n",
      "2020-12-07 08:12:26,485 ERROR Reason:  something went wrong in the data provider service, check your query and try later b'\"Invalid variable selected: dew_point\"'\n",
      "2020-12-07 08:12:26,485 ERROR   Traceback (most recent call last):\n",
      "2020-12-07 08:12:26,485 ERROR     File \"/opt/cdstoolbox/cdscompute/cdscompute/cdshandlers/services/handler.py\", line 49, in handle_request\n",
      "2020-12-07 08:12:26,486 ERROR       result = cached(context.method, proc, context, context.args, context.kwargs)\n",
      "2020-12-07 08:12:26,486 ERROR     File \"/opt/cdstoolbox/cdscompute/cdscompute/caching.py\", line 108, in cached\n",
      "2020-12-07 08:12:26,486 ERROR       result = proc(context, *context.args, **context.kwargs)\n",
      "2020-12-07 08:12:26,486 ERROR     File \"/opt/cdstoolbox/cdscompute/cdscompute/services.py\", line 118, in __call__\n",
      "2020-12-07 08:12:26,487 ERROR       return p(*args, **kwargs)\n",
      "2020-12-07 08:12:26,487 ERROR     File \"/opt/cdstoolbox/cdscompute/cdscompute/services.py\", line 59, in __call__\n",
      "2020-12-07 08:12:26,487 ERROR       return self.proc(context, *args, **kwargs)\n",
      "2020-12-07 08:12:26,488 ERROR     File \"/home/cds/cdsservices_contrib/services/comprehensive_upper_air.py\", line 70, in execute\n",
      "2020-12-07 08:12:26,488 ERROR       'something went wrong in the data provider service, check your query and try later {}'.format(res.content)\n",
      "2020-12-07 08:12:26,488 ERROR   AssertionError: something went wrong in the data provider service, check your query and try later b'\"Invalid variable selected: dew_point\"'\n",
      "2020-12-07 08:12:26,517 INFO Welcome to the CDS\n",
      "2020-12-07 08:12:26,517 INFO Sending request to https://sis-dev.climate.copernicus.eu/api/v2/resources/insitu-comprehensive-upper-air-observation-network\n",
      "2020-12-07 08:12:26,570 INFO Request is queued\n"
     ]
    },
    {
     "name": "stdout",
     "output_type": "stream",
     "text": [
      "an internal error occurred processing your request. something went wrong in the data provider service, check your query and try later b'\"Invalid variable selected: dew_point\"'.\n",
      "variable - testing:  wind\n"
     ]
    },
    {
     "name": "stderr",
     "output_type": "stream",
     "text": [
      "2020-12-07 08:12:27,603 INFO Request is failed\n",
      "2020-12-07 08:12:27,603 ERROR Message: an internal error occurred processing your request\n",
      "2020-12-07 08:12:27,603 ERROR Reason:  something went wrong in the data provider service, check your query and try later b'\"Invalid variable selected: wind\"'\n",
      "2020-12-07 08:12:27,604 ERROR   Traceback (most recent call last):\n",
      "2020-12-07 08:12:27,604 ERROR     File \"/opt/cdstoolbox/cdscompute/cdscompute/cdshandlers/services/handler.py\", line 49, in handle_request\n",
      "2020-12-07 08:12:27,604 ERROR       result = cached(context.method, proc, context, context.args, context.kwargs)\n",
      "2020-12-07 08:12:27,604 ERROR     File \"/opt/cdstoolbox/cdscompute/cdscompute/caching.py\", line 108, in cached\n",
      "2020-12-07 08:12:27,605 ERROR       result = proc(context, *context.args, **context.kwargs)\n",
      "2020-12-07 08:12:27,605 ERROR     File \"/opt/cdstoolbox/cdscompute/cdscompute/services.py\", line 118, in __call__\n",
      "2020-12-07 08:12:27,605 ERROR       return p(*args, **kwargs)\n",
      "2020-12-07 08:12:27,606 ERROR     File \"/opt/cdstoolbox/cdscompute/cdscompute/services.py\", line 59, in __call__\n",
      "2020-12-07 08:12:27,606 ERROR       return self.proc(context, *args, **kwargs)\n",
      "2020-12-07 08:12:27,606 ERROR     File \"/home/cds/cdsservices_contrib/services/comprehensive_upper_air.py\", line 70, in execute\n",
      "2020-12-07 08:12:27,607 ERROR       'something went wrong in the data provider service, check your query and try later {}'.format(res.content)\n",
      "2020-12-07 08:12:27,608 ERROR   AssertionError: something went wrong in the data provider service, check your query and try later b'\"Invalid variable selected: wind\"'\n",
      "2020-12-07 08:12:27,636 INFO Welcome to the CDS\n",
      "2020-12-07 08:12:27,636 INFO Sending request to https://sis-dev.climate.copernicus.eu/api/v2/resources/insitu-comprehensive-upper-air-observation-network\n",
      "2020-12-07 08:12:27,690 INFO Request is queued\n"
     ]
    },
    {
     "name": "stdout",
     "output_type": "stream",
     "text": [
      "an internal error occurred processing your request. something went wrong in the data provider service, check your query and try later b'\"Invalid variable selected: wind\"'.\n",
      "variable - testing:  humidity\n"
     ]
    },
    {
     "name": "stderr",
     "output_type": "stream",
     "text": [
      "2020-12-07 08:12:28,724 INFO Request is failed\n",
      "2020-12-07 08:12:28,724 ERROR Message: an internal error occurred processing your request\n",
      "2020-12-07 08:12:28,725 ERROR Reason:  something went wrong in the data provider service, check your query and try later b'\"Invalid variable selected: humidity\"'\n",
      "2020-12-07 08:12:28,725 ERROR   Traceback (most recent call last):\n",
      "2020-12-07 08:12:28,725 ERROR     File \"/opt/cdstoolbox/cdscompute/cdscompute/cdshandlers/services/handler.py\", line 49, in handle_request\n",
      "2020-12-07 08:12:28,726 ERROR       result = cached(context.method, proc, context, context.args, context.kwargs)\n",
      "2020-12-07 08:12:28,726 ERROR     File \"/opt/cdstoolbox/cdscompute/cdscompute/caching.py\", line 108, in cached\n",
      "2020-12-07 08:12:28,726 ERROR       result = proc(context, *context.args, **context.kwargs)\n",
      "2020-12-07 08:12:28,726 ERROR     File \"/opt/cdstoolbox/cdscompute/cdscompute/services.py\", line 118, in __call__\n",
      "2020-12-07 08:12:28,727 ERROR       return p(*args, **kwargs)\n",
      "2020-12-07 08:12:28,727 ERROR     File \"/opt/cdstoolbox/cdscompute/cdscompute/services.py\", line 59, in __call__\n",
      "2020-12-07 08:12:28,727 ERROR       return self.proc(context, *args, **kwargs)\n",
      "2020-12-07 08:12:28,728 ERROR     File \"/home/cds/cdsservices_contrib/services/comprehensive_upper_air.py\", line 70, in execute\n",
      "2020-12-07 08:12:28,728 ERROR       'something went wrong in the data provider service, check your query and try later {}'.format(res.content)\n",
      "2020-12-07 08:12:28,728 ERROR   AssertionError: something went wrong in the data provider service, check your query and try later b'\"Invalid variable selected: humidity\"'\n",
      "2020-12-07 08:12:28,757 INFO Welcome to the CDS\n",
      "2020-12-07 08:12:28,757 INFO Sending request to https://sis-dev.climate.copernicus.eu/api/v2/resources/insitu-comprehensive-upper-air-observation-network\n",
      "2020-12-07 08:12:28,813 INFO Request is queued\n"
     ]
    },
    {
     "name": "stdout",
     "output_type": "stream",
     "text": [
      "an internal error occurred processing your request. something went wrong in the data provider service, check your query and try later b'\"Invalid variable selected: humidity\"'.\n",
      "variable - testing:  sonde_type\n"
     ]
    },
    {
     "name": "stderr",
     "output_type": "stream",
     "text": [
      "2020-12-07 08:12:31,462 INFO Request is failed\n",
      "2020-12-07 08:12:31,462 ERROR Message: an internal error occurred processing your request\n",
      "2020-12-07 08:12:31,462 ERROR Reason:  something went wrong in the data provider service, check your query and try later b'\"Invalid variable selected: sonde_type\"'\n",
      "2020-12-07 08:12:31,463 ERROR   Traceback (most recent call last):\n",
      "2020-12-07 08:12:31,463 ERROR     File \"/opt/cdstoolbox/cdscompute/cdscompute/cdshandlers/services/handler.py\", line 49, in handle_request\n",
      "2020-12-07 08:12:31,463 ERROR       result = cached(context.method, proc, context, context.args, context.kwargs)\n",
      "2020-12-07 08:12:31,464 ERROR     File \"/opt/cdstoolbox/cdscompute/cdscompute/caching.py\", line 108, in cached\n",
      "2020-12-07 08:12:31,464 ERROR       result = proc(context, *context.args, **context.kwargs)\n",
      "2020-12-07 08:12:31,464 ERROR     File \"/opt/cdstoolbox/cdscompute/cdscompute/services.py\", line 118, in __call__\n",
      "2020-12-07 08:12:31,464 ERROR       return p(*args, **kwargs)\n",
      "2020-12-07 08:12:31,465 ERROR     File \"/opt/cdstoolbox/cdscompute/cdscompute/services.py\", line 59, in __call__\n",
      "2020-12-07 08:12:31,465 ERROR       return self.proc(context, *args, **kwargs)\n",
      "2020-12-07 08:12:31,465 ERROR     File \"/home/cds/cdsservices_contrib/services/comprehensive_upper_air.py\", line 70, in execute\n",
      "2020-12-07 08:12:31,465 ERROR       'something went wrong in the data provider service, check your query and try later {}'.format(res.content)\n",
      "2020-12-07 08:12:31,466 ERROR   AssertionError: something went wrong in the data provider service, check your query and try later b'\"Invalid variable selected: sonde_type\"'\n",
      "2020-12-07 08:12:31,495 INFO Welcome to the CDS\n",
      "2020-12-07 08:12:31,495 INFO Sending request to https://sis-dev.climate.copernicus.eu/api/v2/resources/insitu-comprehensive-upper-air-observation-network\n",
      "2020-12-07 08:12:31,558 INFO Request is queued\n"
     ]
    },
    {
     "name": "stdout",
     "output_type": "stream",
     "text": [
      "an internal error occurred processing your request. something went wrong in the data provider service, check your query and try later b'\"Invalid variable selected: sonde_type\"'.\n",
      "variable - testing: finished\n",
      "optional - testing:  sonde_type\n"
     ]
    },
    {
     "name": "stderr",
     "output_type": "stream",
     "text": [
      "2020-12-07 08:12:32,591 INFO Request is completed\n",
      "2020-12-07 08:12:32,592 INFO Downloading http://136.156.132.204/cache-compute-0001/cache/data2/adaptor.comprehensive_upper_air.retrieve-1607325151.7605357-9679-3-38b68ab7-400e-4eaa-acd0-bbb01ecbff21.zip to download.zip (91K)\n",
      "2020-12-07 08:12:32,702 INFO Download rate 826K/s\n",
      "2020-12-07 08:12:32,764 INFO Welcome to the CDS\n",
      "2020-12-07 08:12:32,765 INFO Sending request to https://sis-dev.climate.copernicus.eu/api/v2/resources/insitu-comprehensive-upper-air-observation-network\n",
      "2020-12-07 08:12:32,818 INFO Request is queued\n"
     ]
    },
    {
     "name": "stdout",
     "output_type": "stream",
     "text": [
      "optional - testing:  bias_estimate\n"
     ]
    },
    {
     "name": "stderr",
     "output_type": "stream",
     "text": [
      "2020-12-07 08:12:33,852 INFO Request is completed\n",
      "2020-12-07 08:12:33,853 INFO Downloading http://136.156.132.176/cache-compute-0002/cache/data2/adaptor.comprehensive_upper_air.retrieve-1607325153.026056-1360-2-f4359979-5098-47b0-920d-24849bdfa834.zip to download.zip (87.5K)\n",
      "2020-12-07 08:12:33,938 INFO Download rate 1M/s\n",
      "2020-12-07 08:12:34,000 INFO Welcome to the CDS\n",
      "2020-12-07 08:12:34,001 INFO Sending request to https://sis-dev.climate.copernicus.eu/api/v2/resources/insitu-comprehensive-upper-air-observation-network\n",
      "2020-12-07 08:12:34,054 INFO Request is queued\n"
     ]
    },
    {
     "name": "stdout",
     "output_type": "stream",
     "text": [
      "optional - testing:  obs_minus_an\n"
     ]
    },
    {
     "name": "stderr",
     "output_type": "stream",
     "text": [
      "2020-12-07 08:12:35,087 INFO Request is completed\n",
      "2020-12-07 08:12:35,087 INFO Downloading http://136.156.132.176/cache-compute-0002/cache/data2/adaptor.comprehensive_upper_air.retrieve-1607325154.2669883-914-2-e3896d4f-8df3-436b-82f1-f8b0f607def2.zip to download.zip (90.6K)\n",
      "2020-12-07 08:12:35,170 INFO Download rate 1.1M/s\n",
      "2020-12-07 08:12:35,232 INFO Welcome to the CDS\n",
      "2020-12-07 08:12:35,233 INFO Sending request to https://sis-dev.climate.copernicus.eu/api/v2/resources/insitu-comprehensive-upper-air-observation-network\n",
      "2020-12-07 08:12:35,287 INFO Request is queued\n"
     ]
    },
    {
     "name": "stdout",
     "output_type": "stream",
     "text": [
      "optional - testing:  obs_minus_bg\n"
     ]
    },
    {
     "name": "stderr",
     "output_type": "stream",
     "text": [
      "2020-12-07 08:12:36,320 INFO Request is completed\n",
      "2020-12-07 08:12:36,321 INFO Downloading http://136.156.132.176/cache-compute-0002/cache/data2/adaptor.comprehensive_upper_air.retrieve-1607325155.502096-1313-2-8da0644b-24fa-4934-8d63-658c0374680b.zip to download.zip (90.6K)\n",
      "2020-12-07 08:12:36,430 INFO Download rate 833.7K/s\n",
      "2020-12-07 08:12:36,491 INFO Welcome to the CDS\n",
      "2020-12-07 08:12:36,492 INFO Sending request to https://sis-dev.climate.copernicus.eu/api/v2/resources/insitu-comprehensive-upper-air-observation-network\n",
      "2020-12-07 08:12:36,546 INFO Request is queued\n"
     ]
    },
    {
     "name": "stdout",
     "output_type": "stream",
     "text": [
      "optional - testing:  sonde\n"
     ]
    },
    {
     "name": "stderr",
     "output_type": "stream",
     "text": [
      "2020-12-07 08:12:37,579 INFO Request is failed\n",
      "2020-12-07 08:12:37,579 ERROR Message: an internal error occurred processing your request\n",
      "2020-12-07 08:12:37,579 ERROR Reason:  something went wrong in the data provider service, check your query and try later b'\"Invalid optional selected: sonde\"'\n",
      "2020-12-07 08:12:37,580 ERROR   Traceback (most recent call last):\n",
      "2020-12-07 08:12:37,580 ERROR     File \"/opt/cdstoolbox/cdscompute/cdscompute/cdshandlers/services/handler.py\", line 49, in handle_request\n",
      "2020-12-07 08:12:37,580 ERROR       result = cached(context.method, proc, context, context.args, context.kwargs)\n",
      "2020-12-07 08:12:37,581 ERROR     File \"/opt/cdstoolbox/cdscompute/cdscompute/caching.py\", line 108, in cached\n",
      "2020-12-07 08:12:37,581 ERROR       result = proc(context, *context.args, **context.kwargs)\n",
      "2020-12-07 08:12:37,582 ERROR     File \"/opt/cdstoolbox/cdscompute/cdscompute/services.py\", line 118, in __call__\n",
      "2020-12-07 08:12:37,582 ERROR       return p(*args, **kwargs)\n",
      "2020-12-07 08:12:37,582 ERROR     File \"/opt/cdstoolbox/cdscompute/cdscompute/services.py\", line 59, in __call__\n",
      "2020-12-07 08:12:37,582 ERROR       return self.proc(context, *args, **kwargs)\n",
      "2020-12-07 08:12:37,583 ERROR     File \"/home/cds/cdsservices_contrib/services/comprehensive_upper_air.py\", line 70, in execute\n",
      "2020-12-07 08:12:37,583 ERROR       'something went wrong in the data provider service, check your query and try later {}'.format(res.content)\n",
      "2020-12-07 08:12:37,583 ERROR   AssertionError: something went wrong in the data provider service, check your query and try later b'\"Invalid optional selected: sonde\"'\n",
      "2020-12-07 08:12:37,612 INFO Welcome to the CDS\n",
      "2020-12-07 08:12:37,612 INFO Sending request to https://sis-dev.climate.copernicus.eu/api/v2/resources/insitu-comprehensive-upper-air-observation-network\n",
      "2020-12-07 08:12:37,666 INFO Request is queued\n"
     ]
    },
    {
     "name": "stdout",
     "output_type": "stream",
     "text": [
      "an internal error occurred processing your request. something went wrong in the data provider service, check your query and try later b'\"Invalid optional selected: sonde\"'.\n",
      "optional - testing:  air_temperature\n"
     ]
    },
    {
     "name": "stderr",
     "output_type": "stream",
     "text": [
      "2020-12-07 08:12:38,699 INFO Request is failed\n",
      "2020-12-07 08:12:38,700 ERROR Message: an internal error occurred processing your request\n",
      "2020-12-07 08:12:38,700 ERROR Reason:  something went wrong in the data provider service, check your query and try later b'\"Invalid optional selected: air_temperature\"'\n",
      "2020-12-07 08:12:38,700 ERROR   Traceback (most recent call last):\n",
      "2020-12-07 08:12:38,701 ERROR     File \"/opt/cdstoolbox/cdscompute/cdscompute/cdshandlers/services/handler.py\", line 49, in handle_request\n",
      "2020-12-07 08:12:38,701 ERROR       result = cached(context.method, proc, context, context.args, context.kwargs)\n",
      "2020-12-07 08:12:38,701 ERROR     File \"/opt/cdstoolbox/cdscompute/cdscompute/caching.py\", line 108, in cached\n",
      "2020-12-07 08:12:38,701 ERROR       result = proc(context, *context.args, **context.kwargs)\n",
      "2020-12-07 08:12:38,702 ERROR     File \"/opt/cdstoolbox/cdscompute/cdscompute/services.py\", line 118, in __call__\n",
      "2020-12-07 08:12:38,702 ERROR       return p(*args, **kwargs)\n",
      "2020-12-07 08:12:38,702 ERROR     File \"/opt/cdstoolbox/cdscompute/cdscompute/services.py\", line 59, in __call__\n",
      "2020-12-07 08:12:38,702 ERROR       return self.proc(context, *args, **kwargs)\n",
      "2020-12-07 08:12:38,703 ERROR     File \"/home/cds/cdsservices_contrib/services/comprehensive_upper_air.py\", line 70, in execute\n",
      "2020-12-07 08:12:38,703 ERROR       'something went wrong in the data provider service, check your query and try later {}'.format(res.content)\n",
      "2020-12-07 08:12:38,703 ERROR   AssertionError: something went wrong in the data provider service, check your query and try later b'\"Invalid optional selected: air_temperature\"'\n",
      "2020-12-07 08:12:38,732 INFO Welcome to the CDS\n",
      "2020-12-07 08:12:38,733 INFO Sending request to https://sis-dev.climate.copernicus.eu/api/v2/resources/insitu-comprehensive-upper-air-observation-network\n",
      "2020-12-07 08:12:38,786 INFO Request is queued\n"
     ]
    },
    {
     "name": "stdout",
     "output_type": "stream",
     "text": [
      "an internal error occurred processing your request. something went wrong in the data provider service, check your query and try later b'\"Invalid optional selected: air_temperature\"'.\n",
      "optional - testing:  dew_point_temperature\n"
     ]
    },
    {
     "name": "stderr",
     "output_type": "stream",
     "text": [
      "2020-12-07 08:12:39,819 INFO Request is failed\n",
      "2020-12-07 08:12:39,820 ERROR Message: an internal error occurred processing your request\n",
      "2020-12-07 08:12:39,820 ERROR Reason:  something went wrong in the data provider service, check your query and try later b'\"Invalid optional selected: dew_point_temperature\"'\n",
      "2020-12-07 08:12:39,820 ERROR   Traceback (most recent call last):\n",
      "2020-12-07 08:12:39,821 ERROR     File \"/opt/cdstoolbox/cdscompute/cdscompute/cdshandlers/services/handler.py\", line 49, in handle_request\n",
      "2020-12-07 08:12:39,821 ERROR       result = cached(context.method, proc, context, context.args, context.kwargs)\n",
      "2020-12-07 08:12:39,821 ERROR     File \"/opt/cdstoolbox/cdscompute/cdscompute/caching.py\", line 108, in cached\n",
      "2020-12-07 08:12:39,821 ERROR       result = proc(context, *context.args, **context.kwargs)\n",
      "2020-12-07 08:12:39,822 ERROR     File \"/opt/cdstoolbox/cdscompute/cdscompute/services.py\", line 118, in __call__\n",
      "2020-12-07 08:12:39,822 ERROR       return p(*args, **kwargs)\n",
      "2020-12-07 08:12:39,822 ERROR     File \"/opt/cdstoolbox/cdscompute/cdscompute/services.py\", line 59, in __call__\n",
      "2020-12-07 08:12:39,823 ERROR       return self.proc(context, *args, **kwargs)\n",
      "2020-12-07 08:12:39,823 ERROR     File \"/home/cds/cdsservices_contrib/services/comprehensive_upper_air.py\", line 70, in execute\n",
      "2020-12-07 08:12:39,823 ERROR       'something went wrong in the data provider service, check your query and try later {}'.format(res.content)\n",
      "2020-12-07 08:12:39,823 ERROR   AssertionError: something went wrong in the data provider service, check your query and try later b'\"Invalid optional selected: dew_point_temperature\"'\n",
      "2020-12-07 08:12:39,853 INFO Welcome to the CDS\n",
      "2020-12-07 08:12:39,853 INFO Sending request to https://sis-dev.climate.copernicus.eu/api/v2/resources/insitu-comprehensive-upper-air-observation-network\n",
      "2020-12-07 08:12:39,907 INFO Request is queued\n"
     ]
    },
    {
     "name": "stdout",
     "output_type": "stream",
     "text": [
      "an internal error occurred processing your request. something went wrong in the data provider service, check your query and try later b'\"Invalid optional selected: dew_point_temperature\"'.\n",
      "optional - testing: finished\n",
      "area - testing:  [-40, 140, 80, 359]\n"
     ]
    },
    {
     "name": "stderr",
     "output_type": "stream",
     "text": [
      "2020-12-07 08:12:40,940 INFO Request is running\n",
      "2020-12-07 08:12:53,267 INFO Request is completed\n",
      "2020-12-07 08:12:53,268 INFO Downloading http://136.156.132.176/cache-compute-0000/cache/data1/adaptor.comprehensive_upper_air.retrieve-1607325169.3167834-9539-7-831a4387-fcd8-476f-aa0c-53321b85fe92.zip to download.zip (49.7M)\n",
      "2020-12-07 08:12:56,919 INFO Download rate 13.6M/s  \n",
      "2020-12-07 08:12:56,983 INFO Welcome to the CDS\n",
      "2020-12-07 08:12:56,983 INFO Sending request to https://sis-dev.climate.copernicus.eu/api/v2/resources/insitu-comprehensive-upper-air-observation-network\n",
      "2020-12-07 08:12:57,040 INFO Request is queued\n"
     ]
    },
    {
     "name": "stdout",
     "output_type": "stream",
     "text": [
      "area - testing:  [40, 0, 50, 20]\n"
     ]
    },
    {
     "name": "stderr",
     "output_type": "stream",
     "text": [
      "2020-12-07 08:12:58,073 INFO Request is running\n",
      "2020-12-07 08:13:10,400 INFO Request is completed\n",
      "2020-12-07 08:13:10,401 INFO Downloading http://136.156.132.176/cache-compute-0000/cache/data1/adaptor.comprehensive_upper_air.retrieve-1607325186.4334984-9695-7-81af603c-371f-4d2d-96c2-e937263a9f42.zip to download.zip (49.7M)\n",
      "2020-12-07 08:13:16,636 INFO Download rate 8M/s     \n",
      "2020-12-07 08:13:16,699 INFO Welcome to the CDS\n",
      "2020-12-07 08:13:16,699 INFO Sending request to https://sis-dev.climate.copernicus.eu/api/v2/resources/insitu-comprehensive-upper-air-observation-network\n",
      "2020-12-07 08:13:16,755 INFO Request is queued\n"
     ]
    },
    {
     "name": "stdout",
     "output_type": "stream",
     "text": [
      "area - testing:  [-40, 140, 80, 360]\n"
     ]
    },
    {
     "name": "stderr",
     "output_type": "stream",
     "text": [
      "2020-12-07 08:13:17,788 INFO Request is running\n",
      "2020-12-07 08:13:30,116 INFO Request is completed\n",
      "2020-12-07 08:13:30,117 INFO Downloading http://136.156.132.176/cache-compute-0000/cache/data1/adaptor.comprehensive_upper_air.retrieve-1607325206.1127195-9380-7-903f526c-d9e0-4874-a002-3110dfb51cd7.zip to download.zip (49.7M)\n",
      "2020-12-07 08:13:35,321 INFO Download rate 9.5M/s   \n",
      "2020-12-07 08:13:35,385 INFO Welcome to the CDS\n",
      "2020-12-07 08:13:35,386 INFO Sending request to https://sis-dev.climate.copernicus.eu/api/v2/resources/insitu-comprehensive-upper-air-observation-network\n",
      "2020-12-07 08:13:35,445 INFO Request is queued\n"
     ]
    },
    {
     "name": "stdout",
     "output_type": "stream",
     "text": [
      "area - testing:  [0, 0, 0, 0]\n"
     ]
    },
    {
     "name": "stderr",
     "output_type": "stream",
     "text": [
      "2020-12-07 08:13:36,477 INFO Request is running\n",
      "2020-12-07 08:13:48,805 INFO Request is completed\n",
      "2020-12-07 08:13:48,806 INFO Downloading http://136.156.132.176/cache-compute-0000/cache/data1/adaptor.comprehensive_upper_air.retrieve-1607325225.1971283-9461-7-f28c1c67-808f-4310-83e3-98634a5c0df2.zip to download.zip (49.7M)\n",
      "2020-12-07 08:13:55,613 INFO Download rate 7.3M/s   \n",
      "2020-12-07 08:13:55,677 INFO Welcome to the CDS\n",
      "2020-12-07 08:13:55,678 INFO Sending request to https://sis-dev.climate.copernicus.eu/api/v2/resources/insitu-comprehensive-upper-air-observation-network\n",
      "2020-12-07 08:13:55,734 INFO Request is queued\n"
     ]
    },
    {
     "name": "stdout",
     "output_type": "stream",
     "text": [
      "area - testing:  [50, 20, 40, 0]\n"
     ]
    },
    {
     "name": "stderr",
     "output_type": "stream",
     "text": [
      "2020-12-07 08:13:56,768 INFO Request is running\n",
      "2020-12-07 08:14:09,094 INFO Request is completed\n",
      "2020-12-07 08:14:09,095 INFO Downloading http://136.156.132.176/cache-compute-0000/cache/data1/adaptor.comprehensive_upper_air.retrieve-1607325245.3765728-9624-7-27beeb33-df03-4c25-96bf-25e42fc5b07d.zip to download.zip (49.7M)\n",
      "2020-12-07 08:14:16,580 INFO Download rate 6.6M/s   \n",
      "2020-12-07 08:14:16,643 INFO Welcome to the CDS\n",
      "2020-12-07 08:14:16,643 INFO Sending request to https://sis-dev.climate.copernicus.eu/api/v2/resources/insitu-comprehensive-upper-air-observation-network\n",
      "2020-12-07 08:14:16,699 INFO Request is queued\n"
     ]
    },
    {
     "name": "stdout",
     "output_type": "stream",
     "text": [
      "area - testing: finished\n",
      "country - testing:  GLOBE\n"
     ]
    },
    {
     "name": "stderr",
     "output_type": "stream",
     "text": [
      "2020-12-07 08:14:17,731 INFO Request is running\n",
      "2020-12-07 08:14:30,064 INFO Request is completed\n",
      "2020-12-07 08:14:30,065 INFO Downloading http://136.156.132.176/cache-compute-0000/cache/data1/adaptor.comprehensive_upper_air.retrieve-1607325266.6180575-24240-3-18c7be4e-d65e-45c2-8367-3450ea739294.zip to download.zip (49.7M)\n",
      "2020-12-07 08:14:37,108 INFO Download rate 7.1M/s   \n",
      "2020-12-07 08:14:37,171 INFO Welcome to the CDS\n",
      "2020-12-07 08:14:37,171 INFO Sending request to https://sis-dev.climate.copernicus.eu/api/v2/resources/insitu-comprehensive-upper-air-observation-network\n",
      "2020-12-07 08:14:37,227 INFO Request is queued\n"
     ]
    },
    {
     "name": "stdout",
     "output_type": "stream",
     "text": [
      "country - testing:  ALL\n"
     ]
    },
    {
     "name": "stderr",
     "output_type": "stream",
     "text": [
      "2020-12-07 08:14:38,260 INFO Request is running\n",
      "2020-12-07 08:14:50,585 INFO Request is completed\n",
      "2020-12-07 08:14:50,586 INFO Downloading http://136.156.132.176/cache-compute-0000/cache/data1/adaptor.comprehensive_upper_air.retrieve-1607325287.0477288-9745-5-a9f3661e-619d-4bd5-af4e-80fd7a7773d9.zip to download.zip (49.7M)\n",
      "2020-12-07 08:14:55,855 INFO Download rate 9.4M/s   \n",
      "2020-12-07 08:14:55,919 INFO Welcome to the CDS\n",
      "2020-12-07 08:14:55,919 INFO Sending request to https://sis-dev.climate.copernicus.eu/api/v2/resources/insitu-comprehensive-upper-air-observation-network\n",
      "2020-12-07 08:14:55,981 INFO Request is queued\n"
     ]
    },
    {
     "name": "stdout",
     "output_type": "stream",
     "text": [
      "country - testing:  NOR\n"
     ]
    },
    {
     "name": "stderr",
     "output_type": "stream",
     "text": [
      "2020-12-07 08:14:57,013 INFO Request is completed\n",
      "2020-12-07 08:14:57,013 INFO Downloading http://136.156.132.176/cache-compute-0000/cache/data1/adaptor.comprehensive_upper_air.retrieve-1607325296.3095827-9667-7-52a0d102-235f-4b30-b0e2-7a3a585f3c43.zip to download.zip (250.5K)\n",
      "2020-12-07 08:14:57,148 INFO Download rate 1.8M/s \n",
      "2020-12-07 08:14:57,210 INFO Welcome to the CDS\n",
      "2020-12-07 08:14:57,211 INFO Sending request to https://sis-dev.climate.copernicus.eu/api/v2/resources/insitu-comprehensive-upper-air-observation-network\n",
      "2020-12-07 08:14:57,268 INFO Request is queued\n"
     ]
    },
    {
     "name": "stdout",
     "output_type": "stream",
     "text": [
      "country - testing:  ['NOR', 'DEU']\n"
     ]
    },
    {
     "name": "stderr",
     "output_type": "stream",
     "text": [
      "2020-12-07 08:14:58,301 INFO Request is completed\n",
      "2020-12-07 08:14:58,301 INFO Downloading http://136.156.132.176/cache-compute-0002/cache/data2/adaptor.comprehensive_upper_air.retrieve-1607325297.672749-771-8-7ee3db5a-d19d-424a-ace6-37215a868847.zip to download.zip (862.5K)\n",
      "2020-12-07 08:14:58,493 INFO Download rate 4.4M/s \n",
      "2020-12-07 08:14:58,556 INFO Welcome to the CDS\n",
      "2020-12-07 08:14:58,556 INFO Sending request to https://sis-dev.climate.copernicus.eu/api/v2/resources/insitu-comprehensive-upper-air-observation-network\n",
      "2020-12-07 08:14:58,613 INFO Request is queued\n"
     ]
    },
    {
     "name": "stdout",
     "output_type": "stream",
     "text": [
      "country - testing:  NORWAY\n"
     ]
    },
    {
     "name": "stderr",
     "output_type": "stream",
     "text": [
      "2020-12-07 08:14:59,645 INFO Request is failed\n",
      "2020-12-07 08:14:59,646 ERROR Message: an internal error occurred processing your request\n",
      "2020-12-07 08:14:59,646 ERROR Reason:  something went wrong in the data provider service, check your query and try later b'\"Invalid selection, NORWAY is not a valid country code\"'\n",
      "2020-12-07 08:14:59,646 ERROR   Traceback (most recent call last):\n",
      "2020-12-07 08:14:59,646 ERROR     File \"/opt/cdstoolbox/cdscompute/cdscompute/cdshandlers/services/handler.py\", line 49, in handle_request\n",
      "2020-12-07 08:14:59,647 ERROR       result = cached(context.method, proc, context, context.args, context.kwargs)\n",
      "2020-12-07 08:14:59,647 ERROR     File \"/opt/cdstoolbox/cdscompute/cdscompute/caching.py\", line 108, in cached\n",
      "2020-12-07 08:14:59,648 ERROR       result = proc(context, *context.args, **context.kwargs)\n",
      "2020-12-07 08:14:59,648 ERROR     File \"/opt/cdstoolbox/cdscompute/cdscompute/services.py\", line 118, in __call__\n",
      "2020-12-07 08:14:59,648 ERROR       return p(*args, **kwargs)\n",
      "2020-12-07 08:14:59,649 ERROR     File \"/opt/cdstoolbox/cdscompute/cdscompute/services.py\", line 59, in __call__\n",
      "2020-12-07 08:14:59,649 ERROR       return self.proc(context, *args, **kwargs)\n",
      "2020-12-07 08:14:59,649 ERROR     File \"/home/cds/cdsservices_contrib/services/comprehensive_upper_air.py\", line 70, in execute\n",
      "2020-12-07 08:14:59,649 ERROR       'something went wrong in the data provider service, check your query and try later {}'.format(res.content)\n",
      "2020-12-07 08:14:59,650 ERROR   AssertionError: something went wrong in the data provider service, check your query and try later b'\"Invalid selection, NORWAY is not a valid country code\"'\n",
      "2020-12-07 08:14:59,678 INFO Welcome to the CDS\n",
      "2020-12-07 08:14:59,678 INFO Sending request to https://sis-dev.climate.copernicus.eu/api/v2/resources/insitu-comprehensive-upper-air-observation-network\n",
      "2020-12-07 08:14:59,732 INFO Request is queued\n"
     ]
    },
    {
     "name": "stdout",
     "output_type": "stream",
     "text": [
      "an internal error occurred processing your request. something went wrong in the data provider service, check your query and try later b'\"Invalid selection, NORWAY is not a valid country code\"'.\n",
      "country - testing:  nor\n"
     ]
    },
    {
     "name": "stderr",
     "output_type": "stream",
     "text": [
      "2020-12-07 08:15:00,765 INFO Request is failed\n",
      "2020-12-07 08:15:00,766 ERROR Message: an internal error occurred processing your request\n",
      "2020-12-07 08:15:00,766 ERROR Reason:  something went wrong in the data provider service, check your query and try later b'\"Invalid selection, nor is not a valid country code\"'\n",
      "2020-12-07 08:15:00,766 ERROR   Traceback (most recent call last):\n",
      "2020-12-07 08:15:00,766 ERROR     File \"/opt/cdstoolbox/cdscompute/cdscompute/cdshandlers/services/handler.py\", line 49, in handle_request\n",
      "2020-12-07 08:15:00,767 ERROR       result = cached(context.method, proc, context, context.args, context.kwargs)\n",
      "2020-12-07 08:15:00,767 ERROR     File \"/opt/cdstoolbox/cdscompute/cdscompute/caching.py\", line 108, in cached\n",
      "2020-12-07 08:15:00,767 ERROR       result = proc(context, *context.args, **context.kwargs)\n",
      "2020-12-07 08:15:00,768 ERROR     File \"/opt/cdstoolbox/cdscompute/cdscompute/services.py\", line 118, in __call__\n",
      "2020-12-07 08:15:00,768 ERROR       return p(*args, **kwargs)\n",
      "2020-12-07 08:15:00,768 ERROR     File \"/opt/cdstoolbox/cdscompute/cdscompute/services.py\", line 59, in __call__\n",
      "2020-12-07 08:15:00,768 ERROR       return self.proc(context, *args, **kwargs)\n",
      "2020-12-07 08:15:00,769 ERROR     File \"/home/cds/cdsservices_contrib/services/comprehensive_upper_air.py\", line 70, in execute\n",
      "2020-12-07 08:15:00,769 ERROR       'something went wrong in the data provider service, check your query and try later {}'.format(res.content)\n",
      "2020-12-07 08:15:00,769 ERROR   AssertionError: something went wrong in the data provider service, check your query and try later b'\"Invalid selection, nor is not a valid country code\"'\n",
      "2020-12-07 08:15:00,798 INFO Welcome to the CDS\n",
      "2020-12-07 08:15:00,798 INFO Sending request to https://sis-dev.climate.copernicus.eu/api/v2/resources/insitu-comprehensive-upper-air-observation-network\n",
      "2020-12-07 08:15:00,852 INFO Request is queued\n"
     ]
    },
    {
     "name": "stdout",
     "output_type": "stream",
     "text": [
      "an internal error occurred processing your request. something went wrong in the data provider service, check your query and try later b'\"Invalid selection, nor is not a valid country code\"'.\n",
      "country - testing: finished\n",
      "date - testing:  None\n"
     ]
    },
    {
     "name": "stderr",
     "output_type": "stream",
     "text": [
      "2020-12-07 08:15:01,888 INFO Request is running\n",
      "2020-12-07 08:15:03,505 INFO Request is completed\n",
      "2020-12-07 08:15:03,505 INFO Downloading http://136.156.132.176/cache-compute-0000/cache/data2/adaptor.comprehensive_upper_air.retrieve-1607325303.0894585-2298-3-97627bae-4429-4099-9dee-37deef56e879.zip to download.zip (40M)\n",
      "2020-12-07 08:15:07,892 INFO Download rate 9.1M/s   \n",
      "2020-12-07 08:15:07,956 INFO Welcome to the CDS\n",
      "2020-12-07 08:15:07,956 INFO Sending request to https://sis-dev.climate.copernicus.eu/api/v2/resources/insitu-comprehensive-upper-air-observation-network\n",
      "2020-12-07 08:15:08,014 INFO Request is queued\n"
     ]
    },
    {
     "name": "stdout",
     "output_type": "stream",
     "text": [
      "date - testing:  20000101\n"
     ]
    },
    {
     "name": "stderr",
     "output_type": "stream",
     "text": [
      "2020-12-07 08:15:09,048 INFO Request is completed\n",
      "2020-12-07 08:15:09,048 INFO Downloading http://136.156.132.176/cache-compute-0000/cache/data1/adaptor.comprehensive_upper_air.retrieve-1607325308.2004485-15513-2-122208a6-6ebb-4717-94f4-8f131b228815.zip to download.zip (23.6K)\n",
      "2020-12-07 08:15:09,104 INFO Download rate 425.3K/s\n",
      "2020-12-07 08:15:09,168 INFO Welcome to the CDS\n",
      "2020-12-07 08:15:09,168 INFO Sending request to https://sis-dev.climate.copernicus.eu/api/v2/resources/insitu-comprehensive-upper-air-observation-network\n",
      "2020-12-07 08:15:09,226 INFO Request is queued\n"
     ]
    },
    {
     "name": "stdout",
     "output_type": "stream",
     "text": [
      "date - testing:  20000101-20000201\n"
     ]
    },
    {
     "name": "stderr",
     "output_type": "stream",
     "text": [
      "2020-12-07 08:15:10,259 INFO Request is completed\n",
      "2020-12-07 08:15:10,259 INFO Downloading http://136.156.132.176/cache-compute-0000/cache/data1/adaptor.comprehensive_upper_air.retrieve-1607325309.3906496-10544-3-b31a2dbf-e7c9-4846-abf4-b251ae8d2dd2.zip to download.zip (69.4K)\n",
      "2020-12-07 08:15:10,342 INFO Download rate 844.2K/s\n",
      "2020-12-07 08:15:10,405 INFO Welcome to the CDS\n",
      "2020-12-07 08:15:10,405 INFO Sending request to https://sis-dev.climate.copernicus.eu/api/v2/resources/insitu-comprehensive-upper-air-observation-network\n",
      "2020-12-07 08:15:10,463 INFO Request is queued\n"
     ]
    },
    {
     "name": "stdout",
     "output_type": "stream",
     "text": [
      "date - testing:  ['20000101', '20000103', '20000106']\n"
     ]
    },
    {
     "name": "stderr",
     "output_type": "stream",
     "text": [
      "2020-12-07 08:15:11,496 INFO Request is completed\n",
      "2020-12-07 08:15:11,497 INFO Downloading http://136.156.132.176/cache-compute-0000/cache/data1/adaptor.comprehensive_upper_air.retrieve-1607325310.6534572-10501-3-7865bb0f-522b-41d4-9194-a3ec9ed7e072.zip to download.zip (31.6K)\n",
      "2020-12-07 08:15:11,582 INFO Download rate 371.9K/s\n",
      "2020-12-07 08:15:11,645 INFO Welcome to the CDS\n",
      "2020-12-07 08:15:11,645 INFO Sending request to https://sis-dev.climate.copernicus.eu/api/v2/resources/insitu-comprehensive-upper-air-observation-network\n",
      "2020-12-07 08:15:11,700 INFO Request is queued\n"
     ]
    },
    {
     "name": "stdout",
     "output_type": "stream",
     "text": [
      "date - testing:  ['20000102', '20000101']\n"
     ]
    },
    {
     "name": "stderr",
     "output_type": "stream",
     "text": [
      "2020-12-07 08:15:12,733 INFO Request is completed\n",
      "2020-12-07 08:15:12,733 INFO Downloading http://136.156.132.176/cache-compute-0000/cache/data1/adaptor.comprehensive_upper_air.retrieve-1607325311.869154-10456-3-7faf7eaa-96c1-41fe-84c2-8a4ccb688ce8.zip to download.zip (25.6K)\n",
      "2020-12-07 08:15:12,790 INFO Download rate 451.6K/s\n",
      "2020-12-07 08:15:12,852 INFO Welcome to the CDS\n",
      "2020-12-07 08:15:12,853 INFO Sending request to https://sis-dev.climate.copernicus.eu/api/v2/resources/insitu-comprehensive-upper-air-observation-network\n",
      "2020-12-07 08:15:12,907 INFO Request is queued\n"
     ]
    },
    {
     "name": "stdout",
     "output_type": "stream",
     "text": [
      "date - testing:  2000011\n"
     ]
    },
    {
     "name": "stderr",
     "output_type": "stream",
     "text": [
      "2020-12-07 08:15:13,940 INFO Request is failed\n",
      "2020-12-07 08:15:13,941 ERROR Message: an internal error occurred processing your request\n",
      "2020-12-07 08:15:13,941 ERROR Reason:  something went wrong in the data provider service, check your query and try later b'\"only valid dates allowed for date: 2000011\"'\n",
      "2020-12-07 08:15:13,941 ERROR   Traceback (most recent call last):\n",
      "2020-12-07 08:15:13,941 ERROR     File \"/opt/cdstoolbox/cdscompute/cdscompute/cdshandlers/services/handler.py\", line 49, in handle_request\n",
      "2020-12-07 08:15:13,942 ERROR       result = cached(context.method, proc, context, context.args, context.kwargs)\n",
      "2020-12-07 08:15:13,942 ERROR     File \"/opt/cdstoolbox/cdscompute/cdscompute/caching.py\", line 108, in cached\n",
      "2020-12-07 08:15:13,942 ERROR       result = proc(context, *context.args, **context.kwargs)\n",
      "2020-12-07 08:15:13,942 ERROR     File \"/opt/cdstoolbox/cdscompute/cdscompute/services.py\", line 118, in __call__\n",
      "2020-12-07 08:15:13,943 ERROR       return p(*args, **kwargs)\n",
      "2020-12-07 08:15:13,943 ERROR     File \"/opt/cdstoolbox/cdscompute/cdscompute/services.py\", line 59, in __call__\n",
      "2020-12-07 08:15:13,943 ERROR       return self.proc(context, *args, **kwargs)\n",
      "2020-12-07 08:15:13,944 ERROR     File \"/home/cds/cdsservices_contrib/services/comprehensive_upper_air.py\", line 70, in execute\n",
      "2020-12-07 08:15:13,944 ERROR       'something went wrong in the data provider service, check your query and try later {}'.format(res.content)\n",
      "2020-12-07 08:15:13,944 ERROR   AssertionError: something went wrong in the data provider service, check your query and try later b'\"only valid dates allowed for date: 2000011\"'\n",
      "2020-12-07 08:15:13,973 INFO Welcome to the CDS\n",
      "2020-12-07 08:15:13,974 INFO Sending request to https://sis-dev.climate.copernicus.eu/api/v2/resources/insitu-comprehensive-upper-air-observation-network\n",
      "2020-12-07 08:15:14,030 INFO Request is queued\n"
     ]
    },
    {
     "name": "stdout",
     "output_type": "stream",
     "text": [
      "an internal error occurred processing your request. something went wrong in the data provider service, check your query and try later b'\"only valid dates allowed for date: 2000011\"'.\n",
      "date - testing:  20000100\n"
     ]
    },
    {
     "name": "stderr",
     "output_type": "stream",
     "text": [
      "2020-12-07 08:15:15,064 INFO Request is failed\n",
      "2020-12-07 08:15:15,065 ERROR Message: an internal error occurred processing your request\n",
      "2020-12-07 08:15:15,065 ERROR Reason:  something went wrong in the data provider service, check your query and try later b'\"only valid dates allowed for date: 20000100\"'\n",
      "2020-12-07 08:15:15,065 ERROR   Traceback (most recent call last):\n",
      "2020-12-07 08:15:15,066 ERROR     File \"/opt/cdstoolbox/cdscompute/cdscompute/cdshandlers/services/handler.py\", line 49, in handle_request\n",
      "2020-12-07 08:15:15,066 ERROR       result = cached(context.method, proc, context, context.args, context.kwargs)\n",
      "2020-12-07 08:15:15,066 ERROR     File \"/opt/cdstoolbox/cdscompute/cdscompute/caching.py\", line 108, in cached\n",
      "2020-12-07 08:15:15,066 ERROR       result = proc(context, *context.args, **context.kwargs)\n",
      "2020-12-07 08:15:15,067 ERROR     File \"/opt/cdstoolbox/cdscompute/cdscompute/services.py\", line 118, in __call__\n",
      "2020-12-07 08:15:15,067 ERROR       return p(*args, **kwargs)\n",
      "2020-12-07 08:15:15,067 ERROR     File \"/opt/cdstoolbox/cdscompute/cdscompute/services.py\", line 59, in __call__\n",
      "2020-12-07 08:15:15,068 ERROR       return self.proc(context, *args, **kwargs)\n",
      "2020-12-07 08:15:15,068 ERROR     File \"/home/cds/cdsservices_contrib/services/comprehensive_upper_air.py\", line 70, in execute\n",
      "2020-12-07 08:15:15,068 ERROR       'something went wrong in the data provider service, check your query and try later {}'.format(res.content)\n",
      "2020-12-07 08:15:15,068 ERROR   AssertionError: something went wrong in the data provider service, check your query and try later b'\"only valid dates allowed for date: 20000100\"'\n",
      "2020-12-07 08:15:15,098 INFO Welcome to the CDS\n",
      "2020-12-07 08:15:15,098 INFO Sending request to https://sis-dev.climate.copernicus.eu/api/v2/resources/insitu-comprehensive-upper-air-observation-network\n",
      "2020-12-07 08:15:15,156 INFO Request is queued\n"
     ]
    },
    {
     "name": "stdout",
     "output_type": "stream",
     "text": [
      "an internal error occurred processing your request. something went wrong in the data provider service, check your query and try later b'\"only valid dates allowed for date: 20000100\"'.\n",
      "date - testing:  00000000\n"
     ]
    },
    {
     "name": "stderr",
     "output_type": "stream",
     "text": [
      "2020-12-07 08:15:16,190 INFO Request is failed\n",
      "2020-12-07 08:15:16,190 ERROR Message: an internal error occurred processing your request\n",
      "2020-12-07 08:15:16,190 ERROR Reason:  something went wrong in the data provider service, check your query and try later b'\"only valid dates allowed for date: 00000000\"'\n",
      "2020-12-07 08:15:16,191 ERROR   Traceback (most recent call last):\n",
      "2020-12-07 08:15:16,191 ERROR     File \"/opt/cdstoolbox/cdscompute/cdscompute/cdshandlers/services/handler.py\", line 49, in handle_request\n",
      "2020-12-07 08:15:16,191 ERROR       result = cached(context.method, proc, context, context.args, context.kwargs)\n",
      "2020-12-07 08:15:16,191 ERROR     File \"/opt/cdstoolbox/cdscompute/cdscompute/caching.py\", line 108, in cached\n",
      "2020-12-07 08:15:16,192 ERROR       result = proc(context, *context.args, **context.kwargs)\n",
      "2020-12-07 08:15:16,192 ERROR     File \"/opt/cdstoolbox/cdscompute/cdscompute/services.py\", line 118, in __call__\n",
      "2020-12-07 08:15:16,192 ERROR       return p(*args, **kwargs)\n",
      "2020-12-07 08:15:16,192 ERROR     File \"/opt/cdstoolbox/cdscompute/cdscompute/services.py\", line 59, in __call__\n",
      "2020-12-07 08:15:16,193 ERROR       return self.proc(context, *args, **kwargs)\n",
      "2020-12-07 08:15:16,193 ERROR     File \"/home/cds/cdsservices_contrib/services/comprehensive_upper_air.py\", line 70, in execute\n",
      "2020-12-07 08:15:16,193 ERROR       'something went wrong in the data provider service, check your query and try later {}'.format(res.content)\n",
      "2020-12-07 08:15:16,193 ERROR   AssertionError: something went wrong in the data provider service, check your query and try later b'\"only valid dates allowed for date: 00000000\"'\n",
      "2020-12-07 08:15:16,223 INFO Welcome to the CDS\n",
      "2020-12-07 08:15:16,223 INFO Sending request to https://sis-dev.climate.copernicus.eu/api/v2/resources/insitu-comprehensive-upper-air-observation-network\n",
      "2020-12-07 08:15:16,281 INFO Request is queued\n"
     ]
    },
    {
     "name": "stdout",
     "output_type": "stream",
     "text": [
      "an internal error occurred processing your request. something went wrong in the data provider service, check your query and try later b'\"only valid dates allowed for date: 00000000\"'.\n",
      "date - testing:  20000132\n"
     ]
    },
    {
     "name": "stderr",
     "output_type": "stream",
     "text": [
      "2020-12-07 08:15:17,315 INFO Request is completed\n",
      "2020-12-07 08:15:17,315 INFO Downloading http://136.156.132.176/cache-compute-0002/cache/data2/adaptor.comprehensive_upper_air.retrieve-1607325316.4975026-1035-4-d4f63556-6503-4acd-af84-ff57af806fc3.zip to download.zip (23.6K)\n",
      "2020-12-07 08:15:17,372 INFO Download rate 419.2K/s\n",
      "2020-12-07 08:15:17,434 INFO Welcome to the CDS\n",
      "2020-12-07 08:15:17,434 INFO Sending request to https://sis-dev.climate.copernicus.eu/api/v2/resources/insitu-comprehensive-upper-air-observation-network\n",
      "2020-12-07 08:15:17,490 INFO Request is queued\n"
     ]
    },
    {
     "name": "stdout",
     "output_type": "stream",
     "text": [
      "date - testing:  20001301\n"
     ]
    },
    {
     "name": "stderr",
     "output_type": "stream",
     "text": [
      "2020-12-07 08:15:18,523 INFO Request is failed\n",
      "2020-12-07 08:15:18,523 ERROR Message: an internal error occurred processing your request\n",
      "2020-12-07 08:15:18,524 ERROR Reason:  something went wrong in the data provider service, check your query and try later b'\"only valid dates allowed for date: 20001301\"'\n",
      "2020-12-07 08:15:18,524 ERROR   Traceback (most recent call last):\n",
      "2020-12-07 08:15:18,524 ERROR     File \"/opt/cdstoolbox/cdscompute/cdscompute/cdshandlers/services/handler.py\", line 49, in handle_request\n",
      "2020-12-07 08:15:18,525 ERROR       result = cached(context.method, proc, context, context.args, context.kwargs)\n",
      "2020-12-07 08:15:18,525 ERROR     File \"/opt/cdstoolbox/cdscompute/cdscompute/caching.py\", line 108, in cached\n",
      "2020-12-07 08:15:18,525 ERROR       result = proc(context, *context.args, **context.kwargs)\n",
      "2020-12-07 08:15:18,525 ERROR     File \"/opt/cdstoolbox/cdscompute/cdscompute/services.py\", line 118, in __call__\n",
      "2020-12-07 08:15:18,526 ERROR       return p(*args, **kwargs)\n",
      "2020-12-07 08:15:18,526 ERROR     File \"/opt/cdstoolbox/cdscompute/cdscompute/services.py\", line 59, in __call__\n",
      "2020-12-07 08:15:18,526 ERROR       return self.proc(context, *args, **kwargs)\n",
      "2020-12-07 08:15:18,526 ERROR     File \"/home/cds/cdsservices_contrib/services/comprehensive_upper_air.py\", line 70, in execute\n",
      "2020-12-07 08:15:18,527 ERROR       'something went wrong in the data provider service, check your query and try later {}'.format(res.content)\n",
      "2020-12-07 08:15:18,527 ERROR   AssertionError: something went wrong in the data provider service, check your query and try later b'\"only valid dates allowed for date: 20001301\"'\n",
      "2020-12-07 08:15:18,556 INFO Welcome to the CDS\n",
      "2020-12-07 08:15:18,557 INFO Sending request to https://sis-dev.climate.copernicus.eu/api/v2/resources/insitu-comprehensive-upper-air-observation-network\n",
      "2020-12-07 08:15:18,612 INFO Request is queued\n"
     ]
    },
    {
     "name": "stdout",
     "output_type": "stream",
     "text": [
      "an internal error occurred processing your request. something went wrong in the data provider service, check your query and try later b'\"only valid dates allowed for date: 20001301\"'.\n",
      "date - testing: finished\n",
      "period - testing:  None\n"
     ]
    },
    {
     "name": "stderr",
     "output_type": "stream",
     "text": [
      "2020-12-07 08:15:19,646 INFO Request is running\n",
      "2020-12-07 08:15:23,465 INFO Request is completed\n",
      "2020-12-07 08:15:23,466 INFO Downloading http://136.156.132.176/cache-compute-0000/cache/data1/adaptor.comprehensive_upper_air.retrieve-1607325320.9608095-10179-6-a1eccc7c-d6dc-4c35-9792-22f790f48c4b.zip to download.zip (40M)\n",
      "2020-12-07 08:15:27,326 INFO Download rate 10.4M/s  \n",
      "2020-12-07 08:15:27,391 INFO Welcome to the CDS\n",
      "2020-12-07 08:15:27,391 INFO Sending request to https://sis-dev.climate.copernicus.eu/api/v2/resources/insitu-comprehensive-upper-air-observation-network\n",
      "2020-12-07 08:15:27,447 INFO Request is queued\n"
     ]
    },
    {
     "name": "stdout",
     "output_type": "stream",
     "text": [
      "period - testing:  1979-01-01/1980-08-16\n"
     ]
    },
    {
     "name": "stderr",
     "output_type": "stream",
     "text": [
      "2020-12-07 08:15:28,480 INFO Request is completed\n",
      "2020-12-07 08:15:28,480 INFO Downloading http://136.156.132.176/cache-compute-0000/cache/data1/adaptor.comprehensive_upper_air.retrieve-1607325327.7762518-10044-6-def17904-f784-443b-9a32-53f346e2830f.zip to download.zip (517.4K)\n",
      "2020-12-07 08:15:28,642 INFO Download rate 3.1M/s \n",
      "2020-12-07 08:15:28,705 INFO Welcome to the CDS\n",
      "2020-12-07 08:15:28,705 INFO Sending request to https://sis-dev.climate.copernicus.eu/api/v2/resources/insitu-comprehensive-upper-air-observation-network\n",
      "2020-12-07 08:15:28,760 INFO Request is queued\n"
     ]
    },
    {
     "name": "stdout",
     "output_type": "stream",
     "text": [
      "period - testing:  1980-01-02/1980-01-01\n"
     ]
    },
    {
     "name": "stderr",
     "output_type": "stream",
     "text": [
      "2020-12-07 08:15:29,793 INFO Request is failed\n",
      "2020-12-07 08:15:29,794 ERROR Message: an internal error occurred processing your request\n",
      "2020-12-07 08:15:29,794 ERROR Reason:  something went wrong in the data provider service, check your query and try later b'\"Error: exception \\\\\"No data in specified time interval\\\\\" occurred while reading /data/public/merged/0-20000-0-11035_CEUAS_merged_v0.nc ({\\'variable\\': [\\'temperature\\'], \\'format\\': \\'nc\\', \\'statid\\': [\\'0-20000-0-11035\\'], \\'date\\': [\\'19800102\\', \\'19800101\\']})\"'\n",
      "2020-12-07 08:15:29,794 ERROR   Traceback (most recent call last):\n",
      "2020-12-07 08:15:29,795 ERROR     File \"/opt/cdstoolbox/cdscompute/cdscompute/cdshandlers/services/handler.py\", line 49, in handle_request\n",
      "2020-12-07 08:15:29,795 ERROR       result = cached(context.method, proc, context, context.args, context.kwargs)\n",
      "2020-12-07 08:15:29,795 ERROR     File \"/opt/cdstoolbox/cdscompute/cdscompute/caching.py\", line 108, in cached\n",
      "2020-12-07 08:15:29,795 ERROR       result = proc(context, *context.args, **context.kwargs)\n",
      "2020-12-07 08:15:29,796 ERROR     File \"/opt/cdstoolbox/cdscompute/cdscompute/services.py\", line 118, in __call__\n",
      "2020-12-07 08:15:29,796 ERROR       return p(*args, **kwargs)\n",
      "2020-12-07 08:15:29,796 ERROR     File \"/opt/cdstoolbox/cdscompute/cdscompute/services.py\", line 59, in __call__\n",
      "2020-12-07 08:15:29,797 ERROR       return self.proc(context, *args, **kwargs)\n",
      "2020-12-07 08:15:29,797 ERROR     File \"/home/cds/cdsservices_contrib/services/comprehensive_upper_air.py\", line 70, in execute\n",
      "2020-12-07 08:15:29,797 ERROR       'something went wrong in the data provider service, check your query and try later {}'.format(res.content)\n",
      "2020-12-07 08:15:29,797 ERROR   AssertionError: something went wrong in the data provider service, check your query and try later b'\"Error: exception \\\\\"No data in specified time interval\\\\\" occurred while reading /data/public/merged/0-20000-0-11035_CEUAS_merged_v0.nc ({\\'variable\\': [\\'temperature\\'], \\'format\\': \\'nc\\', \\'statid\\': [\\'0-20000-0-11035\\'], \\'date\\': [\\'19800102\\', \\'19800101\\']})\"'\n",
      "2020-12-07 08:15:29,827 INFO Welcome to the CDS\n",
      "2020-12-07 08:15:29,827 INFO Sending request to https://sis-dev.climate.copernicus.eu/api/v2/resources/insitu-comprehensive-upper-air-observation-network\n",
      "2020-12-07 08:15:29,880 INFO Request is queued\n"
     ]
    },
    {
     "name": "stdout",
     "output_type": "stream",
     "text": [
      "an internal error occurred processing your request. something went wrong in the data provider service, check your query and try later b'\"Error: exception \\\\\"No data in specified time interval\\\\\" occurred while reading /data/public/merged/0-20000-0-11035_CEUAS_merged_v0.nc ({\\'variable\\': [\\'temperature\\'], \\'format\\': \\'nc\\', \\'statid\\': [\\'0-20000-0-11035\\'], \\'date\\': [\\'19800102\\', \\'19800101\\']})\"'.\n",
      "period - testing: finished\n",
      "pressure_level - testing:  100\n"
     ]
    },
    {
     "name": "stderr",
     "output_type": "stream",
     "text": [
      "2020-12-07 08:15:30,913 INFO Request is completed\n",
      "2020-12-07 08:15:30,913 INFO Downloading http://136.156.132.204/cache-compute-0001/cache/data2/adaptor.comprehensive_upper_air.retrieve-1607325330.0437715-9258-2-49191d93-2574-442f-bd5e-94bdc5b9f079.zip to download.zip (23.6K)\n",
      "2020-12-07 08:15:31,000 INFO Download rate 272.8K/s\n",
      "2020-12-07 08:15:31,063 INFO Welcome to the CDS\n",
      "2020-12-07 08:15:31,063 INFO Sending request to https://sis-dev.climate.copernicus.eu/api/v2/resources/insitu-comprehensive-upper-air-observation-network\n",
      "2020-12-07 08:15:31,118 INFO Request is queued\n"
     ]
    },
    {
     "name": "stdout",
     "output_type": "stream",
     "text": [
      "pressure_level - testing:  100\n"
     ]
    },
    {
     "name": "stderr",
     "output_type": "stream",
     "text": [
      "2020-12-07 08:15:32,151 INFO Request is completed\n",
      "2020-12-07 08:15:32,152 INFO Downloading http://136.156.132.204/cache-compute-0001/cache/data2/adaptor.comprehensive_upper_air.retrieve-1607325331.28685-9454-2-24eca1bf-b947-4938-9e9f-19b8d7c640cc.zip to download.zip (23.6K)\n",
      "2020-12-07 08:15:32,209 INFO Download rate 415.3K/s\n",
      "2020-12-07 08:15:32,272 INFO Welcome to the CDS\n",
      "2020-12-07 08:15:32,272 INFO Sending request to https://sis-dev.climate.copernicus.eu/api/v2/resources/insitu-comprehensive-upper-air-observation-network\n",
      "2020-12-07 08:15:32,328 INFO Request is queued\n"
     ]
    },
    {
     "name": "stdout",
     "output_type": "stream",
     "text": [
      "pressure_level - testing:  [100, 200]\n"
     ]
    },
    {
     "name": "stderr",
     "output_type": "stream",
     "text": [
      "2020-12-07 08:15:33,361 INFO Request is completed\n",
      "2020-12-07 08:15:33,362 INFO Downloading http://136.156.132.176/cache-compute-0000/cache/data2/adaptor.comprehensive_upper_air.retrieve-1607325332.4847925-10322-3-23101415-830e-49d8-9e3b-c902b0f782f5.zip to download.zip (23.6K)\n",
      "2020-12-07 08:15:33,419 INFO Download rate 414K/s\n",
      "2020-12-07 08:15:33,482 INFO Welcome to the CDS\n",
      "2020-12-07 08:15:33,482 INFO Sending request to https://sis-dev.climate.copernicus.eu/api/v2/resources/insitu-comprehensive-upper-air-observation-network\n",
      "2020-12-07 08:15:33,538 INFO Request is queued\n"
     ]
    },
    {
     "name": "stdout",
     "output_type": "stream",
     "text": [
      "pressure_level - testing:  ['100', '200']\n"
     ]
    },
    {
     "name": "stderr",
     "output_type": "stream",
     "text": [
      "2020-12-07 08:15:34,571 INFO Request is completed\n",
      "2020-12-07 08:15:34,571 INFO Downloading http://136.156.132.176/cache-compute-0000/cache/data2/adaptor.comprehensive_upper_air.retrieve-1607325333.703882-10367-3-3d9a1945-4015-4322-9d8c-97faa01f89cf.zip to download.zip (23.6K)\n",
      "2020-12-07 08:15:34,628 INFO Download rate 419.4K/s\n",
      "2020-12-07 08:15:34,690 INFO Welcome to the CDS\n",
      "2020-12-07 08:15:34,691 INFO Sending request to https://sis-dev.climate.copernicus.eu/api/v2/resources/insitu-comprehensive-upper-air-observation-network\n",
      "2020-12-07 08:15:34,749 INFO Request is queued\n"
     ]
    },
    {
     "name": "stdout",
     "output_type": "stream",
     "text": [
      "pressure_level - testing:  0\n"
     ]
    },
    {
     "name": "stderr",
     "output_type": "stream",
     "text": [
      "2020-12-07 08:15:35,782 INFO Request is failed\n",
      "2020-12-07 08:15:35,782 ERROR Message: an internal error occurred processing your request\n",
      "2020-12-07 08:15:35,783 ERROR Reason:  something went wrong in the data provider service, check your query and try later b'\"invalid selection, pressure_level out of range [5-1100 hPa]: 0 Pa\"'\n",
      "2020-12-07 08:15:35,783 ERROR   Traceback (most recent call last):\n",
      "2020-12-07 08:15:35,784 ERROR     File \"/opt/cdstoolbox/cdscompute/cdscompute/cdshandlers/services/handler.py\", line 49, in handle_request\n",
      "2020-12-07 08:15:35,784 ERROR       result = cached(context.method, proc, context, context.args, context.kwargs)\n",
      "2020-12-07 08:15:35,785 ERROR     File \"/opt/cdstoolbox/cdscompute/cdscompute/caching.py\", line 108, in cached\n",
      "2020-12-07 08:15:35,785 ERROR       result = proc(context, *context.args, **context.kwargs)\n",
      "2020-12-07 08:15:35,786 ERROR     File \"/opt/cdstoolbox/cdscompute/cdscompute/services.py\", line 118, in __call__\n",
      "2020-12-07 08:15:35,786 ERROR       return p(*args, **kwargs)\n",
      "2020-12-07 08:15:35,786 ERROR     File \"/opt/cdstoolbox/cdscompute/cdscompute/services.py\", line 59, in __call__\n",
      "2020-12-07 08:15:35,787 ERROR       return self.proc(context, *args, **kwargs)\n",
      "2020-12-07 08:15:35,787 ERROR     File \"/home/cds/cdsservices_contrib/services/comprehensive_upper_air.py\", line 70, in execute\n",
      "2020-12-07 08:15:35,788 ERROR       'something went wrong in the data provider service, check your query and try later {}'.format(res.content)\n",
      "2020-12-07 08:15:35,788 ERROR   AssertionError: something went wrong in the data provider service, check your query and try later b'\"invalid selection, pressure_level out of range [5-1100 hPa]: 0 Pa\"'\n",
      "2020-12-07 08:15:35,819 INFO Welcome to the CDS\n",
      "2020-12-07 08:15:35,819 INFO Sending request to https://sis-dev.climate.copernicus.eu/api/v2/resources/insitu-comprehensive-upper-air-observation-network\n",
      "2020-12-07 08:15:35,894 INFO Request is queued\n"
     ]
    },
    {
     "name": "stdout",
     "output_type": "stream",
     "text": [
      "an internal error occurred processing your request. something went wrong in the data provider service, check your query and try later b'\"invalid selection, pressure_level out of range [5-1100 hPa]: 0 Pa\"'.\n",
      "pressure_level - testing:  2000\n"
     ]
    },
    {
     "name": "stderr",
     "output_type": "stream",
     "text": [
      "2020-12-07 08:15:36,927 INFO Request is failed\n",
      "2020-12-07 08:15:36,927 ERROR Message: an internal error occurred processing your request\n",
      "2020-12-07 08:15:36,927 ERROR Reason:  something went wrong in the data provider service, check your query and try later b'\"invalid selection, pressure_level out of range [5-1100 hPa]: 200000 Pa\"'\n",
      "2020-12-07 08:15:36,928 ERROR   Traceback (most recent call last):\n",
      "2020-12-07 08:15:36,928 ERROR     File \"/opt/cdstoolbox/cdscompute/cdscompute/cdshandlers/services/handler.py\", line 49, in handle_request\n",
      "2020-12-07 08:15:36,929 ERROR       result = cached(context.method, proc, context, context.args, context.kwargs)\n",
      "2020-12-07 08:15:36,929 ERROR     File \"/opt/cdstoolbox/cdscompute/cdscompute/caching.py\", line 108, in cached\n",
      "2020-12-07 08:15:36,930 ERROR       result = proc(context, *context.args, **context.kwargs)\n",
      "2020-12-07 08:15:36,930 ERROR     File \"/opt/cdstoolbox/cdscompute/cdscompute/services.py\", line 118, in __call__\n",
      "2020-12-07 08:15:36,931 ERROR       return p(*args, **kwargs)\n",
      "2020-12-07 08:15:36,931 ERROR     File \"/opt/cdstoolbox/cdscompute/cdscompute/services.py\", line 59, in __call__\n",
      "2020-12-07 08:15:36,932 ERROR       return self.proc(context, *args, **kwargs)\n",
      "2020-12-07 08:15:36,932 ERROR     File \"/home/cds/cdsservices_contrib/services/comprehensive_upper_air.py\", line 70, in execute\n",
      "2020-12-07 08:15:36,932 ERROR       'something went wrong in the data provider service, check your query and try later {}'.format(res.content)\n",
      "2020-12-07 08:15:36,933 ERROR   AssertionError: something went wrong in the data provider service, check your query and try later b'\"invalid selection, pressure_level out of range [5-1100 hPa]: 200000 Pa\"'\n",
      "2020-12-07 08:15:36,963 INFO Welcome to the CDS\n",
      "2020-12-07 08:15:36,964 INFO Sending request to https://sis-dev.climate.copernicus.eu/api/v2/resources/insitu-comprehensive-upper-air-observation-network\n",
      "2020-12-07 08:15:37,037 INFO Request is queued\n"
     ]
    },
    {
     "name": "stdout",
     "output_type": "stream",
     "text": [
      "an internal error occurred processing your request. something went wrong in the data provider service, check your query and try later b'\"invalid selection, pressure_level out of range [5-1100 hPa]: 200000 Pa\"'.\n",
      "pressure_level - testing: finished\n",
      "time - testing:  [22, 23, 0, 1, 2, 3]\n"
     ]
    },
    {
     "name": "stderr",
     "output_type": "stream",
     "text": [
      "2020-12-07 08:15:38,070 INFO Request is completed\n",
      "2020-12-07 08:15:38,071 INFO Downloading http://136.156.132.204/cache-compute-0001/cache/data2/adaptor.comprehensive_upper_air.retrieve-1607325337.333187-5419-2-16d3b08e-fc05-4601-9939-3b6df0d715d6.zip to download.zip (43.3K)\n",
      "2020-12-07 08:15:38,154 INFO Download rate 521.3K/s\n",
      "2020-12-07 08:15:38,216 INFO Welcome to the CDS\n",
      "2020-12-07 08:15:38,217 INFO Sending request to https://sis-dev.climate.copernicus.eu/api/v2/resources/insitu-comprehensive-upper-air-observation-network\n",
      "2020-12-07 08:15:38,274 INFO Request is queued\n"
     ]
    },
    {
     "name": "stdout",
     "output_type": "stream",
     "text": [
      "time - testing:  ['22', '23', '00', '01', '02', '03']\n"
     ]
    },
    {
     "name": "stderr",
     "output_type": "stream",
     "text": [
      "2020-12-07 08:15:39,308 INFO Request is completed\n",
      "2020-12-07 08:15:39,308 INFO Downloading http://136.156.132.176/cache-compute-0002/cache/data1/adaptor.comprehensive_upper_air.retrieve-1607325338.4479666-559-3-0e06b2b5-8e0f-43c8-8a65-8d70f0f53e4b.zip to download.zip (43.3K)\n",
      "2020-12-07 08:15:39,392 INFO Download rate 521.4K/s\n",
      "2020-12-07 08:15:39,454 INFO Welcome to the CDS\n",
      "2020-12-07 08:15:39,455 INFO Sending request to https://sis-dev.climate.copernicus.eu/api/v2/resources/insitu-comprehensive-upper-air-observation-network\n",
      "2020-12-07 08:15:39,510 INFO Request is queued\n"
     ]
    },
    {
     "name": "stdout",
     "output_type": "stream",
     "text": [
      "time - testing:  \n"
     ]
    },
    {
     "name": "stderr",
     "output_type": "stream",
     "text": [
      "2020-12-07 08:15:40,543 INFO Request is completed\n",
      "2020-12-07 08:15:40,544 INFO Downloading http://136.156.132.176/cache-compute-0002/cache/data1/adaptor.comprehensive_upper_air.retrieve-1607325339.67733-1217-3-0de17b45-367a-415a-867d-e3ac2fd7ae2d.zip to download.zip (67.9K)\n",
      "2020-12-07 08:15:40,628 INFO Download rate 813.3K/s\n",
      "2020-12-07 08:15:40,690 INFO Welcome to the CDS\n",
      "2020-12-07 08:15:40,691 INFO Sending request to https://sis-dev.climate.copernicus.eu/api/v2/resources/insitu-comprehensive-upper-air-observation-network\n",
      "2020-12-07 08:15:40,745 INFO Request is queued\n"
     ]
    },
    {
     "name": "stdout",
     "output_type": "stream",
     "text": [
      "time - testing:  0\n"
     ]
    },
    {
     "name": "stderr",
     "output_type": "stream",
     "text": [
      "2020-12-07 08:15:41,779 INFO Request is completed\n",
      "2020-12-07 08:15:41,779 INFO Downloading http://136.156.132.176/cache-compute-0002/cache/data1/adaptor.comprehensive_upper_air.retrieve-1607325340.9062743-479-3-a51a8249-7ea6-4d58-968b-1e519a2ceb2f.zip to download.zip (44.1K)\n",
      "2020-12-07 08:15:41,863 INFO Download rate 532.5K/s\n",
      "2020-12-07 08:15:41,927 INFO Welcome to the CDS\n",
      "2020-12-07 08:15:41,927 INFO Sending request to https://sis-dev.climate.copernicus.eu/api/v2/resources/insitu-comprehensive-upper-air-observation-network\n",
      "2020-12-07 08:15:41,983 INFO Request is queued\n"
     ]
    },
    {
     "name": "stdout",
     "output_type": "stream",
     "text": [
      "time - testing:  00\n"
     ]
    },
    {
     "name": "stderr",
     "output_type": "stream",
     "text": [
      "2020-12-07 08:15:43,017 INFO Request is completed\n",
      "2020-12-07 08:15:43,017 INFO Downloading http://136.156.132.176/cache-compute-0002/cache/data1/adaptor.comprehensive_upper_air.retrieve-1607325342.143778-678-3-5f814ea4-259c-4be3-adf1-a4fac5cc4a0f.zip to download.zip (44.1K)\n",
      "2020-12-07 08:15:43,101 INFO Download rate 531.4K/s\n",
      "2020-12-07 08:15:43,162 INFO Welcome to the CDS\n",
      "2020-12-07 08:15:43,163 INFO Sending request to https://sis-dev.climate.copernicus.eu/api/v2/resources/insitu-comprehensive-upper-air-observation-network\n",
      "2020-12-07 08:15:43,221 INFO Request is queued\n"
     ]
    },
    {
     "name": "stdout",
     "output_type": "stream",
     "text": [
      "time - testing:  ['00']\n"
     ]
    },
    {
     "name": "stderr",
     "output_type": "stream",
     "text": [
      "2020-12-07 08:15:44,254 INFO Request is completed\n",
      "2020-12-07 08:15:44,255 INFO Downloading http://136.156.132.176/cache-compute-0002/cache/data1/adaptor.comprehensive_upper_air.retrieve-1607325343.3955417-625-3-5287e6d8-ee51-43dd-9374-aeca872cfaa8.zip to download.zip (44.1K)\n",
      "2020-12-07 08:15:44,338 INFO Download rate 532.5K/s\n",
      "2020-12-07 08:15:44,403 INFO Welcome to the CDS\n",
      "2020-12-07 08:15:44,403 INFO Sending request to https://sis-dev.climate.copernicus.eu/api/v2/resources/insitu-comprehensive-upper-air-observation-network\n",
      "2020-12-07 08:15:44,467 INFO Request is queued\n"
     ]
    },
    {
     "name": "stdout",
     "output_type": "stream",
     "text": [
      "time - testing:  [0, 12]\n"
     ]
    },
    {
     "name": "stderr",
     "output_type": "stream",
     "text": [
      "2020-12-07 08:15:45,500 INFO Request is completed\n",
      "2020-12-07 08:15:45,500 INFO Downloading http://136.156.132.176/cache-compute-0002/cache/data1/adaptor.comprehensive_upper_air.retrieve-1607325344.63604-400-3-6dfed0d0-74b7-4b8c-b2a3-5fc6887d5244.zip to download.zip (65.7K)\n",
      "2020-12-07 08:15:45,584 INFO Download rate 789.9K/s\n",
      "2020-12-07 08:15:45,648 INFO Welcome to the CDS\n",
      "2020-12-07 08:15:45,648 INFO Sending request to https://sis-dev.climate.copernicus.eu/api/v2/resources/insitu-comprehensive-upper-air-observation-network\n",
      "2020-12-07 08:15:45,726 INFO Request is queued\n"
     ]
    },
    {
     "name": "stdout",
     "output_type": "stream",
     "text": [
      "time - testing:  ['0', '12']\n"
     ]
    },
    {
     "name": "stderr",
     "output_type": "stream",
     "text": [
      "2020-12-07 08:15:46,759 INFO Request is completed\n",
      "2020-12-07 08:15:46,760 INFO Downloading http://136.156.132.176/cache-compute-0002/cache/data1/adaptor.comprehensive_upper_air.retrieve-1607325345.8890529-842-3-4bd9628a-ffb9-4e5c-ab17-12d84d2a99a1.zip to download.zip (65.7K)\n",
      "2020-12-07 08:15:46,844 INFO Download rate 787.6K/s\n",
      "2020-12-07 08:15:46,988 INFO Welcome to the CDS\n",
      "2020-12-07 08:15:46,988 INFO Sending request to https://sis-dev.climate.copernicus.eu/api/v2/resources/insitu-comprehensive-upper-air-observation-network\n",
      "2020-12-07 08:15:47,051 INFO Request is queued\n"
     ]
    },
    {
     "name": "stdout",
     "output_type": "stream",
     "text": [
      "time - testing:  24\n"
     ]
    },
    {
     "name": "stderr",
     "output_type": "stream",
     "text": [
      "2020-12-07 08:15:48,084 INFO Request is failed\n",
      "2020-12-07 08:15:48,085 ERROR Message: an internal error occurred processing your request\n",
      "2020-12-07 08:15:48,085 ERROR Reason:  something went wrong in the data provider service, check your query and try later b'\"Error: exception \\\\\"\\\\\" occurred while reading /data/public/merged/0-20000-0-11035_CEUAS_merged_v0.nc ({\\'variable\\': [\\'temperature\\'], \\'format\\': \\'nc\\', \\'statid\\': [\\'0-20000-0-11035\\'], \\'date\\': [\\'20100101\\', \\'20100201\\'], \\'time\\': [\\'24\\']})\"'\n",
      "2020-12-07 08:15:48,086 ERROR   Traceback (most recent call last):\n",
      "2020-12-07 08:15:48,086 ERROR     File \"/opt/cdstoolbox/cdscompute/cdscompute/cdshandlers/services/handler.py\", line 49, in handle_request\n",
      "2020-12-07 08:15:48,086 ERROR       result = cached(context.method, proc, context, context.args, context.kwargs)\n",
      "2020-12-07 08:15:48,087 ERROR     File \"/opt/cdstoolbox/cdscompute/cdscompute/caching.py\", line 108, in cached\n",
      "2020-12-07 08:15:48,087 ERROR       result = proc(context, *context.args, **context.kwargs)\n",
      "2020-12-07 08:15:48,087 ERROR     File \"/opt/cdstoolbox/cdscompute/cdscompute/services.py\", line 118, in __call__\n",
      "2020-12-07 08:15:48,088 ERROR       return p(*args, **kwargs)\n",
      "2020-12-07 08:15:48,088 ERROR     File \"/opt/cdstoolbox/cdscompute/cdscompute/services.py\", line 59, in __call__\n",
      "2020-12-07 08:15:48,088 ERROR       return self.proc(context, *args, **kwargs)\n",
      "2020-12-07 08:15:48,089 ERROR     File \"/home/cds/cdsservices_contrib/services/comprehensive_upper_air.py\", line 70, in execute\n",
      "2020-12-07 08:15:48,089 ERROR       'something went wrong in the data provider service, check your query and try later {}'.format(res.content)\n",
      "2020-12-07 08:15:48,089 ERROR   AssertionError: something went wrong in the data provider service, check your query and try later b'\"Error: exception \\\\\"\\\\\" occurred while reading /data/public/merged/0-20000-0-11035_CEUAS_merged_v0.nc ({\\'variable\\': [\\'temperature\\'], \\'format\\': \\'nc\\', \\'statid\\': [\\'0-20000-0-11035\\'], \\'date\\': [\\'20100101\\', \\'20100201\\'], \\'time\\': [\\'24\\']})\"'\n",
      "2020-12-07 08:15:48,119 INFO Welcome to the CDS\n",
      "2020-12-07 08:15:48,119 INFO Sending request to https://sis-dev.climate.copernicus.eu/api/v2/resources/insitu-comprehensive-upper-air-observation-network\n",
      "2020-12-07 08:15:48,178 INFO Request is queued\n"
     ]
    },
    {
     "name": "stdout",
     "output_type": "stream",
     "text": [
      "an internal error occurred processing your request. something went wrong in the data provider service, check your query and try later b'\"Error: exception \\\\\"\\\\\" occurred while reading /data/public/merged/0-20000-0-11035_CEUAS_merged_v0.nc ({\\'variable\\': [\\'temperature\\'], \\'format\\': \\'nc\\', \\'statid\\': [\\'0-20000-0-11035\\'], \\'date\\': [\\'20100101\\', \\'20100201\\'], \\'time\\': [\\'24\\']})\"'.\n",
      "time - testing:  25\n"
     ]
    },
    {
     "name": "stderr",
     "output_type": "stream",
     "text": [
      "2020-12-07 08:15:49,211 INFO Request is failed\n",
      "2020-12-07 08:15:49,212 ERROR Message: an internal error occurred processing your request\n",
      "2020-12-07 08:15:49,212 ERROR Reason:  something went wrong in the data provider service, check your query and try later b'\"invalid selection, time allows only integer, 25\"'\n",
      "2020-12-07 08:15:49,212 ERROR   Traceback (most recent call last):\n",
      "2020-12-07 08:15:49,213 ERROR     File \"/opt/cdstoolbox/cdscompute/cdscompute/cdshandlers/services/handler.py\", line 49, in handle_request\n",
      "2020-12-07 08:15:49,213 ERROR       result = cached(context.method, proc, context, context.args, context.kwargs)\n",
      "2020-12-07 08:15:49,213 ERROR     File \"/opt/cdstoolbox/cdscompute/cdscompute/caching.py\", line 108, in cached\n",
      "2020-12-07 08:15:49,214 ERROR       result = proc(context, *context.args, **context.kwargs)\n",
      "2020-12-07 08:15:49,214 ERROR     File \"/opt/cdstoolbox/cdscompute/cdscompute/services.py\", line 118, in __call__\n",
      "2020-12-07 08:15:49,214 ERROR       return p(*args, **kwargs)\n",
      "2020-12-07 08:15:49,215 ERROR     File \"/opt/cdstoolbox/cdscompute/cdscompute/services.py\", line 59, in __call__\n",
      "2020-12-07 08:15:49,215 ERROR       return self.proc(context, *args, **kwargs)\n",
      "2020-12-07 08:15:49,215 ERROR     File \"/home/cds/cdsservices_contrib/services/comprehensive_upper_air.py\", line 70, in execute\n",
      "2020-12-07 08:15:49,216 ERROR       'something went wrong in the data provider service, check your query and try later {}'.format(res.content)\n",
      "2020-12-07 08:15:49,216 ERROR   AssertionError: something went wrong in the data provider service, check your query and try later b'\"invalid selection, time allows only integer, 25\"'\n",
      "2020-12-07 08:15:49,245 INFO Welcome to the CDS\n",
      "2020-12-07 08:15:49,246 INFO Sending request to https://sis-dev.climate.copernicus.eu/api/v2/resources/insitu-comprehensive-upper-air-observation-network\n",
      "2020-12-07 08:15:49,308 INFO Request is queued\n"
     ]
    },
    {
     "name": "stdout",
     "output_type": "stream",
     "text": [
      "an internal error occurred processing your request. something went wrong in the data provider service, check your query and try later b'\"invalid selection, time allows only integer, 25\"'.\n",
      "time - testing:  12.5\n"
     ]
    },
    {
     "name": "stderr",
     "output_type": "stream",
     "text": [
      "2020-12-07 08:15:50,342 INFO Request is failed\n",
      "2020-12-07 08:15:50,343 ERROR Message: an internal error occurred processing your request\n",
      "2020-12-07 08:15:50,343 ERROR Reason:  something went wrong in the data provider service, check your query and try later b'\"invalid selection, time allows only integer, 12.5\"'\n",
      "2020-12-07 08:15:50,344 ERROR   Traceback (most recent call last):\n",
      "2020-12-07 08:15:50,344 ERROR     File \"/opt/cdstoolbox/cdscompute/cdscompute/cdshandlers/services/handler.py\", line 49, in handle_request\n",
      "2020-12-07 08:15:50,344 ERROR       result = cached(context.method, proc, context, context.args, context.kwargs)\n",
      "2020-12-07 08:15:50,345 ERROR     File \"/opt/cdstoolbox/cdscompute/cdscompute/caching.py\", line 108, in cached\n",
      "2020-12-07 08:15:50,345 ERROR       result = proc(context, *context.args, **context.kwargs)\n",
      "2020-12-07 08:15:50,345 ERROR     File \"/opt/cdstoolbox/cdscompute/cdscompute/services.py\", line 118, in __call__\n",
      "2020-12-07 08:15:50,346 ERROR       return p(*args, **kwargs)\n",
      "2020-12-07 08:15:50,346 ERROR     File \"/opt/cdstoolbox/cdscompute/cdscompute/services.py\", line 59, in __call__\n",
      "2020-12-07 08:15:50,346 ERROR       return self.proc(context, *args, **kwargs)\n",
      "2020-12-07 08:15:50,347 ERROR     File \"/home/cds/cdsservices_contrib/services/comprehensive_upper_air.py\", line 70, in execute\n",
      "2020-12-07 08:15:50,347 ERROR       'something went wrong in the data provider service, check your query and try later {}'.format(res.content)\n",
      "2020-12-07 08:15:50,347 ERROR   AssertionError: something went wrong in the data provider service, check your query and try later b'\"invalid selection, time allows only integer, 12.5\"'\n",
      "2020-12-07 08:15:50,377 INFO Welcome to the CDS\n",
      "2020-12-07 08:15:50,378 INFO Sending request to https://sis-dev.climate.copernicus.eu/api/v2/resources/insitu-comprehensive-upper-air-observation-network\n",
      "2020-12-07 08:15:50,447 INFO Request is queued\n"
     ]
    },
    {
     "name": "stdout",
     "output_type": "stream",
     "text": [
      "an internal error occurred processing your request. something went wrong in the data provider service, check your query and try later b'\"invalid selection, time allows only integer, 12.5\"'.\n",
      "time - testing: finished\n",
      "format - testing:  None\n"
     ]
    },
    {
     "name": "stderr",
     "output_type": "stream",
     "text": [
      "2020-12-07 08:15:51,480 INFO Request is completed\n",
      "2020-12-07 08:15:51,481 INFO Downloading http://136.156.132.176/cache-compute-0002/cache/data1/adaptor.comprehensive_upper_air.retrieve-1607325350.7287073-7414-6-2fc73f37-102d-4e2d-b6e2-9d3874744495.zip to download.zip (67.9K)\n",
      "2020-12-07 08:15:51,563 INFO Download rate 827.1K/s\n",
      "2020-12-07 08:15:51,625 INFO Welcome to the CDS\n",
      "2020-12-07 08:15:51,626 INFO Sending request to https://sis-dev.climate.copernicus.eu/api/v2/resources/insitu-comprehensive-upper-air-observation-network\n",
      "2020-12-07 08:15:51,686 INFO Request is queued\n"
     ]
    },
    {
     "name": "stdout",
     "output_type": "stream",
     "text": [
      "format - testing:  csv\n"
     ]
    },
    {
     "name": "stderr",
     "output_type": "stream",
     "text": [
      "2020-12-07 08:15:52,719 INFO Request is completed\n",
      "2020-12-07 08:15:52,720 INFO Downloading http://136.156.132.176/cache-compute-0002/cache/data1/adaptor.comprehensive_upper_air.retrieve-1607325352.0269558-10928-4-e390371d-ab5f-4b74-b7ff-ff6eae8bc680.zip to download.zip (29.1K)\n",
      "2020-12-07 08:15:52,777 INFO Download rate 511.5K/s\n",
      "2020-12-07 08:15:52,840 INFO Welcome to the CDS\n",
      "2020-12-07 08:15:52,840 INFO Sending request to https://sis-dev.climate.copernicus.eu/api/v2/resources/insitu-comprehensive-upper-air-observation-network\n",
      "2020-12-07 08:15:52,914 INFO Request is queued\n"
     ]
    },
    {
     "name": "stdout",
     "output_type": "stream",
     "text": [
      "format - testing:  nc\n"
     ]
    },
    {
     "name": "stderr",
     "output_type": "stream",
     "text": [
      "2020-12-07 08:15:53,947 INFO Request is completed\n",
      "2020-12-07 08:15:53,947 INFO Downloading http://136.156.132.176/cache-compute-0002/cache/data1/adaptor.comprehensive_upper_air.retrieve-1607325353.1676233-17793-4-f7aa0acc-b6e2-43a4-b568-5fdd9eb848a0.zip to download.zip (67.9K)\n",
      "2020-12-07 08:15:54,031 INFO Download rate 818K/s\n",
      "2020-12-07 08:15:54,093 INFO Welcome to the CDS\n",
      "2020-12-07 08:15:54,094 INFO Sending request to https://sis-dev.climate.copernicus.eu/api/v2/resources/insitu-comprehensive-upper-air-observation-network\n",
      "2020-12-07 08:15:54,157 INFO Request is queued\n"
     ]
    },
    {
     "name": "stdout",
     "output_type": "stream",
     "text": [
      "format - testing:  netcdf\n"
     ]
    },
    {
     "name": "stderr",
     "output_type": "stream",
     "text": [
      "2020-12-07 08:15:55,190 INFO Request is failed\n",
      "2020-12-07 08:15:55,190 ERROR Message: an internal error occurred processing your request\n",
      "2020-12-07 08:15:55,191 ERROR Reason:  something went wrong in the data provider service, check your query and try later b'\"Invalid format selected [nc, csv]: netcdf\"'\n",
      "2020-12-07 08:15:55,191 ERROR   Traceback (most recent call last):\n",
      "2020-12-07 08:15:55,191 ERROR     File \"/opt/cdstoolbox/cdscompute/cdscompute/cdshandlers/services/handler.py\", line 49, in handle_request\n",
      "2020-12-07 08:15:55,192 ERROR       result = cached(context.method, proc, context, context.args, context.kwargs)\n",
      "2020-12-07 08:15:55,192 ERROR     File \"/opt/cdstoolbox/cdscompute/cdscompute/caching.py\", line 108, in cached\n",
      "2020-12-07 08:15:55,192 ERROR       result = proc(context, *context.args, **context.kwargs)\n",
      "2020-12-07 08:15:55,193 ERROR     File \"/opt/cdstoolbox/cdscompute/cdscompute/services.py\", line 118, in __call__\n",
      "2020-12-07 08:15:55,193 ERROR       return p(*args, **kwargs)\n",
      "2020-12-07 08:15:55,193 ERROR     File \"/opt/cdstoolbox/cdscompute/cdscompute/services.py\", line 59, in __call__\n",
      "2020-12-07 08:15:55,194 ERROR       return self.proc(context, *args, **kwargs)\n",
      "2020-12-07 08:15:55,194 ERROR     File \"/home/cds/cdsservices_contrib/services/comprehensive_upper_air.py\", line 70, in execute\n",
      "2020-12-07 08:15:55,194 ERROR       'something went wrong in the data provider service, check your query and try later {}'.format(res.content)\n",
      "2020-12-07 08:15:55,195 ERROR   AssertionError: something went wrong in the data provider service, check your query and try later b'\"Invalid format selected [nc, csv]: netcdf\"'\n",
      "2020-12-07 08:15:55,224 INFO Welcome to the CDS\n",
      "2020-12-07 08:15:55,224 INFO Sending request to https://sis-dev.climate.copernicus.eu/api/v2/resources/insitu-comprehensive-upper-air-observation-network\n",
      "2020-12-07 08:15:55,288 INFO Request is queued\n"
     ]
    },
    {
     "name": "stdout",
     "output_type": "stream",
     "text": [
      "an internal error occurred processing your request. something went wrong in the data provider service, check your query and try later b'\"Invalid format selected [nc, csv]: netcdf\"'.\n",
      "format - testing:  csb\n"
     ]
    },
    {
     "name": "stderr",
     "output_type": "stream",
     "text": [
      "2020-12-07 08:15:56,321 INFO Request is failed\n",
      "2020-12-07 08:15:56,322 ERROR Message: an internal error occurred processing your request\n",
      "2020-12-07 08:15:56,322 ERROR Reason:  something went wrong in the data provider service, check your query and try later b'\"Invalid format selected [nc, csv]: csb\"'\n",
      "2020-12-07 08:15:56,322 ERROR   Traceback (most recent call last):\n",
      "2020-12-07 08:15:56,323 ERROR     File \"/opt/cdstoolbox/cdscompute/cdscompute/cdshandlers/services/handler.py\", line 49, in handle_request\n",
      "2020-12-07 08:15:56,323 ERROR       result = cached(context.method, proc, context, context.args, context.kwargs)\n",
      "2020-12-07 08:15:56,323 ERROR     File \"/opt/cdstoolbox/cdscompute/cdscompute/caching.py\", line 108, in cached\n",
      "2020-12-07 08:15:56,324 ERROR       result = proc(context, *context.args, **context.kwargs)\n",
      "2020-12-07 08:15:56,324 ERROR     File \"/opt/cdstoolbox/cdscompute/cdscompute/services.py\", line 118, in __call__\n",
      "2020-12-07 08:15:56,324 ERROR       return p(*args, **kwargs)\n",
      "2020-12-07 08:15:56,325 ERROR     File \"/opt/cdstoolbox/cdscompute/cdscompute/services.py\", line 59, in __call__\n",
      "2020-12-07 08:15:56,325 ERROR       return self.proc(context, *args, **kwargs)\n",
      "2020-12-07 08:15:56,325 ERROR     File \"/home/cds/cdsservices_contrib/services/comprehensive_upper_air.py\", line 70, in execute\n",
      "2020-12-07 08:15:56,326 ERROR       'something went wrong in the data provider service, check your query and try later {}'.format(res.content)\n",
      "2020-12-07 08:15:56,326 ERROR   AssertionError: something went wrong in the data provider service, check your query and try later b'\"Invalid format selected [nc, csv]: csb\"'\n",
      "2020-12-07 08:15:56,355 INFO Welcome to the CDS\n",
      "2020-12-07 08:15:56,356 INFO Sending request to https://sis-dev.climate.copernicus.eu/api/v2/resources/insitu-comprehensive-upper-air-observation-network\n",
      "2020-12-07 08:15:56,420 INFO Request is queued\n"
     ]
    },
    {
     "name": "stdout",
     "output_type": "stream",
     "text": [
      "an internal error occurred processing your request. something went wrong in the data provider service, check your query and try later b'\"Invalid format selected [nc, csv]: csb\"'.\n",
      "format - testing:  txt\n"
     ]
    },
    {
     "name": "stderr",
     "output_type": "stream",
     "text": [
      "2020-12-07 08:15:57,453 INFO Request is failed\n",
      "2020-12-07 08:15:57,453 ERROR Message: an internal error occurred processing your request\n",
      "2020-12-07 08:15:57,454 ERROR Reason:  something went wrong in the data provider service, check your query and try later b'\"Invalid format selected [nc, csv]: txt\"'\n",
      "2020-12-07 08:15:57,454 ERROR   Traceback (most recent call last):\n",
      "2020-12-07 08:15:57,454 ERROR     File \"/opt/cdstoolbox/cdscompute/cdscompute/cdshandlers/services/handler.py\", line 49, in handle_request\n",
      "2020-12-07 08:15:57,455 ERROR       result = cached(context.method, proc, context, context.args, context.kwargs)\n",
      "2020-12-07 08:15:57,455 ERROR     File \"/opt/cdstoolbox/cdscompute/cdscompute/caching.py\", line 108, in cached\n",
      "2020-12-07 08:15:57,455 ERROR       result = proc(context, *context.args, **context.kwargs)\n",
      "2020-12-07 08:15:57,456 ERROR     File \"/opt/cdstoolbox/cdscompute/cdscompute/services.py\", line 118, in __call__\n",
      "2020-12-07 08:15:57,456 ERROR       return p(*args, **kwargs)\n",
      "2020-12-07 08:15:57,456 ERROR     File \"/opt/cdstoolbox/cdscompute/cdscompute/services.py\", line 59, in __call__\n",
      "2020-12-07 08:15:57,457 ERROR       return self.proc(context, *args, **kwargs)\n",
      "2020-12-07 08:15:57,457 ERROR     File \"/home/cds/cdsservices_contrib/services/comprehensive_upper_air.py\", line 70, in execute\n",
      "2020-12-07 08:15:57,457 ERROR       'something went wrong in the data provider service, check your query and try later {}'.format(res.content)\n",
      "2020-12-07 08:15:57,458 ERROR   AssertionError: something went wrong in the data provider service, check your query and try later b'\"Invalid format selected [nc, csv]: txt\"'\n",
      "2020-12-07 08:15:57,487 INFO Welcome to the CDS\n",
      "2020-12-07 08:15:57,488 INFO Sending request to https://sis-dev.climate.copernicus.eu/api/v2/resources/insitu-comprehensive-upper-air-observation-network\n",
      "2020-12-07 08:15:57,552 INFO Request is queued\n"
     ]
    },
    {
     "name": "stdout",
     "output_type": "stream",
     "text": [
      "an internal error occurred processing your request. something went wrong in the data provider service, check your query and try later b'\"Invalid format selected [nc, csv]: txt\"'.\n",
      "format - testing: finished\n",
      "y - testing:  None\n"
     ]
    },
    {
     "name": "stderr",
     "output_type": "stream",
     "text": [
      "2020-12-07 08:15:58,586 INFO Request is running\n",
      "2020-12-07 08:16:00,119 INFO Request is completed\n",
      "2020-12-07 08:16:00,120 INFO Downloading http://136.156.132.204/cache-compute-0001/cache/data2/adaptor.comprehensive_upper_air.retrieve-1607325359.834854-8988-3-c3fb298c-85bd-4cba-af0d-867aa47186b8.zip to download.zip (40M)\n",
      "2020-12-07 08:16:00,958 INFO Download rate 47.8M/s  \n",
      "2020-12-07 08:16:01,023 INFO Welcome to the CDS\n",
      "2020-12-07 08:16:01,023 INFO Sending request to https://sis-dev.climate.copernicus.eu/api/v2/resources/insitu-comprehensive-upper-air-observation-network\n",
      "2020-12-07 08:16:01,083 INFO Request is queued\n"
     ]
    },
    {
     "name": "stdout",
     "output_type": "stream",
     "text": [
      "y - testing:  2000\n"
     ]
    },
    {
     "name": "stderr",
     "output_type": "stream",
     "text": [
      "2020-12-07 08:16:02,118 INFO Request is completed\n",
      "2020-12-07 08:16:02,118 INFO Downloading http://136.156.132.204/cache-compute-0001/cache/data2/adaptor.comprehensive_upper_air.retrieve-1607325361.237869-9883-3-8a238ccd-5c40-479f-a82b-5d8667b02496.zip to download.zip (23.6K)\n",
      "2020-12-07 08:16:02,152 INFO Download rate 713.1K/s\n",
      "2020-12-07 08:16:02,216 INFO Welcome to the CDS\n",
      "2020-12-07 08:16:02,217 INFO Sending request to https://sis-dev.climate.copernicus.eu/api/v2/resources/insitu-comprehensive-upper-air-observation-network\n",
      "2020-12-07 08:16:02,278 INFO Request is queued\n"
     ]
    },
    {
     "name": "stdout",
     "output_type": "stream",
     "text": [
      "y - testing:  2000\n"
     ]
    },
    {
     "name": "stderr",
     "output_type": "stream",
     "text": [
      "2020-12-07 08:16:03,312 INFO Request is completed\n",
      "2020-12-07 08:16:03,313 INFO Downloading http://136.156.132.204/cache-compute-0001/cache/data2/adaptor.comprehensive_upper_air.retrieve-1607325362.509604-9358-3-ed44eb09-a71f-4b1f-8d7f-944090545450.zip to download.zip (23.6K)\n",
      "2020-12-07 08:16:03,370 INFO Download rate 410.1K/s\n",
      "2020-12-07 08:16:03,433 INFO Welcome to the CDS\n",
      "2020-12-07 08:16:03,433 INFO Sending request to https://sis-dev.climate.copernicus.eu/api/v2/resources/insitu-comprehensive-upper-air-observation-network\n",
      "2020-12-07 08:16:03,496 INFO Request is queued\n"
     ]
    },
    {
     "name": "stdout",
     "output_type": "stream",
     "text": [
      "y - testing:  ['2000', '2001']\n"
     ]
    },
    {
     "name": "stderr",
     "output_type": "stream",
     "text": [
      "2020-12-07 08:16:04,533 INFO Request is completed\n",
      "2020-12-07 08:16:04,533 INFO Downloading http://136.156.132.204/cache-compute-0001/cache/data2/adaptor.comprehensive_upper_air.retrieve-1607325363.787744-8952-3-5ffe9384-40c2-4939-aacb-db31fcfb3908.zip to download.zip (549.2K)\n",
      "2020-12-07 08:16:04,698 INFO Download rate 3.3M/s \n",
      "2020-12-07 08:16:04,761 INFO Welcome to the CDS\n",
      "2020-12-07 08:16:04,762 INFO Sending request to https://sis-dev.climate.copernicus.eu/api/v2/resources/insitu-comprehensive-upper-air-observation-network\n",
      "2020-12-07 08:16:04,825 INFO Request is queued\n"
     ]
    },
    {
     "name": "stdout",
     "output_type": "stream",
     "text": [
      "y - testing:  [2000, 2001]\n"
     ]
    },
    {
     "name": "stderr",
     "output_type": "stream",
     "text": [
      "2020-12-07 08:16:07,394 INFO Request is completed\n",
      "2020-12-07 08:16:07,394 INFO Downloading http://136.156.132.204/cache-compute-0001/cache/data2/adaptor.comprehensive_upper_air.retrieve-1607325367.0942018-9752-4-0808abff-291c-4c6d-885b-0a29c8695937.zip to download.zip (549.2K)\n",
      "2020-12-07 08:16:07,559 INFO Download rate 3.3M/s \n",
      "2020-12-07 08:16:07,623 INFO Welcome to the CDS\n",
      "2020-12-07 08:16:07,623 INFO Sending request to https://sis-dev.climate.copernicus.eu/api/v2/resources/insitu-comprehensive-upper-air-observation-network\n",
      "2020-12-07 08:16:07,682 INFO Request is queued\n"
     ]
    },
    {
     "name": "stdout",
     "output_type": "stream",
     "text": [
      "y - testing:  0\n"
     ]
    },
    {
     "name": "stderr",
     "output_type": "stream",
     "text": [
      "2020-12-07 08:16:08,716 INFO Request is failed\n",
      "2020-12-07 08:16:08,716 ERROR Message: an internal error occurred processing your request\n",
      "2020-12-07 08:16:08,716 ERROR Reason:  something went wrong in the data provider service, check your query and try later b'\"only valid dates allowed for date: 00000101\"'\n",
      "2020-12-07 08:16:08,717 ERROR   Traceback (most recent call last):\n",
      "2020-12-07 08:16:08,717 ERROR     File \"/opt/cdstoolbox/cdscompute/cdscompute/cdshandlers/services/handler.py\", line 49, in handle_request\n",
      "2020-12-07 08:16:08,717 ERROR       result = cached(context.method, proc, context, context.args, context.kwargs)\n",
      "2020-12-07 08:16:08,717 ERROR     File \"/opt/cdstoolbox/cdscompute/cdscompute/caching.py\", line 108, in cached\n",
      "2020-12-07 08:16:08,718 ERROR       result = proc(context, *context.args, **context.kwargs)\n",
      "2020-12-07 08:16:08,718 ERROR     File \"/opt/cdstoolbox/cdscompute/cdscompute/services.py\", line 118, in __call__\n",
      "2020-12-07 08:16:08,718 ERROR       return p(*args, **kwargs)\n",
      "2020-12-07 08:16:08,719 ERROR     File \"/opt/cdstoolbox/cdscompute/cdscompute/services.py\", line 59, in __call__\n",
      "2020-12-07 08:16:08,719 ERROR       return self.proc(context, *args, **kwargs)\n",
      "2020-12-07 08:16:08,719 ERROR     File \"/home/cds/cdsservices_contrib/services/comprehensive_upper_air.py\", line 70, in execute\n",
      "2020-12-07 08:16:08,719 ERROR       'something went wrong in the data provider service, check your query and try later {}'.format(res.content)\n",
      "2020-12-07 08:16:08,720 ERROR   AssertionError: something went wrong in the data provider service, check your query and try later b'\"only valid dates allowed for date: 00000101\"'\n",
      "2020-12-07 08:16:08,749 INFO Welcome to the CDS\n",
      "2020-12-07 08:16:08,749 INFO Sending request to https://sis-dev.climate.copernicus.eu/api/v2/resources/insitu-comprehensive-upper-air-observation-network\n",
      "2020-12-07 08:16:08,810 INFO Request is queued\n"
     ]
    },
    {
     "name": "stdout",
     "output_type": "stream",
     "text": [
      "an internal error occurred processing your request. something went wrong in the data provider service, check your query and try later b'\"only valid dates allowed for date: 00000101\"'.\n",
      "y - testing:  20000\n"
     ]
    },
    {
     "name": "stderr",
     "output_type": "stream",
     "text": [
      "2020-12-07 08:16:09,843 INFO Request is failed\n",
      "2020-12-07 08:16:09,843 ERROR Message: an internal error occurred processing your request\n",
      "2020-12-07 08:16:09,843 ERROR Reason:  something went wrong in the data provider service, check your query and try later b'\"only valid dates allowed for date: 200000101\"'\n",
      "2020-12-07 08:16:09,844 ERROR   Traceback (most recent call last):\n",
      "2020-12-07 08:16:09,844 ERROR     File \"/opt/cdstoolbox/cdscompute/cdscompute/cdshandlers/services/handler.py\", line 49, in handle_request\n",
      "2020-12-07 08:16:09,844 ERROR       result = cached(context.method, proc, context, context.args, context.kwargs)\n",
      "2020-12-07 08:16:09,844 ERROR     File \"/opt/cdstoolbox/cdscompute/cdscompute/caching.py\", line 108, in cached\n",
      "2020-12-07 08:16:09,845 ERROR       result = proc(context, *context.args, **context.kwargs)\n",
      "2020-12-07 08:16:09,845 ERROR     File \"/opt/cdstoolbox/cdscompute/cdscompute/services.py\", line 118, in __call__\n",
      "2020-12-07 08:16:09,845 ERROR       return p(*args, **kwargs)\n",
      "2020-12-07 08:16:09,845 ERROR     File \"/opt/cdstoolbox/cdscompute/cdscompute/services.py\", line 59, in __call__\n",
      "2020-12-07 08:16:09,846 ERROR       return self.proc(context, *args, **kwargs)\n",
      "2020-12-07 08:16:09,846 ERROR     File \"/home/cds/cdsservices_contrib/services/comprehensive_upper_air.py\", line 70, in execute\n",
      "2020-12-07 08:16:09,846 ERROR       'something went wrong in the data provider service, check your query and try later {}'.format(res.content)\n",
      "2020-12-07 08:16:09,847 ERROR   AssertionError: something went wrong in the data provider service, check your query and try later b'\"only valid dates allowed for date: 200000101\"'\n",
      "2020-12-07 08:16:09,876 INFO Welcome to the CDS\n",
      "2020-12-07 08:16:09,876 INFO Sending request to https://sis-dev.climate.copernicus.eu/api/v2/resources/insitu-comprehensive-upper-air-observation-network\n",
      "2020-12-07 08:16:09,938 INFO Request is queued\n"
     ]
    },
    {
     "name": "stdout",
     "output_type": "stream",
     "text": [
      "an internal error occurred processing your request. something went wrong in the data provider service, check your query and try later b'\"only valid dates allowed for date: 200000101\"'.\n",
      "y - testing:  -2000\n"
     ]
    },
    {
     "name": "stderr",
     "output_type": "stream",
     "text": [
      "2020-12-07 08:16:10,974 INFO Request is failed\n",
      "2020-12-07 08:16:10,974 ERROR Message: an internal error occurred processing your request\n",
      "2020-12-07 08:16:10,975 ERROR Reason:  something went wrong in the data provider service, check your query and try later b'\"\\'str\\' object has no attribute \\'strftime\\'\"'\n",
      "2020-12-07 08:16:10,975 ERROR   Traceback (most recent call last):\n",
      "2020-12-07 08:16:10,975 ERROR     File \"/opt/cdstoolbox/cdscompute/cdscompute/cdshandlers/services/handler.py\", line 49, in handle_request\n",
      "2020-12-07 08:16:10,975 ERROR       result = cached(context.method, proc, context, context.args, context.kwargs)\n",
      "2020-12-07 08:16:10,976 ERROR     File \"/opt/cdstoolbox/cdscompute/cdscompute/caching.py\", line 108, in cached\n",
      "2020-12-07 08:16:10,976 ERROR       result = proc(context, *context.args, **context.kwargs)\n",
      "2020-12-07 08:16:10,976 ERROR     File \"/opt/cdstoolbox/cdscompute/cdscompute/services.py\", line 118, in __call__\n",
      "2020-12-07 08:16:10,976 ERROR       return p(*args, **kwargs)\n",
      "2020-12-07 08:16:10,977 ERROR     File \"/opt/cdstoolbox/cdscompute/cdscompute/services.py\", line 59, in __call__\n",
      "2020-12-07 08:16:10,977 ERROR       return self.proc(context, *args, **kwargs)\n",
      "2020-12-07 08:16:10,977 ERROR     File \"/home/cds/cdsservices_contrib/services/comprehensive_upper_air.py\", line 70, in execute\n",
      "2020-12-07 08:16:10,978 ERROR       'something went wrong in the data provider service, check your query and try later {}'.format(res.content)\n",
      "2020-12-07 08:16:10,978 ERROR   AssertionError: something went wrong in the data provider service, check your query and try later b'\"\\'str\\' object has no attribute \\'strftime\\'\"'\n",
      "2020-12-07 08:16:11,007 INFO Welcome to the CDS\n",
      "2020-12-07 08:16:11,007 INFO Sending request to https://sis-dev.climate.copernicus.eu/api/v2/resources/insitu-comprehensive-upper-air-observation-network\n",
      "2020-12-07 08:16:11,076 INFO Request is queued\n"
     ]
    },
    {
     "name": "stdout",
     "output_type": "stream",
     "text": [
      "an internal error occurred processing your request. something went wrong in the data provider service, check your query and try later b'\"\\'str\\' object has no attribute \\'strftime\\'\"'.\n",
      "m - testing:  None\n"
     ]
    },
    {
     "name": "stderr",
     "output_type": "stream",
     "text": [
      "2020-12-07 08:16:12,124 INFO Request is running\n",
      "2020-12-07 08:16:15,942 INFO Request is completed\n",
      "2020-12-07 08:16:15,942 INFO Downloading http://136.156.132.204/cache-compute-0001/cache/data2/adaptor.comprehensive_upper_air.retrieve-1607325373.3731356-10091-4-21d7da9e-ce09-4e5f-980f-899b972e6c64.zip to download.zip (40M)\n",
      "2020-12-07 08:16:17,905 INFO Download rate 20.4M/s  \n",
      "2020-12-07 08:16:17,968 INFO Welcome to the CDS\n",
      "2020-12-07 08:16:17,969 INFO Sending request to https://sis-dev.climate.copernicus.eu/api/v2/resources/insitu-comprehensive-upper-air-observation-network\n",
      "2020-12-07 08:16:18,029 INFO Request is queued\n"
     ]
    },
    {
     "name": "stdout",
     "output_type": "stream",
     "text": [
      "m - testing:  1\n"
     ]
    },
    {
     "name": "stderr",
     "output_type": "stream",
     "text": [
      "2020-12-07 08:16:19,062 INFO Request is completed\n",
      "2020-12-07 08:16:19,063 INFO Downloading http://136.156.132.204/cache-compute-0001/cache/data2/adaptor.comprehensive_upper_air.retrieve-1607325378.2538157-10045-4-4b094aac-5675-425b-ad85-ab5284313933.zip to download.zip (23.6K)\n",
      "2020-12-07 08:16:19,119 INFO Download rate 421.4K/s\n",
      "2020-12-07 08:16:19,180 INFO Welcome to the CDS\n",
      "2020-12-07 08:16:19,180 INFO Sending request to https://sis-dev.climate.copernicus.eu/api/v2/resources/insitu-comprehensive-upper-air-observation-network\n",
      "2020-12-07 08:16:19,240 INFO Request is queued\n"
     ]
    },
    {
     "name": "stdout",
     "output_type": "stream",
     "text": [
      "m - testing:  1\n"
     ]
    },
    {
     "name": "stderr",
     "output_type": "stream",
     "text": [
      "2020-12-07 08:16:20,273 INFO Request is completed\n",
      "2020-12-07 08:16:20,274 INFO Downloading http://136.156.132.204/cache-compute-0001/cache/data2/adaptor.comprehensive_upper_air.retrieve-1607325379.3805256-9929-4-e60915f4-4665-4783-b307-10785d63634b.zip to download.zip (23.6K)\n",
      "2020-12-07 08:16:20,332 INFO Download rate 406.8K/s\n",
      "2020-12-07 08:16:20,395 INFO Welcome to the CDS\n",
      "2020-12-07 08:16:20,395 INFO Sending request to https://sis-dev.climate.copernicus.eu/api/v2/resources/insitu-comprehensive-upper-air-observation-network\n"
     ]
    },
    {
     "name": "stdout",
     "output_type": "stream",
     "text": [
      "m - testing:  01\n"
     ]
    },
    {
     "name": "stderr",
     "output_type": "stream",
     "text": [
      "2020-12-07 08:16:20,994 INFO Request is completed\n",
      "2020-12-07 08:16:20,995 INFO Downloading http://136.156.132.204/cache-compute-0001/cache/data2/adaptor.comprehensive_upper_air.retrieve-1607325362.509604-9358-3-ed44eb09-a71f-4b1f-8d7f-944090545450.zip to download.zip (23.6K)\n",
      "2020-12-07 08:16:21,054 INFO Download rate 401.9K/s\n",
      "2020-12-07 08:16:21,116 INFO Welcome to the CDS\n",
      "2020-12-07 08:16:21,116 INFO Sending request to https://sis-dev.climate.copernicus.eu/api/v2/resources/insitu-comprehensive-upper-air-observation-network\n",
      "2020-12-07 08:16:21,178 INFO Request is queued\n"
     ]
    },
    {
     "name": "stdout",
     "output_type": "stream",
     "text": [
      "m - testing:  ['01', '02']\n"
     ]
    },
    {
     "name": "stderr",
     "output_type": "stream",
     "text": [
      "2020-12-07 08:16:22,211 INFO Request is completed\n",
      "2020-12-07 08:16:22,212 INFO Downloading http://136.156.132.204/cache-compute-0001/cache/data2/adaptor.comprehensive_upper_air.retrieve-1607325381.3248513-9183-4-1fde7153-8186-42a1-9d00-c319bbcdeaf2.zip to download.zip (69.4K)\n",
      "2020-12-07 08:16:22,296 INFO Download rate 822.2K/s\n",
      "2020-12-07 08:16:22,358 INFO Welcome to the CDS\n",
      "2020-12-07 08:16:22,358 INFO Sending request to https://sis-dev.climate.copernicus.eu/api/v2/resources/insitu-comprehensive-upper-air-observation-network\n",
      "2020-12-07 08:16:22,420 INFO Request is queued\n"
     ]
    },
    {
     "name": "stdout",
     "output_type": "stream",
     "text": [
      "m - testing:  ['1', '2']\n"
     ]
    },
    {
     "name": "stderr",
     "output_type": "stream",
     "text": [
      "2020-12-07 08:16:23,453 INFO Request is completed\n",
      "2020-12-07 08:16:23,453 INFO Downloading http://136.156.132.204/cache-compute-0001/cache/data2/adaptor.comprehensive_upper_air.retrieve-1607325382.5849133-9067-3-3f65dcf5-cbab-4c5c-bdde-34492fcca11d.zip to download.zip (69.4K)\n",
      "2020-12-07 08:16:23,537 INFO Download rate 827.4K/s\n",
      "2020-12-07 08:16:23,599 INFO Welcome to the CDS\n",
      "2020-12-07 08:16:23,600 INFO Sending request to https://sis-dev.climate.copernicus.eu/api/v2/resources/insitu-comprehensive-upper-air-observation-network\n",
      "2020-12-07 08:16:23,662 INFO Request is queued\n"
     ]
    },
    {
     "name": "stdout",
     "output_type": "stream",
     "text": [
      "m - testing:  [1, 2]\n"
     ]
    },
    {
     "name": "stderr",
     "output_type": "stream",
     "text": [
      "2020-12-07 08:16:24,694 INFO Request is completed\n",
      "2020-12-07 08:16:24,694 INFO Downloading http://136.156.132.204/cache-compute-0001/cache/data2/adaptor.comprehensive_upper_air.retrieve-1607325383.8063223-9108-3-87f6a728-8f71-48c6-b66f-9acb2d71e0e9.zip to download.zip (69.4K)\n",
      "2020-12-07 08:16:24,780 INFO Download rate 810.5K/s\n",
      "2020-12-07 08:16:24,843 INFO Welcome to the CDS\n",
      "2020-12-07 08:16:24,843 INFO Sending request to https://sis-dev.climate.copernicus.eu/api/v2/resources/insitu-comprehensive-upper-air-observation-network\n",
      "2020-12-07 08:16:24,903 INFO Request is queued\n"
     ]
    },
    {
     "name": "stdout",
     "output_type": "stream",
     "text": [
      "m - testing:  00\n"
     ]
    },
    {
     "name": "stderr",
     "output_type": "stream",
     "text": [
      "2020-12-07 08:16:25,936 INFO Request is failed\n",
      "2020-12-07 08:16:25,936 ERROR Message: an internal error occurred processing your request\n",
      "2020-12-07 08:16:25,937 ERROR Reason:  something went wrong in the data provider service, check your query and try later b'\"only valid dates allowed for date: 20000001\"'\n",
      "2020-12-07 08:16:25,937 ERROR   Traceback (most recent call last):\n",
      "2020-12-07 08:16:25,937 ERROR     File \"/opt/cdstoolbox/cdscompute/cdscompute/cdshandlers/services/handler.py\", line 49, in handle_request\n",
      "2020-12-07 08:16:25,938 ERROR       result = cached(context.method, proc, context, context.args, context.kwargs)\n",
      "2020-12-07 08:16:25,938 ERROR     File \"/opt/cdstoolbox/cdscompute/cdscompute/caching.py\", line 108, in cached\n",
      "2020-12-07 08:16:25,938 ERROR       result = proc(context, *context.args, **context.kwargs)\n",
      "2020-12-07 08:16:25,938 ERROR     File \"/opt/cdstoolbox/cdscompute/cdscompute/services.py\", line 118, in __call__\n",
      "2020-12-07 08:16:25,939 ERROR       return p(*args, **kwargs)\n",
      "2020-12-07 08:16:25,939 ERROR     File \"/opt/cdstoolbox/cdscompute/cdscompute/services.py\", line 59, in __call__\n",
      "2020-12-07 08:16:25,939 ERROR       return self.proc(context, *args, **kwargs)\n",
      "2020-12-07 08:16:25,940 ERROR     File \"/home/cds/cdsservices_contrib/services/comprehensive_upper_air.py\", line 70, in execute\n",
      "2020-12-07 08:16:25,940 ERROR       'something went wrong in the data provider service, check your query and try later {}'.format(res.content)\n",
      "2020-12-07 08:16:25,940 ERROR   AssertionError: something went wrong in the data provider service, check your query and try later b'\"only valid dates allowed for date: 20000001\"'\n",
      "2020-12-07 08:16:25,969 INFO Welcome to the CDS\n",
      "2020-12-07 08:16:25,969 INFO Sending request to https://sis-dev.climate.copernicus.eu/api/v2/resources/insitu-comprehensive-upper-air-observation-network\n",
      "2020-12-07 08:16:26,032 INFO Request is queued\n"
     ]
    },
    {
     "name": "stdout",
     "output_type": "stream",
     "text": [
      "an internal error occurred processing your request. something went wrong in the data provider service, check your query and try later b'\"only valid dates allowed for date: 20000001\"'.\n",
      "m - testing:  0\n"
     ]
    },
    {
     "name": "stderr",
     "output_type": "stream",
     "text": [
      "2020-12-07 08:16:27,066 INFO Request is failed\n",
      "2020-12-07 08:16:27,066 ERROR Message: an internal error occurred processing your request\n",
      "2020-12-07 08:16:27,066 ERROR Reason:  something went wrong in the data provider service, check your query and try later b'\"only valid dates allowed for date: 20000001\"'\n",
      "2020-12-07 08:16:27,067 ERROR   Traceback (most recent call last):\n",
      "2020-12-07 08:16:27,067 ERROR     File \"/opt/cdstoolbox/cdscompute/cdscompute/cdshandlers/services/handler.py\", line 49, in handle_request\n",
      "2020-12-07 08:16:27,067 ERROR       result = cached(context.method, proc, context, context.args, context.kwargs)\n",
      "2020-12-07 08:16:27,068 ERROR     File \"/opt/cdstoolbox/cdscompute/cdscompute/caching.py\", line 108, in cached\n",
      "2020-12-07 08:16:27,068 ERROR       result = proc(context, *context.args, **context.kwargs)\n",
      "2020-12-07 08:16:27,068 ERROR     File \"/opt/cdstoolbox/cdscompute/cdscompute/services.py\", line 118, in __call__\n",
      "2020-12-07 08:16:27,069 ERROR       return p(*args, **kwargs)\n",
      "2020-12-07 08:16:27,069 ERROR     File \"/opt/cdstoolbox/cdscompute/cdscompute/services.py\", line 59, in __call__\n",
      "2020-12-07 08:16:27,069 ERROR       return self.proc(context, *args, **kwargs)\n",
      "2020-12-07 08:16:27,069 ERROR     File \"/home/cds/cdsservices_contrib/services/comprehensive_upper_air.py\", line 70, in execute\n",
      "2020-12-07 08:16:27,070 ERROR       'something went wrong in the data provider service, check your query and try later {}'.format(res.content)\n",
      "2020-12-07 08:16:27,070 ERROR   AssertionError: something went wrong in the data provider service, check your query and try later b'\"only valid dates allowed for date: 20000001\"'\n",
      "2020-12-07 08:16:27,099 INFO Welcome to the CDS\n",
      "2020-12-07 08:16:27,099 INFO Sending request to https://sis-dev.climate.copernicus.eu/api/v2/resources/insitu-comprehensive-upper-air-observation-network\n",
      "2020-12-07 08:16:27,164 INFO Request is queued\n"
     ]
    },
    {
     "name": "stdout",
     "output_type": "stream",
     "text": [
      "an internal error occurred processing your request. something went wrong in the data provider service, check your query and try later b'\"only valid dates allowed for date: 20000001\"'.\n",
      "m - testing:  13\n"
     ]
    },
    {
     "name": "stderr",
     "output_type": "stream",
     "text": [
      "2020-12-07 08:16:28,198 INFO Request is failed\n",
      "2020-12-07 08:16:28,198 ERROR Message: an internal error occurred processing your request\n",
      "2020-12-07 08:16:28,199 ERROR Reason:  something went wrong in the data provider service, check your query and try later b'\"only valid dates allowed for date: 20001301\"'\n",
      "2020-12-07 08:16:28,199 ERROR   Traceback (most recent call last):\n",
      "2020-12-07 08:16:28,199 ERROR     File \"/opt/cdstoolbox/cdscompute/cdscompute/cdshandlers/services/handler.py\", line 49, in handle_request\n",
      "2020-12-07 08:16:28,200 ERROR       result = cached(context.method, proc, context, context.args, context.kwargs)\n",
      "2020-12-07 08:16:28,200 ERROR     File \"/opt/cdstoolbox/cdscompute/cdscompute/caching.py\", line 108, in cached\n",
      "2020-12-07 08:16:28,200 ERROR       result = proc(context, *context.args, **context.kwargs)\n",
      "2020-12-07 08:16:28,200 ERROR     File \"/opt/cdstoolbox/cdscompute/cdscompute/services.py\", line 118, in __call__\n",
      "2020-12-07 08:16:28,201 ERROR       return p(*args, **kwargs)\n",
      "2020-12-07 08:16:28,201 ERROR     File \"/opt/cdstoolbox/cdscompute/cdscompute/services.py\", line 59, in __call__\n",
      "2020-12-07 08:16:28,201 ERROR       return self.proc(context, *args, **kwargs)\n",
      "2020-12-07 08:16:28,202 ERROR     File \"/home/cds/cdsservices_contrib/services/comprehensive_upper_air.py\", line 70, in execute\n",
      "2020-12-07 08:16:28,202 ERROR       'something went wrong in the data provider service, check your query and try later {}'.format(res.content)\n",
      "2020-12-07 08:16:28,202 ERROR   AssertionError: something went wrong in the data provider service, check your query and try later b'\"only valid dates allowed for date: 20001301\"'\n",
      "2020-12-07 08:16:28,312 INFO Welcome to the CDS\n",
      "2020-12-07 08:16:28,313 INFO Sending request to https://sis-dev.climate.copernicus.eu/api/v2/resources/insitu-comprehensive-upper-air-observation-network\n",
      "2020-12-07 08:16:28,381 INFO Request is completed\n",
      "2020-12-07 08:16:28,381 INFO Downloading http://136.156.132.204/cache-compute-0001/cache/data2/adaptor.comprehensive_upper_air.retrieve-1607325362.509604-9358-3-ed44eb09-a71f-4b1f-8d7f-944090545450.zip to download.zip (23.6K)\n"
     ]
    },
    {
     "name": "stdout",
     "output_type": "stream",
     "text": [
      "an internal error occurred processing your request. something went wrong in the data provider service, check your query and try later b'\"only valid dates allowed for date: 20001301\"'.\n",
      "d - testing:  01\n"
     ]
    },
    {
     "name": "stderr",
     "output_type": "stream",
     "text": [
      "2020-12-07 08:16:28,437 INFO Download rate 421.5K/s\n",
      "2020-12-07 08:16:28,499 INFO Welcome to the CDS\n",
      "2020-12-07 08:16:28,499 INFO Sending request to https://sis-dev.climate.copernicus.eu/api/v2/resources/insitu-comprehensive-upper-air-observation-network\n",
      "2020-12-07 08:16:28,555 INFO Request is queued\n"
     ]
    },
    {
     "name": "stdout",
     "output_type": "stream",
     "text": [
      "d - testing:  31\n"
     ]
    },
    {
     "name": "stderr",
     "output_type": "stream",
     "text": [
      "2020-12-07 08:16:29,587 INFO Request is completed\n",
      "2020-12-07 08:16:29,588 INFO Downloading http://136.156.132.204/cache-compute-0001/cache/data2/adaptor.comprehensive_upper_air.retrieve-1607325388.7873707-9679-4-115357a8-fb13-4f9f-9ca5-59d39e4693a5.zip to download.zip (23.6K)\n",
      "2020-12-07 08:16:29,646 INFO Download rate 407.3K/s\n",
      "2020-12-07 08:16:29,708 INFO Welcome to the CDS\n",
      "2020-12-07 08:16:29,709 INFO Sending request to https://sis-dev.climate.copernicus.eu/api/v2/resources/insitu-comprehensive-upper-air-observation-network\n",
      "2020-12-07 08:16:29,769 INFO Request is queued\n"
     ]
    },
    {
     "name": "stdout",
     "output_type": "stream",
     "text": [
      "d - testing:  ['01', '02']\n"
     ]
    },
    {
     "name": "stderr",
     "output_type": "stream",
     "text": [
      "2020-12-07 08:16:30,802 INFO Request is completed\n",
      "2020-12-07 08:16:30,803 INFO Downloading http://136.156.132.176/cache-compute-0002/cache/data1/adaptor.comprehensive_upper_air.retrieve-1607325389.9113736-1360-3-95052324-c180-4c84-8f28-7377248b84a6.zip to download.zip (25.6K)\n",
      "2020-12-07 08:16:30,860 INFO Download rate 447.5K/s\n",
      "2020-12-07 08:16:30,922 INFO Welcome to the CDS\n",
      "2020-12-07 08:16:30,922 INFO Sending request to https://sis-dev.climate.copernicus.eu/api/v2/resources/insitu-comprehensive-upper-air-observation-network\n",
      "2020-12-07 08:16:31,002 INFO Request is queued\n"
     ]
    },
    {
     "name": "stdout",
     "output_type": "stream",
     "text": [
      "d - testing:  ['1', '2']\n"
     ]
    },
    {
     "name": "stderr",
     "output_type": "stream",
     "text": [
      "2020-12-07 08:16:32,035 INFO Request is completed\n",
      "2020-12-07 08:16:32,036 INFO Downloading http://136.156.132.176/cache-compute-0002/cache/data1/adaptor.comprehensive_upper_air.retrieve-1607325391.1407127-914-3-eb1d090d-8d91-4b8c-8a0e-c87574760f7c.zip to download.zip (25.6K)\n",
      "2020-12-07 08:16:32,093 INFO Download rate 452.6K/s\n",
      "2020-12-07 08:16:32,155 INFO Welcome to the CDS\n",
      "2020-12-07 08:16:32,156 INFO Sending request to https://sis-dev.climate.copernicus.eu/api/v2/resources/insitu-comprehensive-upper-air-observation-network\n",
      "2020-12-07 08:16:32,219 INFO Request is queued\n"
     ]
    },
    {
     "name": "stdout",
     "output_type": "stream",
     "text": [
      "d - testing:  [1, 2]\n"
     ]
    },
    {
     "name": "stderr",
     "output_type": "stream",
     "text": [
      "2020-12-07 08:16:33,252 INFO Request is completed\n",
      "2020-12-07 08:16:33,253 INFO Downloading http://136.156.132.176/cache-compute-0002/cache/data1/adaptor.comprehensive_upper_air.retrieve-1607325392.366628-1313-3-a73995ab-bcfd-45bb-a52b-14cca0b10a86.zip to download.zip (25.6K)\n",
      "2020-12-07 08:16:33,310 INFO Download rate 451.1K/s\n",
      "2020-12-07 08:16:33,372 INFO Welcome to the CDS\n",
      "2020-12-07 08:16:33,373 INFO Sending request to https://sis-dev.climate.copernicus.eu/api/v2/resources/insitu-comprehensive-upper-air-observation-network\n",
      "2020-12-07 08:16:33,436 INFO Request is queued\n"
     ]
    },
    {
     "name": "stdout",
     "output_type": "stream",
     "text": [
      "d - testing:  00\n"
     ]
    },
    {
     "name": "stderr",
     "output_type": "stream",
     "text": [
      "2020-12-07 08:16:34,469 INFO Request is failed\n",
      "2020-12-07 08:16:34,469 ERROR Message: an internal error occurred processing your request\n",
      "2020-12-07 08:16:34,470 ERROR Reason:  something went wrong in the data provider service, check your query and try later b'\"only valid dates allowed for date: 20000100\"'\n",
      "2020-12-07 08:16:34,470 ERROR   Traceback (most recent call last):\n",
      "2020-12-07 08:16:34,470 ERROR     File \"/opt/cdstoolbox/cdscompute/cdscompute/cdshandlers/services/handler.py\", line 49, in handle_request\n",
      "2020-12-07 08:16:34,470 ERROR       result = cached(context.method, proc, context, context.args, context.kwargs)\n",
      "2020-12-07 08:16:34,471 ERROR     File \"/opt/cdstoolbox/cdscompute/cdscompute/caching.py\", line 108, in cached\n",
      "2020-12-07 08:16:34,471 ERROR       result = proc(context, *context.args, **context.kwargs)\n",
      "2020-12-07 08:16:34,471 ERROR     File \"/opt/cdstoolbox/cdscompute/cdscompute/services.py\", line 118, in __call__\n",
      "2020-12-07 08:16:34,472 ERROR       return p(*args, **kwargs)\n",
      "2020-12-07 08:16:34,472 ERROR     File \"/opt/cdstoolbox/cdscompute/cdscompute/services.py\", line 59, in __call__\n",
      "2020-12-07 08:16:34,472 ERROR       return self.proc(context, *args, **kwargs)\n",
      "2020-12-07 08:16:34,472 ERROR     File \"/home/cds/cdsservices_contrib/services/comprehensive_upper_air.py\", line 70, in execute\n",
      "2020-12-07 08:16:34,473 ERROR       'something went wrong in the data provider service, check your query and try later {}'.format(res.content)\n",
      "2020-12-07 08:16:34,473 ERROR   AssertionError: something went wrong in the data provider service, check your query and try later b'\"only valid dates allowed for date: 20000100\"'\n",
      "2020-12-07 08:16:34,502 INFO Welcome to the CDS\n",
      "2020-12-07 08:16:34,502 INFO Sending request to https://sis-dev.climate.copernicus.eu/api/v2/resources/insitu-comprehensive-upper-air-observation-network\n",
      "2020-12-07 08:16:34,563 INFO Request is queued\n"
     ]
    },
    {
     "name": "stdout",
     "output_type": "stream",
     "text": [
      "an internal error occurred processing your request. something went wrong in the data provider service, check your query and try later b'\"only valid dates allowed for date: 20000100\"'.\n",
      "d - testing:  0\n"
     ]
    },
    {
     "name": "stderr",
     "output_type": "stream",
     "text": [
      "2020-12-07 08:16:35,596 INFO Request is failed\n",
      "2020-12-07 08:16:35,596 ERROR Message: an internal error occurred processing your request\n",
      "2020-12-07 08:16:35,597 ERROR Reason:  something went wrong in the data provider service, check your query and try later b'\"only valid dates allowed for date: 20000100\"'\n",
      "2020-12-07 08:16:35,597 ERROR   Traceback (most recent call last):\n",
      "2020-12-07 08:16:35,597 ERROR     File \"/opt/cdstoolbox/cdscompute/cdscompute/cdshandlers/services/handler.py\", line 49, in handle_request\n",
      "2020-12-07 08:16:35,598 ERROR       result = cached(context.method, proc, context, context.args, context.kwargs)\n",
      "2020-12-07 08:16:35,598 ERROR     File \"/opt/cdstoolbox/cdscompute/cdscompute/caching.py\", line 108, in cached\n",
      "2020-12-07 08:16:35,598 ERROR       result = proc(context, *context.args, **context.kwargs)\n",
      "2020-12-07 08:16:35,598 ERROR     File \"/opt/cdstoolbox/cdscompute/cdscompute/services.py\", line 118, in __call__\n",
      "2020-12-07 08:16:35,599 ERROR       return p(*args, **kwargs)\n",
      "2020-12-07 08:16:35,599 ERROR     File \"/opt/cdstoolbox/cdscompute/cdscompute/services.py\", line 59, in __call__\n",
      "2020-12-07 08:16:35,599 ERROR       return self.proc(context, *args, **kwargs)\n",
      "2020-12-07 08:16:35,599 ERROR     File \"/home/cds/cdsservices_contrib/services/comprehensive_upper_air.py\", line 70, in execute\n",
      "2020-12-07 08:16:35,600 ERROR       'something went wrong in the data provider service, check your query and try later {}'.format(res.content)\n",
      "2020-12-07 08:16:35,600 ERROR   AssertionError: something went wrong in the data provider service, check your query and try later b'\"only valid dates allowed for date: 20000100\"'\n",
      "2020-12-07 08:16:35,629 INFO Welcome to the CDS\n",
      "2020-12-07 08:16:35,629 INFO Sending request to https://sis-dev.climate.copernicus.eu/api/v2/resources/insitu-comprehensive-upper-air-observation-network\n",
      "2020-12-07 08:16:35,690 INFO Request is queued\n"
     ]
    },
    {
     "name": "stdout",
     "output_type": "stream",
     "text": [
      "an internal error occurred processing your request. something went wrong in the data provider service, check your query and try later b'\"only valid dates allowed for date: 20000100\"'.\n",
      "d - testing:  32\n"
     ]
    },
    {
     "name": "stderr",
     "output_type": "stream",
     "text": [
      "2020-12-07 08:16:36,723 INFO Request is completed\n",
      "2020-12-07 08:16:36,724 INFO Downloading http://136.156.132.176/cache-compute-0000/cache/data1/adaptor.comprehensive_upper_air.retrieve-1607325395.8373327-10101-7-b2ff928e-a81b-4db4-9923-e4aa6caacdc4.zip to download.zip (23.6K)\n",
      "2020-12-07 08:16:36,780 INFO Download rate 418K/s\n"
     ]
    },
    {
     "name": "stdout",
     "output_type": "stream",
     "text": [
      "ymd - testing: finished\n"
     ]
    }
   ],
   "source": [
    "server_test()"
   ]
  },
  {
   "cell_type": "code",
   "execution_count": 18,
   "metadata": {},
   "outputs": [],
   "source": [
    "writelog=open('test.txt','w')\n",
    "writelog.writelines('a\\n\\nb')\n",
    "writelog.close()"
   ]
  },
  {
   "cell_type": "code",
   "execution_count": null,
   "metadata": {},
   "outputs": [],
   "source": []
  }
 ],
 "metadata": {
  "kernelspec": {
   "display_name": "Miniconda3 (4.8.2)",
   "language": "python",
   "name": "python3"
  },
  "language_info": {
   "codemirror_mode": {
    "name": "ipython",
    "version": 3
   },
   "file_extension": ".py",
   "mimetype": "text/x-python",
   "name": "python",
   "nbconvert_exporter": "python",
   "pygments_lexer": "ipython3",
   "version": "3.8.1"
  }
 },
 "nbformat": 4,
 "nbformat_minor": 4
}
