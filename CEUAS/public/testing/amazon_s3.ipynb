{
 "cells": [
  {
   "cell_type": "code",
   "execution_count": 2,
   "id": "8332f1d8-bdb6-4af5-ae3f-89c9eea98ec0",
   "metadata": {},
   "outputs": [
    {
     "name": "stdout",
     "output_type": "stream",
     "text": [
      "MinIO Client <minio.api.Minio object at 0x7f9bcc21c2e0>\n",
      "creating new bucket\n",
      "already exists\n",
      "my-bucket 2022-07-08 08:26:29.188000+00:00\n"
     ]
    }
   ],
   "source": [
    "import io\n",
    "from io import BytesIO\n",
    "from minio import Minio\n",
    "from minio.error import S3Error\n",
    "\n",
    "# Create the client\n",
    "client = Minio('localhost:9001', access_key='minioadmin', secret_key='minioadmin', secure=False)\n",
    "\n",
    "print(\"MinIO Client {}\".format(client))\n",
    "try:\n",
    "    print('creating new bucket')\n",
    "    client.make_bucket(\"my-bucket\")\n",
    "except:\n",
    "    print('already exists')\n",
    "buckets = client.list_buckets()\n",
    "for bucket in buckets:\n",
    "    print(bucket.name, bucket.creation_date)"
   ]
  },
  {
   "cell_type": "code",
   "execution_count": 3,
   "id": "a34fcd71-95ee-4630-99fb-2dd9854c23b8",
   "metadata": {},
   "outputs": [],
   "source": [
    "#  https://boto3.amazonaws.com/v1/documentation/api/latest/guide/quickstart.html\n",
    "\n",
    "import boto3\n",
    "from botocore.client import Config\n",
    "\n",
    "\n",
    "s3 = boto3.resource('s3',\n",
    "                    endpoint_url='http://127.0.0.1:9001',\n",
    "                    aws_access_key_id='minioadmin',\n",
    "                    aws_secret_access_key='minioadmin',)\n",
    "#                     config=Config(signature_version='s3v4'),\n",
    "#                     region_name='us-west-rack-2')\n",
    "\n",
    "\n",
    "\n",
    "s3.Bucket('my-bucket').upload_file('./2022-07-06_server_test_log.txt','1.txt')\n",
    "s3.Bucket('my-bucket').download_file('1.txt', './redownloaded.txt')\n"
   ]
  },
  {
   "cell_type": "code",
   "execution_count": 32,
   "id": "17dfd712-34a8-40b7-a78b-043f750e6a68",
   "metadata": {
    "tags": []
   },
   "outputs": [],
   "source": [
    "print(s3.Object('my-bucket', 'beer').get()['Body'].read())"
   ]
  }
 ],
 "metadata": {
  "kernelspec": {
   "display_name": "UV",
   "language": "python",
   "name": "uv"
  },
  "language_info": {
   "codemirror_mode": {
    "name": "ipython",
    "version": 3
   },
   "file_extension": ".py",
   "mimetype": "text/x-python",
   "name": "python",
   "nbconvert_exporter": "python",
   "pygments_lexer": "ipython3",
   "version": "3.9.7"
  }
 },
 "nbformat": 4,
 "nbformat_minor": 5
}
