{
 "cells": [
  {
   "cell_type": "markdown",
   "metadata": {
    "tags": []
   },
   "source": [
    "# Notebook: check files\n",
    "    by Ulrich Voggenberger\n",
    "    2023.10.18\n"
   ]
  },
  {
   "cell_type": "code",
   "execution_count": 1,
   "metadata": {},
   "outputs": [],
   "source": [
    "import os, sys, glob, time, shutil\n",
    "import numpy as np\n",
    "import pandas as pd\n",
    "import matplotlib.pyplot as plt\n",
    "import h5py\n",
    "import warnings\n",
    "warnings.filterwarnings('ignore')"
   ]
  },
  {
   "cell_type": "code",
   "execution_count": 2,
   "metadata": {},
   "outputs": [],
   "source": [
    "target_files = [\n",
    "    '0-20000-0-85245_CEUAS_merged_v1.nc', '0-20000-0-76692_CEUAS_merged_v1.nc', '0-20000-0-72357_CEUAS_merged_v1.nc', '0-20000-0-04320_CEUAS_merged_v1.nc', \n",
    "    '0-20000-0-60155_CEUAS_merged_v1.nc', '0-20000-0-72558_CEUAS_merged_v1.nc', '0-20000-0-03377_CEUAS_merged_v1.nc', '0-20000-0-04360_CEUAS_merged_v1.nc', \n",
    "    '0-20000-0-03918_CEUAS_merged_v1.nc', '0-20000-0-78486_CEUAS_merged_v1.nc', '0-20000-0-81405_CEUAS_merged_v1.nc'\n",
    "    ]\n",
    "\n",
    "files_11 = ['/mnt/users/scratch/leo/scratch/converted_v11/long/' + i for i in target_files]\n",
    "files_13 = ['/mnt/users/scratch/leo/scratch/converted_v13/long/' + i for i in target_files]\n"
   ]
  },
  {
   "cell_type": "code",
   "execution_count": 3,
   "metadata": {},
   "outputs": [
    {
     "data": {
      "text/plain": [
       "['/mnt/users/scratch/leo/scratch/converted_v13/long/0-20000-0-85245_CEUAS_merged_v1.nc',\n",
       " '/mnt/users/scratch/leo/scratch/converted_v13/long/0-20000-0-76692_CEUAS_merged_v1.nc',\n",
       " '/mnt/users/scratch/leo/scratch/converted_v13/long/0-20000-0-72357_CEUAS_merged_v1.nc',\n",
       " '/mnt/users/scratch/leo/scratch/converted_v13/long/0-20000-0-04320_CEUAS_merged_v1.nc',\n",
       " '/mnt/users/scratch/leo/scratch/converted_v13/long/0-20000-0-60155_CEUAS_merged_v1.nc',\n",
       " '/mnt/users/scratch/leo/scratch/converted_v13/long/0-20000-0-72558_CEUAS_merged_v1.nc',\n",
       " '/mnt/users/scratch/leo/scratch/converted_v13/long/0-20000-0-03377_CEUAS_merged_v1.nc',\n",
       " '/mnt/users/scratch/leo/scratch/converted_v13/long/0-20000-0-04360_CEUAS_merged_v1.nc',\n",
       " '/mnt/users/scratch/leo/scratch/converted_v13/long/0-20000-0-03918_CEUAS_merged_v1.nc',\n",
       " '/mnt/users/scratch/leo/scratch/converted_v13/long/0-20000-0-78486_CEUAS_merged_v1.nc',\n",
       " '/mnt/users/scratch/leo/scratch/converted_v13/long/0-20000-0-81405_CEUAS_merged_v1.nc']"
      ]
     },
     "execution_count": 3,
     "metadata": {},
     "output_type": "execute_result"
    }
   ],
   "source": [
    "files_13"
   ]
  },
  {
   "cell_type": "code",
   "execution_count": 4,
   "metadata": {},
   "outputs": [
    {
     "name": "stdout",
     "output_type": "stream",
     "text": [
      "station_configuration 27455 header_table 27453\n",
      "station_configuration 45695 header_table 45689\n",
      "station_configuration 97506 header_table 97497\n",
      "station_configuration 81403 header_table 81398\n",
      "station_configuration 67151 header_table 67148\n",
      "station_configuration 110079 header_table 110074\n",
      "station_configuration 22436 header_table 22401\n",
      "station_configuration 66891 header_table 66885\n",
      "station_configuration 113488 header_table 113486\n",
      "station_configuration 30045 header_table 30039\n",
      "station_configuration 87023 header_table 87021\n"
     ]
    }
   ],
   "source": [
    "for i in files_11:\n",
    "    with h5py.File(i, mode='r') as file:\n",
    "        print('station_configuration', len(file['station_configuration']['index']), 'header_table', len(file['header_table']['index']))"
   ]
  },
  {
   "cell_type": "code",
   "execution_count": 5,
   "metadata": {},
   "outputs": [
    {
     "name": "stdout",
     "output_type": "stream",
     "text": [
      "station_configuration 1434 header_table 1434\n",
      "station_configuration 33644 header_table 33638\n",
      "station_configuration 95056 header_table 95047\n",
      "station_configuration 47219 header_table 47214\n",
      "station_configuration 58375 header_table 58372\n",
      "station_configuration 91602 header_table 91597\n",
      "station_configuration 2684 header_table 2684\n",
      "station_configuration 49392 header_table 49386\n",
      "station_configuration 89954 header_table 89952\n",
      "station_configuration 30045 header_table 30039\n",
      "station_configuration 65857 header_table 65857\n"
     ]
    }
   ],
   "source": [
    "for i in files_13:\n",
    "    with h5py.File(i, mode='r') as file:\n",
    "        print('station_configuration', len(file['station_configuration']['index']), 'header_table', len(file['header_table']['index']))"
   ]
  },
  {
   "cell_type": "code",
   "execution_count": 6,
   "metadata": {},
   "outputs": [
    {
     "name": "stdout",
     "output_type": "stream",
     "text": [
      "station_configuration <KeysViewHDF5 ['alternative_name', 'bbox_max_latitude', 'bbox_max_longitude', 'bbox_min_latitude', 'bbox_min_longitude', 'city', 'comment', 'contact', 'end_date', 'index', 'latitude', 'local_gravity', 'longitude', 'measuring_system_id', 'measuring_system_model', 'metadata_contact', 'metadata_contact_role', 'observed_variables', 'observing_frequency', 'operating_institute', 'operating_territory', 'optional_data', 'platform_sub_type', 'platform_type', 'primary_id', 'primary_id_scheme', 'record_number', 'reporting_time', 'role', 'secondary_id', 'secondary_id_scheme', 'start_date', 'station_abbreviation', 'station_automation', 'station_crs', 'station_name', 'station_type', 'string1', 'string12', 'string15', 'string21', 'string3', 'string34', 'string35', 'string44', 'string5', 'string8', 'telecommunication_method']>\n",
      "33644 [    0     1     2 ... 33641 33642 33643]\n",
      "header_table <KeysViewHDF5 ['application_area', 'crs', 'duplicate_status', 'duplicates', 'events_at_station', 'height_of_station_above_local_ground', 'height_of_station_above_sea_level', 'height_of_station_above_sea_level_accuracy', 'index', 'instrument', 'latitude', 'location_accuracy', 'location_method', 'location_quality', 'longitude', 'number_of_pressure_levels', 'observing_programme', 'owner', 'platform_sub_type', 'platform_type', 'primary_station_id', 'primary_station_id_scheme', 'processing_codes', 'processing_level', 'product_name', 'product_version', 'profile_id', 'record_timestamp', 'references', 'region', 'report_duration', 'report_id', 'report_meaning_of_timestamp', 'report_quality', 'report_synoptic_time', 'report_time_accuracy', 'report_time_quality', 'report_time_reference', 'report_timestamp', 'report_type', 'sea_level_datum', 'source_id', 'source_record_id', 'station_course', 'station_heading', 'station_name', 'station_record_number', 'station_speed', 'station_type', 'string15', 'string20', 'string21', 'string35', 'string70', 'string9', 'sub_region']>\n",
      "33638 [ 733874400 1642993200 1643076000 ... 3881390400 3881430075 3881473568]\n"
     ]
    }
   ],
   "source": [
    "for i in files_13[1:2]:\n",
    "    with h5py.File(i, mode='r') as file:\n",
    "        print('station_configuration', file['station_configuration'].keys(), )\n",
    "        print(len(file['station_configuration']['record_number'][:]), file['station_configuration']['record_number'][:])\n",
    "        print('header_table', file['header_table'].keys(), )\n",
    "        print(len(file['header_table']['record_timestamp'][:]), file['header_table']['record_timestamp'][:])"
   ]
  },
  {
   "cell_type": "code",
   "execution_count": null,
   "metadata": {},
   "outputs": [],
   "source": []
  },
  {
   "cell_type": "code",
   "execution_count": null,
   "metadata": {},
   "outputs": [],
   "source": []
  },
  {
   "cell_type": "code",
   "execution_count": null,
   "metadata": {},
   "outputs": [],
   "source": []
  }
 ],
 "metadata": {
  "kernelspec": {
   "display_name": "uvn10",
   "language": "python",
   "name": "python3"
  },
  "language_info": {
   "codemirror_mode": {
    "name": "ipython",
    "version": 3
   },
   "file_extension": ".py",
   "mimetype": "text/x-python",
   "name": "python",
   "nbconvert_exporter": "python",
   "pygments_lexer": "ipython3",
   "version": "3.10.6"
  }
 },
 "nbformat": 4,
 "nbformat_minor": 4
}
