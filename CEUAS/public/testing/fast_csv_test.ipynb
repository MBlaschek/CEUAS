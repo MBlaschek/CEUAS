{
 "cells": [
  {
   "cell_type": "code",
   "execution_count": 1,
   "metadata": {},
   "outputs": [
    {
     "name": "stderr",
     "output_type": "stream",
     "text": [
      "/tmp/ipykernel_3131017/564853260.py:7: FutureWarning: Passing a negative integer is deprecated in version 1.0 and will not be supported in future version. Instead, use None to not limit the column width.\n",
      "  pd.set_option('display.max_colwidth', -1)\n"
     ]
    }
   ],
   "source": [
    "import numpy\n",
    "import numpy as np\n",
    "import pandas as pd\n",
    "pd.set_option('display.max_columns', None)\n",
    "# pd.set_option('display.max_rows', None)\n",
    "pd.set_option('display.width', None)\n",
    "pd.set_option('display.max_colwidth', -1)\n",
    "import matplotlib as plt\n",
    "plt.rcParams[\"figure.figsize\"] = (10, 5)\n",
    "import sys, glob\n",
    "import urllib3\n",
    "import h5py\n",
    "import cdsapi, zipfile, os, time\n",
    "import warnings\n",
    "import shutil\n",
    "import xarray\n",
    "from datetime import date\n",
    "# warnings.filterwarnings('ignore')\n",
    "# import pycountry\n",
    "sys.path.append(os.getcwd()+'/../cds-backend/code/')\n",
    "import cds_eua3 as eua\n",
    "import numba\n",
    "import copy\n",
    "import glob\n",
    "from numba import njit\n",
    "import pandas\n",
    "import glob\n",
    "import pickle\n",
    "import multiprocessing\n",
    "from functools import partial"
   ]
  },
  {
   "cell_type": "markdown",
   "metadata": {},
   "source": [
    "## 1 station "
   ]
  },
  {
   "cell_type": "markdown",
   "metadata": {},
   "source": [
    "### csv"
   ]
  },
  {
   "cell_type": "code",
   "execution_count": 5,
   "metadata": {},
   "outputs": [
    {
     "name": "stdout",
     "output_type": "stream",
     "text": [
      "21.15772771835327\n"
     ]
    }
   ],
   "source": [
    "tt = time.time()\n",
    "eua.vm_request_wrapper({'variable': 'temperature', 'statid': ['11035'], 'fast_csv':'True', 'speed_test':1}, vm_url='http://localhost:8004',overwrite=True)\n",
    "print(time.time() - tt)"
   ]
  },
  {
   "cell_type": "markdown",
   "metadata": {
    "tags": []
   },
   "source": [
    "#### zipping: 0.4437854290008545 sec"
   ]
  },
  {
   "cell_type": "markdown",
   "metadata": {},
   "source": [
    "### nc"
   ]
  },
  {
   "cell_type": "code",
   "execution_count": 4,
   "metadata": {},
   "outputs": [
    {
     "name": "stdout",
     "output_type": "stream",
     "text": [
      "6.615067481994629\n"
     ]
    }
   ],
   "source": [
    "tt = time.time()\n",
    "eua.vm_request_wrapper({'variable': 'temperature', 'statid': ['11035'], 'speed_test':1}, vm_url='http://localhost:8004',overwrite=True)\n",
    "print(time.time() - tt)"
   ]
  },
  {
   "cell_type": "markdown",
   "metadata": {
    "tags": []
   },
   "source": [
    "#### zipping: 0.3818824291229248 sec"
   ]
  },
  {
   "cell_type": "markdown",
   "metadata": {},
   "source": [
    "## 1 month all stations"
   ]
  },
  {
   "cell_type": "markdown",
   "metadata": {},
   "source": [
    "### csv"
   ]
  },
  {
   "cell_type": "code",
   "execution_count": 6,
   "metadata": {},
   "outputs": [
    {
     "name": "stdout",
     "output_type": "stream",
     "text": [
      "37.45617651939392\n"
     ]
    }
   ],
   "source": [
    "tt = time.time()\n",
    "eua.vm_request_wrapper({'variable': 'temperature', 'date':['20100101','20100201'], 'fast_csv':'True', 'speed_test':1}, vm_url='http://localhost:8004',overwrite=True)\n",
    "print(time.time() - tt)"
   ]
  },
  {
   "cell_type": "markdown",
   "metadata": {
    "tags": []
   },
   "source": [
    "#### zipping: 0.22829532623291016 sec"
   ]
  },
  {
   "cell_type": "markdown",
   "metadata": {},
   "source": [
    "### nc"
   ]
  },
  {
   "cell_type": "code",
   "execution_count": 7,
   "metadata": {},
   "outputs": [
    {
     "name": "stdout",
     "output_type": "stream",
     "text": [
      "4.1674864292144775\n"
     ]
    }
   ],
   "source": [
    "tt = time.time()\n",
    "eua.vm_request_wrapper({'variable': 'temperature', 'date':['20100101','20100201'], 'speed_test':1}, vm_url='http://localhost:8004',overwrite=True)\n",
    "print(time.time() - tt)"
   ]
  },
  {
   "cell_type": "markdown",
   "metadata": {
    "tags": []
   },
   "source": [
    "#### zipping: 0.23750019073486328 sec"
   ]
  },
  {
   "cell_type": "markdown",
   "metadata": {},
   "source": [
    "## 300 hPa all stations"
   ]
  },
  {
   "cell_type": "markdown",
   "metadata": {},
   "source": [
    "### csv"
   ]
  },
  {
   "cell_type": "code",
   "execution_count": 8,
   "metadata": {},
   "outputs": [
    {
     "name": "stdout",
     "output_type": "stream",
     "text": [
      "187.46723318099976\n"
     ]
    }
   ],
   "source": [
    "tt = time.time()\n",
    "eua.vm_request_wrapper({'variable': 'temperature', 'pressure_level':[30000], 'fast_csv':'True', 'speed_test':1}, vm_url='http://localhost:8004',overwrite=True)\n",
    "print(time.time() - tt)"
   ]
  },
  {
   "cell_type": "markdown",
   "metadata": {
    "tags": []
   },
   "source": [
    "#### zipping: 3.1846954822540283 sec"
   ]
  },
  {
   "cell_type": "markdown",
   "metadata": {},
   "source": [
    "### nc"
   ]
  },
  {
   "cell_type": "code",
   "execution_count": 9,
   "metadata": {},
   "outputs": [
    {
     "name": "stdout",
     "output_type": "stream",
     "text": [
      "119.26785922050476\n"
     ]
    }
   ],
   "source": [
    "tt = time.time()\n",
    "eua.vm_request_wrapper({'variable': 'temperature', 'pressure_level':[30000], 'speed_test':1}, vm_url='http://localhost:8004',overwrite=True)\n",
    "print(time.time() - tt)"
   ]
  },
  {
   "cell_type": "markdown",
   "metadata": {
    "tags": []
   },
   "source": [
    "#### zipping: 3.222466230392456 sec"
   ]
  },
  {
   "cell_type": "code",
   "execution_count": null,
   "metadata": {},
   "outputs": [],
   "source": []
  }
 ],
 "metadata": {
  "kernelspec": {
   "display_name": "UV",
   "language": "python",
   "name": "uv"
  },
  "language_info": {
   "codemirror_mode": {
    "name": "ipython",
    "version": 3
   },
   "file_extension": ".py",
   "mimetype": "text/x-python",
   "name": "python",
   "nbconvert_exporter": "python",
   "pygments_lexer": "ipython3",
   "version": "3.9.7"
  }
 },
 "nbformat": 4,
 "nbformat_minor": 4
}
