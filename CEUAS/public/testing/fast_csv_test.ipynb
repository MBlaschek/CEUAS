{
 "cells": [
  {
   "cell_type": "code",
   "execution_count": 1,
   "metadata": {},
   "outputs": [
    {
     "name": "stderr",
     "output_type": "stream",
     "text": [
      "/tmp/ipykernel_3450914/564853260.py:7: FutureWarning: Passing a negative integer is deprecated in version 1.0 and will not be supported in future version. Instead, use None to not limit the column width.\n",
      "  pd.set_option('display.max_colwidth', -1)\n"
     ]
    }
   ],
   "source": [
    "import numpy\n",
    "import numpy as np\n",
    "import pandas as pd\n",
    "pd.set_option('display.max_columns', None)\n",
    "# pd.set_option('display.max_rows', None)\n",
    "pd.set_option('display.width', None)\n",
    "pd.set_option('display.max_colwidth', -1)\n",
    "import matplotlib as plt\n",
    "plt.rcParams[\"figure.figsize\"] = (10, 5)\n",
    "import sys, glob\n",
    "import urllib3\n",
    "import h5py\n",
    "import cdsapi, zipfile, os, time\n",
    "import warnings\n",
    "import shutil\n",
    "import xarray\n",
    "from datetime import date\n",
    "# warnings.filterwarnings('ignore')\n",
    "# import pycountry\n",
    "sys.path.append(os.getcwd()+'/../cds-backend/code/')\n",
    "import cds_eua3 as eua\n",
    "import numba\n",
    "import copy\n",
    "import glob\n",
    "from numba import njit\n",
    "import pandas\n",
    "import glob\n",
    "import pickle\n",
    "import multiprocessing\n",
    "from functools import partial"
   ]
  },
  {
   "cell_type": "markdown",
   "metadata": {},
   "source": [
    "## 1 station "
   ]
  },
  {
   "cell_type": "code",
   "execution_count": 2,
   "metadata": {},
   "outputs": [
    {
     "data": {
      "text/html": [
       "<div>\n",
       "<style scoped>\n",
       "    .dataframe tbody tr th:only-of-type {\n",
       "        vertical-align: middle;\n",
       "    }\n",
       "\n",
       "    .dataframe tbody tr th {\n",
       "        vertical-align: top;\n",
       "    }\n",
       "\n",
       "    .dataframe thead th {\n",
       "        text-align: right;\n",
       "    }\n",
       "</style>\n",
       "<table border=\"1\" class=\"dataframe\">\n",
       "  <thead>\n",
       "    <tr style=\"text-align: right;\">\n",
       "      <th></th>\n",
       "      <th>lat</th>\n",
       "      <th>lon</th>\n",
       "      <th>obs</th>\n",
       "      <th>plev</th>\n",
       "      <th>report_id</th>\n",
       "      <th>station_id</th>\n",
       "      <th>ta</th>\n",
       "      <th>time</th>\n",
       "      <th>trajectory_label</th>\n",
       "    </tr>\n",
       "  </thead>\n",
       "  <tbody>\n",
       "    <tr>\n",
       "      <th>10000</th>\n",
       "      <td>48.32</td>\n",
       "      <td>16.120001</td>\n",
       "      <td>0</td>\n",
       "      <td>85000.0</td>\n",
       "      <td>20000000846</td>\n",
       "      <td>WIEN/HOHE WARTE (11035-1)</td>\n",
       "      <td>290.750000</td>\n",
       "      <td>1950-08-25 21:00:00</td>\n",
       "      <td>nnnnnnnnnnn</td>\n",
       "    </tr>\n",
       "    <tr>\n",
       "      <th>10001</th>\n",
       "      <td>48.32</td>\n",
       "      <td>16.120001</td>\n",
       "      <td>0</td>\n",
       "      <td>90000.0</td>\n",
       "      <td>20000000846</td>\n",
       "      <td>WIEN/HOHE WARTE (11035-1)</td>\n",
       "      <td>292.549988</td>\n",
       "      <td>1950-08-25 21:00:00</td>\n",
       "      <td>nnnnnnnnnnn</td>\n",
       "    </tr>\n",
       "    <tr>\n",
       "      <th>10002</th>\n",
       "      <td>48.32</td>\n",
       "      <td>16.120001</td>\n",
       "      <td>0</td>\n",
       "      <td>95000.0</td>\n",
       "      <td>20000000846</td>\n",
       "      <td>WIEN/HOHE WARTE (11035-1)</td>\n",
       "      <td>293.549988</td>\n",
       "      <td>1950-08-25 21:00:00</td>\n",
       "      <td>nnnnnnnnnnn</td>\n",
       "    </tr>\n",
       "    <tr>\n",
       "      <th>10003</th>\n",
       "      <td>48.32</td>\n",
       "      <td>16.120001</td>\n",
       "      <td>0</td>\n",
       "      <td>99800.0</td>\n",
       "      <td>20000000846</td>\n",
       "      <td>WIEN/HOHE WARTE (11035-1)</td>\n",
       "      <td>292.549988</td>\n",
       "      <td>1950-08-25 21:00:00</td>\n",
       "      <td>nnnnnnnnnnn</td>\n",
       "    </tr>\n",
       "    <tr>\n",
       "      <th>10004</th>\n",
       "      <td>48.32</td>\n",
       "      <td>16.120001</td>\n",
       "      <td>0</td>\n",
       "      <td>12500.0</td>\n",
       "      <td>20000000847</td>\n",
       "      <td>WIEN/HOHE WARTE (11035-1)</td>\n",
       "      <td>220.149994</td>\n",
       "      <td>1950-08-26 03:00:00</td>\n",
       "      <td>nnnnnnnnnnn</td>\n",
       "    </tr>\n",
       "    <tr>\n",
       "      <th>10005</th>\n",
       "      <td>48.32</td>\n",
       "      <td>16.120001</td>\n",
       "      <td>0</td>\n",
       "      <td>15000.0</td>\n",
       "      <td>20000000847</td>\n",
       "      <td>WIEN/HOHE WARTE (11035-1)</td>\n",
       "      <td>222.649994</td>\n",
       "      <td>1950-08-26 03:00:00</td>\n",
       "      <td>nnnnnnnnnnn</td>\n",
       "    </tr>\n",
       "    <tr>\n",
       "      <th>10006</th>\n",
       "      <td>48.32</td>\n",
       "      <td>16.120001</td>\n",
       "      <td>0</td>\n",
       "      <td>17500.0</td>\n",
       "      <td>20000000847</td>\n",
       "      <td>WIEN/HOHE WARTE (11035-1)</td>\n",
       "      <td>219.750000</td>\n",
       "      <td>1950-08-26 03:00:00</td>\n",
       "      <td>nnnnnnnnnnn</td>\n",
       "    </tr>\n",
       "    <tr>\n",
       "      <th>10007</th>\n",
       "      <td>48.32</td>\n",
       "      <td>16.120001</td>\n",
       "      <td>0</td>\n",
       "      <td>20000.0</td>\n",
       "      <td>20000000847</td>\n",
       "      <td>WIEN/HOHE WARTE (11035-1)</td>\n",
       "      <td>220.949997</td>\n",
       "      <td>1950-08-26 03:00:00</td>\n",
       "      <td>nnnnnnnnnnn</td>\n",
       "    </tr>\n",
       "    <tr>\n",
       "      <th>10008</th>\n",
       "      <td>48.32</td>\n",
       "      <td>16.120001</td>\n",
       "      <td>0</td>\n",
       "      <td>25000.0</td>\n",
       "      <td>20000000847</td>\n",
       "      <td>WIEN/HOHE WARTE (11035-1)</td>\n",
       "      <td>229.649994</td>\n",
       "      <td>1950-08-26 03:00:00</td>\n",
       "      <td>nnnnnnnnnnn</td>\n",
       "    </tr>\n",
       "    <tr>\n",
       "      <th>10009</th>\n",
       "      <td>48.32</td>\n",
       "      <td>16.120001</td>\n",
       "      <td>0</td>\n",
       "      <td>30000.0</td>\n",
       "      <td>20000000847</td>\n",
       "      <td>WIEN/HOHE WARTE (11035-1)</td>\n",
       "      <td>238.649994</td>\n",
       "      <td>1950-08-26 03:00:00</td>\n",
       "      <td>nnnnnnnnnnn</td>\n",
       "    </tr>\n",
       "  </tbody>\n",
       "</table>\n",
       "</div>"
      ],
      "text/plain": [
       "         lat        lon  obs     plev    report_id                 station_id  \\\n",
       "10000  48.32  16.120001  0    85000.0  20000000846  WIEN/HOHE WARTE (11035-1)   \n",
       "10001  48.32  16.120001  0    90000.0  20000000846  WIEN/HOHE WARTE (11035-1)   \n",
       "10002  48.32  16.120001  0    95000.0  20000000846  WIEN/HOHE WARTE (11035-1)   \n",
       "10003  48.32  16.120001  0    99800.0  20000000846  WIEN/HOHE WARTE (11035-1)   \n",
       "10004  48.32  16.120001  0    12500.0  20000000847  WIEN/HOHE WARTE (11035-1)   \n",
       "10005  48.32  16.120001  0    15000.0  20000000847  WIEN/HOHE WARTE (11035-1)   \n",
       "10006  48.32  16.120001  0    17500.0  20000000847  WIEN/HOHE WARTE (11035-1)   \n",
       "10007  48.32  16.120001  0    20000.0  20000000847  WIEN/HOHE WARTE (11035-1)   \n",
       "10008  48.32  16.120001  0    25000.0  20000000847  WIEN/HOHE WARTE (11035-1)   \n",
       "10009  48.32  16.120001  0    30000.0  20000000847  WIEN/HOHE WARTE (11035-1)   \n",
       "\n",
       "               ta                time trajectory_label  \n",
       "10000  290.750000 1950-08-25 21:00:00  nnnnnnnnnnn      \n",
       "10001  292.549988 1950-08-25 21:00:00  nnnnnnnnnnn      \n",
       "10002  293.549988 1950-08-25 21:00:00  nnnnnnnnnnn      \n",
       "10003  292.549988 1950-08-25 21:00:00  nnnnnnnnnnn      \n",
       "10004  220.149994 1950-08-26 03:00:00  nnnnnnnnnnn      \n",
       "10005  222.649994 1950-08-26 03:00:00  nnnnnnnnnnn      \n",
       "10006  219.750000 1950-08-26 03:00:00  nnnnnnnnnnn      \n",
       "10007  220.949997 1950-08-26 03:00:00  nnnnnnnnnnn      \n",
       "10008  229.649994 1950-08-26 03:00:00  nnnnnnnnnnn      \n",
       "10009  238.649994 1950-08-26 03:00:00  nnnnnnnnnnn      "
      ]
     },
     "execution_count": 2,
     "metadata": {},
     "output_type": "execute_result"
    }
   ],
   "source": [
    "a = eua.vm_request_wrapper({'variable': 'temperature', 'statid': ['11035']}, vm_url='http://localhost:8004',overwrite=True)\n",
    "a.to_dataframe()[10000:10010]"
   ]
  },
  {
   "cell_type": "code",
   "execution_count": 3,
   "metadata": {},
   "outputs": [
    {
     "data": {
      "text/html": [
       "<div>\n",
       "<style scoped>\n",
       "    .dataframe tbody tr th:only-of-type {\n",
       "        vertical-align: middle;\n",
       "    }\n",
       "\n",
       "    .dataframe tbody tr th {\n",
       "        vertical-align: top;\n",
       "    }\n",
       "\n",
       "    .dataframe thead th {\n",
       "        text-align: right;\n",
       "    }\n",
       "</style>\n",
       "<table border=\"1\" class=\"dataframe\">\n",
       "  <thead>\n",
       "    <tr style=\"text-align: right;\">\n",
       "      <th></th>\n",
       "      <th># latitude</th>\n",
       "      <th>longitude</th>\n",
       "      <th>date_time</th>\n",
       "      <th>z_coordinate</th>\n",
       "      <th>observation_value</th>\n",
       "    </tr>\n",
       "  </thead>\n",
       "  <tbody>\n",
       "    <tr>\n",
       "      <th>10000</th>\n",
       "      <td>48.32</td>\n",
       "      <td>16.120001</td>\n",
       "      <td>1598302800</td>\n",
       "      <td>85000.0</td>\n",
       "      <td>290.750000</td>\n",
       "    </tr>\n",
       "    <tr>\n",
       "      <th>10001</th>\n",
       "      <td>48.32</td>\n",
       "      <td>16.120001</td>\n",
       "      <td>1598302800</td>\n",
       "      <td>90000.0</td>\n",
       "      <td>292.549988</td>\n",
       "    </tr>\n",
       "    <tr>\n",
       "      <th>10002</th>\n",
       "      <td>48.32</td>\n",
       "      <td>16.120001</td>\n",
       "      <td>1598302800</td>\n",
       "      <td>95000.0</td>\n",
       "      <td>293.549988</td>\n",
       "    </tr>\n",
       "    <tr>\n",
       "      <th>10003</th>\n",
       "      <td>48.32</td>\n",
       "      <td>16.120001</td>\n",
       "      <td>1598302800</td>\n",
       "      <td>99800.0</td>\n",
       "      <td>292.549988</td>\n",
       "    </tr>\n",
       "    <tr>\n",
       "      <th>10004</th>\n",
       "      <td>48.32</td>\n",
       "      <td>16.120001</td>\n",
       "      <td>1598324400</td>\n",
       "      <td>12500.0</td>\n",
       "      <td>220.149994</td>\n",
       "    </tr>\n",
       "    <tr>\n",
       "      <th>10005</th>\n",
       "      <td>48.32</td>\n",
       "      <td>16.120001</td>\n",
       "      <td>1598324400</td>\n",
       "      <td>15000.0</td>\n",
       "      <td>222.649994</td>\n",
       "    </tr>\n",
       "    <tr>\n",
       "      <th>10006</th>\n",
       "      <td>48.32</td>\n",
       "      <td>16.120001</td>\n",
       "      <td>1598324400</td>\n",
       "      <td>17500.0</td>\n",
       "      <td>219.750000</td>\n",
       "    </tr>\n",
       "    <tr>\n",
       "      <th>10007</th>\n",
       "      <td>48.32</td>\n",
       "      <td>16.120001</td>\n",
       "      <td>1598324400</td>\n",
       "      <td>20000.0</td>\n",
       "      <td>220.949997</td>\n",
       "    </tr>\n",
       "    <tr>\n",
       "      <th>10008</th>\n",
       "      <td>48.32</td>\n",
       "      <td>16.120001</td>\n",
       "      <td>1598324400</td>\n",
       "      <td>25000.0</td>\n",
       "      <td>229.649994</td>\n",
       "    </tr>\n",
       "    <tr>\n",
       "      <th>10009</th>\n",
       "      <td>48.32</td>\n",
       "      <td>16.120001</td>\n",
       "      <td>1598324400</td>\n",
       "      <td>30000.0</td>\n",
       "      <td>238.649994</td>\n",
       "    </tr>\n",
       "  </tbody>\n",
       "</table>\n",
       "</div>"
      ],
      "text/plain": [
       "       # latitude  longitude   date_time  z_coordinate  observation_value\n",
       "10000  48.32       16.120001  1598302800  85000.0       290.750000       \n",
       "10001  48.32       16.120001  1598302800  90000.0       292.549988       \n",
       "10002  48.32       16.120001  1598302800  95000.0       293.549988       \n",
       "10003  48.32       16.120001  1598302800  99800.0       292.549988       \n",
       "10004  48.32       16.120001  1598324400  12500.0       220.149994       \n",
       "10005  48.32       16.120001  1598324400  15000.0       222.649994       \n",
       "10006  48.32       16.120001  1598324400  17500.0       219.750000       \n",
       "10007  48.32       16.120001  1598324400  20000.0       220.949997       \n",
       "10008  48.32       16.120001  1598324400  25000.0       229.649994       \n",
       "10009  48.32       16.120001  1598324400  30000.0       238.649994       "
      ]
     },
     "execution_count": 3,
     "metadata": {},
     "output_type": "execute_result"
    }
   ],
   "source": [
    "a = eua.vm_request_wrapper({'variable': 'temperature', 'statid': ['11035'], 'fast_csv':'True'}, vm_url='http://localhost:8004',overwrite=True)\n",
    "a[10000:10010]"
   ]
  },
  {
   "cell_type": "markdown",
   "metadata": {},
   "source": [
    "### csv"
   ]
  },
  {
   "cell_type": "code",
   "execution_count": 4,
   "metadata": {},
   "outputs": [
    {
     "name": "stdout",
     "output_type": "stream",
     "text": [
      "17.286755323410034\n"
     ]
    }
   ],
   "source": [
    "tt = time.time()\n",
    "eua.vm_request_wrapper({'variable': 'temperature', 'statid': ['11035'], 'fast_csv':'True', 'speed_test':1}, vm_url='http://localhost:8004',overwrite=True)\n",
    "print(time.time() - tt)"
   ]
  },
  {
   "cell_type": "markdown",
   "metadata": {
    "tags": []
   },
   "source": [
    "#### zipping: 0.4437854290008545 sec\n"
   ]
  },
  {
   "cell_type": "markdown",
   "metadata": {},
   "source": [
    "### nc"
   ]
  },
  {
   "cell_type": "code",
   "execution_count": 5,
   "metadata": {},
   "outputs": [
    {
     "name": "stdout",
     "output_type": "stream",
     "text": [
      "7.595234632492065\n"
     ]
    }
   ],
   "source": [
    "tt = time.time()\n",
    "eua.vm_request_wrapper({'variable': 'temperature', 'statid': ['11035'], 'speed_test':1}, vm_url='http://localhost:8004',overwrite=True)\n",
    "print(time.time() - tt)"
   ]
  },
  {
   "cell_type": "markdown",
   "metadata": {
    "tags": []
   },
   "source": [
    "#### zipping: 0.3818824291229248 sec"
   ]
  },
  {
   "cell_type": "markdown",
   "metadata": {},
   "source": [
    "## 1 month all stations"
   ]
  },
  {
   "cell_type": "markdown",
   "metadata": {},
   "source": [
    "### csv"
   ]
  },
  {
   "cell_type": "code",
   "execution_count": 6,
   "metadata": {},
   "outputs": [
    {
     "name": "stdout",
     "output_type": "stream",
     "text": [
      "2.9086570739746094\n"
     ]
    }
   ],
   "source": [
    "tt = time.time()\n",
    "eua.vm_request_wrapper({'variable': 'temperature', 'date':['20100101','20100201'], 'fast_csv':'True', 'speed_test':1}, vm_url='http://localhost:8004',overwrite=True)\n",
    "print(time.time() - tt)"
   ]
  },
  {
   "cell_type": "markdown",
   "metadata": {
    "tags": []
   },
   "source": [
    "#### zipping: 0.22829532623291016 sec"
   ]
  },
  {
   "cell_type": "markdown",
   "metadata": {},
   "source": [
    "### nc"
   ]
  },
  {
   "cell_type": "code",
   "execution_count": 7,
   "metadata": {},
   "outputs": [
    {
     "name": "stdout",
     "output_type": "stream",
     "text": [
      "4.315251350402832\n"
     ]
    }
   ],
   "source": [
    "tt = time.time()\n",
    "eua.vm_request_wrapper({'variable': 'temperature', 'date':['20100101','20100201'], 'speed_test':1}, vm_url='http://localhost:8004',overwrite=True)\n",
    "print(time.time() - tt)"
   ]
  },
  {
   "cell_type": "markdown",
   "metadata": {
    "tags": []
   },
   "source": [
    "#### zipping: 0.23750019073486328 sec"
   ]
  },
  {
   "cell_type": "markdown",
   "metadata": {},
   "source": [
    "## 300 hPa all stations"
   ]
  },
  {
   "cell_type": "markdown",
   "metadata": {},
   "source": [
    "### csv"
   ]
  },
  {
   "cell_type": "code",
   "execution_count": 10,
   "metadata": {},
   "outputs": [
    {
     "name": "stdout",
     "output_type": "stream",
     "text": [
      "114.5682692527771\n"
     ]
    }
   ],
   "source": [
    "tt = time.time()\n",
    "eua.vm_request_wrapper({'variable': 'temperature', 'pressure_level':[30000], 'fast_csv':'True', 'speed_test':1}, vm_url='http://localhost:8004',overwrite=True)\n",
    "print(time.time() - tt)"
   ]
  },
  {
   "cell_type": "markdown",
   "metadata": {
    "tags": []
   },
   "source": [
    "#### zipping: 3.1846954822540283 sec"
   ]
  },
  {
   "cell_type": "markdown",
   "metadata": {},
   "source": [
    "### nc"
   ]
  },
  {
   "cell_type": "code",
   "execution_count": 11,
   "metadata": {},
   "outputs": [
    {
     "name": "stdout",
     "output_type": "stream",
     "text": [
      "111.29002141952515\n"
     ]
    }
   ],
   "source": [
    "tt = time.time()\n",
    "eua.vm_request_wrapper({'variable': 'temperature', 'pressure_level':[30000], 'speed_test':1}, vm_url='http://localhost:8004',overwrite=True)\n",
    "print(time.time() - tt)"
   ]
  },
  {
   "cell_type": "markdown",
   "metadata": {
    "tags": []
   },
   "source": [
    "#### zipping: 3.222466230392456 sec"
   ]
  },
  {
   "cell_type": "code",
   "execution_count": null,
   "metadata": {},
   "outputs": [],
   "source": []
  }
 ],
 "metadata": {
  "kernelspec": {
   "display_name": "UV",
   "language": "python",
   "name": "uv"
  },
  "language_info": {
   "codemirror_mode": {
    "name": "ipython",
    "version": 3
   },
   "file_extension": ".py",
   "mimetype": "text/x-python",
   "name": "python",
   "nbconvert_exporter": "python",
   "pygments_lexer": "ipython3",
   "version": "3.9.7"
  }
 },
 "nbformat": 4,
 "nbformat_minor": 4
}
