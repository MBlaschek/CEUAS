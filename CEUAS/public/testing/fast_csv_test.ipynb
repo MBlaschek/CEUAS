{
 "cells": [
  {
   "cell_type": "code",
   "execution_count": 1,
   "metadata": {},
   "outputs": [
    {
     "name": "stderr",
     "output_type": "stream",
     "text": [
      "/tmp/ipykernel_3437319/564853260.py:7: FutureWarning: Passing a negative integer is deprecated in version 1.0 and will not be supported in future version. Instead, use None to not limit the column width.\n",
      "  pd.set_option('display.max_colwidth', -1)\n"
     ]
    }
   ],
   "source": [
    "import numpy\n",
    "import numpy as np\n",
    "import pandas as pd\n",
    "pd.set_option('display.max_columns', None)\n",
    "# pd.set_option('display.max_rows', None)\n",
    "pd.set_option('display.width', None)\n",
    "pd.set_option('display.max_colwidth', -1)\n",
    "import matplotlib as plt\n",
    "plt.rcParams[\"figure.figsize\"] = (10, 5)\n",
    "import sys, glob\n",
    "import urllib3\n",
    "import h5py\n",
    "import cdsapi, zipfile, os, time\n",
    "import warnings\n",
    "import shutil\n",
    "import xarray\n",
    "from datetime import date\n",
    "# warnings.filterwarnings('ignore')\n",
    "# import pycountry\n",
    "sys.path.append(os.getcwd()+'/../cds-backend/code/')\n",
    "import cds_eua3 as eua\n",
    "import numba\n",
    "import copy\n",
    "import glob\n",
    "from numba import njit\n",
    "import pandas\n",
    "import glob\n",
    "import pickle\n",
    "import multiprocessing\n",
    "from functools import partial"
   ]
  },
  {
   "cell_type": "markdown",
   "metadata": {},
   "source": [
    "## 1 station "
   ]
  },
  {
   "cell_type": "markdown",
   "metadata": {},
   "source": [
    "### csv"
   ]
  },
  {
   "cell_type": "code",
   "execution_count": 2,
   "metadata": {},
   "outputs": [
    {
     "data": {
      "text/html": [
       "<div>\n",
       "<style scoped>\n",
       "    .dataframe tbody tr th:only-of-type {\n",
       "        vertical-align: middle;\n",
       "    }\n",
       "\n",
       "    .dataframe tbody tr th {\n",
       "        vertical-align: top;\n",
       "    }\n",
       "\n",
       "    .dataframe thead th {\n",
       "        text-align: right;\n",
       "    }\n",
       "</style>\n",
       "<table border=\"1\" class=\"dataframe\">\n",
       "  <thead>\n",
       "    <tr style=\"text-align: right;\">\n",
       "      <th></th>\n",
       "      <th># latitude</th>\n",
       "      <th>longitude</th>\n",
       "      <th>date_time</th>\n",
       "      <th>z_coordinate</th>\n",
       "      <th>observation_value</th>\n",
       "    </tr>\n",
       "  </thead>\n",
       "  <tbody>\n",
       "    <tr>\n",
       "      <th>0</th>\n",
       "      <td>48.250</td>\n",
       "      <td>16.370</td>\n",
       "      <td>7.909393e+08</td>\n",
       "      <td>4300.0</td>\n",
       "      <td>NaN</td>\n",
       "    </tr>\n",
       "    <tr>\n",
       "      <th>1</th>\n",
       "      <td>48.250</td>\n",
       "      <td>16.370</td>\n",
       "      <td>7.909393e+08</td>\n",
       "      <td>4400.0</td>\n",
       "      <td>NaN</td>\n",
       "    </tr>\n",
       "    <tr>\n",
       "      <th>2</th>\n",
       "      <td>48.250</td>\n",
       "      <td>16.370</td>\n",
       "      <td>7.909393e+08</td>\n",
       "      <td>5300.0</td>\n",
       "      <td>NaN</td>\n",
       "    </tr>\n",
       "    <tr>\n",
       "      <th>3</th>\n",
       "      <td>48.250</td>\n",
       "      <td>16.370</td>\n",
       "      <td>7.909393e+08</td>\n",
       "      <td>9200.0</td>\n",
       "      <td>NaN</td>\n",
       "    </tr>\n",
       "    <tr>\n",
       "      <th>4</th>\n",
       "      <td>48.250</td>\n",
       "      <td>16.370</td>\n",
       "      <td>7.909393e+08</td>\n",
       "      <td>10300.0</td>\n",
       "      <td>NaN</td>\n",
       "    </tr>\n",
       "    <tr>\n",
       "      <th>...</th>\n",
       "      <td>...</td>\n",
       "      <td>...</td>\n",
       "      <td>...</td>\n",
       "      <td>...</td>\n",
       "      <td>...</td>\n",
       "    </tr>\n",
       "    <tr>\n",
       "      <th>6348029</th>\n",
       "      <td>48.249</td>\n",
       "      <td>16.357</td>\n",
       "      <td>3.818403e+09</td>\n",
       "      <td>98130.0</td>\n",
       "      <td>NaN</td>\n",
       "    </tr>\n",
       "    <tr>\n",
       "      <th>6348030</th>\n",
       "      <td>48.249</td>\n",
       "      <td>16.357</td>\n",
       "      <td>3.818403e+09</td>\n",
       "      <td>98190.0</td>\n",
       "      <td>NaN</td>\n",
       "    </tr>\n",
       "    <tr>\n",
       "      <th>6348031</th>\n",
       "      <td>48.249</td>\n",
       "      <td>16.357</td>\n",
       "      <td>3.818403e+09</td>\n",
       "      <td>98210.0</td>\n",
       "      <td>NaN</td>\n",
       "    </tr>\n",
       "    <tr>\n",
       "      <th>6348032</th>\n",
       "      <td>48.249</td>\n",
       "      <td>16.357</td>\n",
       "      <td>3.818403e+09</td>\n",
       "      <td>98240.0</td>\n",
       "      <td>NaN</td>\n",
       "    </tr>\n",
       "    <tr>\n",
       "      <th>6348033</th>\n",
       "      <td>48.249</td>\n",
       "      <td>16.357</td>\n",
       "      <td>3.818403e+09</td>\n",
       "      <td>98320.0</td>\n",
       "      <td>NaN</td>\n",
       "    </tr>\n",
       "  </tbody>\n",
       "</table>\n",
       "<p>6348034 rows × 5 columns</p>\n",
       "</div>"
      ],
      "text/plain": [
       "         # latitude  longitude     date_time  z_coordinate  observation_value\n",
       "0        48.250      16.370     7.909393e+08  4300.0       NaN               \n",
       "1        48.250      16.370     7.909393e+08  4400.0       NaN               \n",
       "2        48.250      16.370     7.909393e+08  5300.0       NaN               \n",
       "3        48.250      16.370     7.909393e+08  9200.0       NaN               \n",
       "4        48.250      16.370     7.909393e+08  10300.0      NaN               \n",
       "...         ...         ...              ...      ...       ..               \n",
       "6348029  48.249      16.357     3.818403e+09  98130.0      NaN               \n",
       "6348030  48.249      16.357     3.818403e+09  98190.0      NaN               \n",
       "6348031  48.249      16.357     3.818403e+09  98210.0      NaN               \n",
       "6348032  48.249      16.357     3.818403e+09  98240.0      NaN               \n",
       "6348033  48.249      16.357     3.818403e+09  98320.0      NaN               \n",
       "\n",
       "[6348034 rows x 5 columns]"
      ]
     },
     "execution_count": 2,
     "metadata": {},
     "output_type": "execute_result"
    }
   ],
   "source": [
    "a = eua.vm_request_wrapper({'variable': 'temperature', 'statid': ['11035'], 'fast_csv':'True'}, vm_url='http://localhost:8004',overwrite=True)\n",
    "a"
   ]
  },
  {
   "cell_type": "code",
   "execution_count": 3,
   "metadata": {},
   "outputs": [
    {
     "name": "stdout",
     "output_type": "stream",
     "text": [
      "18.8522686958313\n"
     ]
    }
   ],
   "source": [
    "tt = time.time()\n",
    "eua.vm_request_wrapper({'variable': 'temperature', 'statid': ['11035'], 'fast_csv':'True', 'speed_test':1}, vm_url='http://localhost:8004',overwrite=True)\n",
    "print(time.time() - tt)"
   ]
  },
  {
   "cell_type": "markdown",
   "metadata": {
    "tags": []
   },
   "source": [
    "#### zipping: 0.4437854290008545 sec\n",
    "#### writing: 15.085647583007812"
   ]
  },
  {
   "cell_type": "markdown",
   "metadata": {},
   "source": [
    "### nc"
   ]
  },
  {
   "cell_type": "code",
   "execution_count": 4,
   "metadata": {},
   "outputs": [
    {
     "name": "stdout",
     "output_type": "stream",
     "text": [
      "6.964275121688843\n"
     ]
    }
   ],
   "source": [
    "tt = time.time()\n",
    "eua.vm_request_wrapper({'variable': 'temperature', 'statid': ['11035'], 'speed_test':1}, vm_url='http://localhost:8004',overwrite=True)\n",
    "print(time.time() - tt)"
   ]
  },
  {
   "cell_type": "markdown",
   "metadata": {
    "tags": []
   },
   "source": [
    "#### zipping: 0.3818824291229248 sec"
   ]
  },
  {
   "cell_type": "markdown",
   "metadata": {},
   "source": [
    "## 1 month all stations"
   ]
  },
  {
   "cell_type": "markdown",
   "metadata": {},
   "source": [
    "### csv"
   ]
  },
  {
   "cell_type": "code",
   "execution_count": 5,
   "metadata": {},
   "outputs": [
    {
     "name": "stdout",
     "output_type": "stream",
     "text": [
      "2.985860586166382\n"
     ]
    }
   ],
   "source": [
    "tt = time.time()\n",
    "eua.vm_request_wrapper({'variable': 'temperature', 'date':['20100101','20100201'], 'fast_csv':'True', 'speed_test':1}, vm_url='http://localhost:8004',overwrite=True)\n",
    "print(time.time() - tt)"
   ]
  },
  {
   "cell_type": "markdown",
   "metadata": {
    "tags": []
   },
   "source": [
    "#### zipping: 0.22829532623291016 sec"
   ]
  },
  {
   "cell_type": "markdown",
   "metadata": {},
   "source": [
    "### nc"
   ]
  },
  {
   "cell_type": "code",
   "execution_count": 6,
   "metadata": {},
   "outputs": [
    {
     "name": "stdout",
     "output_type": "stream",
     "text": [
      "4.230541229248047\n"
     ]
    }
   ],
   "source": [
    "tt = time.time()\n",
    "eua.vm_request_wrapper({'variable': 'temperature', 'date':['20100101','20100201'], 'speed_test':1}, vm_url='http://localhost:8004',overwrite=True)\n",
    "print(time.time() - tt)"
   ]
  },
  {
   "cell_type": "markdown",
   "metadata": {
    "tags": []
   },
   "source": [
    "#### zipping: 0.23750019073486328 sec"
   ]
  },
  {
   "cell_type": "markdown",
   "metadata": {},
   "source": [
    "## 300 hPa all stations"
   ]
  },
  {
   "cell_type": "markdown",
   "metadata": {},
   "source": [
    "### csv"
   ]
  },
  {
   "cell_type": "code",
   "execution_count": 7,
   "metadata": {},
   "outputs": [
    {
     "name": "stdout",
     "output_type": "stream",
     "text": [
      "111.60393905639648\n"
     ]
    }
   ],
   "source": [
    "tt = time.time()\n",
    "eua.vm_request_wrapper({'variable': 'temperature', 'pressure_level':[30000], 'fast_csv':'True', 'speed_test':1}, vm_url='http://localhost:8004',overwrite=True)\n",
    "print(time.time() - tt)"
   ]
  },
  {
   "cell_type": "markdown",
   "metadata": {
    "tags": []
   },
   "source": [
    "#### zipping: 3.1846954822540283 sec"
   ]
  },
  {
   "cell_type": "markdown",
   "metadata": {},
   "source": [
    "### nc"
   ]
  },
  {
   "cell_type": "code",
   "execution_count": 8,
   "metadata": {},
   "outputs": [
    {
     "name": "stdout",
     "output_type": "stream",
     "text": [
      "113.49047660827637\n"
     ]
    }
   ],
   "source": [
    "tt = time.time()\n",
    "eua.vm_request_wrapper({'variable': 'temperature', 'pressure_level':[30000], 'speed_test':1}, vm_url='http://localhost:8004',overwrite=True)\n",
    "print(time.time() - tt)"
   ]
  },
  {
   "cell_type": "markdown",
   "metadata": {
    "tags": []
   },
   "source": [
    "#### zipping: 3.222466230392456 sec"
   ]
  },
  {
   "cell_type": "code",
   "execution_count": null,
   "metadata": {},
   "outputs": [],
   "source": []
  }
 ],
 "metadata": {
  "kernelspec": {
   "display_name": "UV",
   "language": "python",
   "name": "uv"
  },
  "language_info": {
   "codemirror_mode": {
    "name": "ipython",
    "version": 3
   },
   "file_extension": ".py",
   "mimetype": "text/x-python",
   "name": "python",
   "nbconvert_exporter": "python",
   "pygments_lexer": "ipython3",
   "version": "3.9.7"
  }
 },
 "nbformat": 4,
 "nbformat_minor": 4
}
