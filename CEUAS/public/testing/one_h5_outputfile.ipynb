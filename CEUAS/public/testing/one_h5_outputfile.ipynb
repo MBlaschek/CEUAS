{
 "cells": [
  {
   "cell_type": "code",
   "execution_count": 1,
   "metadata": {},
   "outputs": [],
   "source": [
    "import numpy\n",
    "import numpy as np\n",
    "import pandas as pd\n",
    "import sys, glob\n",
    "import urllib3\n",
    "import h5py\n",
    "import cdsapi, zipfile, os, time\n",
    "import warnings\n",
    "import shutil\n",
    "import xarray\n",
    "from datetime import date\n",
    "warnings.filterwarnings('ignore')\n",
    "# import pycountry\n",
    "sys.path.append(os.getcwd()+'/../cds-backend/code/')\n",
    "import cds_eua3 as eua\n",
    "import numba\n",
    "import copy\n",
    "import glob\n",
    "from numba import njit\n",
    "import pandas\n",
    "import glob\n",
    "import multiprocessing\n",
    "from functools import partial"
   ]
  },
  {
   "cell_type": "code",
   "execution_count": 2,
   "metadata": {},
   "outputs": [
    {
     "name": "stderr",
     "output_type": "stream",
     "text": [
      "2021-07-21 09:02:40,478 INFO Welcome to the CDS\n",
      "2021-07-21 09:02:40,479 INFO Sending request to https://sis-dev.climate.copernicus.eu/api/v2/resources/insitu-comprehensive-upper-air-observation-network\n",
      "2021-07-21 09:02:40,691 INFO Request is completed\n",
      "2021-07-21 09:02:40,693 INFO Downloading http://136.156.132.176/cache-compute-0000/cache/data2/adaptor.comprehensive_upper_air.retrieve-1626796615.6664505-17472-16-1898f899-94fc-4a6e-ab0a-469fb4bef8cc.zip to download.zip (221.4M)\n",
      "2021-07-21 09:03:11,848 INFO Download rate 7.1M/s  \n"
     ]
    }
   ],
   "source": [
    "c = cdsapi.Client()\n",
    "r = c.retrieve('insitu-comprehensive-upper-air-observation-network',\n",
    "               {\n",
    "                   'variable': [\"temperature\"],\n",
    "                   'date': ['20001229','20151230'],\n",
    "                   'statid': '10393',\n",
    "#                    'pressure_level':  ['10','20','30','50'],\n",
    "                   'optional': ['desroziers_30','desroziers_60', 'desroziers_90', 'desroziers_180']\n",
    "               })\n",
    "r.download(target='download.zip')\n",
    "assert os.stat('download.zip').st_size == r.content_length, \"Downloaded file is incomplete\"\n",
    "z = zipfile.ZipFile('download.zip')\n",
    "z.extractall(path='./')\n",
    "z.close()\n",
    "cdsfile = glob.glob('./*10393*.nc')"
   ]
  },
  {
   "cell_type": "code",
   "execution_count": 3,
   "metadata": {},
   "outputs": [
    {
     "name": "stderr",
     "output_type": "stream",
     "text": [
      "2021-07-21 09:03:13,367 INFO Welcome to the CDS\n",
      "2021-07-21 09:03:13,368 INFO Sending request to https://sis-dev.climate.copernicus.eu/api/v2/resources/insitu-comprehensive-upper-air-observation-network\n",
      "2021-07-21 09:03:13,582 INFO Request is completed\n",
      "2021-07-21 09:03:13,620 INFO Downloading http://136.156.132.176/cache-compute-0000/cache/data2/adaptor.comprehensive_upper_air.retrieve-1626796641.628392-21059-15-0462ec42-ef26-44b6-976f-44777b343438.zip to download.zip (40.8M)\n",
      "2021-07-21 09:03:21,780 INFO Download rate 5M/s     \n"
     ]
    }
   ],
   "source": [
    "c = cdsapi.Client()\n",
    "r = c.retrieve('insitu-comprehensive-upper-air-observation-network',\n",
    "               {\n",
    "                   'variable': [\"temperature\"],\n",
    "                   'date': ['20001229','20151230'],\n",
    "                   'statid': '11035',\n",
    "#                    'pressure_level':  ['10','20','30','50'],\n",
    "                   'optional': ['desroziers_30','desroziers_60', 'desroziers_90', 'desroziers_180']\n",
    "               })\n",
    "r.download(target='download.zip')\n",
    "assert os.stat('download.zip').st_size == r.content_length, \"Downloaded file is incomplete\"\n",
    "z = zipfile.ZipFile('download.zip')\n",
    "z.extractall(path='./')\n",
    "z.close()\n",
    "cdsfile = glob.glob('./*11035*.nc')"
   ]
  },
  {
   "cell_type": "code",
   "execution_count": 4,
   "metadata": {},
   "outputs": [],
   "source": [
    "lind = glob.glob('./*10393*.nc')[0]\n",
    "vie = glob.glob('./*11035*.nc')[0]"
   ]
  },
  {
   "cell_type": "markdown",
   "metadata": {},
   "source": [
    "---"
   ]
  },
  {
   "cell_type": "code",
   "execution_count": 5,
   "metadata": {},
   "outputs": [
    {
     "name": "stdout",
     "output_type": "stream",
     "text": [
      "desroziers_180\n",
      "desroziers_30\n",
      "desroziers_60\n",
      "desroziers_90\n",
      "lat\n",
      "lon\n",
      "obs\n",
      "plev\n",
      "report_id\n",
      "station_id\n",
      "string11\n",
      "string25\n",
      "ta\n",
      "time\n",
      "trajectory\n",
      "trajectory_index\n",
      "trajectory_label\n",
      "desroziers_180\n",
      "desroziers_30\n",
      "desroziers_60\n",
      "desroziers_90\n",
      "lat\n",
      "lon\n",
      "obs\n",
      "plev\n",
      "report_id\n",
      "station_id\n",
      "string11\n",
      "string20\n",
      "ta\n",
      "time\n",
      "trajectory\n",
      "trajectory_index\n",
      "trajectory_label\n"
     ]
    }
   ],
   "source": [
    "with h5py.File('./merge.nc') as merge:\n",
    "    name = ['vie', 'lind']\n",
    "    file = [vie, lind]\n",
    "    for j in range(len(name)):\n",
    "            merge.create_group(name[j])\n",
    "            with h5py.File(file[j], 'r') as filetocopy:\n",
    "                for i in filetocopy.keys():\n",
    "                    print(i)\n",
    "                    merge[name[j]].create_dataset_like(i, filetocopy[i], chunks=True)\n",
    "                    merge[name[j]][i][:] = filetocopy[i][:]"
   ]
  },
  {
   "cell_type": "markdown",
   "metadata": {},
   "source": [
    "---"
   ]
  },
  {
   "cell_type": "code",
   "execution_count": 13,
   "metadata": {},
   "outputs": [
    {
     "name": "stdout",
     "output_type": "stream",
     "text": [
      "<HDF5 file \"merge.nc\" (mode r)>\n",
      "<KeysViewHDF5 ['lind', 'vie']>\n",
      "lind\n",
      "---\n",
      "desroziers_180 7120490\n",
      "desroziers_30 7120490\n",
      "desroziers_60 7120490\n",
      "desroziers_90 7120490\n",
      "lat 7120490\n",
      "lon 7120490\n",
      "obs 7120490\n",
      "plev 7120490\n",
      "report_id 7120490\n",
      "station_id 7120490\n",
      "string11 11\n",
      "string20 20\n",
      "ta 7120490\n",
      "time 7120490\n",
      "trajectory 21901\n",
      "trajectory_index 7120490\n",
      "trajectory_label 21901\n",
      "\n",
      "\n",
      "vie\n",
      "---\n",
      "desroziers_180 1072488\n",
      "desroziers_30 1072488\n",
      "desroziers_60 1072488\n",
      "desroziers_90 1072488\n",
      "lat 1072488\n",
      "lon 1072488\n",
      "obs 1072488\n",
      "plev 1072488\n",
      "report_id 1072488\n",
      "station_id 1072488\n",
      "string11 11\n",
      "string25 25\n",
      "ta 1072488\n",
      "time 1072488\n",
      "trajectory 11578\n",
      "trajectory_index 1072488\n",
      "trajectory_label 11578\n",
      "\n",
      "\n"
     ]
    }
   ],
   "source": [
    "with h5py.File('./merge.nc', 'r') as data:\n",
    "    print(data)\n",
    "    print(data.keys())\n",
    "    for i in data.keys():\n",
    "        print(i)\n",
    "        print('---')\n",
    "        for j in data[i].keys():\n",
    "            print(j, len(data[i][j][:]))\n",
    "        \n",
    "        print('\\n')"
   ]
  },
  {
   "cell_type": "code",
   "execution_count": 6,
   "metadata": {},
   "outputs": [
    {
     "name": "stdout",
     "output_type": "stream",
     "text": [
      "[222.7  221.5  217.1  ... 270.39 270.5  270.65]\n",
      "[220.5  212.5  203.9  ... 269.85 269.84 269.77]\n"
     ]
    }
   ],
   "source": [
    "def testfunc(file, group):\n",
    "    with h5py.File(file, 'r') as data:\n",
    "        print(data[group]['ta'][:])\n",
    "    return 0\n",
    "\n",
    "stations = ['vie', 'lind']\n",
    "file = './merge.nc'\n",
    "pool = multiprocessing.Pool(processes=2)\n",
    "func=partial(testfunc, file)\n",
    "result_list = list(pool.map(func, stations))"
   ]
  },
  {
   "cell_type": "code",
   "execution_count": null,
   "metadata": {},
   "outputs": [],
   "source": []
  },
  {
   "cell_type": "code",
   "execution_count": null,
   "metadata": {},
   "outputs": [],
   "source": []
  }
 ],
 "metadata": {
  "kernelspec": {
   "display_name": "Python 3",
   "language": "python",
   "name": "python3"
  },
  "language_info": {
   "codemirror_mode": {
    "name": "ipython",
    "version": 3
   },
   "file_extension": ".py",
   "mimetype": "text/x-python",
   "name": "python",
   "nbconvert_exporter": "python",
   "pygments_lexer": "ipython3",
   "version": "3.7.9"
  }
 },
 "nbformat": 4,
 "nbformat_minor": 4
}
