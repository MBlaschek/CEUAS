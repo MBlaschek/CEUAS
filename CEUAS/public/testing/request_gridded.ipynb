{
 "cells": [
  {
   "cell_type": "code",
   "execution_count": 1,
   "metadata": {},
   "outputs": [],
   "source": [
    "import numpy\n",
    "import numpy as np\n",
    "import pandas as pd\n",
    "import sys, glob\n",
    "import urllib3\n",
    "import h5py\n",
    "import cdsapi, zipfile, os, time\n",
    "import warnings\n",
    "import shutil\n",
    "import xarray\n",
    "from datetime import date\n",
    "warnings.filterwarnings('ignore')\n",
    "import pycountry\n",
    "sys.path.append(os.getcwd()+'/../cds-backend/code/')\n",
    "import cds_eua3 as eua\n",
    "# import numbaprocess\n",
    "import copy\n",
    "import glob\n",
    "from numba import njit\n",
    "import pandas\n",
    "import glob\n",
    "import pickle\n",
    "import matplotlib"
   ]
  },
  {
   "cell_type": "code",
   "execution_count": 2,
   "metadata": {},
   "outputs": [],
   "source": [
    "def request(rqdict, source, remove_file=True):\n",
    "    t0 = time.time()\n",
    "\n",
    "    c = cdsapi.Client()\n",
    "    r = c.retrieve(\n",
    "        source,rqdict)\n",
    "    print('Request took: ' + str(time.time() - t0) + ' seconds')\n",
    "    if True:\n",
    "        r.download(target='download.zip')\n",
    "        assert os.stat('download.zip').st_size == r.content_length, \"Downloaded file is incomplete\"\n",
    "    z = zipfile.ZipFile('download.zip')\n",
    "    z.extractall(path='./download/')\n",
    "    z.close()\n",
    "    \n",
    "    \n",
    "    files = glob.glob('./download/*.nc')\n",
    "    data=eua.CDMDataset(files[0])\n",
    "    os.remove('download.zip')\n",
    "    if remove_file:\n",
    "        try:\n",
    "           shutil.rmtree('./download/')\n",
    "        except:\n",
    "           print('Error while deleting directory')\n",
    "\n",
    "    return data"
   ]
  },
  {
   "cell_type": "code",
   "execution_count": 3,
   "metadata": {},
   "outputs": [],
   "source": [
    "cuon = 'insitu-comprehensive-upper-air-observation-network'"
   ]
  },
  {
   "cell_type": "code",
   "execution_count": 15,
   "metadata": {},
   "outputs": [
    {
     "name": "stderr",
     "output_type": "stream",
     "text": [
      "2021-03-05 12:50:51,879 INFO Welcome to the CDS\n",
      "2021-03-05 12:50:51,880 INFO Sending request to https://sis-dev.climate.copernicus.eu/api/v2/resources/insitu-comprehensive-upper-air-observation-network\n",
      "2021-03-05 12:50:52,135 INFO Request is queued\n",
      "2021-03-05 12:50:53,173 INFO Request is running\n",
      "2021-03-05 12:50:54,710 INFO Request is failed\n",
      "2021-03-05 12:50:54,711 ERROR Message: an internal error occurred processing your request\n",
      "2021-03-05 12:50:54,712 ERROR Reason:  something went wrong in the data provider service, check your query and try later b'\"local variable \\'data\\' referenced before assignment\"'\n",
      "2021-03-05 12:50:54,714 ERROR   Traceback (most recent call last):\n",
      "2021-03-05 12:50:54,715 ERROR     File \"/opt/cdstoolbox/cdscompute/cdscompute/cdshandlers/services/handler.py\", line 49, in handle_request\n",
      "2021-03-05 12:50:54,716 ERROR       result = cached(context.method, proc, context, context.args, context.kwargs)\n",
      "2021-03-05 12:50:54,718 ERROR     File \"/opt/cdstoolbox/cdscompute/cdscompute/caching.py\", line 108, in cached\n",
      "2021-03-05 12:50:54,719 ERROR       result = proc(context, *context.args, **context.kwargs)\n",
      "2021-03-05 12:50:54,720 ERROR     File \"/opt/cdstoolbox/cdscompute/cdscompute/services.py\", line 118, in __call__\n",
      "2021-03-05 12:50:54,721 ERROR       return p(*args, **kwargs)\n",
      "2021-03-05 12:50:54,722 ERROR     File \"/opt/cdstoolbox/cdscompute/cdscompute/services.py\", line 59, in __call__\n",
      "2021-03-05 12:50:54,723 ERROR       return self.proc(context, *args, **kwargs)\n",
      "2021-03-05 12:50:54,724 ERROR     File \"/home/cds/cdsservices_contrib/services/comprehensive_upper_air.py\", line 88, in execute\n",
      "2021-03-05 12:50:54,725 ERROR       'something went wrong in the data provider service, check your query and try later {}'.format(res.content)\n",
      "2021-03-05 12:50:54,726 ERROR   AssertionError: something went wrong in the data provider service, check your query and try later b'\"local variable \\'data\\' referenced before assignment\"'\n"
     ]
    },
    {
     "ename": "Exception",
     "evalue": "an internal error occurred processing your request. something went wrong in the data provider service, check your query and try later b'\"local variable \\'data\\' referenced before assignment\"'.",
     "output_type": "error",
     "traceback": [
      "\u001b[0;31m---------------------------------------------------------------------------\u001b[0m",
      "\u001b[0;31mException\u001b[0m                                 Traceback (most recent call last)",
      "\u001b[0;32m<ipython-input-15-c4ae91934c01>\u001b[0m in \u001b[0;36m<module>\u001b[0;34m\u001b[0m\n\u001b[0;32m----> 1\u001b[0;31m \u001b[0mout\u001b[0m \u001b[0;34m=\u001b[0m \u001b[0mrequest\u001b[0m\u001b[0;34m(\u001b[0m\u001b[0;34m{\u001b[0m \u001b[0;34m'variable'\u001b[0m\u001b[0;34m:\u001b[0m\u001b[0;34m'air_temperature'\u001b[0m\u001b[0;34m,\u001b[0m\u001b[0;34m'gridded'\u001b[0m\u001b[0;34m:\u001b[0m \u001b[0;34m[\u001b[0m\u001b[0;34m-\u001b[0m\u001b[0;36m90\u001b[0m\u001b[0;34m,\u001b[0m\u001b[0;34m-\u001b[0m\u001b[0;36m178\u001b[0m\u001b[0;34m,\u001b[0m\u001b[0;36m89\u001b[0m\u001b[0;34m,\u001b[0m\u001b[0;36m178\u001b[0m\u001b[0;34m]\u001b[0m\u001b[0;34m,\u001b[0m\u001b[0;34m'date'\u001b[0m\u001b[0;34m:\u001b[0m \u001b[0;36m20000101\u001b[0m\u001b[0;34m}\u001b[0m\u001b[0;34m,\u001b[0m\u001b[0mcuon\u001b[0m\u001b[0;34m,\u001b[0m \u001b[0mremove_file\u001b[0m\u001b[0;34m=\u001b[0m\u001b[0;32mTrue\u001b[0m\u001b[0;34m)\u001b[0m\u001b[0;34m\u001b[0m\u001b[0;34m\u001b[0m\u001b[0m\n\u001b[0m\u001b[1;32m      2\u001b[0m \u001b[0mdisplay\u001b[0m\u001b[0;34m(\u001b[0m\u001b[0mout\u001b[0m\u001b[0;34m)\u001b[0m\u001b[0;34m\u001b[0m\u001b[0;34m\u001b[0m\u001b[0m\n\u001b[1;32m      3\u001b[0m \u001b[0;31m# out = request({ 'variable':['temperature'],'gridded': [-90,-180,90,178],'date': ['20100101', '20100501']},cuon, remove_file=True)\u001b[0m\u001b[0;34m\u001b[0m\u001b[0;34m\u001b[0m\u001b[0;34m\u001b[0m\u001b[0m\n\u001b[1;32m      4\u001b[0m \u001b[0;31m# display(out)\u001b[0m\u001b[0;34m\u001b[0m\u001b[0;34m\u001b[0m\u001b[0;34m\u001b[0m\u001b[0m\n",
      "\u001b[0;32m<ipython-input-2-960a96002cd2>\u001b[0m in \u001b[0;36mrequest\u001b[0;34m(rqdict, source, remove_file)\u001b[0m\n\u001b[1;32m      3\u001b[0m \u001b[0;34m\u001b[0m\u001b[0m\n\u001b[1;32m      4\u001b[0m     \u001b[0mc\u001b[0m \u001b[0;34m=\u001b[0m \u001b[0mcdsapi\u001b[0m\u001b[0;34m.\u001b[0m\u001b[0mClient\u001b[0m\u001b[0;34m(\u001b[0m\u001b[0;34m)\u001b[0m\u001b[0;34m\u001b[0m\u001b[0;34m\u001b[0m\u001b[0m\n\u001b[0;32m----> 5\u001b[0;31m     r = c.retrieve(\n\u001b[0m\u001b[1;32m      6\u001b[0m         source,rqdict)\n\u001b[1;32m      7\u001b[0m     \u001b[0mprint\u001b[0m\u001b[0;34m(\u001b[0m\u001b[0;34m'Request took: '\u001b[0m \u001b[0;34m+\u001b[0m \u001b[0mstr\u001b[0m\u001b[0;34m(\u001b[0m\u001b[0mtime\u001b[0m\u001b[0;34m.\u001b[0m\u001b[0mtime\u001b[0m\u001b[0;34m(\u001b[0m\u001b[0;34m)\u001b[0m \u001b[0;34m-\u001b[0m \u001b[0mt0\u001b[0m\u001b[0;34m)\u001b[0m \u001b[0;34m+\u001b[0m \u001b[0;34m' seconds'\u001b[0m\u001b[0;34m)\u001b[0m\u001b[0;34m\u001b[0m\u001b[0;34m\u001b[0m\u001b[0m\n",
      "\u001b[0;32m~/.local/lib/python3.8/site-packages/cdsapi/api.py\u001b[0m in \u001b[0;36mretrieve\u001b[0;34m(self, name, request, target)\u001b[0m\n\u001b[1;32m    328\u001b[0m \u001b[0;34m\u001b[0m\u001b[0m\n\u001b[1;32m    329\u001b[0m     \u001b[0;32mdef\u001b[0m \u001b[0mretrieve\u001b[0m\u001b[0;34m(\u001b[0m\u001b[0mself\u001b[0m\u001b[0;34m,\u001b[0m \u001b[0mname\u001b[0m\u001b[0;34m,\u001b[0m \u001b[0mrequest\u001b[0m\u001b[0;34m,\u001b[0m \u001b[0mtarget\u001b[0m\u001b[0;34m=\u001b[0m\u001b[0;32mNone\u001b[0m\u001b[0;34m)\u001b[0m\u001b[0;34m:\u001b[0m\u001b[0;34m\u001b[0m\u001b[0;34m\u001b[0m\u001b[0m\n\u001b[0;32m--> 330\u001b[0;31m         \u001b[0mresult\u001b[0m \u001b[0;34m=\u001b[0m \u001b[0mself\u001b[0m\u001b[0;34m.\u001b[0m\u001b[0m_api\u001b[0m\u001b[0;34m(\u001b[0m\u001b[0;34m'%s/resources/%s'\u001b[0m \u001b[0;34m%\u001b[0m \u001b[0;34m(\u001b[0m\u001b[0mself\u001b[0m\u001b[0;34m.\u001b[0m\u001b[0murl\u001b[0m\u001b[0;34m,\u001b[0m \u001b[0mname\u001b[0m\u001b[0;34m)\u001b[0m\u001b[0;34m,\u001b[0m \u001b[0mrequest\u001b[0m\u001b[0;34m,\u001b[0m \u001b[0;34m'POST'\u001b[0m\u001b[0;34m)\u001b[0m\u001b[0;34m\u001b[0m\u001b[0;34m\u001b[0m\u001b[0m\n\u001b[0m\u001b[1;32m    331\u001b[0m         \u001b[0;32mif\u001b[0m \u001b[0mtarget\u001b[0m \u001b[0;32mis\u001b[0m \u001b[0;32mnot\u001b[0m \u001b[0;32mNone\u001b[0m\u001b[0;34m:\u001b[0m\u001b[0;34m\u001b[0m\u001b[0;34m\u001b[0m\u001b[0m\n\u001b[1;32m    332\u001b[0m             \u001b[0mresult\u001b[0m\u001b[0;34m.\u001b[0m\u001b[0mdownload\u001b[0m\u001b[0;34m(\u001b[0m\u001b[0mtarget\u001b[0m\u001b[0;34m)\u001b[0m\u001b[0;34m\u001b[0m\u001b[0;34m\u001b[0m\u001b[0m\n",
      "\u001b[0;32m~/.local/lib/python3.8/site-packages/cdsapi/api.py\u001b[0m in \u001b[0;36m_api\u001b[0;34m(self, url, request, method)\u001b[0m\n\u001b[1;32m    478\u001b[0m                         \u001b[0;32mbreak\u001b[0m\u001b[0;34m\u001b[0m\u001b[0;34m\u001b[0m\u001b[0m\n\u001b[1;32m    479\u001b[0m                     \u001b[0mself\u001b[0m\u001b[0;34m.\u001b[0m\u001b[0merror\u001b[0m\u001b[0;34m(\u001b[0m\u001b[0;34m\"  %s\"\u001b[0m\u001b[0;34m,\u001b[0m \u001b[0mn\u001b[0m\u001b[0;34m)\u001b[0m\u001b[0;34m\u001b[0m\u001b[0;34m\u001b[0m\u001b[0m\n\u001b[0;32m--> 480\u001b[0;31m                 \u001b[0;32mraise\u001b[0m \u001b[0mException\u001b[0m\u001b[0;34m(\u001b[0m\u001b[0;34m\"%s. %s.\"\u001b[0m \u001b[0;34m%\u001b[0m \u001b[0;34m(\u001b[0m\u001b[0mreply\u001b[0m\u001b[0;34m[\u001b[0m\u001b[0;34m'error'\u001b[0m\u001b[0;34m]\u001b[0m\u001b[0;34m.\u001b[0m\u001b[0mget\u001b[0m\u001b[0;34m(\u001b[0m\u001b[0;34m'message'\u001b[0m\u001b[0;34m)\u001b[0m\u001b[0;34m,\u001b[0m \u001b[0mreply\u001b[0m\u001b[0;34m[\u001b[0m\u001b[0;34m'error'\u001b[0m\u001b[0;34m]\u001b[0m\u001b[0;34m.\u001b[0m\u001b[0mget\u001b[0m\u001b[0;34m(\u001b[0m\u001b[0;34m'reason'\u001b[0m\u001b[0;34m)\u001b[0m\u001b[0;34m)\u001b[0m\u001b[0;34m)\u001b[0m\u001b[0;34m\u001b[0m\u001b[0;34m\u001b[0m\u001b[0m\n\u001b[0m\u001b[1;32m    481\u001b[0m \u001b[0;34m\u001b[0m\u001b[0m\n\u001b[1;32m    482\u001b[0m             \u001b[0;32mraise\u001b[0m \u001b[0mException\u001b[0m\u001b[0;34m(\u001b[0m\u001b[0;34m'Unknown API state [%s]'\u001b[0m \u001b[0;34m%\u001b[0m \u001b[0;34m(\u001b[0m\u001b[0mreply\u001b[0m\u001b[0;34m[\u001b[0m\u001b[0;34m'state'\u001b[0m\u001b[0;34m]\u001b[0m\u001b[0;34m,\u001b[0m\u001b[0;34m)\u001b[0m\u001b[0;34m)\u001b[0m\u001b[0;34m\u001b[0m\u001b[0;34m\u001b[0m\u001b[0m\n",
      "\u001b[0;31mException\u001b[0m: an internal error occurred processing your request. something went wrong in the data provider service, check your query and try later b'\"local variable \\'data\\' referenced before assignment\"'."
     ]
    }
   ],
   "source": [
    "out = request({ 'variable':'air_temperature','gridded': [-90,-178,89,178],'date': 20000101},cuon, remove_file=True)\n",
    "display(out)\n",
    "# out = request({ 'variable':['temperature'],'gridded': [-90,-180,90,178],'date': ['20100101', '20100501']},cuon, remove_file=True)\n",
    "# display(out)"
   ]
  },
  {
   "cell_type": "code",
   "execution_count": 10,
   "metadata": {},
   "outputs": [
    {
     "name": "stderr",
     "output_type": "stream",
     "text": [
      "2021-03-05 09:24:02,688 INFO Welcome to the CDS\n",
      "2021-03-05 09:24:02,689 INFO Sending request to https://sis-dev.climate.copernicus.eu/api/v2/resources/insitu-comprehensive-upper-air-observation-network\n",
      "2021-03-05 09:24:02,902 INFO Request is queued\n",
      "2021-03-05 09:24:03,943 INFO Request is running\n",
      "2021-03-05 09:24:05,481 INFO Request is completed\n",
      "2021-03-05 09:24:05,483 INFO Downloading http://136.156.132.176/cache-compute-0002/cache/data2/adaptor.comprehensive_upper_air.retrieve-1614932644.8077047-4805-4-221e2e3a-7033-4574-9402-f8529ee3409d.zip to download.zip (984.7K)\n",
      "2021-03-05 09:24:05,682 INFO Download rate 4.8M/s \n"
     ]
    },
    {
     "name": "stdout",
     "output_type": "stream",
     "text": [
      "Request took: 2.8261518478393555 seconds\n",
      "2021-03-05 09:24:05,694 - upperair.cdm | __init__ - DEBUG - [OPEN] ./download/dest_gridded_temperature.nc\n"
     ]
    },
    {
     "name": "stderr",
     "output_type": "stream",
     "text": [
      "2021-03-05 09:24:05,694 DEBUG [OPEN] ./download/dest_gridded_temperature.nc\n"
     ]
    },
    {
     "data": {
      "text/plain": [
       "File: <HDF5 file \"dest_gridded_temperature.nc\" (mode r)>\n",
       "Filename: ./download/dest_gridded_temperature.nc\n",
       "(G)roups/(V)ariables: \n",
       "\n",
       " - V | hour_________________________________________ : : (2,)\n",
       " - V | lat__________________________________________ : : (8,)\n",
       " - V | lon__________________________________________ : : (5,)\n",
       " - V | pressure_____________________________________ : : (16,)\n",
       " - V | ta_anomaly___________________________________ : : (8, 5, 2, 16, 1)\n",
       " - V | ta_average___________________________________ : : (8, 5, 2, 16, 1)\n",
       " - V | time_________________________________________ : : (1,)"
      ]
     },
     "metadata": {},
     "output_type": "display_data"
    }
   ],
   "source": [
    "out = request({ 'variable':['temperature'],'gridded': [-90,-178,89,178],'date': ['20100101', '20100401']},cuon, remove_file=True)\n",
    "display(out)\n",
    "# out = request({ 'variable':['temperature'],'gridded': [-90,-180,90,178],'date': ['20100101', '20100501']},cuon, remove_file=True)\n",
    "# display(out)"
   ]
  },
  {
   "cell_type": "code",
   "execution_count": 6,
   "metadata": {},
   "outputs": [
    {
     "data": {
      "text/plain": [
       "array([12])"
      ]
     },
     "execution_count": 6,
     "metadata": {},
     "output_type": "execute_result"
    }
   ],
   "source": [
    "out['hour'][:]"
   ]
  },
  {
   "cell_type": "code",
   "execution_count": 11,
   "metadata": {},
   "outputs": [
    {
     "name": "stderr",
     "output_type": "stream",
     "text": [
      "2021-03-05 09:24:25,385 INFO Welcome to the CDS\n",
      "2021-03-05 09:24:25,386 INFO Sending request to https://sis-dev.climate.copernicus.eu/api/v2/resources/insitu-comprehensive-upper-air-observation-network\n",
      "2021-03-05 09:24:25,449 INFO Request is queued\n",
      "2021-03-05 09:24:26,487 INFO Request is running\n",
      "2021-03-05 09:24:28,025 INFO Request is completed\n",
      "2021-03-05 09:24:28,027 INFO Downloading http://136.156.132.176/cache-compute-0002/cache/data1/adaptor.comprehensive_upper_air.retrieve-1614932667.2725704-4833-5-adf77ed0-537f-48c3-aacd-1ad2038ba14d.zip to download.zip (12.6K)\n",
      "2021-03-05 09:24:28,090 INFO Download rate 201.8K/s\n"
     ]
    },
    {
     "name": "stdout",
     "output_type": "stream",
     "text": [
      "Request took: 2.67421817779541 seconds\n",
      "2021-03-05 09:24:28,098 - upperair.cdm | __init__ - DEBUG - [OPEN] ./download/dest_gridded_temperature.nc\n"
     ]
    },
    {
     "name": "stderr",
     "output_type": "stream",
     "text": [
      "2021-03-05 09:24:28,098 DEBUG [OPEN] ./download/dest_gridded_temperature.nc\n"
     ]
    },
    {
     "data": {
      "text/plain": [
       "File: <HDF5 file \"dest_gridded_temperature.nc\" (mode r)>\n",
       "Filename: ./download/dest_gridded_temperature.nc\n",
       "(G)roups/(V)ariables: \n",
       "\n",
       " - V | hour_________________________________________ : : (1,)\n",
       " - V | lat__________________________________________ : : (9,)\n",
       " - V | lon__________________________________________ : : (5,)\n",
       " - V | pressure_____________________________________ : : (1,)\n",
       " - V | ta_anomaly___________________________________ : : (9, 5, 1, 1, 1)\n",
       " - V | ta_average___________________________________ : : (9, 5, 1, 1, 1)\n",
       " - V | time_________________________________________ : : (1,)"
      ]
     },
     "metadata": {},
     "output_type": "display_data"
    }
   ],
   "source": [
    "out = request({ 'variable':['temperature'],'gridded': [0,0,85,45],'date': ['20100101', '20100201'], 'time': [12], 'pressure_level':500},cuon, remove_file=False)\n",
    "display(out)"
   ]
  },
  {
   "cell_type": "code",
   "execution_count": 13,
   "metadata": {},
   "outputs": [
    {
     "data": {
      "text/plain": [
       "array([50000])"
      ]
     },
     "execution_count": 13,
     "metadata": {},
     "output_type": "execute_result"
    }
   ],
   "source": [
    "out['pressure'][:]"
   ]
  },
  {
   "cell_type": "code",
   "execution_count": 14,
   "metadata": {},
   "outputs": [
    {
     "data": {
      "text/plain": [
       "array([12])"
      ]
     },
     "execution_count": 14,
     "metadata": {},
     "output_type": "execute_result"
    }
   ],
   "source": [
    "out['hour'][:]"
   ]
  },
  {
   "cell_type": "code",
   "execution_count": 12,
   "metadata": {},
   "outputs": [
    {
     "data": {
      "text/plain": [
       "array([[[[[        nan]]],\n",
       "\n",
       "\n",
       "        [[[        nan]]],\n",
       "\n",
       "\n",
       "        [[[        nan]]],\n",
       "\n",
       "\n",
       "        [[[        nan]]],\n",
       "\n",
       "\n",
       "        [[[        nan]]]],\n",
       "\n",
       "\n",
       "\n",
       "       [[[[ 0.91221619]]],\n",
       "\n",
       "\n",
       "        [[[        nan]]],\n",
       "\n",
       "\n",
       "        [[[        nan]]],\n",
       "\n",
       "\n",
       "        [[[        nan]]],\n",
       "\n",
       "\n",
       "        [[[        nan]]]],\n",
       "\n",
       "\n",
       "\n",
       "       [[[[ 2.23127747]]],\n",
       "\n",
       "\n",
       "        [[[        nan]]],\n",
       "\n",
       "\n",
       "        [[[        nan]]],\n",
       "\n",
       "\n",
       "        [[[        nan]]],\n",
       "\n",
       "\n",
       "        [[[ 1.68208313]]]],\n",
       "\n",
       "\n",
       "\n",
       "       [[[[ 0.29643759]]],\n",
       "\n",
       "\n",
       "        [[[-0.45889282]]],\n",
       "\n",
       "\n",
       "        [[[        nan]]],\n",
       "\n",
       "\n",
       "        [[[ 2.01115727]]],\n",
       "\n",
       "\n",
       "        [[[ 3.26075745]]]],\n",
       "\n",
       "\n",
       "\n",
       "       [[[[        nan]]],\n",
       "\n",
       "\n",
       "        [[[        nan]]],\n",
       "\n",
       "\n",
       "        [[[-1.26494217]]],\n",
       "\n",
       "\n",
       "        [[[ 0.16860962]]],\n",
       "\n",
       "\n",
       "        [[[ 1.26411438]]]],\n",
       "\n",
       "\n",
       "\n",
       "       [[[[        nan]]],\n",
       "\n",
       "\n",
       "        [[[        nan]]],\n",
       "\n",
       "\n",
       "        [[[-2.60171509]]],\n",
       "\n",
       "\n",
       "        [[[-1.32324076]]],\n",
       "\n",
       "\n",
       "        [[[ 0.08779907]]]],\n",
       "\n",
       "\n",
       "\n",
       "       [[[[-1.29992676]]],\n",
       "\n",
       "\n",
       "        [[[-0.94068146]]],\n",
       "\n",
       "\n",
       "        [[[        nan]]],\n",
       "\n",
       "\n",
       "        [[[-0.078125  ]]],\n",
       "\n",
       "\n",
       "        [[[ 0.99388885]]]],\n",
       "\n",
       "\n",
       "\n",
       "       [[[[        nan]]],\n",
       "\n",
       "\n",
       "        [[[ 2.75111389]]],\n",
       "\n",
       "\n",
       "        [[[        nan]]],\n",
       "\n",
       "\n",
       "        [[[        nan]]],\n",
       "\n",
       "\n",
       "        [[[        nan]]]],\n",
       "\n",
       "\n",
       "\n",
       "       [[[[        nan]]],\n",
       "\n",
       "\n",
       "        [[[        nan]]],\n",
       "\n",
       "\n",
       "        [[[        nan]]],\n",
       "\n",
       "\n",
       "        [[[        nan]]],\n",
       "\n",
       "\n",
       "        [[[        nan]]]]])"
      ]
     },
     "execution_count": 12,
     "metadata": {},
     "output_type": "execute_result"
    }
   ],
   "source": [
    "out['ta_anomaly'][:]"
   ]
  },
  {
   "cell_type": "code",
   "execution_count": null,
   "metadata": {},
   "outputs": [],
   "source": []
  }
 ],
 "metadata": {
  "kernelspec": {
   "display_name": "Miniconda3 (4.8.2)",
   "language": "python",
   "name": "python3"
  },
  "language_info": {
   "codemirror_mode": {
    "name": "ipython",
    "version": 3
   },
   "file_extension": ".py",
   "mimetype": "text/x-python",
   "name": "python",
   "nbconvert_exporter": "python",
   "pygments_lexer": "ipython3",
   "version": "3.8.1"
  }
 },
 "nbformat": 4,
 "nbformat_minor": 4
}
