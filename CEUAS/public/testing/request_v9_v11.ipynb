{
 "cells": [
  {
   "cell_type": "code",
   "execution_count": 1,
   "metadata": {},
   "outputs": [],
   "source": [
    "import numpy\n",
    "import gzip\n",
    "import numpy as np\n",
    "import pandas as pd\n",
    "import sys, glob\n",
    "import urllib3\n",
    "import h5py\n",
    "import cdsapi, zipfile, os, time\n",
    "import warnings\n",
    "import shutil\n",
    "import xarray\n",
    "from datetime import date\n",
    "warnings.filterwarnings('ignore')\n",
    "import pycountry\n",
    "import json\n",
    "import copy\n",
    "\n",
    "sys.path.append(os.getcwd()+'/../cds-backend/code/')\n",
    "import cds_eua4 as eua\n",
    "sys.path.append(os.path.expanduser(\"~\")+'/uvpy/')\n",
    "import uvfunctions as uvf\n",
    "import uvplot as uvp\n",
    "\n",
    "import matplotlib\n",
    "import matplotlib.pylab as plt\n",
    "import matplotlib.pyplot as maplt\n",
    "matplotlib.rcParams.update({'font.size': 20})\n",
    "matplotlib.rcParams['figure.figsize'] = (20, 10)\n",
    "font = {'family' : 'normal',\n",
    "    # 'weight' : 'bold',\n",
    "    'size'   : 22}\n",
    "matplotlib.rc('font', **font)\n",
    "\n",
    "from ipywidgets import IntProgress\n",
    "from IPython.display import display"
   ]
  },
  {
   "cell_type": "code",
   "execution_count": null,
   "metadata": {},
   "outputs": [],
   "source": []
  },
  {
   "cell_type": "code",
   "execution_count": 2,
   "metadata": {},
   "outputs": [],
   "source": [
    "with open('/users/staff/uvoggenberger/scratch/hug/config_v9/active.json') as json_file:\n",
    "    active_v9 = json.load(json_file)\n",
    "with open('/users/staff/uvoggenberger/scratch/hug/config_v11/active.json') as json_file:\n",
    "    active_v11 = json.load(json_file)"
   ]
  },
  {
   "cell_type": "code",
   "execution_count": 3,
   "metadata": {},
   "outputs": [],
   "source": [
    "rq = {'variable': ['air_temperature', 'eastward_wind_speed'], 'date': '19970630-19970701', 'format': 'nc'} \n",
    "# 0-20999-0-ZEKG 'date': '19901201-19901201', 'statid': ['0-20999-0-ZSAF','0-20999-0-TTCC'], 'optional': ['wind_bias_estimate',], 'plev':70000, "
   ]
  },
  {
   "cell_type": "code",
   "execution_count": 4,
   "metadata": {},
   "outputs": [
    {
     "data": {
      "text/plain": [
       "1741"
      ]
     },
     "execution_count": 4,
     "metadata": {},
     "output_type": "execute_result"
    }
   ],
   "source": [
    "df_v9 = eua.vm_request_wrapper(rq , overwrite=True, request_filename='./v9_data/v9.zip', vm_url='http://127.0.0.1:8009')\n",
    "len(df_v9)"
   ]
  },
  {
   "cell_type": "code",
   "execution_count": 22,
   "metadata": {
    "tags": []
   },
   "outputs": [
    {
     "data": {
      "text/plain": [
       "1810"
      ]
     },
     "execution_count": 22,
     "metadata": {},
     "output_type": "execute_result"
    }
   ],
   "source": [
    "df_v11 = eua.vm_request_wrapper(rq, request_filename='./v11_data/v11.zip')#,overwrite=True)#, vm_url='http://127.0.0.1:8009')\n",
    "len(df_v11)"
   ]
  },
  {
   "cell_type": "code",
   "execution_count": 13,
   "metadata": {},
   "outputs": [],
   "source": [
    "try:\n",
    "    del df_v9\n",
    "except:\n",
    "    pass\n",
    "try:\n",
    "    del df_v11\n",
    "except:\n",
    "    pass\n",
    "\n",
    "df_v9 = glob.glob('./v9_data/*.nc')\n",
    "df_v11 = glob.glob('./v11_data/*.nc')\n",
    "df_v9 = [i.split('/')[-1] for i in df_v9]\n",
    "df_v11 = [i.split('/')[-1] for i in df_v11]"
   ]
  },
  {
   "cell_type": "code",
   "execution_count": 14,
   "metadata": {},
   "outputs": [
    {
     "data": {
      "text/plain": [
       "['dest_0-12-20000-60580_air_temperature.nc',\n",
       " 'dest_0-12-20000-60580_eastward_wind.nc',\n",
       " 'dest_0-20000-0-04018_air_temperature.nc',\n",
       " 'dest_0-20000-0-04018_eastward_wind.nc',\n",
       " 'dest_0-20000-0-12982_air_temperature.nc',\n",
       " 'dest_0-20000-0-12982_eastward_wind.nc',\n",
       " 'dest_0-20000-0-17130_air_temperature.nc',\n",
       " 'dest_0-20000-0-17130_eastward_wind.nc',\n",
       " 'dest_0-20000-0-26072_air_temperature.nc',\n",
       " 'dest_0-20000-0-26072_eastward_wind.nc',\n",
       " 'dest_0-20000-0-47116_eastward_wind.nc',\n",
       " 'dest_0-20000-0-52652_air_temperature.nc',\n",
       " 'dest_0-20000-0-52652_eastward_wind.nc',\n",
       " 'dest_0-20000-0-57245_air_temperature.nc',\n",
       " 'dest_0-20000-0-57245_eastward_wind.nc',\n",
       " 'dest_0-20000-0-60252_air_temperature.nc',\n",
       " 'dest_0-20000-0-60252_eastward_wind.nc',\n",
       " 'dest_0-20000-0-60461_eastward_wind.nc',\n",
       " 'dest_0-20000-0-71023_air_temperature.nc',\n",
       " 'dest_0-20000-0-71023_eastward_wind.nc',\n",
       " 'dest_0-20000-0-74648_air_temperature.nc',\n",
       " 'dest_0-20000-0-74648_eastward_wind.nc',\n",
       " 'dest_0-20000-0-96221_eastward_wind.nc',\n",
       " 'dest_0-20000-0-96491_eastward_wind.nc',\n",
       " 'dest_0-20000-0-96685_eastward_wind.nc',\n",
       " 'dest_0-20300-0-74724_eastward_wind.nc',\n",
       " 'dest_0-20600-0-10272_air_temperature.nc',\n",
       " 'dest_0-20600-0-10272_eastward_wind.nc',\n",
       " 'dest_0-20600-0-53068_air_temperature.nc',\n",
       " 'dest_0-20600-0-53068_eastward_wind.nc',\n",
       " 'dest_0-20600-0-53772_air_temperature.nc',\n",
       " 'dest_0-20600-0-53772_eastward_wind.nc',\n",
       " 'dest_0-20600-0-55228_eastward_wind.nc',\n",
       " 'dest_0-20600-0-55248_eastward_wind.nc',\n",
       " 'dest_0-20600-0-56173_air_temperature.nc',\n",
       " 'dest_0-20600-0-56173_eastward_wind.nc',\n",
       " 'dest_0-20600-0-60549_air_temperature.nc',\n",
       " 'dest_0-20600-0-60549_eastward_wind.nc',\n",
       " 'dest_0-20600-0-8577_air_temperature.nc',\n",
       " 'dest_0-20600-0-8577_eastward_wind.nc',\n",
       " 'dest_0-20999-0-01004_air_temperature.nc',\n",
       " 'dest_0-20999-0-01004_eastward_wind.nc',\n",
       " 'dest_0-20999-0-DBBH_air_temperature.nc',\n",
       " 'dest_0-20999-0-DBBH_eastward_wind.nc',\n",
       " 'dest_0-20999-0-DBRH_air_temperature.nc',\n",
       " 'dest_0-20999-0-DBRH_eastward_wind.nc',\n",
       " 'dest_0-20999-0-ENQT_air_temperature.nc',\n",
       " 'dest_0-20999-0-ENQT_eastward_wind.nc',\n",
       " 'dest_0-20999-0-FNOR_air_temperature.nc',\n",
       " 'dest_0-20999-0-FNOR_eastward_wind.nc',\n",
       " 'dest_0-20999-0-FNPH_air_temperature.nc',\n",
       " 'dest_0-20999-0-FNPH_eastward_wind.nc',\n",
       " 'dest_0-20999-0-JBOA_air_temperature.nc',\n",
       " 'dest_0-20999-0-JBOA_eastward_wind.nc',\n",
       " 'dest_0-20999-0-JCCX_air_temperature.nc',\n",
       " 'dest_0-20999-0-JCCX_eastward_wind.nc',\n",
       " 'dest_0-20999-0-JDWX_air_temperature.nc',\n",
       " 'dest_0-20999-0-JDWX_eastward_wind.nc',\n",
       " 'dest_0-20999-0-JGQH_air_temperature.nc',\n",
       " 'dest_0-20999-0-JGQH_eastward_wind.nc',\n",
       " 'dest_0-20999-0-JIVB_air_temperature.nc',\n",
       " 'dest_0-20999-0-JIVB_eastward_wind.nc',\n",
       " 'dest_0-20999-0-LDWR_air_temperature.nc',\n",
       " 'dest_0-20999-0-LDWR_eastward_wind.nc',\n",
       " 'dest_0-20999-0-UCKZ_air_temperature.nc',\n",
       " 'dest_0-20999-0-UCKZ_eastward_wind.nc',\n",
       " 'dest_0-20999-0-V2EZ_air_temperature.nc',\n",
       " 'dest_0-20999-0-V2EZ_eastward_wind.nc',\n",
       " 'dest_0-246-0-101104_air_temperature.nc',\n",
       " 'dest_0-246-0-101104_eastward_wind.nc',\n",
       " 'dest_0-246-0-101339_air_temperature.nc',\n",
       " 'dest_0-246-0-101339_eastward_wind.nc',\n",
       " 'dest_0-246-0-101932_air_temperature.nc',\n",
       " 'dest_0-246-0-101932_eastward_wind.nc',\n",
       " 'dest_0-620-2001-08522_air_temperature.nc',\n",
       " 'dest_0-620-2001-08522_eastward_wind.nc',\n",
       " 'dest_0-642-20000-15483_air_temperature.nc',\n",
       " 'dest_0-642-20000-15483_eastward_wind.nc',\n",
       " 'dest_20999-coordinate-orphan_era5.conv.??????.40394.txt.gz_air_temperature.nc',\n",
       " 'dest_20999-coordinate-orphan_era5.conv.??????.40394.txt.gz_eastward_wind.nc',\n",
       " 'dest_20999-coordinate-orphan_era5.conv.??????.40800.txt.gz_air_temperature.nc',\n",
       " 'dest_20999-coordinate-orphan_era5.conv.??????.40800.txt.gz_eastward_wind.nc',\n",
       " 'dest_20999-coordinate-orphan_era5.conv.??????.52818.txt.gz_air_temperature.nc',\n",
       " 'dest_20999-coordinate-orphan_era5.conv.??????.52818.txt.gz_eastward_wind.nc',\n",
       " 'dest_20999-coordinate-orphan_uadb_windc_10200.txt_air_temperature.nc',\n",
       " 'dest_20999-coordinate-orphan_uadb_windc_10200.txt_eastward_wind.nc',\n",
       " 'dest_20999-coordinate-orphan_uadb_windc_25400.txt_air_temperature.nc',\n",
       " 'dest_20999-coordinate-orphan_uadb_windc_25400.txt_eastward_wind.nc',\n",
       " 'dest_20999-coordinate-orphan_uadb_windc_71203.txt_air_temperature.nc',\n",
       " 'dest_20999-coordinate-orphan_uadb_windc_71203.txt_eastward_wind.nc']"
      ]
     },
     "metadata": {},
     "output_type": "display_data"
    },
    {
     "name": "stdout",
     "output_type": "stream",
     "text": [
      "90\n"
     ]
    }
   ],
   "source": [
    "testlist = df_v9\n",
    "out = []\n",
    "for i in df_v11:\n",
    "    if ~np.isin(i, testlist):\n",
    "        out.append(i)\n",
    "        # display(df_v11[i])\n",
    "        # display(df_v11[i].to_dataframe())\n",
    "display(out)\n",
    "print(len(out))"
   ]
  },
  {
   "cell_type": "code",
   "execution_count": 15,
   "metadata": {},
   "outputs": [
    {
     "data": {
      "text/plain": [
       "[('12982', 46.25, 20.1),\n",
       " ('13275', 44.78, 20.53),\n",
       " ('17130', 39.95, 32.88),\n",
       " ('47744', 35.43, 133.35),\n",
       " ('51886', 38.25, 90.85),\n",
       " ('52652', 38.93, 100.43),\n",
       " ('55664', 28.58, 86.62),\n",
       " ('56173', 31.85, 102.7),\n",
       " ('61995', -20.3, 57.5),\n",
       " ('63705', 0.05, 32.45),\n",
       " ('67964', -20.15, 28.62),\n",
       " ('74646', 36.62, 262.52),\n",
       " ('94302', -22.23, 114.08),\n",
       " ('ENQT', 37.2, 350.9),\n",
       " ('FNRS', 42.8, 344.7),\n",
       " ('JBOA', 31.0, 127.9),\n",
       " ('JCCX', 32.4, 128.1),\n",
       " ('JDWX', 41.2, 141.9),\n",
       " ('JGQH', 18.5, 136.9),\n",
       " ('JIVB', 34.8, 130.0),\n",
       " ('LDWR', 66.0, 2.1),\n",
       " ('UCKZ', -69.4, 74.6),\n",
       " ('04018', 63.97, -22.600000000000023),\n",
       " ('74547', 38.62, -97.30000000000001),\n",
       " ('74650', 35.68, -95.87),\n",
       " ('DBBH', 43.5, -50.0),\n",
       " ('FNOR', 25.5, -52.0),\n",
       " ('OXYH2', 60.2, -7.399999999999977)]"
      ]
     },
     "metadata": {},
     "output_type": "display_data"
    },
    {
     "data": {
      "text/plain": [
       "28"
      ]
     },
     "execution_count": 15,
     "metadata": {},
     "output_type": "execute_result"
    }
   ],
   "source": [
    "missing = [('04018', 63.97, 337.4), ('12982', 46.25, 20.1), ('13275', 44.78, 20.53), ('17130', 39.95, 32.88), ('47744', 35.43, 133.35), ('51886', 38.25, 90.85), ('52652', 38.93, 100.43), ('55664', 28.58, 86.62), ('56173', 31.85, 102.7), ('61995', -20.3, 57.5), ('63705', 0.05, 32.45), ('67964', -20.15, 28.62), ('74547', 38.62, 262.7), ('74646', 36.62, 262.52), ('74650', 35.68, 264.13), ('94302', -22.23, 114.08), ('DBBH', 43.5, 310.0), ('ENQT', 37.2, 350.9), ('FNOR', 25.5, 308.0), ('FNRS', 42.8, 344.7), ('JBOA', 31.0, 127.9), ('JCCX', 32.4, 128.1), ('JDWX', 41.2, 141.9), ('JGQH', 18.5, 136.9), ('JIVB', 34.8, 130.0), ('LDWR', 66.0, 2.1), ('OXYH2', 60.2, 352.6), ('UCKZ', -69.4, 74.6)]\n",
    "for i in missing:\n",
    "    if i[2] > 180:\n",
    "        missing.append((i[0], i[1], i[2] - 360))\n",
    "        missing.remove(i)\n",
    "display(missing)\n",
    "len(missing)"
   ]
  },
  {
   "cell_type": "code",
   "execution_count": null,
   "metadata": {},
   "outputs": [],
   "source": []
  },
  {
   "cell_type": "code",
   "execution_count": 16,
   "metadata": {},
   "outputs": [
    {
     "name": "stdout",
     "output_type": "stream",
     "text": [
      "searching by name: \n",
      "not found:\n",
      "('47744', 35.43, 133.35)\n",
      "('51886', 38.25, 90.85)\n",
      "('55664', 28.58, 86.62)\n",
      "('74646', 36.62, 262.52)\n",
      "('FNRS', 42.8, 344.7)\n",
      "('74547', 38.62, -97.30000000000001)\n",
      "('74650', 35.68, -95.87)\n",
      "('OXYH2', 60.2, -7.399999999999977)\n",
      "8\n",
      "\n",
      "found:\n"
     ]
    },
    {
     "data": {
      "text/plain": [
       "[('12982', 46.25, 20.1),\n",
       " ('13275', 44.78, 20.53),\n",
       " ('17130', 39.95, 32.88),\n",
       " ('52652', 38.93, 100.43),\n",
       " ('56173', 31.85, 102.7),\n",
       " ('61995', -20.3, 57.5),\n",
       " ('63705', 0.05, 32.45),\n",
       " ('67964', -20.15, 28.62),\n",
       " ('94302', -22.23, 114.08),\n",
       " ('ENQT', 37.2, 350.9),\n",
       " ('JBOA', 31.0, 127.9),\n",
       " ('JCCX', 32.4, 128.1),\n",
       " ('JDWX', 41.2, 141.9),\n",
       " ('JGQH', 18.5, 136.9),\n",
       " ('JIVB', 34.8, 130.0),\n",
       " ('LDWR', 66.0, 2.1),\n",
       " ('UCKZ', -69.4, 74.6),\n",
       " ('04018', 63.97, -22.600000000000023),\n",
       " ('DBBH', 43.5, -50.0),\n",
       " ('FNOR', 25.5, -52.0)]"
      ]
     },
     "metadata": {},
     "output_type": "display_data"
    },
    {
     "name": "stdout",
     "output_type": "stream",
     "text": [
      "20\n"
     ]
    }
   ],
   "source": [
    "# check by name:\n",
    "print('searching by name: ')\n",
    "not_in_diff = []\n",
    "in_diff = []\n",
    "print('not found:')\n",
    "for i in missing:\n",
    "    if np.invert(i[0] in '\\t'.join(df_v11)):\n",
    "        not_in_diff.append(i)\n",
    "        print(i)\n",
    "    else:\n",
    "        in_diff.append(i)\n",
    "\n",
    "print(len(not_in_diff))\n",
    "print()\n",
    "print('found:')\n",
    "display(in_diff)\n",
    "print(len(in_diff))"
   ]
  },
  {
   "cell_type": "code",
   "execution_count": 21,
   "metadata": {},
   "outputs": [
    {
     "name": "stdout",
     "output_type": "stream",
     "text": [
      "searching by lat/lon: \n"
     ]
    },
    {
     "data": {
      "application/vnd.jupyter.widget-view+json": {
       "model_id": "1f6a2a0b56774345bbe4d4f37a05506d",
       "version_major": 2,
       "version_minor": 0
      },
      "text/plain": [
       "IntProgress(value=0, max=1810)"
      ]
     },
     "metadata": {},
     "output_type": "display_data"
    },
    {
     "name": "stdout",
     "output_type": "stream",
     "text": [
      "not found:\n"
     ]
    },
    {
     "data": {
      "text/plain": [
       "[('51886', 38.25, 90.85),\n",
       " ('55664', 28.58, 86.62),\n",
       " ('74646', 36.62, 262.52),\n",
       " ('ENQT', 37.2, 350.9),\n",
       " ('FNRS', 42.8, 344.7),\n",
       " ('74547', 38.62, -97.30000000000001),\n",
       " ('OXYH2', 60.2, -7.399999999999977)]"
      ]
     },
     "metadata": {},
     "output_type": "display_data"
    },
    {
     "name": "stdout",
     "output_type": "stream",
     "text": [
      "7\n",
      "\n",
      "found\n"
     ]
    },
    {
     "data": {
      "text/plain": [
       "[('04018', 63.97, -22.600000000000023),\n",
       " ('04018', 63.97, -22.600000000000023),\n",
       " ('12982', 46.25, 20.1),\n",
       " ('12982', 46.25, 20.1),\n",
       " ('13275', 44.78, 20.53),\n",
       " ('13275', 44.78, 20.53),\n",
       " ('17130', 39.95, 32.88),\n",
       " ('17130', 39.95, 32.88),\n",
       " ('JDWX', 41.2, 141.9),\n",
       " ('JDWX', 41.2, 141.9),\n",
       " ('47744', 35.43, 133.35),\n",
       " ('47744', 35.43, 133.35),\n",
       " ('52652', 38.93, 100.43),\n",
       " ('52652', 38.93, 100.43),\n",
       " ('61995', -20.3, 57.5),\n",
       " ('61995', -20.3, 57.5),\n",
       " ('63705', 0.05, 32.45),\n",
       " ('67964', -20.15, 28.62),\n",
       " ('67964', -20.15, 28.62),\n",
       " ('74650', 35.68, -95.87),\n",
       " ('74650', 35.68, -95.87),\n",
       " ('94302', -22.23, 114.08),\n",
       " ('94302', -22.23, 114.08),\n",
       " ('56173', 31.85, 102.7),\n",
       " ('56173', 31.85, 102.7),\n",
       " ('DBBH', 43.5, -50.0),\n",
       " ('DBBH', 43.5, -50.0),\n",
       " ('FNOR', 25.5, -52.0),\n",
       " ('FNOR', 25.5, -52.0),\n",
       " ('JBOA', 31.0, 127.9),\n",
       " ('JBOA', 31.0, 127.9),\n",
       " ('JCCX', 32.4, 128.1),\n",
       " ('JCCX', 32.4, 128.1),\n",
       " ('JDWX', 41.2, 141.9),\n",
       " ('JDWX', 41.2, 141.9),\n",
       " ('JGQH', 18.5, 136.9),\n",
       " ('JGQH', 18.5, 136.9),\n",
       " ('JIVB', 34.8, 130.0),\n",
       " ('JIVB', 34.8, 130.0),\n",
       " ('LDWR', 66.0, 2.1),\n",
       " ('LDWR', 66.0, 2.1),\n",
       " ('UCKZ', -69.4, 74.6),\n",
       " ('UCKZ', -69.4, 74.6)]"
      ]
     },
     "metadata": {},
     "output_type": "display_data"
    },
    {
     "name": "stdout",
     "output_type": "stream",
     "text": [
      "43\n"
     ]
    },
    {
     "data": {
      "text/plain": [
       "[('dest_0-20000-0-04018_air_temperature.nc', 0.0, 0.0),\n",
       " ('dest_0-20000-0-04018_eastward_wind.nc', 0.0, 0.0),\n",
       " ('dest_0-20000-0-12982_air_temperature.nc', 0.0, 0.0),\n",
       " ('dest_0-20000-0-12982_eastward_wind.nc', 0.0, 0.0),\n",
       " ('dest_0-20000-0-13275_air_temperature.nc', 0.0099983215, 0.11000061),\n",
       " ('dest_0-20000-0-13275_eastward_wind.nc', 0.0099983215, 0.11000061),\n",
       " ('dest_0-20000-0-17130_air_temperature.nc', 0.0, 0.0),\n",
       " ('dest_0-20000-0-17130_eastward_wind.nc', 0.0, 0.0),\n",
       " ('dest_0-20000-0-47580_air_temperature.nc', 0.5, 0.519989),\n",
       " ('dest_0-20000-0-47580_eastward_wind.nc', 0.5, 0.519989),\n",
       " ('dest_0-20000-0-47741_air_temperature.nc', 0.0, 1.5258789e-05),\n",
       " ('dest_0-20000-0-47741_eastward_wind.nc', 0.0, 1.5258789e-05),\n",
       " ('dest_0-20000-0-52652_air_temperature.nc', 0.0, 0.0),\n",
       " ('dest_0-20000-0-52652_eastward_wind.nc', 0.0, 0.0),\n",
       " ('dest_0-20000-0-61995_air_temperature.nc', 0.0, 0.0),\n",
       " ('dest_0-20000-0-61995_eastward_wind.nc', 0.0, 0.0),\n",
       " ('dest_0-20000-0-63705_eastward_wind.nc', 0.0, 0.0),\n",
       " ('dest_0-20000-0-67964_air_temperature.nc', 0.0, 0.0),\n",
       " ('dest_0-20000-0-67964_eastward_wind.nc', 0.0, 0.0),\n",
       " ('dest_0-20000-0-74648_air_temperature.nc', 0.0, 0.0),\n",
       " ('dest_0-20000-0-74648_eastward_wind.nc', 0.0, 0.0),\n",
       " ('dest_0-20000-0-94302_air_temperature.nc', 0.0, 0.0),\n",
       " ('dest_0-20000-0-94302_eastward_wind.nc', 0.0, 0.0),\n",
       " ('dest_0-20600-0-56173_air_temperature.nc', 0.0, 0.0),\n",
       " ('dest_0-20600-0-56173_eastward_wind.nc', 0.0, 0.0),\n",
       " ('dest_0-20999-0-DBBH_air_temperature.nc', 0.0, 0.0),\n",
       " ('dest_0-20999-0-DBBH_eastward_wind.nc', 0.0, 0.0),\n",
       " ('dest_0-20999-0-FNOR_air_temperature.nc', 0.0, 0.0),\n",
       " ('dest_0-20999-0-FNOR_eastward_wind.nc', 0.0, 0.0),\n",
       " ('dest_0-20999-0-JBOA_air_temperature.nc', 0.0, 0.0),\n",
       " ('dest_0-20999-0-JBOA_eastward_wind.nc', 0.0, 0.0),\n",
       " ('dest_0-20999-0-JCCX_air_temperature.nc', 0.0, 0.0),\n",
       " ('dest_0-20999-0-JCCX_eastward_wind.nc', 0.0, 0.0),\n",
       " ('dest_0-20999-0-JDWX_air_temperature.nc', 0.0, 0.0),\n",
       " ('dest_0-20999-0-JDWX_eastward_wind.nc', 0.0, 0.0),\n",
       " ('dest_0-20999-0-JGQH_air_temperature.nc', 0.0, 0.0),\n",
       " ('dest_0-20999-0-JGQH_eastward_wind.nc', 0.0, 0.0),\n",
       " ('dest_0-20999-0-JIVB_air_temperature.nc', 0.0, 0.0),\n",
       " ('dest_0-20999-0-JIVB_eastward_wind.nc', 0.0, 0.0),\n",
       " ('dest_0-20999-0-LDWR_air_temperature.nc', 0.0, 0.0),\n",
       " ('dest_0-20999-0-LDWR_eastward_wind.nc', 0.0, 0.0),\n",
       " ('dest_0-20999-0-UCKZ_air_temperature.nc', 0.0, 0.0),\n",
       " ('dest_0-20999-0-UCKZ_eastward_wind.nc', 0.0, 0.0)]"
      ]
     },
     "metadata": {},
     "output_type": "display_data"
    }
   ],
   "source": [
    "# check by lat/lon threshold 1°:\n",
    "print('searching by lat/lon: ')\n",
    "remaining = copy.deepcopy(missing)\n",
    "found = []\n",
    "found_where = []\n",
    "max_count = len(df_v11)\n",
    "f = IntProgress(min=0, max=max_count) # instantiate the bar\n",
    "display(f) # display the bar\n",
    "\n",
    "for i in df_v11:\n",
    "    with h5py.File('./v11_data/'+i) as file:\n",
    "        for j in missing:\n",
    "            if np.logical_and(np.nanmin(np.abs(np.array(file['lat'][:]) - j[1])) < 1, np.nanmin(np.abs(np.array(file['lon'][:]) - j[2])) < 1):\n",
    "                found.append(j)\n",
    "                found_where.append((i,np.nanmin(np.abs(np.array(file['lat'][:]) - j[1])), np.nanmin(np.abs(np.array(file['lon'][:]) - j[2]))))\n",
    "                try:\n",
    "                    remaining.remove(j)\n",
    "                except:\n",
    "                    pass\n",
    "    f.value += 1\n",
    "print('not found:')\n",
    "display(remaining)\n",
    "print(len(remaining))\n",
    "print()\n",
    "print('found')\n",
    "display(found)\n",
    "print(len(found))\n",
    "display(found_where)"
   ]
  },
  {
   "cell_type": "code",
   "execution_count": null,
   "metadata": {},
   "outputs": [],
   "source": []
  },
  {
   "cell_type": "code",
   "execution_count": null,
   "metadata": {},
   "outputs": [],
   "source": []
  },
  {
   "cell_type": "code",
   "execution_count": null,
   "metadata": {},
   "outputs": [],
   "source": []
  }
 ],
 "metadata": {
  "kernelspec": {
   "display_name": "uvn10",
   "language": "python",
   "name": "uvn10"
  },
  "language_info": {
   "codemirror_mode": {
    "name": "ipython",
    "version": 3
   },
   "file_extension": ".py",
   "mimetype": "text/x-python",
   "name": "python",
   "nbconvert_exporter": "python",
   "pygments_lexer": "ipython3",
   "version": "3.10.6"
  }
 },
 "nbformat": 4,
 "nbformat_minor": 4
}
