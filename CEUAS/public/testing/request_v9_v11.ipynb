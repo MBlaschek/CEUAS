{
 "cells": [
  {
   "cell_type": "code",
   "execution_count": 1,
   "metadata": {},
   "outputs": [],
   "source": [
    "import numpy\n",
    "import gzip\n",
    "import numpy as np\n",
    "import pandas as pd\n",
    "import sys, glob\n",
    "import urllib3\n",
    "import h5py\n",
    "import cdsapi, zipfile, os, time\n",
    "import warnings\n",
    "import shutil\n",
    "import xarray\n",
    "from datetime import date\n",
    "warnings.filterwarnings('ignore')\n",
    "import pycountry\n",
    "sys.path.append(os.getcwd()+'/../cds-backend/code/')\n",
    "import cds_eua4 as eua\n",
    "import numba\n",
    "import copy\n",
    "import glob\n",
    "from numba import njit\n",
    "import pandas\n",
    "import glob\n",
    "import psutil\n",
    "import json\n",
    "import requests\n",
    "\n",
    "def find_nearest(array, value):\n",
    "    array = np.asarray(array)\n",
    "    idx = (np.abs(array - value)).argmin()\n",
    "    return array[idx]\n",
    "\n",
    "def datetime_to_seconds(dates, ref='1900-01-01T00:00:00'):\n",
    "    \"\"\" from datetime64 to seconds since 1900-01-01 00:00:00\"\"\"\n",
    "    return ((dates - np.datetime64(ref)) / np.timedelta64(1, 's')).astype(np.int64)\n",
    "\n",
    "def seconds_to_datetime(seconds, ref='1900-01-01'):\n",
    "    \"\"\" from seconds to datetime64 \"\"\"\n",
    "    seconds = np.asarray(seconds)\n",
    "    return pd.to_datetime(seconds, unit='s', origin=ref)\n",
    "\n",
    "import matplotlib\n",
    "import matplotlib.pylab as plt\n",
    "import matplotlib.pyplot as maplt\n",
    "matplotlib.rcParams.update({'font.size': 20})\n",
    "matplotlib.rcParams['figure.figsize'] = (20, 10)\n",
    "font = {'family' : 'normal',\n",
    "    # 'weight' : 'bold',\n",
    "    'size'   : 22}\n",
    "matplotlib.rc('font', **font)"
   ]
  },
  {
   "cell_type": "code",
   "execution_count": 2,
   "metadata": {},
   "outputs": [],
   "source": [
    "with open('/users/staff/uvoggenberger/scratch/hug/config_v9/active.json') as json_file:\n",
    "    active_v9 = json.load(json_file)\n",
    "with open('/users/staff/uvoggenberger/scratch/hug/config_v11/active.json') as json_file:\n",
    "    active_v11 = json.load(json_file)"
   ]
  },
  {
   "cell_type": "code",
   "execution_count": 3,
   "metadata": {},
   "outputs": [],
   "source": [
    "rq = {'variable': ['air_temperature'], 'date': '20060701-20060701', 'format': 'nc'} \n",
    "# 0-20999-0-ZEKG 'date': '19901201-19901201', 'statid': ['0-20999-0-ZSAF','0-20999-0-TTCC'], 'optional': ['wind_bias_estimate',], 'plev':70000, "
   ]
  },
  {
   "cell_type": "code",
   "execution_count": 4,
   "metadata": {},
   "outputs": [
    {
     "data": {
      "text/plain": [
       "719"
      ]
     },
     "execution_count": 4,
     "metadata": {},
     "output_type": "execute_result"
    }
   ],
   "source": [
    "df_v9 = eua.vm_request_wrapper(rq , overwrite=True, vm_url='http://127.0.0.1:8009')\n",
    "len(df_v9)"
   ]
  },
  {
   "cell_type": "code",
   "execution_count": 5,
   "metadata": {
    "tags": []
   },
   "outputs": [
    {
     "data": {
      "text/plain": [
       "741"
      ]
     },
     "execution_count": 5,
     "metadata": {},
     "output_type": "execute_result"
    }
   ],
   "source": [
    "df_v11 = eua.vm_request_wrapper(rq , overwrite=True)#, vm_url='http://127.0.0.1:8009')\n",
    "len(df_v11)"
   ]
  },
  {
   "cell_type": "code",
   "execution_count": 7,
   "metadata": {},
   "outputs": [
    {
     "data": {
      "text/plain": [
       "['dest_0-20000-0-04018_air_temperature',\n",
       " 'dest_0-20000-0-12982_air_temperature',\n",
       " 'dest_0-20000-0-17130_air_temperature',\n",
       " 'dest_0-20000-0-26072_air_temperature',\n",
       " 'dest_0-20000-0-64650_air_temperature',\n",
       " 'dest_0-20000-0-65418_air_temperature',\n",
       " 'dest_0-20000-0-82193_air_temperature',\n",
       " 'dest_0-20000-0-82917_air_temperature',\n",
       " 'dest_0-20001-0-64910_air_temperature',\n",
       " 'dest_0-20600-0-53068_air_temperature',\n",
       " 'dest_0-20600-0-53772_air_temperature',\n",
       " 'dest_0-20600-0-69011_air_temperature',\n",
       " 'dest_0-20999-0-01004_air_temperature',\n",
       " 'dest_0-20999-0-20744_air_temperature',\n",
       " 'dest_0-20999-0-ASUK1_air_temperature',\n",
       " 'dest_0-20999-0-FQFM_air_temperature',\n",
       " 'dest_0-20999-0-JCCX_air_temperature',\n",
       " 'dest_0-20999-0-JGQH_air_temperature',\n",
       " 'dest_0-20999-0-LDWR_air_temperature',\n",
       " 'dest_0-20999-0-OXGN2_air_temperature',\n",
       " 'dest_0-246-0-101104_air_temperature',\n",
       " 'dest_0-246-0-101339_air_temperature',\n",
       " 'dest_0-246-0-101932_air_temperature',\n",
       " 'dest_0-620-2001-08522_air_temperature',\n",
       " 'dest_20999-coordinate-orphan_67027_amma.csv_air_temperature',\n",
       " 'dest_20999-coordinate-orphan_67774_amma.csv_air_temperature',\n",
       " 'dest_20999-coordinate-orphan_era5.conv.??????.40800.txt.gz_air_temperature',\n",
       " 'dest_20999-coordinate-orphan_era5.conv.??????.52818.txt.gz_air_temperature',\n",
       " 'dest_20999-coordinate-orphan_uadb_windc_10200.txt_air_temperature',\n",
       " 'dest_20999-coordinate-orphan_uadb_windc_25400.txt_air_temperature',\n",
       " 'dest_20999-coordinate-orphan_uadb_windc_71203.txt_air_temperature']"
      ]
     },
     "execution_count": 7,
     "metadata": {},
     "output_type": "execute_result"
    }
   ],
   "source": [
    "testlist = list(df_v9.keys())\n",
    "out = []\n",
    "for i in df_v11:\n",
    "    if ~np.isin(i, testlist):\n",
    "        out.append(i)\n",
    "        # display(df_v11[i])\n",
    "        # display(df_v11[i].to_dataframe())\n",
    "out"
   ]
  },
  {
   "cell_type": "code",
   "execution_count": null,
   "metadata": {},
   "outputs": [],
   "source": []
  },
  {
   "cell_type": "code",
   "execution_count": null,
   "metadata": {},
   "outputs": [],
   "source": []
  },
  {
   "cell_type": "code",
   "execution_count": null,
   "metadata": {},
   "outputs": [],
   "source": []
  }
 ],
 "metadata": {
  "kernelspec": {
   "display_name": "uvn10",
   "language": "python",
   "name": "uvn10"
  },
  "language_info": {
   "codemirror_mode": {
    "name": "ipython",
    "version": 3
   },
   "file_extension": ".py",
   "mimetype": "text/x-python",
   "name": "python",
   "nbconvert_exporter": "python",
   "pygments_lexer": "ipython3",
   "version": "3.10.6"
  }
 },
 "nbformat": 4,
 "nbformat_minor": 4
}
