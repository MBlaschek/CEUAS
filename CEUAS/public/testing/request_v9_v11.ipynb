{
 "cells": [
  {
   "cell_type": "code",
   "execution_count": 26,
   "metadata": {},
   "outputs": [],
   "source": [
    "import numpy\n",
    "import gzip\n",
    "import numpy as np\n",
    "import pandas as pd\n",
    "import sys, glob\n",
    "import urllib3\n",
    "import h5py\n",
    "import cdsapi, zipfile, os, time\n",
    "import warnings\n",
    "import shutil\n",
    "import xarray\n",
    "from datetime import date\n",
    "warnings.filterwarnings('ignore')\n",
    "import pycountry\n",
    "import json\n",
    "import copy\n",
    "\n",
    "sys.path.append(os.getcwd()+'/../cds-backend/code/')\n",
    "import cds_eua4 as eua\n",
    "sys.path.append(os.path.expanduser(\"~\")+'/uvpy/')\n",
    "import uvfunctions as uvf\n",
    "import uvplot as uvp\n",
    "\n",
    "import matplotlib\n",
    "import matplotlib.pylab as plt\n",
    "import matplotlib.pyplot as maplt\n",
    "matplotlib.rcParams.update({'font.size': 20})\n",
    "matplotlib.rcParams['figure.figsize'] = (20, 10)\n",
    "font = {'family' : 'normal',\n",
    "    # 'weight' : 'bold',\n",
    "    'size'   : 22}\n",
    "matplotlib.rc('font', **font)\n",
    "\n",
    "from ipywidgets import IntProgress\n",
    "from IPython.display import display"
   ]
  },
  {
   "cell_type": "code",
   "execution_count": null,
   "metadata": {},
   "outputs": [],
   "source": []
  },
  {
   "cell_type": "code",
   "execution_count": 6,
   "metadata": {},
   "outputs": [],
   "source": [
    "with open('/users/staff/uvoggenberger/scratch/hug/config_v9/active.json') as json_file:\n",
    "    active_v9 = json.load(json_file)\n",
    "with open('/users/staff/uvoggenberger/scratch/hug/config_v11/active.json') as json_file:\n",
    "    active_v11 = json.load(json_file)"
   ]
  },
  {
   "cell_type": "code",
   "execution_count": 7,
   "metadata": {},
   "outputs": [],
   "source": [
    "rq = {'variable': ['air_temperature'], 'date': '20060701-20060701', 'format': 'nc'} \n",
    "# 0-20999-0-ZEKG 'date': '19901201-19901201', 'statid': ['0-20999-0-ZSAF','0-20999-0-TTCC'], 'optional': ['wind_bias_estimate',], 'plev':70000, "
   ]
  },
  {
   "cell_type": "code",
   "execution_count": 8,
   "metadata": {},
   "outputs": [
    {
     "data": {
      "text/plain": [
       "719"
      ]
     },
     "execution_count": 8,
     "metadata": {},
     "output_type": "execute_result"
    }
   ],
   "source": [
    "df_v9 = eua.vm_request_wrapper(rq , overwrite=True, vm_url='http://127.0.0.1:8009')\n",
    "len(df_v9)"
   ]
  },
  {
   "cell_type": "code",
   "execution_count": 9,
   "metadata": {
    "tags": []
   },
   "outputs": [
    {
     "data": {
      "text/plain": [
       "741"
      ]
     },
     "execution_count": 9,
     "metadata": {},
     "output_type": "execute_result"
    }
   ],
   "source": [
    "df_v11 = eua.vm_request_wrapper(rq , overwrite=True)#, vm_url='http://127.0.0.1:8009')\n",
    "len(df_v11)"
   ]
  },
  {
   "cell_type": "code",
   "execution_count": 19,
   "metadata": {},
   "outputs": [
    {
     "data": {
      "text/plain": [
       "['dest_0-20000-0-04018_air_temperature',\n",
       " 'dest_0-20000-0-12982_air_temperature',\n",
       " 'dest_0-20000-0-17130_air_temperature',\n",
       " 'dest_0-20000-0-26072_air_temperature',\n",
       " 'dest_0-20000-0-64650_air_temperature',\n",
       " 'dest_0-20000-0-65418_air_temperature',\n",
       " 'dest_0-20000-0-82193_air_temperature',\n",
       " 'dest_0-20000-0-82917_air_temperature',\n",
       " 'dest_0-20001-0-64910_air_temperature',\n",
       " 'dest_0-20600-0-53068_air_temperature',\n",
       " 'dest_0-20600-0-53772_air_temperature',\n",
       " 'dest_0-20600-0-69011_air_temperature',\n",
       " 'dest_0-20999-0-01004_air_temperature',\n",
       " 'dest_0-20999-0-20744_air_temperature',\n",
       " 'dest_0-20999-0-ASUK1_air_temperature',\n",
       " 'dest_0-20999-0-FQFM_air_temperature',\n",
       " 'dest_0-20999-0-JCCX_air_temperature',\n",
       " 'dest_0-20999-0-JGQH_air_temperature',\n",
       " 'dest_0-20999-0-LDWR_air_temperature',\n",
       " 'dest_0-20999-0-OXGN2_air_temperature',\n",
       " 'dest_0-246-0-101104_air_temperature',\n",
       " 'dest_0-246-0-101339_air_temperature',\n",
       " 'dest_0-246-0-101932_air_temperature',\n",
       " 'dest_0-620-2001-08522_air_temperature',\n",
       " 'dest_20999-coordinate-orphan_67027_amma.csv_air_temperature',\n",
       " 'dest_20999-coordinate-orphan_67774_amma.csv_air_temperature',\n",
       " 'dest_20999-coordinate-orphan_era5.conv.??????.40800.txt.gz_air_temperature',\n",
       " 'dest_20999-coordinate-orphan_era5.conv.??????.52818.txt.gz_air_temperature',\n",
       " 'dest_20999-coordinate-orphan_uadb_windc_10200.txt_air_temperature',\n",
       " 'dest_20999-coordinate-orphan_uadb_windc_25400.txt_air_temperature',\n",
       " 'dest_20999-coordinate-orphan_uadb_windc_71203.txt_air_temperature']"
      ]
     },
     "metadata": {},
     "output_type": "display_data"
    },
    {
     "name": "stdout",
     "output_type": "stream",
     "text": [
      "31\n"
     ]
    }
   ],
   "source": [
    "testlist = list(df_v9.keys())\n",
    "out = []\n",
    "for i in df_v11:\n",
    "    if ~np.isin(i, testlist):\n",
    "        out.append(i)\n",
    "        # display(df_v11[i])\n",
    "        # display(df_v11[i].to_dataframe())\n",
    "display(out)\n",
    "print(len(out))"
   ]
  },
  {
   "cell_type": "code",
   "execution_count": 41,
   "metadata": {},
   "outputs": [
    {
     "data": {
      "text/plain": [
       "[('04018', 63.97, 337.4),\n",
       " ('12982', 46.25, 20.1),\n",
       " ('13275', 44.78, 20.53),\n",
       " ('17130', 39.95, 32.88),\n",
       " ('47744', 35.43, 133.35),\n",
       " ('51886', 38.25, 90.85),\n",
       " ('52652', 38.93, 100.43),\n",
       " ('55664', 28.58, 86.62),\n",
       " ('56173', 31.85, 102.7),\n",
       " ('61995', -20.3, 57.5),\n",
       " ('63705', 0.05, 32.45),\n",
       " ('67964', -20.15, 28.62),\n",
       " ('74547', 38.62, 262.7),\n",
       " ('74646', 36.62, 262.52),\n",
       " ('74650', 35.68, 264.13),\n",
       " ('94302', -22.23, 114.08),\n",
       " ('DBBH', 43.5, 310.0),\n",
       " ('ENQT', 37.2, 350.9),\n",
       " ('FNOR', 25.5, 308.0),\n",
       " ('FNRS', 42.8, 344.7),\n",
       " ('JBOA', 31.0, 127.9),\n",
       " ('JCCX', 32.4, 128.1),\n",
       " ('JDWX', 41.2, 141.9),\n",
       " ('JGQH', 18.5, 136.9),\n",
       " ('JIVB', 34.8, 130.0),\n",
       " ('LDWR', 66.0, 2.1),\n",
       " ('OXYH2', 60.2, 352.6),\n",
       " ('UCKZ', -69.4, 74.6)]"
      ]
     },
     "metadata": {},
     "output_type": "display_data"
    },
    {
     "data": {
      "text/plain": [
       "28"
      ]
     },
     "execution_count": 41,
     "metadata": {},
     "output_type": "execute_result"
    }
   ],
   "source": [
    "missing = [('04018', 63.97, 337.4), ('12982', 46.25, 20.1), ('13275', 44.78, 20.53), ('17130', 39.95, 32.88), ('47744', 35.43, 133.35), ('51886', 38.25, 90.85), ('52652', 38.93, 100.43), ('55664', 28.58, 86.62), ('56173', 31.85, 102.7), ('61995', -20.3, 57.5), ('63705', 0.05, 32.45), ('67964', -20.15, 28.62), ('74547', 38.62, 262.7), ('74646', 36.62, 262.52), ('74650', 35.68, 264.13), ('94302', -22.23, 114.08), ('DBBH', 43.5, 310.0), ('ENQT', 37.2, 350.9), ('FNOR', 25.5, 308.0), ('FNRS', 42.8, 344.7), ('JBOA', 31.0, 127.9), ('JCCX', 32.4, 128.1), ('JDWX', 41.2, 141.9), ('JGQH', 18.5, 136.9), ('JIVB', 34.8, 130.0), ('LDWR', 66.0, 2.1), ('OXYH2', 60.2, 352.6), ('UCKZ', -69.4, 74.6)]\n",
    "display(missing)\n",
    "len(missing)"
   ]
  },
  {
   "cell_type": "code",
   "execution_count": 20,
   "metadata": {},
   "outputs": [
    {
     "name": "stdout",
     "output_type": "stream",
     "text": [
      "('13275', 44.78, 20.53)\n",
      "('47744', 35.43, 133.35)\n",
      "('51886', 38.25, 90.85)\n",
      "('52652', 38.93, 100.43)\n",
      "('55664', 28.58, 86.62)\n",
      "('56173', 31.85, 102.7)\n",
      "('61995', -20.3, 57.5)\n",
      "('63705', 0.05, 32.45)\n",
      "('67964', -20.15, 28.62)\n",
      "('74547', 38.62, 262.7)\n",
      "('74646', 36.62, 262.52)\n",
      "('74650', 35.68, 264.13)\n",
      "('94302', -22.23, 114.08)\n",
      "('DBBH', 43.5, 310.0)\n",
      "('ENQT', 37.2, 350.9)\n",
      "('FNOR', 25.5, 308.0)\n",
      "('FNRS', 42.8, 344.7)\n",
      "('JBOA', 31.0, 127.9)\n",
      "('JDWX', 41.2, 141.9)\n",
      "('JIVB', 34.8, 130.0)\n",
      "('OXYH2', 60.2, 352.6)\n",
      "('UCKZ', -69.4, 74.6)\n",
      "22\n"
     ]
    }
   ],
   "source": [
    "# check by name:\n",
    "not_in_diff = []\n",
    "for i in missing:\n",
    "    if np.invert(i[0] in '\\t'.join(out)):\n",
    "        not_in_diff.append(i)\n",
    "        print(i)\n",
    "print(len(not_in_diff))"
   ]
  },
  {
   "cell_type": "code",
   "execution_count": 39,
   "metadata": {},
   "outputs": [
    {
     "data": {
      "application/vnd.jupyter.widget-view+json": {
       "model_id": "ea9cf47663d549d584beeb563038a3df",
       "version_major": 2,
       "version_minor": 0
      },
      "text/plain": [
       "IntProgress(value=0, max=31)"
      ]
     },
     "metadata": {},
     "output_type": "display_data"
    },
    {
     "data": {
      "text/plain": [
       "[('61995', -20.3, 57.5),\n",
       " ('67964', -20.15, 28.62),\n",
       " ('94302', -22.23, 114.08),\n",
       " ('UCKZ', -69.4, 74.6)]"
      ]
     },
     "metadata": {},
     "output_type": "display_data"
    },
    {
     "name": "stdout",
     "output_type": "stream",
     "text": [
      "4\n"
     ]
    }
   ],
   "source": [
    "# check by lat/lon:\n",
    "remaining = copy.deepcopy(not_in_diff)\n",
    "found = []\n",
    "found_where = []\n",
    "max_count = len(out)\n",
    "f = IntProgress(min=0, max=max_count) # instantiate the bar\n",
    "display(f) # display the bar\n",
    "\n",
    "for i in out:\n",
    "    df_i = df_v11[i].to_dataframe()\n",
    "    for j in not_in_diff:\n",
    "        if np.logical_and(((df_i.lat.iloc[0] - j[1]) < 0.3), ((df_i.lon.iloc[0] - j[2]) < 0.3)):\n",
    "            found.append(j)\n",
    "            found_where.append(i)\n",
    "            try:\n",
    "                remaining.remove(j)\n",
    "            except:\n",
    "                pass\n",
    "    f.value += 1\n",
    "display(remaining)\n",
    "print(len(remaining))"
   ]
  },
  {
   "cell_type": "code",
   "execution_count": null,
   "metadata": {},
   "outputs": [],
   "source": [
    "# ^ those 4 missing stations could not be found in the \"new additions\" from v11."
   ]
  }
 ],
 "metadata": {
  "kernelspec": {
   "display_name": "uvn10",
   "language": "python",
   "name": "uvn10"
  },
  "language_info": {
   "codemirror_mode": {
    "name": "ipython",
    "version": 3
   },
   "file_extension": ".py",
   "mimetype": "text/x-python",
   "name": "python",
   "nbconvert_exporter": "python",
   "pygments_lexer": "ipython3",
   "version": "3.10.6"
  }
 },
 "nbformat": 4,
 "nbformat_minor": 4
}
