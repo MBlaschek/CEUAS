{
 "cells": [
  {
   "cell_type": "code",
   "execution_count": 1,
   "id": "535a52cc-3283-47e8-8495-101491381c44",
   "metadata": {},
   "outputs": [
    {
     "name": "stdout",
     "output_type": "stream",
     "text": [
      "Warning: ecCodes 2.21.0 or higher is recommended. You are running version 2.17.0\n"
     ]
    }
   ],
   "source": [
    "import numpy\n",
    "import numpy as np\n",
    "import time\n",
    "import datetime\n",
    "import netCDF4\n",
    "import matplotlib.pylab as plt\n",
    "import os,sys,glob\n",
    "sys.path.append(os.getcwd()+'/../adjust/rasotools/')\n",
    "from utils import *\n",
    "from multiprocessing import Pool\n",
    "#import odb\n",
    "from eccodes import *\n",
    "from functools import partial\n",
    "from collections import OrderedDict\n",
    "import subprocess\n",
    "import json\n",
    "import gzip\n",
    "# from retrieve_fb_jra55 import add_feedback\n",
    "import copy\n",
    "import pickle\n",
    "import xarray as xr\n",
    "\n",
    "import pandas as pd\n",
    "import matplotlib\n",
    "import matplotlib.pylab as plt\n",
    "import matplotlib.pyplot as maplt\n",
    "matplotlib.rcParams.update({'font.size': 20})\n",
    "\n",
    "plt.rcParams['lines.linewidth'] = 3\n",
    "\n",
    "import warnings\n",
    "warnings.filterwarnings('ignore')\n",
    "\n",
    "sys.path.append(os.getcwd()+'/../cds-backend/code/')\n",
    "import cds_eua3 as eua\n",
    "import trajectory as trj\n",
    "\n",
    "import zarr\n",
    "import dask\n",
    "from timeit import default_timer as timer"
   ]
  },
  {
   "cell_type": "code",
   "execution_count": 4,
   "id": "79f94b65-32fa-48d0-9482-e75cbc5ce448",
   "metadata": {},
   "outputs": [
    {
     "name": "stdout",
     "output_type": "stream",
     "text": [
      "4.870440244674683\n"
     ]
    }
   ],
   "source": [
    "tt = time.time()\n",
    "eua.vm_request_wrapper({'variable': 'temperature', 'statid': '11035', 'single_parallel':True}, vm_url='http://localhost:8005',overwrite=True)\n",
    "print(time.time() - tt)"
   ]
  },
  {
   "cell_type": "code",
   "execution_count": 5,
   "id": "45a4408c-e6f2-4c55-a5d9-17c5ce42ea61",
   "metadata": {},
   "outputs": [
    {
     "name": "stdout",
     "output_type": "stream",
     "text": [
      "5.875334978103638\n"
     ]
    }
   ],
   "source": [
    "tt = time.time()\n",
    "eua.vm_request_wrapper({'variable': 'temperature', 'statid': '11035'}, vm_url='http://localhost:8005',overwrite=True)\n",
    "print(time.time() - tt)"
   ]
  },
  {
   "cell_type": "code",
   "execution_count": 6,
   "id": "7c5fe4b8-0544-40be-b0b3-bc32bd500e0a",
   "metadata": {},
   "outputs": [
    {
     "name": "stdout",
     "output_type": "stream",
     "text": [
      "\n"
     ]
    },
    {
     "data": {
      "text/plain": [
       "File: <HDF5 file \"dest_0-20001-0-11035_air_temperature_latitude.nc\" (mode r)>\n",
       "Filesize: 0.07 MB\n",
       "Filename: /users/staff/a1400070/scratch/hug/tmp/026519613035/dest_0-20001-0-11035_air_temperature_latitude.nc\n",
       "(G)roups/(V)ariables: \n",
       "\n",
       " - V | lat__________________________________________ : : (6348034,)"
      ]
     },
     "metadata": {},
     "output_type": "display_data"
    },
    {
     "name": "stdout",
     "output_type": "stream",
     "text": [
      "\n"
     ]
    },
    {
     "data": {
      "text/plain": [
       "File: <HDF5 file \"dest_0-20001-0-11035_air_temperature_air_pressure.nc\" (mode r)>\n",
       "Filesize: 9.33 MB\n",
       "Filename: /users/staff/a1400070/scratch/hug/tmp/026519613035/dest_0-20001-0-11035_air_temperature_air_pressure.nc\n",
       "(G)roups/(V)ariables: \n",
       "\n",
       " - V | plev_________________________________________ : : (6348034,)"
      ]
     },
     "metadata": {},
     "output_type": "display_data"
    },
    {
     "name": "stdout",
     "output_type": "stream",
     "text": [
      "\n"
     ]
    },
    {
     "data": {
      "text/plain": [
       "File: <HDF5 file \"dest_0-20001-0-11035_air_temperature_longitude.nc\" (mode r)>\n",
       "Filesize: 0.07 MB\n",
       "Filename: /users/staff/a1400070/scratch/hug/tmp/026519613035/dest_0-20001-0-11035_air_temperature_longitude.nc\n",
       "(G)roups/(V)ariables: \n",
       "\n",
       " - V | lon__________________________________________ : : (6348034,)"
      ]
     },
     "metadata": {},
     "output_type": "display_data"
    },
    {
     "name": "stdout",
     "output_type": "stream",
     "text": [
      "\n"
     ]
    },
    {
     "data": {
      "text/plain": [
       "File: <HDF5 file \"dest_0-20001-0-11035_air_temperature_air_temperature.nc\" (mode r)>\n",
       "Filesize: 5.82 MB\n",
       "Filename: /users/staff/a1400070/scratch/hug/tmp/026519613035/dest_0-20001-0-11035_air_temperature_air_temperature.nc\n",
       "(G)roups/(V)ariables: \n",
       "\n",
       " - V | ta___________________________________________ : : (6348034,)"
      ]
     },
     "metadata": {},
     "output_type": "display_data"
    },
    {
     "name": "stdout",
     "output_type": "stream",
     "text": [
      "\n"
     ]
    },
    {
     "data": {
      "text/plain": [
       "File: <HDF5 file \"dest_0-20001-0-11035_air_temperature_time.nc\" (mode r)>\n",
       "Filesize: 0.35 MB\n",
       "Filename: /users/staff/a1400070/scratch/hug/tmp/026519613035/dest_0-20001-0-11035_air_temperature_time.nc\n",
       "(G)roups/(V)ariables: \n",
       "\n",
       " - V | time_________________________________________ : : (6348034,)"
      ]
     },
     "metadata": {},
     "output_type": "display_data"
    },
    {
     "name": "stdout",
     "output_type": "stream",
     "text": [
      "\n"
     ]
    },
    {
     "data": {
      "text/plain": [
       "File: <HDF5 file \"dest_0-20001-0-11035_air_temperature_2.nc\" (mode r)>\n",
       "Filesize: 24.22 MB\n",
       "Filename: /users/staff/a1400070/scratch/hug/tmp/026519613035/dest_0-20001-0-11035_air_temperature_2.nc\n",
       "(G)roups/(V)ariables: \n",
       "\n",
       " - V | trajectory_index_____________________________ : : (6348034,)"
      ]
     },
     "metadata": {},
     "output_type": "display_data"
    },
    {
     "name": "stdout",
     "output_type": "stream",
     "text": [
      "\n"
     ]
    },
    {
     "data": {
      "text/plain": [
       "File: <HDF5 file \"dest_0-20001-0-11035_air_temperature_3.nc\" (mode r)>\n",
       "Filesize: 0.26 MB\n",
       "Filename: /users/staff/a1400070/scratch/hug/tmp/026519613035/dest_0-20001-0-11035_air_temperature_3.nc\n",
       "(G)roups/(V)ariables: \n",
       "\n",
       " - V | station_id___________________________________ : : (6348034, 25)\n",
       " - V | string25_____________________________________ : : (25,)"
      ]
     },
     "metadata": {},
     "output_type": "display_data"
    },
    {
     "name": "stdout",
     "output_type": "stream",
     "text": [
      "\n"
     ]
    },
    {
     "data": {
      "text/plain": [
       "File: <HDF5 file \"dest_0-20001-0-11035_air_temperature_trajectory_label.nc\" (mode r)>\n",
       "Filesize: 0.61 MB\n",
       "Filename: /users/staff/a1400070/scratch/hug/tmp/026519613035/dest_0-20001-0-11035_air_temperature_trajectory_label.nc\n",
       "(G)roups/(V)ariables: \n",
       "\n",
       " - V | string11_____________________________________ : : (11,)\n",
       " - V | trajectory_label_____________________________ : : (52346, 11)"
      ]
     },
     "metadata": {},
     "output_type": "display_data"
    },
    {
     "name": "stdout",
     "output_type": "stream",
     "text": [
      "\n"
     ]
    },
    {
     "data": {
      "text/plain": [
       "File: <HDF5 file \"dest_0-20001-0-11035_air_temperature_0.nc\" (mode r)>\n",
       "Filesize: 24.22 MB\n",
       "Filename: /users/staff/a1400070/scratch/hug/tmp/026519613035/dest_0-20001-0-11035_air_temperature_0.nc\n",
       "(G)roups/(V)ariables: \n",
       "\n",
       " - V | obs__________________________________________ : : (6348034,)"
      ]
     },
     "metadata": {},
     "output_type": "display_data"
    },
    {
     "name": "stdout",
     "output_type": "stream",
     "text": [
      "\n"
     ]
    },
    {
     "data": {
      "text/plain": [
       "File: <HDF5 file \"dest_0-20001-0-11035_air_temperature_report_id.nc\" (mode r)>\n",
       "Filesize: 0.32 MB\n",
       "Filename: /users/staff/a1400070/scratch/hug/tmp/026519613035/dest_0-20001-0-11035_air_temperature_report_id.nc\n",
       "(G)roups/(V)ariables: \n",
       "\n",
       " - V | report_id____________________________________ : : (6348034, 11)\n",
       " - V | string11_____________________________________ : : (11,)"
      ]
     },
     "metadata": {},
     "output_type": "display_data"
    },
    {
     "name": "stdout",
     "output_type": "stream",
     "text": [
      "\n"
     ]
    },
    {
     "data": {
      "text/plain": [
       "File: <HDF5 file \"dest_0-20001-0-11035_air_temperature_1.nc\" (mode r)>\n",
       "Filesize: 0.20 MB\n",
       "Filename: /users/staff/a1400070/scratch/hug/tmp/026519613035/dest_0-20001-0-11035_air_temperature_1.nc\n",
       "(G)roups/(V)ariables: \n",
       "\n",
       " - V | trajectory___________________________________ : : (52346,)"
      ]
     },
     "metadata": {},
     "output_type": "display_data"
    },
    {
     "name": "stdout",
     "output_type": "stream",
     "text": [
      "\n"
     ]
    },
    {
     "data": {
      "text/plain": [
       "File: <HDF5 file \"dest_0-20001-0-11035_air_temperature.nc\" (mode r)>\n",
       "Filesize: 65.44 MB\n",
       "Filename: /users/staff/a1400070/scratch/hug/tmp/026519613035/dest_0-20001-0-11035_air_temperature.nc\n",
       "(G)roups/(V)ariables: \n",
       "\n",
       " - V | lat__________________________________________ : : (6348034,)\n",
       " - V | lon__________________________________________ : : (6348034,)\n",
       " - V | obs__________________________________________ : : (6348034,)\n",
       " - V | plev_________________________________________ : : (6348034,)\n",
       " - V | report_id____________________________________ : : (6348034, 11)\n",
       " - V | station_id___________________________________ : : (6348034, 25)\n",
       " - V | string11_____________________________________ : : (11,)\n",
       " - V | string25_____________________________________ : : (25,)\n",
       " - V | ta___________________________________________ : : (6348034,)\n",
       " - V | time_________________________________________ : : (6348034,)\n",
       " - V | trajectory___________________________________ : : (52346,)\n",
       " - V | trajectory_index_____________________________ : : (6348034,)\n",
       " - V | trajectory_label_____________________________ : : (52346, 11)"
      ]
     },
     "metadata": {},
     "output_type": "display_data"
    }
   ],
   "source": [
    "files = glob.glob('/users/staff/a1400070/scratch/hug/tmp/026519613035/*.nc')\n",
    "for i in files:\n",
    "    print('')\n",
    "    display(eua.CDMDataset(i))"
   ]
  },
  {
   "cell_type": "code",
   "execution_count": 8,
   "id": "be2e999e-9176-4a7a-b0e5-0f1f16548435",
   "metadata": {},
   "outputs": [
    {
     "name": "stdout",
     "output_type": "stream",
     "text": [
      "\n"
     ]
    },
    {
     "data": {
      "text/plain": [
       "File: <HDF5 file \"dest_0-20001-0-11035_air_temperature.nc\" (mode r)>\n",
       "Filesize: 65.44 MB\n",
       "Filename: /users/staff/a1400070/scratch/hug/tmp/098100750900/dest_0-20001-0-11035_air_temperature.nc\n",
       "(G)roups/(V)ariables: \n",
       "\n",
       " - V | lat__________________________________________ : : (6348034,)\n",
       " - V | lon__________________________________________ : : (6348034,)\n",
       " - V | obs__________________________________________ : : (6348034,)\n",
       " - V | plev_________________________________________ : : (6348034,)\n",
       " - V | report_id____________________________________ : : (6348034, 11)\n",
       " - V | station_id___________________________________ : : (6348034, 25)\n",
       " - V | string11_____________________________________ : : (11,)\n",
       " - V | string25_____________________________________ : : (25,)\n",
       " - V | ta___________________________________________ : : (6348034,)\n",
       " - V | time_________________________________________ : : (6348034,)\n",
       " - V | trajectory___________________________________ : : (52346,)\n",
       " - V | trajectory_index_____________________________ : : (6348034,)\n",
       " - V | trajectory_label_____________________________ : : (52346, 11)"
      ]
     },
     "metadata": {},
     "output_type": "display_data"
    }
   ],
   "source": [
    "files = glob.glob('/users/staff/a1400070/scratch/hug/tmp/098100750900/*.nc')\n",
    "for i in files:\n",
    "    print('')\n",
    "    display(eua.CDMDataset(i))"
   ]
  },
  {
   "cell_type": "code",
   "execution_count": null,
   "id": "5173b93b-9ac2-4f4d-95cb-b3097e6c88ce",
   "metadata": {},
   "outputs": [],
   "source": []
  },
  {
   "cell_type": "code",
   "execution_count": null,
   "id": "ec0a6933-5505-48d9-a40c-dba0a1de7495",
   "metadata": {},
   "outputs": [],
   "source": []
  },
  {
   "cell_type": "code",
   "execution_count": null,
   "id": "0b0562e0-1f01-4a54-9671-3812a36a93d8",
   "metadata": {},
   "outputs": [],
   "source": []
  }
 ],
 "metadata": {
  "kernelspec": {
   "display_name": "UV",
   "language": "python",
   "name": "uv"
  },
  "language_info": {
   "codemirror_mode": {
    "name": "ipython",
    "version": 3
   },
   "file_extension": ".py",
   "mimetype": "text/x-python",
   "name": "python",
   "nbconvert_exporter": "python",
   "pygments_lexer": "ipython3",
   "version": "3.9.7"
  }
 },
 "nbformat": 4,
 "nbformat_minor": 5
}
