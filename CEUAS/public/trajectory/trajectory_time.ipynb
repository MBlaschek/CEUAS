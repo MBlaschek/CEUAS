{
 "cells": [
  {
   "cell_type": "code",
   "execution_count": 1,
   "id": "e6655330-099a-4e87-a1c6-5d7d4b9793e4",
   "metadata": {},
   "outputs": [
    {
     "name": "stdout",
     "output_type": "stream",
     "text": [
      "Warning: ecCodes 2.21.0 or higher is recommended. You are running version 2.17.0\n"
     ]
    }
   ],
   "source": [
    "import numpy\n",
    "import numpy as np\n",
    "import time\n",
    "import datetime\n",
    "import netCDF4\n",
    "import matplotlib.pylab as plt\n",
    "import os,sys,glob\n",
    "# sys.path.append(os.getcwd()+'/../adjust/rasotools/')\n",
    "# from utils import *\n",
    "from multiprocessing import Pool\n",
    "#import odb\n",
    "from eccodes import *\n",
    "from functools import partial\n",
    "from collections import OrderedDict\n",
    "import subprocess\n",
    "import json\n",
    "import gzip\n",
    "import copy\n",
    "import pickle\n",
    "import xarray as xr\n",
    "\n",
    "import pandas as pd\n",
    "import matplotlib\n",
    "import matplotlib.pylab as plt\n",
    "import matplotlib.pyplot as maplt\n",
    "matplotlib.rcParams.update({'font.size': 20})\n",
    "\n",
    "plt.rcParams['lines.linewidth'] = 3\n",
    "\n",
    "import warnings\n",
    "warnings.filterwarnings('ignore')\n",
    "\n",
    "sys.path.append(os.getcwd()+'/../cds-backend/code/')\n",
    "import cds_eua3 as eua\n",
    "sys.path.append(os.getcwd()+'/../')\n",
    "import metutils as mu\n",
    "import trajectory as trj\n",
    " "
   ]
  },
  {
   "cell_type": "code",
   "execution_count": 2,
   "id": "7d9b3b58-296a-4a0e-aa71-caafbf9cd92b",
   "metadata": {},
   "outputs": [],
   "source": [
    "def find_nearest(array, value):\n",
    "    array = np.asarray(array)\n",
    "    idx = (np.abs(array - value)).argmin()\n",
    "    return array[idx]"
   ]
  },
  {
   "cell_type": "code",
   "execution_count": null,
   "id": "fabd89b1-5bb3-417d-bd96-93abf5f9040d",
   "metadata": {},
   "outputs": [],
   "source": []
  },
  {
   "cell_type": "code",
   "execution_count": null,
   "id": "24a00116-2b20-4a5c-9813-91f2ad282c24",
   "metadata": {},
   "outputs": [],
   "source": []
  },
  {
   "cell_type": "code",
   "execution_count": null,
   "id": "767cb8b7-2fe7-41f2-bc4c-f6ee4bb515dc",
   "metadata": {},
   "outputs": [],
   "source": []
  },
  {
   "cell_type": "code",
   "execution_count": 3,
   "id": "06fed3a7-3bff-487c-875a-d4f4cebebbdf",
   "metadata": {},
   "outputs": [],
   "source": [
    "import trajectory as trj"
   ]
  },
  {
   "cell_type": "code",
   "execution_count": 4,
   "id": "1e98e437-2542-41cd-aa0f-6b235e7098a9",
   "metadata": {},
   "outputs": [],
   "source": [
    "stat = '11035'\n",
    "statlist = glob.glob('/mnt/users/scratch/leo/scratch/converted_v8/*' + stat + '*_CEUAS_merged_v1.nc')\n",
    "file = eua.CDMDataset(filename = statlist[0])\n",
    "\n",
    "igra_file = glob.glob('/scratch/das/federico/COP2_HARVEST_APRIL2022/igra2/*'+stat+'*')[0]\n",
    "i_file = eua.CDMDataset(filename = igra_file)\n"
   ]
  },
  {
   "cell_type": "code",
   "execution_count": 36,
   "id": "351bd0e0-a15e-4098-b412-6e1965212702",
   "metadata": {
    "tags": []
   },
   "outputs": [],
   "source": [
    "statlen = len(file.observations_table.observed_variable[:])\n",
    "latd = np.full(statlen, np.nan)\n",
    "lond = np.full(statlen, np.nan)\n",
    "timed = np.full(statlen, np.nan)\n",
    "\n",
    "failcount = 0\n",
    "slat = file.observations_table.latitude[0]\n",
    "slon = file.observations_table.longitude[0]\n",
    "for i in range(len(file.header_table.report_id[:])-1):\n",
    "    \n",
    "    t_idx_s = file.recordindices['126'][i]\n",
    "    t_idx_e = file.recordindices['126'][i+1]\n",
    "    u_idx_s = file.recordindices['139'][i]\n",
    "    u_idx_e = file.recordindices['139'][i+1]\n",
    "    v_idx_s = file.recordindices['140'][i]\n",
    "    v_idx_e = file.recordindices['140'][i+1]\n",
    "\n",
    "    # -----------\n",
    "    \n",
    "    if (u_idx_s == u_idx_e) or (u_idx_s == u_idx_e) or (t_idx_s == t_idx_e):\n",
    "        # replace with nan filling\n",
    "        continue\n",
    "\n",
    "    # -----------\n",
    "        \n",
    "    repid = file.header_table.report_id[i]\n",
    "    u = file.observations_table.observation_value[u_idx_s:u_idx_e]\n",
    "    v = file.observations_table.observation_value[v_idx_s:v_idx_e]\n",
    "    t = file.observations_table.observation_value[t_idx_s:t_idx_e]\n",
    "    z_coordinate_t = file.observations_table.z_coordinate[t_idx_s:t_idx_e]\n",
    "    z_coordinate_u = file.observations_table.z_coordinate[u_idx_s:u_idx_e]\n",
    "    z_coordinate_v = file.observations_table.z_coordinate[v_idx_s:v_idx_e]\n",
    "    \n",
    "    \n",
    "    # find shortest array\n",
    "    z_coords = [z_coordinate_t, z_coordinate_u, z_coordinate_v]\n",
    "    shortest_zc = 0\n",
    "    \n",
    "    for k in range(len(z_coords)-1):\n",
    "        if len(z_coords[k+1]) < len(z_coords[shortest_zc]):\n",
    "            shortest_zc = k+1\n",
    "    \n",
    "#     print(shortest_zc, len(z_coords[shortest_zc]))\n",
    "    # if shortest array < 7 -> skip\n",
    "    if len(z_coords[shortest_zc]) < 7:\n",
    "        # replace with nan filling\n",
    "        continue\n",
    "        \n",
    "    # -----------\n",
    "        \n",
    "    # check if it's neccessary to interpolate\n",
    "    check = (np.array(z_coordinate_t) != np.array(z_coordinate_u))\n",
    "    if not (isinstance(check, bool)):\n",
    "        check = check.all()\n",
    "    if check:\n",
    "        u_new = []\n",
    "        v_new = []\n",
    "        \n",
    "        for k in range(len(z_coordinate_t)):\n",
    "            if z_coordinate_u[0] < z_coordinate_t[k] < z_coordinate_u[-1]:\n",
    "                u_new.append(np.interp(z_coordinate_t[k], z_coordinate_u, u))\n",
    "                v_new.append(np.interp(z_coordinate_t[k], z_coordinate_v, v))\n",
    "            else:\n",
    "                u_new.append(np.nan)\n",
    "                v_new.append(np.nan)\n",
    "            \n",
    "#         print(z_coordinate_u)\n",
    "#         print(u)\n",
    "#         print(v)\n",
    "        u = np.array(u_new)\n",
    "        v = np.array(v_new)\n",
    "#         print()\n",
    "#         print(z_coordinate_t)\n",
    "#         print(u)\n",
    "#         print(v)\n",
    "#         print()\n",
    "#         print()\n",
    "    \n",
    "    # -----------\n",
    "    \n",
    "    input_df = pd.DataFrame({'t':t, 'u':u, 'v':v, 'p':z_coordinate_t, 'idx':np.array(range(t_idx_s, t_idx_e))})\n",
    "    # flip for ascending order\n",
    "    input_df = input_df.dropna().iloc[::-1].reset_index()\n",
    "#     display(input_df)\n",
    "    \n",
    "            \n",
    "#     print(repid)\n",
    "\n",
    "#     print(pd.to_datetime(file.observations_table.date_time[t_idx_s], unit='s', origin='1900-01-01') )\n",
    "#     print(pd.to_datetime(file.observations_table.date_time[t_idx_e], unit='s', origin='1900-01-01') )\n",
    "#     print(pd.to_datetime(file.observations_table.date_time[t_idx_s+1], unit='s', origin='1900-01-01') )\n",
    "#     print(pd.to_datetime(file.observations_table.date_time[t_idx_e-1], unit='s', origin='1900-01-01') )\n",
    "    \n",
    "    date_time = file.observations_table.date_time[t_idx_s]\n",
    "    dt_date = pd.to_datetime(date_time, unit='s', origin='1900-01-01')\n",
    "#     print(dt_date)\n",
    "    \n",
    "    #check if < 2013:\n",
    "    if dt_date.year < 2013:\n",
    "        #if not already igra data -> select igra datetime\n",
    "        if int(repid[0]) != 3:\n",
    "            dups = file.header_table.duplicates[i]\n",
    "            dups = dups[dups != b'']\n",
    "            dups = dups[dups != b',']\n",
    "            #iterate through all duplicates\n",
    "            for j in range(0,int((len(dups)/11))):\n",
    "                #if there is an igra duplicate:\n",
    "                if int((dups[(j*11):((j+1)*11)])[0]) == 3:\n",
    "                    save_id = 0\n",
    "                    deci = 1\n",
    "                    a = ((dups[(j*11):((j+1)*11)]))[1:]\n",
    "                    for o in np.flip(a):\n",
    "                        save_id += int(o)* deci\n",
    "                        deci = deci*10\n",
    "                    date_time = i_file.recordtimestamp[save_id]  \n",
    "#                     dt_date = pd.to_datetime(date_time, unit='s', origin='1900-01-01')\n",
    "                    \n",
    "#                     print(i)\n",
    "#                     print((dups[(j*11):((j+1)*11)]))\n",
    "#                     print(save_id)\n",
    "#                     print('igra_time', pd.to_datetime(i_file.recordtimestamp[save_id], unit='s', origin='1900-01-01'))\n",
    "#                     print('cuon time', dt_date)\n",
    "#                     print()\n",
    "\n",
    "    \n",
    "#     print('t: ', len(t), 'u: ', len(u), 'v: ', len(v), )\n",
    "    \n",
    "    phys_model = trj.trajectory(lat=slat, lon=slon, temperature=np.array(input_df.t), u=np.array(input_df.u), v=np.array(input_df.v), pressure=np.array(input_df.p))\n",
    "#     input_df['latitude_displacement'] = phys_model[0]\n",
    "#     input_df['longitude_displacement'] = phys_model[1]\n",
    "#     input_df['displaced_time'] = np.array(phys_model[4]) + date_time\n",
    "#     input_df['displaced_time_dt'] = pd.to_datetime(input_df['displaced_time'], unit='s', origin='1900-01-01')\n",
    "#     display(input_df)\n",
    "    latd[input_df.idx] = np.array(phys_model[0])\n",
    "    lond[input_df.idx] = np.array(phys_model[1])\n",
    "    timed[input_df.idx] = np.array(phys_model[4])\n",
    "\n",
    "\n"
   ]
  },
  {
   "cell_type": "code",
   "execution_count": 38,
   "id": "51a138ca-e981-4295-a94e-84c03584fa07",
   "metadata": {},
   "outputs": [
    {
     "data": {
      "text/plain": [
       "array([-0.53883259, -0.49799017, -0.48860193, ...,  0.51174167,\n",
       "        0.55310218,         nan])"
      ]
     },
     "execution_count": 38,
     "metadata": {},
     "output_type": "execute_result"
    }
   ],
   "source": [
    "np.unique(latd)"
   ]
  },
  {
   "cell_type": "code",
   "execution_count": 12,
   "id": "29557d33-69d2-49f1-a16e-d896dc72b1d3",
   "metadata": {},
   "outputs": [],
   "source": [
    "a = np.array([1,2,3,5,5,6,4,4])\n",
    "b = np.array([0,4,2])\n",
    "c = [11,11,11]"
   ]
  },
  {
   "cell_type": "code",
   "execution_count": 13,
   "id": "981fdd5e-ef75-456b-8fad-12dd5cac5a32",
   "metadata": {},
   "outputs": [],
   "source": [
    "a[b]=c"
   ]
  },
  {
   "cell_type": "code",
   "execution_count": 14,
   "id": "c0b342a6-4488-4c17-9d00-8004cc057e05",
   "metadata": {},
   "outputs": [
    {
     "data": {
      "text/plain": [
       "array([11,  2, 11,  5, 11,  6,  4,  4])"
      ]
     },
     "execution_count": 14,
     "metadata": {},
     "output_type": "execute_result"
    }
   ],
   "source": [
    "a"
   ]
  },
  {
   "cell_type": "code",
   "execution_count": 32,
   "id": "23e32e22-76a8-48bd-a539-0bdbdfe53957",
   "metadata": {},
   "outputs": [
    {
     "data": {
      "text/plain": [
       "False"
      ]
     },
     "execution_count": 32,
     "metadata": {},
     "output_type": "execute_result"
    }
   ],
   "source": [
    "an_array = np.array([[1,2],[3,4]])\n",
    "\n",
    "another_array = np.array([[1,2],[3,4], [5,6]])\n",
    "\n",
    "\n",
    "an_array == another_array"
   ]
  },
  {
   "cell_type": "code",
   "execution_count": null,
   "id": "ce6354f6-32a1-4950-9f88-7afbf5373e05",
   "metadata": {},
   "outputs": [],
   "source": []
  },
  {
   "cell_type": "code",
   "execution_count": null,
   "id": "e51d3726-d60a-45b9-b2d9-6d55cbf3ad1a",
   "metadata": {},
   "outputs": [],
   "source": []
  }
 ],
 "metadata": {
  "kernelspec": {
   "display_name": "UV",
   "language": "python",
   "name": "uv"
  },
  "language_info": {
   "codemirror_mode": {
    "name": "ipython",
    "version": 3
   },
   "file_extension": ".py",
   "mimetype": "text/x-python",
   "name": "python",
   "nbconvert_exporter": "python",
   "pygments_lexer": "ipython3",
   "version": "3.9.7"
  }
 },
 "nbformat": 4,
 "nbformat_minor": 5
}
