{
 "cells": [
  {
   "cell_type": "code",
   "execution_count": null,
   "id": "ad9f8078-1c2c-4f52-8914-b60b68f93b89",
   "metadata": {},
   "outputs": [],
   "source": [
    "import numpy as np\n",
    "import matplotlib\n",
    "import matplotlib.pylab as plt\n",
    "import matplotlib.pyplot as maplt\n",
    "matplotlib.rcParams.update({'font.size': 20})"
   ]
  },
  {
   "cell_type": "code",
   "execution_count": null,
   "id": "24c65d68-a11e-407b-a280-9a5af7bac2b1",
   "metadata": {},
   "outputs": [],
   "source": [
    "stdplevs = [100000,92500,85000,70000,50000,40000,30000,25000,20000,15000,10000,7000,5000,3000,2000,1000]\n",
    "# https://en.wikipedia.org/wiki/Root-mean-square_deviation\n",
    "# choose your pair of variables, which should be compared -> like temperature, humidity, wind, displacement,...\n",
    "# create dict with stdplevs as keys and lists as elements\n",
    "# append the difference of both values on said pressure level to the corresponding list\n",
    "# convert those lists to np.array() and **2 them\n",
    "# calculate the np.nanmean() of the lists and finally call np.sqrt on the result\n",
    "# save output in a list or array matching the stdplevs list to plot it\n",
    "\n",
    "# to compare, it's also possible to do the same with the RMS of the base variabele, the other is compared to\n",
    "# this gives a nice perspective on the size of the RMSE"
   ]
  },
  {
   "cell_type": "code",
   "execution_count": null,
   "id": "bb50592e-f571-455e-9f11-d87e1ca9e81a",
   "metadata": {},
   "outputs": [],
   "source": [
    "fig, ax1 = maplt.subplots(1, 2, figsize = (15,10))\n",
    "ax1[0].plot(np.array(rmse_lat),stdplevs,color = 'blue',alpha = 0.3, label='lat RMSE disp')\n",
    "ax1[0].plot(np.array(rms_lat),stdplevs,color = 'blue', linestyle = 'dotted', label='lat RMS disp')\n",
    "ax1[0].set_ylabel('pressure (Pa)')\n",
    "# to flip the plot for lowest pressure on top\n",
    "ax1[0].set_ylim(ax1[0].get_ylim()[::-1])\n",
    "ax1[0].set_xlabel('RMSE/RMS of displacement')\n",
    "ax1[0].legend()\n",
    "ax1[0].grid()\n",
    "maplt.title('LEVEL RMSE/RMS for Displacement')\n",
    "ax1[1].plot(np.array(rmse_lon),stdplevs,color = 'red',alpha = 0.3, label='lon RMSE disp')\n",
    "ax1[1].plot(np.array(rms_lon),stdplevs,color = 'red', linestyle = 'dotted', label='lon RMS disp')\n",
    "ax1[1].set_ylabel('pressure (Pa)')\n",
    "# to flip the plot for lowest pressure on top\n",
    "ax1[1].set_ylim(ax1[1].get_ylim()[::-1])\n",
    "ax1[1].set_xlabel('RMSE/RMS of displacement')\n",
    "ax1[1].legend()\n",
    "ax1[1].grid()\n",
    "maplt.show()\n",
    "maplt.close()"
   ]
  },
  {
   "cell_type": "code",
   "execution_count": null,
   "id": "79690bdb-dd0e-4f29-86d6-0ff1ee7fdc6e",
   "metadata": {},
   "outputs": [],
   "source": []
  }
 ],
 "metadata": {
  "kernelspec": {
   "display_name": "UV",
   "language": "python",
   "name": "uv"
  },
  "language_info": {
   "codemirror_mode": {
    "name": "ipython",
    "version": 3
   },
   "file_extension": ".py",
   "mimetype": "text/x-python",
   "name": "python",
   "nbconvert_exporter": "python",
   "pygments_lexer": "ipython3",
   "version": "3.9.7"
  }
 },
 "nbformat": 4,
 "nbformat_minor": 5
}
