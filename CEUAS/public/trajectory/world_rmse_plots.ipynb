{
 "cells": [
  {
   "cell_type": "markdown",
   "id": "4b8da686-6e33-4f94-9269-d843800f2235",
   "metadata": {},
   "source": [
    "# TEMPERATURE - ERA5 FORECAST "
   ]
  },
  {
   "cell_type": "markdown",
   "id": "dd15dc28-4967-47b5-ac49-e010e951acbf",
   "metadata": {},
   "source": [
    "![title](./rmse_fc/1960_era5_fc_outlier_cleaned_world_rmse_plot.png)\n",
    "![title](./rmse_fc/1970_era5_fc_outlier_cleaned_world_rmse_plot.png)\n",
    "![title](./rmse_fc/1980_era5_fc_outlier_cleaned_world_rmse_plot.png)\n",
    "![title](./rmse_fc/1990_era5_fc_outlier_cleaned_world_rmse_plot.png)\n",
    "![title](./rmse_fc/2000_era5_fc_outlier_cleaned_world_rmse_plot.png)\n",
    "![title](./rmse_fc/2010_era5_fc_outlier_cleaned_world_rmse_plot.png)\n",
    "![title](./rmse_fc/2020_era5_fc_outlier_cleaned_world_rmse_plot.png)"
   ]
  },
  {
   "cell_type": "markdown",
   "id": "86db7b83-1c32-4497-9d5f-077e3d343316",
   "metadata": {},
   "source": [
    "# HUMIDITY - ERA5 FORECAST "
   ]
  },
  {
   "cell_type": "markdown",
   "id": "9e9b92a6-b64a-4221-94f6-7ef33c62c87c",
   "metadata": {},
   "source": [
    "![title](./rmse_fc/1960_era5_fc_outlier_cleaned_world_rmse_plot_humidity.png)\n",
    "![title](./rmse_fc/1970_era5_fc_outlier_cleaned_world_rmse_plot_humidity.png)\n",
    "![title](./rmse_fc/1980_era5_fc_outlier_cleaned_world_rmse_plot_humidity.png)\n",
    "![title](./rmse_fc/1990_era5_fc_outlier_cleaned_world_rmse_plot_humidity.png)\n",
    "![title](./rmse_fc/2000_era5_fc_outlier_cleaned_world_rmse_plot_humidity.png)"
   ]
  },
  {
   "cell_type": "code",
   "execution_count": null,
   "id": "af35de2c-3daf-473b-8b43-578029f87338",
   "metadata": {},
   "outputs": [],
   "source": []
  },
  {
   "cell_type": "code",
   "execution_count": null,
   "id": "8c1b6cd3-b204-4ce6-bc36-c09bf5f0f5c7",
   "metadata": {},
   "outputs": [],
   "source": []
  },
  {
   "cell_type": "code",
   "execution_count": null,
   "id": "e526f836-2fa4-4b6f-8a4a-e052ffa5d063",
   "metadata": {},
   "outputs": [],
   "source": []
  }
 ],
 "metadata": {
  "kernelspec": {
   "display_name": "uv10",
   "language": "python",
   "name": "uv10"
  },
  "language_info": {
   "codemirror_mode": {
    "name": "ipython",
    "version": 3
   },
   "file_extension": ".py",
   "mimetype": "text/x-python",
   "name": "python",
   "nbconvert_exporter": "python",
   "pygments_lexer": "ipython3",
   "version": "3.10.6"
  }
 },
 "nbformat": 4,
 "nbformat_minor": 5
}
