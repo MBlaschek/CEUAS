{
 "cells": [
  {
   "cell_type": "markdown",
   "id": "4b8da686-6e33-4f94-9269-d843800f2235",
   "metadata": {},
   "source": [
    "# TEMPERATURE - ERA5 FORECAST "
   ]
  },
  {
   "cell_type": "markdown",
   "id": "dd15dc28-4967-47b5-ac49-e010e951acbf",
   "metadata": {},
   "source": [
    "![title](./rmse_fc_outlier_cleaned/1960_era5_fc_outlier_cleaned_world_rmse_plot.png)\n",
    "![title](./rmse_fc_outlier_cleaned/1970_era5_fc_outlier_cleaned_world_rmse_plot.png)\n",
    "![title](./rmse_fc_outlier_cleaned/1980_era5_fc_outlier_cleaned_world_rmse_plot.png)\n",
    "![title](./rmse_fc_outlier_cleaned/1990_era5_fc_outlier_cleaned_world_rmse_plot.png)\n",
    "![title](./rmse_fc_outlier_cleaned/2000_era5_fc_outlier_cleaned_world_rmse_plot.png)\n",
    "![title](./rmse_fc_outlier_cleaned/2010_era5_fc_outlier_cleaned_world_rmse_plot.png)\n",
    "![title](./rmse_fc_outlier_cleaned/2020_era5_fc_outlier_cleaned_world_rmse_plot.png)"
   ]
  },
  {
   "cell_type": "markdown",
   "id": "86db7b83-1c32-4497-9d5f-077e3d343316",
   "metadata": {},
   "source": [
    "# HUMIDITY - ERA5 FORECAST "
   ]
  },
  {
   "cell_type": "markdown",
   "id": "9e9b92a6-b64a-4221-94f6-7ef33c62c87c",
   "metadata": {},
   "source": [
    "![title](./rmse_fc_outlier_cleaned/1960_era5_fc_outlier_cleaned_world_rmse_plot_humidity.png)\n",
    "![title](./rmse_fc_outlier_cleaned/1970_era5_fc_outlier_cleaned_world_rmse_plot_humidity.png)\n",
    "![title](./rmse_fc_outlier_cleaned/1980_era5_fc_outlier_cleaned_world_rmse_plot_humidity.png)\n",
    "![title](./rmse_fc_outlier_cleaned/1990_era5_fc_outlier_cleaned_world_rmse_plot_humidity.png)\n",
    "![title](./rmse_fc_outlier_cleaned/2000_era5_fc_outlier_cleaned_world_rmse_plot_humidity.png)\n",
    "![title](./rmse_fc_outlier_cleaned/2010_era5_fc_outlier_cleaned_world_rmse_plot_humidity.png)\n",
    "![title](./rmse_fc_outlier_cleaned/2020_era5_fc_outlier_cleaned_world_rmse_plot_humidity.png)"
   ]
  },
  {
   "cell_type": "markdown",
   "id": "5dd934b2-21dd-41df-bd28-e39e8f6b2175",
   "metadata": {},
   "source": [
    "# EASTWARD WINDSPEED - ERA5 FORECAST "
   ]
  },
  {
   "cell_type": "markdown",
   "id": "769483fe-fa3c-4f07-927a-bc2410206d07",
   "metadata": {},
   "source": [
    "![title](./rmse_fc_outlier_cleaned/1960_era5_fc_outlier_cleaned_world_rmse_plot_u.png)\n",
    "![title](./rmse_fc_outlier_cleaned/1970_era5_fc_outlier_cleaned_world_rmse_plot_u.png)\n",
    "![title](./rmse_fc_outlier_cleaned/1980_era5_fc_outlier_cleaned_world_rmse_plot_u.png)\n",
    "![title](./rmse_fc_outlier_cleaned/1990_era5_fc_outlier_cleaned_world_rmse_plot_u.png)\n",
    "![title](./rmse_fc_outlier_cleaned/2000_era5_fc_outlier_cleaned_world_rmse_plot_u.png)\n",
    "![title](./rmse_fc_outlier_cleaned/2010_era5_fc_outlier_cleaned_world_rmse_plot_u.png)\n",
    "![title](./rmse_fc_outlier_cleaned/2020_era5_fc_outlier_cleaned_world_rmse_plot_u.png)"
   ]
  },
  {
   "cell_type": "markdown",
   "id": "4a9eeaea-f59e-47db-8e32-6e87bb54e810",
   "metadata": {},
   "source": [
    "# NORTHWARD WINDSPEED - ERA5 FORECAST "
   ]
  },
  {
   "cell_type": "markdown",
   "id": "6b529e79-9466-4865-897f-e2d5345fa7cd",
   "metadata": {},
   "source": [
    "![title](./rmse_fc_outlier_cleaned/1960_era5_fc_outlier_cleaned_world_rmse_plot_v.png)\n",
    "![title](./rmse_fc_outlier_cleaned/1970_era5_fc_outlier_cleaned_world_rmse_plot_v.png)\n",
    "![title](./rmse_fc_outlier_cleaned/1980_era5_fc_outlier_cleaned_world_rmse_plot_v.png)\n",
    "![title](./rmse_fc_outlier_cleaned/1990_era5_fc_outlier_cleaned_world_rmse_plot_v.png)\n",
    "![title](./rmse_fc_outlier_cleaned/2000_era5_fc_outlier_cleaned_world_rmse_plot_v.png)\n",
    "![title](./rmse_fc_outlier_cleaned/2010_era5_fc_outlier_cleaned_world_rmse_plot_v.png)\n",
    "![title](./rmse_fc_outlier_cleaned/2020_era5_fc_outlier_cleaned_world_rmse_plot_v.png)\n"
   ]
  },
  {
   "cell_type": "code",
   "execution_count": null,
   "id": "183213b8-3b08-4e4a-984d-eee5a43ede2a",
   "metadata": {},
   "outputs": [],
   "source": []
  }
 ],
 "metadata": {
  "kernelspec": {
   "display_name": "uv10",
   "language": "python",
   "name": "uv10"
  },
  "language_info": {
   "codemirror_mode": {
    "name": "ipython",
    "version": 3
   },
   "file_extension": ".py",
   "mimetype": "text/x-python",
   "name": "python",
   "nbconvert_exporter": "python",
   "pygments_lexer": "ipython3",
   "version": "3.10.6"
  }
 },
 "nbformat": 4,
 "nbformat_minor": 5
}
